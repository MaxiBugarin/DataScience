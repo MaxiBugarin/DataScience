{
  "nbformat": 4,
  "nbformat_minor": 0,
  "metadata": {
    "colab": {
      "name": "Visualizacion.ipynb",
      "provenance": [],
      "collapsed_sections": [],
      "authorship_tag": "ABX9TyMkGY6yXr5jFPkOWmmPHukq",
      "include_colab_link": true
    },
    "kernelspec": {
      "name": "python3",
      "display_name": "Python 3"
    }
  },
  "cells": [
    {
      "cell_type": "markdown",
      "metadata": {
        "id": "view-in-github",
        "colab_type": "text"
      },
      "source": [
        "<a href=\"https://colab.research.google.com/github/al34n1x/DataScience/blob/master/7.Visualizacion/Visualizacion.ipynb\" target=\"_parent\"><img src=\"https://colab.research.google.com/assets/colab-badge.svg\" alt=\"Open In Colab\"/></a>"
      ]
    },
    {
      "cell_type": "markdown",
      "metadata": {
        "id": "VaCSC52-cLL_",
        "colab_type": "toc"
      },
      "source": [
        ">[Visualización](#updateTitle=true&folderId=1hYY6URNFLa2w5I3uQbpDlwOox_am-5cM&scrollTo=WgCR77H_ny7C)\n",
        "\n",
        ">>[Matplotlib](#updateTitle=true&folderId=1hYY6URNFLa2w5I3uQbpDlwOox_am-5cM&scrollTo=sZin9SejoQcc)\n",
        "\n",
        ">>>[Ajuste del espacio entre los subplots](#updateTitle=true&folderId=1hYY6URNFLa2w5I3uQbpDlwOox_am-5cM&scrollTo=Iz7ET1qPrVdb)\n",
        "\n",
        ">>>[Colores, marcadores y estilos de línea](#updateTitle=true&folderId=1hYY6URNFLa2w5I3uQbpDlwOox_am-5cM&scrollTo=YJ-Ix09Fsici)\n",
        "\n",
        ">>>[Ticks, Labels, y Legends](#updateTitle=true&folderId=1hYY6URNFLa2w5I3uQbpDlwOox_am-5cM&scrollTo=mck8dcxFucf1)\n",
        "\n",
        ">>>[Leyendas](#updateTitle=true&folderId=1hYY6URNFLa2w5I3uQbpDlwOox_am-5cM&scrollTo=OyrR8S1Awf6r)\n",
        "\n",
        ">>>[Anotaciones en un subplot](#updateTitle=true&folderId=1hYY6URNFLa2w5I3uQbpDlwOox_am-5cM&scrollTo=bQ6YL2ZLw5JM)\n",
        "\n",
        ">>>[Formas y figuras](#updateTitle=true&folderId=1hYY6URNFLa2w5I3uQbpDlwOox_am-5cM&scrollTo=GT-kmDZhQguR)\n",
        "\n",
        ">>>[Guardando Plots](#updateTitle=true&folderId=1hYY6URNFLa2w5I3uQbpDlwOox_am-5cM&scrollTo=XD-7CLcvRklf)\n",
        "\n",
        ">>[Plotting con Pandas y Seaborn](#updateTitle=true&folderId=1hYY6URNFLa2w5I3uQbpDlwOox_am-5cM&scrollTo=Ogh7tbLBSATi)\n",
        "\n",
        ">>>[Bar plots](#updateTitle=true&folderId=1hYY6URNFLa2w5I3uQbpDlwOox_am-5cM&scrollTo=gmLHInjvTg9D)\n",
        "\n",
        ">>>[Seaborn](#updateTitle=true&folderId=1hYY6URNFLa2w5I3uQbpDlwOox_am-5cM&scrollTo=RyVQhEN2UZm_)\n",
        "\n",
        ">>>[Histogramas](#updateTitle=true&folderId=1hYY6URNFLa2w5I3uQbpDlwOox_am-5cM&scrollTo=fCpMJkP0VvJh)\n",
        "\n",
        ">>>[Scatter plots](#updateTitle=true&folderId=1hYY6URNFLa2w5I3uQbpDlwOox_am-5cM&scrollTo=e6K9qXtLWdHm)\n",
        "\n",
        ">>[Plotly](#updateTitle=true&folderId=1hYY6URNFLa2w5I3uQbpDlwOox_am-5cM&scrollTo=6VsDV4dpZTkp)\n",
        "\n"
      ]
    },
    {
      "cell_type": "markdown",
      "metadata": {
        "id": "WgCR77H_ny7C",
        "colab_type": "text"
      },
      "source": [
        "# Visualización\n",
        "\n",
        "Hacer visualizaciones informativas (plots) es una de las tareas más importantes en el análisis de datos. Puede ser parte del proceso exploratorio, por ejemplo, para ayudar a identificar valores atípicos o transformaciones de datos necesarias, o como una forma de generar ideas para modelos. Para otros, construir una visualización interactiva para la web puede ser el objetivo final. Python tiene muchas bibliotecas adicionales para hacer visualizaciones estáticas o dinámicas.\n",
        "\n",
        "<img src=\"https://i.huffpost.com/gen/1887945/thumbs/o-RABBIT-900.jpg?6\" width = 300 >\n"
      ]
    },
    {
      "cell_type": "markdown",
      "metadata": {
        "id": "sZin9SejoQcc",
        "colab_type": "text"
      },
      "source": [
        "## Matplotlib\n",
        "\n",
        "Matplotlib es un paquete de gráficos de escritorio diseñado para crear gráficos con calidad de publicación. \n",
        "Matplotlib admite varios backends de GUI en todos los sistemas operativos y, además, puede exportar visualizaciones a todos los formatos de gráficos vectoriales y raster (PDF, SVG, JPG, PNG, BMP, GIF, etc.)"
      ]
    },
    {
      "cell_type": "code",
      "metadata": {
        "id": "FD4RkCT8ntiq",
        "colab_type": "code",
        "colab": {}
      },
      "source": [
        "import matplotlib.pyplot as plt\n",
        "import numpy as np\n",
        "data = np.arange(10)\n",
        "data"
      ],
      "execution_count": 0,
      "outputs": []
    },
    {
      "cell_type": "code",
      "metadata": {
        "id": "_bVfAHO9nyNV",
        "colab_type": "code",
        "colab": {}
      },
      "source": [
        "plt.plot(data)"
      ],
      "execution_count": 0,
      "outputs": []
    },
    {
      "cell_type": "markdown",
      "metadata": {
        "id": "2urR-l14o5uX",
        "colab_type": "text"
      },
      "source": [
        "Plots en matplotlib residen dentro de un objeto **Figure**. Puede crear una nueva figura con **plt.figure**"
      ]
    },
    {
      "cell_type": "code",
      "metadata": {
        "id": "LfFQS5iDpF5g",
        "colab_type": "code",
        "colab": {}
      },
      "source": [
        "fig = plt.figure() # Creamos el objeto"
      ],
      "execution_count": 0,
      "outputs": []
    },
    {
      "cell_type": "code",
      "metadata": {
        "id": "upTm5bAxpakC",
        "colab_type": "code",
        "colab": {}
      },
      "source": [
        "ax1 = fig.add_subplot(2, 2, 1)"
      ],
      "execution_count": 0,
      "outputs": []
    },
    {
      "cell_type": "markdown",
      "metadata": {
        "id": "14D7Nt3kpttQ",
        "colab_type": "text"
      },
      "source": [
        "Esto significa que la cifra debe ser 2 × 2 (hasta cuatro plots en total), y estamos seleccionando la primera de cuatro sub-plots (numeradas del 1)."
      ]
    },
    {
      "cell_type": "code",
      "metadata": {
        "id": "i3iYLL4YpxuY",
        "colab_type": "code",
        "colab": {}
      },
      "source": [
        "fig = plt.figure()\n",
        "ax1 = fig.add_subplot(2, 2, 1)\n",
        "ax2 = fig.add_subplot(2, 2, 2)\n",
        "ax3 = fig.add_subplot(2, 2, 3)\n",
        "plt.plot(np.random.randn(50).cumsum(), 'k--')\n",
        "'''\n",
        "The 'k--' is a style \n",
        "option instructing matplotlib to plot a black dashed line.\n",
        "'''\n"
      ],
      "execution_count": 0,
      "outputs": []
    },
    {
      "cell_type": "markdown",
      "metadata": {
        "id": "IVCV0WNYqoKS",
        "colab_type": "text"
      },
      "source": [
        "Cuando emites un comando de plot como plt.plot, **matplotlib** dibuja en la última figura y sub-plot utilizado, ocultando así la creación de la figura y subplot"
      ]
    },
    {
      "cell_type": "code",
      "metadata": {
        "id": "_FyCtprrrQ3G",
        "colab_type": "code",
        "colab": {}
      },
      "source": [
        "fig = plt.figure()\n",
        "ax1 = fig.add_subplot(2, 2, 1)\n",
        "ax2 = fig.add_subplot(2, 2, 2)\n",
        "ax3 = fig.add_subplot(2, 2, 3)\n",
        "plt.plot(np.random.randn(50).cumsum(), 'k--')\n",
        "_ = ax1.hist(np.random.randn(100), bins=20, color='k', alpha=0.3)\n",
        "ax2.scatter(np.arange(30), np.arange(30) + 3 * np.random.randn(30))\n",
        "\n",
        "'''\n",
        "The 'k--' is a style \n",
        "option instructing matplotlib to plot a black dashed line.\n",
        "'''\n"
      ],
      "execution_count": 0,
      "outputs": []
    },
    {
      "cell_type": "markdown",
      "metadata": {
        "id": "Iz7ET1qPrVdb",
        "colab_type": "text"
      },
      "source": [
        "### Ajuste del espacio entre los subplots\n",
        "\n",
        "De forma predeterminada, matplotlib deja una cierta cantidad de relleno alrededor del exterior de las subtramas y el espacio entre los subplots. Todo este espacio se especifica en relación con la altura y el ancho del gráfico, de modo que si cambia el tamaño del gráfico mediante programación o manualmente utilizando, el gráfico se ajustará dinámicamente. Puede cambiar el espaciado utilizando el método **subplots_adjust** en los objetos de Figura, también disponible como una función de nivel superior\n",
        "\n",
        "\n",
        "\n",
        "```\n",
        "subplots_adjust(left=None, bottom=None, right=None, top=None,\n",
        "                wspace=None, hspace=None)\n",
        "```\n",
        "\n"
      ]
    },
    {
      "cell_type": "markdown",
      "metadata": {
        "id": "kEoCyh1Dr5_g",
        "colab_type": "text"
      },
      "source": [
        "**wspace** y **hspace** controlan el porcentaje del ancho y el alto de la figura, respectivamente, para usar como espaciado entre sub-plots."
      ]
    },
    {
      "cell_type": "code",
      "metadata": {
        "id": "aCCB9tAir654",
        "colab_type": "code",
        "colab": {}
      },
      "source": [
        "fig, axes = plt.subplots(2, 2, sharex=True, sharey=True)\n",
        "for i in range(2):\n",
        "    for j in range(2):\n",
        "        axes[i, j].hist(np.random.randn(500), bins=50, color='k', alpha=0.5)\n",
        "plt.subplots_adjust(wspace=0, hspace=0)"
      ],
      "execution_count": 0,
      "outputs": []
    },
    {
      "cell_type": "markdown",
      "metadata": {
        "id": "YJ-Ix09Fsici",
        "colab_type": "text"
      },
      "source": [
        "### Colores, marcadores y estilos de línea\n",
        "\n",
        "La función de plot principal de Matplotlib acepta matrices de coordenadas 'x' e 'y', y opcionalmente una abreviatura de cadena que indica color y estilo de línea. \n",
        "\n",
        "```\n",
        "ax.plot(x, y, 'g--')\n",
        "```\n",
        "Esta forma de especificar tanto el color como el estilo de línea en una cadena se proporciona como una conveniencia; en la práctica, si estas creando plots mediante programación, es posible que prefieras no tener que juntar cadenas para crear tramas con el estilo deseado. El mismo plot también podría haberse expresado más explícitamente como\n",
        "\n",
        "\n",
        "\n",
        "```\n",
        "ax.plot(x, y, linestyle='--', color='g')\n",
        "```\n",
        "\n",
        "Los gráficos de líneas también pueden tener marcadores para resaltar los puntos de datos reales. Dado que **matplotlib** crea una gráfica de línea continua, interpolando entre puntos, ocasionalmente puede no estar claro dónde se encuentran los puntos.\n",
        "\n"
      ]
    },
    {
      "cell_type": "code",
      "metadata": {
        "id": "flly9mOZtSPw",
        "colab_type": "code",
        "colab": {}
      },
      "source": [
        "from numpy.random import randn\n",
        "plt.plot(randn(30).cumsum(), 'ko--')"
      ],
      "execution_count": 0,
      "outputs": []
    },
    {
      "cell_type": "code",
      "metadata": {
        "id": "LZInWo_7tawV",
        "colab_type": "code",
        "colab": {}
      },
      "source": [
        "plt.plot(randn(30).cumsum(), color='k', linestyle='dashed', marker='o')"
      ],
      "execution_count": 0,
      "outputs": []
    },
    {
      "cell_type": "code",
      "metadata": {
        "id": "gQBBj1Tstj8V",
        "colab_type": "code",
        "colab": {}
      },
      "source": [
        "'''\n",
        "Line plot with different drawstyle options\n",
        "'''\n",
        "data = np.random.randn(30).cumsum()\n",
        "plt.plot(data, 'k--', label='Default')\n",
        "plt.plot(data, 'k-', drawstyle='steps-post', label='steps-post')\n",
        "plt.legend(loc='best')"
      ],
      "execution_count": 0,
      "outputs": []
    },
    {
      "cell_type": "markdown",
      "metadata": {
        "id": "mck8dcxFucf1",
        "colab_type": "text"
      },
      "source": [
        "### Ticks, Labels, y Legends\n",
        "\n",
        "Para la mayoría de los tipos de decoraciones de plots, hay dos formas principales de hacer las cosas: usar la interfaz de procedimientos **pyplot** o la API nativa de matplotlib más orientada a objetos.\n",
        "\n",
        "La interfaz **pyplot**, diseñada para uso interactivo, consta de métodos como **xlim**, **xticks** y **xticklabels**. Estos controlan el rango de trazado, las ubicaciones de las marcas y las etiquetas de las marcas, respectivamente. Se pueden usar de dos maneras."
      ]
    },
    {
      "cell_type": "code",
      "metadata": {
        "id": "6yt1mEbtvJAo",
        "colab_type": "code",
        "colab": {}
      },
      "source": [
        "fig = plt.figure()\n",
        "ax = fig.add_subplot(1, 1, 1)\n",
        "ax.plot(np.random.randn(1000).cumsum())"
      ],
      "execution_count": 0,
      "outputs": []
    },
    {
      "cell_type": "markdown",
      "metadata": {
        "id": "N6K9kTvUvYQC",
        "colab_type": "text"
      },
      "source": [
        "Para cambiar los ticks del eje x, es más fácil usar **set_xticks** y **set_xticklabels**. El primero le indica a matplotlib dónde colocar los ticks a lo largo del rango de datos; Por defecto, estas ubicaciones también serán las etiquetas. Pero podemos establecer cualquier otro valor como las etiquetas usando **set_xticklabels**"
      ]
    },
    {
      "cell_type": "code",
      "metadata": {
        "id": "OfVt0fApvjQS",
        "colab_type": "code",
        "colab": {}
      },
      "source": [
        "fig = plt.figure()\n",
        "ax = fig.add_subplot(1, 1, 1)\n",
        "ticks = ax.set_xticks([0, 250, 500, 750, 1000])\n",
        "labels = ax.set_xticklabels(['one', 'two', 'three', 'four', 'five'],\n",
        "              rotation=30, fontsize='small')\n",
        "ax.set_title('My first matplotlib plot')\n",
        "ax.set_xlabel('Stages')\n",
        "ax.plot(np.random.randn(1000).cumsum())"
      ],
      "execution_count": 0,
      "outputs": []
    },
    {
      "cell_type": "markdown",
      "metadata": {
        "id": "OyrR8S1Awf6r",
        "colab_type": "text"
      },
      "source": [
        "### Leyendas\n",
        "\n",
        "Las leyendas son otro elemento crítico para identificar elementos de la trama. Hay un par de formas de agregar uno. Lo más fácil es pasar el argumento de la etiqueta al agregar cada pieza de la trama\n"
      ]
    },
    {
      "cell_type": "code",
      "metadata": {
        "id": "_OqDRe1av12V",
        "colab_type": "code",
        "colab": {}
      },
      "source": [
        "from numpy.random import randn\n",
        "fig = plt.figure(); ax = fig.add_subplot(1, 1, 1)\n",
        "ax.plot(randn(1000).cumsum(), 'k', label='one')\n",
        "ax.plot(randn(1000).cumsum(), 'k--', label='two')\n",
        "ax.plot(randn(1000).cumsum(), 'k.', label='three')\n",
        "ax.legend(loc='best')"
      ],
      "execution_count": 0,
      "outputs": []
    },
    {
      "cell_type": "markdown",
      "metadata": {
        "id": "bQ6YL2ZLw5JM",
        "colab_type": "text"
      },
      "source": [
        "### Anotaciones en un subplot\n",
        "\n",
        "Además de los tipos de plots estándar, es posible que desees dibujar tus propias anotaciones de trazado, que pueden consistir en texto, flechas u otras formas. Puedes agregar anotaciones y texto utilizando las funciones de texto, flecha y anotación. **text** dibuja texto en las coordenadas dadas (x, y) en el gráfico con un estilo personalizado opcional"
      ]
    },
    {
      "cell_type": "markdown",
      "metadata": {
        "id": "oGurNSuDxK1r",
        "colab_type": "text"
      },
      "source": [
        "Las anotaciones pueden dibujar tanto el texto como las flechas organizadas adecuadamente. Como ejemplo, tracemos el precio de cierre del índice S&P 500 desde 2007 y anotémoslo con algunas de las fechas importantes de la crisis financiera de 2008-2009."
      ]
    },
    {
      "cell_type": "code",
      "metadata": {
        "id": "FWbbc5Tqv7Tq",
        "colab_type": "code",
        "colab": {}
      },
      "source": [
        "import pandas as pd\n",
        "from datetime import datetime\n",
        "\n",
        "\n",
        "fig = plt.figure()\n",
        "ax = fig.add_subplot(1, 1, 1)\n",
        "\n",
        "data = pd.read_csv('https://raw.githubusercontent.com/al34n1x/DataScience/master/6.Gestion_de_datos/spx.csv'\n",
        "        , index_col=0, parse_dates=True)\n",
        "spx = data['SPX']\n",
        "\n",
        "spx.plot(ax=ax, style='k-')\n",
        "\n"
      ],
      "execution_count": 0,
      "outputs": []
    },
    {
      "cell_type": "code",
      "metadata": {
        "id": "Ybc1Di1heImy",
        "colab_type": "code",
        "colab": {}
      },
      "source": [
        "import pandas as pd\n",
        "from datetime import datetime\n",
        "\n",
        "\n",
        "fig = plt.figure()\n",
        "ax = fig.add_subplot(1, 1, 1)\n",
        "\n",
        "data = pd.read_csv('https://raw.githubusercontent.com/al34n1x/DataScience/master/6.Gestion_de_datos/spx.csv'\n",
        "        , index_col=0, parse_dates=True)\n",
        "spx = data['SPX']\n",
        "\n",
        "spx.plot(ax=ax, style='k-')\n",
        "\n",
        "crisis_data = [\n",
        "    (datetime(2007, 10, 11), 'Pico de bull market'),\n",
        "    (datetime(2008, 3, 12), 'Bear Stearns Caída'),\n",
        "    (datetime(2008, 9, 15), 'Lehman Banca-rota')\n",
        "]\n",
        "\n",
        "for date, label in crisis_data:\n",
        "    ax.annotate(label, xy=(date, spx.asof(date) + 75),\n",
        "                xytext=(date, spx.asof(date) + 225),\n",
        "                arrowprops=dict(facecolor='black', headwidth=4, width=2,\n",
        "                                headlength=4),\n",
        "                horizontalalignment='left', verticalalignment='top')\n",
        "\n",
        "# Zoom in on 2007-2010\n",
        "ax.set_xlim(['1/1/2007', '1/1/2011'])\n",
        "ax.set_ylim([600, 1800])\n",
        "\n",
        "ax.set_title('Fechas importantes en 2008-2009 durante crisis financiera')"
      ],
      "execution_count": 0,
      "outputs": []
    },
    {
      "cell_type": "markdown",
      "metadata": {
        "id": "KgeVbTxeQKAH",
        "colab_type": "text"
      },
      "source": [
        "Hay un par de puntos importantes para resaltar en este gráfico: el método **ax.annotate** puede dibujar etiquetas en las coordenadas x e y indicadas. Utilizamos los métodos **set_xlim** y **set_ylim** para establecer manualmente los límites de inicio y finalización del plot en lugar de utilizar el valor predeterminado de matplotlib. Por último, **ax.set_title** agrega un título principal al plot."
      ]
    },
    {
      "cell_type": "markdown",
      "metadata": {
        "id": "GT-kmDZhQguR",
        "colab_type": "text"
      },
      "source": [
        "### Formas y figuras\n",
        "\n",
        "Matplotlib tiene objetos que representan muchas formas comunes, conocidas como parches. Algunos de estos, como Rectángulo y Círculo, se encuentran en **matplotlib.pyplot**, pero el conjunto completo se encuentra en **matplotlib.patches**.\n",
        "\n",
        "Para agregar una forma a una gráfica, cree el objeto de parche shp y agréguelo a un sub-plot llamando a **ax.add_patch** (shp)\n"
      ]
    },
    {
      "cell_type": "code",
      "metadata": {
        "id": "SK-bj2KxQ2dR",
        "colab_type": "code",
        "colab": {}
      },
      "source": [
        "fig = plt.figure()\n",
        "ax = fig.add_subplot(1, 1, 1)\n",
        "\n",
        "rect = plt.Rectangle((0.2, 0.75), 0.4, 0.15, color='k', alpha=0.3)\n",
        "circ = plt.Circle((0.7, 0.2), 0.15, color='b', alpha=0.3)\n",
        "pgon = plt.Polygon([[0.15, 0.15], [0.35, 0.4], [0.2, 0.6]],\n",
        "                   color='g', alpha=0.5)\n",
        "\n",
        "ax.add_patch(rect)\n",
        "ax.add_patch(circ)\n",
        "ax.add_patch(pgon)"
      ],
      "execution_count": 0,
      "outputs": []
    },
    {
      "cell_type": "markdown",
      "metadata": {
        "id": "XD-7CLcvRklf",
        "colab_type": "text"
      },
      "source": [
        "### Guardando Plots\n",
        "\n",
        "Puedes guardar la figura activa en el archivo usando **plt.savefig**. Por ejemplo, para guardar una versión SVG de una figura, solo necesitas escribir\n",
        "\n",
        "\n",
        "\n",
        "```\n",
        "plt.savefig('figpath.svg')\n",
        "```\n",
        "\n"
      ]
    },
    {
      "cell_type": "markdown",
      "metadata": {
        "id": "Ogh7tbLBSATi",
        "colab_type": "text"
      },
      "source": [
        "## Plotting con Pandas y Seaborn\n",
        "\n",
        "Podemos considerar matplotlib como una herramienta de entrada para diagramar plots. Puedes ensamblar un gráfico a partir de sus componentes base: la visualización de datos, leyenda, título, etiquetas de marca y otras anotaciones.\n",
        "\n",
        "En pandas podemos tener múltiples columnas de datos, junto con etiquetas de fila y columna. Pandas tiene métodos incorporados que simplifican la creación de visualizaciones a partir de objetos DataFrame y Series. \n",
        "Una librería ampliamente utilizada  es seaborn. Seaborn es una librería de gráficos estadísticos que simplifica la creación de muchos tipos de visualización comunes."
      ]
    },
    {
      "cell_type": "code",
      "metadata": {
        "id": "kRbBu1zQSl2b",
        "colab_type": "code",
        "colab": {}
      },
      "source": [
        "import pandas as pd \n",
        "s = pd.Series(np.random.randn(10).cumsum(), index=np.arange(0, 100, 10))\n",
        "s.plot()"
      ],
      "execution_count": 0,
      "outputs": []
    },
    {
      "cell_type": "code",
      "metadata": {
        "id": "nCsSm6GPS8rD",
        "colab_type": "code",
        "colab": {}
      },
      "source": [
        "df = pd.DataFrame(np.random.randn(10, 4).cumsum(0),\n",
        "                  columns=['A', 'B', 'C', 'D'],\n",
        "                  index=np.arange(0, 100, 10))\n",
        "df"
      ],
      "execution_count": 0,
      "outputs": []
    },
    {
      "cell_type": "code",
      "metadata": {
        "id": "BkUng-pFTNLB",
        "colab_type": "code",
        "colab": {}
      },
      "source": [
        "df.plot()"
      ],
      "execution_count": 0,
      "outputs": []
    },
    {
      "cell_type": "markdown",
      "metadata": {
        "id": "Eu5EqUy0TYJh",
        "colab_type": "text"
      },
      "source": [
        "El atributo de plot contiene una \"familia\" de métodos para diferentes tipos de trazado. Por ejemplo, **df.plot()** es equivalente a **df.plot.line()**."
      ]
    },
    {
      "cell_type": "markdown",
      "metadata": {
        "id": "gmLHInjvTg9D",
        "colab_type": "text"
      },
      "source": [
        "### Bar plots\n",
        "**Plot.bar()** y **plot.barh()** crean gráficos de barras verticales y horizontales, respectivamente. En este caso, el índice Series o DataFrame se utilizará como los ticks x (bar) o y (barh)"
      ]
    },
    {
      "cell_type": "code",
      "metadata": {
        "id": "qSvJyHkaTr00",
        "colab_type": "code",
        "colab": {}
      },
      "source": [
        "fig, axes = plt.subplots(2, 1)\n",
        "data = pd.Series(np.random.rand(16), index=list('abcdefghijklmnop'))\n",
        "data.plot.bar(ax=axes[0], color='k', alpha=0.7)\n",
        "data.plot.barh(ax=axes[1], color='k', alpha=0.7)"
      ],
      "execution_count": 0,
      "outputs": []
    },
    {
      "cell_type": "markdown",
      "metadata": {
        "id": "CrQgiK_OT8Dv",
        "colab_type": "text"
      },
      "source": [
        "Las opciones color = 'k' y alpha = 0.7 establecen el color de los plots en negro y usan una transparencia parcial en el relleno."
      ]
    },
    {
      "cell_type": "code",
      "metadata": {
        "id": "JWrlngycUD4n",
        "colab_type": "code",
        "colab": {}
      },
      "source": [
        "df = pd.DataFrame(np.random.rand(6, 4),\n",
        "                  index=['one', 'two', 'three', 'four', 'five', 'six'],\n",
        "                  columns=pd.Index(['A', 'B', 'C', 'D'], name='Genus'))\n",
        "df"
      ],
      "execution_count": 0,
      "outputs": []
    },
    {
      "cell_type": "code",
      "metadata": {
        "id": "tbc9H2GbUJsV",
        "colab_type": "code",
        "colab": {}
      },
      "source": [
        "df.plot.bar()"
      ],
      "execution_count": 0,
      "outputs": []
    },
    {
      "cell_type": "code",
      "metadata": {
        "id": "c8YNQjezUPc7",
        "colab_type": "code",
        "colab": {}
      },
      "source": [
        "df.plot.barh(stacked=True, alpha=0.5)"
      ],
      "execution_count": 0,
      "outputs": []
    },
    {
      "cell_type": "markdown",
      "metadata": {
        "id": "RyVQhEN2UZm_",
        "colab_type": "text"
      },
      "source": [
        "### Seaborn\n",
        "\n",
        "Seaborn es una capa de abstracción en la parte superior de Matplotlib; te brinda una interfaz realmente ordenada para hacer una amplia gama de tipos de gráficos útiles con mucha facilidad.\n",
        "\n",
        "El código de Seaborn es más simple que el Matplotlib sin procesar\n",
        "\n",
        "Con datos que requieren agregación o resumen antes de hacer un diagrama, el uso del paquete seaborn puede hacer las cosas mucho más simples."
      ]
    },
    {
      "cell_type": "code",
      "metadata": {
        "id": "KQHdCedUUb9d",
        "colab_type": "code",
        "colab": {}
      },
      "source": [
        "import seaborn as sns\n",
        "tips = pd.read_csv('https://raw.githubusercontent.com/al34n1x/DataScience/master/6.Gestion_de_datos/tips.csv')\n",
        "tips['tip_pct'] = tips['tip'] / (tips['total_bill'] - tips['tip'])\n",
        "tips.head()\n",
        "\n"
      ],
      "execution_count": 0,
      "outputs": []
    },
    {
      "cell_type": "code",
      "metadata": {
        "id": "1XDbvitoVGMa",
        "colab_type": "code",
        "colab": {}
      },
      "source": [
        "sns.barplot(x='tip_pct', y='day', data=tips, orient='h')"
      ],
      "execution_count": 0,
      "outputs": []
    },
    {
      "cell_type": "markdown",
      "metadata": {
        "id": "gDzVulXEVSPl",
        "colab_type": "text"
      },
      "source": [
        "Las funciones de plot en seaborn toman un argumento de datos, que puede ser un DataFrame de pandas. Los otros argumentos se refieren a los nombres de columna. Debido a que hay múltiples observaciones para cada valor en el día, las barras son el valor promedio de tip_pct. Las líneas negras dibujadas en las barras representan el intervalo de confianza del 95%."
      ]
    },
    {
      "cell_type": "code",
      "metadata": {
        "id": "bQcv0X7bVYvT",
        "colab_type": "code",
        "colab": {}
      },
      "source": [
        "sns.barplot(x='tip_pct', y='day', hue='time', data=tips, orient='h')"
      ],
      "execution_count": 0,
      "outputs": []
    },
    {
      "cell_type": "markdown",
      "metadata": {
        "id": "fCpMJkP0VvJh",
        "colab_type": "text"
      },
      "source": [
        "### Histogramas\n",
        "Un histograma es un tipo de diagrama de barras que proporciona una visualización discreta de la frecuencia de los valores. Los puntos de datos se dividen en compartimientos discretos, espaciados uniformemente, y se traza el número de puntos de datos en cada contenedor. Usando los datos de propinas de antes, podemos hacer un histograma de porcentajes de propinas de la factura total usando el método **plot.hist** en la Serie"
      ]
    },
    {
      "cell_type": "code",
      "metadata": {
        "id": "1uZnSurjV3Kv",
        "colab_type": "code",
        "colab": {}
      },
      "source": [
        "tips['tip_pct'].plot.hist(bins=50)"
      ],
      "execution_count": 0,
      "outputs": []
    },
    {
      "cell_type": "markdown",
      "metadata": {
        "id": "wrg5eLawWBqp",
        "colab_type": "text"
      },
      "source": [
        "Un tipo de gráfico relacionado es un gráfico de densidad, que se forma al calcular una estimación de una distribución de probabilidad continua que podría haber generado los datos observados."
      ]
    },
    {
      "cell_type": "code",
      "metadata": {
        "id": "1BZNoqYTWHA3",
        "colab_type": "code",
        "colab": {}
      },
      "source": [
        "tips['tip_pct'].plot.density()"
      ],
      "execution_count": 0,
      "outputs": []
    },
    {
      "cell_type": "markdown",
      "metadata": {
        "id": "8he9vrk8WM73",
        "colab_type": "text"
      },
      "source": [
        "Seaborn hace que los histogramas y las gráficas de densidad sean aún más fáciles a través de su método **distplot**, que puede trazar simultáneamente un histograma y una estimación de densidad continua."
      ]
    },
    {
      "cell_type": "code",
      "metadata": {
        "id": "J8h6EzCVWRmt",
        "colab_type": "code",
        "colab": {}
      },
      "source": [
        "comp1 = np.random.normal(0, 1, size=200)\n",
        "comp2 = np.random.normal(10, 2, size=200)\n",
        "values = pd.Series(np.concatenate([comp1, comp2]))\n",
        "values"
      ],
      "execution_count": 0,
      "outputs": []
    },
    {
      "cell_type": "code",
      "metadata": {
        "id": "2k9pEJi8WYoW",
        "colab_type": "code",
        "colab": {}
      },
      "source": [
        "sns.distplot(values, bins=100, color='k')"
      ],
      "execution_count": 0,
      "outputs": []
    },
    {
      "cell_type": "markdown",
      "metadata": {
        "id": "e6K9qXtLWdHm",
        "colab_type": "text"
      },
      "source": [
        "### Scatter plots\n",
        "Los gráficos de puntos o los gráficos de dispersión pueden ser una forma útil de examinar la relación entre dos series de datos unidimensionales. Por ejemplo, aquí cargamos el conjunto de datos de macrodatos del proyecto statsmodels, seleccionamos algunas variables y luego calculamos las diferencias de registro.\n"
      ]
    },
    {
      "cell_type": "code",
      "metadata": {
        "id": "K4_y_YLbW7-P",
        "colab_type": "code",
        "colab": {}
      },
      "source": [
        "csv = pd.read_csv('https://raw.githubusercontent.com/al34n1x/DataScience/master/6.Gestion_de_datos/data.csv')\n",
        "data = csv[['cpi', 'm1', 'tbilrate', 'unemp']]\n",
        "trans_data = np.log(data).diff().dropna()\n",
        "trans_data[-5:]"
      ],
      "execution_count": 0,
      "outputs": []
    },
    {
      "cell_type": "code",
      "metadata": {
        "id": "6hMrszx0XMC5",
        "colab_type": "code",
        "colab": {}
      },
      "source": [
        "sns.regplot('m1', 'unemp', data=trans_data)"
      ],
      "execution_count": 0,
      "outputs": []
    },
    {
      "cell_type": "markdown",
      "metadata": {
        "id": "HAixThjSXbs8",
        "colab_type": "text"
      },
      "source": [
        "En el análisis exploratorio de datos, es útil poder observar todos los gráficos de dispersión entre un grupo de variables; Esto se conoce como un **diagrama de pares** o **matriz de diagrama de dispersión**. Hacer un diagrama de este tipo desde cero es un poco trabajo, por lo que seaborn tiene una conveniente función de diagrama de pares, que admite la colocación de histogramas o estimaciones de densidad de cada variable a lo largo de la diagonal\n",
        "\n",
        "<DRUMS PLEASE!>\n",
        "\n",
        "\n",
        "<img src = \"https://learningthroughwork.files.wordpress.com/2013/04/animal_drums.jpg\">\n"
      ]
    },
    {
      "cell_type": "code",
      "metadata": {
        "id": "_UCfnW9CXj2u",
        "colab_type": "code",
        "colab": {}
      },
      "source": [
        "sns.pairplot(trans_data, diag_kind='kde', plot_kws={'alpha': 0.2})"
      ],
      "execution_count": 0,
      "outputs": []
    },
    {
      "cell_type": "markdown",
      "metadata": {
        "id": "9qFzpmAYYKbh",
        "colab_type": "text"
      },
      "source": [
        "Una forma de visualizar datos con muchas variables categóricas es usar una cuadrícula de facetas. Seaborn tiene una útil gráfica de factor de función incorporada que simplifica la creación de muchos tipos de gráficos facetados"
      ]
    },
    {
      "cell_type": "code",
      "metadata": {
        "id": "jlQOqRBiYO-3",
        "colab_type": "code",
        "colab": {}
      },
      "source": [
        "sns.factorplot(x='day', y='tip_pct', hue='time', col='smoker',\n",
        "               kind='bar', data=tips[tips.tip_pct < 1])"
      ],
      "execution_count": 0,
      "outputs": []
    },
    {
      "cell_type": "markdown",
      "metadata": {
        "id": "TuccPwYXYfy6",
        "colab_type": "text"
      },
      "source": [
        "**factorplot** admite otros tipos de gráficos que pueden ser útiles según lo que intente mostrar. Por ejemplo, los gráficos de caja (que muestran la mediana, los cuartiles y los valores atípicos) pueden ser un tipo de visualización eficaz"
      ]
    },
    {
      "cell_type": "code",
      "metadata": {
        "id": "ib26bUUzYmSV",
        "colab_type": "code",
        "colab": {}
      },
      "source": [
        "sns.factorplot(x='tip_pct', y='day', kind='box',\n",
        "               data=tips[tips.tip_pct < 0.5])"
      ],
      "execution_count": 0,
      "outputs": []
    },
    {
      "cell_type": "markdown",
      "metadata": {
        "id": "6VsDV4dpZTkp",
        "colab_type": "text"
      },
      "source": [
        "## Plotly\n",
        "\n",
        "[Plotly](https://plotly.com/graphing-libraries/) es un ecosistema de plots que incluye una biblioteca de trazado de Python. Tiene tres interfaces diferentes:\n",
        "\n",
        "* Una interfaz orientada a objetos.\n",
        "* Una interfaz imprescindible que le permite especificar su trama utilizando estructuras de datos similares a JSON\n",
        "* Una interfaz de alto nivel similar a Seaborn llamada Plotly Express\n",
        "\n",
        "Los plots están diseñadas para integrarse en aplicaciones web. \n"
      ]
    },
    {
      "cell_type": "code",
      "metadata": {
        "id": "vimKe-HnZ2Ea",
        "colab_type": "code",
        "colab": {}
      },
      "source": [
        "import plotly.express as px\n",
        "fig = px.scatter(x=[0, 1, 2, 3, 4], y=[0, 1, 4, 9, 16])\n",
        "fig.show()"
      ],
      "execution_count": 0,
      "outputs": []
    },
    {
      "cell_type": "code",
      "metadata": {
        "id": "7Ds6C99JaBWL",
        "colab_type": "code",
        "colab": {}
      },
      "source": [
        "import plotly.express as px\n",
        "df = px.data.tips() # Dummy data from Library\n",
        "fig = px.histogram(df, x=\"total_bill\", y=\"tip\", color=\"sex\", marginal=\"rug\",\n",
        "                   hover_data=df.columns)\n",
        "fig.show()"
      ],
      "execution_count": 0,
      "outputs": []
    },
    {
      "cell_type": "code",
      "metadata": {
        "id": "sjrSab1eaKRp",
        "colab_type": "code",
        "colab": {}
      },
      "source": [
        "# Heatmap\n",
        "\n",
        "import plotly.express as px\n",
        "\n",
        "fig = px.imshow([[1, 20, 30],\n",
        "                 [20, 1, 60],\n",
        "                 [30, 60, 1]])\n",
        "fig.show()"
      ],
      "execution_count": 0,
      "outputs": []
    },
    {
      "cell_type": "code",
      "metadata": {
        "id": "AQSxF6jHaSfz",
        "colab_type": "code",
        "colab": {}
      },
      "source": [
        "import plotly.graph_objects as go\n",
        "import numpy as np\n",
        "np.random.seed(1)\n",
        "\n",
        "N = 70\n",
        "\n",
        "fig = go.Figure(data=[go.Mesh3d(x=(70*np.random.randn(N)),\n",
        "                   y=(55*np.random.randn(N)),\n",
        "                   z=(40*np.random.randn(N)),\n",
        "                   opacity=0.5,\n",
        "                   color='rgba(244,22,100,0.6)'\n",
        "                  )])\n",
        "\n",
        "fig.update_layout(\n",
        "    scene = dict(\n",
        "        xaxis = dict(nticks=4, range=[-100,100],),\n",
        "                     yaxis = dict(nticks=4, range=[-50,100],),\n",
        "                     zaxis = dict(nticks=4, range=[-100,100],),),\n",
        "    width=700,\n",
        "    margin=dict(r=20, l=10, b=10, t=10))\n",
        "\n",
        "fig.show()"
      ],
      "execution_count": 0,
      "outputs": []
    }
  ]
}