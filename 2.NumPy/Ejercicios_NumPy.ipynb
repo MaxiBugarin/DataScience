{
  "nbformat": 4,
  "nbformat_minor": 0,
  "metadata": {
    "colab": {
      "name": "Ejercicios_NumPy.ipynb",
      "provenance": [],
      "collapsed_sections": [],
      "authorship_tag": "ABX9TyNPW/AglHIHnWXLw2j0b9BH",
      "include_colab_link": true
    },
    "kernelspec": {
      "name": "python3",
      "display_name": "Python 3"
    }
  },
  "cells": [
    {
      "cell_type": "markdown",
      "metadata": {
        "id": "view-in-github",
        "colab_type": "text"
      },
      "source": [
        "<a href=\"https://colab.research.google.com/github/al34n1x/DataScience/blob/master/2.NumPy/Ejercicios_NumPy.ipynb\" target=\"_parent\"><img src=\"https://colab.research.google.com/assets/colab-badge.svg\" alt=\"Open In Colab\"/></a>"
      ]
    },
    {
      "cell_type": "markdown",
      "metadata": {
        "id": "DHx21dUdwmAk",
        "colab_type": "text"
      },
      "source": [
        "## Ejercicio 1 \n",
        "\n",
        "Crear una matriz de 4x9, que esté inicializada con el valor 0.5\n"
      ]
    },
    {
      "cell_type": "code",
      "metadata": {
        "id": "plRQPl1bwvpQ",
        "colab_type": "code",
        "colab": {}
      },
      "source": [
        "import numpy as np\n",
        "matriz=0 #IMPLEMENTAR\n",
        "\n",
        "print(matriz)"
      ],
      "execution_count": 0,
      "outputs": []
    },
    {
      "cell_type": "markdown",
      "metadata": {
        "id": "rlE2glztw-vD",
        "colab_type": "text"
      },
      "source": [
        "## Ejercicio 2\n",
        "\n",
        "Modificando arreglos"
      ]
    },
    {
      "cell_type": "code",
      "metadata": {
        "id": "f6_SW5A_w9Ce",
        "colab_type": "code",
        "colab": {}
      },
      "source": [
        "import numpy as np\n",
        "lista_de_listas=[ [-44,12], \n",
        "                  [12.0,51], \n",
        "                  [1300, -5.0]]\n",
        "a = np.array(lista_de_listas)\n",
        "\n",
        "print(\"Matriz original\")\n",
        "print(a)\n",
        "\n",
        "\n",
        "# Restarle 5 a la fila 2 de la matriz\n",
        "#IMPLEMENTAR\n",
        "print(a)\n",
        "\n",
        "# Multiplicar por 2 toda la matriz\n",
        "#IMPLEMENTAR\n",
        "print(a)\n",
        "\n",
        "# Dividir por -5 las dos primeras filas de la matriz\n",
        "#IMPLEMENTAR\n",
        "print(a)\n",
        "\n",
        "\n",
        "#Imprimir la ultima fila de la matriz\n",
        "ultima_fila=0 # IMPLEMENTAR\n",
        "print(ultima_fila)"
      ],
      "execution_count": 0,
      "outputs": []
    },
    {
      "cell_type": "markdown",
      "metadata": {
        "id": "Yxq5C0hIuqxX",
        "colab_type": "text"
      },
      "source": [
        "## Ejercicio Integrador - Indices Booleanos\n",
        "\n",
        "Consideremos el siguiente ejemplo. Tenemos datos en un array y otro arreglo con nombres duplicados. \n",
        "Supongamos que a cada nombre le corresponde una fila del array de datos (Enteros o Flotantes) que queremos seleccionar. Por ejemplo, si tenemos el nombre `Bob Sponge` repetido dos veces en nuestro arreglo de nombres, nos debería devolver un número del arrary de datos correspondiente a esa posición.\n",
        "\n",
        "Desarrolle un código que genere un array con números aleatorios y luego utilizando funciones aritméticas intente devolver el valor que le corresponde a los nombres dentro del array de números.\n",
        "\n"
      ]
    },
    {
      "cell_type": "code",
      "metadata": {
        "id": "5qOWV4ZMun4V",
        "colab_type": "code",
        "colab": {}
      },
      "source": [
        "import numpy as np\n",
        "\n",
        "nombres = np.array(['Bob', 'Joe', 'Will', 'Bob', 'Will', 'Joe', 'Joe'])\n",
        "\n",
        "#A Partir de aquí es donde debes desarrollar tu magia Happy Coding!\n",
        "\n",
        "\n"
      ],
      "execution_count": 0,
      "outputs": []
    }
  ]
}