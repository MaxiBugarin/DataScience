{
  "nbformat": 4,
  "nbformat_minor": 0,
  "metadata": {
    "colab": {
      "name": "Tips Python.ipynb",
      "provenance": [],
      "authorship_tag": "ABX9TyOScCdyBE3WaMQoRHri1ZgN",
      "include_colab_link": true
    },
    "kernelspec": {
      "name": "python3",
      "display_name": "Python 3"
    },
    "language_info": {
      "name": "python"
    }
  },
  "cells": [
    {
      "cell_type": "markdown",
      "metadata": {
        "id": "view-in-github",
        "colab_type": "text"
      },
      "source": [
        "<a href=\"https://colab.research.google.com/github/al34n1x/DataScience/blob/master/1.Intro/Tips_Python.ipynb\" target=\"_parent\"><img src=\"https://colab.research.google.com/assets/colab-badge.svg\" alt=\"Open In Colab\"/></a>"
      ]
    },
    {
      "cell_type": "markdown",
      "metadata": {
        "colab_type": "toc",
        "id": "nqpPe3cXGtKE"
      },
      "source": [
        ">[Indentación](#updateTitle=true&folderId=1hYY6URNFLa2w5I3uQbpDlwOox_am-5cM&scrollTo=AvxQ8EJY4Whh)\n",
        "\n",
        ">[Variables](#updateTitle=true&folderId=1hYY6URNFLa2w5I3uQbpDlwOox_am-5cM&scrollTo=V4Nv8LBe4mZn)\n",
        "\n",
        ">>[Tipo Boolean](#updateTitle=true&folderId=1hYY6URNFLa2w5I3uQbpDlwOox_am-5cM&scrollTo=HB2wouRJ5ZUV)\n",
        "\n",
        ">>[Números](#updateTitle=true&folderId=1hYY6URNFLa2w5I3uQbpDlwOox_am-5cM&scrollTo=HB2wouRJ5ZUV)\n",
        "\n",
        ">>>[Enteros](#updateTitle=true&folderId=1hYY6URNFLa2w5I3uQbpDlwOox_am-5cM&scrollTo=HB2wouRJ5ZUV)\n",
        "\n",
        ">>>[Decimales](#updateTitle=true&folderId=1hYY6URNFLa2w5I3uQbpDlwOox_am-5cM&scrollTo=HB2wouRJ5ZUV)\n",
        "\n",
        ">[Operadores Lógicos](#updateTitle=true&folderId=1hYY6URNFLa2w5I3uQbpDlwOox_am-5cM&scrollTo=4AQT68kE55Dt)\n",
        "\n",
        ">[Función Type()](#updateTitle=true&folderId=1hYY6URNFLa2w5I3uQbpDlwOox_am-5cM&scrollTo=8QADyclTGNN6)\n",
        "\n"
      ]
    },
    {
      "cell_type": "markdown",
      "metadata": {
        "id": "AvxQ8EJY4Whh"
      },
      "source": [
        "# Indentación\n",
        "\n",
        "Python utiliza la indentación para indicar donde empieza y donde termina un bloque de código"
      ]
    },
    {
      "cell_type": "code",
      "metadata": {
        "id": "rJm4IX3G4SuN"
      },
      "source": [
        "def funcion():\n",
        "  a=2\n",
        "  return a\n",
        "\n",
        "print (funcion())"
      ],
      "execution_count": null,
      "outputs": []
    },
    {
      "cell_type": "markdown",
      "metadata": {
        "id": "V4Nv8LBe4mZn"
      },
      "source": [
        "# Variables\n",
        "Nos permiten guardar valores en diferentes partes del código.\n",
        "Para crear una variable debes especificar el nombre y asignarle un valor.\n",
        "\n",
        "```\n",
        "<nombre_variable> = <valor>\n",
        "```"
      ]
    },
    {
      "cell_type": "code",
      "metadata": {
        "id": "9yNZ0NM34m8O"
      },
      "source": [
        "a = 10 #int\n",
        "x 'Pikachu' #String"
      ],
      "execution_count": null,
      "outputs": []
    },
    {
      "cell_type": "markdown",
      "metadata": {
        "id": "_H4lJJVv4-ar"
      },
      "source": [
        "Las variables son CASE SENSITIVE (Distinguen entren mayúsculas y minúsculas)"
      ]
    },
    {
      "cell_type": "code",
      "metadata": {
        "id": "Mf3Uo4tn5HJ3"
      },
      "source": [
        "a = 1\n",
        "A = 'Pikachu'\n",
        "\n",
        "print (a)\n",
        "print (A)"
      ],
      "execution_count": null,
      "outputs": []
    },
    {
      "cell_type": "markdown",
      "metadata": {
        "id": "JK6OU3415P4U"
      },
      "source": [
        "Los nombre no deben ser palabras reservadas como **False, Class, Def, For, While**"
      ]
    },
    {
      "cell_type": "markdown",
      "metadata": {
        "id": "HB2wouRJ5ZUV"
      },
      "source": [
        "##Tipo Boolean\n",
        "\n",
        "```\n",
        "valor = True\n",
        "Valor_2 = False\n",
        "```\n",
        "\n",
        "##Números\n",
        "\n",
        "###Enteros\n",
        "```\n",
        "a = 1\n",
        "b = 2\n",
        "```\n",
        "###Decimales\n",
        "a = 2.0\n",
        "b =100.0"
      ]
    },
    {
      "cell_type": "markdown",
      "metadata": {
        "id": "4AQT68kE55Dt"
      },
      "source": [
        "#Operadores Lógicos\n",
        "\n",
        "* and (si ambos son verdaderos)\n",
        "\n",
        "```\n",
        "x = True\n",
        "y = True\n",
        "\n",
        "if ((x==True) and (y == True)):\n",
        "  print (\"verdadero\")\n",
        "\n",
        "```\n",
        "\n",
        "* or (si uno de los es al menos True)\n",
        "\n",
        "```\n",
        "x = True\n",
        "y = True\n",
        "\n",
        "if ((x==True) or (y == False)):\n",
        "  print (\"verdadero\")\n",
        "```"
      ]
    },
    {
      "cell_type": "code",
      "metadata": {
        "colab": {
          "base_uri": "https://localhost:8080/"
        },
        "id": "e_WstRgJAFcu",
        "outputId": "43197f8a-4866-4220-fa9d-bc9d51204aef"
      },
      "source": [
        "x = True\n",
        "y = True\n",
        "\n",
        "if ((x==True) and (y == True)):\n",
        "  print (\"verdadero\")"
      ],
      "execution_count": 4,
      "outputs": [
        {
          "output_type": "stream",
          "text": [
            "verdadero\n"
          ],
          "name": "stdout"
        }
      ]
    },
    {
      "cell_type": "code",
      "metadata": {
        "id": "w0IX0WvjGBIo"
      },
      "source": [
        "x = True\n",
        "y = True\n",
        "\n",
        "if ((x==True) or (y == False)):\n",
        "  print (\"verdadero\")"
      ],
      "execution_count": null,
      "outputs": []
    },
    {
      "cell_type": "markdown",
      "metadata": {
        "id": "8QADyclTGNN6"
      },
      "source": [
        "#Función Type()\n",
        "\n",
        "La función **Type()** devuelve el tipo de objeto que recibe por argument.\n",
        "\n",
        "```\n",
        "\n",
        "type(objecto)\n",
        "\n",
        "```"
      ]
    },
    {
      "cell_type": "code",
      "metadata": {
        "id": "xSbYb_EeGZF0"
      },
      "source": [
        "objeto = 1.1\n",
        "\n",
        "print (type(objeto))"
      ],
      "execution_count": null,
      "outputs": []
    },
    {
      "cell_type": "markdown",
      "metadata": {
        "id": "NYDpGlNxG7xI"
      },
      "source": [
        "# Importar Google Drive\n",
        "\n",
        "```\n",
        "from google.colab import drive\n",
        "drive.mount('/content/gdrive')\n",
        "```"
      ]
    },
    {
      "cell_type": "code",
      "metadata": {
        "colab": {
          "base_uri": "https://localhost:8080/"
        },
        "id": "MCih5aSaG_11",
        "outputId": "a47b2be4-7e71-4038-d8ee-23f1460df212"
      },
      "source": [
        "from google.colab import drive\n",
        "drive.mount('/content/gdrive')"
      ],
      "execution_count": 12,
      "outputs": [
        {
          "output_type": "stream",
          "text": [
            "Mounted at /content/gdrive\n"
          ],
          "name": "stdout"
        }
      ]
    },
    {
      "cell_type": "code",
      "metadata": {
        "id": "nn-gtqPYHK3O"
      },
      "source": [
        "drive.flush_and_unmount(timeout_ms=100)"
      ],
      "execution_count": 15,
      "outputs": []
    }
  ]
}