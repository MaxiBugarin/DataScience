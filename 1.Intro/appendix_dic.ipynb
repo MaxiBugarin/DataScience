{
  "nbformat": 4,
  "nbformat_minor": 0,
  "metadata": {
    "colab": {
      "name": "appendix_dic.ipynb",
      "provenance": [],
      "collapsed_sections": [],
      "authorship_tag": "ABX9TyM+NPK/BcwUXUnYakjW1OJn",
      "include_colab_link": true
    },
    "kernelspec": {
      "name": "python3",
      "display_name": "Python 3"
    },
    "language_info": {
      "name": "python"
    }
  },
  "cells": [
    {
      "cell_type": "markdown",
      "metadata": {
        "id": "view-in-github",
        "colab_type": "text"
      },
      "source": [
        "<a href=\"https://colab.research.google.com/github/al34n1x/DataScience/blob/master/1.Intro/appendix_dic.ipynb\" target=\"_parent\"><img src=\"https://colab.research.google.com/assets/colab-badge.svg\" alt=\"Open In Colab\"/></a>"
      ]
    },
    {
      "cell_type": "code",
      "metadata": {
        "id": "rQHN8iudDYKJ"
      },
      "source": [
        "dic = {'Nombre':'Pikachu',\n",
        "       'Apellido':'Pokemon'}\n",
        "\n",
        "dic.get('Nombre')"
      ],
      "execution_count": null,
      "outputs": []
    },
    {
      "cell_type": "code",
      "metadata": {
        "id": "mRsHqeSlDzPr"
      },
      "source": [
        "dic['Nombre']"
      ],
      "execution_count": null,
      "outputs": []
    },
    {
      "cell_type": "code",
      "metadata": {
        "id": "0hnQhk8bD4Dz",
        "colab": {
          "base_uri": "https://localhost:8080/"
        },
        "outputId": "90912eed-0679-4c60-85b9-a9538097ac53"
      },
      "source": [
        "dic = {'00001':{ 'Nombre':'Pikachu',\n",
        "                'Apellido':'Pokemon'}\n",
        "}\n",
        "\n",
        "dic.get('00001')"
      ],
      "execution_count": 34,
      "outputs": [
        {
          "output_type": "execute_result",
          "data": {
            "text/plain": [
              "{'Apellido': 'Pokemon', 'Nombre': 'Pikachu'}"
            ]
          },
          "metadata": {
            "tags": []
          },
          "execution_count": 34
        }
      ]
    },
    {
      "cell_type": "code",
      "metadata": {
        "id": "86BybJ5_ELo2",
        "colab": {
          "base_uri": "https://localhost:8080/",
          "height": 36
        },
        "outputId": "97c46201-8823-4a9b-8f0d-8b20ddd40a80"
      },
      "source": [
        "dic.get('00001').get('Apellido')"
      ],
      "execution_count": 22,
      "outputs": [
        {
          "output_type": "execute_result",
          "data": {
            "application/vnd.google.colaboratory.intrinsic+json": {
              "type": "string"
            },
            "text/plain": [
              "'Pokemon'"
            ]
          },
          "metadata": {
            "tags": []
          },
          "execution_count": 22
        }
      ]
    },
    {
      "cell_type": "code",
      "metadata": {
        "colab": {
          "base_uri": "https://localhost:8080/",
          "height": 36
        },
        "id": "ED3abF8RdgzB",
        "outputId": "3e751ea7-a0db-436c-8dbc-cc9d05d1905c"
      },
      "source": [
        "dic['00001']['Nombre']"
      ],
      "execution_count": 35,
      "outputs": [
        {
          "output_type": "execute_result",
          "data": {
            "application/vnd.google.colaboratory.intrinsic+json": {
              "type": "string"
            },
            "text/plain": [
              "'Pokemon'"
            ]
          },
          "metadata": {
            "tags": []
          },
          "execution_count": 35
        }
      ]
    },
    {
      "cell_type": "code",
      "metadata": {
        "id": "xMhaCCMxETdh"
      },
      "source": [
        "dic['00001'].get('Apellido')"
      ],
      "execution_count": null,
      "outputs": []
    },
    {
      "cell_type": "code",
      "metadata": {
        "id": "ZrhIHufuEhqH",
        "colab": {
          "base_uri": "https://localhost:8080/"
        },
        "outputId": "e9a893f0-0e02-480e-993c-c096a593dd94"
      },
      "source": [
        "dic = {'00001':{ 'Cliente':'Pikachu',\n",
        "                'Pizza':'Grande',\n",
        "                'Toppins':['Queso','Jamón','Tomate']}\n",
        "}\n",
        "\n",
        "dic.get('00001')"
      ],
      "execution_count": 36,
      "outputs": [
        {
          "output_type": "execute_result",
          "data": {
            "text/plain": [
              "{'Cliente': 'Pikachu',\n",
              " 'Pizza': 'Grande',\n",
              " 'Toppins': ['Queso', 'Jamón', 'Tomate']}"
            ]
          },
          "metadata": {
            "tags": []
          },
          "execution_count": 36
        }
      ]
    },
    {
      "cell_type": "code",
      "metadata": {
        "id": "POLaWRq7Ex9v",
        "colab": {
          "base_uri": "https://localhost:8080/",
          "height": 36
        },
        "outputId": "91fa924d-6942-4f55-c806-8cae3a266158"
      },
      "source": [
        "dic.get('00001').get('Cliente')"
      ],
      "execution_count": 25,
      "outputs": [
        {
          "output_type": "execute_result",
          "data": {
            "application/vnd.google.colaboratory.intrinsic+json": {
              "type": "string"
            },
            "text/plain": [
              "'Pikachu'"
            ]
          },
          "metadata": {
            "tags": []
          },
          "execution_count": 25
        }
      ]
    },
    {
      "cell_type": "code",
      "metadata": {
        "id": "tqi61w6sdqLq"
      },
      "source": [
        "dic['00001']['Cliente']"
      ],
      "execution_count": null,
      "outputs": []
    },
    {
      "cell_type": "code",
      "metadata": {
        "id": "vOZ_RzdvE1t3"
      },
      "source": [
        "dic['00001'].get('Pizza')"
      ],
      "execution_count": null,
      "outputs": []
    },
    {
      "cell_type": "code",
      "metadata": {
        "id": "a2ln1MNmdtRG"
      },
      "source": [
        "dic['00001']['Pizza']"
      ],
      "execution_count": null,
      "outputs": []
    },
    {
      "cell_type": "code",
      "metadata": {
        "id": "cPZftTLwE6YY"
      },
      "source": [
        "dic['00001'].get('Toppins') #Devuelve un arreglo"
      ],
      "execution_count": null,
      "outputs": []
    },
    {
      "cell_type": "code",
      "metadata": {
        "id": "G9B98deOE_3k"
      },
      "source": [
        "var = dic['00001'].get('Toppins')[0]  #Cómo obtener el primer valor del arreglo\n",
        "var"
      ],
      "execution_count": null,
      "outputs": []
    },
    {
      "cell_type": "code",
      "metadata": {
        "id": "Cumbxsacdvu7"
      },
      "source": [
        "dic['00001']['Toppins'][0]"
      ],
      "execution_count": null,
      "outputs": []
    },
    {
      "cell_type": "code",
      "metadata": {
        "id": "IRWsToRMPNI0"
      },
      "source": [
        "var[0]"
      ],
      "execution_count": null,
      "outputs": []
    }
  ]
}