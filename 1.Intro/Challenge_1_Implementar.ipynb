{
  "nbformat": 4,
  "nbformat_minor": 0,
  "metadata": {
    "colab": {
      "name": "Challenge_1_Implementar.ipynb",
      "provenance": [],
      "collapsed_sections": [],
      "include_colab_link": true
    },
    "kernelspec": {
      "name": "python3",
      "display_name": "Python 3"
    },
    "language_info": {
      "name": "python"
    }
  },
  "cells": [
    {
      "cell_type": "markdown",
      "metadata": {
        "id": "view-in-github",
        "colab_type": "text"
      },
      "source": [
        "<a href=\"https://colab.research.google.com/github/al34n1x/DataScience/blob/master/1.Intro/Challenge_1_Implementar.ipynb\" target=\"_parent\"><img src=\"https://colab.research.google.com/assets/colab-badge.svg\" alt=\"Open In Colab\"/></a>"
      ]
    },
    {
      "cell_type": "markdown",
      "metadata": {
        "id": "UakU_ceZYMFZ"
      },
      "source": [
        "# Challenge 1\n",
        "\n",
        "UADE se encuentra realizando las inscripciones para el segundo cuatrimestre y te ha solicitado que puedas hacer un programa que le permita ingresar al usuario del departamento de alumnos los datos del candidato y los mismos se deben de guardar en una estructura de diccionario con el siguiente formato:\n",
        "\n",
        "```\n",
        "{\n",
        "  1000000:{\n",
        "              'Nombre': 'Juan',\n",
        "              'Apellido': 'Perez',\n",
        "              'DNI': '99.999.999'\n",
        "              'Carrera': 'Lic. Periodismo'\n",
        "  },\n",
        "\n",
        "   1000001:{\n",
        "              'Nombre': 'Ryan',\n",
        "              'Apellido': 'Reynelds',\n",
        "              'DNI': '00.000.01'\n",
        "              'Carrera': 'SuperHero'\n",
        "  }\n",
        "\n",
        "}\n",
        "\n",
        "```\n"
      ]
    },
    {
      "cell_type": "code",
      "metadata": {
        "id": "_5qP4tbJXuT-"
      },
      "source": [
        "## Carga de datos\n",
        "##LicPeriodismo\n",
        "##IngInfo\n",
        "##AdmEmp\n",
        "##Eco\n",
        "##Bio\n",
        "\n",
        "dic={}\n",
        "\n",
        "leg = input(\"Ingrese Legajo: \") \n",
        "while leg != '0':\n",
        "  nombre=input(\"Ingrese Nombre: \")\n",
        "  apellido=input(\"Ingrese Apellido: \")\n",
        "  dni=input(\"Ingrese DNI: \")\n",
        "  carrera=input(\"Ingrese Carrera: \")\n",
        "\n",
        "  dic[leg]={\n",
        "      # Guardardar los datos ingresados por teclado\n",
        "\n",
        "  }\n",
        "\n",
        "  leg = input(\"Ingrese Legajo: \") \n"
      ],
      "execution_count": null,
      "outputs": []
    },
    {
      "cell_type": "code",
      "metadata": {
        "id": "-SwkPxgbaqID"
      },
      "source": [
        "## Acumular\n",
        "\n",
        "dic_carreras ={}\n",
        "LicPeriodismo = 0\n",
        "IngInfo = 0\n",
        "AdmEmp = 0\n",
        "Eco = 0\n",
        "Bio = 0\n",
        "\n",
        "\n",
        "for k,v in dic.items():\n",
        "  c = dic.get(k).get('Carrera')\n",
        "  # Agregar ciclo de control if\n",
        "\n",
        " \n",
        "\n",
        "# Agregar los valores al diccionario dic_carreras\n",
        "\n",
        "\n",
        "dic_carreras\n",
        "\n"
      ],
      "execution_count": null,
      "outputs": []
    },
    {
      "cell_type": "code",
      "metadata": {
        "id": "YmnpDxrI58Oq"
      },
      "source": [
        "## Plot\n",
        "\n",
        "import matplotlib.pyplot as plt\n",
        "fig = plt.figure()\n",
        "ax = fig.subplots()\n",
        "carrera_axis = ['LicPeriodismo', 'IngInfo', 'AdmEmp', 'Eco', 'Bio']\n",
        "num = []\n",
        "\n",
        "ax.bar(carrera_axis,num)\n",
        "\n"
      ],
      "execution_count": null,
      "outputs": []
    },
    {
      "cell_type": "code",
      "metadata": {
        "id": "pqZ1OQrg-sx4"
      },
      "source": [
        "import plotly.express as px\n",
        "\n",
        "fig = px.line(x=carrera_axis, y=num,\n",
        "             labels=dict(x=\"Carrera\", y=\"Amount\", color=\"Cantidad\"))\n",
        "fig.add_bar(x=carrera_axis, y=num, name=\"Cantidad\")\n",
        "fig.show()"
      ],
      "execution_count": null,
      "outputs": []
    }
  ]
}