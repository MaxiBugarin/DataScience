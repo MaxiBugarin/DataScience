{
  "nbformat": 4,
  "nbformat_minor": 0,
  "metadata": {
    "colab": {
      "name": "14_clustering_-_kmeans.ipynb",
      "provenance": [],
      "include_colab_link": true
    },
    "kernelspec": {
      "name": "python3",
      "display_name": "Python 3"
    }
  },
  "cells": [
    {
      "cell_type": "markdown",
      "metadata": {
        "id": "view-in-github",
        "colab_type": "text"
      },
      "source": [
        "<a href=\"https://colab.research.google.com/github/al34n1x/DataScience/blob/master/99.Machine_Learning/14_clustering___kmeans.ipynb\" target=\"_parent\"><img src=\"https://colab.research.google.com/assets/colab-badge.svg\" alt=\"Open In Colab\"/></a>"
      ]
    },
    {
      "cell_type": "markdown",
      "metadata": {
        "id": "5r29nUdMB-IO",
        "colab_type": "text"
      },
      "source": [
        "\n",
        "\n",
        "<h1>Table of Contents<span class=\"tocSkip\"></span></h1>\n",
        "<div class=\"toc\"><ul class=\"toc-item\"><li><span><a href=\"#Clustering\" data-toc-modified-id=\"Clustering-1\"><span class=\"toc-item-num\">1&nbsp;&nbsp;</span>Clustering</a></span><ul class=\"toc-item\"><li><span><a href=\"#Medidas-de-similitud\" data-toc-modified-id=\"Medidas-de-similitud-1.1\"><span class=\"toc-item-num\">1.1&nbsp;&nbsp;</span>Medidas de similitud</a></span></li><li><span><a href=\"#Tipos-de-Clustering\" data-toc-modified-id=\"Tipos-de-Clustering-1.2\"><span class=\"toc-item-num\">1.2&nbsp;&nbsp;</span>Tipos de Clustering</a></span></li></ul></li><li><span><a href=\"#Clustering-particional\" data-toc-modified-id=\"Clustering-particional-2\"><span class=\"toc-item-num\">2&nbsp;&nbsp;</span>Clustering particional</a></span><ul class=\"toc-item\"><li><span><a href=\"#K-medias\" data-toc-modified-id=\"K-medias-2.1\"><span class=\"toc-item-num\">2.1&nbsp;&nbsp;</span>K-medias</a></span></li><li><span><a href=\"#Iteración-1\" data-toc-modified-id=\"Iteración-1-2.2\"><span class=\"toc-item-num\">2.2&nbsp;&nbsp;</span>Iteración 1</a></span></li><li><span><a href=\"#Iteración-2\" data-toc-modified-id=\"Iteración-2-2.3\"><span class=\"toc-item-num\">2.3&nbsp;&nbsp;</span>Iteración 2</a></span></li><li><span><a href=\"#Scikit-learn.-K-means\" data-toc-modified-id=\"Scikit-learn.-K-means-2.4\"><span class=\"toc-item-num\">2.4&nbsp;&nbsp;</span>Scikit-learn. K-means</a></span></li><li><span><a href=\"#Selección-del-número-de-clusters.-Técnica-del-codo\" data-toc-modified-id=\"Selección-del-número-de-clusters.-Técnica-del-codo-2.5\"><span class=\"toc-item-num\">2.5&nbsp;&nbsp;</span>Selección del número de clusters. Técnica del codo</a></span></li><li><span><a href=\"#Recomendaciones-para-K-means\" data-toc-modified-id=\"Recomendaciones-para-K-means-2.6\"><span class=\"toc-item-num\">2.6&nbsp;&nbsp;</span>Recomendaciones para K-means</a></span></li></ul></li></ul></div>"
      ]
    },
    {
      "cell_type": "markdown",
      "metadata": {
        "id": "M2CTmvoZB-IO",
        "colab_type": "text"
      },
      "source": [
        "\n",
        "\n",
        "---\n",
        "\n",
        "# Aprendizaje no supervisado\n",
        "\n",
        "Los algoritmos de aprendizaje no supervisado son aquellos que aprenden de un dataset sin etiquetas, es decir, que no tiene ejemplos con los que comparar. Lo que hacen estos algoritmos es categorizar los datos en función de algún criterio estadístico. Recordemos que esto es distinto al aprendizaje supervisado, donde los algoritmos aprenden ajustándose a unos ejemplos. Podemos diferenciar varios usos de aprendizaje no supervisado:\n",
        "\n",
        "\n",
        "- Clustering: agrupar los datos en grupos basados en la alguna medida de similitud entre los miembros de cada grupo. Las ventajas del clustering radican en descubrir grupos donde antes no se sabía que los había (p.ej. detectar clientes que llaman o naveguen en los mismo horarios y quizá ofrecer una tarifa distinta). Aplicaciones:\n",
        "    - Agrupar clientes con gustos similares (segmentación que podría usarse para ofrecer distinta publicidad a cada uno)\n",
        "    - Categorizar productos similares en función del uso que les dan los clientes \n",
        "    - Análisis de redes sociales (agrupas seguidores de Telefónica en twitter en lovers o haters en función de las palabras que usan cuando mencionan a Telefónica)\n",
        "- Reducción dimensional\n",
        "- Detección de outliers\n",
        "- ..."
      ]
    },
    {
      "cell_type": "markdown",
      "metadata": {
        "id": "7hXY_TxGB-IO",
        "colab_type": "text"
      },
      "source": [
        "\n",
        "\n",
        "---\n",
        "\n",
        "## Clustering\n",
        "\n",
        "Como decíamos, el objetivo es dividir los datos en grupos de tal forma que los miembros de los grupos sean más parecido entre ellos (alta similaridad intra-cluster), que lo son con los otros grupos (baja similaridad entre-clusters). Es importante hacer notar que el clustering es un proceso cuyo resultado es interpretado de manera subjetiva. El agrupamiento resultante de un algoritmo puede ser un desastre en una aplicación y maravilloso en otra. Esta es otra diferencia con aprendizaje supervisado, donde siempre nos interesa que nuestro algoritmo realice predicciones de la manera más fiable. Cosas importantes a definir en clustering son: \n",
        "\n",
        "- ¿Cómo agrupar los datos?\n",
        "- ¿Cuándo consideramos que están relacionados?\n",
        "- ¿Cuántos grupos queremos?"
      ]
    },
    {
      "cell_type": "markdown",
      "metadata": {
        "id": "IviISmffB-IP",
        "colab_type": "text"
      },
      "source": [
        "\n",
        "\n",
        "---\n",
        "\n",
        "### Medidas de similitud\n",
        "\n",
        "Decidir cuando dos elementos son similares es complicado. Normalmente se usan instancias de la distancia de Minkowski:\n",
        "\n",
        "$ d(a, b) = \\sum_{i = 1}^{n}{(\\mid a_i - b_i \\mid^p})^{\\frac{1}{p}}$\n",
        "\n",
        "donde si:\n",
        "- $p = 2$ tenemos la distancia Euclídea, \n",
        "- $p = 1$ es la distancia Manhattan "
      ]
    },
    {
      "cell_type": "markdown",
      "metadata": {
        "id": "bcjmRQNNB-IP",
        "colab_type": "text"
      },
      "source": [
        "\n",
        "\n",
        "---\n",
        "\n",
        "### Tipos de Clustering\n",
        "\n",
        "Existen muchs algoritmos de clustering, entre ellos:\n",
        "\n",
        "- **Jerárquicos**, en ellos los datos se agrupan de manera arborescente. Pueden ser top-down (divisivos) o bottom-up (aglomerativos). Ejemplo: dendogramas por  estimación de distancias.\n",
        "\n",
        "- **No jerárquicos**, generan particiones a un sólo nivel, también llamados de particionado y recolocación. Ejemplo: k-means. \n",
        "\n",
        "- **Paramétricos**, asumen que las densidades de probabilidad de los grupos tienen cierta forma paramétrica conocida (Gaussiana, por ejemplo) y los métodos se reducen a estimar esos parámetros. También llamados probabilísticos, son un grupo dentro de los no jerárquicos. Ejemplo: Expectation Maximization (EM) para Gaussian Mixture Models (GMM).\n",
        "- **No paramétricos**, no asumen nada sobre el modo en el que se agrupan los datos. Son otro grupo dentro de los no jerárquicos. Ejemplo: k-means.\n",
        "\n",
        "- **Basados en densidades**, usan como criterio la densidad de puntos (zonas densas separadas por zonas menos densas). Son útiles cuando los clusters tienen formas irregulares, están entrelazados o hay ruido en los datos.\n",
        "\n",
        "- **Basados en rejillas**, Se usan en el caso en que los datos tienen estructuras de diversa granularidad. Consisten en dividir el espacio en rejillas a diferentes niveles.\n",
        "\n",
        "- **Basados en restricciones**, Son métodos en los que mediante la inclusión de restricciones, reglas en base a las cuales los datos pertenecen a un grupo o a otro, se forman los clusters.\n",
        "\n",
        "- **Algoritmos para Datos de Grandes Dimensiones**, entre ellos se encuentran el clustering subespacial y las técnicas de co-clustering.\n",
        "\n",
        "- **Métodos basados en co-ocurrencia**, se sustentan en la ocurrencia simultánea de algunos datos categóricos.\n"
      ]
    },
    {
      "cell_type": "markdown",
      "metadata": {
        "id": "YTKDUYV5B-IQ",
        "colab_type": "text"
      },
      "source": [
        "\n",
        "\n",
        "---\n",
        "\n",
        "## Clustering particional\n",
        "\n",
        "### K-medias\n",
        "\n",
        "K-Means es un método que permite crear *clusters* de datos numéricos (de una o varias dimensiones $x_1$, $x_2$, …, $x_n$). La entrada del sistema son las mediciones numéricas de interés y la salida son los centroides de los *clusters* resultantes y la asignación de cada dato a un *cluster* determinado.\n",
        "\n",
        "Un **centroide** es el punto que se encuentra en el centro de un *cluster*, calculado como la media de las coordenadas de todos los puntos de ese *cluster*. El número de centroides (k) es definido según convenga.\n",
        "Para definir la distancia entre puntos y entre centroides se suele utilizar la distancia euclídea.\n",
        "\n",
        "Veamos un ejemplo:"
      ]
    },
    {
      "cell_type": "code",
      "metadata": {
        "id": "Jw1_Q4ejB-IQ",
        "colab_type": "code",
        "colab": {
          "base_uri": "https://localhost:8080/",
          "height": 71
        },
        "outputId": "80d9bb05-fbb8-4212-c71d-9eac251091c5"
      },
      "source": [
        "%matplotlib inline\n",
        "import numpy as np\n",
        "import matplotlib.pyplot as plt\n",
        "plt.style.use('ggplot')\n",
        "import seaborn as sns\n",
        "sns.set(style=\"white\")"
      ],
      "execution_count": 1,
      "outputs": [
        {
          "output_type": "stream",
          "text": [
            "/usr/local/lib/python3.6/dist-packages/statsmodels/tools/_testing.py:19: FutureWarning: pandas.util.testing is deprecated. Use the functions in the public API at pandas.testing instead.\n",
            "  import pandas.util.testing as tm\n"
          ],
          "name": "stderr"
        }
      ]
    },
    {
      "cell_type": "code",
      "metadata": {
        "id": "5ttjVSMgB-IS",
        "colab_type": "code",
        "colab": {
          "base_uri": "https://localhost:8080/",
          "height": 697
        },
        "outputId": "0bd3799b-a227-43e3-e5b4-678c47528fc6"
      },
      "source": [
        "MAXN = 40\n",
        "np.random.randn(MAXN, 2)  # Normal random distribution, 40 rows 2 columns"
      ],
      "execution_count": 2,
      "outputs": [
        {
          "output_type": "execute_result",
          "data": {
            "text/plain": [
              "array([[-0.54628978,  1.71973239],\n",
              "       [-0.29929456,  0.14781228],\n",
              "       [-0.66313674, -0.25831664],\n",
              "       [ 1.26789517, -0.54025834],\n",
              "       [ 0.51360482,  0.01024666],\n",
              "       [-0.7421819 , -1.63261923],\n",
              "       [ 2.11612752,  1.07819041],\n",
              "       [-2.01350872,  0.17777142],\n",
              "       [-0.46219298,  0.30891322],\n",
              "       [-0.30900867,  0.68522287],\n",
              "       [ 0.67510038, -0.38605551],\n",
              "       [ 0.97249406, -1.71066516],\n",
              "       [ 1.42066339,  0.31021438],\n",
              "       [-0.06214411, -0.07347081],\n",
              "       [ 0.72201946,  0.16228487],\n",
              "       [-0.6665562 , -0.64377478],\n",
              "       [ 0.66569995, -0.2713283 ],\n",
              "       [ 0.86406485,  0.38540913],\n",
              "       [ 0.69480457, -0.98916698],\n",
              "       [-1.65148627,  0.19745779],\n",
              "       [-0.07424243, -0.15934632],\n",
              "       [ 1.19677653, -0.12509891],\n",
              "       [-0.63537322, -0.46754067],\n",
              "       [ 0.5645386 , -0.20629337],\n",
              "       [ 1.10841803, -1.34341087],\n",
              "       [-0.10301598, -1.24131496],\n",
              "       [ 0.0884388 , -2.26731319],\n",
              "       [-0.11270062,  0.64834511],\n",
              "       [ 0.21988213, -0.33667354],\n",
              "       [ 0.44244975,  1.86949532],\n",
              "       [ 1.05325404, -0.42080064],\n",
              "       [ 1.17374141,  2.24075101],\n",
              "       [ 0.44435881, -1.5936443 ],\n",
              "       [-0.13138182,  0.01022648],\n",
              "       [ 1.52387138,  0.12603379],\n",
              "       [-0.78328924,  0.15266838],\n",
              "       [ 0.48115082, -0.78304333],\n",
              "       [-1.61394496,  0.8839988 ],\n",
              "       [ 1.03431892, -0.94927028],\n",
              "       [ 1.41975603,  1.11930231]])"
            ]
          },
          "metadata": {
            "tags": []
          },
          "execution_count": 2
        }
      ]
    },
    {
      "cell_type": "markdown",
      "metadata": {
        "id": "iNZ5ws4nB-IU",
        "colab_type": "text"
      },
      "source": [
        "\n",
        "\n",
        "Para entender el método K-means vamos a generar un conjunto de datos ficticios a partir de tres distribuciones normales distintas. Luego vamos a obtener la solución con la biblioteca de machine learning Scikit-learn para posteriormente simular las primeras iteraciones del algorimo usando datos ficticios."
      ]
    },
    {
      "cell_type": "markdown",
      "metadata": {
        "id": "vOAYOUhKB-IV",
        "colab_type": "text"
      },
      "source": [
        "\n",
        "\n",
        "Generamos un conjunto de datos aleatorios a partir de tres distribuciones normales"
      ]
    },
    {
      "cell_type": "code",
      "metadata": {
        "id": "aSvl_OnDB-IV",
        "colab_type": "code",
        "colab": {}
      },
      "source": [
        "MAXN = 40\n",
        "np.random.seed(0)\n",
        "features = np.concatenate(\n",
        "    [1.25 * np.random.randn(MAXN, 2), 5 + 1.5 * np.random.randn(MAXN, 2)])\n",
        "features = np.concatenate([features, [8, 3] + 1 * np.random.randn(MAXN, 2)])"
      ],
      "execution_count": 3,
      "outputs": []
    },
    {
      "cell_type": "markdown",
      "metadata": {
        "id": "HeAAcO6AB-IY",
        "colab_type": "text"
      },
      "source": [
        "\n",
        "\n",
        "Por control guardamos la distribución a la que pertenece cada punto.\n",
        "En la práctica esto se descononce, y es lo que nos interesa descubrir."
      ]
    },
    {
      "cell_type": "code",
      "metadata": {
        "id": "IlaeeRiyB-IY",
        "colab_type": "code",
        "colab": {}
      },
      "source": [
        "group = np.concatenate([0 * np.ones((MAXN, 1)), np.ones((MAXN, 1))])\n",
        "group = np.concatenate([group, 2 * np.ones((MAXN, 1))])"
      ],
      "execution_count": 4,
      "outputs": []
    },
    {
      "cell_type": "markdown",
      "metadata": {
        "id": "RgPEDrxtB-Ia",
        "colab_type": "text"
      },
      "source": [
        "\n",
        "\n",
        "Visualizamos los datos\n",
        "El método ravel() convierte el array a unidimensional"
      ]
    },
    {
      "cell_type": "code",
      "metadata": {
        "id": "Ky_A11D2B-Ib",
        "colab_type": "code",
        "colab": {
          "base_uri": "https://localhost:8080/",
          "height": 302
        },
        "outputId": "e2fe29bd-2ea3-48e9-819b-2331c83f7f68"
      },
      "source": [
        "fig = plt.plot()\n",
        "plt.scatter(features[(group == 0).ravel(), 0],\n",
        "            features[(group == 0).ravel(), 1], color='r')\n",
        "plt.scatter(features[(group == 1).ravel(), 0],\n",
        "            features[(group == 1).ravel(), 1], color='b')\n",
        "plt.scatter(features[(group == 2).ravel(), 0],\n",
        "            features[(group == 2).ravel(), 1], color='g')\n",
        "plt.title(u'Original Data', size=14)"
      ],
      "execution_count": 5,
      "outputs": [
        {
          "output_type": "execute_result",
          "data": {
            "text/plain": [
              "Text(0.5, 1.0, 'Original Data')"
            ]
          },
          "metadata": {
            "tags": []
          },
          "execution_count": 5
        },
        {
          "output_type": "display_data",
          "data": {
            "image/png": "[encoded data removed]",
            "text/plain": [
              "<Figure size 432x288 with 1 Axes>"
            ]
          },
          "metadata": {
            "tags": [],
            "needs_background": "light"
          }
        }
      ]
    },
    {
      "cell_type": "markdown",
      "metadata": {
        "id": "kfH-HHeKB-Ie",
        "colab_type": "text"
      },
      "source": [
        "\n",
        "\n",
        "### Iteración 1"
      ]
    },
    {
      "cell_type": "markdown",
      "metadata": {
        "id": "eL6RKm2IB-Ie",
        "colab_type": "text"
      },
      "source": [
        "\n",
        "\n",
        "Podemos simular proceso de convergencia de K-means paso a paso. Primero elegiriamos unos centroides y asociariamos todos los datos al centro más cercano."
      ]
    },
    {
      "cell_type": "code",
      "metadata": {
        "id": "W20YpWunB-If",
        "colab_type": "code",
        "colab": {}
      },
      "source": [
        "from scipy.spatial.distance import cdist"
      ],
      "execution_count": 6,
      "outputs": []
    },
    {
      "cell_type": "code",
      "metadata": {
        "id": "2wbBJoThB-Ih",
        "colab_type": "code",
        "colab": {}
      },
      "source": [
        "K =  3 # Number of cluster\n",
        "\n",
        "# 1. We select as initial centroids the first three elements of the dataset.\n",
        "\n",
        "centroids  = features[:3,:] "
      ],
      "execution_count": 7,
      "outputs": []
    },
    {
      "cell_type": "markdown",
      "metadata": {
        "id": "7UiHrRnoB-Ii",
        "colab_type": "text"
      },
      "source": [
        "\n",
        "\n",
        "2. Calculamos la distancia (Euclídea) a los centroides"
      ]
    },
    {
      "cell_type": "code",
      "metadata": {
        "id": "WdEoz2EvB-Ij",
        "colab_type": "code",
        "colab": {
          "base_uri": "https://localhost:8080/",
          "height": 1000
        },
        "outputId": "63b72bfe-9f2a-462c-ade0-2d2874b34222"
      },
      "source": [
        "Y = cdist(features, centroids, 'euclidean')\n",
        "Y # Shows an array with as many rows as features, and as many columns as centroids\n",
        "# Each row shows the distance from each item to each of the centroids."
      ],
      "execution_count": 8,
      "outputs": [
        {
          "output_type": "execute_result",
          "data": {
            "text/plain": [
              "array([[ 0.        ,  2.50157064,  1.72664814],\n",
              "       [ 2.50157064,  0.        ,  4.17332041],\n",
              "       [ 1.72664814,  4.17332041,  0.        ],\n",
              "       [ 1.22901474,  2.99052744,  1.54307696],\n",
              "       [ 2.33412549,  2.65771556,  3.01303476],\n",
              "       [ 2.41595918,  1.4336826 ,  3.72553354],\n",
              "       [ 1.30119576,  2.66296331,  1.94939276],\n",
              "       [ 1.65232756,  2.47600195,  2.41916258],\n",
              "       [ 0.8284892 ,  3.12468603,  1.07212931],\n",
              "       [ 2.39742925,  3.95720732,  1.94920412],\n",
              "       [ 5.40559544,  4.84002549,  5.88975093],\n",
              "       [ 1.8175401 ,  3.73155908,  1.28788306],\n",
              "       [ 2.40279457,  4.89286185,  0.77999889],\n",
              "       [ 2.26987858,  3.25144411,  2.48218713],\n",
              "       [ 1.36741044,  1.18732042,  3.08679337],\n",
              "       [ 2.01156904,  2.54595159,  2.73011379],\n",
              "       [ 4.45484036,  5.76988064,  3.66549977],\n",
              "       [ 2.65748838,  3.08861954,  3.11082228],\n",
              "       [ 1.2044596 ,  1.33568144,  2.83863343],\n",
              "       [ 2.82894699,  3.6085789 ,  2.94217631],\n",
              "       [ 4.18773996,  5.23094443,  3.68691136],\n",
              "       [ 4.75124248,  3.37579556,  5.77518179],\n",
              "       [ 3.02912022,  3.83083137,  3.04699357],\n",
              "       [ 3.80044208,  3.33571791,  4.47489815],\n",
              "       [ 4.29137777,  4.46200589,  4.45551843],\n",
              "       [ 3.32443992,  3.29533861,  3.85180412],\n",
              "       [ 3.46271923,  4.66462329,  2.98380109],\n",
              "       [ 2.24057002,  2.5918342 ,  2.94999199],\n",
              "       [ 2.12542934,  2.67792593,  2.76176668],\n",
              "       [ 3.14598302,  3.82852671,  3.22031135],\n",
              "       [ 3.19025725,  3.85048242,  3.2675673 ],\n",
              "       [ 4.17651526,  5.44135396,  3.47922034],\n",
              "       [ 2.22222   ,  3.45186255,  2.23178124],\n",
              "       [ 4.24353546,  3.94656245,  4.72825162],\n",
              "       [ 3.36743738,  3.61174854,  3.69947808],\n",
              "       [ 1.3373723 ,  2.65826803,  1.98428239],\n",
              "       [ 2.18780684,  4.34928787,  0.96545326],\n",
              "       [ 2.17636813,  3.72742633,  1.86765075],\n",
              "       [ 3.51356441,  4.21524948,  3.45898601],\n",
              "       [ 2.62989603,  3.17162356,  3.01468478],\n",
              "       [ 5.94401843,  4.08896301,  7.62825466],\n",
              "       [ 4.12601365,  4.47631417,  5.16347865],\n",
              "       [ 8.89960014,  7.8445234 , 10.30396853],\n",
              "       [ 6.22206628,  5.87071073,  7.42164016],\n",
              "       [ 6.19658543,  4.35929917,  7.87486369],\n",
              "       [ 6.70146976,  5.13048345,  8.31469404],\n",
              "       [ 6.72562204,  5.49031672,  8.24326495],\n",
              "       [ 6.48037963,  5.40418584,  7.95363257],\n",
              "       [ 7.70923981,  6.17847883,  9.29551282],\n",
              "       [ 5.9118925 ,  4.85665725,  7.39805339],\n",
              "       [ 6.14181461,  6.60368265,  6.91251128],\n",
              "       [ 6.01993332,  4.10418472,  7.71320867],\n",
              "       [ 7.4871527 ,  5.49764275,  9.18182428],\n",
              "       [ 4.01790474,  3.33507374,  5.49515849],\n",
              "       [ 8.79892759,  7.99388214, 10.10325299],\n",
              "       [ 8.10213767,  7.47850186,  9.3463024 ],\n",
              "       [ 7.51671892,  5.64072963,  9.18994625],\n",
              "       [ 6.18513443,  4.79220293,  7.76263222],\n",
              "       [ 5.99856858,  5.5569909 ,  7.25038066],\n",
              "       [ 6.95845378,  5.90766142,  8.40825956],\n",
              "       [ 4.4060451 ,  4.37589024,  5.59837957],\n",
              "       [ 7.25427732,  5.94851594,  8.7814362 ],\n",
              "       [ 4.62081499,  3.37299649,  6.21306355],\n",
              "       [ 7.58259437,  5.87255934,  9.21793613],\n",
              "       [ 6.37086783,  5.54913882,  7.75791578],\n",
              "       [ 5.55624448,  3.98997903,  7.19094386],\n",
              "       [ 4.88475663,  3.56272405,  6.48386899],\n",
              "       [ 5.81369821,  4.27727068,  7.4359584 ],\n",
              "       [ 5.56131577,  5.01017206,  6.88346149],\n",
              "       [ 4.43460866,  4.4062277 ,  5.62312358],\n",
              "       [ 5.18898589,  3.24632828,  6.8940249 ],\n",
              "       [ 6.2449833 ,  5.11321075,  7.74395607],\n",
              "       [ 8.69354383,  8.19232059,  9.86330806],\n",
              "       [ 6.33776766,  4.56139703,  8.0028105 ],\n",
              "       [ 3.89495299,  2.34932938,  5.57231691],\n",
              "       [ 7.56520094,  6.02015289,  9.15764026],\n",
              "       [ 3.6665475 ,  2.82714753,  5.21702281],\n",
              "       [ 4.39204811,  3.82331244,  5.80127013],\n",
              "       [ 5.32992348,  5.49710748,  6.33609341],\n",
              "       [ 3.99025223,  2.56959174,  5.64442592],\n",
              "       [ 6.90479438,  6.62950081,  8.03365773],\n",
              "       [ 7.22362332,  7.73130616,  7.89472188],\n",
              "       [ 5.66248805,  5.64832194,  6.73636348],\n",
              "       [ 4.88890778,  5.93108534,  5.37873309],\n",
              "       [ 7.52966466,  7.98129352,  8.22009339],\n",
              "       [ 7.28326841,  7.71482   ,  7.99971033],\n",
              "       [ 6.90390902,  7.64678705,  7.4357558 ],\n",
              "       [ 5.72586055,  5.80944482,  6.7446512 ],\n",
              "       [ 5.30964588,  5.99328688,  6.00964168],\n",
              "       [ 5.90304382,  6.32474686,  6.71670143],\n",
              "       [ 5.55599925,  6.5293733 ,  6.02627983],\n",
              "       [ 5.15872614,  6.45847252,  5.40486838],\n",
              "       [ 6.48262904,  7.53363616,  6.81439294],\n",
              "       [ 5.33983281,  5.67774711,  6.25054474],\n",
              "       [ 6.47311052,  6.2832916 ,  7.58261984],\n",
              "       [ 5.28433404,  5.5034795 ,  6.26645272],\n",
              "       [ 5.90770502,  6.80665174,  6.4014683 ],\n",
              "       [ 6.73354101,  7.29990537,  7.39625039],\n",
              "       [ 7.35977258,  7.61729198,  8.17877955],\n",
              "       [ 8.8345864 ,  9.07070853,  9.60118147],\n",
              "       [ 5.87778111,  6.40752365,  6.62643221],\n",
              "       [ 7.58220798,  7.92241621,  8.33977631],\n",
              "       [ 6.49534412,  7.55105971,  6.82244879],\n",
              "       [ 6.03355322,  6.77374186,  6.63013351],\n",
              "       [ 6.53236952,  7.05722108,  7.23543454],\n",
              "       [ 7.272837  ,  7.70406291,  7.99006198],\n",
              "       [ 6.88822681,  7.567636  ,  7.46512728],\n",
              "       [ 5.2815062 ,  5.8359529 ,  6.06767994],\n",
              "       [ 6.45543764,  6.78422707,  7.28510858],\n",
              "       [ 8.42082969,  9.03724383,  8.95937016],\n",
              "       [ 5.29667518,  5.82249095,  6.09924577],\n",
              "       [ 6.10829201,  6.34953797,  7.01279561],\n",
              "       [ 4.96658746,  5.24233896,  5.94757325],\n",
              "       [ 6.54854111,  6.94647185,  7.33024648],\n",
              "       [ 5.66845192,  6.17938476,  6.44644802],\n",
              "       [ 4.8094192 ,  5.36060881,  5.64715007],\n",
              "       [ 6.00720181,  6.2639731 ,  6.91011844],\n",
              "       [ 5.68181246,  5.70520823,  6.73516005],\n",
              "       [ 7.30208018,  8.48006419,  7.47633374],\n",
              "       [ 6.98532334,  7.25588457,  7.81700193]])"
            ]
          },
          "metadata": {
            "tags": []
          },
          "execution_count": 8
        }
      ]
    },
    {
      "cell_type": "markdown",
      "metadata": {
        "id": "97TSU7bYB-Il",
        "colab_type": "text"
      },
      "source": [
        "\n",
        "\n",
        "3. Asignamos cada punto a un cluster basado en la distancia anterior"
      ]
    },
    {
      "cell_type": "code",
      "metadata": {
        "id": "D8z5VZl3B-Il",
        "colab_type": "code",
        "colab": {
          "base_uri": "https://localhost:8080/",
          "height": 119
        },
        "outputId": "fd1b9ac1-2d28-4617-b596-f0fe94232ab1"
      },
      "source": [
        "clusters = np.argmin(Y,axis = 1)\n",
        "clusters"
      ],
      "execution_count": 9,
      "outputs": [
        {
          "output_type": "execute_result",
          "data": {
            "text/plain": [
              "array([0, 1, 2, 0, 0, 1, 0, 0, 0, 2, 1, 2, 2, 0, 1, 0, 2, 0, 0, 0, 2, 1,\n",
              "       0, 1, 0, 1, 2, 0, 0, 0, 0, 2, 0, 1, 0, 0, 2, 2, 2, 0, 1, 0, 1, 1,\n",
              "       1, 1, 1, 1, 1, 1, 0, 1, 1, 1, 1, 1, 1, 1, 1, 1, 1, 1, 1, 1, 1, 1,\n",
              "       1, 1, 1, 1, 1, 1, 1, 1, 1, 1, 1, 1, 0, 1, 1, 0, 1, 0, 0, 0, 0, 0,\n",
              "       0, 0, 0, 0, 0, 0, 1, 0, 0, 0, 0, 0, 0, 0, 0, 0, 0, 0, 0, 0, 0, 0,\n",
              "       0, 0, 0, 0, 0, 0, 0, 0, 0, 0])"
            ]
          },
          "metadata": {
            "tags": []
          },
          "execution_count": 9
        }
      ]
    },
    {
      "cell_type": "code",
      "metadata": {
        "id": "PxRuDVQqB-Io",
        "colab_type": "code",
        "colab": {
          "base_uri": "https://localhost:8080/",
          "height": 302
        },
        "outputId": "975b41d9-c86a-4fd8-e771-f0fa19db22ca"
      },
      "source": [
        "# We visualize the original data\n",
        "\n",
        "f, (ax1, ax2) = plt.subplots(1,2, sharey = True)\n",
        "ax1.scatter(features[(group == 0).ravel(),0],features[(group == 0).ravel(),1],color='r')\n",
        "ax1.scatter(features[(group == 1).ravel(),0],features[(group == 1).ravel(),1],color='b')\n",
        "ax1.scatter(features[(group == 2).ravel(),0],features[(group == 2).ravel(),1],color='g')\n",
        "ax1.set_title('Original data',size=14)\n",
        "\n",
        "# We visualize the results obtained so far\n",
        "\n",
        "ax2.scatter(features[(clusters == 0).ravel(),0],features[(clusters == 0).ravel(),1],color='b')\n",
        "ax2.scatter(features[(clusters == 1).ravel(),0],features[(clusters == 1).ravel(),1],color='g')\n",
        "ax2.scatter(features[(clusters == 2).ravel(),0],features[(clusters == 2).ravel(),1],color='r')\n",
        "ax2.plot(centroids[:,0],centroids[:,1],'k+', linewidth=2,zorder=10,markeredgewidth =10) # Here we color the centroids to stand out\n",
        "ax2.set_title(u'First iteration',size=14)\n",
        "\n",
        "# This code is for drawing the colored zones\n",
        "x = np.linspace(-5,15,200)\n",
        "XX,YY = np.meshgrid(x,x)\n",
        "sz = XX.shape\n",
        "data = np.c_[XX.ravel(),YY.ravel()]\n",
        "Y = cdist(data, centroids, 'euclidean')\n",
        "Z = np.argmin(Y,axis = 1)\n",
        "\n",
        "ax2.imshow(Z.reshape(sz), interpolation='bilinear', origin='lower', extent=(-5,15,-5,15),alpha=0.3, vmin=0, vmax=K-1)"
      ],
      "execution_count": 10,
      "outputs": [
        {
          "output_type": "execute_result",
          "data": {
            "text/plain": [
              "<matplotlib.image.AxesImage at 0x7f0e4e1be390>"
            ]
          },
          "metadata": {
            "tags": []
          },
          "execution_count": 10
        },
        {
          "output_type": "display_data",
          "data": {
            "image/png": "[encoded data removed]",
            "text/plain": [
              "<Figure size 432x288 with 2 Axes>"
            ]
          },
          "metadata": {
            "tags": [],
            "needs_background": "light"
          }
        }
      ]
    },
    {
      "cell_type": "markdown",
      "metadata": {
        "id": "JBYrCfiXB-Iq",
        "colab_type": "text"
      },
      "source": [
        "\n",
        "\n",
        "Calculamos los nuevos centroides"
      ]
    },
    {
      "cell_type": "markdown",
      "metadata": {
        "id": "qbRfHmg1B-Iq",
        "colab_type": "text"
      },
      "source": [
        "\n",
        "\n",
        "4. Actualizamos los centroides"
      ]
    },
    {
      "cell_type": "code",
      "metadata": {
        "id": "YNBc1tVnB-Iq",
        "colab_type": "code",
        "colab": {}
      },
      "source": [
        "for i in range(K):\n",
        "    centroids[i,:] = np.mean(features[clusters == i,:],axis = 0)"
      ],
      "execution_count": 11,
      "outputs": []
    },
    {
      "cell_type": "code",
      "metadata": {
        "id": "hH0tWdWGB-Iu",
        "colab_type": "code",
        "colab": {
          "base_uri": "https://localhost:8080/",
          "height": 302
        },
        "outputId": "f244f701-f006-4ec8-95eb-c774a86a1bc1"
      },
      "source": [
        "f, (ax1, ax2) = plt.subplots(1,2, sharey = True)\n",
        "ax1.scatter(features[(group == 0).ravel(),0],features[(group == 0).ravel(),1],color='r')\n",
        "ax1.scatter(features[(group == 1).ravel(),0],features[(group == 1).ravel(),1],color='b')\n",
        "ax1.scatter(features[(group == 2).ravel(),0],features[(group == 2).ravel(),1],color='g')\n",
        "ax1.set_title('Original Data',size=14)\n",
        "\n",
        "# We visualize the new centroids\n",
        "\n",
        "ax2.scatter(features[(clusters == 0).ravel(),0],features[(clusters == 0).ravel(),1],color='b')\n",
        "ax2.scatter(features[(clusters == 1).ravel(),0],features[(clusters == 1).ravel(),1],color='g')\n",
        "ax2.scatter(features[(clusters == 2).ravel(),0],features[(clusters == 2).ravel(),1],color='r')\n",
        "ax2.plot(centroids[:,0],centroids[:,1],'k+', linewidth=2,zorder=10,markeredgewidth =10)\n",
        "ax2.set_title(u'New centroids',size=14)\n",
        "\n",
        "x = np.linspace(-5,15,200)\n",
        "XX,YY = np.meshgrid(x,x)\n",
        "sz = XX.shape\n",
        "data = np.c_[XX.ravel(),YY.ravel()]\n",
        "Y = cdist(data, centroids, 'euclidean')\n",
        "Z = np.argmin(Y,axis = 1)\n",
        "\n",
        "ax2.imshow(Z.reshape(sz), interpolation='bilinear', origin='lower', extent=(-5,15,-5,15),alpha=0.3, vmin=0, vmax=K-1)"
      ],
      "execution_count": 12,
      "outputs": [
        {
          "output_type": "execute_result",
          "data": {
            "text/plain": [
              "<matplotlib.image.AxesImage at 0x7f0e4e08c8d0>"
            ]
          },
          "metadata": {
            "tags": []
          },
          "execution_count": 12
        },
        {
          "output_type": "display_data",
          "data": {
            "image/png": "[encoded data removed]",
            "text/plain": [
              "<Figure size 432x288 with 2 Axes>"
            ]
          },
          "metadata": {
            "tags": [],
            "needs_background": "light"
          }
        }
      ]
    },
    {
      "cell_type": "markdown",
      "metadata": {
        "id": "WmvlLJ3fB-Iw",
        "colab_type": "text"
      },
      "source": [
        "\n",
        "\n",
        "### Iteración 2"
      ]
    },
    {
      "cell_type": "markdown",
      "metadata": {
        "id": "YYY-cBnLB-Iw",
        "colab_type": "text"
      },
      "source": [
        "\n",
        "\n",
        "Con los nuevos centroides repetimos la asignación de puntos a los centros más cercanos."
      ]
    },
    {
      "cell_type": "markdown",
      "metadata": {
        "id": "YpTL47nUB-Iw",
        "colab_type": "text"
      },
      "source": [
        "\n",
        "\n",
        "Recalculamos los clusters"
      ]
    },
    {
      "cell_type": "code",
      "metadata": {
        "id": "ATCVwWv1B-Iw",
        "colab_type": "code",
        "colab": {}
      },
      "source": [
        "Y = cdist(features, centroids, 'euclidean')\n",
        "clusters = np.argmin(Y,axis = 1)"
      ],
      "execution_count": 13,
      "outputs": []
    },
    {
      "cell_type": "markdown",
      "metadata": {
        "id": "yYQtu4yAB-I0",
        "colab_type": "text"
      },
      "source": [
        "\n",
        "\n",
        "Visualizamos los datos originales"
      ]
    },
    {
      "cell_type": "code",
      "metadata": {
        "id": "SvUZi0X1B-I0",
        "colab_type": "code",
        "colab": {
          "base_uri": "https://localhost:8080/",
          "height": 302
        },
        "outputId": "84d93ff3-cb21-47ee-c746-ac106d1170c1"
      },
      "source": [
        "f, (ax1, ax2) = plt.subplots(1,2, sharey = True)\n",
        "ax1.scatter(features[(group == 0).ravel(),0],features[(group == 0).ravel(),1],color='r')\n",
        "ax1.scatter(features[(group == 1).ravel(),0],features[(group == 1).ravel(),1],color='b')\n",
        "ax1.scatter(features[(group == 2).ravel(),0],features[(group == 2).ravel(),1],color='g')\n",
        "ax1.set_title('Original data',size=14)\n",
        "\n",
        "# We visualize the results obtained so far\n",
        "\n",
        "ax2.scatter(features[(clusters == 0).ravel(),0],features[(clusters == 0).ravel(),1],color='b')\n",
        "ax2.scatter(features[(clusters == 1).ravel(),0],features[(clusters == 1).ravel(),1],color='g')\n",
        "ax2.scatter(features[(clusters == 2).ravel(),0],features[(clusters == 2).ravel(),1],color='r')\n",
        "ax2.plot(centroids[:,0],centroids[:,1],'k+', linewidth=2,zorder=10,markeredgewidth =10)\n",
        "ax2.set_title(u'Second iteration',size=14)\n",
        "\n",
        "x = np.linspace(-5,15,200)\n",
        "XX,YY = np.meshgrid(x,x)\n",
        "sz = XX.shape\n",
        "data = np.c_[XX.ravel(),YY.ravel()]\n",
        "Y = cdist(data, centroids, 'euclidean')\n",
        "Z = np.argmin(Y,axis = 1)\n",
        "\n",
        "ax2.imshow(Z.reshape(sz), interpolation='bilinear', origin='lower', extent=(-5,15,-5,15),alpha=0.3, vmin=0, vmax=K-1)"
      ],
      "execution_count": 14,
      "outputs": [
        {
          "output_type": "execute_result",
          "data": {
            "text/plain": [
              "<matplotlib.image.AxesImage at 0x7f0e4e008f28>"
            ]
          },
          "metadata": {
            "tags": []
          },
          "execution_count": 14
        },
        {
          "output_type": "display_data",
          "data": {
            "image/png": "[encoded data removed]",
            "text/plain": [
              "<Figure size 432x288 with 2 Axes>"
            ]
          },
          "metadata": {
            "tags": [],
            "needs_background": "light"
          }
        }
      ]
    },
    {
      "cell_type": "markdown",
      "metadata": {
        "id": "mmy69YbpB-I2",
        "colab_type": "text"
      },
      "source": [
        "\n",
        "\n",
        "Repetimos estos dos procesos hasta converger."
      ]
    },
    {
      "cell_type": "markdown",
      "metadata": {
        "id": "cmhfR8iFB-I2",
        "colab_type": "text"
      },
      "source": [
        "\n",
        "\n",
        "### Scikit-learn. K-means\n",
        "\n",
        "La librería de machine learning Scikit-learn también nos permite hacer clustering usando el algoritmo K-means del módulo `cluster`. Vamos a resolver el ejemplo anterior usando el método de esta librería."
      ]
    },
    {
      "cell_type": "code",
      "metadata": {
        "id": "pYSbOzxVB-I2",
        "colab_type": "code",
        "colab": {
          "base_uri": "https://localhost:8080/",
          "height": 221
        },
        "outputId": "5aed9d06-f656-40ce-a2b5-c691d90eda98"
      },
      "source": [
        "from sklearn import cluster\n",
        "\n",
        "K = 3  # Number of clusters. This is a hyperparameter of the algorithm\n",
        "\n",
        "# Create model instance\n",
        "clf = cluster.KMeans(init='random', n_clusters=K, random_state=0)\n",
        "\n",
        "clf.fit(features)  # Train the clustering model\n",
        "\n",
        "clusters = clf.predict(features)\n",
        "centroids = clf.cluster_centers_\n",
        "\n",
        "print(clf, clusters, centroids, sep='\\n\\n')"
      ],
      "execution_count": 15,
      "outputs": [
        {
          "output_type": "stream",
          "text": [
            "KMeans(algorithm='auto', copy_x=True, init='random', max_iter=300, n_clusters=3,\n",
            "       n_init=10, n_jobs=None, precompute_distances='auto', random_state=0,\n",
            "       tol=0.0001, verbose=0)\n",
            "\n",
            "[2 0 1 1 1 1 1 1 1 1 1 1 1 1 1 1 1 1 1 1 1 1 1 1 1 1 1 1 1 1 1 1 1 1 1 1 1\n",
            " 1 1 1 0 2 0 2 0 0 0 0 0 0 2 0 0 0 0 0 0 0 0 0 2 0 0 0 0 0 0 0 0 2 0 0 2 0\n",
            " 0 0 0 0 2 0 2 2 2 2 2 2 2 2 2 2 2 2 2 2 2 2 2 2 2 2 2 2 2 2 2 2 2 2 2 2 2\n",
            " 2 2 2 2 2 2 2 2 2]\n",
            "\n",
            "[[ 4.69299887  6.01459799]\n",
            " [-0.15519534 -0.16179386]\n",
            " [ 7.72483256  3.01686642]]\n"
          ],
          "name": "stdout"
        }
      ]
    },
    {
      "cell_type": "markdown",
      "metadata": {
        "id": "VTGX1H-kB-I4",
        "colab_type": "text"
      },
      "source": [
        "\n",
        "\n",
        "Visualizamos los resultados y comparamos con los valores reales"
      ]
    },
    {
      "cell_type": "code",
      "metadata": {
        "id": "YvKxnjzPB-I4",
        "colab_type": "code",
        "colab": {
          "base_uri": "https://localhost:8080/",
          "height": 302
        },
        "outputId": "d117e30e-a4cc-4067-ecc2-204f3f4ce2c8"
      },
      "source": [
        "# Original data\n",
        "f, (ax1, ax2) = plt.subplots(1, 2, sharey=True)\n",
        "ax1.scatter(features[(group == 0).ravel(), 0],\n",
        "            features[(group == 0).ravel(), 1], color='r')\n",
        "ax1.scatter(features[(group == 1).ravel(), 0],\n",
        "            features[(group == 1).ravel(), 1], color='b')\n",
        "ax1.scatter(features[(group == 2).ravel(), 0],\n",
        "            features[(group == 2).ravel(), 1], color='g')\n",
        "ax1.set_title('Original data', size=14)\n",
        "\n",
        "# K-means\n",
        "ax2.scatter(features[(clusters == 0).ravel(), 0],\n",
        "            features[(clusters == 0).ravel(), 1], color='b')\n",
        "ax2.scatter(features[(clusters == 1).ravel(), 0],\n",
        "            features[(clusters == 1).ravel(), 1], color='g')\n",
        "ax2.scatter(features[(clusters == 2).ravel(), 0],\n",
        "            features[(clusters == 2).ravel(), 1], color='r')\n",
        "ax2.plot(centroids[:, 0], centroids[:, 1], 'k+',\n",
        "         linewidth=2, zorder=10, markeredgewidth=10)\n",
        "ax2.set_title(u'K-means results', size=14)\n",
        "\n",
        "x = np.linspace(-5, 15, 200)\n",
        "XX, YY = np.meshgrid(x, x)\n",
        "sz = XX.shape\n",
        "data = np.c_[XX.ravel(), YY.ravel()]\n",
        "\n",
        "# We predict/assign a cluster to each new observation/point\n",
        "Z = clf.predict(data)\n",
        "\n",
        "ax2.imshow(Z.reshape(sz), interpolation='bilinear', origin='lower',\n",
        "           extent=(-5, 15, -5, 15), alpha=0.3, vmin=0, vmax=K - 1)"
      ],
      "execution_count": 16,
      "outputs": [
        {
          "output_type": "execute_result",
          "data": {
            "text/plain": [
              "<matplotlib.image.AxesImage at 0x7f0e48337240>"
            ]
          },
          "metadata": {
            "tags": []
          },
          "execution_count": 16
        },
        {
          "output_type": "display_data",
          "data": {
            "image/png": "[encoded data removed]",
            "text/plain": [
              "<Figure size 432x288 with 2 Axes>"
            ]
          },
          "metadata": {
            "tags": [],
            "needs_background": "light"
          }
        }
      ]
    },
    {
      "cell_type": "markdown",
      "metadata": {
        "id": "5vaah9-3B-I6",
        "colab_type": "text"
      },
      "source": [
        "\n",
        "\n",
        "---\n",
        "\n",
        "### Selección del número de clusters. Técnica del codo\n",
        "\n",
        "Elegir el número de clusters a priori puede ser adecuado para algunas apliaciones, pero no para todas. Si no se quiere recurrir a la selección manual, se puede aplicar la técnica del codo. Para ello hay que definir una noción de compacticidad.\n",
        "\n",
        "Como medida de compacticidad se suele usar distancia intracluster conocida como *Within Sum of Squares (WSS)*. WWS se define como la suma de los cuadrados de la distancia de cada punto de un cluster a su centroide. Esta magnitud nos dará una medida de lo bien o mal que los *clusters* obtenidos representan a los datos, y se expresa como:\n",
        "\n",
        "$WSS = \\sum_{i = 1}^{K}\\sum_{j = 1}^{n_i}{\\mid x_{ij} - c_i\\mid}^2$\n",
        "\n",
        "donde:\n",
        "\n",
        "- $K$, es el número de centroides\n",
        "- $n_i$, es el número de elementos que pertenecen al centroide $i$\n",
        "- $c_i$, centroide del cluster $i$\n",
        "- $x_{ij}$, elemento $j$ del cluster $i$\n",
        "\n",
        "Para seleccionar el valor de K adecuado, se calcula el WSS obtenido al ejecutar el algoritmo K-means con distintos valores de K y se representa gráficamente. A partir de la figura se selecciona el valor de K a partir del cual la pendiente de la curva es cercana a cero.  \n",
        "\n",
        "Hagamos ese análisis de distancias con el ejemplo anterior, analizando las distancias al incrementar el número de clusters."
      ]
    },
    {
      "cell_type": "code",
      "metadata": {
        "id": "47b8XAMhB-I6",
        "colab_type": "code",
        "colab": {
          "base_uri": "https://localhost:8080/",
          "height": 318
        },
        "outputId": "41083683-d455-41fb-e549-f4adfd365804"
      },
      "source": [
        "from scipy.spatial import distance\n",
        "from sklearn import cluster\n",
        "\n",
        "d = []\n",
        "for K in range(2, 10):\n",
        "\n",
        "    clf = cluster.KMeans(init='random', n_clusters=K, random_state=0)\n",
        "    clf.fit(features)\n",
        "    \n",
        "    # We do iterations with several numbers of clusters, to calculate the WSS for each one\n",
        "    clusters = clf.predict(features)\n",
        "\n",
        "    p = []\n",
        "    for i in range(K):\n",
        "        p.append(np.sum(distance.cdist(features[clusters == i, :], [\n",
        "                 clf.cluster_centers_[i]], 'euclidean')))\n",
        "        # 1. We calculate the distance of the data belonging to each cluster with its corresponding centroid.\n",
        "        # 2. We make the sum for all the data that belong to that centroid.\n",
        "        # 3. It is added again for all the centroids that there are.\n",
        "    d.append(np.sum(p))\n",
        "\n",
        "\n",
        "plt.plot(np.arange(2, 10), d)\n",
        "plt.ylabel(u'Intracluster distance (WSS)')\n",
        "plt.xlabel(u'Number of clusters (K)')\n",
        "plt.title(u'Selection number of clusters')\n",
        "\n",
        "plt.axvline(x=3, linestyle='--', c='gray', alpha=0.8)"
      ],
      "execution_count": 17,
      "outputs": [
        {
          "output_type": "execute_result",
          "data": {
            "text/plain": [
              "<matplotlib.lines.Line2D at 0x7f0e482bb518>"
            ]
          },
          "metadata": {
            "tags": []
          },
          "execution_count": 17
        },
        {
          "output_type": "display_data",
          "data": {
            "image/png": "[encoded data removed]",
            "text/plain": [
              "<Figure size 432x288 with 1 Axes>"
            ]
          },
          "metadata": {
            "tags": [],
            "needs_background": "light"
          }
        }
      ]
    },
    {
      "cell_type": "markdown",
      "metadata": {
        "id": "HYe5cUVIB-I8",
        "colab_type": "text"
      },
      "source": [
        "\n",
        "\n",
        "En la figura anterior se observa que la diferencia de WSS disminuye a partir de K igual a tres. Podemos seleccionar k = 3 ó k = 4 y realizar un análisis más detallado basado en conocimiento experto de los datos.\n",
        "\n",
        "En general este proceso no es sencillo y hay que tener en cuenta que K-medias es muy sensible a diferencias en las varianzas de las características y a características medidas en escalas muy distintas."
      ]
    },
    {
      "cell_type": "markdown",
      "metadata": {
        "id": "ERtiqCMWB-I8",
        "colab_type": "text"
      },
      "source": [
        "\n",
        "\n",
        "---\n",
        "\n",
        "### Recomendaciones para K-means\n",
        "\n",
        "Nuestra recomendación es normalizar las variables antes de hacer K-medias. La normalización más sencilla y que incrementaría la eficacia del algoritmo sería:\n",
        "\n",
        "1. Calcular la media y la desviación típica de cada variable\n",
        "2. Restar a cada variable su media y dividirla por la desviación típica\n",
        "\n",
        "Con esto conseguimos que todas las variables tengan media igual a cero y desviación típica igual a uno. Distintas normalizaciones tienen distintos problemas:\n",
        "\n",
        "- Normalizar cada variable entre el máximo y el mínimo de cada variable: Cuando se normalizan los datos entre sus límites empíricos, el ruido de la señal puede verse amplificado. Por ejemplo, una señal plana con algo de ruido, resultaría en una señal normalizada donde el ruido ha sido ampliamente amplificado.\n",
        "\n",
        "- Estandarizar (Z-score, restar la media y dividir por la desviación típica): Los outliers pueden atenuar la señal debido a la sensibilidad de la media y de la desviación típica a outliers. Imagina una señal senoidal con un outlier muy grande. Cuando la señal se normalice, la senoidal se atenuará tanto que no se apreciará, ya que la desviación típica será muy grande. \n",
        "\n",
        "- Normalizar cada variable entre el máximo y el mínimo de todas las variables: Se pueden producir los dos problemas anteriores.\n",
        "\n",
        "- Normalización entre los límites físicos de la variable: Esta normalización implica que el analista tiene un conocimiento previo de los límites de cada característica. En algunos casos esto puede no ser cierto. Incluso aunque se supiesen, si la variable no tiene valores en todo el rango permitido, cuando la señal sea normalizada, se atenuarán los valores, perdiendo información\n",
        "\n",
        "\n",
        "Otras recomendaciones serían: inicializar los centros con el resultado de otro algoritmo de clustering, o inicializar los centros usando como centro datos del dataset, en vez de puntos aleatorios.\n"
      ]
    }
  ]
}