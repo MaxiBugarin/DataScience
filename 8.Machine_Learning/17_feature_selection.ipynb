{
  "nbformat": 4,
  "nbformat_minor": 0,
  "metadata": {
    "language_info": {
      "pygments_lexer": "ipython3",
      "file_extension": ".py",
      "codemirror_mode": {
        "version": 3,
        "name": "ipython"
      },
      "nbconvert_exporter": "python",
      "version": "3.7.1",
      "mimetype": "text/x-python",
      "name": "python"
    },
    "kernelspec": {
      "display_name": "Python 3",
      "language": "python",
      "name": "python3"
    },
    "colab": {
      "name": "16_feature_selection.ipynb",
      "provenance": [],
      "include_colab_link": true
    }
  },
  "cells": [
    {
      "cell_type": "markdown",
      "metadata": {
        "id": "view-in-github",
        "colab_type": "text"
      },
      "source": [
        "<a href=\"https://colab.research.google.com/github/al34n1x/DataScience/blob/master/99.Machine_Learning/17_feature_selection.ipynb\" target=\"_parent\"><img src=\"https://colab.research.google.com/assets/colab-badge.svg\" alt=\"Open In Colab\"/></a>"
      ]
    },
    {
      "cell_type": "markdown",
      "metadata": {
        "id": "8wA0qmz5VWXW",
        "colab_type": "text"
      },
      "source": [
        "\n",
        "\n",
        "# Selección de variables"
      ]
    },
    {
      "cell_type": "markdown",
      "metadata": {
        "id": "vPZbcVBpVWXW",
        "colab_type": "text"
      },
      "source": [
        "\n",
        "\n",
        "## a. Filtrado de atributos\n",
        "\n",
        "\n",
        "Con el objetivo de reducir la dimensionalidad, otra técnica es la del filtrado de atributos. Los pasos a seguir son los siguientes.\n",
        "\n",
        "\n",
        "- Estudiar cada una de las características o atributos que contiene el conjunto de datos.\n",
        "- Localizar redundancia entre esos atributos.\n",
        "- Eliminar esas variables redundantes, de forma que sólo quede una variable que exprese una información.\n",
        "\n",
        "\n",
        "*Ejemplo*. Si dentro del set de datos, se tienen varias características que hacen referencia a las mismas medidas en centímetros y en pulgadas, se deben eliminar todas aquellas variables en pulgadas ya que no aportan ninguna información. Se mantienen las variables en centímetros."
      ]
    },
    {
      "cell_type": "markdown",
      "metadata": {
        "id": "IIjNlSXdVWXX",
        "colab_type": "text"
      },
      "source": [
        "\n",
        "\n",
        "## b. Eliminar variables con baja varianza\n",
        " \n",
        "Eliminar aquellas variables cuya varianza no llega a cierto umbral. Por defecto, eliminar todas las variables con varianza cero (donde todos los valores son iguales). Las variables con baja varianza obligan a hacer el modelo más complejo, y se pierde “tiempo” intentando ajustar variables que no aportan nada\n",
        "\n",
        "En Scikit-Learn la función `VarianceThreshold` permite eliminar aquellas variables cuya varianza no llega cierto umbral. Por defecto, elimina todas las variables con varianza cero, donde todos los valores son iguales, o cercana a cero.\n",
        "\n",
        "*Ejemplo*. Imagina que tenemos un dataset con variables categóricas y queremos eliminar aquellas con mas de un 80% de variables iguales. La varianza de variables booleanas es \"p(1-p)\" donde p es el porcentaje que queramos filtrar, luego `var = (0.8*(1-0.8))`"
      ]
    },
    {
      "cell_type": "code",
      "metadata": {
        "id": "3f1LZCi8VWXX",
        "colab_type": "code",
        "colab": {
          "base_uri": "https://localhost:8080/",
          "height": 119
        },
        "outputId": "566c74bf-3fc7-4597-c7e3-6a7f3469ddf3"
      },
      "source": [
        "from sklearn.feature_selection import VarianceThreshold\n",
        "X = [[0, 0, 3], [0, 2, 0], [1, 0, 0], [0, 2, 3], [0, 2, 0], [0, 2, 3]]\n",
        "\n",
        "sel = VarianceThreshold(threshold=(.8 * (1 - .8)))\n",
        "sel.fit_transform(X)"
      ],
      "execution_count": 1,
      "outputs": [
        {
          "output_type": "execute_result",
          "data": {
            "text/plain": [
              "array([[0, 3],\n",
              "       [2, 0],\n",
              "       [0, 0],\n",
              "       [2, 3],\n",
              "       [2, 0],\n",
              "       [2, 3]])"
            ]
          },
          "metadata": {
            "tags": []
          },
          "execution_count": 1
        }
      ]
    },
    {
      "cell_type": "markdown",
      "metadata": {
        "id": "LWe4JEnHVWXa",
        "colab_type": "text"
      },
      "source": [
        "\n",
        "\n",
        "Ha eliminado la columna de los unos."
      ]
    },
    {
      "cell_type": "markdown",
      "metadata": {
        "id": "ugvW2FzWVWXb",
        "colab_type": "text"
      },
      "source": [
        "\n",
        "\n",
        "---\n",
        "\n",
        "## c. Selección de variables en base a estadísticos\n",
        "\n",
        "Selecciona las mejores variables en base a calculos estadisticos.\n",
        "\n",
        "* `SelectKBest`: Se queda con las k mejores variables\n",
        "* `SelectPercentile`: Se queda con un porcentaje de las mejores variables\n",
        "\n",
        "Ejemplo de los estadisticos que usan son:\n",
        "\n",
        "* **Chi-cuadrado** entre variables (no puede haber variables negativas). Este estadistico mide dependencia entre variables, por lo que elimina aquellas que menos relación tienen con las demás (las más independientes), ya que son las que menos ayudan en la clasificación\n",
        "\n",
        "\n",
        "* **f_regression**: se realiza un modelo lineal entre cada variable y la variable objetivo y se mide la correlacion entre ellos (se devuelve como un p-value [Math: F-test comparando si varianzas son iguales]).\n",
        "\n"
      ]
    },
    {
      "cell_type": "code",
      "metadata": {
        "id": "jFg0Hx_mVWXc",
        "colab_type": "code",
        "colab": {}
      },
      "source": [
        "from sklearn.datasets import load_iris\n",
        "from sklearn.feature_selection import SelectKBest\n",
        "from sklearn.feature_selection import chi2"
      ],
      "execution_count": 2,
      "outputs": []
    },
    {
      "cell_type": "code",
      "metadata": {
        "id": "JgVp9BCaVWXe",
        "colab_type": "code",
        "colab": {
          "base_uri": "https://localhost:8080/",
          "height": 1000
        },
        "outputId": "641b4d80-0ef7-48f2-c308-0ae0afd12664"
      },
      "source": [
        "iris = load_iris()\n",
        "features, label = iris.data, iris.target\n",
        "\n",
        "features_new = SelectKBest(chi2, k=3).fit_transform(features, label)\n",
        "\n",
        "features_new"
      ],
      "execution_count": 3,
      "outputs": [
        {
          "output_type": "execute_result",
          "data": {
            "text/plain": [
              "array([[5.1, 1.4, 0.2],\n",
              "       [4.9, 1.4, 0.2],\n",
              "       [4.7, 1.3, 0.2],\n",
              "       [4.6, 1.5, 0.2],\n",
              "       [5. , 1.4, 0.2],\n",
              "       [5.4, 1.7, 0.4],\n",
              "       [4.6, 1.4, 0.3],\n",
              "       [5. , 1.5, 0.2],\n",
              "       [4.4, 1.4, 0.2],\n",
              "       [4.9, 1.5, 0.1],\n",
              "       [5.4, 1.5, 0.2],\n",
              "       [4.8, 1.6, 0.2],\n",
              "       [4.8, 1.4, 0.1],\n",
              "       [4.3, 1.1, 0.1],\n",
              "       [5.8, 1.2, 0.2],\n",
              "       [5.7, 1.5, 0.4],\n",
              "       [5.4, 1.3, 0.4],\n",
              "       [5.1, 1.4, 0.3],\n",
              "       [5.7, 1.7, 0.3],\n",
              "       [5.1, 1.5, 0.3],\n",
              "       [5.4, 1.7, 0.2],\n",
              "       [5.1, 1.5, 0.4],\n",
              "       [4.6, 1. , 0.2],\n",
              "       [5.1, 1.7, 0.5],\n",
              "       [4.8, 1.9, 0.2],\n",
              "       [5. , 1.6, 0.2],\n",
              "       [5. , 1.6, 0.4],\n",
              "       [5.2, 1.5, 0.2],\n",
              "       [5.2, 1.4, 0.2],\n",
              "       [4.7, 1.6, 0.2],\n",
              "       [4.8, 1.6, 0.2],\n",
              "       [5.4, 1.5, 0.4],\n",
              "       [5.2, 1.5, 0.1],\n",
              "       [5.5, 1.4, 0.2],\n",
              "       [4.9, 1.5, 0.2],\n",
              "       [5. , 1.2, 0.2],\n",
              "       [5.5, 1.3, 0.2],\n",
              "       [4.9, 1.4, 0.1],\n",
              "       [4.4, 1.3, 0.2],\n",
              "       [5.1, 1.5, 0.2],\n",
              "       [5. , 1.3, 0.3],\n",
              "       [4.5, 1.3, 0.3],\n",
              "       [4.4, 1.3, 0.2],\n",
              "       [5. , 1.6, 0.6],\n",
              "       [5.1, 1.9, 0.4],\n",
              "       [4.8, 1.4, 0.3],\n",
              "       [5.1, 1.6, 0.2],\n",
              "       [4.6, 1.4, 0.2],\n",
              "       [5.3, 1.5, 0.2],\n",
              "       [5. , 1.4, 0.2],\n",
              "       [7. , 4.7, 1.4],\n",
              "       [6.4, 4.5, 1.5],\n",
              "       [6.9, 4.9, 1.5],\n",
              "       [5.5, 4. , 1.3],\n",
              "       [6.5, 4.6, 1.5],\n",
              "       [5.7, 4.5, 1.3],\n",
              "       [6.3, 4.7, 1.6],\n",
              "       [4.9, 3.3, 1. ],\n",
              "       [6.6, 4.6, 1.3],\n",
              "       [5.2, 3.9, 1.4],\n",
              "       [5. , 3.5, 1. ],\n",
              "       [5.9, 4.2, 1.5],\n",
              "       [6. , 4. , 1. ],\n",
              "       [6.1, 4.7, 1.4],\n",
              "       [5.6, 3.6, 1.3],\n",
              "       [6.7, 4.4, 1.4],\n",
              "       [5.6, 4.5, 1.5],\n",
              "       [5.8, 4.1, 1. ],\n",
              "       [6.2, 4.5, 1.5],\n",
              "       [5.6, 3.9, 1.1],\n",
              "       [5.9, 4.8, 1.8],\n",
              "       [6.1, 4. , 1.3],\n",
              "       [6.3, 4.9, 1.5],\n",
              "       [6.1, 4.7, 1.2],\n",
              "       [6.4, 4.3, 1.3],\n",
              "       [6.6, 4.4, 1.4],\n",
              "       [6.8, 4.8, 1.4],\n",
              "       [6.7, 5. , 1.7],\n",
              "       [6. , 4.5, 1.5],\n",
              "       [5.7, 3.5, 1. ],\n",
              "       [5.5, 3.8, 1.1],\n",
              "       [5.5, 3.7, 1. ],\n",
              "       [5.8, 3.9, 1.2],\n",
              "       [6. , 5.1, 1.6],\n",
              "       [5.4, 4.5, 1.5],\n",
              "       [6. , 4.5, 1.6],\n",
              "       [6.7, 4.7, 1.5],\n",
              "       [6.3, 4.4, 1.3],\n",
              "       [5.6, 4.1, 1.3],\n",
              "       [5.5, 4. , 1.3],\n",
              "       [5.5, 4.4, 1.2],\n",
              "       [6.1, 4.6, 1.4],\n",
              "       [5.8, 4. , 1.2],\n",
              "       [5. , 3.3, 1. ],\n",
              "       [5.6, 4.2, 1.3],\n",
              "       [5.7, 4.2, 1.2],\n",
              "       [5.7, 4.2, 1.3],\n",
              "       [6.2, 4.3, 1.3],\n",
              "       [5.1, 3. , 1.1],\n",
              "       [5.7, 4.1, 1.3],\n",
              "       [6.3, 6. , 2.5],\n",
              "       [5.8, 5.1, 1.9],\n",
              "       [7.1, 5.9, 2.1],\n",
              "       [6.3, 5.6, 1.8],\n",
              "       [6.5, 5.8, 2.2],\n",
              "       [7.6, 6.6, 2.1],\n",
              "       [4.9, 4.5, 1.7],\n",
              "       [7.3, 6.3, 1.8],\n",
              "       [6.7, 5.8, 1.8],\n",
              "       [7.2, 6.1, 2.5],\n",
              "       [6.5, 5.1, 2. ],\n",
              "       [6.4, 5.3, 1.9],\n",
              "       [6.8, 5.5, 2.1],\n",
              "       [5.7, 5. , 2. ],\n",
              "       [5.8, 5.1, 2.4],\n",
              "       [6.4, 5.3, 2.3],\n",
              "       [6.5, 5.5, 1.8],\n",
              "       [7.7, 6.7, 2.2],\n",
              "       [7.7, 6.9, 2.3],\n",
              "       [6. , 5. , 1.5],\n",
              "       [6.9, 5.7, 2.3],\n",
              "       [5.6, 4.9, 2. ],\n",
              "       [7.7, 6.7, 2. ],\n",
              "       [6.3, 4.9, 1.8],\n",
              "       [6.7, 5.7, 2.1],\n",
              "       [7.2, 6. , 1.8],\n",
              "       [6.2, 4.8, 1.8],\n",
              "       [6.1, 4.9, 1.8],\n",
              "       [6.4, 5.6, 2.1],\n",
              "       [7.2, 5.8, 1.6],\n",
              "       [7.4, 6.1, 1.9],\n",
              "       [7.9, 6.4, 2. ],\n",
              "       [6.4, 5.6, 2.2],\n",
              "       [6.3, 5.1, 1.5],\n",
              "       [6.1, 5.6, 1.4],\n",
              "       [7.7, 6.1, 2.3],\n",
              "       [6.3, 5.6, 2.4],\n",
              "       [6.4, 5.5, 1.8],\n",
              "       [6. , 4.8, 1.8],\n",
              "       [6.9, 5.4, 2.1],\n",
              "       [6.7, 5.6, 2.4],\n",
              "       [6.9, 5.1, 2.3],\n",
              "       [5.8, 5.1, 1.9],\n",
              "       [6.8, 5.9, 2.3],\n",
              "       [6.7, 5.7, 2.5],\n",
              "       [6.7, 5.2, 2.3],\n",
              "       [6.3, 5. , 1.9],\n",
              "       [6.5, 5.2, 2. ],\n",
              "       [6.2, 5.4, 2.3],\n",
              "       [5.9, 5.1, 1.8]])"
            ]
          },
          "metadata": {
            "tags": []
          },
          "execution_count": 3
        }
      ]
    },
    {
      "cell_type": "markdown",
      "metadata": {
        "id": "UeskR6TSVWXg",
        "colab_type": "text"
      },
      "source": [
        "\n",
        "\n",
        "\n",
        "## d. Usar árboles para discriminar la importancia de las variables\n",
        "\n",
        "Los arboles de decisión, por su forma interna de generar las ramas, realizan una ponderación de las variables en base a su importancia. Esto se puede aprovechar para exrtaer esa información y filtrar las variables menos importantes."
      ]
    },
    {
      "cell_type": "code",
      "metadata": {
        "id": "y8dQUl3_VWXg",
        "colab_type": "code",
        "colab": {}
      },
      "source": [
        "from sklearn.ensemble import ExtraTreesClassifier\n",
        "from sklearn.datasets import load_iris\n",
        "from sklearn.feature_selection import SelectFromModel"
      ],
      "execution_count": 4,
      "outputs": []
    },
    {
      "cell_type": "code",
      "metadata": {
        "id": "Yek6QAIoVWXi",
        "colab_type": "code",
        "colab": {
          "base_uri": "https://localhost:8080/",
          "height": 34
        },
        "outputId": "4c02e8b3-3184-4d12-85b3-809587ed0f1a"
      },
      "source": [
        "iris = load_iris()\n",
        "features, label = iris.data, iris.target\n",
        "print (features.shape)"
      ],
      "execution_count": 5,
      "outputs": [
        {
          "output_type": "stream",
          "text": [
            "(150, 4)\n"
          ],
          "name": "stdout"
        }
      ]
    },
    {
      "cell_type": "code",
      "metadata": {
        "id": "uYEQ5mA-VWXk",
        "colab_type": "code",
        "colab": {}
      },
      "source": [
        "from sklearn.model_selection import train_test_split\n",
        "from sklearn.metrics import accuracy_score\n",
        "import pandas as pd\n",
        "\n",
        "\n",
        "features_train, features_test, label_train, label_test=train_test_split(iris.data,iris.target,test_size=0.3)\n",
        "etc = ExtraTreesClassifier(n_estimators=20,max_depth=5)\n",
        "model = etc.fit(features_train,label_train)"
      ],
      "execution_count": 6,
      "outputs": []
    },
    {
      "cell_type": "code",
      "metadata": {
        "id": "cHtRhZp0VWXn",
        "colab_type": "code",
        "colab": {
          "base_uri": "https://localhost:8080/",
          "height": 173
        },
        "outputId": "b4e43e46-5f2f-4a5f-c667-1b5fac55a914"
      },
      "source": [
        "pd.DataFrame({'variable':iris.feature_names,\n",
        "              'importance':model.feature_importances_},\n",
        "             columns=['variable','importance'])"
      ],
      "execution_count": 7,
      "outputs": [
        {
          "output_type": "execute_result",
          "data": {
            "text/html": [
              "<div>\n",
              "<style scoped>\n",
              "    .dataframe tbody tr th:only-of-type {\n",
              "        vertical-align: middle;\n",
              "    }\n",
              "\n",
              "    .dataframe tbody tr th {\n",
              "        vertical-align: top;\n",
              "    }\n",
              "\n",
              "    .dataframe thead th {\n",
              "        text-align: right;\n",
              "    }\n",
              "</style>\n",
              "<table border=\"1\" class=\"dataframe\">\n",
              "  <thead>\n",
              "    <tr style=\"text-align: right;\">\n",
              "      <th></th>\n",
              "      <th>variable</th>\n",
              "      <th>importance</th>\n",
              "    </tr>\n",
              "  </thead>\n",
              "  <tbody>\n",
              "    <tr>\n",
              "      <th>0</th>\n",
              "      <td>sepal length (cm)</td>\n",
              "      <td>0.168581</td>\n",
              "    </tr>\n",
              "    <tr>\n",
              "      <th>1</th>\n",
              "      <td>sepal width (cm)</td>\n",
              "      <td>0.056578</td>\n",
              "    </tr>\n",
              "    <tr>\n",
              "      <th>2</th>\n",
              "      <td>petal length (cm)</td>\n",
              "      <td>0.358744</td>\n",
              "    </tr>\n",
              "    <tr>\n",
              "      <th>3</th>\n",
              "      <td>petal width (cm)</td>\n",
              "      <td>0.416097</td>\n",
              "    </tr>\n",
              "  </tbody>\n",
              "</table>\n",
              "</div>"
            ],
            "text/plain": [
              "            variable  importance\n",
              "0  sepal length (cm)    0.168581\n",
              "1   sepal width (cm)    0.056578\n",
              "2  petal length (cm)    0.358744\n",
              "3   petal width (cm)    0.416097"
            ]
          },
          "metadata": {
            "tags": []
          },
          "execution_count": 7
        }
      ]
    },
    {
      "cell_type": "code",
      "metadata": {
        "id": "QMU9eNoeVWXp",
        "colab_type": "code",
        "colab": {
          "base_uri": "https://localhost:8080/",
          "height": 34
        },
        "outputId": "a00f1f6c-cca8-4162-d9c9-f9d4d579e9b3"
      },
      "source": [
        "prediction=model.predict(features_test)\n",
        "accuracy_score(prediction,label_test)"
      ],
      "execution_count": 8,
      "outputs": [
        {
          "output_type": "execute_result",
          "data": {
            "text/plain": [
              "0.9555555555555556"
            ]
          },
          "metadata": {
            "tags": []
          },
          "execution_count": 8
        }
      ]
    },
    {
      "cell_type": "code",
      "metadata": {
        "id": "Oi_P-WTOVWXr",
        "colab_type": "code",
        "colab": {
          "base_uri": "https://localhost:8080/",
          "height": 1000
        },
        "outputId": "26a8c9a9-7f6a-4470-d8ff-fb6bf2dd66de"
      },
      "source": [
        "help(SelectFromModel)"
      ],
      "execution_count": 9,
      "outputs": [
        {
          "output_type": "stream",
          "text": [
            "Help on class SelectFromModel in module sklearn.feature_selection._from_model:\n",
            "\n",
            "class SelectFromModel(sklearn.base.MetaEstimatorMixin, sklearn.feature_selection._base.SelectorMixin, sklearn.base.BaseEstimator)\n",
            " |  Meta-transformer for selecting features based on importance weights.\n",
            " |  \n",
            " |  .. versionadded:: 0.17\n",
            " |  \n",
            " |  Parameters\n",
            " |  ----------\n",
            " |  estimator : object\n",
            " |      The base estimator from which the transformer is built.\n",
            " |      This can be both a fitted (if ``prefit`` is set to True)\n",
            " |      or a non-fitted estimator. The estimator must have either a\n",
            " |      ``feature_importances_`` or ``coef_`` attribute after fitting.\n",
            " |  \n",
            " |  threshold : string, float, optional default None\n",
            " |      The threshold value to use for feature selection. Features whose\n",
            " |      importance is greater or equal are kept while the others are\n",
            " |      discarded. If \"median\" (resp. \"mean\"), then the ``threshold`` value is\n",
            " |      the median (resp. the mean) of the feature importances. A scaling\n",
            " |      factor (e.g., \"1.25*mean\") may also be used. If None and if the\n",
            " |      estimator has a parameter penalty set to l1, either explicitly\n",
            " |      or implicitly (e.g, Lasso), the threshold used is 1e-5.\n",
            " |      Otherwise, \"mean\" is used by default.\n",
            " |  \n",
            " |  prefit : bool, default False\n",
            " |      Whether a prefit model is expected to be passed into the constructor\n",
            " |      directly or not. If True, ``transform`` must be called directly\n",
            " |      and SelectFromModel cannot be used with ``cross_val_score``,\n",
            " |      ``GridSearchCV`` and similar utilities that clone the estimator.\n",
            " |      Otherwise train the model using ``fit`` and then ``transform`` to do\n",
            " |      feature selection.\n",
            " |  \n",
            " |  norm_order : non-zero int, inf, -inf, default 1\n",
            " |      Order of the norm used to filter the vectors of coefficients below\n",
            " |      ``threshold`` in the case where the ``coef_`` attribute of the\n",
            " |      estimator is of dimension 2.\n",
            " |  \n",
            " |  max_features : int or None, optional\n",
            " |      The maximum number of features selected scoring above ``threshold``.\n",
            " |      To disable ``threshold`` and only select based on ``max_features``,\n",
            " |      set ``threshold=-np.inf``.\n",
            " |  \n",
            " |      .. versionadded:: 0.20\n",
            " |  \n",
            " |  Attributes\n",
            " |  ----------\n",
            " |  estimator_ : an estimator\n",
            " |      The base estimator from which the transformer is built.\n",
            " |      This is stored only when a non-fitted estimator is passed to the\n",
            " |      ``SelectFromModel``, i.e when prefit is False.\n",
            " |  \n",
            " |  threshold_ : float\n",
            " |      The threshold value used for feature selection.\n",
            " |  \n",
            " |  Notes\n",
            " |  -----\n",
            " |  Allows NaN/Inf in the input if the underlying estimator does as well.\n",
            " |  \n",
            " |  Examples\n",
            " |  --------\n",
            " |  >>> from sklearn.feature_selection import SelectFromModel\n",
            " |  >>> from sklearn.linear_model import LogisticRegression\n",
            " |  >>> X = [[ 0.87, -1.34,  0.31 ],\n",
            " |  ...      [-2.79, -0.02, -0.85 ],\n",
            " |  ...      [-1.34, -0.48, -2.55 ],\n",
            " |  ...      [ 1.92,  1.48,  0.65 ]]\n",
            " |  >>> y = [0, 1, 0, 1]\n",
            " |  >>> selector = SelectFromModel(estimator=LogisticRegression()).fit(X, y)\n",
            " |  >>> selector.estimator_.coef_\n",
            " |  array([[-0.3252302 ,  0.83462377,  0.49750423]])\n",
            " |  >>> selector.threshold_\n",
            " |  0.55245...\n",
            " |  >>> selector.get_support()\n",
            " |  array([False,  True, False])\n",
            " |  >>> selector.transform(X)\n",
            " |  array([[-1.34],\n",
            " |         [-0.02],\n",
            " |         [-0.48],\n",
            " |         [ 1.48]])\n",
            " |  \n",
            " |  Method resolution order:\n",
            " |      SelectFromModel\n",
            " |      sklearn.base.MetaEstimatorMixin\n",
            " |      sklearn.feature_selection._base.SelectorMixin\n",
            " |      sklearn.base.TransformerMixin\n",
            " |      sklearn.base.BaseEstimator\n",
            " |      builtins.object\n",
            " |  \n",
            " |  Methods defined here:\n",
            " |  \n",
            " |  __init__(self, estimator, threshold=None, prefit=False, norm_order=1, max_features=None)\n",
            " |      Initialize self.  See help(type(self)) for accurate signature.\n",
            " |  \n",
            " |  fit(self, X, y=None, **fit_params)\n",
            " |      Fit the SelectFromModel meta-transformer.\n",
            " |      \n",
            " |      Parameters\n",
            " |      ----------\n",
            " |      X : array-like of shape (n_samples, n_features)\n",
            " |          The training input samples.\n",
            " |      \n",
            " |      y : array-like, shape (n_samples,)\n",
            " |          The target values (integers that correspond to classes in\n",
            " |          classification, real numbers in regression).\n",
            " |      \n",
            " |      **fit_params : Other estimator specific parameters\n",
            " |      \n",
            " |      Returns\n",
            " |      -------\n",
            " |      self : object\n",
            " |  \n",
            " |  partial_fit(self, X, y=None, **fit_params)\n",
            " |      Fit the SelectFromModel meta-transformer only once.\n",
            " |      \n",
            " |      Parameters\n",
            " |      ----------\n",
            " |      X : array-like of shape (n_samples, n_features)\n",
            " |          The training input samples.\n",
            " |      \n",
            " |      y : array-like, shape (n_samples,)\n",
            " |          The target values (integers that correspond to classes in\n",
            " |          classification, real numbers in regression).\n",
            " |      \n",
            " |      **fit_params : Other estimator specific parameters\n",
            " |      \n",
            " |      Returns\n",
            " |      -------\n",
            " |      self : object\n",
            " |  \n",
            " |  ----------------------------------------------------------------------\n",
            " |  Data descriptors defined here:\n",
            " |  \n",
            " |  threshold_\n",
            " |  \n",
            " |  ----------------------------------------------------------------------\n",
            " |  Data and other attributes defined here:\n",
            " |  \n",
            " |  __abstractmethods__ = frozenset()\n",
            " |  \n",
            " |  ----------------------------------------------------------------------\n",
            " |  Data descriptors inherited from sklearn.base.MetaEstimatorMixin:\n",
            " |  \n",
            " |  __dict__\n",
            " |      dictionary for instance variables (if defined)\n",
            " |  \n",
            " |  __weakref__\n",
            " |      list of weak references to the object (if defined)\n",
            " |  \n",
            " |  ----------------------------------------------------------------------\n",
            " |  Methods inherited from sklearn.feature_selection._base.SelectorMixin:\n",
            " |  \n",
            " |  get_support(self, indices=False)\n",
            " |      Get a mask, or integer index, of the features selected\n",
            " |      \n",
            " |      Parameters\n",
            " |      ----------\n",
            " |      indices : boolean (default False)\n",
            " |          If True, the return value will be an array of integers, rather\n",
            " |          than a boolean mask.\n",
            " |      \n",
            " |      Returns\n",
            " |      -------\n",
            " |      support : array\n",
            " |          An index that selects the retained features from a feature vector.\n",
            " |          If `indices` is False, this is a boolean array of shape\n",
            " |          [# input features], in which an element is True iff its\n",
            " |          corresponding feature is selected for retention. If `indices` is\n",
            " |          True, this is an integer array of shape [# output features] whose\n",
            " |          values are indices into the input feature vector.\n",
            " |  \n",
            " |  inverse_transform(self, X)\n",
            " |      Reverse the transformation operation\n",
            " |      \n",
            " |      Parameters\n",
            " |      ----------\n",
            " |      X : array of shape [n_samples, n_selected_features]\n",
            " |          The input samples.\n",
            " |      \n",
            " |      Returns\n",
            " |      -------\n",
            " |      X_r : array of shape [n_samples, n_original_features]\n",
            " |          `X` with columns of zeros inserted where features would have\n",
            " |          been removed by :meth:`transform`.\n",
            " |  \n",
            " |  transform(self, X)\n",
            " |      Reduce X to the selected features.\n",
            " |      \n",
            " |      Parameters\n",
            " |      ----------\n",
            " |      X : array of shape [n_samples, n_features]\n",
            " |          The input samples.\n",
            " |      \n",
            " |      Returns\n",
            " |      -------\n",
            " |      X_r : array of shape [n_samples, n_selected_features]\n",
            " |          The input samples with only the selected features.\n",
            " |  \n",
            " |  ----------------------------------------------------------------------\n",
            " |  Methods inherited from sklearn.base.TransformerMixin:\n",
            " |  \n",
            " |  fit_transform(self, X, y=None, **fit_params)\n",
            " |      Fit to data, then transform it.\n",
            " |      \n",
            " |      Fits transformer to X and y with optional parameters fit_params\n",
            " |      and returns a transformed version of X.\n",
            " |      \n",
            " |      Parameters\n",
            " |      ----------\n",
            " |      X : numpy array of shape [n_samples, n_features]\n",
            " |          Training set.\n",
            " |      \n",
            " |      y : numpy array of shape [n_samples]\n",
            " |          Target values.\n",
            " |      \n",
            " |      **fit_params : dict\n",
            " |          Additional fit parameters.\n",
            " |      \n",
            " |      Returns\n",
            " |      -------\n",
            " |      X_new : numpy array of shape [n_samples, n_features_new]\n",
            " |          Transformed array.\n",
            " |  \n",
            " |  ----------------------------------------------------------------------\n",
            " |  Methods inherited from sklearn.base.BaseEstimator:\n",
            " |  \n",
            " |  __getstate__(self)\n",
            " |  \n",
            " |  __repr__(self, N_CHAR_MAX=700)\n",
            " |      Return repr(self).\n",
            " |  \n",
            " |  __setstate__(self, state)\n",
            " |  \n",
            " |  get_params(self, deep=True)\n",
            " |      Get parameters for this estimator.\n",
            " |      \n",
            " |      Parameters\n",
            " |      ----------\n",
            " |      deep : bool, default=True\n",
            " |          If True, will return the parameters for this estimator and\n",
            " |          contained subobjects that are estimators.\n",
            " |      \n",
            " |      Returns\n",
            " |      -------\n",
            " |      params : mapping of string to any\n",
            " |          Parameter names mapped to their values.\n",
            " |  \n",
            " |  set_params(self, **params)\n",
            " |      Set the parameters of this estimator.\n",
            " |      \n",
            " |      The method works on simple estimators as well as on nested objects\n",
            " |      (such as pipelines). The latter have parameters of the form\n",
            " |      ``<component>__<parameter>`` so that it's possible to update each\n",
            " |      component of a nested object.\n",
            " |      \n",
            " |      Parameters\n",
            " |      ----------\n",
            " |      **params : dict\n",
            " |          Estimator parameters.\n",
            " |      \n",
            " |      Returns\n",
            " |      -------\n",
            " |      self : object\n",
            " |          Estimator instance.\n",
            "\n"
          ],
          "name": "stdout"
        }
      ]
    },
    {
      "cell_type": "markdown",
      "metadata": {
        "id": "VlTRVvN_VWXt",
        "colab_type": "text"
      },
      "source": [
        "\n",
        "\n",
        "Al establecer el valor umbral en 0.2 nos estaríamos quedando con las variables petal length y petal width"
      ]
    },
    {
      "cell_type": "code",
      "metadata": {
        "id": "saotmeiYVWXt",
        "colab_type": "code",
        "colab": {}
      },
      "source": [
        "selection = SelectFromModel(etc, prefit = False,threshold=0.2) # filters the variables according to a threshold"
      ],
      "execution_count": 10,
      "outputs": []
    },
    {
      "cell_type": "code",
      "metadata": {
        "id": "uyXn_zbpVWXw",
        "colab_type": "code",
        "colab": {}
      },
      "source": [
        "selection.fit(features_train,label_train)\n",
        "features_train_new = selection.transform(features_train)"
      ],
      "execution_count": 11,
      "outputs": []
    },
    {
      "cell_type": "markdown",
      "metadata": {
        "id": "Hu57MvfxVWXz",
        "colab_type": "text"
      },
      "source": [
        "\n",
        "\n",
        "Hay que hacer también la selección de variables para el conjunto de test"
      ]
    },
    {
      "cell_type": "code",
      "metadata": {
        "id": "xt3DPdv0VWX0",
        "colab_type": "code",
        "colab": {}
      },
      "source": [
        "features_test_new = selection.transform(features_test)"
      ],
      "execution_count": 12,
      "outputs": []
    },
    {
      "cell_type": "markdown",
      "metadata": {
        "id": "SP19uw21VWX1",
        "colab_type": "text"
      },
      "source": [
        "\n",
        "\n",
        "Comprobamos que efectivamente selecciona únicamente dos variables"
      ]
    },
    {
      "cell_type": "code",
      "metadata": {
        "id": "RBAVo8MHVWX2",
        "colab_type": "code",
        "colab": {
          "base_uri": "https://localhost:8080/",
          "height": 34
        },
        "outputId": "1aa9da60-9631-4f66-b101-0ced9a0bd0d0"
      },
      "source": [
        "features_train_new.shape"
      ],
      "execution_count": 13,
      "outputs": [
        {
          "output_type": "execute_result",
          "data": {
            "text/plain": [
              "(105, 2)"
            ]
          },
          "metadata": {
            "tags": []
          },
          "execution_count": 13
        }
      ]
    },
    {
      "cell_type": "code",
      "metadata": {
        "id": "PRYgB_1tVWX5",
        "colab_type": "code",
        "colab": {
          "base_uri": "https://localhost:8080/",
          "height": 34
        },
        "outputId": "60fe142b-a081-416a-f561-43d217bb7ba0"
      },
      "source": [
        "model = etc.fit(features_train_new,label_train)\n",
        "prediction=model.predict(features_test_new)\n",
        "accuracy_score(prediction,label_test)"
      ],
      "execution_count": 14,
      "outputs": [
        {
          "output_type": "execute_result",
          "data": {
            "text/plain": [
              "0.9333333333333333"
            ]
          },
          "metadata": {
            "tags": []
          },
          "execution_count": 14
        }
      ]
    },
    {
      "cell_type": "code",
      "metadata": {
        "id": "J7sbsfH5VWX7",
        "colab_type": "code",
        "colab": {
          "base_uri": "https://localhost:8080/",
          "height": 34
        },
        "outputId": "ef2d0ec9-ba69-4f31-cb85-ad841f162500"
      },
      "source": [
        "model.feature_importances_"
      ],
      "execution_count": 15,
      "outputs": [
        {
          "output_type": "execute_result",
          "data": {
            "text/plain": [
              "array([0.5278309, 0.4721691])"
            ]
          },
          "metadata": {
            "tags": []
          },
          "execution_count": 15
        }
      ]
    },
    {
      "cell_type": "markdown",
      "metadata": {
        "id": "VnxQA5A0VWX9",
        "colab_type": "text"
      },
      "source": [
        "\n",
        "\n",
        "## f. Selección hacia atrás"
      ]
    },
    {
      "cell_type": "markdown",
      "metadata": {
        "id": "QnSOHy-sVWX9",
        "colab_type": "text"
      },
      "source": [
        "\n",
        "\n",
        "`sklearn` incorpora una implementación de la selección hacia atrás llamada *Recursive Feature Elimination*. Utilizando el algoritmo de aprendizaje que queramos (el estimador), él se encarga de ir eliminando variables."
      ]
    },
    {
      "cell_type": "code",
      "metadata": {
        "id": "eXvIBDmVVWX-",
        "colab_type": "code",
        "colab": {}
      },
      "source": [
        "from sklearn.datasets import load_breast_cancer\n",
        "from sklearn.ensemble import RandomForestClassifier\n",
        "from sklearn.feature_selection import RFECV\n",
        "from sklearn.model_selection import StratifiedKFold\n"
      ],
      "execution_count": 16,
      "outputs": []
    },
    {
      "cell_type": "markdown",
      "metadata": {
        "id": "bYsHKuDUVWYA",
        "colab_type": "text"
      },
      "source": [
        "\n",
        "\n",
        "Para ello vamos a usar el conjunto de datos de ejemplo `breast_cancer`"
      ]
    },
    {
      "cell_type": "code",
      "metadata": {
        "id": "IVOwgSH2VWYA",
        "colab_type": "code",
        "colab": {}
      },
      "source": [
        "cancer = load_breast_cancer()"
      ],
      "execution_count": 17,
      "outputs": []
    },
    {
      "cell_type": "markdown",
      "metadata": {
        "id": "mWoIX46rVWYC",
        "colab_type": "text"
      },
      "source": [
        "\n",
        "\n",
        "El estimador que vamos a usar es un random forest, al que le definiriemos el número de árboles y la profundidad de forma manual"
      ]
    },
    {
      "cell_type": "code",
      "metadata": {
        "id": "GlcbFyE5VWYC",
        "colab_type": "code",
        "colab": {}
      },
      "source": [
        "rf = RandomForestClassifier(n_estimators=100,max_depth=10)"
      ],
      "execution_count": 18,
      "outputs": []
    },
    {
      "cell_type": "markdown",
      "metadata": {
        "id": "GV1WiA_AVWYF",
        "colab_type": "text"
      },
      "source": [
        "\n",
        "\n",
        "RFECV es un método que nos permite hacer la selección hacia atrás usando una validación cruzada y además, que es lo más importante, nos permite definir la métrica y obtener la puntuación para cada subset de variables."
      ]
    },
    {
      "cell_type": "code",
      "metadata": {
        "id": "agbuAhPcVWYF",
        "colab_type": "code",
        "colab": {}
      },
      "source": [
        "rfecv=RFECV(estimator=rf, step=1, cv=StratifiedKFold(5),\n",
        "              scoring='roc_auc',verbose=1)"
      ],
      "execution_count": 19,
      "outputs": []
    },
    {
      "cell_type": "code",
      "metadata": {
        "id": "kFv-TaMNVWYH",
        "colab_type": "code",
        "colab": {
          "base_uri": "https://localhost:8080/",
          "height": 1000
        },
        "outputId": "7f132f80-c6b1-4832-a440-a6106d2a3321"
      },
      "source": [
        "rfecv.fit(cancer.data,cancer.target)"
      ],
      "execution_count": 20,
      "outputs": [
        {
          "output_type": "stream",
          "text": [
            "Fitting estimator with 30 features.\n",
            "Fitting estimator with 29 features.\n",
            "Fitting estimator with 28 features.\n",
            "Fitting estimator with 27 features.\n",
            "Fitting estimator with 26 features.\n",
            "Fitting estimator with 25 features.\n",
            "Fitting estimator with 24 features.\n",
            "Fitting estimator with 23 features.\n",
            "Fitting estimator with 22 features.\n",
            "Fitting estimator with 21 features.\n",
            "Fitting estimator with 20 features.\n",
            "Fitting estimator with 19 features.\n",
            "Fitting estimator with 18 features.\n",
            "Fitting estimator with 17 features.\n",
            "Fitting estimator with 16 features.\n",
            "Fitting estimator with 15 features.\n",
            "Fitting estimator with 14 features.\n",
            "Fitting estimator with 13 features.\n",
            "Fitting estimator with 12 features.\n",
            "Fitting estimator with 11 features.\n",
            "Fitting estimator with 10 features.\n",
            "Fitting estimator with 9 features.\n",
            "Fitting estimator with 8 features.\n",
            "Fitting estimator with 7 features.\n",
            "Fitting estimator with 6 features.\n",
            "Fitting estimator with 5 features.\n",
            "Fitting estimator with 4 features.\n",
            "Fitting estimator with 3 features.\n",
            "Fitting estimator with 2 features.\n",
            "Fitting estimator with 30 features.\n",
            "Fitting estimator with 29 features.\n",
            "Fitting estimator with 28 features.\n",
            "Fitting estimator with 27 features.\n",
            "Fitting estimator with 26 features.\n",
            "Fitting estimator with 25 features.\n",
            "Fitting estimator with 24 features.\n",
            "Fitting estimator with 23 features.\n",
            "Fitting estimator with 22 features.\n",
            "Fitting estimator with 21 features.\n",
            "Fitting estimator with 20 features.\n",
            "Fitting estimator with 19 features.\n",
            "Fitting estimator with 18 features.\n",
            "Fitting estimator with 17 features.\n",
            "Fitting estimator with 16 features.\n",
            "Fitting estimator with 15 features.\n",
            "Fitting estimator with 14 features.\n",
            "Fitting estimator with 13 features.\n",
            "Fitting estimator with 12 features.\n",
            "Fitting estimator with 11 features.\n",
            "Fitting estimator with 10 features.\n",
            "Fitting estimator with 9 features.\n",
            "Fitting estimator with 8 features.\n",
            "Fitting estimator with 7 features.\n",
            "Fitting estimator with 6 features.\n",
            "Fitting estimator with 5 features.\n",
            "Fitting estimator with 4 features.\n",
            "Fitting estimator with 3 features.\n",
            "Fitting estimator with 2 features.\n",
            "Fitting estimator with 30 features.\n",
            "Fitting estimator with 29 features.\n",
            "Fitting estimator with 28 features.\n",
            "Fitting estimator with 27 features.\n",
            "Fitting estimator with 26 features.\n",
            "Fitting estimator with 25 features.\n",
            "Fitting estimator with 24 features.\n",
            "Fitting estimator with 23 features.\n",
            "Fitting estimator with 22 features.\n",
            "Fitting estimator with 21 features.\n",
            "Fitting estimator with 20 features.\n",
            "Fitting estimator with 19 features.\n",
            "Fitting estimator with 18 features.\n",
            "Fitting estimator with 17 features.\n",
            "Fitting estimator with 16 features.\n",
            "Fitting estimator with 15 features.\n",
            "Fitting estimator with 14 features.\n",
            "Fitting estimator with 13 features.\n",
            "Fitting estimator with 12 features.\n",
            "Fitting estimator with 11 features.\n",
            "Fitting estimator with 10 features.\n",
            "Fitting estimator with 9 features.\n",
            "Fitting estimator with 8 features.\n",
            "Fitting estimator with 7 features.\n",
            "Fitting estimator with 6 features.\n",
            "Fitting estimator with 5 features.\n",
            "Fitting estimator with 4 features.\n",
            "Fitting estimator with 3 features.\n",
            "Fitting estimator with 2 features.\n",
            "Fitting estimator with 30 features.\n",
            "Fitting estimator with 29 features.\n",
            "Fitting estimator with 28 features.\n",
            "Fitting estimator with 27 features.\n",
            "Fitting estimator with 26 features.\n",
            "Fitting estimator with 25 features.\n",
            "Fitting estimator with 24 features.\n",
            "Fitting estimator with 23 features.\n",
            "Fitting estimator with 22 features.\n",
            "Fitting estimator with 21 features.\n",
            "Fitting estimator with 20 features.\n",
            "Fitting estimator with 19 features.\n",
            "Fitting estimator with 18 features.\n",
            "Fitting estimator with 17 features.\n",
            "Fitting estimator with 16 features.\n",
            "Fitting estimator with 15 features.\n",
            "Fitting estimator with 14 features.\n",
            "Fitting estimator with 13 features.\n",
            "Fitting estimator with 12 features.\n",
            "Fitting estimator with 11 features.\n",
            "Fitting estimator with 10 features.\n",
            "Fitting estimator with 9 features.\n",
            "Fitting estimator with 8 features.\n",
            "Fitting estimator with 7 features.\n",
            "Fitting estimator with 6 features.\n",
            "Fitting estimator with 5 features.\n",
            "Fitting estimator with 4 features.\n",
            "Fitting estimator with 3 features.\n",
            "Fitting estimator with 2 features.\n",
            "Fitting estimator with 30 features.\n",
            "Fitting estimator with 29 features.\n",
            "Fitting estimator with 28 features.\n",
            "Fitting estimator with 27 features.\n",
            "Fitting estimator with 26 features.\n",
            "Fitting estimator with 25 features.\n",
            "Fitting estimator with 24 features.\n",
            "Fitting estimator with 23 features.\n",
            "Fitting estimator with 22 features.\n",
            "Fitting estimator with 21 features.\n",
            "Fitting estimator with 20 features.\n",
            "Fitting estimator with 19 features.\n",
            "Fitting estimator with 18 features.\n",
            "Fitting estimator with 17 features.\n",
            "Fitting estimator with 16 features.\n",
            "Fitting estimator with 15 features.\n",
            "Fitting estimator with 14 features.\n",
            "Fitting estimator with 13 features.\n",
            "Fitting estimator with 12 features.\n",
            "Fitting estimator with 11 features.\n",
            "Fitting estimator with 10 features.\n",
            "Fitting estimator with 9 features.\n",
            "Fitting estimator with 8 features.\n",
            "Fitting estimator with 7 features.\n",
            "Fitting estimator with 6 features.\n",
            "Fitting estimator with 5 features.\n",
            "Fitting estimator with 4 features.\n",
            "Fitting estimator with 3 features.\n",
            "Fitting estimator with 2 features.\n",
            "Fitting estimator with 30 features.\n",
            "Fitting estimator with 29 features.\n",
            "Fitting estimator with 28 features.\n",
            "Fitting estimator with 27 features.\n",
            "Fitting estimator with 26 features.\n",
            "Fitting estimator with 25 features.\n",
            "Fitting estimator with 24 features.\n",
            "Fitting estimator with 23 features.\n",
            "Fitting estimator with 22 features.\n",
            "Fitting estimator with 21 features.\n",
            "Fitting estimator with 20 features.\n"
          ],
          "name": "stdout"
        },
        {
          "output_type": "execute_result",
          "data": {
            "text/plain": [
              "RFECV(cv=StratifiedKFold(n_splits=5, random_state=None, shuffle=False),\n",
              "      estimator=RandomForestClassifier(bootstrap=True, ccp_alpha=0.0,\n",
              "                                       class_weight=None, criterion='gini',\n",
              "                                       max_depth=10, max_features='auto',\n",
              "                                       max_leaf_nodes=None, max_samples=None,\n",
              "                                       min_impurity_decrease=0.0,\n",
              "                                       min_impurity_split=None,\n",
              "                                       min_samples_leaf=1, min_samples_split=2,\n",
              "                                       min_weight_fraction_leaf=0.0,\n",
              "                                       n_estimators=100, n_jobs=None,\n",
              "                                       oob_score=False, random_state=None,\n",
              "                                       verbose=0, warm_start=False),\n",
              "      min_features_to_select=1, n_jobs=None, scoring='roc_auc', step=1,\n",
              "      verbose=1)"
            ]
          },
          "metadata": {
            "tags": []
          },
          "execution_count": 20
        }
      ]
    },
    {
      "cell_type": "code",
      "metadata": {
        "id": "iRfNw67UVWYJ",
        "colab_type": "code",
        "colab": {
          "base_uri": "https://localhost:8080/",
          "height": 119
        },
        "outputId": "cfdc807c-e771-4182-b396-fe20830a474b"
      },
      "source": [
        "rfecv.grid_scores_"
      ],
      "execution_count": 21,
      "outputs": [
        {
          "output_type": "execute_result",
          "data": {
            "text/plain": [
              "array([0.94676179, 0.96678138, 0.97724481, 0.97852977, 0.98249728,\n",
              "       0.98240388, 0.98501909, 0.9877005 , 0.99040616, 0.98978492,\n",
              "       0.99073528, 0.99070879, 0.99054376, 0.98816314, 0.99015557,\n",
              "       0.99080299, 0.99044956, 0.99110089, 0.99188075, 0.98885097,\n",
              "       0.98819666, 0.98976405, 0.99017722, 0.98984463, 0.98962507,\n",
              "       0.99116577, 0.98981437, 0.98789844, 0.99142283, 0.99038266])"
            ]
          },
          "metadata": {
            "tags": []
          },
          "execution_count": 21
        }
      ]
    },
    {
      "cell_type": "code",
      "metadata": {
        "id": "iw3kQqGYVWYL",
        "colab_type": "code",
        "colab": {
          "base_uri": "https://localhost:8080/",
          "height": 279
        },
        "outputId": "c7e3476a-dc01-4eb9-e52e-b4b17431ed0e"
      },
      "source": [
        "import matplotlib.pyplot as plt\n",
        "\n",
        "plt.figure()\n",
        "plt.xlabel(\"Number of selected variables\")\n",
        "plt.ylabel(\"AUC\")\n",
        "plt.plot(range(1, len(rfecv.grid_scores_) + 1), rfecv.grid_scores_)\n",
        "plt.show()"
      ],
      "execution_count": 22,
      "outputs": [
        {
          "output_type": "display_data",
          "data": {
            "image/png": "[encoded data removed]",
            "text/plain": [
              "<Figure size 432x288 with 1 Axes>"
            ]
          },
          "metadata": {
            "tags": [],
            "needs_background": "light"
          }
        }
      ]
    },
    {
      "cell_type": "markdown",
      "metadata": {
        "id": "cwCNqrzNVWYQ",
        "colab_type": "text"
      },
      "source": [
        "\n",
        "\n",
        "# Ejercicios"
      ]
    },
    {
      "cell_type": "markdown",
      "metadata": {
        "id": "BRBvCnvHVWYQ",
        "colab_type": "text"
      },
      "source": [
        "\n",
        "\n",
        "## Ejercicio 1\n",
        "\n",
        "Elige el dataset que quieras y calcula la varianza de cada variable. ¿Quitarías alguna variable basándote en este principio?."
      ]
    },
    {
      "cell_type": "code",
      "metadata": {
        "id": "lkHx3I8RVWYQ",
        "colab_type": "code",
        "colab": {}
      },
      "source": [
        "# Respuesta aqui"
      ],
      "execution_count": 23,
      "outputs": []
    },
    {
      "cell_type": "markdown",
      "metadata": {
        "id": "cfc2LB2aVWYS",
        "colab_type": "text"
      },
      "source": [
        "\n",
        "\n",
        "## Ejercicio 2\n",
        "\n",
        "Elige el mismo dataset, calcula las varianzas y quedate con las tres mejores variables."
      ]
    },
    {
      "cell_type": "code",
      "metadata": {
        "id": "QFf9MS2HVWYT",
        "colab_type": "code",
        "colab": {}
      },
      "source": [
        "# Respuesta aqui"
      ],
      "execution_count": 24,
      "outputs": []
    },
    {
      "cell_type": "markdown",
      "metadata": {
        "id": "xG589mQpVWYU",
        "colab_type": "text"
      },
      "source": [
        "\n",
        "\n",
        "## Ejercicio 3\n",
        "\n",
        "Elige el mismo dataset de antes, y quedate con las 3 mejores variables con este método. ¿Coinciden?.\n"
      ]
    },
    {
      "cell_type": "code",
      "metadata": {
        "id": "mL-FZQM4VWYV",
        "colab_type": "code",
        "colab": {}
      },
      "source": [
        "# Respuesta aqui"
      ],
      "execution_count": 25,
      "outputs": []
    }
  ]
}