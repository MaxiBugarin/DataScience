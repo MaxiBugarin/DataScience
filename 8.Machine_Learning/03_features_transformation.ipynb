{
  "nbformat": 4,
  "nbformat_minor": 0,
  "metadata": {
    "colab": {
      "name": "03_features_transformation.ipynb",
      "provenance": [],
      "include_colab_link": true
    },
    "kernelspec": {
      "name": "python3",
      "display_name": "Python 3"
    }
  },
  "cells": [
    {
      "cell_type": "markdown",
      "metadata": {
        "id": "view-in-github",
        "colab_type": "text"
      },
      "source": [
        "<a href=\"https://colab.research.google.com/github/al34n1x/DataScience/blob/master/8.Machine_Learning/03_features_transformation.ipynb\" target=\"_parent\"><img src=\"https://colab.research.google.com/assets/colab-badge.svg\" alt=\"Open In Colab\"/></a>"
      ]
    },
    {
      "cell_type": "markdown",
      "metadata": {
        "id": "Va42QVywwwaE"
      },
      "source": [
        "\n",
        "\n",
        "# Transformación de variables"
      ]
    },
    {
      "cell_type": "markdown",
      "metadata": {
        "id": "EJto6Hj5wwaF"
      },
      "source": [
        "\n",
        "\n",
        "# Reescalado de variables\n",
        "\n",
        "Reescalar consiste en ajustar los datos a una escala determinada, con unos límites superior e inferior. Una de escalas más usadas es la minmax, en la que se escalan los valores mediante la siguiente expresión.\n",
        "\n",
        "\n"
      ]
    },
    {
      "cell_type": "markdown",
      "metadata": {
        "id": "pz8ol-JjwwaJ"
      },
      "source": [
        "\n",
        "\n",
        "\\begin{equation}\n",
        "Z = \\frac{x - min(x)}{max(x) - min(x)}\n",
        "\\end{equation}"
      ]
    },
    {
      "cell_type": "markdown",
      "metadata": {
        "id": "LuicNnUzwwaK"
      },
      "source": [
        "\n",
        "\n",
        "En Python podemos aplicar esta escala con los siguiente pasos."
      ]
    },
    {
      "cell_type": "code",
      "metadata": {
        "id": "lSKDB4uFwwaM"
      },
      "source": [
        "from sklearn import preprocessing\n",
        "import numpy as np"
      ],
      "execution_count": 1,
      "outputs": []
    },
    {
      "cell_type": "markdown",
      "metadata": {
        "id": "XnetXRFVwwaS"
      },
      "source": [
        "\n",
        "\n",
        "Creamos un conjunto de datos"
      ]
    },
    {
      "cell_type": "code",
      "metadata": {
        "id": "uWSSLM9BwwaU"
      },
      "source": [
        "\n",
        "x = np.array([[-500.5], \n",
        "              [-100.1], \n",
        "              [0], \n",
        "              [100.1], \n",
        "              [900.9]])"
      ],
      "execution_count": 2,
      "outputs": []
    },
    {
      "cell_type": "markdown",
      "metadata": {
        "id": "W_QI2Jkewwad"
      },
      "source": [
        "\n",
        "\n",
        "Creamos una objeto MinMaxScaler"
      ]
    },
    {
      "cell_type": "code",
      "metadata": {
        "id": "ZH3kzyJEwwae"
      },
      "source": [
        "minmax_scale = preprocessing.MinMaxScaler(feature_range=(0, 1))"
      ],
      "execution_count": 4,
      "outputs": []
    },
    {
      "cell_type": "markdown",
      "metadata": {
        "id": "roJvq4Ppwwak"
      },
      "source": [
        "\n",
        "\n",
        "Aplicamos la escala"
      ]
    },
    {
      "cell_type": "code",
      "metadata": {
        "id": "NzmLH58Wwwam"
      },
      "source": [
        "x_scale = minmax_scale.fit_transform(x)"
      ],
      "execution_count": 5,
      "outputs": []
    },
    {
      "cell_type": "markdown",
      "metadata": {
        "id": "tivCKriOwwav"
      },
      "source": [
        "\n",
        "\n",
        "Vemos la transformación"
      ]
    },
    {
      "cell_type": "code",
      "metadata": {
        "id": "PgPWM1oZwwaw",
        "colab": {
          "base_uri": "https://localhost:8080/"
        },
        "outputId": "376a52ac-52f8-4496-8cd2-ccbedabc997d"
      },
      "source": [
        "x_scale"
      ],
      "execution_count": 6,
      "outputs": [
        {
          "output_type": "execute_result",
          "data": {
            "text/plain": [
              "array([[0.        ],\n",
              "       [0.28571429],\n",
              "       [0.35714286],\n",
              "       [0.42857143],\n",
              "       [1.        ]])"
            ]
          },
          "metadata": {},
          "execution_count": 6
        }
      ]
    },
    {
      "cell_type": "markdown",
      "metadata": {
        "id": "o5om5W-Kwwa0"
      },
      "source": [
        "\n",
        "\n",
        "# Standarización de variables\n",
        "\n",
        "La standarización es otro método de escalado. Consiste en reescalar una variable para que tenga media 0 y una varianza igual a 1.\n",
        "\n",
        "Vemos como aplicarlo en Python.\n",
        "\n"
      ]
    },
    {
      "cell_type": "code",
      "metadata": {
        "id": "XZ2MiRTrwwa2"
      },
      "source": [
        "from sklearn import preprocessing\n",
        "import numpy as np"
      ],
      "execution_count": 7,
      "outputs": []
    },
    {
      "cell_type": "markdown",
      "metadata": {
        "id": "qruR4XMEwwa7"
      },
      "source": [
        "\n",
        "\n",
        "Creamos un conjutno de datos"
      ]
    },
    {
      "cell_type": "code",
      "metadata": {
        "id": "QzFn-IOewwa8"
      },
      "source": [
        "x = np.array([[-500.5], \n",
        "              [-100.1], \n",
        "              [0], \n",
        "              [100.1], \n",
        "              [900.9]])"
      ],
      "execution_count": 8,
      "outputs": []
    },
    {
      "cell_type": "markdown",
      "metadata": {
        "id": "ENxiF18BwwbC"
      },
      "source": [
        "\n",
        "\n",
        "Creamos el objeto para escalar"
      ]
    },
    {
      "cell_type": "code",
      "metadata": {
        "id": "W7ifkjMGwwbD"
      },
      "source": [
        "scaler = preprocessing.StandardScaler()"
      ],
      "execution_count": 9,
      "outputs": []
    },
    {
      "cell_type": "markdown",
      "metadata": {
        "id": "y2Sltn1SwwbJ"
      },
      "source": [
        "\n",
        "\n",
        "Lo aplicamos"
      ]
    },
    {
      "cell_type": "code",
      "metadata": {
        "id": "9Z-Yp6u2wwbL"
      },
      "source": [
        "standardized = scaler.fit_transform(x)"
      ],
      "execution_count": 10,
      "outputs": []
    },
    {
      "cell_type": "markdown",
      "metadata": {
        "id": "lDruzCj1wwbQ"
      },
      "source": [
        "\n",
        "\n",
        "Vemos la transformación"
      ]
    },
    {
      "cell_type": "code",
      "metadata": {
        "id": "BPG-BtHcwwbS",
        "colab": {
          "base_uri": "https://localhost:8080/"
        },
        "outputId": "f2416b00-be31-433e-befe-5738be1311b5"
      },
      "source": [
        "standardized"
      ],
      "execution_count": 11,
      "outputs": [
        {
          "output_type": "execute_result",
          "data": {
            "text/plain": [
              "array([[-1.26687088],\n",
              "       [-0.39316683],\n",
              "       [-0.17474081],\n",
              "       [ 0.0436852 ],\n",
              "       [ 1.79109332]])"
            ]
          },
          "metadata": {},
          "execution_count": 11
        }
      ]
    },
    {
      "cell_type": "markdown",
      "metadata": {
        "id": "i1NgvOFVwwbW"
      },
      "source": [
        "\n",
        "\n",
        "# Discretización de variables\n",
        "\n",
        "Consiste en el proceso de asignar los datos a una serie de valores discretos."
      ]
    },
    {
      "cell_type": "code",
      "metadata": {
        "id": "kUYQ6volwwbX"
      },
      "source": [
        "from sklearn.preprocessing import Binarizer\n",
        "import numpy as np"
      ],
      "execution_count": 12,
      "outputs": []
    },
    {
      "cell_type": "code",
      "metadata": {
        "id": "jFqLQPTZwwbb"
      },
      "source": [
        "age = np.array([[6], \n",
        "                [12], \n",
        "                [20], \n",
        "                [36], \n",
        "                [65]])"
      ],
      "execution_count": 13,
      "outputs": []
    },
    {
      "cell_type": "markdown",
      "metadata": {
        "id": "UegOUnUXwwbh"
      },
      "source": [
        "\n",
        "\n",
        "Tenemos dos opciones en Python, usar un Binarizer, que asigna un valor u otro en función de un límite, o crear unos bins."
      ]
    },
    {
      "cell_type": "markdown",
      "metadata": {
        "id": "OVKUFQgVwwbh"
      },
      "source": [
        "\n",
        "\n",
        "Creamos el Binarizer indicando el límite de edad de 18"
      ]
    },
    {
      "cell_type": "code",
      "metadata": {
        "id": "d5uJHXH-wwbi"
      },
      "source": [
        "binarizer = Binarizer(18)"
      ],
      "execution_count": 14,
      "outputs": []
    },
    {
      "cell_type": "markdown",
      "metadata": {
        "id": "qlzfaYFswwbm"
      },
      "source": [
        "\n",
        "\n",
        "Aplicamos la transformación"
      ]
    },
    {
      "cell_type": "code",
      "metadata": {
        "id": "tb2rfKpPwwbm",
        "colab": {
          "base_uri": "https://localhost:8080/"
        },
        "outputId": "86c63663-27b0-4a50-ba9c-55cd398975cb"
      },
      "source": [
        "binarizer.fit_transform(age)"
      ],
      "execution_count": 15,
      "outputs": [
        {
          "output_type": "execute_result",
          "data": {
            "text/plain": [
              "array([[0],\n",
              "       [0],\n",
              "       [1],\n",
              "       [1],\n",
              "       [1]])"
            ]
          },
          "metadata": {},
          "execution_count": 15
        }
      ]
    },
    {
      "cell_type": "markdown",
      "metadata": {
        "id": "HnuPREO6wwbr"
      },
      "source": [
        "\n",
        "\n",
        "Creamos una serir de bins a los que asignar los valores"
      ]
    },
    {
      "cell_type": "code",
      "metadata": {
        "id": "6zkZKPCuwwbr",
        "colab": {
          "base_uri": "https://localhost:8080/"
        },
        "outputId": "fc411e4f-e435-4563-a1f4-eb90eb96e31c"
      },
      "source": [
        "np.digitize(age, bins=[20,30,64])"
      ],
      "execution_count": 16,
      "outputs": [
        {
          "output_type": "execute_result",
          "data": {
            "text/plain": [
              "array([[0],\n",
              "       [0],\n",
              "       [1],\n",
              "       [2],\n",
              "       [3]])"
            ]
          },
          "metadata": {},
          "execution_count": 16
        }
      ]
    },
    {
      "cell_type": "markdown",
      "metadata": {
        "id": "3-t1RU04wwbv"
      },
      "source": [
        "\n",
        "\n",
        "# Reshape\n",
        "\n",
        "El proceso de reshape consiste en dar una nueva forma a la estructura de los datos, sin modificarlos.\n",
        "\n"
      ]
    },
    {
      "cell_type": "markdown",
      "metadata": {
        "id": "RE4DooEewwbv"
      },
      "source": [
        "\n",
        "\n",
        "Por ejemplo, dada la matriz 4x3"
      ]
    },
    {
      "cell_type": "code",
      "metadata": {
        "id": "oVhj6bMlwwbw",
        "colab": {
          "base_uri": "https://localhost:8080/"
        },
        "outputId": "782e2951-5300-4a0d-af78-138435fd3c10"
      },
      "source": [
        "matrix = np.array([[1, 2, 3],\n",
        "                   [4, 5, 6],\n",
        "                   [7, 8, 9],\n",
        "                   [10, 11, 12]])\n",
        "matrix"
      ],
      "execution_count": 17,
      "outputs": [
        {
          "output_type": "execute_result",
          "data": {
            "text/plain": [
              "array([[ 1,  2,  3],\n",
              "       [ 4,  5,  6],\n",
              "       [ 7,  8,  9],\n",
              "       [10, 11, 12]])"
            ]
          },
          "metadata": {},
          "execution_count": 17
        }
      ]
    },
    {
      "cell_type": "markdown",
      "metadata": {
        "id": "tsxQYTH0wwb0"
      },
      "source": [
        "\n",
        "\n",
        "Podemos transformar los datos por ejemplo en una matriz de 2x6"
      ]
    },
    {
      "cell_type": "code",
      "metadata": {
        "id": "ysPG8vfRwwb3",
        "colab": {
          "base_uri": "https://localhost:8080/"
        },
        "outputId": "d5ef551d-37e5-4df8-f16e-147270626794"
      },
      "source": [
        "matrix.reshape(2, 6)"
      ],
      "execution_count": 18,
      "outputs": [
        {
          "output_type": "execute_result",
          "data": {
            "text/plain": [
              "array([[ 1,  2,  3,  4,  5,  6],\n",
              "       [ 7,  8,  9, 10, 11, 12]])"
            ]
          },
          "metadata": {},
          "execution_count": 18
        }
      ]
    },
    {
      "cell_type": "markdown",
      "metadata": {
        "id": "P5ZZ86_Jwwb6"
      },
      "source": [
        "\n",
        "\n",
        "# One-Hot Encoder\n",
        "\n",
        "El proceso de One-hot encoding consiste en la transformación de variables categóricas en una nueva forma que se puede alimentar a los algoritmos de modo que de lugar a una mejora en las predicciones.\n"
      ]
    },
    {
      "cell_type": "code",
      "metadata": {
        "id": "XPyBYeLzwwb7"
      },
      "source": [
        "from sklearn.preprocessing import MultiLabelBinarizer\n",
        "import numpy as np\n",
        "import pandas as pd\n",
        "from sklearn import linear_model, decomposition, datasets\n",
        "from sklearn.pipeline import Pipeline\n",
        "from sklearn.model_selection import GridSearchCV, cross_val_score\n",
        "from sklearn.preprocessing import StandardScaler\n"
      ],
      "execution_count": 19,
      "outputs": []
    },
    {
      "cell_type": "markdown",
      "metadata": {
        "id": "W6DzYHYVwwb_"
      },
      "source": [
        "\n",
        "\n",
        "Creamos unos datos categóricos de ejemplo"
      ]
    },
    {
      "cell_type": "code",
      "metadata": {
        "id": "oVbLhDHWwwcB",
        "colab": {
          "base_uri": "https://localhost:8080/"
        },
        "outputId": "eb179cec-1edc-47cd-fb45-616e3bf33f1b"
      },
      "source": [
        "y = [('Texas', 'Florida'), \n",
        "    ('California', 'Alabama'), \n",
        "    ('Texas', 'Florida'), \n",
        "    ('Delware', 'Florida'), \n",
        "    ('Texas', 'Alabama')]\n",
        "y"
      ],
      "execution_count": 20,
      "outputs": [
        {
          "output_type": "execute_result",
          "data": {
            "text/plain": [
              "[('Texas', 'Florida'),\n",
              " ('California', 'Alabama'),\n",
              " ('Texas', 'Florida'),\n",
              " ('Delware', 'Florida'),\n",
              " ('Texas', 'Alabama')]"
            ]
          },
          "metadata": {},
          "execution_count": 20
        }
      ]
    },
    {
      "cell_type": "markdown",
      "metadata": {
        "id": "elakffI6wwcF"
      },
      "source": [
        "\n",
        "\n",
        "Donde tenemos 5 grupos con 5 elementos únicos. Podemos transformar esta información en un array de 5x5 en cada elemento esté representado por un 1 ó 0, indicando la existencia o no del mismo."
      ]
    },
    {
      "cell_type": "markdown",
      "metadata": {
        "id": "XoT_vuNbwwcG"
      },
      "source": [
        "\n",
        "\n",
        "Creamos un objeto MultiLabelBinarizer"
      ]
    },
    {
      "cell_type": "code",
      "metadata": {
        "id": "GaFcrvdNwwcG"
      },
      "source": [
        "one_hot = MultiLabelBinarizer()\n"
      ],
      "execution_count": 21,
      "outputs": []
    },
    {
      "cell_type": "markdown",
      "metadata": {
        "id": "gWb6h_w3wwcM"
      },
      "source": [
        "\n",
        "\n",
        "Realizamos la transformación"
      ]
    },
    {
      "cell_type": "code",
      "metadata": {
        "id": "Uhvyo9WRwwcM",
        "colab": {
          "base_uri": "https://localhost:8080/"
        },
        "outputId": "70699e28-bd30-417b-a315-d889ed93b543"
      },
      "source": [
        "one_hot.fit_transform(y)"
      ],
      "execution_count": 22,
      "outputs": [
        {
          "output_type": "execute_result",
          "data": {
            "text/plain": [
              "array([[0, 0, 0, 1, 1],\n",
              "       [1, 1, 0, 0, 0],\n",
              "       [0, 0, 0, 1, 1],\n",
              "       [0, 0, 1, 1, 0],\n",
              "       [1, 0, 0, 0, 1]])"
            ]
          },
          "metadata": {},
          "execution_count": 22
        }
      ]
    },
    {
      "cell_type": "markdown",
      "metadata": {
        "id": "Z37l0Xs5wwcP"
      },
      "source": [
        "\n",
        "\n",
        "Vemos cúal es el mapeo de datos"
      ]
    },
    {
      "cell_type": "code",
      "metadata": {
        "id": "04wWIoLCwwcQ",
        "colab": {
          "base_uri": "https://localhost:8080/"
        },
        "outputId": "3f3ab64c-7163-4822-f41a-f1a64b0792b8"
      },
      "source": [
        "one_hot.classes_"
      ],
      "execution_count": 23,
      "outputs": [
        {
          "output_type": "execute_result",
          "data": {
            "text/plain": [
              "array(['Alabama', 'California', 'Delware', 'Florida', 'Texas'],\n",
              "      dtype=object)"
            ]
          },
          "metadata": {},
          "execution_count": 23
        }
      ]
    },
    {
      "cell_type": "markdown",
      "metadata": {
        "id": "Etw8U6UJwwcU"
      },
      "source": [
        "\n",
        "\n",
        "# Pipelines\n",
        "\n",
        "Un pipeline consiste en una serie encadenada de transformaciones sobre los datos ( por ejemplo normalizar númericos, tratar NaNs, etc...) junto con un estimador (algoritmo). Este proceso permite realizar todos los procesos en bloque."
      ]
    },
    {
      "cell_type": "markdown",
      "metadata": {
        "id": "RT6_VIyRwwcU"
      },
      "source": [
        "\n",
        "\n",
        "Cargamos una dataset de ejemplo con datos sobre cancer"
      ]
    },
    {
      "cell_type": "code",
      "metadata": {
        "id": "7M3QyAenwwcV"
      },
      "source": [
        "dataset = datasets.load_breast_cancer()"
      ],
      "execution_count": 24,
      "outputs": []
    },
    {
      "cell_type": "code",
      "metadata": {
        "id": "d9OOQKSCzr6y",
        "outputId": "e1781949-0663-4bfc-dbad-e4a0fa37d6b7",
        "colab": {
          "base_uri": "https://localhost:8080/",
          "height": 148
        }
      },
      "source": [
        "dataset.DESCR"
      ],
      "execution_count": 25,
      "outputs": [
        {
          "output_type": "execute_result",
          "data": {
            "application/vnd.google.colaboratory.intrinsic+json": {
              "type": "string"
            },
            "text/plain": [
              "'.. _breast_cancer_dataset:\\n\\nBreast cancer wisconsin (diagnostic) dataset\\n--------------------------------------------\\n\\n**Data Set Characteristics:**\\n\\n    :Number of Instances: 569\\n\\n    :Number of Attributes: 30 numeric, predictive attributes and the class\\n\\n    :Attribute Information:\\n        - radius (mean of distances from center to points on the perimeter)\\n        - texture (standard deviation of gray-scale values)\\n        - perimeter\\n        - area\\n        - smoothness (local variation in radius lengths)\\n        - compactness (perimeter^2 / area - 1.0)\\n        - concavity (severity of concave portions of the contour)\\n        - concave points (number of concave portions of the contour)\\n        - symmetry \\n        - fractal dimension (\"coastline approximation\" - 1)\\n\\n        The mean, standard error, and \"worst\" or largest (mean of the three\\n        largest values) of these features were computed for each image,\\n        resulting in 30 features.  For instance, field 3 is Mean Radius, field\\n        13 is Radius SE, field 23 is Worst Radius.\\n\\n        - class:\\n                - WDBC-Malignant\\n                - WDBC-Benign\\n\\n    :Summary Statistics:\\n\\n    ===================================== ====== ======\\n                                           Min    Max\\n    ===================================== ====== ======\\n    radius (mean):                        6.981  28.11\\n    texture (mean):                       9.71   39.28\\n    perimeter (mean):                     43.79  188.5\\n    area (mean):                          143.5  2501.0\\n    smoothness (mean):                    0.053  0.163\\n    compactness (mean):                   0.019  0.345\\n    concavity (mean):                     0.0    0.427\\n    concave points (mean):                0.0    0.201\\n    symmetry (mean):                      0.106  0.304\\n    fractal dimension (mean):             0.05   0.097\\n    radius (standard error):              0.112  2.873\\n    texture (standard error):             0.36   4.885\\n    perimeter (standard error):           0.757  21.98\\n    area (standard error):                6.802  542.2\\n    smoothness (standard error):          0.002  0.031\\n    compactness (standard error):         0.002  0.135\\n    concavity (standard error):           0.0    0.396\\n    concave points (standard error):      0.0    0.053\\n    symmetry (standard error):            0.008  0.079\\n    fractal dimension (standard error):   0.001  0.03\\n    radius (worst):                       7.93   36.04\\n    texture (worst):                      12.02  49.54\\n    perimeter (worst):                    50.41  251.2\\n    area (worst):                         185.2  4254.0\\n    smoothness (worst):                   0.071  0.223\\n    compactness (worst):                  0.027  1.058\\n    concavity (worst):                    0.0    1.252\\n    concave points (worst):               0.0    0.291\\n    symmetry (worst):                     0.156  0.664\\n    fractal dimension (worst):            0.055  0.208\\n    ===================================== ====== ======\\n\\n    :Missing Attribute Values: None\\n\\n    :Class Distribution: 212 - Malignant, 357 - Benign\\n\\n    :Creator:  Dr. William H. Wolberg, W. Nick Street, Olvi L. Mangasarian\\n\\n    :Donor: Nick Street\\n\\n    :Date: November, 1995\\n\\nThis is a copy of UCI ML Breast Cancer Wisconsin (Diagnostic) datasets.\\nhttps://goo.gl/U2Uwz2\\n\\nFeatures are computed from a digitized image of a fine needle\\naspirate (FNA) of a breast mass.  They describe\\ncharacteristics of the cell nuclei present in the image.\\n\\nSeparating plane described above was obtained using\\nMultisurface Method-Tree (MSM-T) [K. P. Bennett, \"Decision Tree\\nConstruction Via Linear Programming.\" Proceedings of the 4th\\nMidwest Artificial Intelligence and Cognitive Science Society,\\npp. 97-101, 1992], a classification method which uses linear\\nprogramming to construct a decision tree.  Relevant features\\nwere selected using an exhaustive search in the space of 1-4\\nfeatures and 1-3 separating planes.\\n\\nThe actual linear program used to obtain the separating plane\\nin the 3-dimensional space is that described in:\\n[K. P. Bennett and O. L. Mangasarian: \"Robust Linear\\nProgramming Discrimination of Two Linearly Inseparable Sets\",\\nOptimization Methods and Software 1, 1992, 23-34].\\n\\nThis database is also available through the UW CS ftp server:\\n\\nftp ftp.cs.wisc.edu\\ncd math-prog/cpo-dataset/machine-learn/WDBC/\\n\\n.. topic:: References\\n\\n   - W.N. Street, W.H. Wolberg and O.L. Mangasarian. Nuclear feature extraction \\n     for breast tumor diagnosis. IS&T/SPIE 1993 International Symposium on \\n     Electronic Imaging: Science and Technology, volume 1905, pages 861-870,\\n     San Jose, CA, 1993.\\n   - O.L. Mangasarian, W.N. Street and W.H. Wolberg. Breast cancer diagnosis and \\n     prognosis via linear programming. Operations Research, 43(4), pages 570-577, \\n     July-August 1995.\\n   - W.H. Wolberg, W.N. Street, and O.L. Mangasarian. Machine learning techniques\\n     to diagnose breast cancer from fine-needle aspirates. Cancer Letters 77 (1994) \\n     163-171.'"
            ]
          },
          "metadata": {},
          "execution_count": 25
        }
      ]
    },
    {
      "cell_type": "code",
      "metadata": {
        "id": "evUqGdbhz1Ry",
        "outputId": "43684c8f-d9fb-4871-cc7f-5863012b7857",
        "colab": {
          "base_uri": "https://localhost:8080/"
        }
      },
      "source": [
        "dataset.data.shape"
      ],
      "execution_count": 26,
      "outputs": [
        {
          "output_type": "execute_result",
          "data": {
            "text/plain": [
              "(569, 30)"
            ]
          },
          "metadata": {},
          "execution_count": 26
        }
      ]
    },
    {
      "cell_type": "code",
      "metadata": {
        "id": "7hVPF49Az4v8"
      },
      "source": [
        ""
      ],
      "execution_count": null,
      "outputs": []
    },
    {
      "cell_type": "markdown",
      "metadata": {
        "id": "iU4aWUGYwwcZ"
      },
      "source": [
        "\n",
        "\n",
        "Create X from the dataset's features"
      ]
    },
    {
      "cell_type": "code",
      "metadata": {
        "id": "q1F5m0JuwwcZ"
      },
      "source": [
        "X = dataset.data"
      ],
      "execution_count": 27,
      "outputs": []
    },
    {
      "cell_type": "markdown",
      "metadata": {
        "id": "VgSLF9HMwwco"
      },
      "source": [
        "\n",
        "\n",
        "Create y from the dataset's output"
      ]
    },
    {
      "cell_type": "code",
      "metadata": {
        "id": "zELNwlA8wwcp"
      },
      "source": [
        "y = dataset.target"
      ],
      "execution_count": 29,
      "outputs": []
    },
    {
      "cell_type": "markdown",
      "metadata": {
        "id": "qW2abbjEwwcr"
      },
      "source": [
        "\n",
        "\n",
        "A continuación creamos una serie de transformaciones sobre los datos:\n",
        "\n",
        "    - escalado\n",
        "    - reducción de dimensiones mediante un PCA\n",
        "\n",
        "Y por último aplicamos un estimador, en este caso una LogisticRegression.\n"
      ]
    },
    {
      "cell_type": "markdown",
      "metadata": {
        "id": "6FHoWnBKwwcs"
      },
      "source": [
        "\n",
        "\n",
        "Creamos el objeto de escalado"
      ]
    },
    {
      "cell_type": "code",
      "metadata": {
        "id": "Dl61NlqYwwcs"
      },
      "source": [
        "sc = StandardScaler()"
      ],
      "execution_count": 30,
      "outputs": []
    },
    {
      "cell_type": "markdown",
      "metadata": {
        "id": "ZYPDT6PFwwcv"
      },
      "source": [
        "\n",
        "\n",
        "Creamos el objeto PCA"
      ]
    },
    {
      "cell_type": "code",
      "metadata": {
        "id": "03oP2vsgwwcw"
      },
      "source": [
        "pca = decomposition.PCA()"
      ],
      "execution_count": 31,
      "outputs": []
    },
    {
      "cell_type": "markdown",
      "metadata": {
        "id": "qJe2nAxNwwc1"
      },
      "source": [
        "\n",
        "\n",
        "Creamos el estimador logistic regression"
      ]
    },
    {
      "cell_type": "code",
      "metadata": {
        "id": "3OJdJhxgwwc2"
      },
      "source": [
        "logistic = linear_model.LogisticRegression(solver='liblinear')"
      ],
      "execution_count": 32,
      "outputs": []
    },
    {
      "cell_type": "markdown",
      "metadata": {
        "id": "9b-Rvxhfwwc5"
      },
      "source": [
        "\n",
        "\n",
        "Por último enlazamos en un pipeline los 3 pasos."
      ]
    },
    {
      "cell_type": "code",
      "metadata": {
        "id": "lmAwA0LNwwc6"
      },
      "source": [
        "pipe = Pipeline(steps=[('sc', sc), \n",
        "                       ('pca', pca), \n",
        "                       ('logistic', logistic)])"
      ],
      "execution_count": 33,
      "outputs": []
    },
    {
      "cell_type": "markdown",
      "metadata": {
        "id": "18NUrq0nwwc8"
      },
      "source": [
        "\n",
        "\n",
        "Adicionalmente creamos una rejilla de parámetros que nos permita obtener el modelo con mejores métricas."
      ]
    },
    {
      "cell_type": "markdown",
      "metadata": {
        "id": "JjIJZbs8wwc9"
      },
      "source": [
        "\n",
        "\n",
        "Creamos una lista de componentes para el PCA"
      ]
    },
    {
      "cell_type": "code",
      "metadata": {
        "id": "DW-8yrAbwwc9"
      },
      "source": [
        "n_components = list(range(1,X.shape[1]+1,1))\n",
        "n_components = [2,3,4,5,10]"
      ],
      "execution_count": 34,
      "outputs": []
    },
    {
      "cell_type": "markdown",
      "metadata": {
        "id": "8KRr8pirwwc_"
      },
      "source": [
        "\n",
        "\n",
        "Creamos una lista de componentes para el parámetro de regularización de la regresión."
      ]
    },
    {
      "cell_type": "code",
      "metadata": {
        "id": "qfZBjuAtwwdA"
      },
      "source": [
        "C = np.logspace(-4, 4, 50)"
      ],
      "execution_count": 35,
      "outputs": []
    },
    {
      "cell_type": "markdown",
      "metadata": {
        "id": "9ymvXSVpwwdD"
      },
      "source": [
        "\n",
        "\n",
        "Creamos una lista de componentes para la penalización de la regresión."
      ]
    },
    {
      "cell_type": "code",
      "metadata": {
        "id": "1YVukTaWwwdE"
      },
      "source": [
        "#penalty = ['l2']\n",
        "penalty = ['l1','l2']"
      ],
      "execution_count": 36,
      "outputs": []
    },
    {
      "cell_type": "markdown",
      "metadata": {
        "id": "YZjZVf72wwdG"
      },
      "source": [
        "\n",
        "\n",
        "Por último generamos un diccionario con todos estos parámetros."
      ]
    },
    {
      "cell_type": "code",
      "metadata": {
        "id": "bw0UtiUHwwdH"
      },
      "source": [
        "parameters = dict(pca__n_components=n_components, \n",
        "                  logistic__C=C,\n",
        "                  logistic__penalty=penalty)"
      ],
      "execution_count": 37,
      "outputs": []
    },
    {
      "cell_type": "code",
      "metadata": {
        "id": "akEqhdB0Bn0P",
        "outputId": "1d3eae58-8c18-42f2-eb28-31d70fd62521",
        "colab": {
          "base_uri": "https://localhost:8080/"
        }
      },
      "source": [
        "parameters"
      ],
      "execution_count": 38,
      "outputs": [
        {
          "output_type": "execute_result",
          "data": {
            "text/plain": [
              "{'logistic__C': array([1.00000000e-04, 1.45634848e-04, 2.12095089e-04, 3.08884360e-04,\n",
              "        4.49843267e-04, 6.55128557e-04, 9.54095476e-04, 1.38949549e-03,\n",
              "        2.02358965e-03, 2.94705170e-03, 4.29193426e-03, 6.25055193e-03,\n",
              "        9.10298178e-03, 1.32571137e-02, 1.93069773e-02, 2.81176870e-02,\n",
              "        4.09491506e-02, 5.96362332e-02, 8.68511374e-02, 1.26485522e-01,\n",
              "        1.84206997e-01, 2.68269580e-01, 3.90693994e-01, 5.68986603e-01,\n",
              "        8.28642773e-01, 1.20679264e+00, 1.75751062e+00, 2.55954792e+00,\n",
              "        3.72759372e+00, 5.42867544e+00, 7.90604321e+00, 1.15139540e+01,\n",
              "        1.67683294e+01, 2.44205309e+01, 3.55648031e+01, 5.17947468e+01,\n",
              "        7.54312006e+01, 1.09854114e+02, 1.59985872e+02, 2.32995181e+02,\n",
              "        3.39322177e+02, 4.94171336e+02, 7.19685673e+02, 1.04811313e+03,\n",
              "        1.52641797e+03, 2.22299648e+03, 3.23745754e+03, 4.71486636e+03,\n",
              "        6.86648845e+03, 1.00000000e+04]),\n",
              " 'logistic__penalty': ['l1', 'l2'],\n",
              " 'pca__n_components': [2, 3, 4, 5, 10]}"
            ]
          },
          "metadata": {},
          "execution_count": 38
        }
      ]
    },
    {
      "cell_type": "code",
      "metadata": {
        "id": "bNOjqswoBpTs"
      },
      "source": [
        ""
      ],
      "execution_count": null,
      "outputs": []
    },
    {
      "cell_type": "markdown",
      "metadata": {
        "id": "rJGRE6DXwwdK"
      },
      "source": [
        "\n",
        "\n",
        "Uniendo estos elementos en un objeto GridSearchCV podemos hacer una búsqueda de los parámetros que optimizan el resultado y evaluarlo mediante validación cruzada."
      ]
    },
    {
      "cell_type": "markdown",
      "metadata": {
        "id": "ccI6EV_rwwdK"
      },
      "source": [
        "\n",
        "\n",
        "Creamos un objeto gridsearch"
      ]
    },
    {
      "cell_type": "code",
      "metadata": {
        "id": "1nuS2E6hwwdL"
      },
      "source": [
        "clf = GridSearchCV(pipe, parameters, n_jobs=-1)\n"
      ],
      "execution_count": 43,
      "outputs": []
    },
    {
      "cell_type": "markdown",
      "metadata": {
        "id": "tFWCucy8wwdN"
      },
      "source": [
        "\n",
        "\n",
        "Ajustamos la rejilla"
      ]
    },
    {
      "cell_type": "code",
      "metadata": {
        "id": "db13RZyFCrni",
        "outputId": "09c7b2f2-9697-4ae4-ac8f-5d48d95e33fe",
        "colab": {
          "base_uri": "https://localhost:8080/"
        }
      },
      "source": [
        "clf.fit(X, y)"
      ],
      "execution_count": 44,
      "outputs": [
        {
          "output_type": "execute_result",
          "data": {
            "text/plain": [
              "GridSearchCV(cv=None, error_score=nan,\n",
              "             estimator=Pipeline(memory=None,\n",
              "                                steps=[('sc',\n",
              "                                        StandardScaler(copy=True,\n",
              "                                                       with_mean=True,\n",
              "                                                       with_std=True)),\n",
              "                                       ('pca',\n",
              "                                        PCA(copy=True, iterated_power='auto',\n",
              "                                            n_components=None,\n",
              "                                            random_state=None,\n",
              "                                            svd_solver='auto', tol=0.0,\n",
              "                                            whiten=False)),\n",
              "                                       ('logistic',\n",
              "                                        LogisticRegression(C=1.0,\n",
              "                                                           class_weight=None,\n",
              "                                                           dual=False,\n",
              "                                                           fit_intercept=True,\n",
              "                                                           intercep...\n",
              "       7.54312006e+01, 1.09854114e+02, 1.59985872e+02, 2.32995181e+02,\n",
              "       3.39322177e+02, 4.94171336e+02, 7.19685673e+02, 1.04811313e+03,\n",
              "       1.52641797e+03, 2.22299648e+03, 3.23745754e+03, 4.71486636e+03,\n",
              "       6.86648845e+03, 1.00000000e+04]),\n",
              "                         'logistic__penalty': ['l1', 'l2'],\n",
              "                         'pca__n_components': [2, 3, 4, 5, 10]},\n",
              "             pre_dispatch='2*n_jobs', refit=True, return_train_score=False,\n",
              "             scoring=None, verbose=0)"
            ]
          },
          "metadata": {},
          "execution_count": 44
        }
      ]
    },
    {
      "cell_type": "markdown",
      "metadata": {
        "id": "um97de6AwwdQ"
      },
      "source": [
        "\n",
        "\n",
        "Vemos los mejores parámetros"
      ]
    },
    {
      "cell_type": "code",
      "metadata": {
        "id": "FWLLZExmwwdQ",
        "colab": {
          "base_uri": "https://localhost:8080/"
        },
        "outputId": "82a4985d-2a24-401d-d20d-674560389ccc"
      },
      "source": [
        "print('Best Penalty:', clf.best_estimator_.get_params()['logistic__penalty'])\n",
        "print('Best C:', clf.best_estimator_.get_params()['logistic__C'])\n",
        "print('Best Number Of Components:', clf.best_estimator_.get_params()['pca__n_components'])"
      ],
      "execution_count": 42,
      "outputs": [
        {
          "output_type": "stream",
          "name": "stdout",
          "text": [
            "Best Penalty: l2\n",
            "Best C: 0.12648552168552957\n",
            "Best Number Of Components: 10\n"
          ]
        }
      ]
    },
    {
      "cell_type": "markdown",
      "metadata": {
        "id": "_qOuVxRvwwdV"
      },
      "source": [
        "\n",
        "\n",
        "Ajustamos el gridsearch usando validación cruzada con k=3"
      ]
    },
    {
      "cell_type": "code",
      "metadata": {
        "id": "Z15kMPelwwdW",
        "colab": {
          "base_uri": "https://localhost:8080/"
        },
        "outputId": "2e6b93c8-12be-4ae3-91ae-170bb1034e21"
      },
      "source": [
        "cross_val_score(clf, X, y)"
      ],
      "execution_count": 45,
      "outputs": [
        {
          "output_type": "execute_result",
          "data": {
            "text/plain": [
              "array([0.98245614, 0.97368421, 0.99122807, 0.97368421, 0.98230088])"
            ]
          },
          "metadata": {},
          "execution_count": 45
        }
      ]
    },
    {
      "cell_type": "markdown",
      "metadata": {
        "id": "_l72qE_2wwdY"
      },
      "source": [
        "\n",
        "\n",
        "# Ejercicios \n",
        "\n",
        "Dados los siguientes datos, la representación gráfica de las variables numéricas y la accuracy de un KNN."
      ]
    },
    {
      "cell_type": "code",
      "metadata": {
        "id": "obuF6TBXwwdZ"
      },
      "source": [
        "import pandas as pd"
      ],
      "execution_count": 46,
      "outputs": []
    },
    {
      "cell_type": "code",
      "metadata": {
        "id": "LA2XwZsawwda"
      },
      "source": [
        "X_train = pd.read_csv('https://github.com/al34n1x/DataScience/raw/master/data/X_train.csv',squeeze=True, delimiter=',')\n",
        "Y_train = pd.read_csv('https://github.com/al34n1x/DataScience/raw/master/data/Y_train.csv',squeeze=True, delimiter=',')\n",
        "X_test = pd.read_csv('https://github.com/al34n1x/DataScience/raw/master/data/X_test.csv',squeeze=True, delimiter=',')\n",
        "Y_test = pd.read_csv('https://github.com/al34n1x/DataScience/raw/master/data/Y_test.csv',squeeze=True, delimiter=',')"
      ],
      "execution_count": 47,
      "outputs": []
    },
    {
      "cell_type": "code",
      "metadata": {
        "id": "UdGCyjgRwwdd",
        "colab": {
          "base_uri": "https://localhost:8080/"
        },
        "outputId": "6e7898a3-b586-480a-b807-977fcd002d55"
      },
      "source": [
        "print (X_train.head())"
      ],
      "execution_count": 48,
      "outputs": [
        {
          "output_type": "stream",
          "name": "stdout",
          "text": [
            "    Loan_ID Gender Married  ... Loan_Amount_Term Credit_History Property_Area\n",
            "0  LP001032   Male      No  ...              360              1         Urban\n",
            "1  LP001824   Male     Yes  ...              480              1     Semiurban\n",
            "2  LP002928   Male     Yes  ...              180              1     Semiurban\n",
            "3  LP001814   Male     Yes  ...              360              1         Urban\n",
            "4  LP002244   Male     Yes  ...              360              1         Urban\n",
            "\n",
            "[5 rows x 12 columns]\n"
          ]
        }
      ]
    },
    {
      "cell_type": "code",
      "metadata": {
        "id": "m2wen5LKwwdh"
      },
      "source": [
        "import matplotlib.pyplot as plt\n",
        "%matplotlib inline"
      ],
      "execution_count": 49,
      "outputs": []
    },
    {
      "cell_type": "markdown",
      "metadata": {
        "id": "ROcJqMtZwwdj"
      },
      "source": [
        "\n",
        "\n",
        "Representamos las variables numéricas"
      ]
    },
    {
      "cell_type": "code",
      "metadata": {
        "id": "oGAKbvwjwwdk",
        "colab": {
          "base_uri": "https://localhost:8080/",
          "height": 793
        },
        "outputId": "96f3ff99-5da0-4658-ce2a-e370eb792ba2"
      },
      "source": [
        "X_train[X_train.dtypes[(X_train.dtypes==\"float64\")|(X_train.dtypes==\"int64\")]\n",
        "                        .index.values].hist(figsize=[11,11])"
      ],
      "execution_count": 50,
      "outputs": [
        {
          "output_type": "execute_result",
          "data": {
            "text/plain": [
              "array([[<matplotlib.axes._subplots.AxesSubplot object at 0x7f5abaaf1f50>,\n",
              "        <matplotlib.axes._subplots.AxesSubplot object at 0x7f5ababb3ed0>],\n",
              "       [<matplotlib.axes._subplots.AxesSubplot object at 0x7f5ab1593b90>,\n",
              "        <matplotlib.axes._subplots.AxesSubplot object at 0x7f5ab1528250>],\n",
              "       [<matplotlib.axes._subplots.AxesSubplot object at 0x7f5ab153d8d0>,\n",
              "        <matplotlib.axes._subplots.AxesSubplot object at 0x7f5ab1563f50>]],\n",
              "      dtype=object)"
            ]
          },
          "metadata": {},
          "execution_count": 50
        },
        {
          "output_type": "display_data",
          "data": {
            "image/png": "[encoded data removed]",
            "text/plain": [
              "<Figure size 792x792 with 6 Axes>"
            ]
          },
          "metadata": {
            "needs_background": "light"
          }
        }
      ]
    },
    {
      "cell_type": "markdown",
      "metadata": {
        "id": "smxDkv2Mwwdn"
      },
      "source": [
        "\n",
        "\n",
        "Ajustamos a un modelo KNN"
      ]
    },
    {
      "cell_type": "code",
      "metadata": {
        "id": "jHM94rjLwwdn",
        "colab": {
          "base_uri": "https://localhost:8080/"
        },
        "outputId": "cdec08c3-2ed5-4f43-88c4-e078a6896fe7"
      },
      "source": [
        "from sklearn.neighbors import KNeighborsClassifier\n",
        "knn=KNeighborsClassifier(n_neighbors=5)\n",
        "knn.fit(X_train[['ApplicantIncome', 'CoapplicantIncome','LoanAmount', \n",
        "                   'Loan_Amount_Term', 'Credit_History']],Y_train)"
      ],
      "execution_count": 51,
      "outputs": [
        {
          "output_type": "execute_result",
          "data": {
            "text/plain": [
              "KNeighborsClassifier(algorithm='auto', leaf_size=30, metric='minkowski',\n",
              "                     metric_params=None, n_jobs=None, n_neighbors=5, p=2,\n",
              "                     weights='uniform')"
            ]
          },
          "metadata": {},
          "execution_count": 51
        }
      ]
    },
    {
      "cell_type": "markdown",
      "metadata": {
        "id": "ItGG7Lkrwwdq"
      },
      "source": [
        "\n",
        "\n",
        "Obtenemos el valor de accuracy"
      ]
    },
    {
      "cell_type": "code",
      "metadata": {
        "id": "6XK4F5Mwwwdr",
        "colab": {
          "base_uri": "https://localhost:8080/"
        },
        "outputId": "173854cb-8c74-46f6-fa0c-0a25d7defa95"
      },
      "source": [
        "from sklearn.metrics import accuracy_score\n",
        "accuracy_score(Y_test,knn.predict(X_test[['ApplicantIncome', 'CoapplicantIncome',\n",
        "                             'LoanAmount', 'Loan_Amount_Term', 'Credit_History']]))"
      ],
      "execution_count": 52,
      "outputs": [
        {
          "output_type": "execute_result",
          "data": {
            "text/plain": [
              "0.6145833333333334"
            ]
          },
          "metadata": {},
          "execution_count": 52
        }
      ]
    },
    {
      "cell_type": "markdown",
      "metadata": {
        "id": "KFLPCTngwwdt"
      },
      "source": [
        "\n",
        "\n",
        "- a. Realice un escalado min/max sobre las variables numéricas y represente su distribución.\n",
        "- b. Estudie como afecta al resultado del clasificador la aplicación de un escalado min/max."
      ]
    },
    {
      "cell_type": "markdown",
      "metadata": {
        "id": "o1NSrKsOwwdu"
      },
      "source": [
        "\n",
        "\n",
        "Realice un escalado min/max sobre las variables numéricas y represente su distribución."
      ]
    },
    {
      "cell_type": "code",
      "metadata": {
        "id": "Q5JltKgKwwdu"
      },
      "source": [
        "# Respuesta aqui"
      ],
      "execution_count": 136,
      "outputs": []
    },
    {
      "cell_type": "code",
      "metadata": {
        "id": "-350TOnNwwdv"
      },
      "source": [
        "# Respuesta aqui"
      ],
      "execution_count": 137,
      "outputs": []
    },
    {
      "cell_type": "code",
      "metadata": {
        "id": "qyJuO8kcwwd0"
      },
      "source": [
        "# Respuesta aqui"
      ],
      "execution_count": 138,
      "outputs": []
    },
    {
      "cell_type": "markdown",
      "metadata": {
        "id": "iJiZue-hwwd3"
      },
      "source": [
        "\n",
        "\n",
        "Estudie como afecta al resultado del clasificador la aplicación de un escalado min/max."
      ]
    },
    {
      "cell_type": "code",
      "metadata": {
        "id": "E6_jsUuHwwd3"
      },
      "source": [
        "# Respuesta aqui"
      ],
      "execution_count": 139,
      "outputs": []
    }
  ]
}