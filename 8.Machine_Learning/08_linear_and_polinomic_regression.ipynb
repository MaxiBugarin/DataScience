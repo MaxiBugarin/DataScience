{
  "nbformat": 4,
  "nbformat_minor": 0,
  "metadata": {
    "kernelspec": {
      "display_name": "Python 3",
      "name": "python3"
    },
    "colab": {
      "name": "08_linear_and_polinomic_regression.ipynb",
      "provenance": [],
      "collapsed_sections": [],
      "include_colab_link": true
    }
  },
  "cells": [
    {
      "cell_type": "markdown",
      "metadata": {
        "id": "view-in-github",
        "colab_type": "text"
      },
      "source": [
        "<a href=\"https://colab.research.google.com/github/al34n1x/DataScience/blob/master/8.Machine_Learning/08_linear_and_polinomic_regression.ipynb\" target=\"_parent\"><img src=\"https://colab.research.google.com/assets/colab-badge.svg\" alt=\"Open In Colab\"/></a>"
      ]
    },
    {
      "cell_type": "markdown",
      "metadata": {
        "id": "gC_n35WJYE8F"
      },
      "source": [
        "\n",
        "\n",
        "<h1>Table of Contents<span class=\"tocSkip\"></span></h1>\n",
        "<div class=\"toc\"><ul class=\"toc-item\"><li><span><a href=\"#Machine-Learning:-Regresión\" data-toc-modified-id=\"Machine-Learning:-Regresión-1\"><span class=\"toc-item-num\">1&nbsp;&nbsp;</span>Machine Learning: Regresión</a></span><ul class=\"toc-item\"><li><span><a href=\"#Regresión-lineal-simple\" data-toc-modified-id=\"Regresión-lineal-simple-1.1\"><span class=\"toc-item-num\">1.1&nbsp;&nbsp;</span>Regresión lineal simple</a></span><ul class=\"toc-item\"><li><span><a href=\"#Scikit-learn\" data-toc-modified-id=\"Scikit-learn-1.1.1\"><span class=\"toc-item-num\">1.1.1&nbsp;&nbsp;</span>Scikit-learn</a></span></li></ul></li><li><span><a href=\"#Regresión-lineal-múltiple\" data-toc-modified-id=\"Regresión-lineal-múltiple-1.2\"><span class=\"toc-item-num\">1.2&nbsp;&nbsp;</span>Regresión lineal múltiple</a></span></li><li><span><a href=\"#Regresión-polinomica\" data-toc-modified-id=\"Regresión-polinomica-1.3\"><span class=\"toc-item-num\">1.3&nbsp;&nbsp;</span>Regresión polinomica</a></span></li></ul></li><li><span><a href=\"#Ejercicios\" data-toc-modified-id=\"Ejercicios-2\"><span class=\"toc-item-num\">2&nbsp;&nbsp;</span>Ejercicios</a></span><ul class=\"toc-item\"><li><span><a href=\"#Ejercicio-1\" data-toc-modified-id=\"Ejercicio-1-2.1\"><span class=\"toc-item-num\">2.1&nbsp;&nbsp;</span>Ejercicio 1</a></span></li><li><span><a href=\"#Ejercicio-2\" data-toc-modified-id=\"Ejercicio-2-2.2\"><span class=\"toc-item-num\">2.2&nbsp;&nbsp;</span>Ejercicio 2</a></span></li></ul></li></ul></div>"
      ]
    },
    {
      "cell_type": "markdown",
      "metadata": {
        "id": "ATLmeYFoYE8I"
      },
      "source": [
        "\n",
        "\n",
        "# Machine Learning: Regresión"
      ]
    },
    {
      "cell_type": "markdown",
      "metadata": {
        "id": "kGEhdNKUYE8J"
      },
      "source": [
        "\n",
        "\n",
        "**¿Qué es regresión?**\n",
        "\n",
        "\n",
        "Es un proceso que permite la estimación de las relaciones funcionales entre variables. En el campo de aprendizaje automático es ampliamente utilizado para la predicción del valor de una variable dependiente, a partir de una o más variables explicativas. El modelo de regresión puede ser lineal o no lineal.\n",
        "\n",
        "\n",
        "**¿Qué preguntas se pueden responder mediante regresiones?**\n",
        "\n",
        "- ¿Cómo varían el volumen de ventas cuando subimos los precios?\n",
        "- ¿Afecta el nombre de un producto a su contratación?\n",
        "- ¿Cuántos clientes contratarán hoy un plan de pensiones?\n",
        "\n",
        "\n",
        "**¿Cuándo usar regresión lineal?**\n",
        "\n",
        "- Cuando queremos predecir el valor de una variable a partir de otras.\n",
        "- Si queremos explicar o entender la relación entre dos o más atributos."
      ]
    },
    {
      "cell_type": "markdown",
      "metadata": {
        "id": "TBmWmAz5YE8L"
      },
      "source": [
        "\n",
        "\n",
        "---\n",
        "\n",
        "## Regresión lineal simple\n",
        "\n",
        "Los problemas de regresión tienen una estructura común: una variable respuesta ($y$) que puede ser expresada como combinación de una o más variables independientes ($x_i$), llamadas covariables o predictores. El algoritmo de regresión intenta construir un modelo que exprese la variable respuesta en función de las covariables, como:\n",
        "\n",
        "$$y = a_1x_1 + a_2x_2 + \\ldots + a_nx_n$$\n",
        "\n",
        "donde $a_i$ son los parámetros del modelo, llamados coeficientes. El modelo se ajusta mediante Mínimos Cuadrados Ordinarios (OLS en inglés), donde los coeficientes son elegidos para minimizar el cuadrado de la distancia (vertical) entre los valores predichos y los reales.\n",
        "\n",
        "La regresión lineal simple considera una sola variable independiente, es decir:\n",
        "\n",
        "$$y = ax$$\n",
        "*Ejemplo*. Para entender las funcionalidades de Python para regresión vamos a construir un modelo sencillo de regresión a partir de datos sintéticos usando varias librerías científicas de Python.  \n",
        "\n",
        "Para ello vamos a generar 300 valores aleatorios de una distribución Gaussiana, los multiplicamos por unos coeficientes que les den una forma aproximadamente lineal."
      ]
    },
    {
      "cell_type": "code",
      "metadata": {
        "id": "X3Wo3vDTYE8N"
      },
      "source": [
        "%matplotlib inline \n",
        "import numpy as np\n",
        "import matplotlib.pyplot as plt\n",
        "import seaborn as sns"
      ],
      "execution_count": null,
      "outputs": []
    },
    {
      "cell_type": "markdown",
      "metadata": {
        "id": "sgQRe_UuYE8Q"
      },
      "source": [
        "\n",
        "\n",
        "Números decimales muestreados de una distribución Normal estándar"
      ]
    },
    {
      "cell_type": "code",
      "metadata": {
        "id": "xFbTbPfxYE8S"
      },
      "source": [
        "datas = np.random.randn(300, 2)  \n",
        "weights = np.array([[0.6, .4], [.4, 0.6]])\n",
        "datas = np.dot(datas, weights)\n",
        "\n",
        "x = datas[:,0]\n",
        "y = datas[:,1]"
      ],
      "execution_count": null,
      "outputs": []
    },
    {
      "cell_type": "code",
      "metadata": {
        "id": "EhGkUKGeYE8V"
      },
      "source": [
        "plt.plot(x, y, \"ro\", c='orange', alpha=0.3) "
      ],
      "execution_count": null,
      "outputs": []
    },
    {
      "cell_type": "code",
      "metadata": {
        "id": "Cd3Xz1TTYE8Z"
      },
      "source": [
        "type(x)"
      ],
      "execution_count": null,
      "outputs": []
    },
    {
      "cell_type": "markdown",
      "metadata": {
        "id": "3GYqEhrPYE8d"
      },
      "source": [
        "\n",
        "\n",
        "### Scikit-learn\n",
        "\n",
        "Scikit-learn posee una interfaz orientada a objetos basada en el concepto de un *Estimador*\n",
        "\n",
        "El método <code>Estimator.fit</code> establece el estado del estimador de acuerdo a los datos de entrenamiento. Usualmente estos datos están representdos por un `numpy.array` bidimensional $x$ con dimensiones <code>(n_muestras, n_predictores)</code> que contiene la matriz de características, y un `numpy.array` unidimensional que contiene los valores de la variable de respuesta $y$."
      ]
    },
    {
      "cell_type": "code",
      "metadata": {
        "id": "I9-GgQjYYE8h"
      },
      "source": [
        "import numpy as np\n",
        "\n",
        "from sklearn.linear_model import LinearRegression\n",
        "from sklearn.metrics import mean_absolute_error"
      ],
      "execution_count": null,
      "outputs": []
    },
    {
      "cell_type": "code",
      "metadata": {
        "id": "JGAdSpIZYE8l"
      },
      "source": [
        "help(LinearRegression)"
      ],
      "execution_count": null,
      "outputs": []
    },
    {
      "cell_type": "code",
      "metadata": {
        "id": "wlfCmSKMYE8o"
      },
      "source": [
        "x.shape"
      ],
      "execution_count": null,
      "outputs": []
    },
    {
      "cell_type": "code",
      "metadata": {
        "id": "aK6JSJVSYE8r"
      },
      "source": [
        "x = x.reshape(-1,1)"
      ],
      "execution_count": null,
      "outputs": []
    },
    {
      "cell_type": "code",
      "metadata": {
        "id": "-h_8xnZ4YE86"
      },
      "source": [
        "#regr = LinearRegression(fit_intercept=True)\n",
        "regr = LinearRegression() #por defecto es true\n",
        "regr.fit(x, y)\n",
        "y_hat = regr.predict(x)\n",
        "\n",
        "print('Coefficients: ', regr.intercept_, regr.coef_)\n",
        "print('Average error: ', mean_absolute_error(y, y_hat))\n",
        "\n",
        "plt.scatter(x, y, c='orange', marker='o', alpha=0.5)\n",
        "plt.plot(x, y_hat, alpha=0.5)"
      ],
      "execution_count": null,
      "outputs": []
    },
    {
      "cell_type": "markdown",
      "metadata": {
        "id": "JlV5Mkr2YE8-"
      },
      "source": [
        "\n",
        "\n",
        "El método ``Estimator.predict`` permite hacer predicciones. En el caso de regresión, este método devuelve los valores predichos por el modelo.\n",
        "\n",
        "Existe también un objeto `Estimator` especial llamado `Transformer` que permite realizar transformaciones sobre los datos. En el caso de regresión, una transformación adecuada es la de normalizar los predictores, tal que tengan media cero y desviación típica 1 con ``sklearn.preprocessing.StandardScaler``"
      ]
    },
    {
      "cell_type": "markdown",
      "metadata": {
        "id": "ZzsEPbMlYE9C"
      },
      "source": [
        "\n",
        "\n",
        "---\n",
        "\n",
        "## Regresión lineal múltiple\n",
        "\n",
        "Para ajustar modelo de regresión múltiple podemos usar la misma librería sklearn, solo que ahora  x no será un vector columna, sino que contendrá varias columnas.\n",
        "\n",
        "En este ejemplo usaremos un dataset que contiene diez variables con el estado basal de cada paciente y una variable cuantitativa que mide la progresión de su enfermedad un año después."
      ]
    },
    {
      "cell_type": "code",
      "metadata": {
        "id": "6bsNAHaHYE9E"
      },
      "source": [
        "%matplotlib inline \n",
        "import pandas as pd\n",
        "import numpy as np\n",
        "\n",
        "from sklearn.linear_model import LinearRegression\n",
        "from sklearn.metrics import mean_absolute_error\n",
        "from sklearn import datasets"
      ],
      "execution_count": null,
      "outputs": []
    },
    {
      "cell_type": "code",
      "metadata": {
        "id": "QiA6zQelYE9J"
      },
      "source": [
        "data = datasets.load_diabetes()"
      ],
      "execution_count": null,
      "outputs": []
    },
    {
      "cell_type": "markdown",
      "metadata": {
        "id": "JQ6-PwLgYE9M"
      },
      "source": [
        "\n",
        "\n",
        "Let's explore the dataset"
      ]
    },
    {
      "cell_type": "code",
      "metadata": {
        "id": "CsVYQY1QFHhL"
      },
      "source": [
        "print(data.DESCR)"
      ],
      "execution_count": null,
      "outputs": []
    },
    {
      "cell_type": "code",
      "metadata": {
        "id": "WbECqyEqYE9P"
      },
      "source": [
        "diabetes_cols = ['Age', 'Sex', 'Body mass index', 'Average blood pressure',\n",
        "                 'S1', 'S2', 'S3', 'S4', 'S5', 'S6']      # S1-S6 are 6 blood-serum measurements on each patient"
      ],
      "execution_count": null,
      "outputs": []
    },
    {
      "cell_type": "code",
      "metadata": {
        "id": "0v96gy-DYE9U"
      },
      "source": [
        "diabetes_df = pd.DataFrame(data.data, columns=diabetes_cols)\n",
        "diabetes_df.head()"
      ],
      "execution_count": null,
      "outputs": []
    },
    {
      "cell_type": "code",
      "metadata": {
        "id": "kdQy98zkYE9W"
      },
      "source": [
        "sns.pairplot(diabetes_df)"
      ],
      "execution_count": null,
      "outputs": []
    },
    {
      "cell_type": "code",
      "metadata": {
        "id": "hqzMqi_oYE9Y"
      },
      "source": [
        "X = data.data\n",
        "y = data.target"
      ],
      "execution_count": null,
      "outputs": []
    },
    {
      "cell_type": "code",
      "metadata": {
        "id": "tcdR1gZoYE9Z"
      },
      "source": [
        "regr = LinearRegression(fit_intercept=True)\n",
        "regr.fit(X,y)\n",
        "y_hat = regr.predict(X)\n",
        "\n",
        "print ('Coefficients: ',  regr.intercept_, regr.coef_)\n",
        "print ('Average error: ', mean_absolute_error(y,y_hat))"
      ],
      "execution_count": null,
      "outputs": []
    },
    {
      "cell_type": "markdown",
      "metadata": {
        "id": "uiljK8hxYE9b"
      },
      "source": [
        "\n",
        "\n",
        "En Python es algo laborioso mostrar gráficas para evaluar visualmente la calidad de una regresión. \n",
        "Existe un buen tutorial de como hacerlo en el siguiente enlace:\n",
        "https://medium.com/@emredjan/emulating-r-regression-plots-in-python-43741952c034\n",
        "\n",
        "Nosotros vamos a mostrar un plot mostrando las diferencias entre el valor observado y el predicho:"
      ]
    },
    {
      "cell_type": "markdown",
      "metadata": {
        "id": "qYOVvZS2YE9d"
      },
      "source": [
        "\n",
        "\n",
        "Primero pasamos las *y* a DataFrame para poder generar gráficas de manera sencilla"
      ]
    },
    {
      "cell_type": "code",
      "metadata": {
        "id": "jA1Sw8yeYE9f"
      },
      "source": [
        "ys = pd.DataFrame({'y': y, 'y_hat': y_hat, 'err': y - y_hat, '|err|': np.abs(y - y_hat)})\n",
        "ys = ys[['y', 'y_hat', 'err', '|err|']]   # rearanging columns\n",
        "ys.head()"
      ],
      "execution_count": null,
      "outputs": []
    },
    {
      "cell_type": "code",
      "metadata": {
        "id": "Z29iic5EYE9k"
      },
      "source": [
        "sns.jointplot(ys['y'], ys['y_hat'], kind='reg', height=10,\n",
        "              marginal_kws=dict(bins=20, rug=True))\n"
      ],
      "execution_count": null,
      "outputs": []
    },
    {
      "cell_type": "markdown",
      "metadata": {
        "id": "XY1Qp6pIYE9x"
      },
      "source": [
        "\n",
        "\n",
        "Ahora vamos a generar un gráfico con los residuales"
      ]
    },
    {
      "cell_type": "code",
      "metadata": {
        "id": "5tmRTOkLYE90"
      },
      "source": [
        "ys.plot(kind='scatter', x='y', y='err', figsize=(16,8), alpha=0.4, title='Residual Plot')\n",
        "plt.plot([ys['y'].min(), ys['y'].max()], [0, 0], linewidth=2, alpha=0.5, ls='--', c='gray')"
      ],
      "execution_count": null,
      "outputs": []
    },
    {
      "cell_type": "markdown",
      "metadata": {
        "id": "pKPyqwomYE94"
      },
      "source": [
        "\n",
        "\n",
        "---\n",
        "\n",
        "## Regresión polinomica\n",
        "\n",
        "Pongamos un ejemplo. Tenemos una serie de datos que sabemos siguen una función no lineal. Le vamos aplicar varias regresiones para comprobar el ajuste."
      ]
    },
    {
      "cell_type": "code",
      "metadata": {
        "id": "aksB-_ICYE95"
      },
      "source": [
        "%matplotlib inline\n",
        "import numpy as np\n",
        "import matplotlib.pyplot as plt\n",
        "\n",
        "from sklearn.preprocessing import PolynomialFeatures\n",
        "from sklearn.metrics import r2_score"
      ],
      "execution_count": null,
      "outputs": []
    },
    {
      "cell_type": "code",
      "metadata": {
        "id": "1Xlw48_UYE97"
      },
      "source": [
        "import pandas as pd"
      ],
      "execution_count": null,
      "outputs": []
    },
    {
      "cell_type": "markdown",
      "metadata": {
        "id": "A1ey8vYnYE99"
      },
      "source": [
        "\n",
        "\n",
        "load the Boston housing dataset - median house values in the Boston area"
      ]
    },
    {
      "cell_type": "code",
      "metadata": {
        "id": "GDJWYTrdprpi"
      },
      "source": [
        "df = pd.read_csv('https://raw.githubusercontent.com/al34n1x/DataScience/master/data/Boston.csv',index_col=0)\n",
        "\n",
        "df.head()"
      ],
      "execution_count": null,
      "outputs": []
    },
    {
      "cell_type": "markdown",
      "metadata": {
        "id": "P0b1uVTCYE-A"
      },
      "source": [
        "\n",
        "\n",
        "Vamos a mostrar un gráfico comparando las variables `lstat` (% lower status of the population) con `medv` (median value)"
      ]
    },
    {
      "cell_type": "code",
      "metadata": {
        "id": "h5JBU3GnYE-F"
      },
      "source": [
        "plt.figure(figsize=(6 * 1.618, 6))\n",
        "plt.scatter(df.lstat, df.medv, s=10, alpha=0.3)\n",
        "plt.xlabel('lstat')\n",
        "plt.ylabel('medv')"
      ],
      "execution_count": null,
      "outputs": []
    },
    {
      "cell_type": "markdown",
      "metadata": {
        "id": "jXCvLbSjYE-J"
      },
      "source": [
        "\n",
        "\n",
        "Otra manera de hacerlo es mediante la función `jointplot` de *Seaborn*"
      ]
    },
    {
      "cell_type": "code",
      "metadata": {
        "id": "msYhWF4AYE-N"
      },
      "source": [
        "sns.jointplot(df.lstat, df.medv, height=10, joint_kws={'s':10, 'alpha':0.3})"
      ],
      "execution_count": null,
      "outputs": []
    },
    {
      "cell_type": "code",
      "metadata": {
        "id": "R1CjgaIuYE-P"
      },
      "source": [
        "X = df.lstat\n",
        "X = X[:, np.newaxis]\n",
        "print(X.shape)\n",
        "\n",
        "y = df.medv\n",
        "print(y.shape)"
      ],
      "execution_count": null,
      "outputs": []
    },
    {
      "cell_type": "markdown",
      "metadata": {
        "id": "qPcCnKb7YE-S"
      },
      "source": [
        "\n",
        "\n",
        "Vamos a ajustar el dataset con un polinomio de orden 1."
      ]
    },
    {
      "cell_type": "code",
      "metadata": {
        "id": "Z5mCt90CYE-W"
      },
      "source": [
        "plt.figure(figsize=(6 * 1.618, 6))\n",
        "plt.scatter(df.lstat, df.medv, s=10, alpha=0.3)\n",
        "plt.xlabel('lstat')\n",
        "plt.ylabel('medv')\n",
        "\n",
        "pr1 = LinearRegression()\n",
        "lin = PolynomialFeatures(degree=1)\n",
        "\n",
        "X_fit1 = np.arange(X.min(), X.max(), 1)[:, np.newaxis]\n",
        "X1 = lin.fit_transform(X)\n",
        "\n",
        "pr1.fit(X1, y)\n",
        "\n",
        "y_fit1 = pr1.predict(lin.fit_transform(X_fit1))\n",
        "y_pred1 = pr1.predict(X1)\n",
        "\n",
        "plt.plot(X_fit1, y_fit1, '--', c='orange')\n",
        "\n",
        "print('Coefficients: ', pr1.coef_)\n",
        "print('Intercept: ', pr1.intercept_)\n",
        "print('Model R^2: ', r2_score(y, y_pred1))"
      ],
      "execution_count": null,
      "outputs": []
    },
    {
      "cell_type": "markdown",
      "metadata": {
        "id": "jad-pr9wYE-X"
      },
      "source": [
        "\n",
        "\n",
        "Ahora probaremos con un polinomio de orden 2"
      ]
    },
    {
      "cell_type": "code",
      "metadata": {
        "id": "VTda6oXkYE-Z"
      },
      "source": [
        "plt.figure(figsize=(6 * 1.618, 6))\n",
        "plt.scatter(df.lstat, df.medv, s=10, alpha=0.3)\n",
        "plt.xlabel('lstat')\n",
        "plt.ylabel('medv')\n",
        "\n",
        "pr2 = LinearRegression()\n",
        "quad = PolynomialFeatures(degree=2)\n",
        "\n",
        "X_fit2 = np.arange(X.min(), X.max(), 1)[:, np.newaxis]\n",
        "X2 = quad.fit_transform(X)\n",
        "\n",
        "pr2.fit(X2, y)\n",
        "\n",
        "y_fit2 = pr2.predict(quad.fit_transform(X_fit2))\n",
        "y_pred2 = pr2.predict(X2)\n",
        "\n",
        "plt.plot(X_fit2, y_fit2, '--', c='orange')\n",
        "\n",
        "print('Coefficients: ', pr2.coef_)\n",
        "print('Intercept: ', pr2.intercept_)\n",
        "print('Model R^2: ', r2_score(y, y_pred2))"
      ],
      "execution_count": null,
      "outputs": []
    },
    {
      "cell_type": "markdown",
      "metadata": {
        "id": "GNOSjFAKYE-a"
      },
      "source": [
        "\n",
        "\n",
        "Y, finalmente, probaremos con un polinomio de orden 3."
      ]
    },
    {
      "cell_type": "code",
      "metadata": {
        "id": "oeYXuSViYE-b"
      },
      "source": [
        "plt.figure(figsize=(6 * 1.618, 6))\n",
        "plt.scatter(df.lstat, df.medv, s=10, alpha=0.3)\n",
        "plt.xlabel('lstat')\n",
        "plt.ylabel('medv')\n",
        "\n",
        "pr3 = LinearRegression()\n",
        "cub = PolynomialFeatures(degree=3)\n",
        "\n",
        "X_fit3 = np.arange(X.min(), X.max(), 1)[:, np.newaxis]\n",
        "X3 = cub.fit_transform(X)\n",
        "\n",
        "pr3.fit(X3, y)\n",
        "\n",
        "y_fit3 = pr3.predict(cub.fit_transform(X_fit3))\n",
        "y_pred3 = pr3.predict(X3)\n",
        "\n",
        "plt.plot(X_fit3, y_fit3, '--', c='orange')\n",
        "\n",
        "print('Coefficient: ', pr3.coef_)\n",
        "print('Intercept: ', pr3.intercept_)\n",
        "print('Model R^2: ', r2_score(y, y_pred3))"
      ],
      "execution_count": null,
      "outputs": []
    },
    {
      "cell_type": "markdown",
      "metadata": {
        "id": "6No7KZSVYE-d"
      },
      "source": [
        "\n",
        "\n",
        "# Ejercicios "
      ]
    },
    {
      "cell_type": "markdown",
      "metadata": {
        "id": "nwXstPUgYE-f"
      },
      "source": [
        "\n",
        "\n",
        "## Ejercicio 1\n",
        "\n",
        "Dado un conjunto de descriptores de una canción, el objetivo es predecir el año de producción de la canción. Básicamente se trata de un problema de regresión, ya que se debe predecir un número en el rango de 1922 y 2011.\n",
        "\n",
        "Source:https://archive.ics.uci.edu/ml/machine-learning-databases/00203/YearPredictionMSD.txt.zip\n",
        "\n",
        "** Descripción del dataset**\n",
        "\n",
        "90 atributos:\n",
        "\n",
        "- 12 = timbre average\n",
        "- 78 = timbre covariance \n",
        "\n",
        "\n",
        "**Instrucciones**:\n",
        "\n",
        "Importe los datos de data/millionsong.txt"
      ]
    },
    {
      "cell_type": "code",
      "metadata": {
        "id": "TkU9-aS2YE-g"
      },
      "source": [
        "# Respuesta aqui"
      ],
      "execution_count": null,
      "outputs": []
    },
    {
      "cell_type": "markdown",
      "metadata": {
        "id": "NTExHUbWYE-i"
      },
      "source": [
        "\n",
        "\n",
        "Obtenemos el target, que es la primera columna del dataset"
      ]
    },
    {
      "cell_type": "code",
      "metadata": {
        "id": "wq5EIjiCYE-j"
      },
      "source": [
        "# Respuesta aqui"
      ],
      "execution_count": null,
      "outputs": []
    },
    {
      "cell_type": "markdown",
      "metadata": {
        "id": "Dj1hpvtxYE-l"
      },
      "source": [
        "\n",
        "\n",
        "Obtenemos el dataset con otros atributos"
      ]
    },
    {
      "cell_type": "code",
      "metadata": {
        "id": "JlTYJAyrYE-o"
      },
      "source": [
        "# Respuesta aqui\n"
      ],
      "execution_count": null,
      "outputs": []
    },
    {
      "cell_type": "markdown",
      "metadata": {
        "id": "bY9VqJ-PYE-p"
      },
      "source": [
        "\n",
        "\n",
        "Aquí dividimos el dataset en train y test, para entrenar y validar nuestro modelo respectivamente."
      ]
    },
    {
      "cell_type": "code",
      "metadata": {
        "id": "rJEZjeVBYE-q"
      },
      "source": [
        "# Respuesta aqui\n"
      ],
      "execution_count": null,
      "outputs": []
    },
    {
      "cell_type": "markdown",
      "metadata": {
        "id": "9qmJ2ZwbYE-v"
      },
      "source": [
        "\n",
        "\n",
        "Vemos que las distribuciones de las predicciones se han centrado en 1980."
      ]
    },
    {
      "cell_type": "code",
      "metadata": {
        "id": "K6bXy-LH_iyb"
      },
      "source": [
        ""
      ],
      "execution_count": null,
      "outputs": []
    },
    {
      "cell_type": "markdown",
      "metadata": {
        "id": "oFJMzOLmYE-w"
      },
      "source": [
        "\n",
        "\n",
        "Visualizamos el train y el test"
      ]
    },
    {
      "cell_type": "code",
      "metadata": {
        "id": "SDZv4b7MYE-y"
      },
      "source": [
        "# Respuesta aqui\n"
      ],
      "execution_count": null,
      "outputs": []
    },
    {
      "cell_type": "markdown",
      "metadata": {
        "id": "TGPWbv7rYE-z"
      },
      "source": [
        "\n",
        "\n",
        "Ajuste un modelo de regresión para predecir el año de una canción."
      ]
    },
    {
      "cell_type": "code",
      "metadata": {
        "id": "MbfypBhJYE-1"
      },
      "source": [
        "# Respuesta aqui\n",
        "\n",
        "\n"
      ],
      "execution_count": null,
      "outputs": []
    },
    {
      "cell_type": "markdown",
      "metadata": {
        "id": "-_AoMupMYE-3"
      },
      "source": [
        "\n",
        "\n",
        "Muestre las métricas y gráficas que considere necesarias para poder argumentar si el modelo está funcionando bien."
      ]
    },
    {
      "cell_type": "code",
      "metadata": {
        "id": "sgK2-OgPYE-5"
      },
      "source": [
        "# Respuesta aqui"
      ],
      "execution_count": null,
      "outputs": []
    },
    {
      "cell_type": "markdown",
      "metadata": {
        "id": "OBaG6Zh1YE_A"
      },
      "source": [
        "\n",
        "\n",
        "Visualize los resultados de las predicciones"
      ]
    },
    {
      "cell_type": "code",
      "metadata": {
        "id": "162KgVktYE_B"
      },
      "source": [
        "# Respuesta aqui"
      ],
      "execution_count": null,
      "outputs": []
    },
    {
      "cell_type": "markdown",
      "metadata": {
        "id": "mjL1Mu76YE_E"
      },
      "source": [
        "\n",
        "\n",
        "Vemos que las distribuciones de las predicciones se han centrado en 1980."
      ]
    },
    {
      "cell_type": "markdown",
      "metadata": {
        "id": "-goi1MrWYE_I"
      },
      "source": [
        "\n",
        "\n",
        "Vamos a unir los valores de test y las predicciones en un DataFrame para poder hacer gráficos"
      ]
    },
    {
      "cell_type": "code",
      "metadata": {
        "id": "c_4NkX4uYE_K"
      },
      "source": [
        "# Respuesta aqui\n"
      ],
      "execution_count": null,
      "outputs": []
    },
    {
      "cell_type": "markdown",
      "metadata": {
        "id": "Bth7LS6xYE_M"
      },
      "source": [
        "\n",
        "\n",
        "Para comenzar vamos a mostrar una comparación entre las predicciones y los valores reales"
      ]
    },
    {
      "cell_type": "code",
      "metadata": {
        "id": "yOcXJGHZYE_N"
      },
      "source": [
        "# Respuesta aqui\n"
      ],
      "execution_count": null,
      "outputs": []
    },
    {
      "cell_type": "markdown",
      "metadata": {
        "id": "Ze3-H8FoYE_P"
      },
      "source": [
        "\n",
        "\n",
        "Vamos a mostrar un plot con los residuos"
      ]
    },
    {
      "cell_type": "code",
      "metadata": {
        "id": "rztoX2icYE_P"
      },
      "source": [
        "# Respuesta aqui\n"
      ],
      "execution_count": null,
      "outputs": []
    },
    {
      "cell_type": "markdown",
      "metadata": {
        "id": "0Ea_Hya2YE_Q"
      },
      "source": [
        "\n",
        "\n",
        "Y ahora vamos a mostrar el Error absoluto en años para cada año del conjunto de test."
      ]
    },
    {
      "cell_type": "code",
      "metadata": {
        "id": "LjoqmOanYE_R"
      },
      "source": [
        "# Respuesta aqui\n"
      ],
      "execution_count": null,
      "outputs": []
    },
    {
      "cell_type": "markdown",
      "metadata": {
        "id": "fmjO3ZLkYE_T"
      },
      "source": [
        "\n",
        "\n",
        "---\n",
        "\n",
        "## Ejercicio 2\n",
        "\n",
        "EL dataset de diabetes consiste en 10 variables fisológicas (edad, sexo, peso, presión arterial, y seis pruebas sanguíneas) de 442 pacientes, y la indicación del progreso de la enfermedad después de un año."
      ]
    },
    {
      "cell_type": "markdown",
      "metadata": {
        "id": "0De7ub3NYE_U"
      },
      "source": [
        "\n",
        "\n",
        "Ajuste y compare los modelos de regresión obtenidos al considerar el primer atributo (edad) y todos los atributos del dataset.\n",
        "\n",
        "*Source*: http://web.stanford.edu/~hastie/Papers/LARS/LeastAngle_2002.pdf"
      ]
    },
    {
      "cell_type": "code",
      "metadata": {
        "id": "wjdRJrqIYE_V"
      },
      "source": [
        "from sklearn import datasets\n",
        "diabetes = datasets.load_diabetes()\n",
        "\n",
        "X, y = diabetes.data, diabetes.target"
      ],
      "execution_count": null,
      "outputs": []
    },
    {
      "cell_type": "code",
      "metadata": {
        "id": "qKSiaRW9YE_Y"
      },
      "source": [
        "diabetes_cols = ['Age', 'Sex', 'Body mass index', 'Average blood pressure',\n",
        "                 'S1', 'S2', 'S3', 'S4', 'S5', 'S6']      # S1-S6 are 6 blood-serum measurements on each patient"
      ],
      "execution_count": null,
      "outputs": []
    },
    {
      "cell_type": "markdown",
      "metadata": {
        "id": "g8WkrwulYE_b"
      },
      "source": [
        "\n",
        "\n",
        "Explore el dataset"
      ]
    },
    {
      "cell_type": "code",
      "metadata": {
        "id": "omuyEQGLYE_d"
      },
      "source": [
        "# Respuesta aqui\n"
      ],
      "execution_count": null,
      "outputs": []
    },
    {
      "cell_type": "markdown",
      "metadata": {
        "id": "rQdm-h9VYE_e"
      },
      "source": [
        "\n",
        "\n",
        "Visualize la relación entre las variables"
      ]
    },
    {
      "cell_type": "code",
      "metadata": {
        "id": "yXp4qqQoYE_g"
      },
      "source": [
        "# Respuesta aqui"
      ],
      "execution_count": null,
      "outputs": []
    },
    {
      "cell_type": "markdown",
      "metadata": {
        "id": "MSY3dZDkYE_h"
      },
      "source": [
        "\n",
        "\n",
        "Construya un modelo de regresion"
      ]
    },
    {
      "cell_type": "code",
      "metadata": {
        "id": "i-UFewEKYE_i"
      },
      "source": [
        "# Respuesta aqui"
      ],
      "execution_count": null,
      "outputs": []
    },
    {
      "cell_type": "markdown",
      "metadata": {
        "id": "ju6muxlbYE_j"
      },
      "source": [
        "\n",
        "\n",
        "Analiza los residuos de la regresion. Visualizelos así como las desviaciones de la predicción"
      ]
    },
    {
      "cell_type": "markdown",
      "metadata": {
        "id": "Sh0HnYryYE_j"
      },
      "source": [
        "\n",
        "\n",
        "Vamos a mostrar unas gráficas para entender donde falla la regresión.\n",
        "\n",
        "Primero pasamos las *y* a DataFrame para poder generar gráficas de manera sencilla."
      ]
    },
    {
      "cell_type": "code",
      "metadata": {
        "id": "DoUUBMPnYE_k"
      },
      "source": [
        "# Respuesta aqui"
      ],
      "execution_count": null,
      "outputs": []
    },
    {
      "cell_type": "markdown",
      "metadata": {
        "id": "2TjqV___YE_m"
      },
      "source": [
        "\n",
        "\n",
        "Vemos que los errores son mayores en valores bajos y altos de y. Una solución a este problema sería aplicar un modelo no lineal."
      ]
    }
  ]
}