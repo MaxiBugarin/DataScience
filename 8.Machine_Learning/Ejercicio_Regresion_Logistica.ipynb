{
  "nbformat": 4,
  "nbformat_minor": 0,
  "metadata": {
    "colab": {
      "name": "Ejercicio_Regresion_Logistica.ipynb",
      "provenance": [],
      "collapsed_sections": [],
      "authorship_tag": "ABX9TyPyNLQZrDpVlPq938CCyFRD",
      "include_colab_link": true
    },
    "kernelspec": {
      "name": "python3",
      "display_name": "Python 3"
    }
  },
  "cells": [
    {
      "cell_type": "markdown",
      "metadata": {
        "id": "view-in-github",
        "colab_type": "text"
      },
      "source": [
        "<a href=\"https://colab.research.google.com/github/al34n1x/DataScience/blob/master/99.Machine_Learning/Ejercicio_Regresion_Logistica.ipynb\" target=\"_parent\"><img src=\"https://colab.research.google.com/assets/colab-badge.svg\" alt=\"Open In Colab\"/></a>"
      ]
    },
    {
      "cell_type": "markdown",
      "metadata": {
        "id": "dENG_CZisnEJ",
        "colab_type": "text"
      },
      "source": [
        "#Ejercicio de regresión logística\n",
        "Utilizar los datos que se proveen a continuación y realizar el análisis correspondiente, entrenar el módelo, evaluarlo y proveer los resultados del mismo. "
      ]
    },
    {
      "cell_type": "markdown",
      "metadata": {
        "id": "8yMpFzD1s_Wd",
        "colab_type": "text"
      },
      "source": [
        "## Ejercicio 1\n",
        "\n",
        "Crear un modelo predictivo que pueda evaluar si un usario se conecta desde un sistema operativo MacOS, Windows, o Linux.\n",
        "\n",
        "Clase: \n",
        "\n",
        "* 0 – Windows\n",
        "* 1 – Macintosh\n",
        "* 2 -Linux\n",
        "\n",
        "Fuente de datos:\n",
        "\n",
        "https://raw.githubusercontent.com/al34n1x/DataScience/master/data/os_source.csv\n"
      ]
    },
    {
      "cell_type": "code",
      "metadata": {
        "id": "Sm2ri7NHsl4X",
        "colab_type": "code",
        "colab": {}
      },
      "source": [
        ""
      ],
      "execution_count": null,
      "outputs": []
    },
    {
      "cell_type": "markdown",
      "metadata": {
        "id": "pTkCJleft848",
        "colab_type": "text"
      },
      "source": [
        "## Ejercicio 2\n",
        "\n",
        "Crear un modelo predictivo que pueda evaluar si una persona podría sobrevivir al colapso del titanic. \n",
        "\n",
        "**Rose dejó  morir a Jack.. se tenía que decir**\n",
        "\n",
        "\n",
        "![alt text](https://cdn3.movieweb.com/i/article/mmnw0cfGIGuqHaBRk9TeH9See3awdv/798:75/Titanic-Movie-Jack-Death-Leonardo-Dicaprio.jpg)\n",
        "\n",
        "\n",
        "\n",
        "\n",
        "Fuente de datos:\n",
        "\n",
        "https://raw.githubusercontent.com/al34n1x/DataScience/master/data/titanic_test_data.csv\n",
        "\n",
        "https://raw.githubusercontent.com/al34n1x/DataScience/master/data/titanic_train_data.csv\n",
        "\n",
        "\n"
      ]
    },
    {
      "cell_type": "code",
      "metadata": {
        "id": "YmpH8Nyju5sG",
        "colab_type": "code",
        "colab": {}
      },
      "source": [
        ""
      ],
      "execution_count": null,
      "outputs": []
    }
  ]
}