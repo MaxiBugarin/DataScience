{
  "nbformat": 4,
  "nbformat_minor": 0,
  "metadata": {
    "colab": {
      "name": "12_knn Bank DF.ipynb",
      "provenance": [],
      "toc_visible": true,
      "include_colab_link": true
    },
    "kernelspec": {
      "name": "python3",
      "display_name": "Python 3"
    }
  },
  "cells": [
    {
      "cell_type": "markdown",
      "metadata": {
        "id": "view-in-github",
        "colab_type": "text"
      },
      "source": [
        "<a href=\"https://colab.research.google.com/github/al34n1x/DataScience/blob/master/99.Machine_Learning/12_knn_Bank_DF.ipynb\" target=\"_parent\"><img src=\"https://colab.research.google.com/assets/colab-badge.svg\" alt=\"Open In Colab\"/></a>"
      ]
    },
    {
      "cell_type": "markdown",
      "metadata": {
        "id": "GnKK07LYQM43",
        "colab_type": "text"
      },
      "source": [
        "\n",
        "\n",
        "# Clasificación: kNN"
      ]
    },
    {
      "cell_type": "code",
      "metadata": {
        "id": "DEsStsLPQM44",
        "colab_type": "code",
        "colab": {}
      },
      "source": [
        "%matplotlib inline\n",
        "import matplotlib.pyplot as plt\n",
        "import numpy as np\n",
        "import pandas as pd"
      ],
      "execution_count": 1,
      "outputs": []
    },
    {
      "cell_type": "code",
      "metadata": {
        "id": "r0NWxNsaQM46",
        "colab_type": "code",
        "colab": {
          "base_uri": "https://localhost:8080/",
          "height": 71
        },
        "outputId": "7f0dcd67-4c86-4134-dd2d-ee1d41795110"
      },
      "source": [
        "import seaborn as sns"
      ],
      "execution_count": 2,
      "outputs": [
        {
          "output_type": "stream",
          "text": [
            "/usr/local/lib/python3.6/dist-packages/statsmodels/tools/_testing.py:19: FutureWarning: pandas.util.testing is deprecated. Use the functions in the public API at pandas.testing instead.\n",
            "  import pandas.util.testing as tm\n"
          ],
          "name": "stderr"
        }
      ]
    },
    {
      "cell_type": "code",
      "metadata": {
        "id": "TDBIrwacRplg",
        "colab_type": "code",
        "colab": {
          "base_uri": "https://localhost:8080/",
          "height": 34
        },
        "outputId": "f2462eaa-7be4-4ad8-fb7d-3e893146f5c1"
      },
      "source": [
        "from google.colab import drive\n",
        "drive.mount('/content/drive')"
      ],
      "execution_count": 3,
      "outputs": [
        {
          "output_type": "stream",
          "text": [
            "Drive already mounted at /content/drive; to attempt to forcibly remount, call drive.mount(\"/content/drive\", force_remount=True).\n"
          ],
          "name": "stdout"
        }
      ]
    },
    {
      "cell_type": "markdown",
      "metadata": {
        "id": "V4p7g45RQM48",
        "colab_type": "text"
      },
      "source": [
        "\n",
        "\n",
        "Para empezar, vamos a crear un dataset sintético que podamos aplicar en nuestro primer problema de clasificación. Será un problema de clasificación binaria en el que, para ir entendiendo los conceptos, sólo utilizaremos dos predictores."
      ]
    },
    {
      "cell_type": "code",
      "metadata": {
        "id": "uUXdQTYyR12S",
        "colab_type": "code",
        "colab": {
          "base_uri": "https://localhost:8080/",
          "height": 71
        },
        "outputId": "6854f847-cc42-43c7-f01b-49ca9ac50bbc"
      },
      "source": [
        "#Importo el CSV creado previamente\n",
        "\n",
        "df2 = pd.read_csv('/content/drive/My Drive/Colab Notebooks/UADE/Diplomatura Ciencia de Datos/Material de Clases/MESES_201402_201404.csv', dtype={\"numero_de_cliente\": int, \"foto_mes\": int, \"cliente_sucursal\": \"string\"})\n"
      ],
      "execution_count": 4,
      "outputs": [
        {
          "output_type": "stream",
          "text": [
            "/usr/local/lib/python3.6/dist-packages/IPython/core/interactiveshell.py:2718: DtypeWarning: Columns (48) have mixed types.Specify dtype option on import or set low_memory=False.\n",
            "  interactivity=interactivity, compiler=compiler, result=result)\n"
          ],
          "name": "stderr"
        }
      ]
    },
    {
      "cell_type": "code",
      "metadata": {
        "id": "j4H8D7FhTOBB",
        "colab_type": "code",
        "colab": {}
      },
      "source": [
        "# Elimino la primer columna\n",
        "df2 = df2.loc[:, ~df2.columns.str.contains('^Unnamed')]\n",
        "\n",
        "# Separo Features y Target\n",
        "X = df2.drop(['target' , 'target_bin'] , axis='columns')\n",
        "y = df2.target_bin\n",
        "\n",
        "#Transformo Variables Categoricas\n",
        "X = pd.get_dummies(X, columns = ['tpaquete2', 'tpaquete4', 'tpaquete6', 'tpaquete7', 'tpaquete9', 'tcuentas', 'tcuenta_corriente', 'tcaja_ahorro', 'ttarjeta_debito', 'ttarjeta_visa', 'ttarjeta_master'])\n",
        "\n",
        "#Descarto columnas no numericas\n",
        "numerics = ['int16', 'int32', 'int64', 'float16', 'float32', 'float64', 'uint8']\n",
        "X = X.select_dtypes(include=numerics)\n",
        "#one_hot_encoding\n",
        "#https://scikit-learn.org/stable/modules/generated/sklearn.preprocessing.OneHotEncoder.html\n",
        "X = X.fillna(0)"
      ],
      "execution_count": 5,
      "outputs": []
    },
    {
      "cell_type": "code",
      "metadata": {
        "id": "Xo9fPFtfQM49",
        "colab_type": "code",
        "colab": {}
      },
      "source": [
        "#Separo\n",
        "from sklearn.model_selection import train_test_split\n",
        "\n",
        "X_train, X_test, y_train, y_test = train_test_split(X, y,\n",
        "                                                    test_size=0.25,\n",
        "                                                    random_state=1234,\n",
        "                                                    stratify=y)   # Atención: pasamos la \"y\""
      ],
      "execution_count": 6,
      "outputs": []
    },
    {
      "cell_type": "markdown",
      "metadata": {
        "id": "41YzXkqyQM4_",
        "colab_type": "text"
      },
      "source": [
        "\n",
        "\n",
        "# K-Nearest Neighbors\n",
        "\n",
        "Para demostrar la sencillez de la API de scikit-learn, veamos este mismo ejemplo con otro clasificador, el clasificador K-Nearest Neighbors.\n",
        "\n",
        "Este clasificador sigue una estrategia muy simple: dada una nueva observación, busca en los datos de entrenamiento las K observaciones más cercanas de manera que asigna la etiqueta mayoritaria de esos K-vecinos más cercanos.\n",
        "\n",
        "Como veremos, la interfaz es exactamente igual que en el caso de la regresión logística."
      ]
    },
    {
      "cell_type": "code",
      "metadata": {
        "id": "GdmztJHbQM4_",
        "colab_type": "code",
        "colab": {}
      },
      "source": [
        "from sklearn.neighbors import KNeighborsClassifier"
      ],
      "execution_count": 7,
      "outputs": []
    },
    {
      "cell_type": "markdown",
      "metadata": {
        "id": "zOaVkKVdQM5B",
        "colab_type": "text"
      },
      "source": [
        "\n",
        "\n",
        "Para construir el modelo, tenemos que especificar el valor del hiperparámetro K (en scikit se llama `n_neighbors`):"
      ]
    },
    {
      "cell_type": "code",
      "metadata": {
        "id": "mGkuqhKRQM5C",
        "colab_type": "code",
        "colab": {}
      },
      "source": [
        "knn = KNeighborsClassifier(n_neighbors=1)"
      ],
      "execution_count": 8,
      "outputs": []
    },
    {
      "cell_type": "markdown",
      "metadata": {
        "id": "wtCLHy5iQM5F",
        "colab_type": "text"
      },
      "source": [
        "\n",
        "\n",
        "Ahora realizamos el ajuste a los datos de entrenamiento:"
      ]
    },
    {
      "cell_type": "code",
      "metadata": {
        "id": "tsPbadvJVRIP",
        "colab_type": "code",
        "colab": {}
      },
      "source": [
        "#Entreno\n",
        "clf = knn.fit(X_train, y_train)"
      ],
      "execution_count": 9,
      "outputs": []
    },
    {
      "cell_type": "code",
      "metadata": {
        "id": "SWM1EJXkVw_S",
        "colab_type": "code",
        "colab": {
          "base_uri": "https://localhost:8080/",
          "height": 34
        },
        "outputId": "7518e5f9-1fc9-44f7-eecc-0db09f06ffec"
      },
      "source": [
        "#Score\n",
        "clf.score(X_test, y_test)"
      ],
      "execution_count": 10,
      "outputs": [
        {
          "output_type": "execute_result",
          "data": {
            "text/plain": [
              "0.9919113768243362"
            ]
          },
          "metadata": {
            "tags": []
          },
          "execution_count": 10
        }
      ]
    },
    {
      "cell_type": "code",
      "metadata": {
        "id": "Es12lqv7VGC2",
        "colab_type": "code",
        "colab": {}
      },
      "source": [
        "# Predict on training set and test set\n",
        "y_train_pred = clf.predict(X_train)\n",
        "y_test_pred = clf.predict(X_test)"
      ],
      "execution_count": 11,
      "outputs": []
    },
    {
      "cell_type": "code",
      "metadata": {
        "id": "y9Lhfk3BjrjZ",
        "colab_type": "code",
        "colab": {}
      },
      "source": [
        "# Calculo Probabilidades Asociadas\n",
        "y_test_proba = clf.predict_proba(X_test)[:,1]"
      ],
      "execution_count": 12,
      "outputs": []
    },
    {
      "cell_type": "code",
      "metadata": {
        "id": "qtSy_OuPVBYc",
        "colab_type": "code",
        "colab": {
          "base_uri": "https://localhost:8080/",
          "height": 51
        },
        "outputId": "22470f62-c035-4f4c-cc97-afa626b2776e"
      },
      "source": [
        "# Accuracy \n",
        "from sklearn.metrics import accuracy_score\n",
        "print('Accuracy train:',accuracy_score(y_train, y_train_pred))\n",
        "print('Accuracy test:',accuracy_score(y_test, y_test_pred))"
      ],
      "execution_count": 13,
      "outputs": [
        {
          "output_type": "stream",
          "text": [
            "Accuracy train: 1.0\n",
            "Accuracy test: 0.9919113768243362\n"
          ],
          "name": "stdout"
        }
      ]
    },
    {
      "cell_type": "code",
      "metadata": {
        "id": "ELA_SmH6U91p",
        "colab_type": "code",
        "colab": {
          "base_uri": "https://localhost:8080/",
          "height": 51
        },
        "outputId": "01eed243-cce7-431a-ad67-e42a83a7f6d2"
      },
      "source": [
        "# veo la matriz de confusión en train\n",
        "from sklearn.metrics import confusion_matrix\n",
        "confusion_matrix(y_train, y_train_pred)"
      ],
      "execution_count": 14,
      "outputs": [
        {
          "output_type": "execute_result",
          "data": {
            "text/plain": [
              "array([[135905,      0],\n",
              "       [     0,    580]])"
            ]
          },
          "metadata": {
            "tags": []
          },
          "execution_count": 14
        }
      ]
    },
    {
      "cell_type": "code",
      "metadata": {
        "id": "EdZKG54cWJ2E",
        "colab_type": "code",
        "colab": {
          "base_uri": "https://localhost:8080/",
          "height": 51
        },
        "outputId": "7c78b572-b7d0-41d4-f448-4e355fa5ee8a"
      },
      "source": [
        "# veo la matriz de confusión en test\n",
        "from sklearn.metrics import confusion_matrix\n",
        "confusion_matrix(y_test, y_test_pred)"
      ],
      "execution_count": 15,
      "outputs": [
        {
          "output_type": "execute_result",
          "data": {
            "text/plain": [
              "array([[45125,   178],\n",
              "       [  190,     3]])"
            ]
          },
          "metadata": {
            "tags": []
          },
          "execution_count": 15
        }
      ]
    },
    {
      "cell_type": "code",
      "metadata": {
        "id": "IybdjI1hT5U0",
        "colab_type": "code",
        "colab": {
          "base_uri": "https://localhost:8080/",
          "height": 204
        },
        "outputId": "317ddc40-77ff-4fed-955d-1b11139647a5"
      },
      "source": [
        "#Ahora puedo obtener Recall y Precision\n",
        "from sklearn.metrics import precision_score\n",
        "from sklearn.metrics import recall_score\n",
        "print('Accuracy')\n",
        "print('Train:',accuracy_score(y_train, y_train_pred))\n",
        "print('Test:',accuracy_score(y_test, y_test_pred))\n",
        "print(' ')\n",
        "print('Recall')\n",
        "print('Train:',recall_score(y_train, y_train_pred))\n",
        "print('Test:',recall_score(y_test, y_test_pred))\n",
        "print(' ')\n",
        "print('Precision')\n",
        "print('Train:',precision_score(y_train, y_train_pred))\n",
        "print('Test:',precision_score(y_test, y_test_pred))"
      ],
      "execution_count": 16,
      "outputs": [
        {
          "output_type": "stream",
          "text": [
            "Accuracy\n",
            "Train: 1.0\n",
            "Test: 0.9919113768243362\n",
            " \n",
            "Recall\n",
            "Train: 1.0\n",
            "Test: 0.015544041450777202\n",
            " \n",
            "Precision\n",
            "Train: 1.0\n",
            "Test: 0.016574585635359115\n"
          ],
          "name": "stdout"
        }
      ]
    },
    {
      "cell_type": "code",
      "metadata": {
        "id": "MOhQlfAhWahr",
        "colab_type": "code",
        "colab": {
          "base_uri": "https://localhost:8080/",
          "height": 1000
        },
        "outputId": "eb76d2c9-ff9c-4ab1-8fe0-82af4f4c71b4"
      },
      "source": [
        "    print()\n",
        "    print(format('How to plot a ROC Curve in Python','*^82'))\n",
        "\n",
        "    import warnings\n",
        "    warnings.filterwarnings(\"ignore\")\n",
        "\n",
        "    # load libraries\n",
        "    from sklearn.datasets import make_classification\n",
        "    from sklearn.tree import DecisionTreeClassifier\n",
        "    from sklearn.linear_model import LogisticRegression\n",
        "    from sklearn.metrics import roc_curve, roc_auc_score\n",
        "    from sklearn.model_selection import train_test_split\n",
        "    import matplotlib.pyplot as plt\n",
        "\n",
        "    # Create feature matrix and target vector\n",
        "    #X, y = make_classification(n_samples=10000, n_features=100, n_classes=2)\n",
        "\n",
        "    # Split into training and test sets\n",
        "    #X_train, X_test, y_train, y_test = train_test_split(X, y, test_size=0.25)\n",
        "\n",
        "    # Create classifier\n",
        "    clf1 = DecisionTreeClassifier(max_depth=5, class_weight='balanced')\n",
        "    clf2 = DecisionTreeClassifier(max_depth=5)\n",
        "    clf3 = LogisticRegression()\n",
        "    clf4 = KNeighborsClassifier() #Atención\n",
        "\n",
        "    # Train model\n",
        "    clf1.fit(X_train, y_train)\n",
        "    clf2.fit(X_train, y_train)\n",
        "    clf3.fit(X_train, y_train)\n",
        "    clf4.fit(X_train, y_train)\n",
        "\n",
        "    # Get predicted probabilities\n",
        "    y_score1 = clf1.predict_proba(X_test)[:,1]\n",
        "    y_score2 = clf2.predict_proba(X_test)[:,1]\n",
        "    y_score3 = clf3.predict_proba(X_test)[:,1]\n",
        "    y_score4 = clf4.predict_proba(X_test)[:,1]\n",
        "\n",
        "    # Plot Receiving Operating Characteristic Curve\n",
        "    # Create true and false positive rates\n",
        "    false_positive_rate1, true_positive_rate1, threshold1 = roc_curve(y_test, y_score1)\n",
        "    false_positive_rate2, true_positive_rate2, threshold2 = roc_curve(y_test, y_score2)\n",
        "    false_positive_rate3, true_positive_rate3, threshold3 = roc_curve(y_test, y_score3)\n",
        "    false_positive_rate4, true_positive_rate4, threshold4 = roc_curve(y_test, y_score4)\n",
        "    print('roc_auc_score for DecisionTree: ', roc_auc_score(y_test, y_score1))\n",
        "    print('roc_auc_score for DecisionTree_5: ', roc_auc_score(y_test, y_score2))\n",
        "    print('roc_auc_score for Logistic Regression: ', roc_auc_score(y_test, y_score3))\n",
        "    print('roc_auc_score for KNN: ', roc_auc_score(y_test, y_score4))\n",
        "\n",
        "    # Plot ROC curves\n",
        "    plt.subplots(1, figsize=(10,10))\n",
        "    plt.title('Receiver Operating Characteristic - DecisionTree')\n",
        "    plt.plot(false_positive_rate1, true_positive_rate1)\n",
        "    plt.plot([0, 1], ls=\"--\")\n",
        "    plt.plot([0, 0], [1, 0] , c=\".7\"), plt.plot([1, 1] , c=\".7\")\n",
        "    plt.ylabel('True Positive Rate')\n",
        "    plt.xlabel('False Positive Rate')\n",
        "    plt.show()\n",
        "\n",
        "    plt.subplots(1, figsize=(10,10))\n",
        "    plt.title('Receiver Operating Characteristic - DecisionTree Levels 5')\n",
        "    plt.plot(false_positive_rate2, true_positive_rate2)\n",
        "    plt.plot([0, 1], ls=\"--\")\n",
        "    plt.plot([0, 0], [1, 0] , c=\".7\"), plt.plot([1, 1] , c=\".7\")\n",
        "    plt.ylabel('True Positive Rate')\n",
        "    plt.xlabel('False Positive Rate')\n",
        "    plt.show()\n",
        "\n",
        "    plt.subplots(1, figsize=(10,10))\n",
        "    plt.title('Receiver Operating Characteristic - Logistic regression')\n",
        "    plt.plot(false_positive_rate3, true_positive_rate3)\n",
        "    plt.plot([0, 1], ls=\"--\")\n",
        "    plt.plot([0, 0], [1, 0] , c=\".7\"), plt.plot([1, 1] , c=\".7\")\n",
        "    plt.ylabel('True Positive Rate')\n",
        "    plt.xlabel('False Positive Rate')\n",
        "    plt.show()\n",
        "\n",
        "    plt.subplots(1, figsize=(10,10))\n",
        "    plt.title('Receiver Operating Characteristic - KNN')\n",
        "    plt.plot(false_positive_rate4, true_positive_rate4)\n",
        "    plt.plot([0, 1], ls=\"--\")\n",
        "    plt.plot([0, 0], [1, 0] , c=\".7\"), plt.plot([1, 1] , c=\".7\")\n",
        "    plt.ylabel('True Positive Rate')\n",
        "    plt.xlabel('False Positive Rate')\n",
        "    plt.show()"
      ],
      "execution_count": 17,
      "outputs": [
        {
          "output_type": "stream",
          "text": [
            "\n",
            "************************How to plot a ROC Curve in Python*************************\n",
            "roc_auc_score for DecisionTree:  0.8591574360732153\n",
            "roc_auc_score for DecisionTree_5:  0.8154476610511673\n",
            "roc_auc_score for Logistic Regression:  0.8534903554980804\n",
            "roc_auc_score for KNN:  0.5160483029695616\n"
          ],
          "name": "stdout"
        },
        {
          "output_type": "display_data",
          "data": {
            "image/png": "[encoded data removed]",
            "text/plain": [
              "<Figure size 720x720 with 1 Axes>"
            ]
          },
          "metadata": {
            "tags": [],
            "needs_background": "light"
          }
        },
        {
          "output_type": "display_data",
          "data": {
            "image/png": "[encoded data removed]",
            "text/plain": [
              "<Figure size 720x720 with 1 Axes>"
            ]
          },
          "metadata": {
            "tags": [],
            "needs_background": "light"
          }
        },
        {
          "output_type": "display_data",
          "data": {
            "image/png": "[encoded data removed]",
            "text/plain": [
              "<Figure size 720x720 with 1 Axes>"
            ]
          },
          "metadata": {
            "tags": [],
            "needs_background": "light"
          }
        },
        {
          "output_type": "display_data",
          "data": {
            "image/png": "[encoded data removed]",
            "text/plain": [
              "<Figure size 720x720 with 1 Axes>"
            ]
          },
          "metadata": {
            "tags": [],
            "needs_background": "light"
          }
        }
      ]
    },
    {
      "cell_type": "code",
      "metadata": {
        "id": "F_H-_iSsfjvo",
        "colab_type": "code",
        "colab": {}
      },
      "source": [
        "#Ganancia\n",
        "#TP = 4900\n",
        "#FP = -100\n"
      ],
      "execution_count": 18,
      "outputs": []
    },
    {
      "cell_type": "code",
      "metadata": {
        "id": "PtbfHXBXfub4",
        "colab_type": "code",
        "colab": {
          "base_uri": "https://localhost:8080/",
          "height": 204
        },
        "outputId": "d0a29493-89df-48cf-9de3-74a84b3c2963"
      },
      "source": [
        "df_pred = pd.DataFrame({\"y_test\": y_test, \"y_test_pred\": y_test_pred,\"prob_a\": y_test_proba} )\n",
        "df_pred.head()"
      ],
      "execution_count": 19,
      "outputs": [
        {
          "output_type": "execute_result",
          "data": {
            "text/html": [
              "<div>\n",
              "<style scoped>\n",
              "    .dataframe tbody tr th:only-of-type {\n",
              "        vertical-align: middle;\n",
              "    }\n",
              "\n",
              "    .dataframe tbody tr th {\n",
              "        vertical-align: top;\n",
              "    }\n",
              "\n",
              "    .dataframe thead th {\n",
              "        text-align: right;\n",
              "    }\n",
              "</style>\n",
              "<table border=\"1\" class=\"dataframe\">\n",
              "  <thead>\n",
              "    <tr style=\"text-align: right;\">\n",
              "      <th></th>\n",
              "      <th>y_test</th>\n",
              "      <th>y_test_pred</th>\n",
              "      <th>prob_a</th>\n",
              "    </tr>\n",
              "  </thead>\n",
              "  <tbody>\n",
              "    <tr>\n",
              "      <th>138499</th>\n",
              "      <td>0</td>\n",
              "      <td>0</td>\n",
              "      <td>0.0</td>\n",
              "    </tr>\n",
              "    <tr>\n",
              "      <th>8773</th>\n",
              "      <td>0</td>\n",
              "      <td>0</td>\n",
              "      <td>0.0</td>\n",
              "    </tr>\n",
              "    <tr>\n",
              "      <th>30751</th>\n",
              "      <td>0</td>\n",
              "      <td>0</td>\n",
              "      <td>0.0</td>\n",
              "    </tr>\n",
              "    <tr>\n",
              "      <th>76163</th>\n",
              "      <td>0</td>\n",
              "      <td>0</td>\n",
              "      <td>0.0</td>\n",
              "    </tr>\n",
              "    <tr>\n",
              "      <th>82917</th>\n",
              "      <td>0</td>\n",
              "      <td>0</td>\n",
              "      <td>0.0</td>\n",
              "    </tr>\n",
              "  </tbody>\n",
              "</table>\n",
              "</div>"
            ],
            "text/plain": [
              "        y_test  y_test_pred  prob_a\n",
              "138499       0            0     0.0\n",
              "8773         0            0     0.0\n",
              "30751        0            0     0.0\n",
              "76163        0            0     0.0\n",
              "82917        0            0     0.0"
            ]
          },
          "metadata": {
            "tags": []
          },
          "execution_count": 19
        }
      ]
    },
    {
      "cell_type": "code",
      "metadata": {
        "id": "aLsbobyXhWEt",
        "colab_type": "code",
        "colab": {
          "base_uri": "https://localhost:8080/",
          "height": 204
        },
        "outputId": "9c947d63-5477-49e3-c4b5-fe836c036c32"
      },
      "source": [
        "df_pred['profit'] = df_pred['y_test_pred']*(-100)+df_pred['y_test_pred']*df_pred['y_test']*5000\n",
        "df_pred.head()"
      ],
      "execution_count": 20,
      "outputs": [
        {
          "output_type": "execute_result",
          "data": {
            "text/html": [
              "<div>\n",
              "<style scoped>\n",
              "    .dataframe tbody tr th:only-of-type {\n",
              "        vertical-align: middle;\n",
              "    }\n",
              "\n",
              "    .dataframe tbody tr th {\n",
              "        vertical-align: top;\n",
              "    }\n",
              "\n",
              "    .dataframe thead th {\n",
              "        text-align: right;\n",
              "    }\n",
              "</style>\n",
              "<table border=\"1\" class=\"dataframe\">\n",
              "  <thead>\n",
              "    <tr style=\"text-align: right;\">\n",
              "      <th></th>\n",
              "      <th>y_test</th>\n",
              "      <th>y_test_pred</th>\n",
              "      <th>prob_a</th>\n",
              "      <th>profit</th>\n",
              "    </tr>\n",
              "  </thead>\n",
              "  <tbody>\n",
              "    <tr>\n",
              "      <th>138499</th>\n",
              "      <td>0</td>\n",
              "      <td>0</td>\n",
              "      <td>0.0</td>\n",
              "      <td>0</td>\n",
              "    </tr>\n",
              "    <tr>\n",
              "      <th>8773</th>\n",
              "      <td>0</td>\n",
              "      <td>0</td>\n",
              "      <td>0.0</td>\n",
              "      <td>0</td>\n",
              "    </tr>\n",
              "    <tr>\n",
              "      <th>30751</th>\n",
              "      <td>0</td>\n",
              "      <td>0</td>\n",
              "      <td>0.0</td>\n",
              "      <td>0</td>\n",
              "    </tr>\n",
              "    <tr>\n",
              "      <th>76163</th>\n",
              "      <td>0</td>\n",
              "      <td>0</td>\n",
              "      <td>0.0</td>\n",
              "      <td>0</td>\n",
              "    </tr>\n",
              "    <tr>\n",
              "      <th>82917</th>\n",
              "      <td>0</td>\n",
              "      <td>0</td>\n",
              "      <td>0.0</td>\n",
              "      <td>0</td>\n",
              "    </tr>\n",
              "  </tbody>\n",
              "</table>\n",
              "</div>"
            ],
            "text/plain": [
              "        y_test  y_test_pred  prob_a  profit\n",
              "138499       0            0     0.0       0\n",
              "8773         0            0     0.0       0\n",
              "30751        0            0     0.0       0\n",
              "76163        0            0     0.0       0\n",
              "82917        0            0     0.0       0"
            ]
          },
          "metadata": {
            "tags": []
          },
          "execution_count": 20
        }
      ]
    },
    {
      "cell_type": "code",
      "metadata": {
        "id": "XI3GgxdLibD9",
        "colab_type": "code",
        "colab": {
          "base_uri": "https://localhost:8080/",
          "height": 68
        },
        "outputId": "01f79931-323d-48c1-ed61-9278579c3063"
      },
      "source": [
        "print('Max:', df_pred.profit.max())\n",
        "print('Min:', df_pred.profit.min())\n",
        "print('Total:', df_pred.profit.sum())"
      ],
      "execution_count": 21,
      "outputs": [
        {
          "output_type": "stream",
          "text": [
            "Max: 4900\n",
            "Min: -100\n",
            "Total: -3100\n"
          ],
          "name": "stdout"
        }
      ]
    },
    {
      "cell_type": "code",
      "metadata": {
        "id": "XLz2oVCWkXLj",
        "colab_type": "code",
        "colab": {
          "base_uri": "https://localhost:8080/",
          "height": 204
        },
        "outputId": "ae3bfcd5-8cc6-43f5-fdad-312b45138835"
      },
      "source": [
        "df_rank = df_pred.sort_values(by=['prob_a'], ascending=False)\n",
        "df_rank.head()"
      ],
      "execution_count": 22,
      "outputs": [
        {
          "output_type": "execute_result",
          "data": {
            "text/html": [
              "<div>\n",
              "<style scoped>\n",
              "    .dataframe tbody tr th:only-of-type {\n",
              "        vertical-align: middle;\n",
              "    }\n",
              "\n",
              "    .dataframe tbody tr th {\n",
              "        vertical-align: top;\n",
              "    }\n",
              "\n",
              "    .dataframe thead th {\n",
              "        text-align: right;\n",
              "    }\n",
              "</style>\n",
              "<table border=\"1\" class=\"dataframe\">\n",
              "  <thead>\n",
              "    <tr style=\"text-align: right;\">\n",
              "      <th></th>\n",
              "      <th>y_test</th>\n",
              "      <th>y_test_pred</th>\n",
              "      <th>prob_a</th>\n",
              "      <th>profit</th>\n",
              "    </tr>\n",
              "  </thead>\n",
              "  <tbody>\n",
              "    <tr>\n",
              "      <th>49593</th>\n",
              "      <td>0</td>\n",
              "      <td>1</td>\n",
              "      <td>1.0</td>\n",
              "      <td>-100</td>\n",
              "    </tr>\n",
              "    <tr>\n",
              "      <th>109628</th>\n",
              "      <td>0</td>\n",
              "      <td>1</td>\n",
              "      <td>1.0</td>\n",
              "      <td>-100</td>\n",
              "    </tr>\n",
              "    <tr>\n",
              "      <th>94730</th>\n",
              "      <td>0</td>\n",
              "      <td>1</td>\n",
              "      <td>1.0</td>\n",
              "      <td>-100</td>\n",
              "    </tr>\n",
              "    <tr>\n",
              "      <th>53235</th>\n",
              "      <td>0</td>\n",
              "      <td>1</td>\n",
              "      <td>1.0</td>\n",
              "      <td>-100</td>\n",
              "    </tr>\n",
              "    <tr>\n",
              "      <th>103711</th>\n",
              "      <td>0</td>\n",
              "      <td>1</td>\n",
              "      <td>1.0</td>\n",
              "      <td>-100</td>\n",
              "    </tr>\n",
              "  </tbody>\n",
              "</table>\n",
              "</div>"
            ],
            "text/plain": [
              "        y_test  y_test_pred  prob_a  profit\n",
              "49593        0            1     1.0    -100\n",
              "109628       0            1     1.0    -100\n",
              "94730        0            1     1.0    -100\n",
              "53235        0            1     1.0    -100\n",
              "103711       0            1     1.0    -100"
            ]
          },
          "metadata": {
            "tags": []
          },
          "execution_count": 22
        }
      ]
    },
    {
      "cell_type": "code",
      "metadata": {
        "id": "nfq0cs7XkyrB",
        "colab_type": "code",
        "colab": {
          "base_uri": "https://localhost:8080/",
          "height": 34
        },
        "outputId": "cdf64f81-e7a1-4563-b4de-59986ccdc4b1"
      },
      "source": [
        "df_rank.profit.cumsum().max()"
      ],
      "execution_count": 23,
      "outputs": [
        {
          "output_type": "execute_result",
          "data": {
            "text/plain": [
              "3000"
            ]
          },
          "metadata": {
            "tags": []
          },
          "execution_count": 23
        }
      ]
    },
    {
      "cell_type": "markdown",
      "metadata": {
        "id": "4aBFHKT4QM5N",
        "colab_type": "text"
      },
      "source": [
        "\n",
        "\n",
        "# Ejercicios"
      ]
    },
    {
      "cell_type": "markdown",
      "metadata": {
        "id": "yfXg340rQM5N",
        "colab_type": "text"
      },
      "source": [
        "\n",
        "\n",
        "## Ejercicio 1\n",
        "Aumenta el número de vecinos del KNN (p.ej hasta 30) y describe como se comporta el algoritmo"
      ]
    },
    {
      "cell_type": "markdown",
      "metadata": {
        "id": "XP01VIzUQM5N",
        "colab_type": "text"
      },
      "source": [
        "\n",
        "\n",
        "n = 5"
      ]
    },
    {
      "cell_type": "code",
      "metadata": {
        "id": "BskNklr6QM5O",
        "colab_type": "code",
        "colab": {}
      },
      "source": [
        "# Respuesta aqui"
      ],
      "execution_count": 24,
      "outputs": []
    },
    {
      "cell_type": "markdown",
      "metadata": {
        "id": "God6l2M3QM5R",
        "colab_type": "text"
      },
      "source": [
        "\n",
        "\n",
        "n = 15"
      ]
    },
    {
      "cell_type": "code",
      "metadata": {
        "id": "SZsT0yTQQM5R",
        "colab_type": "code",
        "colab": {}
      },
      "source": [
        "# Respuesta aqui"
      ],
      "execution_count": 25,
      "outputs": []
    },
    {
      "cell_type": "markdown",
      "metadata": {
        "id": "LNbDylXkQM5T",
        "colab_type": "text"
      },
      "source": [
        "\n",
        "\n",
        "n = 30"
      ]
    },
    {
      "cell_type": "code",
      "metadata": {
        "id": "yWCsY3XMQM5U",
        "colab_type": "code",
        "colab": {}
      },
      "source": [
        "# Respuesta aqui"
      ],
      "execution_count": 26,
      "outputs": []
    },
    {
      "cell_type": "markdown",
      "metadata": {
        "id": "tO1xvdfFQM5W",
        "colab_type": "text"
      },
      "source": [
        "\n",
        "\n",
        "## Ejercicio 2\n",
        "\n",
        "Utiliza KNN en el dataset de `iris`. Prueba a asignar diferentes valores de K para observar como cambia el score.\n"
      ]
    },
    {
      "cell_type": "code",
      "metadata": {
        "id": "lrktX3U0QM5W",
        "colab_type": "code",
        "colab": {}
      },
      "source": [
        "from sklearn.datasets import load_iris\n",
        "from sklearn.model_selection import train_test_split\n",
        "\n",
        "\n",
        "iris = load_iris()\n",
        "X = iris.data\n",
        "y = iris.target\n",
        "\n",
        "X_train, X_test, y_train, y_test = train_test_split(X, y,\n",
        "                                                    test_size=0.25,\n",
        "                                                    random_state=1234,\n",
        "                                                    stratify=y)\n",
        "\n",
        "# Para buscar qué valor de K es mejor, no nos vale hacerlo con un split de train + test,\n",
        "# tenemos que utilizar un subset del conjunto de train llamado validación \n",
        "X_trainsub, X_valid, y_trainsub, y_valid = train_test_split(X_train, y_train,\n",
        "                                                            test_size=0.5,\n",
        "                                                            random_state=1234,\n",
        "                                                            stratify=y_train)"
      ],
      "execution_count": 27,
      "outputs": []
    },
    {
      "cell_type": "markdown",
      "metadata": {
        "id": "BL5DTxHSQM5Y",
        "colab_type": "text"
      },
      "source": [
        "\n",
        "\n",
        "Validad aquí los scores de cada K.\n",
        "Mostrad el score del modelo \"ganador\" en el conjunto de test."
      ]
    },
    {
      "cell_type": "code",
      "metadata": {
        "id": "1e1Td9UnQM5Y",
        "colab_type": "code",
        "colab": {}
      },
      "source": [
        "# Respuesta aqui"
      ],
      "execution_count": 28,
      "outputs": []
    }
  ]
}