{
  "nbformat": 4,
  "nbformat_minor": 0,
  "metadata": {
    "colab": {
      "name": "06_classifiers_evaluation.ipynb",
      "provenance": [],
      "collapsed_sections": [],
      "include_colab_link": true
    },
    "kernelspec": {
      "name": "python3",
      "display_name": "Python 3"
    }
  },
  "cells": [
    {
      "cell_type": "markdown",
      "metadata": {
        "id": "view-in-github",
        "colab_type": "text"
      },
      "source": [
        "<a href=\"https://colab.research.google.com/github/al34n1x/DataScience/blob/master/99.Machine_Learning/06_classifiers_evaluation.ipynb\" target=\"_parent\"><img src=\"https://colab.research.google.com/assets/colab-badge.svg\" alt=\"Open In Colab\"/></a>"
      ]
    },
    {
      "cell_type": "markdown",
      "metadata": {
        "id": "M_eTkrBylgJN",
        "colab_type": "text"
      },
      "source": [
        "\n",
        "\n",
        "# Evaluacion de clasificadores"
      ]
    },
    {
      "cell_type": "markdown",
      "metadata": {
        "id": "q-11Cd3_lgJZ",
        "colab_type": "text"
      },
      "source": [
        "\n",
        "\n",
        "Vamos a crear un conjunto de datos a partir de 2 distribuciones. Cada distribución se etiqueta con una clase. Los valores de ambas se deben cruzar para simular el problema que queremos definir."
      ]
    },
    {
      "cell_type": "code",
      "metadata": {
        "id": "1Ow_n4KhlgJd",
        "colab_type": "code",
        "colab": {}
      },
      "source": [
        "import numpy as np\n",
        "from matplotlib import pyplot as plt\n",
        "%matplotlib inline\n"
      ],
      "execution_count": 0,
      "outputs": []
    },
    {
      "cell_type": "code",
      "metadata": {
        "id": "BMk8fJ4ulgJr",
        "colab_type": "code",
        "colab": {}
      },
      "source": [
        "total_p = 1000\n",
        "total_n = 1000\n",
        "px = [np.random.normal(10,3) for _ in range(total_p)]\n",
        "nx = [np.random.normal(20,3) for _ in range(total_n)]\n",
        "x = np.concatenate([px,nx])\n",
        "classes = np.concatenate([[\"p\"]*total_p,[\"n\"]*total_n])"
      ],
      "execution_count": 0,
      "outputs": []
    },
    {
      "cell_type": "code",
      "metadata": {
        "id": "T7AorzdcoITh",
        "colab_type": "code",
        "outputId": "ba540ba2-d717-42bd-f26a-d699a791d4e9",
        "colab": {
          "base_uri": "https://localhost:8080/",
          "height": 53
        }
      },
      "source": [
        "x"
      ],
      "execution_count": 72,
      "outputs": [
        {
          "output_type": "execute_result",
          "data": {
            "text/plain": [
              "array([ 8.80645836, 11.56094727, 12.84730723, ..., 15.35284646,\n",
              "       20.62262827, 21.12556258])"
            ]
          },
          "metadata": {
            "tags": []
          },
          "execution_count": 72
        }
      ]
    },
    {
      "cell_type": "code",
      "metadata": {
        "id": "GiuDuXaAlgJ5",
        "colab_type": "code",
        "outputId": "2d51714e-96c7-473a-a32d-468cf7a7b53c",
        "colab": {
          "base_uri": "https://localhost:8080/",
          "height": 519
        }
      },
      "source": [
        "plt.hist(x,bins=40)"
      ],
      "execution_count": 73,
      "outputs": [
        {
          "output_type": "execute_result",
          "data": {
            "text/plain": [
              "(array([  1.,   1.,   0.,   0.,   4.,   9.,  17.,  20.,  33.,  44.,  67.,\n",
              "         58.,  69., 121.,  93.,  92.,  91.,  91.,  75.,  50.,  61.,  44.,\n",
              "         48.,  51.,  86.,  85.,  83.,  68., 108.,  99.,  82.,  68.,  56.,\n",
              "         49.,  26.,  23.,   9.,  11.,   5.,   2.]),\n",
              " array([-0.91290157, -0.16756655,  0.57776847,  1.32310348,  2.0684385 ,\n",
              "         2.81377352,  3.55910854,  4.30444355,  5.04977857,  5.79511359,\n",
              "         6.54044861,  7.28578362,  8.03111864,  8.77645366,  9.52178868,\n",
              "        10.26712369, 11.01245871, 11.75779373, 12.50312875, 13.24846376,\n",
              "        13.99379878, 14.7391338 , 15.48446882, 16.22980383, 16.97513885,\n",
              "        17.72047387, 18.46580889, 19.2111439 , 19.95647892, 20.70181394,\n",
              "        21.44714896, 22.19248397, 22.93781899, 23.68315401, 24.42848903,\n",
              "        25.17382404, 25.91915906, 26.66449408, 27.4098291 , 28.15516411,\n",
              "        28.90049913]),\n",
              " <a list of 40 Patch objects>)"
            ]
          },
          "metadata": {
            "tags": []
          },
          "execution_count": 73
        },
        {
          "output_type": "display_data",
          "data": {
            "image/png": "[encoded data removed]",
            "text/plain": [
              "<Figure size 432x288 with 1 Axes>"
            ]
          },
          "metadata": {
            "tags": [],
            "needs_background": "light"
          }
        }
      ]
    },
    {
      "cell_type": "markdown",
      "metadata": {
        "id": "bpsqV4eylgKJ",
        "colab_type": "text"
      },
      "source": [
        "\n",
        "\n",
        "Aunque se perciba todo del mismo tipo, tenemos presentes las clases verdaderas"
      ]
    },
    {
      "cell_type": "code",
      "metadata": {
        "id": "VaYYJKY9lgKM",
        "colab_type": "code",
        "outputId": "99ccc1bb-8eac-4f5f-d129-3de46100d862",
        "colab": {
          "base_uri": "https://localhost:8080/",
          "height": 265
        }
      },
      "source": [
        "plt.hist(px,bins=20,color=\"r\", alpha = .5)\n",
        "plt.hist(nx,bins=20,color=\"blue\", alpha = .5)\n",
        "plt.show()"
      ],
      "execution_count": 74,
      "outputs": [
        {
          "output_type": "display_data",
          "data": {
            "image/png": "[encoded data removed]",
            "text/plain": [
              "<Figure size 432x288 with 1 Axes>"
            ]
          },
          "metadata": {
            "tags": [],
            "needs_background": "light"
          }
        }
      ]
    },
    {
      "cell_type": "markdown",
      "metadata": {
        "id": "fTCxUSJKlgKX",
        "colab_type": "text"
      },
      "source": [
        "\n",
        "\n",
        "# 1 modelo simple"
      ]
    },
    {
      "cell_type": "markdown",
      "metadata": {
        "id": "Dsk3pB4PlgKc",
        "colab_type": "text"
      },
      "source": [
        "\n",
        "\n",
        "Creemos un clasificador muy simple, que divide las clases entre n y p, por la mitad de sus medias. Es decir que indique true para cada valor que es menor que la mitad."
      ]
    },
    {
      "cell_type": "code",
      "metadata": {
        "id": "V_attVNClgKm",
        "colab_type": "code",
        "outputId": "53998ab7-101c-4ccc-ab90-90a6849eb053",
        "colab": {
          "base_uri": "https://localhost:8080/",
          "height": 72
        }
      },
      "source": [
        "def model(x,threshold):\n",
        "    model_map = {True:\"p\",False:\"n\"}\n",
        "    result = x<threshold\n",
        "    result = np.vectorize(model_map.get)(result)\n",
        "    return result\n",
        "\n",
        "first_model_threshold = 15\n",
        "testx = np.arange(1,30)\n",
        "model(testx,threshold=first_model_threshold)"
      ],
      "execution_count": 75,
      "outputs": [
        {
          "output_type": "execute_result",
          "data": {
            "text/plain": [
              "array(['p', 'p', 'p', 'p', 'p', 'p', 'p', 'p', 'p', 'p', 'p', 'p', 'p',\n",
              "       'p', 'n', 'n', 'n', 'n', 'n', 'n', 'n', 'n', 'n', 'n', 'n', 'n',\n",
              "       'n', 'n', 'n'], dtype='<U1')"
            ]
          },
          "metadata": {
            "tags": []
          },
          "execution_count": 75
        }
      ]
    },
    {
      "cell_type": "markdown",
      "metadata": {
        "id": "4dSjKLIilgLI",
        "colab_type": "text"
      },
      "source": [
        "\n",
        "\n",
        "Predecimos con nuestro modelo para comprobar su precisión, sobre las clases asignadas"
      ]
    },
    {
      "cell_type": "code",
      "metadata": {
        "id": "YLX0GGD2lgLM",
        "colab_type": "code",
        "colab": {}
      },
      "source": [
        "class_predicted = model(x,15)"
      ],
      "execution_count": 0,
      "outputs": []
    },
    {
      "cell_type": "markdown",
      "metadata": {
        "id": "7cO_Ex6XlgLc",
        "colab_type": "text"
      },
      "source": [
        "\n",
        "\n",
        "# Definir metricas"
      ]
    },
    {
      "cell_type": "markdown",
      "metadata": {
        "id": "AzHQIRDilgLk",
        "colab_type": "text"
      },
      "source": [
        "\n",
        "\n",
        "Si contamos en términos generales cuántas se han acertado, es decir, bien clasificadas, se han acertado casi todas. esta es la métrica precision (accuracy)."
      ]
    },
    {
      "cell_type": "code",
      "metadata": {
        "id": "BPAX_GRslgLq",
        "colab_type": "code",
        "outputId": "909f1a35-41e1-438c-e3c8-8567258e6d9f",
        "colab": {
          "base_uri": "https://localhost:8080/",
          "height": 35
        }
      },
      "source": [
        "sum(classes == class_predicted)/len(classes)"
      ],
      "execution_count": 77,
      "outputs": [
        {
          "output_type": "execute_result",
          "data": {
            "text/plain": [
              "0.9515"
            ]
          },
          "metadata": {
            "tags": []
          },
          "execution_count": 77
        }
      ]
    },
    {
      "cell_type": "code",
      "metadata": {
        "id": "tZt9-e_wlgL-",
        "colab_type": "code",
        "colab": {}
      },
      "source": [
        "def accuracy(classes,predicted,positive_class,debug=True):\n",
        "    if not debug:\n",
        "        print(\"Simple implementation\")\n",
        "    return sum(classes == predicted)/len(classes)"
      ],
      "execution_count": 0,
      "outputs": []
    },
    {
      "cell_type": "code",
      "metadata": {
        "id": "TlggnaKQlgMM",
        "colab_type": "code",
        "outputId": "25d909f6-1b6e-48a7-f05f-a317e6c3bdea",
        "colab": {
          "base_uri": "https://localhost:8080/",
          "height": 35
        }
      },
      "source": [
        "accuracy(classes=classes,predicted=class_predicted,positive_class=\"p\")"
      ],
      "execution_count": 79,
      "outputs": [
        {
          "output_type": "execute_result",
          "data": {
            "text/plain": [
              "0.9515"
            ]
          },
          "metadata": {
            "tags": []
          },
          "execution_count": 79
        }
      ]
    },
    {
      "cell_type": "code",
      "metadata": {
        "id": "YA1p-MwxlgMc",
        "colab_type": "code",
        "outputId": "f3c2bf08-77f5-4baa-90e2-41404f357eef",
        "colab": {
          "base_uri": "https://localhost:8080/",
          "height": 265
        }
      },
      "source": [
        "plt.hist(px,bins=20,color=\"r\", alpha = .5)\n",
        "plt.hist(nx,bins=20,color=\"blue\", alpha = .5)\n",
        "plt.vlines(first_model_threshold,0,130)\n",
        "plt.show()"
      ],
      "execution_count": 80,
      "outputs": [
        {
          "output_type": "display_data",
          "data": {
            "image/png": "[encoded data removed]",
            "text/plain": [
              "<Figure size 432x288 with 1 Axes>"
            ]
          },
          "metadata": {
            "tags": [],
            "needs_background": "light"
          }
        }
      ]
    },
    {
      "cell_type": "markdown",
      "metadata": {
        "id": "1Aab9HR7lgMw",
        "colab_type": "text"
      },
      "source": [
        "\n",
        "\n",
        "¿Cómo de bueno ha sido distinguiendo las muestras p, de las n ? Para esto necesitamos reflejar sensibilidad (recall) y especificidad (precission)  \n",
        "\n",
        "Para la Sensibilidad necesitamos dividir todas las clasificadas como p, entre las que existen."
      ]
    },
    {
      "cell_type": "code",
      "metadata": {
        "id": "e9rMp1BUlgM0",
        "colab_type": "code",
        "outputId": "506c5240-fec3-4fec-e005-831e42705030",
        "colab": {
          "base_uri": "https://localhost:8080/",
          "height": 35
        }
      },
      "source": [
        "sum((class_predicted == \"p\") & (classes==\"p\")) / sum(classes==\"p\")"
      ],
      "execution_count": 81,
      "outputs": [
        {
          "output_type": "execute_result",
          "data": {
            "text/plain": [
              "0.958"
            ]
          },
          "metadata": {
            "tags": []
          },
          "execution_count": 81
        }
      ]
    },
    {
      "cell_type": "code",
      "metadata": {
        "id": "oVasOoLRlgM_",
        "colab_type": "code",
        "colab": {}
      },
      "source": [
        "def recall(classes, predicted, positive_class):\n",
        "    return sum((predicted == positive_class) & (classes==positive_class)) / sum(classes==positive_class)"
      ],
      "execution_count": 0,
      "outputs": []
    },
    {
      "cell_type": "code",
      "metadata": {
        "id": "RtwTujydlgNG",
        "colab_type": "code",
        "outputId": "03a789d2-11d4-4c44-8350-1453baeba5d8",
        "colab": {
          "base_uri": "https://localhost:8080/",
          "height": 35
        }
      },
      "source": [
        "recall(classes=classes,predicted=class_predicted,positive_class=\"p\")"
      ],
      "execution_count": 83,
      "outputs": [
        {
          "output_type": "execute_result",
          "data": {
            "text/plain": [
              "0.958"
            ]
          },
          "metadata": {
            "tags": []
          },
          "execution_count": 83
        }
      ]
    },
    {
      "cell_type": "markdown",
      "metadata": {
        "id": "gUwm52IhlgNX",
        "colab_type": "text"
      },
      "source": [
        "\n",
        "\n",
        "Y para la espeficididad, de las que se han señalado como p, cuales lo son realmente"
      ]
    },
    {
      "cell_type": "code",
      "metadata": {
        "id": "uecyFMOilgNa",
        "colab_type": "code",
        "outputId": "81000f85-9f76-4dbf-9945-2a02498cbd83",
        "colab": {
          "base_uri": "https://localhost:8080/",
          "height": 35
        }
      },
      "source": [
        "sum((class_predicted == \"p\") & (classes==\"p\")) /  sum(class_predicted==\"p\")"
      ],
      "execution_count": 84,
      "outputs": [
        {
          "output_type": "execute_result",
          "data": {
            "text/plain": [
              "0.945705824284304"
            ]
          },
          "metadata": {
            "tags": []
          },
          "execution_count": 84
        }
      ]
    },
    {
      "cell_type": "code",
      "metadata": {
        "id": "HSLPoPcwlgNj",
        "colab_type": "code",
        "colab": {}
      },
      "source": [
        "def specificity(classes, predicted, positive_class):\n",
        "    return sum((predicted == positive_class) & (classes==positive_class)) / sum(predicted==positive_class)"
      ],
      "execution_count": 0,
      "outputs": []
    },
    {
      "cell_type": "code",
      "metadata": {
        "id": "OcZ5NlAIlgN6",
        "colab_type": "code",
        "outputId": "d291f219-e247-44a3-ac34-5855f2d70454",
        "colab": {
          "base_uri": "https://localhost:8080/",
          "height": 35
        }
      },
      "source": [
        "specificity(classes, class_predicted, \"p\")"
      ],
      "execution_count": 86,
      "outputs": [
        {
          "output_type": "execute_result",
          "data": {
            "text/plain": [
              "0.945705824284304"
            ]
          },
          "metadata": {
            "tags": []
          },
          "execution_count": 86
        }
      ]
    },
    {
      "cell_type": "markdown",
      "metadata": {
        "id": "3bfWA46AlgOJ",
        "colab_type": "text"
      },
      "source": [
        "\n",
        "\n",
        "# 3 modelos simples"
      ]
    },
    {
      "cell_type": "code",
      "metadata": {
        "id": "Dc-bHmoqlgOL",
        "colab_type": "code",
        "colab": {}
      },
      "source": [
        "def model_1(x):\n",
        "    return model(x,threshold=12.5)\n",
        "def model_2(x):\n",
        "    return model(x,threshold=15)\n",
        "def model_3(x):\n",
        "    return model(x,threshold=17.5)"
      ],
      "execution_count": 0,
      "outputs": []
    },
    {
      "cell_type": "code",
      "metadata": {
        "id": "GooaS8IylgOl",
        "colab_type": "code",
        "colab": {}
      },
      "source": [
        "class_predicted_1 = model_1(x)\n",
        "class_predicted_2 = model_2(x)\n",
        "class_predicted_3 = model_3(x)"
      ],
      "execution_count": 0,
      "outputs": []
    },
    {
      "cell_type": "markdown",
      "metadata": {
        "id": "NQsqvr37lgOu",
        "colab_type": "text"
      },
      "source": [
        "\n",
        "\n",
        "modelo 1"
      ]
    },
    {
      "cell_type": "code",
      "metadata": {
        "id": "6UaAB_jKlgOw",
        "colab_type": "code",
        "outputId": "e8340b99-aff1-4301-fc01-e555f6190cde",
        "colab": {
          "base_uri": "https://localhost:8080/",
          "height": 72
        }
      },
      "source": [
        "print(\"Precision\",accuracy(classes=classes,predicted=class_predicted_1,positive_class=\"p\"))\n",
        "print(\"Sensitivity\",recall(classes=classes,predicted=class_predicted_1,positive_class=\"p\"))\n",
        "print(\"Specificity\",specificity(classes=classes,predicted=class_predicted_1,positive_class=\"p\"))"
      ],
      "execution_count": 89,
      "outputs": [
        {
          "output_type": "stream",
          "text": [
            "Precision 0.8985\n",
            "Sensitivity 0.804\n",
            "Specificity 0.9913686806411838\n"
          ],
          "name": "stdout"
        }
      ]
    },
    {
      "cell_type": "markdown",
      "metadata": {
        "id": "iu7y_xiWlgPF",
        "colab_type": "text"
      },
      "source": [
        "\n",
        "\n",
        "modelo 2"
      ]
    },
    {
      "cell_type": "code",
      "metadata": {
        "id": "4cIaTs4ulgPG",
        "colab_type": "code",
        "outputId": "eaf78cdb-6b5c-4e59-ee1c-a5a7b3bc3f6a",
        "colab": {
          "base_uri": "https://localhost:8080/",
          "height": 72
        }
      },
      "source": [
        "print(\"Precision\",accuracy(classes=classes,predicted=class_predicted_2,positive_class=\"p\"))\n",
        "print(\"Sensitivity\",recall(classes=classes,predicted=class_predicted_2,positive_class=\"p\"))\n",
        "print(\"Specificity\",specificity(classes=classes,predicted=class_predicted_2,positive_class=\"p\"))"
      ],
      "execution_count": 90,
      "outputs": [
        {
          "output_type": "stream",
          "text": [
            "Precision 0.9515\n",
            "Sensitivity 0.958\n",
            "Specificity 0.945705824284304\n"
          ],
          "name": "stdout"
        }
      ]
    },
    {
      "cell_type": "markdown",
      "metadata": {
        "id": "MGGVgu6algPW",
        "colab_type": "text"
      },
      "source": [
        "\n",
        "\n",
        "modelo 3"
      ]
    },
    {
      "cell_type": "code",
      "metadata": {
        "id": "Y-D0pdIllgPa",
        "colab_type": "code",
        "outputId": "f54b8e26-6e1c-4040-f57a-b602accd8055",
        "colab": {
          "base_uri": "https://localhost:8080/",
          "height": 72
        }
      },
      "source": [
        "print(\"Precision\",accuracy(classes=classes,predicted=class_predicted_3,positive_class=\"p\"))\n",
        "print(\"Sensitivity\",recall(classes=classes,predicted=class_predicted_3,positive_class=\"p\"))\n",
        "print(\"Specificity\",specificity(classes=classes,predicted=class_predicted_3,positive_class=\"p\"))"
      ],
      "execution_count": 91,
      "outputs": [
        {
          "output_type": "stream",
          "text": [
            "Precision 0.895\n",
            "Sensitivity 0.993\n",
            "Specificity 0.830267558528428\n"
          ],
          "name": "stdout"
        }
      ]
    },
    {
      "cell_type": "code",
      "metadata": {
        "id": "EEl49BQFlgPm",
        "colab_type": "code",
        "outputId": "16c9278d-0b00-42f7-d7bc-f94fca485b77",
        "colab": {
          "base_uri": "https://localhost:8080/",
          "height": 281
        }
      },
      "source": [
        "plt.hist(px,bins=20,color=\"r\", alpha = .5)\n",
        "plt.hist(nx,bins=20,color=\"blue\", alpha = .5)\n",
        "plt.title(\"3 simple models\")\n",
        "plt.vlines(12.5,0,130)\n",
        "plt.vlines(15,0,130)\n",
        "plt.vlines(17.5,0,130)\n",
        "\n",
        "plt.show()"
      ],
      "execution_count": 92,
      "outputs": [
        {
          "output_type": "display_data",
          "data": {
            "image/png": "[encoded data removed]",
            "text/plain": [
              "<Figure size 432x288 with 1 Axes>"
            ]
          },
          "metadata": {
            "tags": [],
            "needs_background": "light"
          }
        }
      ]
    },
    {
      "cell_type": "markdown",
      "metadata": {
        "id": "UO0aj-jwlgPs",
        "colab_type": "text"
      },
      "source": [
        "\n",
        "\n",
        "# muchos modelos simples"
      ]
    },
    {
      "cell_type": "markdown",
      "metadata": {
        "id": "0DXnY_xVlgPt",
        "colab_type": "text"
      },
      "source": [
        "\n",
        "\n",
        "Creamos ahora \"modelos\" con unmbrales del 5 al 25 de 2 en dos, e introducimos las métricas en listas para comprobar como de bien evolucionan las 3 métricas"
      ]
    },
    {
      "cell_type": "code",
      "metadata": {
        "id": "eFz62jRnlgP3",
        "colab_type": "code",
        "outputId": "f915f09a-7601-4879-c80a-be3de0d5f4ca",
        "colab": {
          "base_uri": "https://localhost:8080/",
          "height": 35
        }
      },
      "source": [
        "thresholds = np.arange(5,27,2)\n",
        "thresholds"
      ],
      "execution_count": 93,
      "outputs": [
        {
          "output_type": "execute_result",
          "data": {
            "text/plain": [
              "array([ 5,  7,  9, 11, 13, 15, 17, 19, 21, 23, 25])"
            ]
          },
          "metadata": {
            "tags": []
          },
          "execution_count": 93
        }
      ]
    },
    {
      "cell_type": "code",
      "metadata": {
        "id": "_FV-uwBDlgQA",
        "colab_type": "code",
        "outputId": "7e5adb1c-2542-4bf6-a9c0-8964e7a63e4a",
        "colab": {
          "base_uri": "https://localhost:8080/",
          "height": 217
        }
      },
      "source": [
        "predictions = [model(x,threshold=t) for t in thresholds]\n",
        "predictions"
      ],
      "execution_count": 94,
      "outputs": [
        {
          "output_type": "execute_result",
          "data": {
            "text/plain": [
              "[array(['n', 'n', 'n', ..., 'n', 'n', 'n'], dtype='<U1'),\n",
              " array(['n', 'n', 'n', ..., 'n', 'n', 'n'], dtype='<U1'),\n",
              " array(['p', 'n', 'n', ..., 'n', 'n', 'n'], dtype='<U1'),\n",
              " array(['p', 'n', 'n', ..., 'n', 'n', 'n'], dtype='<U1'),\n",
              " array(['p', 'p', 'p', ..., 'n', 'n', 'n'], dtype='<U1'),\n",
              " array(['p', 'p', 'p', ..., 'n', 'n', 'n'], dtype='<U1'),\n",
              " array(['p', 'p', 'p', ..., 'p', 'n', 'n'], dtype='<U1'),\n",
              " array(['p', 'p', 'p', ..., 'p', 'n', 'n'], dtype='<U1'),\n",
              " array(['p', 'p', 'p', ..., 'p', 'p', 'n'], dtype='<U1'),\n",
              " array(['p', 'p', 'p', ..., 'p', 'p', 'p'], dtype='<U1'),\n",
              " array(['p', 'p', 'p', ..., 'p', 'p', 'p'], dtype='<U1')]"
            ]
          },
          "metadata": {
            "tags": []
          },
          "execution_count": 94
        }
      ]
    },
    {
      "cell_type": "code",
      "metadata": {
        "id": "_y7OUeOjlgQF",
        "colab_type": "code",
        "colab": {}
      },
      "source": [
        "accuracies = [accuracy(classes=classes, predicted= ps, positive_class=\"p\")\n",
        "             for ps in predictions]\n",
        "recalls = [recall(classes=classes, predicted= ps, positive_class=\"p\")\n",
        "             for ps in predictions]\n",
        "specificities = [specificity(classes=classes, predicted= ps, positive_class=\"p\")\n",
        "             for ps in predictions]\n",
        "    "
      ],
      "execution_count": 0,
      "outputs": []
    },
    {
      "cell_type": "code",
      "metadata": {
        "id": "wNJySa2NlgQK",
        "colab_type": "code",
        "outputId": "67e1f5f4-c7d1-4103-96c4-eeedc371e857",
        "colab": {
          "base_uri": "https://localhost:8080/",
          "height": 35
        }
      },
      "source": [
        "recalls"
      ],
      "execution_count": 96,
      "outputs": [
        {
          "output_type": "execute_result",
          "data": {
            "text/plain": [
              "[0.051, 0.168, 0.361, 0.626, 0.855, 0.958, 0.99, 1.0, 1.0, 1.0, 1.0]"
            ]
          },
          "metadata": {
            "tags": []
          },
          "execution_count": 96
        }
      ]
    },
    {
      "cell_type": "code",
      "metadata": {
        "id": "9eDa725dlgQT",
        "colab_type": "code",
        "outputId": "03291c5a-1c85-41fb-f811-9396dfae83c4",
        "colab": {
          "base_uri": "https://localhost:8080/",
          "height": 217
        }
      },
      "source": [
        "specificities"
      ],
      "execution_count": 97,
      "outputs": [
        {
          "output_type": "execute_result",
          "data": {
            "text/plain": [
              "[1.0,\n",
              " 1.0,\n",
              " 1.0,\n",
              " 0.9984051036682615,\n",
              " 0.986159169550173,\n",
              " 0.945705824284304,\n",
              " 0.8669001751313485,\n",
              " 0.7309941520467836,\n",
              " 0.6191950464396285,\n",
              " 0.5485463521667581,\n",
              " 0.5141388174807198]"
            ]
          },
          "metadata": {
            "tags": []
          },
          "execution_count": 97
        }
      ]
    },
    {
      "cell_type": "code",
      "metadata": {
        "id": "GlC_YeGVlgQa",
        "colab_type": "code",
        "outputId": "3f29c308-1c78-4553-b7b1-24830ada3451",
        "colab": {
          "base_uri": "https://localhost:8080/",
          "height": 281
        }
      },
      "source": [
        "plt.figure(figsize=[10,4])\n",
        "plt.xlim([0,30])\n",
        "plt.plot(thresholds,accuracies,\"k\")\n",
        "plt.plot(thresholds,recalls,\"red\")\n",
        "plt.plot(thresholds,specificities,\"blue\")\n",
        "plt.legend([\"Precision\",\"Sensitivity\",\"Specificity\"])\n",
        "plt.title(\"Precision - Sensitivity - Specificity vs Model\")\n",
        "\n",
        "\n",
        "plt.show()"
      ],
      "execution_count": 98,
      "outputs": [
        {
          "output_type": "display_data",
          "data": {
            "image/png": "[encoded data removed]",
            "text/plain": [
              "<Figure size 720x288 with 1 Axes>"
            ]
          },
          "metadata": {
            "tags": [],
            "needs_background": "light"
          }
        }
      ]
    },
    {
      "cell_type": "code",
      "metadata": {
        "id": "o3xPqjYRlgQe",
        "colab_type": "code",
        "outputId": "a18e426b-a310-4ed3-9094-a3d7de66a62c",
        "colab": {
          "base_uri": "https://localhost:8080/",
          "height": 281
        }
      },
      "source": [
        "plt.figure(figsize=[10,4])\n",
        "plt.xlim([0,30])\n",
        "\n",
        "plt.hist(px,bins=20,color=\"r\", alpha = .5)\n",
        "plt.hist(nx,bins=20,color=\"blue\", alpha = .5)\n",
        "for t in thresholds:\n",
        "    plt.vlines(t, 0, 130)\n",
        "plt.title(\"11 simple models\")\n",
        "plt.show()"
      ],
      "execution_count": 99,
      "outputs": [
        {
          "output_type": "display_data",
          "data": {
            "image/png": "[encoded data removed]",
            "text/plain": [
              "<Figure size 720x288 with 1 Axes>"
            ]
          },
          "metadata": {
            "tags": [],
            "needs_background": "light"
          }
        }
      ]
    },
    {
      "cell_type": "markdown",
      "metadata": {
        "id": "KAVL_CwBlgQs",
        "colab_type": "text"
      },
      "source": [
        "\n",
        "\n",
        "# ROC"
      ]
    },
    {
      "cell_type": "markdown",
      "metadata": {
        "id": "9VnGJ4NolgQu",
        "colab_type": "text"
      },
      "source": [
        "\n",
        "\n",
        "para N modelos distintos, cada uno posiblemente con un nivel de umbral de aceptación de la clase positiva, se representan sus valores de True Positive Rate y False Positive Rate.\n",
        "\n",
        "TPR = De los casos seleccionados, tasa de los que eran realmente positivos  \n",
        "FPR = De los casos seleccionados, tasa de los que se han dado por positivos pero no lo eran\n"
      ]
    },
    {
      "cell_type": "code",
      "metadata": {
        "id": "9I6kgByClgQw",
        "colab_type": "code",
        "colab": {}
      },
      "source": [
        "TPR = recalls\n",
        "\n",
        "FPR = 1 - np.array(specificities)"
      ],
      "execution_count": 0,
      "outputs": []
    },
    {
      "cell_type": "code",
      "metadata": {
        "id": "OiCndXP3lgQ2",
        "colab_type": "code",
        "outputId": "4786814d-7531-4e41-b6f3-ca25669df435",
        "colab": {
          "base_uri": "https://localhost:8080/",
          "height": 265
        }
      },
      "source": [
        "plt.plot(FPR,TPR)\n",
        "plt.show()"
      ],
      "execution_count": 101,
      "outputs": [
        {
          "output_type": "display_data",
          "data": {
            "image/png": "[encoded data removed]",
            "text/plain": [
              "<Figure size 432x288 with 1 Axes>"
            ]
          },
          "metadata": {
            "tags": [],
            "needs_background": "light"
          }
        }
      ]
    },
    {
      "cell_type": "markdown",
      "metadata": {
        "id": "D23I8jwhlgQ7",
        "colab_type": "text"
      },
      "source": [
        "\n",
        "\n",
        "# Otras distribuciones"
      ]
    },
    {
      "cell_type": "markdown",
      "metadata": {
        "id": "xGXs2vNglgQ-",
        "colab_type": "text"
      },
      "source": [
        "\n",
        "\n",
        "## Clases desequilibradas"
      ]
    },
    {
      "cell_type": "code",
      "metadata": {
        "id": "w6jrgHl7lgQ-",
        "colab_type": "code",
        "colab": {}
      },
      "source": [
        "total_p = 100\n",
        "total_n = 1000\n",
        "px = [np.random.normal(10,3) for _ in range(total_p)]\n",
        "nx = [np.random.normal(20,3) for _ in range(total_n)]\n",
        "x = np.concatenate([px,nx])\n",
        "classes = np.concatenate([[\"p\"]*total_p,[\"n\"]*total_n])"
      ],
      "execution_count": 0,
      "outputs": []
    },
    {
      "cell_type": "code",
      "metadata": {
        "id": "w664-wSVlgRG",
        "colab_type": "code",
        "outputId": "835ce097-3707-4699-b982-47cd7c366ef2",
        "colab": {
          "base_uri": "https://localhost:8080/",
          "height": 281
        }
      },
      "source": [
        "plt.figure(figsize=[10,4])\n",
        "plt.xlim([0,30])\n",
        "plt.title(\"Unbalanced classes\")\n",
        "plt.hist(px,bins=20,color=\"r\", alpha = .5)\n",
        "plt.hist(nx,bins=20,color=\"blue\", alpha = .5)\n",
        "for t in thresholds:\n",
        "    plt.vlines(t, 0, 130)\n",
        "\n",
        "plt.show()"
      ],
      "execution_count": 103,
      "outputs": [
        {
          "output_type": "display_data",
          "data": {
            "image/png": "[encoded data removed]",
            "text/plain": [
              "<Figure size 720x288 with 1 Axes>"
            ]
          },
          "metadata": {
            "tags": [],
            "needs_background": "light"
          }
        }
      ]
    },
    {
      "cell_type": "code",
      "metadata": {
        "id": "MHI2N-k0lgRM",
        "colab_type": "code",
        "colab": {}
      },
      "source": [
        "predictions = [model(x,threshold=t) for t in thresholds]\n",
        "accuracies = [accuracy(classes=classes, predicted= ps, positive_class=\"p\")\n",
        "             for ps in predictions]\n",
        "recalls = [recall(classes=classes, predicted= ps, positive_class=\"p\")\n",
        "             for ps in predictions]\n",
        "specificities = [specificity(classes=classes, predicted= ps, positive_class=\"p\")\n",
        "             for ps in predictions]\n",
        "    "
      ],
      "execution_count": 0,
      "outputs": []
    },
    {
      "cell_type": "code",
      "metadata": {
        "id": "I1zjPfL9lgRV",
        "colab_type": "code",
        "outputId": "27c1f5ce-3e3c-4338-8877-1419ac07d811",
        "colab": {
          "base_uri": "https://localhost:8080/",
          "height": 281
        }
      },
      "source": [
        "plt.figure(figsize=[10,4])\n",
        "plt.xlim([0,30])\n",
        "plt.plot(thresholds,accuracies,\"k\")\n",
        "plt.plot(thresholds,recalls,\"red\")\n",
        "plt.plot(thresholds,specificities,\"blue\")\n",
        "plt.legend([\"Precision\",\"Sensitivity\",\"Specificity\"])\n",
        "plt.title(\"Precision - Sensitivity - Specificity vs Model\")\n",
        "plt.show()"
      ],
      "execution_count": 105,
      "outputs": [
        {
          "output_type": "display_data",
          "data": {
            "image/png": "[encoded data removed]",
            "text/plain": [
              "<Figure size 720x288 with 1 Axes>"
            ]
          },
          "metadata": {
            "tags": [],
            "needs_background": "light"
          }
        }
      ]
    },
    {
      "cell_type": "markdown",
      "metadata": {
        "id": "xWKoPX_1lgRa",
        "colab_type": "text"
      },
      "source": [
        "\n",
        "\n",
        "## Distribuciones muy pegadas"
      ]
    },
    {
      "cell_type": "code",
      "metadata": {
        "id": "dFkeDwSTlgRh",
        "colab_type": "code",
        "colab": {}
      },
      "source": [
        "total_p = 1000\n",
        "total_n = 1000\n",
        "px = [np.random.normal(13,3) for _ in range(total_p)]\n",
        "nx = [np.random.normal(17,3) for _ in range(total_n)]\n",
        "x = np.concatenate([px,nx])\n",
        "classes = np.concatenate([[\"p\"]*total_p,[\"n\"]*total_n])"
      ],
      "execution_count": 0,
      "outputs": []
    },
    {
      "cell_type": "code",
      "metadata": {
        "id": "PZsFsVFjlgRo",
        "colab_type": "code",
        "outputId": "798ab5a7-ecfa-4069-d723-16d895519e68",
        "colab": {
          "base_uri": "https://localhost:8080/",
          "height": 265
        }
      },
      "source": [
        "plt.hist(x,bins=40)\n",
        "plt.show()"
      ],
      "execution_count": 107,
      "outputs": [
        {
          "output_type": "display_data",
          "data": {
            "image/png": "[encoded data removed]",
            "text/plain": [
              "<Figure size 432x288 with 1 Axes>"
            ]
          },
          "metadata": {
            "tags": [],
            "needs_background": "light"
          }
        }
      ]
    },
    {
      "cell_type": "code",
      "metadata": {
        "id": "JORy9jJDlgR0",
        "colab_type": "code",
        "outputId": "f78f1559-16fa-4cca-e2f5-124db9d4ddf2",
        "colab": {
          "base_uri": "https://localhost:8080/",
          "height": 265
        }
      },
      "source": [
        "plt.hist(px,bins=20,color=\"r\", alpha = .5)\n",
        "plt.hist(nx,bins=20,color=\"blue\", alpha = .5)\n",
        "for t in thresholds:\n",
        "    plt.vlines(t, 0, 130)\n",
        "\n",
        "plt.show()"
      ],
      "execution_count": 108,
      "outputs": [
        {
          "output_type": "display_data",
          "data": {
            "image/png": "[encoded data removed]",
            "text/plain": [
              "<Figure size 432x288 with 1 Axes>"
            ]
          },
          "metadata": {
            "tags": [],
            "needs_background": "light"
          }
        }
      ]
    },
    {
      "cell_type": "code",
      "metadata": {
        "id": "wDLUmpeOlgR4",
        "colab_type": "code",
        "colab": {}
      },
      "source": [
        "predictions = [model(x,threshold=t) for t in thresholds]\n",
        "accuracies = [accuracy(classes=classes, predicted= ps, positive_class=\"p\")\n",
        "             for ps in predictions]\n",
        "recalls = [recall(classes=classes, predicted= ps, positive_class=\"p\")\n",
        "             for ps in predictions]\n",
        "specificities = [specificity(classes=classes, predicted= ps, positive_class=\"p\")\n",
        "             for ps in predictions]\n",
        "    "
      ],
      "execution_count": 0,
      "outputs": []
    },
    {
      "cell_type": "code",
      "metadata": {
        "id": "SqH9ihGFlgR_",
        "colab_type": "code",
        "outputId": "b491e476-ac8b-43ca-a22a-20e529c6229c",
        "colab": {
          "base_uri": "https://localhost:8080/",
          "height": 265
        }
      },
      "source": [
        "plt.plot(thresholds,accuracies,\"k\")\n",
        "plt.plot(thresholds,recalls,\"red\")\n",
        "plt.plot(thresholds,specificities,\"blue\")\n",
        "plt.show()"
      ],
      "execution_count": 110,
      "outputs": [
        {
          "output_type": "display_data",
          "data": {
            "image/png": "[encoded data removed]",
            "text/plain": [
              "<Figure size 432x288 with 1 Axes>"
            ]
          },
          "metadata": {
            "tags": [],
            "needs_background": "light"
          }
        }
      ]
    },
    {
      "cell_type": "markdown",
      "metadata": {
        "id": "tYC4QnMQlgSH",
        "colab_type": "text"
      },
      "source": [
        "\n",
        "\n",
        "# Un modelo \"real\""
      ]
    },
    {
      "cell_type": "markdown",
      "metadata": {
        "id": "KD_4c77clgSJ",
        "colab_type": "text"
      },
      "source": [
        "\n",
        "\n",
        "Ahora probamos con un modelo entrenado como una regresión lineal"
      ]
    },
    {
      "cell_type": "code",
      "metadata": {
        "id": "bFsLTc4hlgSK",
        "colab_type": "code",
        "colab": {}
      },
      "source": [
        "from sklearn.linear_model import LogisticRegression"
      ],
      "execution_count": 0,
      "outputs": []
    },
    {
      "cell_type": "code",
      "metadata": {
        "id": "EojPJDqXlgSO",
        "colab_type": "code",
        "colab": {}
      },
      "source": [
        "total_p = 1000\n",
        "total_n = 1000\n",
        "px = [np.random.normal(10,3) for _ in range(total_p)] \n",
        "nx = [np.random.normal(20,3) for _ in range(total_n)]\n",
        "x = np.concatenate([px,nx])\n",
        "classes = np.concatenate([[\"p\"]*total_p,[\"n\"]*total_n])"
      ],
      "execution_count": 0,
      "outputs": []
    },
    {
      "cell_type": "code",
      "metadata": {
        "id": "jZ45jTrUlgSS",
        "colab_type": "code",
        "colab": {}
      },
      "source": [
        "lr = LogisticRegression()\n",
        "lr = lr.fit(x.reshape(-1,1),classes)"
      ],
      "execution_count": 0,
      "outputs": []
    },
    {
      "cell_type": "markdown",
      "metadata": {
        "id": "MkKe-V4rlgSX",
        "colab_type": "text"
      },
      "source": [
        "\n",
        "\n",
        "Ahora predecimos con él"
      ]
    },
    {
      "cell_type": "code",
      "metadata": {
        "id": "oEVTroBvlgSZ",
        "colab_type": "code",
        "colab": {}
      },
      "source": [
        "predicted_classes = lr.predict(x.reshape(-1,1))"
      ],
      "execution_count": 0,
      "outputs": []
    },
    {
      "cell_type": "code",
      "metadata": {
        "id": "GWbUmHHplgSe",
        "colab_type": "code",
        "outputId": "6db9a329-1a13-4092-a447-4835befb43b2",
        "colab": {
          "base_uri": "https://localhost:8080/",
          "height": 35
        }
      },
      "source": [
        "accuracy(classes=classes,predicted=predicted_classes,positive_class=\"p\")"
      ],
      "execution_count": 115,
      "outputs": [
        {
          "output_type": "execute_result",
          "data": {
            "text/plain": [
              "0.9495"
            ]
          },
          "metadata": {
            "tags": []
          },
          "execution_count": 115
        }
      ]
    },
    {
      "cell_type": "code",
      "metadata": {
        "id": "nULa9kOvlgSi",
        "colab_type": "code",
        "outputId": "2b5b04f4-35cf-4493-dfe1-d77ba11cb331",
        "colab": {
          "base_uri": "https://localhost:8080/",
          "height": 35
        }
      },
      "source": [
        "recall(classes=classes,predicted=predicted_classes,positive_class=\"p\")"
      ],
      "execution_count": 116,
      "outputs": [
        {
          "output_type": "execute_result",
          "data": {
            "text/plain": [
              "0.95"
            ]
          },
          "metadata": {
            "tags": []
          },
          "execution_count": 116
        }
      ]
    },
    {
      "cell_type": "code",
      "metadata": {
        "id": "OkxEClPPlgSo",
        "colab_type": "code",
        "outputId": "2bd2c56b-873d-4f01-8946-d31a5d68965f",
        "colab": {
          "base_uri": "https://localhost:8080/",
          "height": 35
        }
      },
      "source": [
        "specificity(classes=classes,predicted=predicted_classes,positive_class=\"p\")"
      ],
      "execution_count": 117,
      "outputs": [
        {
          "output_type": "execute_result",
          "data": {
            "text/plain": [
              "0.949050949050949"
            ]
          },
          "metadata": {
            "tags": []
          },
          "execution_count": 117
        }
      ]
    },
    {
      "cell_type": "markdown",
      "metadata": {
        "id": "F-jxwHQflgSs",
        "colab_type": "text"
      },
      "source": [
        "\n",
        "\n",
        "## Sensibilidad en los modelos"
      ]
    },
    {
      "cell_type": "markdown",
      "metadata": {
        "id": "FU0RKA04lgSu",
        "colab_type": "text"
      },
      "source": [
        "\n",
        "\n",
        "Por defecto, la probabilidad > .5 se asigna a la primera clase. Pero podemos elegir el umbral que queramos, si interpretamos la salida como probabilidades y elegimos varios umbrales, para ver como respoden."
      ]
    },
    {
      "cell_type": "code",
      "metadata": {
        "id": "UHO7GZw-lgSv",
        "colab_type": "code",
        "colab": {}
      },
      "source": [
        "predicted_classes_proba = lr.predict_proba(x.reshape(-1,1))\n",
        "\n",
        "n_proba, p_proba = zip(*predicted_classes_proba)"
      ],
      "execution_count": 0,
      "outputs": []
    },
    {
      "cell_type": "code",
      "metadata": {
        "id": "hm0_hoRPlgS6",
        "colab_type": "code",
        "outputId": "170f8341-ee14-48af-99fe-189ace30414b",
        "colab": {
          "base_uri": "https://localhost:8080/",
          "height": 110
        }
      },
      "source": [
        "print(classes[0:10])\n",
        "print(x[0:10])\n",
        "print(p_proba[0:10])"
      ],
      "execution_count": 119,
      "outputs": [
        {
          "output_type": "stream",
          "text": [
            "['p' 'p' 'p' 'p' 'p' 'p' 'p' 'p' 'p' 'p']\n",
            "[11.56130325 11.050353    7.57730308 11.38444699  8.74277258  8.34523592\n",
            " 12.54454252 15.64679272 11.52066442  6.4137425 ]\n",
            "(0.9789316751091877, 0.9879962507107953, 0.9997507755536316, 0.9826489448269223, 0.9990822908505331, 0.9994116308288137, 0.9392558280500547, 0.3245159740417981, 0.9798494469151984, 0.9999322058455323)\n"
          ],
          "name": "stdout"
        }
      ]
    },
    {
      "cell_type": "code",
      "metadata": {
        "id": "YsNZn4PGlgS-",
        "colab_type": "code",
        "outputId": "1bca889c-fb55-4bb5-cc36-d7c93eff1fe0",
        "colab": {
          "base_uri": "https://localhost:8080/",
          "height": 35
        }
      },
      "source": [
        "np.array(n_proba)+np.array(p_proba)"
      ],
      "execution_count": 120,
      "outputs": [
        {
          "output_type": "execute_result",
          "data": {
            "text/plain": [
              "array([1., 1., 1., ..., 1., 1., 1.])"
            ]
          },
          "metadata": {
            "tags": []
          },
          "execution_count": 120
        }
      ]
    },
    {
      "cell_type": "markdown",
      "metadata": {
        "id": "wCGdk6SmlgTF",
        "colab_type": "text"
      },
      "source": [
        "\n",
        "\n",
        "La probabilidad asignada para cada x serán las siguientes"
      ]
    },
    {
      "cell_type": "code",
      "metadata": {
        "id": "7aTfDbywlgTG",
        "colab_type": "code",
        "outputId": "dd4a749c-2315-4296-e737-4caa50f9afec",
        "colab": {
          "base_uri": "https://localhost:8080/",
          "height": 265
        }
      },
      "source": [
        "plt.scatter(x, p_proba)\n",
        "plt.show()"
      ],
      "execution_count": 121,
      "outputs": [
        {
          "output_type": "display_data",
          "data": {
            "image/png": "[encoded data removed]",
            "text/plain": [
              "<Figure size 432x288 with 1 Axes>"
            ]
          },
          "metadata": {
            "tags": [],
            "needs_background": "light"
          }
        }
      ]
    },
    {
      "cell_type": "markdown",
      "metadata": {
        "id": "l6-wXKp-lgTa",
        "colab_type": "text"
      },
      "source": [
        "\n",
        "\n",
        "Creemos modelos del .1 al .9 de umbral de probabilidad, y comprobemos sus evaluaciones"
      ]
    },
    {
      "cell_type": "code",
      "metadata": {
        "id": "NnGzqr9slgTc",
        "colab_type": "code",
        "outputId": "98b7c242-a3b4-478b-ac06-5ef03595db8f",
        "colab": {
          "base_uri": "https://localhost:8080/",
          "height": 35
        }
      },
      "source": [
        "thresholds = np.arange(1,10)[::-1]/10\n",
        "thresholds"
      ],
      "execution_count": 122,
      "outputs": [
        {
          "output_type": "execute_result",
          "data": {
            "text/plain": [
              "array([0.9, 0.8, 0.7, 0.6, 0.5, 0.4, 0.3, 0.2, 0.1])"
            ]
          },
          "metadata": {
            "tags": []
          },
          "execution_count": 122
        }
      ]
    },
    {
      "cell_type": "code",
      "metadata": {
        "id": "q1yFc_QmlgTj",
        "colab_type": "code",
        "outputId": "fa0e0e33-a4c1-479b-bdb1-e923a348ba59",
        "colab": {
          "base_uri": "https://localhost:8080/",
          "height": 265
        }
      },
      "source": [
        "plt.scatter(x, p_proba)\n",
        "plt.hlines(thresholds,0,30)\n",
        "plt.show()"
      ],
      "execution_count": 123,
      "outputs": [
        {
          "output_type": "display_data",
          "data": {
            "image/png": "[encoded data removed]",
            "text/plain": [
              "<Figure size 432x288 with 1 Axes>"
            ]
          },
          "metadata": {
            "tags": [],
            "needs_background": "light"
          }
        }
      ]
    },
    {
      "cell_type": "markdown",
      "metadata": {
        "id": "m1DrG0v8lgTq",
        "colab_type": "text"
      },
      "source": [
        "\n",
        "\n",
        "Para cada threshold, tenemos un modelo, de manera que podemos discernir que clasificación ha hecho, aplicando el filtro del umbral."
      ]
    },
    {
      "cell_type": "code",
      "metadata": {
        "id": "jwHXdwk0lgT2",
        "colab_type": "code",
        "colab": {}
      },
      "source": [
        "predictions_model0 = p_proba>thresholds[0]\n",
        "predictions_model0 = list(map(lambda x: \"p\" if x else \"n\",predictions_model0))"
      ],
      "execution_count": 0,
      "outputs": []
    },
    {
      "cell_type": "markdown",
      "metadata": {
        "id": "7HcX8YxKlgT_",
        "colab_type": "text"
      },
      "source": [
        "\n",
        "\n",
        "Para todos los modelos"
      ]
    },
    {
      "cell_type": "code",
      "metadata": {
        "id": "J6-0MTkDlgUC",
        "colab_type": "code",
        "outputId": "17b99053-2cbd-4615-bc51-06607767fd5d",
        "colab": {
          "base_uri": "https://localhost:8080/",
          "height": 35
        }
      },
      "source": [
        "print(thresholds)\n",
        "predictions = [np.array(list(map(lambda x: \"p\" if x else \"n\", p_proba > t_ ))) for t_ in thresholds ]"
      ],
      "execution_count": 125,
      "outputs": [
        {
          "output_type": "stream",
          "text": [
            "[0.9 0.8 0.7 0.6 0.5 0.4 0.3 0.2 0.1]\n"
          ],
          "name": "stdout"
        }
      ]
    },
    {
      "cell_type": "code",
      "metadata": {
        "id": "r5uU-9UJlgUO",
        "colab_type": "code",
        "colab": {}
      },
      "source": [
        "accuracies = [accuracy(classes=classes, predicted=pred_, positive_class=\"p\") \n",
        "                for pred_ in predictions]\n",
        "recalls = [recall(classes=classes, predicted=pred_, positive_class=\"p\") \n",
        "                for pred_ in predictions]\n",
        "specificities = [specificity(classes=classes, predicted=pred_, positive_class=\"p\") \n",
        "                for pred_ in predictions]"
      ],
      "execution_count": 0,
      "outputs": []
    },
    {
      "cell_type": "code",
      "metadata": {
        "id": "aDao9N1zlgUS",
        "colab_type": "code",
        "outputId": "66b2dc2b-f9c0-42ff-c291-eb12d17fc65e",
        "colab": {
          "base_uri": "https://localhost:8080/",
          "height": 281
        }
      },
      "source": [
        "plt.figure(figsize=[10,4])\n",
        "plt.xlim([0,1])\n",
        "#plt.ylim([0,1])\n",
        "plt.plot(thresholds,accuracies,\"k\")\n",
        "plt.plot(thresholds,recalls,\"red\")\n",
        "plt.plot(thresholds,specificities,\"blue\")\n",
        "plt.legend([\"Precision\",\"Sensitivity\",\"Specificity\"])\n",
        "plt.title(\"Precision - Sensitivity - Specificity vs Model\")\n",
        "plt.show()"
      ],
      "execution_count": 127,
      "outputs": [
        {
          "output_type": "display_data",
          "data": {
            "image/png": "[encoded data removed]",
            "text/plain": [
              "<Figure size 720x288 with 1 Axes>"
            ]
          },
          "metadata": {
            "tags": [],
            "needs_background": "light"
          }
        }
      ]
    },
    {
      "cell_type": "markdown",
      "metadata": {
        "id": "V1sNlPBblgUd",
        "colab_type": "text"
      },
      "source": [
        "\n",
        "\n",
        "## Más sensibilidad"
      ]
    },
    {
      "cell_type": "code",
      "metadata": {
        "id": "z5ygWqYwlgUe",
        "colab_type": "code",
        "colab": {}
      },
      "source": [
        "thresholds = np.arange(0,1000,10)[::-1]/1000\n",
        "predictions = [np.array(list(map(lambda x: \"p\" if x else \"n\", p_proba > t_ ))) for t_ in thresholds ]\n",
        "\n",
        "accuracies = [accuracy(classes=classes, predicted=pred_, positive_class=\"p\") \n",
        "                for pred_ in predictions]\n",
        "recalls = [recall(classes=classes, predicted=pred_, positive_class=\"p\") \n",
        "                for pred_ in predictions]\n",
        "specificities = [specificity(classes=classes, predicted=pred_, positive_class=\"p\") \n",
        "                for pred_ in predictions]"
      ],
      "execution_count": 0,
      "outputs": []
    },
    {
      "cell_type": "code",
      "metadata": {
        "id": "yTvsxviqlgUj",
        "colab_type": "code",
        "outputId": "a36ee239-c3bc-4884-9b84-1fce765574a5",
        "colab": {
          "base_uri": "https://localhost:8080/",
          "height": 295
        }
      },
      "source": [
        "plt.figure(figsize=[10,4])\n",
        "plt.xlim([-.1,1.1])\n",
        "plt.ylim([0,1.1])\n",
        "plt.plot(thresholds[::-1],accuracies,\"k\")\n",
        "plt.plot(thresholds,recalls,\"red\")\n",
        "plt.plot(thresholds,specificities,\"blue\")\n",
        "plt.legend([\"Precision\",\"Sensitivity\",\"Specificity\"])\n",
        "plt.title(\"Precision - Sensitivity - Specificity vs Model\")\n",
        "plt.xlabel(\"Probability threshold. \")\n",
        "plt.show()"
      ],
      "execution_count": 129,
      "outputs": [
        {
          "output_type": "display_data",
          "data": {
            "image/png": "[encoded data removed]",
            "text/plain": [
              "<Figure size 720x288 with 1 Axes>"
            ]
          },
          "metadata": {
            "tags": [],
            "needs_background": "light"
          }
        }
      ]
    },
    {
      "cell_type": "markdown",
      "metadata": {
        "id": "1x2BFaUGlgUp",
        "colab_type": "text"
      },
      "source": [
        "\n",
        "\n",
        "## Distribuciones desequilibradas"
      ]
    },
    {
      "cell_type": "code",
      "metadata": {
        "id": "jgGvYvOulgUu",
        "colab_type": "code",
        "colab": {}
      },
      "source": [
        "total_p = 100\n",
        "total_n = 1000\n",
        "px = [np.random.normal(10,3) for _ in range(total_p)]\n",
        "nx = [np.random.normal(20,3) for _ in range(total_n)]\n",
        "x = np.concatenate([px,nx])\n",
        "classes = np.concatenate([[\"p\"]*total_p,[\"n\"]*total_n])"
      ],
      "execution_count": 0,
      "outputs": []
    },
    {
      "cell_type": "code",
      "metadata": {
        "id": "fx88gKDtlgUy",
        "colab_type": "code",
        "colab": {}
      },
      "source": [
        "lr = LogisticRegression()\n",
        "lr = lr.fit(x.reshape(-1,1),classes)\n",
        "\n",
        "predicted_classes_proba = lr.predict_proba(x.reshape(-1,1))\n",
        "\n",
        "n_proba, p_proba = zip(*predicted_classes_proba)"
      ],
      "execution_count": 0,
      "outputs": []
    },
    {
      "cell_type": "code",
      "metadata": {
        "id": "eoae0ASBlgU8",
        "colab_type": "code",
        "colab": {}
      },
      "source": [
        "thresholds = np.arange(0,1000,10)[::-1]/1000\n",
        "predictions = [np.array(list(map(lambda x: \"p\" if x else \"n\", p_proba > t_ ))) for t_ in thresholds ]\n",
        "\n",
        "accuracies = [accuracy(classes=classes, predicted=pred_, positive_class=\"p\") \n",
        "                for pred_ in predictions]\n",
        "recalls = [recall(classes=classes, predicted=pred_, positive_class=\"p\") \n",
        "                for pred_ in predictions]\n",
        "specificities = [specificity(classes=classes, predicted=pred_, positive_class=\"p\") \n",
        "                for pred_ in predictions]"
      ],
      "execution_count": 0,
      "outputs": []
    },
    {
      "cell_type": "code",
      "metadata": {
        "id": "6dYMl-LOlgVA",
        "colab_type": "code",
        "outputId": "a58388d8-e318-4145-ce3a-00295c636d59",
        "colab": {
          "base_uri": "https://localhost:8080/",
          "height": 281
        }
      },
      "source": [
        "plt.figure(figsize=[10,4])\n",
        "plt.xlim([-.1,1.1])\n",
        "plt.ylim([0,1.1])\n",
        "plt.plot(thresholds,accuracies,\"k\")\n",
        "plt.plot(thresholds,recalls,\"red\")\n",
        "plt.plot(thresholds,specificities,\"blue\")\n",
        "plt.legend([\"Precision\",\"Sensitivity\",\"Specificity\"])\n",
        "plt.title(\"Precision - Sensitivity - Specificity vs Model\")\n",
        "plt.show()"
      ],
      "execution_count": 133,
      "outputs": [
        {
          "output_type": "display_data",
          "data": {
            "image/png": "[encoded data removed]",
            "text/plain": [
              "<Figure size 720x288 with 1 Axes>"
            ]
          },
          "metadata": {
            "tags": [],
            "needs_background": "light"
          }
        }
      ]
    },
    {
      "cell_type": "code",
      "metadata": {
        "id": "smyvspA4lgVE",
        "colab_type": "code",
        "outputId": "e411efd0-c81d-427c-cd42-ad562277045d",
        "colab": {
          "base_uri": "https://localhost:8080/",
          "height": 265
        }
      },
      "source": [
        "plt.scatter(x, p_proba)\n",
        "plt.hlines(thresholds, 0, 30, alpha=0.1)\n",
        "plt.show()"
      ],
      "execution_count": 139,
      "outputs": [
        {
          "output_type": "display_data",
          "data": {
            "image/png": "[encoded data removed]",
            "text/plain": [
              "<Figure size 432x288 with 1 Axes>"
            ]
          },
          "metadata": {
            "tags": [],
            "needs_background": "light"
          }
        }
      ]
    },
    {
      "cell_type": "markdown",
      "metadata": {
        "id": "fO95qdJGlgVI",
        "colab_type": "text"
      },
      "source": [
        "\n",
        "\n",
        "## Distribuciones muy pegadas"
      ]
    },
    {
      "cell_type": "code",
      "metadata": {
        "id": "kiBD5pt5lgVJ",
        "colab_type": "code",
        "colab": {}
      },
      "source": [
        "total_p = 1000\n",
        "total_n = 1000\n",
        "px = [np.random.normal(13,3) for _ in range(total_p)]\n",
        "nx = [np.random.normal(17,3) for _ in range(total_n)]\n",
        "x = np.concatenate([px,nx])\n",
        "classes = np.concatenate([[\"p\"]*total_p,[\"n\"]*total_n])"
      ],
      "execution_count": 0,
      "outputs": []
    },
    {
      "cell_type": "code",
      "metadata": {
        "id": "95U1sejklgVU",
        "colab_type": "code",
        "colab": {}
      },
      "source": [
        "lr = LogisticRegression()\n",
        "lr = lr.fit(x.reshape(-1,1),classes)\n",
        "\n",
        "predicted_classes_proba = lr.predict_proba(x.reshape(-1,1))\n",
        "\n",
        "n_proba, p_proba = zip(*predicted_classes_proba)"
      ],
      "execution_count": 0,
      "outputs": []
    },
    {
      "cell_type": "code",
      "metadata": {
        "id": "QTzW881RlgVn",
        "colab_type": "code",
        "colab": {}
      },
      "source": [
        "thresholds = np.arange(0,1000,10)[::-1]/1000\n",
        "predictions = [np.array(list(map(lambda x: \"p\" if x else \"n\", p_proba > t_ ))) for t_ in thresholds ]\n",
        "\n",
        "accuracies = [accuracy(classes=classes, predicted=pred_, positive_class=\"p\") \n",
        "                for pred_ in predictions]\n",
        "recalls = [recall(classes=classes, predicted=pred_, positive_class=\"p\") \n",
        "                for pred_ in predictions]\n",
        "specificities = [specificity(classes=classes, predicted=pred_, positive_class=\"p\") \n",
        "                for pred_ in predictions]"
      ],
      "execution_count": 0,
      "outputs": []
    },
    {
      "cell_type": "code",
      "metadata": {
        "id": "1Rp8ebKPlgVs",
        "colab_type": "code",
        "outputId": "9898caf0-1594-460f-bab9-7dc82a7c5787",
        "colab": {
          "base_uri": "https://localhost:8080/",
          "height": 281
        }
      },
      "source": [
        "plt.figure(figsize=[10,4])\n",
        "plt.xlim([-.1,1.1])\n",
        "plt.ylim([0,1.1])\n",
        "plt.plot(thresholds,accuracies,\"k\")\n",
        "plt.plot(thresholds,recalls,\"red\")\n",
        "plt.plot(thresholds,specificities,\"blue\")\n",
        "plt.legend([\"Precision\",\"Sensitivity\",\"Specificity\"])\n",
        "plt.title(\"Precision - Sensitivity - Specificity vs Model\")\n",
        "plt.show()"
      ],
      "execution_count": 138,
      "outputs": [
        {
          "output_type": "display_data",
          "data": {
            "image/png": "[encoded data removed]",
            "text/plain": [
              "<Figure size 720x288 with 1 Axes>"
            ]
          },
          "metadata": {
            "tags": [],
            "needs_background": "light"
          }
        }
      ]
    }
  ]
}