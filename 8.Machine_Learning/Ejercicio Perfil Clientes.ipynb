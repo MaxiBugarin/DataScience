{
 "cells": [
  {
   "cell_type": "markdown",
   "id": "e25c904d-cf49-49af-8bfb-662c29c0f19e",
   "metadata": {},
   "source": [
    "# PERFILES DE CLIENTES"
   ]
  },
  {
   "cell_type": "markdown",
   "id": "493bde5b-fca8-4cc8-a391-bdb0eed14ab7",
   "metadata": {},
   "source": [
    "## Contenido - Atributos\n\n",
    "\n",
    "**People**\n",
    "ID: Customer's unique identifier\n",
    "Year_Birth: Customer's birth year\n",
    "Education: Customer's education level\n",
    "Marital_Status: Customer's marital status\n",
    "Income: Customer's yearly household income\n",
    "Kidhome: Number of children in customer's household\n",
    "Teenhome: Number of teenagers in customer's household\n",
    "Dt_Customer: Date of customer's enrollment with the company\n",
    "Recency: Number of days since customer's last purchase\n",
    "Complain: 1 if customer complained in the last 2 years, 0 otherwise\n",
    "\n",
    "**Products**\n",
    "MntWines: Amount spent on wine in last 2 years\n",
    "MntFruits: Amount spent on fruits in last 2 years\n",
    "MntMeatProducts: Amount spent on meat in last 2 years\n",
    "MntFishProducts: Amount spent on fish in last 2 years\n",
    "MntSweetProducts: Amount spent on sweets in last 2 years\n",
    "MntGoldProds: Amount spent on gold in last 2 years\n",
    "\n",
    "**Promotion**\n",
    "NumDealsPurchases: Number of purchases made with a discount\n",
    "AcceptedCmp1: 1 if customer accepted the offer in the 1st campaign, 0 otherwise\n",
    "AcceptedCmp2: 1 if customer accepted the offer in the 2nd campaign, 0 otherwise\n",
    "AcceptedCmp3: 1 if customer accepted the offer in the 3rd campaign, 0 otherwise\n",
    "AcceptedCmp4: 1 if customer accepted the offer in the 4th campaign, 0 otherwise\n",
    "AcceptedCmp5: 1 if customer accepted the offer in the 5th campaign, 0 otherwise\n",
    "Response: 1 if customer accepted the offer in the last campaign, 0 otherwise\n",
    "\n",
    "**Place**\n",
    "NumWebPurchases: Number of purchases made through the company’s web site\n",
    "NumCatalogPurchases: Number of purchases made using a catalogue\n",
    "NumStorePurchases: Number of purchases made directly in stores\n",
    "NumWebVisitsMonth: Number of visits to company’s web site in the last month"
   ]
  },
  {
   "cell_type": "markdown",
   "id": "b965e78d-27c2-4120-8c4a-607c06573d19",
   "metadata": {},
   "source": [
    "## Carga del archivo"
   ]
  },
  {
   "cell_type": "code",
   "execution_count": null,
   "id": "3ab1f81b-ddd4-472f-9a15-19c22072e3da",
   "metadata": {},
   "outputs": [],
   "source": []
  },
  {
   "cell_type": "markdown",
   "id": "26ba1854-b6b3-4fee-84c2-e4e39ff99fd0",
   "metadata": {},
   "source": [
    "## Análisis de los datos (variables, distribuciones, garficos, etc.)"
   ]
  },
  {
   "cell_type": "code",
   "execution_count": null,
   "id": "dfdff56e-4fb7-4a1c-8bcf-c9d4a855f962",
   "metadata": {},
   "outputs": [],
   "source": []
  },
  {
   "cell_type": "markdown",
   "id": "2527677e-805a-46db-b387-e6367e50b434",
   "metadata": {},
   "source": [
    "## Selección de variables (afinidad, correlación, eliminación)"
   ]
  },
  {
   "cell_type": "code",
   "execution_count": null,
   "id": "6715d8db-4c69-47b0-81be-caa65a800633",
   "metadata": {},
   "outputs": [],
   "source": []
  },
  {
   "cell_type": "markdown",
   "id": "c6a1d041-674a-490f-b19b-47356948e5a2",
   "metadata": {},
   "source": [
    "## Manipulación de variables (normalización, binarización, escala, etc.)"
   ]
  },
  {
   "cell_type": "code",
   "execution_count": null,
   "id": "a9e75c13-6662-4184-9e0e-72de8ea12631",
   "metadata": {},
   "outputs": [],
   "source": []
  },
  {
   "cell_type": "markdown",
   "id": "6314f343-5b3c-4412-ba04-3f67f4435638",
   "metadata": {},
   "source": [
    "## Generación del set de entrenamiento y validación"
   ]
  },
  {
   "cell_type": "code",
   "execution_count": null,
   "id": "15430905-0d9f-40de-aa5b-f413916bdbfa",
   "metadata": {},
   "outputs": [],
   "source": []
  },
  {
   "cell_type": "markdown",
   "id": "3f58fea1-34ff-4233-9991-898f0d64fc8d",
   "metadata": {},
   "source": [
    "## Generación y entrenamiento del Modelo"
   ]
  },
  {
   "cell_type": "code",
   "execution_count": null,
   "id": "5f84f4e3-2a68-4660-9880-fdca2f717b3d",
   "metadata": {},
   "outputs": [],
   "source": []
  },
  {
   "cell_type": "markdown",
   "id": "587b7422-927f-44cc-9fb1-48c003f67a57",
   "metadata": {},
   "source": [
    "## Validación del Modelo"
   ]
  },
  {
   "cell_type": "code",
   "execution_count": null,
   "id": "c1609eeb-4ff2-4a54-a137-1a2435a91f94",
   "metadata": {},
   "outputs": [],
   "source": []
  },
  {
   "cell_type": "markdown",
   "id": "1e2ccf00-e7f9-4f16-8f11-62307b9ba014",
   "metadata": {},
   "source": [
    "## Evaluación de métricas, conclusiones finales y reinicio de la solución al problema"
   ]
  },
  {
   "cell_type": "code",
   "execution_count": null,
   "id": "68ef0926-2ef8-4024-a92a-6fa4c64580c8",
   "metadata": {},
   "outputs": [],
   "source": []
  }
 ],
 "metadata": {
  "kernelspec": {
   "display_name": "Python 3",
   "language": "python",
   "name": "python3"
  },
  "language_info": {
   "codemirror_mode": {
    "name": "ipython",
    "version": 3
   },
   "file_extension": ".py",
   "mimetype": "text/x-python",
   "name": "python",
   "nbconvert_exporter": "python",
   "pygments_lexer": "ipython3",
   "version": "3.8.10"
  }
 },
 "nbformat": 4,
 "nbformat_minor": 5
 , "colab": {
      "name": "Ejercicio Perfil Clientes.ipynb",
      "provenance": [],
      "include_colab_link": true
    }
}
