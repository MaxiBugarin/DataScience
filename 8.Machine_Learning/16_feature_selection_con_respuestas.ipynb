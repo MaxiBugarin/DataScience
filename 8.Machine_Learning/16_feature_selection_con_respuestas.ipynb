{
  "nbformat": 4,
  "nbformat_minor": 0,
  "metadata": {
    "language_info": {
      "pygments_lexer": "ipython3",
      "file_extension": ".py",
      "codemirror_mode": {
        "version": 3,
        "name": "ipython"
      },
      "nbconvert_exporter": "python",
      "version": "3.7.1",
      "mimetype": "text/x-python",
      "name": "python"
    },
    "kernelspec": {
      "display_name": "Python 3",
      "language": "python",
      "name": "python3"
    },
    "colab": {
      "name": "16_feature_selection_con_respuestas.ipynb",
      "provenance": [],
      "include_colab_link": true
    }
  },
  "cells": [
    {
      "cell_type": "markdown",
      "metadata": {
        "id": "view-in-github",
        "colab_type": "text"
      },
      "source": [
        "<a href=\"https://colab.research.google.com/github/al34n1x/DataScience/blob/master/8.Machine_Learning/16_feature_selection_con_respuestas.ipynb\" target=\"_parent\"><img src=\"https://colab.research.google.com/assets/colab-badge.svg\" alt=\"Open In Colab\"/></a>"
      ]
    },
    {
      "cell_type": "markdown",
      "metadata": {
        "id": "dg36r-l6hJQO"
      },
      "source": [
        "\n",
        "\n",
        "# Selección de variables"
      ]
    },
    {
      "cell_type": "markdown",
      "metadata": {
        "id": "t0cyooaihJQP"
      },
      "source": [
        "\n",
        "\n",
        "## a. Filtrado de atributos\n",
        "\n",
        "\n",
        "Con el objetivo de reducir la dimensionalidad, otra técnica es la del filtrado de atributos. Los pasos a seguir son los siguientes.\n",
        "\n",
        "\n",
        "- Estudiar cada una de las características o atributos que contiene el conjunto de datos.\n",
        "- Localizar redundancia entre esos atributos.\n",
        "- Eliminar esas variables redundantes, de forma que sólo quede una variable que exprese una información.\n",
        "\n",
        "\n",
        "*Ejemplo*. Si dentro del set de datos, se tienen varias características que hacen referencia a las mismas medidas en centímetros y en pulgadas, se deben eliminar todas aquellas variables en pulgadas ya que no aportan ninguna información. Se mantienen las variables en centímetros."
      ]
    },
    {
      "cell_type": "markdown",
      "metadata": {
        "id": "_1bb18v6hJQP"
      },
      "source": [
        "\n",
        "\n",
        "## b. Eliminar variables con baja varianza\n",
        " \n",
        "Eliminar aquellas variables cuya varianza no llega a cierto umbral. Por defecto, eliminar todas las variables con varianza cero (donde todos los valores son iguales). Las variables con baja varianza obligan a hacer el modelo más complejo, y se pierde “tiempo” intentando ajustar variables que no aportan nada\n",
        "\n",
        "En Scikit-Learn la función `VarianceThreshold` permite eliminar aquellas variables cuya varianza no llega cierto umbral. Por defecto, elimina todas las variables con varianza cero, donde todos los valores son iguales, o cercana a cero.\n",
        "\n",
        "*Ejemplo*. Imagina que tenemos un dataset con variables categóricas y queremos eliminar aquellas con mas de un 80% de variables iguales. La varianza de variables booleanas es \"p(1-p)\" donde p es el porcentaje que queramos filtrar, luego `var = (0.8*(1-0.8))`"
      ]
    },
    {
      "cell_type": "code",
      "metadata": {
        "id": "pQgUFrKMhJQP",
        "colab": {
          "base_uri": "https://localhost:8080/",
          "height": 119
        },
        "outputId": "84a752a0-ff49-474d-cfe4-d4b839256694"
      },
      "source": [
        "from sklearn.feature_selection import VarianceThreshold\n",
        "X = [[0, 0, 3], [0, 2, 0], [1, 0, 0], [0, 2, 3], [0, 2, 0], [0, 2, 3]]\n",
        "\n",
        "sel = VarianceThreshold(threshold=(.8 * (1 - .8)))\n",
        "sel.fit_transform(X)"
      ],
      "execution_count": null,
      "outputs": [
        {
          "output_type": "execute_result",
          "data": {
            "text/plain": [
              "array([[0, 3],\n",
              "       [2, 0],\n",
              "       [0, 0],\n",
              "       [2, 3],\n",
              "       [2, 0],\n",
              "       [2, 3]])"
            ]
          },
          "metadata": {
            "tags": []
          },
          "execution_count": 2
        }
      ]
    },
    {
      "cell_type": "markdown",
      "metadata": {
        "id": "leL8oDf0hJQS"
      },
      "source": [
        "\n",
        "\n",
        "Ha eliminado la columna de los unos."
      ]
    },
    {
      "cell_type": "markdown",
      "metadata": {
        "id": "5HDGOpdGhJQS"
      },
      "source": [
        "\n",
        "\n",
        "---\n",
        "\n",
        "## c. Selección de variables en base a estadísticos\n",
        "\n",
        "Selecciona las mejores variables en base a calculos estadisticos.\n",
        "\n",
        "* `SelectKBest`: Se queda con las k mejores variables\n",
        "* `SelectPercentile`: Se queda con un porcentaje de las mejores variables\n",
        "\n",
        "Ejemplo de los estadisticos que usan son:\n",
        "\n",
        "* **Chi-cuadrado** entre variables (no puede haber variables negativas). Este estadistico mide dependencia entre variables, por lo que elimina aquellas que menos relación tienen con las demás (las más independientes), ya que son las que menos ayudan en la clasificación\n",
        "\n",
        "\n",
        "* **f_regression**: se realiza un modelo lineal entre cada variable y la variable objetivo y se mide la correlacion entre ellos (se devuelve como un p-value [Math: F-test comparando si varianzas son iguales]).\n",
        "\n"
      ]
    },
    {
      "cell_type": "code",
      "metadata": {
        "id": "bZG6zWM3hJQS"
      },
      "source": [
        "from sklearn.datasets import load_iris\n",
        "from sklearn.feature_selection import SelectKBest\n",
        "from sklearn.feature_selection import chi2"
      ],
      "execution_count": null,
      "outputs": []
    },
    {
      "cell_type": "code",
      "metadata": {
        "id": "ivkEM5tIhJQV",
        "colab": {
          "base_uri": "https://localhost:8080/",
          "height": 1000
        },
        "outputId": "59898245-45af-49c3-f30d-3cde9acbe5f0"
      },
      "source": [
        "iris = load_iris()\n",
        "features, label = iris.data, iris.target\n",
        "\n",
        "features_new = SelectKBest(chi2, k=3).fit_transform(features, label)\n",
        "\n",
        "features_new"
      ],
      "execution_count": null,
      "outputs": [
        {
          "output_type": "execute_result",
          "data": {
            "text/plain": [
              "array([[5.1, 1.4, 0.2],\n",
              "       [4.9, 1.4, 0.2],\n",
              "       [4.7, 1.3, 0.2],\n",
              "       [4.6, 1.5, 0.2],\n",
              "       [5. , 1.4, 0.2],\n",
              "       [5.4, 1.7, 0.4],\n",
              "       [4.6, 1.4, 0.3],\n",
              "       [5. , 1.5, 0.2],\n",
              "       [4.4, 1.4, 0.2],\n",
              "       [4.9, 1.5, 0.1],\n",
              "       [5.4, 1.5, 0.2],\n",
              "       [4.8, 1.6, 0.2],\n",
              "       [4.8, 1.4, 0.1],\n",
              "       [4.3, 1.1, 0.1],\n",
              "       [5.8, 1.2, 0.2],\n",
              "       [5.7, 1.5, 0.4],\n",
              "       [5.4, 1.3, 0.4],\n",
              "       [5.1, 1.4, 0.3],\n",
              "       [5.7, 1.7, 0.3],\n",
              "       [5.1, 1.5, 0.3],\n",
              "       [5.4, 1.7, 0.2],\n",
              "       [5.1, 1.5, 0.4],\n",
              "       [4.6, 1. , 0.2],\n",
              "       [5.1, 1.7, 0.5],\n",
              "       [4.8, 1.9, 0.2],\n",
              "       [5. , 1.6, 0.2],\n",
              "       [5. , 1.6, 0.4],\n",
              "       [5.2, 1.5, 0.2],\n",
              "       [5.2, 1.4, 0.2],\n",
              "       [4.7, 1.6, 0.2],\n",
              "       [4.8, 1.6, 0.2],\n",
              "       [5.4, 1.5, 0.4],\n",
              "       [5.2, 1.5, 0.1],\n",
              "       [5.5, 1.4, 0.2],\n",
              "       [4.9, 1.5, 0.2],\n",
              "       [5. , 1.2, 0.2],\n",
              "       [5.5, 1.3, 0.2],\n",
              "       [4.9, 1.4, 0.1],\n",
              "       [4.4, 1.3, 0.2],\n",
              "       [5.1, 1.5, 0.2],\n",
              "       [5. , 1.3, 0.3],\n",
              "       [4.5, 1.3, 0.3],\n",
              "       [4.4, 1.3, 0.2],\n",
              "       [5. , 1.6, 0.6],\n",
              "       [5.1, 1.9, 0.4],\n",
              "       [4.8, 1.4, 0.3],\n",
              "       [5.1, 1.6, 0.2],\n",
              "       [4.6, 1.4, 0.2],\n",
              "       [5.3, 1.5, 0.2],\n",
              "       [5. , 1.4, 0.2],\n",
              "       [7. , 4.7, 1.4],\n",
              "       [6.4, 4.5, 1.5],\n",
              "       [6.9, 4.9, 1.5],\n",
              "       [5.5, 4. , 1.3],\n",
              "       [6.5, 4.6, 1.5],\n",
              "       [5.7, 4.5, 1.3],\n",
              "       [6.3, 4.7, 1.6],\n",
              "       [4.9, 3.3, 1. ],\n",
              "       [6.6, 4.6, 1.3],\n",
              "       [5.2, 3.9, 1.4],\n",
              "       [5. , 3.5, 1. ],\n",
              "       [5.9, 4.2, 1.5],\n",
              "       [6. , 4. , 1. ],\n",
              "       [6.1, 4.7, 1.4],\n",
              "       [5.6, 3.6, 1.3],\n",
              "       [6.7, 4.4, 1.4],\n",
              "       [5.6, 4.5, 1.5],\n",
              "       [5.8, 4.1, 1. ],\n",
              "       [6.2, 4.5, 1.5],\n",
              "       [5.6, 3.9, 1.1],\n",
              "       [5.9, 4.8, 1.8],\n",
              "       [6.1, 4. , 1.3],\n",
              "       [6.3, 4.9, 1.5],\n",
              "       [6.1, 4.7, 1.2],\n",
              "       [6.4, 4.3, 1.3],\n",
              "       [6.6, 4.4, 1.4],\n",
              "       [6.8, 4.8, 1.4],\n",
              "       [6.7, 5. , 1.7],\n",
              "       [6. , 4.5, 1.5],\n",
              "       [5.7, 3.5, 1. ],\n",
              "       [5.5, 3.8, 1.1],\n",
              "       [5.5, 3.7, 1. ],\n",
              "       [5.8, 3.9, 1.2],\n",
              "       [6. , 5.1, 1.6],\n",
              "       [5.4, 4.5, 1.5],\n",
              "       [6. , 4.5, 1.6],\n",
              "       [6.7, 4.7, 1.5],\n",
              "       [6.3, 4.4, 1.3],\n",
              "       [5.6, 4.1, 1.3],\n",
              "       [5.5, 4. , 1.3],\n",
              "       [5.5, 4.4, 1.2],\n",
              "       [6.1, 4.6, 1.4],\n",
              "       [5.8, 4. , 1.2],\n",
              "       [5. , 3.3, 1. ],\n",
              "       [5.6, 4.2, 1.3],\n",
              "       [5.7, 4.2, 1.2],\n",
              "       [5.7, 4.2, 1.3],\n",
              "       [6.2, 4.3, 1.3],\n",
              "       [5.1, 3. , 1.1],\n",
              "       [5.7, 4.1, 1.3],\n",
              "       [6.3, 6. , 2.5],\n",
              "       [5.8, 5.1, 1.9],\n",
              "       [7.1, 5.9, 2.1],\n",
              "       [6.3, 5.6, 1.8],\n",
              "       [6.5, 5.8, 2.2],\n",
              "       [7.6, 6.6, 2.1],\n",
              "       [4.9, 4.5, 1.7],\n",
              "       [7.3, 6.3, 1.8],\n",
              "       [6.7, 5.8, 1.8],\n",
              "       [7.2, 6.1, 2.5],\n",
              "       [6.5, 5.1, 2. ],\n",
              "       [6.4, 5.3, 1.9],\n",
              "       [6.8, 5.5, 2.1],\n",
              "       [5.7, 5. , 2. ],\n",
              "       [5.8, 5.1, 2.4],\n",
              "       [6.4, 5.3, 2.3],\n",
              "       [6.5, 5.5, 1.8],\n",
              "       [7.7, 6.7, 2.2],\n",
              "       [7.7, 6.9, 2.3],\n",
              "       [6. , 5. , 1.5],\n",
              "       [6.9, 5.7, 2.3],\n",
              "       [5.6, 4.9, 2. ],\n",
              "       [7.7, 6.7, 2. ],\n",
              "       [6.3, 4.9, 1.8],\n",
              "       [6.7, 5.7, 2.1],\n",
              "       [7.2, 6. , 1.8],\n",
              "       [6.2, 4.8, 1.8],\n",
              "       [6.1, 4.9, 1.8],\n",
              "       [6.4, 5.6, 2.1],\n",
              "       [7.2, 5.8, 1.6],\n",
              "       [7.4, 6.1, 1.9],\n",
              "       [7.9, 6.4, 2. ],\n",
              "       [6.4, 5.6, 2.2],\n",
              "       [6.3, 5.1, 1.5],\n",
              "       [6.1, 5.6, 1.4],\n",
              "       [7.7, 6.1, 2.3],\n",
              "       [6.3, 5.6, 2.4],\n",
              "       [6.4, 5.5, 1.8],\n",
              "       [6. , 4.8, 1.8],\n",
              "       [6.9, 5.4, 2.1],\n",
              "       [6.7, 5.6, 2.4],\n",
              "       [6.9, 5.1, 2.3],\n",
              "       [5.8, 5.1, 1.9],\n",
              "       [6.8, 5.9, 2.3],\n",
              "       [6.7, 5.7, 2.5],\n",
              "       [6.7, 5.2, 2.3],\n",
              "       [6.3, 5. , 1.9],\n",
              "       [6.5, 5.2, 2. ],\n",
              "       [6.2, 5.4, 2.3],\n",
              "       [5.9, 5.1, 1.8]])"
            ]
          },
          "metadata": {
            "tags": []
          },
          "execution_count": 4
        }
      ]
    },
    {
      "cell_type": "markdown",
      "metadata": {
        "id": "BCopeeAThJQX"
      },
      "source": [
        "\n",
        "\n",
        "\n",
        "## d. Usar árboles para discriminar la importancia de las variables\n",
        "\n",
        "Los arboles de decisión, por su forma interna de generar las ramas, realizan una ponderación de las variables en base a su importancia. Esto se puede aprovechar para exrtaer esa información y filtrar las variables menos importantes."
      ]
    },
    {
      "cell_type": "code",
      "metadata": {
        "id": "m40cHTH4hJQY"
      },
      "source": [
        "from sklearn.ensemble import ExtraTreesClassifier\n",
        "from sklearn.datasets import load_iris\n",
        "from sklearn.feature_selection import SelectFromModel"
      ],
      "execution_count": null,
      "outputs": []
    },
    {
      "cell_type": "code",
      "metadata": {
        "id": "tXHe00NQhJQa",
        "colab": {
          "base_uri": "https://localhost:8080/",
          "height": 34
        },
        "outputId": "a83b9589-5d83-474a-c39f-d40e0834d0cd"
      },
      "source": [
        "iris = load_iris()\n",
        "features, label = iris.data, iris.target\n",
        "print (features.shape)"
      ],
      "execution_count": null,
      "outputs": [
        {
          "output_type": "stream",
          "text": [
            "(150, 4)\n"
          ],
          "name": "stdout"
        }
      ]
    },
    {
      "cell_type": "code",
      "metadata": {
        "id": "Tf281l2uhJQd"
      },
      "source": [
        "from sklearn.model_selection import train_test_split\n",
        "from sklearn.metrics import accuracy_score\n",
        "\n",
        "features_train, features_test, label_train, label_test=train_test_split(iris.data,iris.target,test_size=0.3)\n",
        "etc = ExtraTreesClassifier(n_estimators=20,max_depth=5)\n",
        "model = etc.fit(features_train,label_train)"
      ],
      "execution_count": null,
      "outputs": []
    },
    {
      "cell_type": "code",
      "metadata": {
        "id": "UiSKykPShJQf",
        "colab": {
          "base_uri": "https://localhost:8080/",
          "height": 173
        },
        "outputId": "c288a2f8-b0bb-4ab8-d67d-3b5b802acef8"
      },
      "source": [
        "import pandas as pd\n",
        "\n",
        "pd.DataFrame({'variable':iris.feature_names,\n",
        "              'importance':model.feature_importances_},\n",
        "             columns=['variable','importance'])"
      ],
      "execution_count": null,
      "outputs": [
        {
          "output_type": "execute_result",
          "data": {
            "text/html": [
              "<div>\n",
              "<style scoped>\n",
              "    .dataframe tbody tr th:only-of-type {\n",
              "        vertical-align: middle;\n",
              "    }\n",
              "\n",
              "    .dataframe tbody tr th {\n",
              "        vertical-align: top;\n",
              "    }\n",
              "\n",
              "    .dataframe thead th {\n",
              "        text-align: right;\n",
              "    }\n",
              "</style>\n",
              "<table border=\"1\" class=\"dataframe\">\n",
              "  <thead>\n",
              "    <tr style=\"text-align: right;\">\n",
              "      <th></th>\n",
              "      <th>variable</th>\n",
              "      <th>importance</th>\n",
              "    </tr>\n",
              "  </thead>\n",
              "  <tbody>\n",
              "    <tr>\n",
              "      <th>0</th>\n",
              "      <td>sepal length (cm)</td>\n",
              "      <td>0.098977</td>\n",
              "    </tr>\n",
              "    <tr>\n",
              "      <th>1</th>\n",
              "      <td>sepal width (cm)</td>\n",
              "      <td>0.052454</td>\n",
              "    </tr>\n",
              "    <tr>\n",
              "      <th>2</th>\n",
              "      <td>petal length (cm)</td>\n",
              "      <td>0.349324</td>\n",
              "    </tr>\n",
              "    <tr>\n",
              "      <th>3</th>\n",
              "      <td>petal width (cm)</td>\n",
              "      <td>0.499245</td>\n",
              "    </tr>\n",
              "  </tbody>\n",
              "</table>\n",
              "</div>"
            ],
            "text/plain": [
              "            variable  importance\n",
              "0  sepal length (cm)    0.098977\n",
              "1   sepal width (cm)    0.052454\n",
              "2  petal length (cm)    0.349324\n",
              "3   petal width (cm)    0.499245"
            ]
          },
          "metadata": {
            "tags": []
          },
          "execution_count": 8
        }
      ]
    },
    {
      "cell_type": "code",
      "metadata": {
        "id": "IvtbETqehJQh",
        "colab": {
          "base_uri": "https://localhost:8080/",
          "height": 34
        },
        "outputId": "abc14e6f-ed66-4d71-d86b-200bc9ef669e"
      },
      "source": [
        "prediction=model.predict(features_test)\n",
        "accuracy_score(prediction,label_test)"
      ],
      "execution_count": null,
      "outputs": [
        {
          "output_type": "execute_result",
          "data": {
            "text/plain": [
              "0.9777777777777777"
            ]
          },
          "metadata": {
            "tags": []
          },
          "execution_count": 9
        }
      ]
    },
    {
      "cell_type": "code",
      "metadata": {
        "id": "WJNGPtCdhJQj",
        "colab": {
          "base_uri": "https://localhost:8080/",
          "height": 1000
        },
        "outputId": "403ae88d-8b72-4898-ed17-9f20f3665fa9"
      },
      "source": [
        "help(SelectFromModel)"
      ],
      "execution_count": null,
      "outputs": [
        {
          "output_type": "stream",
          "text": [
            "Help on class SelectFromModel in module sklearn.feature_selection._from_model:\n",
            "\n",
            "class SelectFromModel(sklearn.base.MetaEstimatorMixin, sklearn.feature_selection._base.SelectorMixin, sklearn.base.BaseEstimator)\n",
            " |  Meta-transformer for selecting features based on importance weights.\n",
            " |  \n",
            " |  .. versionadded:: 0.17\n",
            " |  \n",
            " |  Parameters\n",
            " |  ----------\n",
            " |  estimator : object\n",
            " |      The base estimator from which the transformer is built.\n",
            " |      This can be both a fitted (if ``prefit`` is set to True)\n",
            " |      or a non-fitted estimator. The estimator must have either a\n",
            " |      ``feature_importances_`` or ``coef_`` attribute after fitting.\n",
            " |  \n",
            " |  threshold : string, float, optional default None\n",
            " |      The threshold value to use for feature selection. Features whose\n",
            " |      importance is greater or equal are kept while the others are\n",
            " |      discarded. If \"median\" (resp. \"mean\"), then the ``threshold`` value is\n",
            " |      the median (resp. the mean) of the feature importances. A scaling\n",
            " |      factor (e.g., \"1.25*mean\") may also be used. If None and if the\n",
            " |      estimator has a parameter penalty set to l1, either explicitly\n",
            " |      or implicitly (e.g, Lasso), the threshold used is 1e-5.\n",
            " |      Otherwise, \"mean\" is used by default.\n",
            " |  \n",
            " |  prefit : bool, default False\n",
            " |      Whether a prefit model is expected to be passed into the constructor\n",
            " |      directly or not. If True, ``transform`` must be called directly\n",
            " |      and SelectFromModel cannot be used with ``cross_val_score``,\n",
            " |      ``GridSearchCV`` and similar utilities that clone the estimator.\n",
            " |      Otherwise train the model using ``fit`` and then ``transform`` to do\n",
            " |      feature selection.\n",
            " |  \n",
            " |  norm_order : non-zero int, inf, -inf, default 1\n",
            " |      Order of the norm used to filter the vectors of coefficients below\n",
            " |      ``threshold`` in the case where the ``coef_`` attribute of the\n",
            " |      estimator is of dimension 2.\n",
            " |  \n",
            " |  max_features : int or None, optional\n",
            " |      The maximum number of features selected scoring above ``threshold``.\n",
            " |      To disable ``threshold`` and only select based on ``max_features``,\n",
            " |      set ``threshold=-np.inf``.\n",
            " |  \n",
            " |      .. versionadded:: 0.20\n",
            " |  \n",
            " |  Attributes\n",
            " |  ----------\n",
            " |  estimator_ : an estimator\n",
            " |      The base estimator from which the transformer is built.\n",
            " |      This is stored only when a non-fitted estimator is passed to the\n",
            " |      ``SelectFromModel``, i.e when prefit is False.\n",
            " |  \n",
            " |  threshold_ : float\n",
            " |      The threshold value used for feature selection.\n",
            " |  \n",
            " |  Notes\n",
            " |  -----\n",
            " |  Allows NaN/Inf in the input if the underlying estimator does as well.\n",
            " |  \n",
            " |  Examples\n",
            " |  --------\n",
            " |  >>> from sklearn.feature_selection import SelectFromModel\n",
            " |  >>> from sklearn.linear_model import LogisticRegression\n",
            " |  >>> X = [[ 0.87, -1.34,  0.31 ],\n",
            " |  ...      [-2.79, -0.02, -0.85 ],\n",
            " |  ...      [-1.34, -0.48, -2.55 ],\n",
            " |  ...      [ 1.92,  1.48,  0.65 ]]\n",
            " |  >>> y = [0, 1, 0, 1]\n",
            " |  >>> selector = SelectFromModel(estimator=LogisticRegression()).fit(X, y)\n",
            " |  >>> selector.estimator_.coef_\n",
            " |  array([[-0.3252302 ,  0.83462377,  0.49750423]])\n",
            " |  >>> selector.threshold_\n",
            " |  0.55245...\n",
            " |  >>> selector.get_support()\n",
            " |  array([False,  True, False])\n",
            " |  >>> selector.transform(X)\n",
            " |  array([[-1.34],\n",
            " |         [-0.02],\n",
            " |         [-0.48],\n",
            " |         [ 1.48]])\n",
            " |  \n",
            " |  Method resolution order:\n",
            " |      SelectFromModel\n",
            " |      sklearn.base.MetaEstimatorMixin\n",
            " |      sklearn.feature_selection._base.SelectorMixin\n",
            " |      sklearn.base.TransformerMixin\n",
            " |      sklearn.base.BaseEstimator\n",
            " |      builtins.object\n",
            " |  \n",
            " |  Methods defined here:\n",
            " |  \n",
            " |  __init__(self, estimator, threshold=None, prefit=False, norm_order=1, max_features=None)\n",
            " |      Initialize self.  See help(type(self)) for accurate signature.\n",
            " |  \n",
            " |  fit(self, X, y=None, **fit_params)\n",
            " |      Fit the SelectFromModel meta-transformer.\n",
            " |      \n",
            " |      Parameters\n",
            " |      ----------\n",
            " |      X : array-like of shape (n_samples, n_features)\n",
            " |          The training input samples.\n",
            " |      \n",
            " |      y : array-like, shape (n_samples,)\n",
            " |          The target values (integers that correspond to classes in\n",
            " |          classification, real numbers in regression).\n",
            " |      \n",
            " |      **fit_params : Other estimator specific parameters\n",
            " |      \n",
            " |      Returns\n",
            " |      -------\n",
            " |      self : object\n",
            " |  \n",
            " |  partial_fit(self, X, y=None, **fit_params)\n",
            " |      Fit the SelectFromModel meta-transformer only once.\n",
            " |      \n",
            " |      Parameters\n",
            " |      ----------\n",
            " |      X : array-like of shape (n_samples, n_features)\n",
            " |          The training input samples.\n",
            " |      \n",
            " |      y : array-like, shape (n_samples,)\n",
            " |          The target values (integers that correspond to classes in\n",
            " |          classification, real numbers in regression).\n",
            " |      \n",
            " |      **fit_params : Other estimator specific parameters\n",
            " |      \n",
            " |      Returns\n",
            " |      -------\n",
            " |      self : object\n",
            " |  \n",
            " |  ----------------------------------------------------------------------\n",
            " |  Data descriptors defined here:\n",
            " |  \n",
            " |  threshold_\n",
            " |  \n",
            " |  ----------------------------------------------------------------------\n",
            " |  Data and other attributes defined here:\n",
            " |  \n",
            " |  __abstractmethods__ = frozenset()\n",
            " |  \n",
            " |  ----------------------------------------------------------------------\n",
            " |  Data descriptors inherited from sklearn.base.MetaEstimatorMixin:\n",
            " |  \n",
            " |  __dict__\n",
            " |      dictionary for instance variables (if defined)\n",
            " |  \n",
            " |  __weakref__\n",
            " |      list of weak references to the object (if defined)\n",
            " |  \n",
            " |  ----------------------------------------------------------------------\n",
            " |  Methods inherited from sklearn.feature_selection._base.SelectorMixin:\n",
            " |  \n",
            " |  get_support(self, indices=False)\n",
            " |      Get a mask, or integer index, of the features selected\n",
            " |      \n",
            " |      Parameters\n",
            " |      ----------\n",
            " |      indices : boolean (default False)\n",
            " |          If True, the return value will be an array of integers, rather\n",
            " |          than a boolean mask.\n",
            " |      \n",
            " |      Returns\n",
            " |      -------\n",
            " |      support : array\n",
            " |          An index that selects the retained features from a feature vector.\n",
            " |          If `indices` is False, this is a boolean array of shape\n",
            " |          [# input features], in which an element is True iff its\n",
            " |          corresponding feature is selected for retention. If `indices` is\n",
            " |          True, this is an integer array of shape [# output features] whose\n",
            " |          values are indices into the input feature vector.\n",
            " |  \n",
            " |  inverse_transform(self, X)\n",
            " |      Reverse the transformation operation\n",
            " |      \n",
            " |      Parameters\n",
            " |      ----------\n",
            " |      X : array of shape [n_samples, n_selected_features]\n",
            " |          The input samples.\n",
            " |      \n",
            " |      Returns\n",
            " |      -------\n",
            " |      X_r : array of shape [n_samples, n_original_features]\n",
            " |          `X` with columns of zeros inserted where features would have\n",
            " |          been removed by :meth:`transform`.\n",
            " |  \n",
            " |  transform(self, X)\n",
            " |      Reduce X to the selected features.\n",
            " |      \n",
            " |      Parameters\n",
            " |      ----------\n",
            " |      X : array of shape [n_samples, n_features]\n",
            " |          The input samples.\n",
            " |      \n",
            " |      Returns\n",
            " |      -------\n",
            " |      X_r : array of shape [n_samples, n_selected_features]\n",
            " |          The input samples with only the selected features.\n",
            " |  \n",
            " |  ----------------------------------------------------------------------\n",
            " |  Methods inherited from sklearn.base.TransformerMixin:\n",
            " |  \n",
            " |  fit_transform(self, X, y=None, **fit_params)\n",
            " |      Fit to data, then transform it.\n",
            " |      \n",
            " |      Fits transformer to X and y with optional parameters fit_params\n",
            " |      and returns a transformed version of X.\n",
            " |      \n",
            " |      Parameters\n",
            " |      ----------\n",
            " |      X : numpy array of shape [n_samples, n_features]\n",
            " |          Training set.\n",
            " |      \n",
            " |      y : numpy array of shape [n_samples]\n",
            " |          Target values.\n",
            " |      \n",
            " |      **fit_params : dict\n",
            " |          Additional fit parameters.\n",
            " |      \n",
            " |      Returns\n",
            " |      -------\n",
            " |      X_new : numpy array of shape [n_samples, n_features_new]\n",
            " |          Transformed array.\n",
            " |  \n",
            " |  ----------------------------------------------------------------------\n",
            " |  Methods inherited from sklearn.base.BaseEstimator:\n",
            " |  \n",
            " |  __getstate__(self)\n",
            " |  \n",
            " |  __repr__(self, N_CHAR_MAX=700)\n",
            " |      Return repr(self).\n",
            " |  \n",
            " |  __setstate__(self, state)\n",
            " |  \n",
            " |  get_params(self, deep=True)\n",
            " |      Get parameters for this estimator.\n",
            " |      \n",
            " |      Parameters\n",
            " |      ----------\n",
            " |      deep : bool, default=True\n",
            " |          If True, will return the parameters for this estimator and\n",
            " |          contained subobjects that are estimators.\n",
            " |      \n",
            " |      Returns\n",
            " |      -------\n",
            " |      params : mapping of string to any\n",
            " |          Parameter names mapped to their values.\n",
            " |  \n",
            " |  set_params(self, **params)\n",
            " |      Set the parameters of this estimator.\n",
            " |      \n",
            " |      The method works on simple estimators as well as on nested objects\n",
            " |      (such as pipelines). The latter have parameters of the form\n",
            " |      ``<component>__<parameter>`` so that it's possible to update each\n",
            " |      component of a nested object.\n",
            " |      \n",
            " |      Parameters\n",
            " |      ----------\n",
            " |      **params : dict\n",
            " |          Estimator parameters.\n",
            " |      \n",
            " |      Returns\n",
            " |      -------\n",
            " |      self : object\n",
            " |          Estimator instance.\n",
            "\n"
          ],
          "name": "stdout"
        }
      ]
    },
    {
      "cell_type": "markdown",
      "metadata": {
        "id": "J-zb1FUShJQl"
      },
      "source": [
        "\n",
        "\n",
        "Al establecer el valor umbral en 0.2 nos estaríamos quedando con las variables petal length y petal width"
      ]
    },
    {
      "cell_type": "code",
      "metadata": {
        "id": "4WU9lkxIhJQl"
      },
      "source": [
        "selection = SelectFromModel(etc, prefit = False,threshold=0.2) # filters the variables according to a threshold"
      ],
      "execution_count": null,
      "outputs": []
    },
    {
      "cell_type": "code",
      "metadata": {
        "id": "QHgeh8xShJQo"
      },
      "source": [
        "selection.fit(features_train,label_train)\n",
        "features_train_new = selection.transform(features_train)"
      ],
      "execution_count": null,
      "outputs": []
    },
    {
      "cell_type": "markdown",
      "metadata": {
        "id": "Vz0KCdwphJQt"
      },
      "source": [
        "\n",
        "\n",
        "Hay que hacer también la selección de variables para el conjunto de test"
      ]
    },
    {
      "cell_type": "code",
      "metadata": {
        "id": "assfBuwyhJQt"
      },
      "source": [
        "features_test_new = selection.transform(features_test)"
      ],
      "execution_count": null,
      "outputs": []
    },
    {
      "cell_type": "markdown",
      "metadata": {
        "id": "D8jJ0f1bhJQv"
      },
      "source": [
        "\n",
        "\n",
        "Comprobamos que efectivamente selecciona únicamente dos variables"
      ]
    },
    {
      "cell_type": "code",
      "metadata": {
        "id": "EPdXNQT4hJQw",
        "colab": {
          "base_uri": "https://localhost:8080/",
          "height": 34
        },
        "outputId": "89bb1828-72bd-4331-fbde-5024ec340e42"
      },
      "source": [
        "features_train_new.shape"
      ],
      "execution_count": null,
      "outputs": [
        {
          "output_type": "execute_result",
          "data": {
            "text/plain": [
              "(105, 2)"
            ]
          },
          "metadata": {
            "tags": []
          },
          "execution_count": 14
        }
      ]
    },
    {
      "cell_type": "code",
      "metadata": {
        "id": "cH6Z_sUwhJQy",
        "colab": {
          "base_uri": "https://localhost:8080/",
          "height": 34
        },
        "outputId": "44c02621-48c5-4d0a-ee44-0f27e345a3b5"
      },
      "source": [
        "model = etc.fit(features_train_new,label_train)\n",
        "prediction=model.predict(features_test_new)\n",
        "accuracy_score(prediction,label_test)"
      ],
      "execution_count": null,
      "outputs": [
        {
          "output_type": "execute_result",
          "data": {
            "text/plain": [
              "0.9777777777777777"
            ]
          },
          "metadata": {
            "tags": []
          },
          "execution_count": 15
        }
      ]
    },
    {
      "cell_type": "code",
      "metadata": {
        "id": "YyxMn-v_hJQ1",
        "colab": {
          "base_uri": "https://localhost:8080/",
          "height": 34
        },
        "outputId": "e6b4d6c5-344c-438c-f445-6398f695da58"
      },
      "source": [
        "model.feature_importances_"
      ],
      "execution_count": null,
      "outputs": [
        {
          "output_type": "execute_result",
          "data": {
            "text/plain": [
              "array([0.46969738, 0.53030262])"
            ]
          },
          "metadata": {
            "tags": []
          },
          "execution_count": 16
        }
      ]
    },
    {
      "cell_type": "markdown",
      "metadata": {
        "id": "liDynlAKhJQ3"
      },
      "source": [
        "\n",
        "\n",
        "## f. Selección hacia atrás"
      ]
    },
    {
      "cell_type": "markdown",
      "metadata": {
        "id": "wwDmAIBKhJQ3"
      },
      "source": [
        "\n",
        "\n",
        "`sklearn` incorpora una implementación de la selección hacia atrás llamada *Recursive Feature Elimination*. Utilizando el algoritmo de aprendizaje que queramos (el estimador), él se encarga de ir eliminando variables."
      ]
    },
    {
      "cell_type": "code",
      "metadata": {
        "id": "CuZBOMDFhJQ4"
      },
      "source": [
        "from sklearn.datasets import load_breast_cancer\n",
        "from sklearn.ensemble import RandomForestClassifier\n",
        "from sklearn.feature_selection import RFECV\n",
        "from sklearn.model_selection import StratifiedKFold\n"
      ],
      "execution_count": null,
      "outputs": []
    },
    {
      "cell_type": "markdown",
      "metadata": {
        "id": "Nw8lo8LChJQ6"
      },
      "source": [
        "\n",
        "\n",
        "Para ello vamos a usar el conjunto de datos de ejemplo `breast_cancer`"
      ]
    },
    {
      "cell_type": "code",
      "metadata": {
        "id": "wh_9ZvDyhJQ6"
      },
      "source": [
        "cancer = load_breast_cancer()"
      ],
      "execution_count": null,
      "outputs": []
    },
    {
      "cell_type": "markdown",
      "metadata": {
        "id": "R7Gi4krOhJQ8"
      },
      "source": [
        "\n",
        "\n",
        "El estimador que vamos a usar es un random forest, al que le definiriemos el número de árboles y la profundidad de forma manual"
      ]
    },
    {
      "cell_type": "code",
      "metadata": {
        "id": "AFP0gS7ZhJQ8"
      },
      "source": [
        "rf = RandomForestClassifier(n_estimators=100,max_depth=10)"
      ],
      "execution_count": null,
      "outputs": []
    },
    {
      "cell_type": "markdown",
      "metadata": {
        "id": "mvKPN6KlhJQ-"
      },
      "source": [
        "\n",
        "\n",
        "RFECV es un método que nos permite hacer la selección hacia atrás usando una validación cruzada y además, que es lo más importante, nos permite definir la métrica y obtener la puntuación para cada subset de variables."
      ]
    },
    {
      "cell_type": "code",
      "metadata": {
        "id": "e5zdMKBfhJQ_"
      },
      "source": [
        "rfecv=RFECV(estimator=rf, step=1, cv=StratifiedKFold(5),\n",
        "              scoring='roc_auc',verbose=1)"
      ],
      "execution_count": null,
      "outputs": []
    },
    {
      "cell_type": "code",
      "metadata": {
        "id": "vzTzvFLchJRA",
        "colab": {
          "base_uri": "https://localhost:8080/",
          "height": 1000
        },
        "outputId": "b68b90e2-ba01-47b1-8700-d70d66ba8a5d"
      },
      "source": [
        "rfecv.fit(cancer.data,cancer.target)"
      ],
      "execution_count": null,
      "outputs": [
        {
          "output_type": "stream",
          "text": [
            "Fitting estimator with 30 features.\n",
            "Fitting estimator with 29 features.\n",
            "Fitting estimator with 28 features.\n",
            "Fitting estimator with 27 features.\n",
            "Fitting estimator with 26 features.\n",
            "Fitting estimator with 25 features.\n",
            "Fitting estimator with 24 features.\n",
            "Fitting estimator with 23 features.\n",
            "Fitting estimator with 22 features.\n",
            "Fitting estimator with 21 features.\n",
            "Fitting estimator with 20 features.\n",
            "Fitting estimator with 19 features.\n",
            "Fitting estimator with 18 features.\n",
            "Fitting estimator with 17 features.\n",
            "Fitting estimator with 16 features.\n",
            "Fitting estimator with 15 features.\n",
            "Fitting estimator with 14 features.\n",
            "Fitting estimator with 13 features.\n",
            "Fitting estimator with 12 features.\n",
            "Fitting estimator with 11 features.\n",
            "Fitting estimator with 10 features.\n",
            "Fitting estimator with 9 features.\n",
            "Fitting estimator with 8 features.\n",
            "Fitting estimator with 7 features.\n",
            "Fitting estimator with 6 features.\n",
            "Fitting estimator with 5 features.\n",
            "Fitting estimator with 4 features.\n",
            "Fitting estimator with 3 features.\n",
            "Fitting estimator with 2 features.\n",
            "Fitting estimator with 30 features.\n",
            "Fitting estimator with 29 features.\n",
            "Fitting estimator with 28 features.\n",
            "Fitting estimator with 27 features.\n",
            "Fitting estimator with 26 features.\n",
            "Fitting estimator with 25 features.\n",
            "Fitting estimator with 24 features.\n",
            "Fitting estimator with 23 features.\n",
            "Fitting estimator with 22 features.\n",
            "Fitting estimator with 21 features.\n",
            "Fitting estimator with 20 features.\n",
            "Fitting estimator with 19 features.\n",
            "Fitting estimator with 18 features.\n",
            "Fitting estimator with 17 features.\n",
            "Fitting estimator with 16 features.\n",
            "Fitting estimator with 15 features.\n",
            "Fitting estimator with 14 features.\n",
            "Fitting estimator with 13 features.\n",
            "Fitting estimator with 12 features.\n",
            "Fitting estimator with 11 features.\n",
            "Fitting estimator with 10 features.\n",
            "Fitting estimator with 9 features.\n",
            "Fitting estimator with 8 features.\n",
            "Fitting estimator with 7 features.\n",
            "Fitting estimator with 6 features.\n",
            "Fitting estimator with 5 features.\n",
            "Fitting estimator with 4 features.\n",
            "Fitting estimator with 3 features.\n",
            "Fitting estimator with 2 features.\n",
            "Fitting estimator with 30 features.\n",
            "Fitting estimator with 29 features.\n",
            "Fitting estimator with 28 features.\n",
            "Fitting estimator with 27 features.\n",
            "Fitting estimator with 26 features.\n",
            "Fitting estimator with 25 features.\n",
            "Fitting estimator with 24 features.\n",
            "Fitting estimator with 23 features.\n",
            "Fitting estimator with 22 features.\n",
            "Fitting estimator with 21 features.\n",
            "Fitting estimator with 20 features.\n",
            "Fitting estimator with 19 features.\n",
            "Fitting estimator with 18 features.\n",
            "Fitting estimator with 17 features.\n",
            "Fitting estimator with 16 features.\n",
            "Fitting estimator with 15 features.\n",
            "Fitting estimator with 14 features.\n",
            "Fitting estimator with 13 features.\n",
            "Fitting estimator with 12 features.\n",
            "Fitting estimator with 11 features.\n",
            "Fitting estimator with 10 features.\n",
            "Fitting estimator with 9 features.\n",
            "Fitting estimator with 8 features.\n",
            "Fitting estimator with 7 features.\n",
            "Fitting estimator with 6 features.\n",
            "Fitting estimator with 5 features.\n",
            "Fitting estimator with 4 features.\n",
            "Fitting estimator with 3 features.\n",
            "Fitting estimator with 2 features.\n",
            "Fitting estimator with 30 features.\n",
            "Fitting estimator with 29 features.\n",
            "Fitting estimator with 28 features.\n",
            "Fitting estimator with 27 features.\n",
            "Fitting estimator with 26 features.\n",
            "Fitting estimator with 25 features.\n",
            "Fitting estimator with 24 features.\n",
            "Fitting estimator with 23 features.\n",
            "Fitting estimator with 22 features.\n",
            "Fitting estimator with 21 features.\n",
            "Fitting estimator with 20 features.\n",
            "Fitting estimator with 19 features.\n",
            "Fitting estimator with 18 features.\n",
            "Fitting estimator with 17 features.\n",
            "Fitting estimator with 16 features.\n",
            "Fitting estimator with 15 features.\n",
            "Fitting estimator with 14 features.\n",
            "Fitting estimator with 13 features.\n",
            "Fitting estimator with 12 features.\n",
            "Fitting estimator with 11 features.\n",
            "Fitting estimator with 10 features.\n",
            "Fitting estimator with 9 features.\n",
            "Fitting estimator with 8 features.\n",
            "Fitting estimator with 7 features.\n",
            "Fitting estimator with 6 features.\n",
            "Fitting estimator with 5 features.\n",
            "Fitting estimator with 4 features.\n",
            "Fitting estimator with 3 features.\n",
            "Fitting estimator with 2 features.\n",
            "Fitting estimator with 30 features.\n",
            "Fitting estimator with 29 features.\n",
            "Fitting estimator with 28 features.\n",
            "Fitting estimator with 27 features.\n",
            "Fitting estimator with 26 features.\n",
            "Fitting estimator with 25 features.\n",
            "Fitting estimator with 24 features.\n",
            "Fitting estimator with 23 features.\n",
            "Fitting estimator with 22 features.\n",
            "Fitting estimator with 21 features.\n",
            "Fitting estimator with 20 features.\n",
            "Fitting estimator with 19 features.\n",
            "Fitting estimator with 18 features.\n",
            "Fitting estimator with 17 features.\n",
            "Fitting estimator with 16 features.\n",
            "Fitting estimator with 15 features.\n",
            "Fitting estimator with 14 features.\n",
            "Fitting estimator with 13 features.\n",
            "Fitting estimator with 12 features.\n",
            "Fitting estimator with 11 features.\n",
            "Fitting estimator with 10 features.\n",
            "Fitting estimator with 9 features.\n",
            "Fitting estimator with 8 features.\n",
            "Fitting estimator with 7 features.\n",
            "Fitting estimator with 6 features.\n",
            "Fitting estimator with 5 features.\n",
            "Fitting estimator with 4 features.\n",
            "Fitting estimator with 3 features.\n",
            "Fitting estimator with 2 features.\n",
            "Fitting estimator with 30 features.\n",
            "Fitting estimator with 29 features.\n"
          ],
          "name": "stdout"
        },
        {
          "output_type": "execute_result",
          "data": {
            "text/plain": [
              "RFECV(cv=StratifiedKFold(n_splits=5, random_state=None, shuffle=False),\n",
              "      estimator=RandomForestClassifier(bootstrap=True, ccp_alpha=0.0,\n",
              "                                       class_weight=None, criterion='gini',\n",
              "                                       max_depth=10, max_features='auto',\n",
              "                                       max_leaf_nodes=None, max_samples=None,\n",
              "                                       min_impurity_decrease=0.0,\n",
              "                                       min_impurity_split=None,\n",
              "                                       min_samples_leaf=1, min_samples_split=2,\n",
              "                                       min_weight_fraction_leaf=0.0,\n",
              "                                       n_estimators=100, n_jobs=None,\n",
              "                                       oob_score=False, random_state=None,\n",
              "                                       verbose=0, warm_start=False),\n",
              "      min_features_to_select=1, n_jobs=None, scoring='roc_auc', step=1,\n",
              "      verbose=1)"
            ]
          },
          "metadata": {
            "tags": []
          },
          "execution_count": 21
        }
      ]
    },
    {
      "cell_type": "code",
      "metadata": {
        "id": "sm265CvRhJRC",
        "colab": {
          "base_uri": "https://localhost:8080/",
          "height": 119
        },
        "outputId": "e5a810e2-b79e-4d1e-c290-2b2e638e90d7"
      },
      "source": [
        "rfecv.grid_scores_"
      ],
      "execution_count": null,
      "outputs": [
        {
          "output_type": "execute_result",
          "data": {
            "text/plain": [
              "array([0.95554417, 0.97480313, 0.97480119, 0.97679346, 0.97873191,\n",
              "       0.98146025, 0.98705925, 0.98747936, 0.98853622, 0.98751849,\n",
              "       0.98996538, 0.9908348 , 0.99108885, 0.99033645, 0.99119794,\n",
              "       0.98921143, 0.9883932 , 0.99047671, 0.99067445, 0.99064264,\n",
              "       0.9884573 , 0.99083793, 0.99030775, 0.99231066, 0.99090563,\n",
              "       0.98981911, 0.99043707, 0.99240767, 0.991236  , 0.98988618])"
            ]
          },
          "metadata": {
            "tags": []
          },
          "execution_count": 22
        }
      ]
    },
    {
      "cell_type": "code",
      "metadata": {
        "id": "V4PPnHHrhJRD",
        "colab": {
          "base_uri": "https://localhost:8080/",
          "height": 279
        },
        "outputId": "665a4e90-1143-4b5f-dedb-63aa6a900871"
      },
      "source": [
        "import matplotlib.pyplot as plt\n",
        "\n",
        "\n",
        "plt.figure()\n",
        "plt.xlabel(\"Number of selected variables\")\n",
        "plt.ylabel(\"AUC\")\n",
        "plt.plot(range(1, len(rfecv.grid_scores_) + 1), rfecv.grid_scores_)\n",
        "plt.show()"
      ],
      "execution_count": null,
      "outputs": [
        {
          "output_type": "display_data",
          "data": {
            "image/png": "[encoded data removed]",
            "text/plain": [
              "<Figure size 432x288 with 1 Axes>"
            ]
          },
          "metadata": {
            "tags": [],
            "needs_background": "light"
          }
        }
      ]
    },
    {
      "cell_type": "markdown",
      "metadata": {
        "id": "DyToDvrdhJRG"
      },
      "source": [
        "\n",
        "\n",
        "# Ejercicios"
      ]
    },
    {
      "cell_type": "markdown",
      "metadata": {
        "id": "HzaHSew7hJRI"
      },
      "source": [
        "\n",
        "\n",
        "## Ejercicio 1\n",
        "\n",
        "Coge el dataset que quieras y calcula la varianza de cada variable. ¿Quitarías alguna variable basándote en este principio?."
      ]
    },
    {
      "cell_type": "code",
      "metadata": {
        "id": "EEKPrIp4hJRI",
        "colab": {
          "base_uri": "https://localhost:8080/",
          "height": 1000
        },
        "outputId": "28362232-6266-4987-f65d-b11e2c2f3adf"
      },
      "source": [
        "# Respuesta\n",
        "\n",
        "#@title\n",
        "%matplotlib inline\n",
        "import matplotlib.pyplot as plt\n",
        "\n",
        "from sklearn import datasets\n",
        "x = datasets.load_iris().data\n",
        "\n",
        "sel = VarianceThreshold() # By default, it only eliminates those variables with variance 0.\n",
        "variance = sel.fit(x)\n",
        "\n",
        "print (variance.variances_)\n",
        "print (sel.transform(x))"
      ],
      "execution_count": null,
      "outputs": [
        {
          "output_type": "stream",
          "text": [
            "[0.68112222 0.18871289 3.09550267 0.57713289]\n",
            "[[5.1 3.5 1.4 0.2]\n",
            " [4.9 3.  1.4 0.2]\n",
            " [4.7 3.2 1.3 0.2]\n",
            " [4.6 3.1 1.5 0.2]\n",
            " [5.  3.6 1.4 0.2]\n",
            " [5.4 3.9 1.7 0.4]\n",
            " [4.6 3.4 1.4 0.3]\n",
            " [5.  3.4 1.5 0.2]\n",
            " [4.4 2.9 1.4 0.2]\n",
            " [4.9 3.1 1.5 0.1]\n",
            " [5.4 3.7 1.5 0.2]\n",
            " [4.8 3.4 1.6 0.2]\n",
            " [4.8 3.  1.4 0.1]\n",
            " [4.3 3.  1.1 0.1]\n",
            " [5.8 4.  1.2 0.2]\n",
            " [5.7 4.4 1.5 0.4]\n",
            " [5.4 3.9 1.3 0.4]\n",
            " [5.1 3.5 1.4 0.3]\n",
            " [5.7 3.8 1.7 0.3]\n",
            " [5.1 3.8 1.5 0.3]\n",
            " [5.4 3.4 1.7 0.2]\n",
            " [5.1 3.7 1.5 0.4]\n",
            " [4.6 3.6 1.  0.2]\n",
            " [5.1 3.3 1.7 0.5]\n",
            " [4.8 3.4 1.9 0.2]\n",
            " [5.  3.  1.6 0.2]\n",
            " [5.  3.4 1.6 0.4]\n",
            " [5.2 3.5 1.5 0.2]\n",
            " [5.2 3.4 1.4 0.2]\n",
            " [4.7 3.2 1.6 0.2]\n",
            " [4.8 3.1 1.6 0.2]\n",
            " [5.4 3.4 1.5 0.4]\n",
            " [5.2 4.1 1.5 0.1]\n",
            " [5.5 4.2 1.4 0.2]\n",
            " [4.9 3.1 1.5 0.2]\n",
            " [5.  3.2 1.2 0.2]\n",
            " [5.5 3.5 1.3 0.2]\n",
            " [4.9 3.6 1.4 0.1]\n",
            " [4.4 3.  1.3 0.2]\n",
            " [5.1 3.4 1.5 0.2]\n",
            " [5.  3.5 1.3 0.3]\n",
            " [4.5 2.3 1.3 0.3]\n",
            " [4.4 3.2 1.3 0.2]\n",
            " [5.  3.5 1.6 0.6]\n",
            " [5.1 3.8 1.9 0.4]\n",
            " [4.8 3.  1.4 0.3]\n",
            " [5.1 3.8 1.6 0.2]\n",
            " [4.6 3.2 1.4 0.2]\n",
            " [5.3 3.7 1.5 0.2]\n",
            " [5.  3.3 1.4 0.2]\n",
            " [7.  3.2 4.7 1.4]\n",
            " [6.4 3.2 4.5 1.5]\n",
            " [6.9 3.1 4.9 1.5]\n",
            " [5.5 2.3 4.  1.3]\n",
            " [6.5 2.8 4.6 1.5]\n",
            " [5.7 2.8 4.5 1.3]\n",
            " [6.3 3.3 4.7 1.6]\n",
            " [4.9 2.4 3.3 1. ]\n",
            " [6.6 2.9 4.6 1.3]\n",
            " [5.2 2.7 3.9 1.4]\n",
            " [5.  2.  3.5 1. ]\n",
            " [5.9 3.  4.2 1.5]\n",
            " [6.  2.2 4.  1. ]\n",
            " [6.1 2.9 4.7 1.4]\n",
            " [5.6 2.9 3.6 1.3]\n",
            " [6.7 3.1 4.4 1.4]\n",
            " [5.6 3.  4.5 1.5]\n",
            " [5.8 2.7 4.1 1. ]\n",
            " [6.2 2.2 4.5 1.5]\n",
            " [5.6 2.5 3.9 1.1]\n",
            " [5.9 3.2 4.8 1.8]\n",
            " [6.1 2.8 4.  1.3]\n",
            " [6.3 2.5 4.9 1.5]\n",
            " [6.1 2.8 4.7 1.2]\n",
            " [6.4 2.9 4.3 1.3]\n",
            " [6.6 3.  4.4 1.4]\n",
            " [6.8 2.8 4.8 1.4]\n",
            " [6.7 3.  5.  1.7]\n",
            " [6.  2.9 4.5 1.5]\n",
            " [5.7 2.6 3.5 1. ]\n",
            " [5.5 2.4 3.8 1.1]\n",
            " [5.5 2.4 3.7 1. ]\n",
            " [5.8 2.7 3.9 1.2]\n",
            " [6.  2.7 5.1 1.6]\n",
            " [5.4 3.  4.5 1.5]\n",
            " [6.  3.4 4.5 1.6]\n",
            " [6.7 3.1 4.7 1.5]\n",
            " [6.3 2.3 4.4 1.3]\n",
            " [5.6 3.  4.1 1.3]\n",
            " [5.5 2.5 4.  1.3]\n",
            " [5.5 2.6 4.4 1.2]\n",
            " [6.1 3.  4.6 1.4]\n",
            " [5.8 2.6 4.  1.2]\n",
            " [5.  2.3 3.3 1. ]\n",
            " [5.6 2.7 4.2 1.3]\n",
            " [5.7 3.  4.2 1.2]\n",
            " [5.7 2.9 4.2 1.3]\n",
            " [6.2 2.9 4.3 1.3]\n",
            " [5.1 2.5 3.  1.1]\n",
            " [5.7 2.8 4.1 1.3]\n",
            " [6.3 3.3 6.  2.5]\n",
            " [5.8 2.7 5.1 1.9]\n",
            " [7.1 3.  5.9 2.1]\n",
            " [6.3 2.9 5.6 1.8]\n",
            " [6.5 3.  5.8 2.2]\n",
            " [7.6 3.  6.6 2.1]\n",
            " [4.9 2.5 4.5 1.7]\n",
            " [7.3 2.9 6.3 1.8]\n",
            " [6.7 2.5 5.8 1.8]\n",
            " [7.2 3.6 6.1 2.5]\n",
            " [6.5 3.2 5.1 2. ]\n",
            " [6.4 2.7 5.3 1.9]\n",
            " [6.8 3.  5.5 2.1]\n",
            " [5.7 2.5 5.  2. ]\n",
            " [5.8 2.8 5.1 2.4]\n",
            " [6.4 3.2 5.3 2.3]\n",
            " [6.5 3.  5.5 1.8]\n",
            " [7.7 3.8 6.7 2.2]\n",
            " [7.7 2.6 6.9 2.3]\n",
            " [6.  2.2 5.  1.5]\n",
            " [6.9 3.2 5.7 2.3]\n",
            " [5.6 2.8 4.9 2. ]\n",
            " [7.7 2.8 6.7 2. ]\n",
            " [6.3 2.7 4.9 1.8]\n",
            " [6.7 3.3 5.7 2.1]\n",
            " [7.2 3.2 6.  1.8]\n",
            " [6.2 2.8 4.8 1.8]\n",
            " [6.1 3.  4.9 1.8]\n",
            " [6.4 2.8 5.6 2.1]\n",
            " [7.2 3.  5.8 1.6]\n",
            " [7.4 2.8 6.1 1.9]\n",
            " [7.9 3.8 6.4 2. ]\n",
            " [6.4 2.8 5.6 2.2]\n",
            " [6.3 2.8 5.1 1.5]\n",
            " [6.1 2.6 5.6 1.4]\n",
            " [7.7 3.  6.1 2.3]\n",
            " [6.3 3.4 5.6 2.4]\n",
            " [6.4 3.1 5.5 1.8]\n",
            " [6.  3.  4.8 1.8]\n",
            " [6.9 3.1 5.4 2.1]\n",
            " [6.7 3.1 5.6 2.4]\n",
            " [6.9 3.1 5.1 2.3]\n",
            " [5.8 2.7 5.1 1.9]\n",
            " [6.8 3.2 5.9 2.3]\n",
            " [6.7 3.3 5.7 2.5]\n",
            " [6.7 3.  5.2 2.3]\n",
            " [6.3 2.5 5.  1.9]\n",
            " [6.5 3.  5.2 2. ]\n",
            " [6.2 3.4 5.4 2.3]\n",
            " [5.9 3.  5.1 1.8]]\n"
          ],
          "name": "stdout"
        }
      ]
    },
    {
      "cell_type": "markdown",
      "metadata": {
        "id": "-3CjeBF3hJRK"
      },
      "source": [
        "\n",
        "\n",
        "## Ejercicio 2\n",
        "\n",
        "Coge el mismo dataset, calcula las varianzas y quedate con las tres mejores variables."
      ]
    },
    {
      "cell_type": "code",
      "metadata": {
        "id": "gIMcIxSihJRK",
        "colab": {
          "base_uri": "https://localhost:8080/",
          "height": 1000
        },
        "outputId": "91d5c959-8cbb-4248-892d-0fd23d0f5e45"
      },
      "source": [
        "# Respuesta\n",
        "\n",
        "%matplotlib inline\n",
        "import matplotlib.pyplot as plt\n",
        "\n",
        "from sklearn import datasets\n",
        "x = datasets.load_iris().data\n",
        "\n",
        "sel = VarianceThreshold(threshold = 0.2)\n",
        "\n",
        "variance = sel.fit_transform(x)\n",
        "\n",
        "\n",
        "variance"
      ],
      "execution_count": null,
      "outputs": [
        {
          "output_type": "execute_result",
          "data": {
            "text/plain": [
              "array([[5.1, 1.4, 0.2],\n",
              "       [4.9, 1.4, 0.2],\n",
              "       [4.7, 1.3, 0.2],\n",
              "       [4.6, 1.5, 0.2],\n",
              "       [5. , 1.4, 0.2],\n",
              "       [5.4, 1.7, 0.4],\n",
              "       [4.6, 1.4, 0.3],\n",
              "       [5. , 1.5, 0.2],\n",
              "       [4.4, 1.4, 0.2],\n",
              "       [4.9, 1.5, 0.1],\n",
              "       [5.4, 1.5, 0.2],\n",
              "       [4.8, 1.6, 0.2],\n",
              "       [4.8, 1.4, 0.1],\n",
              "       [4.3, 1.1, 0.1],\n",
              "       [5.8, 1.2, 0.2],\n",
              "       [5.7, 1.5, 0.4],\n",
              "       [5.4, 1.3, 0.4],\n",
              "       [5.1, 1.4, 0.3],\n",
              "       [5.7, 1.7, 0.3],\n",
              "       [5.1, 1.5, 0.3],\n",
              "       [5.4, 1.7, 0.2],\n",
              "       [5.1, 1.5, 0.4],\n",
              "       [4.6, 1. , 0.2],\n",
              "       [5.1, 1.7, 0.5],\n",
              "       [4.8, 1.9, 0.2],\n",
              "       [5. , 1.6, 0.2],\n",
              "       [5. , 1.6, 0.4],\n",
              "       [5.2, 1.5, 0.2],\n",
              "       [5.2, 1.4, 0.2],\n",
              "       [4.7, 1.6, 0.2],\n",
              "       [4.8, 1.6, 0.2],\n",
              "       [5.4, 1.5, 0.4],\n",
              "       [5.2, 1.5, 0.1],\n",
              "       [5.5, 1.4, 0.2],\n",
              "       [4.9, 1.5, 0.2],\n",
              "       [5. , 1.2, 0.2],\n",
              "       [5.5, 1.3, 0.2],\n",
              "       [4.9, 1.4, 0.1],\n",
              "       [4.4, 1.3, 0.2],\n",
              "       [5.1, 1.5, 0.2],\n",
              "       [5. , 1.3, 0.3],\n",
              "       [4.5, 1.3, 0.3],\n",
              "       [4.4, 1.3, 0.2],\n",
              "       [5. , 1.6, 0.6],\n",
              "       [5.1, 1.9, 0.4],\n",
              "       [4.8, 1.4, 0.3],\n",
              "       [5.1, 1.6, 0.2],\n",
              "       [4.6, 1.4, 0.2],\n",
              "       [5.3, 1.5, 0.2],\n",
              "       [5. , 1.4, 0.2],\n",
              "       [7. , 4.7, 1.4],\n",
              "       [6.4, 4.5, 1.5],\n",
              "       [6.9, 4.9, 1.5],\n",
              "       [5.5, 4. , 1.3],\n",
              "       [6.5, 4.6, 1.5],\n",
              "       [5.7, 4.5, 1.3],\n",
              "       [6.3, 4.7, 1.6],\n",
              "       [4.9, 3.3, 1. ],\n",
              "       [6.6, 4.6, 1.3],\n",
              "       [5.2, 3.9, 1.4],\n",
              "       [5. , 3.5, 1. ],\n",
              "       [5.9, 4.2, 1.5],\n",
              "       [6. , 4. , 1. ],\n",
              "       [6.1, 4.7, 1.4],\n",
              "       [5.6, 3.6, 1.3],\n",
              "       [6.7, 4.4, 1.4],\n",
              "       [5.6, 4.5, 1.5],\n",
              "       [5.8, 4.1, 1. ],\n",
              "       [6.2, 4.5, 1.5],\n",
              "       [5.6, 3.9, 1.1],\n",
              "       [5.9, 4.8, 1.8],\n",
              "       [6.1, 4. , 1.3],\n",
              "       [6.3, 4.9, 1.5],\n",
              "       [6.1, 4.7, 1.2],\n",
              "       [6.4, 4.3, 1.3],\n",
              "       [6.6, 4.4, 1.4],\n",
              "       [6.8, 4.8, 1.4],\n",
              "       [6.7, 5. , 1.7],\n",
              "       [6. , 4.5, 1.5],\n",
              "       [5.7, 3.5, 1. ],\n",
              "       [5.5, 3.8, 1.1],\n",
              "       [5.5, 3.7, 1. ],\n",
              "       [5.8, 3.9, 1.2],\n",
              "       [6. , 5.1, 1.6],\n",
              "       [5.4, 4.5, 1.5],\n",
              "       [6. , 4.5, 1.6],\n",
              "       [6.7, 4.7, 1.5],\n",
              "       [6.3, 4.4, 1.3],\n",
              "       [5.6, 4.1, 1.3],\n",
              "       [5.5, 4. , 1.3],\n",
              "       [5.5, 4.4, 1.2],\n",
              "       [6.1, 4.6, 1.4],\n",
              "       [5.8, 4. , 1.2],\n",
              "       [5. , 3.3, 1. ],\n",
              "       [5.6, 4.2, 1.3],\n",
              "       [5.7, 4.2, 1.2],\n",
              "       [5.7, 4.2, 1.3],\n",
              "       [6.2, 4.3, 1.3],\n",
              "       [5.1, 3. , 1.1],\n",
              "       [5.7, 4.1, 1.3],\n",
              "       [6.3, 6. , 2.5],\n",
              "       [5.8, 5.1, 1.9],\n",
              "       [7.1, 5.9, 2.1],\n",
              "       [6.3, 5.6, 1.8],\n",
              "       [6.5, 5.8, 2.2],\n",
              "       [7.6, 6.6, 2.1],\n",
              "       [4.9, 4.5, 1.7],\n",
              "       [7.3, 6.3, 1.8],\n",
              "       [6.7, 5.8, 1.8],\n",
              "       [7.2, 6.1, 2.5],\n",
              "       [6.5, 5.1, 2. ],\n",
              "       [6.4, 5.3, 1.9],\n",
              "       [6.8, 5.5, 2.1],\n",
              "       [5.7, 5. , 2. ],\n",
              "       [5.8, 5.1, 2.4],\n",
              "       [6.4, 5.3, 2.3],\n",
              "       [6.5, 5.5, 1.8],\n",
              "       [7.7, 6.7, 2.2],\n",
              "       [7.7, 6.9, 2.3],\n",
              "       [6. , 5. , 1.5],\n",
              "       [6.9, 5.7, 2.3],\n",
              "       [5.6, 4.9, 2. ],\n",
              "       [7.7, 6.7, 2. ],\n",
              "       [6.3, 4.9, 1.8],\n",
              "       [6.7, 5.7, 2.1],\n",
              "       [7.2, 6. , 1.8],\n",
              "       [6.2, 4.8, 1.8],\n",
              "       [6.1, 4.9, 1.8],\n",
              "       [6.4, 5.6, 2.1],\n",
              "       [7.2, 5.8, 1.6],\n",
              "       [7.4, 6.1, 1.9],\n",
              "       [7.9, 6.4, 2. ],\n",
              "       [6.4, 5.6, 2.2],\n",
              "       [6.3, 5.1, 1.5],\n",
              "       [6.1, 5.6, 1.4],\n",
              "       [7.7, 6.1, 2.3],\n",
              "       [6.3, 5.6, 2.4],\n",
              "       [6.4, 5.5, 1.8],\n",
              "       [6. , 4.8, 1.8],\n",
              "       [6.9, 5.4, 2.1],\n",
              "       [6.7, 5.6, 2.4],\n",
              "       [6.9, 5.1, 2.3],\n",
              "       [5.8, 5.1, 1.9],\n",
              "       [6.8, 5.9, 2.3],\n",
              "       [6.7, 5.7, 2.5],\n",
              "       [6.7, 5.2, 2.3],\n",
              "       [6.3, 5. , 1.9],\n",
              "       [6.5, 5.2, 2. ],\n",
              "       [6.2, 5.4, 2.3],\n",
              "       [5.9, 5.1, 1.8]])"
            ]
          },
          "metadata": {
            "tags": []
          },
          "execution_count": 25
        }
      ]
    },
    {
      "cell_type": "markdown",
      "metadata": {
        "id": "fL_J-VhrhJRM"
      },
      "source": [
        "\n",
        "\n",
        "## Ejercicio 3\n",
        "\n",
        "Coge el mismo dataset de antes, y quedate con las 3 mejores variables con este método. ¿Coinciden?.\n"
      ]
    },
    {
      "cell_type": "code",
      "metadata": {
        "id": "vsbGAzrBhJRM",
        "colab": {
          "base_uri": "https://localhost:8080/",
          "height": 1000
        },
        "outputId": "cd44727b-9807-495d-c1a8-35ca6366820c"
      },
      "source": [
        "# Respuesta\n",
        "\n",
        "from sklearn.datasets import load_iris\n",
        "from sklearn.feature_selection import SelectKBest\n",
        "from sklearn.feature_selection import chi2\n",
        "\n",
        "iris = load_iris()\n",
        "features, label = iris.data, iris.target\n",
        "\n",
        "features_new = SelectKBest(chi2, k=3).fit_transform(features, label)\n",
        "\n",
        "features_new"
      ],
      "execution_count": null,
      "outputs": [
        {
          "output_type": "execute_result",
          "data": {
            "text/plain": [
              "array([[5.1, 1.4, 0.2],\n",
              "       [4.9, 1.4, 0.2],\n",
              "       [4.7, 1.3, 0.2],\n",
              "       [4.6, 1.5, 0.2],\n",
              "       [5. , 1.4, 0.2],\n",
              "       [5.4, 1.7, 0.4],\n",
              "       [4.6, 1.4, 0.3],\n",
              "       [5. , 1.5, 0.2],\n",
              "       [4.4, 1.4, 0.2],\n",
              "       [4.9, 1.5, 0.1],\n",
              "       [5.4, 1.5, 0.2],\n",
              "       [4.8, 1.6, 0.2],\n",
              "       [4.8, 1.4, 0.1],\n",
              "       [4.3, 1.1, 0.1],\n",
              "       [5.8, 1.2, 0.2],\n",
              "       [5.7, 1.5, 0.4],\n",
              "       [5.4, 1.3, 0.4],\n",
              "       [5.1, 1.4, 0.3],\n",
              "       [5.7, 1.7, 0.3],\n",
              "       [5.1, 1.5, 0.3],\n",
              "       [5.4, 1.7, 0.2],\n",
              "       [5.1, 1.5, 0.4],\n",
              "       [4.6, 1. , 0.2],\n",
              "       [5.1, 1.7, 0.5],\n",
              "       [4.8, 1.9, 0.2],\n",
              "       [5. , 1.6, 0.2],\n",
              "       [5. , 1.6, 0.4],\n",
              "       [5.2, 1.5, 0.2],\n",
              "       [5.2, 1.4, 0.2],\n",
              "       [4.7, 1.6, 0.2],\n",
              "       [4.8, 1.6, 0.2],\n",
              "       [5.4, 1.5, 0.4],\n",
              "       [5.2, 1.5, 0.1],\n",
              "       [5.5, 1.4, 0.2],\n",
              "       [4.9, 1.5, 0.2],\n",
              "       [5. , 1.2, 0.2],\n",
              "       [5.5, 1.3, 0.2],\n",
              "       [4.9, 1.4, 0.1],\n",
              "       [4.4, 1.3, 0.2],\n",
              "       [5.1, 1.5, 0.2],\n",
              "       [5. , 1.3, 0.3],\n",
              "       [4.5, 1.3, 0.3],\n",
              "       [4.4, 1.3, 0.2],\n",
              "       [5. , 1.6, 0.6],\n",
              "       [5.1, 1.9, 0.4],\n",
              "       [4.8, 1.4, 0.3],\n",
              "       [5.1, 1.6, 0.2],\n",
              "       [4.6, 1.4, 0.2],\n",
              "       [5.3, 1.5, 0.2],\n",
              "       [5. , 1.4, 0.2],\n",
              "       [7. , 4.7, 1.4],\n",
              "       [6.4, 4.5, 1.5],\n",
              "       [6.9, 4.9, 1.5],\n",
              "       [5.5, 4. , 1.3],\n",
              "       [6.5, 4.6, 1.5],\n",
              "       [5.7, 4.5, 1.3],\n",
              "       [6.3, 4.7, 1.6],\n",
              "       [4.9, 3.3, 1. ],\n",
              "       [6.6, 4.6, 1.3],\n",
              "       [5.2, 3.9, 1.4],\n",
              "       [5. , 3.5, 1. ],\n",
              "       [5.9, 4.2, 1.5],\n",
              "       [6. , 4. , 1. ],\n",
              "       [6.1, 4.7, 1.4],\n",
              "       [5.6, 3.6, 1.3],\n",
              "       [6.7, 4.4, 1.4],\n",
              "       [5.6, 4.5, 1.5],\n",
              "       [5.8, 4.1, 1. ],\n",
              "       [6.2, 4.5, 1.5],\n",
              "       [5.6, 3.9, 1.1],\n",
              "       [5.9, 4.8, 1.8],\n",
              "       [6.1, 4. , 1.3],\n",
              "       [6.3, 4.9, 1.5],\n",
              "       [6.1, 4.7, 1.2],\n",
              "       [6.4, 4.3, 1.3],\n",
              "       [6.6, 4.4, 1.4],\n",
              "       [6.8, 4.8, 1.4],\n",
              "       [6.7, 5. , 1.7],\n",
              "       [6. , 4.5, 1.5],\n",
              "       [5.7, 3.5, 1. ],\n",
              "       [5.5, 3.8, 1.1],\n",
              "       [5.5, 3.7, 1. ],\n",
              "       [5.8, 3.9, 1.2],\n",
              "       [6. , 5.1, 1.6],\n",
              "       [5.4, 4.5, 1.5],\n",
              "       [6. , 4.5, 1.6],\n",
              "       [6.7, 4.7, 1.5],\n",
              "       [6.3, 4.4, 1.3],\n",
              "       [5.6, 4.1, 1.3],\n",
              "       [5.5, 4. , 1.3],\n",
              "       [5.5, 4.4, 1.2],\n",
              "       [6.1, 4.6, 1.4],\n",
              "       [5.8, 4. , 1.2],\n",
              "       [5. , 3.3, 1. ],\n",
              "       [5.6, 4.2, 1.3],\n",
              "       [5.7, 4.2, 1.2],\n",
              "       [5.7, 4.2, 1.3],\n",
              "       [6.2, 4.3, 1.3],\n",
              "       [5.1, 3. , 1.1],\n",
              "       [5.7, 4.1, 1.3],\n",
              "       [6.3, 6. , 2.5],\n",
              "       [5.8, 5.1, 1.9],\n",
              "       [7.1, 5.9, 2.1],\n",
              "       [6.3, 5.6, 1.8],\n",
              "       [6.5, 5.8, 2.2],\n",
              "       [7.6, 6.6, 2.1],\n",
              "       [4.9, 4.5, 1.7],\n",
              "       [7.3, 6.3, 1.8],\n",
              "       [6.7, 5.8, 1.8],\n",
              "       [7.2, 6.1, 2.5],\n",
              "       [6.5, 5.1, 2. ],\n",
              "       [6.4, 5.3, 1.9],\n",
              "       [6.8, 5.5, 2.1],\n",
              "       [5.7, 5. , 2. ],\n",
              "       [5.8, 5.1, 2.4],\n",
              "       [6.4, 5.3, 2.3],\n",
              "       [6.5, 5.5, 1.8],\n",
              "       [7.7, 6.7, 2.2],\n",
              "       [7.7, 6.9, 2.3],\n",
              "       [6. , 5. , 1.5],\n",
              "       [6.9, 5.7, 2.3],\n",
              "       [5.6, 4.9, 2. ],\n",
              "       [7.7, 6.7, 2. ],\n",
              "       [6.3, 4.9, 1.8],\n",
              "       [6.7, 5.7, 2.1],\n",
              "       [7.2, 6. , 1.8],\n",
              "       [6.2, 4.8, 1.8],\n",
              "       [6.1, 4.9, 1.8],\n",
              "       [6.4, 5.6, 2.1],\n",
              "       [7.2, 5.8, 1.6],\n",
              "       [7.4, 6.1, 1.9],\n",
              "       [7.9, 6.4, 2. ],\n",
              "       [6.4, 5.6, 2.2],\n",
              "       [6.3, 5.1, 1.5],\n",
              "       [6.1, 5.6, 1.4],\n",
              "       [7.7, 6.1, 2.3],\n",
              "       [6.3, 5.6, 2.4],\n",
              "       [6.4, 5.5, 1.8],\n",
              "       [6. , 4.8, 1.8],\n",
              "       [6.9, 5.4, 2.1],\n",
              "       [6.7, 5.6, 2.4],\n",
              "       [6.9, 5.1, 2.3],\n",
              "       [5.8, 5.1, 1.9],\n",
              "       [6.8, 5.9, 2.3],\n",
              "       [6.7, 5.7, 2.5],\n",
              "       [6.7, 5.2, 2.3],\n",
              "       [6.3, 5. , 1.9],\n",
              "       [6.5, 5.2, 2. ],\n",
              "       [6.2, 5.4, 2.3],\n",
              "       [5.9, 5.1, 1.8]])"
            ]
          },
          "metadata": {
            "tags": []
          },
          "execution_count": 26
        }
      ]
    }
  ]
}