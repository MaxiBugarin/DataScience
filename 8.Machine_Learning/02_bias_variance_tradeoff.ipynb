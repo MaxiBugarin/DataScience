{
  "nbformat": 4,
  "nbformat_minor": 0,
  "metadata": {
    "colab": {
      "name": "02_bias_variance_tradeoff.ipynb",
      "provenance": [],
      "include_colab_link": true
    },
    "kernelspec": {
      "name": "python3",
      "display_name": "Python 3"
    }
  },
  "cells": [
    {
      "cell_type": "markdown",
      "metadata": {
        "id": "view-in-github",
        "colab_type": "text"
      },
      "source": [
        "<a href=\"https://colab.research.google.com/github/al34n1x/DataScience/blob/master/8.Machine_Learning/02_bias_variance_tradeoff.ipynb\" target=\"_parent\"><img src=\"https://colab.research.google.com/assets/colab-badge.svg\" alt=\"Open In Colab\"/></a>"
      ]
    },
    {
      "cell_type": "markdown",
      "metadata": {
        "id": "BHeCGJRfwcwV"
      },
      "source": [
        "\n",
        "\n",
        "# Equilibrio entre Sesgo y Varianza"
      ]
    },
    {
      "cell_type": "markdown",
      "metadata": {
        "id": "LE_3QQqXwcwX"
      },
      "source": [
        "\n",
        "\n",
        "Todos los modelos tienen un error asociado a sus predicciones. Al entrenar modelos con **muestras de una población más grande**, estos siempre reflejarán error debido al muestreo realizado.\n",
        "\n",
        "- Los modelos **demasiado sencillos**, sufren de error de tipo **sesgo**, en el que NO son sensibles a las variabilidades de la muestra con que se entrenan. Generalizan mejor, memorizan peor, más orientados a predicción.\n",
        "- Los modelos **demasiado complejos**, sufren de error de tipo **varianza**, en el que son hipersensibles a las variabilidades de la muestra con que se entrenan. Generalizan peor, memorizan mejor, más orientados a análisis.\n",
        "- Los modelos **equilibrados entre sencillez y complejidad**, tienden a minimizar el error total del modelo. Sin embargo, siempre hay un error irreducible."
      ]
    },
    {
      "cell_type": "code",
      "metadata": {
        "id": "GVUiLyc2wcwZ"
      },
      "source": [
        "import numpy as np\n",
        "from matplotlib import pyplot as plt\n",
        "%matplotlib inline"
      ],
      "execution_count": 1,
      "outputs": []
    },
    {
      "cell_type": "markdown",
      "metadata": {
        "id": "_O3bX2Xmwcwf"
      },
      "source": [
        "\n",
        "\n",
        "# Creacion de la poblacion"
      ]
    },
    {
      "cell_type": "code",
      "metadata": {
        "id": "l6fj8waIwcwh"
      },
      "source": [
        "X = np.arange(-3,3,.01)\n",
        "noise = [np.random.normal(0,.3) for _ in X]\n",
        "#noise = 0\n",
        "system1 = np.poly1d([.03,.02,.01])\n",
        "system2 = np.sin\n",
        "population = system2(X) + noise"
      ],
      "execution_count": 2,
      "outputs": []
    },
    {
      "cell_type": "markdown",
      "metadata": {
        "id": "dvpsgNLKwcwn"
      },
      "source": [
        "\n",
        "\n",
        "## Muestreo inicial"
      ]
    },
    {
      "cell_type": "code",
      "metadata": {
        "id": "o-4ksmyKwcwo"
      },
      "source": [
        "sample_i = np.random.choice(list(range(len(population))),20)\n",
        "sample_i = np.sort(sample_i)\n"
      ],
      "execution_count": 3,
      "outputs": []
    },
    {
      "cell_type": "code",
      "metadata": {
        "id": "i2muAgNEwcwu",
        "colab": {
          "base_uri": "https://localhost:8080/",
          "height": 269
        },
        "outputId": "01e04e02-56af-4172-b733-e8621fa352df"
      },
      "source": [
        "plt.scatter(X[sample_i],population[sample_i],c=\"k\")\n",
        "plt.ylim(-2,2)\n",
        "plt.show()"
      ],
      "execution_count": 4,
      "outputs": [
        {
          "output_type": "display_data",
          "data": {
            "image/png": "[encoded data removed]",
            "text/plain": [
              "<Figure size 432x288 with 1 Axes>"
            ]
          },
          "metadata": {
            "needs_background": "light"
          }
        }
      ]
    },
    {
      "cell_type": "markdown",
      "metadata": {
        "id": "YoIV9Au1wcw1"
      },
      "source": [
        "\n",
        "\n",
        "## Entrenamiento de modelos y representar predicción"
      ]
    },
    {
      "cell_type": "markdown",
      "metadata": {
        "id": "aQ2j4-Dcwcw4"
      },
      "source": [
        "\n",
        "\n",
        "Entrenamos modelos que se ajusten a las muestras extraidas de la población"
      ]
    },
    {
      "cell_type": "markdown",
      "metadata": {
        "id": "Ben7vgruwcw5"
      },
      "source": [
        "\n",
        "\n",
        "Un modelo sencillo"
      ]
    },
    {
      "cell_type": "code",
      "metadata": {
        "id": "O9fseWDXwcw6",
        "colab": {
          "base_uri": "https://localhost:8080/"
        },
        "outputId": "13ec205a-d360-4b46-b1a9-fffdced76261"
      },
      "source": [
        "Z_simple = np.polyfit(X[sample_i], population[sample_i],1)\n",
        "Z_simple = np.poly1d(Z_simple)\n",
        "print(Z_simple)\n",
        "\n",
        "# A balanced model\n",
        "Z_balanced = np.polyfit(X[sample_i], population[sample_i],3)\n",
        "Z_balanced = np.poly1d(Z_balanced)\n",
        "print(Z_balanced)\n",
        "\n",
        "# A complex model\n",
        "Z_complex = np.polyfit(X[sample_i], population[sample_i],50)\n",
        "Z_complex = np.poly1d(Z_complex)\n",
        "print(Z_complex)"
      ],
      "execution_count": 5,
      "outputs": [
        {
          "output_type": "stream",
          "name": "stdout",
          "text": [
            " \n",
            "0.2853 x - 0.1336\n",
            "         3           2\n",
            "-0.1008 x + 0.00904 x + 0.8919 x - 0.1431\n",
            "           50             49             48             47\n",
            "1.011e-17 x  + 1.449e-17 x  + 7.469e-17 x  + 1.185e-16 x \n",
            "              46             45             44             43\n",
            " + 5.113e-16 x  + 9.178e-16 x  + 3.042e-15 x  + 6.568e-15 x \n",
            "              42             41             40             39\n",
            " + 1.258e-14 x  + 4.097e-14 x  - 2.311e-14 x  + 1.838e-13 x \n",
            "              38             37            36             35\n",
            " - 1.413e-12 x  - 1.443e-13 x  - 2.27e-11 x  - 1.792e-11 x \n",
            "              34             33             32             31\n",
            " - 2.784e-10 x  - 3.057e-10 x  - 2.935e-09 x  - 3.896e-09 x \n",
            "              30             29            28             27\n",
            " - 2.709e-08 x  - 4.263e-08 x  - 2.11e-07 x  - 4.104e-07 x \n",
            "              26             25             24             23\n",
            " - 1.179e-06 x  - 3.344e-06 x  - 2.371e-07 x  - 1.905e-05 x \n",
            "              22             21            20            19\n",
            " + 0.0001134 x  + 2.067e-05 x  + 0.001929 x  + 0.002662 x \n",
            "            18          17           16          15         14\n",
            " + 0.01891 x  + 0.0441 x  + 0.07253 x  + 0.3477 x  - 1.023 x \n",
            "          13         12         11         10         9         8\n",
            " - 1.525 x  - 14.04 x  - 58.07 x  + 78.97 x  + 371.9 x - 53.85 x\n",
            "          7         6         5         4         3        2\n",
            " - 791.6 x - 229.8 x + 614.7 x + 319.3 x - 91.13 x - 50.5 x + 6.247 x + 0.5278\n"
          ]
        },
        {
          "output_type": "stream",
          "name": "stderr",
          "text": [
            "/usr/local/lib/python3.7/dist-packages/IPython/core/interactiveshell.py:2882: RankWarning: Polyfit may be poorly conditioned\n",
            "  exec(code_obj, self.user_global_ns, self.user_ns)\n"
          ]
        }
      ]
    },
    {
      "cell_type": "code",
      "metadata": {
        "id": "36WlEuNPwcw_"
      },
      "source": [
        "Y_simple = Z_simple(X[sample_i])\n",
        "Y_balanced = Z_balanced(X[sample_i])\n",
        "Y_complex = Z_complex(X[sample_i])"
      ],
      "execution_count": 6,
      "outputs": []
    },
    {
      "cell_type": "code",
      "metadata": {
        "id": "OXrdq_NtwcxC",
        "colab": {
          "base_uri": "https://localhost:8080/",
          "height": 269
        },
        "outputId": "563fb697-4049-4e25-ea2a-96daf056dd45"
      },
      "source": [
        "plt.scatter(X[sample_i], population[sample_i], c=\"k\")\n",
        "plt.plot(X[sample_i], Y_simple, c=\"g\")\n",
        "plt.plot(X[sample_i], Y_balanced, c=\"y\")\n",
        "plt.plot(X[sample_i], Y_complex, c=\"r\")\n",
        "plt.ylim(-2,2)\n",
        "plt.show()\n"
      ],
      "execution_count": 7,
      "outputs": [
        {
          "output_type": "display_data",
          "data": {
            "image/png": "[encoded data removed]",
            "text/plain": [
              "<Figure size 432x288 with 1 Axes>"
            ]
          },
          "metadata": {
            "needs_background": "light"
          }
        }
      ]
    },
    {
      "cell_type": "markdown",
      "metadata": {
        "id": "5bHsLN4ywcxI"
      },
      "source": [
        "\n",
        "\n",
        "- Primera aproximación, modelo más simple asume que los datos son incrementales, mínima precisión en esta muestra.\n",
        "\n",
        "- Segunda aproximación, modelo intermedio, sensible a la **forma** de los datos.  \n",
        "\n",
        "- Tercera aproximación, modelo más complejo, hipersensible a la forma de los datos, máxima precisión en esta muestra."
      ]
    },
    {
      "cell_type": "markdown",
      "metadata": {
        "id": "ZjcD0n2lwcxI"
      },
      "source": [
        "\n",
        "\n",
        "## Estudio de los modelos"
      ]
    },
    {
      "cell_type": "markdown",
      "metadata": {
        "id": "yfVDl9f_wcxK"
      },
      "source": [
        "\n",
        "\n",
        "Para ver como responderían estos modelos ante todas las entradas de X (NO de la poblacion), dibujamos los modelos completamente."
      ]
    },
    {
      "cell_type": "code",
      "metadata": {
        "id": "eoZ6-FeDwcxL"
      },
      "source": [
        "Y_simple_ = Z_simple(X)\n",
        "Y_balanced_ = Z_balanced(X)\n",
        "Y_complex_ = Z_complex(X)"
      ],
      "execution_count": 8,
      "outputs": []
    },
    {
      "cell_type": "code",
      "metadata": {
        "id": "TZTsftscwcxR",
        "colab": {
          "base_uri": "https://localhost:8080/",
          "height": 269
        },
        "outputId": "869d17c7-d5c2-4675-c112-6722f3804fe0"
      },
      "source": [
        "plt.scatter(X[sample_i], population[sample_i], c=\"k\")\n",
        "plt.plot(X, Y_simple_, c=\"g\")\n",
        "plt.plot(X, Y_balanced_,c =\"y\")\n",
        "plt.plot(X, Y_complex_, c=\"r\")\n",
        "plt.ylim(-6,6)\n",
        "plt.show()\n"
      ],
      "execution_count": 9,
      "outputs": [
        {
          "output_type": "display_data",
          "data": {
            "image/png": "[encoded data removed]",
            "text/plain": [
              "<Figure size 432x288 with 1 Axes>"
            ]
          },
          "metadata": {
            "needs_background": "light"
          }
        }
      ]
    },
    {
      "cell_type": "markdown",
      "metadata": {
        "id": "QsdlUzQXwcxX"
      },
      "source": [
        "\n",
        "\n",
        "## Errores"
      ]
    },
    {
      "cell_type": "code",
      "metadata": {
        "id": "pDSXr9EhwcxX"
      },
      "source": [
        "error_simple = abs(Y_simple-population[sample_i])\n",
        "error_balanced = abs(Y_balanced-population[sample_i])\n",
        "error_complex = abs(Y_complex-population[sample_i])"
      ],
      "execution_count": 10,
      "outputs": []
    },
    {
      "cell_type": "code",
      "metadata": {
        "id": "gNOqfXotwcxd",
        "colab": {
          "base_uri": "https://localhost:8080/",
          "height": 265
        },
        "outputId": "a7ff9647-6200-4949-91b2-d496684ec9eb"
      },
      "source": [
        "plt.plot(X[sample_i], error_simple,c=\"g\")\n",
        "plt.plot(X[sample_i], error_balanced,c=\"y\")\n",
        "plt.plot(X[sample_i], error_complex,c=\"r\")\n",
        "plt.show()"
      ],
      "execution_count": 11,
      "outputs": [
        {
          "output_type": "display_data",
          "data": {
            "image/png": "[encoded data removed]",
            "text/plain": [
              "<Figure size 432x288 with 1 Axes>"
            ]
          },
          "metadata": {
            "needs_background": "light"
          }
        }
      ]
    },
    {
      "cell_type": "code",
      "metadata": {
        "id": "nvt2jAfIwcxg",
        "colab": {
          "base_uri": "https://localhost:8080/"
        },
        "outputId": "793db241-f4eb-4ea2-dbc0-0e985895cbc7"
      },
      "source": [
        "from sklearn.metrics import mean_squared_error \n",
        "from math import sqrt \n",
        "\n",
        "rms_simple = sqrt(mean_squared_error(population[sample_i], Y_simple)) \n",
        "print(rms_simple)\n",
        "rms_balanced = sqrt(mean_squared_error(population[sample_i], Y_balanced)) \n",
        "print(rms_balanced)\n",
        "rms_complex = sqrt(mean_squared_error(population[sample_i], Y_complex)) \n",
        "print(rms_complex)"
      ],
      "execution_count": 12,
      "outputs": [
        {
          "output_type": "stream",
          "name": "stdout",
          "text": [
            "0.5673429260837487\n",
            "0.3182170121015595\n",
            "5.363473747683914e-09\n"
          ]
        }
      ]
    },
    {
      "cell_type": "markdown",
      "metadata": {
        "id": "JCXlC5UQwcxm"
      },
      "source": [
        "\n",
        "\n",
        "El modelo que menor error comete en la muestra usada (conjunto de entreamiento) es el más complejo. Podemos utilizar los coeficientes para analizar esta muestra."
      ]
    },
    {
      "cell_type": "markdown",
      "metadata": {
        "id": "ot5kOTaWwcxn"
      },
      "source": [
        "\n",
        "\n",
        "# Nuevos datos"
      ]
    },
    {
      "cell_type": "markdown",
      "metadata": {
        "id": "Xzl-WoXGwcxo"
      },
      "source": [
        "\n",
        "\n",
        "Con una nueva muestra de la población, evaluamos los modelos generados.  \n",
        "Para ello tomamos 20 nuevos indices de la poblacion, y realizamos predicciones con los modelos creados."
      ]
    },
    {
      "cell_type": "code",
      "metadata": {
        "id": "e-HQdfIPwcxp"
      },
      "source": [
        "sample_new = np.random.choice(list(range(len(population))),20)\n",
        "sample_new = np.sort(sample_new)"
      ],
      "execution_count": 13,
      "outputs": []
    },
    {
      "cell_type": "code",
      "metadata": {
        "id": "39XPzz-ywcxt"
      },
      "source": [
        "Y_simple_new = Z_simple(X[sample_new])\n",
        "Y_balanced_new = Z_balanced(X[sample_new])\n",
        "Y_complex_new = Z_complex(X[sample_new])"
      ],
      "execution_count": 14,
      "outputs": []
    },
    {
      "cell_type": "markdown",
      "metadata": {
        "id": "hksAkj3Zwcxx"
      },
      "source": [
        "\n",
        "\n",
        "Representamos las predicciones de los modelos para la nueva muestra."
      ]
    },
    {
      "cell_type": "code",
      "metadata": {
        "id": "AZ4OOzgswcxy",
        "colab": {
          "base_uri": "https://localhost:8080/",
          "height": 269
        },
        "outputId": "3ab7c596-8fcc-4fc7-993f-bbbe82e7cba1"
      },
      "source": [
        "plt.scatter(X[sample_new], population[sample_new] ,c=\"b\")\n",
        "plt.plot(X[sample_new], Y_simple_new ,c=\"g\")\n",
        "plt.plot(X[sample_new], Y_balanced_new ,c=\"y\")\n",
        "plt.plot(X[sample_new], Y_complex_new ,c=\"r\")\n",
        "plt.ylim(-3,3)\n",
        "plt.show()"
      ],
      "execution_count": 15,
      "outputs": [
        {
          "output_type": "display_data",
          "data": {
            "image/png": "[encoded data removed]",
            "text/plain": [
              "<Figure size 432x288 with 1 Axes>"
            ]
          },
          "metadata": {
            "needs_background": "light"
          }
        }
      ]
    },
    {
      "cell_type": "code",
      "metadata": {
        "id": "1n3Qv1t-wcx2"
      },
      "source": [
        "from sklearn.metrics import mean_squared_error"
      ],
      "execution_count": 16,
      "outputs": []
    },
    {
      "cell_type": "code",
      "metadata": {
        "id": "Ug4m-9XBwcx5",
        "colab": {
          "base_uri": "https://localhost:8080/"
        },
        "outputId": "f0c061b5-43ff-4ca1-fe12-57d6aac977ea"
      },
      "source": [
        "rms_simple = sqrt(mean_squared_error(sample_new, Y_simple_new)) \n",
        "print(rms_simple)\n",
        "rms_balanced = sqrt(mean_squared_error(sample_new, Y_balanced_new)) \n",
        "print(rms_balanced)\n",
        "rms_complex = sqrt(mean_squared_error(sample_new, Y_complex_new)) \n",
        "print(rms_complex)"
      ],
      "execution_count": 17,
      "outputs": [
        {
          "output_type": "stream",
          "name": "stdout",
          "text": [
            "401.6728092929675\n",
            "401.5562589400236\n",
            "36763.50017704189\n"
          ]
        }
      ]
    },
    {
      "cell_type": "markdown",
      "metadata": {
        "id": "fcYaZgCdwcx-"
      },
      "source": [
        "\n",
        "\n",
        "El modelo más complejo es el que comete más error al recibir nuevos datos. Los modelos más sencillos son también más robustos. \n",
        "> Por tanto para predicción es mejor **modelos que generalicen bien, sin perder la sensibilidad a la forma**."
      ]
    }
  ]
}