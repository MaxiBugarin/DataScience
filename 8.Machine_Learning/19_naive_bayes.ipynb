{
  "nbformat": 4,
  "nbformat_minor": 0,
  "metadata": {
    "language_info": {
      "pygments_lexer": "ipython3",
      "file_extension": ".py",
      "codemirror_mode": {
        "version": 3,
        "name": "ipython"
      },
      "nbconvert_exporter": "python",
      "version": "3.7.1",
      "mimetype": "text/x-python",
      "name": "python"
    },
    "kernelspec": {
      "display_name": "Python 3",
      "language": "python",
      "name": "python3"
    },
    "colab": {
      "name": "18_naive_bayes.ipynb",
      "provenance": [],
      "include_colab_link": true
    }
  },
  "cells": [
    {
      "cell_type": "markdown",
      "metadata": {
        "id": "view-in-github",
        "colab_type": "text"
      },
      "source": [
        "<a href=\"https://colab.research.google.com/github/al34n1x/DataScience/blob/master/99.Machine_Learning/19_naive_bayes.ipynb\" target=\"_parent\"><img src=\"https://colab.research.google.com/assets/colab-badge.svg\" alt=\"Open In Colab\"/></a>"
      ]
    },
    {
      "cell_type": "markdown",
      "metadata": {
        "id": "r_ePuEIUYJFC",
        "colab_type": "text"
      },
      "source": [
        "\n",
        "\n",
        "# Naive Bayes"
      ]
    },
    {
      "cell_type": "markdown",
      "metadata": {
        "id": "tVmzKAPjYJFC",
        "colab_type": "text"
      },
      "source": [
        "\n",
        "\n",
        "## Teorema de Bayes"
      ]
    },
    {
      "cell_type": "markdown",
      "metadata": {
        "id": "Vq74A8R2YJFD",
        "colab_type": "text"
      },
      "source": [
        "\n",
        "\n",
        "<img src=\"https://upload.wikimedia.org/wikipedia/commons/thumb/1/18/Bayes%27_Theorem_MMB_01.jpg/1024px-Bayes%27_Theorem_MMB_01.jpg\">\n",
        "El teorema de Bayes (o Ley de Bayres o Regla de Bayes) se considera una de las reglas más poderosas en el cálculo de probabilidades y estadística.\n",
        "Describe la probabilidad de un evento, basado en conocimiento previo de condiciones que podrían estar relacionadas con el evento.\n",
        "\n",
        " \n",
        "<img src=\"https://miro.medium.com/max/1994/1*CnoTGGO7XeUpUMeXDrIfvA.png\">\n",
        "\n",
        "<img src=\"https://www.saedsayad.com/images/Bayes_rule.png\">\n",
        "\n",
        "\n",
        "- P(c|x) es la probabilidad a posteriori de la clase c dado los predictores x.\n",
        "- P(c) es la probabilidad a priori de la clase.\n",
        "- P(x) es la probabilidad a priori del predictor (o predictores).\n",
        "- P(x|c) es la probabilidad del predictor, dada la clase (*likelihood*)."
      ]
    },
    {
      "cell_type": "markdown",
      "metadata": {
        "id": "6LaO9ihwYJFE",
        "colab_type": "text"
      },
      "source": [
        "\n",
        "\n",
        "## Naive Bayes"
      ]
    },
    {
      "cell_type": "markdown",
      "metadata": {
        "id": "WCFjoD_1YJFE",
        "colab_type": "text"
      },
      "source": [
        "\n",
        "\n",
        "Los algoritmos de Naive Bayes son algoritmos de aprendizaje supervisado basados en la aplicación del Teorema de Bayes con una suposición *naive* (inocente): **asume independencia** entre cada par de variables de predicción."
      ]
    },
    {
      "cell_type": "markdown",
      "metadata": {
        "id": "UopXEFQ0YJFF",
        "colab_type": "text"
      },
      "source": [
        "\n",
        "\n",
        "- Uso más común: como algoritmo de clasificación. Predice la clase de los datos.\n",
        "- Ventaja de Naive Bayes: es relativamente rápido comparado con otros algoritmos de clasificación.\n",
        "- Útil con datasets grandes.\n",
        "- Aplicaciones: predicciones en tiempo real, predicciones multiclase, clasificación de textos / filtrado de spam / analisis de sentimientos, sistema de recomendaciones..."
      ]
    },
    {
      "cell_type": "markdown",
      "metadata": {
        "id": "nNEHZjz7YJFF",
        "colab_type": "text"
      },
      "source": [
        "\n",
        "\n",
        "### Naive Bayes con Scikit Learn"
      ]
    },
    {
      "cell_type": "markdown",
      "metadata": {
        "id": "gDw_oaeoYJFG",
        "colab_type": "text"
      },
      "source": [
        "\n",
        "\n",
        "Los diferentes algoritmos de Naive Bayes difieren en las suposiciones relativas a la distribución de las variables continuas predictoras.\n",
        "\n",
        "En **Scikit** Learn tenemos:\n",
        "- **GaussianNB**: implementa el algoritmo Gaussian Naive Bayes para clasificación. Asume que la distribución de los datos es gaussiana (normal).\n",
        "- **MultinomialNB**: implementa el algoritmo de naive Bayes para datos dcon una distribución multinomial. Útil cuando las variables son discretas.\n",
        "- **BernoulliNB**: impelmenta naive Bayes para datos con una distribución de Bernoulli multivariante. Útil cuando las variables son binarias."
      ]
    },
    {
      "cell_type": "markdown",
      "metadata": {
        "id": "YduraK_5YJFG",
        "colab_type": "text"
      },
      "source": [
        "\n",
        "\n",
        "Antes de utilizar un modelo, deberíamos verificar si la distribución de las variables sigue uno de los tres modelos recien mencionados. Porque si no lo hiciese, podríamos ver que las distribuciones no ajustan bien los datos.\n",
        "\n",
        "Si las variables no siguen una distribución normal por ejemplo, podríamos usar transformaciones u otros métodos para convertirlas en una distribución normal."
      ]
    },
    {
      "cell_type": "code",
      "metadata": {
        "id": "gDV6m9fgYJFH",
        "colab_type": "code",
        "colab": {}
      },
      "source": [
        "import pandas as pd\n",
        "from sklearn.model_selection import train_test_split\n",
        "import matplotlib.pyplot as plt"
      ],
      "execution_count": 1,
      "outputs": []
    },
    {
      "cell_type": "code",
      "metadata": {
        "id": "EKD4MztfYJFJ",
        "colab_type": "code",
        "colab": {}
      },
      "source": [
        "# Local\n",
        "data = pd.read_csv(\"https://github.com/al34n1x/DataScience/raw/master/data/titanic_ok.csv\")"
      ],
      "execution_count": 2,
      "outputs": []
    },
    {
      "cell_type": "code",
      "metadata": {
        "id": "pL1_pft-DYi5",
        "colab_type": "code",
        "colab": {
          "base_uri": "https://localhost:8080/",
          "height": 34
        },
        "outputId": "3f8a48c7-3f8e-4ad8-f4c2-342c6af5bd76"
      },
      "source": [
        "data.shape"
      ],
      "execution_count": 3,
      "outputs": [
        {
          "output_type": "execute_result",
          "data": {
            "text/plain": [
              "(1309, 14)"
            ]
          },
          "metadata": {
            "tags": []
          },
          "execution_count": 3
        }
      ]
    },
    {
      "cell_type": "code",
      "metadata": {
        "id": "motiq3smCEhJ",
        "colab_type": "code",
        "colab": {}
      },
      "source": [
        "data.dropna(inplace= True, subset={'fare'})"
      ],
      "execution_count": 4,
      "outputs": []
    },
    {
      "cell_type": "code",
      "metadata": {
        "id": "UpKXn1clDa5R",
        "colab_type": "code",
        "colab": {
          "base_uri": "https://localhost:8080/",
          "height": 34
        },
        "outputId": "f45056b4-6700-48a8-f4e0-2c0e765ed5dc"
      },
      "source": [
        "data.shape"
      ],
      "execution_count": 5,
      "outputs": [
        {
          "output_type": "execute_result",
          "data": {
            "text/plain": [
              "(1308, 14)"
            ]
          },
          "metadata": {
            "tags": []
          },
          "execution_count": 5
        }
      ]
    },
    {
      "cell_type": "code",
      "metadata": {
        "id": "nV4Yb4SUDLyU",
        "colab_type": "code",
        "colab": {
          "base_uri": "https://localhost:8080/",
          "height": 204
        },
        "outputId": "26cac505-b8e6-459d-ac20-4c6484d9c8dc"
      },
      "source": [
        "data.head()"
      ],
      "execution_count": 6,
      "outputs": [
        {
          "output_type": "execute_result",
          "data": {
            "text/html": [
              "<div>\n",
              "<style scoped>\n",
              "    .dataframe tbody tr th:only-of-type {\n",
              "        vertical-align: middle;\n",
              "    }\n",
              "\n",
              "    .dataframe tbody tr th {\n",
              "        vertical-align: top;\n",
              "    }\n",
              "\n",
              "    .dataframe thead th {\n",
              "        text-align: right;\n",
              "    }\n",
              "</style>\n",
              "<table border=\"1\" class=\"dataframe\">\n",
              "  <thead>\n",
              "    <tr style=\"text-align: right;\">\n",
              "      <th></th>\n",
              "      <th>pclass</th>\n",
              "      <th>survived</th>\n",
              "      <th>name</th>\n",
              "      <th>sex</th>\n",
              "      <th>age</th>\n",
              "      <th>sibsp</th>\n",
              "      <th>parch</th>\n",
              "      <th>ticket</th>\n",
              "      <th>fare</th>\n",
              "      <th>cabin</th>\n",
              "      <th>embarked</th>\n",
              "      <th>boat</th>\n",
              "      <th>body</th>\n",
              "      <th>home.dest</th>\n",
              "    </tr>\n",
              "  </thead>\n",
              "  <tbody>\n",
              "    <tr>\n",
              "      <th>0</th>\n",
              "      <td>1</td>\n",
              "      <td>1</td>\n",
              "      <td>Allen. Miss. Elisabeth Walton</td>\n",
              "      <td>female</td>\n",
              "      <td>29.0000</td>\n",
              "      <td>0</td>\n",
              "      <td>0</td>\n",
              "      <td>24160</td>\n",
              "      <td>211.3375</td>\n",
              "      <td>B5</td>\n",
              "      <td>S</td>\n",
              "      <td>2</td>\n",
              "      <td>NaN</td>\n",
              "      <td>St Louis. MO</td>\n",
              "    </tr>\n",
              "    <tr>\n",
              "      <th>1</th>\n",
              "      <td>1</td>\n",
              "      <td>1</td>\n",
              "      <td>Allison. Master. Hudson Trevor</td>\n",
              "      <td>male</td>\n",
              "      <td>0.9167</td>\n",
              "      <td>1</td>\n",
              "      <td>2</td>\n",
              "      <td>113781</td>\n",
              "      <td>151.5500</td>\n",
              "      <td>C22 C26</td>\n",
              "      <td>S</td>\n",
              "      <td>11</td>\n",
              "      <td>NaN</td>\n",
              "      <td>Montreal. PQ / Chesterville. ON</td>\n",
              "    </tr>\n",
              "    <tr>\n",
              "      <th>2</th>\n",
              "      <td>1</td>\n",
              "      <td>0</td>\n",
              "      <td>Allison. Miss. Helen Loraine</td>\n",
              "      <td>female</td>\n",
              "      <td>2.0000</td>\n",
              "      <td>1</td>\n",
              "      <td>2</td>\n",
              "      <td>113781</td>\n",
              "      <td>151.5500</td>\n",
              "      <td>C22 C26</td>\n",
              "      <td>S</td>\n",
              "      <td>NaN</td>\n",
              "      <td>NaN</td>\n",
              "      <td>Montreal. PQ / Chesterville. ON</td>\n",
              "    </tr>\n",
              "    <tr>\n",
              "      <th>3</th>\n",
              "      <td>1</td>\n",
              "      <td>0</td>\n",
              "      <td>Allison. Mr. Hudson Joshua Creighton</td>\n",
              "      <td>male</td>\n",
              "      <td>30.0000</td>\n",
              "      <td>1</td>\n",
              "      <td>2</td>\n",
              "      <td>113781</td>\n",
              "      <td>151.5500</td>\n",
              "      <td>C22 C26</td>\n",
              "      <td>S</td>\n",
              "      <td>NaN</td>\n",
              "      <td>135.0</td>\n",
              "      <td>Montreal. PQ / Chesterville. ON</td>\n",
              "    </tr>\n",
              "    <tr>\n",
              "      <th>4</th>\n",
              "      <td>1</td>\n",
              "      <td>0</td>\n",
              "      <td>Allison. Mrs. Hudson J C (Bessie Waldo Daniels)</td>\n",
              "      <td>female</td>\n",
              "      <td>25.0000</td>\n",
              "      <td>1</td>\n",
              "      <td>2</td>\n",
              "      <td>113781</td>\n",
              "      <td>151.5500</td>\n",
              "      <td>C22 C26</td>\n",
              "      <td>S</td>\n",
              "      <td>NaN</td>\n",
              "      <td>NaN</td>\n",
              "      <td>Montreal. PQ / Chesterville. ON</td>\n",
              "    </tr>\n",
              "  </tbody>\n",
              "</table>\n",
              "</div>"
            ],
            "text/plain": [
              "   pclass  survived  ...   body                        home.dest\n",
              "0       1         1  ...    NaN                     St Louis. MO\n",
              "1       1         1  ...    NaN  Montreal. PQ / Chesterville. ON\n",
              "2       1         0  ...    NaN  Montreal. PQ / Chesterville. ON\n",
              "3       1         0  ...  135.0  Montreal. PQ / Chesterville. ON\n",
              "4       1         0  ...    NaN  Montreal. PQ / Chesterville. ON\n",
              "\n",
              "[5 rows x 14 columns]"
            ]
          },
          "metadata": {
            "tags": []
          },
          "execution_count": 6
        }
      ]
    },
    {
      "cell_type": "code",
      "metadata": {
        "id": "lhJJjmrXYJFM",
        "colab_type": "code",
        "colab": {}
      },
      "source": [
        "CAge=pd.cut(data[\"age\"], bins = [0,10,18,40,max(data[\"age\"])] ,labels=[\"Child\",\"MYoung\",\"Young\",\"Older\"])\n",
        "\n",
        "#create dummy variables for the column\n",
        "dummies = pd.get_dummies(CAge)"
      ],
      "execution_count": 7,
      "outputs": []
    },
    {
      "cell_type": "code",
      "metadata": {
        "id": "XNJnSMtrGius",
        "colab_type": "code",
        "colab": {
          "base_uri": "https://localhost:8080/",
          "height": 204
        },
        "outputId": "ac074e50-07b1-4461-f10c-5b29c8ff1c69"
      },
      "source": [
        "dummies.head()"
      ],
      "execution_count": 8,
      "outputs": [
        {
          "output_type": "execute_result",
          "data": {
            "text/html": [
              "<div>\n",
              "<style scoped>\n",
              "    .dataframe tbody tr th:only-of-type {\n",
              "        vertical-align: middle;\n",
              "    }\n",
              "\n",
              "    .dataframe tbody tr th {\n",
              "        vertical-align: top;\n",
              "    }\n",
              "\n",
              "    .dataframe thead th {\n",
              "        text-align: right;\n",
              "    }\n",
              "</style>\n",
              "<table border=\"1\" class=\"dataframe\">\n",
              "  <thead>\n",
              "    <tr style=\"text-align: right;\">\n",
              "      <th></th>\n",
              "      <th>Child</th>\n",
              "      <th>MYoung</th>\n",
              "      <th>Young</th>\n",
              "      <th>Older</th>\n",
              "    </tr>\n",
              "  </thead>\n",
              "  <tbody>\n",
              "    <tr>\n",
              "      <th>0</th>\n",
              "      <td>0</td>\n",
              "      <td>0</td>\n",
              "      <td>1</td>\n",
              "      <td>0</td>\n",
              "    </tr>\n",
              "    <tr>\n",
              "      <th>1</th>\n",
              "      <td>1</td>\n",
              "      <td>0</td>\n",
              "      <td>0</td>\n",
              "      <td>0</td>\n",
              "    </tr>\n",
              "    <tr>\n",
              "      <th>2</th>\n",
              "      <td>1</td>\n",
              "      <td>0</td>\n",
              "      <td>0</td>\n",
              "      <td>0</td>\n",
              "    </tr>\n",
              "    <tr>\n",
              "      <th>3</th>\n",
              "      <td>0</td>\n",
              "      <td>0</td>\n",
              "      <td>1</td>\n",
              "      <td>0</td>\n",
              "    </tr>\n",
              "    <tr>\n",
              "      <th>4</th>\n",
              "      <td>0</td>\n",
              "      <td>0</td>\n",
              "      <td>1</td>\n",
              "      <td>0</td>\n",
              "    </tr>\n",
              "  </tbody>\n",
              "</table>\n",
              "</div>"
            ],
            "text/plain": [
              "   Child  MYoung  Young  Older\n",
              "0      0       0      1      0\n",
              "1      1       0      0      0\n",
              "2      1       0      0      0\n",
              "3      0       0      1      0\n",
              "4      0       0      1      0"
            ]
          },
          "metadata": {
            "tags": []
          },
          "execution_count": 8
        }
      ]
    },
    {
      "cell_type": "markdown",
      "metadata": {
        "id": "PqP696C3YJFP",
        "colab_type": "text"
      },
      "source": [
        "\n",
        "\n",
        "En la versión 0.19.0 de pandas es necesario un paso adicional"
      ]
    },
    {
      "cell_type": "code",
      "metadata": {
        "id": "-9GbZPe-YJFQ",
        "colab_type": "code",
        "colab": {}
      },
      "source": [
        "#dummies_tmp = pd.get_dummies(CAge)\n",
        "#dummies = pd.DataFrame(data = dummies_tmp.values,\n",
        "#                       index = dummies_tmp.index)\n",
        "#dummies.index.name=\"PassengerId\""
      ],
      "execution_count": 9,
      "outputs": []
    },
    {
      "cell_type": "markdown",
      "metadata": {
        "id": "vtxXei9mYJFS",
        "colab_type": "text"
      },
      "source": [
        "\n",
        "\n",
        "añadimos las variables *dummy*"
      ]
    },
    {
      "cell_type": "code",
      "metadata": {
        "id": "goZ_UTLWYJFS",
        "colab_type": "code",
        "colab": {}
      },
      "source": [
        "data = data.join(dummies)"
      ],
      "execution_count": 10,
      "outputs": []
    },
    {
      "cell_type": "code",
      "metadata": {
        "id": "IWpnvsiCHB97",
        "colab_type": "code",
        "colab": {
          "base_uri": "https://localhost:8080/",
          "height": 272
        },
        "outputId": "dc131b1c-fe48-4708-8502-8622e0d803a3"
      },
      "source": [
        "data.head()"
      ],
      "execution_count": 11,
      "outputs": [
        {
          "output_type": "execute_result",
          "data": {
            "text/html": [
              "<div>\n",
              "<style scoped>\n",
              "    .dataframe tbody tr th:only-of-type {\n",
              "        vertical-align: middle;\n",
              "    }\n",
              "\n",
              "    .dataframe tbody tr th {\n",
              "        vertical-align: top;\n",
              "    }\n",
              "\n",
              "    .dataframe thead th {\n",
              "        text-align: right;\n",
              "    }\n",
              "</style>\n",
              "<table border=\"1\" class=\"dataframe\">\n",
              "  <thead>\n",
              "    <tr style=\"text-align: right;\">\n",
              "      <th></th>\n",
              "      <th>pclass</th>\n",
              "      <th>survived</th>\n",
              "      <th>name</th>\n",
              "      <th>sex</th>\n",
              "      <th>age</th>\n",
              "      <th>sibsp</th>\n",
              "      <th>parch</th>\n",
              "      <th>ticket</th>\n",
              "      <th>fare</th>\n",
              "      <th>cabin</th>\n",
              "      <th>embarked</th>\n",
              "      <th>boat</th>\n",
              "      <th>body</th>\n",
              "      <th>home.dest</th>\n",
              "      <th>Child</th>\n",
              "      <th>MYoung</th>\n",
              "      <th>Young</th>\n",
              "      <th>Older</th>\n",
              "    </tr>\n",
              "  </thead>\n",
              "  <tbody>\n",
              "    <tr>\n",
              "      <th>0</th>\n",
              "      <td>1</td>\n",
              "      <td>1</td>\n",
              "      <td>Allen. Miss. Elisabeth Walton</td>\n",
              "      <td>female</td>\n",
              "      <td>29.0000</td>\n",
              "      <td>0</td>\n",
              "      <td>0</td>\n",
              "      <td>24160</td>\n",
              "      <td>211.3375</td>\n",
              "      <td>B5</td>\n",
              "      <td>S</td>\n",
              "      <td>2</td>\n",
              "      <td>NaN</td>\n",
              "      <td>St Louis. MO</td>\n",
              "      <td>0</td>\n",
              "      <td>0</td>\n",
              "      <td>1</td>\n",
              "      <td>0</td>\n",
              "    </tr>\n",
              "    <tr>\n",
              "      <th>1</th>\n",
              "      <td>1</td>\n",
              "      <td>1</td>\n",
              "      <td>Allison. Master. Hudson Trevor</td>\n",
              "      <td>male</td>\n",
              "      <td>0.9167</td>\n",
              "      <td>1</td>\n",
              "      <td>2</td>\n",
              "      <td>113781</td>\n",
              "      <td>151.5500</td>\n",
              "      <td>C22 C26</td>\n",
              "      <td>S</td>\n",
              "      <td>11</td>\n",
              "      <td>NaN</td>\n",
              "      <td>Montreal. PQ / Chesterville. ON</td>\n",
              "      <td>1</td>\n",
              "      <td>0</td>\n",
              "      <td>0</td>\n",
              "      <td>0</td>\n",
              "    </tr>\n",
              "    <tr>\n",
              "      <th>2</th>\n",
              "      <td>1</td>\n",
              "      <td>0</td>\n",
              "      <td>Allison. Miss. Helen Loraine</td>\n",
              "      <td>female</td>\n",
              "      <td>2.0000</td>\n",
              "      <td>1</td>\n",
              "      <td>2</td>\n",
              "      <td>113781</td>\n",
              "      <td>151.5500</td>\n",
              "      <td>C22 C26</td>\n",
              "      <td>S</td>\n",
              "      <td>NaN</td>\n",
              "      <td>NaN</td>\n",
              "      <td>Montreal. PQ / Chesterville. ON</td>\n",
              "      <td>1</td>\n",
              "      <td>0</td>\n",
              "      <td>0</td>\n",
              "      <td>0</td>\n",
              "    </tr>\n",
              "    <tr>\n",
              "      <th>3</th>\n",
              "      <td>1</td>\n",
              "      <td>0</td>\n",
              "      <td>Allison. Mr. Hudson Joshua Creighton</td>\n",
              "      <td>male</td>\n",
              "      <td>30.0000</td>\n",
              "      <td>1</td>\n",
              "      <td>2</td>\n",
              "      <td>113781</td>\n",
              "      <td>151.5500</td>\n",
              "      <td>C22 C26</td>\n",
              "      <td>S</td>\n",
              "      <td>NaN</td>\n",
              "      <td>135.0</td>\n",
              "      <td>Montreal. PQ / Chesterville. ON</td>\n",
              "      <td>0</td>\n",
              "      <td>0</td>\n",
              "      <td>1</td>\n",
              "      <td>0</td>\n",
              "    </tr>\n",
              "    <tr>\n",
              "      <th>4</th>\n",
              "      <td>1</td>\n",
              "      <td>0</td>\n",
              "      <td>Allison. Mrs. Hudson J C (Bessie Waldo Daniels)</td>\n",
              "      <td>female</td>\n",
              "      <td>25.0000</td>\n",
              "      <td>1</td>\n",
              "      <td>2</td>\n",
              "      <td>113781</td>\n",
              "      <td>151.5500</td>\n",
              "      <td>C22 C26</td>\n",
              "      <td>S</td>\n",
              "      <td>NaN</td>\n",
              "      <td>NaN</td>\n",
              "      <td>Montreal. PQ / Chesterville. ON</td>\n",
              "      <td>0</td>\n",
              "      <td>0</td>\n",
              "      <td>1</td>\n",
              "      <td>0</td>\n",
              "    </tr>\n",
              "  </tbody>\n",
              "</table>\n",
              "</div>"
            ],
            "text/plain": [
              "   pclass  survived  ... Young Older\n",
              "0       1         1  ...     1     0\n",
              "1       1         1  ...     0     0\n",
              "2       1         0  ...     0     0\n",
              "3       1         0  ...     1     0\n",
              "4       1         0  ...     1     0\n",
              "\n",
              "[5 rows x 18 columns]"
            ]
          },
          "metadata": {
            "tags": []
          },
          "execution_count": 11
        }
      ]
    },
    {
      "cell_type": "code",
      "metadata": {
        "id": "v0BHIq1hYJFV",
        "colab_type": "code",
        "colab": {}
      },
      "source": [
        "data['sex'] = data['sex'].replace(to_replace=['male', 'female'], value=[0, 1])"
      ],
      "execution_count": 12,
      "outputs": []
    },
    {
      "cell_type": "code",
      "metadata": {
        "id": "jtyAiPnZYJFX",
        "colab_type": "code",
        "colab": {}
      },
      "source": [
        "train, test = train_test_split(data, test_size=0.5)\n",
        "\n",
        "survived = train[(train.survived==1)]"
      ],
      "execution_count": 13,
      "outputs": []
    },
    {
      "cell_type": "code",
      "metadata": {
        "id": "vt0H7Zh_YJFZ",
        "colab_type": "code",
        "colab": {
          "base_uri": "https://localhost:8080/",
          "height": 238
        },
        "outputId": "a8738932-2010-4c78-e7e7-b34037fc9935"
      },
      "source": [
        "train.head()"
      ],
      "execution_count": 14,
      "outputs": [
        {
          "output_type": "execute_result",
          "data": {
            "text/html": [
              "<div>\n",
              "<style scoped>\n",
              "    .dataframe tbody tr th:only-of-type {\n",
              "        vertical-align: middle;\n",
              "    }\n",
              "\n",
              "    .dataframe tbody tr th {\n",
              "        vertical-align: top;\n",
              "    }\n",
              "\n",
              "    .dataframe thead th {\n",
              "        text-align: right;\n",
              "    }\n",
              "</style>\n",
              "<table border=\"1\" class=\"dataframe\">\n",
              "  <thead>\n",
              "    <tr style=\"text-align: right;\">\n",
              "      <th></th>\n",
              "      <th>pclass</th>\n",
              "      <th>survived</th>\n",
              "      <th>name</th>\n",
              "      <th>sex</th>\n",
              "      <th>age</th>\n",
              "      <th>sibsp</th>\n",
              "      <th>parch</th>\n",
              "      <th>ticket</th>\n",
              "      <th>fare</th>\n",
              "      <th>cabin</th>\n",
              "      <th>embarked</th>\n",
              "      <th>boat</th>\n",
              "      <th>body</th>\n",
              "      <th>home.dest</th>\n",
              "      <th>Child</th>\n",
              "      <th>MYoung</th>\n",
              "      <th>Young</th>\n",
              "      <th>Older</th>\n",
              "    </tr>\n",
              "  </thead>\n",
              "  <tbody>\n",
              "    <tr>\n",
              "      <th>226</th>\n",
              "      <td>1</td>\n",
              "      <td>0</td>\n",
              "      <td>Pears. Mr. Thomas Clinton</td>\n",
              "      <td>0</td>\n",
              "      <td>29.0</td>\n",
              "      <td>1</td>\n",
              "      <td>0</td>\n",
              "      <td>113776</td>\n",
              "      <td>66.6000</td>\n",
              "      <td>C2</td>\n",
              "      <td>S</td>\n",
              "      <td>NaN</td>\n",
              "      <td>NaN</td>\n",
              "      <td>Isleworth. England</td>\n",
              "      <td>0</td>\n",
              "      <td>0</td>\n",
              "      <td>1</td>\n",
              "      <td>0</td>\n",
              "    </tr>\n",
              "    <tr>\n",
              "      <th>1212</th>\n",
              "      <td>3</td>\n",
              "      <td>0</td>\n",
              "      <td>Slabenoff. Mr. Petco</td>\n",
              "      <td>0</td>\n",
              "      <td>NaN</td>\n",
              "      <td>0</td>\n",
              "      <td>0</td>\n",
              "      <td>349214</td>\n",
              "      <td>7.8958</td>\n",
              "      <td>NaN</td>\n",
              "      <td>S</td>\n",
              "      <td>NaN</td>\n",
              "      <td>NaN</td>\n",
              "      <td>NaN</td>\n",
              "      <td>0</td>\n",
              "      <td>0</td>\n",
              "      <td>0</td>\n",
              "      <td>0</td>\n",
              "    </tr>\n",
              "    <tr>\n",
              "      <th>468</th>\n",
              "      <td>2</td>\n",
              "      <td>0</td>\n",
              "      <td>Karnes. Mrs. J Frank (Claire Bennett)</td>\n",
              "      <td>1</td>\n",
              "      <td>22.0</td>\n",
              "      <td>0</td>\n",
              "      <td>0</td>\n",
              "      <td>F.C.C. 13534</td>\n",
              "      <td>21.0000</td>\n",
              "      <td>NaN</td>\n",
              "      <td>S</td>\n",
              "      <td>NaN</td>\n",
              "      <td>NaN</td>\n",
              "      <td>India / Pittsburgh. PA</td>\n",
              "      <td>0</td>\n",
              "      <td>0</td>\n",
              "      <td>1</td>\n",
              "      <td>0</td>\n",
              "    </tr>\n",
              "    <tr>\n",
              "      <th>1058</th>\n",
              "      <td>3</td>\n",
              "      <td>0</td>\n",
              "      <td>Nieminen. Miss. Manta Josefina</td>\n",
              "      <td>1</td>\n",
              "      <td>29.0</td>\n",
              "      <td>0</td>\n",
              "      <td>0</td>\n",
              "      <td>3101297</td>\n",
              "      <td>7.9250</td>\n",
              "      <td>NaN</td>\n",
              "      <td>S</td>\n",
              "      <td>NaN</td>\n",
              "      <td>NaN</td>\n",
              "      <td>NaN</td>\n",
              "      <td>0</td>\n",
              "      <td>0</td>\n",
              "      <td>1</td>\n",
              "      <td>0</td>\n",
              "    </tr>\n",
              "    <tr>\n",
              "      <th>771</th>\n",
              "      <td>3</td>\n",
              "      <td>1</td>\n",
              "      <td>Devaney. Miss. Margaret Delia</td>\n",
              "      <td>1</td>\n",
              "      <td>19.0</td>\n",
              "      <td>0</td>\n",
              "      <td>0</td>\n",
              "      <td>330958</td>\n",
              "      <td>7.8792</td>\n",
              "      <td>NaN</td>\n",
              "      <td>Q</td>\n",
              "      <td>C</td>\n",
              "      <td>NaN</td>\n",
              "      <td>Kilmacowen. Co Sligo. Ireland New York. NY</td>\n",
              "      <td>0</td>\n",
              "      <td>0</td>\n",
              "      <td>1</td>\n",
              "      <td>0</td>\n",
              "    </tr>\n",
              "  </tbody>\n",
              "</table>\n",
              "</div>"
            ],
            "text/plain": [
              "      pclass  survived  ... Young  Older\n",
              "226        1         0  ...     1      0\n",
              "1212       3         0  ...     0      0\n",
              "468        2         0  ...     1      0\n",
              "1058       3         0  ...     1      0\n",
              "771        3         1  ...     1      0\n",
              "\n",
              "[5 rows x 18 columns]"
            ]
          },
          "metadata": {
            "tags": []
          },
          "execution_count": 14
        }
      ]
    },
    {
      "cell_type": "markdown",
      "metadata": {
        "id": "4RBmLpvYYJFb",
        "colab_type": "text"
      },
      "source": [
        "\n",
        "\n",
        "## Prediciendo con la variable Fare"
      ]
    },
    {
      "cell_type": "code",
      "metadata": {
        "id": "GDfizraxYJFc",
        "colab_type": "code",
        "colab": {
          "base_uri": "https://localhost:8080/",
          "height": 417
        },
        "outputId": "6eca9601-edc6-4bf0-efa6-5ad46814f53b"
      },
      "source": [
        "fig7, axs7 = plt.subplots(1,2)\n",
        "\n",
        "train['fare'].plot.hist(ax=axs7[0], figsize=(12, 6), fontsize=16)\n",
        "survived['fare'].plot.hist(ax=axs7[1], fontsize=16)\n",
        "\n",
        "axs7[0].set_title(\"People on the Titanic\", fontsize=20)\n",
        "axs7[1].set_title(\"People who survived\", fontsize=20)"
      ],
      "execution_count": 15,
      "outputs": [
        {
          "output_type": "execute_result",
          "data": {
            "text/plain": [
              "Text(0.5, 1.0, 'People who survived')"
            ]
          },
          "metadata": {
            "tags": []
          },
          "execution_count": 15
        },
        {
          "output_type": "display_data",
          "data": {
            "image/png": "[encoded data removed]",
            "text/plain": [
              "<Figure size 864x432 with 2 Axes>"
            ]
          },
          "metadata": {
            "tags": [],
            "needs_background": "light"
          }
        }
      ]
    },
    {
      "cell_type": "code",
      "metadata": {
        "id": "kzOcMS5nYJFf",
        "colab_type": "code",
        "colab": {}
      },
      "source": [
        "from sklearn.naive_bayes import GaussianNB, BernoulliNB, MultinomialNB"
      ],
      "execution_count": 16,
      "outputs": []
    },
    {
      "cell_type": "code",
      "metadata": {
        "id": "TLoQ9u7gYJFi",
        "colab_type": "code",
        "colab": {}
      },
      "source": [
        "gnb = GaussianNB()\n",
        "\n",
        "used_features = ['fare']\n",
        "\n",
        "y_pred = gnb.fit(train[used_features], train[\"survived\"])\n",
        "\n",
        "y_pred = gnb.predict(test[used_features])"
      ],
      "execution_count": 17,
      "outputs": []
    },
    {
      "cell_type": "markdown",
      "metadata": {
        "id": "0bHJlAnoYJFk",
        "colab_type": "text"
      },
      "source": [
        "\n",
        "\n",
        "Accuracy"
      ]
    },
    {
      "cell_type": "code",
      "metadata": {
        "id": "z5vWJ3ERYJFk",
        "colab_type": "code",
        "colab": {
          "base_uri": "https://localhost:8080/",
          "height": 34
        },
        "outputId": "79658f3b-7199-4bcc-c6b9-ba786112f595"
      },
      "source": [
        "from sklearn.metrics import accuracy_score, confusion_matrix\n",
        "\n",
        "acc = accuracy_score(test[\"survived\"], y_pred)\n",
        "acc"
      ],
      "execution_count": 18,
      "outputs": [
        {
          "output_type": "execute_result",
          "data": {
            "text/plain": [
              "0.6345565749235474"
            ]
          },
          "metadata": {
            "tags": []
          },
          "execution_count": 18
        }
      ]
    },
    {
      "cell_type": "code",
      "metadata": {
        "id": "5VHOa4CZYJFm",
        "colab_type": "code",
        "colab": {
          "base_uri": "https://localhost:8080/",
          "height": 51
        },
        "outputId": "6d2e3e5f-eb73-44f9-f973-a7de7ccd2d70"
      },
      "source": [
        "print(confusion_matrix(test[\"survived\"], y_pred))"
      ],
      "execution_count": 19,
      "outputs": [
        {
          "output_type": "stream",
          "text": [
            "[[375  11]\n",
            " [228  40]]\n"
          ],
          "name": "stdout"
        }
      ]
    },
    {
      "cell_type": "markdown",
      "metadata": {
        "id": "tfBzkYrnYJFo",
        "colab_type": "text"
      },
      "source": [
        "\n",
        "\n",
        "## Prediciendo con la variable Age"
      ]
    },
    {
      "cell_type": "code",
      "metadata": {
        "id": "O08pvfs2YJFo",
        "colab_type": "code",
        "colab": {
          "base_uri": "https://localhost:8080/",
          "height": 417
        },
        "outputId": "dc6cb20a-0805-4a5c-e61d-d631d9e873ff"
      },
      "source": [
        "fig3, axs3 = plt.subplots(1,2)\n",
        "\n",
        "train['age'].plot.hist(ax=axs3[0], figsize=(12, 6), fontsize=16)\n",
        "survived['age'].plot.hist(ax=axs3[1], fontsize=16)\n",
        "\n",
        "axs3[0].set_title(\"People on the Titanic\", fontsize=20)\n",
        "axs3[1].set_title(\"People who survived\", fontsize=20)"
      ],
      "execution_count": 20,
      "outputs": [
        {
          "output_type": "execute_result",
          "data": {
            "text/plain": [
              "Text(0.5, 1.0, 'People who survived')"
            ]
          },
          "metadata": {
            "tags": []
          },
          "execution_count": 20
        },
        {
          "output_type": "display_data",
          "data": {
            "image/png": "[encoded data removed]",
            "text/plain": [
              "<Figure size 864x432 with 2 Axes>"
            ]
          },
          "metadata": {
            "tags": [],
            "needs_background": "light"
          }
        }
      ]
    },
    {
      "cell_type": "code",
      "metadata": {
        "id": "Awvjm1-XYJFs",
        "colab_type": "code",
        "colab": {}
      },
      "source": [
        "used_features = [\"Child\",\"Young\",\"Older\",\"MYoung\"]"
      ],
      "execution_count": 21,
      "outputs": []
    },
    {
      "cell_type": "code",
      "metadata": {
        "id": "FjpdDV4GYJFu",
        "colab_type": "code",
        "colab": {
          "base_uri": "https://localhost:8080/",
          "height": 34
        },
        "outputId": "a64f5d6b-ad08-439a-e683-44904d522078"
      },
      "source": [
        "gnb = BernoulliNB()\n",
        "\n",
        "y_pred = gnb.fit(train[used_features], train[\"survived\"])\n",
        "\n",
        "y_pred = gnb.predict(test[used_features])\n",
        "\n",
        "acc = accuracy_score(test[\"survived\"], y_pred)\n",
        "acc"
      ],
      "execution_count": 22,
      "outputs": [
        {
          "output_type": "execute_result",
          "data": {
            "text/plain": [
              "0.6039755351681957"
            ]
          },
          "metadata": {
            "tags": []
          },
          "execution_count": 22
        }
      ]
    },
    {
      "cell_type": "code",
      "metadata": {
        "id": "I73Y-KyjYJFw",
        "colab_type": "code",
        "colab": {
          "base_uri": "https://localhost:8080/",
          "height": 51
        },
        "outputId": "78eb1054-2c44-435f-c885-d54ee0d7a8d9"
      },
      "source": [
        "print(confusion_matrix(test[\"survived\"], y_pred))"
      ],
      "execution_count": 23,
      "outputs": [
        {
          "output_type": "stream",
          "text": [
            "[[369  17]\n",
            " [242  26]]\n"
          ],
          "name": "stdout"
        }
      ]
    },
    {
      "cell_type": "markdown",
      "metadata": {
        "id": "9NY1tAs2YJFx",
        "colab_type": "text"
      },
      "source": [
        "\n",
        "\n",
        "## Prediciendo con la variable Sex"
      ]
    },
    {
      "cell_type": "code",
      "metadata": {
        "id": "kvW4o7qDYJFx",
        "colab_type": "code",
        "colab": {
          "base_uri": "https://localhost:8080/",
          "height": 412
        },
        "outputId": "3e13aa8f-29d1-42b4-8265-0307614d4ae2"
      },
      "source": [
        "fig2, axs2 = plt.subplots(1,2)\n",
        "\n",
        "train['sex'].value_counts().sort_index().plot.bar(ax=axs2[0], figsize=(12, 6), fontsize=16)\n",
        "survived['sex'].value_counts().sort_index().plot.bar(ax=axs2[1], fontsize=16)\n",
        "\n",
        "axs2[0].set_title(\"People on the Titanic\", fontsize=20)\n",
        "axs2[1].set_title(\"People who survived\", fontsize=20)\n"
      ],
      "execution_count": 24,
      "outputs": [
        {
          "output_type": "execute_result",
          "data": {
            "text/plain": [
              "Text(0.5, 1.0, 'People who survived')"
            ]
          },
          "metadata": {
            "tags": []
          },
          "execution_count": 24
        },
        {
          "output_type": "display_data",
          "data": {
            "image/png": "[encoded data removed]",
            "text/plain": [
              "<Figure size 864x432 with 2 Axes>"
            ]
          },
          "metadata": {
            "tags": [],
            "needs_background": "light"
          }
        }
      ]
    },
    {
      "cell_type": "code",
      "metadata": {
        "id": "Lc8c6fsqYJFz",
        "colab_type": "code",
        "colab": {
          "base_uri": "https://localhost:8080/",
          "height": 34
        },
        "outputId": "217abe9d-01a8-4429-e0d3-03f4745e3948"
      },
      "source": [
        "used_features = [\"sex\"]\n",
        "\n",
        "gnb = BernoulliNB()\n",
        "\n",
        "y_pred = gnb.fit(train[used_features], train[\"survived\"])\n",
        "\n",
        "y_pred = gnb.predict(test[used_features])\n",
        "\n",
        "acc = accuracy_score(test[\"survived\"], y_pred)\n",
        "acc\n"
      ],
      "execution_count": 25,
      "outputs": [
        {
          "output_type": "execute_result",
          "data": {
            "text/plain": [
              "0.7737003058103975"
            ]
          },
          "metadata": {
            "tags": []
          },
          "execution_count": 25
        }
      ]
    },
    {
      "cell_type": "code",
      "metadata": {
        "id": "lHyt6kZ_YJF1",
        "colab_type": "code",
        "colab": {
          "base_uri": "https://localhost:8080/",
          "height": 51
        },
        "outputId": "82315e46-0dab-49c4-ad62-a88154abcf9c"
      },
      "source": [
        "print(confusion_matrix(test[\"survived\"], y_pred))"
      ],
      "execution_count": 26,
      "outputs": [
        {
          "output_type": "stream",
          "text": [
            "[[323  63]\n",
            " [ 85 183]]\n"
          ],
          "name": "stdout"
        }
      ]
    },
    {
      "cell_type": "markdown",
      "metadata": {
        "id": "4FLwQbXSYJF2",
        "colab_type": "text"
      },
      "source": [
        "\n",
        "\n",
        "## Notas\n",
        "\n",
        "- Remover las variables correlacionadas puede mejorar el modelo\n",
        "- Laplace Correction: si una variable categórica (en los datos de test), tiene una categoría no observada en los datos de entrenamiento, el modelo le asignará una probabilidad de 0, y no podrá hacer una predicción. A esto se le llama *Zero Frequency*. Para remediarlo podemos usar una técnica llamada estimación de Laplace. "
      ]
    },
    {
      "cell_type": "code",
      "metadata": {
        "id": "UkPLK0aeIGxs",
        "colab_type": "code",
        "colab": {}
      },
      "source": [
        ""
      ],
      "execution_count": 26,
      "outputs": []
    },
    {
      "cell_type": "markdown",
      "metadata": {
        "id": "iADO1EtvYJF2",
        "colab_type": "text"
      },
      "source": [
        "\n",
        "\n",
        "# Naive Bayes casos prácticos\n",
        "\n",
        "Veamos algunos ejemplos aplicando el teorema de Bayes"
      ]
    },
    {
      "cell_type": "markdown",
      "metadata": {
        "id": "udTYH0-5YJF3",
        "colab_type": "text"
      },
      "source": [
        "\n",
        "\n",
        "<center><img src=\"https://www.saedsayad.com/images/Bayes_rule.png\"></center>"
      ]
    },
    {
      "cell_type": "markdown",
      "metadata": {
        "id": "aIOK1VKhYJF3",
        "colab_type": "text"
      },
      "source": [
        "\n",
        "\n",
        "Supongamos unos datos como los de la imagen inferior, en la que tenemos las condiciones metereológicas (Weather) y la variable a predecir (Play) que representa el que un equipo salga a jugar o no."
      ]
    },
    {
      "cell_type": "markdown",
      "metadata": {
        "id": "O6tH6DDfYJF3",
        "colab_type": "text"
      },
      "source": [
        "\n",
        "\n",
        "<center><img src=\"https://www.saedsayad.com/images/naive_bayes_data.png\"></center>"
      ]
    },
    {
      "cell_type": "markdown",
      "metadata": {
        "id": "1DqtXD4RYJF4",
        "colab_type": "text"
      },
      "source": [
        "\n",
        "\n",
        "El primer caso consiste en convertir los datos anteriores a una tabla de frecuencia y luego creamos las tablas de likelihood, donde tenemos las probabilidades de cada weather y de Play (Yes/No)"
      ]
    },
    {
      "cell_type": "markdown",
      "metadata": {
        "id": "m2fCXlWzYJF7",
        "colab_type": "text"
      },
      "source": [
        "\n",
        "\n",
        "Mediante estas tablas y  Naive Bayes podemos calcular la probabilidad por ejemplo de si se **jugará (Play=YES) si el tiempo es Sunny**. En nuestro caso, quedaría así la ecuación planteda inicialmente:\n",
        "\n",
        "\n",
        "                             P(Yes | Sunny) = P( Sunny | Yes) * P(Yes) / P (Sunny)\n",
        "                                                        \n",
        "                                                        \n",
        "Donde tenemos, de las tablas anteriores:\n",
        "\n",
        "                                         P (Sunny |Yes) = 3/9 = 0.33\n",
        "                                         P(Sunny) = 5/14 = 0.36\n",
        "                                         P(Yes)= 9/14 = 0.64\n",
        "\n",
        "Lo que nos queda sustituyendo:\n",
        "                                                                 \n",
        "                                 P (Yes | Sunny) = 0.33 * 0.64 / 0.36 = 0.60\n",
        "                                                                 \n"
      ]
    },
    {
      "cell_type": "markdown",
      "metadata": {
        "id": "HEJgX61tYJF4",
        "colab_type": "text"
      },
      "source": [
        "\n",
        "\n",
        "<center><img src=\"https://www.saedsayad.com/images/Bayes_3.png\"></center>"
      ]
    },
    {
      "cell_type": "markdown",
      "metadata": {
        "id": "0PkvQB57YJF7",
        "colab_type": "text"
      },
      "source": [
        "\n",
        "\n",
        "# Ejercicio \n",
        "\n",
        "El teorema de Naive Bayes se encuentra implementado en scikit-learn:"
      ]
    },
    {
      "cell_type": "code",
      "metadata": {
        "id": "92sGYNtLYJF8",
        "colab_type": "code",
        "colab": {}
      },
      "source": [
        "from sklearn.naive_bayes import GaussianNB, MultinomialNB, BernoulliNB"
      ],
      "execution_count": 27,
      "outputs": []
    },
    {
      "cell_type": "markdown",
      "metadata": {
        "id": "9DVroznjYJGA",
        "colab_type": "text"
      },
      "source": [
        "\n",
        "\n",
        "Con lo que se puede podemos construir un clasificador de correo ham/spam que obtiene buenos resultados.\n",
        "\n",
        "Dado el dataset 'data/spam.csv', construya un clasificador de correo con el que predecir si el correo es ham o spam.\n",
        "\n",
        "\n",
        "Nota: La estructura inicial del dataset consiste en el contenido del correo y una etiqueta que lo identifica como ham/spam. Es necesario transformar el contenido del correo en variables numéricas que representen la frecuencia de aparición de cada término en el dataset.\n",
        "\n",
        "Esta transformación se puede realizar mediante el siguiente código:"
      ]
    },
    {
      "cell_type": "markdown",
      "metadata": {
        "id": "KUhQykZrYJGA",
        "colab_type": "text"
      },
      "source": [
        "\n",
        "\n",
        "Dividimos el conjunto de datos iniciales en train y test, con 10% de test"
      ]
    },
    {
      "cell_type": "code",
      "metadata": {
        "id": "fSemm1MpYJGA",
        "colab_type": "code",
        "colab": {}
      },
      "source": [
        "# Respuesta aqui"
      ],
      "execution_count": 28,
      "outputs": []
    },
    {
      "cell_type": "markdown",
      "metadata": {
        "id": "-uksm-zwYJGC",
        "colab_type": "text"
      },
      "source": [
        "\n",
        "\n",
        "convertimos la estructura de texto en términos de frecuencia  de cada término"
      ]
    },
    {
      "cell_type": "code",
      "metadata": {
        "id": "rsk6xkvIYJGC",
        "colab_type": "code",
        "colab": {}
      },
      "source": [
        "# Respuesta aqui"
      ],
      "execution_count": 29,
      "outputs": []
    },
    {
      "cell_type": "markdown",
      "metadata": {
        "id": "BzNZYyZQYJGD",
        "colab_type": "text"
      },
      "source": [
        "\n",
        "\n",
        "seleccionamos aquellos términos más frecuentes"
      ]
    },
    {
      "cell_type": "code",
      "metadata": {
        "id": "X8uJiqknYJGE",
        "colab_type": "code",
        "colab": {}
      },
      "source": [
        "# Respuesta aqui"
      ],
      "execution_count": 30,
      "outputs": []
    },
    {
      "cell_type": "markdown",
      "metadata": {
        "id": "AzMiWumNYJGG",
        "colab_type": "text"
      },
      "source": [
        "\n",
        "\n",
        "- a. Construya un clasificador con sklearn usando las distintas opciones (GaussianNB, MultinomialNB, BernoulliNB) y evalúe el resultado mediante la accuracy y la matriz de confusión:\n",
        "\n",
        "from sklearn.metrics import accuracy_score, confusion_matrix\n"
      ]
    },
    {
      "cell_type": "code",
      "metadata": {
        "id": "PY7Jfem2YJGH",
        "colab_type": "code",
        "colab": {}
      },
      "source": [
        "# Respuesta aqui"
      ],
      "execution_count": 31,
      "outputs": []
    },
    {
      "cell_type": "code",
      "metadata": {
        "id": "jhQiOePqYJGI",
        "colab_type": "code",
        "colab": {}
      },
      "source": [
        "# Respuesta aqui"
      ],
      "execution_count": 32,
      "outputs": []
    },
    {
      "cell_type": "code",
      "metadata": {
        "id": "rzDPi-9FYJGK",
        "colab_type": "code",
        "colab": {}
      },
      "source": [
        "# Respuesta aqui"
      ],
      "execution_count": 33,
      "outputs": []
    }
  ]
}