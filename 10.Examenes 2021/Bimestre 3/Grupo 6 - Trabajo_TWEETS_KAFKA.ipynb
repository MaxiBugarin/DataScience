{
 "cells": [
  {
   "cell_type": "markdown",
   "metadata": {
    "id": "ypi-L0TV6xvL"
   },
   "source": [
    "# LIMPIEZA Y TRANSFORMACIÓN DE DATOS (PYTHON) - Extracción de Tweets utilizando Apache Kafka\n",
    "\n",
    "**Contenido:** \n",
    "\n",
    "* Presentación\n",
    "* Carga de datos \n",
    "* Limpieza de datos: \n",
    "  * Interpretación\n",
    "  * Limpieza\n",
    "* Transformación de datos: \n",
    "  * Análisis columna por columna\n",
    "  * Transformación\n",
    "\n"
   ]
  },
  {
   "cell_type": "markdown",
   "metadata": {
    "id": "MskfIVXY7Mhg"
   },
   "source": [
    "## **PRESENTACIÓN**\n",
    "\n",
    "Presentamos el notebook y la metodología de trabajo para este segmento del proyecto. "
   ]
  },
  {
   "cell_type": "markdown",
   "metadata": {
    "id": "jvJ3FlUW7Y99"
   },
   "source": [
    "* **Limpieza de Datos**\n",
    "\n",
    "A continuación, se realizarán las tareas de carga, limpieza y transformación de un dataset: **tweets_kafka**.\n",
    "\n",
    "* **Fuente de los datos**\n",
    "\n",
    "El dataset se extraerá directamente de MongoDB para ser transformado.\n",
    "\n",
    "* **Contenido**\n",
    "\n",
    "El dataset contiene tweets extraídos utilizando Apache Kafka y almacenados en MongoDB. Los mismos fueron filtrados con etiquetas de búsqueda que referencian por igual al [Club Atlético River Plate](https://es.wikipedia.org/wiki/Club_Atl%C3%A9tico_River_Plate). Se podría decir entonces que el dataset contiene tweets sobre River Plate. \n",
    "\n",
    "\n",
    "* **¿Qué es Apache Kafka?** \n",
    "\n",
    "Apache Kafka es un proyecto de intermediación de mensajes de código abierto que proyecto tiene como objetivo proporcionar una **plataforma unificada, de alto rendimiento y de baja latencia para la manipulación en tiempo real de fuentes de datos.** Puede verse como una cola de mensajes, bajo el patrón publicación-suscripción, masivamente escalable concebida como un registro de transacciones distribuidas,​ lo que la vuelve atractiva para las infraestructuras de aplicaciones empresariales. ([Fuente](https://www.apache.org/))\n",
    "\n",
    "* **¿Qué es MongoDB?** \n",
    "\n",
    "MongoDB (del inglés humongous, \"enorme\") es un sistema de base de datos NoSQL, orientado a documentos y de código abierto. ([Fuente](https://www.mongodb.com/cloud/atlas/lp/try2?utm_content=controlhterms&utm_source=google&utm_campaign=gs_americas_argentina_search_core_brand_atlas_desktop&utm_term=mongodb&utm_medium=cpc_paid_search&utm_ad=e&utm_ad_campaign_id=12212624305&gclid=CjwKCAjwqeWKBhBFEiwABo_XBtOQ2daSYa3Pfxt0H1kkcajjfWvcH-nLhL9QQMNtaEsRLVCFl_TE2RoCOmgQAvD_BwE))\n",
    "\n",
    "* **Objetivo**\n",
    "El objetivo del siguiente proyecto será realizar las tareas de acondicionamiento del dataset, a la vez que se plasma el desarrollo, segmento por segmento y de la forma más clara y concisa posible.\n",
    "\n",
    "Esto lo haremos: \n",
    "  * **Desde el punto de vista técnico y práctico:** Utilizando herramientas y librerías de explotación de datos importados directamente a Python.\n",
    "\n",
    "  * **Desde el punto de vista expositivo:** Complementando las celdas de código con celdas de texto y comentarios a lo largo  todo el proceso, además de realizar la adecuada división en segmentos del notebook, para mejor seguimiento de la metodología de trabajo. \n",
    "\n",
    "* **¿Por qué limpiamos los datos?**\n",
    "\n",
    "El sentido de este notebook es exhibir la importancia de un buen proceso de limpieza de los datos, los cuales muchas veces llegan al analista con lo que se conoce como \"ruido\" y espacios en blanco. Un buen proceso de limpieza y transformación es sinónimo de un buen proceso de análisis y visualización posterior."
   ]
  },
  {
   "cell_type": "markdown",
   "metadata": {
    "id": "EJu8_LZZ7tqI"
   },
   "source": [
    "## **CARGA DE DATOS**\n",
    "\n",
    "Extraemos los datos e importamos las librerías a utilizar."
   ]
  },
  {
   "cell_type": "code",
   "execution_count": 3,
   "metadata": {
    "id": "uQZgoUl93YjA"
   },
   "outputs": [],
   "source": [
    "import os\n",
    "import pandas as pd\n",
    "import numpy as np\n",
    "import matplotlib.pyplot as plt\n",
    "from IPython.core.display import display, HTML\n",
    "import pymongo\n",
    "from pymongo import MongoClient\n",
    "import urllib.parse\n",
    "import seaborn as sns\n",
    "import plotly.express as px\n",
    "sns.set_style('darkgrid')\n",
    "sns.set(rc={'axes.facecolor':'darkgray', 'figure.facecolor':'lightgrey'})\n",
    "a4_dims = (11.7, 8.27)\n",
    "fig, ax = plt.subplots(figsize=a4_dims)\n",
    "%matplotlib inline"
   ]
  },
  {
   "cell_type": "code",
   "execution_count": 4,
   "metadata": {
    "id": "XhprprSa5GIy"
   },
   "outputs": [
    {
     "data": {
      "text/plain": [
       "['admin', 'config', 'local', 'twitter']"
      ]
     },
     "execution_count": 4,
     "metadata": {},
     "output_type": "execute_result"
    }
   ],
   "source": [
    "client = MongoClient()\n",
    "client.list_database_names()"
   ]
  },
  {
   "cell_type": "markdown",
   "metadata": {
    "id": "dBZEQuFr7w-J"
   },
   "source": [
    "* data: DataFrame que contiene los tweets extraídos con Kafka. \n"
   ]
  },
  {
   "cell_type": "code",
   "execution_count": 5,
   "metadata": {},
   "outputs": [],
   "source": [
    "db = client.twitter\n",
    "collection = db.data\n",
    "df = pd.DataFrame(list(collection.find()))"
   ]
  },
  {
   "cell_type": "code",
   "execution_count": 6,
   "metadata": {},
   "outputs": [
    {
     "data": {
      "text/html": [
       "<div>\n",
       "<style scoped>\n",
       "    .dataframe tbody tr th:only-of-type {\n",
       "        vertical-align: middle;\n",
       "    }\n",
       "\n",
       "    .dataframe tbody tr th {\n",
       "        vertical-align: top;\n",
       "    }\n",
       "\n",
       "    .dataframe thead th {\n",
       "        text-align: right;\n",
       "    }\n",
       "</style>\n",
       "<table border=\"1\" class=\"dataframe\">\n",
       "  <thead>\n",
       "    <tr style=\"text-align: right;\">\n",
       "      <th></th>\n",
       "      <th>_id</th>\n",
       "      <th>created_at</th>\n",
       "      <th>id</th>\n",
       "      <th>id_str</th>\n",
       "      <th>text</th>\n",
       "      <th>source</th>\n",
       "      <th>truncated</th>\n",
       "      <th>in_reply_to_status_id</th>\n",
       "      <th>in_reply_to_status_id_str</th>\n",
       "      <th>in_reply_to_user_id</th>\n",
       "      <th>...</th>\n",
       "      <th>filter_level</th>\n",
       "      <th>lang</th>\n",
       "      <th>timestamp_ms</th>\n",
       "      <th>display_text_range</th>\n",
       "      <th>extended_tweet</th>\n",
       "      <th>quoted_status_id</th>\n",
       "      <th>quoted_status_id_str</th>\n",
       "      <th>quoted_status</th>\n",
       "      <th>quoted_status_permalink</th>\n",
       "      <th>limit</th>\n",
       "    </tr>\n",
       "  </thead>\n",
       "  <tbody>\n",
       "    <tr>\n",
       "      <th>0</th>\n",
       "      <td>615a051dcf12a556631ae0db</td>\n",
       "      <td>Sun Oct 03 19:31:35 +0000 2021</td>\n",
       "      <td>1.444747e+18</td>\n",
       "      <td>1444746975358955522</td>\n",
       "      <td>RT @RiverLPM: ¿Desde dónde vas a alentar a Riv...</td>\n",
       "      <td>&lt;a href=\"http://twitter.com/download/android\" ...</td>\n",
       "      <td>False</td>\n",
       "      <td>NaN</td>\n",
       "      <td>None</td>\n",
       "      <td>NaN</td>\n",
       "      <td>...</td>\n",
       "      <td>low</td>\n",
       "      <td>es</td>\n",
       "      <td>1633289495683</td>\n",
       "      <td>NaN</td>\n",
       "      <td>NaN</td>\n",
       "      <td>NaN</td>\n",
       "      <td>NaN</td>\n",
       "      <td>NaN</td>\n",
       "      <td>NaN</td>\n",
       "      <td>NaN</td>\n",
       "    </tr>\n",
       "    <tr>\n",
       "      <th>1</th>\n",
       "      <td>615a051dcf12a556631ae0dc</td>\n",
       "      <td>Sun Oct 03 19:31:36 +0000 2021</td>\n",
       "      <td>1.444747e+18</td>\n",
       "      <td>1444746976692736020</td>\n",
       "      <td>RT @RinconDeBoca: El que no salta murió en Mad...</td>\n",
       "      <td>&lt;a href=\"http://twitter.com/download/android\" ...</td>\n",
       "      <td>False</td>\n",
       "      <td>NaN</td>\n",
       "      <td>None</td>\n",
       "      <td>NaN</td>\n",
       "      <td>...</td>\n",
       "      <td>low</td>\n",
       "      <td>es</td>\n",
       "      <td>1633289496001</td>\n",
       "      <td>NaN</td>\n",
       "      <td>NaN</td>\n",
       "      <td>NaN</td>\n",
       "      <td>NaN</td>\n",
       "      <td>NaN</td>\n",
       "      <td>NaN</td>\n",
       "      <td>NaN</td>\n",
       "    </tr>\n",
       "    <tr>\n",
       "      <th>2</th>\n",
       "      <td>615a051dcf12a556631ae0dd</td>\n",
       "      <td>Sun Oct 03 19:31:36 +0000 2021</td>\n",
       "      <td>1.444747e+18</td>\n",
       "      <td>1444746978982776833</td>\n",
       "      <td>RT @abertini1: Bueno gente, como dice la canci...</td>\n",
       "      <td>&lt;a href=\"http://twitter.com/download/android\" ...</td>\n",
       "      <td>False</td>\n",
       "      <td>NaN</td>\n",
       "      <td>None</td>\n",
       "      <td>NaN</td>\n",
       "      <td>...</td>\n",
       "      <td>low</td>\n",
       "      <td>es</td>\n",
       "      <td>1633289496547</td>\n",
       "      <td>NaN</td>\n",
       "      <td>NaN</td>\n",
       "      <td>NaN</td>\n",
       "      <td>NaN</td>\n",
       "      <td>NaN</td>\n",
       "      <td>NaN</td>\n",
       "      <td>NaN</td>\n",
       "    </tr>\n",
       "    <tr>\n",
       "      <th>3</th>\n",
       "      <td>615a051ecf12a556631ae0de</td>\n",
       "      <td>Sun Oct 03 19:31:36 +0000 2021</td>\n",
       "      <td>1.444747e+18</td>\n",
       "      <td>1444746979750383620</td>\n",
       "      <td>RT @frabigol: Nose si le quedo claro a Vignolo...</td>\n",
       "      <td>&lt;a href=\"http://twitter.com/download/iphone\" r...</td>\n",
       "      <td>False</td>\n",
       "      <td>NaN</td>\n",
       "      <td>None</td>\n",
       "      <td>NaN</td>\n",
       "      <td>...</td>\n",
       "      <td>low</td>\n",
       "      <td>es</td>\n",
       "      <td>1633289496730</td>\n",
       "      <td>NaN</td>\n",
       "      <td>NaN</td>\n",
       "      <td>NaN</td>\n",
       "      <td>NaN</td>\n",
       "      <td>NaN</td>\n",
       "      <td>NaN</td>\n",
       "      <td>NaN</td>\n",
       "    </tr>\n",
       "    <tr>\n",
       "      <th>4</th>\n",
       "      <td>615a051ecf12a556631ae0df</td>\n",
       "      <td>Sun Oct 03 19:31:36 +0000 2021</td>\n",
       "      <td>1.444747e+18</td>\n",
       "      <td>1444746979720978437</td>\n",
       "      <td>#CopaOFI A los 19’ Manolo Gómez pone el 1-0 de...</td>\n",
       "      <td>&lt;a href=\"http://twitter.com/download/iphone\" r...</td>\n",
       "      <td>False</td>\n",
       "      <td>NaN</td>\n",
       "      <td>None</td>\n",
       "      <td>NaN</td>\n",
       "      <td>...</td>\n",
       "      <td>low</td>\n",
       "      <td>es</td>\n",
       "      <td>1633289496723</td>\n",
       "      <td>[0, 86]</td>\n",
       "      <td>NaN</td>\n",
       "      <td>NaN</td>\n",
       "      <td>NaN</td>\n",
       "      <td>NaN</td>\n",
       "      <td>NaN</td>\n",
       "      <td>NaN</td>\n",
       "    </tr>\n",
       "    <tr>\n",
       "      <th>...</th>\n",
       "      <td>...</td>\n",
       "      <td>...</td>\n",
       "      <td>...</td>\n",
       "      <td>...</td>\n",
       "      <td>...</td>\n",
       "      <td>...</td>\n",
       "      <td>...</td>\n",
       "      <td>...</td>\n",
       "      <td>...</td>\n",
       "      <td>...</td>\n",
       "      <td>...</td>\n",
       "      <td>...</td>\n",
       "      <td>...</td>\n",
       "      <td>...</td>\n",
       "      <td>...</td>\n",
       "      <td>...</td>\n",
       "      <td>...</td>\n",
       "      <td>...</td>\n",
       "      <td>...</td>\n",
       "      <td>...</td>\n",
       "      <td>...</td>\n",
       "    </tr>\n",
       "    <tr>\n",
       "      <th>93709</th>\n",
       "      <td>615a2dd9cf12a556631c4ee8</td>\n",
       "      <td>Sun Oct 03 22:25:23 +0000 2021</td>\n",
       "      <td>1.444791e+18</td>\n",
       "      <td>1444790713628176385</td>\n",
       "      <td>RT @guadavazquez: Y el aforo? Y el barbijo? Y ...</td>\n",
       "      <td>&lt;a href=\"https://mobile.twitter.com\" rel=\"nofo...</td>\n",
       "      <td>False</td>\n",
       "      <td>NaN</td>\n",
       "      <td>None</td>\n",
       "      <td>NaN</td>\n",
       "      <td>...</td>\n",
       "      <td>low</td>\n",
       "      <td>es</td>\n",
       "      <td>1633299923699</td>\n",
       "      <td>NaN</td>\n",
       "      <td>NaN</td>\n",
       "      <td>1.444739e+18</td>\n",
       "      <td>1444739303125491715</td>\n",
       "      <td>{'created_at': 'Sun Oct 03 19:01:06 +0000 2021...</td>\n",
       "      <td>{'url': 'https://t.co/yedqylPaJ2', 'expanded':...</td>\n",
       "      <td>NaN</td>\n",
       "    </tr>\n",
       "    <tr>\n",
       "      <th>93710</th>\n",
       "      <td>615a2dd9cf12a556631c4ee9</td>\n",
       "      <td>Sun Oct 03 22:25:24 +0000 2021</td>\n",
       "      <td>1.444791e+18</td>\n",
       "      <td>1444790715104612354</td>\n",
       "      <td>Nunca vi un bostero con tanta leche en el culo 🤣🤣</td>\n",
       "      <td>&lt;a href=\"http://twitter.com/download/android\" ...</td>\n",
       "      <td>False</td>\n",
       "      <td>NaN</td>\n",
       "      <td>None</td>\n",
       "      <td>NaN</td>\n",
       "      <td>...</td>\n",
       "      <td>low</td>\n",
       "      <td>es</td>\n",
       "      <td>1633299924051</td>\n",
       "      <td>NaN</td>\n",
       "      <td>NaN</td>\n",
       "      <td>1.444784e+18</td>\n",
       "      <td>1444784151022944265</td>\n",
       "      <td>{'created_at': 'Sun Oct 03 21:59:19 +0000 2021...</td>\n",
       "      <td>{'url': 'https://t.co/4hY0SBXNyE', 'expanded':...</td>\n",
       "      <td>NaN</td>\n",
       "    </tr>\n",
       "    <tr>\n",
       "      <th>93711</th>\n",
       "      <td>615a2dd9cf12a556631c4eea</td>\n",
       "      <td>Sun Oct 03 22:25:23 +0000 2021</td>\n",
       "      <td>1.444791e+18</td>\n",
       "      <td>1444790712646709253</td>\n",
       "      <td>@Chompiras05 Tengo 10 amigos de boca que me ac...</td>\n",
       "      <td>&lt;a href=\"https://mobile.twitter.com\" rel=\"nofo...</td>\n",
       "      <td>True</td>\n",
       "      <td>1.444790e+18</td>\n",
       "      <td>1444790121866354688</td>\n",
       "      <td>1.439236e+18</td>\n",
       "      <td>...</td>\n",
       "      <td>low</td>\n",
       "      <td>es</td>\n",
       "      <td>1633299923465</td>\n",
       "      <td>[13, 140]</td>\n",
       "      <td>{'full_text': '@Chompiras05 Tengo 10 amigos de...</td>\n",
       "      <td>NaN</td>\n",
       "      <td>NaN</td>\n",
       "      <td>NaN</td>\n",
       "      <td>NaN</td>\n",
       "      <td>NaN</td>\n",
       "    </tr>\n",
       "    <tr>\n",
       "      <th>93712</th>\n",
       "      <td>615a2dd9cf12a556631c4eeb</td>\n",
       "      <td>Sun Oct 03 22:25:23 +0000 2021</td>\n",
       "      <td>1.444791e+18</td>\n",
       "      <td>1444790713103929348</td>\n",
       "      <td>RT @DamianAvillagra: Boca le ganó 1 de loa últ...</td>\n",
       "      <td>&lt;a href=\"https://mobile.twitter.com\" rel=\"nofo...</td>\n",
       "      <td>False</td>\n",
       "      <td>NaN</td>\n",
       "      <td>None</td>\n",
       "      <td>NaN</td>\n",
       "      <td>...</td>\n",
       "      <td>low</td>\n",
       "      <td>es</td>\n",
       "      <td>1633299923574</td>\n",
       "      <td>NaN</td>\n",
       "      <td>NaN</td>\n",
       "      <td>NaN</td>\n",
       "      <td>NaN</td>\n",
       "      <td>NaN</td>\n",
       "      <td>NaN</td>\n",
       "      <td>NaN</td>\n",
       "    </tr>\n",
       "    <tr>\n",
       "      <th>93713</th>\n",
       "      <td>615a2dd9cf12a556631c4eec</td>\n",
       "      <td>Sun Oct 03 22:25:24 +0000 2021</td>\n",
       "      <td>1.444791e+18</td>\n",
       "      <td>1444790715750535173</td>\n",
       "      <td>Gallardo es de River de River no se va</td>\n",
       "      <td>&lt;a href=\"https://mobile.twitter.com\" rel=\"nofo...</td>\n",
       "      <td>False</td>\n",
       "      <td>NaN</td>\n",
       "      <td>None</td>\n",
       "      <td>NaN</td>\n",
       "      <td>...</td>\n",
       "      <td>low</td>\n",
       "      <td>es</td>\n",
       "      <td>1633299924205</td>\n",
       "      <td>NaN</td>\n",
       "      <td>NaN</td>\n",
       "      <td>NaN</td>\n",
       "      <td>NaN</td>\n",
       "      <td>NaN</td>\n",
       "      <td>NaN</td>\n",
       "      <td>NaN</td>\n",
       "    </tr>\n",
       "  </tbody>\n",
       "</table>\n",
       "<p>93714 rows × 38 columns</p>\n",
       "</div>"
      ],
      "text/plain": [
       "                            _id                      created_at            id  \\\n",
       "0      615a051dcf12a556631ae0db  Sun Oct 03 19:31:35 +0000 2021  1.444747e+18   \n",
       "1      615a051dcf12a556631ae0dc  Sun Oct 03 19:31:36 +0000 2021  1.444747e+18   \n",
       "2      615a051dcf12a556631ae0dd  Sun Oct 03 19:31:36 +0000 2021  1.444747e+18   \n",
       "3      615a051ecf12a556631ae0de  Sun Oct 03 19:31:36 +0000 2021  1.444747e+18   \n",
       "4      615a051ecf12a556631ae0df  Sun Oct 03 19:31:36 +0000 2021  1.444747e+18   \n",
       "...                         ...                             ...           ...   \n",
       "93709  615a2dd9cf12a556631c4ee8  Sun Oct 03 22:25:23 +0000 2021  1.444791e+18   \n",
       "93710  615a2dd9cf12a556631c4ee9  Sun Oct 03 22:25:24 +0000 2021  1.444791e+18   \n",
       "93711  615a2dd9cf12a556631c4eea  Sun Oct 03 22:25:23 +0000 2021  1.444791e+18   \n",
       "93712  615a2dd9cf12a556631c4eeb  Sun Oct 03 22:25:23 +0000 2021  1.444791e+18   \n",
       "93713  615a2dd9cf12a556631c4eec  Sun Oct 03 22:25:24 +0000 2021  1.444791e+18   \n",
       "\n",
       "                    id_str                                               text  \\\n",
       "0      1444746975358955522  RT @RiverLPM: ¿Desde dónde vas a alentar a Riv...   \n",
       "1      1444746976692736020  RT @RinconDeBoca: El que no salta murió en Mad...   \n",
       "2      1444746978982776833  RT @abertini1: Bueno gente, como dice la canci...   \n",
       "3      1444746979750383620  RT @frabigol: Nose si le quedo claro a Vignolo...   \n",
       "4      1444746979720978437  #CopaOFI A los 19’ Manolo Gómez pone el 1-0 de...   \n",
       "...                    ...                                                ...   \n",
       "93709  1444790713628176385  RT @guadavazquez: Y el aforo? Y el barbijo? Y ...   \n",
       "93710  1444790715104612354  Nunca vi un bostero con tanta leche en el culo 🤣🤣   \n",
       "93711  1444790712646709253  @Chompiras05 Tengo 10 amigos de boca que me ac...   \n",
       "93712  1444790713103929348  RT @DamianAvillagra: Boca le ganó 1 de loa últ...   \n",
       "93713  1444790715750535173             Gallardo es de River de River no se va   \n",
       "\n",
       "                                                  source truncated  \\\n",
       "0      <a href=\"http://twitter.com/download/android\" ...     False   \n",
       "1      <a href=\"http://twitter.com/download/android\" ...     False   \n",
       "2      <a href=\"http://twitter.com/download/android\" ...     False   \n",
       "3      <a href=\"http://twitter.com/download/iphone\" r...     False   \n",
       "4      <a href=\"http://twitter.com/download/iphone\" r...     False   \n",
       "...                                                  ...       ...   \n",
       "93709  <a href=\"https://mobile.twitter.com\" rel=\"nofo...     False   \n",
       "93710  <a href=\"http://twitter.com/download/android\" ...     False   \n",
       "93711  <a href=\"https://mobile.twitter.com\" rel=\"nofo...      True   \n",
       "93712  <a href=\"https://mobile.twitter.com\" rel=\"nofo...     False   \n",
       "93713  <a href=\"https://mobile.twitter.com\" rel=\"nofo...     False   \n",
       "\n",
       "       in_reply_to_status_id in_reply_to_status_id_str  in_reply_to_user_id  \\\n",
       "0                        NaN                      None                  NaN   \n",
       "1                        NaN                      None                  NaN   \n",
       "2                        NaN                      None                  NaN   \n",
       "3                        NaN                      None                  NaN   \n",
       "4                        NaN                      None                  NaN   \n",
       "...                      ...                       ...                  ...   \n",
       "93709                    NaN                      None                  NaN   \n",
       "93710                    NaN                      None                  NaN   \n",
       "93711           1.444790e+18       1444790121866354688         1.439236e+18   \n",
       "93712                    NaN                      None                  NaN   \n",
       "93713                    NaN                      None                  NaN   \n",
       "\n",
       "       ... filter_level lang   timestamp_ms display_text_range  \\\n",
       "0      ...          low   es  1633289495683                NaN   \n",
       "1      ...          low   es  1633289496001                NaN   \n",
       "2      ...          low   es  1633289496547                NaN   \n",
       "3      ...          low   es  1633289496730                NaN   \n",
       "4      ...          low   es  1633289496723            [0, 86]   \n",
       "...    ...          ...  ...            ...                ...   \n",
       "93709  ...          low   es  1633299923699                NaN   \n",
       "93710  ...          low   es  1633299924051                NaN   \n",
       "93711  ...          low   es  1633299923465          [13, 140]   \n",
       "93712  ...          low   es  1633299923574                NaN   \n",
       "93713  ...          low   es  1633299924205                NaN   \n",
       "\n",
       "                                          extended_tweet quoted_status_id  \\\n",
       "0                                                    NaN              NaN   \n",
       "1                                                    NaN              NaN   \n",
       "2                                                    NaN              NaN   \n",
       "3                                                    NaN              NaN   \n",
       "4                                                    NaN              NaN   \n",
       "...                                                  ...              ...   \n",
       "93709                                                NaN     1.444739e+18   \n",
       "93710                                                NaN     1.444784e+18   \n",
       "93711  {'full_text': '@Chompiras05 Tengo 10 amigos de...              NaN   \n",
       "93712                                                NaN              NaN   \n",
       "93713                                                NaN              NaN   \n",
       "\n",
       "       quoted_status_id_str  \\\n",
       "0                       NaN   \n",
       "1                       NaN   \n",
       "2                       NaN   \n",
       "3                       NaN   \n",
       "4                       NaN   \n",
       "...                     ...   \n",
       "93709   1444739303125491715   \n",
       "93710   1444784151022944265   \n",
       "93711                   NaN   \n",
       "93712                   NaN   \n",
       "93713                   NaN   \n",
       "\n",
       "                                           quoted_status  \\\n",
       "0                                                    NaN   \n",
       "1                                                    NaN   \n",
       "2                                                    NaN   \n",
       "3                                                    NaN   \n",
       "4                                                    NaN   \n",
       "...                                                  ...   \n",
       "93709  {'created_at': 'Sun Oct 03 19:01:06 +0000 2021...   \n",
       "93710  {'created_at': 'Sun Oct 03 21:59:19 +0000 2021...   \n",
       "93711                                                NaN   \n",
       "93712                                                NaN   \n",
       "93713                                                NaN   \n",
       "\n",
       "                                 quoted_status_permalink  limit  \n",
       "0                                                    NaN    NaN  \n",
       "1                                                    NaN    NaN  \n",
       "2                                                    NaN    NaN  \n",
       "3                                                    NaN    NaN  \n",
       "4                                                    NaN    NaN  \n",
       "...                                                  ...    ...  \n",
       "93709  {'url': 'https://t.co/yedqylPaJ2', 'expanded':...    NaN  \n",
       "93710  {'url': 'https://t.co/4hY0SBXNyE', 'expanded':...    NaN  \n",
       "93711                                                NaN    NaN  \n",
       "93712                                                NaN    NaN  \n",
       "93713                                                NaN    NaN  \n",
       "\n",
       "[93714 rows x 38 columns]"
      ]
     },
     "execution_count": 6,
     "metadata": {},
     "output_type": "execute_result"
    }
   ],
   "source": [
    "df"
   ]
  },
  {
   "cell_type": "markdown",
   "metadata": {
    "id": "RkdlNjlp70ru"
   },
   "source": [
    "## **LIMPIEZA DE DATOS**\n",
    "\n",
    "Para el primer paso del proyecto, realizaremos la limpieza de los datos. Se trabajará en 2 segmentos:\n",
    "\n",
    "* **Interpretación y descarte.**  \n",
    "* **Limpieza.**"
   ]
  },
  {
   "cell_type": "markdown",
   "metadata": {
    "id": "an8S68Kq73_x"
   },
   "source": [
    "### INTERPRETACIÓN\n",
    "\n",
    "Empezamos familiarizándonos con las columnas en los dataset, para entender qué representa cada valor. Esto nos ayudará a evitar caer en un análisis pobre de los datos una vez lleguemos a esa instancia. "
   ]
  },
  {
   "cell_type": "markdown",
   "metadata": {
    "id": "0-vnMnad77Ej"
   },
   "source": [
    "#### **Explicación del paso**"
   ]
  },
  {
   "cell_type": "markdown",
   "metadata": {
    "id": "kpKx0yyV7_QW"
   },
   "source": [
    "El dataframe listado contiene 23 entries y 38 columnas. "
   ]
  },
  {
   "cell_type": "code",
   "execution_count": 7,
   "metadata": {
    "colab": {
     "base_uri": "https://localhost:8080/"
    },
    "id": "Tnr3sEgs8Ixh",
    "outputId": "b288ddd5-6e9c-4e74-a133-d689165d4188"
   },
   "outputs": [
    {
     "data": {
      "text/plain": [
       "(93714, 38)"
      ]
     },
     "execution_count": 7,
     "metadata": {},
     "output_type": "execute_result"
    }
   ],
   "source": [
    "df.shape"
   ]
  },
  {
   "cell_type": "markdown",
   "metadata": {
    "id": "rsvToPxCBmKt"
   },
   "source": [
    "\n",
    "Realizaremos, entonces: \n",
    "\n",
    "* **Un relevamiento de la presencia de NaN's en las columnas:**\n",
    "  * ¿Qué porcentaje de NaN's presenta la columna?\n",
    "  * Dado el porcentaje de NaN's reportado: ¿Hay que eliminar la columna?\n",
    "\n",
    "* **Una revisión general del contenido de cada columna:** \n",
    "  * ¿Qué tipo de variables contienen? \n",
    "  * ¿Qué preguntas se podrían llegar a responder con la información de esa columna? \n",
    "  * ¿La información que aporta la columna es única dentro del subset o incluso del dataframe? ¿O está contenida en otras columnas?\n",
    "\n",
    "\n"
   ]
  },
  {
   "cell_type": "markdown",
   "metadata": {
    "id": "W8H0sXjJ9nDR"
   },
   "source": [
    "#### **Relevamiento de NaN's: Implementación**"
   ]
  },
  {
   "cell_type": "markdown",
   "metadata": {
    "id": "09sOu_bVXwIY"
   },
   "source": [
    "Generamos una lista que expresa en porcentaje la presencia de NaN's por columna del dataframe. "
   ]
  },
  {
   "cell_type": "code",
   "execution_count": 8,
   "metadata": {
    "colab": {
     "base_uri": "https://localhost:8080/",
     "height": 676
    },
    "id": "HeCvw7-hAgqs",
    "outputId": "51edf55c-e275-4d39-8ba0-ca864002dc4d"
   },
   "outputs": [
    {
     "data": {
      "text/html": [
       "<div>\n",
       "<style scoped>\n",
       "    .dataframe tbody tr th:only-of-type {\n",
       "        vertical-align: middle;\n",
       "    }\n",
       "\n",
       "    .dataframe tbody tr th {\n",
       "        vertical-align: top;\n",
       "    }\n",
       "\n",
       "    .dataframe thead th {\n",
       "        text-align: right;\n",
       "    }\n",
       "</style>\n",
       "<table border=\"1\" class=\"dataframe\">\n",
       "  <thead>\n",
       "    <tr style=\"text-align: right;\">\n",
       "      <th></th>\n",
       "      <th>column_name</th>\n",
       "      <th>missings_tweets</th>\n",
       "    </tr>\n",
       "  </thead>\n",
       "  <tbody>\n",
       "    <tr>\n",
       "      <th>contributors</th>\n",
       "      <td>contributors</td>\n",
       "      <td>100.000000</td>\n",
       "    </tr>\n",
       "    <tr>\n",
       "      <th>coordinates</th>\n",
       "      <td>coordinates</td>\n",
       "      <td>99.997866</td>\n",
       "    </tr>\n",
       "    <tr>\n",
       "      <th>geo</th>\n",
       "      <td>geo</td>\n",
       "      <td>99.997866</td>\n",
       "    </tr>\n",
       "    <tr>\n",
       "      <th>limit</th>\n",
       "      <td>limit</td>\n",
       "      <td>99.926372</td>\n",
       "    </tr>\n",
       "    <tr>\n",
       "      <th>place</th>\n",
       "      <td>place</td>\n",
       "      <td>98.626673</td>\n",
       "    </tr>\n",
       "    <tr>\n",
       "      <th>in_reply_to_status_id</th>\n",
       "      <td>in_reply_to_status_id</td>\n",
       "      <td>94.772393</td>\n",
       "    </tr>\n",
       "    <tr>\n",
       "      <th>in_reply_to_status_id_str</th>\n",
       "      <td>in_reply_to_status_id_str</td>\n",
       "      <td>94.772393</td>\n",
       "    </tr>\n",
       "    <tr>\n",
       "      <th>in_reply_to_screen_name</th>\n",
       "      <td>in_reply_to_screen_name</td>\n",
       "      <td>94.429861</td>\n",
       "    </tr>\n",
       "    <tr>\n",
       "      <th>in_reply_to_user_id</th>\n",
       "      <td>in_reply_to_user_id</td>\n",
       "      <td>94.429861</td>\n",
       "    </tr>\n",
       "    <tr>\n",
       "      <th>in_reply_to_user_id_str</th>\n",
       "      <td>in_reply_to_user_id_str</td>\n",
       "      <td>94.429861</td>\n",
       "    </tr>\n",
       "    <tr>\n",
       "      <th>extended_tweet</th>\n",
       "      <td>extended_tweet</td>\n",
       "      <td>92.925283</td>\n",
       "    </tr>\n",
       "    <tr>\n",
       "      <th>display_text_range</th>\n",
       "      <td>display_text_range</td>\n",
       "      <td>91.352413</td>\n",
       "    </tr>\n",
       "    <tr>\n",
       "      <th>quoted_status</th>\n",
       "      <td>quoted_status</td>\n",
       "      <td>87.742493</td>\n",
       "    </tr>\n",
       "    <tr>\n",
       "      <th>quoted_status_permalink</th>\n",
       "      <td>quoted_status_permalink</td>\n",
       "      <td>87.742493</td>\n",
       "    </tr>\n",
       "    <tr>\n",
       "      <th>quoted_status_id</th>\n",
       "      <td>quoted_status_id</td>\n",
       "      <td>87.736091</td>\n",
       "    </tr>\n",
       "    <tr>\n",
       "      <th>quoted_status_id_str</th>\n",
       "      <td>quoted_status_id_str</td>\n",
       "      <td>87.736091</td>\n",
       "    </tr>\n",
       "    <tr>\n",
       "      <th>extended_entities</th>\n",
       "      <td>extended_entities</td>\n",
       "      <td>82.046439</td>\n",
       "    </tr>\n",
       "    <tr>\n",
       "      <th>possibly_sensitive</th>\n",
       "      <td>possibly_sensitive</td>\n",
       "      <td>78.553898</td>\n",
       "    </tr>\n",
       "    <tr>\n",
       "      <th>retweeted_status</th>\n",
       "      <td>retweeted_status</td>\n",
       "      <td>42.564611</td>\n",
       "    </tr>\n",
       "    <tr>\n",
       "      <th>timestamp_ms</th>\n",
       "      <td>timestamp_ms</td>\n",
       "      <td>0.073628</td>\n",
       "    </tr>\n",
       "  </tbody>\n",
       "</table>\n",
       "</div>"
      ],
      "text/plain": [
       "                                         column_name  missings_tweets\n",
       "contributors                            contributors       100.000000\n",
       "coordinates                              coordinates        99.997866\n",
       "geo                                              geo        99.997866\n",
       "limit                                          limit        99.926372\n",
       "place                                          place        98.626673\n",
       "in_reply_to_status_id          in_reply_to_status_id        94.772393\n",
       "in_reply_to_status_id_str  in_reply_to_status_id_str        94.772393\n",
       "in_reply_to_screen_name      in_reply_to_screen_name        94.429861\n",
       "in_reply_to_user_id              in_reply_to_user_id        94.429861\n",
       "in_reply_to_user_id_str      in_reply_to_user_id_str        94.429861\n",
       "extended_tweet                        extended_tweet        92.925283\n",
       "display_text_range                display_text_range        91.352413\n",
       "quoted_status                          quoted_status        87.742493\n",
       "quoted_status_permalink      quoted_status_permalink        87.742493\n",
       "quoted_status_id                    quoted_status_id        87.736091\n",
       "quoted_status_id_str            quoted_status_id_str        87.736091\n",
       "extended_entities                  extended_entities        82.046439\n",
       "possibly_sensitive                possibly_sensitive        78.553898\n",
       "retweeted_status                    retweeted_status        42.564611\n",
       "timestamp_ms                            timestamp_ms         0.073628"
      ]
     },
     "execution_count": 8,
     "metadata": {},
     "output_type": "execute_result"
    }
   ],
   "source": [
    "missings_tweets = df.isnull().sum() * 100 / len(df)\n",
    "listado_missing_tweets = pd.DataFrame({'column_name': df.columns,\n",
    "                                      'missings_tweets': missings_tweets})\n",
    "\n",
    "listado_missing_tweets.sort_values('missings_tweets', ascending = False, inplace=True)\n",
    "\n",
    "listado_missing_tweets.head(20)"
   ]
  },
  {
   "cell_type": "markdown",
   "metadata": {
    "id": "pBopWxHVX5oc"
   },
   "source": [
    "Parecería ser que las 17 columnas con mayor presencia de NaN's no sirven para trabajar, visualizamos el top 20 para ser más asertivos con la decisión. "
   ]
  },
  {
   "cell_type": "code",
   "execution_count": 9,
   "metadata": {
    "colab": {
     "base_uri": "https://localhost:8080/",
     "height": 519
    },
    "id": "fQLXpUngB_sh",
    "outputId": "c158f322-6523-4de0-8361-4f384376b25c"
   },
   "outputs": [
    {
     "data": {
      "image/png": "[encoded data removed]",
      "text/plain": [
       "<Figure size 432x288 with 1 Axes>"
      ]
     },
     "metadata": {
      "needs_background": "light"
     },
     "output_type": "display_data"
    }
   ],
   "source": [
    "prod_count_basica = pd.DataFrame(listado_missing_tweets.sort_index().head(20))\n",
    "plt.figure()\n",
    "sns.barplot(listado_missing_tweets[:20].index, \n",
    "            listado_missing_tweets[:20]['missings_tweets'].values, alpha=1, color = 'Salmon')\n",
    "plt.title('NaN en Dataset Tweets')\n",
    "plt.ylabel('% De NaN', fontsize=12)\n",
    "plt.xlabel('Columnas', fontsize=12)\n",
    "plt.xticks(rotation=90)\n",
    "plt.show()"
   ]
  },
  {
   "cell_type": "markdown",
   "metadata": {
    "id": "3CDcYlZ5YsHO"
   },
   "source": [
    "Efectivamente, las 17 columnas con mayor presencia de NaN's deberán ser descartadas del trabajo. "
   ]
  },
  {
   "cell_type": "code",
   "execution_count": 8,
   "metadata": {
    "colab": {
     "base_uri": "https://localhost:8080/",
     "height": 254
    },
    "id": "1gK2huMADiYe",
    "outputId": "7a9145fa-40a9-4e6c-c95b-4d1fe0ea4f62"
   },
   "outputs": [
    {
     "data": {
      "text/html": [
       "<div>\n",
       "<style scoped>\n",
       "    .dataframe tbody tr th:only-of-type {\n",
       "        vertical-align: middle;\n",
       "    }\n",
       "\n",
       "    .dataframe tbody tr th {\n",
       "        vertical-align: top;\n",
       "    }\n",
       "\n",
       "    .dataframe thead th {\n",
       "        text-align: right;\n",
       "    }\n",
       "</style>\n",
       "<table border=\"1\" class=\"dataframe\">\n",
       "  <thead>\n",
       "    <tr style=\"text-align: right;\">\n",
       "      <th></th>\n",
       "      <th>_id</th>\n",
       "      <th>created_at</th>\n",
       "      <th>id</th>\n",
       "      <th>id_str</th>\n",
       "      <th>text</th>\n",
       "      <th>source</th>\n",
       "      <th>truncated</th>\n",
       "      <th>user</th>\n",
       "      <th>quoted_status</th>\n",
       "      <th>is_quote_status</th>\n",
       "      <th>...</th>\n",
       "      <th>reply_count</th>\n",
       "      <th>retweet_count</th>\n",
       "      <th>favorite_count</th>\n",
       "      <th>entities</th>\n",
       "      <th>favorited</th>\n",
       "      <th>retweeted</th>\n",
       "      <th>filter_level</th>\n",
       "      <th>lang</th>\n",
       "      <th>timestamp_ms</th>\n",
       "      <th>retweeted_status</th>\n",
       "    </tr>\n",
       "  </thead>\n",
       "  <tbody>\n",
       "    <tr>\n",
       "      <th>0</th>\n",
       "      <td>615a051dcf12a556631ae0db</td>\n",
       "      <td>Sun Oct 03 19:31:35 +0000 2021</td>\n",
       "      <td>1.444747e+18</td>\n",
       "      <td>1444746975358955522</td>\n",
       "      <td>RT @RiverLPM: ¿Desde dónde vas a alentar a Riv...</td>\n",
       "      <td>&lt;a href=\"http://twitter.com/download/android\" ...</td>\n",
       "      <td>False</td>\n",
       "      <td>{'id': 1209480151014223872, 'id_str': '1209480...</td>\n",
       "      <td>NaN</td>\n",
       "      <td>False</td>\n",
       "      <td>...</td>\n",
       "      <td>0.0</td>\n",
       "      <td>0.0</td>\n",
       "      <td>0.0</td>\n",
       "      <td>{'hashtags': [], 'urls': [], 'user_mentions': ...</td>\n",
       "      <td>False</td>\n",
       "      <td>False</td>\n",
       "      <td>low</td>\n",
       "      <td>es</td>\n",
       "      <td>1633289495683</td>\n",
       "      <td>{'created_at': 'Sun Oct 03 19:25:57 +0000 2021...</td>\n",
       "    </tr>\n",
       "    <tr>\n",
       "      <th>1</th>\n",
       "      <td>615a051dcf12a556631ae0dc</td>\n",
       "      <td>Sun Oct 03 19:31:36 +0000 2021</td>\n",
       "      <td>1.444747e+18</td>\n",
       "      <td>1444746976692736020</td>\n",
       "      <td>RT @RinconDeBoca: El que no salta murió en Mad...</td>\n",
       "      <td>&lt;a href=\"http://twitter.com/download/android\" ...</td>\n",
       "      <td>False</td>\n",
       "      <td>{'id': 940410625091690503, 'id_str': '94041062...</td>\n",
       "      <td>NaN</td>\n",
       "      <td>False</td>\n",
       "      <td>...</td>\n",
       "      <td>0.0</td>\n",
       "      <td>0.0</td>\n",
       "      <td>0.0</td>\n",
       "      <td>{'hashtags': [], 'urls': [], 'user_mentions': ...</td>\n",
       "      <td>False</td>\n",
       "      <td>False</td>\n",
       "      <td>low</td>\n",
       "      <td>es</td>\n",
       "      <td>1633289496001</td>\n",
       "      <td>{'created_at': 'Sun Oct 03 18:47:25 +0000 2021...</td>\n",
       "    </tr>\n",
       "  </tbody>\n",
       "</table>\n",
       "<p>2 rows × 21 columns</p>\n",
       "</div>"
      ],
      "text/plain": [
       "                        _id                      created_at            id  \\\n",
       "0  615a051dcf12a556631ae0db  Sun Oct 03 19:31:35 +0000 2021  1.444747e+18   \n",
       "1  615a051dcf12a556631ae0dc  Sun Oct 03 19:31:36 +0000 2021  1.444747e+18   \n",
       "\n",
       "                id_str                                               text  \\\n",
       "0  1444746975358955522  RT @RiverLPM: ¿Desde dónde vas a alentar a Riv...   \n",
       "1  1444746976692736020  RT @RinconDeBoca: El que no salta murió en Mad...   \n",
       "\n",
       "                                              source truncated  \\\n",
       "0  <a href=\"http://twitter.com/download/android\" ...     False   \n",
       "1  <a href=\"http://twitter.com/download/android\" ...     False   \n",
       "\n",
       "                                                user quoted_status  \\\n",
       "0  {'id': 1209480151014223872, 'id_str': '1209480...           NaN   \n",
       "1  {'id': 940410625091690503, 'id_str': '94041062...           NaN   \n",
       "\n",
       "  is_quote_status  ...  reply_count  retweet_count  favorite_count  \\\n",
       "0           False  ...          0.0            0.0             0.0   \n",
       "1           False  ...          0.0            0.0             0.0   \n",
       "\n",
       "                                            entities favorited retweeted  \\\n",
       "0  {'hashtags': [], 'urls': [], 'user_mentions': ...     False     False   \n",
       "1  {'hashtags': [], 'urls': [], 'user_mentions': ...     False     False   \n",
       "\n",
       "  filter_level lang   timestamp_ms  \\\n",
       "0          low   es  1633289495683   \n",
       "1          low   es  1633289496001   \n",
       "\n",
       "                                    retweeted_status  \n",
       "0  {'created_at': 'Sun Oct 03 19:25:57 +0000 2021...  \n",
       "1  {'created_at': 'Sun Oct 03 18:47:25 +0000 2021...  \n",
       "\n",
       "[2 rows x 21 columns]"
      ]
     },
     "execution_count": 8,
     "metadata": {},
     "output_type": "execute_result"
    }
   ],
   "source": [
    "df = pd.DataFrame(df[['_id', 'created_at', 'id', 'id_str', 'text', 'source',\n",
    "       'truncated', 'user', \n",
    "       'quoted_status', 'is_quote_status',\n",
    "       'quote_count', 'reply_count', 'retweet_count', 'favorite_count',\n",
    "       'entities', 'favorited', 'retweeted', 'filter_level', 'lang',\n",
    "       'timestamp_ms', 'retweeted_status']])\n",
    "\n",
    "df.head(2)"
   ]
  },
  {
   "cell_type": "markdown",
   "metadata": {
    "id": "3Z00ZDHZDe6g"
   },
   "source": [
    "#### **Revisión de contenido y creación del DataFrame**"
   ]
  },
  {
   "cell_type": "markdown",
   "metadata": {
    "id": "fYj-93bUDg46"
   },
   "source": [
    "Terminada la interpretación de los datos y el primer filtro de columnas, creamos el dataframe del dataset listado, que está formado por las columnas ahora consideradas relevantes. "
   ]
  },
  {
   "cell_type": "code",
   "execution_count": 9,
   "metadata": {
    "colab": {
     "base_uri": "https://localhost:8080/"
    },
    "id": "KMX3t1gxDkas",
    "outputId": "146ba80b-bac3-4549-bec3-2dfabae654ba"
   },
   "outputs": [
    {
     "data": {
      "text/plain": [
       "(93714, 21)"
      ]
     },
     "execution_count": 9,
     "metadata": {},
     "output_type": "execute_result"
    }
   ],
   "source": [
    "df.shape"
   ]
  },
  {
   "cell_type": "markdown",
   "metadata": {
    "id": "lpIdqImvDk-d"
   },
   "source": [
    "# Finalizada la limpieza, así se ve el dataframe de listados, el cual ahora vamos a llevar al proceso de transformación. \n",
    "\n",
    " * **Consiste de 93.714 entries en 21 columnas.** \n",
    " * **No presenta NaN's.**\n",
    " * **Contiene información sobre tweets que contengan las palabras \"River\" y \"Superclásico\".** "
   ]
  },
  {
   "cell_type": "code",
   "execution_count": 10,
   "metadata": {
    "colab": {
     "base_uri": "https://localhost:8080/"
    },
    "id": "iQdgqUYd5sjd",
    "outputId": "216036bf-b51b-48c8-da2d-6ca51cd52081"
   },
   "outputs": [
    {
     "name": "stdout",
     "output_type": "stream",
     "text": [
      "<class 'pandas.core.frame.DataFrame'>\n",
      "RangeIndex: 93714 entries, 0 to 93713\n",
      "Data columns (total 38 columns):\n",
      " #   Column                     Non-Null Count  Dtype  \n",
      "---  ------                     --------------  -----  \n",
      " 0   _id                        93714 non-null  object \n",
      " 1   created_at                 93645 non-null  object \n",
      " 2   id                         93645 non-null  float64\n",
      " 3   id_str                     93645 non-null  object \n",
      " 4   text                       93645 non-null  object \n",
      " 5   source                     93645 non-null  object \n",
      " 6   truncated                  93645 non-null  object \n",
      " 7   in_reply_to_status_id      4899 non-null   float64\n",
      " 8   in_reply_to_status_id_str  4899 non-null   object \n",
      " 9   in_reply_to_user_id        5220 non-null   float64\n",
      " 10  in_reply_to_user_id_str    5220 non-null   object \n",
      " 11  in_reply_to_screen_name    5220 non-null   object \n",
      " 12  user                       93645 non-null  object \n",
      " 13  geo                        2 non-null      object \n",
      " 14  coordinates                2 non-null      object \n",
      " 15  place                      1287 non-null   object \n",
      " 16  contributors               0 non-null      float64\n",
      " 17  retweeted_status           53825 non-null  object \n",
      " 18  is_quote_status            93645 non-null  object \n",
      " 19  quote_count                93645 non-null  float64\n",
      " 20  reply_count                93645 non-null  float64\n",
      " 21  retweet_count              93645 non-null  float64\n",
      " 22  favorite_count             93645 non-null  float64\n",
      " 23  entities                   93645 non-null  object \n",
      " 24  extended_entities          16825 non-null  object \n",
      " 25  favorited                  93645 non-null  object \n",
      " 26  retweeted                  93645 non-null  object \n",
      " 27  possibly_sensitive         20098 non-null  object \n",
      " 28  filter_level               93645 non-null  object \n",
      " 29  lang                       93645 non-null  object \n",
      " 30  timestamp_ms               93645 non-null  object \n",
      " 31  display_text_range         8104 non-null   object \n",
      " 32  extended_tweet             6630 non-null   object \n",
      " 33  quoted_status_id           11493 non-null  float64\n",
      " 34  quoted_status_id_str       11493 non-null  object \n",
      " 35  quoted_status              11487 non-null  object \n",
      " 36  quoted_status_permalink    11487 non-null  object \n",
      " 37  limit                      69 non-null     object \n",
      "dtypes: float64(9), object(29)\n",
      "memory usage: 27.2+ MB\n"
     ]
    }
   ],
   "source": [
    "df.info()"
   ]
  },
  {
   "cell_type": "code",
   "execution_count": 11,
   "metadata": {
    "colab": {
     "base_uri": "https://localhost:8080/"
    },
    "id": "9u5Exl0G6Wji",
    "outputId": "e4afa733-d846-4834-cb04-bcf4cd7cc685"
   },
   "outputs": [
    {
     "data": {
      "text/plain": [
       "0        {'id': 1209480151014223872, 'id_str': '1209480...\n",
       "1        {'id': 940410625091690503, 'id_str': '94041062...\n",
       "2        {'id': 752261227074752512, 'id_str': '75226122...\n",
       "3        {'id': 3243936933, 'id_str': '3243936933', 'na...\n",
       "4        {'id': 4503911837, 'id_str': '4503911837', 'na...\n",
       "                               ...                        \n",
       "93709    {'id': 3059356973, 'id_str': '3059356973', 'na...\n",
       "93710    {'id': 3369553823, 'id_str': '3369553823', 'na...\n",
       "93711    {'id': 1369329677559623684, 'id_str': '1369329...\n",
       "93712    {'id': 172921784, 'id_str': '172921784', 'name...\n",
       "93713    {'id': 1354882934193459203, 'id_str': '1354882...\n",
       "Name: user, Length: 93714, dtype: object"
      ]
     },
     "execution_count": 11,
     "metadata": {},
     "output_type": "execute_result"
    }
   ],
   "source": [
    "df['user']"
   ]
  },
  {
   "cell_type": "code",
   "execution_count": 12,
   "metadata": {
    "id": "-wmSPv2tpas6"
   },
   "outputs": [],
   "source": [
    "dfUser = df['user'].apply(pd.Series)"
   ]
  },
  {
   "cell_type": "code",
   "execution_count": 13,
   "metadata": {
    "colab": {
     "base_uri": "https://localhost:8080/"
    },
    "id": "K3g35gMcp1LV",
    "outputId": "07ffe99c-73bb-466a-c559-09b9bfe6756c"
   },
   "outputs": [
    {
     "data": {
      "text/plain": [
       "Index([                                   0,\n",
       "                     'contributors_enabled',\n",
       "                               'created_at',\n",
       "                          'default_profile',\n",
       "                    'default_profile_image',\n",
       "                              'description',\n",
       "                         'favourites_count',\n",
       "                      'follow_request_sent',\n",
       "                          'followers_count',\n",
       "                                'following',\n",
       "                            'friends_count',\n",
       "                              'geo_enabled',\n",
       "                                       'id',\n",
       "                                   'id_str',\n",
       "                            'is_translator',\n",
       "                                     'lang',\n",
       "                             'listed_count',\n",
       "                                 'location',\n",
       "                                     'name',\n",
       "                            'notifications',\n",
       "                 'profile_background_color',\n",
       "             'profile_background_image_url',\n",
       "       'profile_background_image_url_https',\n",
       "                  'profile_background_tile',\n",
       "                       'profile_banner_url',\n",
       "                        'profile_image_url',\n",
       "                  'profile_image_url_https',\n",
       "                       'profile_link_color',\n",
       "             'profile_sidebar_border_color',\n",
       "               'profile_sidebar_fill_color',\n",
       "                       'profile_text_color',\n",
       "             'profile_use_background_image',\n",
       "                                'protected',\n",
       "                              'screen_name',\n",
       "                           'statuses_count',\n",
       "                                'time_zone',\n",
       "                          'translator_type',\n",
       "                                      'url',\n",
       "                               'utc_offset',\n",
       "                                 'verified',\n",
       "                    'withheld_in_countries'],\n",
       "      dtype='object')"
      ]
     },
     "execution_count": 13,
     "metadata": {},
     "output_type": "execute_result"
    }
   ],
   "source": [
    "dfUser.columns"
   ]
  },
  {
   "cell_type": "code",
   "execution_count": 14,
   "metadata": {
    "colab": {
     "base_uri": "https://localhost:8080/",
     "height": 310
    },
    "id": "06SR92s6p3hm",
    "outputId": "db4a701d-2298-44dd-ba7d-b78d434aabd7"
   },
   "outputs": [
    {
     "data": {
      "text/plain": [
       "False    93645\n",
       "Name: protected, dtype: int64"
      ]
     },
     "execution_count": 14,
     "metadata": {},
     "output_type": "execute_result"
    }
   ],
   "source": [
    "dfUser['protected'].value_counts()"
   ]
  },
  {
   "cell_type": "code",
   "execution_count": 15,
   "metadata": {
    "id": "kUDO88XKp5x0"
   },
   "outputs": [
    {
     "data": {
      "text/plain": [
       "False    92419\n",
       "True      1226\n",
       "Name: verified, dtype: int64"
      ]
     },
     "execution_count": 15,
     "metadata": {},
     "output_type": "execute_result"
    }
   ],
   "source": [
    "dfUser['verified'].value_counts()"
   ]
  },
  {
   "cell_type": "code",
   "execution_count": 16,
   "metadata": {
    "id": "FLAKEl9_qCyJ"
   },
   "outputs": [
    {
     "data": {
      "text/plain": [
       "none       89466\n",
       "regular     4154\n",
       "badged        25\n",
       "Name: translator_type, dtype: int64"
      ]
     },
     "execution_count": 16,
     "metadata": {},
     "output_type": "execute_result"
    }
   ],
   "source": [
    "dfUser['translator_type'].value_counts()"
   ]
  },
  {
   "cell_type": "markdown",
   "metadata": {},
   "source": [
    "### Verificadas las columnas con data que puede servir para el analisis posterior. Creo un nuevo DataFrame con las columnas seleccionadas"
   ]
  },
  {
   "cell_type": "code",
   "execution_count": 15,
   "metadata": {
    "id": "uwXxvcOvqEyf"
   },
   "outputs": [],
   "source": [
    "dfUserFiltrado = dfUser[['id_str','name','screen_name','location','url',\n",
    "                         'description','verified','followers_count','friends_count','created_at','profile_image_url']]"
   ]
  },
  {
   "cell_type": "code",
   "execution_count": 16,
   "metadata": {
    "id": "T8bYZVrwqHNj"
   },
   "outputs": [
    {
     "name": "stderr",
     "output_type": "stream",
     "text": [
      "C:\\ProgramData\\Anaconda3\\lib\\site-packages\\ipykernel_launcher.py:1: SettingWithCopyWarning: \n",
      "A value is trying to be set on a copy of a slice from a DataFrame.\n",
      "Try using .loc[row_indexer,col_indexer] = value instead\n",
      "\n",
      "See the caveats in the documentation: https://pandas.pydata.org/pandas-docs/stable/user_guide/indexing.html#returning-a-view-versus-a-copy\n",
      "  \"\"\"Entry point for launching an IPython kernel.\n",
      "C:\\ProgramData\\Anaconda3\\lib\\site-packages\\ipykernel_launcher.py:2: SettingWithCopyWarning: \n",
      "A value is trying to be set on a copy of a slice from a DataFrame.\n",
      "Try using .loc[row_indexer,col_indexer] = value instead\n",
      "\n",
      "See the caveats in the documentation: https://pandas.pydata.org/pandas-docs/stable/user_guide/indexing.html#returning-a-view-versus-a-copy\n",
      "  \n",
      "C:\\ProgramData\\Anaconda3\\lib\\site-packages\\ipykernel_launcher.py:3: SettingWithCopyWarning: \n",
      "A value is trying to be set on a copy of a slice from a DataFrame.\n",
      "Try using .loc[row_indexer,col_indexer] = value instead\n",
      "\n",
      "See the caveats in the documentation: https://pandas.pydata.org/pandas-docs/stable/user_guide/indexing.html#returning-a-view-versus-a-copy\n",
      "  This is separate from the ipykernel package so we can avoid doing imports until\n"
     ]
    }
   ],
   "source": [
    "dfUserFiltrado['created_at'] = pd.to_datetime(dfUserFiltrado['created_at'])\n",
    "dfUserFiltrado['created_at'] = dfUserFiltrado['created_at'].dt.strftime('%d/%m/%Y')\n",
    "dfUserFiltrado['created_at'] = pd.to_datetime(dfUserFiltrado['created_at'])"
   ]
  },
  {
   "cell_type": "code",
   "execution_count": 23,
   "metadata": {
    "id": "kUeD8HSqqLMX"
   },
   "outputs": [
    {
     "data": {
      "text/html": [
       "<div>\n",
       "<style scoped>\n",
       "    .dataframe tbody tr th:only-of-type {\n",
       "        vertical-align: middle;\n",
       "    }\n",
       "\n",
       "    .dataframe tbody tr th {\n",
       "        vertical-align: top;\n",
       "    }\n",
       "\n",
       "    .dataframe thead th {\n",
       "        text-align: right;\n",
       "    }\n",
       "</style>\n",
       "<table border=\"1\" class=\"dataframe\">\n",
       "  <thead>\n",
       "    <tr style=\"text-align: right;\">\n",
       "      <th></th>\n",
       "      <th>id_str</th>\n",
       "      <th>name</th>\n",
       "      <th>screen_name</th>\n",
       "      <th>location</th>\n",
       "      <th>url</th>\n",
       "      <th>description</th>\n",
       "      <th>verified</th>\n",
       "      <th>followers_count</th>\n",
       "      <th>friends_count</th>\n",
       "      <th>created_at</th>\n",
       "      <th>profile_image_url</th>\n",
       "    </tr>\n",
       "  </thead>\n",
       "  <tbody>\n",
       "    <tr>\n",
       "      <th>0</th>\n",
       "      <td>1209480151014223872</td>\n",
       "      <td>Eye_17⚪❤⚪</td>\n",
       "      <td>Mix1610</td>\n",
       "      <td>in my world</td>\n",
       "      <td>None</td>\n",
       "      <td>AGUANTE RIVER ⚪❤⚪9/12/18🏆🏆🏆🏆\\nla musica es vid...</td>\n",
       "      <td>False</td>\n",
       "      <td>75.0</td>\n",
       "      <td>135.0</td>\n",
       "      <td>2019-12-24</td>\n",
       "      <td>http://pbs.twimg.com/profile_images/1278113391...</td>\n",
       "    </tr>\n",
       "    <tr>\n",
       "      <th>1</th>\n",
       "      <td>940410625091690503</td>\n",
       "      <td>Iaru</td>\n",
       "      <td>IJures</td>\n",
       "      <td>Ushuaia, Argentina</td>\n",
       "      <td>None</td>\n",
       "      <td>💙💛💙</td>\n",
       "      <td>False</td>\n",
       "      <td>412.0</td>\n",
       "      <td>266.0</td>\n",
       "      <td>2017-12-12</td>\n",
       "      <td>http://pbs.twimg.com/profile_images/1433457808...</td>\n",
       "    </tr>\n",
       "    <tr>\n",
       "      <th>2</th>\n",
       "      <td>752261227074752512</td>\n",
       "      <td>𝕷𝖚𝖈𝖍𝖎𝖙𝖔🚀</td>\n",
       "      <td>16Luchopascua</td>\n",
       "      <td>None</td>\n",
       "      <td>None</td>\n",
       "      <td>http://instagram.com/lucho_pascua</td>\n",
       "      <td>False</td>\n",
       "      <td>316.0</td>\n",
       "      <td>269.0</td>\n",
       "      <td>2016-10-07</td>\n",
       "      <td>http://pbs.twimg.com/profile_images/1417796214...</td>\n",
       "    </tr>\n",
       "    <tr>\n",
       "      <th>3</th>\n",
       "      <td>3243936933</td>\n",
       "      <td>Fan de la guepardex</td>\n",
       "      <td>ciruelaferreira</td>\n",
       "      <td>La colimba</td>\n",
       "      <td>None</td>\n",
       "      <td>fan de tally hall y Riquelme estoy infravalora...</td>\n",
       "      <td>False</td>\n",
       "      <td>163.0</td>\n",
       "      <td>492.0</td>\n",
       "      <td>2015-09-05</td>\n",
       "      <td>http://pbs.twimg.com/profile_images/1419371232...</td>\n",
       "    </tr>\n",
       "    <tr>\n",
       "      <th>4</th>\n",
       "      <td>4503911837</td>\n",
       "      <td>CANELONES AZULGRANA</td>\n",
       "      <td>CaneAzulgrana</td>\n",
       "      <td>None</td>\n",
       "      <td>http://www.canelonesazulgrana.com/</td>\n",
       "      <td>None</td>\n",
       "      <td>False</td>\n",
       "      <td>2483.0</td>\n",
       "      <td>62.0</td>\n",
       "      <td>2015-12-16</td>\n",
       "      <td>http://pbs.twimg.com/profile_images/1444334396...</td>\n",
       "    </tr>\n",
       "    <tr>\n",
       "      <th>...</th>\n",
       "      <td>...</td>\n",
       "      <td>...</td>\n",
       "      <td>...</td>\n",
       "      <td>...</td>\n",
       "      <td>...</td>\n",
       "      <td>...</td>\n",
       "      <td>...</td>\n",
       "      <td>...</td>\n",
       "      <td>...</td>\n",
       "      <td>...</td>\n",
       "      <td>...</td>\n",
       "    </tr>\n",
       "    <tr>\n",
       "      <th>93709</th>\n",
       "      <td>3059356973</td>\n",
       "      <td>Glo</td>\n",
       "      <td>TomeoGlo</td>\n",
       "      <td>None</td>\n",
       "      <td>None</td>\n",
       "      <td>None</td>\n",
       "      <td>False</td>\n",
       "      <td>1313.0</td>\n",
       "      <td>1524.0</td>\n",
       "      <td>2015-02-24</td>\n",
       "      <td>http://pbs.twimg.com/profile_images/1437205249...</td>\n",
       "    </tr>\n",
       "    <tr>\n",
       "      <th>93710</th>\n",
       "      <td>3369553823</td>\n",
       "      <td>🍕</td>\n",
       "      <td>AlmadaGastton</td>\n",
       "      <td>Loma hermosa</td>\n",
       "      <td>http://www.instagram.com/almadagaston97</td>\n",
       "      <td>#Cosculluela 20/8/17🤴 \\n~· De el más grande Ri...</td>\n",
       "      <td>False</td>\n",
       "      <td>544.0</td>\n",
       "      <td>923.0</td>\n",
       "      <td>2015-10-07</td>\n",
       "      <td>http://pbs.twimg.com/profile_images/1434227589...</td>\n",
       "    </tr>\n",
       "    <tr>\n",
       "      <th>93711</th>\n",
       "      <td>1369329677559623684</td>\n",
       "      <td>Andy🗿🍀🗿⚗️Astro⚓Tarot🗿⚽</td>\n",
       "      <td>Astro_Futbol14</td>\n",
       "      <td>Argentina buenos aires</td>\n",
       "      <td>https://www.instagram.com/andresito_andy14</td>\n",
       "      <td>Administrativo💻🖥️👔\\nAstrología🌕🌠☀️☄️\\nTarot🔮🔮\\...</td>\n",
       "      <td>False</td>\n",
       "      <td>1097.0</td>\n",
       "      <td>367.0</td>\n",
       "      <td>2021-09-03</td>\n",
       "      <td>http://pbs.twimg.com/profile_images/1442994591...</td>\n",
       "    </tr>\n",
       "    <tr>\n",
       "      <th>93712</th>\n",
       "      <td>172921784</td>\n",
       "      <td>Rodrigo Nievas</td>\n",
       "      <td>RodrigoNievas</td>\n",
       "      <td>Jesús María, Córdoba</td>\n",
       "      <td>None</td>\n",
       "      <td>Periodista @radiojesusmaria / Papá por siempre...</td>\n",
       "      <td>False</td>\n",
       "      <td>1291.0</td>\n",
       "      <td>487.0</td>\n",
       "      <td>2010-07-30</td>\n",
       "      <td>http://pbs.twimg.com/profile_images/8318929520...</td>\n",
       "    </tr>\n",
       "    <tr>\n",
       "      <th>93713</th>\n",
       "      <td>1354882934193459203</td>\n",
       "      <td>Natalia Montañes</td>\n",
       "      <td>natimontanies</td>\n",
       "      <td>None</td>\n",
       "      <td>None</td>\n",
       "      <td>Cada tanto escribo canciones 💖🎤 Estudiante de ...</td>\n",
       "      <td>False</td>\n",
       "      <td>324.0</td>\n",
       "      <td>352.0</td>\n",
       "      <td>2021-01-28</td>\n",
       "      <td>http://pbs.twimg.com/profile_images/1354884341...</td>\n",
       "    </tr>\n",
       "  </tbody>\n",
       "</table>\n",
       "<p>93714 rows × 11 columns</p>\n",
       "</div>"
      ],
      "text/plain": [
       "                    id_str                    name      screen_name  \\\n",
       "0      1209480151014223872               Eye_17⚪❤⚪          Mix1610   \n",
       "1       940410625091690503                    Iaru           IJures   \n",
       "2       752261227074752512                𝕷𝖚𝖈𝖍𝖎𝖙𝖔🚀    16Luchopascua   \n",
       "3               3243936933     Fan de la guepardex  ciruelaferreira   \n",
       "4               4503911837     CANELONES AZULGRANA    CaneAzulgrana   \n",
       "...                    ...                     ...              ...   \n",
       "93709           3059356973                     Glo         TomeoGlo   \n",
       "93710           3369553823                       🍕    AlmadaGastton   \n",
       "93711  1369329677559623684  Andy🗿🍀🗿⚗️Astro⚓Tarot🗿⚽   Astro_Futbol14   \n",
       "93712            172921784          Rodrigo Nievas    RodrigoNievas   \n",
       "93713  1354882934193459203        Natalia Montañes    natimontanies   \n",
       "\n",
       "                     location                                         url  \\\n",
       "0                 in my world                                        None   \n",
       "1          Ushuaia, Argentina                                        None   \n",
       "2                        None                                        None   \n",
       "3                  La colimba                                        None   \n",
       "4                        None          http://www.canelonesazulgrana.com/   \n",
       "...                       ...                                         ...   \n",
       "93709                    None                                        None   \n",
       "93710            Loma hermosa     http://www.instagram.com/almadagaston97   \n",
       "93711  Argentina buenos aires  https://www.instagram.com/andresito_andy14   \n",
       "93712    Jesús María, Córdoba                                        None   \n",
       "93713                    None                                        None   \n",
       "\n",
       "                                             description verified  \\\n",
       "0      AGUANTE RIVER ⚪❤⚪9/12/18🏆🏆🏆🏆\\nla musica es vid...    False   \n",
       "1                                                    💙💛💙    False   \n",
       "2                      http://instagram.com/lucho_pascua    False   \n",
       "3      fan de tally hall y Riquelme estoy infravalora...    False   \n",
       "4                                                   None    False   \n",
       "...                                                  ...      ...   \n",
       "93709                                               None    False   \n",
       "93710  #Cosculluela 20/8/17🤴 \\n~· De el más grande Ri...    False   \n",
       "93711  Administrativo💻🖥️👔\\nAstrología🌕🌠☀️☄️\\nTarot🔮🔮\\...    False   \n",
       "93712  Periodista @radiojesusmaria / Papá por siempre...    False   \n",
       "93713  Cada tanto escribo canciones 💖🎤 Estudiante de ...    False   \n",
       "\n",
       "       followers_count  friends_count created_at  \\\n",
       "0                 75.0          135.0 2019-12-24   \n",
       "1                412.0          266.0 2017-12-12   \n",
       "2                316.0          269.0 2016-10-07   \n",
       "3                163.0          492.0 2015-09-05   \n",
       "4               2483.0           62.0 2015-12-16   \n",
       "...                ...            ...        ...   \n",
       "93709           1313.0         1524.0 2015-02-24   \n",
       "93710            544.0          923.0 2015-10-07   \n",
       "93711           1097.0          367.0 2021-09-03   \n",
       "93712           1291.0          487.0 2010-07-30   \n",
       "93713            324.0          352.0 2021-01-28   \n",
       "\n",
       "                                       profile_image_url  \n",
       "0      http://pbs.twimg.com/profile_images/1278113391...  \n",
       "1      http://pbs.twimg.com/profile_images/1433457808...  \n",
       "2      http://pbs.twimg.com/profile_images/1417796214...  \n",
       "3      http://pbs.twimg.com/profile_images/1419371232...  \n",
       "4      http://pbs.twimg.com/profile_images/1444334396...  \n",
       "...                                                  ...  \n",
       "93709  http://pbs.twimg.com/profile_images/1437205249...  \n",
       "93710  http://pbs.twimg.com/profile_images/1434227589...  \n",
       "93711  http://pbs.twimg.com/profile_images/1442994591...  \n",
       "93712  http://pbs.twimg.com/profile_images/8318929520...  \n",
       "93713  http://pbs.twimg.com/profile_images/1354884341...  \n",
       "\n",
       "[93714 rows x 11 columns]"
      ]
     },
     "execution_count": 23,
     "metadata": {},
     "output_type": "execute_result"
    }
   ],
   "source": [
    "dfUserFiltrado"
   ]
  },
  {
   "cell_type": "code",
   "execution_count": 34,
   "metadata": {},
   "outputs": [
    {
     "name": "stderr",
     "output_type": "stream",
     "text": [
      "C:\\ProgramData\\Anaconda3\\lib\\site-packages\\ipykernel_launcher.py:1: SettingWithCopyWarning: \n",
      "A value is trying to be set on a copy of a slice from a DataFrame.\n",
      "Try using .loc[row_indexer,col_indexer] = value instead\n",
      "\n",
      "See the caveats in the documentation: https://pandas.pydata.org/pandas-docs/stable/user_guide/indexing.html#returning-a-view-versus-a-copy\n",
      "  \"\"\"Entry point for launching an IPython kernel.\n",
      "C:\\ProgramData\\Anaconda3\\lib\\site-packages\\ipykernel_launcher.py:2: SettingWithCopyWarning: \n",
      "A value is trying to be set on a copy of a slice from a DataFrame.\n",
      "Try using .loc[row_indexer,col_indexer] = value instead\n",
      "\n",
      "See the caveats in the documentation: https://pandas.pydata.org/pandas-docs/stable/user_guide/indexing.html#returning-a-view-versus-a-copy\n",
      "  \n"
     ]
    }
   ],
   "source": [
    "dfUserFiltrado['followers_count'] = dfUserFiltrado['followers_count'].fillna(0)\n",
    "dfUserFiltrado['friends_count'] = dfUserFiltrado['friends_count'].fillna(0)"
   ]
  },
  {
   "cell_type": "code",
   "execution_count": 35,
   "metadata": {},
   "outputs": [
    {
     "name": "stderr",
     "output_type": "stream",
     "text": [
      "C:\\ProgramData\\Anaconda3\\lib\\site-packages\\ipykernel_launcher.py:1: SettingWithCopyWarning: \n",
      "A value is trying to be set on a copy of a slice from a DataFrame.\n",
      "Try using .loc[row_indexer,col_indexer] = value instead\n",
      "\n",
      "See the caveats in the documentation: https://pandas.pydata.org/pandas-docs/stable/user_guide/indexing.html#returning-a-view-versus-a-copy\n",
      "  \"\"\"Entry point for launching an IPython kernel.\n",
      "C:\\ProgramData\\Anaconda3\\lib\\site-packages\\ipykernel_launcher.py:2: SettingWithCopyWarning: \n",
      "A value is trying to be set on a copy of a slice from a DataFrame.\n",
      "Try using .loc[row_indexer,col_indexer] = value instead\n",
      "\n",
      "See the caveats in the documentation: https://pandas.pydata.org/pandas-docs/stable/user_guide/indexing.html#returning-a-view-versus-a-copy\n",
      "  \n"
     ]
    }
   ],
   "source": [
    "dfUserFiltrado['followers_count'] = dfUserFiltrado['followers_count'].astype(int)\n",
    "dfUserFiltrado['friends_count'] = dfUserFiltrado['friends_count'].astype(int)"
   ]
  },
  {
   "cell_type": "code",
   "execution_count": 36,
   "metadata": {},
   "outputs": [
    {
     "data": {
      "text/plain": [
       "numpy.int32"
      ]
     },
     "execution_count": 36,
     "metadata": {},
     "output_type": "execute_result"
    }
   ],
   "source": [
    "type(dfUserFiltrado['followers_count'][0])"
   ]
  },
  {
   "cell_type": "code",
   "execution_count": 37,
   "metadata": {},
   "outputs": [],
   "source": [
    "dfUserFiltrado.to_csv('userFiltrado.csv')"
   ]
  },
  {
   "cell_type": "code",
   "execution_count": 13,
   "metadata": {},
   "outputs": [],
   "source": [
    "df['created_at'] = pd.to_datetime(df['created_at'])\n",
    "df['created_at'] = df['created_at'].dt.strftime('%d/%m/%Y %H:%M:%S')\n",
    "df['created_at'] = pd.to_datetime(df['created_at'])"
   ]
  },
  {
   "cell_type": "code",
   "execution_count": 14,
   "metadata": {},
   "outputs": [
    {
     "data": {
      "text/plain": [
       "'RT @RiverLPM: ¿Desde dónde vas a alentar a River hoy? https://t.co/nLohOe7moq'"
      ]
     },
     "execution_count": 14,
     "metadata": {},
     "output_type": "execute_result"
    }
   ],
   "source": [
    "df['text'][0]"
   ]
  },
  {
   "cell_type": "code",
   "execution_count": 27,
   "metadata": {},
   "outputs": [],
   "source": [
    "df[\"text\"].fillna(\"None\", inplace = True)"
   ]
  },
  {
   "cell_type": "markdown",
   "metadata": {},
   "source": [
    "#### Teniendo la columna formateada correctamente, procedemos a separar los tweets en un intervalo de 5 minutos"
   ]
  },
  {
   "cell_type": "code",
   "execution_count": 15,
   "metadata": {},
   "outputs": [
    {
     "data": {
      "text/plain": [
       "0       2021-03-10 19:31:35\n",
       "1       2021-03-10 19:31:36\n",
       "2       2021-03-10 19:31:36\n",
       "3       2021-03-10 19:31:36\n",
       "4       2021-03-10 19:31:36\n",
       "                ...        \n",
       "93709   2021-03-10 22:25:23\n",
       "93710   2021-03-10 22:25:24\n",
       "93711   2021-03-10 22:25:23\n",
       "93712   2021-03-10 22:25:23\n",
       "93713   2021-03-10 22:25:24\n",
       "Name: created_at, Length: 93714, dtype: datetime64[ns]"
      ]
     },
     "execution_count": 15,
     "metadata": {},
     "output_type": "execute_result"
    }
   ],
   "source": [
    "df['created_at']"
   ]
  },
  {
   "cell_type": "code",
   "execution_count": 16,
   "metadata": {
    "id": "jV64p6RKOGgi"
   },
   "outputs": [
    {
     "data": {
      "text/html": [
       "<div>\n",
       "<style scoped>\n",
       "    .dataframe tbody tr th:only-of-type {\n",
       "        vertical-align: middle;\n",
       "    }\n",
       "\n",
       "    .dataframe tbody tr th {\n",
       "        vertical-align: top;\n",
       "    }\n",
       "\n",
       "    .dataframe thead th {\n",
       "        text-align: right;\n",
       "    }\n",
       "</style>\n",
       "<table border=\"1\" class=\"dataframe\">\n",
       "  <thead>\n",
       "    <tr style=\"text-align: right;\">\n",
       "      <th></th>\n",
       "      <th>created_at</th>\n",
       "      <th>0</th>\n",
       "    </tr>\n",
       "  </thead>\n",
       "  <tbody>\n",
       "    <tr>\n",
       "      <th>0</th>\n",
       "      <td>2021-03-10 19:30:00</td>\n",
       "      <td>RT @RiverLPM: ¿Desde dónde vas a alentar a Riv...</td>\n",
       "    </tr>\n",
       "    <tr>\n",
       "      <th>1</th>\n",
       "      <td>2021-03-10 19:35:00</td>\n",
       "      <td>RT @cariverplatecom: Hoy RIVER https://t.co/ET...</td>\n",
       "    </tr>\n",
       "    <tr>\n",
       "      <th>2</th>\n",
       "      <td>2021-03-10 19:40:00</td>\n",
       "      <td>¡Solo unos minutos para el #Superclásico en Ar...</td>\n",
       "    </tr>\n",
       "    <tr>\n",
       "      <th>3</th>\n",
       "      <td>2021-03-10 19:45:00</td>\n",
       "      <td>Viste, descargá ahora @PrendeTV y disfrutá del...</td>\n",
       "    </tr>\n",
       "    <tr>\n",
       "      <th>4</th>\n",
       "      <td>2021-03-10 19:50:00</td>\n",
       "      <td>estamos de acuerdo que hay mas de 50 % en la c...</td>\n",
       "    </tr>\n",
       "    <tr>\n",
       "      <th>5</th>\n",
       "      <td>2021-03-10 19:55:00</td>\n",
       "      <td>⚽ Liga Profesional: River vs. Boca\\n\\n📽 \"Para ...</td>\n",
       "    </tr>\n",
       "    <tr>\n",
       "      <th>6</th>\n",
       "      <td>2021-03-10 20:00:00</td>\n",
       "      <td>Dalesandro, ¿está en el Monumental viendo a Ri...</td>\n",
       "    </tr>\n",
       "    <tr>\n",
       "      <th>7</th>\n",
       "      <td>2021-03-10 20:05:00</td>\n",
       "      <td>Los hinchas de river saben lo que es alentar? ...</td>\n",
       "    </tr>\n",
       "    <tr>\n",
       "      <th>8</th>\n",
       "      <td>2021-03-10 20:10:00</td>\n",
       "      <td>⚽Liga Profesional: River vs. Boca\\n\\nLos hinch...</td>\n",
       "    </tr>\n",
       "    <tr>\n",
       "      <th>9</th>\n",
       "      <td>2021-03-10 20:15:00</td>\n",
       "      <td>¡Arranca el #superclasico!\\nElegí el Jugador M...</td>\n",
       "    </tr>\n",
       "    <tr>\n",
       "      <th>10</th>\n",
       "      <td>2021-03-10 20:20:00</td>\n",
       "      <td>RT @thegovii: Medios porteños cuando juega Bel...</td>\n",
       "    </tr>\n",
       "    <tr>\n",
       "      <th>11</th>\n",
       "      <td>2021-03-10 20:25:00</td>\n",
       "      <td>Un billar la cancha. Orgullo RiverPese a que B...</td>\n",
       "    </tr>\n",
       "    <tr>\n",
       "      <th>12</th>\n",
       "      <td>2021-03-10 20:30:00</td>\n",
       "      <td>RT @RiverPlate: #VamosRiver ⚪️🔴⚪️\\n\\n⌚️ 25' PT...</td>\n",
       "    </tr>\n",
       "    <tr>\n",
       "      <th>13</th>\n",
       "      <td>2021-03-10 20:35:00</td>\n",
       "      <td>Carrascal va por la cola🇦🇷 Vuelve el público a...</td>\n",
       "    </tr>\n",
       "    <tr>\n",
       "      <th>14</th>\n",
       "      <td>2021-03-10 20:40:00</td>\n",
       "      <td>RT @ltorrestoranzo: Desde el 2016 que River no...</td>\n",
       "    </tr>\n",
       "    <tr>\n",
       "      <th>15</th>\n",
       "      <td>2021-03-10 20:45:00</td>\n",
       "      <td>Vamos.....vamoooodsssd la concha de la loraaaa...</td>\n",
       "    </tr>\n",
       "    <tr>\n",
       "      <th>16</th>\n",
       "      <td>2021-03-10 20:50:00</td>\n",
       "      <td>RT @so_ferrari_CARP: GALLARDO ES DE RIVER DE R...</td>\n",
       "    </tr>\n",
       "    <tr>\n",
       "      <th>17</th>\n",
       "      <td>2021-03-10 20:55:00</td>\n",
       "      <td>públicamente mi hijo no es de river https://t....</td>\n",
       "    </tr>\n",
       "    <tr>\n",
       "      <th>18</th>\n",
       "      <td>2021-03-10 21:00:00</td>\n",
       "      <td>termo hermosoEl q la va a pasar mal va a ser J...</td>\n",
       "    </tr>\n",
       "    <tr>\n",
       "      <th>19</th>\n",
       "      <td>2021-03-10 21:05:00</td>\n",
       "      <td>RT @gladiadoresfutb: Tras una polémica primera...</td>\n",
       "    </tr>\n",
       "    <tr>\n",
       "      <th>20</th>\n",
       "      <td>2021-03-10 21:10:00</td>\n",
       "      <td>RT @RiverPlate: #VamosRiver ⚪️🔴⚪️\\n\\n⌚️ 32' PT...</td>\n",
       "    </tr>\n",
       "    <tr>\n",
       "      <th>21</th>\n",
       "      <td>2021-03-10 21:15:00</td>\n",
       "      <td>@Tuteee28 Coincido en lo de River, partido nor...</td>\n",
       "    </tr>\n",
       "    <tr>\n",
       "      <th>22</th>\n",
       "      <td>2021-03-10 21:20:00</td>\n",
       "      <td>Pongan a la reserva  #SuperclasicoRT @aha_andr...</td>\n",
       "    </tr>\n",
       "    <tr>\n",
       "      <th>23</th>\n",
       "      <td>2021-03-10 21:25:00</td>\n",
       "      <td>RT @so_ferrari_CARP: GALLARDO ES DE RIVER DE R...</td>\n",
       "    </tr>\n",
       "    <tr>\n",
       "      <th>24</th>\n",
       "      <td>2021-03-10 21:30:00</td>\n",
       "      <td>Deje de estudiar para ver al cornudo de rolón ...</td>\n",
       "    </tr>\n",
       "    <tr>\n",
       "      <th>25</th>\n",
       "      <td>2021-03-10 21:35:00</td>\n",
       "      <td>RT @ESPNArgentina: ¡LA ALEGRÍA DEL MUÑECO! Así...</td>\n",
       "    </tr>\n",
       "    <tr>\n",
       "      <th>26</th>\n",
       "      <td>2021-03-10 21:40:00</td>\n",
       "      <td>RT @robertoayala10: Que golazo Monumental Juli...</td>\n",
       "    </tr>\n",
       "    <tr>\n",
       "      <th>27</th>\n",
       "      <td>2021-03-10 21:45:00</td>\n",
       "      <td>RT @RiverPlate: #VamosRiver ⚪️🔴⚪️\\n\\n⌚️ 37' ST...</td>\n",
       "    </tr>\n",
       "    <tr>\n",
       "      <th>28</th>\n",
       "      <td>2021-03-10 21:50:00</td>\n",
       "      <td>Boca no jugó  muy bien, el arbitro no jugó bie...</td>\n",
       "    </tr>\n",
       "    <tr>\n",
       "      <th>29</th>\n",
       "      <td>2021-03-10 21:55:00</td>\n",
       "      <td>RT @Flecha_80: La expulsión de Rojo es una ver...</td>\n",
       "    </tr>\n",
       "    <tr>\n",
       "      <th>30</th>\n",
       "      <td>2021-03-10 22:00:00</td>\n",
       "      <td>@debate_millo Y un pibe de la reserva de River...</td>\n",
       "    </tr>\n",
       "    <tr>\n",
       "      <th>31</th>\n",
       "      <td>2021-03-10 22:05:00</td>\n",
       "      <td>me puse la alarma y me desperté solo para ver ...</td>\n",
       "    </tr>\n",
       "    <tr>\n",
       "      <th>32</th>\n",
       "      <td>2021-03-10 22:10:00</td>\n",
       "      <td>RT @GermanBalcarce: \"Olele, olalá, Gallardo es...</td>\n",
       "    </tr>\n",
       "    <tr>\n",
       "      <th>33</th>\n",
       "      <td>2021-03-10 22:15:00</td>\n",
       "      <td>RT @sudanalytics_: Doblete y el jugador de Riv...</td>\n",
       "    </tr>\n",
       "    <tr>\n",
       "      <th>34</th>\n",
       "      <td>2021-03-10 22:20:00</td>\n",
       "      <td>@juancortese Hace mucho que no le ganabamos en...</td>\n",
       "    </tr>\n",
       "    <tr>\n",
       "      <th>35</th>\n",
       "      <td>2021-03-10 22:25:00</td>\n",
       "      <td>RT @acristofalo: El famoso River https://t.co/...</td>\n",
       "    </tr>\n",
       "  </tbody>\n",
       "</table>\n",
       "</div>"
      ],
      "text/plain": [
       "            created_at                                                  0\n",
       "0  2021-03-10 19:30:00  RT @RiverLPM: ¿Desde dónde vas a alentar a Riv...\n",
       "1  2021-03-10 19:35:00  RT @cariverplatecom: Hoy RIVER https://t.co/ET...\n",
       "2  2021-03-10 19:40:00  ¡Solo unos minutos para el #Superclásico en Ar...\n",
       "3  2021-03-10 19:45:00  Viste, descargá ahora @PrendeTV y disfrutá del...\n",
       "4  2021-03-10 19:50:00  estamos de acuerdo que hay mas de 50 % en la c...\n",
       "5  2021-03-10 19:55:00  ⚽ Liga Profesional: River vs. Boca\\n\\n📽 \"Para ...\n",
       "6  2021-03-10 20:00:00  Dalesandro, ¿está en el Monumental viendo a Ri...\n",
       "7  2021-03-10 20:05:00  Los hinchas de river saben lo que es alentar? ...\n",
       "8  2021-03-10 20:10:00  ⚽Liga Profesional: River vs. Boca\\n\\nLos hinch...\n",
       "9  2021-03-10 20:15:00  ¡Arranca el #superclasico!\\nElegí el Jugador M...\n",
       "10 2021-03-10 20:20:00  RT @thegovii: Medios porteños cuando juega Bel...\n",
       "11 2021-03-10 20:25:00  Un billar la cancha. Orgullo RiverPese a que B...\n",
       "12 2021-03-10 20:30:00  RT @RiverPlate: #VamosRiver ⚪️🔴⚪️\\n\\n⌚️ 25' PT...\n",
       "13 2021-03-10 20:35:00  Carrascal va por la cola🇦🇷 Vuelve el público a...\n",
       "14 2021-03-10 20:40:00  RT @ltorrestoranzo: Desde el 2016 que River no...\n",
       "15 2021-03-10 20:45:00  Vamos.....vamoooodsssd la concha de la loraaaa...\n",
       "16 2021-03-10 20:50:00  RT @so_ferrari_CARP: GALLARDO ES DE RIVER DE R...\n",
       "17 2021-03-10 20:55:00  públicamente mi hijo no es de river https://t....\n",
       "18 2021-03-10 21:00:00  termo hermosoEl q la va a pasar mal va a ser J...\n",
       "19 2021-03-10 21:05:00  RT @gladiadoresfutb: Tras una polémica primera...\n",
       "20 2021-03-10 21:10:00  RT @RiverPlate: #VamosRiver ⚪️🔴⚪️\\n\\n⌚️ 32' PT...\n",
       "21 2021-03-10 21:15:00  @Tuteee28 Coincido en lo de River, partido nor...\n",
       "22 2021-03-10 21:20:00  Pongan a la reserva  #SuperclasicoRT @aha_andr...\n",
       "23 2021-03-10 21:25:00  RT @so_ferrari_CARP: GALLARDO ES DE RIVER DE R...\n",
       "24 2021-03-10 21:30:00  Deje de estudiar para ver al cornudo de rolón ...\n",
       "25 2021-03-10 21:35:00  RT @ESPNArgentina: ¡LA ALEGRÍA DEL MUÑECO! Así...\n",
       "26 2021-03-10 21:40:00  RT @robertoayala10: Que golazo Monumental Juli...\n",
       "27 2021-03-10 21:45:00  RT @RiverPlate: #VamosRiver ⚪️🔴⚪️\\n\\n⌚️ 37' ST...\n",
       "28 2021-03-10 21:50:00  Boca no jugó  muy bien, el arbitro no jugó bie...\n",
       "29 2021-03-10 21:55:00  RT @Flecha_80: La expulsión de Rojo es una ver...\n",
       "30 2021-03-10 22:00:00  @debate_millo Y un pibe de la reserva de River...\n",
       "31 2021-03-10 22:05:00  me puse la alarma y me desperté solo para ver ...\n",
       "32 2021-03-10 22:10:00  RT @GermanBalcarce: \"Olele, olalá, Gallardo es...\n",
       "33 2021-03-10 22:15:00  RT @sudanalytics_: Doblete y el jugador de Riv...\n",
       "34 2021-03-10 22:20:00  @juancortese Hace mucho que no le ganabamos en...\n",
       "35 2021-03-10 22:25:00  RT @acristofalo: El famoso River https://t.co/..."
      ]
     },
     "execution_count": 16,
     "metadata": {},
     "output_type": "execute_result"
    }
   ],
   "source": [
    "dataSegmentada5m = df[['created_at', 'text']].resample('5min', on='created_at').text.sum()\n",
    "dataSegmentada5min = dataSegmentada5m.to_frame().reset_index()\n",
    "dataSegmentada5min"
   ]
  },
  {
   "cell_type": "code",
   "execution_count": 19,
   "metadata": {},
   "outputs": [
    {
     "data": {
      "text/plain": [
       "'RT @RiverLPM: ¿Desde dónde vas a alentar a River hoy? https://t.co/nLohOe7moqRT @RinconDeBoca: El que no salta murió en Madrid canta River. Yo no puedo creerlo. https://t.co/WLjfmTAhYNRT @abertini1: Bueno gente, como dice la canción, dejo todo lo que tengo que hacer y me voy a ver a River PlateRT @frabigol: Nose si le quedo claro a Vignolo lo que piensan en River sobre el.  https://t.co/T0RmklHm2M#CopaOFI A los 19’ Manolo Gómez pone el 1-0 de Wanderers ante River Plate en San José. https://t.co/cafOMzwSCYRT @frabigol: Nose si le quedo claro a Vignolo lo que piensan en River sobre el.  https://t.co/T0RmklHm2MRT @WaruiJohn2: River Plate Vs Boca Junior🔥🔥🔥🔥🔥🔥🔥🔥\\nEstadio Monumental\\n#SuperclasicoRT @DiarioOle: ⚪️🔴 El aliento de los hinchas de River en la previa al Superclásico con Boca.\\n\\n📹 @catalinasarra https://t.co/MU0OYiKwcmUy es de River , es x acá.La final del futsal ya me hizo sufrir demasiado, y en media hora es el SuperclasicoRT @frabigol: Nose si le quedo claro a Vignolo lo que piensan en River sobre el.  https://t.co/T0RmklHm2M🚨⚽️ Gallardo confirmó el equipo con Palavecino y el juvenil Simón #River #Boca #Superclasico #LigaProfesional… https://t.co/f2zNnFreCxRT @TNTSportsAR: Mensajes de Armani, Álvarez y Ponzio para los hinchas de River ❤️\\U0001f90d\\n\\n#SuperclásicoxTNTsports\\nhttps://t.co/nXTwZ0jKdBRT @frabigol: Nose si le quedo claro a Vignolo lo que piensan en River sobre el.  https://t.co/T0RmklHm2MCada vez que veo la cancha de River con esas lonas flasheo que están jugando en el Único de La Plata. Tanto gris, n… https://t.co/wLBdpkY6AhRT @frabigol: Nose si le quedo claro a Vignolo lo que piensan en River sobre el.  https://t.co/T0RmklHm2MLindo día no? no hay nada de frio... Pasa que se juega el superclásico y por suerte es en el monumental. ❤️\\U0001f90dRT @ESPNFutbolChile: ¡PAULO DÍAZ, TITULAR EN RIVER PARA EL SUPERCLÁSICO!\\nEstas son las alineaciones del \"Millonario\" y de Boca Juniors para…RT @DiarioOle: ⚪️🔴 El aliento de los hinchas de River en la previa al Superclásico con Boca.\\n\\n📹 @catalinasarra https://t.co/MU0OYiKwcmRT @javigilnavarro: Simplemente #River https://t.co/DMNaXUxml5RT @RiverPlate: Suplentes de River: 25. Bologna, 16. Vigo, 22. Pinola, 13. Fernández, 23. Ponzio, 5. Zuculini, 26. Paradela, 28. Peña Biafo…RT @cristiannmillo: Mira lo que es eso papaaaaa. Dale River carajo....vamaaaaaaaaa....RT @giraltpablo: ¡Ya estamos en la previa del #Superclásico en El Monumental!\\n\\n🔽Sumate a \\n@TNTSportsAR\\n o prendete al #Matchday para vivir…no puedo creer que es el ultimo superclasico de leobueno en media hora a sufrir devuelta por el superclásico-ahora se viene el superclásico\\n-¿argentina vs boca?\\n-……………… 🙄RT @RiverLPM: 😍 River vos sos mi locura. https://t.co/pWLRknnUZwRT @GerCarp35: Hoy River, Superclásico y vuelve la fiesta al Monumental, todo lo demás no interesa. 🐔RT @frabigol: Nose si le quedo claro a Vignolo lo que piensan en River sobre el.  https://t.co/T0RmklHm2MRT @ElMichalito: Domingo:\\n\\n08:00 - PSG vs Rennes\\n12:30  - Liverpool vs City \\n14:00 - La final del mundo de Fustal Argentina vs Portugal\\n17:…Este tipo junto con #Orsini se merecen un gran #Superclasico #Rojo y el 9 con gol sería un sueño, pero real...Sigan subiendo historias con la camiseta de River 😍😍😍😍¡Formaciones confirmadas!\\n\\n#Boca: Rossi; Fabra, Rojo, Izquierdoz, Advíncula; Almendra, Campuzano, González; Cardona… https://t.co/4IDC3aTjyeRT @frabigol: Nose si le quedo claro a Vignolo lo que piensan en River sobre el.  https://t.co/T0RmklHm2MRT @RiverPlate: Suplentes de River: 25. Bologna, 16. Vigo, 22. Pinola, 13. Fernández, 23. Ponzio, 5. Zuculini, 26. Paradela, 28. Peña Biafo…Bueno para completar esta hermosa tarde soleada, superclasico con gente y después stream hasta muy tarde de la madrugada, como siempreEs Hoy River De Mi Vida ❤️literalmente dijo que river es mas grande ☠️RT @RiverPlatePho: ¡EXPLOTA EL MONUMENTAL! River Plate saltó al campo de juego para la entrada en calor!!\\n\\n https://t.co/d4C9KVuMRm@CamiPenalber @RiverPlate Vamos River todaviaMe parece perfecto@frabigol Murió riverRT @AndreLazov: Hoy? no puedo juega el club que se cogió y mato a su clásico rival ¡Hoy juega River!RT @JuanManuelSimo: HOY RIVER https://t.co/kavSstBN4ZRT @Nacho_Lotitto: #River perdió a 6 de los 14 futbolistas que jugaron el último partido con público en el Monumental (29/02/20, vs Defensa…Pavón tiene que demostrar que no es de river 😂RT @DiarioOle: Estos son los 11 de #Boca para el Superclásico 🔵\\U0001f7e0\\nhttps://t.co/IPqWr72kuLRT @CCoqueta21: Dale rt y apostemos quien gana el clásico? Entrego el orto si le gana boca a River 🤭 https://t.co/UZNNhH6dfXRT @javigilnavarro: Y de golpe el hincha de #River empezó a cantar: \"el #Pity Martínez, que loco que está...\". https://t.co/BwNqQy0Mm8#Superclasico | 🏟 Así está el Estadio #Monumental a una hora del inicio del partido \\n\\n❕El aforo supera ampliamente… https://t.co/LyFfeN5vzelastima que sean de river xdRT @frabigol: Nose si le quedo claro a Vignolo lo que piensan en River sobre el.  https://t.co/T0RmklHm2MEl pollo vignolo? Muy querido por la gente de River https://t.co/EPtGdtP4ynRT @infobae: La emoción de los hinchas de River en la antesala del primer superclásico con público desde que se decretó la pandemia https:/…RT @frabigol: Nose si le quedo claro a Vignolo lo que piensan en River sobre el.  https://t.co/T0RmklHm2M@FrancoOrlaand @ClossMoments Según esta garota se pelearon \\n\\nhttps://t.co/Bt8fcPCNHmRT @frabigol: Nose si le quedo claro a Vignolo lo que piensan en River sobre el.  https://t.co/T0RmklHm2MRT @dannysays36: Y vamos, vamos River Plate!!! https://t.co/khgR6gO5spQue amargos que son los de river por favor ESTÁN EN LA CANCHA ALIENTEN LA CONCHA DE SU MADRE HAGAN ALGO EL MUNOMENT… https://t.co/uqiYfZxJWKTremenda resaca tengo todavía y yo tomando vino sola, pero que me importa si juega riverRT @TNTSportsAR: LOS HÉROES DE MADRID ⚪🔴⚪\\n\\nLa hermosa pintadita de River en las calles del Monumental 🏟\\n\\n#SuperclásicoxTNTsports https://t.…RT @SectaDeporOk: 🔊 Activen el sonido y disfruten de la vuelta del público. \\n\\n🏟 Estadio Monumental\\n⏰ 16.25\\n👊🏻 River 🆚 Boca https://t.co/cTo…RT @sudanalytics_: ESPECIAL RIVER-BOCA\\n\\nEl efecto Battaglia, los grandes números de River, jugadores y ausencias clave, y mucho más. El hil…RT @oraldeportivaok: #SuperclásicoEnRadioRivadavia\\n\\n¡Se nos viene el clásico de #River vs #Boca con #PasiónDeMultitudes! ⚽️\\n\\nRelata @perazz…RT @AlmaPinedo6: No puedo, juega el River de Gallardo❤️😍 y ahora que gane river y es el mejor domingo que tuve!! 😍❤️RT @frabigol: Nose si le quedo claro a Vignolo lo que piensan en River sobre el.  https://t.co/T0RmklHm2MTodos hablan de River antes del partido, pero SIEMPRE VENDE MAS @BocaJrsOficial, es así y SEGUIRÁ SIENDO ⚄⚂⚄No podría volver a estar con uno de boca, pero bueno, nunca digas nunca dijo JustinPero qué hermosoRT @FacundoBrignolo: HOY JUEGA RIVER. https://t.co/peziuKHz5DRT @RiverLPM: ¿Desde dónde vas a alentar a River hoy? https://t.co/nLohOe7moqRT @juancortese: Arrancamos @Sportia con el hincha de River y de Enzo tatuado en la piel... Ya vivimos el Superclásico! https://t.co/D87FHH…@RomanoWestwood Básicamente querés que pierda RiverRT @so_ferrari_CARP: Perdió Messi, perdió la selección de Futsal y ahora encima va a perder River, es inevitable que eso pase. Van a ganar…A 30’ de que arranca River-Boca, hay muuuucho más que el 50 % en las tribunas.Hoy estaré en el minuto a minuto del superclásico argentino para VAVEL Argentina y latinoamérica.\\nNos leemos despué… https://t.co/9UXGrFsodTRT @MigueHoffmann: #River Entrada en calor. Los jugadores se reencuentran con la gente. La primera ovación para Enzo Nicolás Pérez.\\n@oralde…ES HOY RIVER DE MI VIDA❤️@SoyMarloqOK aguante river y temperley nasheEn FoxSports estan queriendo justificar a el Pulpo Gonzales y que este en el Rolon antes que Varela.\\nLos sobres del… https://t.co/DCfJmtsX3oRT @gonchobanzas: Bueno para completar esta hermosa tarde soleada, superclasico con gente y después stream hasta muy tarde de la madrugada,…river gana caminandoRiver Vs Boca\\nDomingo 3/10/2021, 17 horas\\nBoca Juniors\\nAgustín Rossi; Luis Advíncula, Carlos Izquierdoz, Marcos Roj… https://t.co/23xImPRUVERT @luucadb_: Me acordé lo mucho que me gustaba jugar un Boca-River en el FIFA un rato antes de que arranque el partido cuando era chico. T…RT @DiarioOle: ⚪️🔴 El aliento de los hinchas de River en la previa al Superclásico con Boca.\\n\\n📹 @catalinasarra https://t.co/MU0OYiKwcmRT @diegoborinsky: Se viene el abrazo de Gallardo con el 5° DT de Boca al que enfrentará durante sus casi 7 años y medio como DT de River.…RT @frabigol: Nose si le quedo claro a Vignolo lo que piensan en River sobre el.  https://t.co/T0RmklHm2MRT @Geminiana3077: Vamooo River de mi vida  !!! https://t.co/ckYmTy0vdFPronóstico🔥🥵🥵:\\n\\nRiver 3-3 Boca 😝🤙🏻😎😅😳🥳😮RT @so_ferrari_CARP: Perdió Messi, perdió la selección de Futsal y ahora encima va a perder River, es inevitable que eso pase. Van a ganar…@ManuelD99269649 @AxelDelvalle16 @contraamarea Me entero que ese año jugaron contra River la pre libertadores 🤣Esperemos que hoy River nos dé un poco de alegríaMi tía quería que lo cuide a mi sobrino no entiende el \"No puedo juega River\" parece..No se si no me acuesto a dormir y ni miro el Superclásico eh... No se@yoongiltb sisis ya veo que se agarran, mi papá es de river y su amigo también, las demás somos todas de boca alto descanso le hacemos#ElMasGrande Lejos! #River ⚪❣⚪💪Excelente, triunfa la libertad⚽️El Superclásico no va a estar solo en el fútbol, también se va a jugar en el ¡TRUCO! \\n\\n-\\n #TrucoPosta https://t.co/O1waVaOYCdah si por suerte lo quieren mucho a vignolo los hinchas de riverRT @MonicaPereyra24: Siento que se me sale el corazón, que lindo!!! #JuntosOtraVezRT @Radio10: #SuperClasico | \\n\\n¡@BocaJrsOficial confirmó equipo, estos son los 11 del equipo de Sebastián Battaglia!\\n\\nVía: @CardosoClaudio9…@TyCSports Se sabe que vende más un superclasico que cualquier partido, pero tienen razón. Usen otros canales para la previaRT @DiarioOle: ⚪️🔴 El aliento de los hinchas de River en la previa al Superclásico con Boca.\\n\\n📹 @catalinasarra https://t.co/MU0OYiKwcmLO GANA RIVERRT @vivas_enzo: Q HERMOSO ES SER DE RIVER ❤️❤️❤️❤️❤️RT @IdentidadRiver1: Los 11\\n\\nArmani\\nCasco,Rojas,Díaz y Angileri\\nSimón, Pérez, Palavecino y De la Cruz\\nÁlvarez y Romero \\n\\nVamos River ⚪🔴⚪️RT @okdobleamarilla: #Superclasico | 🏟 Así está el Estadio #Monumental a una hora del inicio del partido \\n\\n❕El aforo supera ampliamente el…@gonza00_1 Ruggeri influyó mucho para que Gareca fuera a River con él.Universidades: cerradas.\\nEstadios y boliches: abiertos.RT @higuainista: No se si le quedo claro a @PolloVignolo lo que se piensa en River de el.  https://t.co/iYEa6kVYGWRT @RinconDeBoca: El que no salta murió en Madrid canta River. Yo no puedo creerlo. https://t.co/WLjfmTAhYNRT @RiverLPM: ¿Desde dónde vas a alentar a River hoy? https://t.co/nLohOe7moqRT @BokenHam12: “Salvo el que es de River, ningún futbolero puede pensar que River es mas grande que Boca”\\n\\n-Flavio Azzaro.RT @alinaagomez_: es hoyy river de mi vida🐔♥️Volvió el ambiente del superclasicoOjalá river. Nos regale una victoria contra boca con toda esa gente vamos milloRT @frabigol: Nose si le quedo claro a Vignolo lo que piensan en River sobre el.  https://t.co/T0RmklHm2MVeni que tomamos unos mates y miramos el partido de River\\nEnviar.RT @abertini1: Bueno gente, como dice la canción, dejo todo lo que tengo que hacer y me voy a ver a River PlateRT @gonchobanzas: Bueno para completar esta hermosa tarde soleada, superclasico con gente y después stream hasta muy tarde de la madrugada,…@Oscunenger No estás solo rey, el país menos algunos estamos con vos. Deaaa jajaja vamos river!!!!!Solo falta que gane River y es el mejor domingo del añoRT @frabigol: Nose si le quedo claro a Vignolo lo que piensan en River sobre el.  https://t.co/T0RmklHm2MRT @javigilnavarro: Simplemente #River https://t.co/DMNaXUxml5RT @LigaAFA: La protagonista del día espera por el #Superclásico 😍🙌\\n\\nDesde las 17, #River y #Boca se enfrentarán por la #Fecha14 del #Torne…es hoy river, que lindo estar en casa https://t.co/jCyzvflaEDRT @frabigol: Nose si le quedo claro a Vignolo lo que piensan en River sobre el.  https://t.co/T0RmklHm2MRT @RiverLPM: 😍 River vos sos mi locura. https://t.co/pWLRknnUZwRT @Quiroga12_: Como olvidar esa tarde en el Monumental donde River nos quiso cargar con un chancho y se comieron el descanso de su vida. “…RT @frabigol: Nose si le quedo claro a Vignolo lo que piensan en River sobre el.  https://t.co/T0RmklHm2MRT @Normis591: Y dicen, hay q mantener la distancia 🤦🏼\\u200d♀️🤦🏼\\u200d♀️🤦🏼\\u200d♀️🤬🤬🤬👇🏼👇🏼👇🏼RT @frabigol: Nose si le quedo claro a Vignolo lo que piensan en River sobre el.  https://t.co/T0RmklHm2MRT @FacundoBrignolo: HOY JUEGA RIVER. https://t.co/peziuKHz5DRT @frabigol: Nose si le quedo claro a Vignolo lo que piensan en River sobre el.  https://t.co/T0RmklHm2MRT @AnaiculCarp: PARAAAA SER CAMPEÓN HOY HAY QUE GANAAR 🎶 \\nVAMOS RIVER .... 🐔❤Mi papá se levanto de la siesta gritando \"River campeón\", si pierden ya saben porqueRT @FacundoBrignolo: HOY JUEGA RIVER. https://t.co/peziuKHz5DRT @so_ferrari_CARP: Perdió Messi, perdió la selección de Futsal y ahora encima va a perder River, es inevitable que eso pase. Van a ganar…RT @Geminiana3077: Vamooo River de mi vida  !!! https://t.co/ckYmTy0vdFes hoy river de mi vida \\U0001f90d❤️\\U0001f90dJAJAJAJAJART @TNTSportsAR: HOLA, MUÑECO 👋\\n\\nRiver llegó al Estadio Monumental y fue recibido por una multitud de hinchas ⚪🔴⚪\\n\\n#SuperclásicoxTNTsports…@Sk14_Fn mira el river boca despues\\n,iemtras no te spoilen mirarlo antes o despues es lo mismoMe crucé el micro de River en  Panamericana 🥺❤️Juega Palavecino, encima de enganche:\\n * Si river no gana al menos por un tiempo se van a callar los adoradores ser… https://t.co/VmQhcGUnqiVIGNOLO HIJO DE PUTA\\nLA PUTA QUE TE PARIOORT @CamiiVieera: Hoy juega River el resto es detalle! \\U0001f90d♥\\U0001f90dque deporte hermosoDe River depende que yo no me suicide esta nocheRT @frabigol: Nose si le quedo claro a Vignolo lo que piensan en River sobre el.  https://t.co/T0RmklHm2MRiver-Boca?? Avisen cómo termina porque estoy mirando a mi querido @SpItaliano !!RT @frabigol: Nose si le quedo claro a Vignolo lo que piensan en River sobre el.  https://t.co/T0RmklHm2MRT @frabigol: Nose si le quedo claro a Vignolo lo que piensan en River sobre el.  https://t.co/T0RmklHm2MFumando porro y tomando vino, el que no alienta a River para que carajo vinooRT @RiverPlate: Suplentes de River: 25. Bologna, 16. Vigo, 22. Pinola, 13. Fernández, 23. Ponzio, 5. Zuculini, 26. Paradela, 28. Peña Biafo…Los hinchas de River de la cancha? Che canten cositos hace años que no van a la canchaRT @RiverPlatePho: ¡EXPLOTA EL MONUMENTAL! River Plate saltó al campo de juego para la entrada en calor!!\\n\\n https://t.co/d4C9KVuMRm¡SE JUEGA EL SUPERCLÁSICO CON PÚBLICO! Sumate a #SportsCenter, en vivo por #ESPNenStarPlus, para vivir el minuto a… https://t.co/gL9ZIq4u5ERT @patohechem: Espero que Carrascal se vaya en enero de River. Que Gallardo priorice a Simón o a Palavecino es una declaración de intencio…RT @StellaDem05: Albert debe estar pensando todavía con la cabeza baja!!!Vergonzoso! #ElPeorGobiernoDeLaHistoriaEl Cali ❤️❤️RT @ElMichalito: Domingo:\\n\\n08:00 - PSG vs Rennes\\n12:30  - Liverpool vs City \\n14:00 - La final del mundo de Fustal Argentina vs Portugal\\n17:…@elisolohayuno Donde dan en España el River - Boca?Envidia sana a la gente que viajo a mirar el superclasico!RT @RinconDeBoca: El que no salta murió en Madrid canta River. Yo no puedo creerlo. https://t.co/WLjfmTAhYNQue mal que no este la barra de river la concha de su madre  los chetos son re amargosRT @frabigol: Nose si le quedo claro a Vignolo lo que piensan en River sobre el.  https://t.co/T0RmklHm2MRT @TNTSportsAR: LOS HÉROES DE MADRID ⚪🔴⚪\\n\\nLa hermosa pintadita de River en las calles del Monumental 🏟\\n\\n#SuperclásicoxTNTsports https://t.…RT @frabigol: Nose si le quedo claro a Vignolo lo que piensan en River sobre el.  https://t.co/T0RmklHm2MJkkajajajajkaajjaajajEstá el pity Martínez en el Monumental 😍😍😍😍 \\n\\n#Superclasico #VamosRiverRT @bostermo: Tweet en homenaje a la defensa que puso Abel Alves en el 2010 contra River. Dia del doblete de Gary Medel https://t.co/AiYTcc…No va Carrascal https://t.co/1MH2oDoj0ASUPERCLASICO el dia de hoy. Un domingo especial con uno de los duelos con mas historia y rivalidad en el mundo. Riv… https://t.co/BR0BUGWrR5Querés venir a tomar unos mates y mirar superclasico?\\nEnviar@AnaiculCarp vamos riverLo que daría por estar en la cancha en este momento. Vamos River carajoRT @Evangelina_adri: River y nada más\\n      ⚪♥️⚪\\n#BuenDomingoRT @frabigol: Nose si le quedo claro a Vignolo lo que piensan en River sobre el.  https://t.co/T0RmklHm2MRT @TTRamirezzv: Cada vez que veo la cancha de River con esas lonas flasheo que están jugando en el Único de La Plata. Tanto gris, ni un po…me gusta cómo palpitamos el superclásico con amigo gallina https://t.co/5bF6kC3NtLRT @frabigol: Nose si le quedo claro a Vignolo lo que piensan en River sobre el.  https://t.co/T0RmklHm2Mhacer enojar a jero con river es mi nuevo hobby favRT @frabigol: Nose si le quedo claro a Vignolo lo que piensan en River sobre el.  https://t.co/T0RmklHm2M@iFR4T94 pasame el link para poner la el circulito de river en el icono porfaRT @javigilnavarro: Simplemente #River https://t.co/DMNaXUxml5Si gana river le entrego la cola a mi amorcito 😏👌Todavía queda el 2T de Nacional, y en media hora empieza el Superclásico 🇦🇷.. No sé cómo voy hacer para mirar 😂RT @frabigol: Nose si le quedo claro a Vignolo lo que piensan en River sobre el.  https://t.co/T0RmklHm2M@cake_d_frutilla SOY DE RIVER MUTI TRANKIRT @xmelipr: llega el domingo para ver al campeón River vos sos mi locuuuuuraaaLa manija me consume es hoy River por favor, demuestren como en MadridRT @frabigol: Nose si le quedo claro a Vignolo lo que piensan en River sobre el.  https://t.co/T0RmklHm2MMucho control.River en 2da pocision a 2 puntos del Líder Talleres qie juega mañana.\\nBoca 7mo pero mejorando en su juego.\\nDe La Cr… https://t.co/H8EDtcnxwHEl recibimiento de los hinchas de River a Vignolo\\nhttps://t.co/YT8Ty8bxunQue asco ver la hinchada de River, la verdadRT @NotAdroII: Jjhjdg lo que está la cancha de River, hay mas gente que cuando ascendieron.RT @frabigol: Nose si le quedo claro a Vignolo lo que piensan en River sobre el.  https://t.co/T0RmklHm2MHola #River. Te extrañaba. https://t.co/C6286d6OAVcada vez q veo a esta mina automáticamente s me viene montiel a la cabezaRT @frabigol: Nose si le quedo claro a Vignolo lo que piensan en River sobre el.  https://t.co/T0RmklHm2MRT @palacios_mauro: Mientras que muchos quieren instalar que Boca le agarró la mano a River y que se terminó la racha...De los últimos 11 e…RT @TNTSportsAR: LOS HÉROES DE MADRID ⚪🔴⚪\\n\\nLa hermosa pintadita de River en las calles del Monumental 🏟\\n\\n#SuperclásicoxTNTsports https://t.…Suma mil puntos que sea de RiverRT @TorresErwerle: ✍️ [𝙃𝙄𝙇𝙊]\\n\\nPuerta 12, la tragedia más negra del fútbol argentino: cuando las hinchadas de River y Boca se unieron contra…RT @frabigol: Nose si le quedo claro a Vignolo lo que piensan en River sobre el.  https://t.co/T0RmklHm2MRT @GermanBalcarce: #RIVER | Recién hubo una enorme ovación a Gonzalo Martínez, presente en uno de los palcos del estadio Monumental: \"Olé,…RT @frabigol: Nose si le quedo claro a Vignolo lo que piensan en River sobre el.  https://t.co/T0RmklHm2MQ lindo ver River Boca con gente😍RT @ElMichalito: Domingo:\\n\\n08:00 - PSG vs Rennes\\n12:30  - Liverpool vs City \\n14:00 - La final del mundo de Fustal Argentina vs Portugal\\n17:…@lucasbernat14RP acordate que hace mucho nos conocemosRT @frabigol: Nose si le quedo claro a Vignolo lo que piensan en River sobre el.  https://t.co/T0RmklHm2MRT @frabigol: Nose si le quedo claro a Vignolo lo que piensan en River sobre el.  https://t.co/T0RmklHm2MRT @frabigol: Nose si le quedo claro a Vignolo lo que piensan en River sobre el.  https://t.co/T0RmklHm2MRT @frabigol: Nose si le quedo claro a Vignolo lo que piensan en River sobre el.  https://t.co/T0RmklHm2M@Emmaoyarzun Porque sería el último superclásico de Gallardo? Xd no creo la verdadQuiero tomar helado mientras miro el superclásico 😕La ovación al Pollo Vignolo de la gente de River \\n😂😂😂😂RT @davidwalter275: Que bueno q se acabo la pandemia. Acá hay más que el 50% eh. El sábado la Bombonera debe estar repleta también. No me v…RT @frabigol: Nose si le quedo claro a Vignolo lo que piensan en River sobre el.  https://t.co/T0RmklHm2MRT @RiverPlate: Suplentes de River: 25. Bologna, 16. Vigo, 22. Pinola, 13. Fernández, 23. Ponzio, 5. Zuculini, 26. Paradela, 28. Peña Biafo…RT @TNTSportsAR: HOLA, MUÑECO 👋\\n\\nRiver llegó al Estadio Monumental y fue recibido por una multitud de hinchas ⚪🔴⚪\\n\\n#SuperclásicoxTNTsports…RT @AndreLazov: Hoy? no puedo juega el club que se cogió y mato a su clásico rival ¡Hoy juega River!RT @Quiroga12_: Como olvidar esa tarde en el Monumental donde River nos quiso cargar con un chancho y se comieron el descanso de su vida. “…RT @frabigol: Nose si le quedo claro a Vignolo lo que piensan en River sobre el.  https://t.co/T0RmklHm2MRT @javigilnavarro: Simplemente #River https://t.co/DMNaXUxml5que hace este mogolico en la cancha de River@PregoneroL Juega river lcdtm jajaja no me pongas al profe ahora 🤣RT @frabigol: Nose si le quedo claro a Vignolo lo que piensan en River sobre el.  https://t.co/T0RmklHm2MDame una alegría river por favorPensé que luego de la final cualquier superclasico no la iba a pasar nunca mal nunca más pero acá a estoy a 30 minu… https://t.co/kPit92LRfrRT @GerCarp35: Que cosa hermosa será volver a ver a la gente de River alentando y la fiesta en el Monumental. Tanto tiempo después, por fin…RT @ViejoLobo221: Vamos River Hoy https://t.co/hrBhsNciEyRT @Andyantolini: @SANGREXENEIZE Sangre, te puedo pedir ayuda de nuevo para darle una mano a Carlos García Cambon? Tiene el record de hacer…RT @msole_087: HOY RIVER https://t.co/pnMjjDnxjWhoy juega river, tuvimos contenido de louis y hay concierto de harry 10/10RT @infobae: Así ingresan los hinchas de River al Monumental en el primer superclásico con público desde la pandemia https://t.co/UgGJaMOSt…unos q quieren mucho a vignolo son los hinchas de riverRT @FrancoFigallo: Una verguenza lo de @TNTSportsAR, no todo es Boca-River siempre. Y más en un servicio del que pagan hinchas de todos los…hoy haceme feliz riverRT @MovistarDeporPe: ¡TITULAR! 🔵\\U0001f7e1 Luis Advíncula 🇵🇪 irá desde el arranque en el Superclásico del fútbol argentino. Boca Juniors visitará a…que le griten eso en todas las canchas que pise. amén.RT @SC_ESPN: ¡SE JUEGA EL SUPERCLÁSICO CON PÚBLICO! Sumate a #SportsCenter, en vivo por #ESPNenStarPlus, para vivir el minuto a minuto del…que belleza estoRT @DiarioOle: ⚪️🔴 El aliento de los hinchas de River en la previa al Superclásico con Boca.\\n\\n📹 @catalinasarra https://t.co/MU0OYiKwcmRT @RinconDeBoca: El que no salta murió en Madrid canta River. Yo no puedo creerlo. https://t.co/WLjfmTAhYNRT @CamiiVieera: Hoy juega River el resto es detalle! \\U0001f90d♥\\U0001f90dNo rompan las bolas en santa fe, pq seguro se ponen en soretes con nosotros...RT @LuquitaRodrigue: El día climáticamente es una invitación a jugar un superclasico con público después de no se cuanto. Dios así lo quisoRT @frabigol: Nose si le quedo claro a Vignolo lo que piensan en River sobre el.  https://t.co/T0RmklHm2MPor primera vez en mi vida voy alentar a  river a muerteRT @okdobleamarilla: #Superclasico | 🏟 Así está el Estadio #Monumental a una hora del inicio del partido \\n\\n❕El aforo supera ampliamente el…RT @tutesarquis1: Que hermosa la sensación de volver, te amo River. https://t.co/tjo7lpwFm6RT @frabigol: Nose si le quedo claro a Vignolo lo que piensan en River sobre el.  https://t.co/T0RmklHm2M@hildadexter Ni en pedo vería un superclásico con alguien que no es bostero así que dame a la trola esaRT @frabigol: Nose si le quedo claro a Vignolo lo que piensan en River sobre el.  https://t.co/T0RmklHm2MRT @ESPNFutbolArg: #LigaProfesional 🇦🇷 ¡Los protagonistas! #River 🔴⚪ - #Boca 🔵\\U0001f7e1 y sus titulares para el gran duelo #Superclásico ⭐. https:/…RT @Andyantolini: @SANGREXENEIZE Sangre, te puedo pedir ayuda de nuevo para darle una mano a Carlos García Cambon? Tiene el record de hacer…Banco a las trompadas. Estoy viendo a mi equipo, qué pija me importa ver bajar de un micro a Alex Vigo o a Fabra.RT @DiarioOle: ⚪️🔴 El aliento de los hinchas de River en la previa al Superclásico con Boca.\\n\\n📹 @catalinasarra https://t.co/MU0OYiKwcm⚪🔴🇦🇷🔵\\U0001f7e1 Tenemos los 11 para el Superclásico entre #RiverPlate y #Bocajrs. https://t.co/qMLpSiiSAERT @msole_087: HOY RIVER https://t.co/pnMjjDnxjWPendientes que en minutos, comienza el River - Boca. Por @APDeportes_ con @alvarocoronel_ y Juan Manuel Oliviero.RT @RiverPlate: Suplentes de River: 25. Bologna, 16. Vigo, 22. Pinola, 13. Fernández, 23. Ponzio, 5. Zuculini, 26. Paradela, 28. Peña Biafo…RT @BokenHam12: “Salvo el que es de River, ningún futbolero puede pensar que River es mas grande que Boca”\\n\\n-Flavio Azzaro.@klon_perez @Poti20 Que tal el seleccionador de colombia se da el lujo de no convocar a ningun jugador q juegan hoy… https://t.co/cTYmh4Fd48RT @javigilnavarro: Y de golpe el hincha de #River empezó a cantar: \"el #Pity Martínez, que loco que está...\". https://t.co/BwNqQy0Mm8RT @yvaeltercero__: Mi sueño? Que Enzo le haga un gol a Boca con la de River 🐔 https://t.co/7KkTE8yg0UEsos mismos héroes q fueron a perder con el Aladin en el mundial de clubes, y jugar contra el real solo en la play… https://t.co/9F4UTd6Yv9Todos los hinchas de river tenemos que ver el partido por @TNTSportsAR \\n\\nEl que lo ve por fox sports hay que declararlo persona no grataRT @GerCarp35: Hoy River, Superclásico y vuelve la fiesta al Monumental, todo lo demás no interesa. 🐔RT @paurodriguezber: Ver el superclásico con alguien es algo más íntimo que cog3r.RT @frabigol: Nose si le quedo claro a Vignolo lo que piensan en River sobre el.  https://t.co/T0RmklHm2M@SweetAnnyBella A la misma hora que River!! 🤭RT @RiverPlate: Suplentes de River: 25. Bologna, 16. Vigo, 22. Pinola, 13. Fernández, 23. Ponzio, 5. Zuculini, 26. Paradela, 28. Peña Biafo…RT @frabigol: Nose si le quedo claro a Vignolo lo que piensan en River sobre el.  https://t.co/T0RmklHm2MVamooo River de mi vida  !!! https://t.co/Onnw6apfKiRT @frabigol: Nose si le quedo claro a Vignolo lo que piensan en River sobre el.  https://t.co/T0RmklHm2MAguante River y su genteSupera ampliamente el aforo y cuadriplica la cantidad de gente que va al Monumental en condiciones normales.RT @RiverPlate_hist: Es hoy #River ehhh!!\\nEl equipo de #Gallardo y dos rachas nefastas para romper:\\n\\n⛔️ 11 años sin ganarle a #Boca en casa…RT @RinconDeBoca: El que no salta murió en Madrid canta River. Yo no puedo creerlo. https://t.co/WLjfmTAhYNRT @GerCarp35: Hoy River, Superclásico y vuelve la fiesta al Monumental, todo lo demás no interesa. 🐔Vamos RIVER 🔴⚪️esta perfecto@PregoneroL Hoy está el superclasico flacoRT @milangaconpure: era esta, esq superclasico y sale mi lado fifas bla bla https://t.co/Id23XfVPNgRT @frabigol: Nose si le quedo claro a Vignolo lo que piensan en River sobre el.  https://t.co/T0RmklHm2MRT @Angel_Appella: ¡Acá estamos! Relato el Superclasico entre #River y #Boca desde el #Monumental\\n\\nAM 690\\nhttps://t.co/0Cr7xO3W98 \\nApp\\nYouT…RT @frabigol: Nose si le quedo claro a Vignolo lo que piensan en River sobre el.  https://t.co/T0RmklHm2MRT @BokenHam12: “Salvo el que es de River, ningún futbolero puede pensar que River es mas grande que Boca”\\n\\n-Flavio Azzaro.Previando para el superclasico https://t.co/9mbJGd7KIkRT @SC_ESPN: ¡La pelota del Superclásico está lista en el Monumental! https://t.co/SDQchtGAVeRT @abertini1: Bueno gente, como dice la canción, dejo todo lo que tengo que hacer y me voy a ver a River Platese viene el clásico River vs Boca y el partido de la crema Universitario vs Cesar Vallejo UWUMe acabo de dar cuenta que el apodo en portugués de river es LOS FRANGOS KKKKKQué bellezaRT @Pablohernanfer5: ¡¡¡HOY JUEGA RIVER!!! ⚪🔴⚪ https://t.co/VB2fYLv1cZRT @TyCSports: Malaspina estalló contra la TV por el River - Boca\\n\\nEl presidente de #Argentinos se quejó públicamente porque en la transmis…RT @SC_ESPN: ¡SE JUEGA EL SUPERCLÁSICO CON PÚBLICO! Sumate a #SportsCenter, en vivo por #ESPNenStarPlus, para vivir el minuto a minuto del…#Video #ESPNEquipoF ¡LOCURA EN EL MONUMENTAL! La explosión de los hinchas de River, en la salida del equipo a calen… https://t.co/Lqsr6hnpj4Digan rápido quien gana River o Boca???? 🤔🤔Me vine a lo de mi viejo a ver el superclasico y me compro helado 😎RT @frabigol: Nose si le quedo claro a Vignolo lo que piensan en River sobre el.  https://t.co/T0RmklHm2MRT @okdobleamarilla: #Superclasico | 🏟 Así está el Estadio #Monumental a una hora del inicio del partido \\n\\n❕El aforo supera ampliamente el…River-Boca: el historial arroja detalles curiosos y una racha que puede convertirse en récord - https://t.co/r5QW3Hrg7BDe los creados de \"El producto\" llega:\\n\"El protocolo\"VAMOS RIVER https://t.co/63fad2ulVeRT @so_ferrari_CARP: Perdió Messi, perdió la selección de Futsal y ahora encima va a perder River, es inevitable que eso pase. Van a ganar…RT @RiverPlate: Suplentes de River: 25. Bologna, 16. Vigo, 22. Pinola, 13. Fernández, 23. Ponzio, 5. Zuculini, 26. Paradela, 28. Peña Biafo…Que privilegio el hincha de river que está en el monu hoyLOS NPC DE LOS JUEGOS SON MAS LIBRES QUE LOS AUSTRALIANOS \\n\\nMe voy a ver a River. https://t.co/fXYYTDS4bLRiver - Boca con público, que cosa pornograficaaaaaaaClaro que si River de mi vida 😍 https://t.co/4GA5gDABmSRT @cariverplatecom: Hoy RIVER https://t.co/ETFkvJwXQr#CopaOFI A los 19’ Manolo Gómez pone a ganar al bohemio de Santa Lucía. Wanderers 1 River Plate 0POR FIN JAJSJAJAJS⚽️⚪️🔴💬 La palabra de Rafael Varas, el primer Director Técnico de Julian Álvarez en el Club Atlético Calchín en la p… https://t.co/jIjeMFpnprSimplemente hermoso.RT @jerolucero3: hoy soy hincha de river y claudinoJAJAJAJAJART @frabigol: Nose si le quedo claro a Vignolo lo que piensan en River sobre el.  https://t.co/T0RmklHm2MVa a ser el mejor superclásico de los últimos años. Nos vemos en tres horas.RT @Ivo_Calvente: Vamos River de mi vida 🐔❤RT @abertini1: Bueno gente, como dice la canción, dejo todo lo que tengo que hacer y me voy a ver a River PlateViajero del tiempo: hace que BWT y Cognizant patrocinen a River\\n\\nLa línea temporal:@iJM113_ no sabiaaaaa, aguante river@AAAAAAA45443660 river va a hacer el manchester de 2008#TorneoSocios 🇦🇷\\n#SúperClásico \\n🏙 Buenos Aires 🇦🇷\\n🏟 Estadio Monumental.\\nRiver Plate ⚪️🔴🆚🔵\\U0001f7e1 Boca Juniors \\n🇨🇴 Jorge C… https://t.co/gEmKr4qAN4Hoy juega River, lo demás es gilada.Que lindooooooo. Merecido, murio la tibiezaRT @RiverPlate_9: Bueno llegó el día , Vamos River hoy , a ganar como sea 🐔RT @brendaflo__: Hoy el más grande, hoy más que nunca Rivermutis de Arg \\nhoy hay partido de Boca y River o q onda???? no entiendo y ni ganas de averiguarloQuerés que veamos el superclásico juntos? Te espero en casa 🤗\\n\\nEnviar.RT @frabigol: Nose si le quedo claro a Vignolo lo que piensan en River sobre el.  https://t.co/T0RmklHm2M¡¡¡Vamos que ahora juega River!!!Que picara que sos 😅🔥FORMACIÓN DE BOCA 🔵\\U0001f7e1\\n🧤 Rossi\\n🛡️ Advíncula, Izquierdoz, Rojo, Fabra\\n⚔️González, Campuzano, Almendra, Cardona\\n⚽ Pavón… https://t.co/tlUI5KF9mBRT @TNTSportsAR: ARRODILLADO TAMBIÉN VALE 😅\\n\\n¿Te acordabas de este gol de Girotti en el Supérclásico? 🤔 Faltan 5 días para el próximo River…¿50 por ciento de aforo en River? ¿Estamos hablando de aforo blue o oficial?RT @infobae: Así ingresan los hinchas de River al Monumental en el primer superclásico con público desde la pandemia https://t.co/UgGJaMOSt…Por lo que están. Por lo que lamentablemente el covid-19 dejó partir. Por todos lo que se hicieron presentes hoy en… https://t.co/BFeWIIXNODAl fin va a decir la verdad el que escribe los diariooos, que River es el más grande de todos y nunca abandonoooo 🇵🇱🇵🇱RT @Andyantolini: @SANGREXENEIZE Sangre, te puedo pedir ayuda de nuevo para darle una mano a Carlos García Cambon? Tiene el record de hacer…RT @SC_ESPN: ¡LAS OVACIONES PARA LOS ÍDOLOS! Enzo Pérez y Leo Ponzio, los aclamados por el público Millonario en la entrada en calor de Riv…RT @enrivercido: El recibimiento de los hinchas de River a Vignolo\\nhttps://t.co/YT8Ty8bxunRT @_JugadorNro12: Con ese criterio Italia no fue campeón mundial en 2006, Argentina no le ganó a Holanda en 2014 y no pasamos vs Colombia…nos va a tirar toda la mufa peor ahora parenQue ser de bien es el hincha de River. Nos amoRT @HassanV7: Que haya más buen fútbol que patadas en River-Boca hoy, Amén.RT @frabigol: Nose si le quedo claro a Vignolo lo que piensan en River sobre el.  https://t.co/T0RmklHm2MRT @abertini1: Bueno gente, como dice la canción, dejo todo lo que tengo que hacer y me voy a ver a River PlateRT @CamiiVieera: Hoy juega River el resto es detalle! \\U0001f90d♥\\U0001f90dPerdió el Bayer, perdió el PSG, perdió el Real, perdió el Barsa, empate del Liverpool y el City, y ahora se viene e… https://t.co/zidc0Ofz5bRT @frabigol: Nose si le quedo claro a Vignolo lo que piensan en River sobre el.  https://t.co/T0RmklHm2MRT @frabigol: Nose si le quedo claro a Vignolo lo que piensan en River sobre el.  https://t.co/T0RmklHm2MRT @FacundoBrignolo: HOY JUEGA RIVER. https://t.co/peziuKHz5DBoca y river salen 1-1 en un partido horribleRT @DiarioOle: ⚪️🔴 El aliento de los hinchas de River en la previa al Superclásico con Boca.\\n\\n📹 @catalinasarra https://t.co/MU0OYiKwcmRT @rodrifern01: Está para tener una tóxi y mirar el superclásico juntos@jxstonlxlink @goddessdeluca River.\\n\\n-posición de ataque por las dudas- (?)RT @La12tuittera: En estos momentos Sebastián #Battaglia está dándole la charla técnica a sus dirigidos y el XI que jugará frente a River.…Mi papá- mira  q ahora empieza el partido y nos desconocemos, gritas un gol de river y nos desconocemos eh \\nJAJAJAJAJAJAJART @Reporte_Futbol: Tenemos la camiseta de River de Julián ÁIvarez para uno de nuestros seguidores.\\n\\nSólo tenés que seguirnos y seguir a @M…JAJAJAJAJAAA la gente de River es lo mas grande que hayRT @Exequielistaa: No juega Carrascal que venía jugando muy bien, si queres salir campeón tenes que poner a los que vienen demostrando, no…#TorneoSocios 🇦🇷\\n#SúperClásico \\n🏙 Buenos Aires 🇦🇷\\n🏟 Estadio Monumental.\\nRiver Plate ⚪️🔴🆚🔵\\U0001f7e1 Boca Juniors \\n🇨🇴 Jorge C… https://t.co/ApOYqnMwKURT @agustinstella: Comparte a este Miguelito Russo de la suerte para hacer un planteo inteligente ante River. https://t.co/PA2xqD1Y8ORT @wbeimarlodice: #TorneoSocios 🇦🇷\\n#SúperClásico \\n🏙 Buenos Aires 🇦🇷\\n🏟 Estadio Monumental.\\nRiver Plate ⚪️🔴🆚🔵\\U0001f7e1 Boca Juniors \\n🇨🇴 Jorge Carrac…RT @LaVozdeHerencia: ⚽#HoyJuegaRiver ⚪🔴⚪\\n🏅#TorneoLPF2021\\n#River | #ExRiver\\nMiren quien llegó 🤪3⃣🔥\\nGonzalo \"El Pity\" Martínez, autor del ter…Que desastre ! Y la Pamdemia ??\\nKkkk de MIERDASRT @MachuAdri: Felicidades a River Plate por la victoria y por ganar este campeonatoRT @frabigol: Nose si le quedo claro a Vignolo lo que piensan en River sobre el.  https://t.co/T0RmklHm2MRT @frabigol: Nose si le quedo claro a Vignolo lo que piensan en River sobre el.  https://t.co/T0RmklHm2MRT @frabigol: Nose si le quedo claro a Vignolo lo que piensan en River sobre el.  https://t.co/T0RmklHm2M¡Así fue la llegada de River!\\n\\n#Video | Con El Muñeco liderando el grupo llegó el equipo al Monumental para disputa… https://t.co/XMnvk7sJHHRT @frabigol: Nose si le quedo claro a Vignolo lo que piensan en River sobre el.  https://t.co/T0RmklHm2MSí sí sí, ya se viene el River vs Boca, pero lo que todos queremos ver es el Palmas VS Coremarca\\n#VamosPalmas… https://t.co/xi3sLYP9Z3RT @TyCSports: #River El Pity Martínez, un hincha más en el Monumental\\n\\nEl jugador de Al-Nassr, uno de los históricos de la final ante Boca…RT @frabigol: Nose si le quedo claro a Vignolo lo que piensan en River sobre el.  https://t.co/T0RmklHm2MRT @frabigol: Nose si le quedo claro a Vignolo lo que piensan en River sobre el.  https://t.co/T0RmklHm2M@RiverLPM VAAAAAMOS RIVER DE MI VIDA 😍Vamossss Bocaaaaa carajo con todo y contra todos ya estas dicendo el Pollo y Latorre que river pone un equipo mas d… https://t.co/Z7Wmrj4wblRT @MetanesdeRiver: ¡HOY JUEGA RIVER! \\U0001f90d❤\\U0001f90d\\nPor la Fecha 14 de la Liga \\nProfesional Argentina 🇦🇷 \\n\\n🆚️🐖🐷🐽🔪🍽️🍹\\n📆3 de Octubre \\n🕣17:00 hs\\n🏆 LPF A…Domingo, clasico River-voke... si el @bancosantacruz no me hubiese robado mi dinero me estaria comiendo una picadit… https://t.co/TzJaAgDvEBaparecieron louis y harry y juega river, lo unico que necesitaba😍😍RT @SC_ESPN: #Video #ESPNEquipoF ¡LOCURA EN EL MONUMENTAL! La explosión de los hinchas de River, en la salida del equipo a calentar para el…RT @frabigol: Nose si le quedo claro a Vignolo lo que piensan en River sobre el.  https://t.co/T0RmklHm2MRT @WSA_92: Universidades: cerradas.\\nEstadios y boliches: abiertos.ATENCIÓN ⚠️ 🚨\\n\\nAsí forma River #LPFxESPNSi river gana 4 a 1, me pago un asado para mis amigosRT @enrivercido: El recibimiento de los hinchas de River a Vignolo\\nhttps://t.co/YT8Ty8bxunhoy juega mí riverCómo tiene que ser@SaGgaSsa @Diegoboke @La12tuittera Contra river , semifinales de ida 2004 , lo contó Carlitos una vezRT @LuquitaRodrigue: El día climáticamente es una invitación a jugar un superclasico con público después de no se cuanto. Dios así lo quisoRT @LaTrezegueta: Que ser de bien es el hincha de River. Nos amoRT @Pablohernanfer5: ¡¡¡HOY JUEGA RIVER!!! ⚪🔴⚪ https://t.co/VB2fYLv1cZRT @TamytgTg: Un loquito suelto \\U0001f90d❤️\\U0001f90d #Pity #River https://t.co/xjyI0YGyPjSe viene River vs. Boca, mucho público en el Monumental https://t.co/kvzYPkP8NuRT @frabigol: Nose si le quedo claro a Vignolo lo que piensan en River sobre el.  https://t.co/T0RmklHm2MRT @con_doble_k: Universidades cerradasRT @Exequielistaa: No juega Carrascal que venía jugando muy bien, si queres salir campeón tenes que poner a los que vienen demostrando, no…hacia mucho que no estaba nervioso por un superclasico. desde la cogida en madrid que los veo tranquilo. hasta me h… https://t.co/XW7bGxsyQGEl Pity Martínez en una de las plateas para ver el River - Boca.\\n\\n¿Quien te conoce, Mick Jagger?\\n\\n https://t.co/iL4LdNpGgw@frabigol Porque Leanscobany estaba en la cancha de River?HOY SE GANA RIVER https://t.co/ZJSsB7WRp7@BebetoBologna Gran portero Beto Bologna, espero que a partir diciembre podamos verle atajando de titular aunque sea fuera de RiverRT @SPR_CARP: VAMOS RIVER DE MI VIDA!!\\n\\nBuendía bandaaaa!!RT @frabigol: Nose si le quedo claro a Vignolo lo que piensan en River sobre el.  https://t.co/T0RmklHm2MMe pregutan sos de river? \\nNo de boca, por?\\nPor tu tuit.\\nNi me importa el futbol, no me hace feliz ...RT @frabigol: Nose si le quedo claro a Vignolo lo que piensan en River sobre el.  https://t.co/T0RmklHm2MRT @ElTanito_: ES HOY RIVER PLATE DE MI VIDA ♥️ https://t.co/RaHUHK4Ih9@Gustavito1707 Nah, se emparejo tambien en el ultimo tiempo nuestro clasico, pero si, el boca river es re parejo y… https://t.co/Hm0Vm6yqxZYa se nota que (con los que hay adentro... y los que están afuera) van a haber más de 40mil Hinchas (y me voy a que… https://t.co/JA3v76oZmB@La12tuittera Cardona y Fabra para un superclásico te cagan el domingo. Ojalá la rompan por el bien nuestro.@ChiniSontag Aguante River carajo! 😁 😅 💪🏼Asado + papá + RIVER = ❤Estos son los 11 de River para el Superclásico⚪🔴⚪ https://t.co/b1h1EE6hoyRT @frabigol: Nose si le quedo claro a Vignolo lo que piensan en River sobre el.  https://t.co/T0RmklHm2MJajaja el 50% de capacidad 🤡🤡🤡entre el concierto y el superclásico estoy que me hago pis de los nerviosRT @facubh932: es hoy river https://t.co/aNKFUkyz69Se juegan 2 mas, y hasta acá llegó mi MaM, se viene el superclásico argentino.RT @frabigol: Nose si le quedo claro a Vignolo lo que piensan en River sobre el.  https://t.co/T0RmklHm2MRT @WaruiJohn2: River Plate Vs Boca Junior🔥🔥🔥🔥🔥🔥🔥🔥\\nEstadio Monumental\\n#SuperclasicoRT @frabigol: Nose si le quedo claro a Vignolo lo que piensan en River sobre el.  https://t.co/T0RmklHm2MRT @BokenHam12: “Boca es mas popular, tiene mas partidos ganados entre sí, ganó mas titulos internacionales. Vos vas afuera y es Boca, no e…RT @TNTSportsAR: Participá por camisetas de River y Boca 🤩\\n\\n👉 Comentá acá con el hashtag #SuperclásicoxTNTSports y arrobá a tus amigos (cua…DIOS QUE HERMOSO POR FINhaciendo la previa del superclásico tomando cerveza y escuchando leonardo favio vamos que es hoyRT @OptaJavier: 5 - Cinco preguntas y cinco respuestas a través de los datos en la previa del #Superclasico del fútbol argentino: tenencia,…RT @RPM_CARP: 🚨#River Sale el equipo a realizar el calentamiento previo. https://t.co/9NcCRGBmeFRT @patohechem: Espero que Carrascal se vaya en enero de River. Que Gallardo priorice a Simón o a Palavecino es una declaración de intencio…RT @RebanoPasion: Hoy se juega el Súper Clásico Argentino y es evidente que todos los Chivahermanos vamos con River Plate por nuestro Matía…@FmSudakas @FM_Argentina @FMSite Se ve que ni esta enterado del superclasicoRT @93juanfer: ¡HOY JUEGA RIVER! https://t.co/fLp1BUNUdXAhora sí: ya preparados para el River-Boca desde el Monumental. \\n¡Vamos Boca! 🔵\\U0001f7e1🙌🏻 https://t.co/bYYGgczs41Me ganó el sistema, saqué el pack fútbol. Este partido lo quería ver como corresponde. Vamos River hoy, carajo!#TorneoSocios | Boca ya realiza la entrada en calor en el campo de juego del Monumental, en minutos se viene un nue… https://t.co/3PYDctBIbnPara vos Lammens... Salame... \"Aníbal\", Vizzotti y la puta que los parió.\\n\\nSin aforo, sin necesidad de vacuna yaaaa.Hoy no es un dia cualquiera, hoy es el dia del #Superclasico @BocaJrsOficial @RiverPlateLA CLAVE PARA EL SUPERCLÁSICO 🆚\\n\\n🔵\\U0001f7e1🔵 Frank Fabra ya palpita el inicio del partido ante River\\n\\n¿Quién ganará el encu… https://t.co/kPXvSFu16lRT @yvaeltercero__: Mi sueño? Que Enzo le haga un gol a Boca con la de River 🐔 https://t.co/7KkTE8yg0UPonzio sonriendo lo esta disfrutando 😭❤RT @infobae: Así ingresan los hinchas de River al Monumental en el primer superclásico con público desde la pandemia https://t.co/UgGJaMOSt…@ESPNFutbolArg vamos river saludos desde Venezuela 🇻🇪RT @infobae: Así ingresan los hinchas de River al Monumental en el primer superclásico con público desde la pandemia https://t.co/UgGJaMOSt…RT @TNTSportsAR: SANTIAGO SIMÓN, TITULAR EN RIVER ⚪🔴⚪\\n\\n🤔 ¿Qué te parece?\\n\\n#SuperclásicoxTNTsports https://t.co/ouBKhEXRJxRT @frabigol: Nose si le quedo claro a Vignolo lo que piensan en River sobre el.  https://t.co/T0RmklHm2MYA ESTÁ #River CALENTANDO EN EL CAMPO DE JUEGO\\n\\n#Previa #Superclasico #River #Boca #LigaProfesional https://t.co/8p6xbYXTFRes orgasmico estoRT @BokenHam12: “Cuando gana River contra Boca, es perdió Boca el superclásico. No hay muchas cosas que puedan hacernos pensar que River es…@serjavren @Chinitaa_CARP Tiene que sentir todo el cariño (?) que le tenemos los hinchas de River jajajaja@nachocuervo_ es que se les fue al carajo a todos, belgrano, hoy central, y hoy river tamb jasjdasRT @juani_solisok: hoy ganas River de mi vida\"Bueno ahora la tarde entro en un impasse, seguro los hinchas se están guardando para el partido\" eso tiro el relat… https://t.co/Ow0j6LAdk3Llega a perder hoy River y es el peor día de la historiaRT @RinconDeBoca: El que no salta murió en Madrid canta River. Yo no puedo creerlo. https://t.co/WLjfmTAhYNRT @MasGrandeRP: Mientras que muchos quieren instalar que Boca le agarró la mano a River y que se terminó la racha...De los últimos 11 encu…RT @enrivercido: El recibimiento de los hinchas de River a Vignolo\\nhttps://t.co/YT8Ty8bxunRT @Normis591: Y dicen, hay q mantener la distancia 🤦🏼\\u200d♀️🤦🏼\\u200d♀️🤦🏼\\u200d♀️🤬🤬🤬👇🏼👇🏼👇🏼Hoy Boca y River, hoy duelo de historicos Battaglia contra Gallardo, vamos Boca 💙💛💙RT @VirRiverPlate: Hoy River lo demás es cotillón🙌⚪❤⚪💪🤗 https://t.co/SwwDijJf20El #superclasico es una de las cosas que no podés ver si al día 20 de mes no tenés más sueldito, @TV_Publica… https://t.co/4JKObzC7h8Pero hay escuelas aún sin clases... ni hablar de las universidades.\\n#QueGobiernoDeMierdaRT @enrivercido: El recibimiento de los hinchas de River a Vignolo\\nhttps://t.co/YT8Ty8bxun@solamentepincha Vivo a 15 cuadras de la cancha de River y las calles estan copadoss de gallinas que van al monumen… https://t.co/uFCPY1Xmi8@RiverPlate Vamos River.... https://t.co/palc6lUgYK#Superclásico\\n\\nDale like si crees que hoy Cardona la mete\\n\\nSegui el partido en #LaTransmiMasBoster 👇… https://t.co/Poe4vkMt2gRT @WSA_92: Universidades: cerradas.\\nEstadios y boliches: abiertos.@tordodavid Me extraña Boca y River vendenRT @footters: 🔴 DIRECTO\\n\\nEstamos repasando encuentros históricos entre River y Boca antes de conectar con el Superclásico que veremos en ht…RT @frabigol: Nose si le quedo claro a Vignolo lo que piensan en River sobre el.  https://t.co/T0RmklHm2MexcelenteRT @ESPNArgentina: #Video ¿Traerá suerte? El Pity Martínez, presente en el Monumental para disfrutar del River vs. Boca por la #LigaProfesi…Por suerte ya adentro. Volvimos y es lo único que importa ahora. Aguante River, siempre https://t.co/2Tb42JclsXRT @porquetendencia: \"River y Boca\":\\nPorque hoy se enfrentan en la #LigaProfesional https://t.co/ESeO2RKza6RT @frabigol: Nose si le quedo claro a Vignolo lo que piensan en River sobre el.  https://t.co/T0RmklHm2MRT @javigilnavarro: Y de golpe el hincha de #River empezó a cantar: \"el #Pity Martínez, que loco que está...\". https://t.co/BwNqQy0Mm8RT @Volve10Riquelme: Hoy juega Boca el clásico contra River, dejen todo por la gente https://t.co/5plDmWMqJhRT @matinnagustina: Hoy es el último superclásico de Ponzio https://t.co/DvCC4XqTT5@EmiOrtenzi @pitimonza @BokenHam12 Pero para poner la cancha al lado del ríachuelo me iba a quedar? Anda averiguar… https://t.co/dY9r8YXzfQRT @enrivercido: El recibimiento de los hinchas de River a Vignolo\\nhttps://t.co/YT8Ty8bxunRT @nanuwwetzel: hoy River♥️RT @SectaDeporOk: 🔊 Activen el sonido y disfruten de la vuelta del público. \\n\\n🏟 Estadio Monumental\\n⏰ 16.25\\n👊🏻 River 🆚 Boca https://t.co/cTo…RT @GamingFilosofia: LOS NPC DE LOS JUEGOS SON MAS LIBRES QUE LOS AUSTRALIANOS \\n\\nMe voy a ver a River. https://t.co/fXYYTDS4bL@FrankoNazareno @TousPamela Juega River pa \\U0001f90d❤️\\U0001f90dRT @patohechem: Espero que Carrascal se vaya en enero de River. Que Gallardo priorice a Simón o a Palavecino es una declaración de intencio…RT @DiarioOle: 🔴⚪️🆚🔵\\U0001f7e1 ¡SE VIENE EL SUPERCLÁSICO!\\n\\n👉 Así salen a la cancha River y Boca para el partido que arranca a las 17 hrs.\\n\\n🤔 ¿Te ani…RT @msole_087: HOY RIVER https://t.co/pnMjjDnxjWHOY en VIVO River vs Boca síguelo aquí https://t.co/Iw1ybN0nvG únete a nuestro discord para estar informado de todo… https://t.co/PLeLWdF4sTVamoss azules hoy se debe ganar Ⓜ️💙⚽💪 también día de superclasico 🇦🇷@carlavizzotti @alferdez por suerte la Delta no llego. 🤣🤣🤣✌ y después nos van a encerrar d nuevo, por un voto entre… https://t.co/UkznMNBBzLSe busca:\\n\\nNUEVO hermanoUH HERMANO,REZARÉ POR TU ALMAUno para mirar los partidos de river nomas quiero⚽️ #River 🆚 Boca\\n⌚️ 17.00\\n🖥 TNT Sports\\n🏟 Monumental\\n🏆🇦🇷 Liga Profesional\\n📌 Fecha 14\\n⚖️ Árbitro: Fernando Rapallini… https://t.co/KHerYf8HudRT @frabigol: Nose si le quedo claro a Vignolo lo que piensan en River sobre el.  https://t.co/T0RmklHm2MCreo que están bastante parejo desde el dibujo y los jugadores, buenas defensas, por ahí el medio de Boca es mas co… https://t.co/XNpIWlW11V@eltorito_10 @chuecoborrone Jajaja era pendejo, le tenia una fe bárbara. Convengamos que soy mufa nunca más me puse… https://t.co/YKvMa5Olnk#TorneoLPF | FECHA 14 | En el encuentro de #ReservaLPF fue goleada del Xeneize. ¿Los goles? Zeballos, Taborda y Bar… https://t.co/CAuDR9NrtsLes dejo los once iniciales que le romperán el ogt a River. https://t.co/0Nontt1FZpRT @facubh932: es hoy river https://t.co/aNKFUkyz69que hermoso x favor@Gustavo32643386 @marcelitaokk Si, y juega contra River! 🤙🏽RT @SC_ESPN: #Video #ESPNEquipoF ¡LOCURA EN EL MONUMENTAL! La explosión de los hinchas de River, en la salida del equipo a calentar para el…Ustedes se ríen del fútbol uruguayo que lo juegan nacional y peñarol solamente pero aquí river y boca juegan una ve… https://t.co/HQcdJi3HlyCarrascal en la banca #RiverComplex #Superclasico https://t.co/Xs8lnMtIrgRT @frabigol: Nose si le quedo claro a Vignolo lo que piensan en River sobre el.  https://t.co/T0RmklHm2MRT @frabigol: Nose si le quedo claro a Vignolo lo que piensan en River sobre el.  https://t.co/T0RmklHm2MRT @gonzaloco1: Supera ampliamente el aforo y cuadriplica la cantidad de gente que va al Monumental en condiciones normales.'"
      ]
     },
     "execution_count": 19,
     "metadata": {},
     "output_type": "execute_result"
    }
   ],
   "source": [
    "dataSegmentada5min[0][0]"
   ]
  },
  {
   "cell_type": "code",
   "execution_count": 20,
   "metadata": {
    "id": "C-_pJOphOSyA"
   },
   "outputs": [
    {
     "name": "stderr",
     "output_type": "stream",
     "text": [
      "C:\\ProgramData\\Anaconda3\\lib\\site-packages\\ipykernel_launcher.py:3: SettingWithCopyWarning: \n",
      "A value is trying to be set on a copy of a slice from a DataFrame\n",
      "\n",
      "See the caveats in the documentation: https://pandas.pydata.org/pandas-docs/stable/user_guide/indexing.html#returning-a-view-versus-a-copy\n",
      "  This is separate from the ipykernel package so we can avoid doing imports until\n",
      "C:\\ProgramData\\Anaconda3\\lib\\site-packages\\ipykernel_launcher.py:4: SettingWithCopyWarning: \n",
      "A value is trying to be set on a copy of a slice from a DataFrame\n",
      "\n",
      "See the caveats in the documentation: https://pandas.pydata.org/pandas-docs/stable/user_guide/indexing.html#returning-a-view-versus-a-copy\n",
      "  after removing the cwd from sys.path.\n",
      "C:\\ProgramData\\Anaconda3\\lib\\site-packages\\ipykernel_launcher.py:5: SettingWithCopyWarning: \n",
      "A value is trying to be set on a copy of a slice from a DataFrame\n",
      "\n",
      "See the caveats in the documentation: https://pandas.pydata.org/pandas-docs/stable/user_guide/indexing.html#returning-a-view-versus-a-copy\n",
      "  \"\"\"\n",
      "C:\\ProgramData\\Anaconda3\\lib\\site-packages\\ipykernel_launcher.py:6: SettingWithCopyWarning: \n",
      "A value is trying to be set on a copy of a slice from a DataFrame\n",
      "\n",
      "See the caveats in the documentation: https://pandas.pydata.org/pandas-docs/stable/user_guide/indexing.html#returning-a-view-versus-a-copy\n",
      "  \n"
     ]
    },
    {
     "name": "stdout",
     "output_type": "stream",
     "text": [
      "Listo\n"
     ]
    }
   ],
   "source": [
    "i=0\n",
    "for i in range(dataSegmentada5min[0].size):\n",
    "    dataSegmentada5min[0][i] = dataSegmentada5min[0][i].replace(\",\",\"\")\n",
    "    dataSegmentada5min[0][i] = dataSegmentada5min[0][i].replace(\".\",\"\")\n",
    "    dataSegmentada5min[0][i] = dataSegmentada5min[0][i].replace(\":\",\"\")\n",
    "    dataSegmentada5min[0][i] = dataSegmentada5min[0][i].lower()\n",
    "    i = i+1\n",
    "print(\"Listo\")"
   ]
  },
  {
   "cell_type": "markdown",
   "metadata": {},
   "source": [
    "### Teniendo los tweets segmentados por horario podremos realizar analisis mas precisos según los eventos sucedidos en el partido. En este caso exportaremos los segmentos correspondiente a la expulsión de Marcos Rojo y de los goles del partido."
   ]
  },
  {
   "cell_type": "markdown",
   "metadata": {},
   "source": [
    "#### Comienzo del partido"
   ]
  },
  {
   "cell_type": "code",
   "execution_count": 27,
   "metadata": {},
   "outputs": [],
   "source": [
    "dataComienzo = dataSegmentada5min[0][7].split()"
   ]
  },
  {
   "cell_type": "code",
   "execution_count": 30,
   "metadata": {},
   "outputs": [],
   "source": [
    "dataComienzo = pd.DataFrame(dataComienzo)\n",
    "dataComienzo.to_csv('dataComienzo.csv')"
   ]
  },
  {
   "cell_type": "markdown",
   "metadata": {},
   "source": [
    "#### Expulsión de Marcos Rojo (Boca Juniors)"
   ]
  },
  {
   "cell_type": "code",
   "execution_count": 32,
   "metadata": {},
   "outputs": [],
   "source": [
    "dataRojoExpulsion = dataSegmentada5min[0][10].split()\n",
    "dataRojoExpulsion = pd.DataFrame(dataRojoExpulsion)\n",
    "dataRojoExpulsion.to_csv('dataRojoExpulsion.csv')"
   ]
  },
  {
   "cell_type": "markdown",
   "metadata": {},
   "source": [
    "#### 1er Gol de River"
   ]
  },
  {
   "cell_type": "code",
   "execution_count": 33,
   "metadata": {},
   "outputs": [],
   "source": [
    "dataGol1River = dataSegmentada5min[0][12].split()\n",
    "dataGol1River = pd.DataFrame(dataGol1River)\n",
    "dataGol1River.to_csv('dataGol1River.csv')"
   ]
  },
  {
   "cell_type": "markdown",
   "metadata": {},
   "source": [
    "#### 2do Gol de River"
   ]
  },
  {
   "cell_type": "code",
   "execution_count": 34,
   "metadata": {},
   "outputs": [],
   "source": [
    "dataGol2River = dataSegmentada5min[0][27].split()\n",
    "dataGol2River = pd.DataFrame(dataGol2River)\n",
    "dataGol2River.to_csv('dataGol2River.csv')"
   ]
  },
  {
   "cell_type": "markdown",
   "metadata": {},
   "source": [
    "#### 1er Gol de Boca y Final del partido"
   ]
  },
  {
   "cell_type": "code",
   "execution_count": 35,
   "metadata": {},
   "outputs": [],
   "source": [
    "datagolBocaFin = dataSegmentada5min[0][30].split()\n",
    "datagolBocaFin = pd.DataFrame(datagolBocaFin)\n",
    "datagolBocaFin.to_csv('datagolBocaFin.csv')"
   ]
  }
 ],
 "metadata": {
  "colab": {
   "collapsed_sections": [
    "EJu8_LZZ7tqI"
   ],
   "name": "Trabajo TWEETS KAFKA.ipynb",
   "provenance": []
  },
  "kernelspec": {
   "display_name": "Python 3",
   "language": "python",
   "name": "python3"
  },
  "language_info": {
   "codemirror_mode": {
    "name": "ipython",
    "version": 3
   },
   "file_extension": ".py",
   "mimetype": "text/x-python",
   "name": "python",
   "nbconvert_exporter": "python",
   "pygments_lexer": "ipython3",
   "version": "3.7.6"
  }
 },
 "nbformat": 4,
 "nbformat_minor": 1
}
