{
  "nbformat": 4,
  "nbformat_minor": 0,
  "metadata": {
    "colab": {
      "name": "Examen_2do_Bimestre_Grupo_3",
      "provenance": [],
      "collapsed_sections": []
    },
    "kernelspec": {
      "name": "python3",
      "display_name": "Python 3"
    }
  },
  "cells": [
    {
      "cell_type": "markdown",
      "metadata": {
        "id": "K1GZdTu_qma5",
        "colab_type": "toc"
      },
      "source": [
        ">[Examen Diplomatura de Ciencias de Datos (Gestión y Análisis de datos)](#updateTitle=true&folderId=1hYY6URNFLa2w5I3uQbpDlwOox_am-5cM&scrollTo=AHONY2VzigaP)\n",
        "\n",
        ">>[Datos del Grupo (Ingrese los datos de los miembros del grupo)](#updateTitle=true&folderId=1hYY6URNFLa2w5I3uQbpDlwOox_am-5cM&scrollTo=F2tqo5cDpTwh)\n",
        "\n",
        ">>[Herramientas utilizadas](#updateTitle=true&folderId=1hYY6URNFLa2w5I3uQbpDlwOox_am-5cM&scrollTo=X2C709eFqRDd)\n",
        "\n",
        ">>[Carga de datos](#updateTitle=true&folderId=1hYY6URNFLa2w5I3uQbpDlwOox_am-5cM&scrollTo=RzO8w1ysoR5P)\n",
        "\n",
        ">>[Limpieza de datos](#updateTitle=true&folderId=1hYY6URNFLa2w5I3uQbpDlwOox_am-5cM&scrollTo=KAjjl-EDoYZ_)\n",
        "\n",
        ">>[Transformación de datos](#updateTitle=true&folderId=1hYY6URNFLa2w5I3uQbpDlwOox_am-5cM&scrollTo=1Ht6Zro3oje8)\n",
        "\n",
        ">>[Análisis y Visualizaciones](#updateTitle=true&folderId=1hYY6URNFLa2w5I3uQbpDlwOox_am-5cM&scrollTo=-oZALeyloq56)\n",
        "\n",
        ">>[Conclusión](#updateTitle=true&folderId=1hYY6URNFLa2w5I3uQbpDlwOox_am-5cM&scrollTo=q7ppUWSYpA7A)\n",
        "\n",
        ">>[Almacenamiento de resultados](#updateTitle=true&folderId=1hYY6URNFLa2w5I3uQbpDlwOox_am-5cM&scrollTo=4nsbdrUgpL4k)\n",
        "\n"
      ]
    },
    {
      "cell_type": "markdown",
      "metadata": {
        "id": "AHONY2VzigaP"
      },
      "source": [
        "# Examen Diplomatura de Ciencias de Datos (Gestión y Análisis de datos)\n",
        "\n",
        "A continuación, se detallan las indicaciones para la resolución del examen. Tenga a bien leer todas las instrucciones y no dude en consultar si tiene alguna duda.\n",
        "\n",
        "1. El examen se realiza de forma grupal de acuerdo a la asignación previamente realizada (Grupo 1, Grupo 2, Grupo 3, etc)\n",
        "2. La fecha de entrega de trabajo es el lunes 12 de Julio a las 9:00 hs (Argentina)\n",
        "3. Tanto el código como el análisis y las visualizaciones se deben entregan en un notebook en formato **.ipynb**\n",
        "4. Puede utilizar diferentes herramientas para el desarrollo como Jupyter, Collab, Spypder o VSCodium, sin embargo, el trabajo final debe ser entregado en un notebook como estipulado en el punto 3\n",
        "5. Para visualizaciones se deben usar librerías **matplotlib** y **seaborn**, \n",
        "al menos 3 visualizaciones deben estar realizadas directamente sobre **matplotlib**\n",
        "6. La defensa del trabajo se realizará el Lunes 12 de Julio de forma grupal. Se les brindará un espacio de 20-30 minutos para la exposición y espacio a preguntas.\n",
        "7. La nota se obtendrá en base a un promedio entre el desarrollo del trabajo, defensa del mismo en forma grupal y exposición individual. \n",
        "8. Los archivos a utilizar se encuentran almacenados en la siguiente URL:\n",
        "\n",
        "**Opción 2:** \n",
        "\n",
        "https://github.com/al34n1x/DataScience/blob/master/100.Examen/2021/listings_nyc_2021.csv\n",
        "\n",
        "https://github.com/al34n1x/DataScience/blob/master/100.Examen/2021/listings_nyc_2020.csv\n",
        "\n",
        "\n",
        "---\n",
        "\n",
        "\n"
      ]
    },
    {
      "cell_type": "markdown",
      "metadata": {
        "id": "F2tqo5cDpTwh"
      },
      "source": [
        "## Datos del Grupo (Ingrese los datos de los miembros del grupo)\n",
        "\n",
        "Nombre y Apellido | LU\n",
        "------------------|---\n",
        "\n",
        "\n",
        "---\n",
        "\n",
        "\n"
      ]
    },
    {
      "cell_type": "markdown",
      "metadata": {
        "id": "0Uv0eAi_yqJM"
      },
      "source": [
        "## Criterio de evaluación\n",
        "\n",
        "Se les brindará dos archivos los cuales deben ser importados y proceder a trabajar con los mismos aplicando los conceptos de limpieza, gestión y transformaciones con el objetivo de encontrar patrones y realizar visualizaciones.\n",
        "\n",
        "Como parte del examen se evaluarán los siguientes conceptos:\n",
        "\n",
        "* Importar datos desde fuentes externas\n",
        "* Limpieza de datos\n",
        "* Gestión de datos y transformaciones\n",
        "* Visualizaciones\n",
        "* Almacenamiento de resultados\n",
        "* [BONUS]: Se tendrá en consideración el agregado de algún tipo de regresión o análisis predictivo como parte de la conclusión.\n",
        "\n",
        "---\n",
        "\n"
      ]
    },
    {
      "cell_type": "markdown",
      "metadata": {
        "id": "X2C709eFqRDd"
      },
      "source": [
        "## Herramientas utilizadas\n",
        "\n",
        "A continuación detallen las herramientas utilizadas para el desarrollo del examen.\n",
        "\n",
        "*   Colab\n",
        "*   Teams\n",
        "*   Python built-in\n",
        "*   Power Bi\n",
        "*   Librerias Python:\n",
        "  *   csv\n",
        "  *   numpy\n",
        "  *   matplotlib\n",
        "  *   pandas\n",
        "  *   seaborn\n",
        "  *   plotly\n",
        "\n",
        "\n",
        "---\n",
        "\n",
        "\n"
      ]
    },
    {
      "cell_type": "markdown",
      "metadata": {
        "id": "GSvV96Qg-Uc4"
      },
      "source": [
        "# Supuestos y metodología\n",
        "1. Si hay review quiere decir que fue alquilado.\n",
        "2. La review se hace en el mismo mes que se alquilaba.\n",
        "3. No existe correlación entre el neighbourhood_group y el room_type.\n",
        "4. Se supone que las frecuencias relativas fueron calculadas por una cantidad de observaciones suficientemente grandes como para que se cumpla el principio de estabilidad de la frecuencia relativa.\n",
        "5. La metodología de trabajo fue analizar la data y limpiarla de manera paralela para ambos datasets para encontrar similitudes y diferencias."
      ]
    },
    {
      "cell_type": "markdown",
      "metadata": {
        "id": "Z3nvQb6fEw0h"
      },
      "source": [
        "# Librerias Importadas\n",
        "\n",
        "En primer lugar, importamos todas las librerias que utilizaremos a lo largo del notebook"
      ]
    },
    {
      "cell_type": "code",
      "metadata": {
        "id": "4f8Qf9EJE2Ph"
      },
      "source": [
        "import pandas as pd\n",
        "import numpy as np\n",
        "import seaborn as sns\n",
        "import matplotlib.pyplot as plt\n",
        "import plotly.express as px\n",
        "import plotly.graph_objects as go\n",
        "\n",
        "pd.set_option(\"display.max_columns\", 100)"
      ],
      "execution_count": null,
      "outputs": []
    },
    {
      "cell_type": "markdown",
      "metadata": {
        "id": "RzO8w1ysoR5P"
      },
      "source": [
        "## Carga de datos"
      ]
    },
    {
      "cell_type": "markdown",
      "metadata": {
        "id": "8n-jlp4iFHSn"
      },
      "source": [
        "### New York Listing 2020"
      ]
    },
    {
      "cell_type": "code",
      "metadata": {
        "id": "CxWDctuiiZGX",
        "colab": {
          "base_uri": "https://localhost:8080/",
          "height": 411
        },
        "outputId": "ee502487-04d0-42e8-957b-9ed313ba3507"
      },
      "source": [
        "origin_20 = pd.read_csv('https://raw.githubusercontent.com/al34n1x/DataScience/master/100.Examen/2021/listings_nyc_2020.csv')\n",
        "origin_20.head()"
      ],
      "execution_count": null,
      "outputs": [
        {
          "output_type": "execute_result",
          "data": {
            "text/html": [
              "<div>\n",
              "<style scoped>\n",
              "    .dataframe tbody tr th:only-of-type {\n",
              "        vertical-align: middle;\n",
              "    }\n",
              "\n",
              "    .dataframe tbody tr th {\n",
              "        vertical-align: top;\n",
              "    }\n",
              "\n",
              "    .dataframe thead th {\n",
              "        text-align: right;\n",
              "    }\n",
              "</style>\n",
              "<table border=\"1\" class=\"dataframe\">\n",
              "  <thead>\n",
              "    <tr style=\"text-align: right;\">\n",
              "      <th></th>\n",
              "      <th>id</th>\n",
              "      <th>name</th>\n",
              "      <th>host_id</th>\n",
              "      <th>host_name</th>\n",
              "      <th>neighbourhood_group</th>\n",
              "      <th>neighbourhood</th>\n",
              "      <th>latitude</th>\n",
              "      <th>longitude</th>\n",
              "      <th>room_type</th>\n",
              "      <th>price</th>\n",
              "      <th>minimum_nights</th>\n",
              "      <th>number_of_reviews</th>\n",
              "      <th>last_review</th>\n",
              "      <th>reviews_per_month</th>\n",
              "      <th>calculated_host_listings_count</th>\n",
              "      <th>availability_365</th>\n",
              "    </tr>\n",
              "  </thead>\n",
              "  <tbody>\n",
              "    <tr>\n",
              "      <th>0</th>\n",
              "      <td>2595</td>\n",
              "      <td>Skylit Midtown Castle</td>\n",
              "      <td>2845</td>\n",
              "      <td>Jennifer</td>\n",
              "      <td>Manhattan</td>\n",
              "      <td>Midtown</td>\n",
              "      <td>40.75362</td>\n",
              "      <td>-73.98377</td>\n",
              "      <td>Entire home/apt</td>\n",
              "      <td>175</td>\n",
              "      <td>3</td>\n",
              "      <td>48</td>\n",
              "      <td>2019-11-04</td>\n",
              "      <td>0.36</td>\n",
              "      <td>2</td>\n",
              "      <td>365</td>\n",
              "    </tr>\n",
              "    <tr>\n",
              "      <th>1</th>\n",
              "      <td>3831</td>\n",
              "      <td>Whole flr w/private bdrm, bath &amp; kitchen(pls r...</td>\n",
              "      <td>4869</td>\n",
              "      <td>LisaRoxanne</td>\n",
              "      <td>Brooklyn</td>\n",
              "      <td>Clinton Hill</td>\n",
              "      <td>40.68514</td>\n",
              "      <td>-73.95976</td>\n",
              "      <td>Entire home/apt</td>\n",
              "      <td>76</td>\n",
              "      <td>1</td>\n",
              "      <td>354</td>\n",
              "      <td>2020-09-20</td>\n",
              "      <td>4.82</td>\n",
              "      <td>1</td>\n",
              "      <td>2</td>\n",
              "    </tr>\n",
              "    <tr>\n",
              "      <th>2</th>\n",
              "      <td>5121</td>\n",
              "      <td>BlissArtsSpace!</td>\n",
              "      <td>7356</td>\n",
              "      <td>Garon</td>\n",
              "      <td>Brooklyn</td>\n",
              "      <td>Bedford-Stuyvesant</td>\n",
              "      <td>40.68688</td>\n",
              "      <td>-73.95596</td>\n",
              "      <td>Private room</td>\n",
              "      <td>60</td>\n",
              "      <td>29</td>\n",
              "      <td>50</td>\n",
              "      <td>2019-12-02</td>\n",
              "      <td>0.36</td>\n",
              "      <td>1</td>\n",
              "      <td>2</td>\n",
              "    </tr>\n",
              "    <tr>\n",
              "      <th>3</th>\n",
              "      <td>5136</td>\n",
              "      <td>Spacious Brooklyn Duplex, Patio + Garden</td>\n",
              "      <td>7378</td>\n",
              "      <td>Rebecca</td>\n",
              "      <td>Brooklyn</td>\n",
              "      <td>Sunset Park</td>\n",
              "      <td>40.66120</td>\n",
              "      <td>-73.99423</td>\n",
              "      <td>Entire home/apt</td>\n",
              "      <td>175</td>\n",
              "      <td>7</td>\n",
              "      <td>1</td>\n",
              "      <td>2014-01-02</td>\n",
              "      <td>0.01</td>\n",
              "      <td>1</td>\n",
              "      <td>359</td>\n",
              "    </tr>\n",
              "    <tr>\n",
              "      <th>4</th>\n",
              "      <td>5178</td>\n",
              "      <td>Large Furnished Room Near B'way</td>\n",
              "      <td>8967</td>\n",
              "      <td>Shunichi</td>\n",
              "      <td>Manhattan</td>\n",
              "      <td>Hell's Kitchen</td>\n",
              "      <td>40.76489</td>\n",
              "      <td>-73.98493</td>\n",
              "      <td>Private room</td>\n",
              "      <td>73</td>\n",
              "      <td>2</td>\n",
              "      <td>473</td>\n",
              "      <td>2020-03-15</td>\n",
              "      <td>3.40</td>\n",
              "      <td>1</td>\n",
              "      <td>350</td>\n",
              "    </tr>\n",
              "  </tbody>\n",
              "</table>\n",
              "</div>"
            ],
            "text/plain": [
              "     id                                               name  host_id  \\\n",
              "0  2595                              Skylit Midtown Castle     2845   \n",
              "1  3831  Whole flr w/private bdrm, bath & kitchen(pls r...     4869   \n",
              "2  5121                                    BlissArtsSpace!     7356   \n",
              "3  5136           Spacious Brooklyn Duplex, Patio + Garden     7378   \n",
              "4  5178                   Large Furnished Room Near B'way　     8967   \n",
              "\n",
              "     host_name neighbourhood_group       neighbourhood  latitude  longitude  \\\n",
              "0     Jennifer           Manhattan             Midtown  40.75362  -73.98377   \n",
              "1  LisaRoxanne            Brooklyn        Clinton Hill  40.68514  -73.95976   \n",
              "2        Garon            Brooklyn  Bedford-Stuyvesant  40.68688  -73.95596   \n",
              "3      Rebecca            Brooklyn         Sunset Park  40.66120  -73.99423   \n",
              "4     Shunichi           Manhattan      Hell's Kitchen  40.76489  -73.98493   \n",
              "\n",
              "         room_type  price  minimum_nights  number_of_reviews last_review  \\\n",
              "0  Entire home/apt    175               3                 48  2019-11-04   \n",
              "1  Entire home/apt     76               1                354  2020-09-20   \n",
              "2     Private room     60              29                 50  2019-12-02   \n",
              "3  Entire home/apt    175               7                  1  2014-01-02   \n",
              "4     Private room     73               2                473  2020-03-15   \n",
              "\n",
              "   reviews_per_month  calculated_host_listings_count  availability_365  \n",
              "0               0.36                               2               365  \n",
              "1               4.82                               1                 2  \n",
              "2               0.36                               1                 2  \n",
              "3               0.01                               1               359  \n",
              "4               3.40                               1               350  "
            ]
          },
          "metadata": {
            "tags": []
          },
          "execution_count": 2
        }
      ]
    },
    {
      "cell_type": "markdown",
      "metadata": {
        "id": "gUHAhuMDFNRK"
      },
      "source": [
        "### New York Listing 2021\n",
        "Este archivo se encontraba con datos \"basura\" al principio del mismo. Tuvimos que skipear las primeras 25 filas"
      ]
    },
    {
      "cell_type": "code",
      "metadata": {
        "id": "K6KriSdIFjJJ",
        "colab": {
          "base_uri": "https://localhost:8080/",
          "height": 411
        },
        "outputId": "62f91102-8258-4955-a5b6-4800e101d984"
      },
      "source": [
        "skip_rows = 25\n",
        "origin_21 = pd.read_csv('https://raw.githubusercontent.com/al34n1x/DataScience/master/100.Examen/2021/listings_nyc_2021.csv', skiprows=skip_rows)\n",
        "origin_21.head()"
      ],
      "execution_count": null,
      "outputs": [
        {
          "output_type": "execute_result",
          "data": {
            "text/html": [
              "<div>\n",
              "<style scoped>\n",
              "    .dataframe tbody tr th:only-of-type {\n",
              "        vertical-align: middle;\n",
              "    }\n",
              "\n",
              "    .dataframe tbody tr th {\n",
              "        vertical-align: top;\n",
              "    }\n",
              "\n",
              "    .dataframe thead th {\n",
              "        text-align: right;\n",
              "    }\n",
              "</style>\n",
              "<table border=\"1\" class=\"dataframe\">\n",
              "  <thead>\n",
              "    <tr style=\"text-align: right;\">\n",
              "      <th></th>\n",
              "      <th>id</th>\n",
              "      <th>name</th>\n",
              "      <th>host_id</th>\n",
              "      <th>host_name</th>\n",
              "      <th>neighbourhood_group</th>\n",
              "      <th>neighbourhood</th>\n",
              "      <th>latitude</th>\n",
              "      <th>longitude</th>\n",
              "      <th>room_type</th>\n",
              "      <th>price</th>\n",
              "      <th>minimum_nights</th>\n",
              "      <th>number_of_reviews</th>\n",
              "      <th>last_review</th>\n",
              "      <th>reviews_per_month</th>\n",
              "      <th>calculated_host_listings_count</th>\n",
              "      <th>availability_365</th>\n",
              "    </tr>\n",
              "  </thead>\n",
              "  <tbody>\n",
              "    <tr>\n",
              "      <th>0</th>\n",
              "      <td>2595</td>\n",
              "      <td>Skylit Midtown Castle</td>\n",
              "      <td>2845</td>\n",
              "      <td>Jennifer</td>\n",
              "      <td>Manhattan</td>\n",
              "      <td>Midtown</td>\n",
              "      <td>40.75356</td>\n",
              "      <td>-73.98559</td>\n",
              "      <td>Entire home/apt</td>\n",
              "      <td>150</td>\n",
              "      <td>30</td>\n",
              "      <td>48</td>\n",
              "      <td>2019-11-04</td>\n",
              "      <td>0.35</td>\n",
              "      <td>3</td>\n",
              "      <td>365</td>\n",
              "    </tr>\n",
              "    <tr>\n",
              "      <th>1</th>\n",
              "      <td>3831</td>\n",
              "      <td>Whole flr w/private bdrm, bath &amp; kitchen(pls r...</td>\n",
              "      <td>4869</td>\n",
              "      <td>LisaRoxanne</td>\n",
              "      <td>Brooklyn</td>\n",
              "      <td>Bedford-Stuyvesant</td>\n",
              "      <td>40.68494</td>\n",
              "      <td>-73.95765</td>\n",
              "      <td>Entire home/apt</td>\n",
              "      <td>76</td>\n",
              "      <td>1</td>\n",
              "      <td>396</td>\n",
              "      <td>2021-03-19</td>\n",
              "      <td>4.98</td>\n",
              "      <td>1</td>\n",
              "      <td>198</td>\n",
              "    </tr>\n",
              "    <tr>\n",
              "      <th>2</th>\n",
              "      <td>5121</td>\n",
              "      <td>BlissArtsSpace!</td>\n",
              "      <td>7356</td>\n",
              "      <td>Garon</td>\n",
              "      <td>Brooklyn</td>\n",
              "      <td>Bedford-Stuyvesant</td>\n",
              "      <td>40.68535</td>\n",
              "      <td>-73.95512</td>\n",
              "      <td>Private room</td>\n",
              "      <td>60</td>\n",
              "      <td>30</td>\n",
              "      <td>50</td>\n",
              "      <td>2019-12-02</td>\n",
              "      <td>0.35</td>\n",
              "      <td>1</td>\n",
              "      <td>365</td>\n",
              "    </tr>\n",
              "    <tr>\n",
              "      <th>3</th>\n",
              "      <td>5136</td>\n",
              "      <td>Spacious Brooklyn Duplex, Patio + Garden</td>\n",
              "      <td>7378</td>\n",
              "      <td>Rebecca</td>\n",
              "      <td>Brooklyn</td>\n",
              "      <td>Sunset Park</td>\n",
              "      <td>40.66265</td>\n",
              "      <td>-73.99454</td>\n",
              "      <td>Entire home/apt</td>\n",
              "      <td>175</td>\n",
              "      <td>7</td>\n",
              "      <td>1</td>\n",
              "      <td>2014-01-02</td>\n",
              "      <td>0.01</td>\n",
              "      <td>1</td>\n",
              "      <td>79</td>\n",
              "    </tr>\n",
              "    <tr>\n",
              "      <th>4</th>\n",
              "      <td>5178</td>\n",
              "      <td>Large Furnished Room Near B'way</td>\n",
              "      <td>8967</td>\n",
              "      <td>Shunichi</td>\n",
              "      <td>Manhattan</td>\n",
              "      <td>Midtown</td>\n",
              "      <td>40.76457</td>\n",
              "      <td>-73.98317</td>\n",
              "      <td>Private room</td>\n",
              "      <td>79</td>\n",
              "      <td>2</td>\n",
              "      <td>474</td>\n",
              "      <td>2020-09-25</td>\n",
              "      <td>3.26</td>\n",
              "      <td>1</td>\n",
              "      <td>355</td>\n",
              "    </tr>\n",
              "  </tbody>\n",
              "</table>\n",
              "</div>"
            ],
            "text/plain": [
              "     id                                               name  host_id  \\\n",
              "0  2595                              Skylit Midtown Castle     2845   \n",
              "1  3831  Whole flr w/private bdrm, bath & kitchen(pls r...     4869   \n",
              "2  5121                                    BlissArtsSpace!     7356   \n",
              "3  5136           Spacious Brooklyn Duplex, Patio + Garden     7378   \n",
              "4  5178                   Large Furnished Room Near B'way　     8967   \n",
              "\n",
              "     host_name neighbourhood_group       neighbourhood  latitude  longitude  \\\n",
              "0     Jennifer           Manhattan             Midtown  40.75356  -73.98559   \n",
              "1  LisaRoxanne            Brooklyn  Bedford-Stuyvesant  40.68494  -73.95765   \n",
              "2        Garon            Brooklyn  Bedford-Stuyvesant  40.68535  -73.95512   \n",
              "3      Rebecca            Brooklyn         Sunset Park  40.66265  -73.99454   \n",
              "4     Shunichi           Manhattan             Midtown  40.76457  -73.98317   \n",
              "\n",
              "         room_type  price  minimum_nights  number_of_reviews last_review  \\\n",
              "0  Entire home/apt    150              30                 48  2019-11-04   \n",
              "1  Entire home/apt     76               1                396  2021-03-19   \n",
              "2     Private room     60              30                 50  2019-12-02   \n",
              "3  Entire home/apt    175               7                  1  2014-01-02   \n",
              "4     Private room     79               2                474  2020-09-25   \n",
              "\n",
              "   reviews_per_month  calculated_host_listings_count  availability_365  \n",
              "0               0.35                               3               365  \n",
              "1               4.98                               1               198  \n",
              "2               0.35                               1               365  \n",
              "3               0.01                               1                79  \n",
              "4               3.26                               1               355  "
            ]
          },
          "metadata": {
            "tags": []
          },
          "execution_count": 3
        }
      ]
    },
    {
      "cell_type": "markdown",
      "metadata": {
        "id": "KAjjl-EDoYZ_"
      },
      "source": [
        "# Proceso de 'Data Cleaning' and Preparation.\n",
        "\n",
        "En un comienzo, reporduciremos dos copias de los data sets originales, ya que resulta ser una buen practica ademas de proporcionar seguridad la realizacion de este paso (tener un 'origen' siempre permite recuperar el estado original del data frame)."
      ]
    },
    {
      "cell_type": "markdown",
      "metadata": {
        "id": "iHDFplDKHR-d"
      },
      "source": [
        "### Preparación\n",
        "En un comienzo, reproduciremos dos copias de los data sets originales, ya que resulta ser una buen practica y ademas proporciona seguridad la realizacion de este paso."
      ]
    },
    {
      "cell_type": "code",
      "metadata": {
        "id": "gyxl2j2kHmIi"
      },
      "source": [
        "nyc_20 = origin_20\n",
        "\n",
        "nyc_21 = origin_21"
      ],
      "execution_count": null,
      "outputs": []
    },
    {
      "cell_type": "markdown",
      "metadata": {
        "id": "nSsSXN33JKiF"
      },
      "source": [
        "###Tratamiento de filas NaN"
      ]
    },
    {
      "cell_type": "markdown",
      "metadata": {
        "id": "hbX6W4N8HrZk"
      },
      "source": [
        "#### Identificación de NaN.\n",
        "Luego, resulta vital la deteccion de los valores 'NaN', ademas de los valores que pueden proporcionar informacion no relevante para el analisis (valores que no son 'NaN', pero adoptan valores como 'Missing', 'Unknown', etc)."
      ]
    },
    {
      "cell_type": "code",
      "metadata": {
        "id": "3__CVMilodU_",
        "colab": {
          "base_uri": "https://localhost:8080/"
        },
        "outputId": "28e7c71a-d464-4ec7-e8e2-a16edf659377"
      },
      "source": [
        "print(f\"New York Listing 2020 tiene {nyc_20.shape[0]} filas y {nyc_20.shape[1]} columnas.\")\n",
        "print(f\"New York Listing 2021 tiene {nyc_21.shape[0]} filas y {nyc_21.shape[1]} columnas.\")"
      ],
      "execution_count": null,
      "outputs": [
        {
          "output_type": "stream",
          "text": [
            "New York Listing 2020 tiene 44666 filas y 16 columnas.\n",
            "New York Listing 2021 tiene 36905 filas y 16 columnas.\n"
          ],
          "name": "stdout"
        }
      ]
    },
    {
      "cell_type": "code",
      "metadata": {
        "id": "qG4Wz0ulofCs",
        "colab": {
          "base_uri": "https://localhost:8080/"
        },
        "outputId": "886fdabd-3613-4fca-dcb8-e51efb1f61c0"
      },
      "source": [
        "print(\"Sumatoria de valores NAN para New York Listing 2020: \")\n",
        "print(nyc_20.isna().sum())\n",
        "print(\"Sumatoria de valores NAN para New York Listing 2021: \")\n",
        "print(nyc_21.isna().sum())"
      ],
      "execution_count": null,
      "outputs": [
        {
          "output_type": "stream",
          "text": [
            "Sumatoria de valores NAN para New York Listing 2020: \n",
            "id                                    0\n",
            "name                                 16\n",
            "host_id                               0\n",
            "host_name                            17\n",
            "neighbourhood_group                   0\n",
            "neighbourhood                         0\n",
            "latitude                              0\n",
            "longitude                             0\n",
            "room_type                             0\n",
            "price                                 0\n",
            "minimum_nights                        0\n",
            "number_of_reviews                     0\n",
            "last_review                       10517\n",
            "reviews_per_month                 10517\n",
            "calculated_host_listings_count        0\n",
            "availability_365                      0\n",
            "dtype: int64\n",
            "Sumatoria de valores NAN para New York Listing 2021: \n",
            "id                                   0\n",
            "name                                13\n",
            "host_id                              0\n",
            "host_name                         1268\n",
            "neighbourhood_group                  0\n",
            "neighbourhood                        0\n",
            "latitude                             0\n",
            "longitude                            0\n",
            "room_type                            0\n",
            "price                                0\n",
            "minimum_nights                       0\n",
            "number_of_reviews                    0\n",
            "last_review                       9720\n",
            "reviews_per_month                 9720\n",
            "calculated_host_listings_count       0\n",
            "availability_365                     0\n",
            "dtype: int64\n"
          ],
          "name": "stdout"
        }
      ]
    },
    {
      "cell_type": "markdown",
      "metadata": {
        "id": "NTCngsvrJTof"
      },
      "source": [
        "#### Calculo proporción de NaN en cada DF."
      ]
    },
    {
      "cell_type": "code",
      "metadata": {
        "id": "WxfyKGVgofny"
      },
      "source": [
        "# Función para calcular shares de Na por columna.\n",
        "def calculate_na(dataframe, column_name, df_year):\n",
        "    var1 = round(dataframe[column_name].isna().sum()/dataframe.shape[0] * 100, 2)\n",
        "    print(f\"La columna '{column_name}' del DataFrame del año {df_year} tiene {var1}% de NaNs.\")"
      ],
      "execution_count": null,
      "outputs": []
    },
    {
      "cell_type": "code",
      "metadata": {
        "id": "XBJp965TJiNI",
        "colab": {
          "base_uri": "https://localhost:8080/"
        },
        "outputId": "c930bb51-8d0f-4897-b307-54ead2bd5428"
      },
      "source": [
        "calculate_na(nyc_20,'name', 2020)\n",
        "calculate_na(nyc_21,'name', 2021)\n",
        "print(\"=====================\")\n",
        "calculate_na(nyc_20,'host_name', 2020)\n",
        "calculate_na(nyc_21,'host_name', 2021)\n",
        "print(\"=====================\")\n",
        "calculate_na(nyc_20,'last_review', 2020)\n",
        "calculate_na(nyc_21,'last_review', 2021)\n",
        "print(\"=====================\")\n",
        "calculate_na(nyc_20,'reviews_per_month', 2020)\n",
        "calculate_na(nyc_21,'reviews_per_month', 2021)"
      ],
      "execution_count": null,
      "outputs": [
        {
          "output_type": "stream",
          "text": [
            "La columna 'name' del DataFrame del año 2020 tiene 0.04% de NaNs.\n",
            "La columna 'name' del DataFrame del año 2021 tiene 0.04% de NaNs.\n",
            "=====================\n",
            "La columna 'host_name' del DataFrame del año 2020 tiene 0.04% de NaNs.\n",
            "La columna 'host_name' del DataFrame del año 2021 tiene 3.44% de NaNs.\n",
            "=====================\n",
            "La columna 'last_review' del DataFrame del año 2020 tiene 23.55% de NaNs.\n",
            "La columna 'last_review' del DataFrame del año 2021 tiene 26.34% de NaNs.\n",
            "=====================\n",
            "La columna 'reviews_per_month' del DataFrame del año 2020 tiene 23.55% de NaNs.\n",
            "La columna 'reviews_per_month' del DataFrame del año 2021 tiene 26.34% de NaNs.\n"
          ],
          "name": "stdout"
        }
      ]
    },
    {
      "cell_type": "markdown",
      "metadata": {
        "id": "Nm_zoxEjKNS7"
      },
      "source": [
        "En virtud de la baja representatividad que tienen los Nans en función de las columnas   name y host_name se las han dropeado de dataframe.\n"
      ]
    },
    {
      "cell_type": "markdown",
      "metadata": {
        "id": "q7UwSoePKPQL"
      },
      "source": [
        "####Eliminación de NaN.\n",
        "Eliminamos los NaN de las filas con Name y host_name en nyc_20 y nyc_21."
      ]
    },
    {
      "cell_type": "code",
      "metadata": {
        "id": "9ebAJnjIKWcm",
        "colab": {
          "base_uri": "https://localhost:8080/"
        },
        "outputId": "dd81df61-bcb3-46fc-8d37-494efbc35839"
      },
      "source": [
        "nyc_20.dropna(subset = ['name','host_name'], inplace = True)\n",
        "nyc_21.dropna(subset = ['name','host_name'], inplace = True)\n",
        "\n",
        "print(\"Sumatoria de valores NAN para New York Listing 2020: \")\n",
        "print(nyc_20.isna().sum())\n",
        "print(\"Sumatoria de valores NAN para New York Listing 2021: \")\n",
        "print(nyc_21.isna().sum())"
      ],
      "execution_count": null,
      "outputs": [
        {
          "output_type": "stream",
          "text": [
            "Sumatoria de valores NAN para New York Listing 2020: \n",
            "id                                    0\n",
            "name                                  0\n",
            "host_id                               0\n",
            "host_name                             0\n",
            "neighbourhood_group                   0\n",
            "neighbourhood                         0\n",
            "latitude                              0\n",
            "longitude                             0\n",
            "room_type                             0\n",
            "price                                 0\n",
            "minimum_nights                        0\n",
            "number_of_reviews                     0\n",
            "last_review                       10506\n",
            "reviews_per_month                 10506\n",
            "calculated_host_listings_count        0\n",
            "availability_365                      0\n",
            "dtype: int64\n",
            "Sumatoria de valores NAN para New York Listing 2021: \n",
            "id                                   0\n",
            "name                                 0\n",
            "host_id                              0\n",
            "host_name                            0\n",
            "neighbourhood_group                  0\n",
            "neighbourhood                        0\n",
            "latitude                             0\n",
            "longitude                            0\n",
            "room_type                            0\n",
            "price                                0\n",
            "minimum_nights                       0\n",
            "number_of_reviews                    0\n",
            "last_review                       9391\n",
            "reviews_per_month                 9391\n",
            "calculated_host_listings_count       0\n",
            "availability_365                     0\n",
            "dtype: int64\n"
          ],
          "name": "stdout"
        }
      ]
    },
    {
      "cell_type": "markdown",
      "metadata": {
        "id": "1Ht6Zro3oje8"
      },
      "source": [
        "## Transformación de datos"
      ]
    },
    {
      "cell_type": "markdown",
      "metadata": {
        "id": "r9KUVWnQKlUV"
      },
      "source": [
        "# Casteo de las columnas al tipo de dato correspondiente para el analisis.\n",
        "\n",
        "Para poder manipular los datos pertinentemente, es crucial realizar el 'casteo' (transformacion) de la columna de un tipo de dato a otro (por ejemplo, si quisieramos aplicar un metodo str a una columna que no contiene ese tipo de dato, Python nos mostrara un mensaje de error!)."
      ]
    },
    {
      "cell_type": "code",
      "metadata": {
        "id": "mzksa5YuKnQW"
      },
      "source": [
        "nyc_20[['price','reviews_per_month','latitude','longitude']] = nyc_20[['price','reviews_per_month','latitude','longitude']].astype(float)\n",
        "nyc_21[['price','reviews_per_month','latitude','longitude']] = nyc_21[['price','reviews_per_month','latitude','longitude']].astype(float)"
      ],
      "execution_count": null,
      "outputs": []
    },
    {
      "cell_type": "markdown",
      "metadata": {
        "id": "CILgr4ywNO4x"
      },
      "source": [
        "# Parseo de fechas.\n",
        "\n",
        "Es un procedimiento similar al casteo. En este caso transformaremos la columna de 'last_review' de tipo 'object' a tipo 'datetime'. "
      ]
    },
    {
      "cell_type": "code",
      "metadata": {
        "id": "E9BxVGJfNOb0"
      },
      "source": [
        "nyc_20['last_review'] = pd.to_datetime(nyc_20['last_review'])\n",
        "nyc_21['last_review'] = pd.to_datetime(nyc_21['last_review'])"
      ],
      "execution_count": null,
      "outputs": []
    },
    {
      "cell_type": "markdown",
      "metadata": {
        "id": "rIm6LedWM5Mh"
      },
      "source": [
        "# Separación entre alquilado y no alquilado\n",
        "Partimos del supuesto: si existe una última fecha de review,fue alquilado, caso contrario no lo fue. \n",
        "\n",
        "(number_of_reviews > 0) alquilados(number_of_reviews = 0) No alquilados\n",
        "\n",
        "**0 = no alquilado**\n",
        "\n",
        "**1= alquilado**"
      ]
    },
    {
      "cell_type": "code",
      "metadata": {
        "id": "C-sOWcJho2mD"
      },
      "source": [
        "def calculate_rented_hosts(df):\n",
        "\tdf['was_rented'] = np.where(df['number_of_reviews'] > 0, 1, 0)\n",
        "\treturn df"
      ],
      "execution_count": null,
      "outputs": []
    },
    {
      "cell_type": "code",
      "metadata": {
        "id": "qaW4HTZFo-UB",
        "colab": {
          "base_uri": "https://localhost:8080/"
        },
        "outputId": "3594ce3f-bf9c-4e73-a54a-1b1dbd3bffe5"
      },
      "source": [
        "nyc_20 = calculate_rented_hosts(nyc_20)\n",
        "nyc_21 = calculate_rented_hosts(nyc_21)\n",
        "\n",
        "print(nyc_20)"
      ],
      "execution_count": null,
      "outputs": [
        {
          "output_type": "stream",
          "text": [
            "             id                                               name    host_id  \\\n",
            "0          2595                              Skylit Midtown Castle       2845   \n",
            "1          3831  Whole flr w/private bdrm, bath & kitchen(pls r...       4869   \n",
            "2          5121                                    BlissArtsSpace!       7356   \n",
            "3          5136           Spacious Brooklyn Duplex, Patio + Garden       7378   \n",
            "4          5178                   Large Furnished Room Near B'way　       8967   \n",
            "...         ...                                                ...        ...   \n",
            "44661  45724439               Clean Upper East Side Room for Women  120449763   \n",
            "44662  45725790           Idyllic Birds Eye View Escape in the LES    7614437   \n",
            "44663  45726160         Clean, bright 2BR steps from Prospect Park   22608145   \n",
            "44664  45726522                                 big room for three    7728790   \n",
            "44665  45730924                   Spacious Queen Room in Chinatown  305240193   \n",
            "\n",
            "         host_name neighbourhood_group              neighbourhood  latitude  \\\n",
            "0         Jennifer           Manhattan                    Midtown  40.75362   \n",
            "1      LisaRoxanne            Brooklyn               Clinton Hill  40.68514   \n",
            "2            Garon            Brooklyn         Bedford-Stuyvesant  40.68688   \n",
            "3          Rebecca            Brooklyn                Sunset Park  40.66120   \n",
            "4         Shunichi           Manhattan             Hell's Kitchen  40.76489   \n",
            "...            ...                 ...                        ...       ...   \n",
            "44661       Tamara           Manhattan            Upper East Side  40.76640   \n",
            "44662      Marissa           Manhattan            Lower East Side  40.71588   \n",
            "44663         Mark            Brooklyn  Prospect-Lefferts Gardens  40.66235   \n",
            "44664        Celin           Manhattan                     Harlem  40.82408   \n",
            "44665         June           Manhattan                  Chinatown  40.71612   \n",
            "\n",
            "       longitude        room_type  price  minimum_nights  number_of_reviews  \\\n",
            "0      -73.98377  Entire home/apt  175.0               3                 48   \n",
            "1      -73.95976  Entire home/apt   76.0               1                354   \n",
            "2      -73.95596     Private room   60.0              29                 50   \n",
            "3      -73.99423  Entire home/apt  175.0               7                  1   \n",
            "4      -73.98493     Private room   73.0               2                473   \n",
            "...          ...              ...    ...             ...                ...   \n",
            "44661  -73.95283     Private room   50.0               1                  0   \n",
            "44662  -73.98741  Entire home/apt  200.0               5                  0   \n",
            "44663  -73.95790  Entire home/apt   92.0              30                  0   \n",
            "44664  -73.94674     Private room  120.0               7                  0   \n",
            "44665  -73.99847     Private room   54.0              30                  0   \n",
            "\n",
            "      last_review  reviews_per_month  calculated_host_listings_count  \\\n",
            "0      2019-11-04               0.36                               2   \n",
            "1      2020-09-20               4.82                               1   \n",
            "2      2019-12-02               0.36                               1   \n",
            "3      2014-01-02               0.01                               1   \n",
            "4      2020-03-15               3.40                               1   \n",
            "...           ...                ...                             ...   \n",
            "44661         NaT                NaN                               1   \n",
            "44662         NaT                NaN                               1   \n",
            "44663         NaT                NaN                               1   \n",
            "44664         NaT                NaN                               4   \n",
            "44665         NaT                NaN                             160   \n",
            "\n",
            "       availability_365  was_rented  \n",
            "0                   365           1  \n",
            "1                     2           1  \n",
            "2                     2           1  \n",
            "3                   359           1  \n",
            "4                   350           1  \n",
            "...                 ...         ...  \n",
            "44661                 0           0  \n",
            "44662                48           0  \n",
            "44663                18           0  \n",
            "44664               340           0  \n",
            "44665               310           0  \n",
            "\n",
            "[44633 rows x 17 columns]\n"
          ],
          "name": "stdout"
        }
      ]
    },
    {
      "cell_type": "markdown",
      "metadata": {
        "id": "-oZALeyloq56"
      },
      "source": [
        "## Análisis y Visualizaciones\n"
      ]
    },
    {
      "cell_type": "markdown",
      "metadata": {
        "id": "1cJo_o2rO39P"
      },
      "source": [
        "### Estadística descriptiva\n"
      ]
    },
    {
      "cell_type": "markdown",
      "metadata": {
        "id": "cHZjQT6APInm"
      },
      "source": [
        "#### Análisis general de variables"
      ]
    },
    {
      "cell_type": "code",
      "metadata": {
        "id": "EfW0qrFoPL1L",
        "colab": {
          "base_uri": "https://localhost:8080/"
        },
        "outputId": "f6ca2113-4664-4977-cc5f-bef0eb84939a"
      },
      "source": [
        "print(nyc_20.describe())\n",
        "print(nyc_21.describe())"
      ],
      "execution_count": null,
      "outputs": [
        {
          "output_type": "stream",
          "text": [
            "                 id       host_id      latitude     longitude         price  \\\n",
            "count  4.463300e+04  4.463300e+04  44633.000000  44633.000000  44633.000000   \n",
            "mean   2.323334e+07  8.534308e+07     40.729701    -73.950759    150.098851   \n",
            "std    1.398198e+07  1.001741e+08      0.055168      0.047502    323.463492   \n",
            "min    2.595000e+03  2.438000e+03     40.508680    -74.239860      0.000000   \n",
            "25%    1.056536e+07  9.353656e+06     40.689880    -73.982980     64.000000   \n",
            "50%    2.226777e+07  3.787202e+07     40.724560    -73.955290    100.000000   \n",
            "75%    3.623987e+07  1.373589e+08     40.763350    -73.933990    160.000000   \n",
            "max    4.573092e+07  3.705121e+08     40.911690    -73.711930  10000.000000   \n",
            "\n",
            "       minimum_nights  number_of_reviews  reviews_per_month  \\\n",
            "count    44633.000000       44633.000000       34127.000000   \n",
            "mean         9.283199          22.463424           0.864224   \n",
            "std         23.782689          46.671771           1.267266   \n",
            "min          1.000000           0.000000           0.010000   \n",
            "25%          2.000000           1.000000           0.110000   \n",
            "50%          3.000000           4.000000           0.350000   \n",
            "75%          7.000000          20.000000           1.130000   \n",
            "max       1250.000000         746.000000          41.370000   \n",
            "\n",
            "       calculated_host_listings_count  availability_365    was_rented  \n",
            "count                    44633.000000      44633.000000  44633.000000  \n",
            "mean                         6.672238        105.428965      0.764614  \n",
            "std                         24.863433        139.516762      0.424245  \n",
            "min                          1.000000          0.000000      0.000000  \n",
            "25%                          1.000000          0.000000      1.000000  \n",
            "50%                          1.000000          1.000000      1.000000  \n",
            "75%                          2.000000        189.000000      1.000000  \n",
            "max                        239.000000        365.000000      1.000000  \n",
            "                 id       host_id      latitude     longitude         price  \\\n",
            "count  3.562500e+04  3.562500e+04  35625.000000  35625.000000  35625.000000   \n",
            "mean   2.579231e+07  9.847349e+07     40.729442    -73.950277    149.262484   \n",
            "std    1.553847e+07  1.145641e+08      0.054977      0.048861    294.302866   \n",
            "min    2.595000e+03  2.438000e+03     40.508630    -74.241350      0.000000   \n",
            "25%    1.154345e+07  1.014932e+07     40.690180    -73.983460     62.000000   \n",
            "50%    2.594692e+07  4.273022e+07     40.725440    -73.955230    100.000000   \n",
            "75%    4.068003e+07  1.611401e+08     40.762420    -73.932390    160.000000   \n",
            "max    4.909253e+07  3.958177e+08     40.917140    -73.710870  10000.000000   \n",
            "\n",
            "       minimum_nights  number_of_reviews  reviews_per_month  \\\n",
            "count    35625.000000       35625.000000       26234.000000   \n",
            "mean        23.048477          22.693558           0.856692   \n",
            "std         25.926525          48.008821           1.353837   \n",
            "min          1.000000           0.000000           0.010000   \n",
            "25%          4.000000           0.000000           0.110000   \n",
            "50%         30.000000           4.000000           0.340000   \n",
            "75%         30.000000          20.000000           1.090000   \n",
            "max       1250.000000         755.000000          47.600000   \n",
            "\n",
            "       calculated_host_listings_count  availability_365    was_rented  \n",
            "count                    35625.000000      35625.000000  35625.000000  \n",
            "mean                        11.317558        124.224253      0.736393  \n",
            "std                         37.295645        143.407857      0.440595  \n",
            "min                          1.000000          0.000000      0.000000  \n",
            "25%                          1.000000          0.000000      0.000000  \n",
            "50%                          1.000000         56.000000      1.000000  \n",
            "75%                          3.000000        270.000000      1.000000  \n",
            "max                        266.000000        365.000000      1.000000  \n"
          ],
          "name": "stdout"
        }
      ]
    },
    {
      "cell_type": "markdown",
      "metadata": {
        "id": "fvg378VVN_qA"
      },
      "source": [
        "#### Creamos un pequeño data frame donde utilizamos solo las columnas que se consideraron relevantes para dar un primer vistazo al estado general de las propiedades, intentando buscar algunas similitudes a simple vista."
      ]
    },
    {
      "cell_type": "code",
      "metadata": {
        "id": "I8ahfRrmN_ZR"
      },
      "source": [
        "useful = nyc_20.drop(columns = ['id','name','host_id','host_name','latitude','longitude','number_of_reviews','reviews_per_month'])"
      ],
      "execution_count": null,
      "outputs": []
    },
    {
      "cell_type": "markdown",
      "metadata": {
        "id": "aoeOQGJJObAu"
      },
      "source": [
        "####Bronx"
      ]
    },
    {
      "cell_type": "code",
      "metadata": {
        "colab": {
          "base_uri": "https://localhost:8080/",
          "height": 530
        },
        "id": "ydI4BFgiONeu",
        "outputId": "61891e0f-d74c-4a6a-cb25-9e65c91040bf"
      },
      "source": [
        "useful.groupby(['was_rented', 'neighbourhood_group', 'room_type']).mean().loc[0, 'Bronx'].plot(kind = 'barh')\n",
        "useful.groupby(['was_rented', 'neighbourhood_group', 'room_type']).mean().loc[1, 'Bronx'].plot(kind = 'barh')"
      ],
      "execution_count": null,
      "outputs": [
        {
          "output_type": "execute_result",
          "data": {
            "text/plain": [
              "<matplotlib.axes._subplots.AxesSubplot at 0x7f413bce7b10>"
            ]
          },
          "metadata": {
            "tags": []
          },
          "execution_count": 65
        },
        {
          "output_type": "display_data",
          "data": {
            "image/png": "[encoded data removed]",
            "text/plain": [
              "<Figure size 432x288 with 1 Axes>"
            ]
          },
          "metadata": {
            "tags": [],
            "needs_background": "light"
          }
        },
        {
          "output_type": "display_data",
          "data": {
            "image/png": "[encoded data removed]",
            "text/plain": [
              "<Figure size 432x288 with 1 Axes>"
            ]
          },
          "metadata": {
            "tags": [],
            "needs_background": "light"
          }
        }
      ]
    },
    {
      "cell_type": "markdown",
      "metadata": {
        "id": "MpF0p-q-OpKo"
      },
      "source": [
        "####Manhattan"
      ]
    },
    {
      "cell_type": "code",
      "metadata": {
        "colab": {
          "base_uri": "https://localhost:8080/",
          "height": 530
        },
        "id": "Gc54nuWoONba",
        "outputId": "d7734078-f335-4050-e477-473712176ec7"
      },
      "source": [
        "useful.groupby(['was_rented', 'neighbourhood_group', 'room_type']).mean().loc[0, 'Manhattan'].plot(kind = 'barh')\n",
        "useful.groupby(['was_rented', 'neighbourhood_group', 'room_type']).mean().loc[1, 'Manhattan'].plot(kind = 'barh')"
      ],
      "execution_count": null,
      "outputs": [
        {
          "output_type": "execute_result",
          "data": {
            "text/plain": [
              "<matplotlib.axes._subplots.AxesSubplot at 0x7f413bd1cf10>"
            ]
          },
          "metadata": {
            "tags": []
          },
          "execution_count": 66
        },
        {
          "output_type": "display_data",
          "data": {
            "image/png": "[encoded data removed]",
            "text/plain": [
              "<Figure size 432x288 with 1 Axes>"
            ]
          },
          "metadata": {
            "tags": [],
            "needs_background": "light"
          }
        },
        {
          "output_type": "display_data",
          "data": {
            "image/png": "[encoded data removed]",
            "text/plain": [
              "<Figure size 432x288 with 1 Axes>"
            ]
          },
          "metadata": {
            "tags": [],
            "needs_background": "light"
          }
        }
      ]
    },
    {
      "cell_type": "markdown",
      "metadata": {
        "id": "dKvCEF8XOsYA"
      },
      "source": [
        "####Staten Island"
      ]
    },
    {
      "cell_type": "code",
      "metadata": {
        "colab": {
          "base_uri": "https://localhost:8080/",
          "height": 530
        },
        "id": "iD4S2-RaONY6",
        "outputId": "db54072f-6c8e-4963-8e94-4b05d7b3798e"
      },
      "source": [
        "useful.groupby(['was_rented', 'neighbourhood_group', 'room_type']).mean().loc[0, 'Staten Island'].plot(kind = 'barh')\n",
        "useful.groupby(['was_rented', 'neighbourhood_group', 'room_type']).mean().loc[1, 'Staten Island'].plot(kind = 'barh')"
      ],
      "execution_count": null,
      "outputs": [
        {
          "output_type": "execute_result",
          "data": {
            "text/plain": [
              "<matplotlib.axes._subplots.AxesSubplot at 0x7f413bd8a190>"
            ]
          },
          "metadata": {
            "tags": []
          },
          "execution_count": 67
        },
        {
          "output_type": "display_data",
          "data": {
            "image/png": "[encoded data removed]",
            "text/plain": [
              "<Figure size 432x288 with 1 Axes>"
            ]
          },
          "metadata": {
            "tags": [],
            "needs_background": "light"
          }
        },
        {
          "output_type": "display_data",
          "data": {
            "image/png": "[encoded data removed]",
            "text/plain": [
              "<Figure size 432x288 with 1 Axes>"
            ]
          },
          "metadata": {
            "tags": [],
            "needs_background": "light"
          }
        }
      ]
    },
    {
      "cell_type": "markdown",
      "metadata": {
        "id": "Kx4o6CfXOvkv"
      },
      "source": [
        "####Brooklyn"
      ]
    },
    {
      "cell_type": "code",
      "metadata": {
        "colab": {
          "base_uri": "https://localhost:8080/",
          "height": 530
        },
        "id": "MO1MLiN0ONVz",
        "outputId": "5aa9bbb4-309d-4c7e-c5ea-264648b07e41"
      },
      "source": [
        "useful.groupby(['was_rented', 'neighbourhood_group', 'room_type']).mean().loc[0, 'Brooklyn'].plot(kind = 'barh')\n",
        "useful.groupby(['was_rented', 'neighbourhood_group', 'room_type']).mean().loc[1, 'Brooklyn'].plot(kind = 'barh')"
      ],
      "execution_count": null,
      "outputs": [
        {
          "output_type": "execute_result",
          "data": {
            "text/plain": [
              "<matplotlib.axes._subplots.AxesSubplot at 0x7f41404ee410>"
            ]
          },
          "metadata": {
            "tags": []
          },
          "execution_count": 68
        },
        {
          "output_type": "display_data",
          "data": {
            "image/png": "[encoded data removed]",
            "text/plain": [
              "<Figure size 432x288 with 1 Axes>"
            ]
          },
          "metadata": {
            "tags": [],
            "needs_background": "light"
          }
        },
        {
          "output_type": "display_data",
          "data": {
            "image/png": "[encoded data removed]",
            "text/plain": [
              "<Figure size 432x288 with 1 Axes>"
            ]
          },
          "metadata": {
            "tags": [],
            "needs_background": "light"
          }
        }
      ]
    },
    {
      "cell_type": "markdown",
      "metadata": {
        "id": "4psFzeeDOy9w"
      },
      "source": [
        "####Queens"
      ]
    },
    {
      "cell_type": "code",
      "metadata": {
        "colab": {
          "base_uri": "https://localhost:8080/",
          "height": 530
        },
        "id": "tYC7TVfVOgU_",
        "outputId": "d13e65e8-5f38-4957-f3ec-d913dc19adb2"
      },
      "source": [
        "useful.groupby(['was_rented', 'neighbourhood_group', 'room_type']).mean().loc[0, 'Queens'].plot(kind = 'barh')\n",
        "useful.groupby(['was_rented', 'neighbourhood_group', 'room_type']).mean().loc[1, 'Queens'].plot(kind = 'barh')"
      ],
      "execution_count": null,
      "outputs": [
        {
          "output_type": "execute_result",
          "data": {
            "text/plain": [
              "<matplotlib.axes._subplots.AxesSubplot at 0x7f413c908ad0>"
            ]
          },
          "metadata": {
            "tags": []
          },
          "execution_count": 69
        },
        {
          "output_type": "display_data",
          "data": {
            "image/png": "[encoded data removed]",
            "text/plain": [
              "<Figure size 432x288 with 1 Axes>"
            ]
          },
          "metadata": {
            "tags": [],
            "needs_background": "light"
          }
        },
        {
          "output_type": "display_data",
          "data": {
            "image/png": "[encoded data removed]",
            "text/plain": [
              "<Figure size 432x288 with 1 Axes>"
            ]
          },
          "metadata": {
            "tags": [],
            "needs_background": "light"
          }
        }
      ]
    },
    {
      "cell_type": "markdown",
      "metadata": {
        "id": "G6_0VSRUP0NJ"
      },
      "source": [
        "#### Análisis de precios"
      ]
    },
    {
      "cell_type": "code",
      "metadata": {
        "id": "HLjZsoevPp7v",
        "colab": {
          "base_uri": "https://localhost:8080/",
          "height": 312
        },
        "outputId": "eecad784-73f9-4f83-98ca-5634b4485cbe"
      },
      "source": [
        "sns.histplot(data=nyc_20['price'], x = nyc_20['price']).set_title('Histograma de Precios')"
      ],
      "execution_count": null,
      "outputs": [
        {
          "output_type": "execute_result",
          "data": {
            "text/plain": [
              "Text(0.5, 1.0, 'Histograma de Precios')"
            ]
          },
          "metadata": {
            "tags": []
          },
          "execution_count": 15
        },
        {
          "output_type": "display_data",
          "data": {
            "image/png": "[encoded data removed]",
            "text/plain": [
              "<Figure size 432x288 with 1 Axes>"
            ]
          },
          "metadata": {
            "tags": [],
            "needs_background": "light"
          }
        }
      ]
    },
    {
      "cell_type": "code",
      "metadata": {
        "id": "Twi1nJU5Qyre",
        "colab": {
          "base_uri": "https://localhost:8080/",
          "height": 312
        },
        "outputId": "91776c79-6ffd-414b-edd9-cda3a3e0afc2"
      },
      "source": [
        "sns.histplot(data=nyc_21['price'], x = nyc_21['price']).set_title('Histograma de Precios')"
      ],
      "execution_count": null,
      "outputs": [
        {
          "output_type": "execute_result",
          "data": {
            "text/plain": [
              "Text(0.5, 1.0, 'Histograma de Precios')"
            ]
          },
          "metadata": {
            "tags": []
          },
          "execution_count": 16
        },
        {
          "output_type": "display_data",
          "data": {
            "image/png": "[encoded data removed]",
            "text/plain": [
              "<Figure size 432x288 with 1 Axes>"
            ]
          },
          "metadata": {
            "tags": [],
            "needs_background": "light"
          }
        }
      ]
    },
    {
      "cell_type": "markdown",
      "metadata": {
        "id": "YiTrUNf45Mql"
      },
      "source": [
        "#### Visualización de outliers"
      ]
    },
    {
      "cell_type": "markdown",
      "metadata": {
        "id": "pIo7tABbRKKu"
      },
      "source": [
        "A simple vista, este grafico nos ha permitido identificar rapidamente la existencia de outliers\n",
        "\n",
        "¿Que hicimos aca?\n",
        "1. Creamos los 'bins', es decir, intervalos de cien en cien que nos permitiran conocer la cantidad de propiedades que se hallan en los diferentes intervalos.\n",
        "2. Luego, creamos una serie que contiene la cuenta de cada uno de esos precios agrupados por intervalos.\n",
        "3. Seguidamente, transformamos nuestros valores hasta el momento en un DF\n",
        "4. Por ultimo creamos dos columnas nuevas, 'share' y 'cumsum'\n",
        "\n",
        "-> 'share' podemos entenderla como el porcentaje que representa dicho intervalo\n",
        "-> 'cumsum' podemos entenderlo como el valor acumulado de la suma de los valores obtenidos hasta el momento en la columna 'share'"
      ]
    },
    {
      "cell_type": "code",
      "metadata": {
        "id": "dqVlo0HtR4mz"
      },
      "source": [
        "bins = [0, 300, 600, 900, 1200, 10000]\n",
        "# Calculamos para precios 2020\n",
        "cumulative_prices2020 = pd.value_counts(pd.cut(nyc_20['price'], bins))\n",
        "cumulative_prices2020 = cumulative_prices2020.to_frame()\n",
        "cumulative_prices2020['share'] = round(cumulative_prices2020['price'] /cumulative_prices2020['price'].sum()*100,2)\n",
        "cumulative_prices2020['cumsum'] = round(cumulative_prices2020['share'].cumsum(),2)\n",
        "# Calculamos para precios 2021\n",
        "cumulative_prices2021 = pd.value_counts(pd.cut(nyc_21['price'], bins))\n",
        "cumulative_prices2021 = cumulative_prices2021.to_frame()\n",
        "cumulative_prices2021['share'] = round(cumulative_prices2021['price'] /cumulative_prices2021['price'].sum()*100,2)\n",
        "cumulative_prices2021['cumsum'] = round(cumulative_prices2021['share'].cumsum(),2)"
      ],
      "execution_count": null,
      "outputs": []
    },
    {
      "cell_type": "code",
      "metadata": {
        "id": "IftJtZX_S1cY",
        "colab": {
          "base_uri": "https://localhost:8080/",
          "height": 204
        },
        "outputId": "bfad8923-7b5c-47a9-d91f-6274037e9dc7"
      },
      "source": [
        "price_comparison = pd.DataFrame(cumulative_prices2020['share'], index=cumulative_prices2020.index)\n",
        "price_comparison.rename(columns={'share':'share2020'})\n",
        "price_comparison['share2021'] = price_comparison.index.map(cumulative_prices2021['share'])\n",
        "price_comparison['cumsum2020'] = cumulative_prices2020['cumsum']\n",
        "price_comparison['cumsum2021'] = cumulative_prices2021['cumsum']\n",
        "price_comparison"
      ],
      "execution_count": null,
      "outputs": [
        {
          "output_type": "execute_result",
          "data": {
            "text/html": [
              "<div>\n",
              "<style scoped>\n",
              "    .dataframe tbody tr th:only-of-type {\n",
              "        vertical-align: middle;\n",
              "    }\n",
              "\n",
              "    .dataframe tbody tr th {\n",
              "        vertical-align: top;\n",
              "    }\n",
              "\n",
              "    .dataframe thead th {\n",
              "        text-align: right;\n",
              "    }\n",
              "</style>\n",
              "<table border=\"1\" class=\"dataframe\">\n",
              "  <thead>\n",
              "    <tr style=\"text-align: right;\">\n",
              "      <th></th>\n",
              "      <th>share</th>\n",
              "      <th>share2021</th>\n",
              "      <th>cumsum2020</th>\n",
              "      <th>cumsum2021</th>\n",
              "    </tr>\n",
              "  </thead>\n",
              "  <tbody>\n",
              "    <tr>\n",
              "      <th>(0, 300]</th>\n",
              "      <td>93.51</td>\n",
              "      <td>93.43</td>\n",
              "      <td>93.51</td>\n",
              "      <td>93.43</td>\n",
              "    </tr>\n",
              "    <tr>\n",
              "      <th>(300, 600]</th>\n",
              "      <td>4.67</td>\n",
              "      <td>4.56</td>\n",
              "      <td>98.18</td>\n",
              "      <td>97.99</td>\n",
              "    </tr>\n",
              "    <tr>\n",
              "      <th>(600, 900]</th>\n",
              "      <td>0.87</td>\n",
              "      <td>0.94</td>\n",
              "      <td>99.05</td>\n",
              "      <td>98.93</td>\n",
              "    </tr>\n",
              "    <tr>\n",
              "      <th>(1200, 10000]</th>\n",
              "      <td>0.49</td>\n",
              "      <td>0.51</td>\n",
              "      <td>99.54</td>\n",
              "      <td>100.00</td>\n",
              "    </tr>\n",
              "    <tr>\n",
              "      <th>(900, 1200]</th>\n",
              "      <td>0.47</td>\n",
              "      <td>0.56</td>\n",
              "      <td>100.01</td>\n",
              "      <td>99.49</td>\n",
              "    </tr>\n",
              "  </tbody>\n",
              "</table>\n",
              "</div>"
            ],
            "text/plain": [
              "               share share2021  cumsum2020  cumsum2021\n",
              "(0, 300]       93.51     93.43       93.51       93.43\n",
              "(300, 600]      4.67      4.56       98.18       97.99\n",
              "(600, 900]      0.87      0.94       99.05       98.93\n",
              "(1200, 10000]   0.49      0.51       99.54      100.00\n",
              "(900, 1200]     0.47      0.56      100.01       99.49"
            ]
          },
          "metadata": {
            "tags": []
          },
          "execution_count": 71
        }
      ]
    },
    {
      "cell_type": "code",
      "metadata": {
        "colab": {
          "base_uri": "https://localhost:8080/",
          "height": 542
        },
        "id": "K9YxKMu6_oQ-",
        "outputId": "b6c60082-bbab-4a5e-c78a-0985b503ee36"
      },
      "source": [
        "fig = go.Figure(go.Waterfall(\n",
        "    name = \"20\", orientation = \"v\",\n",
        "    measure = [\"relative\", \"relative\", \"relative\", \"relative\", \"total\"],\n",
        "    x = ['(0, 300]','(300, 600]','(600, 900]','(900, 1200]','Total'],\n",
        "    textposition = \"outside\",\n",
        "    text = [\"93.51%\", \"4.67%\", \"0.87%\", \"0.49%\", \"Total = 100%\"],\n",
        "    y = price_comparison['share'],\n",
        "    connector = {\"line\":{\"color\":\"rgb(63, 63, 63)\"}},\n",
        "))\n",
        "\n",
        "fig.update_layout(\n",
        "        title = \"Share acumulado de departamentos por rango de precios - 2020\",\n",
        "        showlegend = True,\n",
        "        font=dict(\n",
        "            size=12,\n",
        "            color=\"Black\"\n",
        "        ),\n",
        ")\n",
        "\n",
        "\n",
        "fig.show()"
      ],
      "execution_count": null,
      "outputs": [
        {
          "output_type": "display_data",
          "data": {
            "text/html": [
              "<html>\n",
              "<head><meta charset=\"utf-8\" /></head>\n",
              "<body>\n",
              "    <div>\n",
              "            <script src=\"https://cdnjs.cloudflare.com/ajax/libs/mathjax/2.7.5/MathJax.js?config=TeX-AMS-MML_SVG\"></script><script type=\"text/javascript\">if (window.MathJax) {MathJax.Hub.Config({SVG: {font: \"STIX-Web\"}});}</script>\n",
              "                <script type=\"text/javascript\">window.PlotlyConfig = {MathJaxConfig: 'local'};</script>\n",
              "        <script src=\"https://cdn.plot.ly/plotly-latest.min.js\"></script>    \n",
              "            <div id=\"9ad82312-8c71-4a9d-9528-4caf1a39748a\" class=\"plotly-graph-div\" style=\"height:525px; width:100%;\"></div>\n",
              "            <script type=\"text/javascript\">\n",
              "                \n",
              "                    window.PLOTLYENV=window.PLOTLYENV || {};\n",
              "                    \n",
              "                if (document.getElementById(\"9ad82312-8c71-4a9d-9528-4caf1a39748a\")) {\n",
              "                    Plotly.newPlot(\n",
              "                        '9ad82312-8c71-4a9d-9528-4caf1a39748a',\n",
              "                        [{\"connector\": {\"line\": {\"color\": \"rgb(63, 63, 63)\"}}, \"measure\": [\"relative\", \"relative\", \"relative\", \"relative\", \"total\"], \"name\": \"20\", \"orientation\": \"v\", \"text\": [\"93.51%\", \"4.67%\", \"0.87%\", \"0.49%\", \"Total = 100%\"], \"textposition\": \"outside\", \"type\": \"waterfall\", \"x\": [\"(0, 300]\", \"(300, 600]\", \"(600, 900]\", \"(900, 1200]\", \"Total\"], \"y\": [93.51, 4.67, 0.87, 0.49, 0.47]}],\n",
              "                        {\"font\": {\"color\": \"Black\", \"size\": 12}, \"showlegend\": true, \"template\": {\"data\": {\"bar\": [{\"error_x\": {\"color\": \"#2a3f5f\"}, \"error_y\": {\"color\": \"#2a3f5f\"}, \"marker\": {\"line\": {\"color\": \"#E5ECF6\", \"width\": 0.5}}, \"type\": \"bar\"}], \"barpolar\": [{\"marker\": {\"line\": {\"color\": \"#E5ECF6\", \"width\": 0.5}}, \"type\": \"barpolar\"}], \"carpet\": [{\"aaxis\": {\"endlinecolor\": \"#2a3f5f\", \"gridcolor\": \"white\", \"linecolor\": \"white\", \"minorgridcolor\": \"white\", \"startlinecolor\": \"#2a3f5f\"}, \"baxis\": {\"endlinecolor\": \"#2a3f5f\", \"gridcolor\": \"white\", \"linecolor\": \"white\", \"minorgridcolor\": \"white\", \"startlinecolor\": \"#2a3f5f\"}, \"type\": \"carpet\"}], \"choropleth\": [{\"colorbar\": {\"outlinewidth\": 0, \"ticks\": \"\"}, \"type\": \"choropleth\"}], \"contour\": [{\"colorbar\": {\"outlinewidth\": 0, \"ticks\": \"\"}, \"colorscale\": [[0.0, \"#0d0887\"], [0.1111111111111111, \"#46039f\"], [0.2222222222222222, \"#7201a8\"], [0.3333333333333333, \"#9c179e\"], [0.4444444444444444, \"#bd3786\"], [0.5555555555555556, \"#d8576b\"], [0.6666666666666666, \"#ed7953\"], [0.7777777777777778, \"#fb9f3a\"], [0.8888888888888888, \"#fdca26\"], [1.0, \"#f0f921\"]], \"type\": \"contour\"}], \"contourcarpet\": [{\"colorbar\": {\"outlinewidth\": 0, \"ticks\": \"\"}, \"type\": \"contourcarpet\"}], \"heatmap\": [{\"colorbar\": {\"outlinewidth\": 0, \"ticks\": \"\"}, \"colorscale\": [[0.0, \"#0d0887\"], [0.1111111111111111, \"#46039f\"], [0.2222222222222222, \"#7201a8\"], [0.3333333333333333, \"#9c179e\"], [0.4444444444444444, \"#bd3786\"], [0.5555555555555556, \"#d8576b\"], [0.6666666666666666, \"#ed7953\"], [0.7777777777777778, \"#fb9f3a\"], [0.8888888888888888, \"#fdca26\"], [1.0, \"#f0f921\"]], \"type\": \"heatmap\"}], \"heatmapgl\": [{\"colorbar\": {\"outlinewidth\": 0, \"ticks\": \"\"}, \"colorscale\": [[0.0, \"#0d0887\"], [0.1111111111111111, \"#46039f\"], [0.2222222222222222, \"#7201a8\"], [0.3333333333333333, \"#9c179e\"], [0.4444444444444444, \"#bd3786\"], [0.5555555555555556, \"#d8576b\"], [0.6666666666666666, \"#ed7953\"], [0.7777777777777778, \"#fb9f3a\"], [0.8888888888888888, \"#fdca26\"], [1.0, \"#f0f921\"]], \"type\": \"heatmapgl\"}], \"histogram\": [{\"marker\": {\"colorbar\": {\"outlinewidth\": 0, \"ticks\": \"\"}}, \"type\": \"histogram\"}], \"histogram2d\": [{\"colorbar\": {\"outlinewidth\": 0, \"ticks\": \"\"}, \"colorscale\": [[0.0, \"#0d0887\"], [0.1111111111111111, \"#46039f\"], [0.2222222222222222, \"#7201a8\"], [0.3333333333333333, \"#9c179e\"], [0.4444444444444444, \"#bd3786\"], [0.5555555555555556, \"#d8576b\"], [0.6666666666666666, \"#ed7953\"], [0.7777777777777778, \"#fb9f3a\"], [0.8888888888888888, \"#fdca26\"], [1.0, \"#f0f921\"]], \"type\": \"histogram2d\"}], \"histogram2dcontour\": [{\"colorbar\": {\"outlinewidth\": 0, \"ticks\": \"\"}, \"colorscale\": [[0.0, \"#0d0887\"], [0.1111111111111111, \"#46039f\"], [0.2222222222222222, \"#7201a8\"], [0.3333333333333333, \"#9c179e\"], [0.4444444444444444, \"#bd3786\"], [0.5555555555555556, \"#d8576b\"], [0.6666666666666666, \"#ed7953\"], [0.7777777777777778, \"#fb9f3a\"], [0.8888888888888888, \"#fdca26\"], [1.0, \"#f0f921\"]], \"type\": \"histogram2dcontour\"}], \"mesh3d\": [{\"colorbar\": {\"outlinewidth\": 0, \"ticks\": \"\"}, \"type\": \"mesh3d\"}], \"parcoords\": [{\"line\": {\"colorbar\": {\"outlinewidth\": 0, \"ticks\": \"\"}}, \"type\": \"parcoords\"}], \"pie\": [{\"automargin\": true, \"type\": \"pie\"}], \"scatter\": [{\"marker\": {\"colorbar\": {\"outlinewidth\": 0, \"ticks\": \"\"}}, \"type\": \"scatter\"}], \"scatter3d\": [{\"line\": {\"colorbar\": {\"outlinewidth\": 0, \"ticks\": \"\"}}, \"marker\": {\"colorbar\": {\"outlinewidth\": 0, \"ticks\": \"\"}}, \"type\": \"scatter3d\"}], \"scattercarpet\": [{\"marker\": {\"colorbar\": {\"outlinewidth\": 0, \"ticks\": \"\"}}, \"type\": \"scattercarpet\"}], \"scattergeo\": [{\"marker\": {\"colorbar\": {\"outlinewidth\": 0, \"ticks\": \"\"}}, \"type\": \"scattergeo\"}], \"scattergl\": [{\"marker\": {\"colorbar\": {\"outlinewidth\": 0, \"ticks\": \"\"}}, \"type\": \"scattergl\"}], \"scattermapbox\": [{\"marker\": {\"colorbar\": {\"outlinewidth\": 0, \"ticks\": \"\"}}, \"type\": \"scattermapbox\"}], \"scatterpolar\": [{\"marker\": {\"colorbar\": {\"outlinewidth\": 0, \"ticks\": \"\"}}, \"type\": \"scatterpolar\"}], \"scatterpolargl\": [{\"marker\": {\"colorbar\": {\"outlinewidth\": 0, \"ticks\": \"\"}}, \"type\": \"scatterpolargl\"}], \"scatterternary\": [{\"marker\": {\"colorbar\": {\"outlinewidth\": 0, \"ticks\": \"\"}}, \"type\": \"scatterternary\"}], \"surface\": [{\"colorbar\": {\"outlinewidth\": 0, \"ticks\": \"\"}, \"colorscale\": [[0.0, \"#0d0887\"], [0.1111111111111111, \"#46039f\"], [0.2222222222222222, \"#7201a8\"], [0.3333333333333333, \"#9c179e\"], [0.4444444444444444, \"#bd3786\"], [0.5555555555555556, \"#d8576b\"], [0.6666666666666666, \"#ed7953\"], [0.7777777777777778, \"#fb9f3a\"], [0.8888888888888888, \"#fdca26\"], [1.0, \"#f0f921\"]], \"type\": \"surface\"}], \"table\": [{\"cells\": {\"fill\": {\"color\": \"#EBF0F8\"}, \"line\": {\"color\": \"white\"}}, \"header\": {\"fill\": {\"color\": \"#C8D4E3\"}, \"line\": {\"color\": \"white\"}}, \"type\": \"table\"}]}, \"layout\": {\"annotationdefaults\": {\"arrowcolor\": \"#2a3f5f\", \"arrowhead\": 0, \"arrowwidth\": 1}, \"coloraxis\": {\"colorbar\": {\"outlinewidth\": 0, \"ticks\": \"\"}}, \"colorscale\": {\"diverging\": [[0, \"#8e0152\"], [0.1, \"#c51b7d\"], [0.2, \"#de77ae\"], [0.3, \"#f1b6da\"], [0.4, \"#fde0ef\"], [0.5, \"#f7f7f7\"], [0.6, \"#e6f5d0\"], [0.7, \"#b8e186\"], [0.8, \"#7fbc41\"], [0.9, \"#4d9221\"], [1, \"#276419\"]], \"sequential\": [[0.0, \"#0d0887\"], [0.1111111111111111, \"#46039f\"], [0.2222222222222222, \"#7201a8\"], [0.3333333333333333, \"#9c179e\"], [0.4444444444444444, \"#bd3786\"], [0.5555555555555556, \"#d8576b\"], [0.6666666666666666, \"#ed7953\"], [0.7777777777777778, \"#fb9f3a\"], [0.8888888888888888, \"#fdca26\"], [1.0, \"#f0f921\"]], \"sequentialminus\": [[0.0, \"#0d0887\"], [0.1111111111111111, \"#46039f\"], [0.2222222222222222, \"#7201a8\"], [0.3333333333333333, \"#9c179e\"], [0.4444444444444444, \"#bd3786\"], [0.5555555555555556, \"#d8576b\"], [0.6666666666666666, \"#ed7953\"], [0.7777777777777778, \"#fb9f3a\"], [0.8888888888888888, \"#fdca26\"], [1.0, \"#f0f921\"]]}, \"colorway\": [\"#636efa\", \"#EF553B\", \"#00cc96\", \"#ab63fa\", \"#FFA15A\", \"#19d3f3\", \"#FF6692\", \"#B6E880\", \"#FF97FF\", \"#FECB52\"], \"font\": {\"color\": \"#2a3f5f\"}, \"geo\": {\"bgcolor\": \"white\", \"lakecolor\": \"white\", \"landcolor\": \"#E5ECF6\", \"showlakes\": true, \"showland\": true, \"subunitcolor\": \"white\"}, \"hoverlabel\": {\"align\": \"left\"}, \"hovermode\": \"closest\", \"mapbox\": {\"style\": \"light\"}, \"paper_bgcolor\": \"white\", \"plot_bgcolor\": \"#E5ECF6\", \"polar\": {\"angularaxis\": {\"gridcolor\": \"white\", \"linecolor\": \"white\", \"ticks\": \"\"}, \"bgcolor\": \"#E5ECF6\", \"radialaxis\": {\"gridcolor\": \"white\", \"linecolor\": \"white\", \"ticks\": \"\"}}, \"scene\": {\"xaxis\": {\"backgroundcolor\": \"#E5ECF6\", \"gridcolor\": \"white\", \"gridwidth\": 2, \"linecolor\": \"white\", \"showbackground\": true, \"ticks\": \"\", \"zerolinecolor\": \"white\"}, \"yaxis\": {\"backgroundcolor\": \"#E5ECF6\", \"gridcolor\": \"white\", \"gridwidth\": 2, \"linecolor\": \"white\", \"showbackground\": true, \"ticks\": \"\", \"zerolinecolor\": \"white\"}, \"zaxis\": {\"backgroundcolor\": \"#E5ECF6\", \"gridcolor\": \"white\", \"gridwidth\": 2, \"linecolor\": \"white\", \"showbackground\": true, \"ticks\": \"\", \"zerolinecolor\": \"white\"}}, \"shapedefaults\": {\"line\": {\"color\": \"#2a3f5f\"}}, \"ternary\": {\"aaxis\": {\"gridcolor\": \"white\", \"linecolor\": \"white\", \"ticks\": \"\"}, \"baxis\": {\"gridcolor\": \"white\", \"linecolor\": \"white\", \"ticks\": \"\"}, \"bgcolor\": \"#E5ECF6\", \"caxis\": {\"gridcolor\": \"white\", \"linecolor\": \"white\", \"ticks\": \"\"}}, \"title\": {\"x\": 0.05}, \"xaxis\": {\"automargin\": true, \"gridcolor\": \"white\", \"linecolor\": \"white\", \"ticks\": \"\", \"title\": {\"standoff\": 15}, \"zerolinecolor\": \"white\", \"zerolinewidth\": 2}, \"yaxis\": {\"automargin\": true, \"gridcolor\": \"white\", \"linecolor\": \"white\", \"ticks\": \"\", \"title\": {\"standoff\": 15}, \"zerolinecolor\": \"white\", \"zerolinewidth\": 2}}}, \"title\": {\"text\": \"Share acumulado de departamentos por rango de precios - 2020\"}},\n",
              "                        {\"responsive\": true}\n",
              "                    ).then(function(){\n",
              "                            \n",
              "var gd = document.getElementById('9ad82312-8c71-4a9d-9528-4caf1a39748a');\n",
              "var x = new MutationObserver(function (mutations, observer) {{\n",
              "        var display = window.getComputedStyle(gd).display;\n",
              "        if (!display || display === 'none') {{\n",
              "            console.log([gd, 'removed!']);\n",
              "            Plotly.purge(gd);\n",
              "            observer.disconnect();\n",
              "        }}\n",
              "}});\n",
              "\n",
              "// Listen for the removal of the full notebook cells\n",
              "var notebookContainer = gd.closest('#notebook-container');\n",
              "if (notebookContainer) {{\n",
              "    x.observe(notebookContainer, {childList: true});\n",
              "}}\n",
              "\n",
              "// Listen for the clearing of the current output cell\n",
              "var outputEl = gd.closest('.output');\n",
              "if (outputEl) {{\n",
              "    x.observe(outputEl, {childList: true});\n",
              "}}\n",
              "\n",
              "                        })\n",
              "                };\n",
              "                \n",
              "            </script>\n",
              "        </div>\n",
              "</body>\n",
              "</html>"
            ]
          },
          "metadata": {
            "tags": []
          }
        }
      ]
    },
    {
      "cell_type": "code",
      "metadata": {
        "colab": {
          "base_uri": "https://localhost:8080/",
          "height": 542
        },
        "id": "QuwegBoUBlwj",
        "outputId": "e7c3280c-7c5d-4d41-b94e-08b418ff683e"
      },
      "source": [
        "fig = go.Figure(go.Waterfall(\n",
        "    name = \"20\", orientation = \"v\",\n",
        "    measure = [\"relative\", \"relative\", \"relative\", \"relative\", \"total\"],\n",
        "    x = ['(0, 300]','(300, 600]','(600, 900]','(900, 1200]','Total'],\n",
        "    textposition = \"outside\",\n",
        "    text = [\"93.43%\", \"4.56%\", \"0.94%\", \"0.51%\", \"Total = 100%\"],\n",
        "    y = price_comparison['share2021'],\n",
        "    connector = {\"line\":{\"color\":\"rgb(63, 63, 63)\"}},\n",
        "))\n",
        "\n",
        "fig.update_layout(\n",
        "        title = \"Share acumulado de departamentos por rango de precios - 2021\",\n",
        "        showlegend = True,\n",
        "        font=dict(\n",
        "            size=12,\n",
        "            color=\"Black\"\n",
        "        ),\n",
        ")\n",
        "\n",
        "\n",
        "fig.show()"
      ],
      "execution_count": null,
      "outputs": [
        {
          "output_type": "display_data",
          "data": {
            "text/html": [
              "<html>\n",
              "<head><meta charset=\"utf-8\" /></head>\n",
              "<body>\n",
              "    <div>\n",
              "            <script src=\"https://cdnjs.cloudflare.com/ajax/libs/mathjax/2.7.5/MathJax.js?config=TeX-AMS-MML_SVG\"></script><script type=\"text/javascript\">if (window.MathJax) {MathJax.Hub.Config({SVG: {font: \"STIX-Web\"}});}</script>\n",
              "                <script type=\"text/javascript\">window.PlotlyConfig = {MathJaxConfig: 'local'};</script>\n",
              "        <script src=\"https://cdn.plot.ly/plotly-latest.min.js\"></script>    \n",
              "            <div id=\"555b95e2-e90e-4c26-b3ab-7796ec8efbbf\" class=\"plotly-graph-div\" style=\"height:525px; width:100%;\"></div>\n",
              "            <script type=\"text/javascript\">\n",
              "                \n",
              "                    window.PLOTLYENV=window.PLOTLYENV || {};\n",
              "                    \n",
              "                if (document.getElementById(\"555b95e2-e90e-4c26-b3ab-7796ec8efbbf\")) {\n",
              "                    Plotly.newPlot(\n",
              "                        '555b95e2-e90e-4c26-b3ab-7796ec8efbbf',\n",
              "                        [{\"connector\": {\"line\": {\"color\": \"rgb(63, 63, 63)\"}}, \"measure\": [\"relative\", \"relative\", \"relative\", \"relative\", \"total\"], \"name\": \"20\", \"orientation\": \"v\", \"text\": [\"93.43%\", \"4.56%\", \"0.94%\", \"0.51%\", \"Total = 100%\"], \"textposition\": \"outside\", \"type\": \"waterfall\", \"x\": [\"(0, 300]\", \"(300, 600]\", \"(600, 900]\", \"(900, 1200]\", \"Total\"], \"y\": [93.43, 4.56, 0.94, 0.51, 0.56]}],\n",
              "                        {\"font\": {\"color\": \"Black\", \"size\": 12}, \"showlegend\": true, \"template\": {\"data\": {\"bar\": [{\"error_x\": {\"color\": \"#2a3f5f\"}, \"error_y\": {\"color\": \"#2a3f5f\"}, \"marker\": {\"line\": {\"color\": \"#E5ECF6\", \"width\": 0.5}}, \"type\": \"bar\"}], \"barpolar\": [{\"marker\": {\"line\": {\"color\": \"#E5ECF6\", \"width\": 0.5}}, \"type\": \"barpolar\"}], \"carpet\": [{\"aaxis\": {\"endlinecolor\": \"#2a3f5f\", \"gridcolor\": \"white\", \"linecolor\": \"white\", \"minorgridcolor\": \"white\", \"startlinecolor\": \"#2a3f5f\"}, \"baxis\": {\"endlinecolor\": \"#2a3f5f\", \"gridcolor\": \"white\", \"linecolor\": \"white\", \"minorgridcolor\": \"white\", \"startlinecolor\": \"#2a3f5f\"}, \"type\": \"carpet\"}], \"choropleth\": [{\"colorbar\": {\"outlinewidth\": 0, \"ticks\": \"\"}, \"type\": \"choropleth\"}], \"contour\": [{\"colorbar\": {\"outlinewidth\": 0, \"ticks\": \"\"}, \"colorscale\": [[0.0, \"#0d0887\"], [0.1111111111111111, \"#46039f\"], [0.2222222222222222, \"#7201a8\"], [0.3333333333333333, \"#9c179e\"], [0.4444444444444444, \"#bd3786\"], [0.5555555555555556, \"#d8576b\"], [0.6666666666666666, \"#ed7953\"], [0.7777777777777778, \"#fb9f3a\"], [0.8888888888888888, \"#fdca26\"], [1.0, \"#f0f921\"]], \"type\": \"contour\"}], \"contourcarpet\": [{\"colorbar\": {\"outlinewidth\": 0, \"ticks\": \"\"}, \"type\": \"contourcarpet\"}], \"heatmap\": [{\"colorbar\": {\"outlinewidth\": 0, \"ticks\": \"\"}, \"colorscale\": [[0.0, \"#0d0887\"], [0.1111111111111111, \"#46039f\"], [0.2222222222222222, \"#7201a8\"], [0.3333333333333333, \"#9c179e\"], [0.4444444444444444, \"#bd3786\"], [0.5555555555555556, \"#d8576b\"], [0.6666666666666666, \"#ed7953\"], [0.7777777777777778, \"#fb9f3a\"], [0.8888888888888888, \"#fdca26\"], [1.0, \"#f0f921\"]], \"type\": \"heatmap\"}], \"heatmapgl\": [{\"colorbar\": {\"outlinewidth\": 0, \"ticks\": \"\"}, \"colorscale\": [[0.0, \"#0d0887\"], [0.1111111111111111, \"#46039f\"], [0.2222222222222222, \"#7201a8\"], [0.3333333333333333, \"#9c179e\"], [0.4444444444444444, \"#bd3786\"], [0.5555555555555556, \"#d8576b\"], [0.6666666666666666, \"#ed7953\"], [0.7777777777777778, \"#fb9f3a\"], [0.8888888888888888, \"#fdca26\"], [1.0, \"#f0f921\"]], \"type\": \"heatmapgl\"}], \"histogram\": [{\"marker\": {\"colorbar\": {\"outlinewidth\": 0, \"ticks\": \"\"}}, \"type\": \"histogram\"}], \"histogram2d\": [{\"colorbar\": {\"outlinewidth\": 0, \"ticks\": \"\"}, \"colorscale\": [[0.0, \"#0d0887\"], [0.1111111111111111, \"#46039f\"], [0.2222222222222222, \"#7201a8\"], [0.3333333333333333, \"#9c179e\"], [0.4444444444444444, \"#bd3786\"], [0.5555555555555556, \"#d8576b\"], [0.6666666666666666, \"#ed7953\"], [0.7777777777777778, \"#fb9f3a\"], [0.8888888888888888, \"#fdca26\"], [1.0, \"#f0f921\"]], \"type\": \"histogram2d\"}], \"histogram2dcontour\": [{\"colorbar\": {\"outlinewidth\": 0, \"ticks\": \"\"}, \"colorscale\": [[0.0, \"#0d0887\"], [0.1111111111111111, \"#46039f\"], [0.2222222222222222, \"#7201a8\"], [0.3333333333333333, \"#9c179e\"], [0.4444444444444444, \"#bd3786\"], [0.5555555555555556, \"#d8576b\"], [0.6666666666666666, \"#ed7953\"], [0.7777777777777778, \"#fb9f3a\"], [0.8888888888888888, \"#fdca26\"], [1.0, \"#f0f921\"]], \"type\": \"histogram2dcontour\"}], \"mesh3d\": [{\"colorbar\": {\"outlinewidth\": 0, \"ticks\": \"\"}, \"type\": \"mesh3d\"}], \"parcoords\": [{\"line\": {\"colorbar\": {\"outlinewidth\": 0, \"ticks\": \"\"}}, \"type\": \"parcoords\"}], \"pie\": [{\"automargin\": true, \"type\": \"pie\"}], \"scatter\": [{\"marker\": {\"colorbar\": {\"outlinewidth\": 0, \"ticks\": \"\"}}, \"type\": \"scatter\"}], \"scatter3d\": [{\"line\": {\"colorbar\": {\"outlinewidth\": 0, \"ticks\": \"\"}}, \"marker\": {\"colorbar\": {\"outlinewidth\": 0, \"ticks\": \"\"}}, \"type\": \"scatter3d\"}], \"scattercarpet\": [{\"marker\": {\"colorbar\": {\"outlinewidth\": 0, \"ticks\": \"\"}}, \"type\": \"scattercarpet\"}], \"scattergeo\": [{\"marker\": {\"colorbar\": {\"outlinewidth\": 0, \"ticks\": \"\"}}, \"type\": \"scattergeo\"}], \"scattergl\": [{\"marker\": {\"colorbar\": {\"outlinewidth\": 0, \"ticks\": \"\"}}, \"type\": \"scattergl\"}], \"scattermapbox\": [{\"marker\": {\"colorbar\": {\"outlinewidth\": 0, \"ticks\": \"\"}}, \"type\": \"scattermapbox\"}], \"scatterpolar\": [{\"marker\": {\"colorbar\": {\"outlinewidth\": 0, \"ticks\": \"\"}}, \"type\": \"scatterpolar\"}], \"scatterpolargl\": [{\"marker\": {\"colorbar\": {\"outlinewidth\": 0, \"ticks\": \"\"}}, \"type\": \"scatterpolargl\"}], \"scatterternary\": [{\"marker\": {\"colorbar\": {\"outlinewidth\": 0, \"ticks\": \"\"}}, \"type\": \"scatterternary\"}], \"surface\": [{\"colorbar\": {\"outlinewidth\": 0, \"ticks\": \"\"}, \"colorscale\": [[0.0, \"#0d0887\"], [0.1111111111111111, \"#46039f\"], [0.2222222222222222, \"#7201a8\"], [0.3333333333333333, \"#9c179e\"], [0.4444444444444444, \"#bd3786\"], [0.5555555555555556, \"#d8576b\"], [0.6666666666666666, \"#ed7953\"], [0.7777777777777778, \"#fb9f3a\"], [0.8888888888888888, \"#fdca26\"], [1.0, \"#f0f921\"]], \"type\": \"surface\"}], \"table\": [{\"cells\": {\"fill\": {\"color\": \"#EBF0F8\"}, \"line\": {\"color\": \"white\"}}, \"header\": {\"fill\": {\"color\": \"#C8D4E3\"}, \"line\": {\"color\": \"white\"}}, \"type\": \"table\"}]}, \"layout\": {\"annotationdefaults\": {\"arrowcolor\": \"#2a3f5f\", \"arrowhead\": 0, \"arrowwidth\": 1}, \"coloraxis\": {\"colorbar\": {\"outlinewidth\": 0, \"ticks\": \"\"}}, \"colorscale\": {\"diverging\": [[0, \"#8e0152\"], [0.1, \"#c51b7d\"], [0.2, \"#de77ae\"], [0.3, \"#f1b6da\"], [0.4, \"#fde0ef\"], [0.5, \"#f7f7f7\"], [0.6, \"#e6f5d0\"], [0.7, \"#b8e186\"], [0.8, \"#7fbc41\"], [0.9, \"#4d9221\"], [1, \"#276419\"]], \"sequential\": [[0.0, \"#0d0887\"], [0.1111111111111111, \"#46039f\"], [0.2222222222222222, \"#7201a8\"], [0.3333333333333333, \"#9c179e\"], [0.4444444444444444, \"#bd3786\"], [0.5555555555555556, \"#d8576b\"], [0.6666666666666666, \"#ed7953\"], [0.7777777777777778, \"#fb9f3a\"], [0.8888888888888888, \"#fdca26\"], [1.0, \"#f0f921\"]], \"sequentialminus\": [[0.0, \"#0d0887\"], [0.1111111111111111, \"#46039f\"], [0.2222222222222222, \"#7201a8\"], [0.3333333333333333, \"#9c179e\"], [0.4444444444444444, \"#bd3786\"], [0.5555555555555556, \"#d8576b\"], [0.6666666666666666, \"#ed7953\"], [0.7777777777777778, \"#fb9f3a\"], [0.8888888888888888, \"#fdca26\"], [1.0, \"#f0f921\"]]}, \"colorway\": [\"#636efa\", \"#EF553B\", \"#00cc96\", \"#ab63fa\", \"#FFA15A\", \"#19d3f3\", \"#FF6692\", \"#B6E880\", \"#FF97FF\", \"#FECB52\"], \"font\": {\"color\": \"#2a3f5f\"}, \"geo\": {\"bgcolor\": \"white\", \"lakecolor\": \"white\", \"landcolor\": \"#E5ECF6\", \"showlakes\": true, \"showland\": true, \"subunitcolor\": \"white\"}, \"hoverlabel\": {\"align\": \"left\"}, \"hovermode\": \"closest\", \"mapbox\": {\"style\": \"light\"}, \"paper_bgcolor\": \"white\", \"plot_bgcolor\": \"#E5ECF6\", \"polar\": {\"angularaxis\": {\"gridcolor\": \"white\", \"linecolor\": \"white\", \"ticks\": \"\"}, \"bgcolor\": \"#E5ECF6\", \"radialaxis\": {\"gridcolor\": \"white\", \"linecolor\": \"white\", \"ticks\": \"\"}}, \"scene\": {\"xaxis\": {\"backgroundcolor\": \"#E5ECF6\", \"gridcolor\": \"white\", \"gridwidth\": 2, \"linecolor\": \"white\", \"showbackground\": true, \"ticks\": \"\", \"zerolinecolor\": \"white\"}, \"yaxis\": {\"backgroundcolor\": \"#E5ECF6\", \"gridcolor\": \"white\", \"gridwidth\": 2, \"linecolor\": \"white\", \"showbackground\": true, \"ticks\": \"\", \"zerolinecolor\": \"white\"}, \"zaxis\": {\"backgroundcolor\": \"#E5ECF6\", \"gridcolor\": \"white\", \"gridwidth\": 2, \"linecolor\": \"white\", \"showbackground\": true, \"ticks\": \"\", \"zerolinecolor\": \"white\"}}, \"shapedefaults\": {\"line\": {\"color\": \"#2a3f5f\"}}, \"ternary\": {\"aaxis\": {\"gridcolor\": \"white\", \"linecolor\": \"white\", \"ticks\": \"\"}, \"baxis\": {\"gridcolor\": \"white\", \"linecolor\": \"white\", \"ticks\": \"\"}, \"bgcolor\": \"#E5ECF6\", \"caxis\": {\"gridcolor\": \"white\", \"linecolor\": \"white\", \"ticks\": \"\"}}, \"title\": {\"x\": 0.05}, \"xaxis\": {\"automargin\": true, \"gridcolor\": \"white\", \"linecolor\": \"white\", \"ticks\": \"\", \"title\": {\"standoff\": 15}, \"zerolinecolor\": \"white\", \"zerolinewidth\": 2}, \"yaxis\": {\"automargin\": true, \"gridcolor\": \"white\", \"linecolor\": \"white\", \"ticks\": \"\", \"title\": {\"standoff\": 15}, \"zerolinecolor\": \"white\", \"zerolinewidth\": 2}}}, \"title\": {\"text\": \"Share acumulado de departamentos por rango de precios - 2021\"}},\n",
              "                        {\"responsive\": true}\n",
              "                    ).then(function(){\n",
              "                            \n",
              "var gd = document.getElementById('555b95e2-e90e-4c26-b3ab-7796ec8efbbf');\n",
              "var x = new MutationObserver(function (mutations, observer) {{\n",
              "        var display = window.getComputedStyle(gd).display;\n",
              "        if (!display || display === 'none') {{\n",
              "            console.log([gd, 'removed!']);\n",
              "            Plotly.purge(gd);\n",
              "            observer.disconnect();\n",
              "        }}\n",
              "}});\n",
              "\n",
              "// Listen for the removal of the full notebook cells\n",
              "var notebookContainer = gd.closest('#notebook-container');\n",
              "if (notebookContainer) {{\n",
              "    x.observe(notebookContainer, {childList: true});\n",
              "}}\n",
              "\n",
              "// Listen for the clearing of the current output cell\n",
              "var outputEl = gd.closest('.output');\n",
              "if (outputEl) {{\n",
              "    x.observe(outputEl, {childList: true});\n",
              "}}\n",
              "\n",
              "                        })\n",
              "                };\n",
              "                \n",
              "            </script>\n",
              "        </div>\n",
              "</body>\n",
              "</html>"
            ]
          },
          "metadata": {
            "tags": []
          }
        }
      ]
    },
    {
      "cell_type": "markdown",
      "metadata": {
        "id": "DdgT61_PSE9q"
      },
      "source": [
        "Podemos observar que tanto para 2020 como para 2021, aproximadamente el 94% de las publicaciones se encuentran por debado de los U$S 300 por noche"
      ]
    },
    {
      "cell_type": "markdown",
      "metadata": {
        "id": "KYxtTaeHamjR"
      },
      "source": [
        "##### Eliminación de outliers"
      ]
    },
    {
      "cell_type": "code",
      "metadata": {
        "id": "Indxf4mkRkOf"
      },
      "source": [
        "#Removemos outliers. Nos quedamos con todos los lugares rentados con precio <= U$S 300\n",
        "nyc_20_without_ouliers = nyc_20[nyc_20[\"price\"] <= 300]\n",
        "nyc_21_without_ouliers = nyc_21[nyc_21[\"price\"] <= 300]"
      ],
      "execution_count": null,
      "outputs": []
    },
    {
      "cell_type": "markdown",
      "metadata": {
        "id": "uqA9MEtQbWgb"
      },
      "source": [
        "##### Histograma de precios sin outliers"
      ]
    },
    {
      "cell_type": "code",
      "metadata": {
        "id": "0SyhwL38bpr-",
        "colab": {
          "base_uri": "https://localhost:8080/",
          "height": 542
        },
        "outputId": "c55efe22-bde8-4e1e-fdf2-a7567520d315"
      },
      "source": [
        "fig = px.histogram(nyc_20_without_ouliers, x = 'price', nbins=30)\n",
        "fig.show()"
      ],
      "execution_count": null,
      "outputs": [
        {
          "output_type": "display_data",
          "data": {
            "text/html": [
              "<html>\n",
              "<head><meta charset=\"utf-8\" /></head>\n",
              "<body>\n",
              "    <div>\n",
              "            <script src=\"https://cdnjs.cloudflare.com/ajax/libs/mathjax/2.7.5/MathJax.js?config=TeX-AMS-MML_SVG\"></script><script type=\"text/javascript\">if (window.MathJax) {MathJax.Hub.Config({SVG: {font: \"STIX-Web\"}});}</script>\n",
              "                <script type=\"text/javascript\">window.PlotlyConfig = {MathJaxConfig: 'local'};</script>\n",
              "        <script src=\"https://cdn.plot.ly/plotly-latest.min.js\"></script>    \n",
              "            <div id=\"b2d60118-591c-4f64-b4e4-5577c1efdb5d\" class=\"plotly-graph-div\" style=\"height:525px; width:100%;\"></div>\n",
              "            <script type=\"text/javascript\">\n",
              "                \n",
              "                    window.PLOTLYENV=window.PLOTLYENV || {};\n",
              "                    \n",
              "                if (document.getElementById(\"b2d60118-591c-4f64-b4e4-5577c1efdb5d\")) {\n",
              "                    Plotly.newPlot(\n",
              "                        'b2d60118-591c-4f64-b4e4-5577c1efdb5d',\n",
              "                        [{\"alignmentgroup\": \"True\", \"bingroup\": \"x\", \"hoverlabel\": {\"namelength\": 0}, \"hovertemplate\": \"price=%{x}<br>count=%{y}\", \"legendgroup\": \"\", \"marker\": {\"color\": \"#636efa\"}, \"name\": \"\", \"nbinsx\": 30, \"offsetgroup\": \"\", \"orientation\": \"v\", \"showlegend\": false, \"type\": \"histogram\", \"x\": [175.0, 76.0, 60.0, 175.0, 73.0, 75.0, 160.0, 82.0, 85.0, 109.0, 62.0, 191.0, 96.0, 299.0, 120.0, 86.0, 175.0, 55.0, 70.0, 82.0, 150.0, 30.0, 150.0, 95.0, 130.0, 100.0, 120.0, 75.0, 245.0, 80.0, 150.0, 81.0, 152.0, 150.0, 200.0, 110.0, 97.0, 150.0, 80.0, 219.0, 130.0, 120.0, 55.0, 250.0, 71.0, 284.0, 79.0, 200.0, 250.0, 55.0, 65.0, 95.0, 176.0, 70.0, 55.0, 150.0, 145.0, 95.0, 110.0, 130.0, 105.0, 50.0, 85.0, 85.0, 50.0, 98.0, 80.0, 99.0, 99.0, 85.0, 125.0, 200.0, 220.0, 110.0, 83.0, 100.0, 200.0, 69.0, 98.0, 140.0, 120.0, 225.0, 170.0, 170.0, 100.0, 150.0, 70.0, 100.0, 89.0, 135.0, 50.0, 134.0, 55.0, 80.0, 84.0, 125.0, 139.0, 300.0, 199.0, 160.0, 140.0, 70.0, 115.0, 195.0, 125.0, 150.0, 121.0, 79.0, 200.0, 125.0, 125.0, 149.0, 99.0, 89.0, 139.0, 116.0, 79.0, 135.0, 250.0, 80.0, 125.0, 70.0, 250.0, 45.0, 110.0, 146.0, 106.0, 100.0, 65.0, 60.0, 60.0, 75.0, 209.0, 150.0, 100.0, 175.0, 132.0, 192.0, 130.0, 130.0, 65.0, 195.0, 80.0, 100.0, 160.0, 109.0, 146.0, 200.0, 50.0, 161.0, 50.0, 65.0, 100.0, 79.0, 130.0, 85.0, 265.0, 78.0, 149.0, 106.0, 140.0, 250.0, 239.0, 250.0, 157.0, 44.0, 139.0, 100.0, 99.0, 150.0, 168.0, 119.0, 250.0, 150.0, 250.0, 82.0, 110.0, 125.0, 114.0, 211.0, 95.0, 135.0, 110.0, 130.0, 72.0, 38.0, 38.0, 170.0, 38.0, 140.0, 205.0, 285.0, 38.0, 140.0, 55.0, 89.0, 111.0, 135.0, 200.0, 64.0, 60.0, 200.0, 100.0, 75.0, 105.0, 60.0, 40.0, 36.0, 75.0, 60.0, 110.0, 95.0, 75.0, 176.0, 190.0, 160.0, 125.0, 90.0, 108.0, 150.0, 171.0, 100.0, 69.0, 122.0, 109.0, 55.0, 75.0, 199.0, 220.0, 125.0, 120.0, 115.0, 200.0, 229.0, 90.0, 110.0, 62.0, 220.0, 115.0, 63.0, 119.0, 149.0, 75.0, 150.0, 169.0, 179.0, 135.0, 55.0, 69.0, 249.0, 100.0, 200.0, 106.0, 150.0, 75.0, 100.0, 200.0, 179.0, 150.0, 216.0, 70.0, 124.0, 150.0, 120.0, 76.0, 100.0, 127.0, 125.0, 140.0, 200.0, 171.0, 130.0, 123.0, 135.0, 49.0, 50.0, 130.0, 196.0, 120.0, 212.0, 70.0, 68.0, 80.0, 68.0, 125.0, 175.0, 120.0, 110.0, 165.0, 90.0, 225.0, 95.0, 90.0, 55.0, 259.0, 99.0, 65.0, 60.0, 93.0, 146.0, 110.0, 85.0, 250.0, 165.0, 89.0, 99.0, 85.0, 260.0, 143.0, 105.0, 61.0, 128.0, 68.0, 250.0, 50.0, 170.0, 132.0, 250.0, 100.0, 100.0, 73.0, 249.0, 58.0, 225.0, 116.0, 100.0, 259.0, 67.0, 145.0, 95.0, 175.0, 250.0, 150.0, 250.0, 114.0, 300.0, 155.0, 129.0, 87.0, 150.0, 58.0, 300.0, 175.0, 75.0, 250.0, 66.0, 165.0, 94.0, 130.0, 139.0, 87.0, 81.0, 150.0, 200.0, 90.0, 295.0, 175.0, 99.0, 141.0, 250.0, 55.0, 205.0, 219.0, 175.0, 175.0, 150.0, 37.0, 85.0, 110.0, 79.0, 85.0, 250.0, 78.0, 97.0, 100.0, 148.0, 130.0, 99.0, 85.0, 100.0, 80.0, 155.0, 125.0, 70.0, 250.0, 165.0, 106.0, 282.0, 172.0, 108.0, 190.0, 215.0, 130.0, 155.0, 151.0, 75.0, 60.0, 65.0, 85.0, 85.0, 68.0, 175.0, 124.0, 50.0, 90.0, 125.0, 190.0, 55.0, 190.0, 85.0, 83.0, 145.0, 65.0, 120.0, 157.0, 181.0, 95.0, 125.0, 185.0, 50.0, 185.0, 250.0, 80.0, 225.0, 100.0, 137.0, 76.0, 60.0, 175.0, 80.0, 60.0, 110.0, 85.0, 75.0, 99.0, 107.0, 99.0, 170.0, 150.0, 80.0, 150.0, 230.0, 95.0, 60.0, 130.0, 239.0, 75.0, 179.0, 110.0, 130.0, 130.0, 100.0, 130.0, 60.0, 200.0, 99.0, 110.0, 75.0, 199.0, 270.0, 104.0, 85.0, 70.0, 55.0, 185.0, 79.0, 75.0, 180.0, 300.0, 110.0, 135.0, 115.0, 160.0, 160.0, 275.0, 300.0, 75.0, 100.0, 295.0, 50.0, 57.0, 95.0, 150.0, 279.0, 175.0, 146.0, 119.0, 286.0, 152.0, 75.0, 43.0, 80.0, 85.0, 139.0, 96.0, 65.0, 175.0, 71.0, 246.0, 125.0, 150.0, 100.0, 180.0, 50.0, 122.0, 125.0, 140.0, 200.0, 55.0, 175.0, 175.0, 175.0, 100.0, 175.0, 55.0, 175.0, 175.0, 175.0, 175.0, 175.0, 249.0, 179.0, 110.0, 103.0, 140.0, 65.0, 110.0, 48.0, 109.0, 150.0, 195.0, 58.0, 229.0, 95.0, 250.0, 130.0, 145.0, 95.0, 89.0, 93.0, 120.0, 168.0, 130.0, 66.0, 157.0, 250.0, 185.0, 83.0, 174.0, 150.0, 48.0, 200.0, 55.0, 80.0, 170.0, 175.0, 65.0, 55.0, 60.0, 135.0, 279.0, 120.0, 150.0, 40.0, 125.0, 95.0, 35.0, 150.0, 40.0, 250.0, 79.0, 50.0, 50.0, 125.0, 66.0, 100.0, 79.0, 72.0, 68.0, 135.0, 95.0, 105.0, 140.0, 127.0, 230.0, 75.0, 75.0, 45.0, 45.0, 250.0, 60.0, 250.0, 200.0, 130.0, 90.0, 87.0, 125.0, 89.0, 170.0, 180.0, 175.0, 240.0, 299.0, 79.0, 75.0, 171.0, 300.0, 140.0, 140.0, 185.0, 109.0, 188.0, 189.0, 249.0, 65.0, 120.0, 75.0, 70.0, 157.0, 45.0, 100.0, 120.0, 110.0, 175.0, 194.0, 175.0, 175.0, 175.0, 175.0, 125.0, 63.0, 225.0, 45.0, 59.0, 55.0, 55.0, 35.0, 75.0, 55.0, 49.0, 96.0, 99.0, 120.0, 100.0, 45.0, 75.0, 200.0, 250.0, 250.0, 60.0, 150.0, 196.0, 135.0, 67.0, 61.0, 75.0, 85.0, 110.0, 225.0, 149.0, 62.0, 104.0, 106.0, 99.0, 89.0, 110.0, 130.0, 45.0, 146.0, 135.0, 232.0, 275.0, 114.0, 200.0, 109.0, 120.0, 225.0, 160.0, 139.0, 162.0, 98.0, 150.0, 249.0, 186.0, 40.0, 200.0, 60.0, 89.0, 100.0, 200.0, 38.0, 83.0, 121.0, 90.0, 102.0, 72.0, 182.0, 160.0, 105.0, 70.0, 175.0, 135.0, 160.0, 129.0, 140.0, 150.0, 148.0, 83.0, 110.0, 136.0, 63.0, 80.0, 134.0, 80.0, 80.0, 125.0, 120.0, 115.0, 40.0, 139.0, 95.0, 36.0, 145.0, 175.0, 69.0, 50.0, 160.0, 180.0, 97.0, 100.0, 70.0, 129.0, 150.0, 106.0, 120.0, 250.0, 99.0, 75.0, 110.0, 56.0, 225.0, 80.0, 160.0, 75.0, 135.0, 126.0, 225.0, 90.0, 250.0, 275.0, 100.0, 130.0, 36.0, 147.0, 300.0, 107.0, 175.0, 250.0, 75.0, 145.0, 209.0, 150.0, 75.0, 179.0, 170.0, 125.0, 95.0, 122.0, 282.0, 175.0, 100.0, 133.0, 120.0, 90.0, 200.0, 208.0, 135.0, 35.0, 150.0, 275.0, 199.0, 85.0, 40.0, 250.0, 50.0, 130.0, 130.0, 75.0, 151.0, 175.0, 70.0, 55.0, 98.0, 130.0, 55.0, 125.0, 179.0, 52.0, 101.0, 99.0, 99.0, 88.0, 80.0, 80.0, 110.0, 190.0, 50.0, 119.0, 200.0, 135.0, 73.0, 280.0, 225.0, 59.0, 65.0, 85.0, 250.0, 139.0, 161.0, 70.0, 110.0, 150.0, 69.0, 100.0, 89.0, 180.0, 250.0, 65.0, 150.0, 169.0, 100.0, 39.0, 100.0, 65.0, 225.0, 86.0, 145.0, 110.0, 180.0, 115.0, 155.0, 122.0, 100.0, 155.0, 44.0, 125.0, 135.0, 150.0, 300.0, 130.0, 99.0, 80.0, 55.0, 135.0, 300.0, 105.0, 170.0, 225.0, 75.0, 185.0, 50.0, 60.0, 200.0, 156.0, 68.0, 115.0, 295.0, 199.0, 250.0, 125.0, 75.0, 120.0, 249.0, 120.0, 169.0, 190.0, 60.0, 89.0, 250.0, 79.0, 103.0, 50.0, 68.0, 198.0, 100.0, 89.0, 175.0, 146.0, 215.0, 150.0, 150.0, 175.0, 80.0, 85.0, 180.0, 49.0, 175.0, 40.0, 49.0, 96.0, 160.0, 200.0, 249.0, 125.0, 25.0, 250.0, 115.0, 200.0, 150.0, 110.0, 95.0, 70.0, 65.0, 90.0, 150.0, 160.0, 164.0, 69.0, 200.0, 135.0, 180.0, 157.0, 66.0, 90.0, 265.0, 95.0, 175.0, 39.0, 207.0, 175.0, 68.0, 137.0, 55.0, 196.0, 300.0, 175.0, 230.0, 98.0, 111.0, 32.0, 89.0, 100.0, 170.0, 217.0, 131.0, 169.0, 63.0, 120.0, 110.0, 200.0, 76.0, 55.0, 135.0, 199.0, 90.0, 120.0, 52.0, 210.0, 79.0, 174.0, 200.0, 119.0, 152.0, 264.0, 99.0, 114.0, 110.0, 181.0, 90.0, 180.0, 197.0, 140.0, 200.0, 40.0, 88.0, 100.0, 84.0, 150.0, 110.0, 115.0, 195.0, 148.0, 133.0, 155.0, 125.0, 95.0, 72.0, 50.0, 131.0, 132.0, 100.0, 99.0, 165.0, 165.0, 55.0, 106.0, 65.0, 90.0, 125.0, 50.0, 175.0, 145.0, 95.0, 69.0, 120.0, 120.0, 145.0, 115.0, 48.0, 150.0, 160.0, 250.0, 75.0, 175.0, 229.0, 250.0, 200.0, 140.0, 75.0, 100.0, 125.0, 40.0, 40.0, 300.0, 200.0, 62.0, 120.0, 105.0, 156.0, 160.0, 200.0, 51.0, 180.0, 106.0, 99.0, 175.0, 80.0, 115.0, 125.0, 99.0, 198.0, 245.0, 125.0, 90.0, 170.0, 90.0, 88.0, 115.0, 145.0, 47.0, 65.0, 175.0, 90.0, 88.0, 150.0, 150.0, 100.0, 179.0, 180.0, 105.0, 250.0, 99.0, 175.0, 96.0, 80.0, 71.0, 45.0, 175.0, 209.0, 160.0, 45.0, 86.0, 125.0, 115.0, 60.0, 200.0, 120.0, 117.0, 157.0, 157.0, 89.0, 53.0, 154.0, 200.0, 71.0, 125.0, 88.0, 120.0, 222.0, 40.0, 65.0, 199.0, 265.0, 150.0, 20.0, 135.0, 90.0, 199.0, 95.0, 221.0, 97.0, 103.0, 110.0, 93.0, 110.0, 99.0, 160.0, 60.0, 77.0, 200.0, 69.0, 126.0, 75.0, 181.0, 116.0, 70.0, 74.0, 80.0, 100.0, 118.0, 113.0, 250.0, 295.0, 90.0, 75.0, 100.0, 172.0, 72.0, 200.0, 110.0, 53.0, 40.0, 72.0, 42.0, 75.0, 75.0, 99.0, 71.0, 55.0, 75.0, 137.0, 125.0, 46.0, 44.0, 149.0, 58.0, 109.0, 100.0, 250.0, 90.0, 60.0, 240.0, 85.0, 120.0, 179.0, 160.0, 120.0, 225.0, 98.0, 134.0, 68.0, 74.0, 150.0, 100.0, 120.0, 85.0, 150.0, 250.0, 59.0, 220.0, 230.0, 160.0, 150.0, 130.0, 77.0, 80.0, 68.0, 100.0, 150.0, 195.0, 299.0, 82.0, 109.0, 97.0, 200.0, 68.0, 210.0, 149.0, 150.0, 85.0, 80.0, 80.0, 85.0, 60.0, 39.0, 155.0, 125.0, 120.0, 100.0, 66.0, 150.0, 75.0, 60.0, 204.0, 169.0, 75.0, 198.0, 245.0, 160.0, 160.0, 55.0, 150.0, 164.0, 65.0, 67.0, 69.0, 107.0, 70.0, 50.0, 57.0, 142.0, 155.0, 54.0, 136.0, 100.0, 235.0, 152.0, 145.0, 64.0, 83.0, 210.0, 83.0, 75.0, 175.0, 259.0, 90.0, 159.0, 171.0, 70.0, 145.0, 139.0, 225.0, 165.0, 118.0, 85.0, 90.0, 179.0, 175.0, 54.0, 175.0, 80.0, 250.0, 100.0, 200.0, 89.0, 250.0, 85.0, 110.0, 39.0, 150.0, 49.0, 55.0, 250.0, 125.0, 110.0, 175.0, 50.0, 299.0, 175.0, 106.0, 80.0, 103.0, 100.0, 75.0, 70.0, 80.0, 68.0, 115.0, 175.0, 100.0, 95.0, 70.0, 100.0, 35.0, 105.0, 135.0, 65.0, 100.0, 125.0, 165.0, 100.0, 38.0, 229.0, 75.0, 70.0, 75.0, 59.0, 91.0, 167.0, 100.0, 115.0, 225.0, 125.0, 75.0, 217.0, 145.0, 125.0, 119.0, 199.0, 114.0, 67.0, 59.0, 51.0, 117.0, 150.0, 150.0, 160.0, 65.0, 150.0, 225.0, 85.0, 100.0, 135.0, 225.0, 100.0, 75.0, 215.0, 95.0, 90.0, 287.0, 80.0, 279.0, 118.0, 150.0, 225.0, 78.0, 199.0, 70.0, 220.0, 199.0, 225.0, 46.0, 225.0, 82.0, 60.0, 119.0, 135.0, 60.0, 171.0, 65.0, 100.0, 165.0, 120.0, 140.0, 134.0, 75.0, 163.0, 130.0, 158.0, 72.0, 173.0, 85.0, 275.0, 195.0, 63.0, 48.0, 130.0, 250.0, 94.0, 150.0, 150.0, 200.0, 85.0, 64.0, 139.0, 250.0, 80.0, 60.0, 250.0, 180.0, 119.0, 158.0, 55.0, 158.0, 165.0, 160.0, 250.0, 89.0, 199.0, 61.0, 135.0, 65.0, 57.0, 109.0, 96.0, 300.0, 33.0, 168.0, 57.0, 108.0, 46.0, 46.0, 45.0, 120.0, 47.0, 65.0, 121.0, 75.0, 225.0, 90.0, 170.0, 81.0, 69.0, 70.0, 102.0, 155.0, 75.0, 99.0, 69.0, 37.0, 80.0, 70.0, 100.0, 89.0, 150.0, 85.0, 149.0, 120.0, 250.0, 280.0, 136.0, 81.0, 63.0, 150.0, 200.0, 269.0, 61.0, 80.0, 85.0, 85.0, 69.0, 155.0, 150.0, 150.0, 80.0, 50.0, 115.0, 146.0, 199.0, 100.0, 60.0, 85.0, 120.0, 100.0, 100.0, 192.0, 60.0, 49.0, 74.0, 129.0, 80.0, 110.0, 250.0, 169.0, 85.0, 250.0, 138.0, 175.0, 120.0, 149.0, 166.0, 105.0, 45.0, 95.0, 45.0, 33.0, 101.0, 90.0, 53.0, 75.0, 119.0, 73.0, 40.0, 249.0, 150.0, 240.0, 103.0, 125.0, 170.0, 65.0, 180.0, 128.0, 59.0, 58.0, 68.0, 100.0, 58.0, 65.0, 145.0, 200.0, 159.0, 110.0, 95.0, 80.0, 135.0, 200.0, 95.0, 125.0, 75.0, 65.0, 185.0, 70.0, 56.0, 78.0, 150.0, 62.0, 70.0, 115.0, 150.0, 143.0, 78.0, 69.0, 100.0, 145.0, 229.0, 30.0, 100.0, 275.0, 179.0, 90.0, 156.0, 90.0, 295.0, 28.0, 98.0, 100.0, 50.0, 150.0, 100.0, 250.0, 233.0, 68.0, 70.0, 157.0, 142.0, 45.0, 180.0, 250.0, 200.0, 200.0, 71.0, 74.0, 34.0, 26.0, 100.0, 160.0, 98.0, 80.0, 99.0, 85.0, 60.0, 125.0, 159.0, 68.0, 108.0, 55.0, 99.0, 110.0, 60.0, 89.0, 75.0, 59.0, 150.0, 136.0, 150.0, 98.0, 134.0, 55.0, 69.0, 100.0, 80.0, 65.0, 79.0, 100.0, 44.0, 100.0, 165.0, 102.0, 90.0, 96.0, 50.0, 135.0, 78.0, 165.0, 190.0, 89.0, 150.0, 99.0, 100.0, 149.0, 70.0, 61.0, 275.0, 149.0, 124.0, 85.0, 82.0, 208.0, 86.0, 100.0, 130.0, 96.0, 70.0, 135.0, 103.0, 67.0, 100.0, 165.0, 77.0, 180.0, 140.0, 114.0, 170.0, 64.0, 250.0, 100.0, 100.0, 124.0, 157.0, 149.0, 143.0, 99.0, 60.0, 145.0, 75.0, 195.0, 300.0, 120.0, 56.0, 275.0, 195.0, 102.0, 254.0, 70.0, 200.0, 225.0, 39.0, 200.0, 250.0, 74.0, 215.0, 99.0, 59.0, 59.0, 110.0, 53.0, 65.0, 73.0, 71.0, 165.0, 95.0, 95.0, 90.0, 45.0, 176.0, 275.0, 125.0, 100.0, 40.0, 85.0, 114.0, 214.0, 85.0, 43.0, 50.0, 59.0, 159.0, 109.0, 250.0, 175.0, 240.0, 95.0, 36.0, 110.0, 75.0, 176.0, 299.0, 20.0, 85.0, 65.0, 40.0, 83.0, 200.0, 50.0, 43.0, 148.0, 105.0, 169.0, 58.0, 149.0, 180.0, 80.0, 119.0, 173.0, 150.0, 75.0, 75.0, 48.0, 300.0, 149.0, 47.0, 55.0, 271.0, 57.0, 95.0, 85.0, 190.0, 75.0, 200.0, 165.0, 175.0, 189.0, 111.0, 260.0, 89.0, 160.0, 95.0, 50.0, 107.0, 60.0, 190.0, 90.0, 85.0, 97.0, 105.0, 61.0, 80.0, 85.0, 110.0, 89.0, 45.0, 71.0, 60.0, 50.0, 80.0, 130.0, 50.0, 300.0, 45.0, 112.0, 80.0, 175.0, 107.0, 43.0, 140.0, 100.0, 79.0, 210.0, 200.0, 300.0, 139.0, 195.0, 44.0, 179.0, 150.0, 124.0, 195.0, 300.0, 75.0, 141.0, 106.0, 77.0, 120.0, 64.0, 175.0, 38.0, 60.0, 100.0, 138.0, 200.0, 159.0, 95.0, 125.0, 143.0, 99.0, 63.0, 175.0, 145.0, 50.0, 200.0, 114.0, 92.0, 65.0, 99.0, 80.0, 85.0, 215.0, 35.0, 275.0, 190.0, 104.0, 109.0, 35.0, 135.0, 130.0, 175.0, 89.0, 60.0, 42.0, 105.0, 60.0, 89.0, 55.0, 150.0, 289.0, 99.0, 107.0, 60.0, 105.0, 95.0, 75.0, 86.0, 22.0, 250.0, 60.0, 148.0, 99.0, 55.0, 175.0, 95.0, 84.0, 150.0, 167.0, 80.0, 90.0, 50.0, 33.0, 180.0, 85.0, 180.0, 35.0, 60.0, 142.0, 200.0, 225.0, 110.0, 75.0, 95.0, 99.0, 50.0, 66.0, 75.0, 125.0, 97.0, 102.0, 165.0, 250.0, 135.0, 50.0, 95.0, 80.0, 150.0, 160.0, 300.0, 150.0, 89.0, 168.0, 110.0, 135.0, 145.0, 60.0, 75.0, 75.0, 150.0, 64.0, 150.0, 150.0, 150.0, 259.0, 250.0, 200.0, 295.0, 200.0, 300.0, 219.0, 109.0, 190.0, 72.0, 107.0, 120.0, 110.0, 112.0, 175.0, 180.0, 175.0, 109.0, 150.0, 100.0, 299.0, 48.0, 75.0, 55.0, 90.0, 53.0, 129.0, 199.0, 250.0, 192.0, 225.0, 151.0, 300.0, 35.0, 100.0, 81.0, 69.0, 72.0, 155.0, 105.0, 65.0, 80.0, 120.0, 120.0, 79.0, 95.0, 88.0, 80.0, 175.0, 115.0, 66.0, 73.0, 99.0, 125.0, 125.0, 180.0, 150.0, 60.0, 140.0, 73.0, 125.0, 90.0, 80.0, 135.0, 98.0, 280.0, 125.0, 175.0, 80.0, 99.0, 250.0, 69.0, 115.0, 119.0, 248.0, 75.0, 182.0, 225.0, 120.0, 140.0, 55.0, 107.0, 72.0, 104.0, 65.0, 120.0, 35.0, 65.0, 101.0, 284.0, 86.0, 99.0, 80.0, 275.0, 120.0, 99.0, 65.0, 159.0, 217.0, 75.0, 75.0, 100.0, 200.0, 231.0, 75.0, 125.0, 75.0, 99.0, 275.0, 75.0, 190.0, 152.0, 160.0, 200.0, 133.0, 90.0, 45.0, 76.0, 100.0, 70.0, 160.0, 175.0, 75.0, 99.0, 100.0, 270.0, 55.0, 61.0, 99.0, 192.0, 125.0, 72.0, 160.0, 70.0, 100.0, 232.0, 140.0, 105.0, 168.0, 100.0, 125.0, 175.0, 192.0, 85.0, 30.0, 129.0, 75.0, 106.0, 65.0, 65.0, 99.0, 120.0, 129.0, 190.0, 120.0, 65.0, 62.0, 80.0, 179.0, 59.0, 62.0, 140.0, 123.0, 75.0, 40.0, 67.0, 65.0, 125.0, 150.0, 95.0, 120.0, 99.0, 155.0, 190.0, 138.0, 67.0, 210.0, 169.0, 49.0, 100.0, 85.0, 125.0, 115.0, 80.0, 40.0, 85.0, 156.0, 188.0, 99.0, 99.0, 100.0, 108.0, 115.0, 49.0, 130.0, 40.0, 80.0, 95.0, 62.0, 171.0, 175.0, 180.0, 75.0, 106.0, 73.0, 119.0, 193.0, 199.0, 140.0, 60.0, 68.0, 167.0, 90.0, 125.0, 100.0, 92.0, 140.0, 120.0, 99.0, 240.0, 99.0, 250.0, 50.0, 100.0, 170.0, 200.0, 50.0, 75.0, 200.0, 110.0, 99.0, 29.0, 130.0, 120.0, 85.0, 49.0, 89.0, 140.0, 70.0, 292.0, 175.0, 67.0, 120.0, 100.0, 200.0, 120.0, 149.0, 150.0, 300.0, 130.0, 80.0, 135.0, 135.0, 130.0, 150.0, 130.0, 210.0, 115.0, 128.0, 200.0, 35.0, 80.0, 56.0, 150.0, 130.0, 109.0, 95.0, 168.0, 85.0, 195.0, 79.0, 145.0, 71.0, 90.0, 220.0, 89.0, 275.0, 140.0, 140.0, 130.0, 78.0, 40.0, 200.0, 250.0, 82.0, 33.0, 105.0, 61.0, 200.0, 249.0, 54.0, 39.0, 55.0, 59.0, 68.0, 60.0, 70.0, 246.0, 60.0, 175.0, 40.0, 159.0, 125.0, 135.0, 175.0, 65.0, 59.0, 120.0, 65.0, 82.0, 100.0, 75.0, 185.0, 65.0, 250.0, 239.0, 275.0, 92.0, 98.0, 29.0, 30.0, 160.0, 115.0, 56.0, 99.0, 82.0, 125.0, 199.0, 104.0, 180.0, 135.0, 115.0, 45.0, 48.0, 95.0, 150.0, 120.0, 73.0, 200.0, 100.0, 99.0, 119.0, 260.0, 100.0, 99.0, 93.0, 185.0, 105.0, 225.0, 83.0, 99.0, 35.0, 50.0, 88.0, 125.0, 80.0, 127.0, 32.0, 180.0, 55.0, 110.0, 92.0, 151.0, 250.0, 100.0, 164.0, 72.0, 192.0, 159.0, 225.0, 199.0, 60.0, 181.0, 199.0, 95.0, 150.0, 69.0, 179.0, 110.0, 201.0, 267.0, 120.0, 138.0, 50.0, 76.0, 140.0, 68.0, 80.0, 115.0, 63.0, 126.0, 139.0, 185.0, 35.0, 72.0, 199.0, 160.0, 181.0, 64.0, 81.0, 65.0, 87.0, 300.0, 85.0, 85.0, 150.0, 300.0, 139.0, 90.0, 295.0, 111.0, 166.0, 130.0, 50.0, 115.0, 75.0, 169.0, 120.0, 147.0, 120.0, 55.0, 95.0, 150.0, 115.0, 182.0, 225.0, 299.0, 99.0, 55.0, 139.0, 200.0, 100.0, 141.0, 90.0, 68.0, 90.0, 206.0, 188.0, 150.0, 92.0, 135.0, 159.0, 130.0, 95.0, 225.0, 186.0, 249.0, 56.0, 245.0, 150.0, 125.0, 175.0, 56.0, 178.0, 200.0, 100.0, 50.0, 275.0, 95.0, 109.0, 200.0, 70.0, 70.0, 70.0, 49.0, 189.0, 119.0, 189.0, 99.0, 120.0, 98.0, 35.0, 60.0, 155.0, 120.0, 35.0, 70.0, 96.0, 99.0, 63.0, 120.0, 129.0, 75.0, 90.0, 100.0, 250.0, 80.0, 115.0, 120.0, 35.0, 100.0, 130.0, 175.0, 35.0, 40.0, 300.0, 85.0, 175.0, 105.0, 80.0, 100.0, 201.0, 248.0, 140.0, 151.0, 93.0, 106.0, 78.0, 161.0, 150.0, 145.0, 150.0, 220.0, 42.0, 65.0, 99.0, 70.0, 214.0, 97.0, 207.0, 200.0, 86.0, 150.0, 189.0, 100.0, 195.0, 110.0, 55.0, 185.0, 125.0, 70.0, 80.0, 102.0, 120.0, 235.0, 149.0, 70.0, 180.0, 99.0, 51.0, 80.0, 65.0, 150.0, 100.0, 106.0, 115.0, 257.0, 105.0, 104.0, 189.0, 225.0, 99.0, 100.0, 300.0, 175.0, 196.0, 135.0, 90.0, 114.0, 75.0, 125.0, 168.0, 261.0, 125.0, 85.0, 79.0, 120.0, 145.0, 99.0, 137.0, 50.0, 90.0, 54.0, 105.0, 149.0, 150.0, 150.0, 120.0, 158.0, 115.0, 125.0, 150.0, 195.0, 120.0, 232.0, 75.0, 190.0, 50.0, 156.0, 85.0, 140.0, 300.0, 159.0, 250.0, 250.0, 120.0, 105.0, 142.0, 175.0, 120.0, 85.0, 90.0, 50.0, 300.0, 115.0, 100.0, 150.0, 100.0, 72.0, 233.0, 75.0, 135.0, 120.0, 100.0, 125.0, 195.0, 100.0, 250.0, 82.0, 100.0, 41.0, 110.0, 40.0, 51.0, 45.0, 250.0, 78.0, 58.0, 125.0, 145.0, 150.0, 90.0, 95.0, 214.0, 150.0, 199.0, 272.0, 179.0, 130.0, 55.0, 120.0, 80.0, 78.0, 35.0, 50.0, 75.0, 99.0, 39.0, 85.0, 49.0, 110.0, 159.0, 175.0, 60.0, 200.0, 95.0, 204.0, 139.0, 39.0, 125.0, 139.0, 80.0, 60.0, 89.0, 180.0, 90.0, 105.0, 65.0, 21.0, 185.0, 115.0, 128.0, 169.0, 125.0, 130.0, 185.0, 100.0, 124.0, 185.0, 88.0, 200.0, 225.0, 119.0, 135.0, 50.0, 56.0, 150.0, 65.0, 83.0, 150.0, 149.0, 275.0, 94.0, 148.0, 150.0, 160.0, 100.0, 175.0, 275.0, 30.0, 150.0, 117.0, 240.0, 99.0, 139.0, 49.0, 156.0, 120.0, 210.0, 109.0, 99.0, 300.0, 50.0, 55.0, 50.0, 35.0, 75.0, 70.0, 80.0, 85.0, 50.0, 100.0, 145.0, 200.0, 107.0, 49.0, 225.0, 81.0, 86.0, 180.0, 299.0, 98.0, 139.0, 99.0, 150.0, 140.0, 60.0, 149.0, 95.0, 107.0, 150.0, 127.0, 43.0, 210.0, 35.0, 225.0, 200.0, 170.0, 65.0, 185.0, 125.0, 100.0, 60.0, 300.0, 40.0, 65.0, 101.0, 72.0, 125.0, 215.0, 99.0, 60.0, 150.0, 117.0, 45.0, 80.0, 145.0, 130.0, 125.0, 70.0, 69.0, 175.0, 99.0, 90.0, 160.0, 66.0, 99.0, 100.0, 100.0, 77.0, 130.0, 144.0, 100.0, 149.0, 114.0, 160.0, 165.0, 215.0, 150.0, 250.0, 104.0, 48.0, 150.0, 140.0, 85.0, 250.0, 60.0, 300.0, 65.0, 90.0, 55.0, 65.0, 213.0, 85.0, 200.0, 180.0, 250.0, 150.0, 85.0, 100.0, 70.0, 59.0, 150.0, 63.0, 215.0, 168.0, 225.0, 250.0, 63.0, 119.0, 146.0, 250.0, 145.0, 225.0, 70.0, 55.0, 250.0, 220.0, 84.0, 208.0, 105.0, 119.0, 59.0, 65.0, 300.0, 250.0, 95.0, 290.0, 100.0, 180.0, 43.0, 51.0, 125.0, 110.0, 132.0, 73.0, 80.0, 129.0, 235.0, 175.0, 219.0, 99.0, 100.0, 201.0, 130.0, 169.0, 75.0, 200.0, 70.0, 65.0, 175.0, 120.0, 150.0, 58.0, 93.0, 179.0, 109.0, 60.0, 99.0, 75.0, 150.0, 199.0, 150.0, 115.0, 266.0, 250.0, 180.0, 80.0, 30.0, 49.0, 100.0, 250.0, 97.0, 73.0, 74.0, 115.0, 265.0, 200.0, 89.0, 75.0, 70.0, 121.0, 150.0, 86.0, 139.0, 75.0, 150.0, 95.0, 110.0, 200.0, 175.0, 99.0, 79.0, 39.0, 99.0, 232.0, 135.0, 45.0, 186.0, 65.0, 45.0, 250.0, 80.0, 101.0, 67.0, 71.0, 90.0, 199.0, 55.0, 60.0, 100.0, 120.0, 53.0, 296.0, 296.0, 59.0, 150.0, 200.0, 170.0, 65.0, 61.0, 155.0, 200.0, 54.0, 85.0, 133.0, 245.0, 130.0, 107.0, 60.0, 175.0, 225.0, 143.0, 199.0, 166.0, 50.0, 75.0, 40.0, 62.0, 35.0, 239.0, 179.0, 250.0, 108.0, 65.0, 130.0, 100.0, 84.0, 55.0, 200.0, 70.0, 179.0, 95.0, 109.0, 110.0, 69.0, 75.0, 26.0, 81.0, 200.0, 49.0, 99.0, 195.0, 100.0, 70.0, 148.0, 155.0, 60.0, 132.0, 60.0, 299.0, 80.0, 130.0, 100.0, 130.0, 99.0, 83.0, 180.0, 18.0, 100.0, 140.0, 71.0, 79.0, 100.0, 99.0, 102.0, 92.0, 125.0, 115.0, 99.0, 257.0, 90.0, 90.0, 200.0, 160.0, 95.0, 99.0, 92.0, 121.0, 30.0, 202.0, 75.0, 80.0, 93.0, 59.0, 84.0, 150.0, 90.0, 134.0, 119.0, 128.0, 199.0, 99.0, 90.0, 40.0, 45.0, 100.0, 70.0, 79.0, 49.0, 50.0, 225.0, 245.0, 155.0, 150.0, 110.0, 185.0, 60.0, 79.0, 145.0, 163.0, 148.0, 45.0, 215.0, 99.0, 210.0, 65.0, 57.0, 90.0, 90.0, 124.0, 200.0, 70.0, 214.0, 74.0, 110.0, 99.0, 130.0, 210.0, 75.0, 99.0, 53.0, 100.0, 75.0, 140.0, 30.0, 55.0, 55.0, 99.0, 89.0, 89.0, 110.0, 275.0, 140.0, 70.0, 219.0, 28.0, 85.0, 75.0, 39.0, 164.0, 93.0, 50.0, 40.0, 30.0, 40.0, 89.0, 174.0, 99.0, 149.0, 85.0, 98.0, 120.0, 110.0, 200.0, 90.0, 95.0, 90.0, 29.0, 130.0, 100.0, 122.0, 45.0, 82.0, 100.0, 195.0, 250.0, 198.0, 200.0, 180.0, 120.0, 126.0, 100.0, 120.0, 150.0, 150.0, 83.0, 130.0, 65.0, 79.0, 35.0, 200.0, 60.0, 150.0, 70.0, 168.0, 90.0, 45.0, 83.0, 184.0, 200.0, 100.0, 78.0, 65.0, 91.0, 140.0, 54.0, 94.0, 40.0, 55.0, 59.0, 200.0, 54.0, 130.0, 42.0, 59.0, 119.0, 60.0, 95.0, 95.0, 84.0, 46.0, 130.0, 74.0, 200.0, 225.0, 86.0, 125.0, 79.0, 98.0, 85.0, 100.0, 90.0, 130.0, 95.0, 99.0, 225.0, 140.0, 150.0, 159.0, 196.0, 155.0, 125.0, 68.0, 70.0, 250.0, 115.0, 45.0, 110.0, 70.0, 81.0, 90.0, 135.0, 199.0, 140.0, 75.0, 106.0, 225.0, 75.0, 127.0, 189.0, 200.0, 98.0, 175.0, 40.0, 45.0, 130.0, 186.0, 214.0, 116.0, 85.0, 63.0, 48.0, 80.0, 96.0, 128.0, 195.0, 150.0, 105.0, 145.0, 55.0, 97.0, 159.0, 68.0, 104.0, 223.0, 150.0, 175.0, 150.0, 110.0, 150.0, 99.0, 149.0, 89.0, 289.0, 120.0, 275.0, 75.0, 175.0, 76.0, 110.0, 75.0, 259.0, 68.0, 189.0, 55.0, 214.0, 69.0, 100.0, 53.0, 150.0, 46.0, 130.0, 269.0, 120.0, 150.0, 98.0, 196.0, 200.0, 38.0, 99.0, 65.0, 150.0, 240.0, 170.0, 179.0, 80.0, 35.0, 41.0, 150.0, 55.0, 185.0, 106.0, 111.0, 69.0, 98.0, 120.0, 79.0, 95.0, 106.0, 155.0, 195.0, 49.0, 92.0, 50.0, 199.0, 75.0, 30.0, 86.0, 125.0, 95.0, 295.0, 150.0, 79.0, 45.0, 96.0, 48.0, 85.0, 130.0, 52.0, 65.0, 35.0, 55.0, 225.0, 150.0, 149.0, 169.0, 105.0, 49.0, 60.0, 200.0, 169.0, 150.0, 155.0, 159.0, 200.0, 80.0, 200.0, 119.0, 44.0, 150.0, 64.0, 160.0, 250.0, 64.0, 50.0, 175.0, 189.0, 160.0, 79.0, 65.0, 195.0, 125.0, 115.0, 155.0, 49.0, 286.0, 88.0, 250.0, 43.0, 60.0, 65.0, 149.0, 30.0, 180.0, 172.0, 140.0, 299.0, 160.0, 79.0, 235.0, 100.0, 270.0, 200.0, 55.0, 75.0, 125.0, 92.0, 80.0, 105.0, 150.0, 146.0, 116.0, 70.0, 65.0, 148.0, 103.0, 119.0, 145.0, 50.0, 83.0, 130.0, 185.0, 45.0, 180.0, 220.0, 175.0, 190.0, 110.0, 135.0, 150.0, 70.0, 45.0, 99.0, 35.0, 80.0, 93.0, 48.0, 95.0, 86.0, 70.0, 69.0, 83.0, 245.0, 150.0, 60.0, 55.0, 120.0, 42.0, 110.0, 71.0, 150.0, 28.0, 240.0, 136.0, 70.0, 109.0, 100.0, 207.0, 99.0, 220.0, 250.0, 125.0, 86.0, 100.0, 77.0, 75.0, 220.0, 99.0, 120.0, 100.0, 205.0, 68.0, 73.0, 100.0, 71.0, 56.0, 82.0, 175.0, 160.0, 100.0, 100.0, 83.0, 109.0, 58.0, 50.0, 135.0, 52.0, 75.0, 62.0, 59.0, 215.0, 250.0, 275.0, 111.0, 94.0, 160.0, 207.0, 50.0, 110.0, 125.0, 132.0, 65.0, 250.0, 150.0, 65.0, 110.0, 40.0, 125.0, 125.0, 195.0, 105.0, 75.0, 100.0, 115.0, 175.0, 270.0, 250.0, 171.0, 250.0, 200.0, 130.0, 125.0, 108.0, 127.0, 225.0, 175.0, 150.0, 100.0, 55.0, 90.0, 215.0, 60.0, 65.0, 89.0, 250.0, 200.0, 155.0, 100.0, 35.0, 62.0, 41.0, 220.0, 280.0, 135.0, 70.0, 44.0, 220.0, 140.0, 189.0, 100.0, 160.0, 68.0, 40.0, 30.0, 62.0, 199.0, 125.0, 165.0, 90.0, 145.0, 250.0, 115.0, 200.0, 179.0, 72.0, 200.0, 91.0, 182.0, 100.0, 175.0, 270.0, 180.0, 55.0, 105.0, 265.0, 70.0, 80.0, 50.0, 250.0, 149.0, 78.0, 97.0, 62.0, 65.0, 121.0, 289.0, 109.0, 50.0, 234.0, 45.0, 69.0, 135.0, 80.0, 70.0, 140.0, 175.0, 160.0, 200.0, 57.0, 80.0, 74.0, 200.0, 140.0, 250.0, 220.0, 125.0, 105.0, 69.0, 60.0, 136.0, 45.0, 91.0, 195.0, 167.0, 175.0, 129.0, 176.0, 125.0, 173.0, 53.0, 69.0, 55.0, 106.0, 100.0, 160.0, 40.0, 135.0, 250.0, 86.0, 74.0, 70.0, 220.0, 61.0, 81.0, 70.0, 78.0, 250.0, 70.0, 150.0, 31.0, 90.0, 125.0, 79.0, 99.0, 130.0, 90.0, 100.0, 120.0, 160.0, 73.0, 120.0, 125.0, 179.0, 45.0, 150.0, 52.0, 65.0, 120.0, 250.0, 80.0, 85.0, 39.0, 300.0, 22.0, 99.0, 40.0, 125.0, 150.0, 65.0, 158.0, 30.0, 300.0, 175.0, 90.0, 60.0, 160.0, 225.0, 85.0, 250.0, 300.0, 79.0, 165.0, 84.0, 150.0, 205.0, 230.0, 239.0, 90.0, 49.0, 150.0, 67.0, 290.0, 180.0, 115.0, 50.0, 140.0, 85.0, 111.0, 98.0, 55.0, 105.0, 80.0, 170.0, 249.0, 48.0, 34.0, 129.0, 135.0, 175.0, 161.0, 71.0, 100.0, 88.0, 58.0, 274.0, 170.0, 114.0, 150.0, 200.0, 60.0, 200.0, 175.0, 60.0, 255.0, 75.0, 190.0, 98.0, 179.0, 250.0, 130.0, 200.0, 100.0, 200.0, 200.0, 110.0, 75.0, 60.0, 73.0, 150.0, 225.0, 60.0, 70.0, 280.0, 45.0, 195.0, 185.0, 145.0, 200.0, 50.0, 48.0, 130.0, 115.0, 179.0, 169.0, 175.0, 150.0, 85.0, 96.0, 75.0, 135.0, 39.0, 40.0, 170.0, 150.0, 45.0, 170.0, 48.0, 100.0, 199.0, 78.0, 80.0, 67.0, 180.0, 275.0, 119.0, 85.0, 84.0, 90.0, 124.0, 150.0, 29.0, 79.0, 250.0, 80.0, 250.0, 175.0, 101.0, 143.0, 129.0, 150.0, 79.0, 75.0, 150.0, 165.0, 179.0, 150.0, 75.0, 105.0, 95.0, 110.0, 110.0, 85.0, 220.0, 48.0, 170.0, 125.0, 133.0, 176.0, 95.0, 150.0, 282.0, 115.0, 56.0, 60.0, 85.0, 250.0, 240.0, 49.0, 200.0, 75.0, 110.0, 180.0, 72.0, 150.0, 50.0, 65.0, 163.0, 180.0, 125.0, 35.0, 65.0, 150.0, 63.0, 200.0, 124.0, 270.0, 46.0, 218.0, 99.0, 230.0, 70.0, 129.0, 46.0, 71.0, 55.0, 138.0, 103.0, 230.0, 225.0, 150.0, 108.0, 150.0, 25.0, 91.0, 120.0, 111.0, 50.0, 90.0, 85.0, 85.0, 129.0, 295.0, 148.0, 250.0, 160.0, 40.0, 125.0, 70.0, 180.0, 86.0, 63.0, 75.0, 120.0, 195.0, 165.0, 49.0, 98.0, 189.0, 45.0, 145.0, 150.0, 115.0, 160.0, 83.0, 75.0, 90.0, 72.0, 80.0, 94.0, 192.0, 130.0, 69.0, 50.0, 125.0, 49.0, 61.0, 139.0, 79.0, 95.0, 150.0, 115.0, 120.0, 87.0, 170.0, 250.0, 55.0, 84.0, 101.0, 150.0, 112.0, 159.0, 73.0, 119.0, 65.0, 89.0, 85.0, 175.0, 175.0, 225.0, 65.0, 120.0, 95.0, 155.0, 65.0, 100.0, 68.0, 115.0, 121.0, 82.0, 75.0, 250.0, 30.0, 81.0, 36.0, 65.0, 150.0, 100.0, 51.0, 191.0, 200.0, 250.0, 133.0, 207.0, 116.0, 116.0, 95.0, 109.0, 160.0, 119.0, 155.0, 75.0, 46.0, 77.0, 153.0, 75.0, 145.0, 58.0, 70.0, 250.0, 150.0, 59.0, 100.0, 85.0, 130.0, 190.0, 65.0, 75.0, 99.0, 161.0, 200.0, 165.0, 80.0, 88.0, 161.0, 68.0, 162.0, 65.0, 143.0, 175.0, 200.0, 195.0, 89.0, 190.0, 159.0, 100.0, 84.0, 199.0, 101.0, 68.0, 85.0, 70.0, 175.0, 100.0, 160.0, 166.0, 98.0, 80.0, 200.0, 35.0, 99.0, 55.0, 71.0, 120.0, 55.0, 87.0, 100.0, 92.0, 48.0, 150.0, 90.0, 45.0, 50.0, 150.0, 150.0, 115.0, 81.0, 85.0, 181.0, 149.0, 200.0, 73.0, 80.0, 129.0, 245.0, 98.0, 98.0, 110.0, 45.0, 200.0, 95.0, 155.0, 112.0, 200.0, 80.0, 32.0, 70.0, 101.0, 200.0, 89.0, 175.0, 130.0, 120.0, 90.0, 100.0, 150.0, 150.0, 170.0, 124.0, 79.0, 99.0, 89.0, 122.0, 100.0, 115.0, 64.0, 120.0, 150.0, 24.0, 39.0, 220.0, 147.0, 185.0, 279.0, 90.0, 125.0, 48.0, 95.0, 50.0, 57.0, 75.0, 45.0, 100.0, 110.0, 94.0, 100.0, 178.0, 83.0, 65.0, 130.0, 200.0, 165.0, 165.0, 169.0, 190.0, 97.0, 150.0, 42.0, 135.0, 50.0, 80.0, 55.0, 90.0, 145.0, 43.0, 35.0, 35.0, 225.0, 120.0, 116.0, 225.0, 39.0, 85.0, 219.0, 150.0, 119.0, 150.0, 83.0, 191.0, 90.0, 120.0, 91.0, 119.0, 81.0, 199.0, 35.0, 139.0, 100.0, 232.0, 99.0, 115.0, 158.0, 135.0, 110.0, 93.0, 75.0, 145.0, 135.0, 72.0, 60.0, 97.0, 200.0, 110.0, 100.0, 225.0, 158.0, 110.0, 250.0, 190.0, 200.0, 50.0, 250.0, 229.0, 80.0, 104.0, 125.0, 80.0, 200.0, 180.0, 195.0, 299.0, 139.0, 200.0, 70.0, 53.0, 42.0, 160.0, 116.0, 55.0, 200.0, 70.0, 149.0, 199.0, 150.0, 95.0, 90.0, 35.0, 70.0, 45.0, 45.0, 95.0, 85.0, 130.0, 180.0, 94.0, 300.0, 110.0, 145.0, 150.0, 67.0, 122.0, 75.0, 79.0, 190.0, 75.0, 279.0, 140.0, 130.0, 275.0, 120.0, 132.0, 250.0, 80.0, 70.0, 80.0, 45.0, 77.0, 57.0, 45.0, 70.0, 90.0, 225.0, 83.0, 92.0, 195.0, 29.0, 129.0, 140.0, 56.0, 70.0, 189.0, 264.0, 120.0, 230.0, 65.0, 130.0, 100.0, 154.0, 75.0, 119.0, 100.0, 70.0, 125.0, 164.0, 199.0, 167.0, 90.0, 54.0, 96.0, 96.0, 170.0, 63.0, 200.0, 160.0, 150.0, 65.0, 136.0, 103.0, 50.0, 150.0, 240.0, 200.0, 89.0, 75.0, 112.0, 120.0, 75.0, 130.0, 130.0, 300.0, 125.0, 93.0, 99.0, 149.0, 155.0, 150.0, 115.0, 50.0, 200.0, 166.0, 149.0, 95.0, 115.0, 50.0, 275.0, 154.0, 170.0, 170.0, 50.0, 60.0, 125.0, 96.0, 105.0, 93.0, 120.0, 93.0, 53.0, 100.0, 43.0, 200.0, 125.0, 71.0, 200.0, 104.0, 99.0, 70.0, 275.0, 90.0, 66.0, 75.0, 80.0, 50.0, 300.0, 88.0, 80.0, 260.0, 185.0, 111.0, 100.0, 85.0, 136.0, 149.0, 39.0, 45.0, 149.0, 200.0, 65.0, 174.0, 150.0, 75.0, 103.0, 40.0, 75.0, 120.0, 170.0, 100.0, 145.0, 160.0, 92.0, 52.0, 250.0, 65.0, 115.0, 130.0, 150.0, 120.0, 128.0, 100.0, 195.0, 175.0, 176.0, 225.0, 99.0, 66.0, 200.0, 100.0, 130.0, 170.0, 175.0, 154.0, 66.0, 125.0, 155.0, 99.0, 105.0, 85.0, 80.0, 50.0, 106.0, 71.0, 80.0, 113.0, 71.0, 140.0, 65.0, 80.0, 64.0, 51.0, 149.0, 63.0, 170.0, 150.0, 70.0, 100.0, 200.0, 145.0, 150.0, 200.0, 250.0, 180.0, 100.0, 83.0, 150.0, 300.0, 90.0, 99.0, 135.0, 60.0, 250.0, 130.0, 100.0, 50.0, 140.0, 125.0, 90.0, 50.0, 135.0, 280.0, 275.0, 219.0, 130.0, 35.0, 65.0, 79.0, 160.0, 30.0, 59.0, 122.0, 40.0, 125.0, 89.0, 250.0, 79.0, 96.0, 90.0, 70.0, 75.0, 150.0, 55.0, 200.0, 110.0, 95.0, 99.0, 35.0, 43.0, 285.0, 65.0, 115.0, 100.0, 210.0, 90.0, 71.0, 80.0, 55.0, 85.0, 119.0, 72.0, 95.0, 160.0, 100.0, 200.0, 100.0, 50.0, 75.0, 166.0, 53.0, 151.0, 160.0, 254.0, 270.0, 180.0, 75.0, 70.0, 115.0, 120.0, 299.0, 275.0, 115.0, 110.0, 107.0, 150.0, 195.0, 89.0, 199.0, 109.0, 87.0, 77.0, 225.0, 77.0, 124.0, 73.0, 114.0, 80.0, 84.0, 150.0, 45.0, 190.0, 120.0, 150.0, 250.0, 61.0, 100.0, 150.0, 90.0, 89.0, 100.0, 35.0, 75.0, 90.0, 41.0, 195.0, 250.0, 160.0, 30.0, 130.0, 90.0, 178.0, 250.0, 150.0, 225.0, 150.0, 106.0, 165.0, 39.0, 40.0, 73.0, 100.0, 129.0, 95.0, 154.0, 300.0, 271.0, 49.0, 239.0, 175.0, 100.0, 146.0, 100.0, 100.0, 69.0, 45.0, 150.0, 80.0, 149.0, 195.0, 157.0, 100.0, 99.0, 133.0, 56.0, 75.0, 240.0, 99.0, 35.0, 37.0, 110.0, 185.0, 189.0, 58.0, 50.0, 145.0, 220.0, 137.0, 120.0, 110.0, 109.0, 300.0, 125.0, 100.0, 150.0, 210.0, 116.0, 295.0, 83.0, 150.0, 120.0, 150.0, 74.0, 142.0, 70.0, 200.0, 179.0, 100.0, 87.0, 120.0, 199.0, 60.0, 69.0, 90.0, 70.0, 150.0, 65.0, 69.0, 39.0, 145.0, 70.0, 90.0, 45.0, 45.0, 125.0, 200.0, 163.0, 279.0, 144.0, 147.0, 250.0, 199.0, 220.0, 180.0, 88.0, 75.0, 130.0, 120.0, 105.0, 150.0, 81.0, 200.0, 129.0, 174.0, 209.0, 100.0, 180.0, 50.0, 120.0, 45.0, 135.0, 275.0, 175.0, 160.0, 115.0, 172.0, 100.0, 86.0, 70.0, 130.0, 200.0, 125.0, 165.0, 89.0, 100.0, 58.0, 130.0, 155.0, 57.0, 295.0, 83.0, 75.0, 115.0, 109.0, 70.0, 295.0, 250.0, 99.0, 40.0, 50.0, 99.0, 40.0, 110.0, 130.0, 250.0, 49.0, 108.0, 118.0, 160.0, 129.0, 90.0, 239.0, 150.0, 55.0, 120.0, 200.0, 60.0, 103.0, 83.0, 195.0, 76.0, 150.0, 60.0, 75.0, 166.0, 129.0, 57.0, 199.0, 64.0, 49.0, 100.0, 79.0, 300.0, 125.0, 260.0, 80.0, 150.0, 165.0, 90.0, 160.0, 233.0, 115.0, 250.0, 115.0, 99.0, 75.0, 60.0, 59.0, 180.0, 236.0, 39.0, 195.0, 175.0, 175.0, 165.0, 85.0, 150.0, 195.0, 195.0, 35.0, 149.0, 55.0, 225.0, 135.0, 200.0, 125.0, 135.0, 120.0, 160.0, 200.0, 179.0, 69.0, 179.0, 175.0, 120.0, 100.0, 150.0, 100.0, 130.0, 150.0, 50.0, 80.0, 250.0, 74.0, 220.0, 130.0, 200.0, 149.0, 75.0, 97.0, 218.0, 150.0, 55.0, 150.0, 75.0, 110.0, 168.0, 180.0, 120.0, 100.0, 205.0, 110.0, 135.0, 195.0, 80.0, 79.0, 63.0, 80.0, 29.0, 129.0, 100.0, 196.0, 90.0, 90.0, 125.0, 90.0, 180.0, 275.0, 69.0, 200.0, 65.0, 150.0, 75.0, 56.0, 90.0, 75.0, 39.0, 85.0, 100.0, 192.0, 99.0, 174.0, 150.0, 200.0, 50.0, 109.0, 127.0, 220.0, 56.0, 41.0, 120.0, 55.0, 77.0, 100.0, 200.0, 45.0, 206.0, 129.0, 112.0, 110.0, 50.0, 179.0, 50.0, 100.0, 125.0, 96.0, 120.0, 115.0, 99.0, 80.0, 100.0, 101.0, 80.0, 115.0, 195.0, 107.0, 100.0, 245.0, 245.0, 70.0, 160.0, 150.0, 80.0, 99.0, 168.0, 54.0, 148.0, 239.0, 53.0, 65.0, 53.0, 250.0, 140.0, 125.0, 80.0, 75.0, 200.0, 227.0, 200.0, 55.0, 80.0, 70.0, 100.0, 205.0, 160.0, 102.0, 90.0, 55.0, 110.0, 250.0, 48.0, 67.0, 175.0, 149.0, 69.0, 120.0, 90.0, 150.0, 219.0, 150.0, 54.0, 170.0, 250.0, 250.0, 70.0, 150.0, 131.0, 99.0, 272.0, 249.0, 150.0, 38.0, 95.0, 199.0, 195.0, 120.0, 100.0, 100.0, 225.0, 85.0, 80.0, 72.0, 45.0, 123.0, 95.0, 100.0, 250.0, 114.0, 100.0, 100.0, 89.0, 95.0, 125.0, 89.0, 150.0, 162.0, 99.0, 250.0, 150.0, 83.0, 132.0, 44.0, 55.0, 100.0, 49.0, 99.0, 58.0, 225.0, 120.0, 139.0, 130.0, 140.0, 175.0, 155.0, 89.0, 50.0, 139.0, 85.0, 98.0, 135.0, 140.0, 100.0, 90.0, 128.0, 220.0, 170.0, 98.0, 68.0, 171.0, 79.0, 55.0, 275.0, 60.0, 105.0, 99.0, 130.0, 100.0, 55.0, 170.0, 125.0, 39.0, 80.0, 95.0, 140.0, 150.0, 56.0, 120.0, 150.0, 145.0, 70.0, 99.0, 110.0, 70.0, 140.0, 46.0, 180.0, 200.0, 55.0, 60.0, 35.0, 90.0, 180.0, 155.0, 80.0, 119.0, 70.0, 48.0, 35.0, 64.0, 120.0, 50.0, 235.0, 60.0, 67.0, 90.0, 125.0, 40.0, 120.0, 55.0, 225.0, 150.0, 180.0, 70.0, 135.0, 200.0, 95.0, 70.0, 115.0, 99.0, 95.0, 80.0, 93.0, 90.0, 150.0, 132.0, 160.0, 125.0, 65.0, 170.0, 150.0, 80.0, 175.0, 175.0, 40.0, 82.0, 75.0, 82.0, 75.0, 110.0, 75.0, 200.0, 199.0, 40.0, 80.0, 40.0, 55.0, 299.0, 112.0, 131.0, 200.0, 50.0, 75.0, 44.0, 78.0, 40.0, 111.0, 65.0, 85.0, 90.0, 175.0, 78.0, 78.0, 100.0, 120.0, 154.0, 150.0, 150.0, 180.0, 250.0, 103.0, 100.0, 110.0, 80.0, 225.0, 125.0, 200.0, 95.0, 125.0, 125.0, 70.0, 55.0, 92.0, 110.0, 239.0, 200.0, 31.0, 70.0, 73.0, 55.0, 45.0, 109.0, 85.0, 250.0, 50.0, 60.0, 80.0, 69.0, 92.0, 150.0, 65.0, 150.0, 140.0, 83.0, 45.0, 40.0, 49.0, 50.0, 75.0, 175.0, 155.0, 90.0, 130.0, 70.0, 75.0, 110.0, 61.0, 60.0, 35.0, 215.0, 235.0, 35.0, 59.0, 70.0, 180.0, 175.0, 85.0, 225.0, 81.0, 60.0, 55.0, 99.0, 175.0, 90.0, 118.0, 51.0, 149.0, 100.0, 214.0, 110.0, 130.0, 199.0, 62.0, 139.0, 40.0, 250.0, 100.0, 80.0, 125.0, 75.0, 75.0, 180.0, 100.0, 80.0, 214.0, 109.0, 66.0, 104.0, 43.0, 79.0, 79.0, 250.0, 180.0, 134.0, 98.0, 150.0, 120.0, 165.0, 50.0, 225.0, 89.0, 165.0, 95.0, 130.0, 50.0, 95.0, 50.0, 80.0, 37.0, 95.0, 230.0, 150.0, 90.0, 295.0, 75.0, 100.0, 90.0, 195.0, 129.0, 135.0, 89.0, 85.0, 275.0, 38.0, 100.0, 103.0, 99.0, 190.0, 90.0, 86.0, 39.0, 150.0, 35.0, 117.0, 50.0, 160.0, 95.0, 76.0, 70.0, 150.0, 171.0, 50.0, 99.0, 200.0, 70.0, 130.0, 125.0, 45.0, 99.0, 79.0, 98.0, 150.0, 75.0, 171.0, 140.0, 85.0, 175.0, 100.0, 63.0, 65.0, 200.0, 249.0, 200.0, 125.0, 200.0, 50.0, 160.0, 200.0, 300.0, 200.0, 139.0, 49.0, 40.0, 150.0, 110.0, 85.0, 59.0, 65.0, 130.0, 266.0, 90.0, 110.0, 100.0, 50.0, 88.0, 112.0, 65.0, 120.0, 150.0, 80.0, 296.0, 287.0, 60.0, 61.0, 79.0, 159.0, 148.0, 130.0, 156.0, 100.0, 150.0, 125.0, 45.0, 100.0, 198.0, 130.0, 86.0, 70.0, 100.0, 83.0, 70.0, 225.0, 60.0, 180.0, 180.0, 225.0, 125.0, 140.0, 275.0, 175.0, 61.0, 125.0, 100.0, 300.0, 250.0, 289.0, 179.0, 225.0, 300.0, 90.0, 75.0, 80.0, 60.0, 59.0, 85.0, 63.0, 50.0, 250.0, 65.0, 89.0, 284.0, 55.0, 70.0, 139.0, 40.0, 70.0, 50.0, 180.0, 80.0, 200.0, 300.0, 175.0, 75.0, 165.0, 250.0, 40.0, 270.0, 140.0, 145.0, 225.0, 75.0, 300.0, 150.0, 175.0, 100.0, 78.0, 144.0, 165.0, 55.0, 175.0, 108.0, 250.0, 90.0, 47.0, 257.0, 77.0, 47.0, 45.0, 80.0, 175.0, 60.0, 132.0, 138.0, 48.0, 65.0, 295.0, 85.0, 85.0, 155.0, 98.0, 115.0, 182.0, 50.0, 201.0, 186.0, 80.0, 75.0, 58.0, 117.0, 65.0, 123.0, 81.0, 145.0, 99.0, 300.0, 165.0, 236.0, 102.0, 65.0, 50.0, 30.0, 70.0, 64.0, 75.0, 65.0, 200.0, 100.0, 170.0, 120.0, 200.0, 45.0, 99.0, 95.0, 82.0, 250.0, 85.0, 100.0, 135.0, 100.0, 65.0, 72.0, 140.0, 125.0, 154.0, 120.0, 143.0, 150.0, 94.0, 75.0, 60.0, 65.0, 94.0, 85.0, 110.0, 125.0, 80.0, 85.0, 125.0, 288.0, 120.0, 125.0, 97.0, 290.0, 225.0, 60.0, 70.0, 100.0, 130.0, 255.0, 110.0, 65.0, 85.0, 180.0, 60.0, 76.0, 81.0, 200.0, 125.0, 80.0, 300.0, 75.0, 112.0, 250.0, 94.0, 91.0, 89.0, 43.0, 205.0, 55.0, 90.0, 99.0, 90.0, 39.0, 35.0, 125.0, 83.0, 70.0, 50.0, 150.0, 53.0, 99.0, 150.0, 195.0, 45.0, 250.0, 99.0, 140.0, 50.0, 99.0, 65.0, 136.0, 160.0, 45.0, 180.0, 120.0, 60.0, 105.0, 45.0, 225.0, 110.0, 245.0, 110.0, 54.0, 195.0, 137.0, 90.0, 70.0, 165.0, 99.0, 180.0, 65.0, 40.0, 79.0, 140.0, 198.0, 65.0, 79.0, 120.0, 125.0, 65.0, 135.0, 250.0, 42.0, 179.0, 65.0, 40.0, 70.0, 185.0, 185.0, 200.0, 150.0, 60.0, 73.0, 30.0, 75.0, 78.0, 180.0, 99.0, 105.0, 38.0, 70.0, 52.0, 42.0, 70.0, 45.0, 60.0, 44.0, 99.0, 85.0, 96.0, 91.0, 230.0, 150.0, 116.0, 119.0, 75.0, 90.0, 89.0, 150.0, 40.0, 100.0, 36.0, 139.0, 90.0, 150.0, 135.0, 85.0, 150.0, 90.0, 50.0, 144.0, 40.0, 115.0, 82.0, 45.0, 85.0, 130.0, 61.0, 135.0, 149.0, 150.0, 110.0, 60.0, 139.0, 115.0, 50.0, 100.0, 78.0, 129.0, 90.0, 60.0, 110.0, 294.0, 50.0, 68.0, 85.0, 75.0, 39.0, 130.0, 40.0, 70.0, 190.0, 150.0, 109.0, 75.0, 115.0, 190.0, 163.0, 49.0, 119.0, 75.0, 175.0, 61.0, 65.0, 51.0, 52.0, 90.0, 175.0, 125.0, 110.0, 60.0, 120.0, 120.0, 119.0, 40.0, 61.0, 51.0, 199.0, 100.0, 49.0, 43.0, 45.0, 56.0, 200.0, 38.0, 300.0, 160.0, 50.0, 27.0, 229.0, 99.0, 80.0, 156.0, 95.0, 55.0, 130.0, 50.0, 49.0, 55.0, 257.0, 200.0, 110.0, 250.0, 69.0, 70.0, 125.0, 195.0, 39.0, 120.0, 99.0, 100.0, 130.0, 85.0, 129.0, 44.0, 42.0, 28.0, 182.0, 169.0, 110.0, 80.0, 150.0, 51.0, 190.0, 167.0, 100.0, 118.0, 212.0, 195.0, 90.0, 199.0, 180.0, 300.0, 100.0, 49.0, 47.0, 80.0, 190.0, 102.0, 110.0, 139.0, 150.0, 99.0, 65.0, 120.0, 150.0, 110.0, 285.0, 65.0, 150.0, 100.0, 140.0, 134.0, 100.0, 175.0, 60.0, 58.0, 105.0, 150.0, 214.0, 75.0, 95.0, 197.0, 200.0, 120.0, 200.0, 170.0, 70.0, 94.0, 151.0, 98.0, 75.0, 130.0, 120.0, 85.0, 81.0, 100.0, 85.0, 60.0, 130.0, 200.0, 75.0, 70.0, 75.0, 38.0, 48.0, 40.0, 145.0, 51.0, 60.0, 100.0, 50.0, 185.0, 254.0, 160.0, 90.0, 95.0, 69.0, 199.0, 195.0, 78.0, 200.0, 75.0, 145.0, 65.0, 259.0, 110.0, 180.0, 75.0, 255.0, 31.0, 250.0, 99.0, 120.0, 100.0, 124.0, 75.0, 45.0, 45.0, 155.0, 65.0, 125.0, 275.0, 90.0, 280.0, 250.0, 259.0, 79.0, 51.0, 115.0, 75.0, 90.0, 136.0, 80.0, 60.0, 156.0, 106.0, 126.0, 99.0, 50.0, 65.0, 125.0, 155.0, 74.0, 61.0, 45.0, 38.0, 120.0, 38.0, 140.0, 150.0, 80.0, 100.0, 70.0, 48.0, 38.0, 125.0, 75.0, 80.0, 122.0, 200.0, 100.0, 100.0, 53.0, 250.0, 250.0, 166.0, 100.0, 122.0, 114.0, 72.0, 160.0, 200.0, 49.0, 170.0, 80.0, 55.0, 119.0, 182.0, 249.0, 212.0, 48.0, 68.0, 99.0, 100.0, 35.0, 80.0, 130.0, 118.0, 125.0, 145.0, 195.0, 100.0, 195.0, 115.0, 45.0, 240.0, 84.0, 145.0, 45.0, 74.0, 145.0, 80.0, 53.0, 100.0, 65.0, 46.0, 70.0, 130.0, 90.0, 255.0, 150.0, 125.0, 150.0, 118.0, 105.0, 45.0, 70.0, 75.0, 120.0, 132.0, 116.0, 50.0, 92.0, 40.0, 225.0, 130.0, 155.0, 157.0, 149.0, 149.0, 200.0, 67.0, 181.0, 65.0, 70.0, 150.0, 68.0, 225.0, 230.0, 70.0, 75.0, 200.0, 150.0, 219.0, 65.0, 65.0, 70.0, 58.0, 125.0, 150.0, 200.0, 129.0, 99.0, 50.0, 190.0, 150.0, 150.0, 70.0, 31.0, 60.0, 200.0, 116.0, 150.0, 50.0, 99.0, 165.0, 179.0, 203.0, 81.0, 97.0, 145.0, 65.0, 65.0, 55.0, 195.0, 120.0, 80.0, 250.0, 275.0, 49.0, 160.0, 150.0, 115.0, 129.0, 49.0, 80.0, 73.0, 200.0, 143.0, 76.0, 45.0, 113.0, 90.0, 196.0, 45.0, 37.0, 45.0, 55.0, 164.0, 240.0, 252.0, 65.0, 65.0, 120.0, 255.0, 39.0, 125.0, 110.0, 210.0, 150.0, 110.0, 45.0, 200.0, 131.0, 150.0, 40.0, 149.0, 243.0, 175.0, 93.0, 76.0, 75.0, 121.0, 20.0, 49.0, 101.0, 90.0, 45.0, 55.0, 214.0, 95.0, 60.0, 120.0, 289.0, 50.0, 65.0, 165.0, 125.0, 148.0, 90.0, 50.0, 250.0, 217.0, 57.0, 163.0, 45.0, 60.0, 104.0, 220.0, 95.0, 165.0, 75.0, 101.0, 101.0, 101.0, 99.0, 101.0, 101.0, 40.0, 106.0, 200.0, 47.0, 45.0, 63.0, 129.0, 150.0, 105.0, 125.0, 144.0, 179.0, 47.0, 125.0, 250.0, 130.0, 259.0, 275.0, 179.0, 70.0, 300.0, 295.0, 248.0, 50.0, 225.0, 195.0, 250.0, 89.0, 80.0, 75.0, 246.0, 40.0, 75.0, 250.0, 56.0, 150.0, 190.0, 100.0, 110.0, 200.0, 60.0, 56.0, 70.0, 57.0, 93.0, 73.0, 100.0, 45.0, 46.0, 50.0, 232.0, 220.0, 125.0, 55.0, 129.0, 179.0, 60.0, 108.0, 222.0, 90.0, 250.0, 70.0, 150.0, 150.0, 135.0, 140.0, 32.0, 145.0, 65.0, 65.0, 35.0, 65.0, 170.0, 39.0, 38.0, 125.0, 100.0, 90.0, 105.0, 124.0, 225.0, 150.0, 169.0, 65.0, 60.0, 168.0, 195.0, 125.0, 150.0, 150.0, 150.0, 120.0, 84.0, 150.0, 45.0, 115.0, 75.0, 109.0, 42.0, 67.0, 38.0, 105.0, 79.0, 175.0, 80.0, 150.0, 51.0, 65.0, 55.0, 100.0, 50.0, 221.0, 200.0, 45.0, 55.0, 120.0, 80.0, 85.0, 180.0, 60.0, 40.0, 96.0, 105.0, 120.0, 150.0, 92.0, 44.0, 89.0, 79.0, 85.0, 68.0, 200.0, 134.0, 140.0, 100.0, 239.0, 82.0, 118.0, 200.0, 95.0, 85.0, 200.0, 73.0, 94.0, 65.0, 180.0, 237.0, 50.0, 140.0, 78.0, 167.0, 150.0, 78.0, 55.0, 39.0, 153.0, 75.0, 59.0, 113.0, 125.0, 110.0, 44.0, 75.0, 38.0, 162.0, 95.0, 50.0, 195.0, 250.0, 185.0, 180.0, 50.0, 260.0, 120.0, 123.0, 30.0, 210.0, 139.0, 45.0, 79.0, 74.0, 75.0, 200.0, 50.0, 45.0, 115.0, 75.0, 210.0, 103.0, 45.0, 100.0, 195.0, 73.0, 99.0, 65.0, 70.0, 220.0, 225.0, 122.0, 73.0, 150.0, 30.0, 79.0, 90.0, 200.0, 250.0, 90.0, 60.0, 90.0, 75.0, 70.0, 85.0, 50.0, 130.0, 199.0, 150.0, 80.0, 105.0, 250.0, 64.0, 110.0, 150.0, 257.0, 70.0, 140.0, 88.0, 182.0, 114.0, 125.0, 45.0, 120.0, 90.0, 65.0, 250.0, 150.0, 190.0, 85.0, 125.0, 175.0, 65.0, 242.0, 180.0, 115.0, 165.0, 85.0, 55.0, 50.0, 43.0, 125.0, 196.0, 55.0, 98.0, 90.0, 80.0, 205.0, 100.0, 114.0, 165.0, 165.0, 52.0, 100.0, 75.0, 59.0, 50.0, 100.0, 150.0, 64.0, 59.0, 88.0, 75.0, 85.0, 85.0, 124.0, 199.0, 108.0, 200.0, 150.0, 90.0, 75.0, 200.0, 289.0, 175.0, 150.0, 65.0, 55.0, 175.0, 220.0, 55.0, 150.0, 90.0, 100.0, 62.0, 65.0, 140.0, 80.0, 75.0, 300.0, 110.0, 120.0, 72.0, 80.0, 55.0, 45.0, 100.0, 165.0, 50.0, 50.0, 140.0, 300.0, 263.0, 175.0, 35.0, 55.0, 60.0, 65.0, 87.0, 280.0, 119.0, 56.0, 115.0, 175.0, 35.0, 60.0, 150.0, 207.0, 63.0, 125.0, 49.0, 200.0, 99.0, 198.0, 120.0, 155.0, 88.0, 78.0, 93.0, 100.0, 127.0, 100.0, 170.0, 75.0, 84.0, 32.0, 140.0, 89.0, 55.0, 69.0, 50.0, 133.0, 300.0, 155.0, 111.0, 100.0, 65.0, 190.0, 110.0, 65.0, 151.0, 152.0, 249.0, 100.0, 108.0, 130.0, 159.0, 145.0, 75.0, 75.0, 80.0, 150.0, 78.0, 49.0, 65.0, 190.0, 152.0, 100.0, 85.0, 65.0, 35.0, 167.0, 175.0, 254.0, 110.0, 250.0, 104.0, 280.0, 200.0, 200.0, 130.0, 90.0, 145.0, 65.0, 150.0, 75.0, 42.0, 40.0, 214.0, 75.0, 32.0, 34.0, 100.0, 39.0, 120.0, 239.0, 125.0, 47.0, 60.0, 55.0, 50.0, 250.0, 85.0, 47.0, 275.0, 115.0, 65.0, 50.0, 106.0, 66.0, 34.0, 79.0, 56.0, 160.0, 160.0, 185.0, 55.0, 118.0, 110.0, 80.0, 126.0, 85.0, 110.0, 160.0, 90.0, 150.0, 200.0, 287.0, 86.0, 200.0, 58.0, 95.0, 212.0, 90.0, 250.0, 79.0, 75.0, 75.0, 195.0, 125.0, 52.0, 200.0, 150.0, 121.0, 89.0, 180.0, 73.0, 123.0, 70.0, 200.0, 55.0, 195.0, 90.0, 125.0, 157.0, 170.0, 115.0, 70.0, 100.0, 125.0, 70.0, 148.0, 148.0, 295.0, 45.0, 55.0, 200.0, 70.0, 54.0, 93.0, 38.0, 175.0, 50.0, 275.0, 50.0, 42.0, 85.0, 100.0, 73.0, 100.0, 120.0, 69.0, 165.0, 300.0, 42.0, 105.0, 115.0, 75.0, 125.0, 150.0, 119.0, 290.0, 100.0, 115.0, 225.0, 87.0, 300.0, 199.0, 32.0, 135.0, 105.0, 65.0, 129.0, 300.0, 33.0, 214.0, 135.0, 140.0, 100.0, 85.0, 50.0, 140.0, 120.0, 110.0, 106.0, 99.0, 66.0, 45.0, 99.0, 52.0, 125.0, 99.0, 249.0, 84.0, 75.0, 78.0, 149.0, 80.0, 115.0, 175.0, 194.0, 175.0, 63.0, 170.0, 64.0, 89.0, 45.0, 55.0, 115.0, 267.0, 35.0, 50.0, 145.0, 150.0, 175.0, 95.0, 70.0, 140.0, 150.0, 175.0, 48.0, 42.0, 80.0, 160.0, 85.0, 98.0, 53.0, 154.0, 50.0, 86.0, 100.0, 85.0, 225.0, 120.0, 67.0, 250.0, 180.0, 145.0, 130.0, 60.0, 100.0, 60.0, 175.0, 275.0, 99.0, 125.0, 200.0, 107.0, 128.0, 80.0, 75.0, 165.0, 165.0, 99.0, 45.0, 43.0, 77.0, 200.0, 50.0, 120.0, 181.0, 130.0, 134.0, 200.0, 89.0, 221.0, 239.0, 75.0, 75.0, 70.0, 290.0, 60.0, 70.0, 175.0, 155.0, 50.0, 230.0, 85.0, 90.0, 120.0, 98.0, 100.0, 95.0, 200.0, 250.0, 40.0, 50.0, 80.0, 75.0, 139.0, 80.0, 120.0, 85.0, 300.0, 55.0, 160.0, 150.0, 225.0, 290.0, 95.0, 139.0, 295.0, 120.0, 85.0, 80.0, 120.0, 100.0, 175.0, 50.0, 175.0, 169.0, 65.0, 184.0, 150.0, 205.0, 154.0, 89.0, 150.0, 200.0, 165.0, 89.0, 240.0, 95.0, 63.0, 99.0, 175.0, 125.0, 300.0, 280.0, 63.0, 100.0, 150.0, 299.0, 250.0, 75.0, 229.0, 89.0, 125.0, 100.0, 164.0, 175.0, 68.0, 69.0, 209.0, 132.0, 97.0, 175.0, 170.0, 100.0, 150.0, 100.0, 130.0, 35.0, 130.0, 22.0, 190.0, 60.0, 199.0, 49.0, 45.0, 220.0, 110.0, 280.0, 133.0, 43.0, 108.0, 134.0, 110.0, 175.0, 299.0, 180.0, 100.0, 99.0, 75.0, 130.0, 49.0, 139.0, 100.0, 110.0, 45.0, 40.0, 100.0, 45.0, 81.0, 110.0, 160.0, 53.0, 100.0, 50.0, 85.0, 100.0, 229.0, 80.0, 275.0, 121.0, 55.0, 100.0, 60.0, 50.0, 149.0, 48.0, 43.0, 47.0, 260.0, 75.0, 162.0, 100.0, 60.0, 100.0, 105.0, 110.0, 150.0, 160.0, 109.0, 263.0, 120.0, 104.0, 40.0, 85.0, 200.0, 120.0, 150.0, 152.0, 200.0, 28.0, 199.0, 100.0, 35.0, 225.0, 50.0, 80.0, 135.0, 145.0, 100.0, 145.0, 95.0, 55.0, 147.0, 190.0, 70.0, 100.0, 40.0, 150.0, 80.0, 85.0, 158.0, 120.0, 160.0, 125.0, 225.0, 90.0, 119.0, 70.0, 75.0, 150.0, 115.0, 100.0, 48.0, 105.0, 185.0, 150.0, 48.0, 150.0, 140.0, 55.0, 195.0, 295.0, 140.0, 75.0, 84.0, 75.0, 125.0, 50.0, 225.0, 156.0, 211.0, 59.0, 140.0, 75.0, 50.0, 156.0, 74.0, 120.0, 150.0, 105.0, 92.0, 80.0, 35.0, 256.0, 246.0, 156.0, 156.0, 156.0, 166.0, 156.0, 250.0, 81.0, 80.0, 200.0, 130.0, 84.0, 95.0, 49.0, 40.0, 80.0, 49.0, 100.0, 50.0, 145.0, 125.0, 64.0, 75.0, 59.0, 180.0, 150.0, 99.0, 135.0, 150.0, 59.0, 275.0, 215.0, 200.0, 135.0, 295.0, 82.0, 105.0, 52.0, 264.0, 145.0, 40.0, 250.0, 295.0, 130.0, 120.0, 55.0, 70.0, 245.0, 215.0, 265.0, 150.0, 80.0, 55.0, 179.0, 88.0, 40.0, 150.0, 55.0, 259.0, 60.0, 85.0, 75.0, 193.0, 198.0, 300.0, 295.0, 50.0, 35.0, 200.0, 95.0, 75.0, 90.0, 50.0, 93.0, 136.0, 26.0, 80.0, 209.0, 32.0, 195.0, 97.0, 100.0, 140.0, 62.0, 93.0, 75.0, 65.0, 150.0, 125.0, 53.0, 150.0, 45.0, 59.0, 99.0, 75.0, 105.0, 47.0, 47.0, 45.0, 100.0, 85.0, 70.0, 172.0, 160.0, 201.0, 85.0, 230.0, 280.0, 180.0, 90.0, 199.0, 70.0, 60.0, 111.0, 88.0, 40.0, 36.0, 95.0, 45.0, 89.0, 200.0, 127.0, 119.0, 100.0, 55.0, 213.0, 70.0, 65.0, 229.0, 188.0, 150.0, 255.0, 100.0, 50.0, 140.0, 175.0, 185.0, 73.0, 250.0, 89.0, 89.0, 250.0, 135.0, 82.0, 93.0, 110.0, 105.0, 100.0, 110.0, 129.0, 125.0, 130.0, 100.0, 122.0, 70.0, 220.0, 129.0, 45.0, 80.0, 161.0, 50.0, 250.0, 55.0, 110.0, 164.0, 120.0, 57.0, 224.0, 42.0, 200.0, 230.0, 165.0, 161.0, 125.0, 155.0, 160.0, 170.0, 170.0, 170.0, 150.0, 135.0, 140.0, 150.0, 55.0, 155.0, 80.0, 58.0, 55.0, 125.0, 129.0, 165.0, 50.0, 150.0, 69.0, 130.0, 140.0, 65.0, 120.0, 90.0, 75.0, 193.0, 130.0, 81.0, 300.0, 77.0, 62.0, 140.0, 110.0, 100.0, 70.0, 195.0, 75.0, 30.0, 80.0, 99.0, 105.0, 114.0, 149.0, 122.0, 130.0, 130.0, 121.0, 167.0, 35.0, 70.0, 52.0, 100.0, 95.0, 250.0, 99.0, 99.0, 220.0, 45.0, 80.0, 105.0, 50.0, 124.0, 198.0, 30.0, 130.0, 150.0, 149.0, 210.0, 135.0, 240.0, 90.0, 70.0, 60.0, 129.0, 200.0, 125.0, 245.0, 100.0, 35.0, 140.0, 115.0, 185.0, 60.0, 45.0, 35.0, 80.0, 165.0, 140.0, 35.0, 289.0, 120.0, 130.0, 80.0, 50.0, 164.0, 236.0, 27.0, 60.0, 222.0, 155.0, 80.0, 80.0, 85.0, 150.0, 214.0, 150.0, 205.0, 80.0, 150.0, 150.0, 57.0, 125.0, 103.0, 100.0, 235.0, 75.0, 60.0, 90.0, 121.0, 90.0, 47.0, 100.0, 141.0, 250.0, 120.0, 272.0, 100.0, 160.0, 175.0, 85.0, 150.0, 100.0, 85.0, 75.0, 168.0, 50.0, 200.0, 55.0, 80.0, 95.0, 70.0, 125.0, 250.0, 99.0, 90.0, 92.0, 225.0, 149.0, 120.0, 120.0, 120.0, 44.0, 160.0, 110.0, 272.0, 125.0, 145.0, 190.0, 230.0, 45.0, 140.0, 187.0, 30.0, 80.0, 200.0, 94.0, 170.0, 69.0, 37.0, 145.0, 65.0, 45.0, 130.0, 87.0, 45.0, 200.0, 149.0, 60.0, 114.0, 125.0, 70.0, 40.0, 169.0, 100.0, 40.0, 75.0, 69.0, 84.0, 101.0, 110.0, 98.0, 109.0, 159.0, 75.0, 75.0, 99.0, 65.0, 38.0, 95.0, 150.0, 99.0, 100.0, 99.0, 150.0, 165.0, 67.0, 66.0, 165.0, 100.0, 65.0, 55.0, 85.0, 35.0, 110.0, 46.0, 99.0, 55.0, 118.0, 200.0, 190.0, 99.0, 209.0, 165.0, 55.0, 49.0, 68.0, 167.0, 125.0, 80.0, 100.0, 115.0, 150.0, 125.0, 30.0, 130.0, 130.0, 140.0, 175.0, 115.0, 70.0, 225.0, 45.0, 92.0, 175.0, 86.0, 86.0, 199.0, 22.0, 60.0, 87.0, 39.0, 60.0, 32.0, 41.0, 170.0, 200.0, 70.0, 120.0, 75.0, 195.0, 252.0, 115.0, 65.0, 90.0, 139.0, 70.0, 200.0, 65.0, 105.0, 72.0, 44.0, 175.0, 148.0, 32.0, 70.0, 175.0, 69.0, 140.0, 74.0, 80.0, 115.0, 80.0, 40.0, 38.0, 120.0, 70.0, 60.0, 200.0, 91.0, 250.0, 125.0, 47.0, 50.0, 75.0, 90.0, 66.0, 23.0, 100.0, 207.0, 215.0, 170.0, 100.0, 65.0, 175.0, 90.0, 110.0, 70.0, 120.0, 200.0, 200.0, 129.0, 220.0, 299.0, 150.0, 70.0, 49.0, 50.0, 195.0, 150.0, 78.0, 150.0, 300.0, 225.0, 50.0, 140.0, 59.0, 60.0, 125.0, 160.0, 45.0, 45.0, 50.0, 80.0, 300.0, 140.0, 120.0, 40.0, 120.0, 120.0, 95.0, 150.0, 127.0, 130.0, 95.0, 134.0, 120.0, 139.0, 70.0, 117.0, 95.0, 80.0, 100.0, 100.0, 130.0, 250.0, 125.0, 166.0, 73.0, 35.0, 100.0, 215.0, 75.0, 106.0, 264.0, 260.0, 84.0, 80.0, 159.0, 150.0, 89.0, 130.0, 50.0, 100.0, 74.0, 139.0, 150.0, 50.0, 99.0, 35.0, 150.0, 35.0, 61.0, 139.0, 119.0, 160.0, 98.0, 119.0, 78.0, 42.0, 64.0, 70.0, 120.0, 49.0, 70.0, 43.0, 100.0, 85.0, 75.0, 150.0, 150.0, 40.0, 90.0, 120.0, 100.0, 132.0, 35.0, 278.0, 45.0, 185.0, 80.0, 97.0, 230.0, 150.0, 135.0, 47.0, 100.0, 71.0, 120.0, 59.0, 104.0, 179.0, 150.0, 145.0, 250.0, 80.0, 80.0, 37.0, 117.0, 80.0, 140.0, 250.0, 79.0, 100.0, 150.0, 200.0, 110.0, 125.0, 40.0, 45.0, 115.0, 104.0, 80.0, 198.0, 50.0, 135.0, 35.0, 108.0, 200.0, 55.0, 70.0, 120.0, 206.0, 130.0, 145.0, 130.0, 51.0, 150.0, 70.0, 250.0, 182.0, 85.0, 55.0, 60.0, 40.0, 90.0, 95.0, 171.0, 80.0, 180.0, 199.0, 79.0, 200.0, 125.0, 206.0, 94.0, 60.0, 65.0, 200.0, 130.0, 140.0, 180.0, 100.0, 65.0, 75.0, 105.0, 87.0, 195.0, 200.0, 57.0, 35.0, 183.0, 39.0, 75.0, 145.0, 135.0, 125.0, 70.0, 100.0, 116.0, 142.0, 60.0, 250.0, 99.0, 81.0, 125.0, 95.0, 40.0, 119.0, 101.0, 65.0, 45.0, 109.0, 45.0, 100.0, 85.0, 126.0, 89.0, 275.0, 300.0, 140.0, 60.0, 150.0, 80.0, 60.0, 45.0, 40.0, 200.0, 210.0, 125.0, 70.0, 45.0, 120.0, 150.0, 60.0, 64.0, 50.0, 190.0, 275.0, 75.0, 180.0, 200.0, 50.0, 149.0, 75.0, 125.0, 151.0, 40.0, 100.0, 185.0, 78.0, 45.0, 249.0, 156.0, 200.0, 100.0, 95.0, 85.0, 142.0, 76.0, 106.0, 65.0, 185.0, 120.0, 104.0, 47.0, 97.0, 90.0, 114.0, 150.0, 113.0, 36.0, 75.0, 81.0, 193.0, 149.0, 90.0, 90.0, 175.0, 135.0, 120.0, 175.0, 40.0, 119.0, 45.0, 100.0, 155.0, 56.0, 95.0, 100.0, 65.0, 259.0, 85.0, 29.0, 115.0, 171.0, 140.0, 125.0, 56.0, 80.0, 28.0, 33.0, 90.0, 140.0, 225.0, 180.0, 250.0, 65.0, 50.0, 118.0, 78.0, 95.0, 70.0, 176.0, 110.0, 145.0, 80.0, 275.0, 60.0, 70.0, 300.0, 50.0, 65.0, 68.0, 40.0, 100.0, 79.0, 45.0, 220.0, 51.0, 100.0, 105.0, 40.0, 90.0, 50.0, 195.0, 200.0, 250.0, 175.0, 100.0, 80.0, 175.0, 150.0, 99.0, 50.0, 48.0, 189.0, 55.0, 90.0, 130.0, 300.0, 48.0, 100.0, 35.0, 32.0, 150.0, 107.0, 127.0, 229.0, 80.0, 205.0, 150.0, 103.0, 43.0, 50.0, 80.0, 40.0, 99.0, 150.0, 190.0, 36.0, 199.0, 65.0, 130.0, 60.0, 32.0, 49.0, 65.0, 70.0, 50.0, 150.0, 150.0, 50.0, 100.0, 50.0, 60.0, 100.0, 80.0, 95.0, 110.0, 60.0, 175.0, 80.0, 114.0, 150.0, 75.0, 300.0, 215.0, 95.0, 220.0, 155.0, 95.0, 119.0, 200.0, 285.0, 45.0, 75.0, 120.0, 110.0, 56.0, 143.0, 67.0, 154.0, 194.0, 58.0, 70.0, 156.0, 107.0, 60.0, 125.0, 130.0, 85.0, 105.0, 50.0, 190.0, 117.0, 95.0, 65.0, 69.0, 175.0, 59.0, 90.0, 75.0, 43.0, 51.0, 60.0, 150.0, 45.0, 55.0, 90.0, 145.0, 225.0, 125.0, 48.0, 80.0, 77.0, 121.0, 138.0, 250.0, 50.0, 70.0, 47.0, 72.0, 164.0, 300.0, 70.0, 66.0, 159.0, 59.0, 170.0, 140.0, 175.0, 74.0, 225.0, 180.0, 200.0, 300.0, 100.0, 40.0, 150.0, 60.0, 49.0, 55.0, 145.0, 48.0, 75.0, 200.0, 86.0, 69.0, 45.0, 164.0, 89.0, 60.0, 154.0, 115.0, 100.0, 140.0, 35.0, 39.0, 30.0, 60.0, 101.0, 99.0, 175.0, 50.0, 200.0, 126.0, 299.0, 46.0, 99.0, 70.0, 55.0, 185.0, 241.0, 35.0, 75.0, 90.0, 150.0, 152.0, 53.0, 225.0, 160.0, 70.0, 150.0, 26.0, 90.0, 40.0, 105.0, 50.0, 50.0, 53.0, 47.0, 47.0, 47.0, 88.0, 47.0, 47.0, 47.0, 30.0, 104.0, 69.0, 75.0, 200.0, 93.0, 140.0, 100.0, 115.0, 35.0, 160.0, 150.0, 98.0, 80.0, 48.0, 100.0, 175.0, 73.0, 75.0, 150.0, 130.0, 75.0, 65.0, 150.0, 298.0, 85.0, 100.0, 90.0, 70.0, 150.0, 70.0, 135.0, 43.0, 80.0, 96.0, 80.0, 58.0, 56.0, 90.0, 89.0, 69.0, 80.0, 75.0, 150.0, 38.0, 70.0, 180.0, 71.0, 75.0, 47.0, 221.0, 150.0, 250.0, 149.0, 239.0, 115.0, 50.0, 75.0, 55.0, 99.0, 59.0, 149.0, 119.0, 175.0, 79.0, 45.0, 94.0, 60.0, 200.0, 86.0, 36.0, 96.0, 87.0, 100.0, 200.0, 150.0, 299.0, 62.0, 80.0, 90.0, 44.0, 99.0, 240.0, 36.0, 67.0, 160.0, 50.0, 96.0, 76.0, 60.0, 65.0, 225.0, 130.0, 221.0, 175.0, 293.0, 72.0, 220.0, 229.0, 100.0, 150.0, 175.0, 180.0, 51.0, 154.0, 80.0, 123.0, 150.0, 175.0, 66.0, 60.0, 60.0, 150.0, 50.0, 286.0, 80.0, 71.0, 210.0, 90.0, 120.0, 45.0, 110.0, 64.0, 85.0, 64.0, 160.0, 120.0, 240.0, 180.0, 90.0, 39.0, 100.0, 160.0, 135.0, 59.0, 145.0, 225.0, 100.0, 200.0, 80.0, 215.0, 75.0, 150.0, 35.0, 80.0, 120.0, 89.0, 130.0, 130.0, 50.0, 70.0, 125.0, 110.0, 75.0, 45.0, 111.0, 221.0, 72.0, 160.0, 175.0, 150.0, 100.0, 120.0, 75.0, 200.0, 98.0, 125.0, 109.0, 140.0, 135.0, 53.0, 70.0, 45.0, 235.0, 135.0, 116.0, 100.0, 100.0, 139.0, 153.0, 60.0, 99.0, 207.0, 95.0, 47.0, 100.0, 250.0, 150.0, 200.0, 145.0, 286.0, 300.0, 84.0, 50.0, 120.0, 100.0, 45.0, 115.0, 100.0, 65.0, 130.0, 250.0, 250.0, 101.0, 44.0, 83.0, 71.0, 72.0, 49.0, 69.0, 225.0, 65.0, 65.0, 160.0, 100.0, 50.0, 50.0, 87.0, 30.0, 65.0, 109.0, 150.0, 166.0, 170.0, 61.0, 150.0, 114.0, 74.0, 250.0, 130.0, 200.0, 188.0, 125.0, 149.0, 76.0, 55.0, 42.0, 110.0, 250.0, 150.0, 150.0, 40.0, 295.0, 85.0, 56.0, 48.0, 54.0, 51.0, 50.0, 80.0, 132.0, 125.0, 150.0, 179.0, 55.0, 90.0, 80.0, 85.0, 75.0, 48.0, 200.0, 109.0, 46.0, 175.0, 34.0, 57.0, 65.0, 35.0, 118.0, 251.0, 155.0, 55.0, 168.0, 110.0, 141.0, 125.0, 148.0, 115.0, 130.0, 64.0, 174.0, 68.0, 108.0, 225.0, 74.0, 60.0, 100.0, 50.0, 75.0, 75.0, 55.0, 250.0, 145.0, 193.0, 89.0, 299.0, 118.0, 50.0, 45.0, 49.0, 88.0, 110.0, 165.0, 97.0, 49.0, 250.0, 52.0, 280.0, 30.0, 79.0, 195.0, 129.0, 179.0, 96.0, 120.0, 90.0, 180.0, 100.0, 99.0, 89.0, 200.0, 72.0, 250.0, 90.0, 165.0, 90.0, 90.0, 120.0, 100.0, 120.0, 123.0, 70.0, 80.0, 250.0, 89.0, 115.0, 250.0, 165.0, 200.0, 243.0, 81.0, 92.0, 60.0, 180.0, 250.0, 68.0, 45.0, 130.0, 48.0, 300.0, 110.0, 65.0, 175.0, 120.0, 120.0, 179.0, 80.0, 124.0, 150.0, 47.0, 60.0, 128.0, 119.0, 75.0, 149.0, 140.0, 75.0, 92.0, 150.0, 150.0, 40.0, 110.0, 65.0, 190.0, 125.0, 109.0, 145.0, 36.0, 200.0, 120.0, 60.0, 187.0, 185.0, 160.0, 120.0, 50.0, 74.0, 45.0, 40.0, 98.0, 200.0, 60.0, 190.0, 93.0, 80.0, 65.0, 137.0, 250.0, 125.0, 225.0, 79.0, 55.0, 45.0, 140.0, 160.0, 77.0, 90.0, 208.0, 215.0, 80.0, 100.0, 40.0, 39.0, 30.0, 106.0, 109.0, 71.0, 80.0, 80.0, 50.0, 194.0, 49.0, 29.0, 50.0, 100.0, 107.0, 241.0, 135.0, 135.0, 75.0, 98.0, 139.0, 38.0, 65.0, 75.0, 170.0, 159.0, 75.0, 89.0, 75.0, 225.0, 200.0, 67.0, 184.0, 100.0, 225.0, 175.0, 39.0, 85.0, 99.0, 175.0, 110.0, 118.0, 150.0, 170.0, 70.0, 80.0, 186.0, 89.0, 120.0, 100.0, 80.0, 40.0, 120.0, 225.0, 30.0, 200.0, 125.0, 149.0, 40.0, 60.0, 161.0, 275.0, 140.0, 198.0, 145.0, 150.0, 27.0, 65.0, 185.0, 60.0, 250.0, 105.0, 180.0, 55.0, 140.0, 125.0, 130.0, 150.0, 80.0, 80.0, 150.0, 62.0, 146.0, 43.0, 214.0, 250.0, 50.0, 160.0, 109.0, 50.0, 135.0, 215.0, 199.0, 100.0, 160.0, 125.0, 78.0, 40.0, 60.0, 65.0, 91.0, 84.0, 51.0, 200.0, 65.0, 84.0, 150.0, 112.0, 75.0, 125.0, 130.0, 55.0, 55.0, 261.0, 150.0, 79.0, 152.0, 150.0, 85.0, 92.0, 61.0, 75.0, 65.0, 50.0, 109.0, 59.0, 300.0, 88.0, 110.0, 300.0, 80.0, 185.0, 48.0, 39.0, 250.0, 90.0, 55.0, 70.0, 130.0, 30.0, 35.0, 100.0, 70.0, 150.0, 70.0, 139.0, 95.0, 100.0, 235.0, 75.0, 95.0, 59.0, 100.0, 81.0, 60.0, 40.0, 210.0, 55.0, 150.0, 71.0, 235.0, 205.0, 120.0, 55.0, 280.0, 130.0, 99.0, 115.0, 58.0, 120.0, 75.0, 99.0, 85.0, 169.0, 128.0, 250.0, 125.0, 42.0, 130.0, 95.0, 144.0, 125.0, 157.0, 100.0, 100.0, 107.0, 109.0, 95.0, 98.0, 100.0, 220.0, 127.0, 150.0, 150.0, 64.0, 199.0, 66.0, 95.0, 125.0, 206.0, 65.0, 75.0, 68.0, 130.0, 135.0, 175.0, 250.0, 179.0, 42.0, 65.0, 80.0, 160.0, 140.0, 209.0, 55.0, 175.0, 99.0, 200.0, 180.0, 75.0, 53.0, 70.0, 90.0, 45.0, 109.0, 106.0, 200.0, 275.0, 35.0, 70.0, 195.0, 220.0, 80.0, 110.0, 96.0, 130.0, 100.0, 150.0, 125.0, 200.0, 142.0, 53.0, 300.0, 38.0, 60.0, 105.0, 115.0, 72.0, 250.0, 62.0, 105.0, 55.0, 100.0, 120.0, 60.0, 80.0, 90.0, 279.0, 40.0, 100.0, 55.0, 201.0, 100.0, 135.0, 125.0, 125.0, 228.0, 37.0, 116.0, 66.0, 54.0, 59.0, 119.0, 118.0, 122.0, 141.0, 70.0, 90.0, 150.0, 250.0, 70.0, 80.0, 139.0, 49.0, 85.0, 299.0, 60.0, 135.0, 244.0, 90.0, 29.0, 70.0, 80.0, 120.0, 60.0, 80.0, 51.0, 175.0, 160.0, 180.0, 200.0, 75.0, 80.0, 38.0, 164.0, 179.0, 264.0, 68.0, 164.0, 49.0, 135.0, 45.0, 99.0, 120.0, 185.0, 111.0, 80.0, 66.0, 85.0, 70.0, 275.0, 79.0, 300.0, 40.0, 45.0, 190.0, 164.0, 117.0, 120.0, 300.0, 50.0, 129.0, 160.0, 89.0, 45.0, 80.0, 33.0, 36.0, 40.0, 220.0, 110.0, 160.0, 80.0, 76.0, 110.0, 150.0, 80.0, 80.0, 160.0, 39.0, 115.0, 94.0, 62.0, 130.0, 57.0, 150.0, 55.0, 127.0, 61.0, 200.0, 49.0, 45.0, 180.0, 92.0, 25.0, 100.0, 150.0, 72.0, 75.0, 32.0, 297.0, 150.0, 225.0, 162.0, 80.0, 50.0, 100.0, 119.0, 120.0, 210.0, 225.0, 45.0, 260.0, 200.0, 97.0, 75.0, 155.0, 166.0, 80.0, 250.0, 68.0, 99.0, 300.0, 138.0, 80.0, 125.0, 80.0, 48.0, 69.0, 42.0, 44.0, 200.0, 99.0, 112.0, 65.0, 141.0, 120.0, 200.0, 85.0, 139.0, 50.0, 145.0, 141.0, 58.0, 107.0, 193.0, 190.0, 175.0, 70.0, 75.0, 155.0, 75.0, 175.0, 95.0, 50.0, 90.0, 60.0, 90.0, 200.0, 134.0, 60.0, 45.0, 78.0, 65.0, 60.0, 130.0, 68.0, 150.0, 165.0, 258.0, 70.0, 187.0, 90.0, 280.0, 100.0, 95.0, 148.0, 114.0, 146.0, 54.0, 60.0, 71.0, 110.0, 65.0, 110.0, 110.0, 140.0, 35.0, 77.0, 111.0, 45.0, 132.0, 100.0, 150.0, 39.0, 175.0, 84.0, 75.0, 81.0, 60.0, 140.0, 85.0, 80.0, 60.0, 45.0, 190.0, 110.0, 135.0, 50.0, 73.0, 90.0, 195.0, 150.0, 55.0, 100.0, 95.0, 134.0, 95.0, 40.0, 30.0, 155.0, 253.0, 155.0, 50.0, 120.0, 250.0, 139.0, 149.0, 88.0, 230.0, 175.0, 150.0, 85.0, 50.0, 83.0, 135.0, 196.0, 35.0, 60.0, 101.0, 180.0, 200.0, 200.0, 55.0, 132.0, 150.0, 175.0, 35.0, 225.0, 166.0, 250.0, 85.0, 135.0, 131.0, 300.0, 120.0, 100.0, 50.0, 115.0, 110.0, 39.0, 60.0, 250.0, 40.0, 125.0, 50.0, 80.0, 55.0, 45.0, 74.0, 125.0, 35.0, 95.0, 140.0, 108.0, 170.0, 250.0, 150.0, 300.0, 85.0, 83.0, 125.0, 250.0, 125.0, 200.0, 196.0, 50.0, 125.0, 58.0, 73.0, 100.0, 63.0, 68.0, 139.0, 60.0, 70.0, 41.0, 60.0, 30.0, 170.0, 150.0, 77.0, 150.0, 39.0, 150.0, 120.0, 89.0, 94.0, 225.0, 70.0, 95.0, 132.0, 150.0, 125.0, 125.0, 130.0, 59.0, 97.0, 60.0, 45.0, 200.0, 35.0, 139.0, 41.0, 125.0, 100.0, 85.0, 200.0, 90.0, 115.0, 250.0, 44.0, 40.0, 150.0, 140.0, 180.0, 84.0, 55.0, 68.0, 97.0, 150.0, 59.0, 150.0, 125.0, 115.0, 169.0, 81.0, 105.0, 69.0, 35.0, 75.0, 37.0, 37.0, 35.0, 38.0, 56.0, 68.0, 140.0, 99.0, 73.0, 230.0, 126.0, 47.0, 125.0, 42.0, 104.0, 225.0, 185.0, 130.0, 53.0, 129.0, 134.0, 295.0, 104.0, 108.0, 179.0, 53.0, 95.0, 97.0, 99.0, 60.0, 127.0, 155.0, 275.0, 199.0, 96.0, 125.0, 190.0, 150.0, 75.0, 169.0, 51.0, 90.0, 80.0, 115.0, 98.0, 170.0, 50.0, 45.0, 150.0, 45.0, 135.0, 180.0, 150.0, 89.0, 51.0, 90.0, 83.0, 249.0, 120.0, 139.0, 82.0, 159.0, 80.0, 188.0, 150.0, 84.0, 125.0, 200.0, 166.0, 110.0, 150.0, 50.0, 125.0, 125.0, 80.0, 75.0, 120.0, 79.0, 90.0, 150.0, 200.0, 200.0, 179.0, 229.0, 49.0, 95.0, 140.0, 100.0, 74.0, 80.0, 67.0, 150.0, 80.0, 95.0, 79.0, 110.0, 140.0, 60.0, 195.0, 25.0, 180.0, 180.0, 60.0, 100.0, 175.0, 106.0, 250.0, 69.0, 103.0, 150.0, 88.0, 135.0, 190.0, 150.0, 48.0, 50.0, 145.0, 150.0, 75.0, 185.0, 40.0, 171.0, 75.0, 145.0, 135.0, 50.0, 125.0, 25.0, 100.0, 130.0, 145.0, 45.0, 120.0, 79.0, 190.0, 100.0, 90.0, 100.0, 96.0, 90.0, 70.0, 110.0, 55.0, 180.0, 140.0, 95.0, 45.0, 210.0, 40.0, 100.0, 30.0, 200.0, 75.0, 35.0, 100.0, 175.0, 287.0, 55.0, 93.0, 150.0, 60.0, 195.0, 85.0, 60.0, 60.0, 210.0, 89.0, 53.0, 147.0, 165.0, 120.0, 94.0, 36.0, 53.0, 300.0, 77.0, 157.0, 79.0, 60.0, 60.0, 75.0, 235.0, 120.0, 120.0, 180.0, 180.0, 225.0, 139.0, 200.0, 150.0, 35.0, 143.0, 180.0, 50.0, 44.0, 116.0, 50.0, 132.0, 150.0, 139.0, 229.0, 120.0, 79.0, 243.0, 100.0, 110.0, 200.0, 200.0, 150.0, 140.0, 72.0, 130.0, 85.0, 79.0, 99.0, 70.0, 56.0, 90.0, 60.0, 65.0, 249.0, 85.0, 300.0, 95.0, 240.0, 180.0, 74.0, 89.0, 129.0, 153.0, 221.0, 139.0, 85.0, 107.0, 47.0, 108.0, 89.0, 65.0, 60.0, 80.0, 60.0, 45.0, 120.0, 300.0, 107.0, 65.0, 70.0, 132.0, 40.0, 150.0, 75.0, 100.0, 89.0, 50.0, 300.0, 50.0, 250.0, 70.0, 135.0, 125.0, 155.0, 91.0, 135.0, 125.0, 50.0, 140.0, 95.0, 70.0, 89.0, 125.0, 120.0, 141.0, 95.0, 80.0, 49.0, 185.0, 89.0, 100.0, 60.0, 132.0, 100.0, 175.0, 179.0, 95.0, 100.0, 175.0, 295.0, 35.0, 18.0, 123.0, 79.0, 107.0, 88.0, 75.0, 110.0, 187.0, 180.0, 70.0, 75.0, 150.0, 150.0, 250.0, 119.0, 81.0, 108.0, 150.0, 200.0, 47.0, 142.0, 150.0, 85.0, 169.0, 60.0, 117.0, 100.0, 180.0, 110.0, 46.0, 80.0, 199.0, 125.0, 53.0, 200.0, 145.0, 98.0, 71.0, 250.0, 230.0, 133.0, 60.0, 85.0, 126.0, 215.0, 254.0, 200.0, 40.0, 55.0, 99.0, 82.0, 185.0, 59.0, 39.0, 200.0, 140.0, 100.0, 134.0, 64.0, 76.0, 200.0, 115.0, 254.0, 96.0, 170.0, 40.0, 62.0, 65.0, 75.0, 90.0, 55.0, 100.0, 100.0, 68.0, 165.0, 190.0, 45.0, 164.0, 85.0, 200.0, 99.0, 106.0, 50.0, 80.0, 139.0, 125.0, 70.0, 180.0, 100.0, 100.0, 95.0, 150.0, 42.0, 94.0, 220.0, 188.0, 95.0, 85.0, 214.0, 206.0, 110.0, 149.0, 89.0, 200.0, 99.0, 80.0, 98.0, 65.0, 65.0, 105.0, 140.0, 156.0, 160.0, 120.0, 175.0, 250.0, 43.0, 100.0, 120.0, 45.0, 61.0, 78.0, 180.0, 75.0, 75.0, 86.0, 105.0, 136.0, 150.0, 65.0, 169.0, 150.0, 139.0, 250.0, 211.0, 60.0, 70.0, 250.0, 110.0, 200.0, 120.0, 155.0, 133.0, 214.0, 75.0, 205.0, 50.0, 137.0, 120.0, 65.0, 93.0, 55.0, 205.0, 130.0, 285.0, 100.0, 160.0, 285.0, 175.0, 175.0, 160.0, 219.0, 260.0, 85.0, 104.0, 79.0, 300.0, 65.0, 103.0, 127.0, 105.0, 150.0, 180.0, 190.0, 90.0, 51.0, 150.0, 150.0, 200.0, 250.0, 65.0, 110.0, 141.0, 90.0, 65.0, 128.0, 200.0, 120.0, 69.0, 120.0, 95.0, 156.0, 185.0, 80.0, 74.0, 75.0, 62.0, 70.0, 46.0, 125.0, 100.0, 70.0, 108.0, 115.0, 275.0, 75.0, 40.0, 299.0, 61.0, 57.0, 50.0, 78.0, 150.0, 90.0, 70.0, 42.0, 80.0, 49.0, 75.0, 300.0, 113.0, 150.0, 80.0, 70.0, 35.0, 49.0, 150.0, 80.0, 56.0, 70.0, 271.0, 70.0, 105.0, 270.0, 45.0, 143.0, 90.0, 75.0, 95.0, 150.0, 145.0, 62.0, 69.0, 175.0, 67.0, 159.0, 68.0, 125.0, 79.0, 169.0, 225.0, 100.0, 55.0, 55.0, 83.0, 80.0, 98.0, 280.0, 90.0, 175.0, 150.0, 250.0, 60.0, 200.0, 138.0, 40.0, 180.0, 63.0, 175.0, 275.0, 115.0, 175.0, 65.0, 75.0, 300.0, 225.0, 300.0, 175.0, 160.0, 70.0, 180.0, 299.0, 111.0, 95.0, 55.0, 250.0, 61.0, 70.0, 41.0, 180.0, 95.0, 175.0, 47.0, 132.0, 125.0, 50.0, 60.0, 166.0, 79.0, 215.0, 60.0, 60.0, 68.0, 149.0, 275.0, 110.0, 83.0, 154.0, 166.0, 229.0, 60.0, 60.0, 80.0, 47.0, 50.0, 188.0, 45.0, 75.0, 150.0, 50.0, 180.0, 299.0, 66.0, 100.0, 100.0, 98.0, 150.0, 300.0, 55.0, 200.0, 110.0, 80.0, 60.0, 55.0, 65.0, 201.0, 109.0, 290.0, 33.0, 60.0, 40.0, 129.0, 130.0, 165.0, 160.0, 195.0, 60.0, 31.0, 59.0, 175.0, 74.0, 164.0, 265.0, 43.0, 83.0, 80.0, 280.0, 95.0, 130.0, 130.0, 53.0, 45.0, 200.0, 265.0, 114.0, 90.0, 90.0, 65.0, 65.0, 45.0, 300.0, 189.0, 85.0, 49.0, 220.0, 137.0, 180.0, 90.0, 37.0, 45.0, 65.0, 45.0, 120.0, 110.0, 245.0, 118.0, 50.0, 70.0, 130.0, 90.0, 200.0, 49.0, 245.0, 275.0, 68.0, 240.0, 129.0, 185.0, 80.0, 80.0, 100.0, 225.0, 60.0, 166.0, 70.0, 63.0, 115.0, 65.0, 60.0, 150.0, 146.0, 39.0, 80.0, 76.0, 125.0, 125.0, 130.0, 300.0, 111.0, 68.0, 32.0, 52.0, 200.0, 135.0, 135.0, 99.0, 145.0, 75.0, 119.0, 212.0, 80.0, 55.0, 101.0, 125.0, 137.0, 195.0, 100.0, 55.0, 275.0, 110.0, 165.0, 80.0, 54.0, 85.0, 90.0, 67.0, 54.0, 75.0, 31.0, 75.0, 176.0, 200.0, 214.0, 65.0, 225.0, 75.0, 41.0, 40.0, 100.0, 70.0, 80.0, 125.0, 84.0, 60.0, 46.0, 125.0, 33.0, 70.0, 116.0, 55.0, 150.0, 190.0, 100.0, 75.0, 60.0, 115.0, 89.0, 58.0, 89.0, 45.0, 130.0, 90.0, 200.0, 65.0, 43.0, 55.0, 95.0, 101.0, 145.0, 95.0, 160.0, 90.0, 55.0, 66.0, 77.0, 220.0, 140.0, 200.0, 160.0, 75.0, 230.0, 55.0, 160.0, 46.0, 228.0, 100.0, 70.0, 85.0, 55.0, 49.0, 85.0, 175.0, 79.0, 185.0, 90.0, 200.0, 58.0, 70.0, 50.0, 85.0, 200.0, 250.0, 45.0, 109.0, 150.0, 200.0, 100.0, 28.0, 101.0, 35.0, 105.0, 95.0, 50.0, 150.0, 65.0, 55.0, 150.0, 121.0, 160.0, 95.0, 80.0, 40.0, 85.0, 84.0, 210.0, 200.0, 47.0, 50.0, 95.0, 280.0, 50.0, 224.0, 275.0, 120.0, 60.0, 100.0, 200.0, 150.0, 29.0, 70.0, 37.0, 200.0, 75.0, 60.0, 70.0, 110.0, 104.0, 95.0, 199.0, 125.0, 52.0, 189.0, 50.0, 120.0, 54.0, 120.0, 140.0, 99.0, 80.0, 35.0, 184.0, 35.0, 250.0, 70.0, 140.0, 171.0, 88.0, 100.0, 50.0, 195.0, 260.0, 75.0, 275.0, 34.0, 248.0, 100.0, 45.0, 146.0, 78.0, 189.0, 75.0, 250.0, 120.0, 70.0, 54.0, 140.0, 151.0, 65.0, 97.0, 26.0, 70.0, 65.0, 250.0, 133.0, 90.0, 100.0, 250.0, 120.0, 83.0, 300.0, 45.0, 65.0, 73.0, 86.0, 240.0, 50.0, 51.0, 200.0, 180.0, 61.0, 125.0, 70.0, 130.0, 121.0, 31.0, 45.0, 149.0, 85.0, 40.0, 75.0, 200.0, 91.0, 125.0, 59.0, 65.0, 90.0, 125.0, 100.0, 24.0, 139.0, 175.0, 56.0, 264.0, 180.0, 119.0, 144.0, 98.0, 130.0, 193.0, 125.0, 62.0, 90.0, 45.0, 75.0, 65.0, 56.0, 50.0, 86.0, 258.0, 75.0, 60.0, 95.0, 52.0, 124.0, 68.0, 89.0, 100.0, 139.0, 200.0, 300.0, 49.0, 120.0, 115.0, 50.0, 112.0, 225.0, 76.0, 30.0, 30.0, 65.0, 60.0, 136.0, 75.0, 140.0, 100.0, 100.0, 110.0, 150.0, 34.0, 40.0, 34.0, 34.0, 69.0, 34.0, 34.0, 69.0, 70.0, 85.0, 150.0, 119.0, 77.0, 200.0, 60.0, 70.0, 175.0, 230.0, 113.0, 49.0, 100.0, 140.0, 65.0, 45.0, 38.0, 65.0, 112.0, 119.0, 165.0, 185.0, 40.0, 100.0, 200.0, 130.0, 80.0, 135.0, 61.0, 125.0, 45.0, 85.0, 80.0, 195.0, 68.0, 45.0, 200.0, 30.0, 85.0, 125.0, 70.0, 50.0, 114.0, 199.0, 40.0, 54.0, 85.0, 160.0, 69.0, 46.0, 120.0, 150.0, 129.0, 85.0, 100.0, 46.0, 69.0, 123.0, 250.0, 80.0, 300.0, 197.0, 60.0, 165.0, 19.0, 130.0, 39.0, 250.0, 130.0, 28.0, 102.0, 39.0, 225.0, 47.0, 120.0, 275.0, 290.0, 75.0, 120.0, 150.0, 80.0, 70.0, 130.0, 50.0, 125.0, 150.0, 290.0, 210.0, 129.0, 64.0, 100.0, 60.0, 120.0, 45.0, 53.0, 200.0, 139.0, 101.0, 70.0, 90.0, 71.0, 94.0, 250.0, 60.0, 200.0, 42.0, 65.0, 72.0, 200.0, 103.0, 80.0, 80.0, 60.0, 179.0, 51.0, 50.0, 275.0, 150.0, 300.0, 47.0, 200.0, 200.0, 270.0, 30.0, 55.0, 30.0, 101.0, 85.0, 88.0, 45.0, 69.0, 275.0, 179.0, 104.0, 49.0, 167.0, 200.0, 50.0, 59.0, 40.0, 60.0, 59.0, 275.0, 100.0, 150.0, 66.0, 180.0, 149.0, 89.0, 85.0, 75.0, 94.0, 80.0, 70.0, 40.0, 149.0, 55.0, 109.0, 120.0, 140.0, 160.0, 135.0, 207.0, 50.0, 232.0, 30.0, 45.0, 95.0, 120.0, 132.0, 160.0, 180.0, 185.0, 70.0, 100.0, 196.0, 152.0, 69.0, 100.0, 200.0, 200.0, 200.0, 200.0, 245.0, 79.0, 175.0, 45.0, 180.0, 139.0, 50.0, 70.0, 55.0, 99.0, 120.0, 178.0, 55.0, 124.0, 55.0, 180.0, 300.0, 200.0, 180.0, 68.0, 65.0, 60.0, 45.0, 50.0, 74.0, 50.0, 60.0, 150.0, 55.0, 152.0, 120.0, 35.0, 102.0, 85.0, 125.0, 69.0, 70.0, 40.0, 48.0, 70.0, 40.0, 175.0, 80.0, 200.0, 250.0, 70.0, 55.0, 50.0, 80.0, 150.0, 210.0, 175.0, 76.0, 83.0, 30.0, 50.0, 107.0, 79.0, 150.0, 285.0, 89.0, 50.0, 140.0, 59.0, 175.0, 91.0, 25.0, 75.0, 239.0, 68.0, 159.0, 175.0, 50.0, 85.0, 75.0, 139.0, 175.0, 104.0, 49.0, 50.0, 120.0, 50.0, 50.0, 50.0, 199.0, 50.0, 49.0, 38.0, 40.0, 90.0, 49.0, 90.0, 100.0, 150.0, 130.0, 97.0, 250.0, 150.0, 50.0, 200.0, 139.0, 80.0, 250.0, 140.0, 95.0, 55.0, 250.0, 80.0, 115.0, 90.0, 150.0, 75.0, 120.0, 36.0, 80.0, 50.0, 100.0, 100.0, 139.0, 199.0, 55.0, 60.0, 60.0, 99.0, 55.0, 195.0, 150.0, 120.0, 59.0, 42.0, 100.0, 150.0, 90.0, 65.0, 70.0, 199.0, 125.0, 140.0, 54.0, 89.0, 70.0, 154.0, 220.0, 45.0, 59.0, 95.0, 138.0, 112.0, 105.0, 93.0, 40.0, 70.0, 85.0, 148.0, 75.0, 55.0, 105.0, 150.0, 95.0, 200.0, 120.0, 100.0, 69.0, 83.0, 87.0, 50.0, 70.0, 54.0, 80.0, 80.0, 60.0, 217.0, 155.0, 56.0, 95.0, 99.0, 100.0, 75.0, 99.0, 130.0, 96.0, 99.0, 55.0, 100.0, 28.0, 89.0, 78.0, 148.0, 125.0, 155.0, 61.0, 100.0, 40.0, 196.0, 101.0, 43.0, 160.0, 94.0, 250.0, 129.0, 90.0, 97.0, 75.0, 146.0, 70.0, 115.0, 40.0, 200.0, 105.0, 40.0, 152.0, 58.0, 35.0, 85.0, 150.0, 175.0, 114.0, 190.0, 42.0, 150.0, 75.0, 170.0, 120.0, 190.0, 192.0, 67.0, 188.0, 80.0, 50.0, 85.0, 153.0, 79.0, 80.0, 169.0, 100.0, 65.0, 150.0, 72.0, 47.0, 181.0, 90.0, 65.0, 170.0, 50.0, 195.0, 175.0, 140.0, 90.0, 80.0, 90.0, 117.0, 43.0, 166.0, 185.0, 35.0, 39.0, 190.0, 249.0, 159.0, 125.0, 37.0, 42.0, 114.0, 179.0, 90.0, 130.0, 140.0, 179.0, 168.0, 128.0, 64.0, 35.0, 60.0, 200.0, 199.0, 175.0, 95.0, 125.0, 45.0, 119.0, 65.0, 125.0, 41.0, 200.0, 85.0, 39.0, 75.0, 150.0, 245.0, 140.0, 118.0, 58.0, 100.0, 119.0, 102.0, 190.0, 111.0, 90.0, 61.0, 65.0, 55.0, 55.0, 225.0, 99.0, 61.0, 166.0, 100.0, 145.0, 45.0, 40.0, 65.0, 80.0, 139.0, 30.0, 125.0, 195.0, 43.0, 86.0, 75.0, 35.0, 100.0, 50.0, 118.0, 55.0, 81.0, 185.0, 186.0, 125.0, 102.0, 200.0, 95.0, 40.0, 85.0, 40.0, 250.0, 149.0, 69.0, 150.0, 69.0, 220.0, 236.0, 55.0, 95.0, 38.0, 41.0, 165.0, 179.0, 209.0, 149.0, 185.0, 150.0, 69.0, 99.0, 85.0, 189.0, 100.0, 80.0, 55.0, 75.0, 125.0, 150.0, 69.0, 69.0, 69.0, 71.0, 108.0, 41.0, 99.0, 38.0, 60.0, 150.0, 52.0, 210.0, 105.0, 67.0, 80.0, 225.0, 120.0, 172.0, 160.0, 60.0, 90.0, 230.0, 248.0, 125.0, 46.0, 110.0, 70.0, 150.0, 59.0, 253.0, 195.0, 166.0, 42.0, 99.0, 93.0, 100.0, 70.0, 50.0, 99.0, 150.0, 80.0, 55.0, 50.0, 225.0, 54.0, 60.0, 72.0, 135.0, 64.0, 65.0, 115.0, 40.0, 85.0, 154.0, 125.0, 80.0, 71.0, 105.0, 100.0, 70.0, 61.0, 35.0, 70.0, 195.0, 175.0, 50.0, 95.0, 189.0, 70.0, 99.0, 55.0, 110.0, 31.0, 100.0, 199.0, 145.0, 99.0, 25.0, 40.0, 235.0, 61.0, 72.0, 175.0, 135.0, 165.0, 295.0, 230.0, 70.0, 54.0, 199.0, 97.0, 55.0, 120.0, 250.0, 200.0, 199.0, 240.0, 75.0, 150.0, 64.0, 60.0, 295.0, 125.0, 49.0, 249.0, 180.0, 80.0, 150.0, 79.0, 139.0, 49.0, 125.0, 60.0, 60.0, 60.0, 161.0, 60.0, 105.0, 35.0, 261.0, 108.0, 49.0, 71.0, 150.0, 65.0, 71.0, 60.0, 75.0, 157.0, 35.0, 109.0, 55.0, 66.0, 65.0, 120.0, 200.0, 281.0, 56.0, 104.0, 48.0, 86.0, 96.0, 62.0, 81.0, 87.0, 40.0, 120.0, 180.0, 105.0, 45.0, 80.0, 122.0, 125.0, 110.0, 110.0, 37.0, 250.0, 49.0, 95.0, 160.0, 49.0, 120.0, 50.0, 80.0, 80.0, 40.0, 125.0, 179.0, 150.0, 70.0, 135.0, 83.0, 130.0, 35.0, 58.0, 55.0, 45.0, 200.0, 80.0, 35.0, 30.0, 135.0, 200.0, 62.0, 100.0, 22.0, 50.0, 80.0, 75.0, 60.0, 75.0, 66.0, 91.0, 74.0, 250.0, 120.0, 144.0, 104.0, 68.0, 100.0, 175.0, 47.0, 90.0, 60.0, 250.0, 65.0, 75.0, 50.0, 100.0, 60.0, 175.0, 115.0, 90.0, 70.0, 58.0, 160.0, 68.0, 80.0, 80.0, 45.0, 41.0, 47.0, 229.0, 157.0, 114.0, 139.0, 264.0, 59.0, 50.0, 75.0, 35.0, 70.0, 75.0, 87.0, 65.0, 50.0, 40.0, 75.0, 65.0, 130.0, 46.0, 49.0, 45.0, 48.0, 180.0, 275.0, 125.0, 46.0, 65.0, 63.0, 60.0, 115.0, 49.0, 135.0, 95.0, 196.0, 80.0, 82.0, 136.0, 68.0, 65.0, 100.0, 65.0, 69.0, 69.0, 69.0, 50.0, 91.0, 70.0, 182.0, 39.0, 34.0, 125.0, 145.0, 164.0, 100.0, 48.0, 168.0, 72.0, 300.0, 263.0, 100.0, 55.0, 112.0, 150.0, 45.0, 75.0, 129.0, 75.0, 165.0, 132.0, 165.0, 63.0, 124.0, 120.0, 125.0, 36.0, 30.0, 50.0, 39.0, 70.0, 150.0, 100.0, 100.0, 180.0, 45.0, 125.0, 45.0, 40.0, 81.0, 85.0, 127.0, 114.0, 66.0, 110.0, 105.0, 35.0, 100.0, 60.0, 140.0, 225.0, 105.0, 130.0, 49.0, 115.0, 57.0, 106.0, 58.0, 219.0, 45.0, 99.0, 275.0, 130.0, 100.0, 135.0, 150.0, 60.0, 250.0, 90.0, 70.0, 89.0, 99.0, 200.0, 70.0, 80.0, 80.0, 115.0, 75.0, 132.0, 50.0, 199.0, 99.0, 56.0, 100.0, 130.0, 55.0, 200.0, 110.0, 92.0, 45.0, 150.0, 63.0, 75.0, 89.0, 124.0, 60.0, 70.0, 90.0, 100.0, 45.0, 60.0, 75.0, 150.0, 65.0, 120.0, 65.0, 95.0, 140.0, 120.0, 150.0, 40.0, 225.0, 150.0, 40.0, 110.0, 200.0, 175.0, 55.0, 110.0, 65.0, 80.0, 35.0, 110.0, 46.0, 175.0, 60.0, 50.0, 90.0, 49.0, 89.0, 40.0, 85.0, 64.0, 130.0, 45.0, 300.0, 150.0, 120.0, 70.0, 80.0, 90.0, 43.0, 75.0, 100.0, 200.0, 95.0, 134.0, 95.0, 65.0, 82.0, 175.0, 45.0, 175.0, 75.0, 75.0, 21.0, 250.0, 149.0, 33.0, 64.0, 99.0, 150.0, 45.0, 130.0, 120.0, 37.0, 100.0, 250.0, 50.0, 149.0, 120.0, 75.0, 60.0, 120.0, 100.0, 75.0, 99.0, 165.0, 110.0, 33.0, 155.0, 45.0, 86.0, 150.0, 114.0, 159.0, 150.0, 20.0, 36.0, 60.0, 64.0, 90.0, 68.0, 30.0, 40.0, 80.0, 132.0, 40.0, 275.0, 40.0, 122.0, 55.0, 225.0, 164.0, 116.0, 199.0, 140.0, 60.0, 150.0, 120.0, 136.0, 89.0, 300.0, 105.0, 250.0, 149.0, 40.0, 120.0, 34.0, 54.0, 89.0, 250.0, 70.0, 150.0, 52.0, 70.0, 135.0, 257.0, 150.0, 150.0, 57.0, 34.0, 175.0, 88.0, 40.0, 87.0, 75.0, 55.0, 40.0, 55.0, 140.0, 65.0, 250.0, 120.0, 90.0, 160.0, 126.0, 99.0, 65.0, 35.0, 39.0, 164.0, 86.0, 76.0, 125.0, 110.0, 175.0, 90.0, 61.0, 39.0, 33.0, 64.0, 54.0, 90.0, 125.0, 125.0, 60.0, 90.0, 175.0, 85.0, 105.0, 95.0, 66.0, 66.0, 100.0, 150.0, 50.0, 100.0, 60.0, 250.0, 115.0, 300.0, 145.0, 150.0, 50.0, 56.0, 196.0, 59.0, 150.0, 39.0, 27.0, 126.0, 110.0, 100.0, 150.0, 57.0, 200.0, 148.0, 48.0, 75.0, 53.0, 50.0, 61.0, 120.0, 200.0, 49.0, 45.0, 70.0, 183.0, 60.0, 98.0, 121.0, 85.0, 120.0, 110.0, 250.0, 50.0, 71.0, 115.0, 70.0, 93.0, 109.0, 91.0, 78.0, 50.0, 200.0, 118.0, 35.0, 200.0, 180.0, 86.0, 75.0, 100.0, 300.0, 150.0, 132.0, 100.0, 163.0, 40.0, 84.0, 69.0, 125.0, 113.0, 38.0, 150.0, 154.0, 67.0, 116.0, 109.0, 75.0, 39.0, 145.0, 125.0, 45.0, 100.0, 80.0, 85.0, 50.0, 75.0, 199.0, 32.0, 90.0, 150.0, 33.0, 115.0, 50.0, 70.0, 36.0, 55.0, 129.0, 65.0, 120.0, 120.0, 70.0, 98.0, 85.0, 160.0, 50.0, 140.0, 125.0, 53.0, 66.0, 30.0, 100.0, 36.0, 150.0, 90.0, 76.0, 170.0, 66.0, 69.0, 168.0, 195.0, 250.0, 55.0, 76.0, 90.0, 75.0, 28.0, 155.0, 48.0, 70.0, 145.0, 145.0, 125.0, 275.0, 44.0, 250.0, 60.0, 100.0, 115.0, 56.0, 30.0, 55.0, 47.0, 45.0, 99.0, 75.0, 50.0, 160.0, 60.0, 65.0, 39.0, 156.0, 79.0, 36.0, 40.0, 46.0, 38.0, 80.0, 75.0, 85.0, 69.0, 175.0, 104.0, 200.0, 95.0, 68.0, 58.0, 199.0, 41.0, 200.0, 85.0, 160.0, 75.0, 74.0, 75.0, 45.0, 99.0, 40.0, 79.0, 70.0, 75.0, 60.0, 114.0, 190.0, 220.0, 150.0, 31.0, 110.0, 120.0, 200.0, 70.0, 199.0, 110.0, 70.0, 65.0, 60.0, 70.0, 150.0, 55.0, 235.0, 90.0, 118.0, 45.0, 75.0, 175.0, 107.0, 175.0, 80.0, 45.0, 220.0, 128.0, 113.0, 125.0, 32.0, 189.0, 100.0, 145.0, 55.0, 49.0, 78.0, 50.0, 100.0, 60.0, 100.0, 63.0, 120.0, 221.0, 250.0, 56.0, 130.0, 140.0, 75.0, 150.0, 55.0, 75.0, 200.0, 100.0, 129.0, 85.0, 125.0, 90.0, 168.0, 63.0, 70.0, 89.0, 140.0, 160.0, 100.0, 111.0, 100.0, 299.0, 250.0, 76.0, 35.0, 75.0, 60.0, 108.0, 120.0, 100.0, 250.0, 179.0, 88.0, 120.0, 170.0, 100.0, 286.0, 135.0, 125.0, 60.0, 129.0, 45.0, 130.0, 38.0, 60.0, 185.0, 75.0, 113.0, 130.0, 70.0, 200.0, 100.0, 139.0, 150.0, 80.0, 133.0, 120.0, 100.0, 70.0, 193.0, 91.0, 75.0, 200.0, 177.0, 209.0, 85.0, 65.0, 65.0, 120.0, 60.0, 55.0, 130.0, 75.0, 62.0, 200.0, 158.0, 35.0, 71.0, 138.0, 100.0, 120.0, 225.0, 100.0, 140.0, 40.0, 200.0, 100.0, 75.0, 90.0, 50.0, 200.0, 101.0, 93.0, 140.0, 50.0, 125.0, 109.0, 60.0, 148.0, 89.0, 53.0, 40.0, 99.0, 60.0, 110.0, 299.0, 70.0, 115.0, 295.0, 65.0, 87.0, 199.0, 95.0, 90.0, 220.0, 85.0, 79.0, 100.0, 150.0, 65.0, 49.0, 80.0, 59.0, 100.0, 79.0, 200.0, 45.0, 50.0, 75.0, 229.0, 174.0, 63.0, 185.0, 82.0, 175.0, 75.0, 62.0, 108.0, 69.0, 38.0, 100.0, 180.0, 65.0, 100.0, 26.0, 100.0, 67.0, 39.0, 69.0, 189.0, 92.0, 200.0, 165.0, 128.0, 199.0, 150.0, 159.0, 125.0, 75.0, 99.0, 155.0, 190.0, 60.0, 89.0, 171.0, 206.0, 50.0, 119.0, 49.0, 42.0, 200.0, 105.0, 211.0, 99.0, 30.0, 150.0, 50.0, 200.0, 30.0, 89.0, 128.0, 120.0, 120.0, 100.0, 38.0, 35.0, 120.0, 117.0, 70.0, 180.0, 80.0, 140.0, 35.0, 125.0, 120.0, 46.0, 50.0, 100.0, 95.0, 110.0, 200.0, 109.0, 99.0, 99.0, 63.0, 45.0, 115.0, 190.0, 100.0, 95.0, 150.0, 55.0, 60.0, 142.0, 69.0, 150.0, 133.0, 68.0, 75.0, 150.0, 124.0, 150.0, 122.0, 96.0, 220.0, 165.0, 95.0, 90.0, 99.0, 195.0, 50.0, 74.0, 100.0, 175.0, 33.0, 66.0, 100.0, 105.0, 55.0, 157.0, 110.0, 70.0, 90.0, 152.0, 250.0, 98.0, 199.0, 50.0, 114.0, 101.0, 120.0, 65.0, 159.0, 54.0, 54.0, 54.0, 200.0, 250.0, 120.0, 70.0, 65.0, 150.0, 110.0, 155.0, 91.0, 99.0, 81.0, 70.0, 65.0, 100.0, 130.0, 142.0, 29.0, 204.0, 100.0, 60.0, 133.0, 118.0, 89.0, 175.0, 200.0, 116.0, 40.0, 100.0, 100.0, 115.0, 150.0, 70.0, 74.0, 175.0, 75.0, 69.0, 50.0, 85.0, 113.0, 78.0, 150.0, 30.0, 133.0, 80.0, 80.0, 179.0, 110.0, 159.0, 140.0, 133.0, 69.0, 75.0, 195.0, 119.0, 25.0, 45.0, 90.0, 245.0, 150.0, 104.0, 50.0, 92.0, 102.0, 100.0, 179.0, 88.0, 95.0, 60.0, 200.0, 290.0, 65.0, 70.0, 65.0, 135.0, 51.0, 160.0, 60.0, 95.0, 140.0, 166.0, 99.0, 35.0, 170.0, 65.0, 60.0, 85.0, 90.0, 60.0, 148.0, 140.0, 250.0, 92.0, 69.0, 180.0, 34.0, 85.0, 55.0, 125.0, 242.0, 190.0, 68.0, 145.0, 75.0, 75.0, 246.0, 70.0, 40.0, 110.0, 79.0, 78.0, 45.0, 85.0, 138.0, 160.0, 114.0, 125.0, 69.0, 59.0, 75.0, 80.0, 225.0, 41.0, 88.0, 50.0, 41.0, 150.0, 49.0, 100.0, 169.0, 169.0, 170.0, 169.0, 80.0, 80.0, 240.0, 40.0, 200.0, 165.0, 76.0, 110.0, 207.0, 46.0, 110.0, 100.0, 93.0, 180.0, 70.0, 31.0, 50.0, 250.0, 103.0, 42.0, 223.0, 71.0, 97.0, 75.0, 65.0, 50.0, 70.0, 73.0, 249.0, 77.0, 150.0, 90.0, 150.0, 130.0, 92.0, 155.0, 75.0, 120.0, 68.0, 50.0, 175.0, 223.0, 45.0, 175.0, 84.0, 111.0, 99.0, 113.0, 50.0, 136.0, 40.0, 166.0, 37.0, 100.0, 103.0, 53.0, 200.0, 115.0, 140.0, 239.0, 56.0, 169.0, 45.0, 60.0, 170.0, 210.0, 67.0, 43.0, 169.0, 175.0, 65.0, 79.0, 75.0, 90.0, 50.0, 165.0, 75.0, 198.0, 70.0, 65.0, 40.0, 99.0, 56.0, 52.0, 80.0, 55.0, 78.0, 89.0, 75.0, 75.0, 300.0, 125.0, 98.0, 99.0, 59.0, 225.0, 63.0, 300.0, 188.0, 55.0, 60.0, 55.0, 175.0, 43.0, 100.0, 89.0, 40.0, 55.0, 175.0, 45.0, 144.0, 40.0, 250.0, 45.0, 80.0, 159.0, 88.0, 125.0, 185.0, 150.0, 85.0, 145.0, 181.0, 95.0, 65.0, 46.0, 150.0, 200.0, 95.0, 100.0, 85.0, 115.0, 95.0, 84.0, 75.0, 95.0, 50.0, 115.0, 72.0, 98.0, 95.0, 59.0, 45.0, 57.0, 120.0, 68.0, 49.0, 96.0, 250.0, 229.0, 67.0, 85.0, 100.0, 75.0, 200.0, 210.0, 80.0, 167.0, 99.0, 150.0, 200.0, 87.0, 105.0, 150.0, 91.0, 68.0, 110.0, 140.0, 40.0, 175.0, 50.0, 22.0, 55.0, 85.0, 100.0, 45.0, 50.0, 150.0, 68.0, 79.0, 35.0, 30.0, 70.0, 120.0, 50.0, 90.0, 78.0, 52.0, 65.0, 117.0, 100.0, 128.0, 62.0, 50.0, 243.0, 117.0, 98.0, 26.0, 81.0, 160.0, 131.0, 168.0, 161.0, 140.0, 60.0, 35.0, 50.0, 57.0, 65.0, 242.0, 140.0, 200.0, 300.0, 150.0, 99.0, 198.0, 80.0, 100.0, 76.0, 45.0, 165.0, 85.0, 42.0, 194.0, 95.0, 70.0, 200.0, 28.0, 215.0, 55.0, 105.0, 249.0, 55.0, 139.0, 90.0, 73.0, 105.0, 70.0, 120.0, 100.0, 75.0, 45.0, 50.0, 132.0, 40.0, 60.0, 76.0, 80.0, 200.0, 120.0, 140.0, 262.0, 189.0, 300.0, 140.0, 65.0, 200.0, 60.0, 93.0, 145.0, 200.0, 45.0, 55.0, 80.0, 70.0, 220.0, 235.0, 125.0, 66.0, 80.0, 40.0, 45.0, 34.0, 89.0, 49.0, 200.0, 115.0, 60.0, 70.0, 80.0, 59.0, 65.0, 50.0, 120.0, 125.0, 125.0, 59.0, 197.0, 250.0, 150.0, 73.0, 66.0, 75.0, 50.0, 175.0, 105.0, 80.0, 120.0, 91.0, 100.0, 75.0, 96.0, 100.0, 290.0, 48.0, 150.0, 85.0, 73.0, 150.0, 95.0, 25.0, 154.0, 120.0, 150.0, 60.0, 220.0, 58.0, 150.0, 45.0, 70.0, 85.0, 87.0, 55.0, 175.0, 56.0, 50.0, 187.0, 186.0, 105.0, 155.0, 100.0, 125.0, 175.0, 80.0, 100.0, 80.0, 150.0, 120.0, 285.0, 70.0, 150.0, 65.0, 200.0, 150.0, 80.0, 159.0, 38.0, 180.0, 189.0, 52.0, 130.0, 50.0, 65.0, 60.0, 100.0, 60.0, 120.0, 40.0, 105.0, 90.0, 113.0, 110.0, 175.0, 190.0, 40.0, 111.0, 75.0, 60.0, 65.0, 45.0, 200.0, 60.0, 199.0, 69.0, 59.0, 73.0, 45.0, 100.0, 105.0, 139.0, 100.0, 215.0, 48.0, 67.0, 150.0, 35.0, 53.0, 80.0, 46.0, 70.0, 41.0, 98.0, 80.0, 99.0, 200.0, 100.0, 50.0, 210.0, 218.0, 48.0, 60.0, 218.0, 160.0, 225.0, 50.0, 65.0, 283.0, 99.0, 106.0, 55.0, 235.0, 300.0, 68.0, 49.0, 85.0, 95.0, 85.0, 60.0, 60.0, 49.0, 218.0, 55.0, 125.0, 150.0, 90.0, 40.0, 75.0, 108.0, 40.0, 25.0, 65.0, 125.0, 50.0, 70.0, 110.0, 175.0, 75.0, 95.0, 200.0, 175.0, 40.0, 195.0, 30.0, 45.0, 100.0, 65.0, 75.0, 130.0, 130.0, 300.0, 45.0, 55.0, 80.0, 45.0, 79.0, 75.0, 100.0, 142.0, 115.0, 110.0, 50.0, 69.0, 150.0, 60.0, 215.0, 100.0, 224.0, 59.0, 55.0, 139.0, 60.0, 121.0, 105.0, 69.0, 70.0, 55.0, 50.0, 50.0, 55.0, 110.0, 37.0, 250.0, 38.0, 107.0, 125.0, 175.0, 83.0, 65.0, 35.0, 59.0, 35.0, 250.0, 86.0, 55.0, 65.0, 50.0, 65.0, 140.0, 45.0, 90.0, 160.0, 139.0, 180.0, 150.0, 39.0, 50.0, 60.0, 117.0, 45.0, 38.0, 100.0, 85.0, 50.0, 135.0, 60.0, 60.0, 70.0, 63.0, 99.0, 80.0, 250.0, 50.0, 229.0, 31.0, 42.0, 42.0, 239.0, 83.0, 34.0, 35.0, 85.0, 60.0, 110.0, 140.0, 120.0, 70.0, 50.0, 100.0, 76.0, 60.0, 99.0, 40.0, 180.0, 90.0, 80.0, 49.0, 80.0, 55.0, 114.0, 40.0, 42.0, 120.0, 86.0, 43.0, 140.0, 75.0, 85.0, 100.0, 175.0, 150.0, 35.0, 55.0, 104.0, 86.0, 195.0, 130.0, 129.0, 100.0, 232.0, 60.0, 182.0, 65.0, 162.0, 96.0, 135.0, 99.0, 125.0, 59.0, 80.0, 45.0, 195.0, 83.0, 99.0, 69.0, 100.0, 79.0, 110.0, 145.0, 104.0, 195.0, 55.0, 200.0, 57.0, 90.0, 93.0, 85.0, 160.0, 100.0, 150.0, 199.0, 55.0, 70.0, 118.0, 104.0, 90.0, 129.0, 95.0, 99.0, 220.0, 94.0, 42.0, 40.0, 225.0, 200.0, 90.0, 48.0, 49.0, 225.0, 250.0, 80.0, 44.0, 150.0, 42.0, 154.0, 155.0, 150.0, 125.0, 60.0, 95.0, 250.0, 63.0, 186.0, 58.0, 35.0, 150.0, 163.0, 65.0, 120.0, 78.0, 80.0, 89.0, 40.0, 30.0, 250.0, 180.0, 115.0, 145.0, 33.0, 95.0, 175.0, 70.0, 49.0, 300.0, 200.0, 170.0, 26.0, 126.0, 93.0, 76.0, 250.0, 200.0, 150.0, 75.0, 300.0, 50.0, 85.0, 300.0, 50.0, 50.0, 110.0, 205.0, 190.0, 35.0, 40.0, 299.0, 90.0, 135.0, 29.0, 80.0, 119.0, 67.0, 46.0, 123.0, 179.0, 90.0, 140.0, 59.0, 202.0, 165.0, 230.0, 75.0, 135.0, 65.0, 95.0, 45.0, 178.0, 160.0, 180.0, 50.0, 180.0, 48.0, 79.0, 129.0, 225.0, 50.0, 89.0, 179.0, 75.0, 30.0, 75.0, 75.0, 35.0, 45.0, 34.0, 100.0, 150.0, 75.0, 60.0, 34.0, 125.0, 100.0, 103.0, 35.0, 165.0, 39.0, 75.0, 98.0, 70.0, 32.0, 71.0, 229.0, 220.0, 225.0, 75.0, 110.0, 59.0, 59.0, 61.0, 55.0, 81.0, 41.0, 79.0, 95.0, 160.0, 111.0, 60.0, 50.0, 30.0, 138.0, 300.0, 40.0, 65.0, 50.0, 45.0, 175.0, 110.0, 45.0, 42.0, 100.0, 47.0, 124.0, 295.0, 135.0, 100.0, 35.0, 120.0, 125.0, 39.0, 45.0, 220.0, 182.0, 101.0, 70.0, 70.0, 74.0, 290.0, 100.0, 170.0, 65.0, 68.0, 104.0, 65.0, 85.0, 225.0, 120.0, 150.0, 120.0, 140.0, 202.0, 150.0, 100.0, 275.0, 45.0, 72.0, 195.0, 87.0, 120.0, 248.0, 160.0, 50.0, 75.0, 225.0, 125.0, 193.0, 190.0, 49.0, 300.0, 48.0, 85.0, 75.0, 40.0, 100.0, 178.0, 170.0, 56.0, 180.0, 80.0, 250.0, 60.0, 120.0, 90.0, 103.0, 65.0, 160.0, 55.0, 95.0, 132.0, 30.0, 295.0, 75.0, 28.0, 69.0, 75.0, 50.0, 90.0, 52.0, 100.0, 100.0, 62.0, 67.0, 60.0, 75.0, 180.0, 55.0, 110.0, 69.0, 100.0, 40.0, 110.0, 110.0, 125.0, 165.0, 62.0, 146.0, 190.0, 141.0, 259.0, 98.0, 140.0, 40.0, 52.0, 70.0, 69.0, 100.0, 52.0, 51.0, 100.0, 55.0, 199.0, 99.0, 59.0, 95.0, 135.0, 164.0, 149.0, 51.0, 239.0, 125.0, 90.0, 40.0, 110.0, 40.0, 92.0, 194.0, 159.0, 99.0, 40.0, 110.0, 53.0, 87.0, 147.0, 106.0, 100.0, 120.0, 110.0, 99.0, 119.0, 128.0, 30.0, 69.0, 50.0, 35.0, 175.0, 43.0, 236.0, 190.0, 294.0, 85.0, 250.0, 259.0, 34.0, 175.0, 53.0, 206.0, 40.0, 140.0, 105.0, 50.0, 110.0, 65.0, 115.0, 80.0, 80.0, 60.0, 219.0, 150.0, 150.0, 250.0, 100.0, 100.0, 63.0, 189.0, 90.0, 75.0, 70.0, 50.0, 200.0, 70.0, 75.0, 79.0, 115.0, 67.0, 71.0, 63.0, 19.0, 145.0, 50.0, 120.0, 149.0, 75.0, 50.0, 45.0, 175.0, 200.0, 200.0, 100.0, 39.0, 135.0, 100.0, 202.0, 60.0, 99.0, 54.0, 70.0, 90.0, 200.0, 99.0, 75.0, 135.0, 175.0, 120.0, 40.0, 175.0, 269.0, 40.0, 83.0, 200.0, 125.0, 65.0, 85.0, 300.0, 80.0, 80.0, 200.0, 122.0, 75.0, 70.0, 300.0, 38.0, 150.0, 60.0, 150.0, 65.0, 70.0, 50.0, 117.0, 101.0, 182.0, 125.0, 35.0, 88.0, 99.0, 165.0, 48.0, 259.0, 50.0, 95.0, 143.0, 65.0, 50.0, 68.0, 36.0, 100.0, 40.0, 165.0, 295.0, 219.0, 153.0, 100.0, 91.0, 150.0, 50.0, 299.0, 75.0, 60.0, 131.0, 87.0, 250.0, 250.0, 150.0, 150.0, 130.0, 85.0, 42.0, 63.0, 105.0, 48.0, 275.0, 90.0, 220.0, 45.0, 53.0, 99.0, 72.0, 95.0, 75.0, 115.0, 110.0, 82.0, 36.0, 80.0, 50.0, 40.0, 80.0, 75.0, 140.0, 210.0, 67.0, 60.0, 150.0, 99.0, 52.0, 171.0, 33.0, 90.0, 99.0, 170.0, 80.0, 45.0, 60.0, 160.0, 85.0, 79.0, 143.0, 40.0, 249.0, 70.0, 39.0, 124.0, 88.0, 39.0, 155.0, 100.0, 65.0, 100.0, 52.0, 89.0, 50.0, 100.0, 75.0, 42.0, 180.0, 98.0, 135.0, 45.0, 145.0, 68.0, 95.0, 150.0, 83.0, 48.0, 55.0, 95.0, 70.0, 60.0, 35.0, 100.0, 50.0, 117.0, 36.0, 126.0, 82.0, 113.0, 113.0, 45.0, 125.0, 113.0, 50.0, 100.0, 250.0, 149.0, 50.0, 95.0, 100.0, 150.0, 79.0, 110.0, 75.0, 30.0, 100.0, 150.0, 85.0, 60.0, 200.0, 56.0, 80.0, 250.0, 182.0, 80.0, 250.0, 109.0, 68.0, 57.0, 78.0, 200.0, 80.0, 200.0, 96.0, 65.0, 90.0, 39.0, 91.0, 150.0, 150.0, 50.0, 195.0, 80.0, 230.0, 300.0, 225.0, 80.0, 75.0, 79.0, 160.0, 110.0, 38.0, 70.0, 108.0, 180.0, 125.0, 120.0, 50.0, 140.0, 70.0, 159.0, 100.0, 95.0, 65.0, 199.0, 75.0, 35.0, 29.0, 150.0, 40.0, 250.0, 28.0, 50.0, 90.0, 79.0, 45.0, 200.0, 163.0, 40.0, 79.0, 143.0, 128.0, 245.0, 75.0, 150.0, 200.0, 200.0, 75.0, 185.0, 25.0, 100.0, 85.0, 205.0, 70.0, 100.0, 200.0, 110.0, 95.0, 199.0, 55.0, 200.0, 140.0, 70.0, 225.0, 34.0, 240.0, 150.0, 75.0, 55.0, 85.0, 171.0, 300.0, 95.0, 250.0, 160.0, 65.0, 89.0, 85.0, 120.0, 60.0, 120.0, 100.0, 60.0, 55.0, 46.0, 118.0, 95.0, 47.0, 42.0, 120.0, 150.0, 74.0, 199.0, 129.0, 236.0, 80.0, 77.0, 69.0, 90.0, 150.0, 238.0, 95.0, 65.0, 29.0, 100.0, 150.0, 85.0, 46.0, 90.0, 65.0, 90.0, 199.0, 143.0, 50.0, 105.0, 130.0, 110.0, 79.0, 300.0, 129.0, 35.0, 63.0, 90.0, 90.0, 41.0, 250.0, 75.0, 200.0, 115.0, 70.0, 100.0, 289.0, 100.0, 185.0, 194.0, 150.0, 136.0, 62.0, 75.0, 38.0, 64.0, 140.0, 175.0, 75.0, 70.0, 143.0, 150.0, 95.0, 99.0, 80.0, 154.0, 175.0, 175.0, 35.0, 99.0, 35.0, 179.0, 45.0, 85.0, 65.0, 120.0, 60.0, 70.0, 259.0, 269.0, 179.0, 180.0, 29.0, 179.0, 179.0, 179.0, 55.0, 190.0, 179.0, 100.0, 230.0, 41.0, 95.0, 30.0, 120.0, 142.0, 111.0, 102.0, 41.0, 25.0, 150.0, 150.0, 45.0, 70.0, 62.0, 85.0, 90.0, 125.0, 32.0, 225.0, 70.0, 51.0, 240.0, 75.0, 81.0, 45.0, 90.0, 76.0, 50.0, 149.0, 250.0, 50.0, 105.0, 130.0, 100.0, 228.0, 75.0, 35.0, 195.0, 78.0, 165.0, 255.0, 125.0, 99.0, 125.0, 150.0, 40.0, 83.0, 125.0, 71.0, 85.0, 119.0, 195.0, 170.0, 150.0, 125.0, 69.0, 29.0, 250.0, 40.0, 110.0, 74.0, 145.0, 40.0, 175.0, 49.0, 45.0, 110.0, 85.0, 129.0, 149.0, 120.0, 90.0, 125.0, 75.0, 75.0, 180.0, 85.0, 48.0, 80.0, 85.0, 60.0, 120.0, 90.0, 200.0, 200.0, 65.0, 165.0, 275.0, 75.0, 125.0, 50.0, 100.0, 70.0, 175.0, 142.0, 193.0, 199.0, 97.0, 120.0, 75.0, 65.0, 84.0, 153.0, 90.0, 57.0, 75.0, 120.0, 100.0, 60.0, 130.0, 68.0, 75.0, 98.0, 98.0, 41.0, 100.0, 300.0, 75.0, 300.0, 95.0, 300.0, 200.0, 105.0, 150.0, 80.0, 250.0, 300.0, 105.0, 50.0, 105.0, 56.0, 150.0, 50.0, 120.0, 150.0, 150.0, 130.0, 90.0, 80.0, 130.0, 240.0, 70.0, 18.0, 40.0, 100.0, 150.0, 69.0, 74.0, 80.0, 120.0, 79.0, 50.0, 44.0, 100.0, 209.0, 130.0, 250.0, 35.0, 76.0, 199.0, 71.0, 179.0, 55.0, 150.0, 60.0, 80.0, 79.0, 70.0, 89.0, 179.0, 75.0, 70.0, 195.0, 68.0, 199.0, 72.0, 72.0, 115.0, 118.0, 45.0, 159.0, 144.0, 68.0, 34.0, 300.0, 36.0, 50.0, 109.0, 115.0, 220.0, 60.0, 100.0, 40.0, 84.0, 98.0, 150.0, 40.0, 130.0, 129.0, 250.0, 69.0, 35.0, 65.0, 110.0, 270.0, 100.0, 105.0, 119.0, 40.0, 125.0, 90.0, 129.0, 72.0, 79.0, 59.0, 107.0, 195.0, 62.0, 100.0, 199.0, 50.0, 89.0, 140.0, 200.0, 154.0, 160.0, 100.0, 152.0, 100.0, 40.0, 110.0, 165.0, 83.0, 45.0, 175.0, 90.0, 65.0, 58.0, 60.0, 250.0, 95.0, 50.0, 50.0, 48.0, 68.0, 250.0, 89.0, 259.0, 100.0, 95.0, 85.0, 100.0, 150.0, 60.0, 65.0, 109.0, 200.0, 179.0, 75.0, 44.0, 100.0, 106.0, 85.0, 80.0, 115.0, 207.0, 240.0, 80.0, 35.0, 70.0, 179.0, 99.0, 135.0, 88.0, 128.0, 65.0, 170.0, 70.0, 35.0, 75.0, 90.0, 53.0, 90.0, 50.0, 200.0, 120.0, 275.0, 45.0, 98.0, 135.0, 92.0, 95.0, 118.0, 150.0, 72.0, 165.0, 155.0, 130.0, 145.0, 85.0, 60.0, 220.0, 75.0, 74.0, 160.0, 75.0, 259.0, 150.0, 90.0, 136.0, 114.0, 54.0, 40.0, 45.0, 256.0, 60.0, 150.0, 125.0, 80.0, 80.0, 25.0, 40.0, 120.0, 107.0, 129.0, 75.0, 75.0, 200.0, 90.0, 160.0, 80.0, 110.0, 150.0, 115.0, 75.0, 129.0, 121.0, 95.0, 100.0, 83.0, 185.0, 177.0, 85.0, 70.0, 120.0, 155.0, 62.0, 50.0, 55.0, 159.0, 125.0, 60.0, 39.0, 60.0, 104.0, 117.0, 99.0, 93.0, 125.0, 112.0, 48.0, 180.0, 180.0, 36.0, 176.0, 150.0, 150.0, 250.0, 50.0, 50.0, 100.0, 200.0, 79.0, 100.0, 100.0, 200.0, 106.0, 65.0, 125.0, 99.0, 123.0, 220.0, 75.0, 68.0, 113.0, 51.0, 64.0, 79.0, 25.0, 75.0, 119.0, 26.0, 57.0, 100.0, 62.0, 95.0, 32.0, 42.0, 199.0, 46.0, 70.0, 39.0, 140.0, 45.0, 85.0, 65.0, 120.0, 275.0, 122.0, 60.0, 79.0, 200.0, 99.0, 150.0, 70.0, 150.0, 63.0, 35.0, 100.0, 75.0, 120.0, 106.0, 49.0, 50.0, 80.0, 80.0, 50.0, 90.0, 59.0, 90.0, 225.0, 66.0, 199.0, 125.0, 99.0, 300.0, 170.0, 200.0, 140.0, 175.0, 225.0, 92.0, 119.0, 125.0, 85.0, 100.0, 55.0, 150.0, 205.0, 140.0, 100.0, 115.0, 45.0, 65.0, 155.0, 77.0, 149.0, 100.0, 175.0, 175.0, 150.0, 296.0, 210.0, 125.0, 100.0, 110.0, 85.0, 95.0, 200.0, 35.0, 101.0, 77.0, 93.0, 90.0, 102.0, 95.0, 199.0, 72.0, 50.0, 69.0, 200.0, 200.0, 105.0, 36.0, 120.0, 75.0, 30.0, 80.0, 75.0, 100.0, 120.0, 70.0, 116.0, 60.0, 193.0, 239.0, 75.0, 230.0, 50.0, 31.0, 65.0, 50.0, 48.0, 50.0, 40.0, 35.0, 60.0, 35.0, 225.0, 85.0, 45.0, 40.0, 150.0, 47.0, 128.0, 75.0, 80.0, 25.0, 30.0, 102.0, 75.0, 135.0, 120.0, 65.0, 180.0, 199.0, 45.0, 55.0, 30.0, 50.0, 45.0, 180.0, 53.0, 150.0, 55.0, 50.0, 90.0, 65.0, 50.0, 40.0, 270.0, 33.0, 38.0, 85.0, 101.0, 62.0, 65.0, 100.0, 41.0, 50.0, 55.0, 30.0, 35.0, 80.0, 101.0, 55.0, 30.0, 140.0, 55.0, 100.0, 75.0, 71.0, 109.0, 80.0, 55.0, 300.0, 30.0, 110.0, 95.0, 80.0, 150.0, 140.0, 165.0, 245.0, 200.0, 71.0, 125.0, 150.0, 180.0, 105.0, 100.0, 130.0, 94.0, 125.0, 68.0, 125.0, 140.0, 300.0, 77.0, 33.0, 102.0, 120.0, 125.0, 80.0, 110.0, 240.0, 89.0, 80.0, 300.0, 22.0, 125.0, 50.0, 200.0, 165.0, 70.0, 155.0, 144.0, 25.0, 192.0, 75.0, 100.0, 100.0, 40.0, 50.0, 42.0, 35.0, 54.0, 50.0, 95.0, 95.0, 179.0, 263.0, 120.0, 99.0, 70.0, 55.0, 108.0, 45.0, 60.0, 55.0, 56.0, 50.0, 111.0, 55.0, 175.0, 125.0, 249.0, 45.0, 200.0, 175.0, 140.0, 69.0, 40.0, 300.0, 38.0, 83.0, 99.0, 58.0, 62.0, 89.0, 50.0, 86.0, 150.0, 60.0, 140.0, 100.0, 120.0, 37.0, 159.0, 35.0, 250.0, 215.0, 115.0, 99.0, 86.0, 70.0, 100.0, 65.0, 234.0, 130.0, 70.0, 44.0, 250.0, 75.0, 120.0, 42.0, 100.0, 120.0, 92.0, 80.0, 45.0, 130.0, 41.0, 50.0, 35.0, 130.0, 60.0, 250.0, 49.0, 45.0, 112.0, 90.0, 165.0, 100.0, 150.0, 100.0, 100.0, 75.0, 150.0, 99.0, 55.0, 90.0, 150.0, 142.0, 125.0, 108.0, 90.0, 45.0, 100.0, 99.0, 48.0, 280.0, 68.0, 90.0, 239.0, 99.0, 299.0, 200.0, 68.0, 25.0, 132.0, 190.0, 67.0, 99.0, 35.0, 75.0, 55.0, 150.0, 200.0, 182.0, 60.0, 59.0, 59.0, 135.0, 79.0, 65.0, 159.0, 82.0, 80.0, 70.0, 90.0, 83.0, 56.0, 175.0, 125.0, 225.0, 65.0, 64.0, 26.0, 69.0, 80.0, 43.0, 195.0, 60.0, 115.0, 60.0, 139.0, 131.0, 300.0, 90.0, 55.0, 45.0, 150.0, 161.0, 275.0, 69.0, 55.0, 35.0, 215.0, 40.0, 42.0, 50.0, 50.0, 79.0, 53.0, 100.0, 150.0, 75.0, 215.0, 86.0, 94.0, 80.0, 105.0, 75.0, 150.0, 189.0, 120.0, 75.0, 96.0, 275.0, 150.0, 40.0, 250.0, 27.0, 100.0, 125.0, 49.0, 40.0, 42.0, 95.0, 66.0, 45.0, 40.0, 70.0, 239.0, 135.0, 62.0, 130.0, 95.0, 93.0, 145.0, 75.0, 185.0, 100.0, 99.0, 59.0, 100.0, 43.0, 45.0, 55.0, 106.0, 145.0, 80.0, 40.0, 175.0, 80.0, 85.0, 53.0, 69.0, 27.0, 300.0, 44.0, 94.0, 240.0, 54.0, 237.0, 250.0, 150.0, 83.0, 35.0, 90.0, 89.0, 199.0, 113.0, 115.0, 70.0, 200.0, 60.0, 85.0, 55.0, 45.0, 225.0, 100.0, 70.0, 99.0, 120.0, 90.0, 179.0, 93.0, 30.0, 90.0, 75.0, 100.0, 22.0, 263.0, 125.0, 85.0, 100.0, 265.0, 75.0, 90.0, 85.0, 141.0, 48.0, 90.0, 150.0, 75.0, 70.0, 80.0, 179.0, 222.0, 79.0, 85.0, 220.0, 150.0, 149.0, 93.0, 43.0, 169.0, 40.0, 50.0, 149.0, 105.0, 190.0, 125.0, 90.0, 65.0, 42.0, 48.0, 155.0, 59.0, 124.0, 36.0, 48.0, 50.0, 40.0, 52.0, 65.0, 90.0, 56.0, 80.0, 160.0, 32.0, 65.0, 80.0, 91.0, 85.0, 23.0, 91.0, 43.0, 90.0, 295.0, 38.0, 158.0, 60.0, 70.0, 75.0, 85.0, 153.0, 35.0, 122.0, 135.0, 120.0, 86.0, 150.0, 85.0, 146.0, 160.0, 200.0, 70.0, 55.0, 150.0, 150.0, 100.0, 40.0, 115.0, 48.0, 45.0, 55.0, 95.0, 120.0, 130.0, 32.0, 98.0, 92.0, 74.0, 67.0, 135.0, 200.0, 75.0, 70.0, 215.0, 70.0, 57.0, 100.0, 80.0, 70.0, 120.0, 130.0, 85.0, 100.0, 130.0, 70.0, 80.0, 37.0, 100.0, 189.0, 100.0, 53.0, 89.0, 150.0, 65.0, 200.0, 96.0, 21.0, 195.0, 160.0, 75.0, 60.0, 71.0, 170.0, 281.0, 65.0, 150.0, 100.0, 238.0, 210.0, 60.0, 125.0, 225.0, 100.0, 50.0, 43.0, 44.0, 90.0, 200.0, 115.0, 100.0, 45.0, 68.0, 79.0, 100.0, 167.0, 212.0, 159.0, 99.0, 92.0, 150.0, 79.0, 88.0, 103.0, 65.0, 95.0, 90.0, 75.0, 108.0, 85.0, 250.0, 63.0, 55.0, 220.0, 135.0, 123.0, 121.0, 135.0, 150.0, 175.0, 104.0, 136.0, 65.0, 152.0, 249.0, 58.0, 159.0, 70.0, 45.0, 135.0, 75.0, 60.0, 79.0, 185.0, 119.0, 73.0, 69.0, 50.0, 85.0, 100.0, 240.0, 55.0, 125.0, 165.0, 131.0, 57.0, 90.0, 30.0, 70.0, 139.0, 50.0, 50.0, 48.0, 50.0, 110.0, 115.0, 116.0, 40.0, 95.0, 126.0, 100.0, 55.0, 65.0, 190.0, 63.0, 80.0, 225.0, 70.0, 60.0, 54.0, 200.0, 200.0, 31.0, 65.0, 174.0, 83.0, 55.0, 87.0, 85.0, 110.0, 125.0, 34.0, 46.0, 59.0, 175.0, 58.0, 35.0, 294.0, 50.0, 100.0, 65.0, 99.0, 45.0, 35.0, 45.0, 200.0, 120.0, 300.0, 210.0, 75.0, 50.0, 55.0, 108.0, 125.0, 81.0, 40.0, 120.0, 135.0, 180.0, 150.0, 89.0, 150.0, 40.0, 71.0, 186.0, 109.0, 50.0, 247.0, 75.0, 152.0, 70.0, 95.0, 150.0, 100.0, 130.0, 179.0, 82.0, 95.0, 180.0, 70.0, 79.0, 45.0, 49.0, 140.0, 128.0, 175.0, 100.0, 50.0, 175.0, 75.0, 60.0, 60.0, 65.0, 300.0, 130.0, 40.0, 65.0, 170.0, 66.0, 110.0, 140.0, 45.0, 55.0, 55.0, 75.0, 73.0, 35.0, 120.0, 128.0, 100.0, 150.0, 50.0, 299.0, 65.0, 200.0, 85.0, 135.0, 150.0, 147.0, 145.0, 200.0, 150.0, 185.0, 150.0, 95.0, 59.0, 175.0, 200.0, 35.0, 100.0, 192.0, 57.0, 149.0, 250.0, 64.0, 100.0, 45.0, 75.0, 149.0, 95.0, 35.0, 190.0, 230.0, 86.0, 99.0, 84.0, 55.0, 150.0, 125.0, 45.0, 66.0, 158.0, 107.0, 195.0, 150.0, 95.0, 81.0, 74.0, 48.0, 70.0, 100.0, 35.0, 200.0, 250.0, 30.0, 219.0, 69.0, 85.0, 120.0, 159.0, 78.0, 125.0, 50.0, 82.0, 40.0, 215.0, 159.0, 117.0, 55.0, 175.0, 60.0, 49.0, 38.0, 175.0, 125.0, 68.0, 65.0, 90.0, 250.0, 149.0, 100.0, 60.0, 168.0, 143.0, 48.0, 175.0, 150.0, 134.0, 75.0, 86.0, 200.0, 85.0, 95.0, 250.0, 160.0, 40.0, 119.0, 115.0, 85.0, 56.0, 67.0, 254.0, 159.0, 65.0, 165.0, 52.0, 117.0, 108.0, 35.0, 100.0, 99.0, 35.0, 49.0, 45.0, 225.0, 52.0, 58.0, 100.0, 78.0, 40.0, 75.0, 128.0, 200.0, 60.0, 103.0, 177.0, 120.0, 99.0, 84.0, 52.0, 80.0, 33.0, 150.0, 175.0, 279.0, 155.0, 111.0, 59.0, 105.0, 42.0, 52.0, 70.0, 40.0, 249.0, 153.0, 40.0, 48.0, 150.0, 45.0, 56.0, 50.0, 44.0, 80.0, 50.0, 55.0, 50.0, 116.0, 100.0, 95.0, 150.0, 199.0, 89.0, 160.0, 52.0, 50.0, 100.0, 33.0, 106.0, 40.0, 80.0, 50.0, 60.0, 90.0, 75.0, 75.0, 99.0, 57.0, 45.0, 63.0, 170.0, 52.0, 49.0, 140.0, 65.0, 125.0, 99.0, 110.0, 124.0, 95.0, 300.0, 270.0, 38.0, 99.0, 55.0, 227.0, 160.0, 99.0, 150.0, 50.0, 65.0, 172.0, 109.0, 85.0, 105.0, 60.0, 120.0, 45.0, 295.0, 120.0, 99.0, 135.0, 57.0, 42.0, 100.0, 120.0, 174.0, 75.0, 50.0, 64.0, 160.0, 120.0, 120.0, 100.0, 72.0, 39.0, 95.0, 46.0, 46.0, 75.0, 149.0, 72.0, 110.0, 175.0, 121.0, 170.0, 120.0, 134.0, 80.0, 99.0, 101.0, 106.0, 100.0, 76.0, 105.0, 76.0, 99.0, 45.0, 250.0, 55.0, 165.0, 65.0, 71.0, 40.0, 37.0, 60.0, 96.0, 70.0, 235.0, 149.0, 75.0, 100.0, 65.0, 169.0, 208.0, 126.0, 56.0, 55.0, 54.0, 59.0, 175.0, 60.0, 40.0, 95.0, 190.0, 300.0, 40.0, 225.0, 225.0, 88.0, 275.0, 94.0, 193.0, 225.0, 130.0, 45.0, 50.0, 55.0, 113.0, 164.0, 56.0, 110.0, 149.0, 52.0, 128.0, 50.0, 50.0, 90.0, 68.0, 35.0, 279.0, 41.0, 165.0, 70.0, 60.0, 120.0, 73.0, 99.0, 90.0, 219.0, 90.0, 70.0, 100.0, 95.0, 64.0, 75.0, 40.0, 85.0, 110.0, 200.0, 120.0, 120.0, 165.0, 200.0, 150.0, 300.0, 230.0, 189.0, 50.0, 80.0, 123.0, 40.0, 59.0, 49.0, 110.0, 220.0, 288.0, 75.0, 57.0, 61.0, 50.0, 69.0, 100.0, 300.0, 60.0, 105.0, 115.0, 39.0, 60.0, 130.0, 80.0, 81.0, 106.0, 130.0, 60.0, 180.0, 84.0, 120.0, 60.0, 133.0, 45.0, 142.0, 180.0, 50.0, 46.0, 59.0, 47.0, 95.0, 85.0, 55.0, 45.0, 50.0, 60.0, 65.0, 150.0, 85.0, 71.0, 151.0, 40.0, 40.0, 43.0, 32.0, 200.0, 54.0, 59.0, 150.0, 115.0, 49.0, 150.0, 225.0, 65.0, 75.0, 195.0, 50.0, 88.0, 54.0, 149.0, 64.0, 57.0, 89.0, 150.0, 100.0, 95.0, 95.0, 84.0, 52.0, 112.0, 95.0, 60.0, 65.0, 200.0, 250.0, 120.0, 55.0, 185.0, 60.0, 45.0, 115.0, 150.0, 300.0, 90.0, 100.0, 56.0, 155.0, 102.0, 83.0, 80.0, 145.0, 100.0, 103.0, 194.0, 105.0, 85.0, 115.0, 45.0, 150.0, 50.0, 249.0, 82.0, 69.0, 180.0, 45.0, 60.0, 300.0, 55.0, 175.0, 47.0, 120.0, 107.0, 130.0, 49.0, 62.0, 125.0, 69.0, 80.0, 120.0, 19.0, 85.0, 70.0, 98.0, 124.0, 90.0, 140.0, 83.0, 78.0, 130.0, 79.0, 50.0, 115.0, 120.0, 86.0, 150.0, 85.0, 236.0, 236.0, 43.0, 39.0, 89.0, 90.0, 83.0, 50.0, 79.0, 210.0, 100.0, 56.0, 125.0, 51.0, 129.0, 35.0, 199.0, 53.0, 82.0, 30.0, 190.0, 264.0, 110.0, 41.0, 250.0, 91.0, 43.0, 49.0, 100.0, 185.0, 100.0, 69.0, 114.0, 65.0, 129.0, 110.0, 175.0, 175.0, 77.0, 91.0, 157.0, 53.0, 83.0, 80.0, 250.0, 80.0, 75.0, 120.0, 80.0, 145.0, 114.0, 85.0, 65.0, 146.0, 75.0, 51.0, 118.0, 50.0, 118.0, 118.0, 130.0, 300.0, 100.0, 63.0, 45.0, 48.0, 160.0, 65.0, 60.0, 44.0, 125.0, 150.0, 71.0, 120.0, 40.0, 150.0, 69.0, 100.0, 120.0, 50.0, 116.0, 100.0, 65.0, 73.0, 61.0, 119.0, 39.0, 55.0, 65.0, 75.0, 55.0, 200.0, 40.0, 300.0, 85.0, 120.0, 55.0, 100.0, 200.0, 61.0, 169.0, 120.0, 55.0, 90.0, 115.0, 37.0, 100.0, 45.0, 110.0, 150.0, 85.0, 275.0, 129.0, 78.0, 70.0, 195.0, 120.0, 85.0, 90.0, 99.0, 135.0, 113.0, 100.0, 80.0, 190.0, 40.0, 45.0, 150.0, 175.0, 200.0, 45.0, 39.0, 71.0, 106.0, 100.0, 100.0, 29.0, 110.0, 80.0, 200.0, 65.0, 173.0, 156.0, 80.0, 85.0, 281.0, 71.0, 205.0, 200.0, 120.0, 40.0, 42.0, 100.0, 95.0, 110.0, 70.0, 60.0, 165.0, 90.0, 144.0, 100.0, 70.0, 115.0, 100.0, 50.0, 29.0, 41.0, 120.0, 85.0, 125.0, 140.0, 95.0, 89.0, 40.0, 79.0, 110.0, 79.0, 74.0, 106.0, 50.0, 135.0, 149.0, 45.0, 125.0, 120.0, 138.0, 90.0, 250.0, 100.0, 53.0, 125.0, 190.0, 49.0, 190.0, 190.0, 99.0, 264.0, 86.0, 100.0, 40.0, 85.0, 120.0, 63.0, 105.0, 90.0, 150.0, 53.0, 250.0, 60.0, 48.0, 65.0, 73.0, 130.0, 52.0, 198.0, 45.0, 70.0, 62.0, 148.0, 80.0, 85.0, 200.0, 109.0, 150.0, 115.0, 60.0, 110.0, 47.0, 90.0, 79.0, 119.0, 67.0, 99.0, 90.0, 199.0, 190.0, 48.0, 36.0, 165.0, 250.0, 33.0, 100.0, 93.0, 90.0, 185.0, 135.0, 230.0, 85.0, 79.0, 64.0, 36.0, 115.0, 99.0, 159.0, 90.0, 90.0, 40.0, 190.0, 165.0, 75.0, 47.0, 42.0, 85.0, 100.0, 150.0, 45.0, 88.0, 129.0, 78.0, 135.0, 55.0, 118.0, 229.0, 79.0, 199.0, 112.0, 105.0, 70.0, 220.0, 89.0, 60.0, 270.0, 214.0, 215.0, 45.0, 140.0, 82.0, 150.0, 52.0, 195.0, 200.0, 180.0, 116.0, 77.0, 95.0, 250.0, 61.0, 249.0, 170.0, 175.0, 30.0, 115.0, 132.0, 120.0, 135.0, 60.0, 81.0, 63.0, 75.0, 271.0, 125.0, 69.0, 58.0, 130.0, 96.0, 42.0, 81.0, 55.0, 189.0, 170.0, 155.0, 102.0, 180.0, 100.0, 45.0, 140.0, 96.0, 162.0, 139.0, 69.0, 125.0, 100.0, 102.0, 63.0, 90.0, 150.0, 40.0, 127.0, 83.0, 104.0, 175.0, 150.0, 49.0, 116.0, 269.0, 200.0, 57.0, 300.0, 60.0, 129.0, 70.0, 75.0, 45.0, 45.0, 150.0, 150.0, 45.0, 150.0, 65.0, 55.0, 90.0, 100.0, 175.0, 80.0, 86.0, 119.0, 120.0, 75.0, 200.0, 159.0, 270.0, 149.0, 105.0, 130.0, 112.0, 100.0, 126.0, 176.0, 25.0, 120.0, 35.0, 54.0, 150.0, 115.0, 65.0, 50.0, 47.0, 143.0, 260.0, 129.0, 67.0, 55.0, 49.0, 45.0, 99.0, 153.0, 75.0, 50.0, 45.0, 100.0, 86.0, 90.0, 209.0, 90.0, 178.0, 200.0, 259.0, 40.0, 160.0, 95.0, 85.0, 102.0, 65.0, 83.0, 45.0, 240.0, 121.0, 50.0, 57.0, 68.0, 60.0, 97.0, 99.0, 60.0, 135.0, 69.0, 225.0, 125.0, 289.0, 209.0, 85.0, 42.0, 117.0, 165.0, 48.0, 126.0, 146.0, 175.0, 69.0, 49.0, 40.0, 42.0, 95.0, 92.0, 100.0, 85.0, 99.0, 126.0, 31.0, 235.0, 100.0, 48.0, 50.0, 55.0, 300.0, 70.0, 140.0, 166.0, 166.0, 36.0, 65.0, 100.0, 150.0, 50.0, 75.0, 130.0, 35.0, 105.0, 100.0, 70.0, 150.0, 38.0, 88.0, 260.0, 163.0, 160.0, 50.0, 70.0, 110.0, 65.0, 85.0, 95.0, 220.0, 146.0, 250.0, 44.0, 135.0, 116.0, 95.0, 55.0, 200.0, 220.0, 39.0, 203.0, 74.0, 40.0, 45.0, 190.0, 55.0, 70.0, 125.0, 183.0, 125.0, 79.0, 39.0, 34.0, 130.0, 85.0, 93.0, 119.0, 90.0, 200.0, 68.0, 75.0, 120.0, 41.0, 105.0, 105.0, 65.0, 100.0, 120.0, 30.0, 70.0, 200.0, 50.0, 42.0, 240.0, 100.0, 175.0, 147.0, 66.0, 200.0, 200.0, 100.0, 275.0, 50.0, 60.0, 45.0, 110.0, 104.0, 95.0, 62.0, 53.0, 120.0, 139.0, 140.0, 150.0, 50.0, 115.0, 45.0, 75.0, 85.0, 65.0, 75.0, 100.0, 100.0, 87.0, 80.0, 45.0, 80.0, 120.0, 149.0, 60.0, 236.0, 155.0, 78.0, 80.0, 200.0, 35.0, 50.0, 33.0, 129.0, 115.0, 45.0, 76.0, 121.0, 189.0, 76.0, 106.0, 175.0, 160.0, 45.0, 53.0, 236.0, 225.0, 224.0, 165.0, 110.0, 81.0, 80.0, 210.0, 55.0, 110.0, 285.0, 50.0, 120.0, 175.0, 250.0, 70.0, 118.0, 25.0, 300.0, 25.0, 72.0, 300.0, 101.0, 76.0, 105.0, 44.0, 86.0, 41.0, 55.0, 109.0, 58.0, 236.0, 149.0, 130.0, 80.0, 86.0, 102.0, 130.0, 35.0, 175.0, 170.0, 75.0, 82.0, 85.0, 88.0, 99.0, 36.0, 140.0, 76.0, 85.0, 145.0, 75.0, 171.0, 160.0, 150.0, 33.0, 280.0, 55.0, 135.0, 75.0, 150.0, 50.0, 88.0, 75.0, 250.0, 65.0, 98.0, 140.0, 69.0, 33.0, 28.0, 100.0, 120.0, 42.0, 117.0, 150.0, 69.0, 61.0, 60.0, 200.0, 225.0, 70.0, 94.0, 35.0, 35.0, 33.0, 73.0, 290.0, 145.0, 179.0, 84.0, 75.0, 125.0, 300.0, 250.0, 54.0, 60.0, 138.0, 62.0, 60.0, 276.0, 65.0, 134.0, 82.0, 60.0, 59.0, 229.0, 60.0, 63.0, 50.0, 120.0, 201.0, 139.0, 50.0, 72.0, 250.0, 50.0, 120.0, 52.0, 40.0, 112.0, 75.0, 210.0, 220.0, 135.0, 121.0, 140.0, 60.0, 225.0, 70.0, 200.0, 257.0, 90.0, 75.0, 145.0, 199.0, 80.0, 225.0, 85.0, 200.0, 164.0, 200.0, 130.0, 78.0, 110.0, 54.0, 90.0, 99.0, 68.0, 150.0, 30.0, 92.0, 58.0, 75.0, 55.0, 50.0, 106.0, 114.0, 220.0, 39.0, 65.0, 50.0, 67.0, 88.0, 68.0, 60.0, 80.0, 72.0, 30.0, 124.0, 40.0, 175.0, 55.0, 37.0, 210.0, 125.0, 54.0, 55.0, 92.0, 30.0, 200.0, 74.0, 82.0, 68.0, 70.0, 94.0, 55.0, 205.0, 150.0, 50.0, 90.0, 50.0, 129.0, 51.0, 130.0, 75.0, 149.0, 90.0, 99.0, 45.0, 75.0, 190.0, 99.0, 73.0, 33.0, 144.0, 35.0, 110.0, 38.0, 80.0, 149.0, 120.0, 60.0, 106.0, 119.0, 120.0, 250.0, 248.0, 50.0, 100.0, 153.0, 61.0, 45.0, 120.0, 45.0, 149.0, 150.0, 75.0, 75.0, 230.0, 150.0, 41.0, 85.0, 120.0, 235.0, 175.0, 160.0, 50.0, 89.0, 40.0, 85.0, 250.0, 76.0, 229.0, 85.0, 90.0, 93.0, 90.0, 285.0, 146.0, 35.0, 110.0, 40.0, 80.0, 35.0, 50.0, 48.0, 95.0, 50.0, 175.0, 83.0, 99.0, 40.0, 250.0, 200.0, 171.0, 85.0, 195.0, 125.0, 65.0, 90.0, 104.0, 225.0, 106.0, 100.0, 250.0, 75.0, 80.0, 110.0, 40.0, 37.0, 54.0, 100.0, 30.0, 48.0, 121.0, 300.0, 65.0, 139.0, 95.0, 40.0, 110.0, 63.0, 131.0, 100.0, 35.0, 99.0, 45.0, 50.0, 65.0, 80.0, 65.0, 66.0, 140.0, 140.0, 35.0, 54.0, 29.0, 123.0, 55.0, 120.0, 95.0, 75.0, 79.0, 52.0, 151.0, 120.0, 176.0, 60.0, 100.0, 130.0, 48.0, 75.0, 250.0, 58.0, 100.0, 115.0, 58.0, 85.0, 65.0, 40.0, 285.0, 75.0, 20.0, 97.0, 80.0, 220.0, 60.0, 120.0, 125.0, 159.0, 150.0, 95.0, 300.0, 32.0, 84.0, 250.0, 20.0, 150.0, 58.0, 130.0, 124.0, 160.0, 36.0, 229.0, 130.0, 95.0, 40.0, 126.0, 295.0, 126.0, 168.0, 95.0, 200.0, 99.0, 80.0, 38.0, 33.0, 170.0, 35.0, 45.0, 40.0, 35.0, 125.0, 40.0, 105.0, 33.0, 76.0, 60.0, 60.0, 50.0, 180.0, 50.0, 250.0, 177.0, 40.0, 24.0, 33.0, 109.0, 103.0, 197.0, 149.0, 220.0, 152.0, 50.0, 105.0, 125.0, 75.0, 53.0, 69.0, 50.0, 135.0, 140.0, 150.0, 85.0, 49.0, 145.0, 100.0, 36.0, 65.0, 83.0, 95.0, 55.0, 99.0, 40.0, 300.0, 87.0, 40.0, 119.0, 115.0, 200.0, 94.0, 46.0, 100.0, 60.0, 46.0, 38.0, 55.0, 99.0, 31.0, 69.0, 119.0, 225.0, 110.0, 39.0, 85.0, 227.0, 200.0, 190.0, 190.0, 105.0, 55.0, 106.0, 199.0, 87.0, 250.0, 50.0, 55.0, 75.0, 45.0, 42.0, 99.0, 50.0, 80.0, 199.0, 153.0, 225.0, 45.0, 35.0, 79.0, 60.0, 277.0, 100.0, 125.0, 49.0, 49.0, 55.0, 30.0, 45.0, 100.0, 98.0, 115.0, 28.0, 45.0, 150.0, 40.0, 81.0, 200.0, 65.0, 201.0, 100.0, 111.0, 82.0, 107.0, 55.0, 100.0, 35.0, 115.0, 120.0, 139.0, 75.0, 121.0, 206.0, 60.0, 57.0, 299.0, 64.0, 54.0, 176.0, 85.0, 120.0, 85.0, 118.0, 100.0, 150.0, 26.0, 45.0, 90.0, 150.0, 65.0, 50.0, 85.0, 40.0, 50.0, 43.0, 175.0, 145.0, 70.0, 78.0, 24.0, 100.0, 200.0, 30.0, 40.0, 70.0, 85.0, 135.0, 35.0, 101.0, 70.0, 100.0, 75.0, 60.0, 225.0, 115.0, 151.0, 100.0, 90.0, 55.0, 49.0, 45.0, 150.0, 60.0, 35.0, 82.0, 42.0, 49.0, 80.0, 200.0, 99.0, 175.0, 37.0, 110.0, 200.0, 140.0, 300.0, 76.0, 43.0, 130.0, 87.0, 120.0, 65.0, 150.0, 105.0, 40.0, 165.0, 78.0, 98.0, 70.0, 111.0, 225.0, 162.0, 85.0, 22.0, 65.0, 80.0, 90.0, 190.0, 128.0, 73.0, 50.0, 200.0, 200.0, 59.0, 88.0, 64.0, 113.0, 41.0, 100.0, 119.0, 35.0, 119.0, 190.0, 110.0, 85.0, 40.0, 124.0, 57.0, 44.0, 200.0, 260.0, 81.0, 98.0, 100.0, 200.0, 150.0, 50.0, 60.0, 150.0, 91.0, 120.0, 80.0, 35.0, 190.0, 49.0, 44.0, 52.0, 47.0, 165.0, 65.0, 35.0, 130.0, 102.0, 137.0, 40.0, 54.0, 100.0, 75.0, 32.0, 70.0, 56.0, 180.0, 50.0, 115.0, 47.0, 207.0, 89.0, 80.0, 105.0, 54.0, 74.0, 230.0, 170.0, 58.0, 55.0, 65.0, 189.0, 26.0, 78.0, 118.0, 99.0, 155.0, 85.0, 60.0, 51.0, 95.0, 90.0, 200.0, 98.0, 45.0, 67.0, 90.0, 35.0, 64.0, 53.0, 35.0, 60.0, 82.0, 136.0, 100.0, 80.0, 80.0, 50.0, 120.0, 67.0, 50.0, 160.0, 69.0, 75.0, 63.0, 71.0, 80.0, 185.0, 16.0, 92.0, 75.0, 50.0, 80.0, 279.0, 200.0, 300.0, 38.0, 120.0, 111.0, 35.0, 52.0, 90.0, 181.0, 55.0, 89.0, 225.0, 100.0, 72.0, 72.0, 60.0, 41.0, 220.0, 182.0, 129.0, 60.0, 55.0, 58.0, 69.0, 139.0, 159.0, 60.0, 132.0, 112.0, 47.0, 78.0, 90.0, 60.0, 200.0, 80.0, 29.0, 175.0, 40.0, 120.0, 144.0, 104.0, 75.0, 50.0, 70.0, 53.0, 120.0, 48.0, 60.0, 136.0, 78.0, 66.0, 128.0, 115.0, 170.0, 127.0, 105.0, 65.0, 95.0, 30.0, 110.0, 225.0, 54.0, 35.0, 175.0, 40.0, 175.0, 70.0, 122.0, 150.0, 75.0, 125.0, 165.0, 160.0, 21.0, 87.0, 175.0, 150.0, 101.0, 70.0, 100.0, 130.0, 105.0, 83.0, 85.0, 60.0, 75.0, 50.0, 98.0, 34.0, 130.0, 159.0, 100.0, 72.0, 100.0, 110.0, 105.0, 50.0, 104.0, 247.0, 69.0, 99.0, 150.0, 160.0, 150.0, 225.0, 60.0, 69.0, 100.0, 120.0, 95.0, 199.0, 150.0, 190.0, 68.0, 125.0, 75.0, 100.0, 75.0, 89.0, 129.0, 99.0, 300.0, 62.0, 51.0, 28.0, 74.0, 30.0, 160.0, 110.0, 41.0, 77.0, 90.0, 250.0, 100.0, 90.0, 75.0, 60.0, 57.0, 185.0, 50.0, 37.0, 144.0, 70.0, 29.0, 123.0, 60.0, 55.0, 45.0, 175.0, 165.0, 92.0, 52.0, 50.0, 60.0, 149.0, 250.0, 75.0, 55.0, 50.0, 150.0, 100.0, 120.0, 45.0, 37.0, 60.0, 100.0, 47.0, 112.0, 50.0, 45.0, 117.0, 85.0, 115.0, 183.0, 159.0, 80.0, 55.0, 74.0, 38.0, 50.0, 87.0, 100.0, 46.0, 150.0, 255.0, 50.0, 131.0, 50.0, 120.0, 66.0, 250.0, 155.0, 200.0, 130.0, 64.0, 200.0, 130.0, 65.0, 40.0, 40.0, 90.0, 77.0, 98.0, 72.0, 37.0, 45.0, 143.0, 291.0, 300.0, 40.0, 225.0, 62.0, 22.0, 70.0, 175.0, 120.0, 44.0, 60.0, 227.0, 200.0, 115.0, 80.0, 60.0, 195.0, 62.0, 37.0, 92.0, 80.0, 189.0, 86.0, 120.0, 100.0, 125.0, 100.0, 30.0, 90.0, 65.0, 138.0, 239.0, 107.0, 53.0, 99.0, 34.0, 55.0, 65.0, 40.0, 165.0, 95.0, 58.0, 95.0, 60.0, 49.0, 40.0, 137.0, 99.0, 125.0, 52.0, 110.0, 47.0, 45.0, 111.0, 45.0, 95.0, 100.0, 150.0, 50.0, 48.0, 63.0, 55.0, 44.0, 99.0, 243.0, 48.0, 35.0, 125.0, 44.0, 150.0, 43.0, 150.0, 157.0, 200.0, 165.0, 175.0, 50.0, 180.0, 99.0, 42.0, 150.0, 71.0, 99.0, 120.0, 64.0, 120.0, 50.0, 34.0, 40.0, 75.0, 200.0, 21.0, 215.0, 70.0, 30.0, 70.0, 50.0, 185.0, 250.0, 115.0, 100.0, 36.0, 119.0, 100.0, 180.0, 150.0, 80.0, 112.0, 120.0, 275.0, 39.0, 150.0, 61.0, 300.0, 45.0, 80.0, 110.0, 55.0, 35.0, 150.0, 40.0, 133.0, 92.0, 125.0, 55.0, 68.0, 270.0, 144.0, 160.0, 79.0, 35.0, 125.0, 129.0, 70.0, 125.0, 125.0, 115.0, 99.0, 45.0, 47.0, 189.0, 35.0, 89.0, 300.0, 73.0, 95.0, 53.0, 151.0, 81.0, 103.0, 90.0, 60.0, 30.0, 75.0, 65.0, 78.0, 107.0, 48.0, 93.0, 54.0, 78.0, 99.0, 150.0, 195.0, 38.0, 175.0, 40.0, 65.0, 50.0, 95.0, 150.0, 85.0, 125.0, 60.0, 50.0, 140.0, 80.0, 98.0, 95.0, 149.0, 95.0, 250.0, 98.0, 219.0, 155.0, 100.0, 80.0, 48.0, 189.0, 32.0, 45.0, 200.0, 105.0, 58.0, 100.0, 170.0, 165.0, 28.0, 160.0, 160.0, 65.0, 145.0, 30.0, 135.0, 165.0, 21.0, 60.0, 51.0, 120.0, 40.0, 80.0, 49.0, 70.0, 150.0, 78.0, 100.0, 101.0, 150.0, 55.0, 275.0, 99.0, 125.0, 189.0, 75.0, 158.0, 140.0, 140.0, 89.0, 85.0, 225.0, 190.0, 172.0, 90.0, 246.0, 300.0, 95.0, 85.0, 60.0, 229.0, 189.0, 65.0, 72.0, 210.0, 250.0, 175.0, 75.0, 120.0, 207.0, 50.0, 89.0, 86.0, 60.0, 79.0, 95.0, 95.0, 99.0, 180.0, 77.0, 50.0, 130.0, 80.0, 250.0, 200.0, 175.0, 45.0, 94.0, 110.0, 70.0, 274.0, 60.0, 169.0, 31.0, 75.0, 120.0, 48.0, 97.0, 115.0, 140.0, 70.0, 79.0, 114.0, 105.0, 75.0, 120.0, 160.0, 103.0, 289.0, 29.0, 89.0, 60.0, 54.0, 98.0, 90.0, 55.0, 99.0, 115.0, 209.0, 115.0, 100.0, 74.0, 35.0, 47.0, 35.0, 250.0, 53.0, 85.0, 45.0, 145.0, 110.0, 98.0, 200.0, 199.0, 247.0, 45.0, 107.0, 95.0, 150.0, 35.0, 80.0, 155.0, 239.0, 266.0, 85.0, 100.0, 10.0, 70.0, 37.0, 80.0, 80.0, 26.0, 186.0, 59.0, 180.0, 41.0, 84.0, 35.0, 80.0, 71.0, 84.0, 104.0, 70.0, 252.0, 175.0, 75.0, 60.0, 86.0, 175.0, 145.0, 50.0, 123.0, 35.0, 30.0, 55.0, 52.0, 163.0, 59.0, 63.0, 70.0, 30.0, 250.0, 75.0, 139.0, 90.0, 94.0, 29.0, 100.0, 75.0, 59.0, 37.0, 175.0, 70.0, 65.0, 220.0, 62.0, 35.0, 85.0, 107.0, 180.0, 35.0, 90.0, 95.0, 140.0, 68.0, 300.0, 197.0, 132.0, 100.0, 75.0, 130.0, 139.0, 135.0, 90.0, 155.0, 180.0, 74.0, 77.0, 75.0, 120.0, 65.0, 55.0, 123.0, 159.0, 78.0, 80.0, 28.0, 50.0, 100.0, 115.0, 55.0, 160.0, 46.0, 103.0, 80.0, 80.0, 89.0, 180.0, 130.0, 80.0, 45.0, 125.0, 108.0, 33.0, 135.0, 47.0, 149.0, 60.0, 40.0, 109.0, 40.0, 157.0, 200.0, 149.0, 130.0, 50.0, 180.0, 240.0, 71.0, 80.0, 134.0, 65.0, 65.0, 60.0, 78.0, 110.0, 90.0, 41.0, 102.0, 122.0, 188.0, 75.0, 49.0, 49.0, 71.0, 33.0, 65.0, 100.0, 80.0, 60.0, 100.0, 125.0, 90.0, 225.0, 100.0, 79.0, 100.0, 39.0, 110.0, 99.0, 55.0, 98.0, 100.0, 55.0, 186.0, 44.0, 45.0, 79.0, 85.0, 125.0, 90.0, 50.0, 38.0, 90.0, 75.0, 100.0, 80.0, 60.0, 80.0, 205.0, 52.0, 65.0, 125.0, 82.0, 215.0, 115.0, 25.0, 70.0, 55.0, 155.0, 46.0, 150.0, 70.0, 180.0, 190.0, 60.0, 99.0, 65.0, 200.0, 120.0, 175.0, 50.0, 162.0, 250.0, 50.0, 179.0, 186.0, 43.0, 100.0, 120.0, 90.0, 60.0, 100.0, 75.0, 75.0, 214.0, 31.0, 235.0, 104.0, 54.0, 56.0, 85.0, 79.0, 275.0, 100.0, 60.0, 98.0, 162.0, 55.0, 40.0, 50.0, 80.0, 25.0, 130.0, 150.0, 249.0, 70.0, 55.0, 75.0, 75.0, 30.0, 105.0, 88.0, 105.0, 52.0, 100.0, 85.0, 50.0, 45.0, 85.0, 47.0, 75.0, 83.0, 125.0, 246.0, 130.0, 45.0, 62.0, 100.0, 35.0, 30.0, 66.0, 128.0, 55.0, 49.0, 66.0, 80.0, 150.0, 135.0, 71.0, 150.0, 75.0, 65.0, 106.0, 175.0, 25.0, 95.0, 49.0, 175.0, 89.0, 107.0, 93.0, 105.0, 99.0, 40.0, 85.0, 60.0, 175.0, 211.0, 72.0, 50.0, 120.0, 82.0, 175.0, 95.0, 67.0, 47.0, 100.0, 160.0, 250.0, 22.0, 78.0, 80.0, 55.0, 68.0, 250.0, 190.0, 90.0, 150.0, 193.0, 99.0, 135.0, 50.0, 148.0, 89.0, 80.0, 43.0, 65.0, 136.0, 300.0, 65.0, 50.0, 120.0, 50.0, 95.0, 65.0, 100.0, 69.0, 125.0, 99.0, 80.0, 115.0, 150.0, 71.0, 60.0, 90.0, 160.0, 164.0, 56.0, 89.0, 35.0, 40.0, 229.0, 200.0, 181.0, 150.0, 290.0, 145.0, 85.0, 150.0, 200.0, 115.0, 154.0, 95.0, 130.0, 195.0, 88.0, 100.0, 110.0, 65.0, 90.0, 109.0, 75.0, 28.0, 39.0, 185.0, 85.0, 165.0, 120.0, 44.0, 71.0, 55.0, 92.0, 69.0, 35.0, 300.0, 65.0, 120.0, 10.0, 114.0, 55.0, 189.0, 100.0, 99.0, 275.0, 138.0, 65.0, 64.0, 90.0, 69.0, 99.0, 70.0, 40.0, 10.0, 55.0, 48.0, 100.0, 76.0, 90.0, 45.0, 100.0, 65.0, 60.0, 175.0, 199.0, 49.0, 170.0, 150.0, 20.0, 250.0, 35.0, 120.0, 130.0, 88.0, 115.0, 66.0, 75.0, 96.0, 197.0, 91.0, 45.0, 235.0, 57.0, 50.0, 108.0, 176.0, 150.0, 68.0, 128.0, 75.0, 90.0, 50.0, 134.0, 63.0, 70.0, 63.0, 227.0, 70.0, 45.0, 70.0, 125.0, 67.0, 84.0, 162.0, 82.0, 269.0, 70.0, 45.0, 110.0, 175.0, 100.0, 85.0, 105.0, 100.0, 48.0, 69.0, 74.0, 50.0, 45.0, 175.0, 81.0, 110.0, 80.0, 175.0, 50.0, 70.0, 35.0, 36.0, 80.0, 129.0, 55.0, 83.0, 150.0, 50.0, 50.0, 124.0, 104.0, 120.0, 96.0, 259.0, 51.0, 46.0, 104.0, 80.0, 65.0, 175.0, 61.0, 182.0, 88.0, 52.0, 149.0, 120.0, 80.0, 25.0, 160.0, 65.0, 117.0, 143.0, 95.0, 126.0, 87.0, 65.0, 225.0, 135.0, 100.0, 35.0, 70.0, 100.0, 104.0, 60.0, 75.0, 150.0, 80.0, 100.0, 100.0, 37.0, 136.0, 129.0, 169.0, 119.0, 79.0, 60.0, 28.0, 48.0, 65.0, 100.0, 148.0, 150.0, 110.0, 40.0, 90.0, 194.0, 300.0, 55.0, 25.0, 225.0, 40.0, 110.0, 95.0, 49.0, 90.0, 110.0, 60.0, 75.0, 100.0, 130.0, 111.0, 99.0, 50.0, 90.0, 38.0, 175.0, 60.0, 199.0, 209.0, 75.0, 245.0, 130.0, 36.0, 289.0, 235.0, 271.0, 170.0, 270.0, 75.0, 75.0, 75.0, 250.0, 127.0, 300.0, 101.0, 175.0, 48.0, 125.0, 55.0, 145.0, 117.0, 146.0, 75.0, 45.0, 125.0, 75.0, 50.0, 150.0, 50.0, 145.0, 99.0, 75.0, 93.0, 105.0, 85.0, 125.0, 80.0, 145.0, 30.0, 109.0, 60.0, 70.0, 75.0, 70.0, 260.0, 75.0, 150.0, 110.0, 69.0, 148.0, 72.0, 36.0, 30.0, 100.0, 40.0, 130.0, 99.0, 55.0, 75.0, 72.0, 175.0, 185.0, 30.0, 50.0, 165.0, 100.0, 55.0, 168.0, 117.0, 130.0, 50.0, 60.0, 195.0, 43.0, 74.0, 50.0, 165.0, 45.0, 85.0, 100.0, 56.0, 132.0, 69.0, 198.0, 235.0, 38.0, 129.0, 160.0, 33.0, 60.0, 100.0, 77.0, 70.0, 49.0, 247.0, 98.0, 40.0, 69.0, 60.0, 82.0, 130.0, 129.0, 125.0, 50.0, 100.0, 39.0, 105.0, 300.0, 88.0, 57.0, 100.0, 37.0, 40.0, 45.0, 150.0, 170.0, 50.0, 250.0, 123.0, 65.0, 65.0, 95.0, 129.0, 125.0, 54.0, 200.0, 70.0, 41.0, 42.0, 149.0, 60.0, 40.0, 107.0, 155.0, 91.0, 220.0, 200.0, 150.0, 38.0, 150.0, 40.0, 150.0, 47.0, 50.0, 175.0, 140.0, 155.0, 89.0, 110.0, 123.0, 45.0, 168.0, 75.0, 125.0, 60.0, 70.0, 175.0, 42.0, 60.0, 200.0, 80.0, 180.0, 50.0, 42.0, 31.0, 95.0, 197.0, 100.0, 149.0, 140.0, 150.0, 150.0, 55.0, 99.0, 55.0, 43.0, 259.0, 117.0, 264.0, 111.0, 96.0, 80.0, 138.0, 202.0, 35.0, 35.0, 55.0, 155.0, 52.0, 99.0, 129.0, 65.0, 85.0, 199.0, 60.0, 125.0, 150.0, 59.0, 50.0, 48.0, 200.0, 65.0, 120.0, 100.0, 90.0, 62.0, 99.0, 35.0, 94.0, 160.0, 90.0, 190.0, 170.0, 31.0, 128.0, 110.0, 60.0, 56.0, 49.0, 27.0, 150.0, 80.0, 90.0, 85.0, 65.0, 145.0, 250.0, 50.0, 157.0, 25.0, 40.0, 50.0, 40.0, 110.0, 168.0, 65.0, 145.0, 94.0, 49.0, 120.0, 65.0, 190.0, 70.0, 180.0, 55.0, 66.0, 82.0, 65.0, 212.0, 44.0, 275.0, 53.0, 50.0, 43.0, 43.0, 139.0, 70.0, 139.0, 100.0, 141.0, 28.0, 182.0, 300.0, 169.0, 36.0, 125.0, 163.0, 99.0, 86.0, 120.0, 44.0, 53.0, 100.0, 175.0, 50.0, 125.0, 94.0, 94.0, 198.0, 75.0, 58.0, 99.0, 71.0, 70.0, 75.0, 164.0, 30.0, 80.0, 120.0, 295.0, 67.0, 42.0, 75.0, 70.0, 99.0, 99.0, 118.0, 31.0, 150.0, 60.0, 79.0, 130.0, 47.0, 34.0, 225.0, 75.0, 195.0, 99.0, 49.0, 65.0, 250.0, 53.0, 116.0, 100.0, 79.0, 117.0, 250.0, 180.0, 33.0, 75.0, 99.0, 275.0, 45.0, 75.0, 50.0, 75.0, 60.0, 100.0, 49.0, 48.0, 60.0, 130.0, 89.0, 95.0, 55.0, 130.0, 70.0, 190.0, 39.0, 140.0, 95.0, 90.0, 60.0, 169.0, 26.0, 120.0, 189.0, 45.0, 115.0, 102.0, 200.0, 170.0, 60.0, 120.0, 75.0, 129.0, 91.0, 140.0, 90.0, 37.0, 155.0, 40.0, 40.0, 93.0, 60.0, 26.0, 36.0, 170.0, 150.0, 59.0, 93.0, 73.0, 40.0, 90.0, 62.0, 150.0, 275.0, 110.0, 125.0, 31.0, 72.0, 53.0, 60.0, 282.0, 55.0, 80.0, 45.0, 90.0, 42.0, 63.0, 100.0, 51.0, 51.0, 121.0, 49.0, 40.0, 100.0, 90.0, 70.0, 190.0, 60.0, 125.0, 130.0, 183.0, 160.0, 105.0, 65.0, 90.0, 90.0, 60.0, 55.0, 89.0, 64.0, 109.0, 140.0, 50.0, 50.0, 80.0, 104.0, 150.0, 85.0, 45.0, 40.0, 95.0, 218.0, 160.0, 160.0, 90.0, 175.0, 165.0, 125.0, 140.0, 45.0, 100.0, 100.0, 35.0, 150.0, 150.0, 75.0, 60.0, 90.0, 56.0, 75.0, 200.0, 90.0, 140.0, 40.0, 158.0, 60.0, 50.0, 50.0, 28.0, 25.0, 130.0, 250.0, 93.0, 145.0, 49.0, 70.0, 59.0, 59.0, 240.0, 136.0, 80.0, 125.0, 199.0, 90.0, 160.0, 55.0, 185.0, 85.0, 150.0, 79.0, 40.0, 175.0, 260.0, 137.0, 267.0, 45.0, 270.0, 35.0, 75.0, 120.0, 90.0, 70.0, 90.0, 250.0, 180.0, 250.0, 180.0, 90.0, 110.0, 145.0, 149.0, 150.0, 40.0, 30.0, 65.0, 55.0, 100.0, 130.0, 105.0, 50.0, 175.0, 50.0, 56.0, 250.0, 73.0, 26.0, 50.0, 215.0, 199.0, 50.0, 150.0, 225.0, 80.0, 90.0, 68.0, 30.0, 199.0, 90.0, 95.0, 130.0, 49.0, 125.0, 60.0, 120.0, 75.0, 99.0, 75.0, 39.0, 140.0, 93.0, 229.0, 74.0, 95.0, 205.0, 129.0, 85.0, 80.0, 49.0, 190.0, 55.0, 250.0, 53.0, 45.0, 55.0, 158.0, 50.0, 50.0, 45.0, 100.0, 41.0, 120.0, 99.0, 300.0, 149.0, 89.0, 165.0, 75.0, 23.0, 90.0, 125.0, 50.0, 75.0, 60.0, 79.0, 100.0, 33.0, 100.0, 170.0, 135.0, 145.0, 200.0, 105.0, 170.0, 53.0, 65.0, 140.0, 100.0, 66.0, 75.0, 130.0, 42.0, 50.0, 55.0, 300.0, 67.0, 110.0, 150.0, 75.0, 60.0, 30.0, 79.0, 89.0, 200.0, 34.0, 49.0, 200.0, 259.0, 65.0, 36.0, 72.0, 149.0, 80.0, 98.0, 60.0, 200.0, 160.0, 42.0, 45.0, 81.0, 59.0, 106.0, 175.0, 65.0, 94.0, 75.0, 126.0, 65.0, 66.0, 95.0, 35.0, 24.0, 126.0, 46.0, 77.0, 55.0, 85.0, 184.0, 45.0, 60.0, 150.0, 100.0, 60.0, 48.0, 69.0, 59.0, 64.0, 75.0, 96.0, 84.0, 189.0, 99.0, 40.0, 91.0, 107.0, 108.0, 270.0, 132.0, 119.0, 120.0, 37.0, 100.0, 64.0, 120.0, 118.0, 200.0, 65.0, 71.0, 45.0, 147.0, 149.0, 195.0, 65.0, 49.0, 51.0, 60.0, 79.0, 150.0, 60.0, 51.0, 44.0, 75.0, 100.0, 41.0, 102.0, 50.0, 150.0, 150.0, 40.0, 62.0, 130.0, 150.0, 109.0, 99.0, 40.0, 70.0, 225.0, 55.0, 38.0, 250.0, 200.0, 60.0, 164.0, 40.0, 117.0, 50.0, 155.0, 89.0, 70.0, 99.0, 80.0, 250.0, 180.0, 105.0, 113.0, 99.0, 82.0, 95.0, 250.0, 50.0, 128.0, 48.0, 190.0, 100.0, 300.0, 29.0, 289.0, 82.0, 75.0, 49.0, 80.0, 44.0, 52.0, 99.0, 60.0, 60.0, 119.0, 62.0, 91.0, 50.0, 89.0, 149.0, 37.0, 51.0, 145.0, 35.0, 200.0, 70.0, 300.0, 86.0, 185.0, 28.0, 146.0, 80.0, 41.0, 68.0, 60.0, 170.0, 55.0, 120.0, 105.0, 49.0, 40.0, 50.0, 50.0, 32.0, 99.0, 100.0, 30.0, 300.0, 45.0, 100.0, 180.0, 125.0, 76.0, 53.0, 39.0, 90.0, 83.0, 52.0, 174.0, 59.0, 191.0, 79.0, 27.0, 159.0, 159.0, 40.0, 38.0, 135.0, 30.0, 45.0, 207.0, 150.0, 37.0, 80.0, 250.0, 70.0, 60.0, 170.0, 220.0, 195.0, 115.0, 80.0, 46.0, 99.0, 65.0, 59.0, 70.0, 90.0, 62.0, 63.0, 48.0, 65.0, 65.0, 100.0, 69.0, 40.0, 175.0, 90.0, 250.0, 73.0, 150.0, 275.0, 89.0, 130.0, 200.0, 89.0, 48.0, 195.0, 50.0, 46.0, 61.0, 150.0, 125.0, 100.0, 203.0, 210.0, 195.0, 90.0, 155.0, 139.0, 75.0, 50.0, 55.0, 150.0, 95.0, 145.0, 45.0, 200.0, 283.0, 117.0, 176.0, 50.0, 115.0, 280.0, 50.0, 76.0, 219.0, 40.0, 60.0, 125.0, 50.0, 200.0, 112.0, 280.0, 96.0, 45.0, 118.0, 21.0, 103.0, 108.0, 100.0, 47.0, 70.0, 103.0, 115.0, 115.0, 150.0, 160.0, 159.0, 100.0, 41.0, 120.0, 209.0, 65.0, 77.0, 300.0, 53.0, 170.0, 40.0, 55.0, 166.0, 133.0, 56.0, 54.0, 109.0, 199.0, 27.0, 85.0, 300.0, 100.0, 89.0, 180.0, 60.0, 175.0, 60.0, 240.0, 100.0, 160.0, 69.0, 116.0, 200.0, 65.0, 100.0, 125.0, 67.0, 93.0, 110.0, 120.0, 140.0, 125.0, 46.0, 66.0, 90.0, 93.0, 119.0, 80.0, 200.0, 69.0, 199.0, 140.0, 130.0, 81.0, 110.0, 50.0, 150.0, 40.0, 77.0, 40.0, 40.0, 199.0, 100.0, 46.0, 130.0, 290.0, 200.0, 83.0, 140.0, 80.0, 85.0, 58.0, 100.0, 100.0, 55.0, 65.0, 130.0, 60.0, 36.0, 27.0, 90.0, 163.0, 170.0, 40.0, 120.0, 88.0, 130.0, 55.0, 70.0, 85.0, 48.0, 262.0, 49.0, 150.0, 139.0, 65.0, 32.0, 60.0, 175.0, 86.0, 155.0, 75.0, 207.0, 60.0, 99.0, 85.0, 70.0, 60.0, 45.0, 75.0, 70.0, 176.0, 95.0, 75.0, 225.0, 110.0, 54.0, 90.0, 56.0, 225.0, 45.0, 40.0, 30.0, 102.0, 175.0, 47.0, 43.0, 150.0, 229.0, 90.0, 150.0, 47.0, 120.0, 61.0, 89.0, 50.0, 165.0, 212.0, 180.0, 145.0, 185.0, 130.0, 95.0, 160.0, 220.0, 220.0, 50.0, 99.0, 90.0, 84.0, 80.0, 210.0, 97.0, 88.0, 85.0, 260.0, 40.0, 85.0, 149.0, 150.0, 60.0, 80.0, 75.0, 81.0, 125.0, 65.0, 199.0, 120.0, 139.0, 43.0, 30.0, 129.0, 44.0, 64.0, 165.0, 58.0, 43.0, 80.0, 55.0, 58.0, 65.0, 85.0, 150.0, 70.0, 150.0, 34.0, 250.0, 69.0, 80.0, 60.0, 58.0, 45.0, 300.0, 70.0, 300.0, 200.0, 120.0, 70.0, 55.0, 94.0, 145.0, 45.0, 90.0, 35.0, 60.0, 50.0, 55.0, 150.0, 60.0, 164.0, 50.0, 48.0, 175.0, 50.0, 295.0, 70.0, 32.0, 117.0, 45.0, 66.0, 250.0, 100.0, 225.0, 130.0, 74.0, 125.0, 70.0, 120.0, 69.0, 105.0, 45.0, 95.0, 55.0, 88.0, 55.0, 50.0, 40.0, 56.0, 200.0, 180.0, 89.0, 100.0, 88.0, 200.0, 86.0, 55.0, 49.0, 35.0, 250.0, 50.0, 110.0, 100.0, 100.0, 60.0, 125.0, 180.0, 63.0, 106.0, 225.0, 55.0, 90.0, 99.0, 170.0, 50.0, 119.0, 60.0, 130.0, 120.0, 200.0, 90.0, 45.0, 175.0, 40.0, 60.0, 80.0, 59.0, 39.0, 99.0, 155.0, 50.0, 40.0, 140.0, 120.0, 50.0, 103.0, 125.0, 189.0, 250.0, 90.0, 40.0, 45.0, 49.0, 99.0, 89.0, 46.0, 126.0, 150.0, 160.0, 76.0, 88.0, 99.0, 40.0, 250.0, 90.0, 175.0, 87.0, 60.0, 71.0, 85.0, 85.0, 35.0, 80.0, 250.0, 118.0, 125.0, 150.0, 151.0, 47.0, 250.0, 225.0, 28.0, 85.0, 257.0, 46.0, 70.0, 85.0, 45.0, 40.0, 70.0, 60.0, 240.0, 230.0, 218.0, 40.0, 135.0, 50.0, 50.0, 38.0, 65.0, 65.0, 135.0, 52.0, 27.0, 257.0, 75.0, 200.0, 224.0, 115.0, 296.0, 39.0, 59.0, 90.0, 110.0, 167.0, 150.0, 158.0, 100.0, 60.0, 40.0, 50.0, 155.0, 200.0, 70.0, 75.0, 49.0, 155.0, 139.0, 75.0, 32.0, 32.0, 89.0, 70.0, 100.0, 100.0, 74.0, 35.0, 100.0, 210.0, 93.0, 75.0, 60.0, 50.0, 212.0, 148.0, 125.0, 75.0, 77.0, 70.0, 193.0, 145.0, 60.0, 200.0, 60.0, 100.0, 160.0, 90.0, 50.0, 96.0, 70.0, 77.0, 71.0, 60.0, 300.0, 175.0, 59.0, 70.0, 130.0, 125.0, 40.0, 100.0, 100.0, 95.0, 70.0, 125.0, 45.0, 40.0, 45.0, 30.0, 80.0, 69.0, 169.0, 287.0, 30.0, 150.0, 80.0, 88.0, 160.0, 45.0, 146.0, 90.0, 68.0, 57.0, 250.0, 165.0, 48.0, 70.0, 50.0, 40.0, 100.0, 175.0, 45.0, 79.0, 155.0, 120.0, 120.0, 99.0, 250.0, 155.0, 100.0, 69.0, 100.0, 150.0, 105.0, 155.0, 250.0, 150.0, 110.0, 154.0, 99.0, 200.0, 180.0, 63.0, 54.0, 42.0, 70.0, 200.0, 185.0, 127.0, 50.0, 50.0, 276.0, 110.0, 39.0, 65.0, 99.0, 55.0, 125.0, 72.0, 140.0, 100.0, 134.0, 250.0, 56.0, 65.0, 80.0, 70.0, 120.0, 85.0, 55.0, 55.0, 30.0, 175.0, 179.0, 169.0, 65.0, 53.0, 50.0, 65.0, 43.0, 48.0, 106.0, 65.0, 40.0, 80.0, 257.0, 38.0, 55.0, 36.0, 99.0, 95.0, 44.0, 77.0, 90.0, 139.0, 100.0, 40.0, 50.0, 275.0, 185.0, 46.0, 49.0, 32.0, 70.0, 180.0, 120.0, 116.0, 70.0, 152.0, 145.0, 150.0, 80.0, 72.0, 175.0, 150.0, 107.0, 90.0, 93.0, 75.0, 50.0, 60.0, 114.0, 68.0, 89.0, 83.0, 68.0, 100.0, 50.0, 145.0, 82.0, 200.0, 60.0, 84.0, 80.0, 250.0, 60.0, 90.0, 70.0, 40.0, 45.0, 79.0, 260.0, 115.0, 89.0, 75.0, 120.0, 72.0, 110.0, 34.0, 45.0, 64.0, 55.0, 71.0, 175.0, 56.0, 180.0, 200.0, 95.0, 77.0, 70.0, 105.0, 120.0, 55.0, 50.0, 47.0, 139.0, 165.0, 99.0, 175.0, 90.0, 70.0, 45.0, 160.0, 44.0, 95.0, 55.0, 46.0, 115.0, 120.0, 50.0, 45.0, 150.0, 45.0, 69.0, 70.0, 100.0, 135.0, 103.0, 30.0, 50.0, 40.0, 180.0, 65.0, 59.0, 170.0, 275.0, 95.0, 38.0, 225.0, 125.0, 53.0, 150.0, 94.0, 70.0, 50.0, 55.0, 86.0, 120.0, 75.0, 264.0, 70.0, 98.0, 185.0, 125.0, 145.0, 225.0, 300.0, 57.0, 49.0, 225.0, 48.0, 90.0, 194.0, 125.0, 123.0, 110.0, 44.0, 105.0, 100.0, 91.0, 56.0, 90.0, 50.0, 60.0, 110.0, 100.0, 86.0, 55.0, 175.0, 300.0, 35.0, 80.0, 139.0, 80.0, 90.0, 95.0, 139.0, 128.0, 85.0, 62.0, 229.0, 87.0, 100.0, 122.0, 100.0, 260.0, 100.0, 125.0, 80.0, 135.0, 165.0, 40.0, 95.0, 219.0, 60.0, 48.0, 65.0, 132.0, 135.0, 80.0, 68.0, 79.0, 55.0, 50.0, 89.0, 105.0, 45.0, 154.0, 70.0, 125.0, 40.0, 75.0, 35.0, 40.0, 47.0, 45.0, 125.0, 39.0, 85.0, 80.0, 129.0, 84.0, 139.0, 75.0, 45.0, 75.0, 210.0, 44.0, 95.0, 100.0, 250.0, 80.0, 116.0, 50.0, 220.0, 250.0, 153.0, 100.0, 99.0, 200.0, 190.0, 150.0, 210.0, 50.0, 80.0, 45.0, 49.0, 40.0, 40.0, 99.0, 159.0, 75.0, 175.0, 87.0, 165.0, 50.0, 49.0, 74.0, 120.0, 121.0, 175.0, 60.0, 89.0, 70.0, 280.0, 40.0, 55.0, 80.0, 71.0, 155.0, 135.0, 36.0, 99.0, 200.0, 75.0, 146.0, 100.0, 58.0, 149.0, 100.0, 130.0, 250.0, 100.0, 100.0, 85.0, 250.0, 170.0, 150.0, 163.0, 69.0, 105.0, 60.0, 80.0, 66.0, 89.0, 150.0, 37.0, 41.0, 39.0, 95.0, 31.0, 45.0, 55.0, 139.0, 60.0, 197.0, 90.0, 150.0, 80.0, 102.0, 75.0, 70.0, 90.0, 90.0, 30.0, 150.0, 150.0, 80.0, 120.0, 160.0, 200.0, 97.0, 56.0, 40.0, 137.0, 200.0, 45.0, 65.0, 95.0, 65.0, 39.0, 129.0, 107.0, 165.0, 125.0, 136.0, 180.0, 42.0, 41.0, 90.0, 60.0, 110.0, 70.0, 298.0, 56.0, 121.0, 151.0, 140.0, 300.0, 80.0, 299.0, 35.0, 80.0, 43.0, 30.0, 120.0, 72.0, 225.0, 50.0, 110.0, 70.0, 80.0, 49.0, 189.0, 42.0, 100.0, 135.0, 45.0, 65.0, 40.0, 36.0, 124.0, 29.0, 42.0, 75.0, 60.0, 161.0, 33.0, 45.0, 40.0, 65.0, 59.0, 39.0, 80.0, 72.0, 48.0, 53.0, 130.0, 204.0, 45.0, 55.0, 90.0, 33.0, 66.0, 44.0, 47.0, 123.0, 90.0, 50.0, 62.0, 120.0, 55.0, 179.0, 40.0, 198.0, 100.0, 250.0, 96.0, 140.0, 300.0, 135.0, 72.0, 56.0, 90.0, 51.0, 100.0, 90.0, 35.0, 130.0, 150.0, 120.0, 200.0, 41.0, 55.0, 53.0, 300.0, 70.0, 167.0, 80.0, 53.0, 70.0, 85.0, 58.0, 83.0, 93.0, 60.0, 85.0, 45.0, 41.0, 150.0, 90.0, 100.0, 98.0, 90.0, 50.0, 121.0, 40.0, 250.0, 130.0, 65.0, 175.0, 90.0, 140.0, 156.0, 49.0, 120.0, 130.0, 200.0, 150.0, 230.0, 120.0, 85.0, 149.0, 40.0, 125.0, 157.0, 100.0, 90.0, 265.0, 99.0, 50.0, 50.0, 82.0, 160.0, 85.0, 140.0, 160.0, 85.0, 39.0, 36.0, 90.0, 100.0, 132.0, 62.0, 60.0, 88.0, 105.0, 69.0, 78.0, 70.0, 150.0, 70.0, 120.0, 60.0, 79.0, 80.0, 55.0, 200.0, 98.0, 75.0, 140.0, 130.0, 165.0, 85.0, 198.0, 113.0, 76.0, 69.0, 90.0, 58.0, 100.0, 218.0, 98.0, 75.0, 164.0, 35.0, 45.0, 40.0, 80.0, 33.0, 162.0, 96.0, 85.0, 69.0, 50.0, 46.0, 110.0, 56.0, 123.0, 84.0, 120.0, 150.0, 120.0, 50.0, 40.0, 47.0, 140.0, 65.0, 149.0, 60.0, 54.0, 75.0, 140.0, 95.0, 65.0, 58.0, 125.0, 135.0, 200.0, 229.0, 142.0, 130.0, 50.0, 168.0, 110.0, 40.0, 45.0, 50.0, 89.0, 175.0, 66.0, 130.0, 100.0, 70.0, 138.0, 225.0, 57.0, 65.0, 150.0, 165.0, 150.0, 55.0, 75.0, 85.0, 106.0, 178.0, 225.0, 75.0, 103.0, 200.0, 70.0, 250.0, 120.0, 42.0, 65.0, 174.0, 210.0, 65.0, 206.0, 40.0, 110.0, 100.0, 253.0, 55.0, 120.0, 47.0, 189.0, 70.0, 135.0, 45.0, 119.0, 225.0, 50.0, 75.0, 68.0, 60.0, 55.0, 40.0, 100.0, 44.0, 220.0, 83.0, 48.0, 40.0, 150.0, 85.0, 124.0, 175.0, 147.0, 150.0, 109.0, 60.0, 50.0, 150.0, 175.0, 100.0, 145.0, 69.0, 100.0, 131.0, 169.0, 121.0, 140.0, 88.0, 92.0, 55.0, 90.0, 48.0, 51.0, 136.0, 95.0, 40.0, 76.0, 38.0, 149.0, 40.0, 70.0, 159.0, 38.0, 279.0, 151.0, 40.0, 250.0, 30.0, 40.0, 224.0, 105.0, 59.0, 65.0, 110.0, 130.0, 150.0, 90.0, 55.0, 95.0, 68.0, 68.0, 170.0, 100.0, 70.0, 40.0, 70.0, 55.0, 42.0, 140.0, 66.0, 49.0, 60.0, 155.0, 100.0, 100.0, 40.0, 105.0, 150.0, 80.0, 155.0, 91.0, 55.0, 60.0, 45.0, 157.0, 125.0, 150.0, 250.0, 108.0, 35.0, 225.0, 79.0, 103.0, 175.0, 90.0, 90.0, 130.0, 269.0, 95.0, 60.0, 61.0, 150.0, 259.0, 175.0, 289.0, 55.0, 139.0, 51.0, 119.0, 89.0, 55.0, 155.0, 45.0, 46.0, 108.0, 110.0, 84.0, 142.0, 63.0, 52.0, 101.0, 54.0, 35.0, 192.0, 170.0, 135.0, 102.0, 45.0, 85.0, 50.0, 110.0, 145.0, 220.0, 73.0, 80.0, 55.0, 150.0, 80.0, 169.0, 60.0, 150.0, 42.0, 80.0, 61.0, 60.0, 49.0, 125.0, 150.0, 30.0, 99.0, 65.0, 185.0, 140.0, 101.0, 130.0, 60.0, 75.0, 100.0, 49.0, 92.0, 165.0, 75.0, 30.0, 82.0, 139.0, 98.0, 46.0, 150.0, 95.0, 90.0, 65.0, 250.0, 40.0, 70.0, 145.0, 35.0, 54.0, 35.0, 32.0, 90.0, 80.0, 50.0, 60.0, 65.0, 120.0, 51.0, 47.0, 160.0, 250.0, 150.0, 105.0, 60.0, 80.0, 37.0, 120.0, 60.0, 65.0, 110.0, 100.0, 120.0, 80.0, 35.0, 66.0, 180.0, 180.0, 130.0, 80.0, 210.0, 65.0, 55.0, 103.0, 110.0, 70.0, 50.0, 119.0, 79.0, 95.0, 120.0, 138.0, 65.0, 80.0, 70.0, 50.0, 40.0, 140.0, 100.0, 225.0, 295.0, 53.0, 66.0, 99.0, 250.0, 45.0, 140.0, 40.0, 56.0, 35.0, 80.0, 71.0, 89.0, 82.0, 50.0, 189.0, 50.0, 275.0, 175.0, 50.0, 90.0, 219.0, 50.0, 31.0, 99.0, 175.0, 214.0, 69.0, 190.0, 76.0, 154.0, 236.0, 70.0, 110.0, 145.0, 100.0, 85.0, 54.0, 50.0, 45.0, 125.0, 35.0, 155.0, 50.0, 75.0, 90.0, 70.0, 152.0, 35.0, 142.0, 49.0, 30.0, 45.0, 300.0, 94.0, 150.0, 150.0, 236.0, 80.0, 130.0, 60.0, 199.0, 45.0, 70.0, 245.0, 70.0, 85.0, 50.0, 60.0, 140.0, 250.0, 44.0, 65.0, 275.0, 145.0, 40.0, 49.0, 125.0, 90.0, 111.0, 90.0, 46.0, 245.0, 60.0, 160.0, 25.0, 75.0, 57.0, 130.0, 145.0, 174.0, 48.0, 90.0, 43.0, 140.0, 44.0, 94.0, 43.0, 120.0, 194.0, 300.0, 47.0, 300.0, 35.0, 250.0, 87.0, 186.0, 75.0, 239.0, 50.0, 55.0, 47.0, 119.0, 160.0, 65.0, 90.0, 200.0, 150.0, 47.0, 200.0, 93.0, 90.0, 149.0, 229.0, 67.0, 150.0, 90.0, 71.0, 55.0, 99.0, 79.0, 35.0, 120.0, 57.0, 85.0, 250.0, 165.0, 52.0, 45.0, 125.0, 40.0, 40.0, 40.0, 99.0, 122.0, 56.0, 100.0, 85.0, 62.0, 80.0, 150.0, 170.0, 56.0, 100.0, 96.0, 125.0, 59.0, 75.0, 47.0, 100.0, 119.0, 135.0, 85.0, 149.0, 60.0, 91.0, 65.0, 95.0, 150.0, 135.0, 147.0, 60.0, 150.0, 110.0, 125.0, 290.0, 95.0, 45.0, 83.0, 85.0, 165.0, 148.0, 140.0, 33.0, 33.0, 55.0, 84.0, 210.0, 70.0, 53.0, 202.0, 100.0, 130.0, 97.0, 200.0, 110.0, 130.0, 45.0, 150.0, 130.0, 70.0, 33.0, 79.0, 165.0, 49.0, 245.0, 120.0, 105.0, 59.0, 125.0, 65.0, 300.0, 39.0, 165.0, 70.0, 100.0, 60.0, 75.0, 19.0, 55.0, 100.0, 87.0, 100.0, 60.0, 50.0, 49.0, 70.0, 56.0, 150.0, 65.0, 50.0, 150.0, 99.0, 70.0, 30.0, 195.0, 59.0, 221.0, 150.0, 45.0, 85.0, 43.0, 120.0, 59.0, 85.0, 100.0, 121.0, 110.0, 42.0, 100.0, 250.0, 47.0, 105.0, 39.0, 75.0, 200.0, 35.0, 70.0, 196.0, 35.0, 40.0, 49.0, 65.0, 45.0, 42.0, 200.0, 65.0, 151.0, 67.0, 195.0, 95.0, 60.0, 45.0, 75.0, 60.0, 100.0, 145.0, 154.0, 80.0, 175.0, 85.0, 60.0, 139.0, 53.0, 41.0, 59.0, 120.0, 57.0, 55.0, 53.0, 49.0, 105.0, 65.0, 140.0, 130.0, 78.0, 70.0, 45.0, 48.0, 60.0, 224.0, 72.0, 60.0, 70.0, 85.0, 62.0, 76.0, 70.0, 40.0, 76.0, 69.0, 250.0, 55.0, 60.0, 180.0, 65.0, 58.0, 149.0, 44.0, 150.0, 135.0, 31.0, 150.0, 145.0, 190.0, 100.0, 120.0, 91.0, 95.0, 112.0, 199.0, 95.0, 95.0, 200.0, 42.0, 200.0, 101.0, 89.0, 90.0, 35.0, 40.0, 50.0, 60.0, 59.0, 64.0, 139.0, 250.0, 131.0, 84.0, 23.0, 50.0, 55.0, 100.0, 45.0, 33.0, 89.0, 50.0, 75.0, 129.0, 101.0, 101.0, 220.0, 100.0, 42.0, 30.0, 50.0, 253.0, 160.0, 35.0, 150.0, 87.0, 72.0, 300.0, 65.0, 100.0, 41.0, 110.0, 110.0, 60.0, 142.0, 140.0, 58.0, 120.0, 110.0, 115.0, 35.0, 120.0, 68.0, 180.0, 45.0, 205.0, 250.0, 179.0, 31.0, 100.0, 175.0, 150.0, 299.0, 46.0, 85.0, 46.0, 215.0, 79.0, 80.0, 37.0, 49.0, 148.0, 80.0, 161.0, 115.0, 80.0, 70.0, 59.0, 100.0, 75.0, 75.0, 95.0, 55.0, 198.0, 74.0, 55.0, 119.0, 140.0, 195.0, 149.0, 95.0, 28.0, 125.0, 59.0, 75.0, 89.0, 80.0, 169.0, 60.0, 275.0, 275.0, 225.0, 30.0, 165.0, 38.0, 45.0, 59.0, 300.0, 50.0, 50.0, 70.0, 125.0, 55.0, 105.0, 70.0, 66.0, 75.0, 55.0, 0.0, 32.0, 137.0, 90.0, 65.0, 225.0, 50.0, 66.0, 125.0, 61.0, 124.0, 150.0, 95.0, 70.0, 170.0, 150.0, 50.0, 45.0, 105.0, 85.0, 139.0, 85.0, 72.0, 199.0, 128.0, 38.0, 125.0, 175.0, 75.0, 69.0, 25.0, 88.0, 150.0, 107.0, 110.0, 113.0, 250.0, 110.0, 199.0, 45.0, 80.0, 26.0, 130.0, 75.0, 50.0, 40.0, 50.0, 72.0, 64.0, 175.0, 130.0, 45.0, 64.0, 90.0, 100.0, 99.0, 110.0, 194.0, 90.0, 50.0, 89.0, 200.0, 55.0, 65.0, 40.0, 175.0, 40.0, 78.0, 60.0, 50.0, 129.0, 200.0, 109.0, 29.0, 160.0, 35.0, 89.0, 50.0, 153.0, 175.0, 119.0, 40.0, 40.0, 175.0, 189.0, 46.0, 200.0, 120.0, 115.0, 78.0, 40.0, 285.0, 175.0, 89.0, 224.0, 125.0, 112.0, 117.0, 100.0, 155.0, 49.0, 195.0, 95.0, 90.0, 80.0, 26.0, 175.0, 50.0, 90.0, 115.0, 299.0, 129.0, 50.0, 85.0, 176.0, 100.0, 148.0, 70.0, 60.0, 101.0, 42.0, 77.0, 60.0, 55.0, 77.0, 38.0, 231.0, 90.0, 99.0, 49.0, 97.0, 106.0, 72.0, 125.0, 200.0, 160.0, 155.0, 80.0, 113.0, 160.0, 110.0, 65.0, 93.0, 65.0, 46.0, 117.0, 60.0, 70.0, 300.0, 70.0, 150.0, 100.0, 150.0, 150.0, 60.0, 142.0, 60.0, 60.0, 56.0, 100.0, 255.0, 150.0, 108.0, 200.0, 125.0, 100.0, 110.0, 100.0, 100.0, 90.0, 83.0, 28.0, 103.0, 40.0, 36.0, 112.0, 45.0, 56.0, 126.0, 150.0, 190.0, 45.0, 30.0, 75.0, 50.0, 160.0, 36.0, 44.0, 55.0, 103.0, 60.0, 150.0, 150.0, 59.0, 58.0, 45.0, 205.0, 139.0, 50.0, 182.0, 75.0, 115.0, 105.0, 60.0, 24.0, 151.0, 110.0, 170.0, 68.0, 150.0, 65.0, 175.0, 35.0, 148.0, 110.0, 134.0, 55.0, 110.0, 147.0, 75.0, 100.0, 239.0, 71.0, 200.0, 100.0, 183.0, 108.0, 90.0, 60.0, 52.0, 100.0, 56.0, 126.0, 32.0, 78.0, 185.0, 150.0, 145.0, 43.0, 208.0, 150.0, 55.0, 125.0, 85.0, 75.0, 71.0, 65.0, 49.0, 128.0, 93.0, 69.0, 38.0, 125.0, 50.0, 88.0, 220.0, 175.0, 134.0, 43.0, 68.0, 45.0, 89.0, 62.0, 120.0, 37.0, 250.0, 41.0, 120.0, 75.0, 80.0, 70.0, 175.0, 190.0, 33.0, 184.0, 90.0, 90.0, 90.0, 100.0, 35.0, 160.0, 98.0, 185.0, 69.0, 165.0, 270.0, 210.0, 92.0, 210.0, 31.0, 99.0, 49.0, 165.0, 108.0, 100.0, 110.0, 100.0, 100.0, 180.0, 70.0, 125.0, 250.0, 175.0, 165.0, 76.0, 53.0, 35.0, 149.0, 78.0, 100.0, 96.0, 78.0, 50.0, 240.0, 119.0, 70.0, 80.0, 50.0, 135.0, 88.0, 40.0, 40.0, 75.0, 220.0, 50.0, 90.0, 220.0, 225.0, 31.0, 96.0, 114.0, 60.0, 139.0, 85.0, 100.0, 250.0, 185.0, 99.0, 70.0, 125.0, 70.0, 59.0, 70.0, 128.0, 45.0, 100.0, 130.0, 58.0, 153.0, 190.0, 150.0, 28.0, 70.0, 153.0, 275.0, 115.0, 80.0, 97.0, 120.0, 70.0, 150.0, 140.0, 107.0, 150.0, 81.0, 120.0, 99.0, 88.0, 99.0, 88.0, 155.0, 45.0, 70.0, 79.0, 133.0, 250.0, 200.0, 100.0, 120.0, 65.0, 135.0, 54.0, 100.0, 107.0, 35.0, 95.0, 100.0, 200.0, 50.0, 75.0, 75.0, 255.0, 41.0, 105.0, 156.0, 36.0, 65.0, 68.0, 57.0, 40.0, 100.0, 40.0, 151.0, 99.0, 165.0, 250.0, 45.0, 275.0, 54.0, 300.0, 180.0, 219.0, 55.0, 130.0, 100.0, 159.0, 50.0, 52.0, 99.0, 95.0, 79.0, 83.0, 58.0, 125.0, 125.0, 165.0, 200.0, 43.0, 40.0, 107.0, 157.0, 79.0, 90.0, 250.0, 45.0, 199.0, 100.0, 275.0, 300.0, 119.0, 88.0, 46.0, 58.0, 60.0, 50.0, 30.0, 65.0, 166.0, 99.0, 72.0, 190.0, 24.0, 70.0, 125.0, 25.0, 200.0, 100.0, 129.0, 102.0, 49.0, 195.0, 111.0, 55.0, 132.0, 199.0, 80.0, 80.0, 83.0, 56.0, 120.0, 85.0, 75.0, 119.0, 79.0, 63.0, 98.0, 291.0, 120.0, 90.0, 175.0, 70.0, 49.0, 69.0, 217.0, 260.0, 65.0, 80.0, 130.0, 100.0, 119.0, 104.0, 38.0, 75.0, 110.0, 50.0, 202.0, 179.0, 103.0, 124.0, 100.0, 60.0, 135.0, 94.0, 100.0, 43.0, 40.0, 75.0, 76.0, 62.0, 150.0, 300.0, 250.0, 177.0, 199.0, 40.0, 155.0, 62.0, 25.0, 76.0, 175.0, 180.0, 154.0, 150.0, 115.0, 70.0, 150.0, 214.0, 43.0, 80.0, 195.0, 30.0, 35.0, 225.0, 100.0, 140.0, 102.0, 90.0, 90.0, 150.0, 50.0, 79.0, 100.0, 84.0, 35.0, 42.0, 126.0, 125.0, 100.0, 115.0, 78.0, 118.0, 83.0, 53.0, 200.0, 220.0, 60.0, 98.0, 150.0, 200.0, 76.0, 60.0, 75.0, 249.0, 75.0, 150.0, 186.0, 230.0, 50.0, 42.0, 100.0, 115.0, 75.0, 150.0, 55.0, 99.0, 151.0, 159.0, 46.0, 41.0, 121.0, 25.0, 95.0, 186.0, 189.0, 200.0, 116.0, 142.0, 40.0, 158.0, 175.0, 100.0, 185.0, 60.0, 220.0, 79.0, 60.0, 80.0, 115.0, 90.0, 35.0, 129.0, 45.0, 125.0, 90.0, 150.0, 175.0, 60.0, 120.0, 36.0, 180.0, 163.0, 119.0, 75.0, 60.0, 82.0, 100.0, 46.0, 200.0, 111.0, 110.0, 45.0, 176.0, 62.0, 90.0, 100.0, 60.0, 106.0, 300.0, 131.0, 200.0, 57.0, 175.0, 111.0, 50.0, 65.0, 158.0, 120.0, 200.0, 170.0, 125.0, 85.0, 30.0, 111.0, 129.0, 175.0, 90.0, 138.0, 62.0, 90.0, 31.0, 100.0, 30.0, 78.0, 214.0, 64.0, 125.0, 108.0, 260.0, 140.0, 58.0, 85.0, 100.0, 30.0, 113.0, 73.0, 150.0, 41.0, 120.0, 45.0, 57.0, 128.0, 71.0, 300.0, 110.0, 95.0, 95.0, 95.0, 90.0, 90.0, 75.0, 103.0, 55.0, 160.0, 150.0, 80.0, 58.0, 285.0, 79.0, 100.0, 32.0, 32.0, 200.0, 50.0, 48.0, 49.0, 99.0, 100.0, 50.0, 189.0, 78.0, 135.0, 200.0, 120.0, 60.0, 250.0, 70.0, 59.0, 176.0, 60.0, 75.0, 140.0, 75.0, 50.0, 75.0, 235.0, 160.0, 51.0, 52.0, 69.0, 45.0, 120.0, 75.0, 65.0, 145.0, 22.0, 55.0, 21.0, 51.0, 75.0, 54.0, 90.0, 100.0, 43.0, 85.0, 45.0, 114.0, 90.0, 100.0, 80.0, 40.0, 45.0, 150.0, 100.0, 40.0, 52.0, 35.0, 62.0, 95.0, 116.0, 48.0, 66.0, 40.0, 55.0, 72.0, 69.0, 59.0, 56.0, 100.0, 50.0, 80.0, 100.0, 100.0, 59.0, 45.0, 37.0, 80.0, 50.0, 54.0, 75.0, 32.0, 80.0, 68.0, 129.0, 25.0, 50.0, 120.0, 48.0, 55.0, 50.0, 57.0, 125.0, 90.0, 72.0, 65.0, 60.0, 39.0, 32.0, 60.0, 40.0, 158.0, 85.0, 69.0, 60.0, 139.0, 100.0, 220.0, 100.0, 70.0, 102.0, 220.0, 129.0, 55.0, 288.0, 45.0, 40.0, 45.0, 129.0, 35.0, 300.0, 45.0, 40.0, 58.0, 60.0, 59.0, 50.0, 89.0, 75.0, 87.0, 46.0, 130.0, 25.0, 59.0, 150.0, 99.0, 250.0, 35.0, 120.0, 85.0, 67.0, 110.0, 22.0, 50.0, 150.0, 24.0, 150.0, 70.0, 36.0, 166.0, 132.0, 95.0, 59.0, 99.0, 85.0, 50.0, 125.0, 30.0, 120.0, 80.0, 248.0, 37.0, 150.0, 150.0, 89.0, 48.0, 200.0, 30.0, 108.0, 40.0, 80.0, 125.0, 90.0, 140.0, 100.0, 43.0, 175.0, 150.0, 90.0, 235.0, 95.0, 200.0, 148.0, 55.0, 119.0, 90.0, 101.0, 225.0, 133.0, 80.0, 90.0, 55.0, 100.0, 40.0, 80.0, 223.0, 150.0, 149.0, 165.0, 130.0, 225.0, 87.0, 36.0, 78.0, 63.0, 26.0, 250.0, 70.0, 200.0, 88.0, 97.0, 63.0, 125.0, 79.0, 99.0, 172.0, 250.0, 80.0, 110.0, 60.0, 115.0, 180.0, 105.0, 54.0, 80.0, 150.0, 65.0, 95.0, 245.0, 65.0, 58.0, 55.0, 157.0, 49.0, 45.0, 250.0, 170.0, 100.0, 99.0, 80.0, 136.0, 76.0, 200.0, 150.0, 40.0, 120.0, 100.0, 175.0, 125.0, 70.0, 126.0, 72.0, 54.0, 42.0, 50.0, 139.0, 90.0, 71.0, 50.0, 70.0, 135.0, 139.0, 70.0, 130.0, 76.0, 26.0, 204.0, 125.0, 150.0, 175.0, 49.0, 49.0, 93.0, 56.0, 59.0, 100.0, 40.0, 20.0, 46.0, 58.0, 120.0, 60.0, 150.0, 100.0, 195.0, 41.0, 225.0, 150.0, 40.0, 75.0, 150.0, 270.0, 280.0, 300.0, 187.0, 70.0, 200.0, 82.0, 35.0, 110.0, 28.0, 25.0, 180.0, 100.0, 65.0, 35.0, 300.0, 92.0, 35.0, 45.0, 265.0, 170.0, 225.0, 100.0, 215.0, 50.0, 135.0, 150.0, 77.0, 164.0, 59.0, 220.0, 50.0, 93.0, 37.0, 79.0, 75.0, 93.0, 75.0, 45.0, 65.0, 226.0, 140.0, 180.0, 199.0, 200.0, 149.0, 170.0, 112.0, 60.0, 59.0, 125.0, 60.0, 50.0, 120.0, 250.0, 118.0, 60.0, 129.0, 40.0, 115.0, 95.0, 60.0, 110.0, 21.0, 260.0, 42.0, 80.0, 176.0, 125.0, 60.0, 48.0, 275.0, 40.0, 65.0, 80.0, 139.0, 62.0, 85.0, 75.0, 225.0, 125.0, 40.0, 199.0, 100.0, 244.0, 175.0, 125.0, 170.0, 101.0, 40.0, 140.0, 175.0, 70.0, 250.0, 105.0, 125.0, 48.0, 199.0, 175.0, 86.0, 200.0, 55.0, 60.0, 139.0, 129.0, 150.0, 119.0, 90.0, 65.0, 78.0, 160.0, 70.0, 49.0, 55.0, 45.0, 60.0, 120.0, 45.0, 35.0, 300.0, 90.0, 120.0, 70.0, 45.0, 275.0, 230.0, 44.0, 125.0, 95.0, 71.0, 125.0, 50.0, 85.0, 108.0, 40.0, 115.0, 54.0, 43.0, 100.0, 275.0, 150.0, 80.0, 180.0, 95.0, 50.0, 76.0, 300.0, 170.0, 60.0, 30.0, 129.0, 180.0, 71.0, 149.0, 165.0, 70.0, 73.0, 110.0, 62.0, 197.0, 180.0, 125.0, 250.0, 105.0, 50.0, 100.0, 190.0, 90.0, 125.0, 195.0, 84.0, 175.0, 75.0, 62.0, 50.0, 200.0, 40.0, 150.0, 120.0, 40.0, 37.0, 70.0, 136.0, 80.0, 129.0, 49.0, 162.0, 91.0, 200.0, 150.0, 40.0, 90.0, 159.0, 158.0, 175.0, 90.0, 185.0, 200.0, 150.0, 125.0, 60.0, 100.0, 210.0, 250.0, 43.0, 197.0, 55.0, 160.0, 160.0, 35.0, 43.0, 104.0, 60.0, 44.0, 125.0, 64.0, 120.0, 99.0, 90.0, 95.0, 65.0, 35.0, 105.0, 139.0, 28.0, 65.0, 185.0, 55.0, 75.0, 108.0, 49.0, 122.0, 125.0, 76.0, 100.0, 89.0, 43.0, 80.0, 40.0, 119.0, 119.0, 50.0, 100.0, 150.0, 200.0, 120.0, 45.0, 85.0, 39.0, 30.0, 90.0, 150.0, 50.0, 46.0, 50.0, 145.0, 100.0, 120.0, 100.0, 200.0, 70.0, 40.0, 80.0, 300.0, 45.0, 36.0, 65.0, 40.0, 35.0, 186.0, 65.0, 50.0, 75.0, 240.0, 129.0, 129.0, 45.0, 60.0, 129.0, 129.0, 59.0, 90.0, 135.0, 62.0, 100.0, 125.0, 31.0, 175.0, 250.0, 150.0, 200.0, 65.0, 44.0, 125.0, 48.0, 65.0, 130.0, 70.0, 225.0, 99.0, 71.0, 40.0, 250.0, 146.0, 112.0, 75.0, 75.0, 85.0, 120.0, 90.0, 85.0, 70.0, 55.0, 55.0, 105.0, 150.0, 50.0, 250.0, 54.0, 150.0, 50.0, 55.0, 50.0, 50.0, 120.0, 60.0, 150.0, 100.0, 50.0, 40.0, 90.0, 71.0, 75.0, 60.0, 85.0, 100.0, 40.0, 139.0, 50.0, 139.0, 77.0, 100.0, 109.0, 139.0, 150.0, 150.0, 135.0, 55.0, 55.0, 175.0, 50.0, 300.0, 130.0, 36.0, 138.0, 39.0, 40.0, 32.0, 35.0, 180.0, 130.0, 38.0, 180.0, 85.0, 150.0, 300.0, 41.0, 80.0, 275.0, 115.0, 99.0, 200.0, 100.0, 100.0, 120.0, 150.0, 41.0, 30.0, 59.0, 150.0, 59.0, 125.0, 43.0, 62.0, 80.0, 115.0, 100.0, 188.0, 75.0, 225.0, 99.0, 169.0, 35.0, 89.0, 200.0, 35.0, 125.0, 49.0, 120.0, 88.0, 39.0, 158.0, 158.0, 158.0, 158.0, 150.0, 250.0, 158.0, 215.0, 158.0, 150.0, 95.0, 110.0, 150.0, 218.0, 130.0, 200.0, 60.0, 75.0, 102.0, 180.0, 60.0, 135.0, 250.0, 50.0, 77.0, 170.0, 110.0, 65.0, 100.0, 225.0, 65.0, 100.0, 150.0, 79.0, 55.0, 49.0, 176.0, 140.0, 35.0, 90.0, 34.0, 52.0, 50.0, 31.0, 62.0, 124.0, 209.0, 33.0, 100.0, 150.0, 90.0, 35.0, 45.0, 95.0, 40.0, 209.0, 200.0, 60.0, 108.0, 214.0, 110.0, 128.0, 40.0, 105.0, 31.0, 85.0, 160.0, 37.0, 99.0, 118.0, 28.0, 49.0, 179.0, 40.0, 125.0, 185.0, 50.0, 54.0, 95.0, 30.0, 52.0, 62.0, 80.0, 79.0, 85.0, 108.0, 38.0, 160.0, 41.0, 42.0, 85.0, 150.0, 45.0, 60.0, 50.0, 35.0, 125.0, 50.0, 40.0, 100.0, 275.0, 180.0, 130.0, 90.0, 152.0, 165.0, 72.0, 59.0, 57.0, 50.0, 90.0, 55.0, 230.0, 207.0, 122.0, 87.0, 125.0, 120.0, 80.0, 200.0, 40.0, 135.0, 115.0, 150.0, 170.0, 70.0, 40.0, 129.0, 199.0, 76.0, 49.0, 200.0, 75.0, 195.0, 70.0, 95.0, 36.0, 57.0, 90.0, 62.0, 114.0, 67.0, 150.0, 68.0, 121.0, 110.0, 299.0, 55.0, 74.0, 175.0, 255.0, 187.0, 40.0, 98.0, 170.0, 50.0, 45.0, 45.0, 50.0, 75.0, 45.0, 45.0, 45.0, 79.0, 106.0, 89.0, 120.0, 199.0, 115.0, 50.0, 97.0, 55.0, 195.0, 55.0, 199.0, 225.0, 94.0, 95.0, 55.0, 78.0, 95.0, 58.0, 50.0, 200.0, 45.0, 110.0, 70.0, 61.0, 80.0, 150.0, 41.0, 29.0, 50.0, 45.0, 250.0, 85.0, 75.0, 79.0, 180.0, 50.0, 35.0, 30.0, 75.0, 250.0, 135.0, 135.0, 85.0, 70.0, 150.0, 61.0, 90.0, 100.0, 160.0, 150.0, 250.0, 65.0, 80.0, 101.0, 35.0, 239.0, 280.0, 192.0, 50.0, 120.0, 84.0, 200.0, 106.0, 23.0, 50.0, 285.0, 69.0, 50.0, 200.0, 95.0, 130.0, 60.0, 88.0, 250.0, 97.0, 220.0, 125.0, 80.0, 175.0, 90.0, 175.0, 115.0, 150.0, 34.0, 140.0, 34.0, 115.0, 150.0, 87.0, 35.0, 20.0, 36.0, 150.0, 103.0, 60.0, 200.0, 90.0, 69.0, 180.0, 100.0, 54.0, 216.0, 43.0, 45.0, 49.0, 85.0, 40.0, 44.0, 30.0, 50.0, 295.0, 110.0, 130.0, 95.0, 40.0, 120.0, 250.0, 223.0, 70.0, 99.0, 150.0, 200.0, 85.0, 75.0, 300.0, 250.0, 300.0, 214.0, 127.0, 95.0, 300.0, 80.0, 135.0, 85.0, 200.0, 100.0, 120.0, 50.0, 229.0, 45.0, 248.0, 67.0, 73.0, 209.0, 99.0, 83.0, 175.0, 239.0, 31.0, 200.0, 150.0, 150.0, 70.0, 150.0, 149.0, 120.0, 50.0, 55.0, 55.0, 100.0, 140.0, 140.0, 80.0, 70.0, 70.0, 220.0, 36.0, 35.0, 30.0, 60.0, 190.0, 60.0, 75.0, 40.0, 110.0, 115.0, 140.0, 101.0, 300.0, 149.0, 107.0, 246.0, 98.0, 91.0, 89.0, 55.0, 55.0, 42.0, 60.0, 41.0, 106.0, 120.0, 75.0, 35.0, 150.0, 95.0, 100.0, 199.0, 53.0, 71.0, 90.0, 94.0, 100.0, 130.0, 54.0, 70.0, 300.0, 135.0, 121.0, 100.0, 120.0, 94.0, 86.0, 195.0, 50.0, 27.0, 30.0, 16.0, 35.0, 249.0, 150.0, 100.0, 79.0, 100.0, 85.0, 92.0, 150.0, 22.0, 65.0, 38.0, 40.0, 70.0, 48.0, 166.0, 33.0, 150.0, 170.0, 130.0, 210.0, 45.0, 70.0, 200.0, 165.0, 80.0, 70.0, 70.0, 230.0, 150.0, 175.0, 25.0, 48.0, 160.0, 100.0, 124.0, 65.0, 65.0, 135.0, 50.0, 45.0, 130.0, 65.0, 130.0, 180.0, 49.0, 50.0, 64.0, 100.0, 60.0, 85.0, 170.0, 40.0, 60.0, 125.0, 100.0, 69.0, 111.0, 45.0, 64.0, 71.0, 135.0, 50.0, 30.0, 110.0, 22.0, 79.0, 65.0, 34.0, 71.0, 70.0, 50.0, 55.0, 65.0, 83.0, 200.0, 180.0, 69.0, 133.0, 99.0, 60.0, 85.0, 240.0, 99.0, 42.0, 120.0, 59.0, 72.0, 59.0, 20.0, 80.0, 129.0, 130.0, 62.0, 199.0, 100.0, 75.0, 102.0, 88.0, 70.0, 160.0, 204.0, 29.0, 200.0, 135.0, 31.0, 45.0, 51.0, 110.0, 80.0, 130.0, 59.0, 105.0, 108.0, 130.0, 200.0, 250.0, 174.0, 158.0, 150.0, 100.0, 45.0, 130.0, 100.0, 59.0, 199.0, 77.0, 80.0, 70.0, 120.0, 150.0, 100.0, 47.0, 90.0, 48.0, 65.0, 70.0, 180.0, 180.0, 50.0, 40.0, 170.0, 150.0, 42.0, 40.0, 129.0, 75.0, 106.0, 215.0, 300.0, 40.0, 125.0, 125.0, 99.0, 35.0, 70.0, 80.0, 80.0, 150.0, 100.0, 60.0, 60.0, 110.0, 64.0, 48.0, 120.0, 102.0, 150.0, 50.0, 54.0, 50.0, 32.0, 49.0, 199.0, 55.0, 59.0, 191.0, 135.0, 122.0, 85.0, 90.0, 83.0, 112.0, 45.0, 121.0, 55.0, 89.0, 111.0, 139.0, 50.0, 90.0, 148.0, 180.0, 39.0, 100.0, 60.0, 82.0, 166.0, 80.0, 101.0, 50.0, 200.0, 275.0, 95.0, 159.0, 45.0, 65.0, 45.0, 35.0, 33.0, 44.0, 29.0, 230.0, 142.0, 80.0, 64.0, 217.0, 98.0, 65.0, 28.0, 125.0, 55.0, 250.0, 100.0, 100.0, 80.0, 110.0, 50.0, 60.0, 90.0, 135.0, 115.0, 115.0, 36.0, 190.0, 98.0, 120.0, 120.0, 130.0, 140.0, 291.0, 50.0, 108.0, 54.0, 64.0, 53.0, 51.0, 70.0, 200.0, 120.0, 120.0, 129.0, 55.0, 44.0, 115.0, 55.0, 40.0, 164.0, 132.0, 99.0, 200.0, 49.0, 149.0, 80.0, 60.0, 210.0, 58.0, 300.0, 35.0, 252.0, 99.0, 40.0, 210.0, 70.0, 60.0, 25.0, 220.0, 115.0, 40.0, 100.0, 60.0, 30.0, 137.0, 34.0, 79.0, 75.0, 65.0, 25.0, 199.0, 55.0, 275.0, 180.0, 110.0, 150.0, 30.0, 108.0, 75.0, 125.0, 120.0, 129.0, 99.0, 71.0, 18.0, 40.0, 199.0, 100.0, 180.0, 109.0, 109.0, 99.0, 39.0, 50.0, 263.0, 100.0, 29.0, 121.0, 60.0, 126.0, 119.0, 300.0, 225.0, 200.0, 200.0, 45.0, 200.0, 125.0, 170.0, 81.0, 115.0, 115.0, 91.0, 140.0, 110.0, 67.0, 79.0, 39.0, 95.0, 70.0, 245.0, 83.0, 81.0, 32.0, 85.0, 250.0, 90.0, 90.0, 168.0, 140.0, 130.0, 27.0, 35.0, 70.0, 85.0, 85.0, 75.0, 85.0, 75.0, 140.0, 115.0, 45.0, 61.0, 110.0, 80.0, 66.0, 60.0, 50.0, 115.0, 50.0, 21.0, 151.0, 99.0, 32.0, 146.0, 78.0, 75.0, 41.0, 30.0, 250.0, 68.0, 120.0, 52.0, 110.0, 90.0, 65.0, 57.0, 40.0, 99.0, 91.0, 90.0, 111.0, 30.0, 100.0, 85.0, 89.0, 50.0, 75.0, 120.0, 54.0, 60.0, 275.0, 39.0, 118.0, 80.0, 40.0, 30.0, 48.0, 80.0, 120.0, 50.0, 190.0, 40.0, 45.0, 89.0, 161.0, 152.0, 45.0, 48.0, 100.0, 81.0, 150.0, 80.0, 55.0, 145.0, 45.0, 119.0, 70.0, 89.0, 179.0, 140.0, 65.0, 65.0, 60.0, 30.0, 60.0, 210.0, 50.0, 45.0, 38.0, 120.0, 126.0, 177.0, 95.0, 40.0, 44.0, 175.0, 130.0, 219.0, 195.0, 140.0, 50.0, 115.0, 150.0, 93.0, 200.0, 75.0, 80.0, 25.0, 72.0, 65.0, 60.0, 185.0, 21.0, 65.0, 140.0, 150.0, 130.0, 65.0, 35.0, 85.0, 75.0, 75.0, 300.0, 95.0, 28.0, 113.0, 78.0, 120.0, 40.0, 70.0, 37.0, 225.0, 37.0, 26.0, 31.0, 50.0, 25.0, 110.0, 73.0, 31.0, 113.0, 71.0, 85.0, 75.0, 125.0, 80.0, 100.0, 110.0, 70.0, 300.0, 150.0, 31.0, 150.0, 189.0, 200.0, 65.0, 71.0, 51.0, 80.0, 58.0, 150.0, 170.0, 20.0, 125.0, 200.0, 75.0, 170.0, 110.0, 26.0, 65.0, 218.0, 169.0, 55.0, 192.0, 55.0, 100.0, 95.0, 186.0, 90.0, 150.0, 40.0, 75.0, 50.0, 65.0, 78.0, 200.0, 50.0, 59.0, 58.0, 170.0, 120.0, 75.0, 49.0, 95.0, 28.0, 25.0, 45.0, 95.0, 52.0, 89.0, 128.0, 65.0, 64.0, 90.0, 70.0, 99.0, 70.0, 156.0, 70.0, 57.0, 150.0, 78.0, 60.0, 135.0, 45.0, 169.0, 23.0, 101.0, 100.0, 97.0, 55.0, 55.0, 55.0, 85.0, 60.0, 161.0, 185.0, 47.0, 278.0, 175.0, 84.0, 115.0, 49.0, 105.0, 118.0, 55.0, 33.0, 55.0, 55.0, 95.0, 110.0, 40.0, 50.0, 52.0, 55.0, 35.0, 115.0, 180.0, 29.0, 145.0, 50.0, 100.0, 80.0, 150.0, 55.0, 50.0, 69.0, 45.0, 55.0, 55.0, 59.0, 199.0, 74.0, 225.0, 110.0, 40.0, 56.0, 100.0, 78.0, 200.0, 48.0, 62.0, 56.0, 59.0, 65.0, 41.0, 71.0, 66.0, 38.0, 64.0, 80.0, 200.0, 140.0, 75.0, 150.0, 39.0, 35.0, 85.0, 52.0, 90.0, 75.0, 75.0, 46.0, 190.0, 250.0, 72.0, 125.0, 71.0, 100.0, 275.0, 25.0, 70.0, 75.0, 50.0, 175.0, 175.0, 150.0, 69.0, 110.0, 198.0, 80.0, 125.0, 139.0, 199.0, 125.0, 62.0, 98.0, 51.0, 50.0, 33.0, 90.0, 50.0, 220.0, 225.0, 30.0, 60.0, 159.0, 37.0, 75.0, 170.0, 150.0, 30.0, 30.0, 150.0, 129.0, 159.0, 40.0, 50.0, 55.0, 150.0, 99.0, 129.0, 99.0, 43.0, 50.0, 100.0, 35.0, 144.0, 38.0, 20.0, 79.0, 67.0, 145.0, 125.0, 140.0, 50.0, 37.0, 50.0, 60.0, 33.0, 128.0, 99.0, 110.0, 90.0, 125.0, 170.0, 36.0, 89.0, 149.0, 45.0, 23.0, 83.0, 55.0, 45.0, 115.0, 190.0, 70.0, 20.0, 199.0, 75.0, 55.0, 71.0, 75.0, 100.0, 175.0, 196.0, 95.0, 75.0, 151.0, 74.0, 85.0, 110.0, 135.0, 80.0, 120.0, 95.0, 275.0, 62.0, 150.0, 60.0, 250.0, 150.0, 90.0, 69.0, 77.0, 110.0, 120.0, 35.0, 40.0, 80.0, 60.0, 101.0, 75.0, 67.0, 99.0, 96.0, 80.0, 90.0, 54.0, 90.0, 89.0, 40.0, 95.0, 300.0, 149.0, 25.0, 125.0, 70.0, 100.0, 89.0, 114.0, 104.0, 52.0, 44.0, 110.0, 45.0, 55.0, 40.0, 45.0, 200.0, 70.0, 125.0, 199.0, 125.0, 55.0, 90.0, 42.0, 90.0, 125.0, 92.0, 140.0, 50.0, 109.0, 45.0, 250.0, 120.0, 18.0, 68.0, 130.0, 161.0, 100.0, 100.0, 125.0, 75.0, 70.0, 83.0, 100.0, 149.0, 67.0, 95.0, 51.0, 180.0, 149.0, 116.0, 129.0, 44.0, 76.0, 289.0, 60.0, 45.0, 110.0, 104.0, 60.0, 60.0, 40.0, 145.0, 45.0, 40.0, 41.0, 82.0, 295.0, 100.0, 70.0, 45.0, 55.0, 75.0, 90.0, 45.0, 145.0, 73.0, 90.0, 220.0, 55.0, 100.0, 99.0, 70.0, 99.0, 95.0, 173.0, 66.0, 100.0, 200.0, 120.0, 175.0, 60.0, 84.0, 134.0, 93.0, 105.0, 100.0, 75.0, 60.0, 120.0, 145.0, 97.0, 205.0, 29.0, 92.0, 175.0, 150.0, 110.0, 63.0, 70.0, 220.0, 99.0, 95.0, 44.0, 58.0, 69.0, 80.0, 35.0, 80.0, 175.0, 60.0, 80.0, 140.0, 70.0, 63.0, 33.0, 39.0, 89.0, 79.0, 70.0, 145.0, 70.0, 265.0, 159.0, 113.0, 46.0, 150.0, 60.0, 26.0, 125.0, 195.0, 76.0, 33.0, 66.0, 60.0, 35.0, 71.0, 50.0, 100.0, 99.0, 128.0, 175.0, 200.0, 40.0, 60.0, 150.0, 99.0, 83.0, 129.0, 116.0, 125.0, 65.0, 54.0, 55.0, 180.0, 180.0, 139.0, 50.0, 75.0, 50.0, 80.0, 240.0, 49.0, 120.0, 104.0, 39.0, 115.0, 113.0, 55.0, 50.0, 250.0, 120.0, 52.0, 100.0, 199.0, 235.0, 60.0, 260.0, 60.0, 250.0, 34.0, 180.0, 105.0, 68.0, 60.0, 60.0, 84.0, 160.0, 146.0, 55.0, 45.0, 60.0, 73.0, 95.0, 75.0, 127.0, 39.0, 60.0, 39.0, 59.0, 125.0, 79.0, 69.0, 45.0, 49.0, 70.0, 125.0, 300.0, 109.0, 135.0, 80.0, 35.0, 150.0, 65.0, 140.0, 55.0, 35.0, 35.0, 150.0, 33.0, 75.0, 50.0, 43.0, 32.0, 61.0, 159.0, 40.0, 300.0, 36.0, 189.0, 65.0, 99.0, 118.0, 120.0, 117.0, 115.0, 40.0, 99.0, 175.0, 80.0, 125.0, 115.0, 115.0, 96.0, 46.0, 60.0, 50.0, 36.0, 39.0, 75.0, 70.0, 120.0, 28.0, 99.0, 100.0, 59.0, 60.0, 87.0, 92.0, 76.0, 66.0, 75.0, 66.0, 245.0, 50.0, 30.0, 50.0, 131.0, 258.0, 50.0, 70.0, 31.0, 61.0, 160.0, 140.0, 109.0, 83.0, 68.0, 90.0, 110.0, 164.0, 65.0, 106.0, 175.0, 90.0, 99.0, 55.0, 100.0, 80.0, 50.0, 80.0, 89.0, 98.0, 46.0, 88.0, 22.0, 195.0, 150.0, 56.0, 80.0, 60.0, 130.0, 150.0, 85.0, 35.0, 42.0, 39.0, 46.0, 46.0, 25.0, 83.0, 184.0, 150.0, 33.0, 135.0, 150.0, 65.0, 91.0, 171.0, 136.0, 175.0, 120.0, 75.0, 36.0, 200.0, 70.0, 85.0, 100.0, 94.0, 83.0, 75.0, 42.0, 63.0, 125.0, 195.0, 65.0, 104.0, 50.0, 68.0, 123.0, 174.0, 110.0, 45.0, 89.0, 264.0, 60.0, 46.0, 75.0, 50.0, 50.0, 46.0, 250.0, 125.0, 180.0, 300.0, 73.0, 135.0, 146.0, 86.0, 186.0, 75.0, 180.0, 45.0, 100.0, 95.0, 149.0, 125.0, 43.0, 55.0, 120.0, 130.0, 39.0, 39.0, 100.0, 285.0, 50.0, 125.0, 92.0, 275.0, 200.0, 154.0, 130.0, 100.0, 115.0, 136.0, 110.0, 64.0, 275.0, 164.0, 175.0, 100.0, 65.0, 110.0, 40.0, 46.0, 79.0, 42.0, 165.0, 182.0, 85.0, 85.0, 99.0, 55.0, 125.0, 176.0, 40.0, 100.0, 250.0, 89.0, 115.0, 55.0, 140.0, 220.0, 192.0, 200.0, 150.0, 180.0, 73.0, 167.0, 290.0, 105.0, 42.0, 70.0, 196.0, 100.0, 75.0, 60.0, 155.0, 67.0, 200.0, 31.0, 35.0, 55.0, 29.0, 102.0, 150.0, 70.0, 33.0, 110.0, 100.0, 135.0, 40.0, 199.0, 80.0, 120.0, 65.0, 58.0, 110.0, 55.0, 100.0, 165.0, 60.0, 32.0, 72.0, 36.0, 195.0, 74.0, 84.0, 70.0, 74.0, 80.0, 76.0, 74.0, 76.0, 65.0, 100.0, 120.0, 26.0, 60.0, 100.0, 125.0, 130.0, 250.0, 55.0, 200.0, 40.0, 100.0, 149.0, 29.0, 120.0, 70.0, 56.0, 74.0, 140.0, 115.0, 250.0, 92.0, 145.0, 142.0, 42.0, 64.0, 250.0, 42.0, 250.0, 64.0, 47.0, 264.0, 112.0, 38.0, 100.0, 31.0, 257.0, 65.0, 45.0, 130.0, 90.0, 120.0, 165.0, 150.0, 100.0, 35.0, 135.0, 80.0, 115.0, 75.0, 90.0, 85.0, 89.0, 45.0, 180.0, 134.0, 100.0, 182.0, 150.0, 75.0, 60.0, 100.0, 270.0, 280.0, 33.0, 170.0, 43.0, 140.0, 100.0, 79.0, 75.0, 120.0, 45.0, 125.0, 90.0, 90.0, 119.0, 120.0, 190.0, 65.0, 125.0, 150.0, 49.0, 65.0, 90.0, 250.0, 138.0, 283.0, 180.0, 90.0, 45.0, 97.0, 150.0, 140.0, 120.0, 60.0, 30.0, 73.0, 200.0, 256.0, 83.0, 65.0, 110.0, 190.0, 74.0, 245.0, 80.0, 286.0, 34.0, 64.0, 50.0, 95.0, 102.0, 69.0, 214.0, 65.0, 110.0, 34.0, 122.0, 39.0, 150.0, 35.0, 196.0, 63.0, 53.0, 135.0, 200.0, 40.0, 175.0, 250.0, 120.0, 45.0, 150.0, 65.0, 95.0, 80.0, 80.0, 68.0, 71.0, 159.0, 68.0, 60.0, 22.0, 135.0, 113.0, 55.0, 60.0, 218.0, 45.0, 153.0, 45.0, 218.0, 153.0, 55.0, 46.0, 218.0, 90.0, 70.0, 40.0, 195.0, 115.0, 77.0, 129.0, 100.0, 85.0, 75.0, 168.0, 163.0, 50.0, 49.0, 232.0, 50.0, 286.0, 286.0, 286.0, 120.0, 300.0, 164.0, 190.0, 103.0, 185.0, 150.0, 94.0, 100.0, 50.0, 51.0, 150.0, 84.0, 75.0, 115.0, 175.0, 165.0, 50.0, 152.0, 50.0, 50.0, 150.0, 168.0, 48.0, 50.0, 100.0, 51.0, 195.0, 195.0, 200.0, 80.0, 80.0, 130.0, 90.0, 150.0, 54.0, 49.0, 45.0, 160.0, 200.0, 125.0, 55.0, 175.0, 35.0, 158.0, 106.0, 45.0, 165.0, 210.0, 26.0, 70.0, 150.0, 87.0, 30.0, 65.0, 70.0, 55.0, 199.0, 48.0, 40.0, 189.0, 99.0, 65.0, 35.0, 98.0, 75.0, 120.0, 90.0, 45.0, 56.0, 40.0, 150.0, 106.0, 39.0, 65.0, 50.0, 135.0, 44.0, 119.0, 75.0, 145.0, 50.0, 145.0, 95.0, 38.0, 58.0, 125.0, 120.0, 85.0, 45.0, 75.0, 139.0, 43.0, 100.0, 57.0, 38.0, 66.0, 180.0, 50.0, 118.0, 69.0, 100.0, 39.0, 158.0, 200.0, 100.0, 50.0, 100.0, 61.0, 42.0, 79.0, 135.0, 199.0, 150.0, 50.0, 139.0, 199.0, 65.0, 100.0, 95.0, 56.0, 220.0, 250.0, 90.0, 120.0, 50.0, 200.0, 45.0, 59.0, 70.0, 100.0, 75.0, 49.0, 35.0, 95.0, 165.0, 70.0, 130.0, 135.0, 201.0, 50.0, 63.0, 47.0, 60.0, 45.0, 29.0, 200.0, 250.0, 120.0, 55.0, 178.0, 45.0, 95.0, 250.0, 70.0, 58.0, 185.0, 110.0, 80.0, 69.0, 188.0, 79.0, 150.0, 50.0, 40.0, 70.0, 70.0, 248.0, 121.0, 80.0, 225.0, 180.0, 35.0, 120.0, 73.0, 130.0, 110.0, 72.0, 80.0, 50.0, 99.0, 51.0, 90.0, 180.0, 145.0, 60.0, 80.0, 115.0, 55.0, 300.0, 180.0, 100.0, 58.0, 185.0, 140.0, 50.0, 40.0, 40.0, 78.0, 250.0, 115.0, 250.0, 210.0, 100.0, 118.0, 81.0, 25.0, 282.0, 85.0, 82.0, 53.0, 70.0, 160.0, 150.0, 175.0, 70.0, 214.0, 145.0, 215.0, 101.0, 65.0, 45.0, 100.0, 44.0, 30.0, 80.0, 140.0, 102.0, 66.0, 55.0, 160.0, 51.0, 45.0, 45.0, 60.0, 153.0, 47.0, 43.0, 60.0, 59.0, 180.0, 120.0, 125.0, 70.0, 40.0, 70.0, 160.0, 140.0, 85.0, 108.0, 153.0, 70.0, 130.0, 135.0, 150.0, 300.0, 47.0, 45.0, 200.0, 210.0, 265.0, 85.0, 150.0, 28.0, 66.0, 60.0, 57.0, 63.0, 68.0, 49.0, 55.0, 250.0, 82.0, 55.0, 96.0, 130.0, 85.0, 75.0, 200.0, 51.0, 125.0, 54.0, 65.0, 120.0, 85.0, 50.0, 80.0, 50.0, 44.0, 60.0, 250.0, 99.0, 120.0, 65.0, 85.0, 82.0, 115.0, 69.0, 50.0, 90.0, 100.0, 80.0, 110.0, 86.0, 45.0, 80.0, 278.0, 100.0, 55.0, 115.0, 75.0, 59.0, 95.0, 85.0, 82.0, 42.0, 119.0, 50.0, 39.0, 140.0, 113.0, 180.0, 92.0, 150.0, 45.0, 65.0, 35.0, 181.0, 88.0, 40.0, 80.0, 50.0, 285.0, 65.0, 40.0, 275.0, 50.0, 189.0, 130.0, 161.0, 79.0, 56.0, 99.0, 36.0, 119.0, 42.0, 80.0, 35.0, 27.0, 90.0, 144.0, 200.0, 40.0, 45.0, 125.0, 200.0, 95.0, 90.0, 35.0, 164.0, 71.0, 50.0, 250.0, 50.0, 108.0, 50.0, 130.0, 33.0, 42.0, 69.0, 100.0, 100.0, 265.0, 63.0, 78.0, 125.0, 50.0, 99.0, 89.0, 85.0, 99.0, 140.0, 85.0, 26.0, 209.0, 60.0, 110.0, 140.0, 78.0, 65.0, 247.0, 30.0, 46.0, 276.0, 55.0, 99.0, 236.0, 100.0, 300.0, 180.0, 151.0, 125.0, 200.0, 100.0, 80.0, 115.0, 30.0, 34.0, 37.0, 55.0, 40.0, 119.0, 52.0, 175.0, 65.0, 85.0, 91.0, 35.0, 99.0, 35.0, 120.0, 100.0, 79.0, 24.0, 150.0, 90.0, 145.0, 180.0, 75.0, 160.0, 153.0, 145.0, 99.0, 39.0, 130.0, 32.0, 269.0, 60.0, 115.0, 160.0, 90.0, 65.0, 300.0, 40.0, 99.0, 103.0, 90.0, 135.0, 162.0, 134.0, 130.0, 90.0, 90.0, 150.0, 70.0, 49.0, 90.0, 35.0, 151.0, 73.0, 120.0, 50.0, 55.0, 120.0, 75.0, 125.0, 63.0, 50.0, 30.0, 200.0, 100.0, 109.0, 135.0, 149.0, 126.0, 199.0, 60.0, 79.0, 43.0, 85.0, 80.0, 65.0, 50.0, 104.0, 100.0, 178.0, 200.0, 83.0, 40.0, 64.0, 60.0, 37.0, 85.0, 135.0, 133.0, 86.0, 120.0, 75.0, 125.0, 45.0, 190.0, 60.0, 62.0, 235.0, 99.0, 50.0, 130.0, 89.0, 127.0, 70.0, 45.0, 150.0, 150.0, 55.0, 74.0, 30.0, 33.0, 165.0, 97.0, 204.0, 46.0, 250.0, 40.0, 56.0, 271.0, 91.0, 200.0, 85.0, 65.0, 49.0, 60.0, 79.0, 71.0, 38.0, 83.0, 70.0, 130.0, 59.0, 49.0, 55.0, 100.0, 107.0, 199.0, 145.0, 54.0, 72.0, 46.0, 45.0, 75.0, 200.0, 165.0, 200.0, 100.0, 46.0, 250.0, 50.0, 110.0, 100.0, 140.0, 135.0, 65.0, 90.0, 150.0, 75.0, 45.0, 28.0, 79.0, 34.0, 49.0, 150.0, 90.0, 62.0, 125.0, 130.0, 20.0, 250.0, 150.0, 150.0, 155.0, 103.0, 80.0, 275.0, 250.0, 51.0, 70.0, 33.0, 52.0, 75.0, 65.0, 85.0, 104.0, 125.0, 150.0, 50.0, 65.0, 50.0, 48.0, 299.0, 82.0, 70.0, 140.0, 150.0, 34.0, 50.0, 56.0, 112.0, 40.0, 275.0, 85.0, 40.0, 153.0, 64.0, 200.0, 99.0, 130.0, 115.0, 125.0, 100.0, 105.0, 150.0, 50.0, 55.0, 50.0, 75.0, 85.0, 72.0, 75.0, 60.0, 34.0, 150.0, 279.0, 200.0, 80.0, 194.0, 150.0, 250.0, 139.0, 150.0, 120.0, 45.0, 267.0, 230.0, 89.0, 145.0, 140.0, 35.0, 45.0, 120.0, 85.0, 95.0, 120.0, 125.0, 208.0, 250.0, 75.0, 250.0, 65.0, 175.0, 45.0, 80.0, 89.0, 145.0, 71.0, 175.0, 55.0, 299.0, 75.0, 125.0, 168.0, 100.0, 109.0, 79.0, 150.0, 206.0, 164.0, 165.0, 60.0, 62.0, 99.0, 50.0, 215.0, 125.0, 99.0, 35.0, 60.0, 74.0, 60.0, 50.0, 180.0, 165.0, 150.0, 195.0, 60.0, 135.0, 155.0, 115.0, 50.0, 59.0, 276.0, 170.0, 64.0, 50.0, 70.0, 204.0, 35.0, 48.0, 190.0, 73.0, 142.0, 93.0, 59.0, 85.0, 110.0, 95.0, 223.0, 200.0, 164.0, 50.0, 50.0, 90.0, 129.0, 80.0, 150.0, 161.0, 179.0, 160.0, 114.0, 131.0, 79.0, 85.0, 64.0, 50.0, 145.0, 225.0, 110.0, 135.0, 61.0, 106.0, 250.0, 165.0, 100.0, 225.0, 140.0, 199.0, 87.0, 55.0, 295.0, 40.0, 110.0, 90.0, 100.0, 140.0, 45.0, 65.0, 70.0, 51.0, 130.0, 40.0, 70.0, 105.0, 45.0, 69.0, 199.0, 175.0, 104.0, 115.0, 113.0, 198.0, 80.0, 86.0, 197.0, 150.0, 65.0, 85.0, 135.0, 187.0, 38.0, 85.0, 33.0, 89.0, 50.0, 80.0, 80.0, 70.0, 125.0, 217.0, 105.0, 150.0, 150.0, 130.0, 250.0, 115.0, 89.0, 92.0, 48.0, 208.0, 49.0, 35.0, 45.0, 120.0, 45.0, 90.0, 118.0, 70.0, 38.0, 178.0, 31.0, 82.0, 99.0, 150.0, 49.0, 169.0, 169.0, 85.0, 250.0, 150.0, 80.0, 143.0, 115.0, 100.0, 138.0, 72.0, 137.0, 116.0, 75.0, 141.0, 79.0, 70.0, 220.0, 35.0, 80.0, 99.0, 200.0, 200.0, 80.0, 80.0, 205.0, 64.0, 100.0, 129.0, 40.0, 85.0, 110.0, 150.0, 100.0, 100.0, 130.0, 165.0, 130.0, 139.0, 145.0, 45.0, 116.0, 100.0, 40.0, 109.0, 38.0, 80.0, 85.0, 55.0, 149.0, 103.0, 65.0, 105.0, 260.0, 65.0, 139.0, 145.0, 100.0, 50.0, 60.0, 200.0, 70.0, 80.0, 225.0, 69.0, 155.0, 180.0, 63.0, 150.0, 197.0, 300.0, 48.0, 125.0, 50.0, 125.0, 80.0, 80.0, 170.0, 87.0, 75.0, 140.0, 210.0, 60.0, 195.0, 215.0, 40.0, 199.0, 40.0, 66.0, 240.0, 120.0, 65.0, 200.0, 65.0, 214.0, 40.0, 33.0, 290.0, 90.0, 45.0, 125.0, 59.0, 145.0, 140.0, 150.0, 92.0, 76.0, 144.0, 52.0, 40.0, 140.0, 40.0, 165.0, 148.0, 95.0, 75.0, 114.0, 110.0, 94.0, 150.0, 159.0, 50.0, 30.0, 90.0, 200.0, 80.0, 145.0, 75.0, 147.0, 189.0, 150.0, 76.0, 110.0, 70.0, 61.0, 39.0, 150.0, 100.0, 122.0, 127.0, 85.0, 59.0, 109.0, 100.0, 125.0, 72.0, 236.0, 65.0, 80.0, 99.0, 75.0, 215.0, 60.0, 200.0, 245.0, 99.0, 95.0, 70.0, 150.0, 120.0, 80.0, 64.0, 125.0, 51.0, 223.0, 190.0, 75.0, 70.0, 110.0, 87.0, 131.0, 36.0, 125.0, 55.0, 130.0, 75.0, 30.0, 105.0, 121.0, 67.0, 76.0, 92.0, 80.0, 100.0, 100.0, 125.0, 170.0, 78.0, 44.0, 195.0, 68.0, 40.0, 50.0, 30.0, 50.0, 219.0, 92.0, 89.0, 90.0, 117.0, 100.0, 85.0, 120.0, 40.0, 100.0, 200.0, 150.0, 35.0, 75.0, 64.0, 190.0, 225.0, 90.0, 60.0, 65.0, 50.0, 140.0, 114.0, 90.0, 60.0, 200.0, 288.0, 80.0, 100.0, 50.0, 177.0, 205.0, 119.0, 80.0, 170.0, 160.0, 137.0, 120.0, 90.0, 70.0, 100.0, 55.0, 99.0, 75.0, 200.0, 150.0, 200.0, 150.0, 200.0, 102.0, 150.0, 70.0, 48.0, 40.0, 51.0, 120.0, 88.0, 80.0, 150.0, 105.0, 150.0, 150.0, 60.0, 90.0, 208.0, 97.0, 70.0, 79.0, 96.0, 170.0, 90.0, 66.0, 140.0, 150.0, 150.0, 257.0, 160.0, 89.0, 142.0, 40.0, 49.0, 129.0, 185.0, 95.0, 88.0, 220.0, 129.0, 190.0, 49.0, 154.0, 130.0, 120.0, 145.0, 130.0, 50.0, 199.0, 175.0, 99.0, 190.0, 135.0, 88.0, 50.0, 36.0, 32.0, 159.0, 65.0, 31.0, 26.0, 25.0, 76.0, 108.0, 45.0, 60.0, 200.0, 40.0, 192.0, 69.0, 50.0, 45.0, 70.0, 60.0, 204.0, 80.0, 70.0, 65.0, 35.0, 250.0, 75.0, 65.0, 125.0, 35.0, 45.0, 41.0, 120.0, 75.0, 109.0, 286.0, 190.0, 100.0, 200.0, 68.0, 80.0, 50.0, 90.0, 150.0, 46.0, 48.0, 85.0, 200.0, 69.0, 192.0, 110.0, 200.0, 45.0, 40.0, 60.0, 38.0, 88.0, 82.0, 150.0, 195.0, 75.0, 89.0, 78.0, 180.0, 130.0, 124.0, 45.0, 199.0, 200.0, 45.0, 60.0, 109.0, 46.0, 69.0, 45.0, 150.0, 180.0, 200.0, 19.0, 195.0, 52.0, 110.0, 295.0, 125.0, 100.0, 135.0, 46.0, 225.0, 50.0, 300.0, 47.0, 85.0, 60.0, 90.0, 49.0, 75.0, 76.0, 220.0, 250.0, 20.0, 100.0, 85.0, 140.0, 55.0, 109.0, 125.0, 46.0, 40.0, 150.0, 75.0, 175.0, 106.0, 60.0, 65.0, 115.0, 60.0, 35.0, 60.0, 179.0, 63.0, 87.0, 59.0, 60.0, 115.0, 71.0, 60.0, 99.0, 138.0, 70.0, 120.0, 99.0, 79.0, 60.0, 60.0, 139.0, 40.0, 50.0, 90.0, 55.0, 80.0, 95.0, 52.0, 68.0, 265.0, 200.0, 150.0, 185.0, 150.0, 80.0, 90.0, 104.0, 135.0, 99.0, 126.0, 45.0, 90.0, 60.0, 180.0, 120.0, 75.0, 75.0, 295.0, 98.0, 38.0, 96.0, 65.0, 108.0, 110.0, 110.0, 35.0, 179.0, 60.0, 60.0, 150.0, 100.0, 250.0, 150.0, 87.0, 72.0, 65.0, 125.0, 120.0, 125.0, 100.0, 180.0, 170.0, 121.0, 178.0, 70.0, 80.0, 89.0, 71.0, 50.0, 70.0, 69.0, 150.0, 75.0, 140.0, 59.0, 38.0, 98.0, 85.0, 50.0, 24.0, 120.0, 100.0, 200.0, 35.0, 90.0, 48.0, 100.0, 139.0, 98.0, 120.0, 130.0, 135.0, 234.0, 246.0, 295.0, 100.0, 225.0, 55.0, 65.0, 75.0, 80.0, 120.0, 55.0, 232.0, 114.0, 110.0, 200.0, 250.0, 50.0, 150.0, 300.0, 206.0, 119.0, 130.0, 43.0, 50.0, 199.0, 165.0, 199.0, 150.0, 79.0, 168.0, 175.0, 99.0, 156.0, 85.0, 70.0, 95.0, 180.0, 159.0, 73.0, 59.0, 36.0, 90.0, 126.0, 210.0, 160.0, 80.0, 58.0, 70.0, 235.0, 150.0, 45.0, 75.0, 170.0, 120.0, 32.0, 100.0, 100.0, 203.0, 75.0, 70.0, 79.0, 115.0, 140.0, 160.0, 20.0, 78.0, 135.0, 140.0, 40.0, 66.0, 101.0, 155.0, 300.0, 100.0, 65.0, 235.0, 275.0, 85.0, 165.0, 65.0, 119.0, 275.0, 51.0, 79.0, 160.0, 80.0, 64.0, 295.0, 60.0, 45.0, 80.0, 60.0, 150.0, 199.0, 200.0, 63.0, 193.0, 100.0, 172.0, 23.0, 286.0, 50.0, 55.0, 95.0, 44.0, 110.0, 70.0, 35.0, 200.0, 210.0, 75.0, 50.0, 39.0, 66.0, 135.0, 93.0, 230.0, 225.0, 22.0, 101.0, 220.0, 50.0, 68.0, 230.0, 95.0, 125.0, 40.0, 80.0, 30.0, 129.0, 149.0, 55.0, 58.0, 92.0, 75.0, 79.0, 75.0, 87.0, 48.0, 70.0, 29.0, 110.0, 155.0, 160.0, 160.0, 151.0, 60.0, 75.0, 300.0, 75.0, 190.0, 106.0, 100.0, 65.0, 75.0, 39.0, 111.0, 239.0, 43.0, 99.0, 45.0, 275.0, 150.0, 200.0, 85.0, 110.0, 196.0, 41.0, 125.0, 124.0, 74.0, 99.0, 150.0, 230.0, 180.0, 200.0, 50.0, 100.0, 70.0, 100.0, 300.0, 65.0, 89.0, 125.0, 110.0, 125.0, 60.0, 50.0, 179.0, 50.0, 250.0, 55.0, 75.0, 60.0, 115.0, 40.0, 50.0, 91.0, 99.0, 100.0, 259.0, 100.0, 107.0, 70.0, 125.0, 51.0, 96.0, 70.0, 178.0, 77.0, 150.0, 150.0, 75.0, 100.0, 150.0, 71.0, 32.0, 125.0, 34.0, 232.0, 175.0, 100.0, 110.0, 125.0, 48.0, 110.0, 90.0, 80.0, 165.0, 70.0, 180.0, 70.0, 185.0, 50.0, 53.0, 24.0, 49.0, 23.0, 50.0, 65.0, 125.0, 226.0, 70.0, 95.0, 105.0, 80.0, 35.0, 120.0, 80.0, 41.0, 66.0, 72.0, 125.0, 200.0, 175.0, 49.0, 43.0, 70.0, 190.0, 200.0, 150.0, 68.0, 48.0, 53.0, 120.0, 77.0, 119.0, 106.0, 155.0, 68.0, 190.0, 71.0, 149.0, 143.0, 246.0, 210.0, 120.0, 66.0, 180.0, 85.0, 150.0, 118.0, 85.0, 175.0, 95.0, 149.0, 129.0, 150.0, 200.0, 48.0, 24.0, 79.0, 80.0, 86.0, 70.0, 300.0, 90.0, 195.0, 140.0, 35.0, 83.0, 205.0, 80.0, 61.0, 100.0, 70.0, 100.0, 245.0, 99.0, 53.0, 95.0, 149.0, 240.0, 49.0, 120.0, 130.0, 80.0, 110.0, 265.0, 200.0, 178.0, 139.0, 49.0, 92.0, 55.0, 300.0, 75.0, 49.0, 44.0, 10.0, 200.0, 80.0, 65.0, 55.0, 23.0, 175.0, 60.0, 85.0, 110.0, 100.0, 38.0, 76.0, 85.0, 150.0, 137.0, 95.0, 45.0, 66.0, 72.0, 150.0, 185.0, 165.0, 61.0, 51.0, 184.0, 100.0, 210.0, 121.0, 50.0, 95.0, 80.0, 44.0, 75.0, 45.0, 92.0, 44.0, 61.0, 95.0, 75.0, 150.0, 49.0, 109.0, 70.0, 165.0, 29.0, 150.0, 25.0, 51.0, 135.0, 150.0, 26.0, 16.0, 150.0, 60.0, 218.0, 96.0, 220.0, 111.0, 185.0, 70.0, 149.0, 51.0, 55.0, 270.0, 85.0, 73.0, 65.0, 120.0, 55.0, 41.0, 54.0, 155.0, 120.0, 135.0, 34.0, 200.0, 150.0, 150.0, 90.0, 93.0, 70.0, 27.0, 100.0, 85.0, 79.0, 49.0, 161.0, 40.0, 23.0, 25.0, 250.0, 200.0, 50.0, 75.0, 146.0, 58.0, 135.0, 150.0, 58.0, 179.0, 265.0, 95.0, 45.0, 70.0, 125.0, 120.0, 89.0, 40.0, 110.0, 75.0, 150.0, 27.0, 55.0, 33.0, 99.0, 65.0, 70.0, 194.0, 55.0, 160.0, 175.0, 65.0, 245.0, 135.0, 225.0, 200.0, 28.0, 150.0, 45.0, 113.0, 51.0, 45.0, 115.0, 95.0, 35.0, 99.0, 115.0, 49.0, 175.0, 200.0, 77.0, 186.0, 124.0, 146.0, 80.0, 99.0, 79.0, 60.0, 62.0, 147.0, 58.0, 49.0, 79.0, 70.0, 55.0, 35.0, 35.0, 225.0, 80.0, 70.0, 180.0, 116.0, 38.0, 79.0, 175.0, 89.0, 75.0, 45.0, 263.0, 110.0, 61.0, 150.0, 96.0, 101.0, 123.0, 40.0, 300.0, 20.0, 31.0, 50.0, 50.0, 152.0, 50.0, 300.0, 98.0, 89.0, 125.0, 120.0, 125.0, 250.0, 55.0, 35.0, 57.0, 150.0, 95.0, 150.0, 60.0, 110.0, 85.0, 150.0, 90.0, 115.0, 65.0, 82.0, 140.0, 35.0, 40.0, 75.0, 250.0, 65.0, 40.0, 30.0, 95.0, 75.0, 114.0, 79.0, 275.0, 39.0, 37.0, 150.0, 40.0, 30.0, 45.0, 100.0, 125.0, 86.0, 185.0, 75.0, 55.0, 165.0, 55.0, 150.0, 30.0, 280.0, 50.0, 140.0, 87.0, 215.0, 155.0, 145.0, 148.0, 207.0, 60.0, 59.0, 100.0, 150.0, 275.0, 99.0, 142.0, 45.0, 45.0, 40.0, 40.0, 100.0, 155.0, 50.0, 98.0, 225.0, 73.0, 250.0, 149.0, 50.0, 55.0, 110.0, 150.0, 79.0, 78.0, 72.0, 39.0, 56.0, 52.0, 145.0, 164.0, 125.0, 55.0, 150.0, 75.0, 120.0, 150.0, 87.0, 200.0, 150.0, 79.0, 106.0, 100.0, 125.0, 90.0, 120.0, 125.0, 150.0, 65.0, 225.0, 120.0, 49.0, 35.0, 60.0, 120.0, 120.0, 120.0, 156.0, 281.0, 55.0, 50.0, 65.0, 225.0, 70.0, 40.0, 21.0, 105.0, 179.0, 84.0, 250.0, 140.0, 34.0, 90.0, 54.0, 110.0, 119.0, 37.0, 145.0, 49.0, 100.0, 26.0, 55.0, 145.0, 45.0, 90.0, 97.0, 100.0, 110.0, 70.0, 180.0, 31.0, 70.0, 125.0, 75.0, 41.0, 65.0, 77.0, 35.0, 76.0, 155.0, 81.0, 180.0, 285.0, 170.0, 40.0, 120.0, 125.0, 50.0, 98.0, 100.0, 192.0, 109.0, 50.0, 92.0, 55.0, 113.0, 199.0, 116.0, 75.0, 120.0, 110.0, 80.0, 170.0, 200.0, 42.0, 85.0, 115.0, 50.0, 64.0, 95.0, 200.0, 65.0, 53.0, 200.0, 175.0, 75.0, 149.0, 135.0, 120.0, 135.0, 125.0, 150.0, 99.0, 69.0, 75.0, 53.0, 39.0, 250.0, 225.0, 180.0, 210.0, 200.0, 75.0, 150.0, 40.0, 56.0, 45.0, 50.0, 140.0, 59.0, 85.0, 120.0, 115.0, 70.0, 85.0, 40.0, 40.0, 100.0, 59.0, 180.0, 48.0, 70.0, 104.0, 160.0, 135.0, 32.0, 75.0, 80.0, 40.0, 40.0, 76.0, 65.0, 53.0, 38.0, 246.0, 38.0, 185.0, 85.0, 300.0, 55.0, 33.0, 170.0, 155.0, 185.0, 80.0, 80.0, 60.0, 38.0, 254.0, 120.0, 60.0, 90.0, 160.0, 55.0, 160.0, 218.0, 135.0, 150.0, 75.0, 157.0, 29.0, 80.0, 47.0, 100.0, 89.0, 120.0, 40.0, 80.0, 25.0, 20.0, 50.0, 130.0, 100.0, 135.0, 40.0, 31.0, 50.0, 232.0, 30.0, 56.0, 110.0, 68.0, 130.0, 75.0, 125.0, 250.0, 65.0, 48.0, 45.0, 26.0, 120.0, 60.0, 125.0, 250.0, 36.0, 89.0, 70.0, 60.0, 165.0, 119.0, 175.0, 50.0, 163.0, 210.0, 126.0, 62.0, 47.0, 235.0, 300.0, 280.0, 200.0, 215.0, 99.0, 230.0, 143.0, 220.0, 200.0, 160.0, 253.0, 85.0, 30.0, 65.0, 125.0, 116.0, 80.0, 100.0, 80.0, 190.0, 82.0, 90.0, 90.0, 250.0, 150.0, 70.0, 74.0, 40.0, 125.0, 57.0, 160.0, 175.0, 38.0, 140.0, 110.0, 150.0, 126.0, 35.0, 110.0, 82.0, 50.0, 150.0, 92.0, 42.0, 92.0, 49.0, 60.0, 199.0, 100.0, 60.0, 195.0, 75.0, 150.0, 91.0, 108.0, 250.0, 45.0, 66.0, 50.0, 130.0, 195.0, 60.0, 150.0, 40.0, 83.0, 76.0, 129.0, 100.0, 185.0, 30.0, 140.0, 85.0, 52.0, 200.0, 65.0, 69.0, 60.0, 175.0, 100.0, 139.0, 80.0, 70.0, 45.0, 80.0, 75.0, 100.0, 298.0, 50.0, 125.0, 39.0, 175.0, 95.0, 90.0, 60.0, 175.0, 100.0, 76.0, 90.0, 119.0, 175.0, 65.0, 61.0, 101.0, 55.0, 110.0, 225.0, 89.0, 55.0, 44.0, 90.0, 61.0, 55.0, 150.0, 83.0, 75.0, 91.0, 21.0, 110.0, 77.0, 120.0, 36.0, 83.0, 89.0, 285.0, 75.0, 45.0, 40.0, 40.0, 40.0, 90.0, 60.0, 87.0, 58.0, 54.0, 40.0, 170.0, 154.0, 130.0, 68.0, 79.0, 295.0, 120.0, 75.0, 75.0, 120.0, 200.0, 105.0, 112.0, 170.0, 215.0, 99.0, 120.0, 130.0, 100.0, 100.0, 69.0, 55.0, 125.0, 106.0, 185.0, 75.0, 99.0, 154.0, 150.0, 160.0, 100.0, 79.0, 90.0, 105.0, 79.0, 75.0, 200.0, 119.0, 116.0, 59.0, 120.0, 64.0, 33.0, 70.0, 39.0, 60.0, 41.0, 150.0, 32.0, 60.0, 150.0, 66.0, 300.0, 70.0, 75.0, 105.0, 120.0, 80.0, 185.0, 28.0, 75.0, 189.0, 120.0, 120.0, 110.0, 32.0, 125.0, 69.0, 83.0, 200.0, 265.0, 80.0, 130.0, 120.0, 180.0, 150.0, 101.0, 165.0, 63.0, 135.0, 60.0, 59.0, 175.0, 43.0, 140.0, 137.0, 88.0, 50.0, 275.0, 160.0, 149.0, 55.0, 250.0, 199.0, 220.0, 71.0, 65.0, 69.0, 56.0, 176.0, 50.0, 225.0, 98.0, 150.0, 80.0, 202.0, 90.0, 250.0, 30.0, 220.0, 89.0, 65.0, 157.0, 65.0, 65.0, 250.0, 125.0, 45.0, 67.0, 120.0, 40.0, 93.0, 55.0, 21.0, 60.0, 179.0, 49.0, 150.0, 65.0, 55.0, 39.0, 140.0, 120.0, 89.0, 60.0, 105.0, 109.0, 65.0, 175.0, 65.0, 124.0, 78.0, 99.0, 106.0, 199.0, 65.0, 46.0, 80.0, 141.0, 115.0, 180.0, 88.0, 55.0, 89.0, 80.0, 52.0, 105.0, 250.0, 109.0, 145.0, 60.0, 300.0, 190.0, 89.0, 39.0, 60.0, 36.0, 41.0, 300.0, 175.0, 40.0, 175.0, 150.0, 45.0, 135.0, 62.0, 85.0, 289.0, 275.0, 175.0, 55.0, 85.0, 29.0, 60.0, 90.0, 56.0, 65.0, 77.0, 51.0, 221.0, 115.0, 80.0, 65.0, 36.0, 123.0, 150.0, 85.0, 110.0, 200.0, 175.0, 60.0, 75.0, 90.0, 65.0, 142.0, 175.0, 275.0, 107.0, 97.0, 61.0, 115.0, 95.0, 39.0, 70.0, 60.0, 65.0, 80.0, 197.0, 43.0, 45.0, 80.0, 65.0, 75.0, 55.0, 50.0, 130.0, 111.0, 51.0, 176.0, 50.0, 71.0, 93.0, 58.0, 55.0, 35.0, 144.0, 159.0, 23.0, 180.0, 95.0, 55.0, 200.0, 130.0, 40.0, 150.0, 275.0, 150.0, 50.0, 69.0, 200.0, 33.0, 105.0, 55.0, 83.0, 119.0, 65.0, 167.0, 91.0, 64.0, 160.0, 164.0, 200.0, 146.0, 160.0, 55.0, 80.0, 55.0, 140.0, 46.0, 145.0, 55.0, 99.0, 58.0, 22.0, 157.0, 59.0, 50.0, 130.0, 125.0, 45.0, 50.0, 21.0, 175.0, 175.0, 56.0, 199.0, 65.0, 120.0, 150.0, 65.0, 156.0, 110.0, 34.0, 69.0, 44.0, 155.0, 46.0, 100.0, 137.0, 70.0, 50.0, 89.0, 129.0, 50.0, 35.0, 135.0, 125.0, 100.0, 264.0, 243.0, 55.0, 75.0, 38.0, 60.0, 88.0, 133.0, 39.0, 85.0, 111.0, 25.0, 100.0, 30.0, 275.0, 24.0, 27.0, 68.0, 170.0, 45.0, 60.0, 200.0, 152.0, 95.0, 50.0, 99.0, 272.0, 128.0, 116.0, 150.0, 250.0, 86.0, 150.0, 71.0, 106.0, 225.0, 225.0, 150.0, 150.0, 100.0, 77.0, 249.0, 67.0, 115.0, 130.0, 250.0, 96.0, 150.0, 99.0, 85.0, 27.0, 50.0, 50.0, 60.0, 42.0, 140.0, 49.0, 91.0, 50.0, 76.0, 40.0, 47.0, 235.0, 46.0, 80.0, 45.0, 189.0, 185.0, 60.0, 45.0, 150.0, 200.0, 90.0, 110.0, 95.0, 75.0, 85.0, 58.0, 175.0, 65.0, 75.0, 55.0, 45.0, 50.0, 60.0, 293.0, 100.0, 80.0, 161.0, 60.0, 75.0, 61.0, 73.0, 120.0, 150.0, 85.0, 70.0, 89.0, 79.0, 100.0, 113.0, 95.0, 95.0, 38.0, 85.0, 280.0, 55.0, 119.0, 94.0, 150.0, 85.0, 37.0, 200.0, 119.0, 140.0, 100.0, 185.0, 175.0, 49.0, 116.0, 37.0, 198.0, 95.0, 40.0, 295.0, 77.0, 96.0, 290.0, 57.0, 86.0, 98.0, 71.0, 65.0, 300.0, 200.0, 199.0, 85.0, 100.0, 90.0, 150.0, 70.0, 68.0, 91.0, 190.0, 240.0, 50.0, 100.0, 43.0, 214.0, 100.0, 50.0, 109.0, 109.0, 150.0, 59.0, 180.0, 229.0, 70.0, 60.0, 200.0, 255.0, 150.0, 50.0, 175.0, 170.0, 120.0, 98.0, 35.0, 79.0, 48.0, 120.0, 45.0, 150.0, 64.0, 130.0, 180.0, 45.0, 106.0, 30.0, 146.0, 119.0, 30.0, 80.0, 120.0, 53.0, 69.0, 70.0, 65.0, 48.0, 90.0, 75.0, 230.0, 65.0, 250.0, 99.0, 54.0, 60.0, 146.0, 70.0, 99.0, 53.0, 150.0, 179.0, 164.0, 180.0, 100.0, 70.0, 149.0, 70.0, 120.0, 94.0, 300.0, 85.0, 55.0, 86.0, 99.0, 55.0, 105.0, 130.0, 200.0, 80.0, 160.0, 50.0, 140.0, 171.0, 74.0, 250.0, 39.0, 45.0, 105.0, 75.0, 275.0, 45.0, 132.0, 58.0, 90.0, 100.0, 150.0, 85.0, 199.0, 190.0, 119.0, 25.0, 120.0, 75.0, 24.0, 85.0, 244.0, 50.0, 63.0, 139.0, 97.0, 214.0, 55.0, 83.0, 125.0, 45.0, 98.0, 44.0, 150.0, 198.0, 55.0, 70.0, 65.0, 49.0, 159.0, 90.0, 188.0, 140.0, 217.0, 60.0, 150.0, 100.0, 120.0, 90.0, 185.0, 25.0, 130.0, 25.0, 25.0, 44.0, 25.0, 140.0, 180.0, 180.0, 180.0, 115.0, 89.0, 75.0, 150.0, 79.0, 118.0, 100.0, 149.0, 53.0, 100.0, 32.0, 65.0, 64.0, 57.0, 39.0, 140.0, 196.0, 159.0, 150.0, 49.0, 179.0, 89.0, 129.0, 65.0, 105.0, 55.0, 55.0, 72.0, 65.0, 140.0, 210.0, 90.0, 90.0, 150.0, 180.0, 33.0, 55.0, 107.0, 82.0, 65.0, 50.0, 100.0, 150.0, 65.0, 91.0, 60.0, 55.0, 55.0, 125.0, 75.0, 200.0, 120.0, 140.0, 109.0, 27.0, 111.0, 151.0, 50.0, 63.0, 199.0, 152.0, 175.0, 101.0, 85.0, 39.0, 120.0, 48.0, 195.0, 50.0, 95.0, 98.0, 194.0, 36.0, 126.0, 80.0, 81.0, 285.0, 40.0, 68.0, 37.0, 43.0, 215.0, 175.0, 85.0, 75.0, 140.0, 90.0, 60.0, 50.0, 250.0, 135.0, 150.0, 46.0, 32.0, 100.0, 31.0, 110.0, 50.0, 47.0, 200.0, 300.0, 230.0, 200.0, 155.0, 193.0, 60.0, 239.0, 214.0, 41.0, 84.0, 50.0, 99.0, 287.0, 100.0, 75.0, 125.0, 172.0, 95.0, 120.0, 75.0, 225.0, 150.0, 60.0, 60.0, 150.0, 90.0, 100.0, 300.0, 35.0, 50.0, 47.0, 96.0, 41.0, 125.0, 65.0, 43.0, 35.0, 95.0, 125.0, 65.0, 40.0, 36.0, 89.0, 115.0, 165.0, 200.0, 100.0, 97.0, 40.0, 160.0, 54.0, 46.0, 53.0, 105.0, 220.0, 130.0, 47.0, 125.0, 75.0, 78.0, 44.0, 150.0, 43.0, 54.0, 150.0, 140.0, 29.0, 72.0, 150.0, 40.0, 185.0, 35.0, 150.0, 75.0, 150.0, 90.0, 110.0, 39.0, 40.0, 200.0, 35.0, 70.0, 70.0, 19.0, 140.0, 89.0, 240.0, 28.0, 92.0, 77.0, 94.0, 73.0, 81.0, 55.0, 100.0, 80.0, 186.0, 45.0, 59.0, 65.0, 60.0, 57.0, 150.0, 60.0, 110.0, 42.0, 43.0, 48.0, 50.0, 48.0, 54.0, 48.0, 48.0, 44.0, 47.0, 100.0, 240.0, 66.0, 43.0, 80.0, 114.0, 57.0, 53.0, 95.0, 96.0, 41.0, 105.0, 60.0, 269.0, 250.0, 214.0, 185.0, 70.0, 55.0, 165.0, 75.0, 55.0, 200.0, 140.0, 90.0, 53.0, 57.0, 57.0, 94.0, 99.0, 95.0, 50.0, 22.0, 125.0, 50.0, 80.0, 150.0, 164.0, 215.0, 225.0, 110.0, 185.0, 75.0, 190.0, 232.0, 250.0, 174.0, 95.0, 256.0, 85.0, 80.0, 107.0, 120.0, 140.0, 70.0, 56.0, 250.0, 15.0, 105.0, 78.0, 200.0, 65.0, 50.0, 85.0, 100.0, 150.0, 100.0, 110.0, 250.0, 100.0, 49.0, 46.0, 130.0, 40.0, 80.0, 99.0, 85.0, 47.0, 60.0, 110.0, 101.0, 146.0, 160.0, 65.0, 69.0, 150.0, 31.0, 150.0, 25.0, 115.0, 80.0, 97.0, 154.0, 90.0, 110.0, 40.0, 100.0, 68.0, 257.0, 50.0, 288.0, 68.0, 39.0, 56.0, 88.0, 100.0, 191.0, 52.0, 59.0, 133.0, 40.0, 85.0, 120.0, 50.0, 156.0, 50.0, 101.0, 69.0, 45.0, 144.0, 165.0, 74.0, 235.0, 62.0, 100.0, 41.0, 120.0, 37.0, 85.0, 150.0, 50.0, 119.0, 82.0, 26.0, 50.0, 65.0, 236.0, 80.0, 28.0, 150.0, 110.0, 79.0, 140.0, 57.0, 60.0, 110.0, 105.0, 75.0, 175.0, 70.0, 175.0, 200.0, 100.0, 95.0, 55.0, 99.0, 140.0, 155.0, 69.0, 85.0, 200.0, 93.0, 27.0, 165.0, 75.0, 96.0, 250.0, 65.0, 79.0, 53.0, 100.0, 290.0, 69.0, 53.0, 48.0, 30.0, 60.0, 50.0, 125.0, 249.0, 120.0, 50.0, 52.0, 59.0, 66.0, 40.0, 66.0, 81.0, 80.0, 200.0, 65.0, 116.0, 179.0, 139.0, 70.0, 167.0, 130.0, 190.0, 45.0, 151.0, 125.0, 180.0, 200.0, 170.0, 40.0, 20.0, 95.0, 27.0, 27.0, 80.0, 140.0, 130.0, 55.0, 55.0, 140.0, 51.0, 175.0, 55.0, 55.0, 208.0, 40.0, 145.0, 150.0, 70.0, 69.0, 110.0, 125.0, 149.0, 39.0, 92.0, 130.0, 50.0, 59.0, 70.0, 105.0, 150.0, 71.0, 70.0, 29.0, 58.0, 38.0, 175.0, 89.0, 55.0, 68.0, 185.0, 90.0, 70.0, 73.0, 125.0, 131.0, 59.0, 125.0, 50.0, 126.0, 123.0, 61.0, 66.0, 40.0, 150.0, 249.0, 200.0, 100.0, 61.0, 48.0, 100.0, 40.0, 71.0, 50.0, 271.0, 88.0, 65.0, 130.0, 95.0, 200.0, 250.0, 82.0, 81.0, 46.0, 100.0, 149.0, 66.0, 77.0, 75.0, 100.0, 70.0, 142.0, 195.0, 131.0, 42.0, 93.0, 100.0, 70.0, 45.0, 100.0, 43.0, 100.0, 189.0, 175.0, 69.0, 65.0, 130.0, 89.0, 124.0, 125.0, 180.0, 300.0, 165.0, 99.0, 180.0, 250.0, 50.0, 215.0, 40.0, 98.0, 49.0, 180.0, 135.0, 136.0, 69.0, 86.0, 142.0, 63.0, 225.0, 88.0, 71.0, 125.0, 53.0, 53.0, 25.0, 60.0, 50.0, 148.0, 69.0, 240.0, 100.0, 53.0, 165.0, 149.0, 204.0, 55.0, 75.0, 125.0, 205.0, 35.0, 173.0, 40.0, 41.0, 63.0, 33.0, 32.0, 96.0, 130.0, 142.0, 100.0, 135.0, 110.0, 55.0, 88.0, 50.0, 99.0, 43.0, 69.0, 60.0, 73.0, 295.0, 262.0, 130.0, 157.0, 150.0, 60.0, 70.0, 200.0, 50.0, 120.0, 160.0, 60.0, 64.0, 40.0, 55.0, 140.0, 100.0, 175.0, 89.0, 29.0, 61.0, 100.0, 265.0, 73.0, 70.0, 107.0, 55.0, 58.0, 78.0, 99.0, 75.0, 70.0, 95.0, 215.0, 95.0, 22.0, 23.0, 119.0, 105.0, 70.0, 102.0, 90.0, 100.0, 120.0, 209.0, 69.0, 40.0, 180.0, 71.0, 152.0, 59.0, 130.0, 50.0, 130.0, 124.0, 35.0, 200.0, 70.0, 100.0, 130.0, 80.0, 175.0, 75.0, 179.0, 195.0, 200.0, 50.0, 250.0, 290.0, 39.0, 89.0, 139.0, 120.0, 120.0, 45.0, 109.0, 50.0, 70.0, 160.0, 36.0, 98.0, 162.0, 99.0, 145.0, 88.0, 140.0, 38.0, 59.0, 125.0, 38.0, 200.0, 95.0, 70.0, 125.0, 150.0, 98.0, 125.0, 165.0, 94.0, 85.0, 98.0, 83.0, 185.0, 100.0, 153.0, 75.0, 275.0, 30.0, 150.0, 70.0, 125.0, 45.0, 169.0, 175.0, 209.0, 49.0, 150.0, 80.0, 259.0, 45.0, 70.0, 50.0, 114.0, 55.0, 150.0, 15.0, 60.0, 50.0, 90.0, 183.0, 100.0, 51.0, 185.0, 75.0, 85.0, 69.0, 180.0, 225.0, 150.0, 190.0, 280.0, 140.0, 150.0, 110.0, 140.0, 122.0, 110.0, 70.0, 242.0, 33.0, 63.0, 39.0, 175.0, 40.0, 42.0, 70.0, 79.0, 300.0, 60.0, 200.0, 120.0, 23.0, 34.0, 124.0, 52.0, 43.0, 255.0, 167.0, 160.0, 151.0, 160.0, 75.0, 150.0, 99.0, 49.0, 145.0, 180.0, 140.0, 39.0, 260.0, 75.0, 170.0, 170.0, 147.0, 86.0, 139.0, 77.0, 42.0, 38.0, 236.0, 90.0, 128.0, 77.0, 55.0, 59.0, 108.0, 62.0, 185.0, 100.0, 250.0, 50.0, 22.0, 59.0, 250.0, 52.0, 110.0, 76.0, 44.0, 42.0, 50.0, 44.0, 43.0, 179.0, 150.0, 179.0, 50.0, 235.0, 100.0, 60.0, 170.0, 300.0, 45.0, 50.0, 98.0, 200.0, 299.0, 125.0, 136.0, 92.0, 28.0, 57.0, 92.0, 118.0, 120.0, 55.0, 100.0, 59.0, 36.0, 90.0, 56.0, 80.0, 106.0, 95.0, 60.0, 285.0, 60.0, 26.0, 55.0, 110.0, 195.0, 120.0, 150.0, 150.0, 80.0, 125.0, 125.0, 95.0, 59.0, 52.0, 23.0, 110.0, 46.0, 200.0, 140.0, 49.0, 175.0, 52.0, 97.0, 275.0, 100.0, 100.0, 135.0, 104.0, 60.0, 293.0, 100.0, 80.0, 40.0, 139.0, 85.0, 50.0, 150.0, 119.0, 150.0, 75.0, 120.0, 300.0, 29.0, 89.0, 99.0, 231.0, 120.0, 28.0, 100.0, 145.0, 250.0, 150.0, 55.0, 80.0, 61.0, 99.0, 70.0, 55.0, 80.0, 60.0, 119.0, 135.0, 221.0, 108.0, 81.0, 58.0, 80.0, 180.0, 150.0, 180.0, 30.0, 128.0, 180.0, 60.0, 195.0, 68.0, 65.0, 63.0, 88.0, 103.0, 115.0, 150.0, 73.0, 140.0, 50.0, 100.0, 139.0, 200.0, 99.0, 250.0, 125.0, 129.0, 150.0, 225.0, 108.0, 135.0, 93.0, 275.0, 100.0, 49.0, 165.0, 37.0, 60.0, 121.0, 106.0, 85.0, 200.0, 225.0, 38.0, 50.0, 119.0, 56.0, 50.0, 65.0, 71.0, 164.0, 155.0, 75.0, 70.0, 85.0, 145.0, 150.0, 179.0, 80.0, 40.0, 90.0, 40.0, 100.0, 150.0, 97.0, 100.0, 75.0, 250.0, 171.0, 89.0, 38.0, 60.0, 81.0, 180.0, 99.0, 250.0, 97.0, 80.0, 49.0, 45.0, 299.0, 65.0, 107.0, 60.0, 50.0, 100.0, 300.0, 60.0, 79.0, 300.0, 64.0, 41.0, 65.0, 170.0, 23.0, 166.0, 80.0, 71.0, 90.0, 85.0, 60.0, 150.0, 100.0, 60.0, 225.0, 150.0, 78.0, 60.0, 69.0, 62.0, 62.0, 230.0, 195.0, 69.0, 60.0, 98.0, 74.0, 59.0, 168.0, 150.0, 60.0, 90.0, 150.0, 245.0, 90.0, 173.0, 45.0, 99.0, 150.0, 130.0, 69.0, 33.0, 164.0, 87.0, 300.0, 131.0, 230.0, 74.0, 180.0, 190.0, 167.0, 170.0, 120.0, 70.0, 29.0, 48.0, 85.0, 67.0, 185.0, 30.0, 150.0, 179.0, 115.0, 200.0, 160.0, 150.0, 190.0, 70.0, 76.0, 150.0, 110.0, 140.0, 199.0, 35.0, 152.0, 45.0, 110.0, 70.0, 216.0, 175.0, 150.0, 68.0, 150.0, 119.0, 83.0, 179.0, 110.0, 45.0, 150.0, 100.0, 75.0, 40.0, 49.0, 45.0, 49.0, 46.0, 60.0, 46.0, 49.0, 160.0, 31.0, 175.0, 80.0, 37.0, 125.0, 113.0, 125.0, 60.0, 199.0, 100.0, 64.0, 150.0, 200.0, 160.0, 25.0, 275.0, 275.0, 287.0, 105.0, 86.0, 85.0, 41.0, 130.0, 45.0, 25.0, 299.0, 65.0, 58.0, 280.0, 50.0, 80.0, 67.0, 34.0, 32.0, 28.0, 180.0, 134.0, 79.0, 59.0, 60.0, 65.0, 50.0, 300.0, 200.0, 150.0, 100.0, 75.0, 65.0, 100.0, 264.0, 90.0, 45.0, 70.0, 60.0, 55.0, 300.0, 180.0, 200.0, 100.0, 65.0, 232.0, 148.0, 62.0, 299.0, 88.0, 34.0, 55.0, 225.0, 76.0, 140.0, 42.0, 120.0, 65.0, 103.0, 137.0, 83.0, 102.0, 105.0, 198.0, 63.0, 135.0, 82.0, 100.0, 189.0, 89.0, 53.0, 75.0, 68.0, 55.0, 60.0, 85.0, 116.0, 60.0, 40.0, 60.0, 141.0, 140.0, 272.0, 231.0, 249.0, 116.0, 250.0, 300.0, 280.0, 39.0, 44.0, 135.0, 126.0, 55.0, 45.0, 100.0, 186.0, 143.0, 95.0, 23.0, 36.0, 60.0, 147.0, 100.0, 300.0, 35.0, 63.0, 100.0, 219.0, 206.0, 217.0, 106.0, 208.0, 80.0, 90.0, 140.0, 120.0, 110.0, 75.0, 150.0, 95.0, 70.0, 48.0, 125.0, 150.0, 90.0, 140.0, 132.0, 57.0, 86.0, 50.0, 60.0, 69.0, 75.0, 195.0, 40.0, 48.0, 195.0, 26.0, 150.0, 115.0, 98.0, 135.0, 79.0, 80.0, 100.0, 65.0, 55.0, 86.0, 249.0, 299.0, 59.0, 120.0, 125.0, 50.0, 45.0, 200.0, 122.0, 180.0, 70.0, 90.0, 60.0, 44.0, 175.0, 160.0, 270.0, 80.0, 52.0, 130.0, 190.0, 100.0, 250.0, 166.0, 250.0, 175.0, 99.0, 295.0, 50.0, 100.0, 299.0, 102.0, 300.0, 60.0, 77.0, 75.0, 85.0, 125.0, 50.0, 170.0, 140.0, 109.0, 70.0, 199.0, 125.0, 130.0, 119.0, 175.0, 115.0, 73.0, 70.0, 100.0, 135.0, 140.0, 65.0, 210.0, 140.0, 90.0, 200.0, 90.0, 100.0, 99.0, 250.0, 80.0, 61.0, 200.0, 30.0, 121.0, 90.0, 36.0, 36.0, 168.0, 75.0, 108.0, 112.0, 150.0, 51.0, 150.0, 69.0, 60.0, 180.0, 50.0, 100.0, 115.0, 200.0, 299.0, 125.0, 150.0, 125.0, 100.0, 85.0, 94.0, 94.0, 90.0, 200.0, 115.0, 174.0, 70.0, 299.0, 299.0, 269.0, 249.0, 150.0, 27.0, 82.0, 135.0, 84.0, 199.0, 70.0, 40.0, 44.0, 50.0, 129.0, 295.0, 31.0, 55.0, 83.0, 265.0, 289.0, 200.0, 89.0, 150.0, 135.0, 130.0, 150.0, 275.0, 97.0, 70.0, 80.0, 39.0, 120.0, 65.0, 105.0, 36.0, 73.0, 51.0, 90.0, 197.0, 65.0, 150.0, 191.0, 60.0, 35.0, 106.0, 245.0, 70.0, 150.0, 249.0, 299.0, 43.0, 28.0, 23.0, 165.0, 80.0, 65.0, 104.0, 129.0, 100.0, 275.0, 81.0, 35.0, 275.0, 200.0, 135.0, 75.0, 275.0, 95.0, 69.0, 147.0, 45.0, 70.0, 260.0, 57.0, 60.0, 50.0, 47.0, 49.0, 135.0, 120.0, 64.0, 75.0, 85.0, 149.0, 55.0, 116.0, 71.0, 26.0, 42.0, 46.0, 52.0, 47.0, 250.0, 50.0, 105.0, 120.0, 150.0, 70.0, 65.0, 100.0, 85.0, 98.0, 150.0, 135.0, 100.0, 60.0, 51.0, 96.0, 100.0, 36.0, 175.0, 45.0, 65.0, 210.0, 92.0, 107.0, 68.0, 200.0, 160.0, 79.0, 100.0, 90.0, 52.0, 59.0, 56.0, 103.0, 50.0, 65.0, 39.0, 57.0, 36.0, 45.0, 60.0, 100.0, 23.0, 199.0, 80.0, 60.0, 250.0, 150.0, 59.0, 55.0, 259.0, 259.0, 136.0, 259.0, 179.0, 179.0, 51.0, 110.0, 138.0, 130.0, 110.0, 55.0, 24.0, 80.0, 190.0, 295.0, 138.0, 200.0, 100.0, 65.0, 90.0, 99.0, 42.0, 97.0, 120.0, 70.0, 35.0, 173.0, 200.0, 40.0, 204.0, 90.0, 150.0, 80.0, 89.0, 35.0, 95.0, 90.0, 190.0, 250.0, 55.0, 35.0, 75.0, 55.0, 49.0, 70.0, 35.0, 40.0, 32.0, 39.0, 36.0, 39.0, 50.0, 39.0, 21.0, 25.0, 26.0, 112.0, 48.0, 230.0, 50.0, 59.0, 150.0, 255.0, 63.0, 60.0, 80.0, 40.0, 45.0, 110.0, 50.0, 61.0, 38.0, 140.0, 34.0, 63.0, 40.0, 145.0, 36.0, 36.0, 36.0, 36.0, 31.0, 36.0, 285.0, 52.0, 222.0, 250.0, 293.0, 202.0, 289.0, 255.0, 269.0, 206.0, 299.0, 231.0, 149.0, 265.0, 250.0, 250.0, 258.0, 289.0, 250.0, 264.0, 273.0, 204.0, 178.0, 262.0, 202.0, 253.0, 236.0, 240.0, 231.0, 183.0, 19.0, 231.0, 222.0, 222.0, 88.0, 40.0, 255.0, 250.0, 236.0, 250.0, 183.0, 226.0, 255.0, 209.0, 253.0, 231.0, 255.0, 245.0, 253.0, 255.0, 250.0, 100.0, 298.0, 188.0, 217.0, 255.0, 235.0, 175.0, 130.0, 192.0, 240.0, 222.0, 231.0, 178.0, 250.0, 188.0, 298.0, 204.0, 264.0, 173.0, 245.0, 183.0, 272.0, 150.0, 120.0, 40.0, 40.0, 145.0, 59.0, 99.0, 86.0, 160.0, 125.0, 130.0, 95.0, 26.0, 65.0, 80.0, 41.0, 26.0, 75.0, 70.0, 55.0, 30.0, 125.0, 65.0, 95.0, 202.0, 50.0, 130.0, 31.0, 60.0, 110.0, 289.0, 300.0, 80.0, 125.0, 90.0, 48.0, 150.0, 250.0, 44.0, 35.0, 125.0, 215.0, 299.0, 299.0, 299.0, 299.0, 269.0, 50.0, 269.0, 269.0, 269.0, 53.0, 60.0, 50.0, 150.0, 55.0, 125.0, 90.0, 27.0, 33.0, 84.0, 300.0, 175.0, 40.0, 199.0, 90.0, 36.0, 36.0, 37.0, 79.0, 43.0, 36.0, 180.0, 36.0, 110.0, 36.0, 36.0, 36.0, 27.0, 36.0, 36.0, 36.0, 130.0, 36.0, 36.0, 99.0, 90.0, 100.0, 110.0, 79.0, 149.0, 56.0, 38.0, 70.0, 99.0, 31.0, 38.0, 100.0, 53.0, 150.0, 170.0, 78.0, 70.0, 300.0, 145.0, 59.0, 135.0, 180.0, 25.0, 150.0, 71.0, 205.0, 90.0, 100.0, 40.0, 200.0, 84.0, 50.0, 60.0, 135.0, 44.0, 120.0, 40.0, 70.0, 195.0, 50.0, 99.0, 133.0, 180.0, 60.0, 290.0, 40.0, 125.0, 95.0, 45.0, 80.0, 80.0, 65.0, 118.0, 203.0, 146.0, 200.0, 50.0, 160.0, 150.0, 60.0, 120.0, 70.0, 27.0, 124.0, 46.0, 20.0, 100.0, 80.0, 110.0, 71.0, 220.0, 95.0, 23.0, 40.0, 51.0, 150.0, 45.0, 60.0, 150.0, 154.0, 89.0, 100.0, 185.0, 175.0, 240.0, 170.0, 250.0, 115.0, 110.0, 70.0, 99.0, 60.0, 65.0, 79.0, 269.0, 110.0, 79.0, 189.0, 250.0, 197.0, 64.0, 200.0, 49.0, 30.0, 135.0, 99.0, 30.0, 100.0, 45.0, 96.0, 50.0, 100.0, 59.0, 120.0, 48.0, 72.0, 100.0, 70.0, 88.0, 40.0, 48.0, 150.0, 150.0, 200.0, 40.0, 75.0, 190.0, 92.0, 60.0, 39.0, 250.0, 105.0, 50.0, 79.0, 150.0, 175.0, 40.0, 299.0, 26.0, 50.0, 40.0, 300.0, 115.0, 120.0, 200.0, 30.0, 39.0, 31.0, 89.0, 300.0, 96.0, 37.0, 182.0, 175.0, 94.0, 214.0, 75.0, 41.0, 69.0, 160.0, 65.0, 100.0, 225.0, 190.0, 63.0, 119.0, 60.0, 60.0, 45.0, 75.0, 50.0, 49.0, 137.0, 150.0, 150.0, 80.0, 80.0, 152.0, 199.0, 206.0, 100.0, 64.0, 65.0, 70.0, 130.0, 100.0, 60.0, 89.0, 110.0, 40.0, 200.0, 150.0, 160.0, 100.0, 104.0, 120.0, 111.0, 175.0, 180.0, 60.0, 65.0, 160.0, 118.0, 86.0, 100.0, 50.0, 90.0, 79.0, 90.0, 129.0, 135.0, 88.0, 200.0, 80.0, 55.0, 65.0, 50.0, 150.0, 105.0, 93.0, 80.0, 95.0, 100.0, 110.0, 150.0, 120.0, 300.0, 174.0, 79.0, 75.0, 271.0, 26.0, 23.0, 56.0, 41.0, 49.0, 180.0, 110.0, 23.0, 19.0, 21.0, 22.0, 25.0, 180.0, 235.0, 68.0, 65.0, 150.0, 188.0, 31.0, 190.0, 88.0, 108.0, 60.0, 300.0, 79.0, 35.0, 40.0, 115.0, 43.0, 190.0, 95.0, 130.0, 30.0, 35.0, 150.0, 78.0, 59.0, 79.0, 60.0, 199.0, 56.0, 26.0, 55.0, 150.0, 46.0, 150.0, 30.0, 41.0, 99.0, 65.0, 219.0, 86.0, 99.0, 60.0, 150.0, 150.0, 120.0, 130.0, 148.0, 115.0, 125.0, 84.0, 55.0, 230.0, 80.0, 60.0, 180.0, 45.0, 86.0, 190.0, 185.0, 250.0, 179.0, 159.0, 160.0, 210.0, 75.0, 255.0, 25.0, 80.0, 60.0, 45.0, 22.0, 89.0, 200.0, 40.0, 42.0, 70.0, 195.0, 24.0, 160.0, 300.0, 26.0, 150.0, 250.0, 140.0, 120.0, 95.0, 100.0, 65.0, 299.0, 188.0, 179.0, 75.0, 150.0, 299.0, 17.0, 297.0, 185.0, 120.0, 80.0, 97.0, 130.0, 99.0, 229.0, 195.0, 70.0, 99.0, 169.0, 100.0, 34.0, 49.0, 78.0, 60.0, 36.0, 50.0, 125.0, 60.0, 300.0, 95.0, 75.0, 130.0, 85.0, 110.0, 49.0, 50.0, 150.0, 90.0, 155.0, 60.0, 195.0, 79.0, 127.0, 180.0, 70.0, 32.0, 150.0, 86.0, 78.0, 75.0, 225.0, 70.0, 106.0, 45.0, 64.0, 24.0, 150.0, 100.0, 130.0, 98.0, 22.0, 157.0, 90.0, 50.0, 80.0, 69.0, 55.0, 90.0, 150.0, 250.0, 207.0, 275.0, 300.0, 217.0, 80.0, 90.0, 56.0, 180.0, 80.0, 225.0, 175.0, 50.0, 150.0, 200.0, 38.0, 60.0, 100.0, 50.0, 206.0, 257.0, 45.0, 200.0, 90.0, 40.0, 180.0, 65.0, 115.0, 235.0, 75.0, 117.0, 125.0, 29.0, 92.0, 89.0, 70.0, 123.0, 90.0, 150.0, 60.0, 165.0, 150.0, 250.0, 50.0, 60.0, 70.0, 89.0, 170.0, 100.0, 100.0, 49.0, 50.0, 140.0, 125.0, 259.0, 184.0, 55.0, 70.0, 214.0, 37.0, 50.0, 69.0, 150.0, 25.0, 25.0, 28.0, 28.0, 37.0, 65.0, 99.0, 199.0, 55.0, 65.0, 30.0, 85.0, 40.0, 60.0, 100.0, 179.0, 75.0, 22.0, 100.0, 35.0, 79.0, 35.0, 52.0, 68.0, 55.0, 90.0, 80.0, 197.0, 250.0, 75.0, 120.0, 90.0, 119.0, 23.0, 160.0, 80.0, 85.0, 155.0, 80.0, 180.0, 50.0, 149.0, 197.0, 190.0, 100.0, 50.0, 119.0, 68.0, 58.0, 80.0, 65.0, 19.0, 45.0, 20.0, 68.0, 61.0, 170.0, 145.0, 84.0, 97.0, 199.0, 48.0, 50.0, 48.0, 56.0, 89.0, 50.0, 89.0, 149.0, 75.0, 65.0, 150.0, 100.0, 249.0, 150.0, 48.0, 64.0, 70.0, 100.0, 250.0, 60.0, 200.0, 123.0, 120.0, 25.0, 100.0, 57.0, 40.0, 50.0, 80.0, 200.0, 45.0, 32.0, 100.0, 100.0, 250.0, 57.0, 86.0, 125.0, 45.0, 80.0, 49.0, 70.0, 83.0, 50.0, 256.0, 170.0, 199.0, 125.0, 68.0, 249.0, 240.0, 140.0, 50.0, 80.0, 95.0, 42.0, 200.0, 125.0, 60.0, 40.0, 120.0, 100.0, 40.0, 228.0, 51.0, 70.0, 113.0, 76.0, 99.0, 75.0, 200.0, 120.0, 95.0, 50.0, 113.0, 73.0, 70.0, 45.0, 200.0, 55.0, 104.0, 40.0, 148.0, 85.0, 139.0, 78.0, 85.0, 150.0, 45.0, 45.0, 60.0, 50.0, 171.0, 249.0, 129.0, 300.0, 125.0, 189.0, 175.0, 49.0, 114.0, 47.0, 120.0, 45.0, 95.0, 32.0, 64.0, 41.0, 200.0, 49.0, 60.0, 146.0, 46.0, 150.0, 83.0, 40.0, 79.0, 70.0, 300.0, 29.0, 44.0, 45.0, 40.0, 37.0, 39.0, 38.0, 75.0, 52.0, 43.0, 100.0, 130.0, 200.0, 95.0, 180.0, 100.0, 215.0, 108.0, 30.0, 125.0, 88.0, 60.0, 150.0, 39.0, 176.0, 49.0, 150.0, 136.0, 26.0, 14.0, 138.0, 195.0, 76.0, 120.0, 49.0, 55.0, 47.0, 125.0, 50.0, 240.0, 100.0, 105.0, 150.0, 199.0, 205.0, 65.0, 110.0, 80.0, 100.0, 85.0, 89.0, 35.0, 80.0, 134.0, 141.0, 52.0, 150.0, 130.0, 90.0, 55.0, 50.0, 115.0, 48.0, 44.0, 110.0, 65.0, 170.0, 75.0, 100.0, 70.0, 99.0, 80.0, 39.0, 60.0, 77.0, 43.0, 219.0, 38.0, 110.0, 187.0, 40.0, 128.0, 70.0, 72.0, 95.0, 134.0, 50.0, 50.0, 40.0, 39.0, 89.0, 209.0, 65.0, 45.0, 125.0, 50.0, 30.0, 46.0, 35.0, 60.0, 110.0, 30.0, 70.0, 99.0, 80.0, 155.0, 45.0, 100.0, 25.0, 39.0, 40.0, 83.0, 180.0, 190.0, 50.0, 30.0, 65.0, 44.0, 30.0, 49.0, 78.0, 80.0, 57.0, 80.0, 199.0, 99.0, 249.0, 160.0, 143.0, 150.0, 115.0, 80.0, 158.0, 38.0, 200.0, 105.0, 200.0, 70.0, 300.0, 80.0, 83.0, 196.0, 199.0, 250.0, 182.0, 40.0, 53.0, 65.0, 50.0, 50.0, 74.0, 60.0, 43.0, 85.0, 45.0, 115.0, 199.0, 120.0, 114.0, 69.0, 150.0, 260.0, 71.0, 70.0, 20.0, 110.0, 46.0, 85.0, 249.0, 81.0, 79.0, 150.0, 65.0, 120.0, 150.0, 269.0, 95.0, 129.0, 118.0, 145.0, 78.0, 60.0, 65.0, 200.0, 89.0, 258.0, 120.0, 62.0, 100.0, 200.0, 120.0, 120.0, 79.0, 50.0, 150.0, 45.0, 145.0, 104.0, 150.0, 30.0, 99.0, 62.0, 85.0, 110.0, 188.0, 110.0, 110.0, 149.0, 144.0, 52.0, 100.0, 289.0, 125.0, 45.0, 85.0, 136.0, 53.0, 25.0, 145.0, 40.0, 290.0, 73.0, 100.0, 80.0, 232.0, 70.0, 200.0, 35.0, 100.0, 40.0, 90.0, 105.0, 60.0, 45.0, 143.0, 57.0, 126.0, 59.0, 140.0, 41.0, 38.0, 68.0, 40.0, 110.0, 30.0, 125.0, 55.0, 130.0, 35.0, 38.0, 29.0, 75.0, 76.0, 60.0, 43.0, 90.0, 100.0, 150.0, 86.0, 70.0, 176.0, 35.0, 299.0, 34.0, 125.0, 75.0, 55.0, 100.0, 199.0, 50.0, 39.0, 50.0, 35.0, 65.0, 97.0, 105.0, 89.0, 225.0, 110.0, 250.0, 150.0, 45.0, 96.0, 115.0, 135.0, 45.0, 101.0, 206.0, 120.0, 150.0, 65.0, 107.0, 85.0, 90.0, 120.0, 217.0, 150.0, 25.0, 35.0, 50.0, 225.0, 125.0, 39.0, 130.0, 109.0, 199.0, 45.0, 125.0, 57.0, 65.0, 50.0, 125.0, 80.0, 25.0, 80.0, 97.0, 75.0, 214.0, 153.0, 75.0, 192.0, 35.0, 250.0, 200.0, 250.0, 269.0, 136.0, 269.0, 269.0, 110.0, 161.0, 200.0, 250.0, 129.0, 250.0, 120.0, 115.0, 30.0, 46.0, 52.0, 125.0, 150.0, 80.0, 70.0, 95.0, 60.0, 34.0, 25.0, 219.0, 85.0, 80.0, 85.0, 95.0, 55.0, 199.0, 68.0, 240.0, 119.0, 275.0, 95.0, 300.0, 90.0, 229.0, 185.0, 43.0, 120.0, 80.0, 120.0, 250.0, 250.0, 85.0, 125.0, 37.0, 53.0, 130.0, 256.0, 45.0, 150.0, 155.0, 50.0, 41.0, 175.0, 42.0, 39.0, 70.0, 55.0, 89.0, 185.0, 90.0, 67.0, 89.0, 120.0, 40.0, 40.0, 200.0, 90.0, 100.0, 173.0, 52.0, 132.0, 65.0, 128.0, 90.0, 60.0, 75.0, 53.0, 60.0, 69.0, 149.0, 209.0, 70.0, 75.0, 129.0, 99.0, 48.0, 137.0, 36.0, 145.0, 110.0, 90.0, 45.0, 40.0, 160.0, 60.0, 59.0, 100.0, 75.0, 125.0, 75.0, 125.0, 55.0, 83.0, 60.0, 24.0, 58.0, 42.0, 222.0, 75.0, 140.0, 40.0, 133.0, 42.0, 130.0, 250.0, 70.0, 150.0, 65.0, 60.0, 79.0, 72.0, 72.0, 40.0, 53.0, 125.0, 65.0, 86.0, 80.0, 50.0, 90.0, 69.0, 90.0, 34.0, 140.0, 84.0, 34.0, 78.0, 34.0, 95.0, 26.0, 75.0, 43.0, 40.0, 90.0, 75.0, 147.0, 149.0, 75.0, 50.0, 125.0, 150.0, 88.0, 70.0, 158.0, 190.0, 45.0, 69.0, 148.0, 298.0, 284.0, 130.0, 75.0, 100.0, 100.0, 100.0, 220.0, 150.0, 65.0, 163.0, 184.0, 119.0, 119.0, 50.0, 75.0, 27.0, 34.0, 65.0, 70.0, 200.0, 70.0, 60.0, 65.0, 86.0, 198.0, 50.0, 27.0, 150.0, 60.0, 75.0, 45.0, 42.0, 70.0, 80.0, 190.0, 75.0, 165.0, 41.0, 210.0, 35.0, 98.0, 78.0, 54.0, 72.0, 100.0, 250.0, 75.0, 35.0, 40.0, 120.0, 110.0, 115.0, 201.0, 42.0, 156.0, 154.0, 100.0, 100.0, 299.0, 299.0, 200.0, 90.0, 131.0, 94.0, 65.0, 150.0, 98.0, 280.0, 36.0, 131.0, 65.0, 30.0, 26.0, 40.0, 99.0, 30.0, 65.0, 71.0, 255.0, 114.0, 200.0, 90.0, 60.0, 125.0, 50.0, 100.0, 40.0, 200.0, 110.0, 100.0, 80.0, 100.0, 40.0, 50.0, 27.0, 50.0, 45.0, 95.0, 107.0, 120.0, 250.0, 125.0, 40.0, 90.0, 34.0, 97.0, 125.0, 48.0, 150.0, 55.0, 95.0, 65.0, 31.0, 50.0, 70.0, 169.0, 53.0, 89.0, 38.0, 76.0, 184.0, 54.0, 27.0, 140.0, 40.0, 128.0, 50.0, 128.0, 50.0, 50.0, 62.0, 95.0, 99.0, 50.0, 80.0, 120.0, 40.0, 249.0, 45.0, 150.0, 85.0, 50.0, 116.0, 75.0, 250.0, 74.0, 134.0, 75.0, 250.0, 37.0, 50.0, 100.0, 119.0, 52.0, 52.0, 59.0, 59.0, 59.0, 96.0, 99.0, 167.0, 110.0, 54.0, 70.0, 200.0, 22.0, 150.0, 30.0, 51.0, 43.0, 65.0, 57.0, 55.0, 105.0, 130.0, 100.0, 145.0, 148.0, 90.0, 111.0, 79.0, 70.0, 170.0, 239.0, 165.0, 75.0, 70.0, 280.0, 99.0, 51.0, 125.0, 38.0, 45.0, 230.0, 250.0, 220.0, 90.0, 170.0, 65.0, 140.0, 100.0, 60.0, 78.0, 33.0, 59.0, 65.0, 65.0, 86.0, 299.0, 35.0, 240.0, 106.0, 44.0, 180.0, 45.0, 95.0, 29.0, 75.0, 135.0, 226.0, 104.0, 80.0, 247.0, 45.0, 180.0, 130.0, 55.0, 84.0, 100.0, 65.0, 75.0, 40.0, 300.0, 70.0, 52.0, 58.0, 200.0, 100.0, 108.0, 96.0, 29.0, 62.0, 209.0, 150.0, 44.0, 88.0, 201.0, 200.0, 192.0, 60.0, 32.0, 27.0, 145.0, 49.0, 150.0, 80.0, 128.0, 95.0, 200.0, 150.0, 245.0, 79.0, 22.0, 57.0, 150.0, 56.0, 110.0, 140.0, 124.0, 143.0, 114.0, 117.0, 130.0, 55.0, 45.0, 130.0, 109.0, 60.0, 163.0, 253.0, 58.0, 107.0, 88.0, 32.0, 80.0, 50.0, 231.0, 27.0, 79.0, 159.0, 50.0, 100.0, 150.0, 28.0, 135.0, 39.0, 25.0, 175.0, 125.0, 150.0, 100.0, 170.0, 48.0, 48.0, 110.0, 90.0, 50.0, 298.0, 65.0, 59.0, 180.0, 60.0, 85.0, 150.0, 50.0, 172.0, 79.0, 34.0, 157.0, 80.0, 55.0, 179.0, 55.0, 27.0, 60.0, 89.0, 33.0, 52.0, 60.0, 55.0, 60.0, 85.0, 275.0, 50.0, 134.0, 115.0, 95.0, 49.0, 110.0, 52.0, 90.0, 100.0, 150.0, 250.0, 57.0, 150.0, 32.0, 149.0, 150.0, 110.0, 95.0, 35.0, 175.0, 130.0, 195.0, 140.0, 250.0, 129.0, 135.0, 300.0, 210.0, 130.0, 137.0, 75.0, 218.0, 45.0, 150.0, 40.0, 55.0, 100.0, 35.0, 45.0, 215.0, 120.0, 150.0, 250.0, 48.0, 87.0, 63.0, 105.0, 120.0, 94.0, 85.0, 55.0, 28.0, 100.0, 230.0, 38.0, 45.0, 85.0, 36.0, 175.0, 75.0, 100.0, 91.0, 130.0, 132.0, 300.0, 79.0, 45.0, 235.0, 250.0, 48.0, 91.0, 75.0, 92.0, 105.0, 50.0, 65.0, 61.0, 100.0, 123.0, 195.0, 200.0, 88.0, 50.0, 60.0, 247.0, 56.0, 204.0, 160.0, 140.0, 53.0, 130.0, 180.0, 229.0, 79.0, 42.0, 60.0, 89.0, 43.0, 37.0, 80.0, 65.0, 110.0, 145.0, 88.0, 50.0, 110.0, 26.0, 120.0, 90.0, 28.0, 100.0, 46.0, 95.0, 150.0, 38.0, 60.0, 100.0, 250.0, 50.0, 46.0, 105.0, 120.0, 37.0, 39.0, 40.0, 33.0, 39.0, 38.0, 40.0, 25.0, 45.0, 70.0, 116.0, 136.0, 150.0, 60.0, 105.0, 50.0, 50.0, 46.0, 220.0, 262.0, 42.0, 89.0, 19.0, 64.0, 99.0, 154.0, 89.0, 70.0, 166.0, 28.0, 85.0, 110.0, 50.0, 40.0, 97.0, 150.0, 75.0, 75.0, 150.0, 233.0, 42.0, 135.0, 110.0, 99.0, 102.0, 131.0, 107.0, 121.0, 107.0, 231.0, 143.0, 143.0, 110.0, 151.0, 111.0, 155.0, 145.0, 150.0, 145.0, 193.0, 203.0, 183.0, 198.0, 119.0, 219.0, 140.0, 170.0, 109.0, 73.0, 54.0, 185.0, 38.0, 157.0, 180.0, 103.0, 130.0, 250.0, 165.0, 160.0, 209.0, 189.0, 200.0, 115.0, 136.0, 140.0, 29.0, 60.0, 87.0, 108.0, 110.0, 66.0, 151.0, 100.0, 36.0, 35.0, 65.0, 79.0, 115.0, 50.0, 90.0, 150.0, 100.0, 170.0, 75.0, 90.0, 249.0, 20.0, 47.0, 92.0, 51.0, 54.0, 165.0, 80.0, 38.0, 133.0, 195.0, 170.0, 45.0, 50.0, 145.0, 79.0, 28.0, 52.0, 45.0, 65.0, 279.0, 110.0, 75.0, 95.0, 70.0, 170.0, 75.0, 80.0, 59.0, 145.0, 150.0, 45.0, 38.0, 55.0, 41.0, 40.0, 90.0, 160.0, 105.0, 58.0, 129.0, 95.0, 200.0, 76.0, 210.0, 85.0, 65.0, 40.0, 69.0, 250.0, 200.0, 51.0, 50.0, 150.0, 79.0, 86.0, 75.0, 37.0, 57.0, 35.0, 139.0, 50.0, 40.0, 189.0, 47.0, 250.0, 56.0, 169.0, 160.0, 78.0, 85.0, 81.0, 65.0, 30.0, 41.0, 139.0, 258.0, 66.0, 82.0, 90.0, 84.0, 175.0, 76.0, 250.0, 175.0, 99.0, 200.0, 180.0, 55.0, 100.0, 50.0, 250.0, 41.0, 45.0, 185.0, 110.0, 286.0, 133.0, 259.0, 60.0, 50.0, 95.0, 100.0, 42.0, 100.0, 140.0, 74.0, 189.0, 52.0, 198.0, 45.0, 100.0, 52.0, 155.0, 80.0, 231.0, 95.0, 23.0, 150.0, 99.0, 71.0, 133.0, 132.0, 128.0, 168.0, 45.0, 40.0, 39.0, 53.0, 35.0, 60.0, 295.0, 125.0, 150.0, 67.0, 40.0, 69.0, 228.0, 67.0, 95.0, 45.0, 143.0, 140.0, 206.0, 50.0, 40.0, 109.0, 89.0, 55.0, 200.0, 150.0, 100.0, 55.0, 52.0, 79.0, 125.0, 250.0, 55.0, 65.0, 99.0, 185.0, 46.0, 55.0, 115.0, 80.0, 185.0, 90.0, 110.0, 85.0, 299.0, 42.0, 50.0, 55.0, 110.0, 89.0, 95.0, 52.0, 69.0, 79.0, 90.0, 135.0, 120.0, 80.0, 227.0, 92.0, 41.0, 125.0, 60.0, 60.0, 130.0, 45.0, 170.0, 83.0, 100.0, 100.0, 250.0, 220.0, 184.0, 130.0, 265.0, 209.0, 59.0, 250.0, 38.0, 112.0, 110.0, 117.0, 17.0, 43.0, 101.0, 50.0, 112.0, 79.0, 53.0, 65.0, 88.0, 60.0, 60.0, 125.0, 300.0, 67.0, 68.0, 97.0, 255.0, 79.0, 150.0, 95.0, 170.0, 249.0, 190.0, 80.0, 123.0, 250.0, 39.0, 30.0, 57.0, 37.0, 25.0, 85.0, 99.0, 80.0, 156.0, 100.0, 96.0, 140.0, 130.0, 44.0, 150.0, 200.0, 80.0, 150.0, 60.0, 155.0, 95.0, 75.0, 45.0, 60.0, 83.0, 200.0, 76.0, 89.0, 199.0, 95.0, 119.0, 63.0, 95.0, 90.0, 89.0, 59.0, 150.0, 70.0, 39.0, 46.0, 68.0, 261.0, 35.0, 120.0, 90.0, 112.0, 150.0, 130.0, 30.0, 68.0, 105.0, 65.0, 140.0, 300.0, 45.0, 296.0, 185.0, 296.0, 136.0, 135.0, 55.0, 275.0, 198.0, 65.0, 55.0, 110.0, 65.0, 135.0, 24.0, 95.0, 62.0, 99.0, 83.0, 176.0, 100.0, 148.0, 85.0, 135.0, 58.0, 82.0, 155.0, 38.0, 48.0, 40.0, 80.0, 100.0, 80.0, 261.0, 200.0, 75.0, 37.0, 53.0, 105.0, 178.0, 120.0, 250.0, 40.0, 114.0, 300.0, 60.0, 300.0, 90.0, 52.0, 150.0, 250.0, 135.0, 200.0, 253.0, 230.0, 73.0, 75.0, 60.0, 198.0, 70.0, 257.0, 159.0, 102.0, 81.0, 125.0, 75.0, 84.0, 100.0, 70.0, 95.0, 200.0, 40.0, 55.0, 142.0, 32.0, 92.0, 70.0, 57.0, 77.0, 50.0, 300.0, 299.0, 53.0, 54.0, 53.0, 45.0, 300.0, 50.0, 70.0, 78.0, 42.0, 245.0, 60.0, 40.0, 165.0, 120.0, 99.0, 49.0, 24.0, 200.0, 55.0, 55.0, 53.0, 150.0, 99.0, 150.0, 55.0, 89.0, 55.0, 55.0, 55.0, 55.0, 61.0, 135.0, 55.0, 60.0, 55.0, 38.0, 145.0, 56.0, 36.0, 75.0, 53.0, 120.0, 28.0, 59.0, 50.0, 55.0, 176.0, 45.0, 100.0, 234.0, 99.0, 50.0, 65.0, 36.0, 120.0, 115.0, 128.0, 40.0, 69.0, 115.0, 159.0, 76.0, 65.0, 137.0, 88.0, 120.0, 120.0, 51.0, 60.0, 100.0, 100.0, 120.0, 120.0, 260.0, 160.0, 80.0, 70.0, 51.0, 59.0, 99.0, 75.0, 43.0, 65.0, 50.0, 230.0, 120.0, 41.0, 155.0, 81.0, 145.0, 75.0, 200.0, 46.0, 125.0, 235.0, 60.0, 55.0, 89.0, 30.0, 89.0, 65.0, 213.0, 216.0, 175.0, 119.0, 100.0, 62.0, 80.0, 90.0, 161.0, 91.0, 26.0, 110.0, 112.0, 285.0, 40.0, 187.0, 75.0, 30.0, 50.0, 59.0, 50.0, 57.0, 250.0, 219.0, 213.0, 161.0, 42.0, 120.0, 66.0, 70.0, 59.0, 193.0, 110.0, 150.0, 100.0, 99.0, 65.0, 200.0, 109.0, 110.0, 120.0, 40.0, 44.0, 100.0, 180.0, 200.0, 50.0, 65.0, 35.0, 109.0, 299.0, 179.0, 139.0, 109.0, 160.0, 26.0, 50.0, 85.0, 115.0, 31.0, 44.0, 190.0, 33.0, 150.0, 128.0, 60.0, 40.0, 22.0, 200.0, 185.0, 149.0, 255.0, 222.0, 245.0, 75.0, 140.0, 150.0, 34.0, 70.0, 90.0, 130.0, 195.0, 39.0, 230.0, 114.0, 90.0, 199.0, 150.0, 200.0, 99.0, 250.0, 75.0, 60.0, 180.0, 31.0, 67.0, 60.0, 110.0, 125.0, 60.0, 85.0, 130.0, 74.0, 95.0, 85.0, 48.0, 39.0, 60.0, 85.0, 105.0, 110.0, 150.0, 55.0, 125.0, 75.0, 100.0, 130.0, 95.0, 70.0, 140.0, 85.0, 50.0, 175.0, 23.0, 65.0, 250.0, 60.0, 111.0, 130.0, 85.0, 60.0, 80.0, 151.0, 100.0, 90.0, 188.0, 209.0, 175.0, 55.0, 29.0, 115.0, 55.0, 71.0, 39.0, 60.0, 100.0, 75.0, 233.0, 86.0, 196.0, 125.0, 160.0, 59.0, 85.0, 207.0, 250.0, 51.0, 45.0, 125.0, 63.0, 225.0, 100.0, 90.0, 128.0, 165.0, 120.0, 169.0, 43.0, 40.0, 100.0, 220.0, 19.0, 100.0, 125.0, 65.0, 100.0, 80.0, 75.0, 96.0, 190.0, 100.0, 64.0, 68.0, 73.0, 40.0, 40.0, 100.0, 65.0, 270.0, 180.0, 60.0, 49.0, 33.0, 130.0, 168.0, 60.0, 60.0, 42.0, 78.0, 100.0, 42.0, 169.0, 80.0, 50.0, 50.0, 65.0, 42.0, 26.0, 90.0, 100.0, 38.0, 75.0, 85.0, 22.0, 160.0, 46.0, 115.0, 100.0, 75.0, 100.0, 79.0, 130.0, 150.0, 137.0, 45.0, 100.0, 100.0, 52.0, 66.0, 63.0, 135.0, 235.0, 41.0, 189.0, 80.0, 145.0, 55.0, 42.0, 190.0, 80.0, 80.0, 100.0, 40.0, 65.0, 277.0, 175.0, 39.0, 185.0, 206.0, 65.0, 48.0, 139.0, 85.0, 70.0, 40.0, 29.0, 50.0, 39.0, 112.0, 28.0, 109.0, 293.0, 300.0, 68.0, 277.0, 50.0, 75.0, 240.0, 50.0, 95.0, 75.0, 60.0, 225.0, 63.0, 235.0, 130.0, 160.0, 69.0, 100.0, 174.0, 55.0, 69.0, 40.0, 150.0, 225.0, 39.0, 135.0, 47.0, 39.0, 36.0, 94.0, 221.0, 150.0, 94.0, 54.0, 149.0, 58.0, 140.0, 75.0, 199.0, 235.0, 120.0, 61.0, 50.0, 130.0, 35.0, 42.0, 38.0, 105.0, 140.0, 48.0, 70.0, 150.0, 70.0, 120.0, 65.0, 99.0, 199.0, 50.0, 90.0, 69.0, 200.0, 59.0, 95.0, 58.0, 70.0, 92.0, 150.0, 69.0, 59.0, 60.0, 89.0, 93.0, 80.0, 200.0, 40.0, 70.0, 180.0, 169.0, 95.0, 99.0, 45.0, 190.0, 90.0, 179.0, 70.0, 65.0, 60.0, 52.0, 75.0, 100.0, 79.0, 89.0, 79.0, 89.0, 79.0, 89.0, 150.0, 79.0, 160.0, 99.0, 150.0, 79.0, 89.0, 89.0, 89.0, 150.0, 149.0, 93.0, 37.0, 66.0, 85.0, 60.0, 295.0, 95.0, 76.0, 100.0, 154.0, 240.0, 275.0, 144.0, 38.0, 135.0, 143.0, 175.0, 34.0, 70.0, 120.0, 140.0, 65.0, 60.0, 92.0, 165.0, 144.0, 65.0, 150.0, 75.0, 75.0, 125.0, 100.0, 125.0, 63.0, 285.0, 150.0, 231.0, 169.0, 206.0, 115.0, 95.0, 65.0, 59.0, 60.0, 59.0, 60.0, 60.0, 35.0, 55.0, 150.0, 99.0, 50.0, 145.0, 119.0, 34.0, 50.0, 75.0, 180.0, 180.0, 99.0, 23.0, 55.0, 51.0, 150.0, 109.0, 70.0, 200.0, 61.0, 48.0, 30.0, 69.0, 65.0, 73.0, 49.0, 127.0, 96.0, 169.0, 80.0, 125.0, 99.0, 150.0, 98.0, 130.0, 50.0, 263.0, 30.0, 212.0, 190.0, 159.0, 200.0, 159.0, 159.0, 159.0, 159.0, 159.0, 99.0, 129.0, 129.0, 129.0, 119.0, 129.0, 129.0, 179.0, 129.0, 179.0, 39.0, 252.0, 55.0, 39.0, 27.0, 205.0, 258.0, 50.0, 50.0, 125.0, 158.0, 140.0, 96.0, 35.0, 65.0, 65.0, 40.0, 79.0, 40.0, 44.0, 70.0, 50.0, 109.0, 100.0, 40.0, 60.0, 110.0, 26.0, 90.0, 163.0, 55.0, 134.0, 59.0, 65.0, 96.0, 100.0, 56.0, 35.0, 50.0, 55.0, 299.0, 19.0, 250.0, 51.0, 100.0, 200.0, 93.0, 59.0, 199.0, 120.0, 129.0, 50.0, 42.0, 58.0, 40.0, 50.0, 110.0, 200.0, 118.0, 212.0, 70.0, 212.0, 195.0, 49.0, 35.0, 65.0, 120.0, 238.0, 197.0, 206.0, 80.0, 192.0, 75.0, 85.0, 149.0, 225.0, 55.0, 140.0, 85.0, 129.0, 200.0, 125.0, 33.0, 49.0, 150.0, 189.0, 98.0, 203.0, 125.0, 60.0, 299.0, 90.0, 265.0, 130.0, 40.0, 128.0, 111.0, 299.0, 100.0, 125.0, 72.0, 149.0, 81.0, 250.0, 150.0, 259.0, 57.0, 80.0, 200.0, 125.0, 94.0, 75.0, 191.0, 76.0, 65.0, 175.0, 190.0, 70.0, 180.0, 65.0, 59.0, 100.0, 100.0, 150.0, 100.0, 253.0, 51.0, 175.0, 35.0, 38.0, 120.0, 26.0, 72.0, 100.0, 75.0, 65.0, 100.0, 82.0, 69.0, 70.0, 220.0, 250.0, 135.0, 115.0, 57.0, 110.0, 150.0, 45.0, 66.0, 125.0, 95.0, 120.0, 48.0, 56.0, 27.0, 50.0, 58.0, 45.0, 102.0, 144.0, 70.0, 41.0, 57.0, 50.0, 165.0, 50.0, 68.0, 230.0, 125.0, 69.0, 46.0, 100.0, 86.0, 74.0, 118.0, 140.0, 70.0, 90.0, 90.0, 60.0, 50.0, 135.0, 130.0, 25.0, 69.0, 90.0, 250.0, 130.0, 55.0, 224.0, 35.0, 263.0, 270.0, 293.0, 35.0, 60.0, 76.0, 198.0, 135.0, 45.0, 40.0, 60.0, 280.0, 154.0, 253.0, 297.0, 253.0, 78.0, 249.0, 300.0, 159.0, 140.0, 300.0, 150.0, 85.0, 179.0, 230.0, 150.0, 165.0, 106.0, 121.0, 111.0, 109.0, 196.0, 126.0, 111.0, 121.0, 111.0, 196.0, 121.0, 126.0, 126.0, 196.0, 121.0, 297.0, 185.0, 225.0, 265.0, 265.0, 76.0, 96.0, 92.0, 81.0, 92.0, 140.0, 150.0, 140.0, 160.0, 190.0, 220.0, 180.0, 240.0, 260.0, 251.0, 285.0, 285.0, 140.0, 110.0, 290.0, 150.0, 130.0, 100.0, 190.0, 150.0, 215.0, 55.0, 200.0, 140.0, 80.0, 50.0, 225.0, 60.0, 145.0, 137.0, 142.0, 80.0, 245.0, 70.0, 61.0, 199.0, 287.0, 120.0, 115.0, 105.0, 105.0, 56.0, 232.0, 257.0, 282.0, 69.0, 140.0, 120.0, 87.0, 299.0, 60.0, 105.0, 63.0, 150.0, 50.0, 92.0, 110.0, 92.0, 286.0, 245.0, 215.0, 198.0, 250.0, 60.0, 241.0, 60.0, 67.0, 300.0, 50.0, 65.0, 50.0, 143.0, 70.0, 180.0, 150.0, 70.0, 51.0, 97.0, 55.0, 175.0, 75.0, 55.0, 55.0, 99.0, 164.0, 269.0, 269.0, 95.0, 86.0, 135.0, 90.0, 29.0, 250.0, 165.0, 250.0, 45.0, 90.0, 180.0, 220.0, 45.0, 110.0, 70.0, 125.0, 50.0, 65.0, 119.0, 27.0, 24.0, 150.0, 40.0, 58.0, 140.0, 39.0, 80.0, 72.0, 115.0, 130.0, 220.0, 32.0, 150.0, 49.0, 72.0, 120.0, 150.0, 41.0, 44.0, 125.0, 300.0, 160.0, 179.0, 95.0, 80.0, 50.0, 50.0, 36.0, 89.0, 150.0, 180.0, 100.0, 165.0, 150.0, 300.0, 245.0, 200.0, 45.0, 98.0, 250.0, 99.0, 129.0, 119.0, 39.0, 42.0, 130.0, 150.0, 150.0, 45.0, 116.0, 50.0, 58.0, 250.0, 100.0, 278.0, 250.0, 165.0, 100.0, 90.0, 48.0, 150.0, 106.0, 90.0, 85.0, 150.0, 54.0, 88.0, 150.0, 35.0, 175.0, 80.0, 139.0, 200.0, 65.0, 45.0, 125.0, 45.0, 33.0, 115.0, 50.0, 65.0, 65.0, 95.0, 120.0, 70.0, 68.0, 100.0, 90.0, 175.0, 150.0, 128.0, 250.0, 269.0, 73.0, 140.0, 195.0, 120.0, 185.0, 25.0, 57.0, 45.0, 33.0, 100.0, 43.0, 25.0, 220.0, 60.0, 119.0, 77.0, 85.0, 75.0, 71.0, 165.0, 173.0, 208.0, 75.0, 150.0, 75.0, 200.0, 70.0, 91.0, 236.0, 100.0, 50.0, 100.0, 150.0, 40.0, 211.0, 100.0, 164.0, 226.0, 290.0, 55.0, 54.0, 180.0, 165.0, 85.0, 58.0, 123.0, 40.0, 65.0, 45.0, 50.0, 214.0, 36.0, 160.0, 130.0, 51.0, 180.0, 75.0, 283.0, 150.0, 60.0, 99.0, 65.0, 75.0, 55.0, 60.0, 150.0, 150.0, 250.0, 291.0, 25.0, 40.0, 30.0, 125.0, 90.0, 33.0, 80.0, 104.0, 60.0, 59.0, 33.0, 55.0, 170.0, 52.0, 225.0, 75.0, 52.0, 54.0, 120.0, 160.0, 45.0, 80.0, 70.0, 175.0, 99.0, 50.0, 160.0, 149.0, 145.0, 224.0, 136.0, 83.0, 250.0, 55.0, 69.0, 100.0, 120.0, 63.0, 112.0, 55.0, 101.0, 53.0, 80.0, 100.0, 190.0, 175.0, 125.0, 90.0, 140.0, 65.0, 55.0, 286.0, 69.0, 265.0, 93.0, 132.0, 115.0, 250.0, 20.0, 111.0, 210.0, 100.0, 180.0, 77.0, 50.0, 195.0, 95.0, 125.0, 259.0, 185.0, 100.0, 70.0, 100.0, 42.0, 39.0, 200.0, 100.0, 110.0, 59.0, 85.0, 55.0, 50.0, 99.0, 39.0, 195.0, 176.0, 78.0, 164.0, 132.0, 140.0, 40.0, 47.0, 135.0, 75.0, 120.0, 175.0, 70.0, 125.0, 50.0, 141.0, 98.0, 170.0, 80.0, 29.0, 200.0, 220.0, 104.0, 40.0, 62.0, 108.0, 99.0, 36.0, 38.0, 140.0, 52.0, 55.0, 150.0, 150.0, 169.0, 175.0, 99.0, 80.0, 50.0, 243.0, 88.0, 85.0, 190.0, 135.0, 40.0, 59.0, 148.0, 100.0, 80.0, 78.0, 30.0, 55.0, 66.0, 145.0, 85.0, 140.0, 170.0, 250.0, 150.0, 150.0, 132.0, 101.0, 68.0, 175.0, 130.0, 180.0, 80.0, 55.0, 200.0, 99.0, 105.0, 65.0, 154.0, 150.0, 135.0, 295.0, 270.0, 165.0, 170.0, 135.0, 65.0, 275.0, 130.0, 300.0, 130.0, 60.0, 78.0, 103.0, 65.0, 60.0, 89.0, 100.0, 265.0, 179.0, 300.0, 98.0, 135.0, 133.0, 133.0, 225.0, 142.0, 150.0, 60.0, 99.0, 76.0, 63.0, 64.0, 135.0, 110.0, 130.0, 71.0, 63.0, 130.0, 135.0, 65.0, 54.0, 65.0, 125.0, 177.0, 99.0, 86.0, 59.0, 150.0, 99.0, 80.0, 99.0, 35.0, 110.0, 45.0, 70.0, 41.0, 36.0, 100.0, 120.0, 88.0, 47.0, 75.0, 55.0, 60.0, 125.0, 138.0, 55.0, 275.0, 20.0, 126.0, 135.0, 200.0, 60.0, 56.0, 139.0, 155.0, 180.0, 100.0, 80.0, 125.0, 210.0, 250.0, 129.0, 159.0, 48.0, 36.0, 45.0, 106.0, 69.0, 65.0, 93.0, 220.0, 139.0, 140.0, 199.0, 119.0, 119.0, 100.0, 137.0, 119.0, 119.0, 135.0, 300.0, 100.0, 90.0, 115.0, 30.0, 85.0, 100.0, 191.0, 110.0, 32.0, 190.0, 80.0, 115.0, 65.0, 36.0, 28.0, 29.0, 183.0, 148.0, 165.0, 295.0, 255.0, 148.0, 100.0, 50.0, 25.0, 227.0, 70.0, 223.0, 159.0, 245.0, 184.0, 209.0, 170.0, 70.0, 173.0, 179.0, 203.0, 173.0, 80.0, 55.0, 55.0, 44.0, 31.0, 180.0, 50.0, 90.0, 84.0, 125.0, 80.0, 190.0, 99.0, 60.0, 120.0, 59.0, 100.0, 47.0, 32.0, 130.0, 121.0, 109.0, 113.0, 75.0, 110.0, 84.0, 75.0, 265.0, 100.0, 35.0, 99.0, 182.0, 139.0, 59.0, 102.0, 111.0, 150.0, 60.0, 98.0, 45.0, 31.0, 275.0, 36.0, 75.0, 146.0, 110.0, 89.0, 145.0, 100.0, 130.0, 95.0, 41.0, 50.0, 81.0, 92.0, 106.0, 70.0, 26.0, 264.0, 84.0, 65.0, 114.0, 45.0, 275.0, 235.0, 175.0, 65.0, 130.0, 87.0, 200.0, 52.0, 130.0, 50.0, 80.0, 112.0, 100.0, 50.0, 150.0, 65.0, 95.0, 199.0, 100.0, 70.0, 65.0, 73.0, 65.0, 35.0, 35.0, 28.0, 37.0, 230.0, 30.0, 78.0, 82.0, 98.0, 200.0, 61.0, 123.0, 100.0, 140.0, 83.0, 145.0, 264.0, 300.0, 89.0, 68.0, 67.0, 19.0, 99.0, 104.0, 55.0, 125.0, 28.0, 40.0, 35.0, 166.0, 55.0, 98.0, 35.0, 50.0, 41.0, 43.0, 33.0, 32.0, 34.0, 30.0, 32.0, 100.0, 28.0, 150.0, 55.0, 170.0, 42.0, 153.0, 275.0, 45.0, 43.0, 80.0, 225.0, 260.0, 225.0, 175.0, 73.0, 114.0, 125.0, 250.0, 99.0, 50.0, 125.0, 81.0, 183.0, 160.0, 198.0, 225.0, 119.0, 56.0, 120.0, 250.0, 189.0, 60.0, 178.0, 63.0, 185.0, 193.0, 200.0, 73.0, 260.0, 59.0, 89.0, 104.0, 120.0, 61.0, 75.0, 250.0, 50.0, 239.0, 200.0, 173.0, 100.0, 59.0, 175.0, 40.0, 150.0, 250.0, 150.0, 85.0, 280.0, 30.0, 40.0, 175.0, 106.0, 50.0, 42.0, 100.0, 76.0, 40.0, 100.0, 200.0, 115.0, 112.0, 200.0, 70.0, 202.0, 199.0, 200.0, 128.0, 50.0, 175.0, 89.0, 28.0, 100.0, 180.0, 150.0, 35.0, 89.0, 200.0, 74.0, 250.0, 190.0, 85.0, 135.0, 129.0, 60.0, 75.0, 162.0, 75.0, 189.0, 100.0, 215.0, 60.0, 249.0, 39.0, 230.0, 125.0, 60.0, 223.0, 130.0, 55.0, 95.0, 120.0, 25.0, 214.0, 175.0, 99.0, 61.0, 56.0, 41.0, 125.0, 249.0, 245.0, 114.0, 87.0, 48.0, 99.0, 43.0, 101.0, 160.0, 65.0, 55.0, 120.0, 50.0, 117.0, 56.0, 100.0, 157.0, 107.0, 90.0, 55.0, 150.0, 70.0, 94.0, 79.0, 199.0, 125.0, 299.0, 249.0, 70.0, 93.0, 300.0, 175.0, 300.0, 230.0, 45.0, 145.0, 145.0, 109.0, 149.0, 139.0, 75.0, 159.0, 149.0, 80.0, 264.0, 120.0, 80.0, 50.0, 200.0, 160.0, 130.0, 50.0, 51.0, 175.0, 180.0, 65.0, 235.0, 30.0, 85.0, 203.0, 204.0, 218.0, 238.0, 278.0, 253.0, 248.0, 159.0, 55.0, 200.0, 109.0, 109.0, 129.0, 200.0, 139.0, 139.0, 139.0, 55.0, 149.0, 223.0, 184.0, 155.0, 100.0, 189.0, 150.0, 150.0, 190.0, 100.0, 180.0, 135.0, 152.0, 66.0, 200.0, 90.0, 70.0, 81.0, 51.0, 73.0, 45.0, 100.0, 125.0, 50.0, 200.0, 240.0, 50.0, 50.0, 99.0, 175.0, 140.0, 106.0, 175.0, 116.0, 145.0, 95.0, 135.0, 101.0, 200.0, 52.0, 94.0, 47.0, 65.0, 81.0, 134.0, 70.0, 161.0, 40.0, 150.0, 240.0, 59.0, 119.0, 167.0, 150.0, 40.0, 38.0, 62.0, 192.0, 41.0, 293.0, 86.0, 99.0, 125.0, 165.0, 120.0, 88.0, 170.0, 199.0, 196.0, 139.0, 60.0, 149.0, 200.0, 90.0, 75.0, 81.0, 80.0, 29.0, 58.0, 100.0, 224.0, 191.0, 55.0, 250.0, 80.0, 105.0, 155.0, 44.0, 110.0, 49.0, 40.0, 90.0, 205.0, 150.0, 150.0, 180.0, 40.0, 50.0, 99.0, 200.0, 95.0, 82.0, 150.0, 50.0, 43.0, 150.0, 170.0, 54.0, 55.0, 178.0, 78.0, 53.0, 99.0, 100.0, 125.0, 47.0, 213.0, 120.0, 130.0, 53.0, 300.0, 130.0, 39.0, 50.0, 75.0, 280.0, 59.0, 75.0, 135.0, 54.0, 44.0, 35.0, 150.0, 60.0, 203.0, 108.0, 149.0, 150.0, 136.0, 99.0, 99.0, 60.0, 73.0, 109.0, 230.0, 49.0, 79.0, 79.0, 136.0, 80.0, 175.0, 55.0, 80.0, 130.0, 150.0, 55.0, 60.0, 80.0, 60.0, 97.0, 104.0, 92.0, 104.0, 45.0, 100.0, 150.0, 55.0, 90.0, 207.0, 44.0, 195.0, 264.0, 35.0, 75.0, 33.0, 120.0, 68.0, 88.0, 52.0, 49.0, 120.0, 176.0, 60.0, 85.0, 250.0, 170.0, 50.0, 120.0, 90.0, 70.0, 110.0, 43.0, 45.0, 43.0, 70.0, 100.0, 67.0, 210.0, 62.0, 260.0, 49.0, 125.0, 80.0, 100.0, 100.0, 157.0, 43.0, 300.0, 49.0, 26.0, 98.0, 300.0, 37.0, 85.0, 167.0, 98.0, 90.0, 78.0, 110.0, 55.0, 80.0, 39.0, 105.0, 36.0, 74.0, 55.0, 104.0, 160.0, 147.0, 140.0, 60.0, 49.0, 63.0, 115.0, 190.0, 52.0, 59.0, 70.0, 35.0, 100.0, 60.0, 131.0, 100.0, 300.0, 220.0, 250.0, 52.0, 65.0, 250.0, 99.0, 150.0, 170.0, 164.0, 85.0, 195.0, 91.0, 55.0, 60.0, 165.0, 95.0, 75.0, 150.0, 195.0, 140.0, 115.0, 110.0, 150.0, 135.0, 41.0, 100.0, 65.0, 70.0, 150.0, 117.0, 275.0, 120.0, 135.0, 65.0, 70.0, 99.0, 50.0, 115.0, 68.0, 145.0, 136.0, 207.0, 140.0, 83.0, 70.0, 139.0, 150.0, 68.0, 150.0, 116.0, 125.0, 50.0, 49.0, 130.0, 50.0, 250.0, 70.0, 56.0, 257.0, 100.0, 90.0, 159.0, 215.0, 292.0, 60.0, 50.0, 232.0, 157.0, 135.0, 88.0, 46.0, 56.0, 145.0, 99.0, 175.0, 129.0, 35.0, 119.0, 122.0, 151.0, 225.0, 46.0, 99.0, 262.0, 170.0, 25.0, 145.0, 191.0, 140.0, 182.0, 60.0, 40.0, 50.0, 95.0, 55.0, 75.0, 74.0, 122.0, 65.0, 250.0, 49.0, 214.0, 49.0, 79.0, 199.0, 200.0, 150.0, 125.0, 151.0, 39.0, 129.0, 95.0, 140.0, 115.0, 75.0, 90.0, 90.0, 300.0, 196.0, 252.0, 175.0, 250.0, 80.0, 116.0, 120.0, 65.0, 65.0, 152.0, 50.0, 120.0, 116.0, 75.0, 125.0, 110.0, 90.0, 85.0, 65.0, 122.0, 180.0, 199.0, 39.0, 60.0, 55.0, 179.0, 130.0, 159.0, 120.0, 130.0, 80.0, 90.0, 90.0, 80.0, 82.0, 119.0, 90.0, 129.0, 135.0, 108.0, 198.0, 135.0, 50.0, 98.0, 225.0, 85.0, 197.0, 79.0, 199.0, 110.0, 100.0, 65.0, 65.0, 65.0, 65.0, 125.0, 175.0, 134.0, 26.0, 79.0, 60.0, 75.0, 64.0, 90.0, 300.0, 95.0, 219.0, 219.0, 175.0, 100.0, 75.0, 90.0, 79.0, 120.0, 144.0, 88.0, 60.0, 199.0, 68.0, 82.0, 300.0, 45.0, 150.0, 45.0, 129.0, 143.0, 153.0, 293.0, 45.0, 165.0, 190.0, 100.0, 69.0, 25.0, 45.0, 40.0, 232.0, 97.0, 145.0, 159.0, 172.0, 32.0, 80.0, 80.0, 170.0, 150.0, 37.0, 227.0, 137.0, 79.0, 130.0, 135.0, 191.0, 145.0, 48.0, 65.0, 37.0, 300.0, 200.0, 63.0, 55.0, 72.0, 185.0, 90.0, 50.0, 48.0, 55.0, 250.0, 149.0, 73.0, 48.0, 300.0, 95.0, 148.0, 50.0, 40.0, 125.0, 135.0, 50.0, 50.0, 220.0, 75.0, 100.0, 124.0, 229.0, 126.0, 30.0, 95.0, 250.0, 90.0, 89.0, 160.0, 56.0, 55.0, 86.0, 215.0, 90.0, 260.0, 146.0, 90.0, 140.0, 50.0, 90.0, 150.0, 143.0, 100.0, 125.0, 71.0, 229.0, 200.0, 95.0, 256.0, 34.0, 99.0, 75.0, 30.0, 80.0, 50.0, 70.0, 125.0, 255.0, 50.0, 95.0, 79.0, 95.0, 75.0, 80.0, 119.0, 150.0, 121.0, 100.0, 149.0, 135.0, 140.0, 169.0, 90.0, 250.0, 70.0, 220.0, 135.0, 190.0, 200.0, 140.0, 140.0, 90.0, 60.0, 60.0, 119.0, 61.0, 92.0, 259.0, 109.0, 112.0, 43.0, 259.0, 109.0, 109.0, 129.0, 129.0, 129.0, 99.0, 79.0, 79.0, 79.0, 259.0, 269.0, 75.0, 200.0, 60.0, 180.0, 240.0, 150.0, 195.0, 66.0, 150.0, 110.0, 90.0, 70.0, 125.0, 155.0, 100.0, 80.0, 95.0, 102.0, 197.0, 250.0, 65.0, 60.0, 126.0, 131.0, 60.0, 47.0, 80.0, 199.0, 37.0, 68.0, 116.0, 66.0, 255.0, 86.0, 150.0, 59.0, 150.0, 179.0, 150.0, 76.0, 95.0, 94.0, 84.0, 43.0, 185.0, 70.0, 42.0, 85.0, 65.0, 169.0, 37.0, 190.0, 202.0, 90.0, 258.0, 65.0, 149.0, 90.0, 45.0, 100.0, 62.0, 80.0, 50.0, 99.0, 69.0, 107.0, 170.0, 186.0, 65.0, 81.0, 72.0, 53.0, 75.0, 158.0, 70.0, 60.0, 99.0, 28.0, 80.0, 45.0, 65.0, 93.0, 78.0, 35.0, 80.0, 37.0, 275.0, 60.0, 139.0, 40.0, 50.0, 75.0, 75.0, 21.0, 200.0, 225.0, 198.0, 176.0, 125.0, 70.0, 50.0, 65.0, 45.0, 50.0, 200.0, 199.0, 95.0, 90.0, 70.0, 299.0, 250.0, 98.0, 110.0, 85.0, 120.0, 38.0, 70.0, 110.0, 100.0, 55.0, 250.0, 45.0, 180.0, 299.0, 169.0, 50.0, 26.0, 44.0, 39.0, 35.0, 25.0, 24.0, 250.0, 100.0, 155.0, 50.0, 65.0, 132.0, 99.0, 54.0, 64.0, 70.0, 150.0, 195.0, 100.0, 150.0, 70.0, 48.0, 115.0, 90.0, 299.0, 45.0, 99.0, 140.0, 85.0, 85.0, 55.0, 55.0, 175.0, 55.0, 30.0, 225.0, 55.0, 115.0, 80.0, 268.0, 58.0, 140.0, 189.0, 180.0, 75.0, 60.0, 50.0, 50.0, 80.0, 60.0, 70.0, 65.0, 106.0, 190.0, 200.0, 40.0, 55.0, 70.0, 50.0, 59.0, 90.0, 65.0, 79.0, 65.0, 75.0, 35.0, 266.0, 200.0, 125.0, 55.0, 175.0, 120.0, 66.0, 74.0, 50.0, 280.0, 110.0, 95.0, 125.0, 175.0, 85.0, 150.0, 258.0, 60.0, 70.0, 145.0, 55.0, 41.0, 110.0, 60.0, 110.0, 110.0, 60.0, 95.0, 215.0, 93.0, 200.0, 114.0, 100.0, 52.0, 111.0, 85.0, 85.0, 65.0, 95.0, 127.0, 250.0, 165.0, 102.0, 100.0, 89.0, 60.0, 40.0, 90.0, 43.0, 106.0, 80.0, 65.0, 69.0, 120.0, 44.0, 199.0, 196.0, 97.0, 185.0, 68.0, 115.0, 100.0, 157.0, 90.0, 48.0, 39.0, 37.0, 80.0, 144.0, 110.0, 120.0, 53.0, 116.0, 57.0, 159.0, 106.0, 122.0, 128.0, 140.0, 122.0, 134.0, 134.0, 169.0, 140.0, 144.0, 152.0, 146.0, 232.0, 245.0, 100.0, 85.0, 60.0, 155.0, 100.0, 150.0, 22.0, 169.0, 118.0, 64.0, 60.0, 156.0, 60.0, 45.0, 115.0, 79.0, 55.0, 130.0, 220.0, 90.0, 91.0, 50.0, 107.0, 79.0, 157.0, 17.0, 145.0, 59.0, 60.0, 48.0, 48.0, 55.0, 60.0, 89.0, 80.0, 43.0, 48.0, 137.0, 69.0, 65.0, 170.0, 75.0, 219.0, 120.0, 88.0, 149.0, 65.0, 100.0, 170.0, 257.0, 200.0, 25.0, 94.0, 39.0, 150.0, 69.0, 61.0, 75.0, 80.0, 95.0, 80.0, 283.0, 90.0, 80.0, 93.0, 120.0, 125.0, 70.0, 72.0, 130.0, 55.0, 249.0, 118.0, 154.0, 67.0, 51.0, 150.0, 90.0, 65.0, 119.0, 100.0, 57.0, 57.0, 40.0, 85.0, 36.0, 40.0, 193.0, 100.0, 225.0, 175.0, 100.0, 182.0, 144.0, 58.0, 79.0, 120.0, 40.0, 75.0, 120.0, 83.0, 70.0, 93.0, 80.0, 80.0, 110.0, 125.0, 79.0, 150.0, 43.0, 177.0, 156.0, 130.0, 140.0, 225.0, 55.0, 60.0, 48.0, 120.0, 100.0, 61.0, 90.0, 75.0, 30.0, 253.0, 99.0, 39.0, 38.0, 150.0, 110.0, 84.0, 180.0, 145.0, 120.0, 60.0, 114.0, 115.0, 125.0, 91.0, 35.0, 36.0, 165.0, 160.0, 110.0, 55.0, 205.0, 50.0, 265.0, 80.0, 55.0, 129.0, 80.0, 300.0, 100.0, 110.0, 43.0, 120.0, 250.0, 75.0, 75.0, 55.0, 65.0, 123.0, 60.0, 100.0, 65.0, 87.0, 60.0, 275.0, 100.0, 176.0, 120.0, 180.0, 45.0, 264.0, 80.0, 229.0, 59.0, 36.0, 50.0, 26.0, 57.0, 175.0, 205.0, 135.0, 70.0, 70.0, 70.0, 60.0, 120.0, 150.0, 150.0, 99.0, 80.0, 63.0, 150.0, 120.0, 95.0, 70.0, 52.0, 26.0, 95.0, 195.0, 150.0, 170.0, 130.0, 60.0, 65.0, 48.0, 60.0, 45.0, 35.0, 48.0, 225.0, 52.0, 99.0, 200.0, 150.0, 99.0, 60.0, 99.0, 59.0, 300.0, 72.0, 51.0, 44.0, 106.0, 81.0, 64.0, 69.0, 89.0, 95.0, 100.0, 90.0, 50.0, 101.0, 176.0, 65.0, 230.0, 70.0, 65.0, 120.0, 208.0, 26.0, 51.0, 151.0, 111.0, 169.0, 159.0, 150.0, 173.0, 159.0, 75.0, 105.0, 275.0, 66.0, 96.0, 218.0, 70.0, 91.0, 46.0, 174.0, 105.0, 85.0, 235.0, 109.0, 150.0, 98.0, 120.0, 90.0, 45.0, 228.0, 69.0, 39.0, 93.0, 56.0, 70.0, 95.0, 47.0, 43.0, 145.0, 30.0, 225.0, 284.0, 173.0, 73.0, 200.0, 238.0, 110.0, 235.0, 275.0, 96.0, 23.0, 125.0, 135.0, 85.0, 290.0, 57.0, 235.0, 275.0, 250.0, 285.0, 265.0, 245.0, 245.0, 229.0, 165.0, 38.0, 34.0, 65.0, 225.0, 99.0, 110.0, 220.0, 85.0, 93.0, 80.0, 111.0, 75.0, 100.0, 150.0, 299.0, 65.0, 107.0, 225.0, 129.0, 195.0, 101.0, 149.0, 50.0, 75.0, 125.0, 25.0, 26.0, 210.0, 125.0, 250.0, 286.0, 73.0, 43.0, 97.0, 78.0, 91.0, 108.0, 171.0, 300.0, 47.0, 105.0, 23.0, 150.0, 100.0, 170.0, 112.0, 130.0, 139.0, 144.0, 148.0, 180.0, 198.0, 180.0, 225.0, 250.0, 107.0, 45.0, 150.0, 120.0, 73.0, 45.0, 65.0, 45.0, 69.0, 45.0, 250.0, 99.0, 286.0, 85.0, 122.0, 150.0, 60.0, 249.0, 70.0, 80.0, 100.0, 250.0, 279.0, 239.0, 45.0, 26.0, 80.0, 50.0, 50.0, 62.0, 85.0, 40.0, 37.0, 150.0, 80.0, 36.0, 75.0, 65.0, 110.0, 37.0, 115.0, 250.0, 45.0, 180.0, 150.0, 150.0, 99.0, 255.0, 145.0, 150.0, 80.0, 125.0, 38.0, 86.0, 95.0, 80.0, 85.0, 29.0, 63.0, 74.0, 45.0, 250.0, 100.0, 125.0, 131.0, 75.0, 90.0, 153.0, 38.0, 160.0, 30.0, 120.0, 32.0, 80.0, 185.0, 50.0, 200.0, 75.0, 94.0, 53.0, 150.0, 120.0, 44.0, 60.0, 135.0, 85.0, 30.0, 180.0, 75.0, 54.0, 45.0, 91.0, 100.0, 32.0, 63.0, 226.0, 88.0, 65.0, 80.0, 76.0, 62.0, 105.0, 275.0, 100.0, 264.0, 300.0, 97.0, 75.0, 79.0, 185.0, 80.0, 255.0, 60.0, 220.0, 175.0, 148.0, 50.0, 89.0, 104.0, 190.0, 50.0, 25.0, 37.0, 88.0, 157.0, 100.0, 171.0, 225.0, 99.0, 150.0, 80.0, 55.0, 132.0, 133.0, 132.0, 142.0, 206.0, 100.0, 177.0, 71.0, 197.0, 170.0, 50.0, 117.0, 71.0, 160.0, 50.0, 47.0, 250.0, 20.0, 100.0, 220.0, 55.0, 92.0, 45.0, 98.0, 225.0, 76.0, 121.0, 89.0, 30.0, 29.0, 116.0, 70.0, 74.0, 79.0, 75.0, 110.0, 70.0, 150.0, 70.0, 55.0, 160.0, 70.0, 254.0, 134.0, 36.0, 90.0, 93.0, 80.0, 240.0, 75.0, 74.0, 83.0, 230.0, 65.0, 38.0, 180.0, 51.0, 55.0, 54.0, 50.0, 51.0, 116.0, 39.0, 100.0, 125.0, 109.0, 70.0, 50.0, 72.0, 85.0, 99.0, 43.0, 55.0, 191.0, 112.0, 99.0, 180.0, 75.0, 100.0, 48.0, 145.0, 55.0, 130.0, 119.0, 65.0, 65.0, 45.0, 148.0, 249.0, 107.0, 80.0, 250.0, 117.0, 165.0, 199.0, 76.0, 95.0, 80.0, 40.0, 120.0, 55.0, 43.0, 85.0, 114.0, 50.0, 60.0, 100.0, 75.0, 50.0, 89.0, 49.0, 100.0, 209.0, 137.0, 180.0, 65.0, 39.0, 75.0, 75.0, 69.0, 275.0, 110.0, 66.0, 120.0, 45.0, 100.0, 188.0, 70.0, 185.0, 50.0, 45.0, 65.0, 50.0, 222.0, 240.0, 65.0, 65.0, 80.0, 85.0, 50.0, 120.0, 140.0, 89.0, 258.0, 162.0, 250.0, 55.0, 150.0, 231.0, 40.0, 117.0, 85.0, 150.0, 50.0, 193.0, 32.0, 30.0, 130.0, 78.0, 64.0, 65.0, 120.0, 163.0, 80.0, 78.0, 99.0, 35.0, 71.0, 160.0, 105.0, 55.0, 90.0, 105.0, 95.0, 50.0, 97.0, 68.0, 157.0, 50.0, 65.0, 45.0, 21.0, 20.0, 49.0, 101.0, 189.0, 153.0, 60.0, 49.0, 110.0, 45.0, 72.0, 72.0, 40.0, 195.0, 159.0, 80.0, 195.0, 72.0, 53.0, 50.0, 65.0, 59.0, 65.0, 50.0, 62.0, 149.0, 180.0, 95.0, 270.0, 87.0, 128.0, 65.0, 159.0, 120.0, 75.0, 120.0, 80.0, 300.0, 31.0, 120.0, 111.0, 69.0, 182.0, 139.0, 93.0, 90.0, 135.0, 150.0, 170.0, 175.0, 109.0, 219.0, 179.0, 135.0, 190.0, 75.0, 110.0, 130.0, 100.0, 218.0, 73.0, 43.0, 40.0, 300.0, 130.0, 74.0, 160.0, 58.0, 230.0, 131.0, 157.0, 42.0, 180.0, 96.0, 27.0, 150.0, 68.0, 65.0, 145.0, 50.0, 112.0, 95.0, 111.0, 100.0, 57.0, 96.0, 34.0, 46.0, 50.0, 83.0, 65.0, 25.0, 180.0, 185.0, 141.0, 26.0, 150.0, 65.0, 250.0, 55.0, 20.0, 160.0, 300.0, 60.0, 190.0, 42.0, 89.0, 45.0, 73.0, 95.0, 65.0, 60.0, 136.0, 45.0, 69.0, 150.0, 70.0, 60.0, 40.0, 90.0, 50.0, 72.0, 52.0, 60.0, 45.0, 156.0, 65.0, 70.0, 84.0, 40.0, 175.0, 115.0, 95.0, 45.0, 100.0, 150.0, 235.0, 119.0, 275.0, 57.0, 96.0, 118.0, 130.0, 175.0, 20.0, 60.0, 104.0, 250.0, 50.0, 99.0, 150.0, 250.0, 99.0, 65.0, 29.0, 37.0, 295.0, 25.0, 156.0, 50.0, 50.0, 120.0, 49.0, 185.0, 150.0, 60.0, 249.0, 45.0, 55.0, 55.0, 70.0, 45.0, 34.0, 104.0, 70.0, 81.0, 71.0, 55.0, 100.0, 55.0, 50.0, 53.0, 51.0, 67.0, 55.0, 115.0, 150.0, 40.0, 206.0, 90.0, 156.0, 75.0, 155.0, 45.0, 52.0, 80.0, 169.0, 140.0, 70.0, 83.0, 50.0, 75.0, 225.0, 45.0, 51.0, 86.0, 70.0, 45.0, 85.0, 55.0, 55.0, 85.0, 47.0, 132.0, 70.0, 81.0, 81.0, 68.0, 225.0, 90.0, 39.0, 30.0, 200.0, 120.0, 300.0, 49.0, 180.0, 33.0, 102.0, 269.0, 50.0, 50.0, 75.0, 69.0, 180.0, 95.0, 90.0, 79.0, 80.0, 153.0, 115.0, 60.0, 29.0, 110.0, 80.0, 250.0, 125.0, 61.0, 67.0, 65.0, 49.0, 144.0, 152.0, 147.0, 146.0, 82.0, 113.0, 195.0, 115.0, 79.0, 130.0, 124.0, 51.0, 140.0, 45.0, 40.0, 50.0, 75.0, 86.0, 55.0, 70.0, 39.0, 147.0, 110.0, 72.0, 129.0, 145.0, 250.0, 200.0, 215.0, 38.0, 55.0, 65.0, 230.0, 75.0, 111.0, 90.0, 257.0, 250.0, 40.0, 300.0, 32.0, 100.0, 70.0, 39.0, 86.0, 139.0, 60.0, 49.0, 81.0, 66.0, 68.0, 150.0, 149.0, 45.0, 37.0, 78.0, 153.0, 64.0, 75.0, 155.0, 100.0, 50.0, 35.0, 185.0, 115.0, 32.0, 50.0, 70.0, 160.0, 126.0, 32.0, 145.0, 137.0, 163.0, 163.0, 181.0, 235.0, 271.0, 244.0, 280.0, 115.0, 211.0, 46.0, 242.0, 46.0, 35.0, 199.0, 94.0, 38.0, 91.0, 54.0, 130.0, 126.0, 175.0, 50.0, 115.0, 175.0, 46.0, 78.0, 40.0, 68.0, 84.0, 200.0, 155.0, 139.0, 150.0, 71.0, 52.0, 33.0, 50.0, 40.0, 21.0, 98.0, 100.0, 96.0, 62.0, 135.0, 95.0, 265.0, 150.0, 120.0, 38.0, 56.0, 105.0, 250.0, 55.0, 300.0, 238.0, 87.0, 200.0, 72.0, 65.0, 50.0, 90.0, 81.0, 32.0, 54.0, 105.0, 54.0, 49.0, 125.0, 55.0, 140.0, 130.0, 150.0, 106.0, 50.0, 28.0, 78.0, 92.0, 125.0, 144.0, 155.0, 79.0, 100.0, 50.0, 170.0, 90.0, 79.0, 200.0, 45.0, 194.0, 60.0, 250.0, 206.0, 250.0, 146.0, 70.0, 65.0, 112.0, 60.0, 80.0, 77.0, 120.0, 50.0, 55.0, 120.0, 60.0, 160.0, 35.0, 154.0, 93.0, 48.0, 249.0, 150.0, 85.0, 164.0, 80.0, 31.0, 90.0, 180.0, 180.0, 110.0, 240.0, 100.0, 274.0, 150.0, 200.0, 195.0, 119.0, 150.0, 72.0, 130.0, 138.0, 99.0, 299.0, 160.0, 105.0, 56.0, 200.0, 175.0, 80.0, 250.0, 199.0, 100.0, 180.0, 106.0, 195.0, 67.0, 155.0, 79.0, 230.0, 35.0, 91.0, 32.0, 39.0, 78.0, 78.0, 78.0, 81.0, 81.0, 89.0, 65.0, 100.0, 180.0, 101.0, 79.0, 300.0, 175.0, 79.0, 148.0, 300.0, 75.0, 110.0, 44.0, 80.0, 110.0, 110.0, 80.0, 65.0, 182.0, 95.0, 65.0, 73.0, 73.0, 170.0, 177.0, 199.0, 199.0, 80.0, 100.0, 149.0, 200.0, 65.0, 162.0, 215.0, 89.0, 122.0, 99.0, 60.0, 200.0, 24.0, 125.0, 99.0, 59.0, 57.0, 43.0, 215.0, 55.0, 150.0, 43.0, 167.0, 85.0, 89.0, 150.0, 75.0, 75.0, 65.0, 69.0, 33.0, 85.0, 75.0, 55.0, 150.0, 39.0, 100.0, 50.0, 75.0, 125.0, 160.0, 90.0, 60.0, 50.0, 69.0, 65.0, 126.0, 160.0, 160.0, 114.0, 66.0, 171.0, 66.0, 167.0, 175.0, 80.0, 147.0, 170.0, 129.0, 59.0, 100.0, 239.0, 55.0, 87.0, 90.0, 65.0, 50.0, 300.0, 60.0, 181.0, 150.0, 60.0, 161.0, 137.0, 117.0, 60.0, 120.0, 76.0, 90.0, 42.0, 115.0, 249.0, 88.0, 60.0, 300.0, 145.0, 59.0, 79.0, 135.0, 75.0, 31.0, 85.0, 68.0, 50.0, 85.0, 300.0, 23.0, 295.0, 99.0, 68.0, 135.0, 150.0, 21.0, 111.0, 130.0, 90.0, 205.0, 95.0, 150.0, 150.0, 70.0, 65.0, 100.0, 90.0, 49.0, 95.0, 49.0, 152.0, 24.0, 159.0, 40.0, 50.0, 63.0, 200.0, 25.0, 100.0, 180.0, 65.0, 150.0, 110.0, 69.0, 256.0, 120.0, 160.0, 150.0, 70.0, 75.0, 55.0, 110.0, 70.0, 78.0, 100.0, 120.0, 199.0, 145.0, 60.0, 116.0, 85.0, 125.0, 280.0, 212.0, 58.0, 45.0, 50.0, 80.0, 50.0, 90.0, 70.0, 211.0, 222.0, 232.0, 238.0, 65.0, 99.0, 90.0, 158.0, 175.0, 65.0, 46.0, 87.0, 80.0, 250.0, 160.0, 145.0, 210.0, 32.0, 180.0, 90.0, 68.0, 79.0, 103.0, 23.0, 67.0, 85.0, 200.0, 150.0, 136.0, 100.0, 180.0, 80.0, 90.0, 77.0, 167.0, 71.0, 121.0, 125.0, 52.0, 119.0, 220.0, 69.0, 35.0, 55.0, 85.0, 85.0, 90.0, 61.0, 46.0, 75.0, 75.0, 49.0, 48.0, 39.0, 49.0, 41.0, 189.0, 164.0, 90.0, 92.0, 65.0, 70.0, 65.0, 90.0, 42.0, 125.0, 136.0, 155.0, 94.0, 134.0, 56.0, 225.0, 65.0, 164.0, 120.0, 60.0, 113.0, 60.0, 129.0, 227.0, 83.0, 109.0, 73.0, 60.0, 38.0, 115.0, 33.0, 43.0, 225.0, 200.0, 88.0, 36.0, 88.0, 110.0, 41.0, 23.0, 35.0, 38.0, 110.0, 60.0, 90.0, 219.0, 43.0, 299.0, 79.0, 25.0, 25.0, 125.0, 189.0, 144.0, 66.0, 35.0, 71.0, 49.0, 71.0, 47.0, 45.0, 45.0, 68.0, 80.0, 70.0, 70.0, 220.0, 110.0, 194.0, 134.0, 275.0, 235.0, 59.0, 78.0, 65.0, 116.0, 96.0, 30.0, 73.0, 36.0, 95.0, 195.0, 0.0, 0.0, 192.0, 0.0, 0.0, 130.0, 40.0, 150.0, 79.0, 125.0, 120.0, 200.0, 75.0, 48.0, 108.0, 80.0, 80.0, 100.0, 75.0, 45.0, 50.0, 146.0, 65.0, 50.0, 34.0, 132.0, 46.0, 61.0, 113.0, 90.0, 44.0, 89.0, 70.0, 170.0, 75.0, 50.0, 129.0, 147.0, 90.0, 96.0, 140.0, 135.0, 80.0, 43.0, 89.0, 220.0, 83.0, 80.0, 60.0, 30.0, 200.0, 88.0, 175.0, 125.0, 105.0, 65.0, 40.0, 38.0, 195.0, 232.0, 70.0, 150.0, 70.0, 250.0, 95.0, 120.0, 55.0, 75.0, 40.0, 65.0, 60.0, 220.0, 220.0, 75.0, 75.0, 35.0, 35.0, 87.0, 95.0, 45.0, 45.0, 299.0, 125.0, 80.0, 100.0, 70.0, 100.0, 99.0, 200.0, 118.0, 53.0, 136.0, 299.0, 100.0, 41.0, 42.0, 42.0, 51.0, 51.0, 80.0, 55.0, 150.0, 186.0, 290.0, 119.0, 55.0, 60.0, 70.0, 220.0, 220.0, 67.0, 50.0, 220.0, 195.0, 90.0, 195.0, 220.0, 160.0, 60.0, 200.0, 100.0, 125.0, 49.0, 102.0, 49.0, 165.0, 250.0, 53.0, 50.0, 75.0, 55.0, 49.0, 108.0, 226.0, 90.0, 50.0, 34.0, 130.0, 90.0, 180.0, 100.0, 65.0, 259.0, 60.0, 189.0, 190.0, 90.0, 55.0, 120.0, 234.0, 200.0, 229.0, 60.0, 175.0, 80.0, 68.0, 240.0, 69.0, 176.0, 200.0, 125.0, 120.0, 100.0, 49.0, 125.0, 68.0, 164.0, 99.0, 100.0, 275.0, 140.0, 36.0, 99.0, 145.0, 88.0, 60.0, 79.0, 32.0, 50.0, 60.0, 60.0, 206.0, 250.0, 295.0, 25.0, 40.0, 55.0, 50.0, 43.0, 43.0, 43.0, 40.0, 163.0, 70.0, 119.0, 99.0, 99.0, 40.0, 29.0, 99.0, 96.0, 99.0, 90.0, 99.0, 55.0, 275.0, 70.0, 85.0, 55.0, 200.0, 285.0, 139.0, 70.0, 120.0, 89.0, 80.0, 75.0, 154.0, 90.0, 79.0, 149.0, 100.0, 44.0, 70.0, 89.0, 43.0, 104.0, 38.0, 130.0, 48.0, 60.0, 65.0, 75.0, 39.0, 250.0, 60.0, 45.0, 80.0, 191.0, 100.0, 45.0, 130.0, 213.0, 99.0, 120.0, 95.0, 70.0, 85.0, 100.0, 39.0, 50.0, 50.0, 175.0, 99.0, 38.0, 90.0, 135.0, 60.0, 49.0, 55.0, 120.0, 89.0, 140.0, 77.0, 260.0, 31.0, 122.0, 236.0, 120.0, 175.0, 179.0, 149.0, 65.0, 83.0, 175.0, 50.0, 65.0, 139.0, 159.0, 180.0, 80.0, 249.0, 32.0, 61.0, 40.0, 35.0, 80.0, 190.0, 60.0, 75.0, 37.0, 19.0, 185.0, 40.0, 300.0, 200.0, 42.0, 164.0, 300.0, 60.0, 51.0, 60.0, 160.0, 175.0, 40.0, 50.0, 21.0, 100.0, 160.0, 150.0, 165.0, 70.0, 150.0, 150.0, 40.0, 150.0, 49.0, 40.0, 298.0, 135.0, 99.0, 56.0, 43.0, 239.0, 63.0, 55.0, 100.0, 290.0, 70.0, 80.0, 73.0, 74.0, 175.0, 150.0, 68.0, 180.0, 89.0, 219.0, 40.0, 27.0, 99.0, 60.0, 143.0, 105.0, 90.0, 130.0, 161.0, 60.0, 65.0, 110.0, 90.0, 100.0, 120.0, 99.0, 99.0, 110.0, 54.0, 165.0, 49.0, 58.0, 164.0, 63.0, 59.0, 86.0, 74.0, 195.0, 300.0, 80.0, 30.0, 200.0, 56.0, 43.0, 60.0, 165.0, 150.0, 113.0, 98.0, 48.0, 90.0, 49.0, 49.0, 125.0, 150.0, 130.0, 37.0, 36.0, 150.0, 136.0, 44.0, 125.0, 30.0, 29.0, 200.0, 65.0, 150.0, 70.0, 95.0, 69.0, 49.0, 60.0, 80.0, 70.0, 135.0, 120.0, 55.0, 110.0, 15.0, 85.0, 65.0, 60.0, 55.0, 259.0, 149.0, 149.0, 209.0, 209.0, 249.0, 259.0, 139.0, 66.0, 178.0, 101.0, 181.0, 104.0, 131.0, 133.0, 131.0, 170.0, 70.0, 79.0, 130.0, 98.0, 54.0, 180.0, 160.0, 18.0, 170.0, 225.0, 250.0, 169.0, 203.0, 65.0, 300.0, 93.0, 33.0, 72.0, 98.0, 200.0, 100.0, 200.0, 130.0, 175.0, 266.0, 60.0, 200.0, 130.0, 192.0, 218.0, 209.0, 270.0, 246.0, 164.0, 40.0, 85.0, 150.0, 60.0, 275.0, 280.0, 150.0, 165.0, 100.0, 75.0, 181.0, 50.0, 85.0, 150.0, 110.0, 61.0, 166.0, 300.0, 150.0, 50.0, 90.0, 150.0, 150.0, 84.0, 44.0, 140.0, 105.0, 80.0, 133.0, 153.0, 114.0, 70.0, 115.0, 120.0, 55.0, 112.0, 94.0, 85.0, 58.0, 60.0, 75.0, 96.0, 140.0, 180.0, 80.0, 250.0, 65.0, 108.0, 139.0, 70.0, 250.0, 59.0, 121.0, 125.0, 245.0, 49.0, 42.0, 33.0, 50.0, 33.0, 27.0, 300.0, 33.0, 61.0, 60.0, 102.0, 83.0, 186.0, 45.0, 131.0, 34.0, 81.0, 107.0, 100.0, 90.0, 99.0, 100.0, 120.0, 155.0, 175.0, 65.0, 300.0, 150.0, 150.0, 45.0, 49.0, 154.0, 149.0, 60.0, 237.0, 99.0, 200.0, 50.0, 170.0, 38.0, 65.0, 25.0, 159.0, 245.0, 45.0, 300.0, 48.0, 55.0, 120.0, 95.0, 159.0, 180.0, 166.0, 177.0, 200.0, 55.0, 90.0, 40.0, 100.0, 55.0, 85.0, 18.0, 70.0, 21.0, 42.0, 100.0, 39.0, 135.0, 90.0, 140.0, 150.0, 20.0, 194.0, 52.0, 116.0, 60.0, 107.0, 180.0, 65.0, 150.0, 160.0, 75.0, 59.0, 108.0, 75.0, 80.0, 41.0, 55.0, 100.0, 65.0, 278.0, 140.0, 37.0, 95.0, 99.0, 71.0, 64.0, 295.0, 45.0, 48.0, 200.0, 50.0, 177.0, 50.0, 120.0, 123.0, 105.0, 158.0, 45.0, 150.0, 150.0, 65.0, 120.0, 69.0, 160.0, 70.0, 85.0, 155.0, 150.0, 42.0, 39.0, 45.0, 80.0, 55.0, 300.0, 159.0, 60.0, 81.0, 150.0, 180.0, 300.0, 299.0, 210.0, 42.0, 39.0, 168.0, 120.0, 75.0, 65.0, 125.0, 89.0, 80.0, 75.0, 169.0, 265.0, 125.0, 220.0, 200.0, 150.0, 102.0, 120.0, 73.0, 40.0, 70.0, 227.0, 99.0, 125.0, 85.0, 128.0, 110.0, 45.0, 160.0, 86.0, 60.0, 60.0, 57.0, 200.0, 99.0, 59.0, 235.0, 150.0, 169.0, 199.0, 55.0, 70.0, 130.0, 97.0, 150.0, 189.0, 60.0, 55.0, 65.0, 199.0, 80.0, 45.0, 33.0, 120.0, 125.0, 175.0, 175.0, 59.0, 150.0, 105.0, 90.0, 240.0, 40.0, 70.0, 84.0, 96.0, 50.0, 119.0, 255.0, 95.0, 219.0, 200.0, 55.0, 95.0, 100.0, 250.0, 150.0, 150.0, 246.0, 150.0, 277.0, 120.0, 40.0, 140.0, 80.0, 48.0, 155.0, 67.0, 59.0, 30.0, 120.0, 35.0, 79.0, 199.0, 268.0, 75.0, 175.0, 100.0, 50.0, 98.0, 75.0, 39.0, 59.0, 94.0, 107.0, 99.0, 92.0, 100.0, 55.0, 110.0, 56.0, 250.0, 95.0, 95.0, 84.0, 115.0, 120.0, 36.0, 80.0, 110.0, 45.0, 80.0, 50.0, 195.0, 20.0, 25.0, 300.0, 95.0, 275.0, 130.0, 88.0, 91.0, 85.0, 60.0, 275.0, 40.0, 75.0, 90.0, 135.0, 85.0, 250.0, 182.0, 104.0, 94.0, 111.0, 85.0, 250.0, 179.0, 43.0, 165.0, 25.0, 149.0, 95.0, 73.0, 81.0, 225.0, 35.0, 35.0, 72.0, 69.0, 250.0, 61.0, 75.0, 139.0, 39.0, 47.0, 60.0, 50.0, 149.0, 105.0, 80.0, 51.0, 62.0, 59.0, 100.0, 64.0, 90.0, 48.0, 165.0, 50.0, 175.0, 180.0, 66.0, 80.0, 65.0, 40.0, 40.0, 150.0, 50.0, 200.0, 75.0, 11.0, 100.0, 45.0, 45.0, 150.0, 72.0, 47.0, 54.0, 66.0, 62.0, 60.0, 298.0, 111.0, 70.0, 39.0, 175.0, 150.0, 90.0, 199.0, 179.0, 204.0, 219.0, 250.0, 234.0, 249.0, 29.0, 175.0, 80.0, 299.0, 91.0, 219.0, 111.0, 299.0, 110.0, 150.0, 150.0, 60.0, 97.0, 150.0, 100.0, 49.0, 59.0, 116.0, 60.0, 150.0, 30.0, 150.0, 159.0, 50.0, 250.0, 130.0, 25.0, 195.0, 250.0, 275.0, 144.0, 299.0, 110.0, 219.0, 35.0, 280.0, 88.0, 175.0, 150.0, 50.0, 220.0, 300.0, 127.0, 70.0, 90.0, 52.0, 91.0, 30.0, 54.0, 89.0, 117.0, 99.0, 105.0, 29.0, 50.0, 60.0, 80.0, 200.0, 70.0, 139.0, 180.0, 250.0, 60.0, 131.0, 50.0, 65.0, 300.0, 150.0, 32.0, 60.0, 65.0, 214.0, 120.0, 145.0, 120.0, 145.0, 156.0, 110.0, 65.0, 148.0, 299.0, 40.0, 235.0, 153.0, 259.0, 46.0, 46.0, 46.0, 99.0, 120.0, 140.0, 130.0, 32.0, 120.0, 85.0, 40.0, 75.0, 45.0, 35.0, 120.0, 60.0, 110.0, 250.0, 90.0, 200.0, 47.0, 69.0, 90.0, 60.0, 21.0, 130.0, 54.0, 300.0, 75.0, 120.0, 129.0, 53.0, 236.0, 100.0, 50.0, 90.0, 125.0, 93.0, 46.0, 50.0, 82.0, 75.0, 60.0, 56.0, 157.0, 99.0, 140.0, 100.0, 49.0, 80.0, 100.0, 59.0, 40.0, 119.0, 151.0, 86.0, 35.0, 244.0, 200.0, 30.0, 55.0, 45.0, 250.0, 50.0, 199.0, 85.0, 200.0, 32.0, 75.0, 150.0, 80.0, 95.0, 100.0, 100.0, 29.0, 110.0, 80.0, 200.0, 53.0, 75.0, 135.0, 45.0, 46.0, 210.0, 150.0, 109.0, 110.0, 35.0, 90.0, 100.0, 60.0, 36.0, 153.0, 90.0, 85.0, 60.0, 75.0, 68.0, 89.0, 159.0, 101.0, 150.0, 108.0, 125.0, 44.0, 200.0, 170.0, 300.0, 129.0, 45.0, 139.0, 30.0, 39.0, 100.0, 150.0, 179.0, 120.0, 80.0, 79.0, 60.0, 120.0, 120.0, 150.0, 86.0, 105.0, 25.0, 120.0, 100.0, 111.0, 98.0, 75.0, 228.0, 63.0, 115.0, 120.0, 140.0, 180.0, 93.0, 32.0, 115.0, 104.0, 163.0, 45.0, 150.0, 70.0, 88.0, 165.0, 139.0, 80.0, 108.0, 159.0, 79.0, 50.0, 182.0, 125.0, 30.0, 162.0, 35.0, 60.0, 70.0, 73.0, 65.0, 80.0, 260.0, 79.0, 85.0, 24.0, 24.0, 85.0, 50.0, 33.0, 275.0, 46.0, 175.0, 175.0, 178.0, 56.0, 180.0, 75.0, 25.0, 45.0, 130.0, 62.0, 100.0, 45.0, 141.0, 186.0, 101.0, 75.0, 90.0, 120.0, 87.0, 102.0, 250.0, 200.0, 100.0, 110.0, 175.0, 240.0, 59.0, 80.0, 100.0, 120.0, 285.0, 70.0, 75.0, 85.0, 80.0, 100.0, 137.0, 45.0, 49.0, 40.0, 213.0, 50.0, 125.0, 150.0, 55.0, 33.0, 289.0, 46.0, 150.0, 208.0, 80.0, 59.0, 75.0, 179.0, 80.0, 85.0, 200.0, 34.0, 46.0, 95.0, 295.0, 98.0, 120.0, 40.0, 65.0, 80.0, 65.0, 125.0, 90.0, 111.0, 200.0, 70.0, 80.0, 100.0, 104.0, 127.0, 143.0, 75.0, 93.0, 157.0, 45.0, 211.0, 60.0, 30.0, 63.0, 170.0, 90.0, 49.0, 40.0, 60.0, 79.0, 78.0, 50.0, 96.0, 60.0, 38.0, 200.0, 175.0, 80.0, 200.0, 150.0, 150.0, 45.0, 175.0, 150.0, 40.0, 60.0, 136.0, 90.0, 79.0, 79.0, 232.0, 91.0, 65.0, 70.0, 51.0, 65.0, 200.0, 229.0, 45.0, 200.0, 65.0, 175.0, 210.0, 51.0, 100.0, 99.0, 140.0, 65.0, 111.0, 98.0, 59.0, 135.0, 80.0, 240.0, 188.0, 44.0, 76.0, 60.0, 219.0, 150.0, 175.0, 125.0, 165.0, 120.0, 100.0, 85.0, 198.0, 90.0, 250.0, 119.0, 200.0, 275.0, 82.0, 49.0, 55.0, 37.0, 60.0, 150.0, 182.0, 85.0, 49.0, 266.0, 250.0, 70.0, 100.0, 60.0, 225.0, 43.0, 40.0, 80.0, 195.0, 80.0, 165.0, 155.0, 163.0, 96.0, 44.0, 250.0, 250.0, 65.0, 41.0, 220.0, 39.0, 285.0, 60.0, 60.0, 225.0, 18.0, 250.0, 150.0, 135.0, 125.0, 48.0, 23.0, 100.0, 49.0, 140.0, 265.0, 129.0, 75.0, 31.0, 69.0, 37.0, 200.0, 110.0, 125.0, 110.0, 170.0, 208.0, 50.0, 100.0, 175.0, 14.0, 70.0, 55.0, 114.0, 101.0, 55.0, 129.0, 161.0, 40.0, 80.0, 80.0, 40.0, 69.0, 110.0, 70.0, 46.0, 46.0, 100.0, 45.0, 95.0, 90.0, 139.0, 150.0, 140.0, 45.0, 186.0, 40.0, 17.0, 85.0, 279.0, 55.0, 119.0, 55.0, 90.0, 150.0, 300.0, 115.0, 100.0, 45.0, 45.0, 75.0, 31.0, 89.0, 100.0, 100.0, 139.0, 46.0, 169.0, 101.0, 200.0, 41.0, 77.0, 135.0, 95.0, 165.0, 229.0, 229.0, 175.0, 70.0, 198.0, 119.0, 60.0, 250.0, 75.0, 200.0, 59.0, 65.0, 85.0, 56.0, 195.0, 220.0, 250.0, 150.0, 250.0, 110.0, 107.0, 108.0, 121.0, 124.0, 136.0, 154.0, 162.0, 192.0, 80.0, 179.0, 168.0, 65.0, 75.0, 125.0, 70.0, 180.0, 65.0, 187.0, 77.0, 200.0, 60.0, 55.0, 59.0, 80.0, 90.0, 66.0, 46.0, 200.0, 80.0, 33.0, 260.0, 45.0, 293.0, 269.0, 270.0, 277.0, 255.0, 206.0, 245.0, 150.0, 156.0, 100.0, 57.0, 55.0, 40.0, 185.0, 280.0, 107.0, 60.0, 85.0, 130.0, 95.0, 174.0, 80.0, 35.0, 49.0, 103.0, 235.0, 99.0, 52.0, 80.0, 40.0, 65.0, 23.0, 79.0, 75.0, 37.0, 99.0, 60.0, 120.0, 169.0, 50.0, 80.0, 60.0, 125.0, 53.0, 44.0, 136.0, 90.0, 48.0, 90.0, 125.0, 115.0, 149.0, 110.0, 145.0, 75.0, 150.0, 88.0, 89.0, 57.0, 55.0, 92.0, 150.0, 103.0, 230.0, 245.0, 200.0, 80.0, 180.0, 125.0, 75.0, 55.0, 20.0, 200.0, 125.0, 44.0, 75.0, 49.0, 147.0, 40.0, 250.0, 295.0, 206.0, 284.0, 85.0, 100.0, 79.0, 75.0, 167.0, 100.0, 60.0, 80.0, 105.0, 85.0, 44.0, 160.0, 22.0, 38.0, 54.0, 215.0, 60.0, 125.0, 60.0, 31.0, 150.0, 234.0, 145.0, 95.0, 126.0, 155.0, 60.0, 122.0, 139.0, 185.0, 110.0, 55.0, 147.0, 50.0, 200.0, 200.0, 35.0, 95.0, 249.0, 240.0, 140.0, 107.0, 100.0, 150.0, 190.0, 35.0, 60.0, 61.0, 45.0, 147.0, 75.0, 228.0, 225.0, 228.0, 250.0, 65.0, 69.0, 155.0, 29.0, 133.0, 30.0, 43.0, 55.0, 70.0, 70.0, 75.0, 110.0, 47.0, 179.0, 60.0, 109.0, 125.0, 39.0, 130.0, 83.0, 99.0, 156.0, 52.0, 26.0, 230.0, 120.0, 66.0, 250.0, 200.0, 115.0, 105.0, 150.0, 125.0, 220.0, 185.0, 95.0, 159.0, 125.0, 250.0, 44.0, 300.0, 36.0, 37.0, 275.0, 72.0, 175.0, 58.0, 90.0, 45.0, 75.0, 82.0, 178.0, 41.0, 42.0, 95.0, 75.0, 230.0, 42.0, 113.0, 70.0, 82.0, 40.0, 199.0, 52.0, 204.0, 70.0, 200.0, 175.0, 55.0, 160.0, 100.0, 80.0, 130.0, 90.0, 65.0, 111.0, 55.0, 109.0, 110.0, 75.0, 80.0, 64.0, 52.0, 65.0, 195.0, 153.0, 156.0, 72.0, 110.0, 125.0, 50.0, 169.0, 45.0, 70.0, 79.0, 139.0, 30.0, 156.0, 68.0, 100.0, 109.0, 55.0, 28.0, 55.0, 110.0, 100.0, 60.0, 256.0, 100.0, 50.0, 130.0, 79.0, 86.0, 85.0, 205.0, 150.0, 105.0, 45.0, 60.0, 100.0, 175.0, 35.0, 300.0, 60.0, 50.0, 150.0, 49.0, 50.0, 150.0, 125.0, 51.0, 77.0, 145.0, 99.0, 95.0, 88.0, 42.0, 85.0, 42.0, 75.0, 150.0, 90.0, 90.0, 100.0, 50.0, 92.0, 31.0, 135.0, 80.0, 99.0, 150.0, 95.0, 45.0, 80.0, 145.0, 120.0, 150.0, 100.0, 169.0, 55.0, 54.0, 100.0, 100.0, 95.0, 50.0, 40.0, 35.0, 125.0, 90.0, 190.0, 164.0, 140.0, 84.0, 180.0, 200.0, 117.0, 250.0, 35.0, 81.0, 149.0, 35.0, 35.0, 35.0, 150.0, 125.0, 35.0, 35.0, 35.0, 35.0, 129.0, 70.0, 100.0, 90.0, 260.0, 40.0, 31.0, 55.0, 60.0, 59.0, 80.0, 300.0, 75.0, 110.0, 40.0, 119.0, 45.0, 41.0, 91.0, 250.0, 80.0, 60.0, 60.0, 150.0, 115.0, 160.0, 50.0, 196.0, 90.0, 33.0, 48.0, 299.0, 38.0, 37.0, 39.0, 250.0, 60.0, 210.0, 100.0, 80.0, 80.0, 75.0, 120.0, 205.0, 189.0, 94.0, 100.0, 105.0, 102.0, 250.0, 50.0, 189.0, 115.0, 85.0, 140.0, 85.0, 130.0, 60.0, 250.0, 150.0, 154.0, 95.0, 125.0, 70.0, 140.0, 65.0, 70.0, 117.0, 215.0, 170.0, 75.0, 132.0, 54.0, 40.0, 68.0, 215.0, 75.0, 100.0, 75.0, 69.0, 220.0, 65.0, 175.0, 40.0, 75.0, 204.0, 235.0, 139.0, 168.0, 146.0, 135.0, 150.0, 109.0, 68.0, 250.0, 150.0, 182.0, 145.0, 65.0, 300.0, 60.0, 175.0, 188.0, 222.0, 90.0, 145.0, 18.0, 184.0, 159.0, 35.0, 200.0, 95.0, 42.0, 45.0, 88.0, 50.0, 110.0, 45.0, 75.0, 199.0, 101.0, 30.0, 178.0, 257.0, 59.0, 60.0, 55.0, 99.0, 40.0, 52.0, 150.0, 52.0, 179.0, 105.0, 45.0, 157.0, 75.0, 64.0, 100.0, 48.0, 69.0, 66.0, 55.0, 120.0, 60.0, 219.0, 40.0, 100.0, 100.0, 100.0, 103.0, 55.0, 116.0, 36.0, 108.0, 85.0, 26.0, 99.0, 50.0, 100.0, 50.0, 84.0, 125.0, 50.0, 59.0, 91.0, 185.0, 150.0, 160.0, 90.0, 35.0, 125.0, 50.0, 50.0, 50.0, 150.0, 136.0, 50.0, 300.0, 53.0, 44.0, 70.0, 115.0, 36.0, 38.0, 180.0, 67.0, 70.0, 50.0, 55.0, 135.0, 114.0, 65.0, 285.0, 60.0, 115.0, 45.0, 110.0, 190.0, 35.0, 110.0, 67.0, 177.0, 65.0, 91.0, 78.0, 240.0, 70.0, 40.0, 166.0, 200.0, 70.0, 86.0, 130.0, 83.0, 250.0, 85.0, 68.0, 76.0, 37.0, 50.0, 50.0, 80.0, 154.0, 199.0, 135.0, 98.0, 37.0, 123.0, 68.0, 175.0, 200.0, 47.0, 70.0, 100.0, 99.0, 172.0, 144.0, 220.0, 200.0, 40.0, 98.0, 232.0, 160.0, 119.0, 97.0, 250.0, 70.0, 22.0, 70.0, 60.0, 228.0, 180.0, 84.0, 50.0, 100.0, 55.0, 90.0, 218.0, 65.0, 141.0, 71.0, 250.0, 45.0, 81.0, 61.0, 140.0, 32.0, 148.0, 280.0, 213.0, 155.0, 75.0, 149.0, 45.0, 100.0, 179.0, 75.0, 55.0, 250.0, 135.0, 100.0, 175.0, 150.0, 208.0, 145.0, 46.0, 136.0, 100.0, 55.0, 48.0, 139.0, 45.0, 115.0, 119.0, 55.0, 150.0, 50.0, 75.0, 65.0, 98.0, 30.0, 135.0, 279.0, 100.0, 140.0, 140.0, 125.0, 55.0, 55.0, 71.0, 40.0, 30.0, 159.0, 65.0, 120.0, 70.0, 60.0, 88.0, 75.0, 270.0, 82.0, 30.0, 150.0, 80.0, 100.0, 147.0, 160.0, 100.0, 75.0, 79.0, 192.0, 99.0, 56.0, 42.0, 32.0, 60.0, 60.0, 50.0, 49.0, 59.0, 49.0, 150.0, 51.0, 92.0, 258.0, 102.0, 100.0, 45.0, 100.0, 119.0, 60.0, 79.0, 90.0, 100.0, 113.0, 72.0, 76.0, 89.0, 20.0, 265.0, 55.0, 135.0, 75.0, 90.0, 45.0, 250.0, 280.0, 125.0, 70.0, 45.0, 139.0, 31.0, 65.0, 100.0, 186.0, 130.0, 299.0, 210.0, 33.0, 80.0, 55.0, 112.0, 199.0, 100.0, 70.0, 65.0, 120.0, 42.0, 50.0, 200.0, 80.0, 42.0, 75.0, 39.0, 45.0, 150.0, 190.0, 70.0, 140.0, 102.0, 50.0, 150.0, 119.0, 150.0, 248.0, 110.0, 125.0, 50.0, 130.0, 60.0, 50.0, 69.0, 70.0, 250.0, 75.0, 175.0, 50.0, 100.0, 150.0, 200.0, 80.0, 125.0, 105.0, 150.0, 127.0, 150.0, 65.0, 140.0, 125.0, 134.0, 40.0, 70.0, 35.0, 71.0, 130.0, 100.0, 55.0, 120.0, 60.0, 199.0, 35.0, 67.0, 300.0, 129.0, 70.0, 28.0, 92.0, 185.0, 110.0, 143.0, 90.0, 115.0, 79.0, 73.0, 82.0, 125.0, 73.0, 53.0, 150.0, 45.0, 40.0, 88.0, 93.0, 110.0, 170.0, 266.0, 271.0, 208.0, 85.0, 132.0, 120.0, 160.0, 55.0, 125.0, 230.0, 150.0, 85.0, 80.0, 125.0, 50.0, 250.0, 100.0, 53.0, 150.0, 88.0, 71.0, 35.0, 32.0, 130.0, 110.0, 95.0, 79.0, 59.0, 57.0, 150.0, 100.0, 20.0, 70.0, 150.0, 55.0, 78.0, 179.0, 59.0, 159.0, 32.0, 150.0, 65.0, 50.0, 52.0, 150.0, 300.0, 70.0, 50.0, 285.0, 155.0, 250.0, 135.0, 85.0, 80.0, 40.0, 190.0, 55.0, 170.0, 41.0, 285.0, 83.0, 65.0, 180.0, 150.0, 72.0, 130.0, 55.0, 85.0, 100.0, 80.0, 70.0, 135.0, 200.0, 70.0, 50.0, 99.0, 125.0, 175.0, 299.0, 100.0, 160.0, 50.0, 110.0, 199.0, 85.0, 53.0, 125.0, 149.0, 50.0, 60.0, 169.0, 63.0, 69.0, 70.0, 40.0, 100.0, 78.0, 150.0, 75.0, 250.0, 200.0, 150.0, 77.0, 264.0, 58.0, 130.0, 33.0, 129.0, 40.0, 90.0, 130.0, 154.0, 132.0, 90.0, 85.0, 20.0, 219.0, 150.0, 139.0, 56.0, 235.0, 109.0, 118.0, 90.0, 85.0, 115.0, 85.0, 45.0, 85.0, 85.0, 85.0, 85.0, 85.0, 209.0, 120.0, 60.0, 170.0, 123.0, 130.0, 85.0, 200.0, 49.0, 250.0, 100.0, 100.0, 210.0, 112.0, 299.0, 55.0, 64.0, 90.0, 75.0, 90.0, 55.0, 90.0, 142.0, 55.0, 197.0, 50.0, 70.0, 175.0, 120.0, 220.0, 100.0, 180.0, 150.0, 35.0, 65.0, 85.0, 250.0, 159.0, 110.0, 229.0, 250.0, 280.0, 250.0, 170.0, 225.0, 85.0, 95.0, 100.0, 50.0, 90.0, 45.0, 125.0, 129.0, 55.0, 130.0, 200.0, 148.0, 300.0, 58.0, 115.0, 44.0, 160.0, 150.0, 65.0, 140.0, 80.0, 70.0, 95.0, 100.0, 115.0, 61.0, 46.0, 78.0, 167.0, 120.0, 216.0, 26.0, 55.0, 225.0, 80.0, 70.0, 40.0, 70.0, 150.0, 120.0, 75.0, 200.0, 89.0, 70.0, 100.0, 166.0, 110.0, 70.0, 75.0, 42.0, 26.0, 120.0, 50.0, 120.0, 130.0, 74.0, 164.0, 100.0, 55.0, 80.0, 150.0, 120.0, 45.0, 120.0, 50.0, 70.0, 90.0, 125.0, 130.0, 78.0, 289.0, 39.0, 35.0, 150.0, 55.0, 85.0, 95.0, 100.0, 80.0, 95.0, 90.0, 150.0, 200.0, 90.0, 95.0, 90.0, 99.0, 100.0, 60.0, 200.0, 179.0, 250.0, 70.0, 70.0, 36.0, 60.0, 41.0, 85.0, 100.0, 123.0, 47.0, 285.0, 300.0, 160.0, 139.0, 220.0, 90.0, 75.0, 100.0, 190.0, 70.0, 50.0, 60.0, 60.0, 50.0, 60.0, 100.0, 135.0, 190.0, 170.0, 161.0, 151.0, 141.0, 131.0, 111.0, 121.0, 143.0, 80.0, 82.0, 99.0, 109.0, 41.0, 70.0, 42.0, 180.0, 156.0, 133.0, 59.0, 60.0, 220.0, 52.0, 66.0, 143.0, 207.0, 25.0, 40.0, 199.0, 145.0, 119.0, 300.0, 250.0, 300.0, 250.0, 300.0, 160.0, 160.0, 60.0, 290.0, 185.0, 190.0, 200.0, 220.0, 80.0, 124.0, 40.0, 95.0, 199.0, 107.0, 100.0, 40.0, 61.0, 189.0, 199.0, 86.0, 40.0, 30.0, 50.0, 50.0, 50.0, 45.0, 100.0, 120.0, 67.0, 88.0, 101.0, 180.0, 250.0, 100.0, 185.0, 164.0, 85.0, 45.0, 135.0, 90.0, 50.0, 54.0, 210.0, 95.0, 54.0, 80.0, 54.0, 54.0, 65.0, 135.0, 167.0, 44.0, 199.0, 47.0, 84.0, 150.0, 119.0, 135.0, 150.0, 185.0, 150.0, 165.0, 100.0, 119.0, 185.0, 110.0, 121.0, 200.0, 145.0, 75.0, 200.0, 45.0, 40.0, 40.0, 29.0, 200.0, 40.0, 218.0, 79.0, 114.0, 165.0, 200.0, 70.0, 25.0, 40.0, 50.0, 200.0, 90.0, 170.0, 54.0, 121.0, 110.0, 300.0, 53.0, 44.0, 40.0, 40.0, 101.0, 40.0, 90.0, 245.0, 55.0, 40.0, 150.0, 57.0, 95.0, 33.0, 300.0, 38.0, 95.0, 120.0, 135.0, 90.0, 51.0, 195.0, 160.0, 125.0, 250.0, 294.0, 115.0, 250.0, 85.0, 225.0, 126.0, 80.0, 300.0, 261.0, 285.0, 50.0, 160.0, 45.0, 75.0, 172.0, 78.0, 120.0, 75.0, 90.0, 70.0, 53.0, 25.0, 288.0, 61.0, 249.0, 51.0, 104.0, 64.0, 300.0, 51.0, 200.0, 225.0, 195.0, 94.0, 67.0, 60.0, 228.0, 51.0, 170.0, 30.0, 130.0, 150.0, 57.0, 80.0, 225.0, 259.0, 250.0, 261.0, 120.0, 90.0, 45.0, 89.0, 142.0, 30.0, 45.0, 85.0, 75.0, 135.0, 100.0, 152.0, 90.0, 45.0, 130.0, 53.0, 95.0, 92.0, 85.0, 79.0, 52.0, 60.0, 100.0, 71.0, 50.0, 104.0, 80.0, 175.0, 110.0, 100.0, 95.0, 130.0, 170.0, 61.0, 62.0, 175.0, 65.0, 149.0, 33.0, 94.0, 45.0, 27.0, 50.0, 29.0, 179.0, 120.0, 250.0, 35.0, 118.0, 95.0, 120.0, 120.0, 100.0, 275.0, 139.0, 150.0, 139.0, 139.0, 250.0, 99.0, 49.0, 285.0, 81.0, 180.0, 216.0, 126.0, 60.0, 40.0, 28.0, 90.0, 40.0, 70.0, 60.0, 250.0, 80.0, 85.0, 269.0, 241.0, 60.0, 91.0, 118.0, 59.0, 132.0, 107.0, 59.0, 145.0, 300.0, 150.0, 30.0, 120.0, 80.0, 225.0, 175.0, 75.0, 61.0, 132.0, 103.0, 75.0, 300.0, 27.0, 29.0, 85.0, 102.0, 249.0, 200.0, 150.0, 78.0, 80.0, 150.0, 99.0, 198.0, 190.0, 127.0, 150.0, 98.0, 65.0, 43.0, 130.0, 126.0, 168.0, 211.0, 50.0, 72.0, 150.0, 150.0, 250.0, 30.0, 180.0, 85.0, 40.0, 91.0, 50.0, 51.0, 145.0, 44.0, 32.0, 50.0, 41.0, 159.0, 90.0, 75.0, 29.0, 268.0, 70.0, 297.0, 117.0, 75.0, 40.0, 60.0, 100.0, 150.0, 95.0, 70.0, 95.0, 70.0, 40.0, 75.0, 65.0, 35.0, 50.0, 100.0, 85.0, 164.0, 60.0, 40.0, 114.0, 35.0, 221.0, 111.0, 170.0, 35.0, 100.0, 261.0, 145.0, 89.0, 55.0, 45.0, 67.0, 90.0, 60.0, 110.0, 28.0, 275.0, 120.0, 50.0, 55.0, 200.0, 125.0, 85.0, 74.0, 78.0, 83.0, 65.0, 63.0, 79.0, 125.0, 184.0, 140.0, 59.0, 169.0, 81.0, 85.0, 80.0, 182.0, 65.0, 200.0, 152.0, 70.0, 170.0, 100.0, 175.0, 85.0, 150.0, 123.0, 170.0, 60.0, 45.0, 150.0, 120.0, 50.0, 70.0, 63.0, 79.0, 285.0, 50.0, 81.0, 250.0, 70.0, 80.0, 260.0, 222.0, 45.0, 80.0, 122.0, 115.0, 10.0, 50.0, 85.0, 75.0, 128.0, 175.0, 71.0, 65.0, 185.0, 69.0, 61.0, 68.0, 130.0, 92.0, 75.0, 91.0, 50.0, 189.0, 39.0, 100.0, 150.0, 80.0, 45.0, 149.0, 120.0, 100.0, 100.0, 97.0, 90.0, 45.0, 150.0, 56.0, 51.0, 88.0, 56.0, 40.0, 70.0, 22.0, 92.0, 18.0, 130.0, 85.0, 40.0, 119.0, 145.0, 134.0, 59.0, 56.0, 56.0, 91.0, 79.0, 122.0, 120.0, 80.0, 60.0, 80.0, 51.0, 89.0, 55.0, 71.0, 130.0, 85.0, 75.0, 60.0, 65.0, 185.0, 60.0, 98.0, 59.0, 55.0, 45.0, 175.0, 150.0, 65.0, 175.0, 31.0, 80.0, 60.0, 86.0, 86.0, 31.0, 77.0, 193.0, 67.0, 115.0, 50.0, 110.0, 101.0, 128.0, 35.0, 23.0, 100.0, 203.0, 129.0, 70.0, 60.0, 212.0, 99.0, 60.0, 100.0, 150.0, 75.0, 75.0, 86.0, 225.0, 100.0, 114.0, 66.0, 90.0, 60.0, 225.0, 16.0, 120.0, 277.0, 115.0, 30.0, 45.0, 69.0, 252.0, 99.0, 210.0, 85.0, 51.0, 200.0, 60.0, 60.0, 58.0, 140.0, 139.0, 150.0, 150.0, 110.0, 56.0, 89.0, 55.0, 75.0, 60.0, 99.0, 112.0, 52.0, 125.0, 200.0, 55.0, 99.0, 110.0, 185.0, 250.0, 160.0, 125.0, 29.0, 60.0, 51.0, 40.0, 60.0, 115.0, 29.0, 54.0, 199.0, 56.0, 182.0, 59.0, 40.0, 50.0, 74.0, 225.0, 99.0, 63.0, 42.0, 111.0, 94.0, 229.0, 250.0, 39.0, 150.0, 275.0, 40.0, 240.0, 100.0, 135.0, 88.0, 51.0, 150.0, 45.0, 55.0, 55.0, 117.0, 47.0, 37.0, 160.0, 41.0, 146.0, 80.0, 80.0, 43.0, 75.0, 118.0, 44.0, 110.0, 29.0, 249.0, 55.0, 200.0, 80.0, 45.0, 90.0, 240.0, 154.0, 145.0, 175.0, 175.0, 54.0, 157.0, 110.0, 122.0, 189.0, 70.0, 250.0, 120.0, 170.0, 58.0, 150.0, 150.0, 149.0, 160.0, 80.0, 80.0, 50.0, 90.0, 65.0, 285.0, 95.0, 87.0, 199.0, 60.0, 105.0, 80.0, 99.0, 75.0, 110.0, 98.0, 63.0, 93.0, 170.0, 48.0, 85.0, 45.0, 87.0, 131.0, 88.0, 88.0, 95.0, 105.0, 260.0, 50.0, 127.0, 55.0, 45.0, 50.0, 55.0, 105.0, 55.0, 50.0, 59.0, 49.0, 58.0, 104.0, 125.0, 43.0, 105.0, 56.0, 160.0, 94.0, 44.0, 100.0, 29.0, 100.0, 116.0, 88.0, 55.0, 140.0, 80.0, 47.0, 55.0, 50.0, 55.0, 50.0, 57.0, 59.0, 40.0, 100.0, 150.0, 40.0, 55.0, 55.0, 125.0, 99.0, 35.0, 88.0, 160.0, 120.0, 38.0, 40.0, 45.0, 300.0, 68.0, 100.0, 240.0, 70.0, 80.0, 40.0, 60.0, 54.0, 60.0, 185.0, 37.0, 107.0, 73.0, 151.0, 249.0, 200.0, 300.0, 175.0, 55.0, 128.0, 55.0, 95.0, 55.0, 112.0, 127.0, 140.0, 125.0, 61.0, 200.0, 109.0, 59.0, 48.0, 70.0, 50.0, 59.0, 200.0, 150.0, 130.0, 65.0, 85.0, 86.0, 60.0, 169.0, 45.0, 189.0, 151.0, 65.0, 250.0, 80.0, 50.0, 68.0, 49.0, 150.0, 59.0, 257.0, 81.0, 125.0, 225.0, 49.0, 120.0, 125.0, 140.0, 85.0, 40.0, 42.0, 76.0, 120.0, 90.0, 120.0, 137.0, 300.0, 125.0, 45.0, 50.0, 60.0, 100.0, 55.0, 66.0, 50.0, 140.0, 224.0, 45.0, 80.0, 174.0, 100.0, 40.0, 99.0, 91.0, 135.0, 95.0, 30.0, 150.0, 114.0, 70.0, 52.0, 52.0, 190.0, 29.0, 46.0, 245.0, 82.0, 65.0, 164.0, 64.0, 200.0, 200.0, 225.0, 79.0, 60.0, 100.0, 300.0, 49.0, 112.0, 175.0, 109.0, 81.0, 199.0, 53.0, 139.0, 50.0, 100.0, 139.0, 139.0, 68.0, 139.0, 65.0, 85.0, 55.0, 125.0, 74.0, 70.0, 179.0, 99.0, 47.0, 110.0, 102.0, 129.0, 130.0, 110.0, 50.0, 170.0, 180.0, 60.0, 122.0, 300.0, 171.0, 141.0, 25.0, 72.0, 164.0, 94.0, 139.0, 129.0, 267.0, 150.0, 94.0, 125.0, 56.0, 60.0, 135.0, 139.0, 150.0, 60.0, 51.0, 40.0, 289.0, 251.0, 150.0, 40.0, 81.0, 80.0, 55.0, 105.0, 171.0, 145.0, 45.0, 65.0, 60.0, 40.0, 69.0, 47.0, 60.0, 90.0, 70.0, 29.0, 40.0, 36.0, 125.0, 94.0, 55.0, 50.0, 30.0, 70.0, 100.0, 300.0, 60.0, 45.0, 60.0, 50.0, 80.0, 100.0, 66.0, 59.0, 70.0, 60.0, 120.0, 95.0, 95.0, 150.0, 96.0, 45.0, 70.0, 36.0, 89.0, 150.0, 100.0, 120.0, 162.0, 39.0, 80.0, 74.0, 200.0, 267.0, 90.0, 150.0, 60.0, 60.0, 100.0, 53.0, 84.0, 175.0, 257.0, 36.0, 79.0, 30.0, 80.0, 79.0, 65.0, 280.0, 100.0, 55.0, 100.0, 40.0, 85.0, 185.0, 140.0, 79.0, 45.0, 275.0, 75.0, 95.0, 49.0, 50.0, 36.0, 90.0, 55.0, 30.0, 100.0, 185.0, 80.0, 168.0, 75.0, 80.0, 155.0, 139.0, 120.0, 42.0, 125.0, 50.0, 40.0, 44.0, 74.0, 62.0, 150.0, 130.0, 40.0, 90.0, 89.0, 61.0, 65.0, 35.0, 60.0, 300.0, 90.0, 151.0, 115.0, 300.0, 105.0, 0.0, 0.0, 100.0, 70.0, 50.0, 204.0, 128.0, 63.0, 65.0, 80.0, 85.0, 250.0, 199.0, 100.0, 60.0, 140.0, 249.0, 250.0, 71.0, 150.0, 138.0, 175.0, 250.0, 160.0, 75.0, 58.0, 32.0, 38.0, 200.0, 90.0, 160.0, 104.0, 52.0, 90.0, 159.0, 125.0, 90.0, 179.0, 55.0, 45.0, 150.0, 249.0, 80.0, 0.0, 120.0, 23.0, 40.0, 99.0, 60.0, 88.0, 89.0, 75.0, 164.0, 31.0, 55.0, 43.0, 275.0, 89.0, 95.0, 150.0, 200.0, 110.0, 55.0, 113.0, 100.0, 79.0, 170.0, 110.0, 95.0, 245.0, 40.0, 160.0, 50.0, 97.0, 80.0, 40.0, 150.0, 41.0, 45.0, 45.0, 129.0, 150.0, 200.0, 37.0, 135.0, 89.0, 38.0, 39.0, 133.0, 130.0, 150.0, 221.0, 20.0, 120.0, 85.0, 150.0, 125.0, 151.0, 89.0, 145.0, 140.0, 235.0, 39.0, 50.0, 300.0, 192.0, 136.0, 95.0, 49.0, 175.0, 215.0, 75.0, 65.0, 60.0, 290.0, 125.0, 150.0, 86.0, 299.0, 120.0, 75.0, 40.0, 300.0, 65.0, 160.0, 150.0, 150.0, 40.0, 190.0, 91.0, 65.0, 250.0, 190.0, 75.0, 70.0, 80.0, 106.0, 38.0, 200.0, 150.0, 225.0, 45.0, 235.0, 35.0, 235.0, 41.0, 215.0, 42.0, 42.0, 85.0, 90.0, 80.0, 61.0, 295.0, 249.0, 60.0, 50.0, 99.0, 155.0, 110.0, 90.0, 25.0, 99.0, 75.0, 89.0, 150.0, 60.0, 65.0, 129.0, 55.0, 118.0, 70.0, 85.0, 22.0, 272.0, 51.0, 36.0, 215.0, 95.0, 278.0, 120.0, 50.0, 50.0, 250.0, 50.0, 30.0, 100.0, 175.0, 100.0, 149.0, 214.0, 157.0, 100.0, 33.0, 90.0, 175.0, 110.0, 95.0, 200.0, 33.0, 215.0, 230.0, 146.0, 75.0, 139.0, 60.0, 120.0, 265.0, 250.0, 50.0, 300.0, 45.0, 114.0, 60.0, 139.0, 139.0, 159.0, 159.0, 105.0, 160.0, 75.0, 240.0, 150.0, 95.0, 64.0, 124.0, 165.0, 95.0, 259.0, 99.0, 99.0, 134.0, 89.0, 110.0, 120.0, 45.0, 75.0, 262.0, 35.0, 136.0, 85.0, 30.0, 50.0, 60.0, 120.0, 225.0, 115.0, 50.0, 100.0, 150.0, 214.0, 95.0, 52.0, 135.0, 55.0, 30.0, 44.0, 30.0, 60.0, 90.0, 130.0, 222.0, 200.0, 150.0, 139.0, 50.0, 75.0, 78.0, 150.0, 171.0, 40.0, 41.0, 100.0, 100.0, 49.0, 75.0, 62.0, 130.0, 125.0, 173.0, 235.0, 173.0, 90.0, 215.0, 52.0, 125.0, 60.0, 150.0, 120.0, 50.0, 44.0, 103.0, 60.0, 83.0, 140.0, 49.0, 50.0, 38.0, 40.0, 109.0, 40.0, 95.0, 40.0, 65.0, 69.0, 84.0, 100.0, 65.0, 126.0, 100.0, 65.0, 65.0, 99.0, 170.0, 160.0, 180.0, 200.0, 230.0, 100.0, 145.0, 95.0, 45.0, 75.0, 40.0, 140.0, 95.0, 199.0, 70.0, 85.0, 106.0, 108.0, 125.0, 44.0, 150.0, 160.0, 220.0, 169.0, 50.0, 138.0, 69.0, 78.0, 50.0, 110.0, 90.0, 250.0, 140.0, 177.0, 100.0, 55.0, 210.0, 120.0, 140.0, 40.0, 68.0, 22.0, 55.0, 200.0, 70.0, 50.0, 300.0, 125.0, 52.0, 50.0, 140.0, 93.0, 110.0, 300.0, 149.0, 40.0, 33.0, 0.0, 0.0, 0.0, 0.0, 0.0, 100.0, 38.0, 158.0, 67.0, 100.0, 26.0, 75.0, 33.0, 100.0, 80.0, 249.0, 99.0, 80.0, 45.0, 250.0, 140.0, 65.0, 135.0, 75.0, 84.0, 75.0, 55.0, 50.0, 125.0, 43.0, 100.0, 100.0, 59.0, 140.0, 50.0, 49.0, 65.0, 58.0, 68.0, 45.0, 116.0, 50.0, 249.0, 80.0, 60.0, 60.0, 33.0, 75.0, 40.0, 135.0, 59.0, 123.0, 140.0, 55.0, 50.0, 50.0, 50.0, 55.0, 106.0, 200.0, 190.0, 110.0, 101.0, 50.0, 160.0, 50.0, 60.0, 100.0, 100.0, 45.0, 299.0, 130.0, 59.0, 50.0, 23.0, 245.0, 155.0, 60.0, 55.0, 67.0, 30.0, 198.0, 65.0, 152.0, 99.0, 275.0, 120.0, 180.0, 68.0, 245.0, 61.0, 22.0, 48.0, 139.0, 69.0, 119.0, 40.0, 130.0, 123.0, 239.0, 220.0, 90.0, 58.0, 150.0, 160.0, 129.0, 40.0, 231.0, 200.0, 63.0, 150.0, 50.0, 103.0, 100.0, 139.0, 60.0, 235.0, 90.0, 60.0, 108.0, 103.0, 88.0, 90.0, 47.0, 185.0, 100.0, 40.0, 56.0, 50.0, 138.0, 108.0, 190.0, 40.0, 39.0, 175.0, 104.0, 190.0, 115.0, 50.0, 70.0, 70.0, 60.0, 35.0, 54.0, 50.0, 40.0, 65.0, 70.0, 60.0, 180.0, 70.0, 120.0, 40.0, 150.0, 79.0, 140.0, 95.0, 200.0, 293.0, 140.0, 65.0, 80.0, 55.0, 39.0, 290.0, 37.0, 135.0, 109.0, 85.0, 59.0, 198.0, 48.0, 100.0, 49.0, 95.0, 49.0, 120.0, 152.0, 135.0, 99.0, 38.0, 35.0, 110.0, 119.0, 40.0, 68.0, 90.0, 125.0, 97.0, 76.0, 49.0, 45.0, 100.0, 181.0, 124.0, 120.0, 149.0, 40.0, 99.0, 99.0, 166.0, 120.0, 92.0, 150.0, 91.0, 40.0, 80.0, 120.0, 200.0, 84.0, 88.0, 88.0, 61.0, 65.0, 120.0, 126.0, 120.0, 45.0, 150.0, 175.0, 115.0, 60.0, 75.0, 215.0, 40.0, 0.0, 0.0, 40.0, 55.0, 36.0, 46.0, 47.0, 105.0, 105.0, 105.0, 40.0, 54.0, 120.0, 38.0, 250.0, 253.0, 278.0, 40.0, 300.0, 95.0, 33.0, 225.0, 28.0, 90.0, 135.0, 125.0, 75.0, 126.0, 135.0, 50.0, 204.0, 38.0, 50.0, 262.0, 225.0, 150.0, 300.0, 51.0, 70.0, 92.0, 150.0, 35.0, 85.0, 35.0, 96.0, 95.0, 150.0, 125.0, 100.0, 75.0, 100.0, 89.0, 150.0, 151.0, 70.0, 140.0, 130.0, 73.0, 75.0, 165.0, 100.0, 70.0, 80.0, 100.0, 90.0, 75.0, 70.0, 250.0, 43.0, 45.0, 150.0, 99.0, 69.0, 145.0, 80.0, 125.0, 271.0, 46.0, 81.0, 120.0, 35.0, 70.0, 213.0, 0.0, 0.0, 36.0, 120.0, 120.0, 115.0, 120.0, 222.0, 126.0, 129.0, 241.0, 238.0, 201.0, 80.0, 202.0, 85.0, 59.0, 98.0, 48.0, 150.0, 147.0, 100.0, 49.0, 300.0, 81.0, 130.0, 258.0, 250.0, 104.0, 180.0, 127.0, 180.0, 285.0, 275.0, 96.0, 50.0, 150.0, 100.0, 76.0, 180.0, 50.0, 109.0, 158.0, 284.0, 267.0, 200.0, 100.0, 36.0, 125.0, 52.0, 175.0, 84.0, 265.0, 0.0, 108.0, 127.0, 0.0, 97.0, 199.0, 79.0, 120.0, 199.0, 249.0, 190.0, 240.0, 56.0, 50.0, 60.0, 145.0, 165.0, 299.0, 50.0, 125.0, 95.0, 134.0, 55.0, 51.0, 38.0, 125.0, 115.0, 175.0, 80.0, 100.0, 140.0, 99.0, 145.0, 221.0, 65.0, 65.0, 200.0, 96.0, 144.0, 55.0, 115.0, 139.0, 139.0, 139.0, 139.0, 139.0, 139.0, 139.0, 139.0, 25.0, 200.0, 80.0, 75.0, 50.0, 290.0, 67.0, 80.0, 55.0, 70.0, 139.0, 100.0, 70.0, 80.0, 109.0, 90.0, 264.0, 114.0, 60.0, 130.0, 170.0, 70.0, 79.0, 60.0, 20.0, 55.0, 87.0, 120.0, 65.0, 65.0, 159.0, 195.0, 82.0, 120.0, 45.0, 92.0, 99.0, 177.0, 90.0, 125.0, 62.0, 85.0, 85.0, 38.0, 39.0, 32.0, 45.0, 99.0, 38.0, 83.0, 261.0, 150.0, 150.0, 275.0, 40.0, 136.0, 150.0, 29.0, 59.0, 80.0, 60.0, 80.0, 59.0, 35.0, 120.0, 180.0, 129.0, 45.0, 85.0, 49.0, 120.0, 65.0, 175.0, 240.0, 150.0, 200.0, 60.0, 80.0, 75.0, 48.0, 130.0, 182.0, 69.0, 45.0, 156.0, 170.0, 38.0, 38.0, 170.0, 285.0, 150.0, 115.0, 69.0, 99.0, 180.0, 135.0, 70.0, 48.0, 103.0, 120.0, 50.0, 120.0, 178.0, 150.0, 38.0, 69.0, 129.0, 196.0, 35.0, 34.0, 100.0, 23.0, 165.0, 150.0, 250.0, 70.0, 60.0, 47.0, 250.0, 85.0, 37.0, 33.0, 36.0, 99.0, 300.0, 42.0, 50.0, 32.0, 95.0, 45.0, 108.0, 112.0, 150.0, 150.0, 145.0, 186.0, 205.0, 186.0, 56.0, 200.0, 120.0, 148.0, 50.0, 70.0, 170.0, 230.0, 160.0, 202.0, 215.0, 150.0, 145.0, 39.0, 75.0, 110.0, 236.0, 120.0, 40.0, 36.0, 35.0, 35.0, 39.0, 36.0, 69.0, 275.0, 100.0, 50.0, 81.0, 65.0, 55.0, 59.0, 180.0, 169.0, 111.0, 99.0, 35.0, 56.0, 137.0, 53.0, 82.0, 260.0, 100.0, 249.0, 99.0, 204.0, 70.0, 45.0, 150.0, 65.0, 259.0, 35.0, 49.0, 21.0, 126.0, 38.0, 30.0, 140.0, 100.0, 32.0, 250.0, 198.0, 120.0, 85.0, 132.0, 99.0, 60.0, 69.0, 60.0, 127.0, 98.0, 75.0, 80.0, 39.0, 37.0, 45.0, 140.0, 33.0, 27.0, 25.0, 42.0, 35.0, 35.0, 34.0, 225.0, 26.0, 32.0, 165.0, 25.0, 57.0, 62.0, 155.0, 80.0, 39.0, 31.0, 90.0, 180.0, 200.0, 123.0, 250.0, 65.0, 88.0, 150.0, 192.0, 28.0, 40.0, 95.0, 229.0, 65.0, 100.0, 120.0, 36.0, 39.0, 36.0, 26.0, 68.0, 84.0, 125.0, 150.0, 60.0, 90.0, 13.0, 46.0, 150.0, 46.0, 224.0, 66.0, 70.0, 72.0, 60.0, 180.0, 50.0, 25.0, 116.0, 66.0, 95.0, 165.0, 105.0, 126.0, 200.0, 60.0, 17.0, 17.0, 81.0, 95.0, 100.0, 145.0, 40.0, 55.0, 45.0, 65.0, 125.0, 75.0, 299.0, 40.0, 90.0, 50.0, 50.0, 50.0, 50.0, 60.0, 55.0, 150.0, 37.0, 45.0, 275.0, 75.0, 189.0, 104.0, 45.0, 204.0, 220.0, 170.0, 151.0, 247.0, 189.0, 99.0, 32.0, 46.0, 23.0, 137.0, 28.0, 25.0, 149.0, 73.0, 90.0, 120.0, 67.0, 185.0, 49.0, 129.0, 299.0, 55.0, 225.0, 56.0, 66.0, 124.0, 140.0, 111.0, 69.0, 150.0, 55.0, 84.0, 101.0, 194.0, 70.0, 120.0, 110.0, 85.0, 202.0, 125.0, 73.0, 51.0, 39.0, 60.0, 80.0, 19.0, 230.0, 90.0, 23.0, 200.0, 34.0, 35.0, 140.0, 160.0, 145.0, 160.0, 75.0, 230.0, 50.0, 120.0, 150.0, 250.0, 80.0, 79.0, 195.0, 66.0, 104.0, 41.0, 39.0, 182.0, 33.0, 260.0, 50.0, 147.0, 32.0, 29.0, 70.0, 52.0, 26.0, 199.0, 89.0, 120.0, 195.0, 26.0, 33.0, 75.0, 45.0, 100.0, 75.0, 125.0, 284.0, 279.0, 161.0, 150.0, 149.0, 225.0, 110.0, 36.0, 115.0, 29.0, 149.0, 223.0, 49.0, 45.0, 27.0, 25.0, 55.0, 46.0, 42.0, 80.0, 70.0, 200.0, 75.0, 25.0, 124.0, 25.0, 55.0, 42.0, 55.0, 32.0, 89.0, 39.0, 75.0, 132.0, 119.0, 163.0, 95.0, 150.0, 85.0, 42.0, 45.0, 29.0, 61.0, 150.0, 128.0, 45.0, 55.0, 100.0, 45.0, 17.0, 18.0, 30.0, 220.0, 130.0, 65.0, 39.0, 48.0, 110.0, 42.0, 42.0, 70.0, 42.0, 42.0, 175.0, 190.0, 45.0, 75.0, 60.0, 42.0, 42.0, 39.0, 32.0, 31.0, 41.0, 180.0, 45.0, 50.0, 170.0, 160.0, 245.0, 265.0, 83.0, 48.0, 200.0, 45.0, 95.0, 69.0, 122.0, 160.0, 200.0, 69.0, 64.0, 89.0, 67.0, 154.0, 79.0, 120.0, 39.0, 89.0, 45.0, 125.0, 165.0, 30.0, 140.0, 50.0, 0.0, 40.0, 65.0, 40.0, 40.0, 95.0, 125.0, 117.0, 80.0, 300.0, 75.0, 209.0, 80.0, 50.0, 145.0, 150.0, 60.0, 186.0, 35.0, 80.0, 130.0, 38.0, 65.0, 33.0, 30.0, 95.0, 217.0, 264.0, 41.0, 38.0, 100.0, 100.0, 150.0, 259.0, 165.0, 300.0, 69.0, 274.0, 50.0, 99.0, 289.0, 86.0, 175.0, 55.0, 31.0, 31.0, 41.0, 31.0, 29.0, 180.0, 180.0, 85.0, 40.0, 40.0, 75.0, 199.0, 42.0, 40.0, 120.0, 65.0, 50.0, 110.0, 140.0, 116.0, 70.0, 297.0, 247.0, 149.0, 75.0, 187.0, 89.0, 89.0, 34.0, 32.0, 42.0, 38.0, 37.0, 34.0, 40.0, 30.0, 83.0, 99.0, 110.0, 28.0, 135.0, 140.0, 84.0, 65.0, 79.0, 60.0, 160.0, 129.0, 80.0, 55.0, 38.0, 32.0, 79.0, 38.0, 40.0, 75.0, 130.0, 197.0, 97.0, 85.0, 175.0, 69.0, 199.0, 36.0, 40.0, 34.0, 45.0, 200.0, 200.0, 60.0, 95.0, 200.0, 244.0, 94.0, 40.0, 33.0, 120.0, 70.0, 48.0, 35.0, 80.0, 64.0, 70.0, 138.0, 121.0, 59.0, 90.0, 31.0, 181.0, 24.0, 123.0, 34.0, 55.0, 55.0, 35.0, 29.0, 35.0, 110.0, 125.0, 119.0, 95.0, 28.0, 32.0, 36.0, 29.0, 26.0, 149.0, 149.0, 231.0, 262.0, 69.0, 185.0, 200.0, 70.0, 80.0, 150.0, 110.0, 95.0, 214.0, 88.0, 160.0, 49.0, 21.0, 17.0, 135.0, 65.0, 70.0, 65.0, 140.0, 200.0, 90.0, 99.0, 79.0, 130.0, 27.0, 29.0, 38.0, 28.0, 40.0, 35.0, 32.0, 150.0, 40.0, 51.0, 50.0, 190.0, 189.0, 80.0, 200.0, 269.0, 269.0, 65.0, 25.0, 160.0, 95.0, 73.0, 70.0, 100.0, 150.0, 50.0, 130.0, 130.0, 89.0, 152.0, 50.0, 104.0, 193.0, 164.0, 75.0, 126.0, 40.0, 15.0, 164.0, 126.0, 150.0, 230.0, 70.0, 200.0, 99.0, 94.0, 50.0, 59.0, 90.0, 236.0, 59.0, 68.0, 60.0, 50.0, 116.0, 40.0, 59.0, 185.0, 223.0, 150.0, 100.0, 65.0, 166.0, 280.0, 26.0, 45.0, 29.0, 34.0, 26.0, 36.0, 35.0, 38.0, 75.0, 100.0, 34.0, 38.0, 130.0, 43.0, 78.0, 26.0, 35.0, 135.0, 65.0, 65.0, 55.0, 50.0, 121.0, 55.0, 269.0, 250.0, 180.0, 180.0, 37.0, 33.0, 39.0, 38.0, 75.0, 75.0, 38.0, 40.0, 200.0, 122.0, 110.0, 188.0, 92.0, 60.0, 115.0, 51.0, 129.0, 150.0, 95.0, 119.0, 139.0, 129.0, 80.0, 229.0, 166.0, 50.0, 80.0, 87.0, 60.0, 48.0, 154.0, 117.0, 120.0, 49.0, 39.0, 39.0, 39.0, 0.0, 0.0, 60.0, 160.0, 150.0, 40.0, 39.0, 195.0, 125.0, 155.0, 67.0, 250.0, 235.0, 49.0, 60.0, 115.0, 250.0, 200.0, 140.0, 202.0, 80.0, 229.0, 165.0, 229.0, 179.0, 229.0, 199.0, 229.0, 280.0, 90.0, 39.0, 30.0, 39.0, 73.0, 155.0, 70.0, 60.0, 75.0, 145.0, 179.0, 179.0, 179.0, 179.0, 179.0, 229.0, 179.0, 50.0, 27.0, 199.0, 40.0, 27.0, 163.0, 99.0, 120.0, 188.0, 250.0, 139.0, 175.0, 105.0, 129.0, 149.0, 139.0, 129.0, 139.0, 300.0, 34.0, 70.0, 179.0, 179.0, 229.0, 282.0, 151.0, 49.0, 48.0, 48.0, 78.0, 65.0, 163.0, 100.0, 115.0, 100.0, 100.0, 250.0, 107.0, 50.0, 79.0, 68.0, 68.0, 125.0, 225.0, 225.0, 140.0, 62.0, 65.0, 60.0, 57.0, 79.0, 39.0, 67.0, 52.0, 45.0, 275.0, 70.0, 65.0, 81.0, 33.0, 220.0, 70.0, 125.0, 145.0, 131.0, 72.0, 227.0, 86.0, 80.0, 63.0, 122.0, 160.0, 50.0, 90.0, 90.0, 25.0, 50.0, 79.0, 67.0, 67.0, 45.0, 79.0, 75.0, 36.0, 75.0, 35.0, 94.0, 86.0, 120.0, 120.0, 130.0, 150.0, 28.0, 90.0, 88.0, 28.0, 24.0, 190.0, 65.0, 19.0, 79.0, 44.0, 50.0, 172.0, 80.0, 76.0, 44.0, 45.0, 250.0, 173.0, 150.0, 44.0, 30.0, 93.0, 30.0, 161.0, 214.0, 125.0, 102.0, 135.0, 100.0, 171.0, 50.0, 49.0, 49.0, 45.0, 280.0, 81.0, 72.0, 199.0, 49.0, 120.0, 139.0, 37.0, 59.0, 49.0, 58.0, 55.0, 59.0, 29.0, 29.0, 75.0, 38.0, 100.0, 90.0, 100.0, 95.0, 169.0, 169.0, 105.0, 135.0, 150.0, 47.0, 56.0, 60.0, 65.0, 40.0, 59.0, 45.0, 50.0, 39.0, 59.0, 53.0, 0.0, 190.0, 76.0, 60.0, 229.0, 249.0, 199.0, 53.0, 59.0, 69.0, 45.0, 0.0, 45.0, 169.0, 80.0, 200.0, 88.0, 59.0, 60.0, 59.0, 59.0, 24.0, 150.0, 75.0, 36.0, 69.0, 55.0, 45.0, 39.0, 49.0, 59.0, 39.0, 75.0, 45.0, 59.0, 69.0, 75.0, 69.0, 126.0, 275.0, 37.0, 120.0, 225.0, 162.0, 75.0, 24.0, 33.0, 99.0, 65.0, 37.0, 100.0, 43.0, 249.0, 237.0, 210.0, 80.0, 43.0, 60.0, 125.0, 250.0, 77.0, 65.0, 57.0, 57.0, 126.0, 25.0, 125.0, 70.0, 135.0, 81.0, 26.0, 45.0, 115.0, 27.0, 229.0, 229.0, 75.0, 100.0, 97.0, 98.0, 97.0, 85.0, 80.0, 150.0, 70.0, 80.0, 23.0, 70.0, 80.0, 70.0, 70.0, 125.0, 75.0, 95.0, 97.0, 90.0, 60.0, 59.0, 36.0, 59.0, 40.0, 130.0, 199.0, 135.0, 189.0, 225.0, 225.0, 225.0, 225.0, 45.0, 39.0, 185.0, 120.0, 120.0, 259.0, 69.0, 89.0, 30.0, 39.0, 49.0, 99.0, 99.0, 99.0, 99.0, 99.0, 99.0, 99.0, 250.0, 108.0, 99.0, 222.0, 167.0, 60.0, 167.0, 55.0, 25.0, 58.0, 80.0, 250.0, 65.0, 249.0, 125.0, 114.0, 75.0, 90.0, 42.0, 150.0, 120.0, 80.0, 149.0, 129.0, 60.0, 75.0, 40.0, 65.0, 39.0, 180.0, 65.0, 169.0, 116.0, 120.0, 30.0, 100.0, 80.0, 56.0, 100.0, 100.0, 70.0, 75.0, 100.0, 100.0, 75.0, 80.0, 100.0, 100.0, 70.0, 85.0, 130.0, 179.0, 105.0, 52.0, 120.0, 120.0, 110.0, 110.0, 110.0, 80.0, 80.0, 150.0, 200.0, 100.0, 100.0, 38.0, 100.0, 140.0, 137.0, 275.0, 174.0, 59.0, 221.0, 69.0, 87.0, 206.0, 202.0, 234.0, 50.0, 110.0, 113.0, 219.0, 249.0, 249.0, 289.0, 225.0, 109.0, 46.0, 250.0, 27.0, 35.0, 74.0, 178.0, 50.0, 48.0, 162.0, 74.0, 133.0, 38.0, 50.0, 200.0, 95.0, 100.0, 32.0, 270.0, 100.0, 35.0, 110.0, 299.0, 125.0, 136.0, 145.0, 34.0, 35.0, 225.0, 45.0, 214.0, 175.0, 133.0, 175.0, 230.0, 125.0, 39.0, 28.0, 28.0, 35.0, 27.0, 28.0, 90.0, 27.0, 89.0, 28.0, 26.0, 200.0, 94.0, 23.0, 118.0, 115.0, 70.0, 24.0, 116.0, 149.0, 45.0, 30.0, 121.0, 32.0, 29.0, 34.0, 34.0, 35.0, 33.0, 35.0, 32.0, 40.0, 36.0, 43.0, 39.0, 33.0, 43.0, 45.0, 29.0, 29.0, 31.0, 112.0, 67.0, 40.0, 33.0, 28.0, 47.0, 115.0, 125.0, 96.0, 167.0, 29.0, 33.0, 38.0, 29.0, 34.0, 36.0, 25.0, 43.0, 19.0, 110.0, 190.0, 115.0, 110.0, 89.0, 38.0, 32.0, 28.0, 36.0, 146.0, 152.0, 140.0, 63.0, 74.0, 45.0, 59.0, 120.0, 88.0, 150.0, 175.0, 175.0, 100.0, 180.0, 200.0, 55.0, 40.0, 60.0, 149.0, 150.0, 83.0, 153.0, 200.0, 100.0, 80.0, 60.0, 42.0, 166.0, 80.0, 80.0, 43.0, 140.0, 27.0, 29.0, 90.0, 26.0, 99.0, 175.0, 70.0, 75.0, 60.0, 85.0, 69.0, 250.0, 100.0, 120.0, 250.0, 225.0, 155.0, 75.0, 100.0, 37.0, 140.0, 90.0, 100.0, 100.0, 130.0, 42.0, 150.0, 68.0, 100.0, 240.0, 150.0, 235.0, 225.0, 300.0, 157.0, 180.0, 85.0, 65.0, 50.0, 120.0, 275.0, 135.0, 85.0, 39.0, 138.0, 66.0, 35.0, 100.0, 150.0, 286.0, 36.0, 102.0, 25.0, 26.0, 60.0, 65.0, 191.0, 116.0, 75.0, 80.0, 60.0, 150.0, 160.0, 140.0, 85.0, 140.0, 90.0, 130.0, 150.0, 127.0, 100.0, 200.0, 80.0, 175.0, 29.0, 220.0, 140.0, 95.0, 38.0, 80.0, 106.0, 179.0, 108.0, 70.0, 70.0, 89.0, 60.0, 180.0, 150.0, 249.0, 110.0, 173.0, 149.0, 40.0, 39.0, 39.0, 38.0, 80.0, 200.0, 85.0, 180.0, 80.0, 90.0, 130.0, 113.0, 75.0, 65.0, 125.0, 109.0, 150.0, 150.0, 140.0, 126.0, 250.0, 150.0, 49.0, 52.0, 69.0, 61.0, 72.0, 150.0, 31.0, 182.0, 72.0, 119.0, 42.0, 67.0, 200.0, 35.0, 240.0, 220.0, 54.0, 70.0, 126.0, 125.0, 75.0, 60.0, 50.0, 75.0, 72.0, 40.0, 91.0, 300.0, 275.0, 150.0, 85.0, 130.0, 100.0, 69.0, 80.0, 55.0, 100.0, 89.0, 75.0, 250.0, 130.0, 150.0, 177.0, 69.0, 130.0, 192.0, 169.0, 147.0, 90.0, 300.0, 100.0, 229.0, 26.0, 221.0, 50.0, 113.0, 100.0, 34.0, 34.0, 34.0, 36.0, 133.0, 102.0, 70.0, 55.0, 200.0, 50.0, 217.0, 43.0, 45.0, 113.0, 130.0, 200.0, 112.0, 90.0, 100.0, 101.0, 50.0, 60.0, 130.0, 45.0, 95.0, 74.0, 110.0, 44.0, 70.0, 119.0, 90.0, 45.0, 65.0, 300.0, 150.0, 60.0, 150.0, 242.0, 200.0, 78.0, 52.0, 46.0, 85.0, 130.0, 118.0, 160.0, 60.0, 102.0, 250.0, 142.0, 98.0, 25.0, 40.0, 45.0, 65.0, 110.0, 125.0, 125.0, 61.0, 89.0, 53.0, 100.0, 170.0, 120.0, 75.0, 61.0, 80.0, 150.0, 65.0, 179.0, 290.0, 98.0, 150.0, 168.0, 160.0, 135.0, 149.0, 44.0, 128.0, 44.0, 82.0, 52.0, 50.0, 134.0, 44.0, 134.0, 44.0, 165.0, 124.0, 44.0, 165.0, 44.0, 44.0, 124.0, 44.0, 44.0, 65.0, 70.0, 125.0, 52.0, 85.0, 50.0, 46.0, 48.0, 110.0, 60.0, 68.0, 90.0, 70.0, 60.0, 40.0, 50.0, 300.0, 80.0, 169.0, 40.0, 81.0, 36.0, 106.0, 175.0, 40.0, 81.0, 122.0, 90.0, 95.0, 62.0, 65.0, 34.0, 25.0, 125.0, 230.0, 101.0, 150.0, 85.0, 66.0, 90.0, 39.0, 38.0, 27.0, 54.0, 35.0, 35.0, 30.0, 29.0, 118.0, 39.0, 26.0, 250.0, 36.0, 26.0, 97.0, 250.0, 100.0, 78.0, 140.0, 150.0, 43.0, 68.0, 149.0, 154.0, 65.0, 29.0, 28.0, 132.0, 94.0, 57.0, 100.0, 55.0, 86.0, 175.0, 71.0, 199.0, 156.0, 140.0, 101.0, 91.0, 100.0, 65.0, 70.0, 270.0, 45.0, 100.0, 62.0, 94.0, 70.0, 140.0, 66.0, 74.0, 55.0, 90.0, 25.0, 120.0, 126.0, 96.0, 220.0, 70.0, 200.0, 145.0, 97.0, 295.0, 80.0, 38.0, 100.0, 45.0, 113.0, 150.0, 80.0, 90.0, 120.0, 299.0, 130.0, 199.0, 90.0, 134.0, 200.0, 38.0, 210.0, 59.0, 100.0, 99.0, 69.0, 296.0, 230.0, 108.0, 78.0, 300.0, 100.0, 102.0, 90.0, 60.0, 90.0, 80.0, 208.0, 80.0, 300.0, 45.0, 50.0, 68.0, 120.0, 169.0, 75.0, 100.0, 93.0, 120.0, 100.0, 124.0, 85.0, 130.0, 150.0, 179.0, 280.0, 70.0, 85.0, 210.0, 40.0, 52.0, 75.0, 163.0, 242.0, 170.0, 60.0, 74.0, 100.0, 200.0, 181.0, 51.0, 88.0, 60.0, 149.0, 47.0, 81.0, 220.0, 80.0, 250.0, 61.0, 125.0, 50.0, 98.0, 110.0, 78.0, 75.0, 145.0, 275.0, 48.0, 48.0, 96.0, 86.0, 33.0, 300.0, 135.0, 46.0, 120.0, 300.0, 99.0, 60.0, 75.0, 40.0, 38.0, 67.0, 45.0, 140.0, 80.0, 125.0, 175.0, 67.0, 49.0, 158.0, 55.0, 73.0, 84.0, 155.0, 105.0, 38.0, 50.0, 65.0, 89.0, 250.0, 100.0, 165.0, 125.0, 175.0, 165.0, 84.0, 250.0, 38.0, 41.0, 80.0, 100.0, 46.0, 35.0, 37.0, 213.0, 125.0, 300.0, 300.0, 55.0, 174.0, 95.0, 35.0, 107.0, 180.0, 171.0, 48.0, 150.0, 275.0, 197.0, 70.0, 175.0, 70.0, 100.0, 74.0, 229.0, 65.0, 58.0, 52.0, 108.0, 150.0, 125.0, 49.0, 50.0, 69.0, 43.0, 150.0, 150.0, 150.0, 40.0, 189.0, 35.0, 110.0, 65.0, 75.0, 108.0, 53.0, 59.0, 45.0, 250.0, 32.0, 32.0, 95.0, 110.0, 42.0, 120.0, 70.0, 200.0, 97.0, 99.0, 60.0, 90.0, 40.0, 55.0, 114.0, 185.0, 200.0, 105.0, 119.0, 65.0, 43.0, 38.0, 47.0, 28.0, 32.0, 35.0, 67.0, 125.0, 90.0, 55.0, 44.0, 48.0, 140.0, 165.0, 51.0, 157.0, 165.0, 60.0, 165.0, 86.0, 93.0, 84.0, 70.0, 119.0, 75.0, 110.0, 85.0, 120.0, 91.0, 120.0, 100.0, 50.0, 80.0, 70.0, 175.0, 75.0, 129.0, 240.0, 140.0, 125.0, 110.0, 175.0, 110.0, 165.0, 150.0, 200.0, 64.0, 300.0, 121.0, 109.0, 76.0, 100.0, 129.0, 60.0, 39.0, 50.0, 211.0, 150.0, 106.0, 99.0, 150.0, 130.0, 100.0, 69.0, 89.0, 48.0, 250.0, 26.0, 29.0, 25.0, 23.0, 23.0, 120.0, 275.0, 110.0, 87.0, 70.0, 180.0, 249.0, 29.0, 46.0, 45.0, 51.0, 200.0, 105.0, 70.0, 181.0, 168.0, 69.0, 78.0, 40.0, 61.0, 47.0, 48.0, 41.0, 128.0, 120.0, 198.0, 100.0, 50.0, 76.0, 50.0, 25.0, 136.0, 32.0, 200.0, 46.0, 109.0, 250.0, 52.0, 41.0, 44.0, 44.0, 44.0, 33.0, 45.0, 75.0, 220.0, 150.0, 130.0, 159.0, 150.0, 60.0, 196.0, 65.0, 65.0, 65.0, 33.0, 220.0, 23.0, 25.0, 23.0, 24.0, 45.0, 50.0, 67.0, 155.0, 195.0, 40.0, 40.0, 91.0, 45.0, 254.0, 155.0, 93.0, 120.0, 55.0, 100.0, 118.0, 75.0, 129.0, 31.0, 199.0, 95.0, 150.0, 72.0, 150.0, 132.0, 50.0, 200.0, 40.0, 104.0, 108.0, 140.0, 98.0, 95.0, 88.0, 95.0, 101.0, 23.0, 107.0, 108.0, 75.0, 27.0, 108.0, 72.0, 104.0, 55.0, 75.0, 110.0, 130.0, 60.0, 250.0, 200.0, 120.0, 250.0, 150.0, 75.0, 300.0, 165.0, 70.0, 79.0, 68.0, 65.0, 43.0, 48.0, 78.0, 48.0, 50.0, 45.0, 147.0, 32.0, 60.0, 31.0, 36.0, 71.0, 68.0, 55.0, 66.0, 115.0, 85.0, 275.0, 110.0, 75.0, 100.0, 52.0, 186.0, 27.0, 100.0, 57.0, 51.0, 57.0, 80.0, 46.0, 53.0, 51.0, 62.0, 67.0, 100.0, 40.0, 54.0, 42.0, 34.0, 34.0, 34.0, 36.0, 58.0, 50.0, 250.0, 149.0, 85.0, 120.0, 57.0, 270.0, 140.0, 200.0, 137.0, 123.0, 160.0, 57.0, 90.0, 149.0, 179.0, 199.0, 65.0, 80.0, 50.0, 45.0, 150.0, 87.0, 195.0, 133.0, 120.0, 100.0, 145.0, 159.0, 94.0, 165.0, 160.0, 150.0, 86.0, 159.0, 60.0, 262.0, 245.0, 94.0, 60.0, 35.0, 40.0, 75.0, 45.0, 40.0, 72.0, 120.0, 76.0, 35.0, 75.0, 55.0, 50.0, 100.0, 250.0, 180.0, 300.0, 40.0, 135.0, 113.0, 115.0, 102.0, 98.0, 49.0, 95.0, 115.0, 85.0, 75.0, 110.0, 60.0, 120.0, 120.0, 131.0, 130.0, 58.0, 82.0, 55.0, 50.0, 90.0, 80.0, 80.0, 127.0, 52.0, 120.0, 120.0, 110.0, 235.0, 300.0, 250.0, 50.0, 250.0, 44.0, 170.0, 50.0, 95.0, 75.0, 90.0, 35.0, 150.0, 31.0, 100.0, 150.0, 235.0, 170.0, 170.0, 170.0, 170.0, 80.0, 170.0, 175.0, 100.0, 229.0, 120.0, 175.0, 170.0, 170.0, 115.0, 63.0, 31.0, 83.0, 65.0, 110.0, 55.0, 300.0, 120.0, 170.0, 69.0, 130.0, 150.0, 40.0, 75.0, 93.0, 120.0, 125.0, 106.0, 38.0, 105.0, 121.0, 199.0, 200.0, 85.0, 71.0, 103.0, 299.0, 109.0, 107.0, 43.0, 180.0, 95.0, 150.0, 98.0, 102.0, 22.0, 101.0, 90.0, 150.0, 126.0, 145.0, 55.0, 24.0, 25.0, 82.0, 125.0, 34.0, 70.0, 45.0, 182.0, 55.0, 66.0, 47.0, 55.0, 56.0, 40.0, 54.0, 182.0, 48.0, 120.0, 46.0, 85.0, 165.0, 93.0, 160.0, 99.0, 43.0, 75.0, 40.0, 87.0, 299.0, 90.0, 40.0, 39.0, 38.0, 39.0, 50.0, 185.0, 175.0, 175.0, 160.0, 160.0, 50.0, 150.0, 150.0, 150.0, 48.0, 55.0, 58.0, 43.0, 206.0, 285.0, 206.0, 48.0, 59.0, 48.0, 38.0, 150.0, 38.0, 50.0, 235.0, 130.0, 95.0, 296.0, 160.0, 74.0, 62.0, 39.0, 90.0, 96.0, 40.0, 190.0, 40.0, 72.0, 150.0, 49.0, 61.0, 200.0, 210.0, 80.0, 39.0, 125.0, 39.0, 220.0, 154.0, 139.0, 185.0, 150.0, 180.0, 130.0, 96.0, 100.0, 115.0, 97.0, 120.0, 45.0, 69.0, 110.0, 95.0, 161.0, 30.0, 130.0, 59.0, 78.0, 121.0, 46.0, 46.0, 47.0, 69.0, 90.0, 145.0, 45.0, 46.0, 75.0, 43.0, 42.0, 67.0, 45.0, 44.0, 68.0, 150.0, 47.0, 45.0, 99.0, 75.0, 57.0, 120.0, 38.0, 44.0, 49.0, 62.0, 160.0, 52.0, 220.0, 70.0, 43.0, 70.0, 70.0, 38.0, 73.0, 73.0, 52.0, 45.0, 52.0, 52.0, 50.0, 52.0, 66.0, 52.0, 52.0, 52.0, 54.0, 52.0, 52.0, 109.0, 52.0, 66.0, 50.0, 54.0, 122.0, 135.0, 90.0, 60.0, 48.0, 52.0, 48.0, 65.0, 45.0, 99.0, 52.0, 49.0, 52.0, 115.0, 52.0, 52.0, 199.0, 66.0, 52.0, 52.0, 45.0, 47.0, 45.0, 47.0, 46.0, 43.0, 69.0, 44.0, 63.0, 177.0, 69.0, 70.0, 45.0, 60.0, 50.0, 60.0, 85.0, 100.0, 65.0, 110.0, 50.0, 84.0, 71.0, 45.0, 48.0, 44.0, 80.0, 89.0, 95.0, 75.0, 70.0, 118.0, 80.0, 75.0, 109.0, 25.0, 80.0, 300.0, 264.0, 100.0, 50.0, 161.0, 115.0, 70.0, 250.0, 198.0, 35.0, 140.0, 120.0, 89.0, 50.0, 34.0, 23.0, 26.0, 38.0, 39.0, 145.0, 70.0, 200.0, 110.0, 100.0, 65.0, 139.0, 250.0, 94.0, 186.0, 180.0, 126.0, 70.0, 56.0, 67.0, 41.0, 50.0, 80.0, 150.0, 125.0, 65.0, 65.0, 65.0, 144.0, 137.0, 197.0, 137.0, 175.0, 50.0, 88.0, 179.0, 89.0, 170.0, 60.0, 27.0, 32.0, 150.0, 56.0, 150.0, 150.0, 199.0, 160.0, 50.0, 150.0, 104.0, 100.0, 54.0, 23.0, 23.0, 23.0, 99.0, 43.0, 96.0, 100.0, 104.0, 24.0, 126.0, 110.0, 102.0, 175.0, 72.0, 300.0, 23.0, 45.0, 90.0, 128.0, 23.0, 70.0, 226.0, 190.0, 90.0, 100.0, 45.0, 84.0, 69.0, 70.0, 255.0, 59.0, 170.0, 130.0, 55.0, 65.0, 40.0, 75.0, 190.0, 53.0, 49.0, 45.0, 75.0, 45.0, 45.0, 125.0, 100.0, 40.0, 100.0, 150.0, 50.0, 105.0, 115.0, 139.0, 60.0, 151.0, 52.0, 140.0, 150.0, 33.0, 38.0, 231.0, 151.0, 99.0, 51.0, 124.0, 38.0, 85.0, 46.0, 140.0, 62.0, 70.0, 130.0, 129.0, 75.0, 180.0, 85.0, 27.0, 62.0, 144.0, 49.0, 155.0, 80.0, 99.0, 175.0, 45.0, 34.0, 60.0, 29.0, 69.0, 50.0, 51.0, 123.0, 296.0, 160.0, 60.0, 90.0, 55.0, 121.0, 50.0, 150.0, 200.0, 71.0, 40.0, 50.0, 66.0, 45.0, 170.0, 115.0, 68.0, 52.0, 52.0, 40.0, 35.0, 24.0, 30.0, 23.0, 58.0, 75.0, 300.0, 89.0, 60.0, 25.0, 25.0, 180.0, 44.0, 42.0, 51.0, 160.0, 99.0, 75.0, 99.0, 70.0, 52.0, 40.0, 115.0, 57.0, 22.0, 75.0, 25.0, 135.0, 52.0, 57.0, 60.0, 75.0, 243.0, 243.0, 155.0, 100.0, 145.0, 90.0, 300.0, 259.0, 43.0, 135.0, 156.0, 160.0, 160.0, 24.0, 24.0, 22.0, 80.0, 139.0, 76.0, 100.0, 42.0, 76.0, 150.0, 160.0, 199.0, 65.0, 98.0, 50.0, 44.0, 144.0, 50.0, 39.0, 80.0, 99.0, 53.0, 295.0, 152.0, 25.0, 51.0, 185.0, 248.0, 95.0, 38.0, 90.0, 46.0, 125.0, 49.0, 165.0, 46.0, 44.0, 38.0, 49.0, 70.0, 35.0, 85.0, 50.0, 168.0, 146.0, 80.0, 69.0, 41.0, 215.0, 50.0, 90.0, 100.0, 50.0, 135.0, 65.0, 95.0, 136.0, 50.0, 175.0, 150.0, 116.0, 75.0, 63.0, 200.0, 238.0, 140.0, 150.0, 85.0, 59.0, 115.0, 56.0, 105.0, 61.0, 140.0, 99.0, 93.0, 108.0, 84.0, 70.0, 268.0, 185.0, 200.0, 24.0, 76.0, 46.0, 49.0, 200.0, 145.0, 187.0, 130.0, 53.0, 80.0, 125.0, 281.0, 128.0, 175.0, 33.0, 57.0, 211.0, 84.0, 75.0, 102.0, 199.0, 97.0, 241.0, 99.0, 50.0, 44.0, 82.0, 90.0, 149.0, 99.0, 113.0, 58.0, 90.0, 65.0, 150.0, 170.0, 160.0, 55.0, 85.0, 120.0, 300.0, 285.0, 250.0, 133.0, 50.0, 245.0, 90.0, 55.0, 189.0, 150.0, 239.0, 99.0, 88.0, 70.0, 60.0, 250.0, 280.0, 64.0, 63.0, 63.0, 124.0, 275.0, 38.0, 175.0, 40.0, 61.0, 168.0, 186.0, 166.0, 161.0, 190.0, 61.0, 196.0, 44.0, 145.0, 122.0, 80.0, 300.0, 100.0, 90.0, 80.0, 170.0, 120.0, 80.0, 101.0, 65.0, 65.0, 55.0, 121.0, 63.0, 70.0, 149.0, 45.0, 35.0, 75.0, 50.0, 120.0, 95.0, 35.0, 40.0, 103.0, 55.0, 32.0, 187.0, 85.0, 46.0, 225.0, 140.0, 61.0, 49.0, 49.0, 65.0, 186.0, 52.0, 222.0, 200.0, 170.0, 65.0, 204.0, 250.0, 255.0, 170.0, 100.0, 45.0, 60.0, 56.0, 50.0, 150.0, 183.0, 225.0, 80.0, 153.0, 171.0, 60.0, 198.0, 62.0, 159.0, 51.0, 61.0, 150.0, 50.0, 100.0, 75.0, 94.0, 53.0, 54.0, 275.0, 241.0, 89.0, 45.0, 50.0, 29.0, 44.0, 41.0, 80.0, 266.0, 80.0, 123.0, 110.0, 292.0, 80.0, 50.0, 70.0, 50.0, 155.0, 100.0, 35.0, 250.0, 47.0, 47.0, 91.0, 40.0, 250.0, 119.0, 38.0, 59.0, 100.0, 38.0, 199.0, 49.0, 67.0, 53.0, 78.0, 120.0, 67.0, 110.0, 50.0, 50.0, 50.0, 175.0, 179.0, 59.0, 25.0, 26.0, 100.0, 99.0, 38.0, 38.0, 38.0, 180.0, 43.0, 60.0, 71.0, 26.0, 26.0, 42.0, 42.0, 41.0, 49.0, 50.0, 40.0, 50.0, 50.0, 59.0, 63.0, 130.0, 273.0, 160.0, 275.0, 38.0, 200.0, 41.0, 25.0, 200.0, 180.0, 41.0, 185.0, 80.0, 120.0, 150.0, 250.0, 199.0, 158.0, 120.0, 95.0, 109.0, 38.0, 45.0, 200.0, 134.0, 35.0, 150.0, 26.0, 55.0, 53.0, 65.0, 79.0, 169.0, 50.0, 43.0, 195.0, 50.0, 68.0, 200.0, 75.0, 200.0, 51.0, 37.0, 96.0, 47.0, 250.0, 49.0, 25.0, 81.0, 175.0, 39.0, 70.0, 56.0, 114.0, 75.0, 35.0, 46.0, 89.0, 45.0, 70.0, 65.0, 51.0, 177.0, 42.0, 135.0, 60.0, 38.0, 55.0, 35.0, 150.0, 225.0, 70.0, 27.0, 39.0, 84.0, 40.0, 45.0, 115.0, 105.0, 56.0, 92.0, 160.0, 65.0, 75.0, 31.0, 79.0, 108.0, 158.0, 118.0, 83.0, 97.0, 104.0, 55.0, 196.0, 40.0, 71.0, 39.0, 132.0, 39.0, 65.0, 25.0, 84.0, 59.0, 114.0, 178.0, 160.0, 249.0, 130.0, 160.0, 160.0, 160.0, 117.0, 60.0, 115.0, 85.0, 75.0, 49.0, 169.0, 169.0, 70.0, 199.0, 144.0, 65.0, 83.0, 50.0, 74.0, 60.0, 46.0, 98.0, 114.0, 125.0, 80.0, 206.0, 100.0, 56.0, 45.0, 89.0, 99.0, 175.0, 69.0, 195.0, 100.0, 80.0, 53.0, 250.0, 35.0, 50.0, 115.0, 90.0, 139.0, 300.0, 42.0, 45.0, 80.0, 296.0, 35.0, 50.0, 200.0, 75.0, 100.0, 89.0, 225.0, 67.0, 101.0, 59.0, 52.0, 113.0, 95.0, 100.0, 33.0, 50.0, 52.0, 49.0, 89.0, 137.0, 125.0, 75.0, 75.0, 52.0, 69.0, 170.0, 50.0, 86.0, 199.0, 115.0, 299.0, 140.0, 100.0, 170.0, 50.0, 46.0, 69.0, 40.0, 90.0, 110.0, 65.0, 49.0, 44.0, 110.0, 90.0, 44.0, 146.0, 65.0, 31.0, 160.0, 60.0, 90.0, 150.0, 159.0, 65.0, 39.0, 40.0, 145.0, 92.0, 65.0, 61.0, 30.0, 50.0, 135.0, 169.0, 150.0, 35.0, 40.0, 186.0, 90.0, 160.0, 150.0, 158.0, 35.0, 110.0, 26.0, 48.0, 69.0, 39.0, 26.0, 29.0, 179.0, 34.0, 140.0, 140.0, 49.0, 75.0, 100.0, 70.0, 125.0, 150.0, 150.0, 35.0, 70.0, 70.0, 70.0, 70.0, 130.0, 70.0, 65.0, 199.0, 24.0, 225.0, 48.0, 36.0, 165.0, 129.0, 68.0, 107.0, 74.0, 47.0, 125.0, 95.0, 142.0, 51.0, 263.0, 96.0, 150.0, 94.0, 77.0, 149.0, 70.0, 70.0, 135.0, 40.0, 50.0, 81.0, 100.0, 79.0, 160.0, 50.0, 59.0, 38.0, 28.0, 50.0, 50.0, 46.0, 50.0, 123.0, 200.0, 299.0, 195.0, 178.0, 75.0, 79.0, 95.0, 98.0, 84.0, 176.0, 40.0, 95.0, 50.0, 92.0, 84.0, 100.0, 70.0, 65.0, 138.0, 238.0, 50.0, 220.0, 125.0, 27.0, 40.0, 45.0, 99.0, 180.0, 99.0, 111.0, 132.0, 40.0, 70.0, 100.0, 75.0, 80.0, 100.0, 85.0, 79.0, 52.0, 44.0, 45.0, 45.0, 45.0, 39.0, 37.0, 39.0, 100.0, 65.0, 26.0, 60.0, 35.0, 28.0, 78.0, 27.0, 28.0, 39.0, 39.0, 49.0, 41.0, 39.0, 38.0, 42.0, 43.0, 50.0, 78.0, 300.0, 46.0, 90.0, 250.0, 95.0, 67.0, 48.0, 51.0, 26.0, 42.0, 90.0, 26.0, 120.0, 39.0, 34.0, 35.0, 57.0, 57.0, 199.0, 270.0, 90.0, 47.0, 42.0, 150.0, 59.0, 79.0, 95.0, 85.0, 44.0, 121.0, 111.0, 38.0, 118.0, 250.0, 110.0, 208.0, 40.0, 150.0, 45.0, 60.0, 150.0, 80.0, 65.0, 124.0, 55.0, 99.0, 171.0, 34.0, 79.0, 54.0, 46.0, 90.0, 99.0, 38.0, 41.0, 75.0, 291.0, 151.0, 99.0, 32.0, 49.0, 50.0, 122.0, 84.0, 41.0, 49.0, 250.0, 48.0, 183.0, 89.0, 64.0, 51.0, 54.0, 222.0, 102.0, 222.0, 48.0, 35.0, 50.0, 125.0, 55.0, 110.0, 64.0, 190.0, 31.0, 60.0, 150.0, 89.0, 36.0, 31.0, 99.0, 144.0, 59.0, 40.0, 39.0, 179.0, 56.0, 35.0, 36.0, 100.0, 200.0, 180.0, 150.0, 60.0, 160.0, 47.0, 48.0, 33.0, 57.0, 42.0, 159.0, 42.0, 130.0, 33.0, 31.0, 40.0, 57.0, 94.0, 44.0, 46.0, 35.0, 232.0, 44.0, 120.0, 40.0, 200.0, 43.0, 199.0, 49.0, 49.0, 70.0, 41.0, 40.0, 72.0, 35.0, 145.0, 70.0, 140.0, 70.0, 130.0, 119.0, 225.0, 206.0, 95.0, 120.0, 120.0, 131.0, 85.0, 23.0, 99.0, 171.0, 24.0, 232.0, 150.0, 39.0, 120.0, 39.0, 95.0, 50.0, 50.0, 75.0, 55.0, 121.0, 220.0, 80.0, 130.0, 96.0, 49.0, 40.0, 159.0, 79.0, 52.0, 52.0, 55.0, 133.0, 50.0, 52.0, 42.0, 41.0, 90.0, 42.0, 42.0, 42.0, 135.0, 100.0, 289.0, 48.0, 55.0, 73.0, 145.0, 157.0, 61.0, 74.0, 33.0, 190.0, 150.0, 120.0, 46.0, 46.0, 59.0, 38.0, 71.0, 75.0, 95.0, 92.0, 236.0, 104.0, 90.0, 55.0, 55.0, 100.0, 42.0, 280.0, 64.0, 110.0, 92.0, 200.0, 95.0, 52.0, 130.0, 24.0, 130.0, 250.0, 63.0, 58.0, 125.0, 99.0, 200.0, 276.0, 45.0, 127.0, 46.0, 200.0, 42.0, 42.0, 47.0, 47.0, 124.0, 117.0, 30.0, 125.0, 64.0, 182.0, 70.0, 59.0, 65.0, 53.0, 40.0, 40.0, 199.0, 40.0, 35.0, 35.0, 25.0, 50.0, 25.0, 69.0, 34.0, 69.0, 239.0, 50.0, 52.0, 250.0, 271.0, 100.0, 145.0, 40.0, 49.0, 75.0, 70.0, 80.0, 76.0, 85.0, 79.0, 75.0, 48.0, 50.0, 53.0, 160.0, 162.0, 28.0, 72.0, 47.0, 64.0, 32.0, 118.0, 43.0, 50.0, 130.0, 39.0, 44.0, 68.0, 45.0, 54.0, 69.0, 44.0, 53.0, 41.0, 47.0, 188.0, 264.0, 188.0, 35.0, 48.0, 125.0, 86.0, 44.0, 51.0, 46.0, 51.0, 58.0, 70.0, 150.0, 51.0, 127.0, 48.0, 28.0, 47.0, 245.0, 41.0, 50.0, 100.0, 53.0, 43.0, 120.0, 46.0, 46.0, 64.0, 50.0, 70.0, 81.0, 60.0, 175.0, 100.0, 60.0, 99.0, 160.0, 185.0, 45.0, 43.0, 45.0, 46.0, 54.0, 44.0, 41.0, 38.0, 40.0, 46.0, 53.0, 57.0, 55.0, 57.0, 58.0, 50.0, 50.0, 54.0, 56.0, 47.0, 58.0, 158.0, 40.0, 300.0, 49.0, 46.0, 46.0, 46.0, 48.0, 50.0, 54.0, 200.0, 28.0, 53.0, 40.0, 46.0, 46.0, 46.0, 0.0, 140.0, 49.0, 50.0, 50.0, 100.0, 46.0, 51.0, 74.0, 56.0, 240.0, 87.0, 51.0, 120.0, 33.0, 80.0, 64.0, 69.0, 150.0, 80.0, 74.0, 95.0, 90.0, 48.0, 65.0, 100.0, 240.0, 129.0, 150.0, 148.0, 280.0, 60.0, 200.0, 168.0, 51.0, 48.0, 50.0, 112.0, 144.0, 39.0, 48.0, 46.0, 50.0, 46.0, 38.0, 55.0, 45.0, 46.0, 50.0, 65.0, 97.0, 46.0, 135.0, 58.0, 45.0, 67.0, 45.0, 48.0, 40.0, 40.0, 44.0, 39.0, 111.0, 39.0, 40.0, 38.0, 125.0, 56.0, 104.0, 104.0, 75.0, 131.0, 70.0, 49.0, 52.0, 70.0, 55.0, 170.0, 87.0, 46.0, 69.0, 55.0, 46.0, 49.0, 41.0, 32.0, 65.0, 120.0, 60.0, 114.0, 250.0, 225.0, 80.0, 55.0, 218.0, 150.0, 200.0, 68.0, 160.0, 150.0, 160.0, 160.0, 115.0, 95.0, 127.0, 39.0, 111.0, 160.0, 232.0, 55.0, 100.0, 82.0, 139.0, 70.0, 100.0, 28.0, 250.0, 49.0, 161.0, 200.0, 142.0, 50.0, 100.0, 47.0, 46.0, 41.0, 80.0, 62.0, 135.0, 29.0, 129.0, 166.0, 107.0, 32.0, 300.0, 80.0, 54.0, 60.0, 59.0, 298.0, 120.0, 38.0, 70.0, 31.0, 95.0, 97.0, 69.0, 56.0, 51.0, 160.0, 90.0, 105.0, 40.0, 68.0, 50.0, 80.0, 90.0, 26.0, 95.0, 47.0, 166.0, 150.0, 169.0, 150.0, 60.0, 249.0, 167.0, 36.0, 135.0, 44.0, 59.0, 85.0, 77.0, 115.0, 100.0, 50.0, 70.0, 60.0, 62.0, 111.0, 152.0, 86.0, 100.0, 70.0, 150.0, 42.0, 127.0, 41.0, 164.0, 38.0, 55.0, 75.0, 84.0, 95.0, 36.0, 120.0, 50.0, 62.0, 55.0, 150.0, 55.0, 55.0, 55.0, 129.0, 55.0, 271.0, 55.0, 62.0, 31.0, 215.0, 150.0, 146.0, 90.0, 96.0, 25.0, 25.0, 150.0, 96.0, 225.0, 80.0, 32.0, 66.0, 166.0, 168.0, 79.0, 300.0, 64.0, 74.0, 40.0, 142.0, 185.0, 200.0, 100.0, 76.0, 42.0, 72.0, 45.0, 100.0, 60.0, 151.0, 72.0, 164.0, 39.0, 36.0, 179.0, 80.0, 37.0, 89.0, 93.0, 250.0, 155.0, 96.0, 75.0, 97.0, 127.0, 60.0, 235.0, 200.0, 50.0, 56.0, 50.0, 39.0, 115.0, 106.0, 135.0, 38.0, 55.0, 45.0, 208.0, 56.0, 95.0, 50.0, 51.0, 55.0, 61.0, 45.0, 215.0, 93.0, 215.0, 36.0, 50.0, 115.0, 60.0, 120.0, 120.0, 281.0, 187.0, 290.0, 256.0, 260.0, 260.0, 281.0, 192.0, 294.0, 201.0, 165.0, 125.0, 200.0, 95.0, 120.0, 29.0, 31.0, 26.0, 77.0, 35.0, 80.0, 112.0, 155.0, 50.0, 40.0, 160.0, 75.0, 200.0, 96.0, 75.0, 128.0, 105.0, 70.0, 130.0, 66.0, 55.0, 205.0, 150.0, 300.0, 69.0, 98.0, 43.0, 60.0, 144.0, 112.0, 100.0, 51.0, 58.0, 46.0, 96.0, 50.0, 35.0, 24.0, 135.0, 80.0, 78.0, 55.0, 80.0, 46.0, 150.0, 145.0, 229.0, 115.0, 125.0, 120.0, 72.0, 40.0, 46.0, 50.0, 189.0, 183.0, 162.0, 63.0, 70.0, 22.0, 116.0, 42.0, 120.0, 164.0, 44.0, 39.0, 58.0, 173.0, 50.0, 115.0, 41.0, 39.0, 145.0, 50.0, 50.0, 100.0, 45.0, 200.0, 91.0, 250.0, 100.0, 200.0, 185.0, 65.0, 65.0, 33.0, 120.0, 75.0, 30.0, 149.0, 56.0, 126.0, 30.0, 50.0, 200.0, 92.0, 120.0, 54.0], \"xaxis\": \"x\", \"yaxis\": \"y\"}],\n",
              "                        {\"barmode\": \"relative\", \"legend\": {\"tracegroupgap\": 0}, \"margin\": {\"t\": 60}, \"template\": {\"data\": {\"bar\": [{\"error_x\": {\"color\": \"#2a3f5f\"}, \"error_y\": {\"color\": \"#2a3f5f\"}, \"marker\": {\"line\": {\"color\": \"#E5ECF6\", \"width\": 0.5}}, \"type\": \"bar\"}], \"barpolar\": [{\"marker\": {\"line\": {\"color\": \"#E5ECF6\", \"width\": 0.5}}, \"type\": \"barpolar\"}], \"carpet\": [{\"aaxis\": {\"endlinecolor\": \"#2a3f5f\", \"gridcolor\": \"white\", \"linecolor\": \"white\", \"minorgridcolor\": \"white\", \"startlinecolor\": \"#2a3f5f\"}, \"baxis\": {\"endlinecolor\": \"#2a3f5f\", \"gridcolor\": \"white\", \"linecolor\": \"white\", \"minorgridcolor\": \"white\", \"startlinecolor\": \"#2a3f5f\"}, \"type\": \"carpet\"}], \"choropleth\": [{\"colorbar\": {\"outlinewidth\": 0, \"ticks\": \"\"}, \"type\": \"choropleth\"}], \"contour\": [{\"colorbar\": {\"outlinewidth\": 0, \"ticks\": \"\"}, \"colorscale\": [[0.0, \"#0d0887\"], [0.1111111111111111, \"#46039f\"], [0.2222222222222222, \"#7201a8\"], [0.3333333333333333, \"#9c179e\"], [0.4444444444444444, \"#bd3786\"], [0.5555555555555556, \"#d8576b\"], [0.6666666666666666, \"#ed7953\"], [0.7777777777777778, \"#fb9f3a\"], [0.8888888888888888, \"#fdca26\"], [1.0, \"#f0f921\"]], \"type\": \"contour\"}], \"contourcarpet\": [{\"colorbar\": {\"outlinewidth\": 0, \"ticks\": \"\"}, \"type\": \"contourcarpet\"}], \"heatmap\": [{\"colorbar\": {\"outlinewidth\": 0, \"ticks\": \"\"}, \"colorscale\": [[0.0, \"#0d0887\"], [0.1111111111111111, \"#46039f\"], [0.2222222222222222, \"#7201a8\"], [0.3333333333333333, \"#9c179e\"], [0.4444444444444444, \"#bd3786\"], [0.5555555555555556, \"#d8576b\"], [0.6666666666666666, \"#ed7953\"], [0.7777777777777778, \"#fb9f3a\"], [0.8888888888888888, \"#fdca26\"], [1.0, \"#f0f921\"]], \"type\": \"heatmap\"}], \"heatmapgl\": [{\"colorbar\": {\"outlinewidth\": 0, \"ticks\": \"\"}, \"colorscale\": [[0.0, \"#0d0887\"], [0.1111111111111111, \"#46039f\"], [0.2222222222222222, \"#7201a8\"], [0.3333333333333333, \"#9c179e\"], [0.4444444444444444, \"#bd3786\"], [0.5555555555555556, \"#d8576b\"], [0.6666666666666666, \"#ed7953\"], [0.7777777777777778, \"#fb9f3a\"], [0.8888888888888888, \"#fdca26\"], [1.0, \"#f0f921\"]], \"type\": \"heatmapgl\"}], \"histogram\": [{\"marker\": {\"colorbar\": {\"outlinewidth\": 0, \"ticks\": \"\"}}, \"type\": \"histogram\"}], \"histogram2d\": [{\"colorbar\": {\"outlinewidth\": 0, \"ticks\": \"\"}, \"colorscale\": [[0.0, \"#0d0887\"], [0.1111111111111111, \"#46039f\"], [0.2222222222222222, \"#7201a8\"], [0.3333333333333333, \"#9c179e\"], [0.4444444444444444, \"#bd3786\"], [0.5555555555555556, \"#d8576b\"], [0.6666666666666666, \"#ed7953\"], [0.7777777777777778, \"#fb9f3a\"], [0.8888888888888888, \"#fdca26\"], [1.0, \"#f0f921\"]], \"type\": \"histogram2d\"}], \"histogram2dcontour\": [{\"colorbar\": {\"outlinewidth\": 0, \"ticks\": \"\"}, \"colorscale\": [[0.0, \"#0d0887\"], [0.1111111111111111, \"#46039f\"], [0.2222222222222222, \"#7201a8\"], [0.3333333333333333, \"#9c179e\"], [0.4444444444444444, \"#bd3786\"], [0.5555555555555556, \"#d8576b\"], [0.6666666666666666, \"#ed7953\"], [0.7777777777777778, \"#fb9f3a\"], [0.8888888888888888, \"#fdca26\"], [1.0, \"#f0f921\"]], \"type\": \"histogram2dcontour\"}], \"mesh3d\": [{\"colorbar\": {\"outlinewidth\": 0, \"ticks\": \"\"}, \"type\": \"mesh3d\"}], \"parcoords\": [{\"line\": {\"colorbar\": {\"outlinewidth\": 0, \"ticks\": \"\"}}, \"type\": \"parcoords\"}], \"pie\": [{\"automargin\": true, \"type\": \"pie\"}], \"scatter\": [{\"marker\": {\"colorbar\": {\"outlinewidth\": 0, \"ticks\": \"\"}}, \"type\": \"scatter\"}], \"scatter3d\": [{\"line\": {\"colorbar\": {\"outlinewidth\": 0, \"ticks\": \"\"}}, \"marker\": {\"colorbar\": {\"outlinewidth\": 0, \"ticks\": \"\"}}, \"type\": \"scatter3d\"}], \"scattercarpet\": [{\"marker\": {\"colorbar\": {\"outlinewidth\": 0, \"ticks\": \"\"}}, \"type\": \"scattercarpet\"}], \"scattergeo\": [{\"marker\": {\"colorbar\": {\"outlinewidth\": 0, \"ticks\": \"\"}}, \"type\": \"scattergeo\"}], \"scattergl\": [{\"marker\": {\"colorbar\": {\"outlinewidth\": 0, \"ticks\": \"\"}}, \"type\": \"scattergl\"}], \"scattermapbox\": [{\"marker\": {\"colorbar\": {\"outlinewidth\": 0, \"ticks\": \"\"}}, \"type\": \"scattermapbox\"}], \"scatterpolar\": [{\"marker\": {\"colorbar\": {\"outlinewidth\": 0, \"ticks\": \"\"}}, \"type\": \"scatterpolar\"}], \"scatterpolargl\": [{\"marker\": {\"colorbar\": {\"outlinewidth\": 0, \"ticks\": \"\"}}, \"type\": \"scatterpolargl\"}], \"scatterternary\": [{\"marker\": {\"colorbar\": {\"outlinewidth\": 0, \"ticks\": \"\"}}, \"type\": \"scatterternary\"}], \"surface\": [{\"colorbar\": {\"outlinewidth\": 0, \"ticks\": \"\"}, \"colorscale\": [[0.0, \"#0d0887\"], [0.1111111111111111, \"#46039f\"], [0.2222222222222222, \"#7201a8\"], [0.3333333333333333, \"#9c179e\"], [0.4444444444444444, \"#bd3786\"], [0.5555555555555556, \"#d8576b\"], [0.6666666666666666, \"#ed7953\"], [0.7777777777777778, \"#fb9f3a\"], [0.8888888888888888, \"#fdca26\"], [1.0, \"#f0f921\"]], \"type\": \"surface\"}], \"table\": [{\"cells\": {\"fill\": {\"color\": \"#EBF0F8\"}, \"line\": {\"color\": \"white\"}}, \"header\": {\"fill\": {\"color\": \"#C8D4E3\"}, \"line\": {\"color\": \"white\"}}, \"type\": \"table\"}]}, \"layout\": {\"annotationdefaults\": {\"arrowcolor\": \"#2a3f5f\", \"arrowhead\": 0, \"arrowwidth\": 1}, \"coloraxis\": {\"colorbar\": {\"outlinewidth\": 0, \"ticks\": \"\"}}, \"colorscale\": {\"diverging\": [[0, \"#8e0152\"], [0.1, \"#c51b7d\"], [0.2, \"#de77ae\"], [0.3, \"#f1b6da\"], [0.4, \"#fde0ef\"], [0.5, \"#f7f7f7\"], [0.6, \"#e6f5d0\"], [0.7, \"#b8e186\"], [0.8, \"#7fbc41\"], [0.9, \"#4d9221\"], [1, \"#276419\"]], \"sequential\": [[0.0, \"#0d0887\"], [0.1111111111111111, \"#46039f\"], [0.2222222222222222, \"#7201a8\"], [0.3333333333333333, \"#9c179e\"], [0.4444444444444444, \"#bd3786\"], [0.5555555555555556, \"#d8576b\"], [0.6666666666666666, \"#ed7953\"], [0.7777777777777778, \"#fb9f3a\"], [0.8888888888888888, \"#fdca26\"], [1.0, \"#f0f921\"]], \"sequentialminus\": [[0.0, \"#0d0887\"], [0.1111111111111111, \"#46039f\"], [0.2222222222222222, \"#7201a8\"], [0.3333333333333333, \"#9c179e\"], [0.4444444444444444, \"#bd3786\"], [0.5555555555555556, \"#d8576b\"], [0.6666666666666666, \"#ed7953\"], [0.7777777777777778, \"#fb9f3a\"], [0.8888888888888888, \"#fdca26\"], [1.0, \"#f0f921\"]]}, \"colorway\": [\"#636efa\", \"#EF553B\", \"#00cc96\", \"#ab63fa\", \"#FFA15A\", \"#19d3f3\", \"#FF6692\", \"#B6E880\", \"#FF97FF\", \"#FECB52\"], \"font\": {\"color\": \"#2a3f5f\"}, \"geo\": {\"bgcolor\": \"white\", \"lakecolor\": \"white\", \"landcolor\": \"#E5ECF6\", \"showlakes\": true, \"showland\": true, \"subunitcolor\": \"white\"}, \"hoverlabel\": {\"align\": \"left\"}, \"hovermode\": \"closest\", \"mapbox\": {\"style\": \"light\"}, \"paper_bgcolor\": \"white\", \"plot_bgcolor\": \"#E5ECF6\", \"polar\": {\"angularaxis\": {\"gridcolor\": \"white\", \"linecolor\": \"white\", \"ticks\": \"\"}, \"bgcolor\": \"#E5ECF6\", \"radialaxis\": {\"gridcolor\": \"white\", \"linecolor\": \"white\", \"ticks\": \"\"}}, \"scene\": {\"xaxis\": {\"backgroundcolor\": \"#E5ECF6\", \"gridcolor\": \"white\", \"gridwidth\": 2, \"linecolor\": \"white\", \"showbackground\": true, \"ticks\": \"\", \"zerolinecolor\": \"white\"}, \"yaxis\": {\"backgroundcolor\": \"#E5ECF6\", \"gridcolor\": \"white\", \"gridwidth\": 2, \"linecolor\": \"white\", \"showbackground\": true, \"ticks\": \"\", \"zerolinecolor\": \"white\"}, \"zaxis\": {\"backgroundcolor\": \"#E5ECF6\", \"gridcolor\": \"white\", \"gridwidth\": 2, \"linecolor\": \"white\", \"showbackground\": true, \"ticks\": \"\", \"zerolinecolor\": \"white\"}}, \"shapedefaults\": {\"line\": {\"color\": \"#2a3f5f\"}}, \"ternary\": {\"aaxis\": {\"gridcolor\": \"white\", \"linecolor\": \"white\", \"ticks\": \"\"}, \"baxis\": {\"gridcolor\": \"white\", \"linecolor\": \"white\", \"ticks\": \"\"}, \"bgcolor\": \"#E5ECF6\", \"caxis\": {\"gridcolor\": \"white\", \"linecolor\": \"white\", \"ticks\": \"\"}}, \"title\": {\"x\": 0.05}, \"xaxis\": {\"automargin\": true, \"gridcolor\": \"white\", \"linecolor\": \"white\", \"ticks\": \"\", \"title\": {\"standoff\": 15}, \"zerolinecolor\": \"white\", \"zerolinewidth\": 2}, \"yaxis\": {\"automargin\": true, \"gridcolor\": \"white\", \"linecolor\": \"white\", \"ticks\": \"\", \"title\": {\"standoff\": 15}, \"zerolinecolor\": \"white\", \"zerolinewidth\": 2}}}, \"xaxis\": {\"anchor\": \"y\", \"domain\": [0.0, 1.0], \"title\": {\"text\": \"price\"}}, \"yaxis\": {\"anchor\": \"x\", \"domain\": [0.0, 1.0], \"title\": {\"text\": \"count\"}}},\n",
              "                        {\"responsive\": true}\n",
              "                    ).then(function(){\n",
              "                            \n",
              "var gd = document.getElementById('b2d60118-591c-4f64-b4e4-5577c1efdb5d');\n",
              "var x = new MutationObserver(function (mutations, observer) {{\n",
              "        var display = window.getComputedStyle(gd).display;\n",
              "        if (!display || display === 'none') {{\n",
              "            console.log([gd, 'removed!']);\n",
              "            Plotly.purge(gd);\n",
              "            observer.disconnect();\n",
              "        }}\n",
              "}});\n",
              "\n",
              "// Listen for the removal of the full notebook cells\n",
              "var notebookContainer = gd.closest('#notebook-container');\n",
              "if (notebookContainer) {{\n",
              "    x.observe(notebookContainer, {childList: true});\n",
              "}}\n",
              "\n",
              "// Listen for the clearing of the current output cell\n",
              "var outputEl = gd.closest('.output');\n",
              "if (outputEl) {{\n",
              "    x.observe(outputEl, {childList: true});\n",
              "}}\n",
              "\n",
              "                        })\n",
              "                };\n",
              "                \n",
              "            </script>\n",
              "        </div>\n",
              "</body>\n",
              "</html>"
            ]
          },
          "metadata": {
            "tags": []
          }
        }
      ]
    },
    {
      "cell_type": "code",
      "metadata": {
        "id": "7jJxV-RFbyTr",
        "colab": {
          "base_uri": "https://localhost:8080/",
          "height": 542
        },
        "outputId": "2ad5619a-8c92-4026-af74-7bb74f81a85e"
      },
      "source": [
        "fig = px.histogram(nyc_21_without_ouliers, x = 'price', nbins=30)\n",
        "fig.show()"
      ],
      "execution_count": null,
      "outputs": [
        {
          "output_type": "display_data",
          "data": {
            "text/html": [
              "<html>\n",
              "<head><meta charset=\"utf-8\" /></head>\n",
              "<body>\n",
              "    <div>\n",
              "            <script src=\"https://cdnjs.cloudflare.com/ajax/libs/mathjax/2.7.5/MathJax.js?config=TeX-AMS-MML_SVG\"></script><script type=\"text/javascript\">if (window.MathJax) {MathJax.Hub.Config({SVG: {font: \"STIX-Web\"}});}</script>\n",
              "                <script type=\"text/javascript\">window.PlotlyConfig = {MathJaxConfig: 'local'};</script>\n",
              "        <script src=\"https://cdn.plot.ly/plotly-latest.min.js\"></script>    \n",
              "            <div id=\"7d489731-9f6c-46bd-a89a-da6582711e97\" class=\"plotly-graph-div\" style=\"height:525px; width:100%;\"></div>\n",
              "            <script type=\"text/javascript\">\n",
              "                \n",
              "                    window.PLOTLYENV=window.PLOTLYENV || {};\n",
              "                    \n",
              "                if (document.getElementById(\"7d489731-9f6c-46bd-a89a-da6582711e97\")) {\n",
              "                    Plotly.newPlot(\n",
              "                        '7d489731-9f6c-46bd-a89a-da6582711e97',\n",
              "                        [{\"alignmentgroup\": \"True\", \"bingroup\": \"x\", \"hoverlabel\": {\"namelength\": 0}, \"hovertemplate\": \"price=%{x}<br>count=%{y}\", \"legendgroup\": \"\", \"marker\": {\"color\": \"#636efa\"}, \"name\": \"\", \"nbinsx\": 30, \"offsetgroup\": \"\", \"orientation\": \"v\", \"showlegend\": false, \"type\": \"histogram\", \"x\": [150.0, 76.0, 60.0, 175.0, 79.0, 75.0, 92.0, 109.0, 65.0, 62.0, 196.0, 96.0, 299.0, 120.0, 150.0, 175.0, 55.0, 70.0, 92.0, 150.0, 40.0, 250.0, 130.0, 99.0, 75.0, 80.0, 81.0, 198.0, 99.0, 200.0, 170.0, 80.0, 206.0, 140.0, 55.0, 62.0, 74.0, 250.0, 250.0, 190.0, 95.0, 176.0, 70.0, 55.0, 150.0, 145.0, 95.0, 110.0, 110.0, 105.0, 85.0, 85.0, 50.0, 80.0, 85.0, 99.0, 85.0, 160.0, 200.0, 83.0, 100.0, 200.0, 59.0, 90.0, 200.0, 225.0, 170.0, 100.0, 75.0, 150.0, 70.0, 89.0, 155.0, 99.0, 135.0, 80.0, 85.0, 125.0, 139.0, 160.0, 115.0, 195.0, 125.0, 150.0, 74.0, 121.0, 59.0, 125.0, 50.0, 139.0, 100.0, 73.0, 135.0, 125.0, 70.0, 250.0, 110.0, 146.0, 98.0, 100.0, 65.0, 60.0, 75.0, 100.0, 81.0, 192.0, 119.0, 130.0, 65.0, 130.0, 107.0, 167.0, 200.0, 60.0, 161.0, 45.0, 65.0, 100.0, 85.0, 78.0, 119.0, 159.0, 140.0, 236.0, 275.0, 150.0, 42.0, 139.0, 150.0, 186.0, 225.0, 250.0, 250.0, 77.0, 110.0, 125.0, 84.0, 211.0, 135.0, 110.0, 130.0, 30.0, 30.0, 170.0, 30.0, 175.0, 205.0, 285.0, 30.0, 89.0, 92.0, 135.0, 64.0, 33.0, 200.0, 100.0, 75.0, 60.0, 40.0, 75.0, 149.0, 85.0, 95.0, 75.0, 176.0, 190.0, 243.0, 206.0, 135.0, 150.0, 175.0, 110.0, 99.0, 70.0, 122.0, 55.0, 75.0, 199.0, 285.0, 80.0, 150.0, 50.0, 135.0, 200.0, 229.0, 90.0, 110.0, 110.0, 119.0, 80.0, 299.0, 119.0, 149.0, 75.0, 150.0, 100.0, 199.0, 70.0, 69.0, 249.0, 100.0, 200.0, 119.0, 150.0, 75.0, 150.0, 229.0, 179.0, 150.0, 120.0, 76.0, 100.0, 129.0, 125.0, 140.0, 200.0, 171.0, 130.0, 123.0, 135.0, 49.0, 130.0, 199.0, 120.0, 212.0, 177.0, 114.0, 80.0, 69.0, 135.0, 175.0, 120.0, 99.0, 165.0, 90.0, 95.0, 90.0, 55.0, 235.0, 65.0, 60.0, 74.0, 129.0, 95.0, 250.0, 165.0, 89.0, 99.0, 85.0, 260.0, 143.0, 99.0, 68.0, 250.0, 50.0, 170.0, 112.0, 250.0, 73.0, 249.0, 225.0, 100.0, 100.0, 259.0, 67.0, 145.0, 175.0, 154.0, 250.0, 250.0, 120.0, 149.0, 87.0, 58.0, 175.0, 75.0, 250.0, 65.0, 165.0, 94.0, 87.0, 81.0, 150.0, 130.0, 125.0, 250.0, 55.0, 37.0, 85.0, 110.0, 79.0, 85.0, 200.0, 250.0, 78.0, 100.0, 143.0, 130.0, 205.0, 95.0, 165.0, 101.0, 250.0, 165.0, 106.0, 282.0, 172.0, 108.0, 175.0, 130.0, 23.0, 65.0, 105.0, 68.0, 142.0, 50.0, 90.0, 125.0, 190.0, 55.0, 190.0, 96.0, 145.0, 120.0, 157.0, 190.0, 95.0, 125.0, 185.0, 50.0, 185.0, 80.0, 100.0, 181.0, 76.0, 60.0, 175.0, 99.0, 60.0, 110.0, 75.0, 99.0, 107.0, 70.0, 127.0, 150.0, 80.0, 60.0, 130.0, 239.0, 75.0, 205.0, 110.0, 130.0, 130.0, 100.0, 130.0, 99.0, 88.0, 75.0, 199.0, 83.0, 85.0, 55.0, 185.0, 79.0, 60.0, 300.0, 110.0, 125.0, 99.0, 160.0, 275.0, 75.0, 295.0, 69.0, 57.0, 200.0, 279.0, 146.0, 50.0, 43.0, 90.0, 85.0, 139.0, 96.0, 65.0, 199.0, 71.0, 246.0, 125.0, 120.0, 120.0, 100.0, 250.0, 122.0, 125.0, 140.0, 55.0, 199.0, 199.0, 199.0, 175.0, 199.0, 199.0, 199.0, 199.0, 199.0, 249.0, 179.0, 110.0, 66.0, 140.0, 65.0, 131.0, 48.0, 195.0, 229.0, 95.0, 130.0, 145.0, 45.0, 95.0, 89.0, 93.0, 120.0, 200.0, 70.0, 66.0, 185.0, 219.0, 150.0, 48.0, 200.0, 87.0, 135.0, 170.0, 175.0, 55.0, 55.0, 60.0, 279.0, 150.0, 38.0, 119.0, 79.0, 32.0, 150.0, 40.0, 250.0, 125.0, 67.0, 161.0, 68.0, 135.0, 95.0, 105.0, 140.0, 230.0, 75.0, 75.0, 37.0, 45.0, 250.0, 60.0, 250.0, 200.0, 130.0, 125.0, 89.0, 175.0, 115.0, 68.0, 75.0, 171.0, 140.0, 140.0, 195.0, 109.0, 188.0, 249.0, 157.0, 45.0, 100.0, 130.0, 150.0, 199.0, 199.0, 150.0, 199.0, 199.0, 199.0, 199.0, 63.0, 250.0, 59.0, 55.0, 35.0, 55.0, 49.0, 120.0, 95.0, 45.0, 75.0, 250.0, 60.0, 150.0, 210.0, 135.0, 67.0, 61.0, 75.0, 85.0, 91.0, 149.0, 62.0, 104.0, 106.0, 110.0, 110.0, 90.0, 45.0, 232.0, 275.0, 89.0, 250.0, 225.0, 160.0, 109.0, 162.0, 292.0, 185.0, 76.0, 200.0, 60.0, 100.0, 200.0, 79.0, 90.0, 71.0, 150.0, 182.0, 70.0, 135.0, 150.0, 265.0, 83.0, 75.0, 119.0, 63.0, 113.0, 80.0, 134.0, 80.0, 80.0, 120.0, 115.0, 139.0, 90.0, 175.0, 66.0, 50.0, 97.0, 70.0, 129.0, 150.0, 106.0, 85.0, 250.0, 99.0, 75.0, 110.0, 25.0, 225.0, 75.0, 135.0, 126.0, 225.0, 275.0, 100.0, 130.0, 147.0, 300.0, 107.0, 213.0, 75.0, 145.0, 260.0, 275.0, 75.0, 160.0, 125.0, 122.0, 175.0, 65.0, 144.0, 90.0, 200.0, 228.0, 35.0, 150.0, 275.0, 250.0, 50.0, 130.0, 150.0, 151.0, 55.0, 83.0, 100.0, 55.0, 125.0, 179.0, 52.0, 101.0, 99.0, 99.0, 90.0, 80.0, 275.0, 50.0, 200.0, 97.0, 75.0, 280.0, 225.0, 59.0, 65.0, 79.0, 98.0, 250.0, 139.0, 161.0, 70.0, 110.0, 150.0, 100.0, 89.0, 170.0, 250.0, 65.0, 143.0, 199.0, 100.0, 249.0, 39.0, 100.0, 65.0, 225.0, 86.0, 145.0, 110.0, 124.0, 79.0, 43.0, 125.0, 150.0, 300.0, 99.0, 55.0, 136.0, 300.0, 105.0, 225.0, 185.0, 156.0, 295.0, 199.0, 250.0, 125.0, 75.0, 111.0, 249.0, 120.0, 169.0, 190.0, 60.0, 89.0, 79.0, 68.0, 100.0, 175.0, 135.0, 146.0, 215.0, 150.0, 175.0, 80.0, 85.0, 53.0, 140.0, 49.0, 160.0, 160.0, 249.0, 125.0, 288.0, 115.0, 250.0, 95.0, 70.0, 89.0, 90.0, 150.0, 160.0, 164.0, 200.0, 135.0, 180.0, 66.0, 90.0, 265.0, 80.0, 39.0, 207.0, 150.0, 77.0, 150.0, 60.0, 195.0, 196.0, 300.0, 111.0, 31.0, 95.0, 100.0, 184.0, 179.0, 63.0, 80.0, 99.0, 120.0, 110.0, 200.0, 76.0, 50.0, 199.0, 90.0, 52.0, 210.0, 79.0, 200.0, 99.0, 114.0, 195.0, 197.0, 160.0, 200.0, 40.0, 59.0, 85.0, 115.0, 207.0, 148.0, 133.0, 155.0, 125.0, 95.0, 72.0, 60.0, 95.0, 100.0, 99.0, 55.0, 90.0, 90.0, 125.0, 55.0, 145.0, 69.0, 120.0, 145.0, 115.0, 48.0, 72.0, 128.0, 250.0, 59.0, 100.0, 229.0, 200.0, 175.0, 75.0, 100.0, 125.0, 300.0, 71.0, 170.0, 85.0, 120.0, 95.0, 156.0, 160.0, 200.0, 33.0, 60.0, 180.0, 152.0, 107.0, 175.0, 75.0, 115.0, 99.0, 245.0, 125.0, 90.0, 90.0, 88.0, 200.0, 88.0, 150.0, 117.0, 179.0, 180.0, 105.0, 175.0, 96.0, 80.0, 160.0, 89.0, 48.0, 160.0, 45.0, 86.0, 115.0, 120.0, 110.0, 150.0, 150.0, 89.0, 200.0, 128.0, 71.0, 100.0, 83.0, 120.0, 222.0, 65.0, 285.0, 150.0, 200.0, 65.0, 135.0, 199.0, 119.0, 207.0, 99.0, 60.0, 77.0, 200.0, 144.0, 116.0, 70.0, 74.0, 80.0, 100.0, 118.0, 113.0, 295.0, 220.0, 75.0, 100.0, 159.0, 75.0, 200.0, 150.0, 50.0, 40.0, 72.0, 186.0, 75.0, 99.0, 71.0, 55.0, 137.0, 46.0, 44.0, 58.0, 104.0, 103.0, 250.0, 60.0, 85.0, 120.0, 179.0, 155.0, 120.0, 225.0, 98.0, 134.0, 60.0, 150.0, 120.0, 95.0, 88.0, 59.0, 220.0, 160.0, 130.0, 77.0, 80.0, 68.0, 195.0, 220.0, 68.0, 210.0, 85.0, 80.0, 80.0, 40.0, 155.0, 125.0, 120.0, 100.0, 295.0, 150.0, 88.0, 60.0, 204.0, 99.0, 75.0, 158.0, 129.0, 199.0, 200.0, 142.0, 155.0, 160.0, 129.0, 137.0, 55.0, 210.0, 100.0, 75.0, 175.0, 188.0, 113.0, 225.0, 125.0, 118.0, 85.0, 97.0, 179.0, 175.0, 160.0, 80.0, 110.0, 200.0, 89.0, 90.0, 80.0, 105.0, 39.0, 150.0, 55.0, 175.0, 50.0, 299.0, 106.0, 80.0, 103.0, 100.0, 75.0, 115.0, 175.0, 95.0, 70.0, 185.0, 30.0, 100.0, 165.0, 100.0, 75.0, 82.0, 85.0, 59.0, 179.0, 100.0, 115.0, 225.0, 100.0, 75.0, 217.0, 150.0, 119.0, 148.0, 67.0, 117.0, 65.0, 150.0, 135.0, 225.0, 48.0, 75.0, 215.0, 95.0, 255.0, 90.0, 80.0, 95.0, 225.0, 199.0, 220.0, 199.0, 225.0, 45.0, 225.0, 82.0, 60.0, 119.0, 135.0, 60.0, 171.0, 65.0, 85.0, 165.0, 120.0, 163.0, 158.0, 173.0, 275.0, 63.0, 48.0, 250.0, 94.0, 135.0, 85.0, 64.0, 139.0, 135.0, 250.0, 60.0, 180.0, 158.0, 55.0, 165.0, 160.0, 250.0, 89.0, 61.0, 135.0, 67.0, 109.0, 99.0, 290.0, 33.0, 57.0, 108.0, 42.0, 40.0, 90.0, 42.0, 65.0, 75.0, 225.0, 90.0, 170.0, 48.0, 70.0, 155.0, 85.0, 42.0, 27.0, 80.0, 70.0, 39.0, 85.0, 150.0, 85.0, 149.0, 250.0, 149.0, 81.0, 63.0, 200.0, 179.0, 85.0, 85.0, 69.0, 155.0, 150.0, 150.0, 115.0, 100.0, 60.0, 300.0, 59.0, 70.0, 100.0, 166.0, 74.0, 129.0, 80.0, 80.0, 250.0, 69.0, 190.0, 133.0, 289.0, 120.0, 149.0, 166.0, 115.0, 45.0, 95.0, 43.0, 101.0, 89.0, 53.0, 72.0, 119.0, 73.0, 41.0, 249.0, 240.0, 105.0, 125.0, 170.0, 65.0, 128.0, 59.0, 50.0, 100.0, 58.0, 65.0, 165.0, 200.0, 159.0, 115.0, 95.0, 80.0, 135.0, 200.0, 90.0, 78.0, 65.0, 150.0, 56.0, 78.0, 150.0, 124.0, 70.0, 115.0, 150.0, 143.0, 129.0, 78.0, 69.0, 100.0, 145.0, 229.0, 100.0, 275.0, 105.0, 179.0, 90.0, 156.0, 80.0, 295.0, 28.0, 50.0, 150.0, 90.0, 250.0, 210.0, 62.0, 70.0, 125.0, 45.0, 180.0, 250.0, 199.0, 33.0, 100.0, 145.0, 80.0, 99.0, 85.0, 125.0, 55.0, 85.0, 110.0, 60.0, 69.0, 59.0, 150.0, 98.0, 75.0, 100.0, 80.0, 69.0, 110.0, 80.0, 65.0, 79.0, 252.0, 100.0, 49.0, 113.0, 165.0, 90.0, 200.0, 78.0, 165.0, 190.0, 89.0, 150.0, 99.0, 100.0, 70.0, 70.0, 300.0, 149.0, 100.0, 85.0, 82.0, 86.0, 100.0, 98.0, 70.0, 135.0, 100.0, 165.0, 95.0, 49.0, 180.0, 118.0, 64.0, 100.0, 100.0, 132.0, 150.0, 143.0, 139.0, 299.0, 99.0, 49.0, 145.0, 110.0, 195.0, 300.0, 120.0, 55.0, 195.0, 279.0, 70.0, 145.0, 225.0, 39.0, 200.0, 74.0, 240.0, 59.0, 53.0, 55.0, 40.0, 73.0, 71.0, 165.0, 85.0, 90.0, 45.0, 213.0, 275.0, 125.0, 100.0, 80.0, 70.0, 95.0, 43.0, 50.0, 59.0, 159.0, 109.0, 250.0, 125.0, 175.0, 240.0, 75.0, 74.0, 176.0, 299.0, 85.0, 78.0, 83.0, 200.0, 50.0, 148.0, 102.0, 169.0, 149.0, 275.0, 75.0, 129.0, 148.0, 110.0, 150.0, 75.0, 48.0, 300.0, 149.0, 47.0, 55.0, 65.0, 100.0, 85.0, 75.0, 100.0, 165.0, 189.0, 139.0, 217.0, 95.0, 50.0, 107.0, 190.0, 78.0, 80.0, 61.0, 85.0, 95.0, 110.0, 58.0, 71.0, 60.0, 50.0, 100.0, 45.0, 85.0, 107.0, 43.0, 80.0, 100.0, 79.0, 210.0, 200.0, 300.0, 139.0, 195.0, 132.0, 124.0, 100.0, 75.0, 160.0, 112.0, 75.0, 64.0, 175.0, 40.0, 60.0, 100.0, 138.0, 200.0, 95.0, 125.0, 250.0, 88.0, 118.0, 175.0, 50.0, 200.0, 74.0, 92.0, 65.0, 99.0, 80.0, 85.0, 191.0, 35.0, 275.0, 123.0, 109.0, 36.0, 130.0, 175.0, 264.0, 89.0, 60.0, 85.0, 60.0, 59.0, 67.0, 150.0, 185.0, 119.0, 100.0, 60.0, 105.0, 95.0, 75.0, 86.0, 123.0, 250.0, 150.0, 80.0, 148.0, 99.0, 175.0, 95.0, 157.0, 150.0, 65.0, 90.0, 45.0, 30.0, 180.0, 182.0, 180.0, 60.0, 142.0, 131.0, 225.0, 75.0, 95.0, 99.0, 50.0, 160.0, 75.0, 97.0, 102.0, 250.0, 135.0, 95.0, 75.0, 150.0, 180.0, 89.0, 168.0, 110.0, 60.0, 75.0, 75.0, 150.0, 64.0, 150.0, 150.0, 259.0, 250.0, 200.0, 200.0, 300.0, 109.0, 190.0, 72.0, 108.0, 125.0, 110.0, 113.0, 175.0, 155.0, 175.0, 109.0, 150.0, 48.0, 75.0, 55.0, 90.0, 75.0, 149.0, 234.0, 225.0, 155.0, 300.0, 35.0, 81.0, 145.0, 80.0, 100.0, 90.0, 95.0, 125.0, 80.0, 175.0, 76.0, 65.0, 150.0, 60.0, 90.0, 122.0, 125.0, 80.0, 115.0, 250.0, 69.0, 164.0, 95.0, 245.0, 75.0, 140.0, 145.0, 295.0, 79.0, 65.0, 120.0, 45.0, 65.0, 120.0, 284.0, 70.0, 89.0, 275.0, 129.0, 169.0, 75.0, 75.0, 80.0, 225.0, 75.0, 71.0, 120.0, 75.0, 99.0, 275.0, 75.0, 190.0, 171.0, 160.0, 180.0, 90.0, 45.0, 76.0, 100.0, 270.0, 60.0, 61.0, 125.0, 72.0, 70.0, 100.0, 232.0, 140.0, 168.0, 100.0, 125.0, 175.0, 58.0, 30.0, 129.0, 95.0, 75.0, 165.0, 146.0, 115.0, 80.0, 125.0, 179.0, 59.0, 62.0, 140.0, 280.0, 63.0, 47.0, 67.0, 125.0, 150.0, 95.0, 109.0, 155.0, 190.0, 145.0, 210.0, 49.0, 100.0, 115.0, 80.0, 40.0, 85.0, 156.0, 178.0, 119.0, 85.0, 49.0, 120.0, 69.0, 95.0, 62.0, 171.0, 175.0, 75.0, 106.0, 69.0, 119.0, 130.0, 69.0, 164.0, 90.0, 125.0, 100.0, 92.0, 140.0, 110.0, 285.0, 109.0, 250.0, 50.0, 100.0, 140.0, 200.0, 100.0, 220.0, 99.0, 46.0, 59.0, 125.0, 70.0, 292.0, 67.0, 120.0, 175.0, 150.0, 300.0, 110.0, 120.0, 146.0, 120.0, 115.0, 128.0, 49.0, 200.0, 35.0, 69.0, 150.0, 130.0, 109.0, 95.0, 145.0, 89.0, 110.0, 280.0, 84.0, 275.0, 140.0, 150.0, 150.0, 78.0, 50.0, 250.0, 200.0, 89.0, 34.0, 125.0, 61.0, 200.0, 249.0, 54.0, 39.0, 59.0, 68.0, 115.0, 60.0, 70.0, 257.0, 49.0, 40.0, 159.0, 120.0, 175.0, 65.0, 120.0, 74.0, 96.0, 75.0, 149.0, 250.0, 130.0, 239.0, 275.0, 92.0, 98.0, 31.0, 30.0, 160.0, 115.0, 56.0, 99.0, 112.0, 199.0, 104.0, 165.0, 180.0, 138.0, 115.0, 48.0, 95.0, 180.0, 134.0, 200.0, 129.0, 100.0, 57.0, 93.0, 185.0, 196.0, 106.0, 108.0, 83.0, 55.0, 99.0, 35.0, 50.0, 88.0, 125.0, 35.0, 48.0, 37.0, 92.0, 151.0, 250.0, 164.0, 72.0, 192.0, 225.0, 199.0, 60.0, 180.0, 45.0, 199.0, 69.0, 179.0, 201.0, 60.0, 120.0, 76.0, 140.0, 115.0, 63.0, 139.0, 69.0, 205.0, 160.0, 150.0, 81.0, 65.0, 149.0, 68.0, 150.0, 90.0, 246.0, 61.0, 130.0, 75.0, 150.0, 55.0, 94.0, 225.0, 299.0, 99.0, 55.0, 139.0, 200.0, 100.0, 76.0, 161.0, 275.0, 150.0, 150.0, 130.0, 186.0, 249.0, 56.0, 245.0, 150.0, 175.0, 100.0, 50.0, 275.0, 90.0, 149.0, 200.0, 70.0, 70.0, 70.0, 49.0, 129.0, 67.0, 119.0, 99.0, 120.0, 60.0, 140.0, 120.0, 96.0, 63.0, 120.0, 130.0, 100.0, 250.0, 80.0, 111.0, 35.0, 150.0, 130.0, 175.0, 40.0, 175.0, 105.0, 180.0, 80.0, 100.0, 195.0, 248.0, 140.0, 150.0, 93.0, 106.0, 70.0, 174.0, 145.0, 130.0, 49.0, 65.0, 100.0, 70.0, 214.0, 97.0, 87.0, 195.0, 55.0, 185.0, 125.0, 70.0, 80.0, 102.0, 299.0, 149.0, 180.0, 52.0, 150.0, 106.0, 105.0, 257.0, 105.0, 104.0, 189.0, 225.0, 149.0, 100.0, 300.0, 175.0, 135.0, 90.0, 225.0, 168.0, 261.0, 125.0, 85.0, 120.0, 145.0, 135.0, 137.0, 50.0, 90.0, 149.0, 150.0, 150.0, 115.0, 125.0, 195.0, 120.0, 190.0, 50.0, 156.0, 78.0, 140.0, 250.0, 250.0, 120.0, 142.0, 120.0, 85.0, 115.0, 65.0, 115.0, 100.0, 60.0, 150.0, 100.0, 195.0, 294.0, 100.0, 82.0, 35.0, 110.0, 51.0, 45.0, 250.0, 78.0, 58.0, 125.0, 90.0, 95.0, 214.0, 150.0, 199.0, 272.0, 179.0, 120.0, 80.0, 78.0, 113.0, 39.0, 110.0, 179.0, 225.0, 60.0, 200.0, 95.0, 149.0, 125.0, 80.0, 60.0, 75.0, 180.0, 90.0, 105.0, 21.0, 185.0, 115.0, 169.0, 110.0, 130.0, 185.0, 100.0, 124.0, 185.0, 88.0, 200.0, 225.0, 119.0, 120.0, 41.0, 96.0, 130.0, 149.0, 275.0, 94.0, 148.0, 155.0, 68.0, 100.0, 175.0, 150.0, 240.0, 156.0, 120.0, 189.0, 119.0, 89.0, 300.0, 50.0, 55.0, 50.0, 70.0, 80.0, 85.0, 50.0, 40.0, 100.0, 145.0, 200.0, 55.0, 299.0, 98.0, 199.0, 149.0, 150.0, 140.0, 60.0, 149.0, 95.0, 107.0, 140.0, 43.0, 210.0, 90.0, 61.0, 225.0, 200.0, 135.0, 185.0, 125.0, 100.0, 85.0, 300.0, 40.0, 85.0, 60.0, 131.0, 117.0, 44.0, 104.0, 145.0, 45.0, 130.0, 125.0, 175.0, 99.0, 90.0, 105.0, 99.0, 100.0, 72.0, 144.0, 100.0, 149.0, 160.0, 165.0, 57.0, 295.0, 48.0, 225.0, 80.0, 250.0, 300.0, 55.0, 85.0, 200.0, 180.0, 250.0, 150.0, 98.0, 85.0, 125.0, 62.0, 168.0, 225.0, 65.0, 250.0, 63.0, 129.0, 250.0, 145.0, 70.0, 55.0, 220.0, 105.0, 95.0, 59.0, 65.0, 300.0, 250.0, 95.0, 290.0, 100.0, 180.0, 43.0, 51.0, 110.0, 132.0, 65.0, 75.0, 129.0, 175.0, 130.0, 149.0, 100.0, 200.0, 150.0, 75.0, 200.0, 70.0, 65.0, 175.0, 120.0, 150.0, 49.0, 89.0, 149.0, 113.0, 63.0, 149.0, 75.0, 150.0, 199.0, 150.0, 115.0, 175.0, 250.0, 220.0, 80.0, 49.0, 80.0, 73.0, 69.0, 115.0, 265.0, 200.0, 89.0, 75.0, 121.0, 86.0, 139.0, 75.0, 110.0, 200.0, 175.0, 129.0, 79.0, 99.0, 198.0, 135.0, 60.0, 186.0, 80.0, 101.0, 67.0, 71.0, 100.0, 55.0, 100.0, 53.0, 229.0, 296.0, 59.0, 200.0, 170.0, 125.0, 65.0, 52.0, 155.0, 200.0, 133.0, 185.0, 130.0, 68.0, 63.0, 175.0, 159.0, 143.0, 199.0, 166.0, 75.0, 40.0, 62.0, 35.0, 239.0, 179.0, 250.0, 65.0, 130.0, 100.0, 84.0, 55.0, 200.0, 70.0, 95.0, 95.0, 109.0, 110.0, 95.0, 75.0, 81.0, 175.0, 49.0, 99.0, 95.0, 100.0, 70.0, 148.0, 60.0, 132.0, 60.0, 299.0, 130.0, 130.0, 119.0, 83.0, 180.0, 18.0, 140.0, 103.0, 79.0, 102.0, 92.0, 115.0, 99.0, 257.0, 90.0, 90.0, 150.0, 160.0, 99.0, 86.0, 30.0, 120.0, 135.0, 250.0, 90.0, 59.0, 150.0, 90.0, 134.0, 119.0, 128.0, 199.0, 99.0, 35.0, 100.0, 100.0, 70.0, 79.0, 50.0, 225.0, 245.0, 155.0, 150.0, 60.0, 79.0, 45.0, 148.0, 129.0, 55.0, 215.0, 250.0, 99.0, 210.0, 57.0, 150.0, 124.0, 70.0, 214.0, 78.0, 150.0, 99.0, 130.0, 109.0, 75.0, 140.0, 30.0, 55.0, 55.0, 104.0, 89.0, 110.0, 275.0, 70.0, 219.0, 28.0, 50.0, 75.0, 39.0, 93.0, 40.0, 30.0, 50.0, 89.0, 174.0, 99.0, 149.0, 65.0, 80.0, 110.0, 90.0, 29.0, 93.0, 80.0, 80.0, 53.0, 160.0, 82.0, 195.0, 79.0, 269.0, 180.0, 120.0, 126.0, 120.0, 150.0, 83.0, 67.0, 79.0, 31.0, 200.0, 60.0, 70.0, 90.0, 45.0, 83.0, 100.0, 65.0, 91.0, 140.0, 40.0, 56.0, 59.0, 200.0, 130.0, 40.0, 55.0, 141.0, 60.0, 75.0, 95.0, 85.0, 130.0, 74.0, 200.0, 87.0, 225.0, 125.0, 79.0, 98.0, 85.0, 100.0, 90.0, 130.0, 109.0, 150.0, 159.0, 206.0, 150.0, 64.0, 70.0, 250.0, 115.0, 45.0, 110.0, 70.0, 81.0, 90.0, 209.0, 140.0, 75.0, 106.0, 225.0, 75.0, 200.0, 40.0, 45.0, 200.0, 214.0, 73.0, 80.0, 96.0, 74.0, 198.0, 195.0, 150.0, 145.0, 55.0, 97.0, 159.0, 68.0, 104.0, 190.0, 150.0, 175.0, 125.0, 150.0, 149.0, 91.0, 50.0, 120.0, 275.0, 75.0, 175.0, 70.0, 79.0, 75.0, 225.0, 175.0, 189.0, 55.0, 100.0, 44.0, 150.0, 269.0, 120.0, 63.0, 196.0, 38.0, 99.0, 65.0, 100.0, 240.0, 170.0, 199.0, 80.0, 32.0, 43.0, 150.0, 55.0, 185.0, 69.0, 73.0, 120.0, 79.0, 95.0, 106.0, 155.0, 49.0, 70.0, 50.0, 199.0, 75.0, 91.0, 95.0, 150.0, 88.0, 95.0, 48.0, 85.0, 130.0, 46.0, 35.0, 55.0, 149.0, 169.0, 105.0, 49.0, 60.0, 200.0, 169.0, 150.0, 200.0, 80.0, 119.0, 40.0, 150.0, 64.0, 160.0, 64.0, 50.0, 189.0, 110.0, 65.0, 195.0, 125.0, 115.0, 149.0, 156.0, 88.0, 250.0, 60.0, 34.0, 199.0, 180.0, 160.0, 95.0, 235.0, 100.0, 270.0, 200.0, 55.0, 75.0, 73.0, 75.0, 105.0, 150.0, 121.0, 70.0, 148.0, 73.0, 159.0, 119.0, 50.0, 83.0, 180.0, 220.0, 175.0, 190.0, 45.0, 99.0, 30.0, 48.0, 95.0, 70.0, 55.0, 120.0, 42.0, 110.0, 69.0, 150.0, 28.0, 130.0, 149.0, 100.0, 207.0, 99.0, 69.0, 76.0, 77.0, 75.0, 220.0, 90.0, 120.0, 100.0, 205.0, 110.0, 68.0, 100.0, 71.0, 56.0, 105.0, 175.0, 100.0, 109.0, 58.0, 50.0, 135.0, 52.0, 75.0, 99.0, 59.0, 215.0, 250.0, 275.0, 94.0, 94.0, 160.0, 207.0, 50.0, 125.0, 250.0, 150.0, 65.0, 185.0, 40.0, 125.0, 105.0, 128.0, 75.0, 100.0, 45.0, 120.0, 175.0, 270.0, 300.0, 171.0, 250.0, 200.0, 130.0, 125.0, 104.0, 93.0, 100.0, 55.0, 90.0, 215.0, 60.0, 65.0, 89.0, 250.0, 180.0, 95.0, 35.0, 85.0, 41.0, 259.0, 220.0, 280.0, 125.0, 70.0, 52.0, 220.0, 189.0, 68.0, 30.0, 145.0, 250.0, 115.0, 200.0, 179.0, 300.0, 200.0, 175.0, 270.0, 55.0, 105.0, 50.0, 250.0, 149.0, 78.0, 97.0, 62.0, 115.0, 50.0, 234.0, 45.0, 70.0, 140.0, 160.0, 200.0, 57.0, 80.0, 68.0, 150.0, 220.0, 125.0, 105.0, 60.0, 136.0, 45.0, 84.0, 195.0, 167.0, 160.0, 129.0, 125.0, 50.0, 69.0, 55.0, 100.0, 100.0, 160.0, 40.0, 135.0, 250.0, 85.0, 145.0, 74.0, 70.0, 220.0, 61.0, 81.0, 70.0, 250.0, 150.0, 31.0, 79.0, 99.0, 90.0, 100.0, 160.0, 69.0, 140.0, 125.0, 179.0, 45.0, 52.0, 45.0, 120.0, 250.0, 75.0, 85.0, 38.0, 300.0, 89.0, 98.0, 125.0, 150.0, 65.0, 158.0, 30.0, 300.0, 164.0, 90.0, 85.0, 250.0, 300.0, 165.0, 84.0, 150.0, 90.0, 59.0, 49.0, 39.0, 150.0, 290.0, 180.0, 115.0, 50.0, 250.0, 85.0, 112.0, 75.0, 55.0, 170.0, 286.0, 48.0, 34.0, 129.0, 159.0, 175.0, 161.0, 100.0, 88.0, 58.0, 274.0, 175.0, 60.0, 255.0, 75.0, 190.0, 98.0, 179.0, 250.0, 125.0, 100.0, 200.0, 200.0, 110.0, 75.0, 150.0, 53.0, 70.0, 280.0, 45.0, 195.0, 245.0, 145.0, 130.0, 115.0, 169.0, 175.0, 150.0, 149.0, 75.0, 135.0, 39.0, 40.0, 142.0, 150.0, 87.0, 48.0, 100.0, 80.0, 67.0, 180.0, 275.0, 119.0, 85.0, 84.0, 90.0, 124.0, 150.0, 80.0, 250.0, 150.0, 143.0, 82.0, 150.0, 79.0, 151.0, 199.0, 110.0, 110.0, 85.0, 48.0, 170.0, 125.0, 133.0, 176.0, 95.0, 60.0, 250.0, 240.0, 49.0, 200.0, 110.0, 215.0, 50.0, 130.0, 180.0, 120.0, 35.0, 65.0, 150.0, 51.0, 200.0, 46.0, 218.0, 99.0, 230.0, 70.0, 129.0, 85.0, 103.0, 230.0, 150.0, 150.0, 25.0, 93.0, 120.0, 100.0, 50.0, 90.0, 85.0, 85.0, 129.0, 148.0, 250.0, 180.0, 86.0, 75.0, 149.0, 165.0, 70.0, 49.0, 189.0, 60.0, 45.0, 150.0, 160.0, 76.0, 75.0, 72.0, 80.0, 94.0, 192.0, 130.0, 69.0, 50.0, 100.0, 49.0, 61.0, 80.0, 79.0, 95.0, 150.0, 115.0, 120.0, 87.0, 55.0, 101.0, 150.0, 67.0, 159.0, 65.0, 175.0, 175.0, 225.0, 57.0, 120.0, 155.0, 65.0, 140.0, 121.0, 75.0, 30.0, 72.0, 46.0, 150.0, 51.0, 191.0, 157.0, 200.0, 65.0, 125.0, 140.0, 119.0, 75.0, 153.0, 75.0, 100.0, 46.0, 250.0, 150.0, 50.0, 100.0, 141.0, 140.0, 190.0, 99.0, 161.0, 200.0, 165.0, 81.0, 195.0, 68.0, 199.0, 143.0, 200.0, 190.0, 84.0, 199.0, 101.0, 60.0, 68.0, 85.0, 175.0, 160.0, 166.0, 80.0, 200.0, 99.0, 55.0, 71.0, 55.0, 87.0, 85.0, 92.0, 48.0, 150.0, 90.0, 53.0, 50.0, 150.0, 115.0, 149.0, 200.0, 80.0, 83.0, 245.0, 98.0, 98.0, 110.0, 45.0, 95.0, 152.0, 112.0, 80.0, 33.0, 101.0, 130.0, 34.0, 120.0, 100.0, 150.0, 170.0, 124.0, 79.0, 69.0, 100.0, 115.0, 64.0, 134.0, 150.0, 39.0, 200.0, 147.0, 185.0, 279.0, 67.0, 90.0, 125.0, 48.0, 87.0, 53.0, 50.0, 45.0, 100.0, 100.0, 65.0, 130.0, 200.0, 165.0, 97.0, 55.0, 165.0, 190.0, 150.0, 145.0, 50.0, 80.0, 90.0, 145.0, 35.0, 37.0, 225.0, 120.0, 149.0, 225.0, 39.0, 85.0, 115.0, 119.0, 150.0, 83.0, 120.0, 78.0, 119.0, 199.0, 35.0, 100.0, 99.0, 131.0, 135.0, 110.0, 93.0, 72.0, 60.0, 97.0, 200.0, 73.0, 225.0, 158.0, 110.0, 250.0, 225.0, 200.0, 50.0, 250.0, 229.0, 80.0, 104.0, 125.0, 139.0, 200.0, 42.0, 160.0, 116.0, 200.0, 70.0, 149.0, 199.0, 95.0, 35.0, 70.0, 70.0, 45.0, 95.0, 130.0, 180.0, 94.0, 300.0, 150.0, 89.0, 75.0, 79.0, 140.0, 275.0, 120.0, 132.0, 200.0, 250.0, 80.0, 70.0, 80.0, 45.0, 77.0, 57.0, 45.0, 70.0, 225.0, 83.0, 92.0, 195.0, 29.0, 99.0, 140.0, 48.0, 58.0, 189.0, 230.0, 65.0, 130.0, 154.0, 75.0, 110.0, 110.0, 125.0, 150.0, 199.0, 214.0, 55.0, 96.0, 96.0, 63.0, 160.0, 65.0, 130.0, 103.0, 50.0, 150.0, 240.0, 75.0, 75.0, 156.0, 125.0, 93.0, 119.0, 149.0, 115.0, 50.0, 176.0, 149.0, 95.0, 115.0, 50.0, 275.0, 160.0, 170.0, 170.0, 60.0, 60.0, 70.0, 96.0, 105.0, 96.0, 120.0, 53.0, 100.0, 43.0, 210.0, 125.0, 56.0, 200.0, 104.0, 99.0, 70.0, 132.0, 90.0, 66.0, 75.0, 150.0, 80.0, 300.0, 88.0, 80.0, 260.0, 185.0, 100.0, 136.0, 149.0, 45.0, 200.0, 65.0, 174.0, 90.0, 103.0, 40.0, 55.0, 120.0, 170.0, 100.0, 135.0, 160.0, 92.0, 52.0, 190.0, 60.0, 65.0, 115.0, 130.0, 150.0, 250.0, 120.0, 100.0, 195.0, 175.0, 218.0, 225.0, 116.0, 61.0, 66.0, 200.0, 100.0, 140.0, 66.0, 155.0, 99.0, 105.0, 130.0, 60.0, 96.0, 70.0, 85.0, 132.0, 65.0, 64.0, 51.0, 63.0, 170.0, 150.0, 70.0, 100.0, 145.0, 150.0, 200.0, 129.0, 200.0, 180.0, 83.0, 80.0, 300.0, 90.0, 99.0, 135.0, 60.0, 115.0, 100.0, 200.0, 140.0, 125.0, 90.0, 50.0, 103.0, 280.0, 275.0, 219.0, 79.0, 160.0, 35.0, 59.0, 40.0, 69.0, 250.0, 79.0, 90.0, 70.0, 75.0, 150.0, 225.0, 99.0, 40.0, 285.0, 65.0, 100.0, 105.0, 71.0, 80.0, 65.0, 85.0, 72.0, 95.0, 160.0, 100.0, 200.0, 75.0, 166.0, 53.0, 146.0, 225.0, 270.0, 180.0, 115.0, 120.0, 275.0, 115.0, 110.0, 195.0, 89.0, 109.0, 59.0, 49.0, 225.0, 90.0, 124.0, 73.0, 69.0, 150.0, 190.0, 150.0, 250.0, 61.0, 100.0, 90.0, 89.0, 100.0, 75.0, 41.0, 250.0, 115.0, 120.0, 178.0, 190.0, 150.0, 225.0, 69.0, 150.0, 165.0, 39.0, 40.0, 25.0, 73.0, 100.0, 129.0, 154.0, 59.0, 300.0, 49.0, 239.0, 140.0, 146.0, 88.0, 95.0, 50.0, 120.0, 80.0, 149.0, 53.0, 100.0, 99.0, 130.0, 56.0, 129.0, 36.0, 159.0, 185.0, 100.0, 58.0, 40.0, 145.0, 149.0, 137.0, 139.0, 110.0, 119.0, 289.0, 125.0, 95.0, 82.0, 150.0, 116.0, 295.0, 150.0, 70.0, 200.0, 199.0, 199.0, 69.0, 75.0, 69.0, 90.0, 285.0, 70.0, 150.0, 69.0, 39.0, 145.0, 65.0, 90.0, 45.0, 200.0, 163.0, 144.0, 139.0, 199.0, 220.0, 180.0, 75.0, 113.0, 120.0, 150.0, 198.0, 110.0, 153.0, 209.0, 100.0, 180.0, 50.0, 135.0, 45.0, 135.0, 275.0, 175.0, 120.0, 115.0, 172.0, 100.0, 70.0, 130.0, 200.0, 125.0, 79.0, 58.0, 130.0, 125.0, 57.0, 75.0, 120.0, 115.0, 71.0, 259.0, 40.0, 50.0, 40.0, 110.0, 250.0, 49.0, 160.0, 129.0, 90.0, 239.0, 150.0, 55.0, 95.0, 200.0, 103.0, 89.0, 195.0, 76.0, 150.0, 60.0, 75.0, 129.0, 57.0, 81.0, 199.0, 64.0, 49.0, 100.0, 79.0, 125.0, 80.0, 150.0, 165.0, 90.0, 132.0, 160.0, 224.0, 115.0, 250.0, 80.0, 77.0, 60.0, 59.0, 180.0, 236.0, 39.0, 195.0, 175.0, 175.0, 85.0, 195.0, 225.0, 200.0, 125.0, 135.0, 120.0, 160.0, 179.0, 69.0, 179.0, 175.0, 120.0, 100.0, 150.0, 111.0, 50.0, 80.0, 250.0, 74.0, 120.0, 130.0, 199.0, 75.0, 97.0, 55.0, 150.0, 110.0, 112.0, 180.0, 100.0, 205.0, 135.0, 80.0, 63.0, 80.0, 100.0, 90.0, 125.0, 90.0, 180.0, 200.0, 55.0, 75.0, 56.0, 90.0, 75.0, 39.0, 85.0, 192.0, 99.0, 174.0, 150.0, 200.0, 50.0, 118.0, 127.0, 220.0, 56.0, 40.0, 120.0, 55.0, 77.0, 55.0, 206.0, 129.0, 112.0, 110.0, 179.0, 120.0, 150.0, 95.0, 99.0, 99.0, 101.0, 115.0, 215.0, 107.0, 100.0, 150.0, 150.0, 70.0, 99.0, 168.0, 148.0, 239.0, 65.0, 250.0, 140.0, 125.0, 70.0, 80.0, 75.0, 200.0, 225.0, 200.0, 65.0, 80.0, 205.0, 102.0, 90.0, 55.0, 110.0, 48.0, 91.0, 67.0, 154.0, 69.0, 150.0, 219.0, 150.0, 170.0, 250.0, 250.0, 70.0, 150.0, 272.0, 249.0, 160.0, 95.0, 200.0, 140.0, 100.0, 100.0, 179.0, 72.0, 45.0, 95.0, 100.0, 250.0, 100.0, 89.0, 95.0, 125.0, 250.0, 162.0, 200.0, 44.0, 55.0, 100.0, 49.0, 99.0, 120.0, 139.0, 90.0, 140.0, 175.0, 155.0, 79.0, 50.0, 139.0, 90.0, 230.0, 120.0, 98.0, 68.0, 171.0, 79.0, 55.0, 60.0, 199.0, 99.0, 90.0, 100.0, 55.0, 125.0, 39.0, 80.0, 140.0, 90.0, 56.0, 120.0, 150.0, 65.0, 99.0, 110.0, 140.0, 46.0, 180.0, 300.0, 60.0, 35.0, 90.0, 180.0, 155.0, 119.0, 48.0, 35.0, 120.0, 235.0, 60.0, 60.0, 90.0, 40.0, 120.0, 55.0, 150.0, 180.0, 70.0, 135.0, 200.0, 95.0, 59.0, 70.0, 99.0, 130.0, 80.0, 90.0, 250.0, 132.0, 160.0, 65.0, 150.0, 80.0, 175.0, 175.0, 40.0, 15.0, 75.0, 82.0, 110.0, 75.0, 199.0, 40.0, 80.0, 40.0, 299.0, 55.0, 112.0, 103.0, 75.0, 44.0, 77.0, 121.0, 65.0, 85.0, 90.0, 78.0, 78.0, 100.0, 120.0, 154.0, 150.0, 165.0, 100.0, 100.0, 80.0, 225.0, 125.0, 200.0, 95.0, 125.0, 125.0, 70.0, 55.0, 92.0, 221.0, 110.0, 239.0, 31.0, 73.0, 55.0, 50.0, 250.0, 80.0, 91.0, 65.0, 140.0, 80.0, 40.0, 49.0, 50.0, 75.0, 175.0, 155.0, 90.0, 130.0, 75.0, 60.0, 215.0, 35.0, 59.0, 70.0, 180.0, 175.0, 84.0, 225.0, 81.0, 60.0, 60.0, 99.0, 150.0, 90.0, 50.0, 149.0, 100.0, 214.0, 110.0, 128.0, 199.0, 40.0, 250.0, 100.0, 80.0, 125.0, 75.0, 75.0, 150.0, 115.0, 214.0, 119.0, 66.0, 104.0, 75.0, 78.0, 250.0, 180.0, 168.0, 300.0, 98.0, 165.0, 50.0, 225.0, 145.0, 95.0, 130.0, 50.0, 95.0, 50.0, 37.0, 95.0, 230.0, 90.0, 48.0, 100.0, 105.0, 135.0, 129.0, 135.0, 89.0, 45.0, 38.0, 100.0, 103.0, 99.0, 190.0, 90.0, 42.0, 150.0, 31.0, 117.0, 160.0, 95.0, 76.0, 70.0, 150.0, 50.0, 99.0, 200.0, 70.0, 115.0, 125.0, 99.0, 98.0, 75.0, 180.0, 85.0, 100.0, 63.0, 65.0, 200.0, 249.0, 200.0, 125.0, 200.0, 50.0, 200.0, 300.0, 200.0, 139.0, 40.0, 150.0, 108.0, 110.0, 85.0, 65.0, 130.0, 90.0, 50.0, 65.0, 120.0, 150.0, 121.0, 61.0, 159.0, 136.0, 100.0, 100.0, 125.0, 45.0, 100.0, 86.0, 60.0, 140.0, 70.0, 60.0, 180.0, 225.0, 125.0, 140.0, 142.0, 61.0, 125.0, 100.0, 300.0, 285.0, 179.0, 225.0, 95.0, 80.0, 60.0, 59.0, 85.0, 46.0, 50.0, 250.0, 65.0, 89.0, 284.0, 55.0, 70.0, 139.0, 70.0, 50.0, 100.0, 80.0, 200.0, 75.0, 200.0, 165.0, 250.0, 40.0, 270.0, 140.0, 145.0, 225.0, 75.0, 300.0, 175.0, 100.0, 165.0, 55.0, 175.0, 250.0, 90.0, 257.0, 99.0, 80.0, 175.0, 60.0, 132.0, 150.0, 48.0, 295.0, 85.0, 155.0, 98.0, 115.0, 201.0, 186.0, 80.0, 75.0, 65.0, 275.0, 123.0, 83.0, 165.0, 99.0, 300.0, 148.0, 196.0, 102.0, 65.0, 50.0, 71.0, 75.0, 70.0, 200.0, 118.0, 120.0, 45.0, 125.0, 82.0, 130.0, 100.0, 100.0, 65.0, 72.0, 125.0, 120.0, 225.0, 150.0, 75.0, 60.0, 65.0, 90.0, 110.0, 125.0, 80.0, 85.0, 40.0, 288.0, 120.0, 125.0, 102.0, 225.0, 60.0, 100.0, 174.0, 255.0, 110.0, 85.0, 180.0, 60.0, 76.0, 79.0, 116.0, 200.0, 125.0, 112.0, 250.0, 91.0, 43.0, 205.0, 90.0, 49.0, 99.0, 37.0, 90.0, 95.0, 83.0, 70.0, 50.0, 150.0, 53.0, 99.0, 150.0, 195.0, 45.0, 250.0, 99.0, 50.0, 99.0, 65.0, 136.0, 160.0, 45.0, 180.0, 120.0, 60.0, 45.0, 110.0, 155.0, 195.0, 137.0, 50.0, 65.0, 40.0, 79.0, 140.0, 198.0, 65.0, 79.0, 120.0, 295.0, 125.0, 65.0, 135.0, 139.0, 65.0, 115.0, 40.0, 70.0, 185.0, 185.0, 73.0, 30.0, 75.0, 78.0, 180.0, 99.0, 105.0, 38.0, 70.0, 49.0, 30.0, 70.0, 61.0, 110.0, 44.0, 99.0, 96.0, 230.0, 150.0, 116.0, 119.0, 75.0, 90.0, 89.0, 150.0, 40.0, 120.0, 35.0, 139.0, 90.0, 150.0, 135.0, 61.0, 250.0, 40.0, 40.0, 115.0, 82.0, 250.0, 60.0, 135.0, 149.0, 150.0, 110.0, 139.0, 115.0, 50.0, 99.0, 60.0, 110.0, 297.0, 50.0, 68.0, 85.0, 75.0, 39.0, 70.0, 150.0, 109.0, 75.0, 111.0, 162.0, 49.0, 129.0, 150.0, 175.0, 44.0, 46.0, 52.0, 90.0, 120.0, 120.0, 179.0, 40.0, 199.0, 100.0, 49.0, 35.0, 45.0, 59.0, 200.0, 27.0, 229.0, 99.0, 80.0, 148.0, 53.0, 130.0, 50.0, 55.0, 257.0, 200.0, 250.0, 70.0, 125.0, 195.0, 39.0, 120.0, 69.0, 100.0, 300.0, 44.0, 42.0, 28.0, 182.0, 169.0, 70.0, 80.0, 150.0, 50.0, 118.0, 196.0, 195.0, 199.0, 180.0, 100.0, 134.0, 49.0, 47.0, 80.0, 190.0, 110.0, 70.0, 127.0, 150.0, 99.0, 65.0, 120.0, 110.0, 285.0, 150.0, 100.0, 140.0, 134.0, 240.0, 100.0, 60.0, 105.0, 100.0, 214.0, 75.0, 95.0, 175.0, 140.0, 175.0, 70.0, 94.0, 75.0, 150.0, 120.0, 85.0, 81.0, 100.0, 85.0, 60.0, 130.0, 75.0, 70.0, 75.0, 38.0, 48.0, 40.0, 145.0, 60.0, 100.0, 185.0, 160.0, 95.0, 69.0, 125.0, 199.0, 69.0, 130.0, 75.0, 65.0, 150.0, 75.0, 300.0, 31.0, 99.0, 120.0, 134.0, 75.0, 45.0, 45.0, 155.0, 65.0, 125.0, 280.0, 280.0, 250.0, 79.0, 49.0, 115.0, 200.0, 75.0, 90.0, 62.0, 60.0, 156.0, 106.0, 115.0, 99.0, 125.0, 155.0, 73.0, 45.0, 38.0, 38.0, 140.0, 85.0, 100.0, 70.0, 90.0, 40.0, 125.0, 49.0, 122.0, 100.0, 100.0, 53.0, 250.0, 166.0, 122.0, 72.0, 160.0, 200.0, 49.0, 100.0, 170.0, 55.0, 83.0, 249.0, 214.0, 48.0, 99.0, 100.0, 80.0, 130.0, 118.0, 125.0, 123.0, 115.0, 45.0, 240.0, 84.0, 145.0, 45.0, 70.0, 80.0, 53.0, 100.0, 65.0, 70.0, 130.0, 150.0, 150.0, 105.0, 45.0, 75.0, 132.0, 65.0, 50.0, 96.0, 40.0, 225.0, 130.0, 155.0, 109.0, 75.0, 200.0, 67.0, 181.0, 70.0, 225.0, 230.0, 75.0, 200.0, 150.0, 65.0, 129.0, 65.0, 58.0, 150.0, 200.0, 129.0, 50.0, 150.0, 70.0, 31.0, 60.0, 200.0, 113.0, 150.0, 50.0, 165.0, 150.0, 81.0, 97.0, 145.0, 65.0, 70.0, 55.0, 195.0, 120.0, 80.0, 195.0, 275.0, 150.0, 115.0, 129.0, 49.0, 80.0, 143.0, 63.0, 113.0, 196.0, 45.0, 37.0, 45.0, 55.0, 240.0, 225.0, 65.0, 65.0, 120.0, 255.0, 43.0, 210.0, 150.0, 60.0, 200.0, 150.0, 40.0, 149.0, 256.0, 175.0, 90.0, 75.0, 110.0, 20.0, 49.0, 101.0, 249.0, 214.0, 60.0, 289.0, 50.0, 78.0, 90.0, 50.0, 250.0, 180.0, 68.0, 163.0, 45.0, 60.0, 105.0, 220.0, 95.0, 165.0, 95.0, 101.0, 101.0, 99.0, 101.0, 101.0, 40.0, 103.0, 47.0, 45.0, 117.0, 48.0, 150.0, 105.0, 125.0, 107.0, 250.0, 259.0, 275.0, 179.0, 300.0, 295.0, 166.0, 50.0, 225.0, 244.0, 80.0, 75.0, 199.0, 75.0, 56.0, 150.0, 100.0, 200.0, 60.0, 67.0, 90.0, 60.0, 57.0, 99.0, 229.0, 73.0, 46.0, 50.0, 250.0, 220.0, 56.0, 129.0, 60.0, 108.0, 245.0, 90.0, 250.0, 70.0, 150.0, 135.0, 128.0, 31.0, 145.0, 65.0, 65.0, 35.0, 65.0, 170.0, 41.0, 38.0, 125.0, 110.0, 100.0, 90.0, 105.0, 119.0, 225.0, 150.0, 125.0, 152.0, 150.0, 150.0, 120.0, 45.0, 70.0, 75.0, 109.0, 42.0, 67.0, 37.0, 120.0, 75.0, 45.0, 100.0, 50.0, 235.0, 175.0, 45.0, 55.0, 120.0, 85.0, 40.0, 99.0, 150.0, 68.0, 89.0, 79.0, 85.0, 68.0, 170.0, 140.0, 100.0, 244.0, 70.0, 200.0, 160.0, 85.0, 200.0, 94.0, 65.0, 180.0, 239.0, 140.0, 78.0, 186.0, 78.0, 55.0, 39.0, 150.0, 75.0, 59.0, 110.0, 44.0, 75.0, 38.0, 172.0, 50.0, 249.0, 250.0, 185.0, 180.0, 123.0, 30.0, 210.0, 139.0, 45.0, 79.0, 99.0, 75.0, 200.0, 40.0, 115.0, 99.0, 210.0, 43.0, 100.0, 195.0, 99.0, 65.0, 70.0, 220.0, 122.0, 42.0, 79.0, 90.0, 60.0, 300.0, 250.0, 90.0, 90.0, 50.0, 130.0, 199.0, 150.0, 80.0, 105.0, 250.0, 64.0, 81.0, 150.0, 223.0, 150.0, 62.0, 120.0, 45.0, 120.0, 65.0, 250.0, 85.0, 125.0, 65.0, 242.0, 180.0, 115.0, 156.0, 50.0, 45.0, 43.0, 125.0, 196.0, 90.0, 80.0, 100.0, 114.0, 165.0, 129.0, 100.0, 75.0, 100.0, 150.0, 64.0, 59.0, 75.0, 85.0, 124.0, 199.0, 108.0, 150.0, 90.0, 75.0, 200.0, 289.0, 175.0, 150.0, 55.0, 175.0, 45.0, 130.0, 70.0, 100.0, 65.0, 140.0, 80.0, 75.0, 300.0, 110.0, 120.0, 72.0, 80.0, 55.0, 45.0, 165.0, 60.0, 60.0, 140.0, 263.0, 175.0, 35.0, 55.0, 60.0, 280.0, 56.0, 115.0, 200.0, 35.0, 60.0, 207.0, 63.0, 125.0, 49.0, 120.0, 155.0, 86.0, 63.0, 93.0, 100.0, 120.0, 146.0, 100.0, 75.0, 49.0, 140.0, 89.0, 55.0, 69.0, 133.0, 300.0, 155.0, 111.0, 100.0, 65.0, 110.0, 65.0, 140.0, 108.0, 130.0, 159.0, 75.0, 75.0, 68.0, 100.0, 35.0, 175.0, 254.0, 110.0, 250.0, 127.0, 280.0, 200.0, 145.0, 75.0, 42.0, 65.0, 130.0, 75.0, 40.0, 41.0, 100.0, 39.0, 120.0, 125.0, 47.0, 50.0, 85.0, 46.0, 275.0, 115.0, 65.0, 106.0, 66.0, 34.0, 79.0, 56.0, 198.0, 160.0, 185.0, 55.0, 118.0, 110.0, 80.0, 123.0, 90.0, 110.0, 160.0, 150.0, 200.0, 287.0, 86.0, 200.0, 58.0, 95.0, 212.0, 90.0, 250.0, 79.0, 195.0, 125.0, 52.0, 200.0, 150.0, 121.0, 89.0, 180.0, 70.0, 123.0, 70.0, 200.0, 55.0, 150.0, 115.0, 100.0, 70.0, 250.0, 148.0, 295.0, 45.0, 55.0, 200.0, 70.0, 91.0, 38.0, 175.0, 50.0, 275.0, 42.0, 100.0, 88.0, 100.0, 165.0, 39.0, 300.0, 42.0, 115.0, 75.0, 130.0, 129.0, 100.0, 131.0, 225.0, 199.0, 31.0, 135.0, 105.0, 65.0, 200.0, 300.0, 40.0, 214.0, 135.0, 140.0, 100.0, 140.0, 120.0, 110.0, 106.0, 105.0, 104.0, 54.0, 220.0, 99.0, 67.0, 84.0, 78.0, 149.0, 80.0, 115.0, 175.0, 194.0, 175.0, 170.0, 64.0, 89.0, 55.0, 115.0, 267.0, 50.0, 150.0, 175.0, 70.0, 150.0, 175.0, 48.0, 42.0, 80.0, 85.0, 68.0, 53.0, 38.0, 100.0, 85.0, 225.0, 120.0, 67.0, 250.0, 180.0, 109.0, 60.0, 80.0, 60.0, 175.0, 125.0, 40.0, 128.0, 75.0, 160.0, 45.0, 42.0, 77.0, 200.0, 50.0, 120.0, 130.0, 134.0, 77.0, 250.0, 75.0, 70.0, 290.0, 70.0, 155.0, 50.0, 230.0, 85.0, 70.0, 140.0, 98.0, 100.0, 200.0, 250.0, 50.0, 80.0, 67.0, 139.0, 80.0, 85.0, 55.0, 160.0, 150.0, 225.0, 290.0, 95.0, 139.0, 295.0, 120.0, 85.0, 80.0, 100.0, 175.0, 216.0, 69.0, 169.0, 65.0, 169.0, 150.0, 87.0, 89.0, 200.0, 165.0, 89.0, 85.0, 240.0, 95.0, 63.0, 99.0, 175.0, 125.0, 300.0, 180.0, 63.0, 100.0, 150.0, 299.0, 250.0, 96.0, 125.0, 190.0, 165.0, 69.0, 209.0, 175.0, 150.0, 100.0, 130.0, 130.0, 39.0, 190.0, 60.0, 199.0, 49.0, 45.0, 220.0, 280.0, 136.0, 43.0, 134.0, 110.0, 180.0, 99.0, 130.0, 105.0, 132.0, 110.0, 45.0, 45.0, 53.0, 100.0, 85.0, 100.0, 229.0, 80.0, 275.0, 121.0, 55.0, 100.0, 50.0, 48.0, 43.0, 47.0, 260.0, 158.0, 105.0, 150.0, 160.0, 109.0, 120.0, 104.0, 40.0, 85.0, 200.0, 120.0, 150.0, 154.0, 200.0, 28.0, 199.0, 100.0, 225.0, 80.0, 135.0, 100.0, 145.0, 55.0, 190.0, 70.0, 100.0, 40.0, 150.0, 80.0, 125.0, 90.0, 70.0, 75.0, 150.0, 115.0, 131.0, 85.0, 48.0, 105.0, 150.0, 53.0, 150.0, 140.0, 55.0, 195.0, 64.0, 125.0, 50.0, 225.0, 156.0, 211.0, 59.0, 50.0, 80.0, 156.0, 76.0, 120.0, 129.0, 92.0, 80.0, 256.0, 246.0, 156.0, 156.0, 156.0, 166.0, 156.0, 250.0, 80.0, 200.0, 130.0, 84.0, 50.0, 95.0, 49.0, 40.0, 80.0, 49.0, 100.0, 50.0, 145.0, 125.0, 75.0, 59.0, 180.0, 99.0, 135.0, 150.0, 275.0, 215.0, 135.0, 295.0, 99.0, 82.0, 105.0, 52.0, 145.0, 40.0, 250.0, 295.0, 130.0, 120.0, 70.0, 77.0, 245.0, 275.0, 150.0, 80.0, 200.0, 88.0, 140.0, 45.0, 150.0, 259.0, 80.0, 85.0, 75.0, 193.0, 198.0, 300.0, 295.0, 50.0, 35.0, 95.0, 75.0, 149.0, 136.0, 50.0, 87.0, 141.0, 26.0, 80.0, 209.0, 32.0, 200.0, 97.0, 100.0, 62.0, 93.0, 120.0, 150.0, 45.0, 59.0, 110.0, 75.0, 105.0, 47.0, 47.0, 45.0, 100.0, 85.0, 70.0, 172.0, 160.0, 201.0, 85.0, 180.0, 90.0, 60.0, 40.0, 57.0, 95.0, 45.0, 89.0, 200.0, 112.0, 100.0, 55.0, 213.0, 70.0, 65.0, 229.0, 188.0, 150.0, 100.0, 50.0, 140.0, 73.0, 250.0, 250.0, 135.0, 109.0, 110.0, 105.0, 129.0, 130.0, 100.0, 82.0, 220.0, 129.0, 50.0, 70.0, 152.0, 55.0, 110.0, 164.0, 120.0, 60.0, 224.0, 39.0, 200.0, 230.0, 165.0, 125.0, 155.0, 160.0, 170.0, 170.0, 170.0, 150.0, 135.0, 140.0, 150.0, 155.0, 80.0, 55.0, 125.0, 165.0, 50.0, 150.0, 72.0, 95.0, 130.0, 115.0, 65.0, 120.0, 193.0, 130.0, 81.0, 277.0, 300.0, 77.0, 57.0, 140.0, 110.0, 86.0, 99.0, 114.0, 149.0, 180.0, 130.0, 45.0, 121.0, 167.0, 35.0, 262.0, 95.0, 99.0, 99.0, 220.0, 45.0, 80.0, 105.0, 50.0, 112.0, 198.0, 130.0, 150.0, 149.0, 210.0, 135.0, 240.0, 90.0, 70.0, 60.0, 129.0, 200.0, 125.0, 245.0, 100.0, 35.0, 185.0, 60.0, 29.0, 80.0, 35.0, 289.0, 91.0, 130.0, 80.0, 50.0, 164.0, 236.0, 27.0, 155.0, 80.0, 80.0, 85.0, 150.0, 214.0, 150.0, 80.0, 70.0, 150.0, 150.0, 125.0, 85.0, 100.0, 235.0, 90.0, 160.0, 90.0, 47.0, 100.0, 115.0, 272.0, 100.0, 160.0, 75.0, 168.0, 55.0, 95.0, 70.0, 125.0, 99.0, 90.0, 92.0, 181.0, 149.0, 120.0, 120.0, 160.0, 110.0, 125.0, 190.0, 45.0, 120.0, 187.0, 80.0, 69.0, 37.0, 145.0, 65.0, 90.0, 200.0, 149.0, 60.0, 114.0, 125.0, 40.0, 169.0, 100.0, 75.0, 84.0, 65.0, 109.0, 159.0, 45.0, 99.0, 65.0, 38.0, 95.0, 150.0, 99.0, 100.0, 150.0, 165.0, 66.0, 165.0, 100.0, 55.0, 85.0, 35.0, 110.0, 46.0, 99.0, 200.0, 190.0, 99.0, 209.0, 55.0, 49.0, 68.0, 160.0, 167.0, 180.0, 82.0, 100.0, 115.0, 125.0, 45.0, 130.0, 140.0, 175.0, 45.0, 86.0, 86.0, 199.0, 22.0, 60.0, 39.0, 60.0, 55.0, 41.0, 170.0, 70.0, 120.0, 75.0, 195.0, 252.0, 115.0, 65.0, 90.0, 139.0, 200.0, 105.0, 72.0, 44.0, 175.0, 34.0, 70.0, 175.0, 69.0, 140.0, 166.0, 80.0, 80.0, 40.0, 120.0, 70.0, 50.0, 200.0, 91.0, 250.0, 125.0, 47.0, 50.0, 75.0, 66.0, 23.0, 100.0, 207.0, 215.0, 170.0, 100.0, 65.0, 175.0, 139.0, 110.0, 70.0, 200.0, 200.0, 99.0, 220.0, 299.0, 150.0, 49.0, 185.0, 78.0, 150.0, 300.0, 50.0, 59.0, 59.0, 60.0, 125.0, 45.0, 45.0, 50.0, 199.0, 75.0, 300.0, 40.0, 120.0, 95.0, 150.0, 292.0, 130.0, 95.0, 119.0, 139.0, 147.0, 95.0, 100.0, 100.0, 81.0, 125.0, 166.0, 100.0, 215.0, 106.0, 264.0, 84.0, 159.0, 150.0, 89.0, 130.0, 50.0, 100.0, 150.0, 50.0, 99.0, 35.0, 150.0, 35.0, 61.0, 139.0, 130.0, 160.0, 98.0, 119.0, 81.0, 29.0, 64.0, 70.0, 120.0, 49.0, 70.0, 85.0, 75.0, 150.0, 40.0, 120.0, 100.0, 132.0, 35.0, 278.0, 45.0, 185.0, 80.0, 97.0, 150.0, 47.0, 120.0, 59.0, 104.0, 150.0, 145.0, 80.0, 37.0, 117.0, 140.0, 250.0, 79.0, 100.0, 150.0, 200.0, 110.0, 165.0, 36.0, 40.0, 45.0, 115.0, 104.0, 80.0, 50.0, 135.0, 35.0, 108.0, 200.0, 70.0, 120.0, 130.0, 145.0, 130.0, 150.0, 110.0, 110.0, 85.0, 55.0, 60.0, 90.0, 144.0, 75.0, 180.0, 199.0, 79.0, 125.0, 60.0, 200.0, 100.0, 75.0, 195.0, 57.0, 45.0, 39.0, 75.0, 145.0, 70.0, 74.0, 136.0, 99.0, 81.0, 125.0, 75.0, 65.0, 47.0, 45.0, 100.0, 85.0, 126.0, 89.0, 300.0, 80.0, 60.0, 40.0, 210.0, 149.0, 70.0, 45.0, 120.0, 150.0, 60.0, 64.0, 65.0, 105.0, 75.0, 180.0, 200.0, 75.0, 151.0, 40.0, 185.0, 78.0, 45.0, 80.0, 200.0, 85.0, 124.0, 185.0, 120.0, 47.0, 97.0, 90.0, 110.0, 125.0, 38.0, 75.0, 26.0, 193.0, 140.0, 90.0, 90.0, 135.0, 120.0, 175.0, 40.0, 119.0, 45.0, 100.0, 155.0, 56.0, 95.0, 100.0, 65.0, 85.0, 29.0, 115.0, 171.0, 140.0, 125.0, 56.0, 80.0, 28.0, 140.0, 225.0, 180.0, 250.0, 65.0, 50.0, 70.0, 95.0, 70.0, 176.0, 110.0, 90.0, 275.0, 60.0, 70.0, 50.0, 68.0, 73.0, 40.0, 100.0, 109.0, 45.0, 70.0, 220.0, 53.0, 100.0, 105.0, 40.0, 90.0, 50.0, 195.0, 200.0, 175.0, 100.0, 175.0, 150.0, 50.0, 48.0, 189.0, 25.0, 90.0, 130.0, 300.0, 48.0, 103.0, 33.0, 60.0, 32.0, 150.0, 107.0, 120.0, 291.0, 150.0, 103.0, 41.0, 50.0, 80.0, 40.0, 99.0, 190.0, 36.0, 199.0, 130.0, 20.0, 65.0, 80.0, 50.0, 150.0, 100.0, 80.0, 95.0, 110.0, 175.0, 80.0, 105.0, 150.0, 300.0, 215.0, 95.0, 95.0, 200.0, 285.0, 45.0, 120.0, 56.0, 143.0, 67.0, 190.0, 70.0, 156.0, 107.0, 125.0, 130.0, 134.0, 85.0, 129.0, 50.0, 190.0, 117.0, 95.0, 65.0, 69.0, 175.0, 59.0, 90.0, 75.0, 53.0, 60.0, 150.0, 45.0, 90.0, 225.0, 121.0, 250.0, 50.0, 70.0, 47.0, 150.0, 300.0, 32.0, 159.0, 59.0, 170.0, 175.0, 74.0, 225.0, 180.0, 300.0, 100.0, 40.0, 100.0, 60.0, 49.0, 145.0, 48.0, 69.0, 45.0, 89.0, 60.0, 126.0, 102.0, 45.0, 39.0, 105.0, 99.0, 175.0, 200.0, 126.0, 299.0, 45.0, 99.0, 70.0, 65.0, 185.0, 241.0, 45.0, 75.0, 150.0, 149.0, 160.0, 150.0, 25.0, 90.0, 40.0, 105.0, 50.0, 47.0, 47.0, 47.0, 88.0, 47.0, 47.0, 47.0, 30.0, 69.0, 75.0, 200.0, 93.0, 125.0, 70.0, 134.0, 35.0, 150.0, 99.0, 48.0, 94.0, 175.0, 75.0, 75.0, 65.0, 125.0, 85.0, 90.0, 70.0, 150.0, 70.0, 135.0, 34.0, 80.0, 58.0, 50.0, 89.0, 69.0, 75.0, 150.0, 38.0, 180.0, 75.0, 40.0, 221.0, 239.0, 115.0, 50.0, 75.0, 55.0, 99.0, 59.0, 74.0, 119.0, 176.0, 45.0, 95.0, 60.0, 36.0, 84.0, 87.0, 100.0, 299.0, 60.0, 60.0, 99.0, 240.0, 36.0, 67.0, 50.0, 96.0, 64.0, 60.0, 225.0, 130.0, 199.0, 175.0, 250.0, 72.0, 285.0, 220.0, 200.0, 100.0, 150.0, 175.0, 180.0, 80.0, 100.0, 150.0, 175.0, 66.0, 60.0, 60.0, 50.0, 80.0, 42.0, 64.0, 85.0, 64.0, 160.0, 120.0, 180.0, 90.0, 39.0, 120.0, 160.0, 135.0, 225.0, 100.0, 215.0, 75.0, 150.0, 80.0, 125.0, 89.0, 130.0, 130.0, 50.0, 149.0, 110.0, 75.0, 111.0, 200.0, 55.0, 160.0, 175.0, 150.0, 100.0, 120.0, 75.0, 200.0, 98.0, 125.0, 140.0, 135.0, 50.0, 121.0, 45.0, 235.0, 135.0, 116.0, 139.0, 153.0, 60.0, 185.0, 95.0, 100.0, 250.0, 145.0, 286.0, 200.0, 84.0, 50.0, 100.0, 115.0, 80.0, 130.0, 250.0, 95.0, 99.0, 83.0, 85.0, 72.0, 49.0, 160.0, 100.0, 50.0, 50.0, 87.0, 65.0, 109.0, 150.0, 166.0, 140.0, 129.0, 74.0, 250.0, 130.0, 188.0, 125.0, 149.0, 135.0, 76.0, 55.0, 42.0, 250.0, 150.0, 295.0, 85.0, 48.0, 47.0, 65.0, 54.0, 47.0, 150.0, 150.0, 179.0, 55.0, 85.0, 34.0, 118.0, 199.0, 34.0, 65.0, 35.0, 251.0, 155.0, 125.0, 148.0, 115.0, 130.0, 64.0, 68.0, 110.0, 75.0, 75.0, 55.0, 250.0, 193.0, 118.0, 45.0, 88.0, 165.0, 97.0, 49.0, 250.0, 280.0, 79.0, 129.0, 96.0, 120.0, 180.0, 119.0, 89.0, 72.0, 250.0, 90.0, 140.0, 90.0, 70.0, 165.0, 200.0, 100.0, 72.0, 135.0, 180.0, 237.0, 46.0, 171.0, 48.0, 300.0, 110.0, 65.0, 175.0, 120.0, 80.0, 124.0, 150.0, 48.0, 60.0, 75.0, 149.0, 150.0, 40.0, 65.0, 190.0, 109.0, 36.0, 200.0, 120.0, 60.0, 220.0, 185.0, 160.0, 51.0, 60.0, 190.0, 80.0, 137.0, 250.0, 125.0, 225.0, 55.0, 45.0, 140.0, 77.0, 215.0, 39.0, 112.0, 71.0, 80.0, 194.0, 49.0, 32.0, 100.0, 83.0, 135.0, 135.0, 98.0, 139.0, 65.0, 169.0, 75.0, 75.0, 225.0, 110.0, 225.0, 99.0, 118.0, 150.0, 170.0, 49.0, 70.0, 186.0, 89.0, 120.0, 100.0, 40.0, 120.0, 225.0, 32.0, 125.0, 149.0, 40.0, 60.0, 275.0, 198.0, 145.0, 150.0, 31.0, 65.0, 60.0, 250.0, 105.0, 180.0, 55.0, 142.0, 111.0, 150.0, 80.0, 80.0, 150.0, 62.0, 119.0, 43.0, 214.0, 250.0, 50.0, 109.0, 50.0, 160.0, 89.0, 60.0, 91.0, 84.0, 51.0, 65.0, 78.0, 75.0, 123.0, 55.0, 150.0, 79.0, 152.0, 150.0, 92.0, 75.0, 65.0, 109.0, 59.0, 110.0, 300.0, 50.0, 39.0, 250.0, 90.0, 45.0, 70.0, 130.0, 25.0, 35.0, 100.0, 70.0, 150.0, 75.0, 95.0, 100.0, 81.0, 40.0, 210.0, 55.0, 150.0, 68.0, 235.0, 150.0, 65.0, 280.0, 130.0, 125.0, 58.0, 90.0, 169.0, 128.0, 42.0, 99.0, 95.0, 39.0, 125.0, 157.0, 95.0, 98.0, 68.0, 127.0, 150.0, 150.0, 64.0, 199.0, 65.0, 65.0, 68.0, 130.0, 165.0, 250.0, 179.0, 65.0, 80.0, 140.0, 209.0, 55.0, 175.0, 200.0, 180.0, 75.0, 53.0, 70.0, 90.0, 45.0, 109.0, 200.0, 135.0, 275.0, 140.0, 220.0, 80.0, 110.0, 70.0, 96.0, 130.0, 100.0, 150.0, 125.0, 200.0, 157.0, 53.0, 300.0, 60.0, 101.0, 115.0, 72.0, 250.0, 62.0, 105.0, 51.0, 100.0, 120.0, 60.0, 80.0, 179.0, 45.0, 201.0, 125.0, 228.0, 116.0, 65.0, 54.0, 59.0, 119.0, 90.0, 150.0, 250.0, 70.0, 80.0, 139.0, 49.0, 85.0, 60.0, 90.0, 26.0, 70.0, 120.0, 80.0, 51.0, 175.0, 185.0, 180.0, 120.0, 35.0, 164.0, 208.0, 264.0, 164.0, 49.0, 135.0, 45.0, 101.0, 120.0, 185.0, 125.0, 80.0, 66.0, 85.0, 70.0, 275.0, 111.0, 300.0, 40.0, 45.0, 190.0, 164.0, 110.0, 120.0, 300.0, 40.0, 82.0, 160.0, 89.0, 90.0, 40.0, 35.0, 40.0, 220.0, 110.0, 160.0, 80.0, 76.0, 110.0, 150.0, 80.0, 160.0, 115.0, 94.0, 125.0, 55.0, 57.0, 55.0, 127.0, 200.0, 49.0, 45.0, 180.0, 92.0, 25.0, 100.0, 150.0, 75.0, 75.0, 32.0, 297.0, 150.0, 225.0, 173.0, 80.0, 50.0, 100.0, 120.0, 195.0, 125.0, 225.0, 45.0, 260.0, 200.0, 97.0, 75.0, 155.0, 80.0, 250.0, 65.0, 143.0, 80.0, 125.0, 75.0, 48.0, 69.0, 116.0, 69.0, 42.0, 55.0, 200.0, 84.0, 112.0, 65.0, 150.0, 120.0, 200.0, 90.0, 50.0, 141.0, 65.0, 107.0, 193.0, 175.0, 70.0, 75.0, 155.0, 65.0, 175.0, 95.0, 50.0, 90.0, 200.0, 134.0, 100.0, 65.0, 60.0, 80.0, 68.0, 150.0, 258.0, 70.0, 187.0, 280.0, 100.0, 95.0, 43.0, 100.0, 60.0, 72.0, 65.0, 99.0, 110.0, 140.0, 83.0, 111.0, 45.0, 132.0, 100.0, 150.0, 33.0, 175.0, 80.0, 75.0, 60.0, 140.0, 85.0, 80.0, 45.0, 190.0, 73.0, 135.0, 50.0, 73.0, 90.0, 100.0, 95.0, 40.0, 50.0, 30.0, 253.0, 50.0, 120.0, 250.0, 139.0, 149.0, 230.0, 85.0, 50.0, 135.0, 35.0, 60.0, 85.0, 42.0, 180.0, 200.0, 200.0, 65.0, 132.0, 150.0, 175.0, 35.0, 225.0, 250.0, 85.0, 135.0, 131.0, 100.0, 50.0, 115.0, 39.0, 250.0, 40.0, 125.0, 50.0, 80.0, 59.0, 100.0, 42.0, 140.0, 170.0, 150.0, 300.0, 83.0, 250.0, 200.0, 196.0, 50.0, 125.0, 100.0, 55.0, 99.0, 63.0, 139.0, 60.0, 70.0, 41.0, 60.0, 65.0, 30.0, 170.0, 150.0, 150.0, 39.0, 120.0, 225.0, 70.0, 95.0, 132.0, 125.0, 125.0, 130.0, 90.0, 60.0, 45.0, 35.0, 139.0, 42.0, 40.0, 100.0, 88.0, 200.0, 44.0, 40.0, 150.0, 119.0, 84.0, 55.0, 97.0, 49.0, 150.0, 125.0, 115.0, 169.0, 106.0, 69.0, 45.0, 75.0, 60.0, 55.0, 48.0, 50.0, 56.0, 73.0, 230.0, 47.0, 125.0, 42.0, 104.0, 225.0, 185.0, 130.0, 53.0, 134.0, 295.0, 104.0, 108.0, 179.0, 53.0, 92.0, 93.0, 99.0, 60.0, 127.0, 155.0, 275.0, 199.0, 150.0, 150.0, 75.0, 169.0, 51.0, 90.0, 65.0, 115.0, 170.0, 50.0, 45.0, 150.0, 45.0, 135.0, 150.0, 89.0, 90.0, 80.0, 256.0, 139.0, 82.0, 118.0, 80.0, 188.0, 84.0, 125.0, 200.0, 110.0, 50.0, 125.0, 75.0, 120.0, 79.0, 90.0, 105.0, 200.0, 200.0, 179.0, 229.0, 49.0, 95.0, 140.0, 100.0, 74.0, 67.0, 150.0, 80.0, 95.0, 79.0, 110.0, 100.0, 60.0, 195.0, 25.0, 180.0, 45.0, 180.0, 55.0, 100.0, 130.0, 106.0, 250.0, 69.0, 103.0, 150.0, 83.0, 190.0, 150.0, 145.0, 150.0, 75.0, 185.0, 40.0, 109.0, 125.0, 75.0, 145.0, 135.0, 100.0, 130.0, 145.0, 45.0, 120.0, 80.0, 190.0, 100.0, 90.0, 140.0, 85.0, 70.0, 110.0, 55.0, 180.0, 140.0, 45.0, 210.0, 100.0, 32.0, 75.0, 35.0, 100.0, 175.0, 250.0, 55.0, 145.0, 150.0, 60.0, 195.0, 60.0, 60.0, 199.0, 89.0, 196.0, 165.0, 36.0, 51.0, 50.0, 300.0, 77.0, 157.0, 79.0, 60.0, 75.0, 120.0, 180.0, 180.0, 225.0, 139.0, 200.0, 150.0, 143.0, 180.0, 50.0, 116.0, 121.0, 150.0, 139.0, 140.0, 79.0, 243.0, 100.0, 113.0, 200.0, 150.0, 72.0, 130.0, 85.0, 99.0, 70.0, 30.0, 56.0, 90.0, 60.0, 85.0, 300.0, 240.0, 180.0, 74.0, 89.0, 132.0, 119.0, 221.0, 139.0, 108.0, 89.0, 65.0, 80.0, 60.0, 40.0, 120.0, 300.0, 95.0, 107.0, 65.0, 132.0, 150.0, 75.0, 100.0, 50.0, 70.0, 135.0, 155.0, 135.0, 50.0, 115.0, 95.0, 70.0, 89.0, 120.0, 107.0, 49.0, 235.0, 89.0, 100.0, 60.0, 132.0, 45.0, 95.0, 100.0, 175.0, 295.0, 35.0, 123.0, 102.0, 96.0, 75.0, 110.0, 187.0, 142.0, 70.0, 75.0, 150.0, 150.0, 81.0, 99.0, 150.0, 200.0, 142.0, 169.0, 60.0, 130.0, 100.0, 156.0, 110.0, 46.0, 80.0, 199.0, 125.0, 48.0, 200.0, 98.0, 250.0, 230.0, 133.0, 60.0, 126.0, 215.0, 200.0, 40.0, 55.0, 99.0, 185.0, 59.0, 39.0, 200.0, 140.0, 134.0, 60.0, 76.0, 200.0, 115.0, 254.0, 86.0, 170.0, 40.0, 62.0, 70.0, 65.0, 90.0, 100.0, 68.0, 165.0, 190.0, 45.0, 220.0, 200.0, 200.0, 106.0, 50.0, 80.0, 139.0, 125.0, 180.0, 100.0, 150.0, 42.0, 94.0, 220.0, 95.0, 85.0, 206.0, 110.0, 149.0, 79.0, 200.0, 99.0, 80.0, 98.0, 65.0, 65.0, 55.0, 140.0, 175.0, 120.0, 250.0, 43.0, 100.0, 120.0, 40.0, 61.0, 78.0, 75.0, 75.0, 80.0, 105.0, 136.0, 150.0, 65.0, 150.0, 139.0, 250.0, 211.0, 60.0, 70.0, 250.0, 200.0, 120.0, 129.0, 250.0, 250.0, 75.0, 205.0, 50.0, 137.0, 120.0, 45.0, 93.0, 55.0, 89.0, 130.0, 285.0, 100.0, 160.0, 285.0, 175.0, 160.0, 219.0, 260.0, 85.0, 79.0, 300.0, 103.0, 105.0, 150.0, 180.0, 190.0, 90.0, 51.0, 150.0, 150.0, 250.0, 65.0, 110.0, 65.0, 200.0, 120.0, 120.0, 95.0, 156.0, 185.0, 80.0, 74.0, 75.0, 62.0, 95.0, 46.0, 125.0, 100.0, 70.0, 108.0, 115.0, 275.0, 75.0, 40.0, 61.0, 60.0, 50.0, 78.0, 150.0, 90.0, 70.0, 42.0, 49.0, 300.0, 80.0, 70.0, 54.0, 80.0, 55.0, 70.0, 105.0, 270.0, 45.0, 143.0, 75.0, 150.0, 145.0, 69.0, 175.0, 56.0, 70.0, 68.0, 125.0, 225.0, 100.0, 55.0, 55.0, 80.0, 92.0, 280.0, 90.0, 175.0, 250.0, 200.0, 40.0, 180.0, 60.0, 275.0, 175.0, 65.0, 75.0, 300.0, 205.0, 175.0, 70.0, 299.0, 99.0, 55.0, 250.0, 61.0, 70.0, 300.0, 46.0, 132.0, 50.0, 79.0, 60.0, 68.0, 275.0, 110.0, 83.0, 162.0, 166.0, 229.0, 60.0, 60.0, 80.0, 45.0, 50.0, 188.0, 45.0, 75.0, 150.0, 50.0, 299.0, 66.0, 100.0, 98.0, 150.0, 300.0, 55.0, 200.0, 80.0, 60.0, 55.0, 199.0, 109.0, 290.0, 33.0, 60.0, 40.0, 129.0, 130.0, 160.0, 195.0, 213.0, 60.0, 31.0, 59.0, 175.0, 74.0, 174.0, 285.0, 78.0, 80.0, 239.0, 95.0, 53.0, 45.0, 200.0, 152.0, 265.0, 90.0, 65.0, 65.0, 179.0, 85.0, 49.0, 220.0, 89.0, 180.0, 37.0, 65.0, 45.0, 120.0, 110.0, 50.0, 70.0, 105.0, 90.0, 250.0, 49.0, 176.0, 68.0, 240.0, 129.0, 185.0, 80.0, 83.0, 80.0, 225.0, 60.0, 70.0, 63.0, 115.0, 65.0, 60.0, 155.0, 146.0, 39.0, 80.0, 76.0, 125.0, 300.0, 135.0, 69.0, 36.0, 40.0, 135.0, 99.0, 145.0, 75.0, 119.0, 212.0, 80.0, 55.0, 69.0, 195.0, 100.0, 55.0, 80.0, 275.0, 110.0, 165.0, 80.0, 54.0, 85.0, 67.0, 75.0, 31.0, 75.0, 195.0, 200.0, 214.0, 75.0, 41.0, 65.0, 70.0, 143.0, 84.0, 60.0, 46.0, 110.0, 70.0, 116.0, 55.0, 190.0, 100.0, 75.0, 115.0, 58.0, 130.0, 90.0, 200.0, 65.0, 43.0, 55.0, 95.0, 101.0, 145.0, 95.0, 160.0, 50.0, 55.0, 66.0, 77.0, 220.0, 160.0, 55.0, 160.0, 228.0, 70.0, 55.0, 49.0, 85.0, 185.0, 200.0, 58.0, 70.0, 50.0, 300.0, 109.0, 150.0, 250.0, 100.0, 28.0, 101.0, 35.0, 105.0, 95.0, 150.0, 65.0, 55.0, 150.0, 95.0, 160.0, 95.0, 300.0, 80.0, 40.0, 85.0, 72.0, 210.0, 200.0, 47.0, 280.0, 50.0, 275.0, 120.0, 60.0, 100.0, 200.0, 150.0, 31.0, 68.0, 37.0, 200.0, 75.0, 60.0, 70.0, 199.0, 189.0, 50.0, 54.0, 110.0, 140.0, 99.0, 35.0, 184.0, 35.0, 250.0, 171.0, 100.0, 50.0, 195.0, 75.0, 275.0, 180.0, 100.0, 45.0, 134.0, 78.0, 189.0, 100.0, 75.0, 250.0, 120.0, 70.0, 59.0, 120.0, 65.0, 97.0, 26.0, 150.0, 80.0, 65.0, 250.0, 133.0, 100.0, 120.0, 83.0, 300.0, 65.0, 73.0, 240.0, 50.0, 51.0, 200.0, 180.0, 61.0, 130.0, 121.0, 30.0, 28.0, 85.0, 75.0, 91.0, 125.0, 65.0, 100.0, 100.0, 24.0, 125.0, 175.0, 56.0, 180.0, 129.0, 144.0, 98.0, 130.0, 125.0, 62.0, 90.0, 45.0, 75.0, 56.0, 50.0, 258.0, 75.0, 60.0, 52.0, 124.0, 89.0, 100.0, 70.0, 200.0, 300.0, 120.0, 115.0, 50.0, 90.0, 225.0, 65.0, 60.0, 75.0, 100.0, 100.0, 110.0, 150.0, 40.0, 70.0, 85.0, 150.0, 119.0, 77.0, 200.0, 45.0, 70.0, 175.0, 230.0, 113.0, 49.0, 100.0, 140.0, 57.0, 59.0, 69.0, 112.0, 165.0, 185.0, 37.0, 100.0, 80.0, 85.0, 80.0, 195.0, 200.0, 50.0, 30.0, 85.0, 125.0, 50.0, 199.0, 40.0, 54.0, 85.0, 69.0, 55.0, 150.0, 85.0, 31.0, 69.0, 123.0, 300.0, 197.0, 175.0, 19.0, 130.0, 250.0, 130.0, 95.0, 39.0, 225.0, 50.0, 47.0, 120.0, 275.0, 290.0, 75.0, 150.0, 70.0, 130.0, 125.0, 290.0, 210.0, 129.0, 64.0, 100.0, 60.0, 120.0, 45.0, 53.0, 200.0, 139.0, 101.0, 70.0, 50.0, 70.0, 94.0, 250.0, 60.0, 200.0, 42.0, 65.0, 69.0, 76.0, 200.0, 103.0, 80.0, 80.0, 60.0, 159.0, 50.0, 50.0, 300.0, 150.0, 300.0, 47.0, 200.0, 270.0, 55.0, 30.0, 299.0, 137.0, 101.0, 85.0, 88.0, 44.0, 69.0, 104.0, 49.0, 167.0, 200.0, 50.0, 59.0, 40.0, 60.0, 150.0, 180.0, 89.0, 85.0, 94.0, 70.0, 149.0, 52.0, 55.0, 109.0, 120.0, 160.0, 135.0, 207.0, 50.0, 95.0, 160.0, 180.0, 185.0, 70.0, 100.0, 250.0, 69.0, 100.0, 200.0, 200.0, 200.0, 245.0, 79.0, 175.0, 45.0, 180.0, 50.0, 70.0, 55.0, 99.0, 178.0, 55.0, 124.0, 55.0, 180.0, 300.0, 180.0, 65.0, 60.0, 50.0, 50.0, 150.0, 55.0, 138.0, 120.0, 35.0, 102.0, 125.0, 69.0, 70.0, 70.0, 40.0, 80.0, 200.0, 275.0, 55.0, 50.0, 80.0, 167.0, 199.0, 175.0, 110.0, 90.0, 30.0, 50.0, 107.0, 150.0, 285.0, 89.0, 50.0, 59.0, 175.0, 25.0, 239.0, 43.0, 129.0, 175.0, 50.0, 75.0, 175.0, 50.0, 120.0, 50.0, 50.0, 50.0, 50.0, 38.0, 45.0, 90.0, 90.0, 100.0, 130.0, 97.0, 250.0, 150.0, 50.0, 200.0, 139.0, 80.0, 250.0, 55.0, 250.0, 103.0, 115.0, 90.0, 150.0, 75.0, 120.0, 80.0, 50.0, 100.0, 100.0, 135.0, 199.0, 60.0, 99.0, 195.0, 35.0, 120.0, 59.0, 150.0, 65.0, 70.0, 199.0, 140.0, 65.0, 89.0, 70.0, 154.0, 220.0, 45.0, 59.0, 95.0, 138.0, 112.0, 93.0, 40.0, 70.0, 85.0, 69.0, 105.0, 95.0, 200.0, 120.0, 100.0, 69.0, 90.0, 50.0, 80.0, 110.0, 80.0, 60.0, 155.0, 130.0, 115.0, 150.0, 99.0, 75.0, 150.0, 150.0, 150.0, 55.0, 100.0, 99.0, 148.0, 125.0, 100.0, 40.0, 196.0, 101.0, 37.0, 160.0, 94.0, 250.0, 129.0, 90.0, 97.0, 70.0, 70.0, 115.0, 40.0, 200.0, 87.0, 40.0, 195.0, 58.0, 80.0, 150.0, 175.0, 110.0, 198.0, 42.0, 150.0, 170.0, 120.0, 198.0, 197.0, 67.0, 195.0, 50.0, 85.0, 79.0, 80.0, 169.0, 100.0, 65.0, 150.0, 125.0, 65.0, 195.0, 50.0, 197.0, 175.0, 140.0, 90.0, 80.0, 90.0, 117.0, 43.0, 196.0, 198.0, 35.0, 39.0, 190.0, 39.0, 249.0, 125.0, 37.0, 42.0, 114.0, 179.0, 90.0, 130.0, 179.0, 168.0, 128.0, 64.0, 60.0, 199.0, 175.0, 95.0, 125.0, 45.0, 119.0, 85.0, 150.0, 41.0, 85.0, 39.0, 75.0, 150.0, 271.0, 140.0, 58.0, 100.0, 102.0, 198.0, 101.0, 90.0, 61.0, 65.0, 180.0, 61.0, 166.0, 120.0, 145.0, 145.0, 45.0, 69.0, 65.0, 80.0, 139.0, 30.0, 75.0, 35.0, 100.0, 55.0, 185.0, 131.0, 125.0, 102.0, 200.0, 95.0, 40.0, 85.0, 40.0, 250.0, 69.0, 150.0, 255.0, 191.0, 55.0, 165.0, 150.0, 69.0, 99.0, 85.0, 189.0, 100.0, 80.0, 125.0, 150.0, 69.0, 69.0, 71.0, 41.0, 60.0, 150.0, 52.0, 210.0, 105.0, 80.0, 225.0, 119.0, 120.0, 195.0, 160.0, 60.0, 172.0, 149.0, 46.0, 110.0, 70.0, 150.0, 59.0, 189.0, 197.0, 198.0, 42.0, 119.0, 90.0, 100.0, 70.0, 50.0, 99.0, 55.0, 50.0, 195.0, 60.0, 72.0, 135.0, 64.0, 65.0, 77.0, 40.0, 85.0, 154.0, 80.0, 105.0, 100.0, 70.0, 65.0, 61.0, 175.0, 50.0, 95.0, 70.0, 59.0, 55.0, 31.0, 100.0, 145.0, 99.0, 40.0, 235.0, 69.0, 72.0, 175.0, 179.0, 135.0, 165.0, 295.0, 230.0, 70.0, 54.0, 68.0, 250.0, 200.0, 199.0, 75.0, 150.0, 64.0, 295.0, 125.0, 53.0, 299.0, 125.0, 80.0, 58.0, 50.0, 139.0, 59.0, 149.0, 67.0, 71.0, 60.0, 60.0, 60.0, 149.0, 60.0, 105.0, 261.0, 99.0, 49.0, 79.0, 150.0, 65.0, 75.0, 60.0, 75.0, 180.0, 35.0, 129.0, 66.0, 65.0, 120.0, 200.0, 160.0, 56.0, 127.0, 48.0, 86.0, 100.0, 65.0, 81.0, 88.0, 40.0, 180.0, 105.0, 45.0, 80.0, 125.0, 110.0, 110.0, 37.0, 155.0, 120.0, 85.0, 126.0, 80.0, 80.0, 179.0, 150.0, 70.0, 129.0, 83.0, 130.0, 30.0, 55.0, 55.0, 45.0, 200.0, 80.0, 35.0, 135.0, 99.0, 62.0, 100.0, 24.0, 80.0, 75.0, 60.0, 66.0, 91.0, 250.0, 120.0, 144.0, 127.0, 100.0, 175.0, 90.0, 60.0, 250.0, 70.0, 50.0, 100.0, 175.0, 135.0, 90.0, 150.0, 160.0, 68.0, 80.0, 80.0, 45.0, 47.0, 229.0, 157.0, 96.0, 139.0, 300.0, 59.0, 50.0, 75.0, 70.0, 65.0, 50.0, 40.0, 65.0, 150.0, 45.0, 53.0, 53.0, 53.0, 170.0, 275.0, 125.0, 46.0, 63.0, 60.0, 49.0, 95.0, 196.0, 42.0, 136.0, 100.0, 65.0, 69.0, 69.0, 69.0, 50.0, 75.0, 70.0, 182.0, 39.0, 34.0, 125.0, 105.0, 100.0, 130.0, 72.0, 300.0, 263.0, 100.0, 55.0, 46.0, 113.0, 150.0, 45.0, 75.0, 129.0, 75.0, 165.0, 150.0, 63.0, 124.0, 120.0, 125.0, 36.0, 30.0, 181.0, 50.0, 39.0, 70.0, 150.0, 100.0, 180.0, 45.0, 89.0, 45.0, 85.0, 66.0, 99.0, 66.0, 110.0, 105.0, 100.0, 75.0, 225.0, 105.0, 130.0, 59.0, 115.0, 57.0, 45.0, 99.0, 275.0, 68.0, 100.0, 135.0, 150.0, 60.0, 90.0, 126.0, 89.0, 99.0, 200.0, 70.0, 70.0, 118.0, 75.0, 132.0, 55.0, 199.0, 99.0, 65.0, 100.0, 55.0, 200.0, 110.0, 92.0, 39.0, 150.0, 75.0, 89.0, 60.0, 70.0, 90.0, 100.0, 75.0, 150.0, 120.0, 95.0, 115.0, 150.0, 125.0, 40.0, 165.0, 175.0, 250.0, 55.0, 130.0, 65.0, 35.0, 110.0, 46.0, 175.0, 70.0, 50.0, 90.0, 49.0, 85.0, 60.0, 130.0, 300.0, 150.0, 58.0, 90.0, 100.0, 200.0, 95.0, 134.0, 54.0, 82.0, 169.0, 45.0, 75.0, 75.0, 21.0, 250.0, 33.0, 76.0, 64.0, 99.0, 165.0, 130.0, 35.0, 250.0, 50.0, 149.0, 120.0, 60.0, 110.0, 100.0, 75.0, 99.0, 165.0, 80.0, 33.0, 113.0, 68.0, 45.0, 114.0, 149.0, 20.0, 36.0, 90.0, 68.0, 30.0, 35.0, 80.0, 132.0, 40.0, 275.0, 40.0, 117.0, 55.0, 225.0, 164.0, 116.0, 199.0, 60.0, 150.0, 120.0, 85.0, 300.0, 200.0, 149.0, 40.0, 34.0, 56.0, 195.0, 150.0, 70.0, 50.0, 257.0, 150.0, 150.0, 57.0, 34.0, 175.0, 40.0, 87.0, 75.0, 55.0, 55.0, 140.0, 64.0, 120.0, 90.0, 160.0, 126.0, 99.0, 65.0, 35.0, 39.0, 76.0, 125.0, 110.0, 175.0, 61.0, 39.0, 33.0, 64.0, 90.0, 125.0, 125.0, 60.0, 145.0, 85.0, 65.0, 66.0, 100.0, 150.0, 50.0, 250.0, 115.0, 300.0, 145.0, 50.0, 56.0, 59.0, 150.0, 39.0, 174.0, 27.0, 126.0, 150.0, 48.0, 200.0, 148.0, 48.0, 53.0, 50.0, 75.0, 133.0, 200.0, 45.0, 70.0, 183.0, 60.0, 98.0, 121.0, 85.0, 120.0, 85.0, 110.0, 50.0, 70.0, 70.0, 93.0, 109.0, 103.0, 50.0, 200.0, 119.0, 200.0, 145.0, 86.0, 100.0, 300.0, 150.0, 132.0, 100.0, 40.0, 125.0, 113.0, 150.0, 67.0, 64.0, 129.0, 125.0, 45.0, 80.0, 85.0, 50.0, 75.0, 199.0, 33.0, 90.0, 150.0, 50.0, 50.0, 55.0, 139.0, 120.0, 120.0, 70.0, 75.0, 75.0, 140.0, 66.0, 30.0, 170.0, 69.0, 168.0, 195.0, 250.0, 55.0, 76.0, 90.0, 75.0, 28.0, 70.0, 145.0, 145.0, 125.0, 275.0, 44.0, 60.0, 100.0, 56.0, 30.0, 55.0, 34.0, 45.0, 99.0, 50.0, 160.0, 65.0, 79.0, 35.0, 40.0, 68.0, 116.0, 175.0, 104.0, 200.0, 58.0, 199.0, 41.0, 89.0, 160.0, 74.0, 75.0, 45.0, 99.0, 40.0, 72.0, 70.0, 70.0, 60.0, 114.0, 190.0, 220.0, 150.0, 31.0, 110.0, 120.0, 217.0, 70.0, 199.0, 100.0, 70.0, 65.0, 60.0, 70.0, 150.0, 55.0, 250.0, 90.0, 119.0, 45.0, 75.0, 165.0, 107.0, 175.0, 80.0, 43.0, 99.0, 120.0, 32.0, 100.0, 49.0, 108.0, 50.0, 99.0, 60.0, 100.0, 90.0, 221.0, 250.0, 65.0, 130.0, 68.0, 275.0, 29.0, 100.0, 219.0, 85.0, 90.0, 168.0, 70.0, 89.0, 160.0, 87.0, 299.0, 76.0, 60.0, 100.0, 250.0, 250.0, 170.0, 100.0, 286.0, 135.0, 125.0, 129.0, 38.0, 60.0, 190.0, 75.0, 130.0, 55.0, 200.0, 100.0, 139.0, 150.0, 80.0, 133.0, 100.0, 70.0, 193.0, 75.0, 200.0, 85.0, 65.0, 65.0, 120.0, 60.0, 55.0, 130.0, 75.0, 59.0, 200.0, 158.0, 35.0, 74.0, 138.0, 90.0, 225.0, 100.0, 140.0, 40.0, 100.0, 80.0, 200.0, 68.0, 93.0, 50.0, 125.0, 109.0, 60.0, 129.0, 79.0, 53.0, 110.0, 115.0, 295.0, 110.0, 215.0, 95.0, 83.0, 220.0, 80.0, 83.0, 100.0, 150.0, 65.0, 49.0, 80.0, 59.0, 99.0, 200.0, 50.0, 229.0, 175.0, 63.0, 185.0, 89.0, 175.0, 99.0, 46.0, 86.0, 69.0, 100.0, 67.0, 123.0, 39.0, 69.0, 189.0, 92.0, 200.0, 165.0, 130.0, 199.0, 159.0, 133.0, 75.0, 65.0, 79.0, 155.0, 190.0, 60.0, 89.0, 171.0, 150.0, 49.0, 90.0, 105.0, 150.0, 50.0, 200.0, 26.0, 75.0, 120.0, 120.0, 100.0, 38.0, 37.0, 120.0, 117.0, 70.0, 100.0, 80.0, 35.0, 99.0, 80.0, 149.0, 46.0, 100.0, 130.0, 110.0, 150.0, 99.0, 95.0, 99.0, 67.0, 115.0, 190.0, 100.0, 95.0, 150.0, 65.0, 55.0, 60.0, 142.0, 79.0, 150.0, 133.0, 75.0, 55.0, 150.0, 124.0, 150.0, 105.0, 90.0, 220.0, 165.0, 68.0, 85.0, 195.0, 43.0, 50.0, 100.0, 150.0, 58.0, 55.0, 86.0, 90.0, 90.0, 98.0, 199.0, 114.0, 101.0, 120.0, 65.0, 159.0, 54.0, 54.0, 54.0, 250.0, 120.0, 70.0, 65.0, 150.0, 43.0, 70.0, 65.0, 100.0, 142.0, 29.0, 60.0, 133.0, 119.0, 89.0, 200.0, 116.0, 40.0, 100.0, 100.0, 115.0, 70.0, 74.0, 149.0, 75.0, 69.0, 50.0, 85.0, 68.0, 150.0, 133.0, 80.0, 229.0, 110.0, 140.0, 79.0, 75.0, 195.0, 119.0, 35.0, 45.0, 245.0, 50.0, 95.0, 60.0, 200.0, 290.0, 65.0, 70.0, 65.0, 165.0, 51.0, 160.0, 60.0, 95.0, 166.0, 99.0, 120.0, 35.0, 170.0, 60.0, 85.0, 90.0, 60.0, 148.0, 140.0, 250.0, 92.0, 69.0, 40.0, 85.0, 55.0, 125.0, 242.0, 98.0, 105.0, 68.0, 40.0, 78.0, 45.0, 85.0, 138.0, 160.0, 116.0, 120.0, 69.0, 43.0, 75.0, 40.0, 115.0, 50.0, 38.0, 49.0, 189.0, 189.0, 189.0, 80.0, 80.0, 240.0, 40.0, 200.0, 165.0, 76.0, 110.0, 207.0, 46.0, 99.0, 93.0, 180.0, 70.0, 150.0, 82.0, 42.0, 223.0, 71.0, 97.0, 65.0, 50.0, 62.0, 73.0, 249.0, 85.0, 150.0, 41.0, 90.0, 150.0, 140.0, 89.0, 155.0, 75.0, 120.0, 90.0, 50.0, 175.0, 215.0, 84.0, 79.0, 40.0, 126.0, 34.0, 47.0, 37.0, 100.0, 53.0, 200.0, 140.0, 239.0, 56.0, 189.0, 45.0, 175.0, 43.0, 189.0, 160.0, 175.0, 65.0, 79.0, 81.0, 90.0, 165.0, 198.0, 70.0, 65.0, 56.0, 55.0, 65.0, 55.0, 78.0, 89.0, 75.0, 75.0, 300.0, 125.0, 77.0, 59.0, 225.0, 63.0, 188.0, 55.0, 60.0, 175.0, 100.0, 89.0, 40.0, 55.0, 175.0, 45.0, 144.0, 40.0, 250.0, 45.0, 80.0, 159.0, 125.0, 85.0, 145.0, 125.0, 68.0, 52.0, 150.0, 95.0, 100.0, 115.0, 95.0, 84.0, 75.0, 115.0, 75.0, 95.0, 62.0, 45.0, 57.0, 120.0, 200.0, 49.0, 96.0, 67.0, 85.0, 75.0, 200.0, 80.0, 154.0, 99.0, 150.0, 105.0, 68.0, 110.0, 140.0, 175.0, 50.0, 22.0, 55.0, 85.0, 100.0, 45.0, 50.0, 150.0, 68.0, 79.0, 35.0, 120.0, 50.0, 87.0, 78.0, 52.0, 65.0, 160.0, 100.0, 128.0, 62.0, 244.0, 109.0, 90.0, 160.0, 168.0, 115.0, 80.0, 35.0, 50.0, 40.0, 65.0, 189.0, 140.0, 90.0, 300.0, 99.0, 198.0, 225.0, 80.0, 61.0, 45.0, 250.0, 74.0, 42.0, 194.0, 28.0, 215.0, 80.0, 119.0, 191.0, 199.0, 55.0, 90.0, 73.0, 105.0, 70.0, 120.0, 75.0, 45.0, 50.0, 115.0, 45.0, 76.0, 80.0, 199.0, 191.0, 200.0, 245.0, 189.0, 300.0, 75.0, 200.0, 60.0, 93.0, 45.0, 80.0, 133.0, 220.0, 235.0, 66.0, 80.0, 40.0, 34.0, 89.0, 200.0, 115.0, 60.0, 70.0, 68.0, 59.0, 65.0, 50.0, 120.0, 125.0, 125.0, 197.0, 150.0, 73.0, 45.0, 66.0, 150.0, 50.0, 185.0, 105.0, 80.0, 120.0, 90.0, 100.0, 100.0, 68.0, 100.0, 290.0, 150.0, 73.0, 150.0, 25.0, 120.0, 150.0, 60.0, 220.0, 58.0, 150.0, 120.0, 45.0, 70.0, 70.0, 56.0, 50.0, 156.0, 105.0, 155.0, 100.0, 125.0, 175.0, 99.0, 150.0, 285.0, 70.0, 150.0, 65.0, 200.0, 150.0, 80.0, 159.0, 180.0, 189.0, 52.0, 130.0, 65.0, 60.0, 100.0, 120.0, 40.0, 85.0, 127.0, 175.0, 190.0, 40.0, 120.0, 75.0, 60.0, 100.0, 65.0, 45.0, 200.0, 60.0, 199.0, 100.0, 73.0, 106.0, 150.0, 100.0, 150.0, 35.0, 53.0, 80.0, 46.0, 41.0, 98.0, 249.0, 200.0, 50.0, 210.0, 221.0, 48.0, 60.0, 155.0, 160.0, 225.0, 50.0, 65.0, 283.0, 99.0, 85.0, 40.0, 180.0, 300.0, 60.0, 60.0, 150.0, 90.0, 40.0, 62.0, 39.0, 65.0, 50.0, 110.0, 75.0, 200.0, 175.0, 195.0, 30.0, 45.0, 100.0, 65.0, 75.0, 90.0, 130.0, 300.0, 80.0, 45.0, 69.0, 75.0, 155.0, 115.0, 50.0, 69.0, 150.0, 60.0, 215.0, 100.0, 59.0, 139.0, 60.0, 121.0, 105.0, 70.0, 80.0, 50.0, 50.0, 100.0, 37.0, 250.0, 38.0, 107.0, 125.0, 175.0, 87.0, 40.0, 59.0, 40.0, 250.0, 86.0, 35.0, 45.0, 50.0, 140.0, 45.0, 93.0, 140.0, 139.0, 150.0, 39.0, 117.0, 45.0, 38.0, 100.0, 85.0, 50.0, 60.0, 60.0, 70.0, 63.0, 80.0, 50.0, 229.0, 45.0, 45.0, 78.0, 34.0, 35.0, 140.0, 76.0, 50.0, 100.0, 76.0, 78.0, 99.0, 40.0, 180.0, 80.0, 49.0, 80.0, 55.0, 114.0, 42.0, 120.0, 140.0, 75.0, 85.0, 100.0, 175.0, 150.0, 35.0, 44.0, 104.0, 129.0, 100.0, 232.0, 48.0, 175.0, 59.0, 175.0, 84.0, 135.0, 99.0, 125.0, 59.0, 80.0, 83.0, 125.0, 110.0, 145.0, 104.0, 195.0, 200.0, 90.0, 95.0, 160.0, 150.0, 199.0, 55.0, 70.0, 118.0, 104.0, 122.0, 126.0, 144.0, 129.0, 35.0, 220.0, 94.0, 42.0, 225.0, 220.0, 90.0, 49.0, 250.0, 80.0, 133.0, 42.0, 154.0, 155.0, 150.0, 125.0, 60.0, 100.0, 63.0, 186.0, 58.0, 35.0, 150.0, 163.0, 80.0, 85.0, 40.0, 30.0, 180.0, 85.0, 33.0, 95.0, 139.0, 175.0, 70.0, 49.0, 300.0, 196.0, 125.0, 250.0, 150.0, 75.0, 300.0, 300.0, 50.0, 110.0, 205.0, 35.0, 40.0, 299.0, 95.0, 80.0, 119.0, 45.0, 179.0, 90.0, 140.0, 59.0, 202.0, 165.0, 75.0, 156.0, 70.0, 297.0, 160.0, 180.0, 48.0, 50.0, 293.0, 229.0, 30.0, 45.0, 34.0, 100.0, 150.0, 60.0, 69.0, 34.0, 125.0, 165.0, 39.0, 65.0, 70.0, 68.0, 220.0, 225.0, 75.0, 110.0, 59.0, 59.0, 61.0, 55.0, 80.0, 41.0, 79.0, 55.0, 30.0, 90.0, 300.0, 40.0, 65.0, 50.0, 45.0, 110.0, 45.0, 42.0, 100.0, 47.0, 250.0, 100.0, 100.0, 35.0, 49.0, 63.0, 74.0, 100.0, 170.0, 65.0, 68.0, 104.0, 85.0, 120.0, 205.0, 120.0, 140.0, 202.0, 200.0, 150.0, 275.0, 72.0, 87.0, 248.0, 160.0, 75.0, 225.0, 125.0, 193.0, 195.0, 49.0, 230.0, 55.0, 85.0, 100.0, 178.0, 153.0, 180.0, 80.0, 250.0, 60.0, 155.0, 90.0, 103.0, 160.0, 110.0, 157.0, 30.0, 295.0, 64.0, 75.0, 90.0, 52.0, 100.0, 100.0, 200.0, 46.0, 60.0, 56.0, 100.0, 40.0, 110.0, 110.0, 165.0, 181.0, 65.0, 146.0, 120.0, 140.0, 40.0, 52.0, 115.0, 50.0, 100.0, 55.0, 199.0, 90.0, 92.0, 169.0, 239.0, 90.0, 195.0, 40.0, 275.0, 110.0, 92.0, 99.0, 40.0, 110.0, 53.0, 87.0, 147.0, 106.0, 100.0, 120.0, 119.0, 173.0, 145.0, 69.0, 50.0, 35.0, 175.0, 228.0, 190.0, 294.0, 79.0, 250.0, 100.0, 53.0, 206.0, 40.0, 105.0, 50.0, 135.0, 60.0, 80.0, 80.0, 165.0, 185.0, 250.0, 100.0, 100.0, 90.0, 75.0, 90.0, 70.0, 67.0, 75.0, 19.0, 145.0, 50.0, 120.0, 149.0, 75.0, 50.0, 185.0, 120.0, 100.0, 202.0, 70.0, 90.0, 50.0, 135.0, 175.0, 175.0, 269.0, 40.0, 83.0, 200.0, 234.0, 125.0, 85.0, 300.0, 80.0, 66.0, 200.0, 105.0, 70.0, 120.0, 60.0, 150.0, 65.0, 50.0, 117.0, 200.0, 182.0, 139.0, 35.0, 60.0, 88.0, 99.0, 48.0, 95.0, 65.0, 50.0, 36.0, 100.0, 40.0, 165.0, 154.0, 91.0, 50.0, 75.0, 60.0, 131.0, 250.0, 150.0, 85.0, 44.0, 75.0, 105.0, 48.0, 275.0, 90.0, 52.0, 99.0, 72.0, 95.0, 36.0, 75.0, 59.0, 40.0, 140.0, 210.0, 60.0, 52.0, 149.0, 90.0, 170.0, 80.0, 45.0, 60.0, 160.0, 85.0, 79.0, 133.0, 40.0, 249.0, 70.0, 50.0, 150.0, 80.0, 39.0, 100.0, 89.0, 60.0, 50.0, 100.0, 75.0, 42.0, 180.0, 45.0, 145.0, 68.0, 90.0, 150.0, 82.0, 60.0, 95.0, 60.0, 35.0, 100.0, 50.0, 117.0, 36.0, 113.0, 113.0, 45.0, 125.0, 113.0, 149.0, 100.0, 150.0, 30.0, 200.0, 189.0, 80.0, 250.0, 133.0, 68.0, 63.0, 135.0, 175.0, 96.0, 90.0, 39.0, 91.0, 150.0, 150.0, 50.0, 80.0, 225.0, 80.0, 79.0, 110.0, 38.0, 109.0, 180.0, 120.0, 140.0, 159.0, 65.0, 199.0, 75.0, 46.0, 40.0, 144.0, 199.0, 181.0, 40.0, 75.0, 150.0, 150.0, 75.0, 179.0, 25.0, 100.0, 85.0, 205.0, 70.0, 100.0, 200.0, 85.0, 55.0, 200.0, 140.0, 70.0, 180.0, 199.0, 34.0, 240.0, 150.0, 149.0, 171.0, 180.0, 250.0, 160.0, 50.0, 100.0, 60.0, 60.0, 110.0, 118.0, 97.0, 47.0, 74.0, 199.0, 129.0, 236.0, 77.0, 75.0, 93.0, 150.0, 95.0, 100.0, 90.0, 65.0, 90.0, 199.0, 143.0, 105.0, 128.0, 110.0, 89.0, 35.0, 63.0, 90.0, 40.0, 75.0, 200.0, 115.0, 100.0, 289.0, 185.0, 180.0, 150.0, 75.0, 64.0, 167.0, 70.0, 143.0, 150.0, 95.0, 99.0, 175.0, 175.0, 37.0, 229.0, 85.0, 100.0, 239.0, 229.0, 180.0, 229.0, 229.0, 229.0, 65.0, 243.0, 229.0, 100.0, 95.0, 104.0, 107.0, 102.0, 41.0, 66.0, 70.0, 62.0, 80.0, 90.0, 125.0, 225.0, 240.0, 75.0, 45.0, 90.0, 76.0, 149.0, 50.0, 105.0, 228.0, 35.0, 195.0, 165.0, 249.0, 125.0, 99.0, 150.0, 40.0, 102.0, 85.0, 195.0, 150.0, 125.0, 29.0, 40.0, 74.0, 175.0, 45.0, 85.0, 149.0, 58.0, 75.0, 180.0, 85.0, 48.0, 80.0, 85.0, 60.0, 120.0, 80.0, 200.0, 75.0, 125.0, 50.0, 175.0, 142.0, 193.0, 169.0, 120.0, 75.0, 65.0, 191.0, 75.0, 57.0, 75.0, 100.0, 68.0, 75.0, 98.0, 40.0, 240.0, 100.0, 300.0, 95.0, 300.0, 200.0, 95.0, 150.0, 95.0, 50.0, 55.0, 120.0, 150.0, 150.0, 130.0, 90.0, 130.0, 187.0, 18.0, 61.0, 80.0, 120.0, 50.0, 44.0, 250.0, 70.0, 179.0, 55.0, 161.0, 60.0, 75.0, 150.0, 75.0, 70.0, 219.0, 68.0, 199.0, 72.0, 72.0, 115.0, 45.0, 68.0, 300.0, 36.0, 50.0, 165.0, 115.0, 250.0, 98.0, 150.0, 130.0, 129.0, 250.0, 69.0, 65.0, 110.0, 270.0, 100.0, 105.0, 40.0, 125.0, 92.0, 92.0, 185.0, 65.0, 199.0, 50.0, 140.0, 200.0, 160.0, 152.0, 40.0, 110.0, 72.0, 40.0, 175.0, 90.0, 60.0, 300.0, 95.0, 50.0, 68.0, 150.0, 250.0, 89.0, 259.0, 85.0, 66.0, 99.0, 44.0, 100.0, 106.0, 115.0, 240.0, 70.0, 179.0, 99.0, 88.0, 128.0, 65.0, 170.0, 70.0, 35.0, 75.0, 90.0, 53.0, 90.0, 50.0, 200.0, 98.0, 135.0, 250.0, 95.0, 99.0, 150.0, 72.0, 42.0, 127.0, 145.0, 220.0, 160.0, 75.0, 259.0, 133.0, 54.0, 90.0, 45.0, 256.0, 60.0, 125.0, 80.0, 129.0, 75.0, 75.0, 90.0, 160.0, 80.0, 110.0, 115.0, 75.0, 121.0, 90.0, 83.0, 185.0, 120.0, 62.0, 50.0, 55.0, 159.0, 60.0, 39.0, 123.0, 90.0, 180.0, 165.0, 36.0, 176.0, 150.0, 50.0, 200.0, 100.0, 65.0, 99.0, 123.0, 220.0, 68.0, 79.0, 25.0, 57.0, 100.0, 62.0, 199.0, 140.0, 85.0, 65.0, 120.0, 275.0, 111.0, 60.0, 79.0, 200.0, 150.0, 70.0, 63.0, 100.0, 108.0, 49.0, 90.0, 90.0, 225.0, 66.0, 125.0, 170.0, 140.0, 155.0, 119.0, 85.0, 27.0, 100.0, 100.0, 115.0, 45.0, 65.0, 77.0, 195.0, 100.0, 135.0, 150.0, 210.0, 125.0, 110.0, 85.0, 38.0, 77.0, 89.0, 90.0, 102.0, 96.0, 65.0, 50.0, 75.0, 200.0, 105.0, 36.0, 75.0, 30.0, 120.0, 70.0, 60.0, 193.0, 239.0, 30.0, 65.0, 48.0, 45.0, 45.0, 38.0, 60.0, 38.0, 165.0, 65.0, 45.0, 150.0, 75.0, 25.0, 102.0, 75.0, 135.0, 199.0, 39.0, 60.0, 83.0, 60.0, 53.0, 55.0, 50.0, 65.0, 40.0, 270.0, 33.0, 85.0, 101.0, 65.0, 119.0, 49.0, 57.0, 30.0, 38.0, 55.0, 214.0, 125.0, 57.0, 109.0, 55.0, 300.0, 29.0, 110.0, 95.0, 150.0, 140.0, 165.0, 150.0, 71.0, 125.0, 150.0, 105.0, 100.0, 130.0, 86.0, 68.0, 125.0, 150.0, 300.0, 102.0, 120.0, 110.0, 240.0, 99.0, 80.0, 300.0, 22.0, 125.0, 50.0, 25.0, 50.0, 192.0, 75.0, 108.0, 40.0, 42.0, 50.0, 119.0, 95.0, 179.0, 263.0, 140.0, 99.0, 55.0, 108.0, 45.0, 60.0, 77.0, 55.0, 175.0, 45.0, 200.0, 69.0, 34.0, 300.0, 38.0, 99.0, 62.0, 50.0, 165.0, 150.0, 60.0, 140.0, 120.0, 37.0, 159.0, 35.0, 215.0, 115.0, 99.0, 85.0, 70.0, 100.0, 65.0, 161.0, 44.0, 250.0, 75.0, 120.0, 42.0, 30.0, 102.0, 80.0, 45.0, 50.0, 35.0, 50.0, 53.0, 53.0, 114.0, 90.0, 100.0, 150.0, 99.0, 55.0, 90.0, 199.0, 125.0, 85.0, 42.0, 99.0, 45.0, 90.0, 239.0, 99.0, 299.0, 68.0, 99.0, 66.0, 35.0, 55.0, 175.0, 60.0, 59.0, 135.0, 117.0, 46.0, 125.0, 79.0, 80.0, 90.0, 175.0, 109.0, 65.0, 64.0, 26.0, 69.0, 37.0, 195.0, 115.0, 60.0, 139.0, 107.0, 65.0, 55.0, 45.0, 150.0, 161.0, 69.0, 55.0, 215.0, 40.0, 50.0, 79.0, 53.0, 86.0, 94.0, 110.0, 80.0, 105.0, 75.0, 189.0, 120.0, 68.0, 129.0, 40.0, 42.0, 95.0, 66.0, 70.0, 239.0, 135.0, 130.0, 68.0, 249.0, 176.0, 99.0, 100.0, 43.0, 45.0, 55.0, 106.0, 80.0, 175.0, 80.0, 53.0, 185.0, 69.0, 27.0, 44.0, 240.0, 54.0, 282.0, 250.0, 90.0, 110.0, 115.0, 60.0, 55.0, 165.0, 100.0, 99.0, 90.0, 179.0, 95.0, 90.0, 90.0, 100.0, 263.0, 129.0, 85.0, 100.0, 265.0, 90.0, 85.0, 38.0, 150.0, 75.0, 70.0, 80.0, 179.0, 150.0, 150.0, 93.0, 43.0, 179.0, 40.0, 50.0, 191.0, 190.0, 65.0, 42.0, 48.0, 132.0, 44.0, 52.0, 65.0, 90.0, 160.0, 32.0, 43.0, 89.0, 295.0, 38.0, 60.0, 70.0, 71.0, 153.0, 50.0, 175.0, 69.0, 150.0, 85.0, 160.0, 100.0, 100.0, 48.0, 55.0, 120.0, 130.0, 98.0, 92.0, 74.0, 67.0, 135.0, 65.0, 230.0, 70.0, 63.0, 100.0, 80.0, 120.0, 85.0, 130.0, 37.0, 149.0, 53.0, 150.0, 21.0, 210.0, 129.0, 60.0, 71.0, 192.0, 190.0, 65.0, 150.0, 238.0, 125.0, 103.0, 50.0, 40.0, 44.0, 200.0, 100.0, 33.0, 212.0, 92.0, 150.0, 72.0, 120.0, 103.0, 95.0, 90.0, 75.0, 108.0, 165.0, 250.0, 63.0, 55.0, 256.0, 135.0, 121.0, 95.0, 277.0, 150.0, 175.0, 48.0, 152.0, 249.0, 53.0, 159.0, 50.0, 135.0, 75.0, 60.0, 99.0, 85.0, 115.0, 125.0, 165.0, 151.0, 57.0, 90.0, 30.0, 70.0, 139.0, 50.0, 75.0, 48.0, 150.0, 95.0, 126.0, 100.0, 55.0, 62.0, 80.0, 225.0, 60.0, 54.0, 200.0, 200.0, 30.0, 65.0, 185.0, 83.0, 55.0, 90.0, 85.0, 110.0, 55.0, 294.0, 50.0, 100.0, 65.0, 35.0, 200.0, 90.0, 75.0, 55.0, 108.0, 125.0, 81.0, 40.0, 135.0, 180.0, 102.0, 150.0, 58.0, 150.0, 40.0, 71.0, 186.0, 50.0, 140.0, 152.0, 70.0, 95.0, 150.0, 100.0, 130.0, 229.0, 82.0, 95.0, 120.0, 59.0, 140.0, 200.0, 95.0, 50.0, 175.0, 60.0, 60.0, 130.0, 65.0, 150.0, 60.0, 110.0, 140.0, 45.0, 55.0, 55.0, 75.0, 73.0, 225.0, 35.0, 120.0, 128.0, 100.0, 200.0, 135.0, 147.0, 145.0, 150.0, 165.0, 114.0, 95.0, 59.0, 175.0, 35.0, 149.0, 250.0, 100.0, 149.0, 35.0, 99.0, 84.0, 86.0, 150.0, 39.0, 45.0, 195.0, 150.0, 95.0, 74.0, 48.0, 70.0, 120.0, 200.0, 250.0, 60.0, 219.0, 85.0, 159.0, 125.0, 51.0, 215.0, 159.0, 117.0, 175.0, 60.0, 49.0, 38.0, 175.0, 130.0, 68.0, 65.0, 149.0, 85.0, 60.0, 168.0, 86.0, 175.0, 150.0, 135.0, 75.0, 85.0, 85.0, 250.0, 160.0, 119.0, 115.0, 85.0, 56.0, 67.0, 254.0, 75.0, 132.0, 55.0, 115.0, 108.0, 35.0, 100.0, 99.0, 35.0, 63.0, 50.0, 55.0, 100.0, 78.0, 40.0, 75.0, 120.0, 200.0, 60.0, 102.0, 99.0, 84.0, 30.0, 80.0, 150.0, 155.0, 109.0, 42.0, 52.0, 90.0, 50.0, 30.0, 68.0, 40.0, 153.0, 40.0, 51.0, 45.0, 50.0, 222.0, 50.0, 159.0, 199.0, 160.0, 52.0, 100.0, 33.0, 106.0, 40.0, 80.0, 60.0, 75.0, 99.0, 57.0, 45.0, 63.0, 170.0, 49.0, 99.0, 95.0, 300.0, 198.0, 99.0, 227.0, 150.0, 149.0, 95.0, 73.0, 105.0, 60.0, 45.0, 295.0, 71.0, 135.0, 60.0, 42.0, 100.0, 120.0, 160.0, 75.0, 64.0, 120.0, 120.0, 100.0, 72.0, 95.0, 46.0, 46.0, 90.0, 111.0, 175.0, 140.0, 73.0, 109.0, 113.0, 106.0, 76.0, 105.0, 76.0, 99.0, 250.0, 55.0, 165.0, 40.0, 60.0, 70.0, 247.0, 149.0, 135.0, 75.0, 100.0, 142.0, 208.0, 135.0, 56.0, 55.0, 65.0, 55.0, 55.0, 95.0, 175.0, 300.0, 40.0, 225.0, 275.0, 212.0, 225.0, 150.0, 50.0, 50.0, 62.0, 110.0, 56.0, 149.0, 110.0, 169.0, 45.0, 128.0, 50.0, 68.0, 279.0, 64.0, 60.0, 99.0, 100.0, 219.0, 90.0, 70.0, 70.0, 95.0, 40.0, 226.0, 200.0, 120.0, 165.0, 55.0, 80.0, 147.0, 66.0, 59.0, 120.0, 281.0, 57.0, 54.0, 50.0, 70.0, 300.0, 60.0, 150.0, 80.0, 81.0, 60.0, 150.0, 45.0, 50.0, 75.0, 70.0, 55.0, 45.0, 50.0, 60.0, 65.0, 150.0, 56.0, 40.0, 40.0, 43.0, 36.0, 200.0, 54.0, 106.0, 59.0, 225.0, 65.0, 215.0, 50.0, 54.0, 81.0, 64.0, 57.0, 75.0, 100.0, 95.0, 84.0, 52.0, 119.0, 60.0, 65.0, 200.0, 250.0, 55.0, 185.0, 60.0, 35.0, 90.0, 100.0, 127.0, 203.0, 80.0, 103.0, 194.0, 115.0, 150.0, 249.0, 80.0, 69.0, 45.0, 180.0, 300.0, 140.0, 45.0, 107.0, 30.0, 62.0, 135.0, 69.0, 120.0, 70.0, 84.0, 90.0, 140.0, 130.0, 115.0, 108.0, 86.0, 150.0, 85.0, 43.0, 39.0, 89.0, 90.0, 83.0, 100.0, 125.0, 50.0, 129.0, 35.0, 52.0, 30.0, 243.0, 110.0, 50.0, 250.0, 50.0, 49.0, 100.0, 186.0, 100.0, 128.0, 65.0, 215.0, 110.0, 175.0, 100.0, 50.0, 80.0, 175.0, 120.0, 80.0, 226.0, 85.0, 146.0, 75.0, 130.0, 33.0, 45.0, 48.0, 65.0, 42.0, 125.0, 150.0, 120.0, 39.0, 81.0, 100.0, 116.0, 100.0, 250.0, 36.0, 61.0, 150.0, 40.0, 65.0, 75.0, 200.0, 40.0, 300.0, 85.0, 120.0, 100.0, 200.0, 140.0, 147.0, 120.0, 90.0, 80.0, 100.0, 45.0, 110.0, 45.0, 110.0, 181.0, 129.0, 70.0, 120.0, 85.0, 135.0, 113.0, 130.0, 40.0, 45.0, 150.0, 175.0, 91.0, 45.0, 39.0, 71.0, 100.0, 100.0, 110.0, 37.0, 170.0, 85.0, 275.0, 78.0, 205.0, 200.0, 120.0, 40.0, 42.0, 100.0, 95.0, 60.0, 165.0, 90.0, 144.0, 100.0, 70.0, 115.0, 23.0, 29.0, 41.0, 125.0, 140.0, 95.0, 89.0, 40.0, 79.0, 110.0, 79.0, 60.0, 94.0, 149.0, 45.0, 125.0, 90.0, 275.0, 79.0, 125.0, 243.0, 49.0, 243.0, 243.0, 65.0, 40.0, 154.0, 50.0, 59.0, 90.0, 150.0, 250.0, 48.0, 65.0, 73.0, 135.0, 52.0, 45.0, 70.0, 62.0, 148.0, 200.0, 109.0, 150.0, 115.0, 60.0, 110.0, 47.0, 79.0, 136.0, 67.0, 90.0, 199.0, 190.0, 36.0, 165.0, 250.0, 93.0, 75.0, 230.0, 85.0, 79.0, 64.0, 145.0, 35.0, 115.0, 99.0, 150.0, 40.0, 190.0, 165.0, 75.0, 47.0, 44.0, 85.0, 150.0, 45.0, 88.0, 120.0, 129.0, 78.0, 135.0, 55.0, 120.0, 199.0, 105.0, 250.0, 60.0, 270.0, 214.0, 215.0, 140.0, 52.0, 195.0, 200.0, 180.0, 116.0, 29.0, 250.0, 249.0, 170.0, 175.0, 115.0, 128.0, 135.0, 81.0, 63.0, 79.0, 125.0, 58.0, 130.0, 96.0, 55.0, 170.0, 155.0, 122.0, 180.0, 45.0, 140.0, 218.0, 162.0, 69.0, 150.0, 90.0, 150.0, 40.0, 83.0, 105.0, 175.0, 150.0, 49.0, 109.0, 265.0, 250.0, 60.0, 125.0, 75.0, 59.0, 55.0, 150.0, 150.0, 45.0, 150.0, 160.0, 100.0, 80.0, 86.0, 119.0, 120.0, 75.0, 200.0, 195.0, 184.0, 169.0, 112.0, 100.0, 130.0, 125.0, 196.0, 25.0, 120.0, 35.0, 54.0, 115.0, 47.0, 139.0, 119.0, 61.0, 55.0, 49.0, 85.0, 153.0, 75.0, 50.0, 45.0, 100.0, 85.0, 90.0, 209.0, 178.0, 200.0, 289.0, 163.0, 65.0, 240.0, 129.0, 67.0, 60.0, 99.0, 60.0, 225.0, 289.0, 209.0, 85.0, 35.0, 117.0, 63.0, 175.0, 142.0, 69.0, 49.0, 40.0, 95.0, 100.0, 99.0, 99.0, 30.0, 235.0, 100.0, 31.0, 50.0, 55.0, 287.0, 70.0, 166.0, 166.0, 36.0, 65.0, 65.0, 35.0, 105.0, 100.0, 125.0, 88.0, 260.0, 163.0, 160.0, 50.0, 85.0, 220.0, 146.0, 250.0, 41.0, 135.0, 165.0, 50.0, 203.0, 189.0, 40.0, 70.0, 132.0, 183.0, 125.0, 69.0, 35.0, 95.0, 85.0, 119.0, 200.0, 37.0, 75.0, 105.0, 105.0, 65.0, 97.0, 120.0, 70.0, 200.0, 50.0, 65.0, 42.0, 240.0, 100.0, 165.0, 200.0, 50.0, 45.0, 53.0, 120.0, 139.0, 140.0, 150.0, 115.0, 75.0, 65.0, 100.0, 100.0, 90.0, 45.0, 80.0, 120.0, 149.0, 60.0, 193.0, 78.0, 33.0, 115.0, 45.0, 121.0, 189.0, 106.0, 53.0, 225.0, 165.0, 80.0, 80.0, 55.0, 110.0, 268.0, 195.0, 120.0, 250.0, 115.0, 300.0, 54.0, 100.0, 44.0, 41.0, 55.0, 130.0, 80.0, 102.0, 130.0, 200.0, 35.0, 140.0, 82.0, 171.0, 120.0, 70.0, 135.0, 50.0, 88.0, 75.0, 65.0, 140.0, 69.0, 33.0, 100.0, 120.0, 42.0, 117.0, 150.0, 69.0, 61.0, 60.0, 225.0, 31.0, 94.0, 35.0, 31.0, 290.0, 145.0, 179.0, 300.0, 250.0, 50.0, 57.0, 60.0, 285.0, 82.0, 65.0, 85.0, 66.0, 201.0, 72.0, 250.0, 120.0, 52.0, 38.0, 125.0, 121.0, 140.0, 60.0, 200.0, 70.0, 257.0, 79.0, 145.0, 199.0, 225.0, 85.0, 200.0, 130.0, 78.0, 110.0, 100.0, 99.0, 68.0, 74.0, 59.0, 50.0, 99.0, 39.0, 34.0, 88.0, 32.0, 50.0, 69.0, 72.0, 30.0, 120.0, 40.0, 175.0, 40.0, 32.0, 210.0, 125.0, 45.0, 55.0, 107.0, 76.0, 38.0, 70.0, 55.0, 129.0, 51.0, 149.0, 90.0, 99.0, 65.0, 190.0, 99.0, 33.0, 110.0, 67.0, 159.0, 80.0, 149.0, 120.0, 60.0, 127.0, 193.0, 275.0, 150.0, 50.0, 100.0, 45.0, 40.0, 149.0, 150.0, 75.0, 75.0, 230.0, 150.0, 41.0, 155.0, 120.0, 235.0, 50.0, 89.0, 85.0, 250.0, 85.0, 89.0, 90.0, 271.0, 146.0, 35.0, 110.0, 80.0, 35.0, 250.0, 48.0, 95.0, 175.0, 83.0, 40.0, 250.0, 200.0, 171.0, 195.0, 90.0, 225.0, 106.0, 67.0, 40.0, 36.0, 70.0, 54.0, 100.0, 30.0, 300.0, 139.0, 40.0, 63.0, 35.0, 106.0, 55.0, 80.0, 55.0, 140.0, 35.0, 34.0, 54.0, 38.0, 93.0, 95.0, 75.0, 82.0, 45.0, 50.0, 151.0, 176.0, 100.0, 48.0, 75.0, 250.0, 100.0, 90.0, 65.0, 40.0, 285.0, 125.0, 20.0, 97.0, 80.0, 60.0, 175.0, 150.0, 31.0, 84.0, 58.0, 124.0, 160.0, 130.0, 40.0, 126.0, 295.0, 140.0, 155.0, 49.0, 200.0, 70.0, 38.0, 170.0, 35.0, 35.0, 40.0, 33.0, 60.0, 50.0, 180.0, 50.0, 40.0, 24.0, 33.0, 163.0, 109.0, 103.0, 220.0, 50.0, 105.0, 53.0, 69.0, 50.0, 135.0, 140.0, 150.0, 85.0, 49.0, 100.0, 36.0, 83.0, 55.0, 40.0, 87.0, 115.0, 105.0, 40.0, 100.0, 46.0, 38.0, 40.0, 51.0, 31.0, 119.0, 69.0, 83.0, 227.0, 200.0, 190.0, 190.0, 105.0, 55.0, 206.0, 102.0, 75.0, 45.0, 50.0, 199.0, 153.0, 225.0, 45.0, 35.0, 79.0, 60.0, 277.0, 100.0, 125.0, 53.0, 53.0, 55.0, 100.0, 98.0, 89.0, 28.0, 45.0, 150.0, 65.0, 219.0, 111.0, 82.0, 35.0, 115.0, 120.0, 139.0, 75.0, 121.0, 57.0, 299.0, 64.0, 190.0, 85.0, 85.0, 25.0, 110.0, 45.0, 90.0, 150.0, 65.0, 70.0, 40.0, 50.0, 37.0, 175.0, 169.0, 70.0, 75.0, 33.0, 100.0, 200.0, 40.0, 40.0, 70.0, 85.0, 35.0, 101.0, 104.0, 100.0, 60.0, 102.0, 120.0, 151.0, 100.0, 49.0, 45.0, 82.0, 200.0, 53.0, 250.0, 175.0, 37.0, 110.0, 200.0, 76.0, 82.0, 120.0, 65.0, 150.0, 105.0, 35.0, 165.0, 78.0, 98.0, 111.0, 225.0, 162.0, 22.0, 190.0, 128.0, 88.0, 40.0, 100.0, 119.0, 35.0, 190.0, 85.0, 110.0, 200.0, 98.0, 100.0, 200.0, 150.0, 100.0, 120.0, 35.0, 175.0, 53.0, 62.0, 47.0, 35.0, 130.0, 102.0, 137.0, 54.0, 100.0, 32.0, 99.0, 56.0, 180.0, 70.0, 47.0, 80.0, 120.0, 76.0, 230.0, 100.0, 58.0, 60.0, 189.0, 25.0, 78.0, 118.0, 99.0, 75.0, 95.0, 98.0, 45.0, 67.0, 90.0, 64.0, 120.0, 35.0, 136.0, 100.0, 80.0, 67.0, 160.0, 69.0, 63.0, 185.0, 16.0, 299.0, 120.0, 300.0, 38.0, 50.0, 60.0, 237.0, 55.0, 89.0, 100.0, 72.0, 41.0, 182.0, 100.0, 46.0, 55.0, 58.0, 136.0, 159.0, 60.0, 112.0, 80.0, 60.0, 145.0, 29.0, 175.0, 144.0, 104.0, 50.0, 70.0, 120.0, 48.0, 60.0, 179.0, 66.0, 128.0, 170.0, 105.0, 65.0, 95.0, 30.0, 110.0, 58.0, 175.0, 135.0, 141.0, 21.0, 100.0, 175.0, 100.0, 100.0, 105.0, 83.0, 85.0, 50.0, 98.0, 130.0, 159.0, 295.0, 72.0, 100.0, 110.0, 105.0, 104.0, 247.0, 99.0, 160.0, 150.0, 199.0, 299.0, 120.0, 95.0, 199.0, 150.0, 190.0, 55.0, 125.0, 63.0, 129.0, 99.0, 300.0, 99.0, 50.0, 19.0, 74.0, 160.0, 110.0, 77.0, 100.0, 97.0, 56.0, 197.0, 50.0, 60.0, 149.0, 70.0, 29.0, 123.0, 60.0, 55.0, 45.0, 175.0, 165.0, 58.0, 60.0, 60.0, 149.0, 250.0, 75.0, 55.0, 50.0, 100.0, 120.0, 30.0, 82.0, 60.0, 100.0, 111.0, 88.0, 117.0, 85.0, 96.0, 80.0, 55.0, 38.0, 50.0, 85.0, 50.0, 255.0, 63.0, 50.0, 50.0, 66.0, 95.0, 155.0, 130.0, 150.0, 130.0, 65.0, 40.0, 280.0, 60.0, 90.0, 77.0, 72.0, 50.0, 44.0, 139.0, 291.0, 300.0, 225.0, 28.0, 70.0, 175.0, 120.0, 38.0, 227.0, 24.0, 115.0, 80.0, 60.0, 62.0, 92.0, 80.0, 189.0, 90.0, 87.0, 120.0, 100.0, 125.0, 100.0, 90.0, 138.0, 107.0, 55.0, 99.0, 33.0, 40.0, 95.0, 85.0, 60.0, 49.0, 40.0, 137.0, 99.0, 125.0, 55.0, 110.0, 47.0, 45.0, 111.0, 45.0, 195.0, 55.0, 63.0, 97.0, 99.0, 99.0, 48.0, 35.0, 49.0, 43.0, 150.0, 157.0, 200.0, 80.0, 180.0, 89.0, 42.0, 45.0, 99.0, 59.0, 120.0, 50.0, 34.0, 40.0, 75.0, 200.0, 49.0, 70.0, 185.0, 250.0, 53.0, 115.0, 99.0, 180.0, 89.0, 32.0, 110.0, 55.0, 35.0, 130.0, 75.0, 125.0, 68.0, 60.0, 270.0, 129.0, 35.0, 125.0, 129.0, 125.0, 113.0, 99.0, 45.0, 50.0, 220.0, 89.0, 300.0, 72.0, 95.0, 53.0, 139.0, 90.0, 60.0, 89.0, 75.0, 65.0, 78.0, 175.0, 48.0, 93.0, 54.0, 59.0, 195.0, 38.0, 165.0, 40.0, 65.0, 90.0, 150.0, 60.0, 140.0, 95.0, 149.0, 95.0, 221.0, 215.0, 135.0, 100.0, 150.0, 83.0, 45.0, 105.0, 63.0, 175.0, 59.0, 33.0, 110.0, 70.0, 78.0, 150.0, 149.0, 125.0, 202.0, 83.0, 140.0, 140.0, 89.0, 190.0, 173.0, 246.0, 70.0, 75.0, 229.0, 65.0, 72.0, 210.0, 250.0, 150.0, 207.0, 50.0, 89.0, 86.0, 95.0, 95.0, 99.0, 110.0, 75.0, 130.0, 80.0, 250.0, 175.0, 77.0, 70.0, 241.0, 60.0, 163.0, 31.0, 75.0, 64.0, 120.0, 45.0, 140.0, 70.0, 75.0, 160.0, 289.0, 29.0, 89.0, 54.0, 93.0, 90.0, 99.0, 88.0, 125.0, 60.0, 35.0, 47.0, 35.0, 53.0, 85.0, 145.0, 110.0, 98.0, 200.0, 199.0, 218.0, 45.0, 95.0, 150.0, 48.0, 122.0, 239.0, 239.0, 37.0, 80.0, 125.0, 59.0, 157.0, 41.0, 84.0, 80.0, 71.0, 84.0, 252.0, 75.0, 60.0, 175.0, 145.0, 60.0, 123.0, 35.0, 52.0, 163.0, 59.0, 80.0, 70.0, 250.0, 75.0, 139.0, 160.0, 29.0, 100.0, 60.0, 59.0, 175.0, 70.0, 65.0, 220.0, 65.0, 107.0, 180.0, 35.0, 95.0, 90.0, 140.0, 300.0, 146.0, 100.0, 68.0, 116.0, 135.0, 90.0, 162.0, 74.0, 80.0, 75.0, 65.0, 55.0, 123.0, 158.0, 78.0, 50.0, 100.0, 150.0, 47.0, 160.0, 109.0, 80.0, 99.0, 180.0, 130.0, 80.0, 100.0, 34.0, 135.0, 40.0, 125.0, 40.0, 157.0, 130.0, 130.0, 240.0, 65.0, 90.0, 42.0, 89.0, 84.0, 39.0, 75.0, 39.0, 39.0, 100.0, 60.0, 100.0, 225.0, 150.0, 79.0, 110.0, 99.0, 28.0, 80.0, 100.0, 55.0, 44.0, 67.0, 90.0, 35.0, 49.0, 68.0, 75.0, 100.0, 80.0, 205.0, 52.0, 65.0, 125.0, 215.0, 115.0, 70.0, 55.0, 155.0, 46.0, 50.0, 180.0, 190.0, 60.0, 200.0, 165.0, 100.0, 50.0, 162.0, 77.0, 300.0, 179.0, 42.0, 100.0, 120.0, 33.0, 75.0, 75.0, 31.0, 120.0, 52.0, 79.0, 100.0, 60.0, 98.0, 162.0, 55.0, 40.0, 70.0, 140.0, 150.0, 249.0, 55.0, 80.0, 75.0, 61.0, 105.0, 88.0, 105.0, 55.0, 85.0, 50.0, 85.0, 86.0, 125.0, 246.0, 130.0, 45.0, 62.0, 80.0, 70.0, 55.0, 49.0, 50.0, 150.0, 135.0, 65.0, 150.0, 75.0, 65.0, 106.0, 175.0, 95.0, 49.0, 175.0, 90.0, 93.0, 105.0, 99.0, 35.0, 85.0, 60.0, 135.0, 50.0, 160.0, 22.0, 80.0, 68.0, 89.0, 150.0, 193.0, 159.0, 50.0, 148.0, 89.0, 80.0, 43.0, 65.0, 136.0, 300.0, 65.0, 120.0, 50.0, 84.0, 65.0, 100.0, 99.0, 150.0, 57.0, 160.0, 52.0, 40.0, 200.0, 75.0, 250.0, 150.0, 290.0, 105.0, 150.0, 115.0, 154.0, 130.0, 180.0, 65.0, 96.0, 68.0, 37.0, 220.0, 85.0, 44.0, 75.0, 55.0, 95.0, 69.0, 35.0, 300.0, 65.0, 122.0, 10.0, 114.0, 99.0, 65.0, 90.0, 50.0, 160.0, 40.0, 48.0, 59.0, 57.0, 90.0, 100.0, 61.0, 175.0, 199.0, 49.0, 170.0, 20.0, 250.0, 130.0, 115.0, 80.0, 75.0, 99.0, 197.0, 91.0, 45.0, 64.0, 176.0, 150.0, 65.0, 114.0, 90.0, 134.0, 45.0, 70.0, 125.0, 84.0, 162.0, 88.0, 70.0, 175.0, 85.0, 105.0, 100.0, 69.0, 95.0, 50.0, 81.0, 110.0, 80.0, 175.0, 50.0, 70.0, 35.0, 36.0, 99.0, 106.0, 83.0, 80.0, 80.0, 124.0, 91.0, 120.0, 152.0, 95.0, 242.0, 51.0, 46.0, 176.0, 68.0, 175.0, 52.0, 182.0, 24.0, 52.0, 149.0, 120.0, 65.0, 88.0, 143.0, 95.0, 126.0, 87.0, 135.0, 100.0, 60.0, 70.0, 37.0, 99.0, 136.0, 115.0, 79.0, 65.0, 100.0, 176.0, 95.0, 40.0, 90.0, 300.0, 225.0, 28.0, 90.0, 110.0, 100.0, 130.0, 191.0, 83.0, 175.0, 60.0, 75.0, 36.0, 289.0, 170.0, 270.0, 75.0, 75.0, 127.0, 101.0, 175.0, 135.0, 55.0, 145.0, 117.0, 146.0, 65.0, 149.0, 75.0, 50.0, 150.0, 50.0, 99.0, 75.0, 69.0, 145.0, 109.0, 70.0, 75.0, 70.0, 260.0, 75.0, 150.0, 38.0, 30.0, 38.0, 75.0, 175.0, 132.0, 50.0, 168.0, 117.0, 130.0, 60.0, 43.0, 45.0, 83.0, 100.0, 52.0, 129.0, 38.0, 33.0, 77.0, 49.0, 247.0, 40.0, 69.0, 60.0, 83.0, 130.0, 99.0, 125.0, 48.0, 100.0, 105.0, 88.0, 100.0, 40.0, 45.0, 250.0, 112.0, 65.0, 95.0, 39.0, 199.0, 175.0, 200.0, 68.0, 45.0, 149.0, 40.0, 155.0, 220.0, 38.0, 40.0, 150.0, 47.0, 52.0, 180.0, 140.0, 68.0, 110.0, 120.0, 45.0, 75.0, 125.0, 60.0, 150.0, 42.0, 60.0, 200.0, 52.0, 42.0, 30.0, 95.0, 197.0, 149.0, 140.0, 299.0, 99.0, 55.0, 39.0, 118.0, 264.0, 184.0, 202.0, 29.0, 55.0, 50.0, 99.0, 118.0, 59.0, 199.0, 60.0, 64.0, 50.0, 200.0, 100.0, 90.0, 98.0, 35.0, 94.0, 140.0, 170.0, 52.0, 26.0, 65.0, 145.0, 157.0, 25.0, 40.0, 50.0, 40.0, 110.0, 65.0, 179.0, 70.0, 65.0, 65.0, 212.0, 44.0, 250.0, 53.0, 43.0, 43.0, 125.0, 70.0, 100.0, 141.0, 182.0, 300.0, 121.0, 60.0, 125.0, 76.0, 119.0, 120.0, 40.0, 53.0, 175.0, 50.0, 125.0, 198.0, 58.0, 70.0, 158.0, 30.0, 80.0, 41.0, 75.0, 70.0, 93.0, 79.0, 130.0, 47.0, 34.0, 225.0, 195.0, 93.0, 50.0, 65.0, 53.0, 114.0, 100.0, 79.0, 98.0, 250.0, 180.0, 33.0, 68.0, 99.0, 45.0, 68.0, 68.0, 49.0, 130.0, 95.0, 55.0, 130.0, 70.0, 36.0, 190.0, 39.0, 95.0, 60.0, 169.0, 165.0, 115.0, 96.0, 200.0, 170.0, 70.0, 120.0, 75.0, 129.0, 69.0, 133.0, 90.0, 37.0, 40.0, 40.0, 92.0, 60.0, 26.0, 36.0, 150.0, 93.0, 73.0, 40.0, 90.0, 62.0, 150.0, 110.0, 125.0, 31.0, 45.0, 83.0, 45.0, 63.0, 100.0, 51.0, 51.0, 121.0, 90.0, 70.0, 190.0, 60.0, 130.0, 183.0, 65.0, 90.0, 90.0, 60.0, 109.0, 140.0, 50.0, 85.0, 40.0, 95.0, 196.0, 160.0, 70.0, 175.0, 165.0, 125.0, 140.0, 100.0, 150.0, 150.0, 75.0, 60.0, 90.0, 200.0, 41.0, 158.0, 60.0, 250.0, 49.0, 49.0, 49.0, 59.0, 240.0, 136.0, 80.0, 125.0, 184.0, 80.0, 98.0, 55.0, 185.0, 229.0, 150.0, 79.0, 40.0, 175.0, 260.0, 65.0, 137.0, 45.0, 270.0, 80.0, 250.0, 180.0, 83.0, 152.0, 150.0, 27.0, 65.0, 100.0, 130.0, 150.0, 50.0, 45.0, 56.0, 215.0, 161.0, 50.0, 150.0, 225.0, 80.0, 80.0, 150.0, 68.0, 30.0, 80.0, 50.0, 49.0, 71.0, 56.0, 75.0, 69.0, 75.0, 39.0, 140.0, 91.0, 74.0, 125.0, 95.0, 85.0, 45.0, 53.0, 180.0, 54.0, 50.0, 40.0, 120.0, 99.0, 300.0, 99.0, 99.0, 62.0, 23.0, 90.0, 75.0, 60.0, 79.0, 90.0, 33.0, 90.0, 119.0, 79.0, 145.0, 200.0, 102.0, 170.0, 60.0, 70.0, 100.0, 75.0, 50.0, 50.0, 67.0, 110.0, 150.0, 75.0, 60.0, 30.0, 89.0, 38.0, 120.0, 259.0, 51.0, 72.0, 149.0, 80.0, 60.0, 200.0, 175.0, 65.0, 94.0, 126.0, 66.0, 95.0, 35.0, 126.0, 45.0, 77.0, 85.0, 45.0, 150.0, 48.0, 52.0, 70.0, 83.0, 75.0, 189.0, 99.0, 107.0, 108.0, 259.0, 132.0, 119.0, 120.0, 37.0, 150.0, 200.0, 65.0, 71.0, 45.0, 147.0, 195.0, 49.0, 51.0, 60.0, 79.0, 150.0, 60.0, 70.0, 176.0, 41.0, 65.0, 150.0, 30.0, 62.0, 185.0, 150.0, 109.0, 40.0, 55.0, 220.0, 65.0, 110.0, 50.0, 70.0, 80.0, 250.0, 180.0, 99.0, 250.0, 50.0, 128.0, 45.0, 190.0, 100.0, 300.0, 289.0, 82.0, 75.0, 80.0, 52.0, 60.0, 60.0, 119.0, 62.0, 91.0, 200.0, 37.0, 51.0, 145.0, 34.0, 51.0, 96.0, 28.0, 146.0, 80.0, 68.0, 170.0, 55.0, 105.0, 49.0, 32.0, 99.0, 100.0, 30.0, 102.0, 300.0, 55.0, 180.0, 125.0, 70.0, 53.0, 35.0, 83.0, 117.0, 60.0, 120.0, 27.0, 115.0, 38.0, 132.0, 29.0, 45.0, 207.0, 150.0, 37.0, 80.0, 70.0, 60.0, 172.0, 220.0, 195.0, 115.0, 46.0, 99.0, 55.0, 70.0, 75.0, 90.0, 62.0, 50.0, 48.0, 60.0, 65.0, 100.0, 90.0, 250.0, 73.0, 150.0, 275.0, 89.0, 130.0, 109.0, 89.0, 195.0, 150.0, 125.0, 100.0, 203.0, 90.0, 139.0, 40.0, 95.0, 145.0, 45.0, 200.0, 283.0, 45.0, 115.0, 50.0, 76.0, 219.0, 60.0, 200.0, 112.0, 280.0, 96.0, 45.0, 118.0, 103.0, 79.0, 100.0, 48.0, 70.0, 103.0, 115.0, 115.0, 159.0, 100.0, 41.0, 120.0, 223.0, 65.0, 76.0, 170.0, 55.0, 166.0, 133.0, 150.0, 27.0, 85.0, 300.0, 100.0, 180.0, 60.0, 175.0, 60.0, 240.0, 100.0, 50.0, 116.0, 65.0, 100.0, 125.0, 67.0, 93.0, 110.0, 120.0, 135.0, 66.0, 90.0, 93.0, 119.0, 200.0, 145.0, 199.0, 140.0, 80.0, 120.0, 199.0, 130.0, 290.0, 200.0, 125.0, 140.0, 85.0, 58.0, 100.0, 55.0, 65.0, 130.0, 60.0, 32.0, 90.0, 175.0, 170.0, 40.0, 120.0, 130.0, 109.0, 85.0, 48.0, 49.0, 150.0, 65.0, 32.0, 60.0, 175.0, 87.0, 207.0, 99.0, 70.0, 75.0, 176.0, 95.0, 110.0, 90.0, 225.0, 51.0, 30.0, 36.0, 93.0, 175.0, 55.0, 229.0, 90.0, 150.0, 83.0, 61.0, 212.0, 180.0, 115.0, 185.0, 136.0, 160.0, 220.0, 50.0, 84.0, 80.0, 97.0, 260.0, 40.0, 85.0, 180.0, 80.0, 75.0, 78.0, 125.0, 170.0, 139.0, 85.0, 44.0, 64.0, 165.0, 58.0, 80.0, 58.0, 65.0, 85.0, 150.0, 70.0, 250.0, 80.0, 58.0, 160.0, 70.0, 300.0, 200.0, 120.0, 70.0, 55.0, 145.0, 45.0, 79.0, 90.0, 35.0, 60.0, 50.0, 100.0, 50.0, 195.0, 70.0, 32.0, 95.0, 250.0, 100.0, 225.0, 130.0, 125.0, 70.0, 75.0, 110.0, 45.0, 95.0, 55.0, 88.0, 55.0, 50.0, 40.0, 56.0, 200.0, 180.0, 89.0, 80.0, 200.0, 65.0, 35.0, 250.0, 110.0, 90.0, 90.0, 60.0, 180.0, 63.0, 66.0, 225.0, 55.0, 90.0, 279.0, 60.0, 130.0, 80.0, 45.0, 175.0, 74.0, 39.0, 99.0, 155.0, 50.0, 120.0, 103.0, 125.0, 189.0, 95.0, 90.0, 99.0, 101.0, 49.0, 88.0, 99.0, 40.0, 250.0, 104.0, 175.0, 87.0, 60.0, 71.0, 35.0, 80.0, 90.0, 118.0, 150.0, 160.0, 47.0, 250.0, 225.0, 85.0, 30.0, 46.0, 70.0, 40.0, 70.0, 200.0, 230.0, 38.0, 65.0, 126.0, 52.0, 27.0, 79.0, 200.0, 224.0, 99.0, 200.0, 39.0, 110.0, 145.0, 130.0, 100.0, 60.0, 45.0, 50.0, 200.0, 70.0, 49.0, 109.0, 32.0, 32.0, 89.0, 70.0, 100.0, 74.0, 35.0, 75.0, 60.0, 212.0, 148.0, 125.0, 75.0, 77.0, 70.0, 143.0, 60.0, 60.0, 90.0, 160.0, 65.0, 96.0, 120.0, 68.0, 86.0, 130.0, 175.0, 37.0, 59.0, 130.0, 95.0, 74.0, 125.0, 45.0, 40.0, 29.0, 74.0, 80.0, 69.0, 160.0, 62.0, 185.0, 85.0, 88.0, 45.0, 146.0, 250.0, 70.0, 50.0, 140.0, 175.0, 118.0, 99.0, 250.0, 100.0, 100.0, 105.0, 155.0, 250.0, 110.0, 107.0, 99.0, 200.0, 42.0, 70.0, 200.0, 34.0, 185.0, 127.0, 50.0, 110.0, 55.0, 99.0, 125.0, 140.0, 100.0, 134.0, 80.0, 69.0, 65.0, 70.0, 85.0, 55.0, 195.0, 179.0, 169.0, 39.0, 37.0, 65.0, 80.0, 257.0, 99.0, 95.0, 44.0, 77.0, 80.0, 90.0, 40.0, 275.0, 185.0, 48.0, 49.0, 70.0, 100.0, 116.0, 70.0, 145.0, 150.0, 72.0, 175.0, 150.0, 104.0, 90.0, 75.0, 60.0, 114.0, 83.0, 68.0, 50.0, 100.0, 200.0, 60.0, 84.0, 250.0, 60.0, 70.0, 260.0, 100.0, 75.0, 150.0, 33.0, 200.0, 56.0, 180.0, 95.0, 80.0, 70.0, 105.0, 120.0, 55.0, 47.0, 130.0, 165.0, 99.0, 175.0, 80.0, 70.0, 160.0, 55.0, 48.0, 110.0, 50.0, 45.0, 89.0, 50.0, 70.0, 100.0, 149.0, 103.0, 40.0, 180.0, 65.0, 120.0, 90.0, 275.0, 38.0, 225.0, 125.0, 41.0, 100.0, 94.0, 70.0, 76.0, 120.0, 75.0, 70.0, 145.0, 57.0, 49.0, 225.0, 90.0, 123.0, 110.0, 44.0, 91.0, 56.0, 90.0, 60.0, 100.0, 55.0, 175.0, 300.0, 35.0, 80.0, 90.0, 95.0, 128.0, 85.0, 62.0, 229.0, 84.0, 100.0, 175.0, 99.0, 125.0, 80.0, 165.0, 40.0, 60.0, 65.0, 80.0, 68.0, 45.0, 100.0, 45.0, 89.0, 105.0, 45.0, 40.0, 75.0, 34.0, 47.0, 45.0, 125.0, 85.0, 129.0, 275.0, 84.0, 149.0, 75.0, 75.0, 95.0, 100.0, 80.0, 116.0, 220.0, 178.0, 153.0, 99.0, 225.0, 150.0, 150.0, 210.0, 30.0, 43.0, 43.0, 166.0, 75.0, 150.0, 165.0, 50.0, 74.0, 125.0, 121.0, 79.0, 80.0, 280.0, 43.0, 80.0, 71.0, 155.0, 99.0, 75.0, 169.0, 58.0, 149.0, 130.0, 250.0, 100.0, 100.0, 85.0, 170.0, 69.0, 150.0, 59.0, 55.0, 60.0, 95.0, 30.0, 50.0, 135.0, 197.0, 80.0, 200.0, 31.0, 145.0, 34.0, 85.0, 150.0, 113.0, 80.0, 160.0, 220.0, 40.0, 137.0, 45.0, 65.0, 95.0, 65.0, 45.0, 105.0, 225.0, 125.0, 136.0, 41.0, 40.0, 100.0, 110.0, 68.0, 298.0, 56.0, 121.0, 151.0, 120.0, 80.0, 249.0, 35.0, 80.0, 43.0, 120.0, 72.0, 50.0, 80.0, 49.0, 189.0, 36.0, 39.0, 65.0, 35.0, 36.0, 92.0, 27.0, 75.0, 178.0, 32.0, 45.0, 40.0, 59.0, 39.0, 65.0, 50.0, 204.0, 45.0, 55.0, 50.0, 66.0, 42.0, 41.0, 123.0, 50.0, 62.0, 99.0, 120.0, 30.0, 179.0, 198.0, 97.0, 140.0, 300.0, 125.0, 90.0, 51.0, 90.0, 35.0, 125.0, 126.0, 200.0, 41.0, 55.0, 53.0, 70.0, 158.0, 80.0, 53.0, 85.0, 83.0, 93.0, 75.0, 41.0, 90.0, 100.0, 98.0, 90.0, 50.0, 140.0, 40.0, 250.0, 65.0, 120.0, 130.0, 200.0, 120.0, 85.0, 149.0, 40.0, 125.0, 157.0, 79.0, 99.0, 199.0, 50.0, 50.0, 160.0, 85.0, 140.0, 39.0, 87.0, 132.0, 50.0, 88.0, 69.0, 70.0, 300.0, 150.0, 70.0, 125.0, 90.0, 49.0, 200.0, 98.0, 75.0, 140.0, 160.0, 165.0, 113.0, 69.0, 98.0, 199.0, 40.0, 40.0, 162.0, 96.0, 69.0, 35.0, 50.0, 110.0, 143.0, 120.0, 120.0, 50.0, 75.0, 140.0, 65.0, 125.0, 200.0, 130.0, 50.0, 110.0, 40.0, 45.0, 178.0, 66.0, 125.0, 70.0, 225.0, 150.0, 165.0, 50.0, 75.0, 106.0, 178.0, 103.0, 200.0, 120.0, 65.0, 175.0, 210.0, 64.0, 206.0, 110.0, 90.0, 250.0, 50.0, 120.0, 189.0, 70.0, 135.0, 119.0, 225.0, 75.0, 90.0, 60.0, 300.0, 55.0, 40.0, 100.0, 65.0, 264.0, 83.0, 150.0, 175.0, 175.0, 109.0, 50.0, 159.0, 80.0, 69.0, 100.0, 131.0, 45.0, 51.0, 150.0, 95.0, 40.0, 78.0, 38.0, 149.0, 70.0, 159.0, 115.0, 151.0, 250.0, 40.0, 224.0, 59.0, 110.0, 130.0, 150.0, 55.0, 95.0, 68.0, 170.0, 100.0, 70.0, 157.0, 58.0, 70.0, 55.0, 42.0, 70.0, 250.0, 49.0, 155.0, 100.0, 40.0, 170.0, 118.0, 60.0, 120.0, 250.0, 108.0, 79.0, 107.0, 155.0, 95.0, 60.0, 140.0, 289.0, 139.0, 96.0, 89.0, 60.0, 100.0, 45.0, 46.0, 108.0, 84.0, 142.0, 60.0, 35.0, 170.0, 102.0, 110.0, 220.0, 72.0, 80.0, 55.0, 180.0, 169.0, 150.0, 80.0, 60.0, 49.0, 125.0, 150.0, 30.0, 65.0, 185.0, 101.0, 100.0, 49.0, 92.0, 195.0, 30.0, 82.0, 115.0, 65.0, 150.0, 95.0, 250.0, 40.0, 70.0, 51.0, 35.0, 90.0, 80.0, 60.0, 65.0, 45.0, 47.0, 250.0, 62.0, 150.0, 75.0, 37.0, 120.0, 103.0, 80.0, 57.0, 180.0, 180.0, 130.0, 85.0, 80.0, 210.0, 103.0, 70.0, 50.0, 111.0, 79.0, 120.0, 100.0, 129.0, 80.0, 70.0, 40.0, 100.0, 225.0, 295.0, 53.0, 66.0, 250.0, 45.0, 140.0, 40.0, 56.0, 71.0, 89.0, 50.0, 189.0, 175.0, 50.0, 80.0, 51.0, 175.0, 214.0, 100.0, 85.0, 54.0, 45.0, 35.0, 155.0, 90.0, 70.0, 152.0, 39.0, 24.0, 45.0, 150.0, 236.0, 80.0, 130.0, 60.0, 199.0, 70.0, 265.0, 70.0, 85.0, 60.0, 50.0, 140.0, 49.0, 85.0, 275.0, 33.0, 45.0, 125.0, 80.0, 111.0, 80.0, 47.0, 57.0, 183.0, 90.0, 140.0, 48.0, 300.0, 250.0, 95.0, 186.0, 50.0, 55.0, 47.0, 160.0, 90.0, 150.0, 47.0, 200.0, 93.0, 103.0, 149.0, 67.0, 90.0, 71.0, 55.0, 35.0, 85.0, 165.0, 52.0, 125.0, 139.0, 64.0, 100.0, 85.0, 62.0, 80.0, 170.0, 56.0, 95.0, 125.0, 34.0, 34.0, 75.0, 47.0, 85.0, 85.0, 149.0, 60.0, 70.0, 135.0, 147.0, 60.0, 150.0, 290.0, 95.0, 165.0, 56.0, 165.0, 33.0, 33.0, 55.0, 79.0, 210.0, 70.0, 58.0, 250.0, 115.0, 95.0, 200.0, 110.0, 125.0, 150.0, 165.0, 49.0, 245.0, 116.0, 75.0, 125.0, 70.0, 45.0, 165.0, 100.0, 60.0, 75.0, 19.0, 55.0, 100.0, 100.0, 60.0, 50.0, 56.0, 150.0, 65.0, 50.0, 117.0, 70.0, 195.0, 59.0, 34.0, 250.0, 45.0, 43.0, 120.0, 59.0, 100.0, 121.0, 110.0, 42.0, 250.0, 47.0, 105.0, 75.0, 200.0, 70.0, 196.0, 35.0, 63.0, 65.0, 45.0, 200.0, 151.0, 67.0, 185.0, 60.0, 45.0, 65.0, 60.0, 60.0, 135.0, 53.0, 33.0, 59.0, 65.0, 53.0, 53.0, 49.0, 60.0, 130.0, 78.0, 45.0, 224.0, 85.0, 62.0, 76.0, 40.0, 49.0, 250.0, 65.0, 149.0, 44.0, 135.0, 150.0, 112.0, 199.0, 95.0, 95.0, 42.0, 200.0, 101.0, 89.0, 90.0, 37.0, 30.0, 60.0, 59.0, 250.0, 144.0, 72.0, 90.0, 23.0, 65.0, 45.0, 32.0, 89.0, 50.0, 101.0, 101.0, 220.0, 100.0, 42.0, 27.0, 50.0, 282.0, 150.0, 87.0, 59.0, 180.0, 65.0, 110.0, 234.0, 69.0, 120.0, 40.0, 225.0, 31.0, 299.0, 45.0, 85.0, 120.0, 49.0, 171.0, 61.0, 89.0, 161.0, 120.0, 80.0, 70.0, 100.0, 89.0, 75.0, 109.0, 175.0, 55.0, 119.0, 140.0, 195.0, 149.0, 59.0, 89.0, 60.0, 275.0, 239.0, 30.0, 165.0, 39.0, 300.0, 50.0, 50.0, 55.0, 105.0, 65.0, 75.0, 36.0, 137.0, 112.0, 225.0, 50.0, 66.0, 125.0, 150.0, 180.0, 150.0, 50.0, 105.0, 85.0, 139.0, 85.0, 72.0, 175.0, 84.0, 110.0, 102.0, 110.0, 110.0, 112.0, 25.0, 130.0, 75.0, 50.0, 40.0, 50.0, 72.0, 64.0, 110.0, 85.0, 90.0, 99.0, 89.0, 257.0, 65.0, 40.0, 78.0, 60.0, 50.0, 124.0, 29.0, 35.0, 89.0, 143.0, 119.0, 40.0, 179.0, 155.0, 200.0, 120.0, 78.0, 40.0, 113.0, 89.0, 224.0, 179.0, 117.0, 151.0, 49.0, 195.0, 101.0, 50.0, 90.0, 213.0, 50.0, 85.0, 176.0, 100.0, 148.0, 60.0, 99.0, 45.0, 60.0, 55.0, 38.0, 228.0, 49.0, 97.0, 106.0, 72.0, 100.0, 155.0, 80.0, 110.0, 80.0, 65.0, 90.0, 93.0, 150.0, 200.0, 60.0, 60.0, 65.0, 56.0, 100.0, 200.0, 125.0, 110.0, 90.0, 90.0, 80.0, 28.0, 103.0, 40.0, 36.0, 110.0, 50.0, 52.0, 282.0, 126.0, 150.0, 45.0, 30.0, 75.0, 50.0, 36.0, 44.0, 118.0, 60.0, 150.0, 58.0, 180.0, 50.0, 275.0, 75.0, 115.0, 105.0, 24.0, 151.0, 110.0, 150.0, 152.0, 83.0, 175.0, 35.0, 110.0, 147.0, 160.0, 79.0, 108.0, 90.0, 41.0, 89.0, 126.0, 185.0, 145.0, 43.0, 208.0, 150.0, 55.0, 75.0, 69.0, 49.0, 128.0, 93.0, 38.0, 88.0, 114.0, 136.0, 40.0, 35.0, 62.0, 250.0, 40.0, 120.0, 80.0, 184.0, 80.0, 86.0, 85.0, 100.0, 35.0, 98.0, 203.0, 125.0, 165.0, 300.0, 210.0, 210.0, 30.0, 49.0, 165.0, 90.0, 110.0, 90.0, 90.0, 180.0, 70.0, 175.0, 35.0, 149.0, 70.0, 50.0, 82.0, 78.0, 180.0, 119.0, 70.0, 50.0, 40.0, 75.0, 90.0, 220.0, 225.0, 280.0, 86.0, 114.0, 60.0, 185.0, 99.0, 70.0, 125.0, 59.0, 130.0, 100.0, 58.0, 26.0, 153.0, 275.0, 115.0, 80.0, 97.0, 70.0, 150.0, 115.0, 150.0, 120.0, 77.0, 155.0, 45.0, 81.0, 115.0, 200.0, 100.0, 120.0, 165.0, 54.0, 100.0, 100.0, 98.0, 100.0, 75.0, 56.0, 255.0, 105.0, 36.0, 68.0, 23.0, 151.0, 165.0, 45.0, 54.0, 300.0, 180.0, 219.0, 51.0, 130.0, 100.0, 50.0, 225.0, 79.0, 83.0, 58.0, 125.0, 125.0, 200.0, 40.0, 75.0, 157.0, 79.0, 250.0, 45.0, 100.0, 275.0, 119.0, 60.0, 50.0, 30.0, 195.0, 65.0, 166.0, 99.0, 72.0, 29.0, 100.0, 102.0, 49.0, 195.0, 199.0, 83.0, 120.0, 85.0, 75.0, 79.0, 61.0, 215.0, 98.0, 250.0, 175.0, 49.0, 164.0, 90.0, 104.0, 30.0, 50.0, 179.0, 173.0, 60.0, 40.0, 75.0, 62.0, 150.0, 300.0, 250.0, 177.0, 199.0, 25.0, 175.0, 180.0, 150.0, 70.0, 150.0, 214.0, 43.0, 80.0, 195.0, 35.0, 225.0, 100.0, 98.0, 150.0, 79.0, 70.0, 115.0, 35.0, 51.0, 125.0, 125.0, 115.0, 119.0, 118.0, 83.0, 200.0, 165.0, 98.0, 150.0, 200.0, 51.0, 60.0, 75.0, 100.0, 55.0, 105.0, 151.0, 159.0, 125.0, 95.0, 186.0, 189.0, 200.0, 122.0, 142.0, 40.0, 158.0, 119.0, 60.0, 79.0, 60.0, 80.0, 115.0, 90.0, 35.0, 129.0, 45.0, 150.0, 157.0, 120.0, 119.0, 75.0, 168.0, 46.0, 200.0, 144.0, 110.0, 45.0, 100.0, 106.0, 111.0, 200.0, 158.0, 200.0, 170.0, 200.0, 98.0, 129.0, 175.0, 158.0, 30.0, 31.0, 110.0, 200.0, 64.0, 125.0, 89.0, 140.0, 49.0, 58.0, 85.0, 80.0, 150.0, 69.0, 40.0, 120.0, 45.0, 82.0, 71.0, 300.0, 96.0, 95.0, 90.0, 74.0, 275.0, 55.0, 150.0, 51.0, 100.0, 30.0, 32.0, 200.0, 50.0, 53.0, 48.0, 99.0, 95.0, 50.0, 188.0, 78.0, 120.0, 140.0, 72.0, 235.0, 52.0, 39.0, 45.0, 130.0, 65.0, 245.0, 22.0, 55.0, 20.0, 50.0, 75.0, 56.0, 100.0, 165.0, 85.0, 50.0, 114.0, 90.0, 60.0, 45.0, 150.0, 249.0, 40.0, 99.0, 150.0, 116.0, 49.0, 72.0, 69.0, 56.0, 100.0, 50.0, 90.0, 100.0, 39.0, 33.0, 80.0, 50.0, 54.0, 31.0, 80.0, 229.0, 129.0, 50.0, 120.0, 55.0, 60.0, 60.0, 125.0, 90.0, 60.0, 39.0, 32.0, 60.0, 40.0, 158.0, 69.0, 60.0, 220.0, 100.0, 70.0, 102.0, 220.0, 129.0, 55.0, 120.0, 70.0, 45.0, 129.0, 35.0, 300.0, 45.0, 58.0, 59.0, 50.0, 89.0, 199.0, 130.0, 25.0, 59.0, 150.0, 99.0, 250.0, 120.0, 50.0, 110.0, 21.0, 29.0, 150.0, 70.0, 36.0, 95.0, 59.0, 99.0, 85.0, 50.0, 248.0, 37.0, 150.0, 89.0, 40.0, 80.0, 125.0, 90.0, 105.0, 175.0, 90.0, 89.0, 200.0, 148.0, 90.0, 82.0, 80.0, 55.0, 100.0, 80.0, 165.0, 128.0, 225.0, 78.0, 200.0, 95.0, 63.0, 79.0, 99.0, 172.0, 110.0, 105.0, 50.0, 54.0, 150.0, 65.0, 299.0, 58.0, 157.0, 45.0, 80.0, 59.0, 76.0, 200.0, 150.0, 120.0, 100.0, 175.0, 125.0, 70.0, 72.0, 55.0, 24.0, 110.0, 50.0, 70.0, 130.0, 139.0, 70.0, 130.0, 76.0, 150.0, 49.0, 84.0, 56.0, 59.0, 100.0, 40.0, 46.0, 58.0, 120.0, 150.0, 100.0, 175.0, 41.0, 225.0, 75.0, 190.0, 70.0, 80.0, 27.0, 100.0, 65.0, 35.0, 300.0, 92.0, 35.0, 45.0, 170.0, 100.0, 52.0, 275.0, 125.0, 80.0, 58.0, 220.0, 50.0, 93.0, 37.0, 79.0, 90.0, 166.0, 65.0, 226.0, 180.0, 161.0, 149.0, 170.0, 102.0, 60.0, 59.0, 60.0, 50.0, 120.0, 250.0, 118.0, 60.0, 129.0, 110.0, 140.0, 299.0, 42.0, 176.0, 275.0, 173.0, 50.0, 65.0, 120.0, 61.0, 85.0, 75.0, 125.0, 40.0, 100.0, 280.0, 125.0, 170.0, 175.0, 70.0, 105.0, 208.0, 48.0, 200.0, 139.0, 129.0, 150.0, 119.0, 90.0, 65.0, 160.0, 70.0, 55.0, 45.0, 60.0, 45.0, 35.0, 45.0, 44.0, 125.0, 36.0, 85.0, 108.0, 40.0, 54.0, 43.0, 80.0, 95.0, 300.0, 170.0, 60.0, 129.0, 180.0, 60.0, 114.0, 110.0, 62.0, 181.0, 125.0, 250.0, 50.0, 100.0, 190.0, 125.0, 62.0, 75.0, 60.0, 50.0, 40.0, 150.0, 120.0, 40.0, 37.0, 70.0, 136.0, 80.0, 129.0, 49.0, 250.0, 200.0, 150.0, 75.0, 149.0, 80.0, 150.0, 100.0, 250.0, 160.0, 35.0, 65.0, 104.0, 60.0, 44.0, 125.0, 89.0, 80.0, 95.0, 65.0, 102.0, 139.0, 55.0, 108.0, 49.0, 129.0, 83.0, 89.0, 56.0, 80.0, 40.0, 50.0, 70.0, 200.0, 45.0, 85.0, 39.0, 90.0, 150.0, 100.0, 120.0, 100.0, 70.0, 80.0, 300.0, 36.0, 65.0, 53.0, 185.0, 65.0, 50.0, 75.0, 44.0, 52.0, 59.0, 85.0, 135.0, 62.0, 175.0, 200.0, 92.0, 44.0, 65.0, 130.0, 85.0, 70.0, 225.0, 71.0, 146.0, 75.0, 145.0, 45.0, 55.0, 55.0, 50.0, 150.0, 130.0, 51.0, 55.0, 50.0, 120.0, 150.0, 50.0, 40.0, 71.0, 75.0, 85.0, 100.0, 40.0, 50.0, 77.0, 100.0, 150.0, 135.0, 55.0, 55.0, 175.0, 50.0, 130.0, 36.0, 138.0, 39.0, 62.0, 53.0, 32.0, 38.0, 150.0, 300.0, 80.0, 275.0, 99.0, 200.0, 100.0, 120.0, 90.0, 31.0, 125.0, 150.0, 65.0, 125.0, 43.0, 80.0, 100.0, 158.0, 75.0, 199.0, 99.0, 35.0, 89.0, 200.0, 49.0, 120.0, 39.0, 179.0, 179.0, 179.0, 179.0, 150.0, 250.0, 179.0, 215.0, 179.0, 150.0, 95.0, 110.0, 150.0, 218.0, 130.0, 200.0, 60.0, 180.0, 60.0, 135.0, 72.0, 110.0, 100.0, 100.0, 150.0, 55.0, 35.0, 52.0, 50.0, 30.0, 125.0, 62.0, 89.0, 91.0, 35.0, 45.0, 209.0, 200.0, 60.0, 108.0, 200.0, 128.0, 40.0, 85.0, 118.0, 49.0, 125.0, 50.0, 52.0, 80.0, 80.0, 85.0, 108.0, 160.0, 40.0, 45.0, 135.0, 85.0, 150.0, 50.0, 45.0, 50.0, 35.0, 50.0, 275.0, 130.0, 85.0, 59.0, 50.0, 90.0, 55.0, 207.0, 125.0, 120.0, 52.0, 135.0, 115.0, 150.0, 170.0, 70.0, 199.0, 76.0, 49.0, 75.0, 195.0, 70.0, 95.0, 90.0, 62.0, 114.0, 67.0, 150.0, 68.0, 110.0, 299.0, 55.0, 175.0, 155.0, 187.0, 98.0, 170.0, 50.0, 75.0, 45.0, 45.0, 106.0, 109.0, 120.0, 199.0, 49.0, 55.0, 205.0, 225.0, 94.0, 110.0, 55.0, 75.0, 95.0, 58.0, 50.0, 45.0, 70.0, 41.0, 50.0, 95.0, 45.0, 250.0, 135.0, 90.0, 100.0, 160.0, 150.0, 65.0, 80.0, 101.0, 35.0, 239.0, 200.0, 56.0, 84.0, 106.0, 23.0, 56.0, 285.0, 69.0, 50.0, 160.0, 95.0, 130.0, 32.0, 88.0, 250.0, 130.0, 220.0, 80.0, 90.0, 125.0, 115.0, 150.0, 140.0, 150.0, 35.0, 149.0, 112.0, 77.0, 54.0, 290.0, 43.0, 45.0, 85.0, 44.0, 30.0, 56.0, 295.0, 95.0, 40.0, 99.0, 200.0, 250.0, 300.0, 214.0, 165.0, 127.0, 80.0, 135.0, 85.0, 100.0, 120.0, 22.0, 248.0, 67.0, 73.0, 277.0, 99.0, 239.0, 31.0, 150.0, 70.0, 150.0, 120.0, 55.0, 100.0, 140.0, 149.0, 80.0, 70.0, 35.0, 35.0, 60.0, 190.0, 60.0, 75.0, 110.0, 115.0, 300.0, 300.0, 149.0, 246.0, 98.0, 91.0, 55.0, 55.0, 60.0, 120.0, 42.0, 67.0, 130.0, 95.0, 45.0, 90.0, 100.0, 130.0, 54.0, 60.0, 135.0, 121.0, 94.0, 86.0, 195.0, 50.0, 37.0, 16.0, 35.0, 79.0, 100.0, 150.0, 22.0, 65.0, 40.0, 70.0, 166.0, 33.0, 170.0, 130.0, 210.0, 200.0, 290.0, 80.0, 70.0, 70.0, 230.0, 150.0, 175.0, 25.0, 48.0, 160.0, 65.0, 135.0, 50.0, 130.0, 130.0, 49.0, 50.0, 60.0, 125.0, 66.0, 250.0, 45.0, 71.0, 110.0, 22.0, 118.0, 34.0, 71.0, 70.0, 50.0, 55.0, 65.0, 106.0, 66.0, 91.0, 240.0, 99.0, 42.0, 300.0, 59.0, 55.0, 19.0, 129.0, 62.0, 199.0, 75.0, 88.0, 177.0, 160.0, 29.0, 120.0, 50.0, 110.0, 105.0, 200.0, 250.0, 170.0, 158.0, 150.0, 100.0, 50.0, 80.0, 70.0, 120.0, 100.0, 47.0, 91.0, 180.0, 180.0, 170.0, 150.0, 40.0, 40.0, 106.0, 215.0, 40.0, 125.0, 125.0, 35.0, 70.0, 80.0, 60.0, 150.0, 100.0, 60.0, 110.0, 64.0, 48.0, 120.0, 102.0, 140.0, 50.0, 50.0, 32.0, 49.0, 65.0, 45.0, 135.0, 122.0, 85.0, 90.0, 66.0, 112.0, 38.0, 122.0, 63.0, 110.0, 139.0, 50.0, 85.0, 38.0, 100.0, 60.0, 86.0, 80.0, 80.0, 200.0, 275.0, 45.0, 43.0, 35.0, 29.0, 230.0, 142.0, 80.0, 64.0, 95.0, 65.0, 28.0, 185.0, 120.0, 60.0, 111.0, 130.0, 36.0, 190.0, 102.0, 140.0, 291.0, 50.0, 54.0, 64.0, 51.0, 70.0, 200.0, 120.0, 129.0, 55.0, 185.0, 55.0, 40.0, 150.0, 120.0, 88.0, 200.0, 149.0, 80.0, 45.0, 58.0, 175.0, 35.0, 209.0, 100.0, 70.0, 60.0, 220.0, 104.0, 40.0, 100.0, 60.0, 85.0, 151.0, 34.0, 275.0, 75.0, 150.0, 108.0, 120.0, 129.0, 117.0, 71.0, 45.0, 99.0, 39.0, 50.0, 225.0, 102.0, 104.0, 145.0, 50.0, 126.0, 119.0, 300.0, 200.0, 45.0, 119.0, 125.0, 214.0, 57.0, 75.0, 92.0, 75.0, 83.0, 110.0, 79.0, 39.0, 245.0, 35.0, 250.0, 90.0, 90.0, 85.0, 27.0, 35.0, 85.0, 200.0, 85.0, 85.0, 115.0, 46.0, 60.0, 60.0, 55.0, 50.0, 50.0, 21.0, 146.0, 78.0, 260.0, 74.0, 120.0, 65.0, 57.0, 40.0, 80.0, 111.0, 50.0, 100.0, 85.0, 89.0, 114.0, 39.0, 118.0, 80.0, 30.0, 48.0, 80.0, 40.0, 45.0, 87.0, 161.0, 45.0, 48.0, 85.0, 85.0, 80.0, 55.0, 150.0, 45.0, 65.0, 60.0, 30.0, 164.0, 50.0, 120.0, 120.0, 175.0, 95.0, 42.0, 130.0, 195.0, 50.0, 115.0, 150.0, 93.0, 75.0, 80.0, 190.0, 300.0, 25.0, 50.0, 185.0, 65.0, 150.0, 85.0, 75.0, 95.0, 28.0, 78.0, 150.0, 40.0, 36.0, 225.0, 35.0, 27.0, 50.0, 110.0, 81.0, 113.0, 64.0, 75.0, 80.0, 150.0, 189.0, 200.0, 51.0, 170.0, 20.0, 125.0, 200.0, 75.0, 170.0, 110.0, 25.0, 174.0, 55.0, 85.0, 194.0, 90.0, 150.0, 75.0, 65.0, 200.0, 50.0, 109.0, 58.0, 170.0, 120.0, 75.0, 49.0, 95.0, 28.0, 60.0, 49.0, 128.0, 250.0, 64.0, 75.0, 99.0, 70.0, 156.0, 59.0, 150.0, 78.0, 60.0, 135.0, 104.0, 100.0, 65.0, 65.0, 65.0, 85.0, 65.0, 150.0, 185.0, 47.0, 175.0, 115.0, 105.0, 55.0, 26.0, 55.0, 95.0, 70.0, 40.0, 55.0, 65.0, 35.0, 115.0, 180.0, 145.0, 50.0, 160.0, 100.0, 60.0, 65.0, 50.0, 59.0, 55.0, 55.0, 59.0, 175.0, 74.0, 225.0, 110.0, 40.0, 48.0, 100.0, 62.0, 56.0, 59.0, 41.0, 80.0, 140.0, 75.0, 150.0, 35.0, 52.0, 69.0, 78.0, 46.0, 190.0, 250.0, 72.0, 125.0, 75.0, 100.0, 275.0, 70.0, 75.0, 175.0, 149.0, 150.0, 110.0, 80.0, 103.0, 139.0, 120.0, 135.0, 62.0, 70.0, 51.0, 33.0, 50.0, 220.0, 225.0, 30.0, 149.0, 75.0, 170.0, 150.0, 150.0, 159.0, 53.0, 150.0, 99.0, 129.0, 99.0, 50.0, 35.0, 185.0, 38.0, 20.0, 145.0, 125.0, 37.0, 50.0, 60.0, 39.0, 128.0, 99.0, 125.0, 35.0, 89.0, 149.0, 45.0, 22.0, 55.0, 45.0, 133.0, 70.0, 199.0, 75.0, 52.0, 73.0, 75.0, 75.0, 157.0, 60.0, 110.0, 135.0, 80.0, 120.0, 275.0, 67.0, 150.0, 250.0, 150.0, 90.0, 110.0, 120.0, 35.0, 41.0, 60.0, 101.0, 74.0, 99.0, 90.0, 65.0, 65.0, 94.0, 89.0, 25.0, 70.0, 250.0, 114.0, 104.0, 45.0, 55.0, 41.0, 45.0, 175.0, 120.0, 199.0, 125.0, 55.0, 42.0, 125.0, 106.0, 117.0, 55.0, 120.0, 68.0, 80.0, 80.0, 50.0, 75.0, 70.0, 83.0, 135.0, 95.0, 180.0, 116.0, 249.0, 60.0, 69.0, 120.0, 45.0, 104.0, 60.0, 60.0, 40.0, 45.0, 40.0, 33.0, 98.0, 295.0, 45.0, 268.0, 45.0, 73.0, 90.0, 220.0, 100.0, 70.0, 99.0, 95.0, 173.0, 66.0, 100.0, 60.0, 84.0, 134.0, 105.0, 100.0, 60.0, 120.0, 205.0, 92.0, 150.0, 57.0, 70.0, 99.0, 44.0, 58.0, 69.0, 80.0, 80.0, 60.0, 70.0, 34.0, 39.0, 89.0, 79.0, 70.0, 145.0, 160.0, 46.0, 26.0, 76.0, 178.0, 39.0, 70.0, 62.0, 90.0, 175.0, 200.0, 40.0, 129.0, 116.0, 65.0, 54.0, 55.0, 50.0, 75.0, 50.0, 281.0, 61.0, 120.0, 104.0, 39.0, 150.0, 55.0, 50.0, 94.0, 100.0, 139.0, 300.0, 60.0, 56.0, 250.0, 34.0, 180.0, 89.0, 68.0, 60.0, 60.0, 222.0, 50.0, 60.0, 63.0, 37.0, 39.0, 59.0, 125.0, 45.0, 49.0, 125.0, 300.0, 109.0, 80.0, 150.0, 175.0, 54.0, 165.0, 39.0, 50.0, 61.0, 93.0, 40.0, 300.0, 35.0, 189.0, 101.0, 73.0, 120.0, 117.0, 115.0, 40.0, 99.0, 80.0, 115.0, 115.0, 96.0, 60.0, 50.0, 36.0, 75.0, 69.0, 28.0, 110.0, 175.0, 92.0, 110.0, 66.0, 245.0, 50.0, 155.0, 258.0, 50.0, 70.0, 30.0, 160.0, 124.0, 150.0, 113.0, 90.0, 55.0, 90.0, 110.0, 65.0, 107.0, 175.0, 99.0, 80.0, 80.0, 98.0, 45.0, 88.0, 20.0, 150.0, 75.0, 130.0, 150.0, 42.0, 100.0, 25.0, 133.0, 135.0, 150.0, 79.0, 171.0, 35.0, 299.0, 200.0, 40.0, 70.0, 82.0, 100.0, 100.0, 75.0, 63.0, 65.0, 104.0, 50.0, 70.0, 123.0, 110.0, 55.0, 89.0, 159.0, 271.0, 55.0, 60.0, 250.0, 300.0, 146.0, 186.0, 75.0, 180.0, 45.0, 95.0, 196.0, 43.0, 55.0, 120.0, 39.0, 100.0, 285.0, 125.0, 92.0, 275.0, 60.0, 139.0, 119.0, 110.0, 75.0, 275.0, 164.0, 175.0, 100.0, 111.0, 40.0, 46.0, 66.0, 42.0, 75.0, 99.0, 50.0, 55.0, 125.0, 230.0, 176.0, 70.0, 250.0, 89.0, 55.0, 220.0, 192.0, 150.0, 180.0, 73.0, 265.0, 90.0, 100.0, 70.0, 193.0, 100.0, 64.0, 155.0, 130.0, 35.0, 90.0, 150.0, 65.0, 33.0, 110.0, 130.0, 40.0, 199.0, 110.0, 52.0, 55.0, 100.0, 183.0, 30.0, 72.0, 35.0, 73.0, 99.0, 99.0, 65.0, 100.0, 95.0, 26.0, 60.0, 130.0, 186.0, 70.0, 40.0, 100.0, 149.0, 39.0, 37.0, 120.0, 115.0, 92.0, 40.0, 64.0, 41.0, 63.0, 112.0, 38.0, 195.0, 65.0, 45.0, 130.0, 79.0, 117.0, 100.0, 100.0, 75.0, 90.0, 89.0, 35.0, 186.0, 125.0, 82.0, 100.0, 281.0, 150.0, 175.0, 55.0, 100.0, 178.0, 170.0, 43.0, 140.0, 79.0, 75.0, 185.0, 39.0, 125.0, 90.0, 119.0, 133.0, 190.0, 65.0, 150.0, 80.0, 250.0, 150.0, 240.0, 180.0, 90.0, 40.0, 80.0, 146.0, 60.0, 30.0, 200.0, 65.0, 190.0, 70.0, 245.0, 88.0, 286.0, 34.0, 64.0, 69.0, 125.0, 65.0, 114.0, 47.0, 122.0, 39.0, 37.0, 70.0, 122.0, 200.0, 43.0, 175.0, 250.0, 150.0, 45.0, 95.0, 80.0, 68.0, 159.0, 69.0, 22.0, 135.0, 135.0, 60.0, 157.0, 45.0, 45.0, 55.0, 47.0, 90.0, 70.0, 40.0, 115.0, 77.0, 75.0, 286.0, 286.0, 286.0, 65.0, 300.0, 164.0, 103.0, 185.0, 70.0, 150.0, 94.0, 114.0, 150.0, 115.0, 54.0, 55.0, 168.0, 48.0, 65.0, 50.0, 235.0, 195.0, 130.0, 86.0, 150.0, 54.0, 49.0, 160.0, 240.0, 175.0, 35.0, 106.0, 165.0, 210.0, 26.0, 70.0, 150.0, 30.0, 65.0, 70.0, 55.0, 48.0, 38.0, 189.0, 99.0, 35.0, 89.0, 45.0, 150.0, 99.0, 39.0, 42.0, 36.0, 75.0, 50.0, 145.0, 58.0, 125.0, 45.0, 75.0, 139.0, 41.0, 38.0, 52.0, 180.0, 133.0, 69.0, 45.0, 50.0, 100.0, 61.0, 42.0, 79.0, 135.0, 199.0, 55.0, 139.0, 199.0, 65.0, 100.0, 95.0, 250.0, 130.0, 200.0, 55.0, 35.0, 95.0, 165.0, 99.0, 201.0, 50.0, 60.0, 47.0, 60.0, 45.0, 29.0, 55.0, 95.0, 173.0, 185.0, 117.0, 79.0, 150.0, 40.0, 127.0, 121.0, 80.0, 225.0, 160.0, 130.0, 72.0, 80.0, 99.0, 50.0, 105.0, 75.0, 73.0, 115.0, 55.0, 100.0, 58.0, 185.0, 140.0, 250.0, 115.0, 110.0, 210.0, 100.0, 118.0, 81.0, 82.0, 53.0, 70.0, 141.0, 150.0, 215.0, 65.0, 45.0, 100.0, 44.0, 159.0, 300.0, 70.0, 66.0, 55.0, 160.0, 55.0, 60.0, 146.0, 41.0, 60.0, 50.0, 75.0, 150.0, 40.0, 160.0, 140.0, 90.0, 150.0, 186.0, 70.0, 56.0, 130.0, 135.0, 300.0, 47.0, 52.0, 200.0, 249.0, 85.0, 53.0, 53.0, 59.0, 55.0, 55.0, 82.0, 96.0, 130.0, 200.0, 44.0, 125.0, 59.0, 55.0, 80.0, 55.0, 51.0, 175.0, 59.0, 150.0, 65.0, 85.0, 115.0, 69.0, 90.0, 80.0, 99.0, 122.0, 300.0, 45.0, 76.0, 100.0, 115.0, 70.0, 85.0, 119.0, 39.0, 140.0, 180.0, 67.0, 118.0, 45.0, 88.0, 40.0, 50.0, 65.0, 39.0, 275.0, 65.0, 161.0, 100.0, 107.0, 42.0, 38.0, 100.0, 188.0, 45.0, 125.0, 200.0, 77.0, 72.0, 80.0, 35.0, 164.0, 71.0, 50.0, 250.0, 55.0, 108.0, 50.0, 131.0, 29.0, 69.0, 100.0, 100.0, 265.0, 78.0, 125.0, 109.0, 125.0, 79.0, 79.0, 130.0, 50.0, 181.0, 130.0, 78.0, 65.0, 155.0, 85.0, 66.0, 273.0, 100.0, 300.0, 125.0, 150.0, 200.0, 100.0, 70.0, 115.0, 30.0, 155.0, 37.0, 55.0, 65.0, 85.0, 91.0, 30.0, 82.0, 92.0, 35.0, 120.0, 24.0, 150.0, 175.0, 300.0, 75.0, 153.0, 145.0, 99.0, 39.0, 100.0, 269.0, 65.0, 115.0, 91.0, 160.0, 62.0, 65.0, 99.0, 106.0, 62.0, 162.0, 127.0, 130.0, 90.0, 89.0, 150.0, 90.0, 132.0, 73.0, 50.0, 55.0, 120.0, 75.0, 125.0, 50.0, 30.0, 200.0, 109.0, 150.0, 79.0, 126.0, 199.0, 79.0, 85.0, 32.0, 250.0, 80.0, 68.0, 44.0, 100.0, 100.0, 178.0, 83.0, 40.0, 60.0, 59.0, 85.0, 135.0, 133.0, 76.0, 120.0, 75.0, 125.0, 45.0, 190.0, 99.0, 50.0, 130.0, 150.0, 150.0, 55.0, 74.0, 27.0, 165.0, 45.0, 48.0, 56.0, 191.0, 85.0, 49.0, 60.0, 38.0, 83.0, 70.0, 130.0, 59.0, 107.0, 145.0, 51.0, 72.0, 75.0, 200.0, 200.0, 100.0, 250.0, 50.0, 110.0, 93.0, 135.0, 65.0, 196.0, 107.0, 159.0, 75.0, 45.0, 79.0, 27.0, 58.0, 90.0, 62.0, 250.0, 70.0, 100.0, 149.0, 80.0, 47.0, 70.0, 33.0, 52.0, 75.0, 65.0, 104.0, 50.0, 65.0, 50.0, 48.0, 299.0, 82.0, 70.0, 140.0, 150.0, 55.0, 55.0, 85.0, 40.0, 85.0, 165.0, 64.0, 130.0, 115.0, 100.0, 105.0, 50.0, 85.0, 55.0, 50.0, 75.0, 85.0, 150.0, 72.0, 75.0, 36.0, 279.0, 200.0, 80.0, 275.0, 194.0, 186.0, 139.0, 150.0, 120.0, 89.0, 130.0, 40.0, 45.0, 120.0, 85.0, 53.0, 95.0, 125.0, 250.0, 65.0, 180.0, 80.0, 83.0, 145.0, 55.0, 75.0, 91.0, 168.0, 80.0, 150.0, 109.0, 79.0, 90.0, 215.0, 164.0, 60.0, 62.0, 99.0, 99.0, 50.0, 180.0, 39.0, 195.0, 60.0, 135.0, 170.0, 115.0, 125.0, 53.0, 110.0, 64.0, 70.0, 48.0, 30.0, 190.0, 73.0, 110.0, 95.0, 223.0, 33.0, 164.0, 50.0, 129.0, 161.0, 179.0, 125.0, 115.0, 79.0, 50.0, 225.0, 118.0, 135.0, 54.0, 40.0, 106.0, 250.0, 100.0, 135.0, 199.0, 78.0, 297.0, 90.0, 100.0, 70.0, 105.0, 69.0, 199.0, 115.0, 133.0, 80.0, 140.0, 97.0, 85.0, 135.0, 30.0, 82.0, 85.0, 70.0, 192.0, 150.0, 150.0, 125.0, 115.0, 275.0, 94.0, 92.0, 49.0, 36.0, 45.0, 45.0, 118.0, 70.0, 38.0, 178.0, 150.0, 169.0, 169.0, 85.0, 250.0, 150.0, 143.0, 42.0, 100.0, 138.0, 72.0, 139.0, 72.0, 164.0, 95.0, 60.0, 220.0, 175.0, 99.0, 80.0, 205.0, 64.0, 129.0, 35.0, 175.0, 150.0, 100.0, 85.0, 165.0, 130.0, 139.0, 45.0, 116.0, 100.0, 128.0, 38.0, 85.0, 112.0, 113.0, 260.0, 65.0, 139.0, 145.0, 100.0, 60.0, 69.0, 150.0, 85.0, 63.0, 197.0, 300.0, 48.0, 146.0, 50.0, 100.0, 170.0, 179.0, 93.0, 75.0, 60.0, 195.0, 125.0, 40.0, 219.0, 40.0, 73.0, 121.0, 65.0, 145.0, 65.0, 40.0, 35.0, 105.0, 45.0, 59.0, 150.0, 140.0, 150.0, 92.0, 60.0, 144.0, 52.0, 54.0, 144.0, 100.0, 40.0, 165.0, 148.0, 94.0, 128.0, 150.0, 150.0, 150.0, 30.0, 200.0, 145.0, 75.0, 147.0, 182.0, 200.0, 110.0, 70.0, 250.0, 85.0, 59.0, 109.0, 86.0, 72.0, 236.0, 80.0, 75.0, 185.0, 95.0, 80.0, 51.0, 203.0, 70.0, 110.0, 85.0, 36.0, 125.0, 55.0, 89.0, 30.0, 120.0, 81.0, 70.0, 80.0, 100.0, 125.0, 79.0, 40.0, 30.0, 50.0, 219.0, 42.0, 92.0, 89.0, 40.0, 100.0, 85.0, 120.0, 40.0, 100.0, 150.0, 35.0, 80.0, 69.0, 195.0, 225.0, 65.0, 140.0, 114.0, 83.0, 60.0, 200.0, 195.0, 85.0, 46.0, 116.0, 161.0, 160.0, 140.0, 100.0, 50.0, 99.0, 214.0, 199.0, 200.0, 175.0, 70.0, 150.0, 65.0, 43.0, 109.0, 88.0, 89.0, 150.0, 150.0, 60.0, 225.0, 90.0, 70.0, 79.0, 145.0, 50.0, 62.0, 40.0, 300.0, 185.0, 88.0, 274.0, 143.0, 150.0, 130.0, 120.0, 145.0, 130.0, 50.0, 175.0, 99.0, 190.0, 88.0, 50.0, 159.0, 65.0, 30.0, 28.0, 27.0, 52.0, 47.0, 47.0, 60.0, 200.0, 69.0, 50.0, 45.0, 130.0, 257.0, 80.0, 70.0, 35.0, 250.0, 74.0, 62.0, 125.0, 35.0, 45.0, 33.0, 99.0, 109.0, 150.0, 60.0, 80.0, 50.0, 81.0, 85.0, 166.0, 69.0, 221.0, 40.0, 60.0, 38.0, 99.0, 195.0, 55.0, 115.0, 89.0, 180.0, 130.0, 124.0, 45.0, 45.0, 46.0, 150.0, 200.0, 27.0, 195.0, 110.0, 295.0, 32.0, 125.0, 100.0, 135.0, 25.0, 85.0, 49.0, 75.0, 76.0, 150.0, 250.0, 20.0, 134.0, 85.0, 140.0, 55.0, 109.0, 98.0, 46.0, 40.0, 200.0, 175.0, 106.0, 65.0, 61.0, 60.0, 35.0, 65.0, 179.0, 131.0, 53.0, 53.0, 60.0, 115.0, 71.0, 99.0, 70.0, 105.0, 120.0, 91.0, 60.0, 60.0, 150.0, 89.0, 90.0, 80.0, 95.0, 133.0, 265.0, 200.0, 185.0, 110.0, 114.0, 104.0, 135.0, 94.0, 130.0, 60.0, 90.0, 80.0, 150.0, 70.0, 75.0, 98.0, 96.0, 65.0, 106.0, 110.0, 179.0, 75.0, 60.0, 269.0, 112.0, 250.0, 87.0, 72.0, 120.0, 100.0, 120.0, 70.0, 80.0, 89.0, 71.0, 55.0, 69.0, 150.0, 265.0, 59.0, 25.0, 50.0, 28.0, 200.0, 35.0, 90.0, 38.0, 85.0, 130.0, 298.0, 100.0, 55.0, 299.0, 65.0, 80.0, 55.0, 264.0, 114.0, 110.0, 200.0, 50.0, 150.0, 300.0, 206.0, 130.0, 43.0, 175.0, 98.0, 199.0, 99.0, 105.0, 168.0, 175.0, 99.0, 156.0, 70.0, 95.0, 73.0, 59.0, 36.0, 90.0, 126.0, 230.0, 80.0, 235.0, 75.0, 170.0, 120.0, 109.0, 100.0, 107.0, 75.0, 70.0, 79.0, 140.0, 160.0, 20.0, 78.0, 135.0, 250.0, 264.0, 165.0, 105.0, 299.0, 51.0, 79.0, 160.0, 80.0, 64.0, 295.0, 60.0, 80.0, 53.0, 60.0, 150.0, 70.0, 209.0, 107.0, 285.0, 50.0, 45.0, 99.0, 44.0, 39.0, 75.0, 50.0, 66.0, 135.0, 230.0, 225.0, 26.0, 101.0, 220.0, 68.0, 230.0, 95.0, 125.0, 40.0, 65.0, 149.0, 48.0, 92.0, 75.0, 93.0, 110.0, 161.0, 160.0, 160.0, 60.0, 75.0, 300.0, 204.0, 195.0, 100.0, 100.0, 50.0, 75.0, 45.0, 40.0, 252.0, 45.0, 103.0, 45.0, 41.0, 125.0, 124.0, 74.0, 99.0, 99.0, 120.0, 50.0, 90.0, 90.0, 65.0, 89.0, 109.0, 125.0, 179.0, 50.0, 250.0, 55.0, 80.0, 100.0, 100.0, 259.0, 107.0, 70.0, 125.0, 51.0, 96.0, 70.0, 213.0, 199.0, 75.0, 65.0, 150.0, 71.0, 100.0, 42.0, 80.0, 75.0, 165.0, 70.0, 185.0, 120.0, 50.0, 53.0, 32.0, 23.0, 50.0, 65.0, 125.0, 226.0, 50.0, 59.0, 95.0, 105.0, 80.0, 120.0, 40.0, 65.0, 72.0, 125.0, 175.0, 49.0, 43.0, 70.0, 190.0, 150.0, 68.0, 47.0, 37.0, 65.0, 155.0, 68.0, 71.0, 246.0, 210.0, 180.0, 85.0, 150.0, 118.0, 95.0, 149.0, 49.0, 200.0, 34.0, 129.0, 70.0, 90.0, 195.0, 140.0, 35.0, 82.0, 80.0, 100.0, 100.0, 245.0, 108.0, 240.0, 41.0, 120.0, 129.0, 265.0, 49.0, 92.0, 55.0, 75.0, 49.0, 44.0, 10.0, 200.0, 80.0, 55.0, 31.0, 175.0, 60.0, 166.0, 76.0, 85.0, 150.0, 95.0, 45.0, 72.0, 150.0, 195.0, 60.0, 189.0, 100.0, 210.0, 121.0, 50.0, 80.0, 75.0, 45.0, 92.0, 60.0, 95.0, 49.0, 128.0, 165.0, 150.0, 31.0, 51.0, 135.0, 150.0, 15.0, 150.0, 50.0, 220.0, 70.0, 51.0, 55.0, 270.0, 85.0, 70.0, 64.0, 155.0, 150.0, 34.0, 200.0, 150.0, 100.0, 93.0, 28.0, 100.0, 85.0, 195.0, 30.0, 23.0, 250.0, 55.0, 99.0, 146.0, 58.0, 150.0, 58.0, 179.0, 92.0, 45.0, 70.0, 89.0, 110.0, 60.0, 55.0, 125.0, 57.0, 70.0, 185.0, 55.0, 150.0, 175.0, 245.0, 90.0, 200.0, 250.0, 31.0, 150.0, 275.0, 297.0, 115.0, 150.0, 95.0, 115.0, 175.0, 75.0, 186.0, 124.0, 156.0, 147.0, 78.0, 70.0, 80.0, 150.0, 40.0, 175.0, 89.0, 75.0, 110.0, 99.0, 94.0, 40.0, 257.0, 22.0, 31.0, 112.0, 112.0, 99.0, 175.0, 89.0, 125.0, 120.0, 125.0, 250.0, 41.0, 35.0, 50.0, 150.0, 99.0, 60.0, 85.0, 99.0, 65.0, 80.0, 140.0, 39.0, 40.0, 130.0, 75.0, 250.0, 43.0, 40.0, 80.0, 114.0, 70.0, 39.0, 46.0, 68.0, 68.0, 100.0, 125.0, 185.0, 165.0, 199.0, 280.0, 140.0, 87.0, 275.0, 225.0, 215.0, 148.0, 150.0, 99.0, 234.0, 142.0, 50.0, 73.0, 70.0, 41.0, 100.0, 155.0, 60.0, 195.0, 250.0, 50.0, 94.0, 150.0, 75.0, 78.0, 72.0, 39.0, 56.0, 210.0, 49.0, 162.0, 125.0, 125.0, 55.0, 150.0, 75.0, 87.0, 200.0, 150.0, 79.0, 106.0, 91.0, 125.0, 120.0, 150.0, 65.0, 131.0, 120.0, 34.0, 60.0, 120.0, 156.0, 281.0, 55.0, 65.0, 225.0, 24.0, 179.0, 91.0, 190.0, 72.0, 250.0, 140.0, 90.0, 54.0, 111.0, 37.0, 175.0, 145.0, 49.0, 26.0, 45.0, 90.0, 97.0, 100.0, 110.0, 70.0, 30.0, 70.0, 125.0, 165.0, 41.0, 65.0, 75.0, 22.0, 76.0, 180.0, 285.0, 170.0, 120.0, 130.0, 50.0, 115.0, 192.0, 109.0, 100.0, 65.0, 199.0, 75.0, 180.0, 80.0, 190.0, 200.0, 84.0, 53.0, 200.0, 75.0, 120.0, 135.0, 200.0, 50.0, 53.0, 39.0, 250.0, 225.0, 180.0, 210.0, 200.0, 199.0, 56.0, 45.0, 50.0, 140.0, 59.0, 85.0, 120.0, 115.0, 70.0, 85.0, 50.0, 59.0, 48.0, 125.0, 160.0, 135.0, 112.0, 65.0, 53.0, 38.0, 225.0, 38.0, 185.0, 300.0, 55.0, 170.0, 185.0, 120.0, 175.0, 60.0, 38.0, 275.0, 120.0, 62.0, 160.0, 55.0, 160.0, 135.0, 105.0, 25.0, 80.0, 80.0, 89.0, 110.0, 40.0, 80.0, 34.0, 39.0, 100.0, 135.0, 40.0, 145.0, 56.0, 150.0, 55.0, 65.0, 250.0, 52.0, 49.0, 45.0, 26.0, 120.0, 60.0, 175.0, 50.0, 190.0, 230.0, 126.0, 64.0, 47.0, 235.0, 300.0, 200.0, 215.0, 99.0, 230.0, 143.0, 220.0, 200.0, 160.0, 253.0, 100.0, 30.0, 125.0, 116.0, 80.0, 80.0, 190.0, 82.0, 62.0, 42.0, 150.0, 250.0, 150.0, 70.0, 74.0, 43.0, 125.0, 57.0, 160.0, 175.0, 45.0, 140.0, 35.0, 133.0, 82.0, 49.0, 150.0, 42.0, 49.0, 60.0, 100.0, 60.0, 75.0, 110.0, 250.0, 48.0, 120.0, 66.0, 50.0, 195.0, 76.0, 58.0, 40.0, 76.0, 152.0, 185.0, 140.0, 85.0, 63.0, 200.0, 65.0, 69.0, 52.0, 175.0, 100.0, 139.0, 80.0, 65.0, 45.0, 80.0, 75.0, 298.0, 50.0, 125.0, 39.0, 100.0, 90.0, 60.0, 175.0, 100.0, 175.0, 65.0, 50.0, 101.0, 45.0, 130.0, 275.0, 89.0, 55.0, 44.0, 90.0, 81.0, 55.0, 150.0, 75.0, 75.0, 27.0, 77.0, 39.0, 80.0, 89.0, 281.0, 45.0, 40.0, 40.0, 40.0, 90.0, 87.0, 115.0, 250.0, 170.0, 154.0, 130.0, 295.0, 120.0, 200.0, 105.0, 170.0, 120.0, 178.0, 206.0, 61.0, 125.0, 106.0, 195.0, 75.0, 117.0, 160.0, 150.0, 79.0, 90.0, 79.0, 75.0, 175.0, 59.0, 120.0, 65.0, 38.0, 70.0, 35.0, 60.0, 150.0, 32.0, 60.0, 113.0, 150.0, 70.0, 89.0, 120.0, 185.0, 75.0, 119.0, 120.0, 120.0, 110.0, 29.0, 125.0, 99.0, 70.0, 288.0, 80.0, 180.0, 150.0, 101.0, 63.0, 120.0, 60.0, 127.0, 150.0, 160.0, 100.0, 300.0, 176.0, 60.0, 200.0, 87.0, 133.0, 150.0, 80.0, 30.0, 220.0, 89.0, 65.0, 150.0, 65.0, 65.0, 62.0, 89.0, 55.0, 24.0, 49.0, 150.0, 65.0, 140.0, 129.0, 89.0, 60.0, 105.0, 109.0, 74.0, 175.0, 129.0, 79.0, 80.0, 140.0, 119.0, 180.0, 88.0, 55.0, 80.0, 105.0, 250.0, 155.0, 75.0, 190.0, 89.0, 60.0, 40.0, 300.0, 175.0, 40.0, 150.0, 45.0, 135.0, 62.0, 85.0, 289.0, 175.0, 25.0, 60.0, 56.0, 75.0, 50.0, 36.0, 123.0, 150.0, 200.0, 125.0, 75.0, 60.0, 90.0, 65.0, 150.0, 175.0, 275.0, 165.0, 95.0, 65.0, 260.0, 95.0, 39.0, 70.0, 45.0, 65.0, 197.0, 43.0, 45.0, 130.0, 51.0, 70.0, 186.0, 46.0, 79.0, 55.0, 37.0, 144.0, 27.0, 180.0, 120.0, 55.0, 130.0, 150.0, 189.0, 150.0, 69.0, 200.0, 105.0, 119.0, 197.0, 60.0, 175.0, 160.0, 80.0, 55.0, 140.0, 145.0, 55.0, 31.0, 50.0, 120.0, 125.0, 45.0, 50.0, 27.0, 175.0, 175.0, 56.0, 199.0, 65.0, 157.0, 144.0, 110.0, 34.0, 69.0, 44.0, 155.0, 70.0, 50.0, 89.0, 35.0, 104.0, 120.0, 56.0, 125.0, 245.0, 55.0, 75.0, 38.0, 60.0, 39.0, 85.0, 144.0, 34.0, 100.0, 30.0, 200.0, 32.0, 29.0, 80.0, 45.0, 200.0, 150.0, 95.0, 50.0, 59.0, 142.0, 83.0, 75.0, 150.0, 250.0, 116.0, 225.0, 150.0, 100.0, 77.0, 67.0, 38.0, 113.0, 250.0, 128.0, 69.0, 85.0, 29.0, 49.0, 50.0, 60.0, 144.0, 91.0, 40.0, 40.0, 175.0, 179.0, 150.0, 60.0, 45.0, 150.0, 150.0, 90.0, 110.0, 75.0, 85.0, 58.0, 175.0, 65.0, 55.0, 125.0, 50.0, 70.0, 100.0, 80.0, 56.0, 161.0, 60.0, 60.0, 89.0, 143.0, 90.0, 89.0, 79.0, 79.0, 95.0, 275.0, 45.0, 50.0, 119.0, 36.0, 200.0, 119.0, 140.0, 175.0, 52.0, 99.0, 37.0, 248.0, 295.0, 77.0, 96.0, 57.0, 58.0, 70.0, 65.0, 200.0, 199.0, 85.0, 100.0, 90.0, 85.0, 190.0, 43.0, 100.0, 109.0, 109.0, 150.0, 59.0, 185.0, 70.0, 70.0, 255.0, 50.0, 175.0, 170.0, 98.0, 68.0, 79.0, 48.0, 120.0, 135.0, 70.0, 130.0, 180.0, 100.0, 146.0, 119.0, 30.0, 48.0, 120.0, 53.0, 135.0, 48.0, 250.0, 69.0, 146.0, 66.0, 99.0, 53.0, 179.0, 164.0, 80.0, 69.0, 149.0, 94.0, 300.0, 85.0, 55.0, 86.0, 99.0, 105.0, 80.0, 120.0, 100.0, 50.0, 90.0, 171.0, 39.0, 95.0, 45.0, 105.0, 100.0, 150.0, 85.0, 199.0, 119.0, 75.0, 250.0, 214.0, 55.0, 80.0, 95.0, 46.0, 98.0, 44.0, 50.0, 226.0, 55.0, 70.0, 55.0, 49.0, 160.0, 188.0, 204.0, 100.0, 96.0, 185.0, 130.0, 44.0, 140.0, 180.0, 180.0, 180.0, 129.0, 89.0, 150.0, 121.0, 100.0, 149.0, 20.0, 56.0, 140.0, 159.0, 150.0, 49.0, 179.0, 60.0, 122.0, 55.0, 54.0, 65.0, 85.0, 90.0, 150.0, 180.0, 29.0, 55.0, 85.0, 50.0, 100.0, 120.0, 90.0, 60.0, 55.0, 48.0, 101.0, 75.0, 120.0, 175.0, 151.0, 50.0, 75.0, 199.0, 77.0, 50.0, 85.0, 40.0, 120.0, 48.0, 50.0, 95.0, 102.0, 36.0, 80.0, 80.0, 285.0, 40.0, 68.0, 38.0, 175.0, 85.0, 140.0, 90.0, 60.0, 50.0, 250.0, 135.0, 150.0, 49.0, 32.0, 100.0, 30.0, 110.0, 50.0, 43.0, 230.0, 60.0, 232.0, 41.0, 84.0, 70.0, 69.0, 287.0, 100.0, 75.0, 125.0, 165.0, 120.0, 150.0, 60.0, 60.0, 150.0, 210.0, 100.0, 300.0, 35.0, 56.0, 50.0, 47.0, 96.0, 41.0, 65.0, 35.0, 40.0, 52.0, 175.0, 200.0, 100.0, 100.0, 40.0, 48.0, 48.0, 53.0, 199.0, 130.0, 135.0, 75.0, 78.0, 44.0, 150.0, 45.0, 54.0, 30.0, 68.0, 150.0, 40.0, 185.0, 199.0, 35.0, 195.0, 175.0, 80.0, 99.0, 39.0, 40.0, 200.0, 250.0, 35.0, 70.0, 240.0, 39.0, 94.0, 55.0, 84.0, 80.0, 45.0, 59.0, 60.0, 57.0, 38.0, 45.0, 40.0, 41.0, 45.0, 38.0, 41.0, 38.0, 39.0, 41.0, 100.0, 240.0, 68.0, 43.0, 57.0, 53.0, 95.0, 71.0, 41.0, 105.0, 60.0, 249.0, 214.0, 67.0, 79.0, 55.0, 140.0, 53.0, 135.0, 57.0, 57.0, 94.0, 99.0, 50.0, 26.0, 125.0, 160.0, 50.0, 150.0, 52.0, 164.0, 215.0, 250.0, 185.0, 75.0, 190.0, 232.0, 50.0, 176.0, 95.0, 92.0, 85.0, 80.0, 120.0, 140.0, 56.0, 250.0, 79.0, 85.0, 200.0, 50.0, 100.0, 150.0, 99.0, 100.0, 60.0, 46.0, 40.0, 80.0, 99.0, 85.0, 47.0, 60.0, 77.0, 146.0, 65.0, 75.0, 150.0, 33.0, 150.0, 25.0, 97.0, 64.0, 149.0, 40.0, 100.0, 257.0, 65.0, 39.0, 56.0, 45.0, 293.0, 191.0, 45.0, 120.0, 50.0, 180.0, 50.0, 129.0, 150.0, 45.0, 110.0, 74.0, 235.0, 99.0, 110.0, 34.0, 85.0, 119.0, 24.0, 65.0, 192.0, 80.0, 28.0, 110.0, 70.0, 140.0, 111.0, 80.0, 175.0, 175.0, 95.0, 55.0, 89.0, 140.0, 69.0, 200.0, 93.0, 29.0, 70.0, 96.0, 250.0, 54.0, 290.0, 80.0, 80.0, 30.0, 50.0, 125.0, 120.0, 65.0, 85.0, 66.0, 66.0, 81.0, 200.0, 116.0, 179.0, 149.0, 70.0, 130.0, 210.0, 45.0, 125.0, 150.0, 170.0, 40.0, 103.0, 31.0, 95.0, 33.0, 33.0, 80.0, 130.0, 75.0, 175.0, 55.0, 80.0, 146.0, 70.0, 39.0, 120.0, 118.0, 149.0, 45.0, 51.0, 92.0, 130.0, 50.0, 70.0, 105.0, 93.0, 23.0, 30.0, 175.0, 90.0, 55.0, 90.0, 70.0, 73.0, 110.0, 125.0, 59.0, 250.0, 125.0, 123.0, 60.0, 67.0, 46.0, 40.0, 135.0, 249.0, 200.0, 90.0, 75.0, 50.0, 271.0, 88.0, 65.0, 61.0, 95.0, 260.0, 108.0, 40.0, 77.0, 75.0, 80.0, 195.0, 39.0, 93.0, 45.0, 100.0, 43.0, 89.0, 70.0, 124.0, 180.0, 300.0, 165.0, 89.0, 180.0, 250.0, 55.0, 215.0, 98.0, 49.0, 180.0, 135.0, 69.0, 225.0, 66.0, 50.0, 125.0, 53.0, 53.0, 34.0, 50.0, 148.0, 233.0, 100.0, 53.0, 165.0, 204.0, 55.0, 75.0, 135.0, 205.0, 35.0, 159.0, 45.0, 41.0, 63.0, 33.0, 32.0, 96.0, 130.0, 115.0, 123.0, 135.0, 50.0, 69.0, 62.0, 72.0, 295.0, 246.0, 98.0, 157.0, 100.0, 70.0, 200.0, 50.0, 120.0, 64.0, 59.0, 69.0, 100.0, 117.0, 87.0, 265.0, 81.0, 95.0, 55.0, 58.0, 78.0, 99.0, 70.0, 92.0, 100.0, 28.0, 31.0, 119.0, 105.0, 70.0, 102.0, 90.0, 100.0, 120.0, 209.0, 40.0, 79.0, 59.0, 61.0, 130.0, 99.0, 35.0, 70.0, 100.0, 120.0, 175.0, 50.0, 75.0, 179.0, 199.0, 229.0, 200.0, 59.0, 250.0, 290.0, 39.0, 89.0, 120.0, 45.0, 109.0, 50.0, 98.0, 162.0, 145.0, 199.0, 38.0, 59.0, 38.0, 129.0, 98.0, 165.0, 185.0, 100.0, 160.0, 275.0, 70.0, 125.0, 63.0, 150.0, 125.0, 70.0, 35.0, 150.0, 15.0, 60.0, 50.0, 132.0, 125.0, 185.0, 69.0, 180.0, 225.0, 150.0, 190.0, 280.0, 150.0, 140.0, 110.0, 242.0, 33.0, 175.0, 300.0, 60.0, 200.0, 27.0, 124.0, 39.0, 255.0, 167.0, 120.0, 160.0, 68.0, 99.0, 49.0, 140.0, 150.0, 140.0, 260.0, 299.0, 75.0, 170.0, 90.0, 170.0, 78.0, 77.0, 73.0, 200.0, 90.0, 128.0, 77.0, 80.0, 65.0, 98.0, 185.0, 100.0, 55.0, 22.0, 110.0, 65.0, 38.0, 41.0, 39.0, 39.0, 150.0, 179.0, 235.0, 170.0, 117.0, 300.0, 45.0, 85.0, 100.0, 136.0, 66.0, 35.0, 56.0, 82.0, 115.0, 120.0, 55.0, 100.0, 52.0, 45.0, 90.0, 56.0, 92.0, 91.0, 60.0, 28.0, 110.0, 165.0, 50.0, 150.0, 80.0, 95.0, 59.0, 62.0, 31.0, 110.0, 85.0, 175.0, 85.0, 100.0, 100.0, 127.0, 135.0, 127.0, 105.0, 139.0, 85.0, 50.0, 150.0, 254.0, 76.0, 120.0, 225.0, 143.0, 23.0, 246.0, 150.0, 80.0, 60.0, 70.0, 55.0, 60.0, 201.0, 180.0, 245.0, 145.0, 60.0, 195.0, 68.0, 65.0, 88.0, 103.0, 115.0, 250.0, 69.0, 140.0, 100.0, 250.0, 105.0, 250.0, 206.0, 129.0, 135.0, 295.0, 108.0, 275.0, 91.0, 158.0, 60.0, 110.0, 106.0, 85.0, 38.0, 50.0, 65.0, 100.0, 75.0, 70.0, 145.0, 150.0, 59.0, 40.0, 90.0, 40.0, 150.0, 95.0, 75.0, 121.0, 250.0, 295.0, 60.0, 180.0, 132.0, 250.0, 80.0, 65.0, 107.0, 100.0, 60.0, 79.0, 300.0, 150.0, 41.0, 65.0, 78.0, 80.0, 85.0, 60.0, 100.0, 80.0, 225.0, 150.0, 76.0, 60.0, 230.0, 120.0, 98.0, 72.0, 52.0, 150.0, 59.0, 150.0, 90.0, 220.0, 45.0, 99.0, 50.0, 130.0, 300.0, 198.0, 230.0, 79.0, 180.0, 190.0, 180.0, 170.0, 120.0, 70.0, 23.0, 185.0, 179.0, 115.0, 200.0, 150.0, 271.0, 190.0, 70.0, 150.0, 130.0, 140.0, 72.0, 33.0, 45.0, 110.0, 175.0, 125.0, 119.0, 83.0, 100.0, 179.0, 295.0, 45.0, 128.0, 75.0, 40.0, 49.0, 45.0, 45.0, 45.0, 53.0, 161.0, 31.0, 156.0, 90.0, 37.0, 125.0, 74.0, 113.0, 60.0, 199.0, 64.0, 150.0, 160.0, 25.0, 105.0, 85.0, 42.0, 29.0, 65.0, 280.0, 50.0, 98.0, 120.0, 64.0, 28.0, 33.0, 180.0, 95.0, 79.0, 150.0, 60.0, 75.0, 50.0, 200.0, 100.0, 65.0, 55.0, 81.0, 180.0, 59.0, 95.0, 245.0, 105.0, 66.0, 163.0, 98.0, 33.0, 55.0, 225.0, 140.0, 120.0, 65.0, 175.0, 83.0, 180.0, 105.0, 202.0, 100.0, 135.0, 211.0, 100.0, 189.0, 90.0, 58.0, 75.0, 68.0, 55.0, 119.0, 40.0, 109.0, 60.0, 150.0, 252.0, 217.0, 114.0, 240.0, 280.0, 44.0, 126.0, 55.0, 241.0, 95.0, 60.0, 147.0, 100.0, 299.0, 300.0, 63.0, 100.0, 266.0, 218.0, 86.0, 199.0, 80.0, 120.0, 99.0, 75.0, 70.0, 48.0, 141.0, 132.0, 86.0, 50.0, 60.0, 69.0, 75.0, 195.0, 40.0, 195.0, 25.0, 127.0, 115.0, 79.0, 100.0, 41.0, 118.0, 59.0, 120.0, 50.0, 118.0, 200.0, 70.0, 60.0, 50.0, 280.0, 130.0, 190.0, 135.0, 250.0, 166.0, 250.0, 295.0, 50.0, 100.0, 197.0, 114.0, 150.0, 70.0, 97.0, 85.0, 91.0, 55.0, 140.0, 70.0, 199.0, 130.0, 175.0, 105.0, 86.0, 149.0, 75.0, 140.0, 45.0, 65.0, 210.0, 225.0, 140.0, 80.0, 200.0, 90.0, 100.0, 60.0, 200.0, 30.0, 90.0, 75.0, 108.0, 150.0, 150.0, 60.0, 180.0, 100.0, 299.0, 150.0, 125.0, 85.0, 111.0, 111.0, 90.0, 115.0, 70.0, 95.0, 200.0, 82.0, 80.0, 79.0, 70.0, 44.0, 50.0, 55.0, 83.0, 200.0, 133.0, 150.0, 135.0, 150.0, 150.0, 89.0, 120.0, 62.0, 105.0, 36.0, 73.0, 214.0, 65.0, 191.0, 46.0, 36.0, 106.0, 70.0, 150.0, 95.0, 43.0, 23.0, 25.0, 165.0, 106.0, 106.0, 275.0, 35.0, 275.0, 200.0, 99.0, 195.0, 84.0, 99.0, 260.0, 80.0, 135.0, 120.0, 75.0, 85.0, 146.0, 71.0, 26.0, 46.0, 45.0, 45.0, 120.0, 50.0, 95.0, 150.0, 65.0, 124.0, 98.0, 135.0, 100.0, 60.0, 51.0, 96.0, 175.0, 45.0, 65.0, 101.0, 118.0, 99.0, 100.0, 50.0, 35.0, 45.0, 60.0, 39.0, 199.0, 80.0, 60.0, 59.0, 55.0, 159.0, 50.0, 110.0, 159.0, 100.0, 110.0, 55.0, 190.0, 295.0, 138.0, 100.0, 65.0, 42.0, 120.0, 70.0, 125.0, 225.0, 90.0, 80.0, 111.0, 35.0, 40.0, 190.0, 35.0, 75.0, 49.0, 70.0, 32.0, 39.0, 36.0, 39.0, 58.0, 39.0, 25.0, 27.0, 32.0, 100.0, 48.0, 230.0, 50.0, 150.0, 239.0, 63.0, 60.0, 50.0, 257.0, 61.0, 195.0, 140.0, 40.0, 31.0, 285.0, 251.0, 224.0, 251.0, 284.0, 244.0, 263.0, 230.0, 231.0, 232.0, 244.0, 240.0, 223.0, 257.0, 266.0, 238.0, 266.0, 247.0, 261.0, 264.0, 220.0, 288.0, 192.0, 168.0, 253.0, 182.0, 250.0, 233.0, 277.0, 249.0, 183.0, 44.0, 240.0, 258.0, 230.0, 40.0, 234.0, 259.0, 218.0, 159.0, 244.0, 239.0, 253.0, 215.0, 228.0, 292.0, 235.0, 200.0, 209.0, 227.0, 259.0, 238.0, 100.0, 241.0, 285.0, 189.0, 186.0, 244.0, 175.0, 130.0, 178.0, 245.0, 265.0, 233.0, 151.0, 212.0, 186.0, 195.0, 234.0, 160.0, 285.0, 145.0, 38.0, 39.0, 146.0, 99.0, 81.0, 170.0, 150.0, 95.0, 32.0, 67.0, 85.0, 25.0, 55.0, 150.0, 95.0, 210.0, 50.0, 30.0, 60.0, 130.0, 255.0, 300.0, 80.0, 90.0, 48.0, 257.0, 44.0, 125.0, 215.0, 109.0, 60.0, 100.0, 150.0, 55.0, 125.0, 28.0, 33.0, 300.0, 75.0, 40.0, 199.0, 67.0, 41.0, 114.0, 125.0, 99.0, 90.0, 100.0, 110.0, 51.0, 40.0, 99.0, 38.0, 100.0, 170.0, 59.0, 60.0, 135.0, 180.0, 34.0, 150.0, 71.0, 201.0, 50.0, 162.0, 195.0, 50.0, 99.0, 128.0, 40.0, 125.0, 95.0, 45.0, 118.0, 200.0, 90.0, 200.0, 50.0, 180.0, 150.0, 120.0, 70.0, 32.0, 124.0, 46.0, 40.0, 157.0, 80.0, 70.0, 29.0, 40.0, 50.0, 100.0, 60.0, 150.0, 89.0, 185.0, 185.0, 175.0, 240.0, 250.0, 115.0, 110.0, 80.0, 60.0, 79.0, 58.0, 189.0, 250.0, 200.0, 120.0, 49.0, 99.0, 100.0, 45.0, 96.0, 50.0, 59.0, 120.0, 48.0, 72.0, 100.0, 88.0, 40.0, 48.0, 150.0, 150.0, 40.0, 75.0, 190.0, 92.0, 60.0, 49.0, 150.0, 190.0, 40.0, 28.0, 200.0, 30.0, 300.0, 130.0, 182.0, 175.0, 94.0, 146.0, 61.0, 41.0, 69.0, 170.0, 75.0, 225.0, 210.0, 61.0, 55.0, 75.0, 150.0, 150.0, 80.0, 101.0, 152.0, 199.0, 100.0, 32.0, 65.0, 70.0, 130.0, 60.0, 85.0, 220.0, 150.0, 160.0, 100.0, 104.0, 65.0, 110.0, 175.0, 180.0, 60.0, 65.0, 41.0, 160.0, 118.0, 50.0, 62.0, 79.0, 62.0, 150.0, 128.0, 200.0, 55.0, 65.0, 50.0, 95.0, 100.0, 110.0, 150.0, 120.0, 60.0, 75.0, 91.0, 28.0, 31.0, 55.0, 45.0, 55.0, 110.0, 35.0, 36.0, 34.0, 31.0, 180.0, 180.0, 75.0, 150.0, 241.0, 200.0, 108.0, 60.0, 79.0, 35.0, 115.0, 43.0, 130.0, 70.0, 30.0, 35.0, 63.0, 197.0, 59.0, 60.0, 35.0, 55.0, 150.0, 46.0, 140.0, 29.0, 48.0, 99.0, 70.0, 219.0, 79.0, 99.0, 150.0, 120.0, 130.0, 115.0, 125.0, 50.0, 134.0, 68.0, 129.0, 45.0, 87.0, 190.0, 179.0, 159.0, 210.0, 75.0, 75.0, 25.0, 80.0, 60.0, 32.0, 40.0, 70.0, 195.0, 31.0, 122.0, 32.0, 150.0, 85.0, 120.0, 95.0, 95.0, 65.0, 159.0, 75.0, 153.0, 299.0, 185.0, 120.0, 80.0, 29.0, 229.0, 195.0, 70.0, 99.0, 169.0, 100.0, 280.0, 88.0, 60.0, 36.0, 50.0, 135.0, 140.0, 300.0, 85.0, 49.0, 150.0, 195.0, 90.0, 32.0, 150.0, 99.0, 120.0, 78.0, 79.0, 113.0, 225.0, 45.0, 123.0, 24.0, 37.0, 100.0, 22.0, 119.0, 160.0, 125.0, 80.0, 69.0, 90.0, 175.0, 250.0, 207.0, 275.0, 300.0, 250.0, 80.0, 90.0, 56.0, 180.0, 80.0, 250.0, 175.0, 50.0, 150.0, 200.0, 60.0, 65.0, 233.0, 45.0, 200.0, 90.0, 40.0, 180.0, 65.0, 91.0, 235.0, 125.0, 29.0, 92.0, 126.0, 189.0, 60.0, 89.0, 170.0, 200.0, 100.0, 49.0, 50.0, 125.0, 259.0, 55.0, 214.0, 38.0, 69.0, 150.0, 25.0, 25.0, 25.0, 33.0, 58.0, 99.0, 225.0, 55.0, 250.0, 65.0, 40.0, 179.0, 75.0, 22.0, 100.0, 40.0, 73.0, 35.0, 57.0, 75.0, 140.0, 75.0, 160.0, 85.0, 168.0, 37.0, 153.0, 235.0, 190.0, 100.0, 50.0, 68.0, 150.0, 58.0, 80.0, 19.0, 45.0, 20.0, 68.0, 61.0, 170.0, 84.0, 97.0, 197.0, 48.0, 48.0, 56.0, 89.0, 50.0, 89.0, 149.0, 65.0, 100.0, 249.0, 150.0, 48.0, 64.0, 70.0, 100.0, 200.0, 70.0, 175.0, 80.0, 123.0, 25.0, 100.0, 57.0, 200.0, 45.0, 100.0, 55.0, 81.0, 125.0, 50.0, 70.0, 83.0, 202.0, 250.0, 199.0, 129.0, 249.0, 140.0, 42.0, 80.0, 95.0, 42.0, 200.0, 60.0, 120.0, 90.0, 76.0, 75.0, 45.0, 73.0, 70.0, 200.0, 68.0, 40.0, 85.0, 179.0, 90.0, 150.0, 45.0, 43.0, 50.0, 95.0, 125.0, 189.0, 175.0, 47.0, 45.0, 29.0, 64.0, 41.0, 200.0, 45.0, 60.0, 147.0, 46.0, 150.0, 82.0, 50.0, 79.0, 300.0, 32.0, 43.0, 45.0, 40.0, 37.0, 39.0, 38.0, 75.0, 52.0, 100.0, 130.0, 200.0, 95.0, 180.0, 150.0, 215.0, 44.0, 125.0, 88.0, 60.0, 34.0, 31.0, 39.0, 176.0, 150.0, 150.0, 37.0, 138.0, 195.0, 75.0, 120.0, 47.0, 55.0, 45.0, 38.0, 125.0, 50.0, 105.0, 175.0, 199.0, 200.0, 67.0, 110.0, 100.0, 100.0, 86.0, 141.0, 46.0, 130.0, 55.0, 115.0, 44.0, 110.0, 68.0, 150.0, 70.0, 70.0, 195.0, 75.0, 99.0, 39.0, 40.0, 39.0, 140.0, 50.0, 70.0, 95.0, 134.0, 100.0, 50.0, 40.0, 89.0, 96.0, 50.0, 30.0, 29.0, 60.0, 70.0, 99.0, 80.0, 155.0, 250.0, 100.0, 40.0, 83.0, 180.0, 185.0, 65.0, 30.0, 74.0, 80.0, 199.0, 99.0, 249.0, 120.0, 150.0, 38.0, 200.0, 200.0, 80.0, 275.0, 83.0, 190.0, 199.0, 182.0, 40.0, 51.0, 65.0, 70.0, 74.0, 60.0, 43.0, 199.0, 70.0, 150.0, 139.0, 70.0, 20.0, 110.0, 85.0, 249.0, 81.0, 79.0, 65.0, 120.0, 150.0, 60.0, 65.0, 200.0, 120.0, 60.0, 150.0, 30.0, 51.0, 147.0, 85.0, 110.0, 110.0, 50.0, 145.0, 87.0, 125.0, 45.0, 51.0, 25.0, 145.0, 40.0, 290.0, 80.0, 100.0, 80.0, 240.0, 222.0, 25.0, 45.0, 126.0, 57.0, 125.0, 75.0, 140.0, 40.0, 80.0, 38.0, 40.0, 110.0, 125.0, 199.0, 195.0, 130.0, 35.0, 38.0, 29.0, 100.0, 75.0, 129.0, 60.0, 47.0, 90.0, 100.0, 70.0, 82.0, 75.0, 150.0, 75.0, 55.0, 100.0, 199.0, 50.0, 39.0, 48.0, 97.0, 105.0, 70.0, 139.0, 250.0, 44.0, 95.0, 45.0, 100.0, 120.0, 140.0, 107.0, 91.0, 120.0, 201.0, 106.0, 34.0, 50.0, 162.0, 125.0, 199.0, 125.0, 26.0, 120.0, 80.0, 25.0, 80.0, 168.0, 246.0, 35.0, 250.0, 200.0, 250.0, 115.0, 250.0, 120.0, 36.0, 46.0, 75.0, 150.0, 34.0, 111.0, 85.0, 85.0, 53.0, 95.0, 199.0, 68.0, 99.0, 238.0, 179.0, 86.0, 214.0, 185.0, 120.0, 100.0, 120.0, 200.0, 250.0, 79.0, 130.0, 125.0, 155.0, 41.0, 175.0, 39.0, 70.0, 85.0, 65.0, 89.0, 190.0, 40.0, 180.0, 175.0, 190.0, 65.0, 128.0, 84.0, 75.0, 52.0, 55.0, 69.0, 200.0, 109.0, 286.0, 70.0, 75.0, 108.0, 80.0, 35.0, 129.0, 90.0, 45.0, 40.0, 59.0, 100.0, 85.0, 125.0, 75.0, 85.0, 60.0, 28.0, 78.0, 202.0, 75.0, 136.0, 150.0, 250.0, 60.0, 150.0, 65.0, 60.0, 79.0, 72.0, 72.0, 40.0, 40.0, 125.0, 79.0, 50.0, 95.0, 69.0, 24.0, 140.0, 86.0, 34.0, 85.0, 34.0, 23.0, 75.0, 102.0, 75.0, 149.0, 50.0, 150.0, 85.0, 70.0, 45.0, 47.0, 32.0, 120.0, 100.0, 200.0, 100.0, 59.0, 65.0, 116.0, 116.0, 99.0, 99.0, 36.0, 24.0, 65.0, 70.0, 60.0, 99.0, 41.0, 50.0, 150.0, 60.0, 75.0, 45.0, 70.0, 190.0, 50.0, 41.0, 185.0, 35.0, 98.0, 75.0, 75.0, 250.0, 75.0, 35.0, 80.0, 120.0, 120.0, 110.0, 120.0, 200.0, 40.0, 156.0, 66.0, 90.0, 131.0, 97.0, 93.0, 55.0, 36.0, 126.0, 94.0, 95.0, 65.0, 30.0, 32.0, 99.0, 70.0, 235.0, 114.0, 300.0, 90.0, 60.0, 50.0, 110.0, 100.0, 40.0, 33.0, 50.0, 45.0, 107.0, 250.0, 30.0, 90.0, 100.0, 125.0, 48.0, 55.0, 95.0, 50.0, 53.0, 38.0, 245.0, 51.0, 161.0, 40.0, 128.0, 50.0, 128.0, 50.0, 50.0, 95.0, 67.0, 120.0, 175.0, 35.0, 249.0, 45.0, 150.0, 50.0, 112.0, 75.0, 74.0, 149.0, 75.0, 250.0, 37.0, 100.0, 47.0, 52.0, 91.0, 99.0, 167.0, 70.0, 200.0, 30.0, 45.0, 55.0, 148.0, 80.0, 111.0, 79.0, 70.0, 170.0, 98.0, 171.0, 70.0, 280.0, 99.0, 58.0, 38.0, 45.0, 230.0, 250.0, 90.0, 170.0, 79.0, 80.0, 60.0, 37.0, 59.0, 42.0, 65.0, 65.0, 86.0, 199.0, 35.0, 105.0, 166.0, 180.0, 39.0, 36.0, 135.0, 264.0, 115.0, 80.0, 232.0, 55.0, 215.0, 130.0, 100.0, 300.0, 52.0, 200.0, 108.0, 95.0, 44.0, 120.0, 42.0, 88.0, 201.0, 165.0, 60.0, 19.0, 23.0, 170.0, 49.0, 80.0, 79.0, 95.0, 200.0, 80.0, 130.0, 79.0, 22.0, 57.0, 56.0, 110.0, 140.0, 124.0, 146.0, 136.0, 148.0, 45.0, 130.0, 130.0, 99.0, 60.0, 279.0, 58.0, 107.0, 199.0, 199.0, 88.0, 32.0, 37.0, 79.0, 50.0, 100.0, 24.0, 135.0, 36.0, 175.0, 44.0, 150.0, 119.0, 48.0, 48.0, 110.0, 90.0, 270.0, 55.0, 180.0, 60.0, 85.0, 172.0, 79.0, 34.0, 167.0, 80.0, 94.0, 179.0, 55.0, 27.0, 99.0, 52.0, 70.0, 55.0, 289.0, 85.0, 195.0, 50.0, 130.0, 115.0, 95.0, 45.0, 103.0, 90.0, 100.0, 56.0, 150.0, 32.0, 149.0, 150.0, 95.0, 36.0, 175.0, 130.0, 195.0, 250.0, 129.0, 130.0, 30.0, 150.0, 25.0, 100.0, 25.0, 35.0, 35.0, 215.0, 120.0, 125.0, 48.0, 65.0, 105.0, 120.0, 94.0, 29.0, 55.0, 23.0, 100.0, 230.0, 38.0, 226.0, 45.0, 85.0, 80.0, 180.0, 91.0, 132.0, 264.0, 95.0, 105.0, 235.0, 91.0, 75.0, 171.0, 105.0, 50.0, 60.0, 100.0, 123.0, 195.0, 200.0, 88.0, 50.0, 60.0, 275.0, 180.0, 150.0, 140.0, 115.0, 184.0, 55.0, 42.0, 60.0, 32.0, 36.0, 80.0, 65.0, 110.0, 130.0, 251.0, 24.0, 120.0, 90.0, 21.0, 46.0, 95.0, 150.0, 39.0, 60.0, 100.0, 112.0, 57.0, 80.0, 125.0, 33.0, 39.0, 33.0, 39.0, 41.0, 40.0, 25.0, 70.0, 116.0, 136.0, 61.0, 85.0, 60.0, 75.0, 220.0, 275.0, 41.0, 89.0, 44.0, 275.0, 89.0, 70.0, 95.0, 110.0, 97.0, 100.0, 75.0, 74.0, 150.0, 60.0, 99.0, 132.0, 121.0, 128.0, 128.0, 171.0, 180.0, 157.0, 175.0, 45.0, 100.0, 192.0, 247.0, 177.0, 207.0, 187.0, 156.0, 180.0, 100.0, 75.0, 170.0, 165.0, 209.0, 229.0, 239.0, 253.0, 140.0, 32.0, 60.0, 90.0, 108.0, 110.0, 65.0, 151.0, 150.0, 36.0, 35.0, 65.0, 50.0, 95.0, 100.0, 87.0, 190.0, 20.0, 65.0, 55.0, 45.0, 59.0, 50.0, 133.0, 50.0, 79.0, 35.0, 69.0, 45.0, 110.0, 75.0, 160.0, 70.0, 170.0, 80.0, 59.0, 150.0, 43.0, 25.0, 55.0, 41.0, 50.0, 80.0, 160.0, 105.0, 58.0, 197.0, 200.0, 95.0, 210.0, 90.0, 69.0, 250.0, 200.0, 50.0, 50.0, 145.0, 79.0, 86.0, 139.0, 48.0, 40.0, 47.0, 63.0, 197.0, 84.0, 81.0, 68.0, 65.0, 50.0, 40.0, 139.0, 72.0, 82.0, 90.0, 82.0, 175.0, 250.0, 175.0, 99.0, 200.0, 56.0, 120.0, 50.0, 39.0, 110.0, 59.0, 60.0, 35.0, 100.0, 150.0, 189.0, 100.0, 50.0, 155.0, 237.0, 95.0, 23.0, 150.0, 99.0, 71.0, 133.0, 132.0, 100.0, 238.0, 45.0, 40.0, 35.0, 295.0, 55.0, 40.0, 228.0, 50.0, 45.0, 48.0, 40.0, 89.0, 115.0, 59.0, 200.0, 65.0, 40.0, 125.0, 225.0, 55.0, 65.0, 125.0, 185.0, 115.0, 65.0, 90.0, 85.0, 299.0, 42.0, 259.0, 110.0, 89.0, 80.0, 95.0, 52.0, 125.0, 135.0, 120.0, 80.0, 90.0, 91.0, 60.0, 70.0, 94.0, 83.0, 120.0, 199.0, 135.0, 209.0, 49.0, 250.0, 38.0, 112.0, 300.0, 101.0, 48.0, 53.0, 65.0, 150.0, 88.0, 49.0, 60.0, 90.0, 71.0, 97.0, 249.0, 150.0, 95.0, 170.0, 299.0, 80.0, 125.0, 250.0, 29.0, 30.0, 25.0, 85.0, 80.0, 125.0, 100.0, 96.0, 150.0, 120.0, 54.0, 75.0, 60.0, 275.0, 35.0, 65.0, 68.0, 79.0, 79.0, 213.0, 95.0, 119.0, 55.0, 85.0, 90.0, 100.0, 79.0, 59.0, 39.0, 68.0, 150.0, 180.0, 200.0, 130.0, 68.0, 88.0, 65.0, 140.0, 300.0, 50.0, 100.0, 110.0, 55.0, 275.0, 198.0, 65.0, 135.0, 62.0, 99.0, 83.0, 70.0, 109.0, 148.0, 85.0, 135.0, 58.0, 49.0, 38.0, 48.0, 39.0, 115.0, 100.0, 164.0, 37.0, 250.0, 150.0, 300.0, 300.0, 90.0, 52.0, 150.0, 250.0, 135.0, 200.0, 230.0, 200.0, 60.0, 207.0, 130.0, 159.0, 102.0, 66.0, 125.0, 75.0, 84.0, 95.0, 200.0, 55.0, 142.0, 30.0, 92.0, 70.0, 55.0, 69.0, 50.0, 300.0, 250.0, 55.0, 55.0, 49.0, 240.0, 300.0, 50.0, 99.0, 42.0, 135.0, 150.0, 117.0, 49.0, 26.0, 200.0, 59.0, 55.0, 60.0, 150.0, 85.0, 77.0, 36.0, 55.0, 55.0, 55.0, 55.0, 55.0, 135.0, 60.0, 56.0, 36.0, 75.0, 175.0, 28.0, 59.0, 50.0, 55.0, 159.0, 100.0, 208.0, 93.0, 35.0, 115.0, 200.0, 65.0, 115.0, 159.0, 75.0, 110.0, 137.0, 88.0, 120.0, 60.0, 100.0, 100.0, 260.0, 160.0, 67.0, 45.0, 94.0, 99.0, 75.0, 35.0, 65.0, 50.0, 225.0, 80.0, 75.0, 42.0, 125.0, 52.0, 51.0, 70.0, 213.0, 160.0, 80.0, 62.0, 80.0, 90.0, 110.0, 112.0, 285.0, 235.0, 75.0, 30.0, 50.0, 250.0, 260.0, 273.0, 48.0, 66.0, 110.0, 150.0, 100.0, 99.0, 259.0, 200.0, 110.0, 150.0, 100.0, 46.0, 31.0, 180.0, 200.0, 200.0, 50.0, 126.0, 45.0, 150.0, 40.0, 90.0, 115.0, 125.0, 110.0, 60.0, 40.0, 230.0, 80.0, 265.0, 75.0, 130.0, 150.0, 70.0, 195.0, 45.0, 230.0, 114.0, 80.0, 150.0, 115.0, 180.0, 67.0, 64.0, 107.0, 101.0, 175.0, 150.0, 85.0, 130.0, 169.0, 145.0, 85.0, 175.0, 110.0, 120.0, 75.0, 100.0, 95.0, 60.0, 289.0, 155.0, 34.0, 65.0, 111.0, 134.0, 142.0, 60.0, 80.0, 151.0, 100.0, 178.0, 199.0, 262.0, 23.0, 55.0, 71.0, 95.0, 31.0, 60.0, 75.0, 239.0, 115.0, 266.0, 125.0, 160.0, 207.0, 250.0, 51.0, 125.0, 55.0, 100.0, 146.0, 150.0, 120.0, 150.0, 40.0, 100.0, 220.0, 48.0, 125.0, 65.0, 100.0, 100.0, 40.0, 100.0, 48.0, 270.0, 180.0, 49.0, 26.0, 97.0, 60.0, 36.0, 28.0, 144.0, 50.0, 59.0, 65.0, 60.0, 33.0, 90.0, 103.0, 200.0, 35.0, 73.0, 70.0, 27.0, 160.0, 115.0, 40.0, 100.0, 65.0, 130.0, 150.0, 137.0, 45.0, 115.0, 48.0, 66.0, 63.0, 170.0, 300.0, 179.0, 70.0, 100.0, 40.0, 65.0, 120.0, 185.0, 65.0, 46.0, 23.0, 50.0, 41.0, 112.0, 23.0, 109.0, 85.0, 300.0, 99.0, 220.0, 46.0, 50.0, 225.0, 63.0, 125.0, 130.0, 160.0, 100.0, 100.0, 57.0, 55.0, 69.0, 40.0, 150.0, 190.0, 135.0, 65.0, 50.0, 45.0, 111.0, 221.0, 150.0, 54.0, 149.0, 66.0, 150.0, 199.0, 235.0, 120.0, 49.0, 60.0, 37.0, 105.0, 70.0, 150.0, 70.0, 100.0, 65.0, 102.0, 69.0, 132.0, 200.0, 95.0, 70.0, 92.0, 150.0, 60.0, 89.0, 102.0, 200.0, 180.0, 169.0, 95.0, 39.0, 126.0, 280.0, 179.0, 85.0, 60.0, 65.0, 100.0, 63.0, 79.0, 69.0, 63.0, 79.0, 150.0, 79.0, 63.0, 150.0, 150.0, 69.0, 149.0, 79.0, 150.0, 159.0, 79.0, 79.0, 79.0, 79.0, 79.0, 79.0, 79.0, 149.0, 93.0, 37.0, 66.0, 85.0, 225.0, 60.0, 295.0, 95.0, 70.0, 154.0, 240.0, 171.0, 38.0, 135.0, 179.0, 175.0, 32.0, 69.0, 120.0, 140.0, 60.0, 92.0, 165.0, 159.0, 65.0, 75.0, 117.0, 100.0, 125.0, 63.0, 285.0, 243.0, 179.0, 205.0, 115.0, 95.0, 65.0, 60.0, 60.0, 60.0, 35.0, 150.0, 99.0, 34.0, 50.0, 55.0, 204.0, 99.0, 35.0, 55.0, 55.0, 150.0, 117.0, 70.0, 200.0, 54.0, 30.0, 69.0, 96.0, 125.0, 98.0, 50.0, 30.0, 190.0, 200.0, 55.0, 37.0, 29.0, 50.0, 168.0, 145.0, 96.0, 65.0, 65.0, 75.0, 83.0, 39.0, 40.0, 61.0, 109.0, 100.0, 40.0, 110.0, 43.0, 35.0, 90.0, 130.0, 134.0, 119.0, 90.0, 42.0, 35.0, 50.0, 55.0, 299.0, 18.0, 190.0, 51.0, 100.0, 200.0, 130.0, 50.0, 40.0, 50.0, 200.0, 70.0, 190.0, 35.0, 65.0, 120.0, 175.0, 80.0, 85.0, 89.0, 130.0, 70.0, 140.0, 85.0, 149.0, 200.0, 125.0, 49.0, 98.0, 203.0, 125.0, 46.0, 299.0, 143.0, 122.0, 113.0, 299.0, 100.0, 125.0, 81.0, 149.0, 166.0, 250.0, 125.0, 259.0, 100.0, 125.0, 94.0, 56.0, 76.0, 75.0, 190.0, 70.0, 180.0, 51.0, 59.0, 160.0, 100.0, 100.0, 150.0, 100.0, 240.0, 51.0, 175.0, 35.0, 37.0, 35.0, 73.0, 96.0, 75.0, 65.0, 100.0, 70.0, 220.0, 90.0, 264.0, 135.0, 51.0, 45.0, 127.0, 98.0, 120.0, 40.0, 27.0, 58.0, 51.0, 163.0, 70.0, 48.0, 165.0, 50.0, 68.0, 230.0, 129.0, 46.0, 100.0, 86.0, 75.0, 140.0, 60.0, 50.0, 135.0, 69.0, 90.0, 105.0, 130.0, 55.0, 35.0, 30.0, 55.0, 145.0, 45.0, 60.0, 292.0, 265.0, 71.0, 249.0, 140.0, 300.0, 85.0, 179.0, 230.0, 110.0, 187.0, 223.0, 196.0, 249.0, 223.0, 254.0, 291.0, 179.0, 213.0, 238.0, 196.0, 255.0, 196.0, 230.0, 272.0, 270.0, 119.0, 122.0, 138.0, 111.0, 126.0, 89.0, 102.0, 96.0, 117.0, 140.0, 109.0, 176.0, 233.0, 188.0, 245.0, 273.0, 248.0, 245.0, 285.0, 258.0, 258.0, 89.0, 89.0, 233.0, 149.0, 224.0, 262.0, 164.0, 149.0, 150.0, 70.0, 147.0, 100.0, 150.0, 200.0, 100.0, 60.0, 142.0, 80.0, 245.0, 70.0, 61.0, 199.0, 285.0, 280.0, 120.0, 65.0, 276.0, 123.0, 69.0, 125.0, 83.0, 60.0, 120.0, 65.0, 150.0, 87.0, 110.0, 86.0, 282.0, 226.0, 250.0, 60.0, 241.0, 67.0, 250.0, 65.0, 150.0, 51.0, 80.0, 65.0, 50.0, 99.0, 169.0, 95.0, 171.0, 49.0, 250.0, 241.0, 42.0, 289.0, 289.0, 90.0, 220.0, 45.0, 110.0, 71.0, 150.0, 65.0, 120.0, 32.0, 30.0, 40.0, 58.0, 140.0, 75.0, 115.0, 220.0, 32.0, 150.0, 49.0, 200.0, 120.0, 125.0, 300.0, 160.0, 94.0, 100.0, 50.0, 50.0, 36.0, 89.0, 125.0, 180.0, 100.0, 165.0, 150.0, 245.0, 200.0, 45.0, 98.0, 250.0, 40.0, 100.0, 39.0, 130.0, 45.0, 99.0, 57.0, 250.0, 96.0, 103.0, 165.0, 200.0, 90.0, 49.0, 150.0, 113.0, 85.0, 200.0, 150.0, 35.0, 175.0, 80.0, 230.0, 83.0, 125.0, 43.0, 33.0, 115.0, 49.0, 65.0, 95.0, 75.0, 100.0, 70.0, 175.0, 150.0, 128.0, 269.0, 65.0, 140.0, 32.0, 25.0, 31.0, 100.0, 35.0, 32.0, 220.0, 60.0, 119.0, 51.0, 85.0, 76.0, 140.0, 75.0, 218.0, 78.0, 200.0, 70.0, 89.0, 236.0, 100.0, 45.0, 90.0, 40.0, 120.0, 203.0, 164.0, 296.0, 55.0, 54.0, 180.0, 165.0, 85.0, 30.0, 65.0, 45.0, 265.0, 36.0, 160.0, 70.0, 150.0, 115.0, 60.0, 150.0, 296.0, 25.0, 42.0, 125.0, 44.0, 85.0, 60.0, 32.0, 70.0, 42.0, 43.0, 71.0, 300.0, 45.0, 70.0, 99.0, 50.0, 69.0, 250.0, 55.0, 69.0, 100.0, 60.0, 105.0, 55.0, 80.0, 160.0, 190.0, 179.0, 150.0, 140.0, 65.0, 55.0, 69.0, 240.0, 93.0, 115.0, 225.0, 20.0, 200.0, 100.0, 52.0, 115.0, 135.0, 95.0, 125.0, 120.0, 42.0, 150.0, 100.0, 65.0, 92.0, 47.0, 50.0, 99.0, 40.0, 195.0, 180.0, 54.0, 193.0, 132.0, 118.0, 40.0, 120.0, 60.0, 75.0, 120.0, 175.0, 125.0, 98.0, 80.0, 130.0, 62.0, 108.0, 99.0, 52.0, 150.0, 40.0, 85.0, 135.0, 59.0, 148.0, 31.0, 145.0, 85.0, 140.0, 175.0, 250.0, 180.0, 150.0, 106.0, 105.0, 175.0, 140.0, 180.0, 69.0, 105.0, 150.0, 150.0, 295.0, 185.0, 170.0, 110.0, 300.0, 130.0, 26.0, 103.0, 100.0, 179.0, 280.0, 99.0, 150.0, 60.0, 99.0, 70.0, 64.0, 85.0, 140.0, 110.0, 140.0, 71.0, 65.0, 65.0, 53.0, 282.0, 80.0, 59.0, 55.0, 150.0, 99.0, 80.0, 115.0, 90.0, 35.0, 110.0, 40.0, 80.0, 30.0, 25.0, 100.0, 130.0, 47.0, 85.0, 75.0, 70.0, 54.0, 55.0, 25.0, 116.0, 50.0, 135.0, 200.0, 60.0, 56.0, 155.0, 180.0, 100.0, 170.0, 86.0, 181.0, 192.0, 181.0, 181.0, 250.0, 35.0, 106.0, 69.0, 65.0, 65.0, 220.0, 139.0, 119.0, 119.0, 100.0, 119.0, 144.0, 139.0, 135.0, 300.0, 90.0, 30.0, 191.0, 30.0, 249.0, 23.0, 24.0, 215.0, 180.0, 195.0, 298.0, 180.0, 45.0, 199.0, 70.0, 294.0, 238.0, 125.0, 41.0, 134.0, 50.0, 90.0, 125.0, 99.0, 54.0, 59.0, 97.0, 130.0, 120.0, 99.0, 113.0, 75.0, 110.0, 84.0, 65.0, 59.0, 210.0, 239.0, 164.0, 111.0, 135.0, 150.0, 34.0, 103.0, 45.0, 275.0, 75.0, 99.0, 100.0, 95.0, 41.0, 39.0, 81.0, 50.0, 65.0, 299.0, 45.0, 275.0, 199.0, 83.0, 200.0, 60.0, 50.0, 80.0, 112.0, 130.0, 65.0, 95.0, 65.0, 70.0, 65.0, 35.0, 35.0, 27.0, 24.0, 78.0, 84.0, 175.0, 200.0, 57.0, 111.0, 100.0, 151.0, 83.0, 249.0, 89.0, 68.0, 99.0, 104.0, 59.0, 21.0, 40.0, 35.0, 28.0, 52.0, 39.0, 23.0, 100.0, 28.0, 55.0, 42.0, 153.0, 45.0, 43.0, 200.0, 250.0, 250.0, 185.0, 68.0, 114.0, 250.0, 43.0, 50.0, 135.0, 81.0, 160.0, 198.0, 119.0, 99.0, 250.0, 283.0, 60.0, 139.0, 265.0, 89.0, 119.0, 170.0, 50.0, 159.0, 89.0, 45.0, 175.0, 40.0, 86.0, 250.0, 65.0, 126.0, 139.0, 50.0, 39.0, 100.0, 200.0, 147.0, 65.0, 200.0, 70.0, 150.0, 228.0, 155.0, 128.0, 51.0, 175.0, 89.0, 30.0, 100.0, 150.0, 35.0, 89.0, 191.0, 51.0, 190.0, 85.0, 200.0, 129.0, 60.0, 75.0, 153.0, 75.0, 100.0, 215.0, 64.0, 249.0, 36.0, 248.0, 57.0, 223.0, 110.0, 48.0, 48.0, 48.0, 48.0, 95.0, 48.0, 49.0, 120.0, 25.0, 135.0, 115.0, 99.0, 48.0, 60.0, 261.0, 249.0, 245.0, 114.0, 99.0, 42.0, 40.0, 55.0, 56.0, 77.0, 157.0, 140.0, 75.0, 93.0, 70.0, 111.0, 79.0, 249.0, 70.0, 300.0, 195.0, 300.0, 45.0, 145.0, 145.0, 128.0, 147.0, 142.0, 75.0, 161.0, 282.0, 120.0, 80.0, 50.0, 130.0, 50.0, 180.0, 65.0, 185.0, 30.0, 85.0, 184.0, 184.0, 276.0, 203.0, 220.0, 264.0, 55.0, 250.0, 129.0, 129.0, 169.0, 200.0, 182.0, 203.0, 190.0, 55.0, 140.0, 222.0, 184.0, 209.0, 90.0, 150.0, 222.0, 110.0, 212.0, 135.0, 145.0, 84.0, 200.0, 96.0, 84.0, 94.0, 51.0, 75.0, 45.0, 100.0, 49.0, 100.0, 200.0, 109.0, 111.0, 111.0, 113.0, 61.0, 99.0, 85.0, 175.0, 93.0, 245.0, 37.0, 108.0, 135.0, 200.0, 52.0, 99.0, 150.0, 134.0, 161.0, 40.0, 104.0, 58.0, 108.0, 167.0, 150.0, 40.0, 38.0, 62.0, 41.0, 98.0, 99.0, 118.0, 115.0, 150.0, 170.0, 149.0, 200.0, 75.0, 73.0, 29.0, 100.0, 190.0, 55.0, 250.0, 105.0, 155.0, 44.0, 115.0, 49.0, 40.0, 90.0, 150.0, 180.0, 99.0, 200.0, 95.0, 150.0, 50.0, 43.0, 150.0, 170.0, 50.0, 52.0, 63.0, 80.0, 34.0, 37.0, 70.0, 125.0, 200.0, 208.0, 53.0, 300.0, 75.0, 280.0, 135.0, 40.0, 45.0, 35.0, 200.0, 108.0, 150.0, 60.0, 70.0, 109.0, 79.0, 123.0, 175.0, 55.0, 80.0, 129.0, 150.0, 55.0, 60.0, 97.0, 122.0, 119.0, 126.0, 42.0, 100.0, 135.0, 150.0, 90.0, 135.0, 35.0, 120.0, 68.0, 69.0, 120.0, 165.0, 85.0, 250.0, 170.0, 50.0, 120.0, 70.0, 110.0, 70.0, 69.0, 49.0, 80.0, 70.0, 70.0, 157.0, 43.0, 300.0, 29.0, 98.0, 250.0, 167.0, 90.0, 78.0, 110.0, 55.0, 80.0, 39.0, 127.0, 60.0, 110.0, 65.0, 275.0, 175.0, 300.0, 250.0, 52.0, 150.0, 170.0, 164.0, 85.0, 55.0, 142.0, 75.0, 150.0, 195.0, 140.0, 110.0, 150.0, 100.0, 43.0, 150.0, 80.0, 99.0, 50.0, 100.0, 65.0, 145.0, 145.0, 150.0, 67.0, 70.0, 135.0, 68.0, 116.0, 50.0, 49.0, 200.0, 100.0, 250.0, 250.0, 70.0, 57.0, 257.0, 100.0, 250.0, 60.0, 263.0, 135.0, 45.0, 55.0, 149.0, 150.0, 127.0, 90.0, 42.0, 131.0, 141.0, 213.0, 238.0, 35.0, 126.0, 60.0, 50.0, 75.0, 46.0, 214.0, 131.0, 250.0, 49.0, 101.0, 200.0, 150.0, 256.0, 70.0, 140.0, 115.0, 75.0, 236.0, 175.0, 250.0, 66.0, 120.0, 65.0, 65.0, 89.0, 152.0, 50.0, 120.0, 129.0, 50.0, 75.0, 65.0, 122.0, 199.0, 131.0, 192.0, 150.0, 82.0, 96.0, 90.0, 110.0, 135.0, 225.0, 85.0, 191.0, 55.0, 59.0, 175.0, 139.0, 26.0, 65.0, 60.0, 95.0, 159.0, 299.0, 100.0, 75.0, 80.0, 153.0, 88.0, 60.0, 199.0, 255.0, 45.0, 150.0, 45.0, 229.0, 45.0, 85.0, 216.0, 250.0, 118.0, 32.0, 165.0, 150.0, 211.0, 121.0, 79.0, 120.0, 135.0, 191.0, 145.0, 65.0, 37.0, 200.0, 63.0, 55.0, 275.0, 185.0, 48.0, 55.0, 250.0, 135.0, 73.0, 44.0, 95.0, 142.0, 50.0, 90.0, 135.0, 50.0, 103.0, 124.0, 229.0, 84.0, 90.0, 70.0, 215.0, 90.0, 161.0, 165.0, 143.0, 100.0, 125.0, 149.0, 200.0, 73.0, 99.0, 80.0, 70.0, 125.0, 255.0, 50.0, 95.0, 80.0, 104.0, 150.0, 108.0, 100.0, 145.0, 140.0, 149.0, 90.0, 250.0, 220.0, 200.0, 90.0, 60.0, 149.0, 61.0, 92.0, 147.0, 115.0, 37.0, 99.0, 109.0, 139.0, 169.0, 167.0, 129.0, 109.0, 109.0, 109.0, 259.0, 259.0, 75.0, 180.0, 240.0, 150.0, 66.0, 110.0, 90.0, 75.0, 155.0, 54.0, 44.0, 95.0, 197.0, 65.0, 39.0, 30.0, 60.0, 46.0, 90.0, 198.0, 37.0, 68.0, 129.0, 70.0, 255.0, 50.0, 150.0, 179.0, 229.0, 150.0, 58.0, 84.0, 42.0, 185.0, 42.0, 85.0, 65.0, 37.0, 293.0, 207.0, 90.0, 233.0, 65.0, 90.0, 45.0, 55.0, 62.0, 80.0, 69.0, 170.0, 225.0, 65.0, 72.0, 65.0, 70.0, 28.0, 80.0, 195.0, 65.0, 92.0, 78.0, 80.0, 275.0, 60.0, 153.0, 168.0, 39.0, 50.0, 75.0, 21.0, 225.0, 299.0, 176.0, 116.0, 70.0, 50.0, 45.0, 50.0, 210.0, 150.0, 96.0, 70.0, 299.0, 98.0, 85.0, 85.0, 241.0, 38.0, 110.0, 100.0, 55.0, 48.0, 180.0, 50.0, 50.0, 28.0, 33.0, 44.0, 33.0, 37.0, 35.0, 32.0, 50.0, 132.0, 91.0, 54.0, 80.0, 100.0, 150.0, 195.0, 70.0, 109.0, 140.0, 85.0, 55.0, 55.0, 175.0, 55.0, 30.0, 199.0, 38.0, 81.0, 140.0, 268.0, 58.0, 140.0, 192.0, 180.0, 75.0, 60.0, 50.0, 49.0, 60.0, 70.0, 65.0, 106.0, 65.0, 109.0, 65.0, 35.0, 287.0, 125.0, 120.0, 65.0, 80.0, 50.0, 280.0, 110.0, 200.0, 258.0, 60.0, 155.0, 55.0, 60.0, 110.0, 110.0, 60.0, 93.0, 250.0, 119.0, 52.0, 85.0, 100.0, 85.0, 83.0, 102.0, 100.0, 60.0, 45.0, 90.0, 43.0, 106.0, 121.0, 43.0, 90.0, 246.0, 75.0, 157.0, 100.0, 48.0, 39.0, 80.0, 145.0, 53.0, 145.0, 46.0, 129.0, 165.0, 199.0, 205.0, 151.0, 209.0, 205.0, 269.0, 209.0, 183.0, 249.0, 219.0, 85.0, 43.0, 60.0, 155.0, 150.0, 130.0, 118.0, 85.0, 60.0, 127.0, 60.0, 45.0, 55.0, 130.0, 220.0, 90.0, 50.0, 107.0, 79.0, 157.0, 145.0, 59.0, 60.0, 48.0, 48.0, 60.0, 89.0, 80.0, 200.0, 51.0, 48.0, 121.0, 69.0, 150.0, 75.0, 99.0, 88.0, 194.0, 257.0, 200.0, 94.0, 54.0, 85.0, 69.0, 56.0, 75.0, 95.0, 70.0, 250.0, 300.0, 90.0, 45.0, 125.0, 70.0, 72.0, 130.0, 55.0, 249.0, 51.0, 51.0, 150.0, 120.0, 65.0, 100.0, 300.0, 40.0, 44.0, 195.0, 100.0, 100.0, 257.0, 58.0, 120.0, 50.0, 75.0, 70.0, 93.0, 125.0, 82.0, 43.0, 155.0, 100.0, 99.0, 150.0, 129.0, 225.0, 110.0, 61.0, 33.0, 253.0, 59.0, 32.0, 149.0, 100.0, 84.0, 150.0, 52.0, 115.0, 125.0, 92.0, 36.0, 163.0, 110.0, 55.0, 239.0, 50.0, 265.0, 195.0, 80.0, 300.0, 101.0, 50.0, 55.0, 250.0, 110.0, 75.0, 50.0, 75.0, 54.0, 60.0, 275.0, 169.0, 92.0, 180.0, 80.0, 249.0, 59.0, 41.0, 50.0, 35.0, 48.0, 175.0, 205.0, 135.0, 70.0, 60.0, 120.0, 150.0, 99.0, 80.0, 69.0, 120.0, 95.0, 22.0, 130.0, 60.0, 65.0, 48.0, 53.0, 48.0, 45.0, 99.0, 250.0, 200.0, 99.0, 60.0, 39.0, 300.0, 106.0, 59.0, 49.0, 49.0, 89.0, 100.0, 50.0, 50.0, 175.0, 65.0, 233.0, 65.0, 120.0, 100.0, 208.0, 26.0, 50.0, 150.0, 114.0, 174.0, 150.0, 179.0, 159.0, 75.0, 150.0, 66.0, 96.0, 218.0, 110.0, 286.0, 98.0, 120.0, 176.0, 69.0, 38.0, 109.0, 56.0, 70.0, 47.0, 43.0, 145.0, 30.0, 45.0, 67.0, 200.0, 184.0, 29.0, 125.0, 135.0, 85.0, 199.0, 257.0, 290.0, 57.0, 235.0, 285.0, 245.0, 229.0, 32.0, 28.0, 65.0, 99.0, 160.0, 83.0, 80.0, 115.0, 75.0, 80.0, 175.0, 59.0, 119.0, 225.0, 95.0, 165.0, 75.0, 125.0, 21.0, 22.0, 210.0, 125.0, 250.0, 96.0, 60.0, 98.0, 97.0, 105.0, 166.0, 47.0, 105.0, 29.0, 100.0, 150.0, 99.0, 223.0, 112.0, 130.0, 139.0, 144.0, 157.0, 166.0, 184.0, 157.0, 184.0, 250.0, 45.0, 150.0, 120.0, 75.0, 65.0, 55.0, 45.0, 300.0, 97.0, 286.0, 85.0, 111.0, 99.0, 249.0, 70.0, 45.0, 100.0, 279.0, 229.0, 45.0, 80.0, 50.0, 85.0, 60.0, 32.0, 150.0, 195.0, 80.0, 37.0, 75.0, 65.0, 37.0, 115.0, 250.0, 150.0, 134.0, 99.0, 145.0, 182.0, 60.0, 125.0, 50.0, 86.0, 95.0, 85.0, 63.0, 74.0, 38.0, 240.0, 250.0, 85.0, 159.0, 38.0, 144.0, 120.0, 30.0, 80.0, 185.0, 243.0, 50.0, 190.0, 120.0, 114.0, 53.0, 120.0, 44.0, 60.0, 135.0, 85.0, 180.0, 104.0, 100.0, 125.0, 63.0, 276.0, 65.0, 80.0, 75.0, 199.0, 105.0, 275.0, 80.0, 200.0, 60.0, 220.0, 50.0, 99.0, 190.0, 50.0, 115.0, 100.0, 50.0, 88.0, 157.0, 160.0, 171.0, 225.0, 99.0, 150.0, 56.0, 90.0, 187.0, 100.0, 173.0, 195.0, 154.0, 71.0, 160.0, 45.0, 92.0, 45.0, 90.0, 225.0, 27.0, 88.0, 89.0, 29.0, 116.0, 70.0, 74.0, 85.0, 65.0, 150.0, 45.0, 55.0, 160.0, 71.0, 169.0, 134.0, 36.0, 90.0, 93.0, 80.0, 228.0, 75.0, 61.0, 70.0, 42.0, 180.0, 299.0, 49.0, 115.0, 39.0, 125.0, 109.0, 32.0, 70.0, 65.0, 85.0, 55.0, 114.0, 52.0, 90.0, 100.0, 146.0, 55.0, 130.0, 65.0, 249.0, 80.0, 250.0, 165.0, 99.0, 299.0, 95.0, 40.0, 120.0, 43.0, 107.0, 176.0, 49.0, 75.0, 50.0, 89.0, 49.0, 180.0, 39.0, 75.0, 275.0, 120.0, 100.0, 187.0, 185.0, 50.0, 45.0, 65.0, 50.0, 229.0, 236.0, 45.0, 80.0, 100.0, 120.0, 140.0, 79.0, 270.0, 55.0, 150.0, 286.0, 40.0, 150.0, 200.0, 130.0, 64.0, 181.0, 120.0, 75.0, 60.0, 28.0, 159.0, 120.0, 55.0, 73.0, 107.0, 79.0, 50.0, 135.0, 68.0, 50.0, 65.0, 20.0, 101.0, 189.0, 240.0, 60.0, 65.0, 40.0, 125.0, 219.0, 65.0, 64.0, 65.0, 155.0, 65.0, 50.0, 130.0, 180.0, 95.0, 275.0, 87.0, 249.0, 215.0, 95.0, 278.0, 120.0, 80.0, 300.0, 120.0, 119.0, 93.0, 135.0, 150.0, 207.0, 219.0, 135.0, 135.0, 75.0, 110.0, 130.0, 72.0, 44.0, 50.0, 300.0, 160.0, 58.0, 184.0, 85.0, 40.0, 68.0, 70.0, 185.0, 139.0, 95.0, 110.0, 100.0, 57.0, 37.0, 60.0, 46.0, 79.0, 34.0, 120.0, 108.0, 140.0, 150.0, 55.0, 160.0, 300.0, 190.0, 42.0, 89.0, 59.0, 105.0, 65.0, 60.0, 125.0, 35.0, 150.0, 243.0, 60.0, 40.0, 50.0, 72.0, 43.0, 60.0, 49.0, 65.0, 36.0, 115.0, 95.0, 99.0, 275.0, 60.0, 96.0, 118.0, 131.0, 60.0, 104.0, 99.0, 150.0, 50.0, 29.0, 39.0, 28.0, 156.0, 41.0, 50.0, 200.0, 80.0, 68.0, 60.0, 249.0, 45.0, 60.0, 55.0, 70.0, 50.0, 41.0, 70.0, 81.0, 70.0, 55.0, 100.0, 55.0, 50.0, 67.0, 150.0, 63.0, 33.0, 90.0, 142.0, 75.0, 166.0, 73.0, 50.0, 81.0, 169.0, 60.0, 83.0, 65.0, 200.0, 40.0, 86.0, 45.0, 84.0, 55.0, 55.0, 75.0, 132.0, 70.0, 81.0, 81.0, 80.0, 150.0, 39.0, 200.0, 120.0, 300.0, 180.0, 50.0, 50.0, 75.0, 115.0, 69.0, 180.0, 95.0, 60.0, 150.0, 115.0, 60.0, 24.0, 80.0, 250.0, 125.0, 76.0, 65.0, 51.0, 80.0, 160.0, 79.0, 130.0, 97.0, 65.0, 140.0, 171.0, 110.0, 72.0, 145.0, 136.0, 38.0, 65.0, 230.0, 65.0, 250.0, 47.0, 300.0, 39.0, 86.0, 136.0, 52.0, 81.0, 150.0, 37.0, 233.0, 78.0, 76.0, 64.0, 65.0, 155.0, 100.0, 50.0, 35.0, 80.0, 50.0, 70.0, 134.0, 169.0, 46.0, 298.0, 46.0, 31.0, 99.0, 38.0, 98.0, 130.0, 126.0, 175.0, 50.0, 68.0, 68.0, 85.0, 200.0, 70.0, 105.0, 115.0, 52.0, 30.0, 65.0, 24.0, 104.0, 100.0, 96.0, 40.0, 62.0, 107.0, 120.0, 43.0, 50.0, 255.0, 55.0, 260.0, 94.0, 150.0, 243.0, 65.0, 65.0, 50.0, 90.0, 81.0, 28.0, 71.0, 45.0, 71.0, 49.0, 140.0, 130.0, 150.0, 106.0, 50.0, 31.0, 77.0, 102.0, 125.0, 144.0, 155.0, 50.0, 79.0, 201.0, 60.0, 250.0, 150.0, 250.0, 70.0, 110.0, 60.0, 120.0, 65.0, 55.0, 60.0, 130.0, 35.0, 230.0, 249.0, 115.0, 150.0, 30.0, 100.0, 180.0, 110.0, 240.0, 150.0, 116.0, 60.0, 130.0, 99.0, 160.0, 56.0, 200.0, 175.0, 52.0, 225.0, 90.0, 135.0, 91.0, 155.0, 89.0, 230.0, 91.0, 78.0, 78.0, 78.0, 81.0, 81.0, 89.0, 100.0, 180.0, 100.0, 79.0, 300.0, 89.0, 148.0, 300.0, 75.0, 44.0, 120.0, 95.0, 65.0, 70.0, 98.0, 95.0, 80.0, 176.0, 200.0, 65.0, 149.0, 215.0, 100.0, 59.0, 45.0, 200.0, 26.0, 125.0, 99.0, 75.0, 215.0, 53.0, 237.0, 89.0, 150.0, 75.0, 65.0, 33.0, 169.0, 75.0, 99.0, 125.0, 69.0, 150.0, 90.0, 60.0, 50.0, 69.0, 65.0, 125.0, 39.0, 69.0, 90.0, 123.0, 178.0, 142.0, 134.0, 185.0, 189.0, 80.0, 239.0, 69.0, 75.0, 65.0, 90.0, 300.0, 65.0, 199.0, 65.0, 141.0, 94.0, 90.0, 115.0, 300.0, 114.0, 52.0, 145.0, 49.0, 79.0, 80.0, 99.0, 68.0, 300.0, 33.0, 295.0, 154.0, 68.0, 150.0, 25.0, 92.0, 150.0, 250.0, 72.0, 45.0, 100.0, 90.0, 95.0, 175.0, 24.0, 159.0, 40.0, 55.0, 69.0, 200.0, 35.0, 100.0, 180.0, 65.0, 200.0, 110.0, 111.0, 250.0, 120.0, 150.0, 70.0, 78.0, 190.0, 128.0, 91.0, 199.0, 145.0, 60.0, 99.0, 85.0, 125.0, 58.0, 50.0, 50.0, 70.0, 226.0, 238.0, 238.0, 244.0, 200.0, 65.0, 90.0, 170.0, 175.0, 65.0, 80.0, 198.0, 250.0, 210.0, 32.0, 180.0, 100.0, 35.0, 67.0, 85.0, 200.0, 180.0, 65.0, 178.0, 60.0, 35.0, 55.0, 70.0, 46.0, 199.0, 75.0, 65.0, 58.0, 189.0, 164.0, 92.0, 70.0, 80.0, 90.0, 42.0, 135.0, 200.0, 94.0, 130.0, 120.0, 60.0, 95.0, 60.0, 129.0, 200.0, 83.0, 109.0, 60.0, 36.0, 59.0, 200.0, 88.0, 88.0, 110.0, 55.0, 31.0, 29.0, 35.0, 115.0, 60.0, 43.0, 66.0, 25.0, 25.0, 292.0, 70.0, 189.0, 56.0, 35.0, 67.0, 78.0, 45.0, 170.0, 68.0, 80.0, 70.0, 220.0, 110.0, 134.0, 125.0, 134.0, 134.0, 89.0, 65.0, 96.0, 79.0, 35.0, 100.0, 40.0, 150.0, 200.0, 75.0, 25.0, 80.0, 49.0, 88.0, 69.0, 50.0, 171.0, 50.0, 33.0, 148.0, 65.0, 106.0, 90.0, 43.0, 89.0, 65.0, 170.0, 75.0, 95.0, 50.0, 147.0, 150.0, 135.0, 80.0, 38.0, 138.0, 115.0, 83.0, 125.0, 200.0, 175.0, 250.0, 150.0, 130.0, 65.0, 40.0, 43.0, 115.0, 200.0, 70.0, 195.0, 70.0, 95.0, 55.0, 40.0, 65.0, 115.0, 75.0, 35.0, 45.0, 45.0, 125.0, 80.0, 100.0, 99.0, 200.0, 95.0, 122.0, 39.0, 52.0, 80.0, 35.0, 160.0, 186.0, 290.0, 55.0, 60.0, 70.0, 95.0, 115.0, 50.0, 95.0, 95.0, 56.0, 200.0, 125.0, 50.0, 49.0, 165.0, 249.0, 53.0, 50.0, 75.0, 55.0, 200.0, 185.0, 50.0, 180.0, 100.0, 189.0, 90.0, 120.0, 234.0, 200.0, 250.0, 135.0, 130.0, 252.0, 100.0, 174.0, 103.0, 99.0, 88.0, 60.0, 79.0, 60.0, 151.0, 250.0, 25.0, 35.0, 43.0, 43.0, 43.0, 40.0, 163.0, 119.0, 99.0, 99.0, 50.0, 29.0, 99.0, 99.0, 92.0, 99.0, 55.0, 70.0, 170.0, 70.0, 120.0, 89.0, 75.0, 155.0, 88.0, 79.0, 149.0, 44.0, 70.0, 89.0, 43.0, 35.0, 38.0, 130.0, 48.0, 60.0, 45.0, 80.0, 120.0, 95.0, 70.0, 120.0, 39.0, 50.0, 95.0, 95.0, 95.0, 95.0, 55.0, 120.0, 140.0, 38.0, 134.0, 165.0, 175.0, 75.0, 199.0, 80.0, 236.0, 249.0, 32.0, 61.0, 35.0, 80.0, 190.0, 50.0, 37.0, 220.0, 42.0, 164.0, 300.0, 50.0, 66.0, 160.0, 175.0, 40.0, 41.0, 100.0, 160.0, 150.0, 70.0, 150.0, 135.0, 49.0, 236.0, 135.0, 69.0, 200.0, 280.0, 60.0, 62.0, 60.0, 65.0, 180.0, 219.0, 27.0, 99.0, 60.0, 143.0, 130.0, 157.0, 60.0, 60.0, 90.0, 120.0, 95.0, 255.0, 180.0, 60.0, 65.0, 86.0, 74.0, 300.0, 150.0, 40.0, 75.0, 112.0, 60.0, 60.0, 80.0, 125.0, 130.0, 37.0, 136.0, 80.0, 125.0, 30.0, 31.0, 200.0, 28.0, 150.0, 70.0, 95.0, 218.0, 49.0, 39.0, 60.0, 70.0, 45.0, 55.0, 110.0, 65.0, 55.0, 149.0, 109.0, 164.0, 163.0, 118.0, 132.0, 149.0, 215.0, 184.0, 180.0, 170.0, 70.0, 100.0, 101.0, 130.0, 100.0, 18.0, 170.0, 166.0, 160.0, 169.0, 282.0, 65.0, 150.0, 96.0, 72.0, 140.0, 100.0, 130.0, 175.0, 200.0, 288.0, 288.0, 164.0, 37.0, 60.0, 248.0, 280.0, 71.0, 50.0, 85.0, 150.0, 22.0, 120.0, 120.0, 300.0, 170.0, 50.0, 90.0, 84.0, 113.0, 80.0, 155.0, 155.0, 133.0, 133.0, 130.0, 55.0, 137.0, 115.0, 85.0, 58.0, 75.0, 100.0, 140.0, 180.0, 75.0, 109.0, 70.0, 250.0, 130.0, 125.0, 245.0, 49.0, 40.0, 33.0, 27.0, 83.0, 171.0, 45.0, 150.0, 50.0, 81.0, 79.0, 90.0, 99.0, 100.0, 175.0, 65.0, 300.0, 300.0, 150.0, 250.0, 149.0, 37.0, 99.0, 50.0, 220.0, 65.0, 151.0, 35.0, 89.0, 48.0, 55.0, 119.0, 135.0, 160.0, 60.0, 60.0, 40.0, 100.0, 55.0, 80.0, 173.0, 21.0, 25.0, 63.0, 39.0, 135.0, 90.0, 170.0, 25.0, 90.0, 52.0, 60.0, 107.0, 180.0, 150.0, 160.0, 108.0, 80.0, 55.0, 97.0, 149.0, 37.0, 95.0, 77.0, 55.0, 35.0, 300.0, 140.0, 120.0, 45.0, 150.0, 65.0, 120.0, 69.0, 140.0, 75.0, 85.0, 150.0, 37.0, 55.0, 159.0, 60.0, 81.0, 150.0, 180.0, 300.0, 230.0, 120.0, 75.0, 89.0, 80.0, 70.0, 178.0, 200.0, 150.0, 120.0, 99.0, 40.0, 75.0, 227.0, 99.0, 150.0, 110.0, 85.0, 65.0, 65.0, 64.0, 200.0, 235.0, 169.0, 199.0, 126.0, 150.0, 56.0, 60.0, 55.0, 80.0, 33.0, 135.0, 175.0, 175.0, 59.0, 105.0, 90.0, 70.0, 96.0, 50.0, 149.0, 219.0, 249.0, 95.0, 100.0, 250.0, 154.0, 150.0, 120.0, 60.0, 130.0, 300.0, 97.0, 46.0, 155.0, 36.0, 35.0, 100.0, 75.0, 39.0, 59.0, 112.0, 275.0, 92.0, 100.0, 55.0, 55.0, 95.0, 90.0, 84.0, 120.0, 36.0, 80.0, 110.0, 45.0, 80.0, 50.0, 20.0, 26.0, 300.0, 110.0, 196.0, 275.0, 200.0, 88.0, 80.0, 60.0, 255.0, 40.0, 75.0, 90.0, 125.0, 85.0, 54.0, 129.0, 114.0, 124.0, 150.0, 179.0, 25.0, 196.0, 95.0, 35.0, 57.0, 40.0, 139.0, 35.0, 50.0, 50.0, 173.0, 125.0, 80.0, 51.0, 65.0, 59.0, 45.0, 165.0, 50.0, 66.0, 80.0, 65.0, 40.0, 50.0, 200.0, 75.0, 10.0, 100.0, 45.0, 58.0, 59.0, 66.0, 298.0, 93.0, 70.0, 39.0, 56.0, 199.0, 175.0, 73.0, 299.0, 108.0, 113.0, 110.0, 150.0, 178.0, 60.0, 97.0, 150.0, 100.0, 49.0, 70.0, 60.0, 150.0, 30.0, 75.0, 159.0, 75.0, 250.0, 150.0, 25.0, 250.0, 266.0, 275.0, 110.0, 45.0, 220.0, 127.0, 70.0, 90.0, 52.0, 99.0, 79.0, 133.0, 102.0, 131.0, 60.0, 80.0, 70.0, 238.0, 180.0, 60.0, 75.0, 65.0, 300.0, 150.0, 32.0, 65.0, 120.0, 156.0, 55.0, 287.0, 153.0, 199.0, 90.0, 50.0, 31.0, 120.0, 95.0, 75.0, 40.0, 35.0, 60.0, 101.0, 250.0, 200.0, 61.0, 69.0, 90.0, 60.0, 28.0, 77.0, 300.0, 75.0, 99.0, 129.0, 72.0, 124.0, 210.0, 100.0, 50.0, 90.0, 150.0, 84.0, 46.0, 50.0, 75.0, 75.0, 60.0, 66.0, 99.0, 130.0, 70.0, 100.0, 100.0, 71.0, 40.0, 119.0, 200.0, 244.0, 250.0, 250.0, 88.0, 200.0, 55.0, 80.0, 101.0, 100.0, 100.0, 110.0, 80.0, 200.0, 53.0, 135.0, 210.0, 150.0, 99.0, 90.0, 100.0, 90.0, 85.0, 60.0, 75.0, 68.0, 88.0, 149.0, 95.0, 150.0, 125.0, 44.0, 170.0, 250.0, 129.0, 139.0, 30.0, 100.0, 179.0, 120.0, 80.0, 79.0, 75.0, 102.0, 72.0, 33.0, 120.0, 150.0, 100.0, 98.0, 200.0, 61.0, 138.0, 155.0, 180.0, 120.0, 88.0, 113.0, 167.0, 250.0, 70.0, 99.0, 165.0, 129.0, 80.0, 120.0, 189.0, 79.0, 50.0, 199.0, 125.0, 30.0, 164.0, 35.0, 60.0, 70.0, 73.0, 45.0, 80.0, 260.0, 65.0, 30.0, 30.0, 208.0, 275.0, 56.0, 175.0, 160.0, 75.0, 25.0, 45.0, 41.0, 140.0, 200.0, 100.0, 90.0, 120.0, 96.0, 125.0, 110.0, 240.0, 59.0, 80.0, 120.0, 285.0, 70.0, 75.0, 85.0, 100.0, 110.0, 40.0, 296.0, 50.0, 150.0, 55.0, 33.0, 218.0, 45.0, 150.0, 80.0, 59.0, 75.0, 142.0, 80.0, 85.0, 34.0, 44.0, 80.0, 295.0, 148.0, 120.0, 65.0, 60.0, 119.0, 80.0, 182.0, 165.0, 173.0, 75.0, 93.0, 150.0, 65.0, 30.0, 44.0, 65.0, 55.0, 58.0, 40.0, 79.0, 200.0, 175.0, 80.0, 120.0, 162.0, 89.0, 154.0, 95.0, 232.0, 100.0, 70.0, 57.0, 65.0, 235.0, 159.0, 199.0, 210.0, 100.0, 98.0, 65.0, 110.0, 39.0, 80.0, 97.0, 44.0, 75.0, 150.0, 290.0, 145.0, 120.0, 100.0, 85.0, 90.0, 250.0, 94.0, 119.0, 114.0, 119.0, 261.0, 76.0, 49.0, 55.0, 37.0, 85.0, 45.0, 85.0, 100.0, 75.0, 225.0, 60.0, 110.0, 195.0, 80.0, 175.0, 143.0, 169.0, 96.0, 44.0, 250.0, 216.0, 33.0, 249.0, 169.0, 60.0, 225.0, 115.0, 100.0, 48.0, 29.0, 49.0, 140.0, 265.0, 129.0, 75.0, 28.0, 69.0, 37.0, 170.0, 208.0, 43.0, 50.0, 96.0, 66.0, 101.0, 40.0, 40.0, 150.0, 99.0, 65.0, 90.0, 124.0, 150.0, 71.0, 20.0, 279.0, 119.0, 150.0, 175.0, 125.0, 100.0, 65.0, 33.0, 140.0, 169.0, 101.0, 200.0, 45.0, 135.0, 95.0, 155.0, 149.0, 149.0, 150.0, 198.0, 119.0, 55.0, 75.0, 200.0, 59.0, 85.0, 55.0, 95.0, 115.0, 195.0, 50.0, 150.0, 80.0, 132.0, 65.0, 125.0, 65.0, 187.0, 200.0, 60.0, 55.0, 60.0, 80.0, 57.0, 46.0, 159.0, 80.0, 36.0, 99.0, 260.0, 45.0, 236.0, 276.0, 232.0, 215.0, 235.0, 150.0, 156.0, 100.0, 150.0, 60.0, 85.0, 176.0, 80.0, 38.0, 103.0, 235.0, 93.0, 37.0, 60.0, 120.0, 65.0, 150.0, 60.0, 117.0, 50.0, 90.0, 115.0, 149.0, 189.0, 75.0, 150.0, 87.0, 95.0, 57.0, 55.0, 125.0, 135.0, 125.0, 135.0, 93.0, 164.0, 271.0, 150.0, 229.0, 245.0, 80.0, 180.0, 55.0, 20.0, 160.0, 200.0, 125.0, 44.0, 75.0, 51.0, 165.0, 295.0, 212.0, 125.0, 79.0, 75.0, 40.0, 174.0, 105.0, 52.0, 160.0, 22.0, 42.0, 213.0, 125.0, 60.0, 150.0, 64.0, 145.0, 172.0, 60.0, 110.0, 55.0, 147.0, 200.0, 200.0, 35.0, 73.0, 249.0, 100.0, 150.0, 203.0, 45.0, 147.0, 62.0, 219.0, 57.0, 65.0, 63.0, 110.0, 43.0, 55.0, 85.0, 59.0, 75.0, 179.0, 60.0, 109.0, 125.0, 49.0, 99.0, 52.0, 25.0, 120.0, 250.0, 200.0, 115.0, 105.0, 150.0, 90.0, 108.0, 125.0, 250.0, 38.0, 300.0, 215.0, 283.0, 45.0, 85.0, 190.0, 40.0, 75.0, 42.0, 110.0, 198.0, 65.0, 40.0, 199.0, 72.0, 70.0, 175.0, 55.0, 160.0, 100.0, 80.0, 300.0, 50.0, 65.0, 109.0, 61.0, 119.0, 65.0, 75.0, 80.0, 67.0, 153.0, 156.0, 72.0, 50.0, 169.0, 45.0, 70.0, 49.0, 186.0, 65.0, 100.0, 55.0, 28.0, 55.0, 90.0, 100.0, 60.0, 247.0, 100.0, 52.0, 130.0, 79.0, 75.0, 205.0, 105.0, 44.0, 60.0, 100.0, 175.0, 35.0, 180.0, 60.0, 59.0, 100.0, 300.0, 125.0, 145.0, 129.0, 75.0, 150.0, 90.0, 90.0, 50.0, 92.0, 30.0, 135.0, 80.0, 227.0, 95.0, 45.0, 108.0, 145.0, 120.0, 150.0, 100.0, 100.0, 50.0, 125.0, 90.0, 125.0, 117.0, 92.0, 183.0, 200.0, 250.0, 35.0, 149.0, 35.0, 70.0, 35.0, 35.0, 35.0, 35.0, 35.0, 35.0, 90.0, 260.0, 40.0, 30.0, 55.0, 299.0, 110.0, 40.0, 125.0, 45.0, 250.0, 80.0, 60.0, 60.0, 150.0, 160.0, 155.0, 90.0, 100.0, 299.0, 37.0, 39.0, 250.0, 60.0, 210.0, 100.0, 80.0, 80.0, 75.0, 120.0, 205.0, 189.0, 87.0, 100.0, 105.0, 300.0, 120.0, 221.0, 79.0, 178.0, 100.0, 85.0, 130.0, 150.0, 70.0, 150.0, 65.0, 79.0, 170.0, 75.0, 177.0, 40.0, 215.0, 220.0, 175.0, 75.0, 222.0, 138.0, 143.0, 167.0, 146.0, 160.0, 168.0, 195.0, 150.0, 145.0, 68.0, 300.0, 188.0, 223.0, 140.0, 184.0, 35.0, 200.0, 40.0, 45.0, 43.0, 50.0, 110.0, 199.0, 101.0, 52.0, 30.0, 257.0, 59.0, 60.0, 99.0, 42.0, 150.0, 179.0, 65.0, 142.0, 63.0, 48.0, 69.0, 66.0, 55.0, 300.0, 60.0, 100.0, 100.0, 55.0, 115.0, 36.0, 85.0, 99.0, 50.0, 100.0, 50.0, 85.0, 125.0, 220.0, 50.0, 59.0, 185.0, 150.0, 160.0, 90.0, 125.0, 150.0, 50.0, 300.0, 51.0, 45.0, 70.0, 115.0, 36.0, 70.0, 50.0, 51.0, 110.0, 110.0, 66.0, 177.0, 59.0, 90.0, 60.0, 50.0, 159.0, 200.0, 86.0, 85.0, 95.0, 150.0, 85.0, 199.0, 70.0, 98.0, 37.0, 175.0, 195.0, 70.0, 100.0, 125.0, 195.0, 220.0, 200.0, 88.0, 232.0, 97.0, 70.0, 60.0, 175.0, 45.0, 84.0, 50.0, 100.0, 249.0, 250.0, 65.0, 141.0, 89.0, 69.0, 59.0, 32.0, 140.0, 280.0, 155.0, 155.0, 100.0, 188.0, 250.0, 99.0, 150.0, 145.0, 136.0, 90.0, 57.0, 200.0, 47.0, 119.0, 50.0, 75.0, 59.0, 135.0, 279.0, 105.0, 99.0, 140.0, 125.0, 101.0, 71.0, 180.0, 30.0, 120.0, 65.0, 88.0, 75.0, 72.0, 135.0, 80.0, 100.0, 189.0, 72.0, 169.0, 65.0, 56.0, 42.0, 30.0, 50.0, 59.0, 150.0, 51.0, 92.0, 225.0, 107.0, 90.0, 119.0, 60.0, 79.0, 94.0, 79.0, 84.0, 55.0, 120.0, 75.0, 90.0, 250.0, 280.0, 125.0, 70.0, 48.0, 98.0, 30.0, 150.0, 279.0, 210.0, 41.0, 300.0, 80.0, 112.0, 70.0, 65.0, 120.0, 200.0, 80.0, 190.0, 70.0, 102.0, 150.0, 59.0, 240.0, 130.0, 60.0, 50.0, 225.0, 50.0, 100.0, 80.0, 125.0, 150.0, 65.0, 125.0, 74.0, 40.0, 70.0, 71.0, 130.0, 100.0, 199.0, 30.0, 200.0, 300.0, 150.0, 34.0, 92.0, 90.0, 233.0, 115.0, 79.0, 73.0, 125.0, 73.0, 40.0, 93.0, 120.0, 170.0, 266.0, 208.0, 199.0, 160.0, 55.0, 216.0, 230.0, 150.0, 100.0, 125.0, 50.0, 190.0, 100.0, 53.0, 151.0, 72.0, 36.0, 32.0, 130.0, 110.0, 99.0, 145.0, 52.0, 150.0, 100.0, 70.0, 55.0, 78.0, 179.0, 59.0, 0.0, 27.0, 150.0, 90.0, 50.0, 300.0, 300.0, 50.0, 155.0, 40.0, 160.0, 40.0, 285.0, 65.0, 208.0, 69.0, 100.0, 80.0, 70.0, 200.0, 70.0, 50.0, 99.0, 150.0, 100.0, 50.0, 105.0, 172.0, 85.0, 53.0, 300.0, 60.0, 150.0, 70.0, 40.0, 100.0, 78.0, 81.0, 250.0, 150.0, 77.0, 264.0, 58.0, 130.0, 150.0, 149.0, 90.0, 130.0, 250.0, 211.0, 90.0, 208.0, 85.0, 219.0, 150.0, 52.0, 249.0, 178.0, 118.0, 50.0, 85.0, 85.0, 33.0, 85.0, 85.0, 85.0, 85.0, 85.0, 85.0, 120.0, 170.0, 123.0, 85.0, 85.0, 200.0, 46.0, 100.0, 100.0, 299.0, 66.0, 75.0, 90.0, 55.0, 90.0, 160.0, 55.0, 50.0, 120.0, 250.0, 159.0, 140.0, 229.0, 150.0, 167.0, 250.0, 170.0, 198.0, 85.0, 95.0, 50.0, 90.0, 45.0, 125.0, 130.0, 73.0, 299.0, 160.0, 150.0, 65.0, 140.0, 80.0, 70.0, 100.0, 115.0, 70.0, 50.0, 78.0, 167.0, 90.0, 120.0, 179.0, 70.0, 70.0, 125.0, 200.0, 89.0, 100.0, 70.0, 120.0, 299.0, 50.0, 130.0, 134.0, 80.0, 100.0, 120.0, 120.0, 75.0, 70.0, 125.0, 130.0, 40.0, 279.0, 39.0, 150.0, 55.0, 105.0, 100.0, 80.0, 99.0, 150.0, 200.0, 90.0, 95.0, 90.0, 99.0, 60.0, 200.0, 252.0, 70.0, 70.0, 49.0, 85.0, 123.0, 47.0, 86.0, 115.0, 75.0, 100.0, 125.0, 60.0, 50.0, 50.0, 135.0, 194.0, 175.0, 165.0, 155.0, 122.0, 120.0, 115.0, 115.0, 145.0, 82.0, 80.0, 188.0, 70.0, 111.0, 59.0, 52.0, 66.0, 125.0, 207.0, 27.0, 30.0, 117.0, 119.0, 300.0, 250.0, 300.0, 250.0, 300.0, 160.0, 160.0, 60.0, 290.0, 50.0, 185.0, 190.0, 200.0, 220.0, 124.0, 199.0, 120.0, 100.0, 61.0, 189.0, 199.0, 40.0, 30.0, 50.0, 50.0, 50.0, 120.0, 67.0, 67.0, 170.0, 250.0, 165.0, 196.0, 67.0, 90.0, 54.0, 210.0, 60.0, 54.0, 80.0, 54.0, 54.0, 65.0, 52.0, 52.0, 95.0, 85.0, 160.0, 135.0, 150.0, 150.0, 175.0, 150.0, 41.0, 185.0, 35.0, 175.0, 75.0, 45.0, 40.0, 50.0, 300.0, 36.0, 45.0, 40.0, 79.0, 129.0, 120.0, 80.0, 60.0, 90.0, 56.0, 216.0, 59.0, 52.0, 40.0, 102.0, 40.0, 90.0, 57.0, 125.0, 150.0, 95.0, 300.0, 135.0, 90.0, 51.0, 160.0, 125.0, 250.0, 250.0, 119.0, 85.0, 80.0, 257.0, 299.0, 160.0, 45.0, 88.0, 120.0, 75.0, 130.0, 70.0, 25.0, 249.0, 51.0, 50.0, 200.0, 225.0, 195.0, 94.0, 79.0, 249.0, 170.0, 120.0, 150.0, 57.0, 225.0, 259.0, 250.0, 150.0, 120.0, 180.0, 90.0, 45.0, 117.0, 150.0, 34.0, 45.0, 100.0, 75.0, 141.0, 53.0, 88.0, 85.0, 75.0, 43.0, 60.0, 50.0, 56.0, 110.0, 150.0, 95.0, 130.0, 65.0, 175.0, 65.0, 99.0, 96.0, 57.0, 27.0, 29.0, 120.0, 250.0, 35.0, 115.0, 135.0, 135.0, 100.0, 85.0, 250.0, 99.0, 49.0, 285.0, 128.0, 105.0, 157.0, 110.0, 79.0, 28.0, 39.0, 70.0, 50.0, 250.0, 60.0, 91.0, 80.0, 139.0, 56.0, 145.0, 100.0, 30.0, 140.0, 80.0, 225.0, 175.0, 75.0, 61.0, 132.0, 172.0, 300.0, 85.0, 249.0, 200.0, 300.0, 80.0, 99.0, 190.0, 119.0, 150.0, 94.0, 46.0, 60.0, 192.0, 185.0, 238.0, 150.0, 250.0, 180.0, 85.0, 40.0, 92.0, 65.0, 145.0, 36.0, 50.0, 35.0, 189.0, 75.0, 206.0, 121.0, 60.0, 150.0, 70.0, 59.0, 40.0, 65.0, 35.0, 100.0, 65.0, 45.0, 60.0, 115.0, 35.0, 221.0, 35.0, 100.0, 145.0, 45.0, 75.0, 90.0, 120.0, 275.0, 35.0, 50.0, 55.0, 35.0, 74.0, 70.0, 82.0, 125.0, 225.0, 60.0, 169.0, 85.0, 80.0, 65.0, 200.0, 170.0, 175.0, 123.0, 169.0, 84.0, 60.0, 40.0, 120.0, 70.0, 63.0, 79.0, 50.0, 70.0, 199.0, 222.0, 115.0, 10.0, 85.0, 75.0, 135.0, 145.0, 68.0, 79.0, 78.0, 92.0, 75.0, 120.0, 39.0, 53.0, 100.0, 147.0, 80.0, 45.0, 99.0, 39.0, 97.0, 122.0, 150.0, 56.0, 50.0, 90.0, 84.0, 56.0, 22.0, 119.0, 18.0, 100.0, 130.0, 35.0, 78.0, 119.0, 126.0, 119.0, 79.0, 118.0, 120.0, 80.0, 60.0, 80.0, 88.0, 55.0, 42.0, 250.0, 88.0, 185.0, 45.0, 59.0, 55.0, 105.0, 122.0, 65.0, 175.0, 80.0, 60.0, 88.0, 88.0, 193.0, 90.0, 67.0, 77.0, 149.0, 128.0, 70.0, 50.0, 39.0, 225.0, 153.0, 40.0, 249.0, 100.0, 134.0, 300.0, 90.0, 60.0, 275.0, 261.0, 30.0, 69.0, 100.0, 176.0, 200.0, 175.0, 150.0, 150.0, 115.0, 109.0, 75.0, 65.0, 105.0, 125.0, 55.0, 99.0, 110.0, 200.0, 250.0, 85.0, 51.0, 40.0, 115.0, 64.0, 118.0, 59.0, 40.0, 45.0, 225.0, 149.0, 45.0, 107.0, 289.0, 250.0, 39.0, 130.0, 200.0, 40.0, 240.0, 135.0, 92.0, 50.0, 150.0, 45.0, 160.0, 129.0, 80.0, 80.0, 75.0, 144.0, 54.0, 70.0, 240.0, 144.0, 145.0, 131.0, 175.0, 180.0, 131.0, 70.0, 120.0, 58.0, 150.0, 150.0, 165.0, 185.0, 135.0, 65.0, 90.0, 105.0, 80.0, 110.0, 98.0, 250.0, 170.0, 45.0, 85.0, 115.0, 90.0, 95.0, 69.0, 230.0, 125.0, 45.0, 130.0, 50.0, 59.0, 161.0, 56.0, 50.0, 100.0, 88.0, 88.0, 45.0, 140.0, 60.0, 37.0, 34.0, 105.0, 150.0, 85.0, 128.0, 35.0, 88.0, 160.0, 120.0, 300.0, 240.0, 70.0, 80.0, 55.0, 185.0, 45.0, 151.0, 65.0, 249.0, 200.0, 115.0, 175.0, 48.0, 115.0, 50.0, 293.0, 269.0, 61.0, 43.0, 70.0, 200.0, 200.0, 130.0, 65.0, 82.0, 169.0, 299.0, 126.0, 65.0, 250.0, 29.0, 68.0, 49.0, 150.0, 59.0, 150.0, 90.0, 125.0, 225.0, 90.0, 125.0, 140.0, 85.0, 40.0, 140.0, 90.0, 130.0, 300.0, 67.0, 45.0, 100.0, 66.0, 66.0, 108.0, 100.0, 40.0, 119.0, 24.0, 40.0, 190.0, 60.0, 46.0, 275.0, 80.0, 167.0, 50.0, 64.0, 200.0, 225.0, 79.0, 60.0, 100.0, 300.0, 27.0, 130.0, 175.0, 109.0, 88.0, 100.0, 69.0, 50.0, 69.0, 60.0, 93.0, 68.0, 200.0, 58.0, 275.0, 49.0, 102.0, 102.0, 110.0, 210.0, 50.0, 120.0, 90.0, 25.0, 70.0, 194.0, 200.0, 75.0, 125.0, 66.0, 66.0, 60.0, 51.0, 40.0, 271.0, 161.0, 100.0, 40.0, 89.0, 241.0, 181.0, 145.0, 95.0, 24.0, 46.0, 60.0, 90.0, 58.0, 49.0, 36.0, 56.0, 70.0, 55.0, 80.0, 100.0, 50.0, 60.0, 100.0, 150.0, 96.0, 20.0, 70.0, 295.0, 103.0, 38.0, 89.0, 140.0, 199.0, 39.0, 75.0, 75.0, 60.0, 60.0, 53.0, 86.0, 35.0, 79.0, 30.0, 48.0, 55.0, 100.0, 77.0, 185.0, 85.0, 52.0, 200.0, 90.0, 95.0, 49.0, 45.0, 35.0, 55.0, 185.0, 81.0, 75.0, 80.0, 125.0, 120.0, 42.0, 85.0, 80.0, 55.0, 77.0, 62.0, 40.0, 61.0, 80.0, 35.0, 234.0, 97.0, 151.0, 105.0, 0.0, 70.0, 180.0, 119.0, 66.0, 80.0, 250.0, 199.0, 239.0, 60.0, 49.0, 250.0, 80.0, 86.0, 175.0, 29.0, 160.0, 75.0, 58.0, 32.0, 20.0, 32.0, 250.0, 80.0, 99.0, 99.0, 99.0, 99.0, 99.0, 99.0, 99.0, 99.0, 90.0, 125.0, 90.0, 230.0, 213.0, 69.0, 0.0, 120.0, 180.0, 40.0, 99.0, 45.0, 55.0, 75.0, 75.0, 200.0, 32.0, 43.0, 275.0, 80.0, 55.0, 100.0, 150.0, 95.0, 40.0, 29.0, 97.0, 80.0, 150.0, 45.0, 135.0, 225.0, 135.0, 39.0, 120.0, 150.0, 151.0, 140.0, 245.0, 69.0, 50.0, 99.0, 159.0, 135.0, 49.0, 75.0, 65.0, 65.0, 150.0, 125.0, 213.0, 98.0, 75.0, 40.0, 40.0, 65.0, 75.0, 70.0, 80.0, 116.0, 37.0, 95.0, 200.0, 35.0, 200.0, 35.0, 150.0, 80.0, 54.0, 295.0, 86.0, 50.0, 48.0, 99.0, 155.0, 120.0, 53.0, 275.0, 129.0, 55.0, 115.0, 24.0, 173.0, 45.0, 35.0, 175.0, 120.0, 39.0, 150.0, 200.0, 96.0, 149.0, 214.0, 55.0, 100.0, 33.0, 89.0, 150.0, 80.0, 200.0, 48.0, 70.0, 120.0, 39.0, 179.0, 300.0, 105.0, 185.0, 75.0, 260.0, 78.0, 105.0, 185.0, 134.0, 80.0, 60.0, 120.0, 45.0, 249.0, 35.0, 170.0, 110.0, 30.0, 60.0, 60.0, 190.0, 90.0, 55.0, 52.0, 135.0, 49.0, 40.0, 33.0, 60.0, 90.0, 35.0, 120.0, 263.0, 200.0, 50.0, 75.0, 57.0, 150.0, 249.0, 13.0, 100.0, 75.0, 62.0, 130.0, 100.0, 232.0, 246.0, 200.0, 90.0, 215.0, 60.0, 125.0, 150.0, 110.0, 115.0, 106.0, 40.0, 97.0, 140.0, 49.0, 50.0, 88.0, 95.0, 109.0, 27.0, 95.0, 69.0, 84.0, 100.0, 65.0, 120.0, 99.0, 170.0, 160.0, 180.0, 175.0, 95.0, 45.0, 75.0, 40.0, 140.0, 95.0, 199.0, 70.0, 85.0, 99.0, 110.0, 44.0, 139.0, 50.0, 69.0, 50.0, 200.0, 120.0, 140.0, 22.0, 55.0, 200.0, 50.0, 300.0, 166.0, 52.0, 140.0, 95.0, 110.0, 40.0, 149.0, 33.0, 0.0, 0.0, 0.0, 0.0, 0.0, 0.0, 0.0, 52.0, 158.0, 120.0, 25.0, 75.0, 36.0, 100.0, 179.0, 249.0, 99.0, 90.0, 230.0, 70.0, 55.0, 50.0, 165.0, 151.0, 43.0, 100.0, 100.0, 59.0, 75.0, 69.0, 68.0, 116.0, 249.0, 55.0, 60.0, 46.0, 63.0, 56.0, 57.0, 38.0, 38.0, 75.0, 135.0, 59.0, 65.0, 55.0, 55.0, 55.0, 200.0, 101.0, 50.0, 50.0, 60.0, 100.0, 100.0, 41.0, 60.0, 270.0, 30.0, 65.0, 275.0, 120.0, 180.0, 59.0, 245.0, 61.0, 29.0, 130.0, 69.0, 48.0, 40.0, 130.0, 123.0, 69.0, 239.0, 90.0, 54.0, 150.0, 180.0, 135.0, 200.0, 63.0, 150.0, 50.0, 103.0, 69.0, 100.0, 155.0, 118.0, 100.0, 40.0, 70.0, 50.0, 108.0, 190.0, 40.0, 216.0, 175.0, 49.0, 104.0, 190.0, 70.0, 60.0, 180.0, 105.0, 70.0, 120.0, 40.0, 154.0, 250.0, 119.0, 185.0, 65.0, 86.0, 39.0, 290.0, 135.0, 109.0, 59.0, 190.0, 100.0, 49.0, 95.0, 49.0, 80.0, 120.0, 135.0, 99.0, 38.0, 110.0, 259.0, 125.0, 0.0, 80.0, 48.0, 300.0, 203.0, 120.0, 145.0, 40.0, 79.0, 79.0, 79.0, 115.0, 80.0, 299.0, 88.0, 53.0, 120.0, 126.0, 120.0, 150.0, 175.0, 89.0, 70.0, 40.0, 0.0, 0.0, 38.0, 53.0, 145.0, 110.0, 110.0, 110.0, 40.0, 50.0, 250.0, 267.0, 150.0, 150.0, 175.0, 35.0, 80.0, 33.0, 225.0, 32.0, 159.0, 125.0, 126.0, 135.0, 170.0, 50.0, 66.0, 225.0, 150.0, 300.0, 70.0, 92.0, 35.0, 85.0, 95.0, 150.0, 120.0, 100.0, 89.0, 200.0, 79.0, 100.0, 64.0, 69.0, 100.0, 90.0, 35.0, 65.0, 70.0, 250.0, 99.0, 69.0, 140.0, 208.0, 45.0, 75.0, 120.0, 213.0, 0.0, 0.0, 105.0, 120.0, 150.0, 76.0, 80.0, 83.0, 180.0, 168.0, 167.0, 96.0, 85.0, 89.0, 35.0, 110.0, 80.0, 49.0, 81.0, 130.0, 292.0, 282.0, 290.0, 85.0, 106.0, 130.0, 102.0, 150.0, 106.0, 180.0, 50.0, 158.0, 236.0, 200.0, 100.0, 36.0, 125.0, 52.0, 175.0, 169.0, 199.0, 163.0, 120.0, 178.0, 120.0, 249.0, 50.0, 165.0, 125.0, 125.0, 134.0, 55.0, 57.0, 35.0, 115.0, 90.0, 175.0, 100.0, 110.0, 99.0, 135.0, 90.0, 55.0, 115.0, 25.0, 44.0, 200.0, 288.0, 80.0, 50.0, 65.0, 80.0, 30.0, 60.0, 70.0, 139.0, 99.0, 109.0, 90.0, 163.0, 79.0, 86.0, 87.0, 120.0, 65.0, 159.0, 195.0, 50.0, 92.0, 99.0, 161.0, 125.0, 59.0, 85.0, 35.0, 35.0, 38.0, 39.0, 133.0, 35.0, 149.0, 261.0, 150.0, 150.0, 275.0, 120.0, 150.0, 25.0, 80.0, 98.0, 35.0, 201.0, 129.0, 85.0, 65.0, 175.0, 150.0, 60.0, 91.0, 130.0, 36.0, 69.0, 50.0, 190.0, 170.0, 285.0, 115.0, 65.0, 99.0, 135.0, 59.0, 47.0, 115.0, 129.0, 150.0, 29.0, 118.0, 35.0, 150.0, 85.0, 36.0, 69.0, 60.0, 45.0, 43.0, 300.0, 34.0, 50.0, 95.0, 37.0, 107.0, 112.0, 130.0, 99.0, 186.0, 60.0, 120.0, 70.0, 240.0, 230.0, 160.0, 280.0, 150.0, 75.0, 110.0, 30.0, 212.0, 35.0, 150.0, 40.0, 42.0, 29.0, 37.0, 36.0, 275.0, 45.0, 80.0, 60.0, 50.0, 59.0, 229.0, 119.0, 99.0, 33.0, 121.0, 230.0, 100.0, 249.0, 100.0, 225.0, 150.0, 259.0, 37.0, 49.0, 20.0, 43.0, 45.0, 140.0, 120.0, 85.0, 132.0, 99.0, 60.0, 69.0, 60.0, 155.0, 98.0, 55.0, 39.0, 29.0, 36.0, 33.0, 25.0, 24.0, 45.0, 43.0, 34.0, 33.0, 225.0, 33.0, 25.0, 166.0, 149.0, 62.0, 155.0, 80.0, 25.0, 26.0, 200.0, 250.0, 65.0, 150.0, 249.0, 30.0, 220.0, 65.0, 100.0, 41.0, 34.0, 37.0, 36.0, 84.0, 125.0, 160.0, 65.0, 90.0, 150.0, 61.0, 61.0, 55.0, 60.0, 180.0, 25.0, 116.0, 88.0, 165.0, 105.0, 126.0, 60.0, 20.0, 20.0, 150.0, 68.0, 100.0, 145.0, 40.0, 55.0, 45.0, 60.0, 40.0, 65.0, 91.0, 55.0, 55.0, 55.0, 65.0, 65.0, 89.0, 36.0, 53.0, 75.0, 189.0, 99.0, 45.0, 189.0, 220.0, 195.0, 99.0, 124.0, 26.0, 47.0, 26.0, 130.0, 28.0, 34.0, 120.0, 67.0, 175.0, 55.0, 95.0, 129.0, 111.0, 89.0, 56.0, 150.0, 129.0, 150.0, 55.0, 254.0, 70.0, 110.0, 289.0, 125.0, 73.0, 55.0, 60.0, 80.0, 230.0, 90.0, 200.0, 36.0, 140.0, 160.0, 300.0, 160.0, 75.0, 159.0, 50.0, 150.0, 236.0, 80.0, 200.0, 79.0, 108.0, 60.0, 39.0, 35.0, 50.0, 157.0, 28.0, 28.0, 52.0, 89.0, 120.0, 199.0, 25.0, 68.0, 100.0, 27.0, 75.0, 125.0, 268.0, 243.0, 150.0, 200.0, 110.0, 43.0, 27.0, 149.0, 49.0, 33.0, 28.0, 23.0, 55.0, 58.0, 63.0, 80.0, 70.0, 299.0, 75.0, 32.0, 20.0, 28.0, 58.0, 45.0, 55.0, 28.0, 42.0, 75.0, 165.0, 238.0, 100.0, 129.0, 57.0, 45.0, 29.0, 35.0, 199.0, 126.0, 60.0, 55.0, 40.0, 17.0, 18.0, 30.0, 65.0, 40.0, 91.0, 48.0, 67.0, 67.0, 67.0, 42.0, 95.0, 45.0, 43.0, 27.0, 45.0, 29.0, 41.0, 45.0, 150.0, 150.0, 297.0, 81.0, 95.0, 69.0, 122.0, 160.0, 200.0, 59.0, 54.0, 89.0, 59.0, 79.0, 89.0, 45.0, 160.0, 200.0, 298.0, 30.0, 120.0, 50.0, 0.0, 40.0, 40.0, 109.0, 125.0, 300.0, 75.0, 275.0, 159.0, 150.0, 185.0, 80.0, 130.0, 39.0, 65.0, 30.0, 177.0, 217.0, 36.0, 100.0, 100.0, 150.0, 259.0, 146.0, 214.0, 69.0, 60.0, 296.0, 86.0, 160.0, 50.0, 45.0, 37.0, 38.0, 45.0, 28.0, 180.0, 180.0, 85.0, 40.0, 199.0, 42.0, 40.0, 120.0, 65.0, 140.0, 130.0, 25.0, 100.0, 149.0, 65.0, 187.0, 89.0, 89.0, 42.0, 40.0, 26.0, 42.0, 34.0, 40.0, 37.0, 106.0, 83.0, 99.0, 110.0, 28.0, 135.0, 115.0, 87.0, 65.0, 89.0, 60.0, 160.0, 80.0, 36.0, 37.0, 33.0, 31.0, 130.0, 177.0, 96.0, 175.0, 169.0, 45.0, 31.0, 32.0, 38.0, 200.0, 200.0, 94.0, 48.0, 25.0, 120.0, 70.0, 40.0, 45.0, 49.0, 180.0, 36.0, 75.0, 32.0, 123.0, 300.0, 34.0, 55.0, 55.0, 45.0, 27.0, 35.0, 110.0, 125.0, 139.0, 95.0, 26.0, 38.0, 34.0, 21.0, 24.0, 169.0, 169.0, 69.0, 200.0, 70.0, 80.0, 165.0, 110.0, 175.0, 250.0, 49.0, 17.0, 21.0, 135.0, 65.0, 70.0, 140.0, 200.0, 118.0, 119.0, 119.0, 111.0, 23.0, 31.0, 27.0, 32.0, 26.0, 28.0, 48.0, 199.0, 40.0, 50.0, 239.0, 253.0, 65.0, 25.0, 170.0, 95.0, 64.0, 193.0, 70.0, 150.0, 50.0, 130.0, 108.0, 94.0, 127.0, 50.0, 95.0, 193.0, 126.0, 75.0, 287.0, 126.0, 107.0, 230.0, 35.0, 68.0, 99.0, 94.0, 50.0, 79.0, 59.0, 50.0, 118.0, 40.0, 59.0, 185.0, 120.0, 130.0, 0.0, 165.0, 280.0, 26.0, 45.0, 27.0, 33.0, 37.0, 23.0, 28.0, 26.0, 75.0, 100.0, 36.0, 36.0, 165.0, 43.0, 95.0, 24.0, 115.0, 65.0, 65.0, 55.0, 50.0, 111.0, 55.0, 269.0, 250.0, 180.0, 42.0, 29.0, 33.0, 26.0, 80.0, 79.0, 65.0, 40.0, 114.0, 190.0, 129.0, 92.0, 60.0, 54.0, 150.0, 119.0, 143.0, 80.0, 278.0, 50.0, 185.0, 60.0, 150.0, 117.0, 120.0, 49.0, 150.0, 150.0, 150.0, 0.0, 0.0, 42.0, 150.0, 40.0, 39.0, 195.0, 155.0, 250.0, 120.0, 235.0, 49.0, 60.0, 250.0, 140.0, 159.0, 249.0, 249.0, 249.0, 249.0, 209.0, 249.0, 280.0, 70.0, 39.0, 70.0, 75.0, 249.0, 249.0, 249.0, 249.0, 249.0, 249.0, 249.0, 27.0, 210.0, 35.0, 29.0, 93.0, 155.0, 45.0, 250.0, 139.0, 148.0, 175.0, 264.0, 209.0, 199.0, 199.0, 209.0, 209.0, 249.0, 249.0, 249.0, 154.0, 43.0, 40.0, 40.0, 40.0, 86.0, 150.0, 100.0, 100.0, 250.0, 249.0, 249.0, 59.0, 43.0, 65.0, 61.0, 62.0, 45.0, 71.0, 25.0, 220.0, 125.0, 145.0, 70.0, 70.0, 40.0, 275.0, 170.0, 50.0, 34.0, 150.0, 75.0, 75.0, 120.0, 89.0, 150.0, 90.0, 65.0, 19.0, 79.0, 127.0, 44.0, 250.0, 125.0, 130.0, 44.0, 93.0, 30.0, 180.0, 280.0, 50.0, 57.0, 72.0, 199.0, 49.0, 232.0, 35.0, 59.0, 49.0, 49.0, 60.0, 70.0, 38.0, 100.0, 135.0, 103.0, 150.0, 35.0, 0.0, 60.0, 60.0, 219.0, 199.0, 43.0, 35.0, 43.0, 43.0, 43.0, 189.0, 72.0, 200.0, 88.0, 60.0, 32.0, 132.0, 275.0, 101.0, 30.0, 150.0, 35.0, 249.0, 58.0, 56.0, 130.0, 59.0, 50.0, 100.0, 219.0, 80.0, 89.0, 0.0, 65.0, 50.0, 43.0, 57.0, 57.0, 57.0, 57.0, 57.0, 50.0, 27.0, 125.0, 135.0, 36.0, 115.0, 38.0, 249.0, 249.0, 75.0, 100.0, 99.0, 109.0, 159.0, 99.0, 101.0, 125.0, 80.0, 60.0, 59.0, 59.0, 59.0, 249.0, 249.0, 249.0, 249.0, 249.0, 45.0, 185.0, 120.0, 45.0, 31.0, 39.0, 49.0, 99.0, 99.0, 99.0, 99.0, 101.0, 99.0, 99.0, 115.0, 60.0, 167.0, 43.0, 58.0, 80.0, 250.0, 65.0, 219.0, 125.0, 102.0, 90.0, 47.0, 150.0, 120.0, 139.0, 100.0, 180.0, 169.0, 108.0, 110.0, 30.0, 106.0, 47.0, 100.0, 75.0, 89.0, 110.0, 110.0, 106.0, 80.0, 75.0, 249.0, 108.0, 59.0, 120.0, 120.0, 110.0, 80.0, 100.0, 120.0, 100.0, 100.0, 38.0, 100.0, 60.0, 59.0, 69.0, 87.0, 206.0, 202.0, 234.0, 50.0, 161.0, 249.0, 259.0, 249.0, 249.0, 299.0, 209.0, 225.0, 250.0, 125.0, 50.0, 58.0, 71.0, 133.0, 37.0, 93.0, 200.0, 245.0, 100.0, 35.0, 136.0, 225.0, 45.0, 175.0, 125.0, 39.0, 36.0, 34.0, 27.0, 34.0, 27.0, 105.0, 26.0, 89.0, 26.0, 26.0, 200.0, 107.0, 23.0, 109.0, 180.0, 115.0, 26.0, 175.0, 28.0, 30.0, 125.0, 26.0, 26.0, 26.0, 110.0, 23.0, 28.0, 27.0, 38.0, 26.0, 23.0, 28.0, 28.0, 27.0, 35.0, 27.0, 34.0, 32.0, 27.0, 28.0, 157.0, 33.0, 28.0, 44.0, 115.0, 125.0, 125.0, 167.0, 94.0, 27.0, 32.0, 50.0, 32.0, 24.0, 31.0, 26.0, 24.0, 110.0, 190.0, 110.0, 120.0, 40.0, 36.0, 21.0, 28.0, 152.0, 75.0, 90.0, 45.0, 59.0, 58.0, 150.0, 190.0, 100.0, 225.0, 200.0, 40.0, 125.0, 84.0, 269.0, 150.0, 100.0, 100.0, 80.0, 42.0, 128.0, 80.0, 80.0, 29.0, 35.0, 32.0, 90.0, 28.0, 90.0, 175.0, 75.0, 55.0, 85.0, 100.0, 120.0, 250.0, 225.0, 155.0, 75.0, 37.0, 60.0, 100.0, 200.0, 130.0, 65.0, 85.0, 50.0, 168.0, 150.0, 157.0, 180.0, 65.0, 50.0, 120.0, 275.0, 135.0, 85.0, 39.0, 35.0, 100.0, 150.0, 101.0, 28.0, 26.0, 200.0, 191.0, 295.0, 100.0, 80.0, 150.0, 140.0, 140.0, 90.0, 130.0, 100.0, 150.0, 163.0, 200.0, 80.0, 28.0, 243.0, 125.0, 95.0, 80.0, 226.0, 93.0, 70.0, 94.0, 92.0, 110.0, 80.0, 100.0, 179.0, 120.0, 34.0, 35.0, 40.0, 34.0, 85.0, 21.0, 125.0, 81.0, 104.0, 70.0, 150.0, 186.0, 135.0, 126.0, 250.0, 150.0, 31.0, 235.0, 85.0, 108.0, 42.0, 40.0, 54.0, 75.0, 110.0, 68.0, 40.0, 98.0, 275.0, 150.0, 85.0, 130.0, 100.0, 69.0, 80.0, 100.0, 89.0, 75.0, 42.0, 160.0, 190.0, 260.0, 130.0, 75.0, 206.0, 139.0, 90.0, 120.0, 88.0, 35.0, 39.0, 127.0, 65.0, 250.0, 100.0, 38.0, 38.0, 43.0, 38.0, 150.0, 70.0, 200.0, 50.0, 200.0, 43.0, 45.0, 199.0, 206.0, 229.0, 45.0, 95.0, 90.0, 101.0, 80.0, 65.0, 45.0, 65.0, 119.0, 90.0, 45.0, 62.0, 150.0, 150.0, 250.0, 78.0, 85.0, 150.0, 76.0, 120.0, 92.0, 25.0, 40.0, 71.0, 45.0, 65.0, 136.0, 140.0, 85.0, 53.0, 100.0, 170.0, 75.0, 86.0, 150.0, 75.0, 225.0, 265.0, 285.0, 215.0, 120.0, 150.0, 171.0, 145.0, 48.0, 54.0, 59.0, 145.0, 49.0, 145.0, 47.0, 179.0, 145.0, 47.0, 179.0, 49.0, 48.0, 145.0, 47.0, 48.0, 65.0, 70.0, 59.0, 85.0, 56.0, 45.0, 100.0, 90.0, 300.0, 150.0, 50.0, 78.0, 36.0, 175.0, 136.0, 45.0, 81.0, 120.0, 140.0, 90.0, 75.0, 32.0, 25.0, 101.0, 90.0, 29.0, 35.0, 19.0, 132.0, 21.0, 21.0, 19.0, 25.0, 108.0, 21.0, 26.0, 18.0, 24.0, 105.0, 100.0, 100.0, 130.0, 40.0, 149.0, 34.0, 23.0, 94.0, 100.0, 55.0, 93.0, 260.0, 125.0, 110.0, 120.0, 129.0, 65.0, 270.0, 48.0, 113.0, 140.0, 90.0, 103.0, 120.0, 148.0, 118.0, 250.0, 70.0, 95.0, 86.0, 85.0, 113.0, 89.0, 90.0, 299.0, 199.0, 149.0, 90.0, 150.0, 200.0, 210.0, 115.0, 296.0, 115.0, 118.0, 78.0, 135.0, 109.0, 60.0, 90.0, 80.0, 60.0, 49.0, 68.0, 120.0, 90.0, 150.0, 128.0, 85.0, 190.0, 150.0, 60.0, 85.0, 52.0, 75.0, 163.0, 253.0, 80.0, 60.0, 207.0, 80.0, 55.0, 95.0, 30.0, 80.0, 61.0, 105.0, 120.0, 75.0, 275.0, 48.0, 48.0, 96.0, 86.0, 52.0, 249.0, 135.0, 40.0, 300.0, 99.0, 60.0, 75.0, 40.0, 42.0, 28.0, 27.0, 27.0, 120.0, 75.0, 80.0, 155.0, 71.0, 50.0, 250.0, 55.0, 55.0, 84.0, 155.0, 17.0, 40.0, 50.0, 60.0, 89.0, 106.0, 195.0, 62.0, 123.0, 23.0, 41.0, 80.0, 40.0, 45.0, 43.0, 273.0, 300.0, 45.0, 60.0, 33.0, 257.0, 63.0, 228.0, 112.0, 158.0, 179.0, 200.0, 284.0, 95.0, 100.0, 108.0, 65.0, 58.0, 55.0, 109.0, 150.0, 49.0, 50.0, 36.0, 141.0, 189.0, 35.0, 60.0, 67.0, 66.0, 95.0, 25.0, 110.0, 42.0, 60.0, 97.0, 60.0, 150.0, 114.0, 171.0, 105.0, 179.0, 65.0, 37.0, 23.0, 32.0, 27.0, 129.0, 125.0, 90.0, 44.0, 48.0, 60.0, 288.0, 157.0, 60.0, 195.0, 103.0, 108.0, 49.0, 89.0, 110.0, 117.0, 135.0, 100.0, 50.0, 77.0, 87.0, 140.0, 99.0, 140.0, 111.0, 165.0, 150.0, 250.0, 35.0, 300.0, 100.0, 129.0, 60.0, 50.0, 113.0, 80.0, 99.0, 150.0, 130.0, 89.0, 140.0, 24.0, 26.0, 26.0, 26.0, 28.0, 72.0, 59.0, 82.0, 180.0, 44.0, 48.0, 35.0, 300.0, 60.0, 160.0, 92.0, 168.0, 180.0, 95.0, 86.0, 82.0, 40.0, 53.0, 135.0, 110.0, 100.0, 60.0, 90.0, 50.0, 25.0, 27.0, 44.0, 100.0, 46.0, 150.0, 125.0, 150.0, 60.0, 50.0, 50.0, 50.0, 33.0, 31.0, 30.0, 28.0, 24.0, 60.0, 59.0, 50.0, 110.0, 75.0, 250.0, 91.0, 31.0, 95.0, 150.0, 72.0, 150.0, 136.0, 50.0, 40.0, 116.0, 107.0, 140.0, 96.0, 107.0, 103.0, 25.0, 60.0, 30.0, 108.0, 50.0, 103.0, 103.0, 110.0, 125.0, 150.0, 75.0, 70.0, 166.0, 165.0, 70.0, 79.0, 50.0, 38.0, 51.0, 69.0, 46.0, 50.0, 24.0, 60.0, 23.0, 24.0, 94.0, 86.0, 209.0, 87.0, 72.0, 79.0, 115.0, 85.0, 275.0, 110.0, 75.0, 44.0, 27.0, 89.0, 100.0, 50.0, 95.0, 53.0, 53.0, 55.0, 62.0, 61.0, 38.0, 38.0, 38.0, 38.0, 47.0, 58.0, 58.0, 250.0, 92.0, 120.0, 57.0, 270.0, 60.0, 146.0, 160.0, 57.0, 80.0, 179.0, 199.0, 80.0, 44.0, 90.0, 71.0, 115.0, 159.0, 165.0, 76.0, 86.0, 55.0, 171.0, 102.0, 75.0, 32.0, 120.0, 76.0, 37.0, 75.0, 75.0, 75.0, 153.0, 250.0, 219.0, 300.0, 40.0, 28.0, 135.0, 102.0, 85.0, 49.0, 110.0, 102.0, 42.0, 47.0, 165.0, 169.0, 60.0, 120.0, 60.0, 247.0, 130.0, 75.0, 61.0, 50.0, 90.0, 80.0, 80.0, 99.0, 45.0, 120.0, 60.0, 230.0, 295.0, 50.0, 90.0, 175.0, 90.0, 36.0, 150.0, 145.0, 140.0, 150.0, 150.0, 175.0, 100.0, 240.0, 120.0, 160.0, 140.0, 135.0, 83.0, 65.0, 200.0, 150.0, 40.0, 90.0, 42.0, 120.0, 125.0, 97.0, 91.0, 37.0, 102.0, 42.0, 47.0, 165.0, 121.0, 65.0, 83.0, 239.0, 122.0, 46.0, 150.0, 99.0, 21.0, 101.0, 145.0, 24.0, 110.0, 125.0, 34.0, 55.0, 52.0, 65.0, 52.0, 53.0, 61.0, 238.0, 73.0, 95.0, 85.0, 185.0, 160.0, 95.0, 42.0, 88.0, 40.0, 87.0, 90.0, 35.0, 38.0, 36.0, 33.0, 60.0, 145.0, 150.0, 150.0, 142.0, 135.0, 65.0, 79.0, 50.0, 54.0, 52.0, 289.0, 275.0, 64.0, 63.0, 59.0, 41.0, 50.0, 247.0, 299.0, 250.0, 64.0, 27.0, 35.0, 118.0, 40.0, 190.0, 105.0, 150.0, 45.0, 210.0, 285.0, 80.0, 39.0, 39.0, 37.0, 109.0, 126.0, 160.0, 80.0, 130.0, 100.0, 115.0, 88.0, 140.0, 110.0, 168.0, 60.0, 225.0, 160.0, 52.0, 55.0, 55.0, 85.0, 80.0, 114.0, 90.0, 253.0, 51.0, 46.0, 49.0, 78.0, 300.0, 48.0, 49.0, 92.0, 150.0, 42.0, 47.0, 99.0, 51.0, 140.0, 41.0, 49.0, 54.0, 83.0, 56.0, 220.0, 48.0, 44.0, 120.0, 109.0, 48.0, 64.0, 55.0, 65.0, 30.0, 169.0, 40.0, 42.0, 52.0, 50.0, 55.0, 118.0, 52.0, 199.0, 48.0, 47.0, 55.0, 49.0, 46.0, 42.0, 69.0, 47.0, 72.0, 133.0, 88.0, 97.0, 44.0, 200.0, 60.0, 65.0, 84.0, 100.0, 65.0, 175.0, 50.0, 84.0, 44.0, 45.0, 60.0, 95.0, 75.0, 70.0, 114.0, 80.0, 90.0, 125.0, 80.0, 250.0, 245.0, 45.0, 45.0, 35.0, 120.0, 98.0, 50.0, 22.0, 26.0, 27.0, 30.0, 38.0, 145.0, 85.0, 140.0, 110.0, 57.0, 129.0, 250.0, 119.0, 150.0, 170.0, 180.0, 139.0, 64.0, 60.0, 80.0, 179.0, 125.0, 50.0, 65.0, 65.0, 65.0, 90.0, 50.0, 150.0, 165.0, 287.0, 165.0, 209.0, 161.0, 94.0, 60.0, 36.0, 31.0, 49.0, 150.0, 57.0, 300.0, 242.0, 90.0, 231.0, 54.0, 47.0, 90.0, 100.0, 27.0, 33.0, 126.0, 111.0, 65.0, 27.0, 70.0, 135.0, 275.0, 190.0, 90.0, 100.0, 95.0, 53.0, 59.0, 90.0, 160.0, 59.0, 192.0, 65.0, 150.0, 139.0, 175.0, 300.0, 40.0, 50.0, 95.0, 91.0, 60.0, 154.0, 52.0, 149.0, 110.0, 150.0, 110.0, 33.0, 38.0, 286.0, 154.0, 134.0, 39.0, 128.0, 45.0, 140.0, 70.0, 108.0, 125.0, 108.0, 49.0, 100.0, 99.0, 99.0, 175.0, 32.0, 29.0, 69.0, 130.0, 60.0, 65.0, 90.0, 150.0, 55.0, 50.0, 200.0, 45.0, 170.0, 80.0, 50.0, 50.0, 35.0, 30.0, 85.0, 260.0, 89.0, 60.0, 22.0, 24.0, 170.0, 59.0, 89.0, 80.0, 80.0, 60.0, 36.0, 0.0, 45.0, 57.0, 57.0, 52.0, 154.0, 154.0, 258.0, 258.0, 99.0, 140.0, 195.0, 90.0, 230.0, 43.0, 135.0, 156.0, 300.0, 25.0, 25.0, 37.0, 80.0, 100.0, 35.0, 113.0, 200.0, 100.0, 100.0, 70.0, 65.0, 160.0, 52.0, 144.0, 99.0, 48.0, 147.0, 248.0, 80.0, 90.0, 120.0, 100.0, 99.0, 300.0, 125.0, 165.0, 36.0, 85.0, 45.0, 130.0, 200.0, 50.0, 169.0, 50.0, 95.0, 100.0, 50.0, 135.0, 65.0, 90.0, 130.0, 175.0, 150.0, 99.0, 75.0, 140.0, 88.0, 105.0, 61.0, 79.0, 70.0, 280.0, 49.0, 200.0, 26.0, 80.0, 65.0, 49.0, 200.0, 148.0, 130.0, 116.0, 125.0, 37.0, 47.0, 260.0, 70.0, 97.0, 99.0, 50.0, 90.0, 99.0, 85.0, 85.0, 135.0, 130.0, 55.0, 125.0, 170.0, 55.0, 116.0, 55.0, 112.0, 261.0, 99.0, 250.0, 150.0, 275.0, 244.0, 61.0, 168.0, 174.0, 194.0, 246.0, 61.0, 266.0, 50.0, 97.0, 100.0, 300.0, 100.0, 80.0, 125.0, 130.0, 138.0, 116.0, 56.0, 49.0, 128.0, 149.0, 45.0, 35.0, 123.0, 65.0, 35.0, 55.0, 100.0, 175.0, 140.0, 70.0, 75.0, 171.0, 190.0, 82.0, 85.0, 100.0, 125.0, 45.0, 74.0, 92.0, 133.0, 80.0, 171.0, 60.0, 180.0, 230.0, 159.0, 62.0, 68.0, 109.0, 95.0, 90.0, 45.0, 79.0, 29.0, 45.0, 41.0, 125.0, 80.0, 175.0, 80.0, 59.0, 70.0, 50.0, 70.0, 50.0, 155.0, 35.0, 91.0, 40.0, 250.0, 37.0, 100.0, 38.0, 199.0, 50.0, 99.0, 58.0, 23.0, 24.0, 100.0, 37.0, 37.0, 37.0, 46.0, 60.0, 0.0, 28.0, 28.0, 48.0, 48.0, 250.0, 48.0, 58.0, 58.0, 291.0, 275.0, 86.0, 150.0, 150.0, 40.0, 59.0, 250.0, 200.0, 95.0, 160.0, 45.0, 200.0, 175.0, 100.0, 110.0, 35.0, 27.0, 39.0, 79.0, 40.0, 51.0, 65.0, 68.0, 200.0, 157.0, 46.0, 101.0, 250.0, 160.0, 29.0, 65.0, 120.0, 35.0, 93.0, 137.0, 149.0, 97.0, 55.0, 50.0, 275.0, 129.0, 60.0, 41.0, 38.0, 100.0, 185.0, 38.0, 165.0, 55.0, 94.0, 84.0, 70.0, 135.0, 72.0, 288.0, 223.0, 108.0, 133.0, 93.0, 100.0, 65.0, 65.0, 25.0, 84.0, 65.0, 144.0, 128.0, 115.0, 75.0, 75.0, 49.0, 70.0, 74.0, 60.0, 62.0, 53.0, 49.0, 140.0, 180.0, 79.0, 37.0, 75.0, 125.0, 70.0, 140.0, 57.0, 170.0, 32.0, 50.0, 140.0, 139.0, 49.0, 45.0, 68.0, 250.0, 200.0, 75.0, 120.0, 60.0, 97.0, 139.0, 62.0, 105.0, 46.0, 131.0, 95.0, 30.0, 98.0, 47.0, 65.0, 69.0, 86.0, 199.0, 56.0, 199.0, 100.0, 190.0, 40.0, 49.0, 65.0, 108.0, 45.0, 45.0, 128.0, 106.0, 41.0, 149.0, 63.0, 35.0, 200.0, 65.0, 65.0, 65.0, 49.0, 145.0, 131.0, 65.0, 53.0, 49.0, 135.0, 130.0, 35.0, 85.0, 211.0, 160.0, 150.0, 158.0, 32.0, 24.0, 34.0, 110.0, 25.0, 32.0, 46.0, 140.0, 65.0, 117.0, 125.0, 209.0, 27.0, 54.0, 21.0, 165.0, 105.0, 68.0, 118.0, 125.0, 100.0, 95.0, 96.0, 94.0, 98.0, 70.0, 65.0, 40.0, 86.0, 65.0, 230.0, 250.0, 299.0, 190.0, 75.0, 103.0, 113.0, 117.0, 118.0, 96.0, 72.0, 100.0, 40.0, 108.0, 108.0, 128.0, 63.0, 118.0, 65.0, 52.0, 240.0, 27.0, 99.0, 180.0, 90.0, 50.0, 86.0, 100.0, 70.0, 130.0, 90.0, 95.0, 85.0, 110.0, 51.0, 43.0, 44.0, 44.0, 75.0, 39.0, 35.0, 29.0, 80.0, 55.0, 27.0, 87.0, 38.0, 33.0, 108.0, 26.0, 27.0, 39.0, 69.0, 36.0, 34.0, 150.0, 108.0, 42.0, 75.0, 75.0, 101.0, 300.0, 150.0, 90.0, 58.0, 24.0, 21.0, 120.0, 39.0, 38.0, 31.0, 49.0, 111.0, 56.0, 30.0, 250.0, 92.0, 79.0, 95.0, 100.0, 60.0, 54.0, 135.0, 160.0, 89.0, 200.0, 95.0, 50.0, 53.0, 89.0, 27.0, 79.0, 58.0, 95.0, 52.0, 70.0, 150.0, 99.0, 40.0, 105.0, 106.0, 114.0, 46.0, 49.0, 211.0, 64.0, 254.0, 102.0, 251.0, 48.0, 39.0, 71.0, 125.0, 33.0, 150.0, 82.0, 45.0, 299.0, 144.0, 42.0, 47.0, 42.0, 165.0, 63.0, 62.0, 179.0, 57.0, 35.0, 106.0, 170.0, 220.0, 200.0, 60.0, 130.0, 135.0, 120.0, 85.0, 36.0, 50.0, 57.0, 155.0, 55.0, 34.0, 120.0, 69.0, 225.0, 49.0, 49.0, 67.0, 29.0, 70.0, 140.0, 68.0, 250.0, 120.0, 92.0, 90.0, 26.0, 35.0, 160.0, 185.0, 110.0, 80.0, 103.0, 50.0, 50.0, 118.0, 70.0, 120.0, 235.0, 95.0, 105.0, 119.0, 133.0, 150.0, 90.0, 200.0, 284.0, 55.0, 60.0, 215.0, 68.0, 137.0, 79.0, 58.0, 100.0, 125.0, 29.0, 220.0, 190.0, 150.0, 52.0, 61.0, 59.0, 61.0, 68.0, 95.0, 115.0, 290.0, 295.0, 115.0, 95.0, 45.0, 130.0, 27.0, 30.0, 130.0, 109.0, 279.0, 59.0, 73.0, 125.0, 56.0, 106.0, 75.0, 200.0, 33.0, 37.0, 37.0, 43.0, 65.0, 180.0, 117.0, 23.0, 190.0, 80.0, 256.0, 37.0, 45.0, 115.0, 59.0, 49.0, 41.0, 43.0, 190.0, 48.0, 42.0, 43.0, 30.0, 223.0, 37.0, 29.0, 45.0, 38.0, 50.0, 90.0, 140.0, 107.0, 59.0, 68.0, 80.0, 80.0, 80.0, 165.0, 85.0, 79.0, 162.0, 49.0, 205.0, 36.0, 53.0, 136.0, 162.0, 45.0, 85.0, 32.0, 150.0, 208.0, 55.0, 125.0, 110.0, 65.0, 45.0, 67.0, 47.0, 49.0, 231.0, 45.0, 75.0, 48.0, 41.0, 64.0, 90.0, 73.0, 160.0, 47.0, 69.0, 28.0, 58.0, 41.0, 202.0, 61.0, 244.0, 47.0, 105.0, 244.0, 55.0, 47.0, 90.0, 68.0, 77.0, 70.0, 130.0, 10.0, 51.0, 46.0, 50.0, 97.0, 70.0, 47.0, 58.0, 63.0, 48.0, 44.0, 40.0, 55.0, 57.0, 80.0, 63.0, 61.0, 66.0, 53.0, 189.0, 205.0, 200.0, 48.0, 68.0, 300.0, 58.0, 46.0, 52.0, 100.0, 57.0, 71.0, 200.0, 28.0, 53.0, 55.0, 0.0, 150.0, 45.0, 100.0, 74.0, 60.0, 240.0, 50.0, 130.0, 120.0, 33.0, 80.0, 150.0, 80.0, 93.0, 30.0, 48.0, 242.0, 160.0, 190.0, 150.0, 230.0, 46.0, 53.0, 62.0, 50.0, 44.0, 43.0, 54.0, 80.0, 51.0, 43.0, 124.0, 53.0, 44.0, 50.0, 49.0, 42.0, 128.0, 37.0, 40.0, 70.0, 75.0, 72.0, 50.0, 170.0, 87.0, 45.0, 40.0, 56.0, 32.0, 65.0, 199.0, 173.0, 234.0, 128.0, 122.0, 210.0, 163.0, 212.0, 70.0, 185.0, 100.0, 90.0, 80.0, 55.0, 150.0, 122.0, 79.0, 95.0, 125.0, 63.0, 160.0, 207.0, 290.0, 34.0, 100.0, 150.0, 70.0, 90.0, 250.0, 49.0, 150.0, 200.0, 142.0, 48.0, 120.0, 52.0, 42.0, 42.0, 80.0, 69.0, 199.0, 35.0, 159.0, 40.0, 55.0, 79.0, 110.0, 65.0, 86.0, 47.0, 70.0, 167.0, 163.0, 85.0, 157.0, 58.0, 210.0, 154.0, 186.0, 186.0, 163.0, 154.0, 152.0, 30.0, 60.0, 150.0, 115.0, 67.0, 167.0, 39.0, 85.0, 90.0, 219.0, 71.0, 68.0, 145.0, 40.0, 70.0, 127.0, 164.0, 39.0, 48.0, 125.0, 45.0, 84.0, 64.0, 85.0, 67.0, 55.0, 56.0, 129.0, 64.0, 100.0, 67.0, 65.0, 154.0, 93.0, 25.0, 25.0, 82.0, 80.0, 45.0, 166.0, 70.0, 91.0, 104.0, 58.0, 40.0, 43.0, 175.0, 149.0, 100.0, 90.0, 82.0, 80.0, 164.0, 39.0, 149.0, 130.0, 37.0, 105.0, 250.0, 140.0, 86.0, 127.0, 95.0, 98.0, 230.0, 26.0, 21.0, 50.0, 116.0, 110.0, 136.0, 75.0, 55.0, 45.0, 100.0, 215.0, 215.0, 36.0, 109.0, 27.0, 50.0, 164.0, 55.0, 120.0, 165.0, 100.0, 150.0, 60.0, 180.0, 40.0, 120.0, 32.0, 27.0, 150.0, 23.0, 51.0, 35.0, 50.0, 47.0, 75.0, 225.0, 100.0, 97.0, 140.0, 100.0, 130.0, 66.0, 49.0, 158.0, 246.0, 274.0, 118.0, 134.0, 115.0, 120.0, 200.0, 131.0, 126.0, 202.0, 152.0, 34.0, 38.0, 120.0, 125.0, 70.0, 51.0, 35.0, 25.0, 135.0, 70.0, 45.0, 150.0, 145.0, 220.0, 85.0, 40.0, 189.0, 135.0, 150.0, 80.0, 189.0, 103.0, 183.0, 55.0, 49.0, 45.0, 27.0, 116.0, 150.0, 125.0, 261.0, 60.0, 33.0, 173.0, 56.0, 51.0, 32.0, 145.0, 51.0, 51.0, 180.0, 50.0, 180.0, 37.0, 120.0, 58.0, 40.0, 65.0, 115.0, 154.0, 29.0, 120.0, 115.0, 50.0, 100.0, 50.0, 65.0, 50.0, 149.0, 51.0, 41.0, 120.0, 50.0, 95.0, 197.0, 90.0, 50.0, 100.0, 45.0, 75.0, 35.0, 155.0, 31.0, 145.0, 37.0, 37.0, 37.0, 37.0, 37.0, 124.0, 37.0, 36.0, 200.0, 150.0, 90.0, 34.0, 34.0, 161.0, 50.0, 145.0, 117.0, 79.0, 65.0, 80.0, 99.0, 49.0, 100.0, 131.0, 270.0, 60.0, 60.0, 50.0, 91.0, 250.0, 60.0, 169.0, 55.0, 175.0, 39.0, 178.0, 50.0, 106.0, 45.0, 130.0, 50.0, 72.0, 50.0, 50.0, 173.0, 163.0, 189.0, 255.0, 165.0, 200.0, 182.0, 207.0, 69.0, 50.0, 124.0, 94.0, 178.0, 250.0, 152.0, 37.0, 36.0, 28.0, 52.0, 165.0, 26.0, 50.0, 119.0, 104.0, 100.0, 169.0, 95.0, 21.0, 130.0, 98.0, 271.0, 65.0, 49.0, 178.0, 142.0, 0.0, 186.0, 113.0, 53.0, 142.0, 150.0, 176.0, 39.0, 37.0, 47.0, 151.0, 152.0, 86.0, 28.0, 26.0, 70.0, 107.0, 108.0, 120.0, 130.0, 35.0, 85.0, 166.0, 28.0, 27.0, 38.0, 150.0, 150.0, 40.0, 140.0, 61.0, 125.0, 47.0, 76.0, 190.0, 50.0, 180.0, 152.0, 60.0, 131.0, 154.0, 90.0, 115.0, 110.0, 78.0, 95.0, 132.0, 175.0, 60.0, 120.0, 63.0, 100.0, 51.0, 45.0, 69.0, 78.0, 155.0, 42.0, 215.0, 122.0, 122.0, 0.0, 98.0, 122.0, 145.0, 142.0, 135.0, 135.0, 136.0, 115.0, 26.0, 120.0, 30.0, 150.0, 75.0, 29.0, 249.0, 84.0, 90.0, 80.0, 70.0, 100.0, 41.0, 70.0, 120.0, 75.0, 100.0, 27.0, 47.0, 49.0, 131.0, 97.0, 100.0, 114.0, 190.0, 39.0, 65.0, 130.0, 96.0, 90.0, 65.0, 41.0, 44.0, 70.0, 60.0, 100.0, 41.0, 37.0, 74.0, 53.0, 126.0, 55.0, 35.0, 90.0, 113.0, 150.0, 225.0, 125.0, 40.0, 142.0, 140.0, 95.0, 60.0, 100.0, 100.0, 39.0, 39.0, 39.0, 150.0, 115.0, 285.0, 150.0, 199.0, 35.0, 124.0, 90.0, 51.0, 195.0, 39.0, 37.0, 58.0, 240.0, 110.0, 209.0, 95.0, 125.0, 80.0, 261.0, 100.0, 100.0, 80.0, 65.0, 92.0, 125.0, 181.0, 150.0, 55.0, 80.0, 70.0, 109.0, 65.0, 55.0, 115.0, 124.0, 95.0, 80.0, 97.0, 200.0, 103.0, 110.0, 95.0, 139.0, 35.0, 150.0, 120.0, 60.0, 48.0, 29.0, 69.0, 50.0, 60.0, 20.0, 110.0, 128.0, 66.0, 19.0, 27.0, 100.0, 39.0, 39.0, 37.0, 37.0, 26.0, 140.0, 100.0, 89.0, 182.0, 100.0, 120.0, 149.0, 171.0, 200.0, 120.0, 81.0, 130.0, 88.0, 107.0, 50.0, 112.0, 155.0, 200.0, 100.0, 35.0, 120.0, 92.0, 218.0, 0.0, 40.0, 97.0, 90.0, 101.0, 100.0, 176.0, 115.0, 39.0, 90.0, 106.0, 100.0, 85.0, 202.0, 70.0, 120.0, 129.0, 44.0, 96.0, 69.0, 210.0, 72.0, 96.0, 26.0, 71.0, 104.0, 270.0, 29.0, 45.0, 200.0, 96.0, 190.0, 33.0, 55.0, 75.0, 42.0, 38.0, 45.0, 40.0, 96.0, 84.0, 165.0, 85.0, 180.0, 214.0, 152.0, 120.0, 282.0, 45.0, 192.0, 42.0, 70.0, 126.0, 121.0, 150.0, 126.0, 200.0, 130.0, 27.0, 120.0, 121.0, 100.0, 140.0, 100.0, 99.0, 35.0, 220.0, 43.0, 120.0, 38.0, 39.0, 100.0, 53.0, 100.0, 24.0, 99.0, 149.0, 160.0, 125.0, 135.0, 250.0, 100.0, 65.0, 135.0, 65.0, 190.0, 55.0, 120.0, 89.0, 23.0, 80.0, 21.0, 234.0, 0.0, 300.0, 230.0, 113.0, 299.0, 36.0, 37.0, 41.0, 34.0, 70.0, 38.0, 36.0, 189.0, 150.0, 124.0, 95.0, 106.0, 89.0, 35.0, 23.0, 50.0, 32.0, 65.0, 249.0, 165.0, 98.0, 91.0, 150.0, 45.0, 50.0, 75.0, 127.0, 55.0, 87.0, 42.0, 90.0, 120.0, 130.0, 45.0, 150.0, 70.0, 125.0, 70.0, 190.0, 192.0, 160.0, 100.0, 29.0, 43.0, 53.0, 205.0, 99.0, 200.0, 222.0, 40.0, 109.0, 272.0, 32.0, 106.0, 106.0, 33.0, 32.0, 32.0, 118.0, 300.0, 35.0, 180.0, 38.0, 105.0, 60.0, 278.0, 100.0, 45.0, 150.0, 129.0, 98.0, 41.0, 37.0, 40.0, 36.0, 71.0, 125.0, 50.0, 190.0, 170.0, 50.0, 70.0, 120.0, 139.0, 150.0, 300.0, 105.0, 182.0, 165.0, 105.0, 33.0, 120.0, 69.0, 145.0, 32.0, 65.0, 46.0, 149.0, 199.0, 195.0, 35.0, 28.0, 160.0, 21.0, 250.0, 155.0, 43.0, 126.0, 36.0, 27.0, 39.0, 42.0, 39.0, 34.0, 155.0, 38.0, 55.0, 31.0, 36.0, 36.0, 60.0, 115.0, 80.0, 109.0, 89.0, 46.0, 80.0, 135.0, 47.0, 45.0, 45.0, 100.0, 50.0, 28.0, 95.0, 250.0, 70.0, 59.0, 150.0, 70.0, 236.0, 99.0, 100.0, 135.0, 284.0, 100.0, 250.0, 116.0, 140.0, 120.0, 23.0, 155.0, 85.0, 85.0, 85.0, 85.0, 44.0, 85.0, 85.0, 85.0, 80.0, 200.0, 219.0, 79.0, 80.0, 80.0, 80.0, 80.0, 80.0, 37.0, 34.0, 37.0, 40.0, 35.0, 112.0, 33.0, 145.0, 29.0, 99.0, 58.0, 29.0, 98.0, 65.0, 75.0, 90.0, 96.0, 170.0, 18.0, 85.0, 100.0, 75.0, 83.0, 100.0, 43.0, 91.0, 83.0, 40.0, 150.0, 167.0, 50.0, 258.0, 33.0, 46.0, 70.0, 124.0, 32.0, 75.0, 50.0, 119.0, 34.0, 155.0, 199.0, 201.0, 100.0, 149.0, 0.0, 86.0, 136.0, 73.0, 85.0, 85.0, 71.0, 165.0, 57.0, 100.0, 249.0, 72.0, 125.0, 135.0, 135.0, 100.0, 50.0, 109.0, 39.0, 69.0, 100.0, 50.0, 179.0, 100.0, 50.0, 50.0, 28.0, 135.0, 70.0, 179.0, 100.0, 52.0, 165.0, 187.0, 125.0, 115.0, 185.0, 70.0, 180.0, 110.0, 47.0, 136.0, 24.0, 98.0, 219.0, 295.0, 70.0, 75.0, 73.0, 93.0, 85.0, 26.0, 170.0, 145.0, 119.0, 84.0, 191.0, 195.0, 158.0, 52.0, 46.0, 49.0, 75.0, 36.0, 109.0, 32.0, 150.0, 99.0, 32.0, 69.0, 33.0, 50.0, 100.0, 118.0, 62.0, 32.0, 120.0, 74.0, 214.0, 115.0, 107.0, 118.0, 65.0, 107.0, 118.0, 118.0, 0.0, 118.0, 107.0, 118.0, 65.0, 25.0, 55.0, 79.0, 78.0, 92.0, 300.0, 179.0, 200.0, 197.0, 107.0, 120.0, 150.0, 48.0, 151.0, 69.0, 99.0, 92.0, 48.0, 59.0, 71.0, 48.0, 129.0, 150.0, 76.0, 44.0, 169.0, 70.0, 88.0, 163.0, 70.0, 35.0, 75.0, 150.0, 95.0, 60.0, 150.0, 65.0, 51.0, 70.0, 46.0, 50.0, 135.0, 49.0, 36.0, 135.0, 50.0, 50.0, 51.0, 109.0, 113.0, 125.0, 115.0, 133.0, 70.0, 80.0, 218.0, 111.0, 113.0, 125.0, 35.0, 75.0, 65.0, 113.0, 200.0, 55.0, 99.0, 85.0, 95.0, 115.0, 225.0, 34.0, 30.0, 36.0, 36.0, 42.0, 42.0, 42.0, 65.0, 75.0, 254.0, 70.0, 39.0, 232.0, 150.0, 74.0, 138.0, 115.0, 295.0, 257.0, 38.0, 36.0, 179.0, 44.0, 33.0, 156.0, 91.0, 109.0, 89.0, 85.0, 98.0, 86.0, 39.0, 107.0, 63.0, 121.0, 70.0, 113.0, 113.0, 25.0, 115.0, 60.0, 135.0, 38.0, 76.0, 121.0, 275.0, 118.0, 130.0, 150.0, 106.0, 257.0, 106.0, 109.0, 50.0, 106.0, 109.0, 108.0, 109.0, 91.0, 150.0, 300.0, 100.0, 150.0, 75.0, 130.0, 93.0, 250.0, 99.0, 78.0, 118.0, 48.0, 45.0, 99.0, 130.0, 50.0, 50.0, 50.0, 50.0, 127.0, 39.0, 41.0, 39.0, 41.0, 41.0, 120.0, 35.0, 115.0, 75.0, 48.0, 85.0, 47.0, 43.0, 60.0, 187.0, 45.0, 40.0, 45.0, 43.0, 44.0, 80.0, 42.0, 43.0, 180.0, 206.0, 105.0, 40.0, 80.0, 119.0, 100.0, 140.0, 65.0, 45.0, 80.0, 100.0, 37.0, 291.0, 198.0, 60.0, 129.0, 191.0, 179.0, 107.0, 200.0, 200.0, 107.0, 75.0, 80.0, 100.0, 35.0, 170.0, 75.0, 70.0, 80.0, 107.0, 60.0, 49.0, 157.0, 75.0, 100.0, 139.0, 107.0, 39.0, 32.0, 75.0, 30.0, 80.0, 60.0, 113.0, 124.0, 60.0, 67.0, 64.0, 63.0, 165.0, 169.0, 200.0, 62.0, 55.0, 208.0, 65.0, 107.0, 107.0, 280.0, 51.0, 51.0, 50.0, 239.0, 90.0, 165.0, 32.0, 44.0, 80.0, 140.0, 80.0, 81.0, 50.0, 51.0, 50.0, 28.0, 60.0, 55.0, 80.0, 60.0, 118.0, 107.0, 80.0, 125.0, 113.0, 106.0, 113.0, 109.0, 113.0, 106.0, 108.0, 170.0, 45.0, 75.0, 120.0, 150.0, 180.0, 102.0, 257.0, 99.0, 52.0, 150.0, 55.0, 249.0, 275.0, 140.0, 152.0, 106.0, 209.0, 111.0, 50.0, 165.0, 119.0, 121.0, 175.0, 124.0, 40.0, 38.0, 39.0, 140.0, 41.0, 91.0, 40.0, 120.0, 118.0, 65.0, 125.0, 214.0, 175.0, 159.0, 113.0, 125.0, 190.0, 119.0, 29.0, 113.0, 106.0, 123.0, 98.0, 26.0, 120.0, 35.0, 91.0, 113.0, 113.0, 50.0, 149.0, 82.0, 75.0, 229.0, 129.0, 55.0, 70.0, 219.0, 129.0, 120.0, 53.0, 162.0, 200.0, 70.0, 122.0, 55.0, 70.0, 70.0, 250.0, 46.0, 75.0, 139.0, 69.0, 35.0, 150.0, 80.0, 29.0, 50.0, 55.0, 50.0, 80.0, 290.0, 35.0, 32.0, 90.0, 160.0, 100.0, 95.0, 80.0, 125.0, 125.0, 125.0, 96.0, 108.0, 100.0, 56.0, 44.0, 120.0, 138.0, 55.0, 67.0, 177.0, 112.0, 45.0, 65.0, 280.0, 170.0, 70.0, 180.0, 80.0, 192.0, 101.0, 100.0, 89.0, 130.0, 125.0, 206.0, 275.0, 90.0, 48.0, 125.0, 85.0, 107.0, 35.0, 71.0, 160.0, 87.0, 64.0, 249.0, 280.0, 203.0, 203.0, 120.0, 52.0, 45.0, 79.0, 68.0, 85.0, 40.0, 163.0, 39.0, 131.0, 38.0, 70.0, 125.0, 120.0, 125.0, 90.0, 100.0, 125.0, 299.0, 122.0, 248.0, 50.0, 120.0, 150.0, 249.0, 75.0, 45.0, 249.0, 249.0, 230.0, 191.0, 145.0, 100.0, 199.0, 101.0, 69.0, 230.0, 110.0, 99.0, 203.0, 100.0, 45.0, 41.0, 41.0, 41.0, 36.0, 37.0, 121.0, 55.0, 92.0, 99.0, 199.0, 145.0, 28.0, 0.0, 32.0, 99.0, 99.0, 69.0, 279.0, 45.0, 300.0, 155.0, 125.0, 55.0, 65.0, 279.0, 190.0, 50.0, 279.0, 279.0, 68.0, 120.0, 95.0, 31.0, 150.0, 48.0, 100.0, 100.0, 48.0, 48.0, 47.0, 48.0, 250.0, 249.0, 150.0, 200.0, 109.0, 55.0, 65.0, 159.0, 300.0, 206.0, 115.0, 106.0, 90.0, 90.0, 158.0, 125.0, 108.0, 145.0, 110.0, 167.0, 167.0, 117.0, 60.0, 35.0, 173.0, 75.0, 199.0, 90.0, 182.0, 75.0, 150.0, 199.0, 40.0, 85.0, 150.0, 116.0, 20.0, 60.0, 70.0, 50.0, 40.0, 90.0, 58.0, 125.0, 51.0, 51.0, 50.0, 49.0, 300.0, 51.0, 136.0, 90.0, 144.0, 94.0, 85.0, 110.0, 45.0, 55.0, 65.0, 200.0, 233.0, 65.0, 150.0, 129.0, 85.0, 52.0, 32.0, 45.0, 45.0, 110.0, 49.0, 195.0, 135.0, 80.0, 80.0, 80.0, 150.0, 90.0, 145.0, 90.0, 80.0, 80.0, 80.0, 60.0, 80.0, 80.0, 200.0, 47.0, 101.0, 52.0, 72.0, 41.0, 30.0, 135.0, 29.0, 170.0, 26.0, 119.0, 199.0, 300.0, 90.0, 168.0, 180.0, 180.0, 55.0, 170.0, 85.0, 68.0, 90.0, 35.0, 158.0, 85.0, 46.0, 124.0, 38.0, 38.0, 275.0, 34.0, 33.0, 37.0, 34.0, 34.0, 275.0, 85.0, 170.0, 270.0, 121.0, 115.0, 69.0, 70.0, 204.0, 123.0, 186.0, 125.0, 123.0, 122.0, 80.0, 75.0, 85.0, 149.0, 295.0, 249.0, 150.0, 84.0, 28.0, 55.0, 60.0, 38.0, 100.0, 48.0, 119.0, 225.0, 76.0, 47.0, 47.0, 85.0, 100.0, 138.0, 25.0, 89.0, 110.0, 194.0, 105.0, 50.0, 74.0, 145.0, 94.0, 175.0, 32.0, 104.0, 31.0, 159.0, 100.0, 45.0, 123.0, 158.0, 99.0, 55.0, 65.0, 74.0, 100.0, 40.0, 45.0, 95.0, 80.0, 150.0, 68.0, 247.0, 60.0, 38.0, 206.0, 199.0, 150.0, 99.0, 50.0, 180.0, 134.0, 120.0, 65.0, 59.0, 65.0, 125.0, 99.0, 50.0, 60.0, 115.0, 89.0, 55.0, 109.0, 85.0, 162.0, 78.0, 25.0, 27.0, 50.0, 101.0, 183.0, 45.0, 50.0, 50.0, 30.0, 94.0, 150.0, 89.0, 60.0, 40.0, 179.0, 225.0, 150.0, 100.0, 69.0, 69.0, 150.0, 143.0, 157.0, 233.0, 80.0, 175.0, 150.0, 199.0, 220.0, 85.0, 200.0, 40.0, 50.0, 199.0, 50.0, 120.0, 70.0, 145.0, 200.0, 146.0, 105.0, 85.0, 65.0, 70.0, 150.0, 60.0, 130.0, 190.0, 109.0, 60.0, 39.0, 51.0, 120.0, 110.0, 178.0, 79.0, 151.0, 54.0, 224.0, 99.0, 136.0, 165.0, 209.0, 121.0, 55.0, 165.0, 33.0, 125.0, 122.0, 85.0, 19.0, 19.0, 120.0, 33.0, 199.0, 73.0, 39.0, 126.0, 40.0, 199.0, 104.0, 104.0, 104.0, 206.0, 123.0, 125.0, 155.0, 120.0, 265.0, 86.0, 45.0, 111.0, 49.0, 160.0, 135.0, 35.0, 60.0, 155.0, 33.0, 77.0, 115.0, 175.0, 81.0, 300.0, 199.0, 92.0, 169.0, 50.0, 100.0, 40.0, 115.0, 175.0, 120.0, 80.0, 78.0, 95.0, 100.0, 51.0, 100.0, 199.0, 199.0, 72.0, 28.0, 55.0, 55.0, 46.0, 46.0, 46.0, 199.0, 38.0, 38.0, 55.0, 60.0, 199.0, 69.0, 49.0, 91.0, 120.0, 273.0, 275.0, 85.0, 142.0, 150.0, 120.0, 38.0, 98.0, 39.0, 38.0, 135.0, 41.0, 114.0, 182.0, 38.0, 41.0, 113.0, 59.0, 185.0, 184.0, 226.0, 184.0, 197.0, 120.0, 35.0, 49.0, 55.0, 40.0, 25.0, 60.0, 36.0, 60.0, 41.0, 41.0, 52.0, 182.0, 182.0, 84.0, 150.0, 50.0, 100.0, 90.0, 40.0, 50.0, 69.0, 275.0, 90.0, 90.0, 100.0, 60.0, 110.0, 231.0, 44.0, 42.0, 40.0, 50.0, 100.0, 36.0, 129.0, 37.0, 37.0, 99.0, 110.0, 95.0, 68.0, 114.0, 130.0, 69.0, 70.0, 125.0, 78.0, 300.0, 152.0, 28.0, 85.0, 97.0, 75.0, 100.0, 40.0, 75.0, 28.0, 100.0, 120.0, 105.0, 45.0, 47.0, 208.0, 135.0, 109.0, 135.0, 175.0, 189.0, 150.0, 105.0, 207.0, 38.0, 65.0, 154.0, 75.0, 46.0, 68.0, 149.0, 57.0, 200.0, 71.0, 55.0, 125.0, 119.0, 146.0, 90.0, 105.0, 70.0, 120.0, 40.0, 120.0, 77.0, 63.0, 199.0, 55.0, 65.0, 66.0, 50.0, 65.0, 65.0, 155.0, 76.0, 110.0, 33.0, 110.0, 120.0, 95.0, 213.0, 73.0, 106.0, 111.0, 113.0, 110.0, 111.0, 107.0, 175.0, 75.0, 59.0, 58.0, 150.0, 173.0, 200.0, 244.0, 40.0, 55.0, 66.0, 139.0, 139.0, 89.0, 87.0, 99.0, 100.0, 99.0, 100.0, 99.0, 80.0, 50.0, 39.0, 101.0, 70.0, 125.0, 109.0, 279.0, 115.0, 119.0, 125.0, 135.0, 126.0, 43.0, 94.0, 37.0, 115.0, 99.0, 105.0, 109.0, 85.0, 105.0, 249.0, 249.0, 249.0, 249.0, 171.0, 35.0, 136.0, 90.0, 122.0, 206.0, 70.0, 106.0, 60.0, 31.0, 60.0, 41.0, 70.0, 109.0, 200.0, 27.0, 180.0, 101.0, 122.0, 216.0, 33.0, 109.0, 95.0, 60.0, 125.0, 110.0, 45.0, 181.0, 53.0, 225.0, 180.0, 249.0, 140.0, 115.0, 199.0, 85.0, 115.0, 182.0, 73.0, 55.0, 105.0, 45.0, 150.0, 143.0, 175.0, 30.0, 40.0, 96.0, 175.0, 199.0, 109.0, 129.0, 38.0, 100.0, 60.0, 185.0, 57.0, 52.0, 51.0, 47.0, 38.0, 51.0, 97.0, 50.0, 95.0, 50.0, 51.0, 140.0, 126.0, 59.0, 75.0, 99.0, 131.0, 46.0, 40.0, 145.0, 300.0, 231.0, 235.0, 135.0, 135.0, 135.0, 150.0, 130.0, 145.0, 157.0, 71.0, 130.0, 135.0, 140.0, 140.0, 110.0, 135.0, 84.0, 135.0, 72.0, 130.0, 170.0, 170.0, 115.0, 224.0, 230.0, 58.0, 65.0, 135.0, 135.0, 140.0, 176.0, 160.0, 145.0, 140.0, 100.0, 155.0, 145.0, 77.0, 30.0, 77.0, 26.0, 75.0, 56.0, 80.0, 38.0, 123.0, 145.0, 209.0, 16.0, 300.0, 45.0, 38.0, 29.0, 154.0, 33.0, 32.0, 32.0, 135.0, 31.0, 80.0, 33.0, 42.0, 41.0, 41.0, 80.0, 34.0, 36.0, 34.0, 120.0, 87.0, 94.0, 134.0, 79.0, 95.0, 38.0, 34.0, 38.0, 47.0, 34.0, 99.0, 38.0, 99.0, 39.0, 56.0, 50.0, 180.0, 40.0, 45.0, 49.0, 38.0, 150.0, 60.0, 108.0, 101.0, 50.0, 294.0, 120.0, 125.0, 120.0, 135.0, 130.0, 134.0, 36.0, 40.0, 45.0, 36.0, 52.0, 45.0, 29.0, 215.0, 76.0, 39.0, 40.0, 95.0, 115.0, 125.0, 28.0, 120.0, 150.0, 125.0, 48.0, 85.0, 45.0, 30.0, 176.0, 70.0, 79.0, 77.0, 40.0, 77.0, 83.0, 192.0, 77.0, 33.0, 65.0, 75.0, 103.0, 70.0, 97.0, 92.0, 78.0, 110.0, 150.0, 175.0, 180.0, 170.0, 195.0, 120.0, 125.0, 170.0, 170.0, 38.0, 140.0, 140.0, 135.0, 120.0, 175.0, 180.0, 55.0, 85.0, 100.0, 200.0, 140.0, 50.0, 101.0, 125.0, 110.0, 70.0, 60.0, 22.0, 161.0, 235.0, 120.0, 57.0, 40.0, 89.0, 28.0, 185.0, 150.0, 56.0, 110.0, 55.0, 50.0, 40.0, 50.0, 49.0, 68.0, 150.0, 48.0, 90.0, 43.0, 135.0, 95.0, 100.0, 85.0, 130.0, 150.0, 150.0, 90.0, 82.0, 80.0, 241.0, 100.0, 100.0, 149.0, 110.0, 120.0, 45.0, 120.0, 113.0, 121.0, 35.0, 121.0, 90.0, 31.0, 108.0, 200.0, 135.0, 79.0, 55.0, 31.0, 180.0, 40.0, 49.0, 103.0, 228.0, 42.0, 95.0, 104.0, 200.0, 107.0, 100.0, 130.0, 208.0, 70.0, 83.0, 104.0, 250.0, 66.0, 64.0, 70.0, 40.0, 103.0, 112.0, 199.0, 31.0, 150.0, 29.0, 31.0, 32.0, 55.0, 73.0, 55.0, 81.0, 95.0, 128.0, 125.0, 110.0, 153.0, 113.0, 99.0, 104.0, 160.0, 92.0, 113.0, 70.0, 70.0, 70.0, 239.0, 99.0, 45.0, 50.0, 35.0, 40.0, 55.0, 218.0, 35.0, 110.0, 36.0, 200.0, 26.0, 94.0, 66.0, 239.0, 41.0, 85.0, 80.0, 159.0, 94.0, 50.0, 80.0, 111.0, 38.0, 70.0, 45.0, 199.0, 120.0, 175.0, 114.0, 47.0, 75.0, 159.0, 95.0, 32.0, 35.0, 104.0, 130.0, 180.0, 104.0, 83.0, 105.0, 80.0, 95.0, 55.0, 31.0, 30.0, 115.0, 45.0, 110.0, 35.0, 135.0, 85.0, 70.0, 50.0, 100.0, 79.0, 64.0, 50.0, 42.0, 68.0, 90.0, 88.0, 114.0, 249.0, 210.0, 199.0, 213.0, 190.0, 280.0, 75.0, 41.0, 42.0, 140.0, 41.0, 99.0, 40.0, 50.0, 200.0, 52.0, 88.0, 29.0, 80.0, 83.0, 125.0, 75.0, 95.0, 58.0, 100.0, 150.0, 110.0, 51.0, 100.0, 51.0, 197.0, 50.0, 126.0, 39.0, 130.0, 174.0, 37.0, 38.0, 37.0, 36.0, 110.0, 43.0, 100.0, 45.0, 43.0, 90.0, 26.0, 100.0, 106.0, 113.0, 110.0, 110.0, 106.0, 111.0, 111.0, 111.0, 106.0, 29.0, 160.0, 31.0, 90.0, 32.0, 95.0, 30.0, 50.0, 50.0, 50.0, 51.0, 29.0, 199.0, 99.0, 29.0, 35.0, 189.0, 25.0, 40.0, 65.0, 40.0, 134.0, 50.0, 83.0, 199.0, 130.0, 88.0, 124.0, 201.0, 130.0, 100.0, 45.0, 55.0, 87.0, 90.0, 90.0, 110.0, 100.0, 70.0, 20.0, 130.0, 173.0, 80.0, 50.0, 89.0, 159.0, 59.0, 35.0, 84.0, 65.0, 124.0, 90.0, 25.0, 70.0, 36.0, 33.0, 150.0, 70.0, 18.0, 150.0, 47.0, 104.0, 104.0, 120.0, 48.0, 45.0, 55.0, 104.0, 104.0, 55.0, 55.0, 104.0, 50.0, 104.0, 125.0, 56.0, 140.0, 174.0, 59.0, 225.0, 79.0, 104.0, 110.0, 104.0, 104.0, 104.0, 104.0, 104.0, 104.0, 203.0, 134.0, 45.0, 40.0, 60.0, 35.0, 249.0, 299.0, 50.0, 34.0, 23.0, 24.0, 290.0, 21.0, 168.0, 65.0, 150.0, 135.0, 130.0, 26.0, 249.0, 50.0, 80.0, 194.0, 141.0, 165.0, 164.0, 165.0, 33.0, 33.0, 23.0, 34.0, 50.0, 55.0, 32.0, 160.0, 85.0, 60.0, 100.0, 200.0, 65.0, 26.0, 23.0, 94.0, 27.0, 60.0, 60.0, 199.0, 32.0, 80.0, 160.0, 50.0, 299.0, 185.0, 130.0, 51.0, 35.0, 50.0, 119.0, 135.0, 155.0, 140.0, 150.0, 250.0, 45.0, 80.0, 53.0, 85.0, 80.0, 130.0, 100.0, 55.0, 99.0, 52.0, 27.0, 29.0, 27.0, 34.0, 140.0, 160.0, 60.0, 120.0, 83.0, 105.0, 90.0, 80.0, 35.0, 99.0, 158.0, 129.0, 199.0, 156.0, 70.0, 60.0, 104.0, 26.0, 100.0, 160.0, 110.0, 49.0, 149.0, 54.0, 225.0, 120.0, 249.0, 175.0, 199.0, 51.0, 56.0, 200.0, 275.0, 108.0, 295.0, 80.0, 80.0, 90.0, 37.0, 36.0, 34.0, 41.0, 43.0, 43.0, 86.0, 132.0, 122.0, 50.0, 126.0, 60.0, 150.0, 95.0, 95.0, 95.0, 33.0, 135.0, 30.0, 95.0, 135.0, 37.0, 34.0, 38.0, 96.0, 165.0, 10.0, 127.0, 22.0, 99.0, 80.0, 90.0, 26.0, 120.0, 92.0, 250.0, 61.0, 33.0, 79.0, 65.0, 41.0, 49.0, 289.0, 41.0, 55.0, 27.0, 24.0, 70.0, 69.0, 56.0, 33.0, 117.0, 56.0, 146.0, 40.0, 41.0, 41.0, 48.0, 65.0, 48.0, 247.0, 40.0, 55.0, 125.0, 99.0, 120.0, 82.0, 42.0, 250.0, 39.0, 40.0, 105.0, 156.0, 190.0, 32.0, 69.0, 45.0, 80.0, 225.0, 110.0, 60.0, 80.0, 70.0, 254.0, 154.0, 33.0, 120.0, 69.0, 50.0, 185.0, 110.0, 31.0, 250.0, 73.0, 26.0, 21.0, 147.0, 130.0, 79.0, 76.0, 86.0, 60.0, 52.0, 168.0, 139.0, 148.0, 118.0, 269.0, 249.0, 215.0, 120.0, 50.0, 45.0, 105.0, 40.0, 135.0, 68.0, 30.0, 90.0, 85.0, 114.0, 50.0, 63.0, 210.0, 34.0, 64.0, 120.0, 57.0, 55.0, 70.0, 28.0, 103.0, 37.0, 37.0, 36.0, 80.0, 39.0, 70.0, 90.0, 85.0, 30.0, 110.0, 45.0, 70.0, 66.0, 50.0, 119.0, 40.0, 125.0, 279.0, 97.0, 96.0, 45.0, 73.0, 85.0, 108.0, 90.0, 200.0, 110.0, 149.0, 220.0, 64.0, 63.0, 70.0, 77.0, 110.0, 75.0, 250.0, 100.0, 125.0, 100.0, 40.0, 55.0, 77.0, 48.0, 65.0, 42.0, 153.0, 106.0, 60.0, 218.0, 199.0, 125.0, 90.0, 45.0, 73.0, 37.0, 37.0, 41.0, 154.0, 76.0, 150.0, 100.0, 72.0, 64.0, 64.0, 80.0, 80.0, 76.0, 102.0, 87.0, 80.0, 76.0, 93.0, 156.0, 33.0, 85.0, 144.0, 85.0, 268.0, 26.0, 238.0, 90.0, 106.0, 45.0, 33.0, 35.0, 200.0, 122.0, 236.0, 250.0, 22.0, 70.0, 47.0, 180.0, 80.0, 119.0, 250.0, 50.0, 32.0, 31.0, 37.0, 36.0, 104.0, 129.0, 35.0, 0.0, 80.0, 79.0, 81.0, 145.0, 37.0, 98.0, 299.0, 140.0, 60.0, 199.0, 204.0, 237.0, 43.0, 150.0, 27.0, 160.0, 60.0, 117.0, 87.0, 78.0, 72.0, 45.0, 84.0, 130.0, 81.0, 186.0, 72.0, 300.0, 81.0, 173.0, 25.0, 85.0, 203.0, 50.0, 275.0, 30.0, 29.0, 36.0, 75.0, 75.0, 297.0, 286.0, 32.0, 133.0, 45.0, 87.0, 71.0, 90.0, 25.0, 109.0, 99.0, 72.0, 69.0, 108.0, 130.0, 83.0, 36.0, 53.0, 106.0, 38.0, 36.0, 99.0, 51.0, 40.0, 40.0, 146.0, 55.0, 155.0, 37.0, 235.0, 90.0, 36.0, 37.0, 36.0, 47.0, 45.0, 173.0, 145.0, 41.0, 41.0, 89.0, 131.0, 219.0, 46.0, 40.0, 54.0, 130.0, 200.0, 202.0, 120.0, 230.0, 25.0, 101.0, 101.0, 210.0, 60.0, 300.0, 32.0, 26.0, 27.0, 69.0, 70.0, 73.0, 81.0, 81.0, 69.0, 38.0, 199.0, 241.0, 208.0, 37.0, 38.0, 83.0, 26.0, 45.0, 300.0, 120.0, 75.0, 55.0, 140.0, 47.0, 40.0, 40.0, 33.0, 93.0, 300.0, 120.0, 26.0, 203.0, 56.0, 98.0, 180.0, 154.0, 30.0, 109.0, 118.0, 80.0, 60.0, 41.0, 46.0, 29.0, 60.0, 105.0, 92.0, 164.0, 288.0, 150.0, 135.0, 49.0, 40.0, 150.0, 164.0, 90.0, 150.0, 92.0, 272.0, 55.0, 150.0, 58.0, 50.0, 99.0, 73.0, 170.0, 94.0, 80.0, 79.0, 176.0, 35.0, 150.0, 105.0, 105.0, 27.0, 95.0, 46.0, 150.0, 199.0, 70.0, 31.0, 69.0, 136.0, 135.0, 42.0, 95.0, 24.0, 28.0, 81.0, 23.0, 120.0, 89.0, 40.0, 140.0, 80.0, 79.0, 29.0, 34.0, 196.0, 63.0, 38.0, 39.0, 135.0, 143.0, 126.0, 100.0, 108.0, 100.0, 125.0, 69.0, 30.0, 51.0, 49.0, 50.0, 51.0, 51.0, 38.0, 90.0, 58.0, 261.0, 81.0, 110.0, 90.0, 55.0, 98.0, 52.0, 100.0, 300.0, 145.0, 35.0, 34.0, 44.0, 49.0, 73.0, 90.0, 161.0, 181.0, 60.0, 125.0, 50.0, 140.0, 87.0, 56.0, 58.0, 60.0, 35.0, 68.0, 123.0, 123.0, 122.0, 122.0, 125.0, 33.0, 234.0, 50.0, 250.0, 135.0, 175.0, 125.0, 49.0, 50.0, 125.0, 123.0, 122.0, 125.0, 123.0, 125.0, 123.0, 38.0, 116.0, 125.0, 125.0, 150.0, 110.0, 49.0, 111.0, 140.0, 26.0, 32.0, 150.0, 44.0, 150.0, 90.0, 29.0, 175.0, 95.0, 42.0, 85.0, 43.0, 120.0, 139.0, 48.0, 176.0, 230.0, 36.0, 33.0, 34.0, 33.0, 34.0, 30.0, 35.0, 35.0, 30.0, 105.0, 59.0, 69.0, 52.0, 73.0, 209.0, 114.0, 70.0, 37.0, 99.0, 67.0, 80.0, 61.0, 199.0, 117.0, 190.0, 58.0, 44.0, 44.0, 250.0, 75.0, 100.0, 90.0, 145.0, 47.0, 225.0, 47.0, 99.0, 138.0, 36.0, 85.0, 39.0, 39.0, 69.0, 40.0, 300.0, 25.0, 140.0, 279.0, 38.0, 19.0, 95.0, 100.0, 60.0, 95.0, 56.0, 80.0, 68.0, 95.0, 56.0, 150.0, 135.0, 215.0, 271.0, 195.0, 202.0, 70.0, 135.0, 141.0, 43.0, 23.0, 43.0, 48.0, 29.0, 30.0, 37.0, 34.0, 105.0, 25.0, 32.0, 24.0, 150.0, 87.0, 169.0, 152.0, 139.0, 212.0, 154.0, 40.0, 53.0, 29.0, 120.0, 120.0, 56.0, 59.0, 278.0, 54.0, 64.0, 61.0, 76.0, 0.0, 200.0, 150.0, 220.0, 39.0, 125.0, 189.0, 155.0, 85.0, 45.0, 44.0, 48.0, 129.0, 91.0, 68.0, 150.0, 35.0, 75.0, 165.0, 65.0, 125.0, 125.0, 109.0, 169.0, 189.0, 50.0, 109.0, 160.0, 55.0, 234.0, 300.0, 23.0, 29.0, 27.0, 100.0, 40.0, 55.0, 181.0, 30.0, 80.0, 199.0, 119.0, 65.0, 57.0, 64.0, 100.0, 125.0, 199.0, 165.0, 175.0, 90.0, 125.0, 165.0, 250.0, 100.0, 112.0, 25.0, 27.0, 100.0, 38.0, 28.0, 26.0, 24.0, 23.0, 26.0, 75.0, 75.0, 27.0, 28.0, 34.0, 36.0, 30.0, 135.0, 35.0, 71.0, 25.0, 25.0, 52.0, 26.0, 28.0, 28.0, 80.0, 42.0, 64.0, 95.0, 100.0, 95.0, 76.0, 90.0, 78.0, 100.0, 250.0, 66.0, 58.0, 59.0, 135.0, 61.0, 180.0, 80.0, 91.0, 55.0, 81.0, 93.0, 216.0, 123.0, 125.0, 208.0, 43.0, 66.0, 49.0, 46.0, 31.0, 31.0, 80.0, 28.0, 120.0, 260.0, 80.0, 95.0, 195.0, 65.0, 90.0, 128.0, 24.0, 21.0, 100.0, 29.0, 26.0, 36.0, 75.0, 76.0, 82.0, 46.0, 167.0, 65.0, 95.0, 213.0, 90.0, 40.0, 50.0, 79.0, 110.0, 174.0, 36.0, 120.0, 160.0, 121.0, 28.0, 159.0, 120.0, 120.0, 85.0, 100.0, 275.0, 260.0, 60.0, 90.0, 90.0, 26.0, 51.0, 49.0, 65.0, 50.0, 200.0, 39.0, 40.0, 40.0, 259.0, 260.0, 24.0, 31.0, 180.0, 37.0, 150.0, 38.0, 37.0, 23.0, 24.0, 40.0, 130.0, 81.0, 35.0, 60.0, 55.0, 237.0, 99.0, 212.0, 207.0, 236.0, 185.0, 136.0, 59.0, 60.0, 89.0, 150.0, 160.0, 170.0, 30.0, 32.0, 50.0, 51.0, 54.0, 50.0, 59.0, 154.0, 51.0, 150.0, 75.0, 107.0, 200.0, 70.0, 209.0, 234.0, 202.0, 207.0, 75.0, 66.0, 55.0, 50.0, 57.0, 65.0, 51.0, 75.0, 125.0, 51.0, 200.0, 50.0, 32.0, 50.0, 35.0, 51.0, 104.0, 49.0, 50.0, 51.0, 66.0, 104.0, 50.0, 140.0, 100.0, 52.0, 50.0, 50.0, 51.0, 36.0, 68.0, 46.0, 73.0, 37.0, 36.0, 38.0, 46.0, 110.0, 80.0, 105.0, 32.0, 36.0, 100.0, 275.0, 85.0, 160.0, 125.0, 34.0, 32.0, 35.0, 45.0, 39.0, 36.0, 37.0, 40.0, 115.0, 95.0, 175.0, 199.0, 200.0, 60.0, 80.0, 125.0, 60.0, 100.0, 80.0, 70.0, 109.0, 211.0, 200.0, 80.0, 150.0, 96.0, 96.0, 104.0, 96.0, 97.0, 96.0, 96.0, 140.0, 96.0, 96.0, 96.0, 96.0, 96.0, 96.0, 97.0, 96.0, 71.0, 97.0, 104.0, 73.0, 199.0, 115.0, 75.0, 40.0, 100.0, 38.0, 100.0, 75.0, 210.0, 215.0, 277.0, 65.0, 24.0, 120.0, 44.0, 47.0, 114.0, 71.0, 93.0, 104.0, 226.0, 136.0, 133.0, 165.0, 165.0, 263.0, 110.0, 110.0, 57.0, 39.0, 40.0, 259.0, 57.0, 120.0, 110.0, 130.0, 110.0, 176.0, 110.0, 202.0, 110.0, 110.0, 110.0, 110.0, 110.0, 110.0, 45.0, 100.0, 85.0, 75.0, 75.0, 26.0, 24.0, 217.0, 119.0, 64.0, 195.0, 200.0, 141.0, 260.0, 124.0, 122.0, 159.0, 122.0, 122.0, 133.0, 125.0, 90.0, 119.0, 250.0, 119.0, 180.0, 160.0, 121.0, 125.0, 125.0, 97.0, 125.0, 34.0, 85.0, 120.0, 70.0, 149.0, 88.0, 72.0, 39.0, 75.0, 45.0, 45.0, 45.0, 32.0, 43.0, 42.0, 229.0, 59.0, 146.0, 36.0, 42.0, 68.0, 32.0, 22.0, 100.0, 52.0, 44.0, 63.0, 145.0, 300.0, 64.0, 40.0, 80.0, 225.0, 209.0, 120.0, 28.0, 160.0, 80.0, 69.0, 95.0, 117.0, 45.0, 35.0, 40.0, 63.0, 45.0, 48.0, 90.0, 127.0, 130.0, 221.0, 49.0, 52.0, 112.0, 80.0, 233.0, 75.0, 30.0, 95.0, 110.0, 85.0, 85.0, 56.0, 50.0, 120.0, 213.0, 100.0, 40.0, 104.0, 184.0, 141.0, 103.0, 138.0, 60.0, 126.0, 39.0, 102.0, 160.0, 96.0, 80.0, 49.0, 136.0, 133.0, 133.0, 133.0, 23.0, 21.0, 24.0, 23.0, 66.0, 64.0, 90.0, 82.0, 275.0, 136.0, 136.0, 203.0, 210.0, 185.0, 40.0, 43.0, 35.0, 46.0, 63.0, 120.0, 136.0, 234.0, 262.0, 259.0, 95.0, 120.0, 48.0, 48.0, 48.0, 48.0, 232.0, 48.0, 96.0, 81.0, 75.0, 66.0, 35.0, 90.0, 79.0, 275.0, 95.0, 49.0, 64.0, 250.0, 225.0, 55.0, 46.0, 89.0, 49.0, 80.0, 27.0, 43.0, 43.0, 108.0, 99.0, 200.0, 45.0, 104.0, 88.0, 88.0, 50.0, 93.0, 85.0, 118.0, 62.0, 30.0, 109.0, 90.0, 100.0, 55.0, 54.0, 60.0, 160.0, 207.0, 60.0, 78.0, 67.0, 160.0, 165.0, 80.0, 42.0, 134.0, 37.0, 40.0, 41.0, 133.0, 99.0, 48.0, 192.0, 48.0, 48.0, 57.0, 28.0, 46.0, 251.0, 25.0, 45.0, 27.0, 33.0, 31.0, 30.0, 26.0, 27.0, 68.0, 214.0, 48.0, 99.0, 40.0, 36.0, 40.0, 64.0, 75.0, 73.0, 84.0, 64.0, 72.0, 71.0, 81.0, 86.0, 77.0, 72.0, 72.0, 64.0, 70.0, 81.0, 79.0, 104.0, 98.0, 93.0, 216.0, 55.0, 63.0, 80.0, 23.0, 40.0, 33.0, 55.0, 120.0, 55.0, 38.0, 125.0, 110.0, 250.0, 40.0, 40.0, 55.0, 175.0, 211.0, 261.0, 39.0, 23.0, 55.0, 58.0, 55.0, 99.0, 38.0, 80.0, 104.0, 125.0, 63.0, 23.0, 37.0, 31.0, 46.0, 22.0, 90.0, 170.0, 32.0, 105.0, 105.0, 105.0, 92.0, 100.0, 214.0, 73.0, 115.0, 65.0, 60.0, 90.0, 213.0, 210.0, 213.0, 209.0, 300.0, 299.0, 100.0, 43.0, 135.0, 40.0, 105.0, 80.0, 40.0, 150.0, 91.0, 90.0, 135.0, 39.0, 162.0, 110.0, 40.0, 47.0, 45.0, 45.0, 59.0, 34.0, 80.0, 76.0, 35.0, 183.0, 29.0, 32.0, 37.0, 70.0, 70.0, 81.0, 78.0, 74.0, 207.0, 81.0, 84.0, 79.0, 84.0, 91.0, 91.0, 95.0, 72.0, 78.0, 93.0, 68.0, 81.0, 83.0, 76.0, 111.0, 75.0, 82.0, 97.0, 81.0, 83.0, 65.0, 83.0, 68.0, 75.0, 66.0, 60.0, 115.0, 88.0, 95.0, 30.0, 36.0, 100.0, 54.0, 218.0, 207.0, 53.0, 120.0, 56.0, 46.0, 84.0, 90.0, 84.0, 90.0, 56.0, 80.0, 40.0, 240.0, 150.0, 64.0, 148.0, 41.0, 70.0, 295.0, 185.0, 100.0, 112.0, 84.0, 125.0, 28.0, 59.0, 69.0, 76.0, 149.0, 149.0, 36.0, 240.0, 132.0, 71.0, 80.0, 144.0, 25.0, 89.0, 115.0, 38.0, 156.0, 36.0, 300.0, 38.0, 200.0, 160.0, 26.0, 42.0, 146.0, 49.0, 43.0, 146.0, 184.0, 130.0, 134.0, 63.0, 125.0, 175.0, 75.0, 92.0, 300.0, 167.0, 149.0, 56.0, 109.0, 115.0, 46.0, 35.0, 200.0, 120.0, 120.0, 70.0, 32.0, 90.0, 110.0, 193.0, 191.0, 125.0, 115.0, 48.0, 85.0, 52.0, 200.0, 174.0, 200.0, 75.0, 51.0, 49.0, 55.0, 50.0, 204.0, 50.0, 48.0, 199.0, 35.0, 33.0, 30.0, 45.0, 34.0, 207.0, 73.0, 135.0, 96.0, 150.0, 80.0, 30.0, 244.0, 85.0, 77.0, 138.0, 54.0, 300.0, 60.0, 50.0, 300.0, 286.0, 300.0, 120.0, 300.0, 300.0, 300.0, 111.0, 64.0, 70.0, 90.0, 48.0, 36.0, 90.0, 90.0, 170.0, 84.0, 141.0, 92.0, 36.0, 150.0, 31.0, 110.0, 54.0, 41.0, 50.0, 43.0, 41.0, 33.0, 115.0, 41.0, 129.0, 42.0, 173.0, 33.0, 150.0, 56.0, 200.0, 33.0, 51.0, 41.0, 50.0, 42.0, 101.0, 41.0, 40.0, 159.0, 41.0, 77.0, 45.0, 75.0, 129.0, 100.0, 135.0, 111.0, 170.0, 90.0, 44.0, 104.0, 72.0, 139.0, 41.0, 41.0, 268.0, 64.0, 49.0, 49.0, 74.0, 199.0, 210.0, 53.0, 74.0, 20.0, 200.0, 40.0, 62.0, 51.0, 185.0, 150.0, 39.0, 125.0, 36.0, 227.0, 123.0, 195.0, 250.0, 61.0, 150.0, 126.0, 262.0, 72.0, 32.0, 150.0, 44.0, 45.0, 98.0, 150.0, 112.0, 95.0, 125.0, 117.0, 33.0, 160.0, 250.0, 50.0, 189.0, 40.0, 40.0, 49.0, 100.0, 267.0, 259.0, 100.0, 103.0, 200.0, 100.0, 76.0, 77.0, 132.0, 244.0, 58.0, 76.0, 40.0, 168.0, 40.0, 95.0, 81.0, 86.0, 21.0, 23.0, 52.0, 55.0, 21.0, 221.0, 166.0, 161.0, 57.0, 139.0, 55.0, 47.0, 229.0, 108.0, 40.0, 40.0, 150.0, 257.0, 46.0, 50.0, 46.0, 45.0, 45.0, 200.0, 150.0, 160.0, 70.0, 44.0, 46.0, 59.0, 194.0, 50.0, 50.0, 106.0, 90.0, 39.0, 100.0, 119.0, 40.0, 99.0, 52.0, 250.0, 33.0, 140.0, 125.0, 85.0, 173.0, 130.0, 50.0, 120.0, 40.0, 220.0, 24.0, 45.0, 42.0, 120.0, 99.0, 90.0, 52.0, 60.0, 202.0, 46.0, 98.0, 145.0, 123.0, 299.0], \"xaxis\": \"x\", \"yaxis\": \"y\"}],\n",
              "                        {\"barmode\": \"relative\", \"legend\": {\"tracegroupgap\": 0}, \"margin\": {\"t\": 60}, \"template\": {\"data\": {\"bar\": [{\"error_x\": {\"color\": \"#2a3f5f\"}, \"error_y\": {\"color\": \"#2a3f5f\"}, \"marker\": {\"line\": {\"color\": \"#E5ECF6\", \"width\": 0.5}}, \"type\": \"bar\"}], \"barpolar\": [{\"marker\": {\"line\": {\"color\": \"#E5ECF6\", \"width\": 0.5}}, \"type\": \"barpolar\"}], \"carpet\": [{\"aaxis\": {\"endlinecolor\": \"#2a3f5f\", \"gridcolor\": \"white\", \"linecolor\": \"white\", \"minorgridcolor\": \"white\", \"startlinecolor\": \"#2a3f5f\"}, \"baxis\": {\"endlinecolor\": \"#2a3f5f\", \"gridcolor\": \"white\", \"linecolor\": \"white\", \"minorgridcolor\": \"white\", \"startlinecolor\": \"#2a3f5f\"}, \"type\": \"carpet\"}], \"choropleth\": [{\"colorbar\": {\"outlinewidth\": 0, \"ticks\": \"\"}, \"type\": \"choropleth\"}], \"contour\": [{\"colorbar\": {\"outlinewidth\": 0, \"ticks\": \"\"}, \"colorscale\": [[0.0, \"#0d0887\"], [0.1111111111111111, \"#46039f\"], [0.2222222222222222, \"#7201a8\"], [0.3333333333333333, \"#9c179e\"], [0.4444444444444444, \"#bd3786\"], [0.5555555555555556, \"#d8576b\"], [0.6666666666666666, \"#ed7953\"], [0.7777777777777778, \"#fb9f3a\"], [0.8888888888888888, \"#fdca26\"], [1.0, \"#f0f921\"]], \"type\": \"contour\"}], \"contourcarpet\": [{\"colorbar\": {\"outlinewidth\": 0, \"ticks\": \"\"}, \"type\": \"contourcarpet\"}], \"heatmap\": [{\"colorbar\": {\"outlinewidth\": 0, \"ticks\": \"\"}, \"colorscale\": [[0.0, \"#0d0887\"], [0.1111111111111111, \"#46039f\"], [0.2222222222222222, \"#7201a8\"], [0.3333333333333333, \"#9c179e\"], [0.4444444444444444, \"#bd3786\"], [0.5555555555555556, \"#d8576b\"], [0.6666666666666666, \"#ed7953\"], [0.7777777777777778, \"#fb9f3a\"], [0.8888888888888888, \"#fdca26\"], [1.0, \"#f0f921\"]], \"type\": \"heatmap\"}], \"heatmapgl\": [{\"colorbar\": {\"outlinewidth\": 0, \"ticks\": \"\"}, \"colorscale\": [[0.0, \"#0d0887\"], [0.1111111111111111, \"#46039f\"], [0.2222222222222222, \"#7201a8\"], [0.3333333333333333, \"#9c179e\"], [0.4444444444444444, \"#bd3786\"], [0.5555555555555556, \"#d8576b\"], [0.6666666666666666, \"#ed7953\"], [0.7777777777777778, \"#fb9f3a\"], [0.8888888888888888, \"#fdca26\"], [1.0, \"#f0f921\"]], \"type\": \"heatmapgl\"}], \"histogram\": [{\"marker\": {\"colorbar\": {\"outlinewidth\": 0, \"ticks\": \"\"}}, \"type\": \"histogram\"}], \"histogram2d\": [{\"colorbar\": {\"outlinewidth\": 0, \"ticks\": \"\"}, \"colorscale\": [[0.0, \"#0d0887\"], [0.1111111111111111, \"#46039f\"], [0.2222222222222222, \"#7201a8\"], [0.3333333333333333, \"#9c179e\"], [0.4444444444444444, \"#bd3786\"], [0.5555555555555556, \"#d8576b\"], [0.6666666666666666, \"#ed7953\"], [0.7777777777777778, \"#fb9f3a\"], [0.8888888888888888, \"#fdca26\"], [1.0, \"#f0f921\"]], \"type\": \"histogram2d\"}], \"histogram2dcontour\": [{\"colorbar\": {\"outlinewidth\": 0, \"ticks\": \"\"}, \"colorscale\": [[0.0, \"#0d0887\"], [0.1111111111111111, \"#46039f\"], [0.2222222222222222, \"#7201a8\"], [0.3333333333333333, \"#9c179e\"], [0.4444444444444444, \"#bd3786\"], [0.5555555555555556, \"#d8576b\"], [0.6666666666666666, \"#ed7953\"], [0.7777777777777778, \"#fb9f3a\"], [0.8888888888888888, \"#fdca26\"], [1.0, \"#f0f921\"]], \"type\": \"histogram2dcontour\"}], \"mesh3d\": [{\"colorbar\": {\"outlinewidth\": 0, \"ticks\": \"\"}, \"type\": \"mesh3d\"}], \"parcoords\": [{\"line\": {\"colorbar\": {\"outlinewidth\": 0, \"ticks\": \"\"}}, \"type\": \"parcoords\"}], \"pie\": [{\"automargin\": true, \"type\": \"pie\"}], \"scatter\": [{\"marker\": {\"colorbar\": {\"outlinewidth\": 0, \"ticks\": \"\"}}, \"type\": \"scatter\"}], \"scatter3d\": [{\"line\": {\"colorbar\": {\"outlinewidth\": 0, \"ticks\": \"\"}}, \"marker\": {\"colorbar\": {\"outlinewidth\": 0, \"ticks\": \"\"}}, \"type\": \"scatter3d\"}], \"scattercarpet\": [{\"marker\": {\"colorbar\": {\"outlinewidth\": 0, \"ticks\": \"\"}}, \"type\": \"scattercarpet\"}], \"scattergeo\": [{\"marker\": {\"colorbar\": {\"outlinewidth\": 0, \"ticks\": \"\"}}, \"type\": \"scattergeo\"}], \"scattergl\": [{\"marker\": {\"colorbar\": {\"outlinewidth\": 0, \"ticks\": \"\"}}, \"type\": \"scattergl\"}], \"scattermapbox\": [{\"marker\": {\"colorbar\": {\"outlinewidth\": 0, \"ticks\": \"\"}}, \"type\": \"scattermapbox\"}], \"scatterpolar\": [{\"marker\": {\"colorbar\": {\"outlinewidth\": 0, \"ticks\": \"\"}}, \"type\": \"scatterpolar\"}], \"scatterpolargl\": [{\"marker\": {\"colorbar\": {\"outlinewidth\": 0, \"ticks\": \"\"}}, \"type\": \"scatterpolargl\"}], \"scatterternary\": [{\"marker\": {\"colorbar\": {\"outlinewidth\": 0, \"ticks\": \"\"}}, \"type\": \"scatterternary\"}], \"surface\": [{\"colorbar\": {\"outlinewidth\": 0, \"ticks\": \"\"}, \"colorscale\": [[0.0, \"#0d0887\"], [0.1111111111111111, \"#46039f\"], [0.2222222222222222, \"#7201a8\"], [0.3333333333333333, \"#9c179e\"], [0.4444444444444444, \"#bd3786\"], [0.5555555555555556, \"#d8576b\"], [0.6666666666666666, \"#ed7953\"], [0.7777777777777778, \"#fb9f3a\"], [0.8888888888888888, \"#fdca26\"], [1.0, \"#f0f921\"]], \"type\": \"surface\"}], \"table\": [{\"cells\": {\"fill\": {\"color\": \"#EBF0F8\"}, \"line\": {\"color\": \"white\"}}, \"header\": {\"fill\": {\"color\": \"#C8D4E3\"}, \"line\": {\"color\": \"white\"}}, \"type\": \"table\"}]}, \"layout\": {\"annotationdefaults\": {\"arrowcolor\": \"#2a3f5f\", \"arrowhead\": 0, \"arrowwidth\": 1}, \"coloraxis\": {\"colorbar\": {\"outlinewidth\": 0, \"ticks\": \"\"}}, \"colorscale\": {\"diverging\": [[0, \"#8e0152\"], [0.1, \"#c51b7d\"], [0.2, \"#de77ae\"], [0.3, \"#f1b6da\"], [0.4, \"#fde0ef\"], [0.5, \"#f7f7f7\"], [0.6, \"#e6f5d0\"], [0.7, \"#b8e186\"], [0.8, \"#7fbc41\"], [0.9, \"#4d9221\"], [1, \"#276419\"]], \"sequential\": [[0.0, \"#0d0887\"], [0.1111111111111111, \"#46039f\"], [0.2222222222222222, \"#7201a8\"], [0.3333333333333333, \"#9c179e\"], [0.4444444444444444, \"#bd3786\"], [0.5555555555555556, \"#d8576b\"], [0.6666666666666666, \"#ed7953\"], [0.7777777777777778, \"#fb9f3a\"], [0.8888888888888888, \"#fdca26\"], [1.0, \"#f0f921\"]], \"sequentialminus\": [[0.0, \"#0d0887\"], [0.1111111111111111, \"#46039f\"], [0.2222222222222222, \"#7201a8\"], [0.3333333333333333, \"#9c179e\"], [0.4444444444444444, \"#bd3786\"], [0.5555555555555556, \"#d8576b\"], [0.6666666666666666, \"#ed7953\"], [0.7777777777777778, \"#fb9f3a\"], [0.8888888888888888, \"#fdca26\"], [1.0, \"#f0f921\"]]}, \"colorway\": [\"#636efa\", \"#EF553B\", \"#00cc96\", \"#ab63fa\", \"#FFA15A\", \"#19d3f3\", \"#FF6692\", \"#B6E880\", \"#FF97FF\", \"#FECB52\"], \"font\": {\"color\": \"#2a3f5f\"}, \"geo\": {\"bgcolor\": \"white\", \"lakecolor\": \"white\", \"landcolor\": \"#E5ECF6\", \"showlakes\": true, \"showland\": true, \"subunitcolor\": \"white\"}, \"hoverlabel\": {\"align\": \"left\"}, \"hovermode\": \"closest\", \"mapbox\": {\"style\": \"light\"}, \"paper_bgcolor\": \"white\", \"plot_bgcolor\": \"#E5ECF6\", \"polar\": {\"angularaxis\": {\"gridcolor\": \"white\", \"linecolor\": \"white\", \"ticks\": \"\"}, \"bgcolor\": \"#E5ECF6\", \"radialaxis\": {\"gridcolor\": \"white\", \"linecolor\": \"white\", \"ticks\": \"\"}}, \"scene\": {\"xaxis\": {\"backgroundcolor\": \"#E5ECF6\", \"gridcolor\": \"white\", \"gridwidth\": 2, \"linecolor\": \"white\", \"showbackground\": true, \"ticks\": \"\", \"zerolinecolor\": \"white\"}, \"yaxis\": {\"backgroundcolor\": \"#E5ECF6\", \"gridcolor\": \"white\", \"gridwidth\": 2, \"linecolor\": \"white\", \"showbackground\": true, \"ticks\": \"\", \"zerolinecolor\": \"white\"}, \"zaxis\": {\"backgroundcolor\": \"#E5ECF6\", \"gridcolor\": \"white\", \"gridwidth\": 2, \"linecolor\": \"white\", \"showbackground\": true, \"ticks\": \"\", \"zerolinecolor\": \"white\"}}, \"shapedefaults\": {\"line\": {\"color\": \"#2a3f5f\"}}, \"ternary\": {\"aaxis\": {\"gridcolor\": \"white\", \"linecolor\": \"white\", \"ticks\": \"\"}, \"baxis\": {\"gridcolor\": \"white\", \"linecolor\": \"white\", \"ticks\": \"\"}, \"bgcolor\": \"#E5ECF6\", \"caxis\": {\"gridcolor\": \"white\", \"linecolor\": \"white\", \"ticks\": \"\"}}, \"title\": {\"x\": 0.05}, \"xaxis\": {\"automargin\": true, \"gridcolor\": \"white\", \"linecolor\": \"white\", \"ticks\": \"\", \"title\": {\"standoff\": 15}, \"zerolinecolor\": \"white\", \"zerolinewidth\": 2}, \"yaxis\": {\"automargin\": true, \"gridcolor\": \"white\", \"linecolor\": \"white\", \"ticks\": \"\", \"title\": {\"standoff\": 15}, \"zerolinecolor\": \"white\", \"zerolinewidth\": 2}}}, \"xaxis\": {\"anchor\": \"y\", \"domain\": [0.0, 1.0], \"title\": {\"text\": \"price\"}}, \"yaxis\": {\"anchor\": \"x\", \"domain\": [0.0, 1.0], \"title\": {\"text\": \"count\"}}},\n",
              "                        {\"responsive\": true}\n",
              "                    ).then(function(){\n",
              "                            \n",
              "var gd = document.getElementById('7d489731-9f6c-46bd-a89a-da6582711e97');\n",
              "var x = new MutationObserver(function (mutations, observer) {{\n",
              "        var display = window.getComputedStyle(gd).display;\n",
              "        if (!display || display === 'none') {{\n",
              "            console.log([gd, 'removed!']);\n",
              "            Plotly.purge(gd);\n",
              "            observer.disconnect();\n",
              "        }}\n",
              "}});\n",
              "\n",
              "// Listen for the removal of the full notebook cells\n",
              "var notebookContainer = gd.closest('#notebook-container');\n",
              "if (notebookContainer) {{\n",
              "    x.observe(notebookContainer, {childList: true});\n",
              "}}\n",
              "\n",
              "// Listen for the clearing of the current output cell\n",
              "var outputEl = gd.closest('.output');\n",
              "if (outputEl) {{\n",
              "    x.observe(outputEl, {childList: true});\n",
              "}}\n",
              "\n",
              "                        })\n",
              "                };\n",
              "                \n",
              "            </script>\n",
              "        </div>\n",
              "</body>\n",
              "</html>"
            ]
          },
          "metadata": {
            "tags": []
          }
        }
      ]
    },
    {
      "cell_type": "markdown",
      "metadata": {
        "id": "uwEWFEwodZro"
      },
      "source": [
        "#### Análisis de Barrios"
      ]
    },
    {
      "cell_type": "code",
      "metadata": {
        "id": "zqPW-aQ1dkDr"
      },
      "source": [
        "def grouper_func(dataframe, grouper, col_to_group_by, agg):\n",
        "    return(dataframe.pivot_table(grouper, col_to_group_by, aggfunc = agg))"
      ],
      "execution_count": null,
      "outputs": []
    },
    {
      "cell_type": "markdown",
      "metadata": {
        "id": "zIBw7OUxdugK"
      },
      "source": [
        "##### Alquilados"
      ]
    },
    {
      "cell_type": "code",
      "metadata": {
        "id": "tNjXKPyodmmd",
        "colab": {
          "base_uri": "https://localhost:8080/",
          "height": 266
        },
        "outputId": "dfc7c408-3ace-4e2c-b465-d300112ef31c"
      },
      "source": [
        "nyc_20_pivote_rented = grouper_func(nyc_20[nyc_20['was_rented']==1], ['price'], ['neighbourhood_group'], ['mean','median','count','min','max','std'])\n",
        "nyc_20_pivote_rented"
      ],
      "execution_count": null,
      "outputs": [
        {
          "output_type": "execute_result",
          "data": {
            "text/html": [
              "<div>\n",
              "<style scoped>\n",
              "    .dataframe tbody tr th:only-of-type {\n",
              "        vertical-align: middle;\n",
              "    }\n",
              "\n",
              "    .dataframe tbody tr th {\n",
              "        vertical-align: top;\n",
              "    }\n",
              "\n",
              "    .dataframe thead tr th {\n",
              "        text-align: left;\n",
              "    }\n",
              "\n",
              "    .dataframe thead tr:last-of-type th {\n",
              "        text-align: right;\n",
              "    }\n",
              "</style>\n",
              "<table border=\"1\" class=\"dataframe\">\n",
              "  <thead>\n",
              "    <tr>\n",
              "      <th></th>\n",
              "      <th>mean</th>\n",
              "      <th>median</th>\n",
              "      <th>count</th>\n",
              "      <th>min</th>\n",
              "      <th>max</th>\n",
              "      <th>std</th>\n",
              "    </tr>\n",
              "    <tr>\n",
              "      <th></th>\n",
              "      <th>price</th>\n",
              "      <th>price</th>\n",
              "      <th>price</th>\n",
              "      <th>price</th>\n",
              "      <th>price</th>\n",
              "      <th>price</th>\n",
              "    </tr>\n",
              "    <tr>\n",
              "      <th>neighbourhood_group</th>\n",
              "      <th></th>\n",
              "      <th></th>\n",
              "      <th></th>\n",
              "      <th></th>\n",
              "      <th></th>\n",
              "      <th></th>\n",
              "    </tr>\n",
              "  </thead>\n",
              "  <tbody>\n",
              "    <tr>\n",
              "      <th>Bronx</th>\n",
              "      <td>86.407809</td>\n",
              "      <td>65.0</td>\n",
              "      <td>922</td>\n",
              "      <td>17.0</td>\n",
              "      <td>992.0</td>\n",
              "      <td>81.389338</td>\n",
              "    </tr>\n",
              "    <tr>\n",
              "      <th>Brooklyn</th>\n",
              "      <td>118.770544</td>\n",
              "      <td>90.0</td>\n",
              "      <td>14177</td>\n",
              "      <td>16.0</td>\n",
              "      <td>10000.0</td>\n",
              "      <td>163.592618</td>\n",
              "    </tr>\n",
              "    <tr>\n",
              "      <th>Manhattan</th>\n",
              "      <td>173.638345</td>\n",
              "      <td>125.0</td>\n",
              "      <td>14453</td>\n",
              "      <td>0.0</td>\n",
              "      <td>10000.0</td>\n",
              "      <td>329.001637</td>\n",
              "    </tr>\n",
              "    <tr>\n",
              "      <th>Queens</th>\n",
              "      <td>102.947637</td>\n",
              "      <td>70.0</td>\n",
              "      <td>4316</td>\n",
              "      <td>10.0</td>\n",
              "      <td>10000.0</td>\n",
              "      <td>244.870698</td>\n",
              "    </tr>\n",
              "    <tr>\n",
              "      <th>Staten Island</th>\n",
              "      <td>94.980695</td>\n",
              "      <td>78.0</td>\n",
              "      <td>259</td>\n",
              "      <td>20.0</td>\n",
              "      <td>429.0</td>\n",
              "      <td>60.936392</td>\n",
              "    </tr>\n",
              "  </tbody>\n",
              "</table>\n",
              "</div>"
            ],
            "text/plain": [
              "                           mean median  count   min      max         std\n",
              "                          price  price  price price    price       price\n",
              "neighbourhood_group                                                     \n",
              "Bronx                 86.407809   65.0    922  17.0    992.0   81.389338\n",
              "Brooklyn             118.770544   90.0  14177  16.0  10000.0  163.592618\n",
              "Manhattan            173.638345  125.0  14453   0.0  10000.0  329.001637\n",
              "Queens               102.947637   70.0   4316  10.0  10000.0  244.870698\n",
              "Staten Island         94.980695   78.0    259  20.0    429.0   60.936392"
            ]
          },
          "metadata": {
            "tags": []
          },
          "execution_count": 25
        }
      ]
    },
    {
      "cell_type": "code",
      "metadata": {
        "id": "FIlxJ09xeCwL",
        "colab": {
          "base_uri": "https://localhost:8080/",
          "height": 266
        },
        "outputId": "d68347e9-da08-4d36-e299-3369813065e7"
      },
      "source": [
        "nyc_21_pivote_rented = grouper_func(nyc_21[nyc_21['was_rented']==1], ['price'], ['neighbourhood_group'], ['mean','median','count','min','max','std'])\n",
        "nyc_21_pivote_rented"
      ],
      "execution_count": null,
      "outputs": [
        {
          "output_type": "execute_result",
          "data": {
            "text/html": [
              "<div>\n",
              "<style scoped>\n",
              "    .dataframe tbody tr th:only-of-type {\n",
              "        vertical-align: middle;\n",
              "    }\n",
              "\n",
              "    .dataframe tbody tr th {\n",
              "        vertical-align: top;\n",
              "    }\n",
              "\n",
              "    .dataframe thead tr th {\n",
              "        text-align: left;\n",
              "    }\n",
              "\n",
              "    .dataframe thead tr:last-of-type th {\n",
              "        text-align: right;\n",
              "    }\n",
              "</style>\n",
              "<table border=\"1\" class=\"dataframe\">\n",
              "  <thead>\n",
              "    <tr>\n",
              "      <th></th>\n",
              "      <th>mean</th>\n",
              "      <th>median</th>\n",
              "      <th>count</th>\n",
              "      <th>min</th>\n",
              "      <th>max</th>\n",
              "      <th>std</th>\n",
              "    </tr>\n",
              "    <tr>\n",
              "      <th></th>\n",
              "      <th>price</th>\n",
              "      <th>price</th>\n",
              "      <th>price</th>\n",
              "      <th>price</th>\n",
              "      <th>price</th>\n",
              "      <th>price</th>\n",
              "    </tr>\n",
              "    <tr>\n",
              "      <th>neighbourhood_group</th>\n",
              "      <th></th>\n",
              "      <th></th>\n",
              "      <th></th>\n",
              "      <th></th>\n",
              "      <th></th>\n",
              "      <th></th>\n",
              "    </tr>\n",
              "  </thead>\n",
              "  <tbody>\n",
              "    <tr>\n",
              "      <th>Bronx</th>\n",
              "      <td>88.282638</td>\n",
              "      <td>65.0</td>\n",
              "      <td>743</td>\n",
              "      <td>17.0</td>\n",
              "      <td>914.0</td>\n",
              "      <td>78.807766</td>\n",
              "    </tr>\n",
              "    <tr>\n",
              "      <th>Brooklyn</th>\n",
              "      <td>123.327133</td>\n",
              "      <td>94.0</td>\n",
              "      <td>10699</td>\n",
              "      <td>15.0</td>\n",
              "      <td>10000.0</td>\n",
              "      <td>200.944300</td>\n",
              "    </tr>\n",
              "    <tr>\n",
              "      <th>Manhattan</th>\n",
              "      <td>174.367757</td>\n",
              "      <td>120.0</td>\n",
              "      <td>11097</td>\n",
              "      <td>10.0</td>\n",
              "      <td>10000.0</td>\n",
              "      <td>319.654201</td>\n",
              "    </tr>\n",
              "    <tr>\n",
              "      <th>Queens</th>\n",
              "      <td>101.727115</td>\n",
              "      <td>70.0</td>\n",
              "      <td>3452</td>\n",
              "      <td>10.0</td>\n",
              "      <td>10000.0</td>\n",
              "      <td>261.152485</td>\n",
              "    </tr>\n",
              "    <tr>\n",
              "      <th>Staten Island</th>\n",
              "      <td>98.074074</td>\n",
              "      <td>85.0</td>\n",
              "      <td>243</td>\n",
              "      <td>24.0</td>\n",
              "      <td>454.0</td>\n",
              "      <td>64.945135</td>\n",
              "    </tr>\n",
              "  </tbody>\n",
              "</table>\n",
              "</div>"
            ],
            "text/plain": [
              "                           mean median  count   min      max         std\n",
              "                          price  price  price price    price       price\n",
              "neighbourhood_group                                                     \n",
              "Bronx                 88.282638   65.0    743  17.0    914.0   78.807766\n",
              "Brooklyn             123.327133   94.0  10699  15.0  10000.0  200.944300\n",
              "Manhattan            174.367757  120.0  11097  10.0  10000.0  319.654201\n",
              "Queens               101.727115   70.0   3452  10.0  10000.0  261.152485\n",
              "Staten Island         98.074074   85.0    243  24.0    454.0   64.945135"
            ]
          },
          "metadata": {
            "tags": []
          },
          "execution_count": 26
        }
      ]
    },
    {
      "cell_type": "markdown",
      "metadata": {
        "id": "hzL66Z1qzm_S"
      },
      "source": [
        "###### Analísis por tipo de habitación"
      ]
    },
    {
      "cell_type": "code",
      "metadata": {
        "id": "NtopMT2wy4J2",
        "colab": {
          "base_uri": "https://localhost:8080/",
          "height": 252
        },
        "outputId": "3d70a3d0-6375-408f-dd2e-4fa6177c2289"
      },
      "source": [
        "print(\"Analísis por tipo de habitación: Alquilados 2020\")\n",
        "nyc_20_room_type_pivote = grouper_func(nyc_20[nyc_20['was_rented']==1], ['price','minimum_nights'], ['room_type'], ['mean','count'])\n",
        "nyc_20_room_type_pivote['count_share'] = nyc_20_room_type_pivote['count']['price'] / nyc_20_room_type_pivote['count']['price'].sum()\n",
        "nyc_20_room_type_pivote.sort_values('count_share', ascending=False)"
      ],
      "execution_count": null,
      "outputs": [
        {
          "output_type": "stream",
          "text": [
            "Analísis por tipo de habitación: Alquilados 2020\n"
          ],
          "name": "stdout"
        },
        {
          "output_type": "execute_result",
          "data": {
            "text/html": [
              "<div>\n",
              "<style scoped>\n",
              "    .dataframe tbody tr th:only-of-type {\n",
              "        vertical-align: middle;\n",
              "    }\n",
              "\n",
              "    .dataframe tbody tr th {\n",
              "        vertical-align: top;\n",
              "    }\n",
              "\n",
              "    .dataframe thead tr th {\n",
              "        text-align: left;\n",
              "    }\n",
              "\n",
              "    .dataframe thead tr:last-of-type th {\n",
              "        text-align: right;\n",
              "    }\n",
              "</style>\n",
              "<table border=\"1\" class=\"dataframe\">\n",
              "  <thead>\n",
              "    <tr>\n",
              "      <th></th>\n",
              "      <th colspan=\"2\" halign=\"left\">mean</th>\n",
              "      <th colspan=\"2\" halign=\"left\">count</th>\n",
              "      <th>count_share</th>\n",
              "    </tr>\n",
              "    <tr>\n",
              "      <th></th>\n",
              "      <th>minimum_nights</th>\n",
              "      <th>price</th>\n",
              "      <th>minimum_nights</th>\n",
              "      <th>price</th>\n",
              "      <th></th>\n",
              "    </tr>\n",
              "    <tr>\n",
              "      <th>room_type</th>\n",
              "      <th></th>\n",
              "      <th></th>\n",
              "      <th></th>\n",
              "      <th></th>\n",
              "      <th></th>\n",
              "    </tr>\n",
              "  </thead>\n",
              "  <tbody>\n",
              "    <tr>\n",
              "      <th>Entire home/apt</th>\n",
              "      <td>9.545936</td>\n",
              "      <td>185.169075</td>\n",
              "      <td>17927</td>\n",
              "      <td>17927</td>\n",
              "      <td>0.525303</td>\n",
              "    </tr>\n",
              "    <tr>\n",
              "      <th>Private room</th>\n",
              "      <td>5.737501</td>\n",
              "      <td>83.165782</td>\n",
              "      <td>15261</td>\n",
              "      <td>15261</td>\n",
              "      <td>0.447183</td>\n",
              "    </tr>\n",
              "    <tr>\n",
              "      <th>Shared room</th>\n",
              "      <td>6.154312</td>\n",
              "      <td>109.142209</td>\n",
              "      <td>661</td>\n",
              "      <td>661</td>\n",
              "      <td>0.019369</td>\n",
              "    </tr>\n",
              "    <tr>\n",
              "      <th>Hotel room</th>\n",
              "      <td>2.877698</td>\n",
              "      <td>291.845324</td>\n",
              "      <td>278</td>\n",
              "      <td>278</td>\n",
              "      <td>0.008146</td>\n",
              "    </tr>\n",
              "  </tbody>\n",
              "</table>\n",
              "</div>"
            ],
            "text/plain": [
              "                          mean                      count        count_share\n",
              "                minimum_nights       price minimum_nights  price            \n",
              "room_type                                                                   \n",
              "Entire home/apt       9.545936  185.169075          17927  17927    0.525303\n",
              "Private room          5.737501   83.165782          15261  15261    0.447183\n",
              "Shared room           6.154312  109.142209            661    661    0.019369\n",
              "Hotel room            2.877698  291.845324            278    278    0.008146"
            ]
          },
          "metadata": {
            "tags": []
          },
          "execution_count": 27
        }
      ]
    },
    {
      "cell_type": "code",
      "metadata": {
        "id": "g5krsyMh0H1a",
        "colab": {
          "base_uri": "https://localhost:8080/"
        },
        "outputId": "ac6392c3-49d6-4d91-d691-a66e428b7fc9"
      },
      "source": [
        "print(f\"El plazo de permanencia mínimo promedio es de {round(nyc_20_room_type_pivote['mean']['minimum_nights'].mean(),2)} días, a un costo de USD{round(nyc_20_room_type_pivote['mean']['price'].mean(),2)} por noche.\")"
      ],
      "execution_count": null,
      "outputs": [
        {
          "output_type": "stream",
          "text": [
            "El plazo de permanencia mínimo promedio es de 6.08 días, a un costo de USD167.33 por noche.\n"
          ],
          "name": "stdout"
        }
      ]
    },
    {
      "cell_type": "code",
      "metadata": {
        "id": "mh_Dpdc_z22f",
        "colab": {
          "base_uri": "https://localhost:8080/",
          "height": 252
        },
        "outputId": "2e34f373-569b-4301-c873-47d9c4ad51cf"
      },
      "source": [
        "print(\"Analísis por tipo de habitación: Alquilados 2021\")\n",
        "nyc_21_room_type_pivote = grouper_func(nyc_21[nyc_21['was_rented']==1], ['price','minimum_nights'], ['room_type'], ['mean','count'])\n",
        "nyc_21_room_type_pivote['count_share'] = nyc_21_room_type_pivote['count']['price'] / nyc_21_room_type_pivote['count']['price'].sum()\n",
        "nyc_21_room_type_pivote.sort_values('count_share', ascending=False)"
      ],
      "execution_count": null,
      "outputs": [
        {
          "output_type": "stream",
          "text": [
            "Analísis por tipo de habitación: Alquilados 2021\n"
          ],
          "name": "stdout"
        },
        {
          "output_type": "execute_result",
          "data": {
            "text/html": [
              "<div>\n",
              "<style scoped>\n",
              "    .dataframe tbody tr th:only-of-type {\n",
              "        vertical-align: middle;\n",
              "    }\n",
              "\n",
              "    .dataframe tbody tr th {\n",
              "        vertical-align: top;\n",
              "    }\n",
              "\n",
              "    .dataframe thead tr th {\n",
              "        text-align: left;\n",
              "    }\n",
              "\n",
              "    .dataframe thead tr:last-of-type th {\n",
              "        text-align: right;\n",
              "    }\n",
              "</style>\n",
              "<table border=\"1\" class=\"dataframe\">\n",
              "  <thead>\n",
              "    <tr>\n",
              "      <th></th>\n",
              "      <th colspan=\"2\" halign=\"left\">mean</th>\n",
              "      <th colspan=\"2\" halign=\"left\">count</th>\n",
              "      <th>count_share</th>\n",
              "    </tr>\n",
              "    <tr>\n",
              "      <th></th>\n",
              "      <th>minimum_nights</th>\n",
              "      <th>price</th>\n",
              "      <th>minimum_nights</th>\n",
              "      <th>price</th>\n",
              "      <th></th>\n",
              "    </tr>\n",
              "    <tr>\n",
              "      <th>room_type</th>\n",
              "      <th></th>\n",
              "      <th></th>\n",
              "      <th></th>\n",
              "      <th></th>\n",
              "      <th></th>\n",
              "    </tr>\n",
              "  </thead>\n",
              "  <tbody>\n",
              "    <tr>\n",
              "      <th>Entire home/apt</th>\n",
              "      <td>22.228586</td>\n",
              "      <td>186.410803</td>\n",
              "      <td>14126</td>\n",
              "      <td>14126</td>\n",
              "      <td>0.538462</td>\n",
              "    </tr>\n",
              "    <tr>\n",
              "      <th>Private room</th>\n",
              "      <td>20.062118</td>\n",
              "      <td>83.839121</td>\n",
              "      <td>11462</td>\n",
              "      <td>11462</td>\n",
              "      <td>0.436914</td>\n",
              "    </tr>\n",
              "    <tr>\n",
              "      <th>Shared room</th>\n",
              "      <td>19.507761</td>\n",
              "      <td>103.277162</td>\n",
              "      <td>451</td>\n",
              "      <td>451</td>\n",
              "      <td>0.017191</td>\n",
              "    </tr>\n",
              "    <tr>\n",
              "      <th>Hotel room</th>\n",
              "      <td>7.492308</td>\n",
              "      <td>278.169231</td>\n",
              "      <td>195</td>\n",
              "      <td>195</td>\n",
              "      <td>0.007433</td>\n",
              "    </tr>\n",
              "  </tbody>\n",
              "</table>\n",
              "</div>"
            ],
            "text/plain": [
              "                          mean                      count        count_share\n",
              "                minimum_nights       price minimum_nights  price            \n",
              "room_type                                                                   \n",
              "Entire home/apt      22.228586  186.410803          14126  14126    0.538462\n",
              "Private room         20.062118   83.839121          11462  11462    0.436914\n",
              "Shared room          19.507761  103.277162            451    451    0.017191\n",
              "Hotel room            7.492308  278.169231            195    195    0.007433"
            ]
          },
          "metadata": {
            "tags": []
          },
          "execution_count": 29
        }
      ]
    },
    {
      "cell_type": "code",
      "metadata": {
        "id": "vqNrUs0m0WIa",
        "colab": {
          "base_uri": "https://localhost:8080/"
        },
        "outputId": "60bedb49-e67f-448f-f2c1-6032b4a6b605"
      },
      "source": [
        "print(f\"El plazo de permanencia mínimo promedio es de {round(nyc_21_room_type_pivote['mean']['minimum_nights'].mean(),2)} días, a un costo de USD{round(nyc_21_room_type_pivote['mean']['price'].mean(),2)} por noche.\")"
      ],
      "execution_count": null,
      "outputs": [
        {
          "output_type": "stream",
          "text": [
            "El plazo de permanencia mínimo promedio es de 17.32 días, a un costo de USD162.92 por noche.\n"
          ],
          "name": "stdout"
        }
      ]
    },
    {
      "cell_type": "markdown",
      "metadata": {
        "id": "cBBn69ZWwJgB"
      },
      "source": [
        "observamos que existe una sbua considerable en el plazo mínimo de permanencia exigido , teniendo los hoteles el menor plazo de permanencia . "
      ]
    },
    {
      "cell_type": "markdown",
      "metadata": {
        "id": "0LAu7mhJd5WU"
      },
      "source": [
        "##### No Alquilados"
      ]
    },
    {
      "cell_type": "code",
      "metadata": {
        "id": "PZ2ZxnFXd-_7",
        "colab": {
          "base_uri": "https://localhost:8080/",
          "height": 266
        },
        "outputId": "224a7ba6-0551-4541-9e0e-25f989c118e4"
      },
      "source": [
        "nyc_20_pivote_not_rented = grouper_func(nyc_20[nyc_20['was_rented']==0], ['price'], ['neighbourhood_group'], ['mean','median','count','min','max','std'])\n",
        "nyc_20_pivote_not_rented"
      ],
      "execution_count": null,
      "outputs": [
        {
          "output_type": "execute_result",
          "data": {
            "text/html": [
              "<div>\n",
              "<style scoped>\n",
              "    .dataframe tbody tr th:only-of-type {\n",
              "        vertical-align: middle;\n",
              "    }\n",
              "\n",
              "    .dataframe tbody tr th {\n",
              "        vertical-align: top;\n",
              "    }\n",
              "\n",
              "    .dataframe thead tr th {\n",
              "        text-align: left;\n",
              "    }\n",
              "\n",
              "    .dataframe thead tr:last-of-type th {\n",
              "        text-align: right;\n",
              "    }\n",
              "</style>\n",
              "<table border=\"1\" class=\"dataframe\">\n",
              "  <thead>\n",
              "    <tr>\n",
              "      <th></th>\n",
              "      <th>mean</th>\n",
              "      <th>median</th>\n",
              "      <th>count</th>\n",
              "      <th>min</th>\n",
              "      <th>max</th>\n",
              "      <th>std</th>\n",
              "    </tr>\n",
              "    <tr>\n",
              "      <th></th>\n",
              "      <th>price</th>\n",
              "      <th>price</th>\n",
              "      <th>price</th>\n",
              "      <th>price</th>\n",
              "      <th>price</th>\n",
              "      <th>price</th>\n",
              "    </tr>\n",
              "    <tr>\n",
              "      <th>neighbourhood_group</th>\n",
              "      <th></th>\n",
              "      <th></th>\n",
              "      <th></th>\n",
              "      <th></th>\n",
              "      <th></th>\n",
              "      <th></th>\n",
              "    </tr>\n",
              "  </thead>\n",
              "  <tbody>\n",
              "    <tr>\n",
              "      <th>Bronx</th>\n",
              "      <td>113.571429</td>\n",
              "      <td>80.0</td>\n",
              "      <td>231</td>\n",
              "      <td>16.0</td>\n",
              "      <td>1404.0</td>\n",
              "      <td>132.421963</td>\n",
              "    </tr>\n",
              "    <tr>\n",
              "      <th>Brooklyn</th>\n",
              "      <td>126.547814</td>\n",
              "      <td>80.0</td>\n",
              "      <td>3660</td>\n",
              "      <td>0.0</td>\n",
              "      <td>6500.0</td>\n",
              "      <td>204.527627</td>\n",
              "    </tr>\n",
              "    <tr>\n",
              "      <th>Manhattan</th>\n",
              "      <td>250.223318</td>\n",
              "      <td>150.0</td>\n",
              "      <td>5275</td>\n",
              "      <td>0.0</td>\n",
              "      <td>10000.0</td>\n",
              "      <td>630.886425</td>\n",
              "    </tr>\n",
              "    <tr>\n",
              "      <th>Queens</th>\n",
              "      <td>106.826459</td>\n",
              "      <td>69.0</td>\n",
              "      <td>1285</td>\n",
              "      <td>0.0</td>\n",
              "      <td>9000.0</td>\n",
              "      <td>288.711587</td>\n",
              "    </tr>\n",
              "    <tr>\n",
              "      <th>Staten Island</th>\n",
              "      <td>195.763636</td>\n",
              "      <td>106.0</td>\n",
              "      <td>55</td>\n",
              "      <td>30.0</td>\n",
              "      <td>1200.0</td>\n",
              "      <td>244.890827</td>\n",
              "    </tr>\n",
              "  </tbody>\n",
              "</table>\n",
              "</div>"
            ],
            "text/plain": [
              "                           mean median count   min      max         std\n",
              "                          price  price price price    price       price\n",
              "neighbourhood_group                                                    \n",
              "Bronx                113.571429   80.0   231  16.0   1404.0  132.421963\n",
              "Brooklyn             126.547814   80.0  3660   0.0   6500.0  204.527627\n",
              "Manhattan            250.223318  150.0  5275   0.0  10000.0  630.886425\n",
              "Queens               106.826459   69.0  1285   0.0   9000.0  288.711587\n",
              "Staten Island        195.763636  106.0    55  30.0   1200.0  244.890827"
            ]
          },
          "metadata": {
            "tags": []
          },
          "execution_count": 31
        }
      ]
    },
    {
      "cell_type": "code",
      "metadata": {
        "id": "lKuDg3r3eJpT",
        "colab": {
          "base_uri": "https://localhost:8080/",
          "height": 266
        },
        "outputId": "19fdc568-8e55-437f-d8f4-4ae06cdb04dd"
      },
      "source": [
        "nyc_21_pivote_not_rented = grouper_func(nyc_21[nyc_21['was_rented']==0], ['price'], ['neighbourhood_group'], ['mean','median','count','min','max','std'])\n",
        "nyc_21_pivote_not_rented"
      ],
      "execution_count": null,
      "outputs": [
        {
          "output_type": "execute_result",
          "data": {
            "text/html": [
              "<div>\n",
              "<style scoped>\n",
              "    .dataframe tbody tr th:only-of-type {\n",
              "        vertical-align: middle;\n",
              "    }\n",
              "\n",
              "    .dataframe tbody tr th {\n",
              "        vertical-align: top;\n",
              "    }\n",
              "\n",
              "    .dataframe thead tr th {\n",
              "        text-align: left;\n",
              "    }\n",
              "\n",
              "    .dataframe thead tr:last-of-type th {\n",
              "        text-align: right;\n",
              "    }\n",
              "</style>\n",
              "<table border=\"1\" class=\"dataframe\">\n",
              "  <thead>\n",
              "    <tr>\n",
              "      <th></th>\n",
              "      <th>mean</th>\n",
              "      <th>median</th>\n",
              "      <th>count</th>\n",
              "      <th>min</th>\n",
              "      <th>max</th>\n",
              "      <th>std</th>\n",
              "    </tr>\n",
              "    <tr>\n",
              "      <th></th>\n",
              "      <th>price</th>\n",
              "      <th>price</th>\n",
              "      <th>price</th>\n",
              "      <th>price</th>\n",
              "      <th>price</th>\n",
              "      <th>price</th>\n",
              "    </tr>\n",
              "    <tr>\n",
              "      <th>neighbourhood_group</th>\n",
              "      <th></th>\n",
              "      <th></th>\n",
              "      <th></th>\n",
              "      <th></th>\n",
              "      <th></th>\n",
              "      <th></th>\n",
              "    </tr>\n",
              "  </thead>\n",
              "  <tbody>\n",
              "    <tr>\n",
              "      <th>Bronx</th>\n",
              "      <td>130.012766</td>\n",
              "      <td>80.0</td>\n",
              "      <td>235</td>\n",
              "      <td>0.0</td>\n",
              "      <td>2000.0</td>\n",
              "      <td>187.783825</td>\n",
              "    </tr>\n",
              "    <tr>\n",
              "      <th>Brooklyn</th>\n",
              "      <td>124.815177</td>\n",
              "      <td>78.0</td>\n",
              "      <td>3268</td>\n",
              "      <td>0.0</td>\n",
              "      <td>6500.0</td>\n",
              "      <td>229.777599</td>\n",
              "    </tr>\n",
              "    <tr>\n",
              "      <th>Manhattan</th>\n",
              "      <td>227.409957</td>\n",
              "      <td>140.0</td>\n",
              "      <td>4620</td>\n",
              "      <td>0.0</td>\n",
              "      <td>10000.0</td>\n",
              "      <td>449.130004</td>\n",
              "    </tr>\n",
              "    <tr>\n",
              "      <th>Queens</th>\n",
              "      <td>102.088452</td>\n",
              "      <td>63.0</td>\n",
              "      <td>1221</td>\n",
              "      <td>10.0</td>\n",
              "      <td>9000.0</td>\n",
              "      <td>293.305126</td>\n",
              "    </tr>\n",
              "    <tr>\n",
              "      <th>Staten Island</th>\n",
              "      <td>185.510638</td>\n",
              "      <td>80.0</td>\n",
              "      <td>47</td>\n",
              "      <td>34.0</td>\n",
              "      <td>1200.0</td>\n",
              "      <td>253.381554</td>\n",
              "    </tr>\n",
              "  </tbody>\n",
              "</table>\n",
              "</div>"
            ],
            "text/plain": [
              "                           mean median count   min      max         std\n",
              "                          price  price price price    price       price\n",
              "neighbourhood_group                                                    \n",
              "Bronx                130.012766   80.0   235   0.0   2000.0  187.783825\n",
              "Brooklyn             124.815177   78.0  3268   0.0   6500.0  229.777599\n",
              "Manhattan            227.409957  140.0  4620   0.0  10000.0  449.130004\n",
              "Queens               102.088452   63.0  1221  10.0   9000.0  293.305126\n",
              "Staten Island        185.510638   80.0    47  34.0   1200.0  253.381554"
            ]
          },
          "metadata": {
            "tags": []
          },
          "execution_count": 32
        }
      ]
    },
    {
      "cell_type": "markdown",
      "metadata": {
        "id": "lgWqRX3ceTVh"
      },
      "source": [
        "##### Comparativo de precios por barrio"
      ]
    },
    {
      "cell_type": "code",
      "metadata": {
        "id": "vrI9pFRIeVeS",
        "colab": {
          "base_uri": "https://localhost:8080/",
          "height": 283
        },
        "outputId": "84ffd21e-9e02-4d5a-8477-51d42062b9e3"
      },
      "source": [
        "print(\"Comparativo de precios por barrio NYC 2020\")\n",
        "nyc_20_pivote = grouper_func(nyc_20[nyc_20['was_rented']==1], ['price'], ['neighbourhood_group'], ['mean'])\n",
        "nyc_20_pivote['not_rented'] = grouper_func(nyc_20[nyc_20['was_rented']==0], ['price'], ['neighbourhood_group'], ['mean'])['mean']\n",
        "nyc_20_pivote.rename(columns={'mean':'rented'}, inplace=True)\n",
        "nyc_20_pivote"
      ],
      "execution_count": null,
      "outputs": [
        {
          "output_type": "stream",
          "text": [
            "Comparativo de precios por barrio NYC 2020\n"
          ],
          "name": "stdout"
        },
        {
          "output_type": "execute_result",
          "data": {
            "text/html": [
              "<div>\n",
              "<style scoped>\n",
              "    .dataframe tbody tr th:only-of-type {\n",
              "        vertical-align: middle;\n",
              "    }\n",
              "\n",
              "    .dataframe tbody tr th {\n",
              "        vertical-align: top;\n",
              "    }\n",
              "\n",
              "    .dataframe thead tr th {\n",
              "        text-align: left;\n",
              "    }\n",
              "\n",
              "    .dataframe thead tr:last-of-type th {\n",
              "        text-align: right;\n",
              "    }\n",
              "</style>\n",
              "<table border=\"1\" class=\"dataframe\">\n",
              "  <thead>\n",
              "    <tr>\n",
              "      <th></th>\n",
              "      <th>rented</th>\n",
              "      <th>not_rented</th>\n",
              "    </tr>\n",
              "    <tr>\n",
              "      <th></th>\n",
              "      <th>price</th>\n",
              "      <th></th>\n",
              "    </tr>\n",
              "    <tr>\n",
              "      <th>neighbourhood_group</th>\n",
              "      <th></th>\n",
              "      <th></th>\n",
              "    </tr>\n",
              "  </thead>\n",
              "  <tbody>\n",
              "    <tr>\n",
              "      <th>Bronx</th>\n",
              "      <td>86.407809</td>\n",
              "      <td>113.571429</td>\n",
              "    </tr>\n",
              "    <tr>\n",
              "      <th>Brooklyn</th>\n",
              "      <td>118.770544</td>\n",
              "      <td>126.547814</td>\n",
              "    </tr>\n",
              "    <tr>\n",
              "      <th>Manhattan</th>\n",
              "      <td>173.638345</td>\n",
              "      <td>250.223318</td>\n",
              "    </tr>\n",
              "    <tr>\n",
              "      <th>Queens</th>\n",
              "      <td>102.947637</td>\n",
              "      <td>106.826459</td>\n",
              "    </tr>\n",
              "    <tr>\n",
              "      <th>Staten Island</th>\n",
              "      <td>94.980695</td>\n",
              "      <td>195.763636</td>\n",
              "    </tr>\n",
              "  </tbody>\n",
              "</table>\n",
              "</div>"
            ],
            "text/plain": [
              "                         rented  not_rented\n",
              "                          price            \n",
              "neighbourhood_group                        \n",
              "Bronx                 86.407809  113.571429\n",
              "Brooklyn             118.770544  126.547814\n",
              "Manhattan            173.638345  250.223318\n",
              "Queens               102.947637  106.826459\n",
              "Staten Island         94.980695  195.763636"
            ]
          },
          "metadata": {
            "tags": []
          },
          "execution_count": 33
        }
      ]
    },
    {
      "cell_type": "code",
      "metadata": {
        "id": "JZTKJerweyax",
        "colab": {
          "base_uri": "https://localhost:8080/",
          "height": 283
        },
        "outputId": "7ef68eef-9595-4b6e-cb2a-1ae50ab1e378"
      },
      "source": [
        "print(\"Comparativo de precios por barrio NYC 2021\")\n",
        "nyc_21_pivote = grouper_func(nyc_21[nyc_21['was_rented']==1], ['price'], ['neighbourhood_group'], ['mean'])\n",
        "nyc_21_pivote['not_rented'] = grouper_func(nyc_21[nyc_21['was_rented']==0], ['price'], ['neighbourhood_group'], ['mean'])['mean']\n",
        "nyc_21_pivote.rename(columns={'mean':'rented'}, inplace=True)\n",
        "nyc_21_pivote"
      ],
      "execution_count": null,
      "outputs": [
        {
          "output_type": "stream",
          "text": [
            "Comparativo de precios por barrio NYC 2021\n"
          ],
          "name": "stdout"
        },
        {
          "output_type": "execute_result",
          "data": {
            "text/html": [
              "<div>\n",
              "<style scoped>\n",
              "    .dataframe tbody tr th:only-of-type {\n",
              "        vertical-align: middle;\n",
              "    }\n",
              "\n",
              "    .dataframe tbody tr th {\n",
              "        vertical-align: top;\n",
              "    }\n",
              "\n",
              "    .dataframe thead tr th {\n",
              "        text-align: left;\n",
              "    }\n",
              "\n",
              "    .dataframe thead tr:last-of-type th {\n",
              "        text-align: right;\n",
              "    }\n",
              "</style>\n",
              "<table border=\"1\" class=\"dataframe\">\n",
              "  <thead>\n",
              "    <tr>\n",
              "      <th></th>\n",
              "      <th>rented</th>\n",
              "      <th>not_rented</th>\n",
              "    </tr>\n",
              "    <tr>\n",
              "      <th></th>\n",
              "      <th>price</th>\n",
              "      <th></th>\n",
              "    </tr>\n",
              "    <tr>\n",
              "      <th>neighbourhood_group</th>\n",
              "      <th></th>\n",
              "      <th></th>\n",
              "    </tr>\n",
              "  </thead>\n",
              "  <tbody>\n",
              "    <tr>\n",
              "      <th>Bronx</th>\n",
              "      <td>88.282638</td>\n",
              "      <td>130.012766</td>\n",
              "    </tr>\n",
              "    <tr>\n",
              "      <th>Brooklyn</th>\n",
              "      <td>123.327133</td>\n",
              "      <td>124.815177</td>\n",
              "    </tr>\n",
              "    <tr>\n",
              "      <th>Manhattan</th>\n",
              "      <td>174.367757</td>\n",
              "      <td>227.409957</td>\n",
              "    </tr>\n",
              "    <tr>\n",
              "      <th>Queens</th>\n",
              "      <td>101.727115</td>\n",
              "      <td>102.088452</td>\n",
              "    </tr>\n",
              "    <tr>\n",
              "      <th>Staten Island</th>\n",
              "      <td>98.074074</td>\n",
              "      <td>185.510638</td>\n",
              "    </tr>\n",
              "  </tbody>\n",
              "</table>\n",
              "</div>"
            ],
            "text/plain": [
              "                         rented  not_rented\n",
              "                          price            \n",
              "neighbourhood_group                        \n",
              "Bronx                 88.282638  130.012766\n",
              "Brooklyn             123.327133  124.815177\n",
              "Manhattan            174.367757  227.409957\n",
              "Queens               101.727115  102.088452\n",
              "Staten Island         98.074074  185.510638"
            ]
          },
          "metadata": {
            "tags": []
          },
          "execution_count": 34
        }
      ]
    },
    {
      "cell_type": "markdown",
      "metadata": {
        "id": "_JYG7JEvwIMm"
      },
      "source": [
        "###### 10 barrios más caros que se alquilan\n",
        "Con una frecuencia mayor a 10."
      ]
    },
    {
      "cell_type": "code",
      "metadata": {
        "id": "JnQGy-x1wLyW",
        "colab": {
          "base_uri": "https://localhost:8080/",
          "height": 421
        },
        "outputId": "86109fbf-3fc2-4047-f6d0-79f640b6b64d"
      },
      "source": [
        "nyc_20_top_expensive = grouper_func(nyc_20[nyc_20['was_rented']==1], ['price'], ['neighbourhood','neighbourhood_group'], ['mean','count'])\n",
        "filt = nyc_20_top_expensive[('count','price')]>10\n",
        "nyc_20_top_expensive1 = nyc_20_top_expensive[filt]\n",
        "nyc_20_top_expensive1.sort_values(('mean','price'),ascending=False).head(10)"
      ],
      "execution_count": null,
      "outputs": [
        {
          "output_type": "execute_result",
          "data": {
            "text/html": [
              "<div>\n",
              "<style scoped>\n",
              "    .dataframe tbody tr th:only-of-type {\n",
              "        vertical-align: middle;\n",
              "    }\n",
              "\n",
              "    .dataframe tbody tr th {\n",
              "        vertical-align: top;\n",
              "    }\n",
              "\n",
              "    .dataframe thead tr th {\n",
              "        text-align: left;\n",
              "    }\n",
              "\n",
              "    .dataframe thead tr:last-of-type th {\n",
              "        text-align: right;\n",
              "    }\n",
              "</style>\n",
              "<table border=\"1\" class=\"dataframe\">\n",
              "  <thead>\n",
              "    <tr>\n",
              "      <th></th>\n",
              "      <th></th>\n",
              "      <th>mean</th>\n",
              "      <th>count</th>\n",
              "    </tr>\n",
              "    <tr>\n",
              "      <th></th>\n",
              "      <th></th>\n",
              "      <th>price</th>\n",
              "      <th>price</th>\n",
              "    </tr>\n",
              "    <tr>\n",
              "      <th>neighbourhood</th>\n",
              "      <th>neighbourhood_group</th>\n",
              "      <th></th>\n",
              "      <th></th>\n",
              "    </tr>\n",
              "  </thead>\n",
              "  <tbody>\n",
              "    <tr>\n",
              "      <th>Flatiron District</th>\n",
              "      <th>Manhattan</th>\n",
              "      <td>408.520000</td>\n",
              "      <td>50</td>\n",
              "    </tr>\n",
              "    <tr>\n",
              "      <th>Tribeca</th>\n",
              "      <th>Manhattan</th>\n",
              "      <td>322.152381</td>\n",
              "      <td>105</td>\n",
              "    </tr>\n",
              "    <tr>\n",
              "      <th>SoHo</th>\n",
              "      <th>Manhattan</th>\n",
              "      <td>266.198413</td>\n",
              "      <td>252</td>\n",
              "    </tr>\n",
              "    <tr>\n",
              "      <th>Midtown</th>\n",
              "      <th>Manhattan</th>\n",
              "      <td>251.374753</td>\n",
              "      <td>1014</td>\n",
              "    </tr>\n",
              "    <tr>\n",
              "      <th>NoHo</th>\n",
              "      <th>Manhattan</th>\n",
              "      <td>251.211538</td>\n",
              "      <td>52</td>\n",
              "    </tr>\n",
              "    <tr>\n",
              "      <th>Financial District</th>\n",
              "      <th>Manhattan</th>\n",
              "      <td>245.083333</td>\n",
              "      <td>288</td>\n",
              "    </tr>\n",
              "    <tr>\n",
              "      <th>Theater District</th>\n",
              "      <th>Manhattan</th>\n",
              "      <td>223.860465</td>\n",
              "      <td>172</td>\n",
              "    </tr>\n",
              "    <tr>\n",
              "      <th>Arverne</th>\n",
              "      <th>Queens</th>\n",
              "      <td>222.415385</td>\n",
              "      <td>65</td>\n",
              "    </tr>\n",
              "    <tr>\n",
              "      <th>Greenwich Village</th>\n",
              "      <th>Manhattan</th>\n",
              "      <td>219.325301</td>\n",
              "      <td>249</td>\n",
              "    </tr>\n",
              "    <tr>\n",
              "      <th>West Village</th>\n",
              "      <th>Manhattan</th>\n",
              "      <td>214.350495</td>\n",
              "      <td>505</td>\n",
              "    </tr>\n",
              "  </tbody>\n",
              "</table>\n",
              "</div>"
            ],
            "text/plain": [
              "                                              mean count\n",
              "                                             price price\n",
              "neighbourhood      neighbourhood_group                  \n",
              "Flatiron District  Manhattan            408.520000    50\n",
              "Tribeca            Manhattan            322.152381   105\n",
              "SoHo               Manhattan            266.198413   252\n",
              "Midtown            Manhattan            251.374753  1014\n",
              "NoHo               Manhattan            251.211538    52\n",
              "Financial District Manhattan            245.083333   288\n",
              "Theater District   Manhattan            223.860465   172\n",
              "Arverne            Queens               222.415385    65\n",
              "Greenwich Village  Manhattan            219.325301   249\n",
              "West Village       Manhattan            214.350495   505"
            ]
          },
          "metadata": {
            "tags": []
          },
          "execution_count": 35
        }
      ]
    },
    {
      "cell_type": "code",
      "metadata": {
        "id": "rDZWnCHIwrG5",
        "colab": {
          "base_uri": "https://localhost:8080/",
          "height": 421
        },
        "outputId": "3fdf75d7-588d-49b0-ab8a-af7104eae45e"
      },
      "source": [
        "nyc_21_top_expensive = grouper_func(nyc_21[nyc_21['was_rented']==1], ['price'], ['neighbourhood','neighbourhood_group'], ['mean','count'])\n",
        "filt = nyc_21_top_expensive[('count','price')]>10\n",
        "nyc_21_top_expensive1 = nyc_21_top_expensive[filt]\n",
        "nyc_21_top_expensive1.sort_values(('mean','price'),ascending=False).head(10)"
      ],
      "execution_count": null,
      "outputs": [
        {
          "output_type": "execute_result",
          "data": {
            "text/html": [
              "<div>\n",
              "<style scoped>\n",
              "    .dataframe tbody tr th:only-of-type {\n",
              "        vertical-align: middle;\n",
              "    }\n",
              "\n",
              "    .dataframe tbody tr th {\n",
              "        vertical-align: top;\n",
              "    }\n",
              "\n",
              "    .dataframe thead tr th {\n",
              "        text-align: left;\n",
              "    }\n",
              "\n",
              "    .dataframe thead tr:last-of-type th {\n",
              "        text-align: right;\n",
              "    }\n",
              "</style>\n",
              "<table border=\"1\" class=\"dataframe\">\n",
              "  <thead>\n",
              "    <tr>\n",
              "      <th></th>\n",
              "      <th></th>\n",
              "      <th>mean</th>\n",
              "      <th>count</th>\n",
              "    </tr>\n",
              "    <tr>\n",
              "      <th></th>\n",
              "      <th></th>\n",
              "      <th>price</th>\n",
              "      <th>price</th>\n",
              "    </tr>\n",
              "    <tr>\n",
              "      <th>neighbourhood</th>\n",
              "      <th>neighbourhood_group</th>\n",
              "      <th></th>\n",
              "      <th></th>\n",
              "    </tr>\n",
              "  </thead>\n",
              "  <tbody>\n",
              "    <tr>\n",
              "      <th>Flatiron District</th>\n",
              "      <th>Manhattan</th>\n",
              "      <td>454.229167</td>\n",
              "      <td>48</td>\n",
              "    </tr>\n",
              "    <tr>\n",
              "      <th>Tribeca</th>\n",
              "      <th>Manhattan</th>\n",
              "      <td>394.536842</td>\n",
              "      <td>95</td>\n",
              "    </tr>\n",
              "    <tr>\n",
              "      <th>SoHo</th>\n",
              "      <th>Manhattan</th>\n",
              "      <td>263.026042</td>\n",
              "      <td>192</td>\n",
              "    </tr>\n",
              "    <tr>\n",
              "      <th>Arverne</th>\n",
              "      <th>Queens</th>\n",
              "      <td>240.050847</td>\n",
              "      <td>59</td>\n",
              "    </tr>\n",
              "    <tr>\n",
              "      <th>Theater District</th>\n",
              "      <th>Manhattan</th>\n",
              "      <td>233.549669</td>\n",
              "      <td>151</td>\n",
              "    </tr>\n",
              "    <tr>\n",
              "      <th>Lower East Side</th>\n",
              "      <th>Manhattan</th>\n",
              "      <td>232.197266</td>\n",
              "      <td>512</td>\n",
              "    </tr>\n",
              "    <tr>\n",
              "      <th>Sheepshead Bay</th>\n",
              "      <th>Brooklyn</th>\n",
              "      <td>227.450000</td>\n",
              "      <td>80</td>\n",
              "    </tr>\n",
              "    <tr>\n",
              "      <th>Greenwich Village</th>\n",
              "      <th>Manhattan</th>\n",
              "      <td>222.309392</td>\n",
              "      <td>181</td>\n",
              "    </tr>\n",
              "    <tr>\n",
              "      <th>Murray Hill</th>\n",
              "      <th>Manhattan</th>\n",
              "      <td>220.866337</td>\n",
              "      <td>202</td>\n",
              "    </tr>\n",
              "    <tr>\n",
              "      <th>West Village</th>\n",
              "      <th>Manhattan</th>\n",
              "      <td>219.080201</td>\n",
              "      <td>399</td>\n",
              "    </tr>\n",
              "  </tbody>\n",
              "</table>\n",
              "</div>"
            ],
            "text/plain": [
              "                                             mean count\n",
              "                                            price price\n",
              "neighbourhood     neighbourhood_group                  \n",
              "Flatiron District Manhattan            454.229167    48\n",
              "Tribeca           Manhattan            394.536842    95\n",
              "SoHo              Manhattan            263.026042   192\n",
              "Arverne           Queens               240.050847    59\n",
              "Theater District  Manhattan            233.549669   151\n",
              "Lower East Side   Manhattan            232.197266   512\n",
              "Sheepshead Bay    Brooklyn             227.450000    80\n",
              "Greenwich Village Manhattan            222.309392   181\n",
              "Murray Hill       Manhattan            220.866337   202\n",
              "West Village      Manhattan            219.080201   399"
            ]
          },
          "metadata": {
            "tags": []
          },
          "execution_count": 36
        }
      ]
    },
    {
      "cell_type": "markdown",
      "metadata": {
        "id": "cE8pU93zwlpM"
      },
      "source": [
        "###### 10 barrios más baratos que se alquilan"
      ]
    },
    {
      "cell_type": "code",
      "metadata": {
        "id": "tXgTG79KwoW-",
        "colab": {
          "base_uri": "https://localhost:8080/",
          "height": 421
        },
        "outputId": "cb5c1848-f1c8-4815-b02c-fb7aca42bbca"
      },
      "source": [
        "nyc_20_top_cheap = grouper_func(nyc_20[nyc_20['was_rented']==1], ['price'], ['neighbourhood','neighbourhood_group'], ['mean','count'])\n",
        "filt = nyc_20_top_cheap[('count','price')]>10\n",
        "nyc_20_top_cheap1 = nyc_20_top_cheap[filt]\n",
        "nyc_20_top_cheap1.sort_values(('mean','price'),ascending=True).head(10)"
      ],
      "execution_count": null,
      "outputs": [
        {
          "output_type": "execute_result",
          "data": {
            "text/html": [
              "<div>\n",
              "<style scoped>\n",
              "    .dataframe tbody tr th:only-of-type {\n",
              "        vertical-align: middle;\n",
              "    }\n",
              "\n",
              "    .dataframe tbody tr th {\n",
              "        vertical-align: top;\n",
              "    }\n",
              "\n",
              "    .dataframe thead tr th {\n",
              "        text-align: left;\n",
              "    }\n",
              "\n",
              "    .dataframe thead tr:last-of-type th {\n",
              "        text-align: right;\n",
              "    }\n",
              "</style>\n",
              "<table border=\"1\" class=\"dataframe\">\n",
              "  <thead>\n",
              "    <tr>\n",
              "      <th></th>\n",
              "      <th></th>\n",
              "      <th>mean</th>\n",
              "      <th>count</th>\n",
              "    </tr>\n",
              "    <tr>\n",
              "      <th></th>\n",
              "      <th></th>\n",
              "      <th>price</th>\n",
              "      <th>price</th>\n",
              "    </tr>\n",
              "    <tr>\n",
              "      <th>neighbourhood</th>\n",
              "      <th>neighbourhood_group</th>\n",
              "      <th></th>\n",
              "      <th></th>\n",
              "    </tr>\n",
              "  </thead>\n",
              "  <tbody>\n",
              "    <tr>\n",
              "      <th>Hunts Point</th>\n",
              "      <th>Bronx</th>\n",
              "      <td>50.523810</td>\n",
              "      <td>21</td>\n",
              "    </tr>\n",
              "    <tr>\n",
              "      <th>University Heights</th>\n",
              "      <th>Bronx</th>\n",
              "      <td>52.950000</td>\n",
              "      <td>20</td>\n",
              "    </tr>\n",
              "    <tr>\n",
              "      <th>Soundview</th>\n",
              "      <th>Bronx</th>\n",
              "      <td>53.142857</td>\n",
              "      <td>14</td>\n",
              "    </tr>\n",
              "    <tr>\n",
              "      <th>Corona</th>\n",
              "      <th>Queens</th>\n",
              "      <td>55.368421</td>\n",
              "      <td>57</td>\n",
              "    </tr>\n",
              "    <tr>\n",
              "      <th>Belmont</th>\n",
              "      <th>Bronx</th>\n",
              "      <td>59.923077</td>\n",
              "      <td>13</td>\n",
              "    </tr>\n",
              "    <tr>\n",
              "      <th>Schuylerville</th>\n",
              "      <th>Bronx</th>\n",
              "      <td>59.923077</td>\n",
              "      <td>13</td>\n",
              "    </tr>\n",
              "    <tr>\n",
              "      <th>Glendale</th>\n",
              "      <th>Queens</th>\n",
              "      <td>62.025000</td>\n",
              "      <td>40</td>\n",
              "    </tr>\n",
              "    <tr>\n",
              "      <th>Woodside</th>\n",
              "      <th>Queens</th>\n",
              "      <td>64.126168</td>\n",
              "      <td>214</td>\n",
              "    </tr>\n",
              "    <tr>\n",
              "      <th>Borough Park</th>\n",
              "      <th>Brooklyn</th>\n",
              "      <td>64.808989</td>\n",
              "      <td>89</td>\n",
              "    </tr>\n",
              "    <tr>\n",
              "      <th>Elmhurst</th>\n",
              "      <th>Queens</th>\n",
              "      <td>66.682796</td>\n",
              "      <td>186</td>\n",
              "    </tr>\n",
              "  </tbody>\n",
              "</table>\n",
              "</div>"
            ],
            "text/plain": [
              "                                             mean count\n",
              "                                            price price\n",
              "neighbourhood      neighbourhood_group                 \n",
              "Hunts Point        Bronx                50.523810    21\n",
              "University Heights Bronx                52.950000    20\n",
              "Soundview          Bronx                53.142857    14\n",
              "Corona             Queens               55.368421    57\n",
              "Belmont            Bronx                59.923077    13\n",
              "Schuylerville      Bronx                59.923077    13\n",
              "Glendale           Queens               62.025000    40\n",
              "Woodside           Queens               64.126168   214\n",
              "Borough Park       Brooklyn             64.808989    89\n",
              "Elmhurst           Queens               66.682796   186"
            ]
          },
          "metadata": {
            "tags": []
          },
          "execution_count": 37
        }
      ]
    },
    {
      "cell_type": "code",
      "metadata": {
        "id": "c-aBG5iNw9hA",
        "colab": {
          "base_uri": "https://localhost:8080/",
          "height": 421
        },
        "outputId": "b8d4b2f8-9b1c-40be-afc7-6e33e9c8ea66"
      },
      "source": [
        "nyc_21_top_cheap = grouper_func(nyc_21[nyc_21['was_rented']==1], ['price'], ['neighbourhood','neighbourhood_group'], ['mean','count'])\n",
        "filt = nyc_21_top_cheap[('count','price')]>10\n",
        "nyc_21_top_cheap1 = nyc_21_top_cheap[filt]\n",
        "nyc_21_top_cheap1.sort_values(('mean','price'),ascending=True).head(10)"
      ],
      "execution_count": null,
      "outputs": [
        {
          "output_type": "execute_result",
          "data": {
            "text/html": [
              "<div>\n",
              "<style scoped>\n",
              "    .dataframe tbody tr th:only-of-type {\n",
              "        vertical-align: middle;\n",
              "    }\n",
              "\n",
              "    .dataframe tbody tr th {\n",
              "        vertical-align: top;\n",
              "    }\n",
              "\n",
              "    .dataframe thead tr th {\n",
              "        text-align: left;\n",
              "    }\n",
              "\n",
              "    .dataframe thead tr:last-of-type th {\n",
              "        text-align: right;\n",
              "    }\n",
              "</style>\n",
              "<table border=\"1\" class=\"dataframe\">\n",
              "  <thead>\n",
              "    <tr>\n",
              "      <th></th>\n",
              "      <th></th>\n",
              "      <th>mean</th>\n",
              "      <th>count</th>\n",
              "    </tr>\n",
              "    <tr>\n",
              "      <th></th>\n",
              "      <th></th>\n",
              "      <th>price</th>\n",
              "      <th>price</th>\n",
              "    </tr>\n",
              "    <tr>\n",
              "      <th>neighbourhood</th>\n",
              "      <th>neighbourhood_group</th>\n",
              "      <th></th>\n",
              "      <th></th>\n",
              "    </tr>\n",
              "  </thead>\n",
              "  <tbody>\n",
              "    <tr>\n",
              "      <th>University Heights</th>\n",
              "      <th>Bronx</th>\n",
              "      <td>45.071429</td>\n",
              "      <td>14</td>\n",
              "    </tr>\n",
              "    <tr>\n",
              "      <th>Hunts Point</th>\n",
              "      <th>Bronx</th>\n",
              "      <td>47.705882</td>\n",
              "      <td>17</td>\n",
              "    </tr>\n",
              "    <tr>\n",
              "      <th>Soundview</th>\n",
              "      <th>Bronx</th>\n",
              "      <td>53.636364</td>\n",
              "      <td>11</td>\n",
              "    </tr>\n",
              "    <tr>\n",
              "      <th>Woodside</th>\n",
              "      <th>Queens</th>\n",
              "      <td>57.622549</td>\n",
              "      <td>204</td>\n",
              "    </tr>\n",
              "    <tr>\n",
              "      <th>Corona</th>\n",
              "      <th>Queens</th>\n",
              "      <td>57.642857</td>\n",
              "      <td>42</td>\n",
              "    </tr>\n",
              "    <tr>\n",
              "      <th>Bronxdale</th>\n",
              "      <th>Bronx</th>\n",
              "      <td>62.866667</td>\n",
              "      <td>15</td>\n",
              "    </tr>\n",
              "    <tr>\n",
              "      <th>Borough Park</th>\n",
              "      <th>Brooklyn</th>\n",
              "      <td>66.388060</td>\n",
              "      <td>67</td>\n",
              "    </tr>\n",
              "    <tr>\n",
              "      <th>Elmhurst</th>\n",
              "      <th>Queens</th>\n",
              "      <td>67.649425</td>\n",
              "      <td>174</td>\n",
              "    </tr>\n",
              "    <tr>\n",
              "      <th>Woodhaven</th>\n",
              "      <th>Queens</th>\n",
              "      <td>69.694915</td>\n",
              "      <td>59</td>\n",
              "    </tr>\n",
              "    <tr>\n",
              "      <th>Glendale</th>\n",
              "      <th>Queens</th>\n",
              "      <td>69.842105</td>\n",
              "      <td>38</td>\n",
              "    </tr>\n",
              "  </tbody>\n",
              "</table>\n",
              "</div>"
            ],
            "text/plain": [
              "                                             mean count\n",
              "                                            price price\n",
              "neighbourhood      neighbourhood_group                 \n",
              "University Heights Bronx                45.071429    14\n",
              "Hunts Point        Bronx                47.705882    17\n",
              "Soundview          Bronx                53.636364    11\n",
              "Woodside           Queens               57.622549   204\n",
              "Corona             Queens               57.642857    42\n",
              "Bronxdale          Bronx                62.866667    15\n",
              "Borough Park       Brooklyn             66.388060    67\n",
              "Elmhurst           Queens               67.649425   174\n",
              "Woodhaven          Queens               69.694915    59\n",
              "Glendale           Queens               69.842105    38"
            ]
          },
          "metadata": {
            "tags": []
          },
          "execution_count": 38
        }
      ]
    },
    {
      "cell_type": "markdown",
      "metadata": {
        "id": "TjUlZAXaxcHr"
      },
      "source": [
        "###### 10 barrios más populares (Cantidad de listings)"
      ]
    },
    {
      "cell_type": "code",
      "metadata": {
        "id": "F-Y8HMe-xiOK",
        "colab": {
          "base_uri": "https://localhost:8080/",
          "height": 421
        },
        "outputId": "b760f06f-4a47-4403-a30f-f9270fbc6f87"
      },
      "source": [
        "nyc_20_top_popular = grouper_func(nyc_20[nyc_20['was_rented']==1], ['price'], ['neighbourhood','neighbourhood_group'], ['mean','count'])\n",
        "nyc_20_top_popular.sort_values(('count','price'),ascending=False).head(10)"
      ],
      "execution_count": null,
      "outputs": [
        {
          "output_type": "execute_result",
          "data": {
            "text/html": [
              "<div>\n",
              "<style scoped>\n",
              "    .dataframe tbody tr th:only-of-type {\n",
              "        vertical-align: middle;\n",
              "    }\n",
              "\n",
              "    .dataframe tbody tr th {\n",
              "        vertical-align: top;\n",
              "    }\n",
              "\n",
              "    .dataframe thead tr th {\n",
              "        text-align: left;\n",
              "    }\n",
              "\n",
              "    .dataframe thead tr:last-of-type th {\n",
              "        text-align: right;\n",
              "    }\n",
              "</style>\n",
              "<table border=\"1\" class=\"dataframe\">\n",
              "  <thead>\n",
              "    <tr>\n",
              "      <th></th>\n",
              "      <th></th>\n",
              "      <th>mean</th>\n",
              "      <th>count</th>\n",
              "    </tr>\n",
              "    <tr>\n",
              "      <th></th>\n",
              "      <th></th>\n",
              "      <th>price</th>\n",
              "      <th>price</th>\n",
              "    </tr>\n",
              "    <tr>\n",
              "      <th>neighbourhood</th>\n",
              "      <th>neighbourhood_group</th>\n",
              "      <th></th>\n",
              "      <th></th>\n",
              "    </tr>\n",
              "  </thead>\n",
              "  <tbody>\n",
              "    <tr>\n",
              "      <th>Bedford-Stuyvesant</th>\n",
              "      <th>Brooklyn</th>\n",
              "      <td>106.719955</td>\n",
              "      <td>2671</td>\n",
              "    </tr>\n",
              "    <tr>\n",
              "      <th>Williamsburg</th>\n",
              "      <th>Brooklyn</th>\n",
              "      <td>130.831981</td>\n",
              "      <td>2589</td>\n",
              "    </tr>\n",
              "    <tr>\n",
              "      <th>Harlem</th>\n",
              "      <th>Manhattan</th>\n",
              "      <td>117.307300</td>\n",
              "      <td>1959</td>\n",
              "    </tr>\n",
              "    <tr>\n",
              "      <th>Bushwick</th>\n",
              "      <th>Brooklyn</th>\n",
              "      <td>84.810644</td>\n",
              "      <td>1616</td>\n",
              "    </tr>\n",
              "    <tr>\n",
              "      <th>Upper West Side</th>\n",
              "      <th>Manhattan</th>\n",
              "      <td>186.170953</td>\n",
              "      <td>1322</td>\n",
              "    </tr>\n",
              "    <tr>\n",
              "      <th>Hell's Kitchen</th>\n",
              "      <th>Manhattan</th>\n",
              "      <td>189.850946</td>\n",
              "      <td>1268</td>\n",
              "    </tr>\n",
              "    <tr>\n",
              "      <th>East Village</th>\n",
              "      <th>Manhattan</th>\n",
              "      <td>166.498774</td>\n",
              "      <td>1223</td>\n",
              "    </tr>\n",
              "    <tr>\n",
              "      <th>Upper East Side</th>\n",
              "      <th>Manhattan</th>\n",
              "      <td>169.165965</td>\n",
              "      <td>1187</td>\n",
              "    </tr>\n",
              "    <tr>\n",
              "      <th>Crown Heights</th>\n",
              "      <th>Brooklyn</th>\n",
              "      <td>114.731465</td>\n",
              "      <td>1106</td>\n",
              "    </tr>\n",
              "    <tr>\n",
              "      <th>Midtown</th>\n",
              "      <th>Manhattan</th>\n",
              "      <td>251.374753</td>\n",
              "      <td>1014</td>\n",
              "    </tr>\n",
              "  </tbody>\n",
              "</table>\n",
              "</div>"
            ],
            "text/plain": [
              "                                              mean count\n",
              "                                             price price\n",
              "neighbourhood      neighbourhood_group                  \n",
              "Bedford-Stuyvesant Brooklyn             106.719955  2671\n",
              "Williamsburg       Brooklyn             130.831981  2589\n",
              "Harlem             Manhattan            117.307300  1959\n",
              "Bushwick           Brooklyn              84.810644  1616\n",
              "Upper West Side    Manhattan            186.170953  1322\n",
              "Hell's Kitchen     Manhattan            189.850946  1268\n",
              "East Village       Manhattan            166.498774  1223\n",
              "Upper East Side    Manhattan            169.165965  1187\n",
              "Crown Heights      Brooklyn             114.731465  1106\n",
              "Midtown            Manhattan            251.374753  1014"
            ]
          },
          "metadata": {
            "tags": []
          },
          "execution_count": 39
        }
      ]
    },
    {
      "cell_type": "code",
      "metadata": {
        "id": "x0sFOncExsKU",
        "colab": {
          "base_uri": "https://localhost:8080/",
          "height": 421
        },
        "outputId": "25b4a8b9-3dda-4000-a980-198468586bde"
      },
      "source": [
        "nyc_21_top_popular = grouper_func(nyc_21[nyc_21['was_rented']==1], ['price'], ['neighbourhood','neighbourhood_group'], ['mean','count'])\n",
        "nyc_21_top_popular.sort_values(('count','price'),ascending=False).head(10)"
      ],
      "execution_count": null,
      "outputs": [
        {
          "output_type": "execute_result",
          "data": {
            "text/html": [
              "<div>\n",
              "<style scoped>\n",
              "    .dataframe tbody tr th:only-of-type {\n",
              "        vertical-align: middle;\n",
              "    }\n",
              "\n",
              "    .dataframe tbody tr th {\n",
              "        vertical-align: top;\n",
              "    }\n",
              "\n",
              "    .dataframe thead tr th {\n",
              "        text-align: left;\n",
              "    }\n",
              "\n",
              "    .dataframe thead tr:last-of-type th {\n",
              "        text-align: right;\n",
              "    }\n",
              "</style>\n",
              "<table border=\"1\" class=\"dataframe\">\n",
              "  <thead>\n",
              "    <tr>\n",
              "      <th></th>\n",
              "      <th></th>\n",
              "      <th>mean</th>\n",
              "      <th>count</th>\n",
              "    </tr>\n",
              "    <tr>\n",
              "      <th></th>\n",
              "      <th></th>\n",
              "      <th>price</th>\n",
              "      <th>price</th>\n",
              "    </tr>\n",
              "    <tr>\n",
              "      <th>neighbourhood</th>\n",
              "      <th>neighbourhood_group</th>\n",
              "      <th></th>\n",
              "      <th></th>\n",
              "    </tr>\n",
              "  </thead>\n",
              "  <tbody>\n",
              "    <tr>\n",
              "      <th>Bedford-Stuyvesant</th>\n",
              "      <th>Brooklyn</th>\n",
              "      <td>114.465829</td>\n",
              "      <td>1990</td>\n",
              "    </tr>\n",
              "    <tr>\n",
              "      <th>Williamsburg</th>\n",
              "      <th>Brooklyn</th>\n",
              "      <td>132.676946</td>\n",
              "      <td>1978</td>\n",
              "    </tr>\n",
              "    <tr>\n",
              "      <th>Harlem</th>\n",
              "      <th>Manhattan</th>\n",
              "      <td>109.928571</td>\n",
              "      <td>1414</td>\n",
              "    </tr>\n",
              "    <tr>\n",
              "      <th>Bushwick</th>\n",
              "      <th>Brooklyn</th>\n",
              "      <td>90.106494</td>\n",
              "      <td>1155</td>\n",
              "    </tr>\n",
              "    <tr>\n",
              "      <th>Upper West Side</th>\n",
              "      <th>Manhattan</th>\n",
              "      <td>194.776639</td>\n",
              "      <td>976</td>\n",
              "    </tr>\n",
              "    <tr>\n",
              "      <th>East Village</th>\n",
              "      <th>Manhattan</th>\n",
              "      <td>177.034372</td>\n",
              "      <td>931</td>\n",
              "    </tr>\n",
              "    <tr>\n",
              "      <th>Hell's Kitchen</th>\n",
              "      <th>Manhattan</th>\n",
              "      <td>187.909483</td>\n",
              "      <td>928</td>\n",
              "    </tr>\n",
              "    <tr>\n",
              "      <th>Upper East Side</th>\n",
              "      <th>Manhattan</th>\n",
              "      <td>161.977901</td>\n",
              "      <td>905</td>\n",
              "    </tr>\n",
              "    <tr>\n",
              "      <th>Midtown</th>\n",
              "      <th>Manhattan</th>\n",
              "      <td>217.149830</td>\n",
              "      <td>881</td>\n",
              "    </tr>\n",
              "    <tr>\n",
              "      <th>Crown Heights</th>\n",
              "      <th>Brooklyn</th>\n",
              "      <td>113.889273</td>\n",
              "      <td>867</td>\n",
              "    </tr>\n",
              "  </tbody>\n",
              "</table>\n",
              "</div>"
            ],
            "text/plain": [
              "                                              mean count\n",
              "                                             price price\n",
              "neighbourhood      neighbourhood_group                  \n",
              "Bedford-Stuyvesant Brooklyn             114.465829  1990\n",
              "Williamsburg       Brooklyn             132.676946  1978\n",
              "Harlem             Manhattan            109.928571  1414\n",
              "Bushwick           Brooklyn              90.106494  1155\n",
              "Upper West Side    Manhattan            194.776639   976\n",
              "East Village       Manhattan            177.034372   931\n",
              "Hell's Kitchen     Manhattan            187.909483   928\n",
              "Upper East Side    Manhattan            161.977901   905\n",
              "Midtown            Manhattan            217.149830   881\n",
              "Crown Heights      Brooklyn             113.889273   867"
            ]
          },
          "metadata": {
            "tags": []
          },
          "execution_count": 40
        }
      ]
    },
    {
      "cell_type": "markdown",
      "metadata": {
        "id": "KFlxnSqLx07A"
      },
      "source": [
        "###### 10 barrios menos populares (ctdad de listings)."
      ]
    },
    {
      "cell_type": "code",
      "metadata": {
        "id": "R7V1bQ7Fx1a4",
        "colab": {
          "base_uri": "https://localhost:8080/",
          "height": 421
        },
        "outputId": "6d0c7f00-7f8a-4333-be4a-6bae13078cbd"
      },
      "source": [
        "nyc_20_top_less_popular = grouper_func(nyc_20[nyc_20['was_rented']==1], ['price'], ['neighbourhood','neighbourhood_group'], ['mean','count'])\n",
        "nyc_20_top_less_popular.sort_values(('count','price'),ascending=True).head(10)"
      ],
      "execution_count": null,
      "outputs": [
        {
          "output_type": "execute_result",
          "data": {
            "text/html": [
              "<div>\n",
              "<style scoped>\n",
              "    .dataframe tbody tr th:only-of-type {\n",
              "        vertical-align: middle;\n",
              "    }\n",
              "\n",
              "    .dataframe tbody tr th {\n",
              "        vertical-align: top;\n",
              "    }\n",
              "\n",
              "    .dataframe thead tr th {\n",
              "        text-align: left;\n",
              "    }\n",
              "\n",
              "    .dataframe thead tr:last-of-type th {\n",
              "        text-align: right;\n",
              "    }\n",
              "</style>\n",
              "<table border=\"1\" class=\"dataframe\">\n",
              "  <thead>\n",
              "    <tr>\n",
              "      <th></th>\n",
              "      <th></th>\n",
              "      <th>mean</th>\n",
              "      <th>count</th>\n",
              "    </tr>\n",
              "    <tr>\n",
              "      <th></th>\n",
              "      <th></th>\n",
              "      <th>price</th>\n",
              "      <th>price</th>\n",
              "    </tr>\n",
              "    <tr>\n",
              "      <th>neighbourhood</th>\n",
              "      <th>neighbourhood_group</th>\n",
              "      <th></th>\n",
              "      <th></th>\n",
              "    </tr>\n",
              "  </thead>\n",
              "  <tbody>\n",
              "    <tr>\n",
              "      <th>Huguenot</th>\n",
              "      <th>Staten Island</th>\n",
              "      <td>180.0</td>\n",
              "      <td>1</td>\n",
              "    </tr>\n",
              "    <tr>\n",
              "      <th>Holliswood</th>\n",
              "      <th>Queens</th>\n",
              "      <td>79.0</td>\n",
              "      <td>1</td>\n",
              "    </tr>\n",
              "    <tr>\n",
              "      <th>Rossville</th>\n",
              "      <th>Staten Island</th>\n",
              "      <td>60.0</td>\n",
              "      <td>1</td>\n",
              "    </tr>\n",
              "    <tr>\n",
              "      <th>Tottenville</th>\n",
              "      <th>Staten Island</th>\n",
              "      <td>309.0</td>\n",
              "      <td>1</td>\n",
              "    </tr>\n",
              "    <tr>\n",
              "      <th>New Dorp</th>\n",
              "      <th>Staten Island</th>\n",
              "      <td>175.0</td>\n",
              "      <td>1</td>\n",
              "    </tr>\n",
              "    <tr>\n",
              "      <th>Willowbrook</th>\n",
              "      <th>Staten Island</th>\n",
              "      <td>309.0</td>\n",
              "      <td>1</td>\n",
              "    </tr>\n",
              "    <tr>\n",
              "      <th>Prince's Bay</th>\n",
              "      <th>Staten Island</th>\n",
              "      <td>145.0</td>\n",
              "      <td>1</td>\n",
              "    </tr>\n",
              "    <tr>\n",
              "      <th>Castle Hill</th>\n",
              "      <th>Bronx</th>\n",
              "      <td>68.5</td>\n",
              "      <td>2</td>\n",
              "    </tr>\n",
              "    <tr>\n",
              "      <th>Graniteville</th>\n",
              "      <th>Staten Island</th>\n",
              "      <td>80.5</td>\n",
              "      <td>2</td>\n",
              "    </tr>\n",
              "    <tr>\n",
              "      <th>Richmondtown</th>\n",
              "      <th>Staten Island</th>\n",
              "      <td>88.0</td>\n",
              "      <td>2</td>\n",
              "    </tr>\n",
              "  </tbody>\n",
              "</table>\n",
              "</div>"
            ],
            "text/plain": [
              "                                    mean count\n",
              "                                   price price\n",
              "neighbourhood neighbourhood_group             \n",
              "Huguenot      Staten Island        180.0     1\n",
              "Holliswood    Queens                79.0     1\n",
              "Rossville     Staten Island         60.0     1\n",
              "Tottenville   Staten Island        309.0     1\n",
              "New Dorp      Staten Island        175.0     1\n",
              "Willowbrook   Staten Island        309.0     1\n",
              "Prince's Bay  Staten Island        145.0     1\n",
              "Castle Hill   Bronx                 68.5     2\n",
              "Graniteville  Staten Island         80.5     2\n",
              "Richmondtown  Staten Island         88.0     2"
            ]
          },
          "metadata": {
            "tags": []
          },
          "execution_count": 41
        }
      ]
    },
    {
      "cell_type": "code",
      "metadata": {
        "id": "svHeU8X_yCB3",
        "colab": {
          "base_uri": "https://localhost:8080/",
          "height": 421
        },
        "outputId": "26d2df36-0078-42cb-d9e6-95ccdb95c7f7"
      },
      "source": [
        "nyc_21_top_less_popular = grouper_func(nyc_21[nyc_21['was_rented']==1], ['price'], ['neighbourhood','neighbourhood_group'], ['mean','count'])\n",
        "nyc_21_top_less_popular.sort_values(('count','price'),ascending=True).head(10)"
      ],
      "execution_count": null,
      "outputs": [
        {
          "output_type": "execute_result",
          "data": {
            "text/html": [
              "<div>\n",
              "<style scoped>\n",
              "    .dataframe tbody tr th:only-of-type {\n",
              "        vertical-align: middle;\n",
              "    }\n",
              "\n",
              "    .dataframe tbody tr th {\n",
              "        vertical-align: top;\n",
              "    }\n",
              "\n",
              "    .dataframe thead tr th {\n",
              "        text-align: left;\n",
              "    }\n",
              "\n",
              "    .dataframe thead tr:last-of-type th {\n",
              "        text-align: right;\n",
              "    }\n",
              "</style>\n",
              "<table border=\"1\" class=\"dataframe\">\n",
              "  <thead>\n",
              "    <tr>\n",
              "      <th></th>\n",
              "      <th></th>\n",
              "      <th>mean</th>\n",
              "      <th>count</th>\n",
              "    </tr>\n",
              "    <tr>\n",
              "      <th></th>\n",
              "      <th></th>\n",
              "      <th>price</th>\n",
              "      <th>price</th>\n",
              "    </tr>\n",
              "    <tr>\n",
              "      <th>neighbourhood</th>\n",
              "      <th>neighbourhood_group</th>\n",
              "      <th></th>\n",
              "      <th></th>\n",
              "    </tr>\n",
              "  </thead>\n",
              "  <tbody>\n",
              "    <tr>\n",
              "      <th>Lighthouse Hill</th>\n",
              "      <th>Staten Island</th>\n",
              "      <td>210.0</td>\n",
              "      <td>1</td>\n",
              "    </tr>\n",
              "    <tr>\n",
              "      <th>Willowbrook</th>\n",
              "      <th>Staten Island</th>\n",
              "      <td>309.0</td>\n",
              "      <td>1</td>\n",
              "    </tr>\n",
              "    <tr>\n",
              "      <th>Graniteville</th>\n",
              "      <th>Staten Island</th>\n",
              "      <td>45.0</td>\n",
              "      <td>1</td>\n",
              "    </tr>\n",
              "    <tr>\n",
              "      <th>Eltingville</th>\n",
              "      <th>Staten Island</th>\n",
              "      <td>85.0</td>\n",
              "      <td>1</td>\n",
              "    </tr>\n",
              "    <tr>\n",
              "      <th>Westerleigh</th>\n",
              "      <th>Staten Island</th>\n",
              "      <td>94.0</td>\n",
              "      <td>1</td>\n",
              "    </tr>\n",
              "    <tr>\n",
              "      <th>Gerritsen Beach</th>\n",
              "      <th>Brooklyn</th>\n",
              "      <td>85.0</td>\n",
              "      <td>1</td>\n",
              "    </tr>\n",
              "    <tr>\n",
              "      <th>Todt Hill</th>\n",
              "      <th>Staten Island</th>\n",
              "      <td>69.0</td>\n",
              "      <td>1</td>\n",
              "    </tr>\n",
              "    <tr>\n",
              "      <th>Prince's Bay</th>\n",
              "      <th>Staten Island</th>\n",
              "      <td>145.0</td>\n",
              "      <td>1</td>\n",
              "    </tr>\n",
              "    <tr>\n",
              "      <th>West Farms</th>\n",
              "      <th>Bronx</th>\n",
              "      <td>65.0</td>\n",
              "      <td>1</td>\n",
              "    </tr>\n",
              "    <tr>\n",
              "      <th>Neponsit</th>\n",
              "      <th>Queens</th>\n",
              "      <td>200.0</td>\n",
              "      <td>1</td>\n",
              "    </tr>\n",
              "  </tbody>\n",
              "</table>\n",
              "</div>"
            ],
            "text/plain": [
              "                                      mean count\n",
              "                                     price price\n",
              "neighbourhood   neighbourhood_group             \n",
              "Lighthouse Hill Staten Island        210.0     1\n",
              "Willowbrook     Staten Island        309.0     1\n",
              "Graniteville    Staten Island         45.0     1\n",
              "Eltingville     Staten Island         85.0     1\n",
              "Westerleigh     Staten Island         94.0     1\n",
              "Gerritsen Beach Brooklyn              85.0     1\n",
              "Todt Hill       Staten Island         69.0     1\n",
              "Prince's Bay    Staten Island        145.0     1\n",
              "West Farms      Bronx                 65.0     1\n",
              "Neponsit        Queens               200.0     1"
            ]
          },
          "metadata": {
            "tags": []
          },
          "execution_count": 42
        }
      ]
    },
    {
      "cell_type": "markdown",
      "metadata": {
        "id": "6i3sFv3Ce_SC"
      },
      "source": [
        "##### Grafico comparativo de Barios"
      ]
    },
    {
      "cell_type": "markdown",
      "metadata": {
        "id": "frwJKLJZfyQv"
      },
      "source": [
        "###### Precios"
      ]
    },
    {
      "cell_type": "code",
      "metadata": {
        "id": "fQMKruVUfCv1",
        "colab": {
          "base_uri": "https://localhost:8080/",
          "height": 542
        },
        "outputId": "c976b8d3-641e-42ef-b8a9-b0dd32fe8615"
      },
      "source": [
        "legend = nyc_20_pivote.index\n",
        "\n",
        "fig = go.Figure()\n",
        "fig.add_trace(go.Bar(\n",
        "    x=legend,\n",
        "    y=nyc_20_pivote['rented']['price'],\n",
        "    name='Rented',\n",
        "    marker_color='green'\n",
        "))\n",
        "fig.add_trace(go.Bar(\n",
        "    x=legend,\n",
        "    y=nyc_20_pivote['not_rented'],\n",
        "    name='Not Rented',\n",
        "    marker_color='red'\n",
        "))\n",
        "\n",
        "\n",
        "fig.update_layout( title=\"Comparativo de precio promedio por Neighbourhood 2020\",\n",
        "                  barmode='group',\n",
        "                  font=dict(\n",
        "                          size=20,\n",
        "                          color=\"Black\"\n",
        "                      ),\n",
        "                  xaxis_tickangle=-45)\n",
        "fig.show()"
      ],
      "execution_count": null,
      "outputs": [
        {
          "output_type": "display_data",
          "data": {
            "text/html": [
              "<html>\n",
              "<head><meta charset=\"utf-8\" /></head>\n",
              "<body>\n",
              "    <div>\n",
              "            <script src=\"https://cdnjs.cloudflare.com/ajax/libs/mathjax/2.7.5/MathJax.js?config=TeX-AMS-MML_SVG\"></script><script type=\"text/javascript\">if (window.MathJax) {MathJax.Hub.Config({SVG: {font: \"STIX-Web\"}});}</script>\n",
              "                <script type=\"text/javascript\">window.PlotlyConfig = {MathJaxConfig: 'local'};</script>\n",
              "        <script src=\"https://cdn.plot.ly/plotly-latest.min.js\"></script>    \n",
              "            <div id=\"3063f355-4584-4f00-8cb2-752c6e8f0dde\" class=\"plotly-graph-div\" style=\"height:525px; width:100%;\"></div>\n",
              "            <script type=\"text/javascript\">\n",
              "                \n",
              "                    window.PLOTLYENV=window.PLOTLYENV || {};\n",
              "                    \n",
              "                if (document.getElementById(\"3063f355-4584-4f00-8cb2-752c6e8f0dde\")) {\n",
              "                    Plotly.newPlot(\n",
              "                        '3063f355-4584-4f00-8cb2-752c6e8f0dde',\n",
              "                        [{\"marker\": {\"color\": \"green\"}, \"name\": \"Rented\", \"type\": \"bar\", \"x\": [\"Bronx\", \"Brooklyn\", \"Manhattan\", \"Queens\", \"Staten Island\"], \"y\": [86.40780911062907, 118.77054383861184, 173.63834498028092, 102.94763670064874, 94.98069498069498]}, {\"marker\": {\"color\": \"red\"}, \"name\": \"Not Rented\", \"type\": \"bar\", \"x\": [\"Bronx\", \"Brooklyn\", \"Manhattan\", \"Queens\", \"Staten Island\"], \"y\": [113.57142857142857, 126.54781420765028, 250.22331753554502, 106.82645914396888, 195.76363636363635]}],\n",
              "                        {\"barmode\": \"group\", \"font\": {\"color\": \"Black\", \"size\": 20}, \"template\": {\"data\": {\"bar\": [{\"error_x\": {\"color\": \"#2a3f5f\"}, \"error_y\": {\"color\": \"#2a3f5f\"}, \"marker\": {\"line\": {\"color\": \"#E5ECF6\", \"width\": 0.5}}, \"type\": \"bar\"}], \"barpolar\": [{\"marker\": {\"line\": {\"color\": \"#E5ECF6\", \"width\": 0.5}}, \"type\": \"barpolar\"}], \"carpet\": [{\"aaxis\": {\"endlinecolor\": \"#2a3f5f\", \"gridcolor\": \"white\", \"linecolor\": \"white\", \"minorgridcolor\": \"white\", \"startlinecolor\": \"#2a3f5f\"}, \"baxis\": {\"endlinecolor\": \"#2a3f5f\", \"gridcolor\": \"white\", \"linecolor\": \"white\", \"minorgridcolor\": \"white\", \"startlinecolor\": \"#2a3f5f\"}, \"type\": \"carpet\"}], \"choropleth\": [{\"colorbar\": {\"outlinewidth\": 0, \"ticks\": \"\"}, \"type\": \"choropleth\"}], \"contour\": [{\"colorbar\": {\"outlinewidth\": 0, \"ticks\": \"\"}, \"colorscale\": [[0.0, \"#0d0887\"], [0.1111111111111111, \"#46039f\"], [0.2222222222222222, \"#7201a8\"], [0.3333333333333333, \"#9c179e\"], [0.4444444444444444, \"#bd3786\"], [0.5555555555555556, \"#d8576b\"], [0.6666666666666666, \"#ed7953\"], [0.7777777777777778, \"#fb9f3a\"], [0.8888888888888888, \"#fdca26\"], [1.0, \"#f0f921\"]], \"type\": \"contour\"}], \"contourcarpet\": [{\"colorbar\": {\"outlinewidth\": 0, \"ticks\": \"\"}, \"type\": \"contourcarpet\"}], \"heatmap\": [{\"colorbar\": {\"outlinewidth\": 0, \"ticks\": \"\"}, \"colorscale\": [[0.0, \"#0d0887\"], [0.1111111111111111, \"#46039f\"], [0.2222222222222222, \"#7201a8\"], [0.3333333333333333, \"#9c179e\"], [0.4444444444444444, \"#bd3786\"], [0.5555555555555556, \"#d8576b\"], [0.6666666666666666, \"#ed7953\"], [0.7777777777777778, \"#fb9f3a\"], [0.8888888888888888, \"#fdca26\"], [1.0, \"#f0f921\"]], \"type\": \"heatmap\"}], \"heatmapgl\": [{\"colorbar\": {\"outlinewidth\": 0, \"ticks\": \"\"}, \"colorscale\": [[0.0, \"#0d0887\"], [0.1111111111111111, \"#46039f\"], [0.2222222222222222, \"#7201a8\"], [0.3333333333333333, \"#9c179e\"], [0.4444444444444444, \"#bd3786\"], [0.5555555555555556, \"#d8576b\"], [0.6666666666666666, \"#ed7953\"], [0.7777777777777778, \"#fb9f3a\"], [0.8888888888888888, \"#fdca26\"], [1.0, \"#f0f921\"]], \"type\": \"heatmapgl\"}], \"histogram\": [{\"marker\": {\"colorbar\": {\"outlinewidth\": 0, \"ticks\": \"\"}}, \"type\": \"histogram\"}], \"histogram2d\": [{\"colorbar\": {\"outlinewidth\": 0, \"ticks\": \"\"}, \"colorscale\": [[0.0, \"#0d0887\"], [0.1111111111111111, \"#46039f\"], [0.2222222222222222, \"#7201a8\"], [0.3333333333333333, \"#9c179e\"], [0.4444444444444444, \"#bd3786\"], [0.5555555555555556, \"#d8576b\"], [0.6666666666666666, \"#ed7953\"], [0.7777777777777778, \"#fb9f3a\"], [0.8888888888888888, \"#fdca26\"], [1.0, \"#f0f921\"]], \"type\": \"histogram2d\"}], \"histogram2dcontour\": [{\"colorbar\": {\"outlinewidth\": 0, \"ticks\": \"\"}, \"colorscale\": [[0.0, \"#0d0887\"], [0.1111111111111111, \"#46039f\"], [0.2222222222222222, \"#7201a8\"], [0.3333333333333333, \"#9c179e\"], [0.4444444444444444, \"#bd3786\"], [0.5555555555555556, \"#d8576b\"], [0.6666666666666666, \"#ed7953\"], [0.7777777777777778, \"#fb9f3a\"], [0.8888888888888888, \"#fdca26\"], [1.0, \"#f0f921\"]], \"type\": \"histogram2dcontour\"}], \"mesh3d\": [{\"colorbar\": {\"outlinewidth\": 0, \"ticks\": \"\"}, \"type\": \"mesh3d\"}], \"parcoords\": [{\"line\": {\"colorbar\": {\"outlinewidth\": 0, \"ticks\": \"\"}}, \"type\": \"parcoords\"}], \"pie\": [{\"automargin\": true, \"type\": \"pie\"}], \"scatter\": [{\"marker\": {\"colorbar\": {\"outlinewidth\": 0, \"ticks\": \"\"}}, \"type\": \"scatter\"}], \"scatter3d\": [{\"line\": {\"colorbar\": {\"outlinewidth\": 0, \"ticks\": \"\"}}, \"marker\": {\"colorbar\": {\"outlinewidth\": 0, \"ticks\": \"\"}}, \"type\": \"scatter3d\"}], \"scattercarpet\": [{\"marker\": {\"colorbar\": {\"outlinewidth\": 0, \"ticks\": \"\"}}, \"type\": \"scattercarpet\"}], \"scattergeo\": [{\"marker\": {\"colorbar\": {\"outlinewidth\": 0, \"ticks\": \"\"}}, \"type\": \"scattergeo\"}], \"scattergl\": [{\"marker\": {\"colorbar\": {\"outlinewidth\": 0, \"ticks\": \"\"}}, \"type\": \"scattergl\"}], \"scattermapbox\": [{\"marker\": {\"colorbar\": {\"outlinewidth\": 0, \"ticks\": \"\"}}, \"type\": \"scattermapbox\"}], \"scatterpolar\": [{\"marker\": {\"colorbar\": {\"outlinewidth\": 0, \"ticks\": \"\"}}, \"type\": \"scatterpolar\"}], \"scatterpolargl\": [{\"marker\": {\"colorbar\": {\"outlinewidth\": 0, \"ticks\": \"\"}}, \"type\": \"scatterpolargl\"}], \"scatterternary\": [{\"marker\": {\"colorbar\": {\"outlinewidth\": 0, \"ticks\": \"\"}}, \"type\": \"scatterternary\"}], \"surface\": [{\"colorbar\": {\"outlinewidth\": 0, \"ticks\": \"\"}, \"colorscale\": [[0.0, \"#0d0887\"], [0.1111111111111111, \"#46039f\"], [0.2222222222222222, \"#7201a8\"], [0.3333333333333333, \"#9c179e\"], [0.4444444444444444, \"#bd3786\"], [0.5555555555555556, \"#d8576b\"], [0.6666666666666666, \"#ed7953\"], [0.7777777777777778, \"#fb9f3a\"], [0.8888888888888888, \"#fdca26\"], [1.0, \"#f0f921\"]], \"type\": \"surface\"}], \"table\": [{\"cells\": {\"fill\": {\"color\": \"#EBF0F8\"}, \"line\": {\"color\": \"white\"}}, \"header\": {\"fill\": {\"color\": \"#C8D4E3\"}, \"line\": {\"color\": \"white\"}}, \"type\": \"table\"}]}, \"layout\": {\"annotationdefaults\": {\"arrowcolor\": \"#2a3f5f\", \"arrowhead\": 0, \"arrowwidth\": 1}, \"coloraxis\": {\"colorbar\": {\"outlinewidth\": 0, \"ticks\": \"\"}}, \"colorscale\": {\"diverging\": [[0, \"#8e0152\"], [0.1, \"#c51b7d\"], [0.2, \"#de77ae\"], [0.3, \"#f1b6da\"], [0.4, \"#fde0ef\"], [0.5, \"#f7f7f7\"], [0.6, \"#e6f5d0\"], [0.7, \"#b8e186\"], [0.8, \"#7fbc41\"], [0.9, \"#4d9221\"], [1, \"#276419\"]], \"sequential\": [[0.0, \"#0d0887\"], [0.1111111111111111, \"#46039f\"], [0.2222222222222222, \"#7201a8\"], [0.3333333333333333, \"#9c179e\"], [0.4444444444444444, \"#bd3786\"], [0.5555555555555556, \"#d8576b\"], [0.6666666666666666, \"#ed7953\"], [0.7777777777777778, \"#fb9f3a\"], [0.8888888888888888, \"#fdca26\"], [1.0, \"#f0f921\"]], \"sequentialminus\": [[0.0, \"#0d0887\"], [0.1111111111111111, \"#46039f\"], [0.2222222222222222, \"#7201a8\"], [0.3333333333333333, \"#9c179e\"], [0.4444444444444444, \"#bd3786\"], [0.5555555555555556, \"#d8576b\"], [0.6666666666666666, \"#ed7953\"], [0.7777777777777778, \"#fb9f3a\"], [0.8888888888888888, \"#fdca26\"], [1.0, \"#f0f921\"]]}, \"colorway\": [\"#636efa\", \"#EF553B\", \"#00cc96\", \"#ab63fa\", \"#FFA15A\", \"#19d3f3\", \"#FF6692\", \"#B6E880\", \"#FF97FF\", \"#FECB52\"], \"font\": {\"color\": \"#2a3f5f\"}, \"geo\": {\"bgcolor\": \"white\", \"lakecolor\": \"white\", \"landcolor\": \"#E5ECF6\", \"showlakes\": true, \"showland\": true, \"subunitcolor\": \"white\"}, \"hoverlabel\": {\"align\": \"left\"}, \"hovermode\": \"closest\", \"mapbox\": {\"style\": \"light\"}, \"paper_bgcolor\": \"white\", \"plot_bgcolor\": \"#E5ECF6\", \"polar\": {\"angularaxis\": {\"gridcolor\": \"white\", \"linecolor\": \"white\", \"ticks\": \"\"}, \"bgcolor\": \"#E5ECF6\", \"radialaxis\": {\"gridcolor\": \"white\", \"linecolor\": \"white\", \"ticks\": \"\"}}, \"scene\": {\"xaxis\": {\"backgroundcolor\": \"#E5ECF6\", \"gridcolor\": \"white\", \"gridwidth\": 2, \"linecolor\": \"white\", \"showbackground\": true, \"ticks\": \"\", \"zerolinecolor\": \"white\"}, \"yaxis\": {\"backgroundcolor\": \"#E5ECF6\", \"gridcolor\": \"white\", \"gridwidth\": 2, \"linecolor\": \"white\", \"showbackground\": true, \"ticks\": \"\", \"zerolinecolor\": \"white\"}, \"zaxis\": {\"backgroundcolor\": \"#E5ECF6\", \"gridcolor\": \"white\", \"gridwidth\": 2, \"linecolor\": \"white\", \"showbackground\": true, \"ticks\": \"\", \"zerolinecolor\": \"white\"}}, \"shapedefaults\": {\"line\": {\"color\": \"#2a3f5f\"}}, \"ternary\": {\"aaxis\": {\"gridcolor\": \"white\", \"linecolor\": \"white\", \"ticks\": \"\"}, \"baxis\": {\"gridcolor\": \"white\", \"linecolor\": \"white\", \"ticks\": \"\"}, \"bgcolor\": \"#E5ECF6\", \"caxis\": {\"gridcolor\": \"white\", \"linecolor\": \"white\", \"ticks\": \"\"}}, \"title\": {\"x\": 0.05}, \"xaxis\": {\"automargin\": true, \"gridcolor\": \"white\", \"linecolor\": \"white\", \"ticks\": \"\", \"title\": {\"standoff\": 15}, \"zerolinecolor\": \"white\", \"zerolinewidth\": 2}, \"yaxis\": {\"automargin\": true, \"gridcolor\": \"white\", \"linecolor\": \"white\", \"ticks\": \"\", \"title\": {\"standoff\": 15}, \"zerolinecolor\": \"white\", \"zerolinewidth\": 2}}}, \"title\": {\"text\": \"Comparativo de precio promedio por Neighbourhood 2020\"}, \"xaxis\": {\"tickangle\": -45}},\n",
              "                        {\"responsive\": true}\n",
              "                    ).then(function(){\n",
              "                            \n",
              "var gd = document.getElementById('3063f355-4584-4f00-8cb2-752c6e8f0dde');\n",
              "var x = new MutationObserver(function (mutations, observer) {{\n",
              "        var display = window.getComputedStyle(gd).display;\n",
              "        if (!display || display === 'none') {{\n",
              "            console.log([gd, 'removed!']);\n",
              "            Plotly.purge(gd);\n",
              "            observer.disconnect();\n",
              "        }}\n",
              "}});\n",
              "\n",
              "// Listen for the removal of the full notebook cells\n",
              "var notebookContainer = gd.closest('#notebook-container');\n",
              "if (notebookContainer) {{\n",
              "    x.observe(notebookContainer, {childList: true});\n",
              "}}\n",
              "\n",
              "// Listen for the clearing of the current output cell\n",
              "var outputEl = gd.closest('.output');\n",
              "if (outputEl) {{\n",
              "    x.observe(outputEl, {childList: true});\n",
              "}}\n",
              "\n",
              "                        })\n",
              "                };\n",
              "                \n",
              "            </script>\n",
              "        </div>\n",
              "</body>\n",
              "</html>"
            ]
          },
          "metadata": {
            "tags": []
          }
        }
      ]
    },
    {
      "cell_type": "code",
      "metadata": {
        "id": "sI8caGNmgtRo",
        "colab": {
          "base_uri": "https://localhost:8080/",
          "height": 542
        },
        "outputId": "3fee4936-73a0-4ed5-bc5f-792d412f5f8d"
      },
      "source": [
        "legend = nyc_21_pivote.index\n",
        "\n",
        "fig = go.Figure()\n",
        "fig.add_trace(go.Bar(\n",
        "    x=legend,\n",
        "    y=nyc_21_pivote['rented']['price'],\n",
        "    name='Rented',\n",
        "    marker_color='green'\n",
        "))\n",
        "fig.add_trace(go.Bar(\n",
        "    x=legend,\n",
        "    y=nyc_21_pivote['not_rented'],\n",
        "    name='Not Rented',\n",
        "    marker_color='red'\n",
        "))\n",
        "\n",
        "\n",
        "fig.update_layout( title=\"Comparativo de precio promedio por Neighbourhood 2021\",\n",
        "                  barmode='group',\n",
        "                  font=dict(\n",
        "                          size=20,\n",
        "                          color=\"Black\"\n",
        "                      ),\n",
        "                  xaxis_tickangle=-45)\n",
        "fig.show()"
      ],
      "execution_count": null,
      "outputs": [
        {
          "output_type": "display_data",
          "data": {
            "text/html": [
              "<html>\n",
              "<head><meta charset=\"utf-8\" /></head>\n",
              "<body>\n",
              "    <div>\n",
              "            <script src=\"https://cdnjs.cloudflare.com/ajax/libs/mathjax/2.7.5/MathJax.js?config=TeX-AMS-MML_SVG\"></script><script type=\"text/javascript\">if (window.MathJax) {MathJax.Hub.Config({SVG: {font: \"STIX-Web\"}});}</script>\n",
              "                <script type=\"text/javascript\">window.PlotlyConfig = {MathJaxConfig: 'local'};</script>\n",
              "        <script src=\"https://cdn.plot.ly/plotly-latest.min.js\"></script>    \n",
              "            <div id=\"1d60243b-af67-4501-85ba-9d37cbd8827c\" class=\"plotly-graph-div\" style=\"height:525px; width:100%;\"></div>\n",
              "            <script type=\"text/javascript\">\n",
              "                \n",
              "                    window.PLOTLYENV=window.PLOTLYENV || {};\n",
              "                    \n",
              "                if (document.getElementById(\"1d60243b-af67-4501-85ba-9d37cbd8827c\")) {\n",
              "                    Plotly.newPlot(\n",
              "                        '1d60243b-af67-4501-85ba-9d37cbd8827c',\n",
              "                        [{\"marker\": {\"color\": \"green\"}, \"name\": \"Rented\", \"type\": \"bar\", \"x\": [\"Bronx\", \"Brooklyn\", \"Manhattan\", \"Queens\", \"Staten Island\"], \"y\": [88.28263795423958, 123.32713337695111, 174.36775705145536, 101.7271147161066, 98.07407407407408]}, {\"marker\": {\"color\": \"red\"}, \"name\": \"Not Rented\", \"type\": \"bar\", \"x\": [\"Bronx\", \"Brooklyn\", \"Manhattan\", \"Queens\", \"Staten Island\"], \"y\": [130.01276595744682, 124.81517747858017, 227.4099567099567, 102.08845208845209, 185.51063829787233]}],\n",
              "                        {\"barmode\": \"group\", \"font\": {\"color\": \"Black\", \"size\": 20}, \"template\": {\"data\": {\"bar\": [{\"error_x\": {\"color\": \"#2a3f5f\"}, \"error_y\": {\"color\": \"#2a3f5f\"}, \"marker\": {\"line\": {\"color\": \"#E5ECF6\", \"width\": 0.5}}, \"type\": \"bar\"}], \"barpolar\": [{\"marker\": {\"line\": {\"color\": \"#E5ECF6\", \"width\": 0.5}}, \"type\": \"barpolar\"}], \"carpet\": [{\"aaxis\": {\"endlinecolor\": \"#2a3f5f\", \"gridcolor\": \"white\", \"linecolor\": \"white\", \"minorgridcolor\": \"white\", \"startlinecolor\": \"#2a3f5f\"}, \"baxis\": {\"endlinecolor\": \"#2a3f5f\", \"gridcolor\": \"white\", \"linecolor\": \"white\", \"minorgridcolor\": \"white\", \"startlinecolor\": \"#2a3f5f\"}, \"type\": \"carpet\"}], \"choropleth\": [{\"colorbar\": {\"outlinewidth\": 0, \"ticks\": \"\"}, \"type\": \"choropleth\"}], \"contour\": [{\"colorbar\": {\"outlinewidth\": 0, \"ticks\": \"\"}, \"colorscale\": [[0.0, \"#0d0887\"], [0.1111111111111111, \"#46039f\"], [0.2222222222222222, \"#7201a8\"], [0.3333333333333333, \"#9c179e\"], [0.4444444444444444, \"#bd3786\"], [0.5555555555555556, \"#d8576b\"], [0.6666666666666666, \"#ed7953\"], [0.7777777777777778, \"#fb9f3a\"], [0.8888888888888888, \"#fdca26\"], [1.0, \"#f0f921\"]], \"type\": \"contour\"}], \"contourcarpet\": [{\"colorbar\": {\"outlinewidth\": 0, \"ticks\": \"\"}, \"type\": \"contourcarpet\"}], \"heatmap\": [{\"colorbar\": {\"outlinewidth\": 0, \"ticks\": \"\"}, \"colorscale\": [[0.0, \"#0d0887\"], [0.1111111111111111, \"#46039f\"], [0.2222222222222222, \"#7201a8\"], [0.3333333333333333, \"#9c179e\"], [0.4444444444444444, \"#bd3786\"], [0.5555555555555556, \"#d8576b\"], [0.6666666666666666, \"#ed7953\"], [0.7777777777777778, \"#fb9f3a\"], [0.8888888888888888, \"#fdca26\"], [1.0, \"#f0f921\"]], \"type\": \"heatmap\"}], \"heatmapgl\": [{\"colorbar\": {\"outlinewidth\": 0, \"ticks\": \"\"}, \"colorscale\": [[0.0, \"#0d0887\"], [0.1111111111111111, \"#46039f\"], [0.2222222222222222, \"#7201a8\"], [0.3333333333333333, \"#9c179e\"], [0.4444444444444444, \"#bd3786\"], [0.5555555555555556, \"#d8576b\"], [0.6666666666666666, \"#ed7953\"], [0.7777777777777778, \"#fb9f3a\"], [0.8888888888888888, \"#fdca26\"], [1.0, \"#f0f921\"]], \"type\": \"heatmapgl\"}], \"histogram\": [{\"marker\": {\"colorbar\": {\"outlinewidth\": 0, \"ticks\": \"\"}}, \"type\": \"histogram\"}], \"histogram2d\": [{\"colorbar\": {\"outlinewidth\": 0, \"ticks\": \"\"}, \"colorscale\": [[0.0, \"#0d0887\"], [0.1111111111111111, \"#46039f\"], [0.2222222222222222, \"#7201a8\"], [0.3333333333333333, \"#9c179e\"], [0.4444444444444444, \"#bd3786\"], [0.5555555555555556, \"#d8576b\"], [0.6666666666666666, \"#ed7953\"], [0.7777777777777778, \"#fb9f3a\"], [0.8888888888888888, \"#fdca26\"], [1.0, \"#f0f921\"]], \"type\": \"histogram2d\"}], \"histogram2dcontour\": [{\"colorbar\": {\"outlinewidth\": 0, \"ticks\": \"\"}, \"colorscale\": [[0.0, \"#0d0887\"], [0.1111111111111111, \"#46039f\"], [0.2222222222222222, \"#7201a8\"], [0.3333333333333333, \"#9c179e\"], [0.4444444444444444, \"#bd3786\"], [0.5555555555555556, \"#d8576b\"], [0.6666666666666666, \"#ed7953\"], [0.7777777777777778, \"#fb9f3a\"], [0.8888888888888888, \"#fdca26\"], [1.0, \"#f0f921\"]], \"type\": \"histogram2dcontour\"}], \"mesh3d\": [{\"colorbar\": {\"outlinewidth\": 0, \"ticks\": \"\"}, \"type\": \"mesh3d\"}], \"parcoords\": [{\"line\": {\"colorbar\": {\"outlinewidth\": 0, \"ticks\": \"\"}}, \"type\": \"parcoords\"}], \"pie\": [{\"automargin\": true, \"type\": \"pie\"}], \"scatter\": [{\"marker\": {\"colorbar\": {\"outlinewidth\": 0, \"ticks\": \"\"}}, \"type\": \"scatter\"}], \"scatter3d\": [{\"line\": {\"colorbar\": {\"outlinewidth\": 0, \"ticks\": \"\"}}, \"marker\": {\"colorbar\": {\"outlinewidth\": 0, \"ticks\": \"\"}}, \"type\": \"scatter3d\"}], \"scattercarpet\": [{\"marker\": {\"colorbar\": {\"outlinewidth\": 0, \"ticks\": \"\"}}, \"type\": \"scattercarpet\"}], \"scattergeo\": [{\"marker\": {\"colorbar\": {\"outlinewidth\": 0, \"ticks\": \"\"}}, \"type\": \"scattergeo\"}], \"scattergl\": [{\"marker\": {\"colorbar\": {\"outlinewidth\": 0, \"ticks\": \"\"}}, \"type\": \"scattergl\"}], \"scattermapbox\": [{\"marker\": {\"colorbar\": {\"outlinewidth\": 0, \"ticks\": \"\"}}, \"type\": \"scattermapbox\"}], \"scatterpolar\": [{\"marker\": {\"colorbar\": {\"outlinewidth\": 0, \"ticks\": \"\"}}, \"type\": \"scatterpolar\"}], \"scatterpolargl\": [{\"marker\": {\"colorbar\": {\"outlinewidth\": 0, \"ticks\": \"\"}}, \"type\": \"scatterpolargl\"}], \"scatterternary\": [{\"marker\": {\"colorbar\": {\"outlinewidth\": 0, \"ticks\": \"\"}}, \"type\": \"scatterternary\"}], \"surface\": [{\"colorbar\": {\"outlinewidth\": 0, \"ticks\": \"\"}, \"colorscale\": [[0.0, \"#0d0887\"], [0.1111111111111111, \"#46039f\"], [0.2222222222222222, \"#7201a8\"], [0.3333333333333333, \"#9c179e\"], [0.4444444444444444, \"#bd3786\"], [0.5555555555555556, \"#d8576b\"], [0.6666666666666666, \"#ed7953\"], [0.7777777777777778, \"#fb9f3a\"], [0.8888888888888888, \"#fdca26\"], [1.0, \"#f0f921\"]], \"type\": \"surface\"}], \"table\": [{\"cells\": {\"fill\": {\"color\": \"#EBF0F8\"}, \"line\": {\"color\": \"white\"}}, \"header\": {\"fill\": {\"color\": \"#C8D4E3\"}, \"line\": {\"color\": \"white\"}}, \"type\": \"table\"}]}, \"layout\": {\"annotationdefaults\": {\"arrowcolor\": \"#2a3f5f\", \"arrowhead\": 0, \"arrowwidth\": 1}, \"coloraxis\": {\"colorbar\": {\"outlinewidth\": 0, \"ticks\": \"\"}}, \"colorscale\": {\"diverging\": [[0, \"#8e0152\"], [0.1, \"#c51b7d\"], [0.2, \"#de77ae\"], [0.3, \"#f1b6da\"], [0.4, \"#fde0ef\"], [0.5, \"#f7f7f7\"], [0.6, \"#e6f5d0\"], [0.7, \"#b8e186\"], [0.8, \"#7fbc41\"], [0.9, \"#4d9221\"], [1, \"#276419\"]], \"sequential\": [[0.0, \"#0d0887\"], [0.1111111111111111, \"#46039f\"], [0.2222222222222222, \"#7201a8\"], [0.3333333333333333, \"#9c179e\"], [0.4444444444444444, \"#bd3786\"], [0.5555555555555556, \"#d8576b\"], [0.6666666666666666, \"#ed7953\"], [0.7777777777777778, \"#fb9f3a\"], [0.8888888888888888, \"#fdca26\"], [1.0, \"#f0f921\"]], \"sequentialminus\": [[0.0, \"#0d0887\"], [0.1111111111111111, \"#46039f\"], [0.2222222222222222, \"#7201a8\"], [0.3333333333333333, \"#9c179e\"], [0.4444444444444444, \"#bd3786\"], [0.5555555555555556, \"#d8576b\"], [0.6666666666666666, \"#ed7953\"], [0.7777777777777778, \"#fb9f3a\"], [0.8888888888888888, \"#fdca26\"], [1.0, \"#f0f921\"]]}, \"colorway\": [\"#636efa\", \"#EF553B\", \"#00cc96\", \"#ab63fa\", \"#FFA15A\", \"#19d3f3\", \"#FF6692\", \"#B6E880\", \"#FF97FF\", \"#FECB52\"], \"font\": {\"color\": \"#2a3f5f\"}, \"geo\": {\"bgcolor\": \"white\", \"lakecolor\": \"white\", \"landcolor\": \"#E5ECF6\", \"showlakes\": true, \"showland\": true, \"subunitcolor\": \"white\"}, \"hoverlabel\": {\"align\": \"left\"}, \"hovermode\": \"closest\", \"mapbox\": {\"style\": \"light\"}, \"paper_bgcolor\": \"white\", \"plot_bgcolor\": \"#E5ECF6\", \"polar\": {\"angularaxis\": {\"gridcolor\": \"white\", \"linecolor\": \"white\", \"ticks\": \"\"}, \"bgcolor\": \"#E5ECF6\", \"radialaxis\": {\"gridcolor\": \"white\", \"linecolor\": \"white\", \"ticks\": \"\"}}, \"scene\": {\"xaxis\": {\"backgroundcolor\": \"#E5ECF6\", \"gridcolor\": \"white\", \"gridwidth\": 2, \"linecolor\": \"white\", \"showbackground\": true, \"ticks\": \"\", \"zerolinecolor\": \"white\"}, \"yaxis\": {\"backgroundcolor\": \"#E5ECF6\", \"gridcolor\": \"white\", \"gridwidth\": 2, \"linecolor\": \"white\", \"showbackground\": true, \"ticks\": \"\", \"zerolinecolor\": \"white\"}, \"zaxis\": {\"backgroundcolor\": \"#E5ECF6\", \"gridcolor\": \"white\", \"gridwidth\": 2, \"linecolor\": \"white\", \"showbackground\": true, \"ticks\": \"\", \"zerolinecolor\": \"white\"}}, \"shapedefaults\": {\"line\": {\"color\": \"#2a3f5f\"}}, \"ternary\": {\"aaxis\": {\"gridcolor\": \"white\", \"linecolor\": \"white\", \"ticks\": \"\"}, \"baxis\": {\"gridcolor\": \"white\", \"linecolor\": \"white\", \"ticks\": \"\"}, \"bgcolor\": \"#E5ECF6\", \"caxis\": {\"gridcolor\": \"white\", \"linecolor\": \"white\", \"ticks\": \"\"}}, \"title\": {\"x\": 0.05}, \"xaxis\": {\"automargin\": true, \"gridcolor\": \"white\", \"linecolor\": \"white\", \"ticks\": \"\", \"title\": {\"standoff\": 15}, \"zerolinecolor\": \"white\", \"zerolinewidth\": 2}, \"yaxis\": {\"automargin\": true, \"gridcolor\": \"white\", \"linecolor\": \"white\", \"ticks\": \"\", \"title\": {\"standoff\": 15}, \"zerolinecolor\": \"white\", \"zerolinewidth\": 2}}}, \"title\": {\"text\": \"Comparativo de precio promedio por Neighbourhood 2021\"}, \"xaxis\": {\"tickangle\": -45}},\n",
              "                        {\"responsive\": true}\n",
              "                    ).then(function(){\n",
              "                            \n",
              "var gd = document.getElementById('1d60243b-af67-4501-85ba-9d37cbd8827c');\n",
              "var x = new MutationObserver(function (mutations, observer) {{\n",
              "        var display = window.getComputedStyle(gd).display;\n",
              "        if (!display || display === 'none') {{\n",
              "            console.log([gd, 'removed!']);\n",
              "            Plotly.purge(gd);\n",
              "            observer.disconnect();\n",
              "        }}\n",
              "}});\n",
              "\n",
              "// Listen for the removal of the full notebook cells\n",
              "var notebookContainer = gd.closest('#notebook-container');\n",
              "if (notebookContainer) {{\n",
              "    x.observe(notebookContainer, {childList: true});\n",
              "}}\n",
              "\n",
              "// Listen for the clearing of the current output cell\n",
              "var outputEl = gd.closest('.output');\n",
              "if (outputEl) {{\n",
              "    x.observe(outputEl, {childList: true});\n",
              "}}\n",
              "\n",
              "                        })\n",
              "                };\n",
              "                \n",
              "            </script>\n",
              "        </div>\n",
              "</body>\n",
              "</html>"
            ]
          },
          "metadata": {
            "tags": []
          }
        }
      ]
    },
    {
      "cell_type": "markdown",
      "metadata": {
        "id": "2OntPd-bDAZ6"
      },
      "source": [
        "***Conclusión 1:*** en la comparación de las salidas observamos la existencia de un efecto precio a la hora de determinar si fue o no alquilado. En promedio las unidades que fueron alquiladas tienen un precio menor,"
      ]
    },
    {
      "cell_type": "code",
      "metadata": {
        "colab": {
          "base_uri": "https://localhost:8080/",
          "height": 235
        },
        "id": "UXOrzMyNGDEc",
        "outputId": "cd328f7a-e9e0-4657-bffb-7aaaa82ad320"
      },
      "source": [
        "compare_rented_prices = pd.DataFrame(index = nyc_20_pivote_rented.index)\n",
        "compare_rented_prices['prices2020'] = nyc_20_pivote_rented[('mean','price')]\n",
        "compare_rented_prices['prices2021'] = nyc_21_pivote_rented[('mean','price')]\n",
        "compare_rented_prices['price_dif %'] = (compare_rented_prices['prices2021'] / compare_rented_prices['prices2020'] - 1 ) * 100\n",
        "compare_rented_prices"
      ],
      "execution_count": null,
      "outputs": [
        {
          "output_type": "execute_result",
          "data": {
            "text/html": [
              "<div>\n",
              "<style scoped>\n",
              "    .dataframe tbody tr th:only-of-type {\n",
              "        vertical-align: middle;\n",
              "    }\n",
              "\n",
              "    .dataframe tbody tr th {\n",
              "        vertical-align: top;\n",
              "    }\n",
              "\n",
              "    .dataframe thead th {\n",
              "        text-align: right;\n",
              "    }\n",
              "</style>\n",
              "<table border=\"1\" class=\"dataframe\">\n",
              "  <thead>\n",
              "    <tr style=\"text-align: right;\">\n",
              "      <th></th>\n",
              "      <th>prices2020</th>\n",
              "      <th>prices2021</th>\n",
              "      <th>price_dif %</th>\n",
              "    </tr>\n",
              "    <tr>\n",
              "      <th>neighbourhood_group</th>\n",
              "      <th></th>\n",
              "      <th></th>\n",
              "      <th></th>\n",
              "    </tr>\n",
              "  </thead>\n",
              "  <tbody>\n",
              "    <tr>\n",
              "      <th>Bronx</th>\n",
              "      <td>86.407809</td>\n",
              "      <td>88.282638</td>\n",
              "      <td>2.169745</td>\n",
              "    </tr>\n",
              "    <tr>\n",
              "      <th>Brooklyn</th>\n",
              "      <td>118.770544</td>\n",
              "      <td>123.327133</td>\n",
              "      <td>3.836464</td>\n",
              "    </tr>\n",
              "    <tr>\n",
              "      <th>Manhattan</th>\n",
              "      <td>173.638345</td>\n",
              "      <td>174.367757</td>\n",
              "      <td>0.420075</td>\n",
              "    </tr>\n",
              "    <tr>\n",
              "      <th>Queens</th>\n",
              "      <td>102.947637</td>\n",
              "      <td>101.727115</td>\n",
              "      <td>-1.185576</td>\n",
              "    </tr>\n",
              "    <tr>\n",
              "      <th>Staten Island</th>\n",
              "      <td>94.980695</td>\n",
              "      <td>98.074074</td>\n",
              "      <td>3.256850</td>\n",
              "    </tr>\n",
              "  </tbody>\n",
              "</table>\n",
              "</div>"
            ],
            "text/plain": [
              "                     prices2020  prices2021  price_dif %\n",
              "neighbourhood_group                                     \n",
              "Bronx                 86.407809   88.282638     2.169745\n",
              "Brooklyn             118.770544  123.327133     3.836464\n",
              "Manhattan            173.638345  174.367757     0.420075\n",
              "Queens               102.947637  101.727115    -1.185576\n",
              "Staten Island         94.980695   98.074074     3.256850"
            ]
          },
          "metadata": {
            "tags": []
          },
          "execution_count": 45
        }
      ]
    },
    {
      "cell_type": "code",
      "metadata": {
        "colab": {
          "base_uri": "https://localhost:8080/"
        },
        "id": "FSpxPuTfHlVn",
        "outputId": "76379f48-7a90-4a42-80e1-0ec2d92b4965"
      },
      "source": [
        "price_increase = round(np.mean(compare_rented_prices['price_dif %']),2)\n",
        "print(f\"Hay un crecimiento en los precios del {price_increase}%.\")"
      ],
      "execution_count": null,
      "outputs": [
        {
          "output_type": "stream",
          "text": [
            "Hay un crecimiento en los precios del 1.7%.\n"
          ],
          "name": "stdout"
        }
      ]
    },
    {
      "cell_type": "code",
      "metadata": {
        "colab": {
          "base_uri": "https://localhost:8080/",
          "height": 542
        },
        "id": "vszj9P5iGsoh",
        "outputId": "ab4e8d94-8158-4391-b048-2ec6fa652aa8"
      },
      "source": [
        "legend = compare_rented_prices.index\n",
        "\n",
        "fig = go.Figure()\n",
        "fig.add_trace(go.Bar(\n",
        "    x=legend,\n",
        "    y=compare_rented_prices['prices2020'],\n",
        "    name='Rented 2020',\n",
        "    marker_color='green'\n",
        "))\n",
        "fig.add_trace(go.Bar(\n",
        "    x=legend,\n",
        "    y=compare_rented_prices['prices2021'],\n",
        "    name='Rented 2021',\n",
        "    marker_color='red'\n",
        "))\n",
        "\n",
        "\n",
        "fig.update_layout( title=\"Comparativo de precio promedio alquilado 2020 vs. 2021\",\n",
        "                  barmode='group',\n",
        "                  font=dict(\n",
        "                          size=20,\n",
        "                          color=\"Black\"\n",
        "                      ),\n",
        "                  xaxis_tickangle=-45)\n",
        "fig.show()"
      ],
      "execution_count": null,
      "outputs": [
        {
          "output_type": "display_data",
          "data": {
            "text/html": [
              "<html>\n",
              "<head><meta charset=\"utf-8\" /></head>\n",
              "<body>\n",
              "    <div>\n",
              "            <script src=\"https://cdnjs.cloudflare.com/ajax/libs/mathjax/2.7.5/MathJax.js?config=TeX-AMS-MML_SVG\"></script><script type=\"text/javascript\">if (window.MathJax) {MathJax.Hub.Config({SVG: {font: \"STIX-Web\"}});}</script>\n",
              "                <script type=\"text/javascript\">window.PlotlyConfig = {MathJaxConfig: 'local'};</script>\n",
              "        <script src=\"https://cdn.plot.ly/plotly-latest.min.js\"></script>    \n",
              "            <div id=\"d734b07c-d3f4-4ed3-86d1-b2cc6ee0821c\" class=\"plotly-graph-div\" style=\"height:525px; width:100%;\"></div>\n",
              "            <script type=\"text/javascript\">\n",
              "                \n",
              "                    window.PLOTLYENV=window.PLOTLYENV || {};\n",
              "                    \n",
              "                if (document.getElementById(\"d734b07c-d3f4-4ed3-86d1-b2cc6ee0821c\")) {\n",
              "                    Plotly.newPlot(\n",
              "                        'd734b07c-d3f4-4ed3-86d1-b2cc6ee0821c',\n",
              "                        [{\"marker\": {\"color\": \"green\"}, \"name\": \"Rented 2020\", \"type\": \"bar\", \"x\": [\"Bronx\", \"Brooklyn\", \"Manhattan\", \"Queens\", \"Staten Island\"], \"y\": [86.40780911062907, 118.77054383861184, 173.63834498028092, 102.94763670064874, 94.98069498069498]}, {\"marker\": {\"color\": \"red\"}, \"name\": \"Rented 2021\", \"type\": \"bar\", \"x\": [\"Bronx\", \"Brooklyn\", \"Manhattan\", \"Queens\", \"Staten Island\"], \"y\": [88.28263795423958, 123.32713337695111, 174.36775705145536, 101.7271147161066, 98.07407407407408]}],\n",
              "                        {\"barmode\": \"group\", \"font\": {\"color\": \"Black\", \"size\": 20}, \"template\": {\"data\": {\"bar\": [{\"error_x\": {\"color\": \"#2a3f5f\"}, \"error_y\": {\"color\": \"#2a3f5f\"}, \"marker\": {\"line\": {\"color\": \"#E5ECF6\", \"width\": 0.5}}, \"type\": \"bar\"}], \"barpolar\": [{\"marker\": {\"line\": {\"color\": \"#E5ECF6\", \"width\": 0.5}}, \"type\": \"barpolar\"}], \"carpet\": [{\"aaxis\": {\"endlinecolor\": \"#2a3f5f\", \"gridcolor\": \"white\", \"linecolor\": \"white\", \"minorgridcolor\": \"white\", \"startlinecolor\": \"#2a3f5f\"}, \"baxis\": {\"endlinecolor\": \"#2a3f5f\", \"gridcolor\": \"white\", \"linecolor\": \"white\", \"minorgridcolor\": \"white\", \"startlinecolor\": \"#2a3f5f\"}, \"type\": \"carpet\"}], \"choropleth\": [{\"colorbar\": {\"outlinewidth\": 0, \"ticks\": \"\"}, \"type\": \"choropleth\"}], \"contour\": [{\"colorbar\": {\"outlinewidth\": 0, \"ticks\": \"\"}, \"colorscale\": [[0.0, \"#0d0887\"], [0.1111111111111111, \"#46039f\"], [0.2222222222222222, \"#7201a8\"], [0.3333333333333333, \"#9c179e\"], [0.4444444444444444, \"#bd3786\"], [0.5555555555555556, \"#d8576b\"], [0.6666666666666666, \"#ed7953\"], [0.7777777777777778, \"#fb9f3a\"], [0.8888888888888888, \"#fdca26\"], [1.0, \"#f0f921\"]], \"type\": \"contour\"}], \"contourcarpet\": [{\"colorbar\": {\"outlinewidth\": 0, \"ticks\": \"\"}, \"type\": \"contourcarpet\"}], \"heatmap\": [{\"colorbar\": {\"outlinewidth\": 0, \"ticks\": \"\"}, \"colorscale\": [[0.0, \"#0d0887\"], [0.1111111111111111, \"#46039f\"], [0.2222222222222222, \"#7201a8\"], [0.3333333333333333, \"#9c179e\"], [0.4444444444444444, \"#bd3786\"], [0.5555555555555556, \"#d8576b\"], [0.6666666666666666, \"#ed7953\"], [0.7777777777777778, \"#fb9f3a\"], [0.8888888888888888, \"#fdca26\"], [1.0, \"#f0f921\"]], \"type\": \"heatmap\"}], \"heatmapgl\": [{\"colorbar\": {\"outlinewidth\": 0, \"ticks\": \"\"}, \"colorscale\": [[0.0, \"#0d0887\"], [0.1111111111111111, \"#46039f\"], [0.2222222222222222, \"#7201a8\"], [0.3333333333333333, \"#9c179e\"], [0.4444444444444444, \"#bd3786\"], [0.5555555555555556, \"#d8576b\"], [0.6666666666666666, \"#ed7953\"], [0.7777777777777778, \"#fb9f3a\"], [0.8888888888888888, \"#fdca26\"], [1.0, \"#f0f921\"]], \"type\": \"heatmapgl\"}], \"histogram\": [{\"marker\": {\"colorbar\": {\"outlinewidth\": 0, \"ticks\": \"\"}}, \"type\": \"histogram\"}], \"histogram2d\": [{\"colorbar\": {\"outlinewidth\": 0, \"ticks\": \"\"}, \"colorscale\": [[0.0, \"#0d0887\"], [0.1111111111111111, \"#46039f\"], [0.2222222222222222, \"#7201a8\"], [0.3333333333333333, \"#9c179e\"], [0.4444444444444444, \"#bd3786\"], [0.5555555555555556, \"#d8576b\"], [0.6666666666666666, \"#ed7953\"], [0.7777777777777778, \"#fb9f3a\"], [0.8888888888888888, \"#fdca26\"], [1.0, \"#f0f921\"]], \"type\": \"histogram2d\"}], \"histogram2dcontour\": [{\"colorbar\": {\"outlinewidth\": 0, \"ticks\": \"\"}, \"colorscale\": [[0.0, \"#0d0887\"], [0.1111111111111111, \"#46039f\"], [0.2222222222222222, \"#7201a8\"], [0.3333333333333333, \"#9c179e\"], [0.4444444444444444, \"#bd3786\"], [0.5555555555555556, \"#d8576b\"], [0.6666666666666666, \"#ed7953\"], [0.7777777777777778, \"#fb9f3a\"], [0.8888888888888888, \"#fdca26\"], [1.0, \"#f0f921\"]], \"type\": \"histogram2dcontour\"}], \"mesh3d\": [{\"colorbar\": {\"outlinewidth\": 0, \"ticks\": \"\"}, \"type\": \"mesh3d\"}], \"parcoords\": [{\"line\": {\"colorbar\": {\"outlinewidth\": 0, \"ticks\": \"\"}}, \"type\": \"parcoords\"}], \"pie\": [{\"automargin\": true, \"type\": \"pie\"}], \"scatter\": [{\"marker\": {\"colorbar\": {\"outlinewidth\": 0, \"ticks\": \"\"}}, \"type\": \"scatter\"}], \"scatter3d\": [{\"line\": {\"colorbar\": {\"outlinewidth\": 0, \"ticks\": \"\"}}, \"marker\": {\"colorbar\": {\"outlinewidth\": 0, \"ticks\": \"\"}}, \"type\": \"scatter3d\"}], \"scattercarpet\": [{\"marker\": {\"colorbar\": {\"outlinewidth\": 0, \"ticks\": \"\"}}, \"type\": \"scattercarpet\"}], \"scattergeo\": [{\"marker\": {\"colorbar\": {\"outlinewidth\": 0, \"ticks\": \"\"}}, \"type\": \"scattergeo\"}], \"scattergl\": [{\"marker\": {\"colorbar\": {\"outlinewidth\": 0, \"ticks\": \"\"}}, \"type\": \"scattergl\"}], \"scattermapbox\": [{\"marker\": {\"colorbar\": {\"outlinewidth\": 0, \"ticks\": \"\"}}, \"type\": \"scattermapbox\"}], \"scatterpolar\": [{\"marker\": {\"colorbar\": {\"outlinewidth\": 0, \"ticks\": \"\"}}, \"type\": \"scatterpolar\"}], \"scatterpolargl\": [{\"marker\": {\"colorbar\": {\"outlinewidth\": 0, \"ticks\": \"\"}}, \"type\": \"scatterpolargl\"}], \"scatterternary\": [{\"marker\": {\"colorbar\": {\"outlinewidth\": 0, \"ticks\": \"\"}}, \"type\": \"scatterternary\"}], \"surface\": [{\"colorbar\": {\"outlinewidth\": 0, \"ticks\": \"\"}, \"colorscale\": [[0.0, \"#0d0887\"], [0.1111111111111111, \"#46039f\"], [0.2222222222222222, \"#7201a8\"], [0.3333333333333333, \"#9c179e\"], [0.4444444444444444, \"#bd3786\"], [0.5555555555555556, \"#d8576b\"], [0.6666666666666666, \"#ed7953\"], [0.7777777777777778, \"#fb9f3a\"], [0.8888888888888888, \"#fdca26\"], [1.0, \"#f0f921\"]], \"type\": \"surface\"}], \"table\": [{\"cells\": {\"fill\": {\"color\": \"#EBF0F8\"}, \"line\": {\"color\": \"white\"}}, \"header\": {\"fill\": {\"color\": \"#C8D4E3\"}, \"line\": {\"color\": \"white\"}}, \"type\": \"table\"}]}, \"layout\": {\"annotationdefaults\": {\"arrowcolor\": \"#2a3f5f\", \"arrowhead\": 0, \"arrowwidth\": 1}, \"coloraxis\": {\"colorbar\": {\"outlinewidth\": 0, \"ticks\": \"\"}}, \"colorscale\": {\"diverging\": [[0, \"#8e0152\"], [0.1, \"#c51b7d\"], [0.2, \"#de77ae\"], [0.3, \"#f1b6da\"], [0.4, \"#fde0ef\"], [0.5, \"#f7f7f7\"], [0.6, \"#e6f5d0\"], [0.7, \"#b8e186\"], [0.8, \"#7fbc41\"], [0.9, \"#4d9221\"], [1, \"#276419\"]], \"sequential\": [[0.0, \"#0d0887\"], [0.1111111111111111, \"#46039f\"], [0.2222222222222222, \"#7201a8\"], [0.3333333333333333, \"#9c179e\"], [0.4444444444444444, \"#bd3786\"], [0.5555555555555556, \"#d8576b\"], [0.6666666666666666, \"#ed7953\"], [0.7777777777777778, \"#fb9f3a\"], [0.8888888888888888, \"#fdca26\"], [1.0, \"#f0f921\"]], \"sequentialminus\": [[0.0, \"#0d0887\"], [0.1111111111111111, \"#46039f\"], [0.2222222222222222, \"#7201a8\"], [0.3333333333333333, \"#9c179e\"], [0.4444444444444444, \"#bd3786\"], [0.5555555555555556, \"#d8576b\"], [0.6666666666666666, \"#ed7953\"], [0.7777777777777778, \"#fb9f3a\"], [0.8888888888888888, \"#fdca26\"], [1.0, \"#f0f921\"]]}, \"colorway\": [\"#636efa\", \"#EF553B\", \"#00cc96\", \"#ab63fa\", \"#FFA15A\", \"#19d3f3\", \"#FF6692\", \"#B6E880\", \"#FF97FF\", \"#FECB52\"], \"font\": {\"color\": \"#2a3f5f\"}, \"geo\": {\"bgcolor\": \"white\", \"lakecolor\": \"white\", \"landcolor\": \"#E5ECF6\", \"showlakes\": true, \"showland\": true, \"subunitcolor\": \"white\"}, \"hoverlabel\": {\"align\": \"left\"}, \"hovermode\": \"closest\", \"mapbox\": {\"style\": \"light\"}, \"paper_bgcolor\": \"white\", \"plot_bgcolor\": \"#E5ECF6\", \"polar\": {\"angularaxis\": {\"gridcolor\": \"white\", \"linecolor\": \"white\", \"ticks\": \"\"}, \"bgcolor\": \"#E5ECF6\", \"radialaxis\": {\"gridcolor\": \"white\", \"linecolor\": \"white\", \"ticks\": \"\"}}, \"scene\": {\"xaxis\": {\"backgroundcolor\": \"#E5ECF6\", \"gridcolor\": \"white\", \"gridwidth\": 2, \"linecolor\": \"white\", \"showbackground\": true, \"ticks\": \"\", \"zerolinecolor\": \"white\"}, \"yaxis\": {\"backgroundcolor\": \"#E5ECF6\", \"gridcolor\": \"white\", \"gridwidth\": 2, \"linecolor\": \"white\", \"showbackground\": true, \"ticks\": \"\", \"zerolinecolor\": \"white\"}, \"zaxis\": {\"backgroundcolor\": \"#E5ECF6\", \"gridcolor\": \"white\", \"gridwidth\": 2, \"linecolor\": \"white\", \"showbackground\": true, \"ticks\": \"\", \"zerolinecolor\": \"white\"}}, \"shapedefaults\": {\"line\": {\"color\": \"#2a3f5f\"}}, \"ternary\": {\"aaxis\": {\"gridcolor\": \"white\", \"linecolor\": \"white\", \"ticks\": \"\"}, \"baxis\": {\"gridcolor\": \"white\", \"linecolor\": \"white\", \"ticks\": \"\"}, \"bgcolor\": \"#E5ECF6\", \"caxis\": {\"gridcolor\": \"white\", \"linecolor\": \"white\", \"ticks\": \"\"}}, \"title\": {\"x\": 0.05}, \"xaxis\": {\"automargin\": true, \"gridcolor\": \"white\", \"linecolor\": \"white\", \"ticks\": \"\", \"title\": {\"standoff\": 15}, \"zerolinecolor\": \"white\", \"zerolinewidth\": 2}, \"yaxis\": {\"automargin\": true, \"gridcolor\": \"white\", \"linecolor\": \"white\", \"ticks\": \"\", \"title\": {\"standoff\": 15}, \"zerolinecolor\": \"white\", \"zerolinewidth\": 2}}}, \"title\": {\"text\": \"Comparativo de precio promedio alquilado 2020 vs. 2021\"}, \"xaxis\": {\"tickangle\": -45}},\n",
              "                        {\"responsive\": true}\n",
              "                    ).then(function(){\n",
              "                            \n",
              "var gd = document.getElementById('d734b07c-d3f4-4ed3-86d1-b2cc6ee0821c');\n",
              "var x = new MutationObserver(function (mutations, observer) {{\n",
              "        var display = window.getComputedStyle(gd).display;\n",
              "        if (!display || display === 'none') {{\n",
              "            console.log([gd, 'removed!']);\n",
              "            Plotly.purge(gd);\n",
              "            observer.disconnect();\n",
              "        }}\n",
              "}});\n",
              "\n",
              "// Listen for the removal of the full notebook cells\n",
              "var notebookContainer = gd.closest('#notebook-container');\n",
              "if (notebookContainer) {{\n",
              "    x.observe(notebookContainer, {childList: true});\n",
              "}}\n",
              "\n",
              "// Listen for the clearing of the current output cell\n",
              "var outputEl = gd.closest('.output');\n",
              "if (outputEl) {{\n",
              "    x.observe(outputEl, {childList: true});\n",
              "}}\n",
              "\n",
              "                        })\n",
              "                };\n",
              "                \n",
              "            </script>\n",
              "        </div>\n",
              "</body>\n",
              "</html>"
            ]
          },
          "metadata": {
            "tags": []
          }
        }
      ]
    },
    {
      "cell_type": "markdown",
      "metadata": {
        "id": "LPiQsSAEgz_V"
      },
      "source": [
        "###### Publicaciones"
      ]
    },
    {
      "cell_type": "code",
      "metadata": {
        "id": "H0hZmc5hv8xH",
        "colab": {
          "base_uri": "https://localhost:8080/",
          "height": 542
        },
        "outputId": "f210e783-4a77-41ac-9dca-e8616df53140"
      },
      "source": [
        "legend = nyc_20_pivote_rented.index\n",
        "\n",
        "fig = go.Figure()\n",
        "fig.add_trace(go.Bar(\n",
        "    x=legend,\n",
        "    y=nyc_20_pivote_rented['count']['price'],\n",
        "    name='2020',\n",
        "    marker_color='indianred'\n",
        "))\n",
        "fig.add_trace(go.Bar(\n",
        "    x=legend,\n",
        "    y=nyc_21_pivote_rented['count']['price'],\n",
        "    name='2021',\n",
        "    marker_color='lightsalmon'\n",
        "))\n",
        "\n",
        "\n",
        "fig.update_layout( title=\"Comparativo de listings alquilados por Neighbourhood (2020 Vs. 2021)\",\n",
        "                  barmode='group',\n",
        "                  font=dict(\n",
        "                          size=20,\n",
        "                          color=\"Black\"\n",
        "                      ),\n",
        "                  xaxis_tickangle=-45)\n",
        "fig.show()"
      ],
      "execution_count": null,
      "outputs": [
        {
          "output_type": "display_data",
          "data": {
            "text/html": [
              "<html>\n",
              "<head><meta charset=\"utf-8\" /></head>\n",
              "<body>\n",
              "    <div>\n",
              "            <script src=\"https://cdnjs.cloudflare.com/ajax/libs/mathjax/2.7.5/MathJax.js?config=TeX-AMS-MML_SVG\"></script><script type=\"text/javascript\">if (window.MathJax) {MathJax.Hub.Config({SVG: {font: \"STIX-Web\"}});}</script>\n",
              "                <script type=\"text/javascript\">window.PlotlyConfig = {MathJaxConfig: 'local'};</script>\n",
              "        <script src=\"https://cdn.plot.ly/plotly-latest.min.js\"></script>    \n",
              "            <div id=\"1fca511d-2e61-4e20-913f-e4c2f6d7cb64\" class=\"plotly-graph-div\" style=\"height:525px; width:100%;\"></div>\n",
              "            <script type=\"text/javascript\">\n",
              "                \n",
              "                    window.PLOTLYENV=window.PLOTLYENV || {};\n",
              "                    \n",
              "                if (document.getElementById(\"1fca511d-2e61-4e20-913f-e4c2f6d7cb64\")) {\n",
              "                    Plotly.newPlot(\n",
              "                        '1fca511d-2e61-4e20-913f-e4c2f6d7cb64',\n",
              "                        [{\"marker\": {\"color\": \"indianred\"}, \"name\": \"2020\", \"type\": \"bar\", \"x\": [\"Bronx\", \"Brooklyn\", \"Manhattan\", \"Queens\", \"Staten Island\"], \"y\": [922, 14177, 14453, 4316, 259]}, {\"marker\": {\"color\": \"lightsalmon\"}, \"name\": \"2021\", \"type\": \"bar\", \"x\": [\"Bronx\", \"Brooklyn\", \"Manhattan\", \"Queens\", \"Staten Island\"], \"y\": [743, 10699, 11097, 3452, 243]}],\n",
              "                        {\"barmode\": \"group\", \"font\": {\"color\": \"Black\", \"size\": 20}, \"template\": {\"data\": {\"bar\": [{\"error_x\": {\"color\": \"#2a3f5f\"}, \"error_y\": {\"color\": \"#2a3f5f\"}, \"marker\": {\"line\": {\"color\": \"#E5ECF6\", \"width\": 0.5}}, \"type\": \"bar\"}], \"barpolar\": [{\"marker\": {\"line\": {\"color\": \"#E5ECF6\", \"width\": 0.5}}, \"type\": \"barpolar\"}], \"carpet\": [{\"aaxis\": {\"endlinecolor\": \"#2a3f5f\", \"gridcolor\": \"white\", \"linecolor\": \"white\", \"minorgridcolor\": \"white\", \"startlinecolor\": \"#2a3f5f\"}, \"baxis\": {\"endlinecolor\": \"#2a3f5f\", \"gridcolor\": \"white\", \"linecolor\": \"white\", \"minorgridcolor\": \"white\", \"startlinecolor\": \"#2a3f5f\"}, \"type\": \"carpet\"}], \"choropleth\": [{\"colorbar\": {\"outlinewidth\": 0, \"ticks\": \"\"}, \"type\": \"choropleth\"}], \"contour\": [{\"colorbar\": {\"outlinewidth\": 0, \"ticks\": \"\"}, \"colorscale\": [[0.0, \"#0d0887\"], [0.1111111111111111, \"#46039f\"], [0.2222222222222222, \"#7201a8\"], [0.3333333333333333, \"#9c179e\"], [0.4444444444444444, \"#bd3786\"], [0.5555555555555556, \"#d8576b\"], [0.6666666666666666, \"#ed7953\"], [0.7777777777777778, \"#fb9f3a\"], [0.8888888888888888, \"#fdca26\"], [1.0, \"#f0f921\"]], \"type\": \"contour\"}], \"contourcarpet\": [{\"colorbar\": {\"outlinewidth\": 0, \"ticks\": \"\"}, \"type\": \"contourcarpet\"}], \"heatmap\": [{\"colorbar\": {\"outlinewidth\": 0, \"ticks\": \"\"}, \"colorscale\": [[0.0, \"#0d0887\"], [0.1111111111111111, \"#46039f\"], [0.2222222222222222, \"#7201a8\"], [0.3333333333333333, \"#9c179e\"], [0.4444444444444444, \"#bd3786\"], [0.5555555555555556, \"#d8576b\"], [0.6666666666666666, \"#ed7953\"], [0.7777777777777778, \"#fb9f3a\"], [0.8888888888888888, \"#fdca26\"], [1.0, \"#f0f921\"]], \"type\": \"heatmap\"}], \"heatmapgl\": [{\"colorbar\": {\"outlinewidth\": 0, \"ticks\": \"\"}, \"colorscale\": [[0.0, \"#0d0887\"], [0.1111111111111111, \"#46039f\"], [0.2222222222222222, \"#7201a8\"], [0.3333333333333333, \"#9c179e\"], [0.4444444444444444, \"#bd3786\"], [0.5555555555555556, \"#d8576b\"], [0.6666666666666666, \"#ed7953\"], [0.7777777777777778, \"#fb9f3a\"], [0.8888888888888888, \"#fdca26\"], [1.0, \"#f0f921\"]], \"type\": \"heatmapgl\"}], \"histogram\": [{\"marker\": {\"colorbar\": {\"outlinewidth\": 0, \"ticks\": \"\"}}, \"type\": \"histogram\"}], \"histogram2d\": [{\"colorbar\": {\"outlinewidth\": 0, \"ticks\": \"\"}, \"colorscale\": [[0.0, \"#0d0887\"], [0.1111111111111111, \"#46039f\"], [0.2222222222222222, \"#7201a8\"], [0.3333333333333333, \"#9c179e\"], [0.4444444444444444, \"#bd3786\"], [0.5555555555555556, \"#d8576b\"], [0.6666666666666666, \"#ed7953\"], [0.7777777777777778, \"#fb9f3a\"], [0.8888888888888888, \"#fdca26\"], [1.0, \"#f0f921\"]], \"type\": \"histogram2d\"}], \"histogram2dcontour\": [{\"colorbar\": {\"outlinewidth\": 0, \"ticks\": \"\"}, \"colorscale\": [[0.0, \"#0d0887\"], [0.1111111111111111, \"#46039f\"], [0.2222222222222222, \"#7201a8\"], [0.3333333333333333, \"#9c179e\"], [0.4444444444444444, \"#bd3786\"], [0.5555555555555556, \"#d8576b\"], [0.6666666666666666, \"#ed7953\"], [0.7777777777777778, \"#fb9f3a\"], [0.8888888888888888, \"#fdca26\"], [1.0, \"#f0f921\"]], \"type\": \"histogram2dcontour\"}], \"mesh3d\": [{\"colorbar\": {\"outlinewidth\": 0, \"ticks\": \"\"}, \"type\": \"mesh3d\"}], \"parcoords\": [{\"line\": {\"colorbar\": {\"outlinewidth\": 0, \"ticks\": \"\"}}, \"type\": \"parcoords\"}], \"pie\": [{\"automargin\": true, \"type\": \"pie\"}], \"scatter\": [{\"marker\": {\"colorbar\": {\"outlinewidth\": 0, \"ticks\": \"\"}}, \"type\": \"scatter\"}], \"scatter3d\": [{\"line\": {\"colorbar\": {\"outlinewidth\": 0, \"ticks\": \"\"}}, \"marker\": {\"colorbar\": {\"outlinewidth\": 0, \"ticks\": \"\"}}, \"type\": \"scatter3d\"}], \"scattercarpet\": [{\"marker\": {\"colorbar\": {\"outlinewidth\": 0, \"ticks\": \"\"}}, \"type\": \"scattercarpet\"}], \"scattergeo\": [{\"marker\": {\"colorbar\": {\"outlinewidth\": 0, \"ticks\": \"\"}}, \"type\": \"scattergeo\"}], \"scattergl\": [{\"marker\": {\"colorbar\": {\"outlinewidth\": 0, \"ticks\": \"\"}}, \"type\": \"scattergl\"}], \"scattermapbox\": [{\"marker\": {\"colorbar\": {\"outlinewidth\": 0, \"ticks\": \"\"}}, \"type\": \"scattermapbox\"}], \"scatterpolar\": [{\"marker\": {\"colorbar\": {\"outlinewidth\": 0, \"ticks\": \"\"}}, \"type\": \"scatterpolar\"}], \"scatterpolargl\": [{\"marker\": {\"colorbar\": {\"outlinewidth\": 0, \"ticks\": \"\"}}, \"type\": \"scatterpolargl\"}], \"scatterternary\": [{\"marker\": {\"colorbar\": {\"outlinewidth\": 0, \"ticks\": \"\"}}, \"type\": \"scatterternary\"}], \"surface\": [{\"colorbar\": {\"outlinewidth\": 0, \"ticks\": \"\"}, \"colorscale\": [[0.0, \"#0d0887\"], [0.1111111111111111, \"#46039f\"], [0.2222222222222222, \"#7201a8\"], [0.3333333333333333, \"#9c179e\"], [0.4444444444444444, \"#bd3786\"], [0.5555555555555556, \"#d8576b\"], [0.6666666666666666, \"#ed7953\"], [0.7777777777777778, \"#fb9f3a\"], [0.8888888888888888, \"#fdca26\"], [1.0, \"#f0f921\"]], \"type\": \"surface\"}], \"table\": [{\"cells\": {\"fill\": {\"color\": \"#EBF0F8\"}, \"line\": {\"color\": \"white\"}}, \"header\": {\"fill\": {\"color\": \"#C8D4E3\"}, \"line\": {\"color\": \"white\"}}, \"type\": \"table\"}]}, \"layout\": {\"annotationdefaults\": {\"arrowcolor\": \"#2a3f5f\", \"arrowhead\": 0, \"arrowwidth\": 1}, \"coloraxis\": {\"colorbar\": {\"outlinewidth\": 0, \"ticks\": \"\"}}, \"colorscale\": {\"diverging\": [[0, \"#8e0152\"], [0.1, \"#c51b7d\"], [0.2, \"#de77ae\"], [0.3, \"#f1b6da\"], [0.4, \"#fde0ef\"], [0.5, \"#f7f7f7\"], [0.6, \"#e6f5d0\"], [0.7, \"#b8e186\"], [0.8, \"#7fbc41\"], [0.9, \"#4d9221\"], [1, \"#276419\"]], \"sequential\": [[0.0, \"#0d0887\"], [0.1111111111111111, \"#46039f\"], [0.2222222222222222, \"#7201a8\"], [0.3333333333333333, \"#9c179e\"], [0.4444444444444444, \"#bd3786\"], [0.5555555555555556, \"#d8576b\"], [0.6666666666666666, \"#ed7953\"], [0.7777777777777778, \"#fb9f3a\"], [0.8888888888888888, \"#fdca26\"], [1.0, \"#f0f921\"]], \"sequentialminus\": [[0.0, \"#0d0887\"], [0.1111111111111111, \"#46039f\"], [0.2222222222222222, \"#7201a8\"], [0.3333333333333333, \"#9c179e\"], [0.4444444444444444, \"#bd3786\"], [0.5555555555555556, \"#d8576b\"], [0.6666666666666666, \"#ed7953\"], [0.7777777777777778, \"#fb9f3a\"], [0.8888888888888888, \"#fdca26\"], [1.0, \"#f0f921\"]]}, \"colorway\": [\"#636efa\", \"#EF553B\", \"#00cc96\", \"#ab63fa\", \"#FFA15A\", \"#19d3f3\", \"#FF6692\", \"#B6E880\", \"#FF97FF\", \"#FECB52\"], \"font\": {\"color\": \"#2a3f5f\"}, \"geo\": {\"bgcolor\": \"white\", \"lakecolor\": \"white\", \"landcolor\": \"#E5ECF6\", \"showlakes\": true, \"showland\": true, \"subunitcolor\": \"white\"}, \"hoverlabel\": {\"align\": \"left\"}, \"hovermode\": \"closest\", \"mapbox\": {\"style\": \"light\"}, \"paper_bgcolor\": \"white\", \"plot_bgcolor\": \"#E5ECF6\", \"polar\": {\"angularaxis\": {\"gridcolor\": \"white\", \"linecolor\": \"white\", \"ticks\": \"\"}, \"bgcolor\": \"#E5ECF6\", \"radialaxis\": {\"gridcolor\": \"white\", \"linecolor\": \"white\", \"ticks\": \"\"}}, \"scene\": {\"xaxis\": {\"backgroundcolor\": \"#E5ECF6\", \"gridcolor\": \"white\", \"gridwidth\": 2, \"linecolor\": \"white\", \"showbackground\": true, \"ticks\": \"\", \"zerolinecolor\": \"white\"}, \"yaxis\": {\"backgroundcolor\": \"#E5ECF6\", \"gridcolor\": \"white\", \"gridwidth\": 2, \"linecolor\": \"white\", \"showbackground\": true, \"ticks\": \"\", \"zerolinecolor\": \"white\"}, \"zaxis\": {\"backgroundcolor\": \"#E5ECF6\", \"gridcolor\": \"white\", \"gridwidth\": 2, \"linecolor\": \"white\", \"showbackground\": true, \"ticks\": \"\", \"zerolinecolor\": \"white\"}}, \"shapedefaults\": {\"line\": {\"color\": \"#2a3f5f\"}}, \"ternary\": {\"aaxis\": {\"gridcolor\": \"white\", \"linecolor\": \"white\", \"ticks\": \"\"}, \"baxis\": {\"gridcolor\": \"white\", \"linecolor\": \"white\", \"ticks\": \"\"}, \"bgcolor\": \"#E5ECF6\", \"caxis\": {\"gridcolor\": \"white\", \"linecolor\": \"white\", \"ticks\": \"\"}}, \"title\": {\"x\": 0.05}, \"xaxis\": {\"automargin\": true, \"gridcolor\": \"white\", \"linecolor\": \"white\", \"ticks\": \"\", \"title\": {\"standoff\": 15}, \"zerolinecolor\": \"white\", \"zerolinewidth\": 2}, \"yaxis\": {\"automargin\": true, \"gridcolor\": \"white\", \"linecolor\": \"white\", \"ticks\": \"\", \"title\": {\"standoff\": 15}, \"zerolinecolor\": \"white\", \"zerolinewidth\": 2}}}, \"title\": {\"text\": \"Comparativo de listings alquilados por Neighbourhood (2020 Vs. 2021)\"}, \"xaxis\": {\"tickangle\": -45}},\n",
              "                        {\"responsive\": true}\n",
              "                    ).then(function(){\n",
              "                            \n",
              "var gd = document.getElementById('1fca511d-2e61-4e20-913f-e4c2f6d7cb64');\n",
              "var x = new MutationObserver(function (mutations, observer) {{\n",
              "        var display = window.getComputedStyle(gd).display;\n",
              "        if (!display || display === 'none') {{\n",
              "            console.log([gd, 'removed!']);\n",
              "            Plotly.purge(gd);\n",
              "            observer.disconnect();\n",
              "        }}\n",
              "}});\n",
              "\n",
              "// Listen for the removal of the full notebook cells\n",
              "var notebookContainer = gd.closest('#notebook-container');\n",
              "if (notebookContainer) {{\n",
              "    x.observe(notebookContainer, {childList: true});\n",
              "}}\n",
              "\n",
              "// Listen for the clearing of the current output cell\n",
              "var outputEl = gd.closest('.output');\n",
              "if (outputEl) {{\n",
              "    x.observe(outputEl, {childList: true});\n",
              "}}\n",
              "\n",
              "                        })\n",
              "                };\n",
              "                \n",
              "            </script>\n",
              "        </div>\n",
              "</body>\n",
              "</html>"
            ]
          },
          "metadata": {
            "tags": []
          }
        }
      ]
    },
    {
      "cell_type": "code",
      "metadata": {
        "id": "WIuBWUZsg1b8",
        "colab": {
          "base_uri": "https://localhost:8080/",
          "height": 542
        },
        "outputId": "fd0f39b8-c338-4bf4-e33b-3395770cb2d0"
      },
      "source": [
        "legend = nyc_20_pivote_not_rented.index\n",
        "\n",
        "fig = go.Figure()\n",
        "fig.add_trace(go.Bar(\n",
        "    x=legend,\n",
        "    y=nyc_20_pivote_not_rented['count']['price'],\n",
        "    name='2020',\n",
        "    marker_color='indianred'\n",
        "))\n",
        "fig.add_trace(go.Bar(\n",
        "    x=legend,\n",
        "    y=nyc_21_pivote_not_rented['count']['price'],\n",
        "    name='2021',\n",
        "    marker_color='lightsalmon'\n",
        "))\n",
        "\n",
        "\n",
        "fig.update_layout( title=\"Comparativo de listings no alquilados por Neighbourhood (2020 Vs. 2021)\",\n",
        "                  barmode='group',\n",
        "                  font=dict(\n",
        "                          size=20,\n",
        "                          color=\"Black\"\n",
        "                      ),\n",
        "                  xaxis_tickangle=-45)\n",
        "fig.show()"
      ],
      "execution_count": null,
      "outputs": [
        {
          "output_type": "display_data",
          "data": {
            "text/html": [
              "<html>\n",
              "<head><meta charset=\"utf-8\" /></head>\n",
              "<body>\n",
              "    <div>\n",
              "            <script src=\"https://cdnjs.cloudflare.com/ajax/libs/mathjax/2.7.5/MathJax.js?config=TeX-AMS-MML_SVG\"></script><script type=\"text/javascript\">if (window.MathJax) {MathJax.Hub.Config({SVG: {font: \"STIX-Web\"}});}</script>\n",
              "                <script type=\"text/javascript\">window.PlotlyConfig = {MathJaxConfig: 'local'};</script>\n",
              "        <script src=\"https://cdn.plot.ly/plotly-latest.min.js\"></script>    \n",
              "            <div id=\"1c54d2cf-d715-40f5-b56c-e09005450bde\" class=\"plotly-graph-div\" style=\"height:525px; width:100%;\"></div>\n",
              "            <script type=\"text/javascript\">\n",
              "                \n",
              "                    window.PLOTLYENV=window.PLOTLYENV || {};\n",
              "                    \n",
              "                if (document.getElementById(\"1c54d2cf-d715-40f5-b56c-e09005450bde\")) {\n",
              "                    Plotly.newPlot(\n",
              "                        '1c54d2cf-d715-40f5-b56c-e09005450bde',\n",
              "                        [{\"marker\": {\"color\": \"indianred\"}, \"name\": \"2020\", \"type\": \"bar\", \"x\": [\"Bronx\", \"Brooklyn\", \"Manhattan\", \"Queens\", \"Staten Island\"], \"y\": [231, 3660, 5275, 1285, 55]}, {\"marker\": {\"color\": \"lightsalmon\"}, \"name\": \"2021\", \"type\": \"bar\", \"x\": [\"Bronx\", \"Brooklyn\", \"Manhattan\", \"Queens\", \"Staten Island\"], \"y\": [235, 3268, 4620, 1221, 47]}],\n",
              "                        {\"barmode\": \"group\", \"font\": {\"color\": \"Black\", \"size\": 20}, \"template\": {\"data\": {\"bar\": [{\"error_x\": {\"color\": \"#2a3f5f\"}, \"error_y\": {\"color\": \"#2a3f5f\"}, \"marker\": {\"line\": {\"color\": \"#E5ECF6\", \"width\": 0.5}}, \"type\": \"bar\"}], \"barpolar\": [{\"marker\": {\"line\": {\"color\": \"#E5ECF6\", \"width\": 0.5}}, \"type\": \"barpolar\"}], \"carpet\": [{\"aaxis\": {\"endlinecolor\": \"#2a3f5f\", \"gridcolor\": \"white\", \"linecolor\": \"white\", \"minorgridcolor\": \"white\", \"startlinecolor\": \"#2a3f5f\"}, \"baxis\": {\"endlinecolor\": \"#2a3f5f\", \"gridcolor\": \"white\", \"linecolor\": \"white\", \"minorgridcolor\": \"white\", \"startlinecolor\": \"#2a3f5f\"}, \"type\": \"carpet\"}], \"choropleth\": [{\"colorbar\": {\"outlinewidth\": 0, \"ticks\": \"\"}, \"type\": \"choropleth\"}], \"contour\": [{\"colorbar\": {\"outlinewidth\": 0, \"ticks\": \"\"}, \"colorscale\": [[0.0, \"#0d0887\"], [0.1111111111111111, \"#46039f\"], [0.2222222222222222, \"#7201a8\"], [0.3333333333333333, \"#9c179e\"], [0.4444444444444444, \"#bd3786\"], [0.5555555555555556, \"#d8576b\"], [0.6666666666666666, \"#ed7953\"], [0.7777777777777778, \"#fb9f3a\"], [0.8888888888888888, \"#fdca26\"], [1.0, \"#f0f921\"]], \"type\": \"contour\"}], \"contourcarpet\": [{\"colorbar\": {\"outlinewidth\": 0, \"ticks\": \"\"}, \"type\": \"contourcarpet\"}], \"heatmap\": [{\"colorbar\": {\"outlinewidth\": 0, \"ticks\": \"\"}, \"colorscale\": [[0.0, \"#0d0887\"], [0.1111111111111111, \"#46039f\"], [0.2222222222222222, \"#7201a8\"], [0.3333333333333333, \"#9c179e\"], [0.4444444444444444, \"#bd3786\"], [0.5555555555555556, \"#d8576b\"], [0.6666666666666666, \"#ed7953\"], [0.7777777777777778, \"#fb9f3a\"], [0.8888888888888888, \"#fdca26\"], [1.0, \"#f0f921\"]], \"type\": \"heatmap\"}], \"heatmapgl\": [{\"colorbar\": {\"outlinewidth\": 0, \"ticks\": \"\"}, \"colorscale\": [[0.0, \"#0d0887\"], [0.1111111111111111, \"#46039f\"], [0.2222222222222222, \"#7201a8\"], [0.3333333333333333, \"#9c179e\"], [0.4444444444444444, \"#bd3786\"], [0.5555555555555556, \"#d8576b\"], [0.6666666666666666, \"#ed7953\"], [0.7777777777777778, \"#fb9f3a\"], [0.8888888888888888, \"#fdca26\"], [1.0, \"#f0f921\"]], \"type\": \"heatmapgl\"}], \"histogram\": [{\"marker\": {\"colorbar\": {\"outlinewidth\": 0, \"ticks\": \"\"}}, \"type\": \"histogram\"}], \"histogram2d\": [{\"colorbar\": {\"outlinewidth\": 0, \"ticks\": \"\"}, \"colorscale\": [[0.0, \"#0d0887\"], [0.1111111111111111, \"#46039f\"], [0.2222222222222222, \"#7201a8\"], [0.3333333333333333, \"#9c179e\"], [0.4444444444444444, \"#bd3786\"], [0.5555555555555556, \"#d8576b\"], [0.6666666666666666, \"#ed7953\"], [0.7777777777777778, \"#fb9f3a\"], [0.8888888888888888, \"#fdca26\"], [1.0, \"#f0f921\"]], \"type\": \"histogram2d\"}], \"histogram2dcontour\": [{\"colorbar\": {\"outlinewidth\": 0, \"ticks\": \"\"}, \"colorscale\": [[0.0, \"#0d0887\"], [0.1111111111111111, \"#46039f\"], [0.2222222222222222, \"#7201a8\"], [0.3333333333333333, \"#9c179e\"], [0.4444444444444444, \"#bd3786\"], [0.5555555555555556, \"#d8576b\"], [0.6666666666666666, \"#ed7953\"], [0.7777777777777778, \"#fb9f3a\"], [0.8888888888888888, \"#fdca26\"], [1.0, \"#f0f921\"]], \"type\": \"histogram2dcontour\"}], \"mesh3d\": [{\"colorbar\": {\"outlinewidth\": 0, \"ticks\": \"\"}, \"type\": \"mesh3d\"}], \"parcoords\": [{\"line\": {\"colorbar\": {\"outlinewidth\": 0, \"ticks\": \"\"}}, \"type\": \"parcoords\"}], \"pie\": [{\"automargin\": true, \"type\": \"pie\"}], \"scatter\": [{\"marker\": {\"colorbar\": {\"outlinewidth\": 0, \"ticks\": \"\"}}, \"type\": \"scatter\"}], \"scatter3d\": [{\"line\": {\"colorbar\": {\"outlinewidth\": 0, \"ticks\": \"\"}}, \"marker\": {\"colorbar\": {\"outlinewidth\": 0, \"ticks\": \"\"}}, \"type\": \"scatter3d\"}], \"scattercarpet\": [{\"marker\": {\"colorbar\": {\"outlinewidth\": 0, \"ticks\": \"\"}}, \"type\": \"scattercarpet\"}], \"scattergeo\": [{\"marker\": {\"colorbar\": {\"outlinewidth\": 0, \"ticks\": \"\"}}, \"type\": \"scattergeo\"}], \"scattergl\": [{\"marker\": {\"colorbar\": {\"outlinewidth\": 0, \"ticks\": \"\"}}, \"type\": \"scattergl\"}], \"scattermapbox\": [{\"marker\": {\"colorbar\": {\"outlinewidth\": 0, \"ticks\": \"\"}}, \"type\": \"scattermapbox\"}], \"scatterpolar\": [{\"marker\": {\"colorbar\": {\"outlinewidth\": 0, \"ticks\": \"\"}}, \"type\": \"scatterpolar\"}], \"scatterpolargl\": [{\"marker\": {\"colorbar\": {\"outlinewidth\": 0, \"ticks\": \"\"}}, \"type\": \"scatterpolargl\"}], \"scatterternary\": [{\"marker\": {\"colorbar\": {\"outlinewidth\": 0, \"ticks\": \"\"}}, \"type\": \"scatterternary\"}], \"surface\": [{\"colorbar\": {\"outlinewidth\": 0, \"ticks\": \"\"}, \"colorscale\": [[0.0, \"#0d0887\"], [0.1111111111111111, \"#46039f\"], [0.2222222222222222, \"#7201a8\"], [0.3333333333333333, \"#9c179e\"], [0.4444444444444444, \"#bd3786\"], [0.5555555555555556, \"#d8576b\"], [0.6666666666666666, \"#ed7953\"], [0.7777777777777778, \"#fb9f3a\"], [0.8888888888888888, \"#fdca26\"], [1.0, \"#f0f921\"]], \"type\": \"surface\"}], \"table\": [{\"cells\": {\"fill\": {\"color\": \"#EBF0F8\"}, \"line\": {\"color\": \"white\"}}, \"header\": {\"fill\": {\"color\": \"#C8D4E3\"}, \"line\": {\"color\": \"white\"}}, \"type\": \"table\"}]}, \"layout\": {\"annotationdefaults\": {\"arrowcolor\": \"#2a3f5f\", \"arrowhead\": 0, \"arrowwidth\": 1}, \"coloraxis\": {\"colorbar\": {\"outlinewidth\": 0, \"ticks\": \"\"}}, \"colorscale\": {\"diverging\": [[0, \"#8e0152\"], [0.1, \"#c51b7d\"], [0.2, \"#de77ae\"], [0.3, \"#f1b6da\"], [0.4, \"#fde0ef\"], [0.5, \"#f7f7f7\"], [0.6, \"#e6f5d0\"], [0.7, \"#b8e186\"], [0.8, \"#7fbc41\"], [0.9, \"#4d9221\"], [1, \"#276419\"]], \"sequential\": [[0.0, \"#0d0887\"], [0.1111111111111111, \"#46039f\"], [0.2222222222222222, \"#7201a8\"], [0.3333333333333333, \"#9c179e\"], [0.4444444444444444, \"#bd3786\"], [0.5555555555555556, \"#d8576b\"], [0.6666666666666666, \"#ed7953\"], [0.7777777777777778, \"#fb9f3a\"], [0.8888888888888888, \"#fdca26\"], [1.0, \"#f0f921\"]], \"sequentialminus\": [[0.0, \"#0d0887\"], [0.1111111111111111, \"#46039f\"], [0.2222222222222222, \"#7201a8\"], [0.3333333333333333, \"#9c179e\"], [0.4444444444444444, \"#bd3786\"], [0.5555555555555556, \"#d8576b\"], [0.6666666666666666, \"#ed7953\"], [0.7777777777777778, \"#fb9f3a\"], [0.8888888888888888, \"#fdca26\"], [1.0, \"#f0f921\"]]}, \"colorway\": [\"#636efa\", \"#EF553B\", \"#00cc96\", \"#ab63fa\", \"#FFA15A\", \"#19d3f3\", \"#FF6692\", \"#B6E880\", \"#FF97FF\", \"#FECB52\"], \"font\": {\"color\": \"#2a3f5f\"}, \"geo\": {\"bgcolor\": \"white\", \"lakecolor\": \"white\", \"landcolor\": \"#E5ECF6\", \"showlakes\": true, \"showland\": true, \"subunitcolor\": \"white\"}, \"hoverlabel\": {\"align\": \"left\"}, \"hovermode\": \"closest\", \"mapbox\": {\"style\": \"light\"}, \"paper_bgcolor\": \"white\", \"plot_bgcolor\": \"#E5ECF6\", \"polar\": {\"angularaxis\": {\"gridcolor\": \"white\", \"linecolor\": \"white\", \"ticks\": \"\"}, \"bgcolor\": \"#E5ECF6\", \"radialaxis\": {\"gridcolor\": \"white\", \"linecolor\": \"white\", \"ticks\": \"\"}}, \"scene\": {\"xaxis\": {\"backgroundcolor\": \"#E5ECF6\", \"gridcolor\": \"white\", \"gridwidth\": 2, \"linecolor\": \"white\", \"showbackground\": true, \"ticks\": \"\", \"zerolinecolor\": \"white\"}, \"yaxis\": {\"backgroundcolor\": \"#E5ECF6\", \"gridcolor\": \"white\", \"gridwidth\": 2, \"linecolor\": \"white\", \"showbackground\": true, \"ticks\": \"\", \"zerolinecolor\": \"white\"}, \"zaxis\": {\"backgroundcolor\": \"#E5ECF6\", \"gridcolor\": \"white\", \"gridwidth\": 2, \"linecolor\": \"white\", \"showbackground\": true, \"ticks\": \"\", \"zerolinecolor\": \"white\"}}, \"shapedefaults\": {\"line\": {\"color\": \"#2a3f5f\"}}, \"ternary\": {\"aaxis\": {\"gridcolor\": \"white\", \"linecolor\": \"white\", \"ticks\": \"\"}, \"baxis\": {\"gridcolor\": \"white\", \"linecolor\": \"white\", \"ticks\": \"\"}, \"bgcolor\": \"#E5ECF6\", \"caxis\": {\"gridcolor\": \"white\", \"linecolor\": \"white\", \"ticks\": \"\"}}, \"title\": {\"x\": 0.05}, \"xaxis\": {\"automargin\": true, \"gridcolor\": \"white\", \"linecolor\": \"white\", \"ticks\": \"\", \"title\": {\"standoff\": 15}, \"zerolinecolor\": \"white\", \"zerolinewidth\": 2}, \"yaxis\": {\"automargin\": true, \"gridcolor\": \"white\", \"linecolor\": \"white\", \"ticks\": \"\", \"title\": {\"standoff\": 15}, \"zerolinecolor\": \"white\", \"zerolinewidth\": 2}}}, \"title\": {\"text\": \"Comparativo de listings no alquilados por Neighbourhood (2020 Vs. 2021)\"}, \"xaxis\": {\"tickangle\": -45}},\n",
              "                        {\"responsive\": true}\n",
              "                    ).then(function(){\n",
              "                            \n",
              "var gd = document.getElementById('1c54d2cf-d715-40f5-b56c-e09005450bde');\n",
              "var x = new MutationObserver(function (mutations, observer) {{\n",
              "        var display = window.getComputedStyle(gd).display;\n",
              "        if (!display || display === 'none') {{\n",
              "            console.log([gd, 'removed!']);\n",
              "            Plotly.purge(gd);\n",
              "            observer.disconnect();\n",
              "        }}\n",
              "}});\n",
              "\n",
              "// Listen for the removal of the full notebook cells\n",
              "var notebookContainer = gd.closest('#notebook-container');\n",
              "if (notebookContainer) {{\n",
              "    x.observe(notebookContainer, {childList: true});\n",
              "}}\n",
              "\n",
              "// Listen for the clearing of the current output cell\n",
              "var outputEl = gd.closest('.output');\n",
              "if (outputEl) {{\n",
              "    x.observe(outputEl, {childList: true});\n",
              "}}\n",
              "\n",
              "                        })\n",
              "                };\n",
              "                \n",
              "            </script>\n",
              "        </div>\n",
              "</body>\n",
              "</html>"
            ]
          },
          "metadata": {
            "tags": []
          }
        }
      ]
    },
    {
      "cell_type": "markdown",
      "metadata": {
        "id": "J-ycMLhS0zQ_"
      },
      "source": [
        "#### Análisis de los Hosts"
      ]
    },
    {
      "cell_type": "code",
      "metadata": {
        "id": "NNopWNQmv6Wu"
      },
      "source": [
        "hosts2020 = nyc_20[['id', 'name', 'host_id','reviews_per_month','price','neighbourhood_group','minimum_nights']]\n",
        "hosts2021 = nyc_21[['id', 'name', 'host_id','reviews_per_month','price','neighbourhood_group','minimum_nights']]"
      ],
      "execution_count": null,
      "outputs": []
    },
    {
      "cell_type": "code",
      "metadata": {
        "id": "neFJqTWs0_VF",
        "colab": {
          "base_uri": "https://localhost:8080/"
        },
        "outputId": "b10683f0-9ff9-4985-f096-24e77d219800"
      },
      "source": [
        "nmbr_hosts_2020 = hosts2020['host_id']\n",
        "nmbr_hosts_2021 = hosts2021['host_id']\n",
        "unique_host_2020 = nmbr_hosts_2020.drop_duplicates(keep='last').to_frame().shape[0]\n",
        "unique_host_2021 = nmbr_hosts_2021.drop_duplicates(keep='last').to_frame().shape[0]\n",
        "print(f\"En 2020 hubo {unique_host_2020} hosts.\")\n",
        "print(f\"En 2021 hay hasta la fecha {unique_host_2021} hosts, un {round((unique_host_2021/unique_host_2020-1)*100)}% menos que el año anterior.\")"
      ],
      "execution_count": null,
      "outputs": [
        {
          "output_type": "stream",
          "text": [
            "En 2020 hubo 33892 hosts.\n",
            "En 2021 hay hasta la fecha 25315 hosts, un -25% menos que el año anterior.\n"
          ],
          "name": "stdout"
        }
      ]
    },
    {
      "cell_type": "markdown",
      "metadata": {
        "id": "HzdiE3eu1dtg"
      },
      "source": [
        "#### Análisis de Probabilidades\n",
        "\n",
        "Se supone que las frecuencias relativas fueron calulcadas por una cantidad de observaciones suficientemente grandes como para que se cumpla el principio de estabilidad de la frecuencia relativa."
      ]
    },
    {
      "cell_type": "code",
      "metadata": {
        "id": "evbup1cU1i3a"
      },
      "source": [
        "def calculate_probability(df, col, prob_type = None):\n",
        "\tif prob_type == \"is_counted\":\n",
        "\t\tdf[\"probability\"] = pd.DataFrame(df[col] / df[col].sum())\n",
        "\t\tdf.reset_index(inplace = True)\n",
        "\t\tprob = df.drop(columns = [\"index\", \"Rented\", \"Not Rented\"])\n",
        "\telse:\n",
        "\t\tprob = pd.DataFrame(df.groupby(col).size().div(len(df)))\n",
        "\t\tprob.reset_index(inplace = True)\n",
        "\t\tprob.columns = [col, \"probability\"]\n",
        "\treturn prob\n",
        "\n",
        "def calculate_conditional_probability(df, event_a, event_b):\n",
        "\tevent_b_prob = calculate_probability(df, event_b)\n",
        "\tevent_b_prob.set_index(event_b, inplace = True)\n",
        "\tevent_b_prob.rename(\n",
        "\t\tcolumns = {\n",
        "\t\t\"probability\" : \"P(B)\"\n",
        "\t\t},\n",
        "\t\tinplace = True)\n",
        "\tdf[\"Event\"] = df[event_a] + \" - \" + df[event_b]\n",
        "\tintersection_prob = calculate_probability(df, \"Event\")\n",
        "\tintersection_prob.rename(\n",
        "\t\tcolumns = {\n",
        "\t\t\"probability\" : \"P(A ∩ B)\"\n",
        "\t\t},\n",
        "\t\tinplace = True)\n",
        "\tintersection_prob[['event_b_name_first','event_b_name_second']] = intersection_prob.Event.str.split(\" - \", expand = True)\n",
        "\tintersection_prob.set_index(\"event_b_name_second\", inplace = True)\n",
        "\tmerged_df = pd.merge(intersection_prob, event_b_prob, left_index= True, right_index = True, how=\"inner\")\n",
        "\tmerged_df.reset_index(inplace = True)\n",
        "\tmerged_df.drop(columns=[\"event_b_name_first\",\"index\"],\n",
        "            axis=1,\n",
        "            inplace=True)\n",
        "\n",
        "\tmerged_df[\"P(A ∩ B) / P(B)\"] = merged_df[\"P(A ∩ B)\"] / merged_df[\"P(B)\"]\n",
        "\treturn merged_df"
      ],
      "execution_count": null,
      "outputs": []
    },
    {
      "cell_type": "markdown",
      "metadata": {
        "id": "bldMHC7X66XI"
      },
      "source": [
        "##### Año 2020"
      ]
    },
    {
      "cell_type": "code",
      "metadata": {
        "id": "_CxgDgeK1s6y",
        "colab": {
          "base_uri": "https://localhost:8080/"
        },
        "outputId": "7ff50c73-1836-4170-be9e-99ec0d6504c1"
      },
      "source": [
        "nyc_2020_rt_prob = calculate_probability(nyc_20, 'room_type')\n",
        "\n",
        "print(nyc_2020_rt_prob)"
      ],
      "execution_count": null,
      "outputs": [
        {
          "output_type": "stream",
          "text": [
            "         room_type  probability\n",
            "0  Entire home/apt     0.511819\n",
            "1       Hotel room     0.008693\n",
            "2     Private room     0.458898\n",
            "3      Shared room     0.020590\n"
          ],
          "name": "stdout"
        }
      ]
    },
    {
      "cell_type": "code",
      "metadata": {
        "id": "bVpNyR6y2o82",
        "colab": {
          "base_uri": "https://localhost:8080/"
        },
        "outputId": "7eeec693-5f5c-42c7-f9a7-46fe49d52dd0"
      },
      "source": [
        "cond_prob_20 = calculate_conditional_probability(nyc_20, \"room_type\", \"neighbourhood_group\")\n",
        "cond_prob_20.sort_values(by = \"P(A ∩ B) / P(B)\", ascending = False, inplace = True)\n",
        "print(cond_prob_20)"
      ],
      "execution_count": null,
      "outputs": [
        {
          "output_type": "stream",
          "text": [
            "                              Event  P(A ∩ B)      P(B)  P(A ∩ B) / P(B)\n",
            "13            Private room - Queens  0.077163  0.125490         0.614890\n",
            "1              Private room - Bronx  0.015728  0.025833         0.608846\n",
            "7       Entire home/apt - Manhattan  0.260032  0.442005         0.588301\n",
            "15  Entire home/apt - Staten Island  0.003719  0.007035         0.528662\n",
            "5           Private room - Brooklyn  0.197007  0.399637         0.492964\n",
            "3        Entire home/apt - Brooklyn  0.195013  0.399637         0.487974\n",
            "16     Private room - Staten Island  0.003226  0.007035         0.458599\n",
            "9          Private room - Manhattan  0.165774  0.442005         0.375051\n",
            "0           Entire home/apt - Bronx  0.009074  0.025833         0.351258\n",
            "11         Entire home/apt - Queens  0.043981  0.125490         0.350473\n",
            "2               Shared room - Bronx  0.001031  0.025833         0.039896\n",
            "14             Shared room - Queens  0.004055  0.125490         0.032316\n",
            "10          Shared room - Manhattan  0.008357  0.442005         0.018907\n",
            "8            Hotel room - Manhattan  0.007842  0.442005         0.017741\n",
            "6            Shared room - Brooklyn  0.007058  0.399637         0.017660\n",
            "17      Shared room - Staten Island  0.000090  0.007035         0.012739\n",
            "12              Hotel room - Queens  0.000291  0.125490         0.002321\n",
            "4             Hotel room - Brooklyn  0.000560  0.399637         0.001402\n"
          ],
          "name": "stdout"
        }
      ]
    },
    {
      "cell_type": "markdown",
      "metadata": {
        "id": "Suweq9uy6mxs"
      },
      "source": [
        "La probabilidad de que haya una publicación de una Private Room, dado que es en Queens, es de aproximadamente 61,49%"
      ]
    },
    {
      "cell_type": "code",
      "metadata": {
        "id": "vkOfOGgN4evx",
        "colab": {
          "base_uri": "https://localhost:8080/",
          "height": 542
        },
        "outputId": "68d5640b-5d80-43aa-a47a-654a7328ff2a"
      },
      "source": [
        "fig = go.Figure()\n",
        "fig.add_trace(go.Bar(\n",
        "    x=cond_prob_20[\"Event\"].iloc[0:5],\n",
        "    y=cond_prob_20[\"P(A ∩ B) / P(B)\"].iloc[0:5],\n",
        "    name='P(A ∩ B) / P(B)',\n",
        "    marker_color='green'\n",
        "))\n",
        "\n",
        "fig.update_layout( title=\"Top 5 de probabilidad condicional\",\n",
        "                  barmode='group',\n",
        "                  font=dict(\n",
        "                          size=20,\n",
        "                          color=\"Black\"\n",
        "                      ),\n",
        "                  xaxis_tickangle=-45)\n",
        "fig.update_yaxes(range=[0, 1])\n",
        "fig.show()"
      ],
      "execution_count": null,
      "outputs": [
        {
          "output_type": "display_data",
          "data": {
            "text/html": [
              "<html>\n",
              "<head><meta charset=\"utf-8\" /></head>\n",
              "<body>\n",
              "    <div>\n",
              "            <script src=\"https://cdnjs.cloudflare.com/ajax/libs/mathjax/2.7.5/MathJax.js?config=TeX-AMS-MML_SVG\"></script><script type=\"text/javascript\">if (window.MathJax) {MathJax.Hub.Config({SVG: {font: \"STIX-Web\"}});}</script>\n",
              "                <script type=\"text/javascript\">window.PlotlyConfig = {MathJaxConfig: 'local'};</script>\n",
              "        <script src=\"https://cdn.plot.ly/plotly-latest.min.js\"></script>    \n",
              "            <div id=\"533619c1-c85b-4ea5-b835-fc65c21e7c21\" class=\"plotly-graph-div\" style=\"height:525px; width:100%;\"></div>\n",
              "            <script type=\"text/javascript\">\n",
              "                \n",
              "                    window.PLOTLYENV=window.PLOTLYENV || {};\n",
              "                    \n",
              "                if (document.getElementById(\"533619c1-c85b-4ea5-b835-fc65c21e7c21\")) {\n",
              "                    Plotly.newPlot(\n",
              "                        '533619c1-c85b-4ea5-b835-fc65c21e7c21',\n",
              "                        [{\"marker\": {\"color\": \"green\"}, \"name\": \"P(A \\u2229 B) / P(B)\", \"type\": \"bar\", \"x\": [\"Private room - Queens\", \"Private room - Bronx\", \"Entire home/apt - Manhattan\", \"Entire home/apt - Staten Island\", \"Private room - Brooklyn\"], \"y\": [0.6148901981788966, 0.608846487424111, 0.588300892133009, 0.5286624203821656, 0.492964063463587]}],\n",
              "                        {\"barmode\": \"group\", \"font\": {\"color\": \"Black\", \"size\": 20}, \"template\": {\"data\": {\"bar\": [{\"error_x\": {\"color\": \"#2a3f5f\"}, \"error_y\": {\"color\": \"#2a3f5f\"}, \"marker\": {\"line\": {\"color\": \"#E5ECF6\", \"width\": 0.5}}, \"type\": \"bar\"}], \"barpolar\": [{\"marker\": {\"line\": {\"color\": \"#E5ECF6\", \"width\": 0.5}}, \"type\": \"barpolar\"}], \"carpet\": [{\"aaxis\": {\"endlinecolor\": \"#2a3f5f\", \"gridcolor\": \"white\", \"linecolor\": \"white\", \"minorgridcolor\": \"white\", \"startlinecolor\": \"#2a3f5f\"}, \"baxis\": {\"endlinecolor\": \"#2a3f5f\", \"gridcolor\": \"white\", \"linecolor\": \"white\", \"minorgridcolor\": \"white\", \"startlinecolor\": \"#2a3f5f\"}, \"type\": \"carpet\"}], \"choropleth\": [{\"colorbar\": {\"outlinewidth\": 0, \"ticks\": \"\"}, \"type\": \"choropleth\"}], \"contour\": [{\"colorbar\": {\"outlinewidth\": 0, \"ticks\": \"\"}, \"colorscale\": [[0.0, \"#0d0887\"], [0.1111111111111111, \"#46039f\"], [0.2222222222222222, \"#7201a8\"], [0.3333333333333333, \"#9c179e\"], [0.4444444444444444, \"#bd3786\"], [0.5555555555555556, \"#d8576b\"], [0.6666666666666666, \"#ed7953\"], [0.7777777777777778, \"#fb9f3a\"], [0.8888888888888888, \"#fdca26\"], [1.0, \"#f0f921\"]], \"type\": \"contour\"}], \"contourcarpet\": [{\"colorbar\": {\"outlinewidth\": 0, \"ticks\": \"\"}, \"type\": \"contourcarpet\"}], \"heatmap\": [{\"colorbar\": {\"outlinewidth\": 0, \"ticks\": \"\"}, \"colorscale\": [[0.0, \"#0d0887\"], [0.1111111111111111, \"#46039f\"], [0.2222222222222222, \"#7201a8\"], [0.3333333333333333, \"#9c179e\"], [0.4444444444444444, \"#bd3786\"], [0.5555555555555556, \"#d8576b\"], [0.6666666666666666, \"#ed7953\"], [0.7777777777777778, \"#fb9f3a\"], [0.8888888888888888, \"#fdca26\"], [1.0, \"#f0f921\"]], \"type\": \"heatmap\"}], \"heatmapgl\": [{\"colorbar\": {\"outlinewidth\": 0, \"ticks\": \"\"}, \"colorscale\": [[0.0, \"#0d0887\"], [0.1111111111111111, \"#46039f\"], [0.2222222222222222, \"#7201a8\"], [0.3333333333333333, \"#9c179e\"], [0.4444444444444444, \"#bd3786\"], [0.5555555555555556, \"#d8576b\"], [0.6666666666666666, \"#ed7953\"], [0.7777777777777778, \"#fb9f3a\"], [0.8888888888888888, \"#fdca26\"], [1.0, \"#f0f921\"]], \"type\": \"heatmapgl\"}], \"histogram\": [{\"marker\": {\"colorbar\": {\"outlinewidth\": 0, \"ticks\": \"\"}}, \"type\": \"histogram\"}], \"histogram2d\": [{\"colorbar\": {\"outlinewidth\": 0, \"ticks\": \"\"}, \"colorscale\": [[0.0, \"#0d0887\"], [0.1111111111111111, \"#46039f\"], [0.2222222222222222, \"#7201a8\"], [0.3333333333333333, \"#9c179e\"], [0.4444444444444444, \"#bd3786\"], [0.5555555555555556, \"#d8576b\"], [0.6666666666666666, \"#ed7953\"], [0.7777777777777778, \"#fb9f3a\"], [0.8888888888888888, \"#fdca26\"], [1.0, \"#f0f921\"]], \"type\": \"histogram2d\"}], \"histogram2dcontour\": [{\"colorbar\": {\"outlinewidth\": 0, \"ticks\": \"\"}, \"colorscale\": [[0.0, \"#0d0887\"], [0.1111111111111111, \"#46039f\"], [0.2222222222222222, \"#7201a8\"], [0.3333333333333333, \"#9c179e\"], [0.4444444444444444, \"#bd3786\"], [0.5555555555555556, \"#d8576b\"], [0.6666666666666666, \"#ed7953\"], [0.7777777777777778, \"#fb9f3a\"], [0.8888888888888888, \"#fdca26\"], [1.0, \"#f0f921\"]], \"type\": \"histogram2dcontour\"}], \"mesh3d\": [{\"colorbar\": {\"outlinewidth\": 0, \"ticks\": \"\"}, \"type\": \"mesh3d\"}], \"parcoords\": [{\"line\": {\"colorbar\": {\"outlinewidth\": 0, \"ticks\": \"\"}}, \"type\": \"parcoords\"}], \"pie\": [{\"automargin\": true, \"type\": \"pie\"}], \"scatter\": [{\"marker\": {\"colorbar\": {\"outlinewidth\": 0, \"ticks\": \"\"}}, \"type\": \"scatter\"}], \"scatter3d\": [{\"line\": {\"colorbar\": {\"outlinewidth\": 0, \"ticks\": \"\"}}, \"marker\": {\"colorbar\": {\"outlinewidth\": 0, \"ticks\": \"\"}}, \"type\": \"scatter3d\"}], \"scattercarpet\": [{\"marker\": {\"colorbar\": {\"outlinewidth\": 0, \"ticks\": \"\"}}, \"type\": \"scattercarpet\"}], \"scattergeo\": [{\"marker\": {\"colorbar\": {\"outlinewidth\": 0, \"ticks\": \"\"}}, \"type\": \"scattergeo\"}], \"scattergl\": [{\"marker\": {\"colorbar\": {\"outlinewidth\": 0, \"ticks\": \"\"}}, \"type\": \"scattergl\"}], \"scattermapbox\": [{\"marker\": {\"colorbar\": {\"outlinewidth\": 0, \"ticks\": \"\"}}, \"type\": \"scattermapbox\"}], \"scatterpolar\": [{\"marker\": {\"colorbar\": {\"outlinewidth\": 0, \"ticks\": \"\"}}, \"type\": \"scatterpolar\"}], \"scatterpolargl\": [{\"marker\": {\"colorbar\": {\"outlinewidth\": 0, \"ticks\": \"\"}}, \"type\": \"scatterpolargl\"}], \"scatterternary\": [{\"marker\": {\"colorbar\": {\"outlinewidth\": 0, \"ticks\": \"\"}}, \"type\": \"scatterternary\"}], \"surface\": [{\"colorbar\": {\"outlinewidth\": 0, \"ticks\": \"\"}, \"colorscale\": [[0.0, \"#0d0887\"], [0.1111111111111111, \"#46039f\"], [0.2222222222222222, \"#7201a8\"], [0.3333333333333333, \"#9c179e\"], [0.4444444444444444, \"#bd3786\"], [0.5555555555555556, \"#d8576b\"], [0.6666666666666666, \"#ed7953\"], [0.7777777777777778, \"#fb9f3a\"], [0.8888888888888888, \"#fdca26\"], [1.0, \"#f0f921\"]], \"type\": \"surface\"}], \"table\": [{\"cells\": {\"fill\": {\"color\": \"#EBF0F8\"}, \"line\": {\"color\": \"white\"}}, \"header\": {\"fill\": {\"color\": \"#C8D4E3\"}, \"line\": {\"color\": \"white\"}}, \"type\": \"table\"}]}, \"layout\": {\"annotationdefaults\": {\"arrowcolor\": \"#2a3f5f\", \"arrowhead\": 0, \"arrowwidth\": 1}, \"coloraxis\": {\"colorbar\": {\"outlinewidth\": 0, \"ticks\": \"\"}}, \"colorscale\": {\"diverging\": [[0, \"#8e0152\"], [0.1, \"#c51b7d\"], [0.2, \"#de77ae\"], [0.3, \"#f1b6da\"], [0.4, \"#fde0ef\"], [0.5, \"#f7f7f7\"], [0.6, \"#e6f5d0\"], [0.7, \"#b8e186\"], [0.8, \"#7fbc41\"], [0.9, \"#4d9221\"], [1, \"#276419\"]], \"sequential\": [[0.0, \"#0d0887\"], [0.1111111111111111, \"#46039f\"], [0.2222222222222222, \"#7201a8\"], [0.3333333333333333, \"#9c179e\"], [0.4444444444444444, \"#bd3786\"], [0.5555555555555556, \"#d8576b\"], [0.6666666666666666, \"#ed7953\"], [0.7777777777777778, \"#fb9f3a\"], [0.8888888888888888, \"#fdca26\"], [1.0, \"#f0f921\"]], \"sequentialminus\": [[0.0, \"#0d0887\"], [0.1111111111111111, \"#46039f\"], [0.2222222222222222, \"#7201a8\"], [0.3333333333333333, \"#9c179e\"], [0.4444444444444444, \"#bd3786\"], [0.5555555555555556, \"#d8576b\"], [0.6666666666666666, \"#ed7953\"], [0.7777777777777778, \"#fb9f3a\"], [0.8888888888888888, \"#fdca26\"], [1.0, \"#f0f921\"]]}, \"colorway\": [\"#636efa\", \"#EF553B\", \"#00cc96\", \"#ab63fa\", \"#FFA15A\", \"#19d3f3\", \"#FF6692\", \"#B6E880\", \"#FF97FF\", \"#FECB52\"], \"font\": {\"color\": \"#2a3f5f\"}, \"geo\": {\"bgcolor\": \"white\", \"lakecolor\": \"white\", \"landcolor\": \"#E5ECF6\", \"showlakes\": true, \"showland\": true, \"subunitcolor\": \"white\"}, \"hoverlabel\": {\"align\": \"left\"}, \"hovermode\": \"closest\", \"mapbox\": {\"style\": \"light\"}, \"paper_bgcolor\": \"white\", \"plot_bgcolor\": \"#E5ECF6\", \"polar\": {\"angularaxis\": {\"gridcolor\": \"white\", \"linecolor\": \"white\", \"ticks\": \"\"}, \"bgcolor\": \"#E5ECF6\", \"radialaxis\": {\"gridcolor\": \"white\", \"linecolor\": \"white\", \"ticks\": \"\"}}, \"scene\": {\"xaxis\": {\"backgroundcolor\": \"#E5ECF6\", \"gridcolor\": \"white\", \"gridwidth\": 2, \"linecolor\": \"white\", \"showbackground\": true, \"ticks\": \"\", \"zerolinecolor\": \"white\"}, \"yaxis\": {\"backgroundcolor\": \"#E5ECF6\", \"gridcolor\": \"white\", \"gridwidth\": 2, \"linecolor\": \"white\", \"showbackground\": true, \"ticks\": \"\", \"zerolinecolor\": \"white\"}, \"zaxis\": {\"backgroundcolor\": \"#E5ECF6\", \"gridcolor\": \"white\", \"gridwidth\": 2, \"linecolor\": \"white\", \"showbackground\": true, \"ticks\": \"\", \"zerolinecolor\": \"white\"}}, \"shapedefaults\": {\"line\": {\"color\": \"#2a3f5f\"}}, \"ternary\": {\"aaxis\": {\"gridcolor\": \"white\", \"linecolor\": \"white\", \"ticks\": \"\"}, \"baxis\": {\"gridcolor\": \"white\", \"linecolor\": \"white\", \"ticks\": \"\"}, \"bgcolor\": \"#E5ECF6\", \"caxis\": {\"gridcolor\": \"white\", \"linecolor\": \"white\", \"ticks\": \"\"}}, \"title\": {\"x\": 0.05}, \"xaxis\": {\"automargin\": true, \"gridcolor\": \"white\", \"linecolor\": \"white\", \"ticks\": \"\", \"title\": {\"standoff\": 15}, \"zerolinecolor\": \"white\", \"zerolinewidth\": 2}, \"yaxis\": {\"automargin\": true, \"gridcolor\": \"white\", \"linecolor\": \"white\", \"ticks\": \"\", \"title\": {\"standoff\": 15}, \"zerolinecolor\": \"white\", \"zerolinewidth\": 2}}}, \"title\": {\"text\": \"Top 5 de probabilidad condicional\"}, \"xaxis\": {\"tickangle\": -45}, \"yaxis\": {\"range\": [0, 1]}},\n",
              "                        {\"responsive\": true}\n",
              "                    ).then(function(){\n",
              "                            \n",
              "var gd = document.getElementById('533619c1-c85b-4ea5-b835-fc65c21e7c21');\n",
              "var x = new MutationObserver(function (mutations, observer) {{\n",
              "        var display = window.getComputedStyle(gd).display;\n",
              "        if (!display || display === 'none') {{\n",
              "            console.log([gd, 'removed!']);\n",
              "            Plotly.purge(gd);\n",
              "            observer.disconnect();\n",
              "        }}\n",
              "}});\n",
              "\n",
              "// Listen for the removal of the full notebook cells\n",
              "var notebookContainer = gd.closest('#notebook-container');\n",
              "if (notebookContainer) {{\n",
              "    x.observe(notebookContainer, {childList: true});\n",
              "}}\n",
              "\n",
              "// Listen for the clearing of the current output cell\n",
              "var outputEl = gd.closest('.output');\n",
              "if (outputEl) {{\n",
              "    x.observe(outputEl, {childList: true});\n",
              "}}\n",
              "\n",
              "                        })\n",
              "                };\n",
              "                \n",
              "            </script>\n",
              "        </div>\n",
              "</body>\n",
              "</html>"
            ]
          },
          "metadata": {
            "tags": []
          }
        }
      ]
    },
    {
      "cell_type": "markdown",
      "metadata": {
        "id": "KVwgN1bT69ST"
      },
      "source": [
        "##### Año 2021"
      ]
    },
    {
      "cell_type": "code",
      "metadata": {
        "id": "ayJzT7UA6-nt",
        "colab": {
          "base_uri": "https://localhost:8080/"
        },
        "outputId": "21bc86ad-dcbd-4274-8182-06bef3bbabb8"
      },
      "source": [
        "nyc_2021_rt_prob = calculate_probability(nyc_21, 'room_type')\n",
        "\n",
        "print(nyc_2021_rt_prob)"
      ],
      "execution_count": null,
      "outputs": [
        {
          "output_type": "stream",
          "text": [
            "         room_type  probability\n",
            "0  Entire home/apt     0.523116\n",
            "1       Hotel room     0.007691\n",
            "2     Private room     0.450863\n",
            "3      Shared room     0.018330\n"
          ],
          "name": "stdout"
        }
      ]
    },
    {
      "cell_type": "code",
      "metadata": {
        "id": "PJLD08Ou7Dfq",
        "colab": {
          "base_uri": "https://localhost:8080/"
        },
        "outputId": "d07912d5-90a1-4907-bf7f-140aade1c905"
      },
      "source": [
        "cond_prob_21 = calculate_conditional_probability(nyc_21, \"room_type\", \"neighbourhood_group\")\n",
        "cond_prob_21.sort_values(by = \"P(A ∩ B) / P(B)\", ascending = False, inplace = True)\n",
        "print(cond_prob_21)"
      ],
      "execution_count": null,
      "outputs": [
        {
          "output_type": "stream",
          "text": [
            "                              Event  P(A ∩ B)      P(B)  P(A ∩ B) / P(B)\n",
            "14            Private room - Queens  0.081404  0.131172         0.620586\n",
            "8       Entire home/apt - Manhattan  0.267733  0.441179         0.606859\n",
            "2              Private room - Bronx  0.015972  0.027453         0.581800\n",
            "16  Entire home/apt - Staten Island  0.004211  0.008140         0.517241\n",
            "4        Entire home/apt - Brooklyn  0.194077  0.392056         0.495024\n",
            "6           Private room - Brooklyn  0.190737  0.392056         0.486504\n",
            "17     Private room - Staten Island  0.003846  0.008140         0.472414\n",
            "0           Entire home/apt - Bronx  0.010891  0.027453         0.396728\n",
            "10         Private room - Manhattan  0.158905  0.441179         0.360183\n",
            "12         Entire home/apt - Queens  0.046204  0.131172         0.352236\n",
            "15             Shared room - Queens  0.003312  0.131172         0.025251\n",
            "3               Shared room - Bronx  0.000561  0.027453         0.020450\n",
            "11          Shared room - Manhattan  0.007663  0.441179         0.017370\n",
            "7            Shared room - Brooklyn  0.006709  0.392056         0.017112\n",
            "9            Hotel room - Manhattan  0.006877  0.441179         0.015588\n",
            "18      Shared room - Staten Island  0.000084  0.008140         0.010345\n",
            "13              Hotel room - Queens  0.000253  0.131172         0.001926\n",
            "5             Hotel room - Brooklyn  0.000533  0.392056         0.001360\n",
            "1                Hotel room - Bronx  0.000028  0.027453         0.001022\n"
          ],
          "name": "stdout"
        }
      ]
    },
    {
      "cell_type": "markdown",
      "metadata": {
        "id": "ahOxOumd7I3E"
      },
      "source": [
        "La probabilidad de que haya una publicación de una Private Room, dado que es en Queens, es de aproximadamente 62,05%"
      ]
    },
    {
      "cell_type": "code",
      "metadata": {
        "id": "s-f_mS7k7F6v",
        "colab": {
          "base_uri": "https://localhost:8080/",
          "height": 542
        },
        "outputId": "ce020a77-e8f4-431f-d3ac-f92e4fb6aa0a"
      },
      "source": [
        "fig = go.Figure()\n",
        "fig.add_trace(go.Bar(\n",
        "    x=cond_prob_21[\"Event\"].iloc[0:5],\n",
        "    y=cond_prob_21[\"P(A ∩ B) / P(B)\"].iloc[0:5],\n",
        "    name='P(A ∩ B) / P(B)',\n",
        "    marker_color='green'\n",
        "))\n",
        "\n",
        "fig.update_layout( title=\"Top 5 de probabilidad condicional\",\n",
        "                  barmode='group',\n",
        "                  font=dict(\n",
        "                          size=20,\n",
        "                          color=\"Black\"\n",
        "                      ),\n",
        "                  xaxis_tickangle=-45)\n",
        "fig.update_yaxes(range=[0, 1])\n",
        "fig.show()"
      ],
      "execution_count": null,
      "outputs": [
        {
          "output_type": "display_data",
          "data": {
            "text/html": [
              "<html>\n",
              "<head><meta charset=\"utf-8\" /></head>\n",
              "<body>\n",
              "    <div>\n",
              "            <script src=\"https://cdnjs.cloudflare.com/ajax/libs/mathjax/2.7.5/MathJax.js?config=TeX-AMS-MML_SVG\"></script><script type=\"text/javascript\">if (window.MathJax) {MathJax.Hub.Config({SVG: {font: \"STIX-Web\"}});}</script>\n",
              "                <script type=\"text/javascript\">window.PlotlyConfig = {MathJaxConfig: 'local'};</script>\n",
              "        <script src=\"https://cdn.plot.ly/plotly-latest.min.js\"></script>    \n",
              "            <div id=\"fe76748d-2c63-4967-9c66-257299d65399\" class=\"plotly-graph-div\" style=\"height:525px; width:100%;\"></div>\n",
              "            <script type=\"text/javascript\">\n",
              "                \n",
              "                    window.PLOTLYENV=window.PLOTLYENV || {};\n",
              "                    \n",
              "                if (document.getElementById(\"fe76748d-2c63-4967-9c66-257299d65399\")) {\n",
              "                    Plotly.newPlot(\n",
              "                        'fe76748d-2c63-4967-9c66-257299d65399',\n",
              "                        [{\"marker\": {\"color\": \"green\"}, \"name\": \"P(A \\u2229 B) / P(B)\", \"type\": \"bar\", \"x\": [\"Private room - Queens\", \"Entire home/apt - Manhattan\", \"Private room - Bronx\", \"Entire home/apt - Staten Island\", \"Entire home/apt - Brooklyn\"], \"y\": [0.6205863471003638, 0.6068588152955399, 0.581799591002045, 0.5172413793103449, 0.49502398510775397]}],\n",
              "                        {\"barmode\": \"group\", \"font\": {\"color\": \"Black\", \"size\": 20}, \"template\": {\"data\": {\"bar\": [{\"error_x\": {\"color\": \"#2a3f5f\"}, \"error_y\": {\"color\": \"#2a3f5f\"}, \"marker\": {\"line\": {\"color\": \"#E5ECF6\", \"width\": 0.5}}, \"type\": \"bar\"}], \"barpolar\": [{\"marker\": {\"line\": {\"color\": \"#E5ECF6\", \"width\": 0.5}}, \"type\": \"barpolar\"}], \"carpet\": [{\"aaxis\": {\"endlinecolor\": \"#2a3f5f\", \"gridcolor\": \"white\", \"linecolor\": \"white\", \"minorgridcolor\": \"white\", \"startlinecolor\": \"#2a3f5f\"}, \"baxis\": {\"endlinecolor\": \"#2a3f5f\", \"gridcolor\": \"white\", \"linecolor\": \"white\", \"minorgridcolor\": \"white\", \"startlinecolor\": \"#2a3f5f\"}, \"type\": \"carpet\"}], \"choropleth\": [{\"colorbar\": {\"outlinewidth\": 0, \"ticks\": \"\"}, \"type\": \"choropleth\"}], \"contour\": [{\"colorbar\": {\"outlinewidth\": 0, \"ticks\": \"\"}, \"colorscale\": [[0.0, \"#0d0887\"], [0.1111111111111111, \"#46039f\"], [0.2222222222222222, \"#7201a8\"], [0.3333333333333333, \"#9c179e\"], [0.4444444444444444, \"#bd3786\"], [0.5555555555555556, \"#d8576b\"], [0.6666666666666666, \"#ed7953\"], [0.7777777777777778, \"#fb9f3a\"], [0.8888888888888888, \"#fdca26\"], [1.0, \"#f0f921\"]], \"type\": \"contour\"}], \"contourcarpet\": [{\"colorbar\": {\"outlinewidth\": 0, \"ticks\": \"\"}, \"type\": \"contourcarpet\"}], \"heatmap\": [{\"colorbar\": {\"outlinewidth\": 0, \"ticks\": \"\"}, \"colorscale\": [[0.0, \"#0d0887\"], [0.1111111111111111, \"#46039f\"], [0.2222222222222222, \"#7201a8\"], [0.3333333333333333, \"#9c179e\"], [0.4444444444444444, \"#bd3786\"], [0.5555555555555556, \"#d8576b\"], [0.6666666666666666, \"#ed7953\"], [0.7777777777777778, \"#fb9f3a\"], [0.8888888888888888, \"#fdca26\"], [1.0, \"#f0f921\"]], \"type\": \"heatmap\"}], \"heatmapgl\": [{\"colorbar\": {\"outlinewidth\": 0, \"ticks\": \"\"}, \"colorscale\": [[0.0, \"#0d0887\"], [0.1111111111111111, \"#46039f\"], [0.2222222222222222, \"#7201a8\"], [0.3333333333333333, \"#9c179e\"], [0.4444444444444444, \"#bd3786\"], [0.5555555555555556, \"#d8576b\"], [0.6666666666666666, \"#ed7953\"], [0.7777777777777778, \"#fb9f3a\"], [0.8888888888888888, \"#fdca26\"], [1.0, \"#f0f921\"]], \"type\": \"heatmapgl\"}], \"histogram\": [{\"marker\": {\"colorbar\": {\"outlinewidth\": 0, \"ticks\": \"\"}}, \"type\": \"histogram\"}], \"histogram2d\": [{\"colorbar\": {\"outlinewidth\": 0, \"ticks\": \"\"}, \"colorscale\": [[0.0, \"#0d0887\"], [0.1111111111111111, \"#46039f\"], [0.2222222222222222, \"#7201a8\"], [0.3333333333333333, \"#9c179e\"], [0.4444444444444444, \"#bd3786\"], [0.5555555555555556, \"#d8576b\"], [0.6666666666666666, \"#ed7953\"], [0.7777777777777778, \"#fb9f3a\"], [0.8888888888888888, \"#fdca26\"], [1.0, \"#f0f921\"]], \"type\": \"histogram2d\"}], \"histogram2dcontour\": [{\"colorbar\": {\"outlinewidth\": 0, \"ticks\": \"\"}, \"colorscale\": [[0.0, \"#0d0887\"], [0.1111111111111111, \"#46039f\"], [0.2222222222222222, \"#7201a8\"], [0.3333333333333333, \"#9c179e\"], [0.4444444444444444, \"#bd3786\"], [0.5555555555555556, \"#d8576b\"], [0.6666666666666666, \"#ed7953\"], [0.7777777777777778, \"#fb9f3a\"], [0.8888888888888888, \"#fdca26\"], [1.0, \"#f0f921\"]], \"type\": \"histogram2dcontour\"}], \"mesh3d\": [{\"colorbar\": {\"outlinewidth\": 0, \"ticks\": \"\"}, \"type\": \"mesh3d\"}], \"parcoords\": [{\"line\": {\"colorbar\": {\"outlinewidth\": 0, \"ticks\": \"\"}}, \"type\": \"parcoords\"}], \"pie\": [{\"automargin\": true, \"type\": \"pie\"}], \"scatter\": [{\"marker\": {\"colorbar\": {\"outlinewidth\": 0, \"ticks\": \"\"}}, \"type\": \"scatter\"}], \"scatter3d\": [{\"line\": {\"colorbar\": {\"outlinewidth\": 0, \"ticks\": \"\"}}, \"marker\": {\"colorbar\": {\"outlinewidth\": 0, \"ticks\": \"\"}}, \"type\": \"scatter3d\"}], \"scattercarpet\": [{\"marker\": {\"colorbar\": {\"outlinewidth\": 0, \"ticks\": \"\"}}, \"type\": \"scattercarpet\"}], \"scattergeo\": [{\"marker\": {\"colorbar\": {\"outlinewidth\": 0, \"ticks\": \"\"}}, \"type\": \"scattergeo\"}], \"scattergl\": [{\"marker\": {\"colorbar\": {\"outlinewidth\": 0, \"ticks\": \"\"}}, \"type\": \"scattergl\"}], \"scattermapbox\": [{\"marker\": {\"colorbar\": {\"outlinewidth\": 0, \"ticks\": \"\"}}, \"type\": \"scattermapbox\"}], \"scatterpolar\": [{\"marker\": {\"colorbar\": {\"outlinewidth\": 0, \"ticks\": \"\"}}, \"type\": \"scatterpolar\"}], \"scatterpolargl\": [{\"marker\": {\"colorbar\": {\"outlinewidth\": 0, \"ticks\": \"\"}}, \"type\": \"scatterpolargl\"}], \"scatterternary\": [{\"marker\": {\"colorbar\": {\"outlinewidth\": 0, \"ticks\": \"\"}}, \"type\": \"scatterternary\"}], \"surface\": [{\"colorbar\": {\"outlinewidth\": 0, \"ticks\": \"\"}, \"colorscale\": [[0.0, \"#0d0887\"], [0.1111111111111111, \"#46039f\"], [0.2222222222222222, \"#7201a8\"], [0.3333333333333333, \"#9c179e\"], [0.4444444444444444, \"#bd3786\"], [0.5555555555555556, \"#d8576b\"], [0.6666666666666666, \"#ed7953\"], [0.7777777777777778, \"#fb9f3a\"], [0.8888888888888888, \"#fdca26\"], [1.0, \"#f0f921\"]], \"type\": \"surface\"}], \"table\": [{\"cells\": {\"fill\": {\"color\": \"#EBF0F8\"}, \"line\": {\"color\": \"white\"}}, \"header\": {\"fill\": {\"color\": \"#C8D4E3\"}, \"line\": {\"color\": \"white\"}}, \"type\": \"table\"}]}, \"layout\": {\"annotationdefaults\": {\"arrowcolor\": \"#2a3f5f\", \"arrowhead\": 0, \"arrowwidth\": 1}, \"coloraxis\": {\"colorbar\": {\"outlinewidth\": 0, \"ticks\": \"\"}}, \"colorscale\": {\"diverging\": [[0, \"#8e0152\"], [0.1, \"#c51b7d\"], [0.2, \"#de77ae\"], [0.3, \"#f1b6da\"], [0.4, \"#fde0ef\"], [0.5, \"#f7f7f7\"], [0.6, \"#e6f5d0\"], [0.7, \"#b8e186\"], [0.8, \"#7fbc41\"], [0.9, \"#4d9221\"], [1, \"#276419\"]], \"sequential\": [[0.0, \"#0d0887\"], [0.1111111111111111, \"#46039f\"], [0.2222222222222222, \"#7201a8\"], [0.3333333333333333, \"#9c179e\"], [0.4444444444444444, \"#bd3786\"], [0.5555555555555556, \"#d8576b\"], [0.6666666666666666, \"#ed7953\"], [0.7777777777777778, \"#fb9f3a\"], [0.8888888888888888, \"#fdca26\"], [1.0, \"#f0f921\"]], \"sequentialminus\": [[0.0, \"#0d0887\"], [0.1111111111111111, \"#46039f\"], [0.2222222222222222, \"#7201a8\"], [0.3333333333333333, \"#9c179e\"], [0.4444444444444444, \"#bd3786\"], [0.5555555555555556, \"#d8576b\"], [0.6666666666666666, \"#ed7953\"], [0.7777777777777778, \"#fb9f3a\"], [0.8888888888888888, \"#fdca26\"], [1.0, \"#f0f921\"]]}, \"colorway\": [\"#636efa\", \"#EF553B\", \"#00cc96\", \"#ab63fa\", \"#FFA15A\", \"#19d3f3\", \"#FF6692\", \"#B6E880\", \"#FF97FF\", \"#FECB52\"], \"font\": {\"color\": \"#2a3f5f\"}, \"geo\": {\"bgcolor\": \"white\", \"lakecolor\": \"white\", \"landcolor\": \"#E5ECF6\", \"showlakes\": true, \"showland\": true, \"subunitcolor\": \"white\"}, \"hoverlabel\": {\"align\": \"left\"}, \"hovermode\": \"closest\", \"mapbox\": {\"style\": \"light\"}, \"paper_bgcolor\": \"white\", \"plot_bgcolor\": \"#E5ECF6\", \"polar\": {\"angularaxis\": {\"gridcolor\": \"white\", \"linecolor\": \"white\", \"ticks\": \"\"}, \"bgcolor\": \"#E5ECF6\", \"radialaxis\": {\"gridcolor\": \"white\", \"linecolor\": \"white\", \"ticks\": \"\"}}, \"scene\": {\"xaxis\": {\"backgroundcolor\": \"#E5ECF6\", \"gridcolor\": \"white\", \"gridwidth\": 2, \"linecolor\": \"white\", \"showbackground\": true, \"ticks\": \"\", \"zerolinecolor\": \"white\"}, \"yaxis\": {\"backgroundcolor\": \"#E5ECF6\", \"gridcolor\": \"white\", \"gridwidth\": 2, \"linecolor\": \"white\", \"showbackground\": true, \"ticks\": \"\", \"zerolinecolor\": \"white\"}, \"zaxis\": {\"backgroundcolor\": \"#E5ECF6\", \"gridcolor\": \"white\", \"gridwidth\": 2, \"linecolor\": \"white\", \"showbackground\": true, \"ticks\": \"\", \"zerolinecolor\": \"white\"}}, \"shapedefaults\": {\"line\": {\"color\": \"#2a3f5f\"}}, \"ternary\": {\"aaxis\": {\"gridcolor\": \"white\", \"linecolor\": \"white\", \"ticks\": \"\"}, \"baxis\": {\"gridcolor\": \"white\", \"linecolor\": \"white\", \"ticks\": \"\"}, \"bgcolor\": \"#E5ECF6\", \"caxis\": {\"gridcolor\": \"white\", \"linecolor\": \"white\", \"ticks\": \"\"}}, \"title\": {\"x\": 0.05}, \"xaxis\": {\"automargin\": true, \"gridcolor\": \"white\", \"linecolor\": \"white\", \"ticks\": \"\", \"title\": {\"standoff\": 15}, \"zerolinecolor\": \"white\", \"zerolinewidth\": 2}, \"yaxis\": {\"automargin\": true, \"gridcolor\": \"white\", \"linecolor\": \"white\", \"ticks\": \"\", \"title\": {\"standoff\": 15}, \"zerolinecolor\": \"white\", \"zerolinewidth\": 2}}}, \"title\": {\"text\": \"Top 5 de probabilidad condicional\"}, \"xaxis\": {\"tickangle\": -45}, \"yaxis\": {\"range\": [0, 1]}},\n",
              "                        {\"responsive\": true}\n",
              "                    ).then(function(){\n",
              "                            \n",
              "var gd = document.getElementById('fe76748d-2c63-4967-9c66-257299d65399');\n",
              "var x = new MutationObserver(function (mutations, observer) {{\n",
              "        var display = window.getComputedStyle(gd).display;\n",
              "        if (!display || display === 'none') {{\n",
              "            console.log([gd, 'removed!']);\n",
              "            Plotly.purge(gd);\n",
              "            observer.disconnect();\n",
              "        }}\n",
              "}});\n",
              "\n",
              "// Listen for the removal of the full notebook cells\n",
              "var notebookContainer = gd.closest('#notebook-container');\n",
              "if (notebookContainer) {{\n",
              "    x.observe(notebookContainer, {childList: true});\n",
              "}}\n",
              "\n",
              "// Listen for the clearing of the current output cell\n",
              "var outputEl = gd.closest('.output');\n",
              "if (outputEl) {{\n",
              "    x.observe(outputEl, {childList: true});\n",
              "}}\n",
              "\n",
              "                        })\n",
              "                };\n",
              "                \n",
              "            </script>\n",
              "        </div>\n",
              "</body>\n",
              "</html>"
            ]
          },
          "metadata": {
            "tags": []
          }
        }
      ]
    },
    {
      "cell_type": "markdown",
      "metadata": {
        "id": "q7ppUWSYpA7A"
      },
      "source": [
        "## Conclusión\n",
        "* El objetivo del análisis precedente era determinar para un usuario típico, las diferentes probablidades de los distintos tipos de alojamiento a las que se enfrenta un vez que ha tomado la decisión respecto al barrio, es importante resaltar que no se ha incorporado el precio como variable de análisis.\n",
        "* En lo referente al estudio del caso propiamente dicho, en primer lugar no existen diferencias significativas en cuanto a la oferta entre 2020 y 2021 por cuanto al realizar la comparación interanual de probablidades encontramos que estas no presentaron grandes variaciones.\n",
        "* Hay un incremento en el precio promedio de los departamentos publicados del 1.7%.\n",
        "* El 95% de los departamentos alquilados se encuentran por debajo de los USD 300.\n",
        "* Por la pandemia se redujo la oferta de listings que tuvieron algún tipo de alquiler.\n",
        "* En 2021 observamos un incremento en los precios producto de la reactivación de la actividad y la disminución de las restricciones.\n",
        "* En base al test de probabilidades condicionales podemos ver que si un usuario elige Queens o Bronx, lo más probable es que elija un \"Private room\", y si elige Manhattan o Staten Island, este encuentre un \"Entire home/apt\".\n",
        "* La única diferencia la encontramos en Brooklyn, donde en 2020 lo más probable es que un usuario encuentre un \"Private room\" y en 2021 el mismo encuentre un \"Entire home/apt\".\n",
        "* De los 10 barrios más caros que se alquilan vemos que el barrio Arvene de Queens y Sheepshead Bay de Brooklyn fueron los que más subieron de posiciones.\n",
        "* Midtown y Hell's Kitchen son dos de los barrios que más crecieron en cantidad de listings para posicionarse en mejores puestos del ranking 2021.\n",
        "* Los barrios con propiedades más económicas se encuentran mayoritariamente en el Bronx o en Queens."
      ]
    },
    {
      "cell_type": "markdown",
      "metadata": {
        "id": "4nsbdrUgpL4k"
      },
      "source": [
        "## Persistencia de resultados"
      ]
    },
    {
      "cell_type": "code",
      "metadata": {
        "id": "xfn-lOPKpPxf"
      },
      "source": [
        "df_20 = nyc_20.fillna(0)\n",
        "df_20.latitude = df_20.latitude.astype('string')\n",
        "df_20.longitude = df_20.longitude.astype('string')\n",
        "df_20.latitude = df_20.latitude.str.replace('.',',')\n",
        "df_20.longitude = df_20.longitude.str.replace('.',',')\n",
        "df_20.drop(columns = ['last_review'], inplace = True)\n",
        "df_20.to_csv('df20.csv', sep = ';')"
      ],
      "execution_count": null,
      "outputs": []
    },
    {
      "cell_type": "code",
      "metadata": {
        "id": "0x8wML0HQS7N"
      },
      "source": [
        "df_21 = nyc_20.fillna(0)\n",
        "df_21.latitude = df_21.latitude.astype('string')\n",
        "df_21.longitude = df_21.longitude.astype('string')\n",
        "df_21.latitude = df_21.latitude.str.replace('.',',')\n",
        "df_21.longitude = df_21.longitude.str.replace('.',',')\n",
        "df_21.drop(columns = ['last_review'], inplace = True)\n",
        "df_21.to_csv('df21.csv', sep = ';')"
      ],
      "execution_count": null,
      "outputs": []
    }
  ]
}