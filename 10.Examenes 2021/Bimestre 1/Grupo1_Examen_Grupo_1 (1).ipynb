{
  "nbformat": 4,
  "nbformat_minor": 0,
  "metadata": {
    "colab": {
      "name": "Examen  - Grupo 1.ipynb",
      "provenance": [],
      "collapsed_sections": [
        "QHCimu6Qxyh5",
        "WRvvt7luyAbj"
      ]
    },
    "kernelspec": {
      "name": "python3",
      "display_name": "Python 3"
    },
    "language_info": {
      "name": "python"
    }
  },
  "cells": [
    {
      "cell_type": "markdown",
      "metadata": {
        "colab_type": "toc",
        "id": "NbB5A6Kiti5o"
      },
      "source": [
        ">[Examen Diplomatura de Ciencias de Datos (Python)](#updateTitle=true&folderId=1hYY6URNFLa2w5I3uQbpDlwOox_am-5cM&scrollTo=i0zFildainmZ)\n",
        "\n",
        ">>[Datos del Grupo (Ingrese los datos de los miembros del grupo)](#updateTitle=true&folderId=1hYY6URNFLa2w5I3uQbpDlwOox_am-5cM&scrollTo=DpCP10zljkUr)\n",
        "\n",
        ">>[Criterio de evaluación](#updateTitle=true&folderId=1hYY6URNFLa2w5I3uQbpDlwOox_am-5cM&scrollTo=aQ3knDmSjoC4)\n",
        "\n",
        ">>[Herramientas utilizadas](#updateTitle=true&folderId=1hYY6URNFLa2w5I3uQbpDlwOox_am-5cM&scrollTo=ELfqvndSj9Ur)\n",
        "\n",
        ">>[Problema](#updateTitle=true&folderId=1hYY6URNFLa2w5I3uQbpDlwOox_am-5cM&scrollTo=hXPW4ICqknzA)\n",
        "\n",
        ">>[Carga de datos](#updateTitle=true&folderId=1hYY6URNFLa2w5I3uQbpDlwOox_am-5cM&scrollTo=9C6E_XIYkFY9)\n",
        "\n",
        ">>[Preparación de datos](#updateTitle=true&folderId=1hYY6URNFLa2w5I3uQbpDlwOox_am-5cM&scrollTo=QF80Zxg1kIyw)\n",
        "\n",
        ">>[Análisis](#updateTitle=true&folderId=1hYY6URNFLa2w5I3uQbpDlwOox_am-5cM&scrollTo=zBlq7CMHkTe9)\n",
        "\n",
        ">>[Visualizaciones](#updateTitle=true&folderId=1hYY6URNFLa2w5I3uQbpDlwOox_am-5cM&scrollTo=Tr34SrWqkWNo)\n",
        "\n",
        ">>[Persistencia (Almacenamiento)](#updateTitle=true&folderId=1hYY6URNFLa2w5I3uQbpDlwOox_am-5cM&scrollTo=cHHGyZyhkZyU)\n",
        "\n"
      ]
    },
    {
      "cell_type": "markdown",
      "metadata": {
        "id": "i0zFildainmZ"
      },
      "source": [
        "# Examen Diplomatura de Ciencias de Datos (Python)\n",
        "\n",
        "A continuación, se detallan las indicaciones para la resolución del examen. Tengan a bien leer todas las instrucciones y no dude en consultar si tiene alguna duda.\n",
        "\n",
        "1. El examen se realiza de forma grupal de acuerdo a la asignación previamente realizada (Grupo 1, Grupo 2, Grupo 3, Grupo 4, Grupo 5, Grupo 6)\n",
        "2. La fecha de entrega es el Lunes 10 de Mayo a las 9:00 AM hs (Argentina). La entrega se deberá realizar por correo electrónico.\n",
        "3. Tanto el código como el análisis y las visualizaciones se deben entregan en un notebook en formato **.ipynb**\n",
        "4. Puede utilizar diferentes herramientas para el desarrollo como Jupyter, Colab, Spypder o VSCodium, sin embargo, el trabajo final debe ser entregado en un notebook como estipulado en el punto 3.\n",
        "5. Para visualizaciones se debe utilizar la librería **matplotlib** solamente.\n",
        "6. La defensa del trabajo se realizará el Lunes 10 de Mayo a las 18:30 hs de forma grupal. Se les brindará un espacio de 20 minutos para la exposición y espacio a preguntas.\n",
        "7. La nota se obtendrá en base a un promedio entre el desarrollo del trabajo, defensa del mismo en forma grupal y exposición individual. \n",
        "8. Los archivos a utilizar se encuentran almacenados en la siguientes URL:\n",
        "\n",
        "https://github.com/al34n1x/DataScience/blob/master/100.Examen/examen_births.csv\n",
        "\n",
        "https://github.com/al34n1x/DataScience/blob/master/100.Examen/examen_life_expectancy.csv\n",
        "\n",
        "---\n",
        "\n",
        "\n"
      ]
    },
    {
      "cell_type": "markdown",
      "metadata": {
        "id": "DpCP10zljkUr"
      },
      "source": [
        "## Datos del Grupo (Ingrese los datos de los miembros del grupo)\n",
        "\n",
        "Nombre y Apellido | LU\n",
        "------------------|---\n",
      ]
    },
    {
      "cell_type": "markdown",
      "metadata": {
        "id": "aQ3knDmSjoC4"
      },
      "source": [
        "## Criterio de evaluación\n",
        "\n",
        "Se les brindará dos archivos los cuales deben ser importados y proceder a trabajar con los mismos aplicando los conceptos de explicados en clase.\n",
        "\n",
        "Como parte del examen se evaluarán los siguientes conceptos:\n",
        "\n",
        "* Importar datos desde fuentes externas\n",
        "* Preparación de datos en estructuras tipo diccionarios/arreglos \n",
        "* Gestión de datos\n",
        "* Visualizaciones\n",
        "* Almacenamiento de resultados\n",
        "\n",
        "\n",
        "---\n"
      ]
    },
    {
      "cell_type": "markdown",
      "metadata": {
        "id": "ELfqvndSj9Ur"
      },
      "source": [
        "## Herramientas utilizadas\n",
        "\n",
        "A continuación detallen las herramientas utilizadas para el desarrollo del examen.\n",
        "\n",
        "\n",
        "* Matplotlib\n",
        "\n",
        "* Numpy\n",
        "\n",
        "---"
      ]
    },
    {
      "cell_type": "markdown",
      "metadata": {
        "id": "hXPW4ICqknzA"
      },
      "source": [
        "## Problema\n",
        "\n",
        "El ayuntamiento de Barcelona le ha solicitado al equipo de científicos de datos realizar un análisis sobre la expectativa de vida y el nivel de natalidad en cada uno de los distritos de la comunidad.\n",
        "Para ello les requieren:\n",
        "\n",
        "* Cargar los datos provistos en formato CSV en estructuras de diccionarios.\n",
        "* Para cada distrito obtener el promedio de expectativa de vida, discriminado por genero.\n",
        "* Obtener el/los distritos con mayor y menor natalidad respectivamente.\n",
        "* Realizar una comparación entre los distritos con mayor expectativa de vida y su nivel de natalidad\n",
        "* Generar visualizaciones que muestren los resultados como parte del análisis.\n",
        "* Desarrollar una conclusión sobre el análisis. \n",
        "* Almacenar los resultados en archivos en formato CSV.\n",
        "\n"
      ]
    },
    {
      "cell_type": "markdown",
      "metadata": {
        "id": "9C6E_XIYkFY9"
      },
      "source": [
        "## Carga de datos\n",
        "\n",
        "Importamos los datos de los archivos csv y los pasamos a diccionarios para su posterior manipulación.\n",
        "Le asignamos un identificador de fila a cada línea del csv y la tomamos como clave de cada diccionario.\n",
        "Dentro de cada clave asignamos otro diccionario anidado con los datos de la fila."
      ]
    },
    {
      "cell_type": "markdown",
      "metadata": {
        "id": "QHCimu6Qxyh5"
      },
      "source": [
        "### Carga del diccionario **life_expectancy** a partir del archivo *examen_life_expectancy.csv*\n",
        "\n"
      ]
    },
    {
      "cell_type": "code",
      "metadata": {
        "id": "gr0dFlxnikW1"
      },
      "source": [
        "import csv\n",
        "file = ('./sample_data/examen_life_expectancy.csv')\n",
        "life_expectancy={}\n",
        "dic_datos_le={}\n",
        "\n",
        "with open(file, mode='r') as csv_file:\n",
        "    csv_reader = csv.DictReader(csv_file,delimiter=';') #Delimitador ;\n",
        "    i = 1\n",
        "    for row in csv_reader:\n",
        "    \n",
        "      # Tomamos los siguientes datos y los guardamos en diferentes variables\n",
        "        district_name = row['District Name']\n",
        "        neighborhood = row['Neighborhood']\n",
        "        y2006_2010 = row['2006-2010']\n",
        "        y2007_2011 = row['2007-2011']\n",
        "        y2008_2012 = row['2008-2012']\n",
        "        y2009_2013 = row['2009-2013']\n",
        "        y2010_2014 = row['2010-2014']\n",
        "        gender = row['Gender']\n",
        "\n",
        "\n",
        "      #Creamos el diccionario embebido con los datos recolecatdos en el bloque anterior\n",
        "        dic_datos_le = {'District Name': district_name,\n",
        "                     'Neighborhood': neighborhood,\n",
        "                     '2006-2010': y2006_2010,\n",
        "                     '2007-2011': y2007_2011,\n",
        "                     '2008-2012': y2008_2012,\n",
        "                     '2009-2013': y2009_2013,\n",
        "                     '2010-2014': y2010_2014,\n",
        "                     'Gender': gender\n",
        "                   }\n",
        "\n",
        "        life_expectancy[i] = dic_datos_le\n",
        "        i+=1\n",
        "\n",
        "life_expectancy\n"
      ],
      "execution_count": null,
      "outputs": []
    },
    {
      "cell_type": "markdown",
      "metadata": {
        "id": "WRvvt7luyAbj"
      },
      "source": [
        "\n",
        "\n",
        "### Carga del diccionario **births** a partir del archivo *examen_births.csv*\n",
        "\n"
      ]
    },
    {
      "cell_type": "code",
      "metadata": {
        "id": "yraNgg62azSb"
      },
      "source": [
        "import csv\n",
        "file2 = ('./sample_data/examen_births.csv')\n",
        "births={}\n",
        "dic_datos_births={}\n",
        "\n",
        "with open(file2, mode='r') as csv_file2:\n",
        "    csv_reader = csv.DictReader(csv_file2,delimiter=';') #Delimitador ;\n",
        "    i = 1\n",
        "    for row in csv_reader:\n",
        "    \n",
        "      # Tomamos los siguientes datos y los guardamos en diferentes variables\n",
        "        year = row['Year']\n",
        "        district_code = row['District Code']\n",
        "        district_name = row['District Name']\n",
        "        neighborhood_code = row['Neighborhood Code']\n",
        "        neighborhood_name = row['Neighborhood Name']\n",
        "        gender = row['Gender']\n",
        "        number = row['Number']\n",
        "\n",
        "      #Creamos el diccionario embebido con los datos recolecatdos en el bloque anterior\n",
        "        dic_datos_births = {'Year': year,\n",
        "                            'District Code': district_code,\n",
        "                            'District Name': district_name,\n",
        "                            'Neighborhood Code': neighborhood_code,\n",
        "                            'Neighborhood Name': neighborhood_name,\n",
        "                            'Gender': gender,\n",
        "                            'Number': number\n",
        "                          }\n",
        "\n",
        "        births[i] = dic_datos_births\n",
        "        i+=1\n",
        "\n",
        "births"
      ],
      "execution_count": null,
      "outputs": []
    },
    {
      "cell_type": "markdown",
      "metadata": {
        "id": "QF80Zxg1kIyw"
      },
      "source": [
        "## Preparación de datos \n",
        "\n",
        "Manipulamos los diccionarios obtenidos para generar los reportes."
      ]
    },
    {
      "cell_type": "markdown",
      "metadata": {
        "id": "-5obXKTMaLlj"
      },
      "source": [
        "\n",
        "\n",
        "### Promedio de expectativa de vida por distrito y género\n",
        "Para el cálculo del promedio de expectativa de vida por género y distrito nos encontramos con filas con valores en blanco (o nulas). \n",
        "Optamos por skippearlas porque, además de  complejizar el cálculo si queríamos asignarles el promedio del total, no aporta valor significativo, ya que sería un dato no representativo.\n",
        "\n"
      ]
    },
    {
      "cell_type": "markdown",
      "metadata": {
        "id": "4gv5Io-AyLoj"
      },
      "source": [
        "#### Función para calcular el promedio entre 5 valores:"
      ]
    },
    {
      "cell_type": "code",
      "metadata": {
        "id": "49HOCt-VyKnW"
      },
      "source": [
        "def calcularPromedio(a,b,c,d,e):\n",
        "  total = a+b+c+d+e\n",
        "  promedio = total/5\n",
        "  return promedio"
      ],
      "execution_count": null,
      "outputs": []
    },
    {
      "cell_type": "markdown",
      "metadata": {
        "id": "cH7mN21gyhiU"
      },
      "source": [
        "#### Función para obtener el promedio de expectativa de vida de cada distrito, discriminado por genero.\n",
        "Decidimos guardar esta información en un diccionario con el formato:\n",
        "\n",
        "\n",
        " { Ciudad1-Genero : promedio,\n",
        "\n",
        " \n",
        " Ciudad2-Genero : promedio  }\n",
        "\n",
        "\n"
      ]
    },
    {
      "cell_type": "code",
      "metadata": {
        "id": "sZv-BQwhkOfJ"
      },
      "source": [
        "dicDistrictsLifeExpGender = {}\n",
        "def avg_exp_vida_genero():\n",
        "  for k in life_expectancy.keys(): #Tomamos la expectativa de vida de cada columna y si es '' (vacío o nulo) lo salteamos\n",
        "    v = life_expectancy[k].get('District Name') + '-' + life_expectancy[k].get('Gender')\n",
        "    if (life_expectancy[k].get('2006-2010') != ''): \n",
        "      y1 = float(life_expectancy[k].get('2006-2010'))\n",
        "    if (life_expectancy[k].get('2007-2011') != ''): \n",
        "      y2 = float(life_expectancy[k].get('2007-2011'))\n",
        "    if (life_expectancy[k].get('2008-2012') != ''): \n",
        "      y3 = float(life_expectancy[k].get('2008-2012'))\n",
        "    if (life_expectancy[k].get('2009-2013') != ''): \n",
        "      y4 = float(life_expectancy[k].get('2009-2013'))\n",
        "    if (life_expectancy[k].get('2010-2014') != ''): \n",
        "      y5 = float(life_expectancy[k].get('2010-2014'))\n",
        "\n",
        "    promFila = round(calcularPromedio(y1,y2,y3,y4,y5),1)\n",
        "\n",
        "    if v in dicDistrictsLifeExpGender.keys():  \n",
        "      viejoProm = dicDistrictsLifeExpGender[v]\n",
        "      promedioNuevo = (promFila + viejoProm)/2\n",
        "      dicDistrictsLifeExpGender[v] = round(promedioNuevo,1)\n",
        "    else:\n",
        "      dicDistrictsLifeExpGender[v] = promFila \n",
        "      \n",
        "\n",
        "avg_exp_vida_genero()\n",
        "dicDistrictsLifeExpGender"
      ],
      "execution_count": null,
      "outputs": []
    },
    {
      "cell_type": "markdown",
      "metadata": {
        "id": "K_NpnYQpbM-q"
      },
      "source": [
        "### Distritos con mayor y menor natalidad (respectivamente)"
      ]
    },
    {
      "cell_type": "markdown",
      "metadata": {
        "id": "aw-GIHYus-qf"
      },
      "source": [
        "####Función para generar el diccionario con la natalidad por distrito."
      ]
    },
    {
      "cell_type": "code",
      "metadata": {
        "colab": {
          "base_uri": "https://localhost:8080/"
        },
        "id": "9UKqC1u9z2p-",
        "outputId": "293b1d9b-6ae7-40ab-f1d5-6e04fb031b10"
      },
      "source": [
        "dic_natalidad = {}\n",
        "def natalidad_por_distrito():\n",
        "  for k in births.keys():\n",
        "    v = births[k].get('District Name')\n",
        "    if v != 'No consta':\n",
        "      number = int(births[k].get('Number'))\n",
        "      if v in dic_natalidad:\n",
        "        suma_ant = dic_natalidad[v]\n",
        "        dic_natalidad[v] = number + suma_ant\n",
        "      else:\n",
        "        dic_natalidad[v] = number\n",
        "        \n",
        "natalidad_por_distrito()\n",
        "dic_natalidad\n"
      ],
      "execution_count": null,
      "outputs": [
        {
          "output_type": "execute_result",
          "data": {
            "text/plain": [
              "{'Ciutat Vella': 4073,\n",
              " 'Eixample': 10357,\n",
              " 'Gràcia': 5263,\n",
              " 'Horta-Guinardó': 6675,\n",
              " 'Les Corts': 3127,\n",
              " 'Nou Barris': 7062,\n",
              " 'Sant Andreu': 6423,\n",
              " 'Sant Martí': 10368,\n",
              " 'Sants-Montjuïc': 7499,\n",
              " 'Sarrià-Sant Gervasi': 6490}"
            ]
          },
          "metadata": {
            "tags": []
          },
          "execution_count": 30
        }
      ]
    },
    {
      "cell_type": "markdown",
      "metadata": {
        "id": "3Y_KtP6MtUhr"
      },
      "source": [
        "####Creación de listas para posteriores cálculos con Numpy\n",
        "Preparamos 2 listas a partir del diccionario de natalidad para poder trabajar con numpy, y así graficar y calcular el distrito con mayor natalidad y el distrito con menor natalidad:"
      ]
    },
    {
      "cell_type": "code",
      "metadata": {
        "id": "GHpixfx9-jde",
        "colab": {
          "base_uri": "https://localhost:8080/"
        },
        "outputId": "a6b2b169-9820-4592-b1f0-699ead2e5c67"
      },
      "source": [
        "distritosNat=[]\n",
        "totalNat=[]\n",
        "\n",
        "for k,v in dic_natalidad.items():\n",
        "  distritosNat.append(k)\n",
        "  totalNat.append(int(v))\n",
        "\n",
        "print(distritosNat)\n",
        "print(totalNat)"
      ],
      "execution_count": null,
      "outputs": [
        {
          "output_type": "stream",
          "text": [
            "['Ciutat Vella', 'Eixample', 'Sants-Montjuïc', 'Les Corts', 'Sarrià-Sant Gervasi', 'Gràcia', 'Horta-Guinardó', 'Nou Barris', 'Sant Andreu', 'Sant Martí']\n",
            "[4073, 10357, 7499, 3127, 6490, 5263, 6675, 7062, 6423, 10368]\n"
          ],
          "name": "stdout"
        }
      ]
    },
    {
      "cell_type": "markdown",
      "metadata": {
        "id": "wH7T4T7Xtz5r"
      },
      "source": [
        "Utilizando numpy, convertimos las listas en arrays y calculamos máximo y mínimo respectivamente. Además, tomando la posición de ese valor máximo o mínimo, obtenemos el distrito."
      ]
    },
    {
      "cell_type": "markdown",
      "metadata": {
        "id": "T3ek6BJnvJ8O"
      },
      "source": [
        "> Distrito con mayor natalidad"
      ]
    },
    {
      "cell_type": "code",
      "metadata": {
        "colab": {
          "base_uri": "https://localhost:8080/"
        },
        "id": "Y_c05DKb_bnh",
        "outputId": "3ab68866-ff84-4a5d-84fa-f5f14fb5a087"
      },
      "source": [
        "import numpy as np\n",
        "\n",
        "arrTotDistritosNat = np.array(totalNat)\n",
        "arrDistritosNombresNat = np.array(distritosNat)\n",
        "maximoNat = arrTotDistritosNat.max()\n",
        "posMaxDistNat = totalNat.index(maximoNat)\n",
        "print(f'El distrito con mayor natalidad es {distritosNat[posMaxDistNat]} con {maximoNat}')\n"
      ],
      "execution_count": null,
      "outputs": [
        {
          "output_type": "stream",
          "text": [
            "El distrito con mayor natalidad es Sant Martí con 10368\n"
          ],
          "name": "stdout"
        }
      ]
    },
    {
      "cell_type": "markdown",
      "metadata": {
        "id": "BUQC_AhmvTQP"
      },
      "source": [
        "> Distrito con menor natalidad"
      ]
    },
    {
      "cell_type": "code",
      "metadata": {
        "colab": {
          "base_uri": "https://localhost:8080/"
        },
        "id": "s-vc30VJAjRH",
        "outputId": "2ab3f325-d1e2-4367-b220-3c837dc9c590"
      },
      "source": [
        "minimoNat = arrTotDistritosNat.min()\n",
        "posMinDistNat = totalNat.index(minimoNat)\n",
        "print(f'El distrito con menor natalidad es {distritosNat[posMinDistNat]} con {minimoNat}')"
      ],
      "execution_count": null,
      "outputs": [
        {
          "output_type": "stream",
          "text": [
            "El distrito con menor natalidad es Les Corts con 3127\n"
          ],
          "name": "stdout"
        }
      ]
    },
    {
      "cell_type": "markdown",
      "metadata": {
        "id": "y1X67Wt2cKoI"
      },
      "source": [
        "###Distritos con mayor expectativa de vida y su natalidad\n",
        "Optamos por tomar los 3 distritos con mayor expectativa de vida para hacer la comparación."
      ]
    },
    {
      "cell_type": "markdown",
      "metadata": {
        "id": "2XVGbL0cwvC-"
      },
      "source": [
        "####Función para obtener el promedio de expectativa de vida de cada distrito."
      ]
    },
    {
      "cell_type": "code",
      "metadata": {
        "id": "GjJLA7_KwIJo"
      },
      "source": [
        "dicDistrictsLifeExp = {}\n",
        "def avg_exp_vida_total():\n",
        "  for k in life_expectancy.keys(): #Tomamos la expectativa de vida de cada columna y si es '' (vacío o nulo) lo salteamos\n",
        "    v = life_expectancy[k].get('District Name')\n",
        "    if (life_expectancy[k].get('2006-2010') != ''): \n",
        "      y1 = float(life_expectancy[k].get('2006-2010'))\n",
        "    if (life_expectancy[k].get('2007-2011') != ''): \n",
        "      y2 = float(life_expectancy[k].get('2007-2011'))\n",
        "    if (life_expectancy[k].get('2008-2012') != ''): \n",
        "      y3 = float(life_expectancy[k].get('2008-2012'))\n",
        "    if (life_expectancy[k].get('2009-2013') != ''): \n",
        "      y4 = float(life_expectancy[k].get('2009-2013'))\n",
        "    if (life_expectancy[k].get('2010-2014') != ''): \n",
        "      y5 = float(life_expectancy[k].get('2010-2014'))\n",
        "\n",
        "    promFila = round(calcularPromedio(y1,y2,y3,y4,y5),1)\n",
        "\n",
        "    if v in dicDistrictsLifeExp.keys():  \n",
        "      viejoProm = dicDistrictsLifeExp[v]\n",
        "      promedioNuevo = (promFila + viejoProm)/2\n",
        "      dicDistrictsLifeExp[v] = round(promedioNuevo,1)\n",
        "    else:\n",
        "      dicDistrictsLifeExp[v] = promFila \n",
        "      \n",
        "\n",
        "avg_exp_vida_total()\n",
        "dicDistrictsLifeExp"
      ],
      "execution_count": null,
      "outputs": []
    },
    {
      "cell_type": "markdown",
      "metadata": {
        "id": "fJOMCXEXxH3u"
      },
      "source": [
        "#### Creación de listas para posteriores cálculos con Numpy y generación de visualizaciones\n",
        "Preparamos 2 listas a partir del diccionario de expectativa de vida para poder trabajar con numpy:"
      ]
    },
    {
      "cell_type": "code",
      "metadata": {
        "id": "j8lAHUopxJfm"
      },
      "source": [
        "distritosExpVida=[]\n",
        "promExpVida=[]\n",
        "\n",
        "for k,v in dicDistrictsLifeExp.items():\n",
        "  distritosExpVida.append(k)\n",
        "  promExpVida.append(float(v))\n",
        "\n",
        "print(distritosExpVida)\n",
        "print(promExpVida)"
      ],
      "execution_count": null,
      "outputs": []
    },
    {
      "cell_type": "markdown",
      "metadata": {
        "id": "8TFmdn8Mx1Ey"
      },
      "source": [
        "Utilizando numpy, convertimos las listas en arrays y calculamos máximo y mínimo respectivamente. Además, tomando la posición de ese valor máximo o mínimo, obtenemos el distrito."
      ]
    },
    {
      "cell_type": "markdown",
      "metadata": {
        "id": "k72x61gDAbs1"
      },
      "source": [
        "#### Calculamos el Top 3 de distritos con mayor expectativa de vida:"
      ]
    },
    {
      "cell_type": "code",
      "metadata": {
        "id": "KWX9JU-_7WrQ"
      },
      "source": [
        "import numpy as np\n",
        "\n",
        "top3DistritosExpVida = [] \n",
        "top3PromExpVida = []\n",
        "promExpVidaAUX = promExpVida[:] #copiamos la lista original ya que vamos a reducirla\n",
        "\n",
        "for i in range(3): #recorremos 3 veces porque queremos el top 3\n",
        "  maxValue = max(promExpVidaAUX) #tomamos máximo valor de la copia\n",
        "  maxIndex = promExpVidaAUX.index(maxValue) #tomamos la posición de ese valor máximo\n",
        "  maxProm = promExpVidaAUX.pop(maxIndex) #quitamos ese valor de la lista auxiliar\n",
        "  top3PromExpVida.append(maxProm) #agregamos el valor máximo a la lista de valores de top 3\n",
        "  posTopExpVida= promExpVida.index(maxProm) #buscamos la posición de ese valor máximo en la lista original\n",
        "  top3DistritosExpVida.append(distritosExpVida[posTopExpVida]) #con la posición del valor máximo vamos a la lista de distritos\n",
        "\n",
        "\n",
        "print(top3PromExpVida)\n",
        "print(top3DistritosExpVida)"
      ],
      "execution_count": null,
      "outputs": []
    },
    {
      "cell_type": "markdown",
      "metadata": {
        "id": "kFqrnz-MJWIy"
      },
      "source": [
        "####Calculamos natalidad del top 3\n",
        "De estos distritos del top 3 obtuvimos la natalidad para poder hacer la comparación con respecto a la expectativa de vida:"
      ]
    },
    {
      "cell_type": "code",
      "metadata": {
        "id": "zOWtLKmZ-g56"
      },
      "source": [
        "natalidadDelTop3 = []\n",
        "\n",
        "for d in top3DistritosExpVida:\n",
        "  indexDistNat = distritosNat.index(d)\n",
        "  natalidadDelTop3.append(totalNat[indexDistNat])\n",
        "\n",
        "print(distritosNat)\n",
        "print(totalNat)\n",
        "print(natalidadDelTop3)"
      ],
      "execution_count": null,
      "outputs": []
    },
    {
      "cell_type": "markdown",
      "metadata": {
        "id": "zIj0yXjoO3TR"
      },
      "source": [
        "### Análisis extra\n",
        "Decidimos crear un gráfico que muestre la evolución de natalidad a traves del tiempo de los tres distritos con la mayor expectativa de vida."
      ]
    },
    {
      "cell_type": "markdown",
      "metadata": {
        "id": "0ca47_rEPXam"
      },
      "source": [
        "#### Generamos un diccionario con la cantidad de nacimientos por año por distrito.\n"
      ]
    },
    {
      "cell_type": "code",
      "metadata": {
        "id": "cZyaOGpJUnSS"
      },
      "source": [
        "dicDistrictsBirthsByYear = {#diccionario con distrito, año y cantidad de nacimientos \n",
        "    'Ciutat Vella': {},\n",
        "    'Eixample': {},\n",
        "    'Gràcia': {},\n",
        "    'Horta-Guinardó': {},\n",
        "    'Les Corts': {},\n",
        "    'Nou Barris': {},\n",
        "    'Sant Andreu': {},\n",
        "    'Sant Martí': {},\n",
        "    'Sants-Montjuïc': {},\n",
        "    'Sarrià-Sant Gervasi': {}\n",
        "}\n",
        "def births_by_year():\n",
        "  for k in births:\n",
        "    anio = int(births[k].get('Year'))\n",
        "    nombre_de_distrito = births[k].get('District Name')\n",
        "    cantidad_de_nacimientos = int(births[k].get('Number'))\n",
        "    if anio != '' and nombre_de_distrito != '' and cantidad_de_nacimientos != '' and nombre_de_distrito!='No consta':\n",
        "      if anio not in dicDistrictsBirthsByYear[nombre_de_distrito]:\n",
        "        dic_aux = dicDistrictsBirthsByYear[nombre_de_distrito]\n",
        "        dic_aux[anio]= cantidad_de_nacimientos\n",
        "        dicDistrictsBirthsByYear[nombre_de_distrito]=dic_aux\n",
        "      else:\n",
        "        dic_aux = dicDistrictsBirthsByYear[nombre_de_distrito]  # obtengo el valor anterior y me lo guardo\n",
        "        valor_ant = dic_aux[anio]\n",
        "        nuevo_valor = valor_ant + cantidad_de_nacimientos\n",
        "        dic_aux[anio]= nuevo_valor\n",
        "        dicDistrictsBirthsByYear[nombre_de_distrito]=dic_aux\n",
        "\n",
        "births_by_year()\n",
        "dicDistrictsBirthsByYear\n",
        "\n"
      ],
      "execution_count": null,
      "outputs": []
    },
    {
      "cell_type": "markdown",
      "metadata": {
        "id": "xs4YO8r0_m9v"
      },
      "source": [
        "#### Creación de listas para gráficos\n",
        "Creamos una lista por cada uno de los distritos con mayor expectativa de vida para generar el gráfico.\n",
        "\n",
        "\n"
      ]
    },
    {
      "cell_type": "code",
      "metadata": {
        "id": "k6sItQwy_wxI"
      },
      "source": [
        "listasants = []\n",
        "listagervasi = []\n",
        "listalescorts = []\n",
        "for k,v in dicDistrictsBirthsByYear.items():\n",
        "    if k == 'Les Corts':\n",
        "      for anio,valor in v.items():\n",
        "        listalescorts.append(valor)\n",
        "    if k == 'Sarrià-Sant Gervasi':\n",
        "      for anio,valor in v.items():\n",
        "        listagervasi.append(valor)    \n",
        "    if k == 'Sants-Montjuïc':\n",
        "      for anio,valor in v.items():\n",
        "        listasants.append(valor) "
      ],
      "execution_count": null,
      "outputs": []
    },
    {
      "cell_type": "markdown",
      "metadata": {
        "id": "Tr34SrWqkWNo"
      },
      "source": [
        "## Visualizaciones"
      ]
    },
    {
      "cell_type": "markdown",
      "metadata": {
        "id": "S7PANVa7eL64"
      },
      "source": [
        "### Comparación entre expectativa de vida y natalidad\n",
        "Decidimos graficar los 3 distritos con mayor expectativa de vida y su natalidad en dos gráficos de barras alineados."
      ]
    },
    {
      "cell_type": "code",
      "metadata": {
        "id": "7a3gNznLkYXR",
        "colab": {
          "base_uri": "https://localhost:8080/",
          "height": 348
        },
        "outputId": "22c1e381-9395-4a78-c432-9bddac0a39cc"
      },
      "source": [
        "import matplotlib.pyplot as plt\n",
        "fig = plt.figure()\n",
        "ax = fig.subplots(2,1)\n",
        "my_colors = ['tab:blue', 'tab:orange', 'tab:green']\n",
        "distritosEjeX = top3DistritosExpVida\n",
        "medida = {'Natalidad': natalidadDelTop3, 'Expectativa de vida': top3PromExpVida}\n",
        "\n",
        "ax[0].bar(distritosEjeX, medida['Expectativa de vida'], color =my_colors)\n",
        "ax[1].bar(distritosEjeX, medida['Natalidad'], color =my_colors)\n",
        "\n",
        "ax[0].axes.get_xaxis().set_visible(False)\n",
        "\n",
        "ax[0].set_title('Expectativa de vida por distrito', fontdict = {'fontsize':14, 'fontweight':'bold', 'color':'tab:purple'})\n",
        "ax[1].set_title('Natalidad por distrito', fontdict = {'fontsize':14, 'fontweight':'bold', 'color':'tab:purple'})\n",
        "plt.xticks(rotation = 45)\n",
        "ax[0].set_ylim(80, 84)\n",
        "plt.show()"
      ],
      "execution_count": null,
      "outputs": [
        {
          "output_type": "display_data",
          "data": {
            "image/png": "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\n",
            "text/plain": [
              "<Figure size 432x288 with 2 Axes>"
            ]
          },
          "metadata": {
            "tags": [],
            "needs_background": "light"
          }
        }
      ]
    },
    {
      "cell_type": "markdown",
      "metadata": {
        "id": "oWJ_XyMeebah"
      },
      "source": [
        "### Evolución anual de natalidad\n",
        "En un gráfico de líneas mostramos la natalidad por año de los tres distritos con mayor expectativa de vida."
      ]
    },
    {
      "cell_type": "code",
      "metadata": {
        "colab": {
          "base_uri": "https://localhost:8080/",
          "height": 282
        },
        "id": "ZdaQJap5UIlT",
        "outputId": "743b149a-8c27-4bb6-8eb2-d31576e6bd99"
      },
      "source": [
        "import matplotlib.pyplot as plt\n",
        "\n",
        "fig = plt.figure()\n",
        "ax = fig.subplots()\n",
        "anios = ['2013', '2014', '2015', '2016', '2017']\n",
        "grafico_de_natalidad = {'Les Corts':listalescorts, 'Sarrià-Sant Gervasi':listagervasi, 'Sants-Montjuïc':listasants}\n",
        "ax.plot(anios, grafico_de_natalidad['Les Corts'], label='Les Corts', marker = 'o')\n",
        "ax.plot(anios, grafico_de_natalidad['Sarrià-Sant Gervasi'], label='Sarrià-Sant Gervasi', marker = 'o')\n",
        "ax.plot(anios, grafico_de_natalidad['Sants-Montjuïc'], label='Sants-Montjuïc', marker = 'o')\n",
        "ax.legend(loc = 'center')\n",
        "ax.set_title('Natalidad de los distritos con mayor expectativa de vida', fontdict = {'fontsize':14, 'fontweight':'bold', 'color':'tab:purple'})\n",
        "plt.show()"
      ],
      "execution_count": null,
      "outputs": [
        {
          "output_type": "display_data",
          "data": {
            "image/png": "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\n",
            "text/plain": [
              "<Figure size 432x288 with 1 Axes>"
            ]
          },
          "metadata": {
            "tags": [],
            "needs_background": "light"
          }
        }
      ]
    },
    {
      "cell_type": "markdown",
      "metadata": {
        "id": "zBlq7CMHkTe9"
      },
      "source": [
        "## Análisis"
      ]
    },
    {
      "cell_type": "markdown",
      "metadata": {
        "id": "5Ct0aSu3fP1c"
      },
      "source": [
        "Podemos observar que, si bien la expectativa de vida de los tres distritos son altas (todas superan los 80 años), a mayor expectativa de vida, menor natalidad. \n",
        "Por otra parte, según el gráfico anual de natalidad, son distritos que presentan valores estables a lo largo de los años ya que no se observan grandes variaciones."
      ]
    },
    {
      "cell_type": "markdown",
      "metadata": {
        "id": "5VV58D2TuD2e"
      },
      "source": [
        "## Conclusión\n",
        "\n"
      ]
    },
    {
      "cell_type": "markdown",
      "metadata": {
        "id": "3Auj8KZK-i_3"
      },
      "source": [
        "Llegamos a la conclusión que lo observado en los tres distritos con mayor expectativa de vida es representativo de todos los distritos: cuanto más alta es la expectativa de vida, menor es la natalidad.\n"
      ]
    },
    {
      "cell_type": "markdown",
      "metadata": {
        "id": "cHHGyZyhkZyU"
      },
      "source": [
        "## Persistencia (Almacenamiento)\n",
        "\n",
        "Almacenamos en CSV cada uno de los reportes."
      ]
    },
    {
      "cell_type": "markdown",
      "metadata": {
        "id": "eIRHSRlbfZ5o"
      },
      "source": [
        "####Promedio de expectativa de vida de cada distrito, discriminado por género."
      ]
    },
    {
      "cell_type": "code",
      "metadata": {
        "id": "_V7CA3k-kc3B"
      },
      "source": [
        "import csv\n",
        "\n",
        "with open('./sample_data/promExpVidaPorGenero.csv', mode='w') as csv_file:\n",
        "    fieldnames = ['Distrito-Genero', 'Promedio de expectativa de vida']\n",
        "    writer = csv.DictWriter(csv_file, fieldnames=fieldnames)\n",
        "    writer.writeheader()\n",
        "    \n",
        "    for k,v in dicDistrictsLifeExpGender.items():\n",
        "      writer.writerow({'Distrito-Genero': k, 'Promedio de expectativa de vida': v})"
      ],
      "execution_count": null,
      "outputs": []
    },
    {
      "cell_type": "markdown",
      "metadata": {
        "id": "gtP1yqrOYe3Q"
      },
      "source": [
        "####Distritos con mayor y menor natalidad respectivamente."
      ]
    },
    {
      "cell_type": "code",
      "metadata": {
        "id": "yqoOtLr2VlgE"
      },
      "source": [
        "with open('./sample_data/mayorMenorNatalidad.csv', mode='w') as object_file:\n",
        "    object_file.write(f'El distrito con mayor natalidad es {distritosNat[posMaxDistNat]} con {maximoNat} \\n')\n",
        "    object_file.write(f'El distrito con menor natalidad es {distritosNat[posMinDistNat]} con {minimoNat}')"
      ],
      "execution_count": null,
      "outputs": []
    },
    {
      "cell_type": "markdown",
      "metadata": {
        "id": "-6NhwcbGfklI"
      },
      "source": [
        "###Top 3 distritos con mayor expectativa de vida, junto con sus respectivas natalidades.\n",
        "\n"
      ]
    },
    {
      "cell_type": "code",
      "metadata": {
        "id": "IZ6-HdxFGc0e"
      },
      "source": [
        "import csv\n",
        "\n",
        "with open('./sample_data/top3Datos.csv', mode='w') as csv_file:\n",
        "    fieldnames = ['Distrito', 'Promedio de expectativa de vida', 'Natalidad']\n",
        "    writer = csv.DictWriter(csv_file, fieldnames=fieldnames)\n",
        "    writer.writeheader()\n",
        "    \n",
        "    for i in range(3):\n",
        "      writer.writerow({'Distrito': top3DistritosExpVida[i], 'Promedio de expectativa de vida': top3PromExpVida[i], 'Natalidad': natalidadDelTop3[i]})"
      ],
      "execution_count": null,
      "outputs": []
    },
    {
      "cell_type": "markdown",
      "metadata": {
        "id": "qQt9E6Q1Lzo4"
      },
      "source": [
        "###Evolución anual de la natalidad del top 3 de distritos con mayor expectativa de vida.\n",
        "\n"
      ]
    },
    {
      "cell_type": "code",
      "metadata": {
        "id": "tryIl-tcL0mw"
      },
      "source": [
        "import csv\n",
        "\n",
        "with open('./sample_data/top3EvolucionAnual.csv', mode='w') as csv_file:\n",
        "  fieldnames = ['Distrito', '2013', '2014', '2015', '2016', '2017']\n",
        "  writer = csv.DictWriter(csv_file, fieldnames=fieldnames)\n",
        "  writer.writeheader()\n",
        "  writer.writerow({'Distrito': top3DistritosExpVida[0], '2013': listalescorts[0], '2014': listalescorts[1], '2015': listalescorts[2], '2016': listalescorts[3], '2017': listalescorts[4]})\n",
        "  writer.writerow({'Distrito': top3DistritosExpVida[1], '2013': listagervasi[0], '2014': listagervasi[1], '2015': listagervasi[2], '2016': listagervasi[3], '2017': listagervasi[4]})\n",
        "  writer.writerow({'Distrito': top3DistritosExpVida[2], '2013': listasants[0], '2014': listasants[1], '2015': listasants[2], '2016': listasants[3], '2017': listasants[4]})"
      ],
      "execution_count": null,
      "outputs": []
    }
  ]
}