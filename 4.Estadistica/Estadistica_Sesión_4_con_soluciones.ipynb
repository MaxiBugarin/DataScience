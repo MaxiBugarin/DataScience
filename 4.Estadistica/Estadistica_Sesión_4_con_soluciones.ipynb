{
  "nbformat": 4,
  "nbformat_minor": 0,
  "metadata": {
    "kernelspec": {
      "name": "python3",
      "display_name": "Python 3"
    },
    "colab": {
      "name": "Estadistica Sesión 4 con soluciones.ipynb",
      "provenance": [],
      "include_colab_link": true
    }
  },
  "cells": [
    {
      "cell_type": "markdown",
      "metadata": {
        "id": "view-in-github",
        "colab_type": "text"
      },
      "source": [
        "<a href=\"https://colab.research.google.com/github/al34n1x/DataScience/blob/master/4.Estadistica/Estadistica_Sesi%C3%B3n_4_con_soluciones.ipynb\" target=\"_parent\"><img src=\"https://colab.research.google.com/assets/colab-badge.svg\" alt=\"Open In Colab\"/></a>"
      ]
    },
    {
      "cell_type": "markdown",
      "metadata": {
        "id": "dCY5mtmVvoLe"
      },
      "source": [
        "# Intro a la estadística (Sesión 4)\n",
        "\n",
        "---"
      ]
    },
    {
      "cell_type": "markdown",
      "metadata": {
        "id": "4zDkHLI1voLi"
      },
      "source": [
        "## El test de Chi-cuadrado $\\chi^2$\n",
        "\n",
        "La prueba Chi-cuadrado se usa para datos discretos (categorizados), por ejemplo:\n",
        "\n",
        "* Longitud del pie: continua.\n",
        "* Talla de calzado: discreta.\n",
        "\n",
        "Los datos geológicos discretos pueden ser:\n",
        "\n",
        "* Tipo fósil (especie A, especie B, etc.).\n",
        "* Clasificación de rocas (arenisca, caliza, lutita, etc.).\n",
        "* Tipo de falla (normal, empuje, deslizamiento, etc.).\n",
        "\n",
        "La prueba de Chi cuadrado proporciona una forma de evaluar qué tan probable es que los recuentos de datos discretos se ajusten a algún patrón esperado."
      ]
    },
    {
      "cell_type": "markdown",
      "metadata": {
        "id": "VwUpbd9UvoLk"
      },
      "source": [
        "## Ejemplo de Chi-cuadrado\n",
        "\n",
        "Tenemos muchos fósiles de trilobites de un depósito:\n",
        "\n",
        "* Los fósiles son mudas.\n",
        "* Tiene cranidia, librigena y pigidio.\n",
        "* Debe tener una relación de 1: 2: 1.\n",
        "\n",
        "¿Nuestros datos se apartan de esto? Si lo hace, podemos inferir un sesgo tafonómico, probablemente una clasificación actual.\n",
        "\n",
        "![trilobite](http://www.trilobites.info/cepthopyg.gif)\n",
        "\n",
        "![cranidium](http://upload.wikimedia.org/wikipedia/commons/thumb/1/19/Trilobite_cranidium-en.svg/270px-Trilobite_cranidium-en.svg.png)\n",
        "\n",
        "\n",
        "\n",
        "\n",
        "\n",
        "\n"
      ]
    },
    {
      "cell_type": "markdown",
      "metadata": {
        "id": "nmAsSICpvoLm"
      },
      "source": [
        "## Ejemplo de Chi-cuadrado cont ...\n",
        "\n",
        "La prueba de chi cuadrado requiere una tabla observada / esperada de esta forma:\n",
        "\n",
        "|          | Registros reales | Esperados (basados en un ratio 1:2:1) |\n",
        "|:---------|:------------------|:--------------------------------|\n",
        "|Cranidia  | 20                |17.25                            |\n",
        "|Librigena | 32                |34.5                             |\n",
        "|Pygidia   | 17                |17.25                            |\n",
        "|Total     | 69                |69                               |\n",
        "\n",
        "Python proporciona una prueba de chi cuadrado mediante el método [scipy.stats.chisquare](http://docs.scipy.org/doc/scipy/reference/generated/scipy.stats.chisquare.html), que prueba la hipótesis nula que los datos categóricos tienen las frecuencias dadas."
      ]
    },
    {
      "cell_type": "code",
      "metadata": {
        "id": "3kbxSovlvoLo",
        "colab": {
          "base_uri": "https://localhost:8080/"
        },
        "outputId": "f6d250a7-d98a-42d3-a0d8-a1f834dd1d0f"
      },
      "source": [
        "import numpy as np\n",
        "from scipy import stats\n",
        "\n",
        "Obs  = np.array([20, 32, 17])\n",
        "Exp  = np.array([17.25, 34.5, 17.25])\n",
        "s, p = stats.chisquare(Obs, Exp)\n",
        "print (\"p-value = {}\".format(p))"
      ],
      "execution_count": null,
      "outputs": [
        {
          "output_type": "stream",
          "text": [
            "p-value = 0.7322786244871056\n"
          ],
          "name": "stdout"
        }
      ]
    },
    {
      "cell_type": "markdown",
      "metadata": {
        "id": "2lRUMNYkvoL2"
      },
      "source": [
        "Por lo tanto, aceptamos la hipótesis nula: la muestra de datos tiene las frecuencias esperadas."
      ]
    },
    {
      "cell_type": "markdown",
      "metadata": {
        "id": "gbBWewwlvoL3"
      },
      "source": [
        "## Supuestos de chi cuadrado\n",
        "\n",
        "La prueba de Chi-cuadrado tiene una amplia aplicabilidad. No hay ningún requisito de normalidad, pero:\n",
        "\n",
        "* Las frecuencias esperadas para cada categoría deberán ser 1 como mínimo.\n",
        "* No más de un 20% de las categorías deberán tener frecuencias esperadas menores que 5."
      ]
    },
    {
      "cell_type": "markdown",
      "metadata": {
        "id": "f0vwZkPuvoL4"
      },
      "source": [
        "# Ejercicio 4.1: Prueba de Chi-cuadrado\n",
        "\n",
        "## Determine si las clasificaciones de calificaciones para un curso son atípicas\n",
        "\n",
        "El análisis de las calificaciones generales del curso muestra que el desglose de las calificaciones típicas es el siguiente:\n",
        "\n",
        "Reprobado: 4.3%\n",
        "A: 9.5%\n",
        "B: 18.4%\n",
        "C: 38.4%\n",
        "D: 29.4%\n",
        "\n",
        "Ahora considere la siguiente distribución de resultados de dos grupos diferentes de estudiantes:\n",
        "\n",
        "|Grade     | Grupo 1           |Grupo 2            |\n",
        "|:---------|:------------------|:------------------|\n",
        "|Reprobado | 3                 | 0                 |\n",
        "|A         | 10                | 8                 |\n",
        "|B         | 23                | 7                 |\n",
        "|C         | 30                |25                 |\n",
        "|D         | 20                |39                 |\n",
        "\n",
        "\n",
        "**Considere a cada grupo por separado: ¿son sus resultados atípicos?**\n",
        "\n",
        "## Sugerencia 1: La prueba de chi cuadrado se utiliza para determinar si los recuentos de observaciones discretas se ajustan a un patrón predeterminado de expectativas.\n",
        "\n",
        "[scipy.stats.chisquare (obs, exp)](http://docs.scipy.org/doc/scipy/reference/generated/scipy.stats.chisquare.html) - realice una prueba de Chi-cuadrado en matrices obs (Valores observados) y exp (Valores esperados)\n",
        "\n",
        "Devuelve una tupla de (s_statistic, p_value), donde s_statistic es el valor de Chi-cuadrado (como con las otras pruebas, probablemente puede ignorar esto), y p_value es la probabilidad (de dos colas) de que este resultado ocurra por casualidad (es decir, de las observaciones que realmente se ajustan a las expectativas).\n",
        "\n",
        "Las pruebas de chi cuadrado son siempre de dos colas (solo prueban las diferencias entre lo observado y lo esperado), no existe un concepto de \"dirección\" de diferencia.\n",
        "\n",
        "IMPORTANTE: la función toma matrices numpy, NO la lista de Python normal. Utilice la función de matriz numpy para convertir. Ejemplo de uso:\n"
      ]
    },
    {
      "cell_type": "code",
      "metadata": {
        "id": "i2UU4O2LvoL5"
      },
      "source": [
        "#Input numpy array of observed values\n",
        "obs = np.array([20, 32, 17])\n",
        "#Input numpy of expected values\n",
        "exp = np.array([17.25, 34.5, 17.25])\n",
        "\n",
        "s_statistic, p_value = stats.chisquare(obs, exp)"
      ],
      "execution_count": null,
      "outputs": []
    },
    {
      "cell_type": "markdown",
      "metadata": {
        "id": "uPQuKzbPvoMB"
      },
      "source": [
        "## Sugerencia 2: Exponga su hipótesis.\n",
        "\n",
        "H0: El curso tiene un desglose de clasificación esperado\n",
        "\n",
        "H1: El desglose de la clasificación del curso no sigue el patrón esperado\n",
        "\n",
        "## Sugerencia 3: Para calcular Chi-cuadrado necesitas una lista de valores esperados.\n",
        "\n",
        "Encuentre el total de los valores de entrada (puede usar la función de suma incorporada para hacer esto), multiplique esto por cada valor de porcentaje dado anteriormente y divida por 100.\n",
        "\n",
        "## Sugerencia 4: Verifique que la prueba sea válida.\n",
        "\n",
        "Debe verificar dos cosas:\n",
        "\n",
        "1. Ninguno de sus valores esperados debe ser inferior a 1.\n",
        "2. No más de uno (es decir, más de 1/5) de ellos es menos de 5."
      ]
    },
    {
      "cell_type": "code",
      "metadata": {
        "id": "lx2U2nbsvoMD",
        "colab": {
          "base_uri": "https://localhost:8080/"
        },
        "outputId": "6b6f9305-09aa-41f6-ac82-430bd9ab2892"
      },
      "source": [
        "# Solucion aquí\n",
        "import numpy as np\n",
        "\n",
        "# As we want to do this twice, lets write a function.\n",
        "def marks_atypical(Obs):\n",
        "    # Observations \n",
        "    total = np.sum(Obs)\n",
        "\n",
        "    # Typical distribution of marks.\n",
        "    typical = np.array([4.3, 9.5, 18.4, 38.4, 29.4])\n",
        "\n",
        "    # Expected marks\n",
        "    Exp = total*typical/100.0\n",
        "\n",
        "    # Check assumptions for the use of this test.\n",
        "    greater_than_5 = 0\n",
        "    for val in Exp:\n",
        "        # Check all values are greater than 1.\n",
        "        assert val > 1\n",
        "        if val >= 5:\n",
        "            greater_than_5 += 1\n",
        "    # Check at least 20% are greater than 5.\n",
        "    assert greater_than_5 > 0.2*Exp.size\n",
        "\n",
        "    from scipy import stats\n",
        "    s_statistic, p_value = stats.chisquare(Obs,Exp)\n",
        "    \n",
        "    if p_value < 0.05:\n",
        "        return True # ie the distributions are not the same\n",
        "    else:\n",
        "        return False\n",
        "\n",
        "Obs = np.array([3, 10, 23, 30, 20])\n",
        "print (\"Dataset: \", Obs)\n",
        "if marks_atypical(Obs):\n",
        "    print (\"Marks are atypical.\")\n",
        "else:\n",
        "    print (\"Marks are typical.\")\n",
        "\n",
        "Obs = np.array([0, 8, 7, 25, 39])\n",
        "print (\"Dataset: \", Obs)\n",
        "if marks_atypical(Obs):\n",
        "    print (\"Marks are atypical.\")\n",
        "else:\n",
        "    print (\"Marks are typical.\")"
      ],
      "execution_count": null,
      "outputs": [
        {
          "output_type": "stream",
          "text": [
            "Dataset:  [ 3 10 23 30 20]\n",
            "Marks are typical.\n",
            "Dataset:  [ 0  8  7 25 39]\n",
            "Marks are atypical.\n"
          ],
          "name": "stdout"
        }
      ]
    }
  ]
}