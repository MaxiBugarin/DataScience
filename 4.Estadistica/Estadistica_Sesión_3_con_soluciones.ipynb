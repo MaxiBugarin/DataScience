{
  "nbformat": 4,
  "nbformat_minor": 0,
  "metadata": {
    "kernelspec": {
      "name": "python3",
      "display_name": "Python 3"
    },
    "colab": {
      "name": "Estadistica Sesión 3 con soluciones.ipynb",
      "provenance": [],
      "include_colab_link": true
    }
  },
  "cells": [
    {
      "cell_type": "markdown",
      "metadata": {
        "id": "view-in-github",
        "colab_type": "text"
      },
      "source": [
        "<a href=\"https://colab.research.google.com/github/al34n1x/DataScience/blob/master/4.Estadistica/Estadistica_Sesi%C3%B3n_3_con_soluciones.ipynb\" target=\"_parent\"><img src=\"https://colab.research.google.com/assets/colab-badge.svg\" alt=\"Open In Colab\"/></a>"
      ]
    },
    {
      "cell_type": "markdown",
      "metadata": {
        "id": "2It4OM1uvWwW"
      },
      "source": [
        "# Intro a la estadística (Sesión 3)\n",
        "\n",
        "---\n",
        "\n"
      ]
    },
    {
      "cell_type": "markdown",
      "metadata": {
        "id": "3HSW8WUsvWwY"
      },
      "source": [
        "## Estadística inferencial\n",
        "\n",
        "Teniendo en cuenta los datos a continuación, ¿cómo respondemos preguntas como: ¿es el tamaño de grano mayor en el depósito B que en el depósito A?\n",
        "\n",
        "![grain size](https://github.com/al34n1x/DataScience/blob/master/img/example-grain-size.png?raw=true)\n",
        "\n",
        "Interesado en saber si los niveles de energía eran diferentes en los depósitos A y B. Esto tendrá relación con las teorías de cómo se formaron. La muestra de B tiene una media más alta, pero ¿es solo una variación casual?\n",
        "\n",
        "Para responder a esta pregunta, nosotros:\n",
        "\n",
        "* Formular hipótesis formales.\n",
        "* Aplicar prueba de hipótesis estadística apropiada."
      ]
    },
    {
      "cell_type": "markdown",
      "metadata": {
        "id": "6uUr5hhovWwb"
      },
      "source": [
        "## Hipótesis\n",
        "\n",
        "Formulamos dos hipótesis:\n",
        "La *hipótesis nula* (H0):\n",
        "\n",
        "> *No hay diferencia en el tamaño medio máximo de grano para las muestras obtenidas de los depósitos A y B.*\n",
        "\n",
        "... y una *hipótesis alternativa* (H1):\n",
        "\n",
        "> *El tamaño medio máximo de grano es mayor en la muestra B que en la muestra A.*\n",
        "\n",
        "Solo acepte H1 si es muy poco probable que H0 pueda explicar nuestras observaciones; de lo contrario, rechace H1."
      ]
    },
    {
      "cell_type": "markdown",
      "metadata": {
        "id": "cBEMUPGFvWwd"
      },
      "source": [
        "## Prueba de hipótesis\n",
        "\n",
        "Existen muchos tipos diferentes de pruebas estadísticas:\n",
        "\n",
        "* Para probar diferentes tipos de hipótesis.\n",
        "* Para manejar diferentes tipos de datos."
      ]
    },
    {
      "cell_type": "markdown",
      "metadata": {
        "id": "L_5lzIU5vWwe"
      },
      "source": [
        "### Prueba T de Student\n",
        "\n",
        "[La estadística t fue introducida en 1908 por William Sealy Gosset, un químico que trabajaba para la fábrica de cerveza Guinness en Dublín, Irlanda (\"Student\" era su seudónimo).](http://en.wikipedia.org/wiki/Student%27s_t-test) La prueba T de Student accede a la probabilidad de que dos muestras tengan la misma media subyacente. Python proporciona el método\n",
        "[scipy.stats.ttest_ind](http://docs.scipy.org/doc/scipy/reference/generated/scipy.stats.ttest_ind.html). Esta es una prueba para la hipótesis nula de que 2 muestras independientes tienen valores promedio (esperados) idénticos. Esta prueba supone que las poblaciones tienen variaciones idénticas.\n",
        "\n",
        "* Toma dos matrices de valores (es decir, dos muestras).\n",
        "* Devuelve *t-statistic*, que describe cuán diferentes son las medias.\n",
        "* Devuelve *valor p*, le indica la probabilidad de observar lo que hicimos si la hipótesis nula es cierta.\n",
        "\n",
        "En el ejemplo de tamaño de grano anterior, el estadístico t y los valores p son -1.1 y 0.28 respectivamente. **¿Es una probabilidad de 0.28 suficiente para rechazar H0?**"
      ]
    },
    {
      "cell_type": "code",
      "metadata": {
        "id": "-V5bcysTvWwg",
        "colab": {
          "base_uri": "https://localhost:8080/"
        },
        "outputId": "bec5b61d-c15c-4d5f-95ff-3295b3ff18da"
      },
      "source": [
        "# Nuevamente, hagamos un ejemplo trivial para asegurarnos de que sabemos lo que está sucediendo allí. \n",
        "import scipy.stats as stats\n",
        "\n",
        "# Genero dos conjuntos de datos aleatorios con una distribución normal\n",
        "# y la misma media.\n",
        "d1 = stats.norm.rvs(size=100000)\n",
        "d2 = stats.norm.rvs(size=100000)\n",
        "\n",
        "# ttest_ind es una prueba de dos lados para la hipótesis nula de que 2 muestras \n",
        "# independientes tienen valores promedio (esperados) idénticos.\n",
        "t_statistic, p_value = stats.ttest_ind(d1, d2)\n",
        "print (\"t-statistic = \", t_statistic)\n",
        "print (\"p-value = \", p_value)"
      ],
      "execution_count": 1,
      "outputs": [
        {
          "output_type": "stream",
          "text": [
            "t-statistic =  -0.05682717569407178\n",
            "p-value =  0.954682922607643\n"
          ],
          "name": "stdout"
        }
      ]
    },
    {
      "cell_type": "markdown",
      "metadata": {
        "id": "9OUakyQIvWwr"
      },
      "source": [
        "## Valor P\n",
        "\n",
        "El valor p se usa para determinar la probabilidad de que la hipótesis nula fuera verdadera: es la probabilidad de observar un estadístico de prueba más extremo en la dirección de la hipótesis alternativa. Por ejemplo, si el valor p es muy pequeño, entonces la hipótesis nula es \"improbable\". Si el valor p es mayor que algún umbral preestablecido, entonces se considera \"probable\".\n",
        "\n",
        "Por lo tanto, si el valor p es menor que (o igual a) $\\alpha$, entonces la hipótesis nula se rechaza a favor de la hipótesis alternativa. Y, si el valor P es mayor que $ \\alpha $, entonces la hipótesis nula no se rechaza. Comúnmente, el umbral se establece en $ p = 0.05 $, ¡pero es arbitrario!\n",
        "\n",
        "Los pasos involucrados en el uso del enfoque del valor P para realizar cualquier prueba de hipótesis son:\n",
        "\n",
        "* Especifique las hipótesis nulas y alternativas y elija la prueba adecuada.\n",
        "* Decide el nivel de significación para el valor p, $ \\alpha $.\n",
        "* Calcular el valor del estadístico de prueba y el valor p.\n",
        "* Considere, si la hipótesis nula es verdadera, ¿cuál es la probabilidad de que observemos un estadístico de prueba más extremo en la dirección de la hipótesis alternativa que lo que hicimos? Observe cómo esta pregunta es equivalente a la pregunta respondida en los juicios penales: \"Si el acusado es inocente, ¿cuál es la posibilidad de que observemos evidencia criminal tan extrema?\"\n",
        "* Si el valor p es menor que (o igual a) $ \\alpha $, rechace la hipótesis nula a favor de la hipótesis alternativa. De lo contrario, acepte la hipótesis nula.\n",
        "\n",
        "> En 2012, es probable que haya escuchado en las noticias el descubrimiento del bosón de Higgs. La frase *five-sigma* se usó para describir la fuerza del descubrimiento. Este es un valor p de 3x10$^{-7} $. [Leer más.](Http://blogs.scientificamerican.com/observations/five-sigmawhats-that/)\n",
        "\n",
        "En el ejemplo de tamaño de grano anterior, el valor p es 0.28, que está muy por encima del nivel significativo de 0.05. Por lo tanto, se dice que el resultado es *no significativo*: evidencia insuficiente para rechazar H0."
      ]
    },
    {
      "cell_type": "markdown",
      "metadata": {
        "id": "S-bZgO5vvWws"
      },
      "source": [
        "## Colas y niveles de significación\n",
        "\n",
        "**Prueba de una cola**:\n",
        "Formule la hipótesis H1: *El tamaño medio máximo de grano es mayor en la muestra B que en la muestra A*. Ahora estamos probando si la media de B es mayor que la media de A, no es diferente de la media de A.\n",
        "\n",
        "La figura a continuación ilustra la distribución de todos los valores t posibles: el resultado es significativo si el valor cae en la región azul.\t"
      ]
    },
    {
      "cell_type": "code",
      "metadata": {
        "id": "NszMQCvovWwt",
        "colab": {
          "base_uri": "https://localhost:8080/",
          "height": 265
        },
        "outputId": "ede64886-91f5-47e3-c2ca-4580830450c6"
      },
      "source": [
        "import numpy as np\n",
        "import matplotlib.pyplot as plt\n",
        "\n",
        "n = 100\n",
        "df = n-1\n",
        "x = np.linspace(stats.t.ppf(0.001, df), stats.t.ppf(0.999, df), n)\n",
        "p = stats.t.pdf(x, df)\n",
        "\n",
        "plt.plot(x, p, 'k')\n",
        "plt.fill_between(x, 0, p, interpolate=True,\n",
        "                 where=(x<=stats.t.ppf(0.05, df)))\n",
        "plt.show()"
      ],
      "execution_count": 2,
      "outputs": [
        {
          "output_type": "display_data",
          "data": {
            "image/png": "[encoded data removed]",
            "text/plain": [
              "<Figure size 432x288 with 1 Axes>"
            ]
          },
          "metadata": {
            "tags": [],
            "needs_background": "light"
          }
        }
      ]
    },
    {
      "cell_type": "markdown",
      "metadata": {
        "id": "3v-N0zQ6vWw0"
      },
      "source": [
        "**Prueba de dos colas**: Hipótesis de forma H1: *El tamaño medio máximo de grano es diferente en las dos muestras*. Hay dos formas posibles en que puede ser diferente: mayor que *o* menor que. La prueba de dos colas tiene dos *regiones de significación* - una en cada cola - cada mitad del tamaño de la región de significación de una cola."
      ]
    },
    {
      "cell_type": "code",
      "metadata": {
        "id": "sy5W0TqQvWw1",
        "colab": {
          "base_uri": "https://localhost:8080/",
          "height": 265
        },
        "outputId": "74368c56-1771-48d8-ede5-261bc52d6f7f"
      },
      "source": [
        "plt.plot(x, p, 'k')\n",
        "plt.fill_between(x, 0, p, interpolate=True,\n",
        "                 where=((x<=stats.t.ppf(0.05, df)) | (x>=stats.t.ppf(0.95, df))))\n",
        "plt.show()"
      ],
      "execution_count": 3,
      "outputs": [
        {
          "output_type": "display_data",
          "data": {
            "image/png": "[encoded data removed]",
            "text/plain": [
              "<Figure size 432x288 with 1 Axes>"
            ]
          },
          "metadata": {
            "tags": [],
            "needs_background": "light"
          }
        }
      ]
    },
    {
      "cell_type": "markdown",
      "metadata": {
        "id": "bi-O8ImzvWw8"
      },
      "source": [
        "### Colas en la práctica\n",
        "\n",
        "1. ¡Decide si tu prueba es de una o dos colas ANTES de hacerlo!\n",
        "2. Valores devueltos por [scipy.stats](http://docs.scipy.org/doc/scipy/reference/stats.html) funciones (por ejemplo, [ttest_ind](http://docs.scipy.org/doc/scipy/reference/generate/scipy.stats.ttest_ind.html#scipy.stats.ttest_ind)) son para pruebas de dos colas (¡en su mayoría!)\n",
        "  1. Si su prueba es de dos colas, no hay problema\n",
        "  2. Si la prueba es de una cola, reduzca a la mitad el valor p antes de interpretarlo.\n",
        "En el ejemplo anterior, el valor p fue de 0.28, pero este es un valor de dos colas mientras que la prueba fue de una cola. El valor real para la prueba fue 0.14. En este caso todavía no es significativo (> 0.05), pero la reducción a la mitad podría marcar la diferencia fácilmente."
      ]
    },
    {
      "cell_type": "markdown",
      "metadata": {
        "id": "_rVN7SP0vWw9"
      },
      "source": [
        "## Más sobre la prueba t.\n",
        "\n",
        "La prueba T es la prueba estadística más utilizada, pero no siempre es adecuada. Hace varias suposiciones.\n",
        "\n",
        "* Los resultados sensibles necesitan tamaños de muestra razonablemente grandes.\n",
        "  * Esto también se aplica a otras pruebas.\n",
        "* Asume que los datos en las muestras se distribuyen normalmente:\n",
        "  * Puede o no ser realmente cierto.\n",
        "  * Si no, considere usar pruebas no paramétricas."
      ]
    },
    {
      "cell_type": "markdown",
      "metadata": {
        "id": "Fv6Npca6vWxA"
      },
      "source": [
        "## Equivalentes no paramétricos\n",
        "\n",
        "La prueba no paramétrica más utilizada es la [prueba U de Mann-Whitney](http://docs.scipy.org/doc/scipy/reference/generated/scipy.stats.mannwhitneyu.html#scipy.stats.mannwhitneyu) .\n",
        "\n",
        "* Utiliza rangos de datos (como la correlación de Spearman).\n",
        "* No requiere que las distribuciones de datos sean normales.\n",
        "* Prueba menos potente (más falsos negativos) si las distribuciones son normales (como todas las pruebas no paramétricas).\n",
        "\n",
        "Cuando hay un modelo matemático disponible, la [Prueba de Kolmorogov-Smirnov (KS)](http://docs.scipy.org/doc/scipy/reference/generated/scipy.stats.kstest.html#scipy.stats.kstest) es comúnmente utilizado.\n",
        "\n",
        "* La prueba K-S es para \"bondad de ajuste\": qué tan bien se ajusta una distribución a un modelo matemático.\n",
        "* La variante de prueba K-S \"Dos muestras\" se puede utilizar como una alternativa no paramétrica a una prueba t.\n",
        "* Prueba más que solo la diferencia de medias: prueba otros aspectos de la forma de distribución.\n",
        "* Se utiliza para responder preguntas como '¿parecen estas dos muestras provenir de la misma población subyacente'?"
      ]
    },
    {
      "cell_type": "markdown",
      "metadata": {
        "id": "YSYMhLg7vWxB"
      },
      "source": [
        "## Pruebas de hipótesis de correlación\n",
        "\n",
        "Ya hemos visto que los valores de p pueden obtenerse para correlaciones (Pearson o Spearman). Podemos probar hipótesis de correlación con estos.\n",
        "\n",
        "* H0: \"La marca de Dorset y la marca de fin de año no están relacionadas\"\n",
        "* H1: \"Hay una correlación entre la marca de Dorset y la marca de fin de año\"\n",
        "\n",
        "Esta es una prueba de dos colas y utilizaremos un nivel de significancia del 5%.\n",
        "\n",
        "* Pearson R es 0.27, p = 0.014 --- significativo, por lo tanto, rechace H0 a favor de H1.\n",
        "* Spearman R es 0.19, p = 0.087 --- no significativo, por lo tanto, acepte H0.\n",
        "\n",
        "Entonces, si podemos usar Pearson, podemos aceptar H1, pero con Spearman no podemos, no hay suficiente evidencia. ¡Necesitamos hacer un mejor trabajo para decidir cuál usar!\n",
        "\t\t\t"
      ]
    },
    {
      "cell_type": "markdown",
      "metadata": {
        "id": "U0NzmT34vWxC"
      },
      "source": [
        "## Pruebas de normalidad\n",
        "\n",
        "En lugar de adivinar si una distribución es normal, ¿podemos probarla?\n",
        "\n",
        "Sí, simplemente se convierte en otra prueba de hipótesis:\n",
        "\n",
        "* $H_0$: 'La distribución subyacente es normal'.\n",
        "* $H_1$: 'La distribución subyacente no es normal'.\n",
        "\n",
        "Existen muchas pruebas diferentes de normalidad, sin acuerdo universal sobre cuál es el mejor. Una buena solución es la prueba combinada *D'Agostino y Pearson*, proporcionada por Python mediante el método [scipy.stats.normaltest](http://docs.scipy.org/doc/scipy/reference/generated/scipy.stats.normaltest.html). Esta función prueba la hipótesis nula de que una muestra proviene de una distribución normal.\n",
        "\n",
        "Esta también es una buena oportunidad para ilustrar claramente el uso del valor p utilizando dos casos de prueba muy claros."
      ]
    },
    {
      "cell_type": "code",
      "metadata": {
        "id": "UVLxiM6pvWxD",
        "colab": {
          "base_uri": "https://localhost:8080/",
          "height": 283
        },
        "outputId": "69891849-f6a5-4b23-d9b7-81e7d56bc0bd"
      },
      "source": [
        "import numpy as np\n",
        "from scipy import stats\n",
        "import pylab as pl\n",
        "%pylab inline\n",
        "\n",
        "# Crear una distribución normal.\n",
        "values = stats.norm.rvs(size=100000)\n",
        "statistic, pvalue = stats.normaltest(values)\n",
        "pl.hist(values)   #podemos agregar mas escalones para hacer el plot más suave?\n",
        "pl.legend((\"p-value=%.2g\"%pvalue, ))\n",
        "pl.show()"
      ],
      "execution_count": 4,
      "outputs": [
        {
          "output_type": "stream",
          "text": [
            "Populating the interactive namespace from numpy and matplotlib\n"
          ],
          "name": "stdout"
        },
        {
          "output_type": "display_data",
          "data": {
            "image/png": "[encoded data removed]",
            "text/plain": [
              "<Figure size 432x288 with 1 Axes>"
            ]
          },
          "metadata": {
            "tags": [],
            "needs_background": "light"
          }
        }
      ]
    },
    {
      "cell_type": "code",
      "metadata": {
        "id": "R4d-CEgCvWxL",
        "colab": {
          "base_uri": "https://localhost:8080/"
        },
        "outputId": "65464681-1ac4-4aa5-9b90-1e740c869ffc"
      },
      "source": [
        "# Sin embargo, observe cómo varía para diferentes conjuntos de datos.\n",
        "# ¡Incluso con datos perfectos puede obtener falsos positivos!\n",
        "for i in range(10):\n",
        "    values = stats.norm.rvs(size=1000)\n",
        "    statistic, pvalue = stats.normaltest(values)\n",
        "    print (i, \"p-value = \", pvalue)\n",
        "\n",
        "# En la implementación de SciPy de estas pruebas, puede interpretar el valor p de la siguiente manera.\n",
        "\n",
        "# p <= alfa: rechazar H0, no es distrib normal.\n",
        "# p> alfa: no puede rechazar H0,es distrib normal."
      ],
      "execution_count": 5,
      "outputs": [
        {
          "output_type": "stream",
          "text": [
            "0 p-value =  0.6506046240487637\n",
            "1 p-value =  0.752102994333167\n",
            "2 p-value =  0.4980367897524618\n",
            "3 p-value =  0.05965649979695005\n",
            "4 p-value =  0.8204860250111522\n",
            "5 p-value =  0.40769020483818386\n",
            "6 p-value =  0.2669690166407365\n",
            "7 p-value =  0.8427089706626201\n",
            "8 p-value =  0.22138321433627411\n",
            "9 p-value =  0.6888729368511431\n"
          ],
          "name": "stdout"
        }
      ]
    },
    {
      "cell_type": "code",
      "metadata": {
        "id": "4XcJYSPrvWxQ",
        "colab": {
          "base_uri": "https://localhost:8080/",
          "height": 265
        },
        "outputId": "f01e4c82-3646-4f4c-fc62-9d49cce08b39"
      },
      "source": [
        "# Sin embargo, el grado de variabilidad para el valor p se pone en contexto\n",
        "# cuando lo compara con otros tipos de distribuciones, p. ej. La distribución exponencial.\n",
        "values = stats.expon.rvs(size=1000)\n",
        "statistic, pvalue = stats.normaltest(values)\n",
        "pylab.hist(values)\n",
        "pylab.legend((\"p-value=%.2g\"%pvalue, ))\n",
        "pylab.show()"
      ],
      "execution_count": 6,
      "outputs": [
        {
          "output_type": "display_data",
          "data": {
            "image/png": "[encoded data removed]",
            "text/plain": [
              "<Figure size 432x288 with 1 Axes>"
            ]
          },
          "metadata": {
            "tags": [],
            "needs_background": "light"
          }
        }
      ]
    },
    {
      "cell_type": "code",
      "metadata": {
        "id": "EvCUJQGdD_rt",
        "colab": {
          "base_uri": "https://localhost:8080/"
        },
        "outputId": "5d3cb7de-dea1-4f33-c1ba-005979ff1b6b"
      },
      "source": [
        "# Y si hacemos varias veces el test?\n",
        "for i in range(10):\n",
        "    values = stats.expon.rvs(size=1000)\n",
        "    statistic, pvalue = stats.normaltest(values)\n",
        "    print (i, \"p-value = \", pvalue)\n",
        "\n",
        "# En la implementación de SciPy de estas pruebas, puede interpretar el valor p de la siguiente manera.\n",
        "\n",
        "# p <= alfa: rechazar H0, no normal.\n",
        "# p> alfa: no puede rechazar H0, normal."
      ],
      "execution_count": 7,
      "outputs": [
        {
          "output_type": "stream",
          "text": [
            "0 p-value =  1.124860494316292e-140\n",
            "1 p-value =  3.1514905332928953e-96\n",
            "2 p-value =  6.22741136998453e-81\n",
            "3 p-value =  9.51914707498514e-97\n",
            "4 p-value =  1.2539544474906482e-110\n",
            "5 p-value =  2.1320586215495415e-77\n",
            "6 p-value =  4.312206985256976e-77\n",
            "7 p-value =  1.620555410894962e-77\n",
            "8 p-value =  3.5856801443319223e-93\n",
            "9 p-value =  3.7825122174555507e-73\n"
          ],
          "name": "stdout"
        }
      ]
    },
    {
      "cell_type": "markdown",
      "metadata": {
        "id": "8DsBrrBGvWxU"
      },
      "source": [
        "# Demostración: ¿son normales las distribuciones de marcas en el ejemplo de marcas del primer año?"
      ]
    },
    {
      "cell_type": "code",
      "metadata": {
        "id": "JBSySOyKvWxW",
        "colab": {
          "base_uri": "https://localhost:8080/"
        },
        "outputId": "897a80eb-7f56-4edc-ccd4-b31221ac5e75"
      },
      "source": [
        "# Leemos los registros\n",
        "record = np.recfromcsv(\"http://cdn.jsdelivr.net/gh/al34n1x/DataScience/data/first_year_marks.csv\") \n",
        "\n",
        "print (record.dtype.names)"
      ],
      "execution_count": 8,
      "outputs": [
        {
          "output_type": "stream",
          "text": [
            "('field_mark', 'overall_year')\n"
          ],
          "name": "stdout"
        }
      ]
    },
    {
      "cell_type": "code",
      "metadata": {
        "id": "ueaGJ8FfvWxb",
        "colab": {
          "base_uri": "https://localhost:8080/",
          "height": 317
        },
        "outputId": "aa5cea8d-51bb-43a6-bbda-4e3ac861f623"
      },
      "source": [
        "field_mark = np.array(record[\"field_mark\"], dtype=float)\n",
        "\n",
        "k2, p = stats.normaltest(field_mark)\n",
        "print (\"Skew = \", k2) #asimetría\n",
        "print (\"H0 - field marks tiene distrib normal: \")\n",
        "if p<0.05:\n",
        "    print (\"Rechazo a favor de H1.\")\n",
        "else:\n",
        "    print (\"Acepto.\")\n",
        "\n",
        "pl.hist(field_mark, bins=10)\n",
        "pl.legend((\"p-value=%.2g\"%p, ))\n",
        "pl.show()"
      ],
      "execution_count": 9,
      "outputs": [
        {
          "output_type": "stream",
          "text": [
            "Skew =  11.90871817961577\n",
            "H0 - field marks tiene distrib normal: \n",
            "Rechazo a favor de H1.\n"
          ],
          "name": "stdout"
        },
        {
          "output_type": "display_data",
          "data": {
            "image/png": "[encoded data removed]",
            "text/plain": [
              "<Figure size 432x288 with 1 Axes>"
            ]
          },
          "metadata": {
            "tags": [],
            "needs_background": "light"
          }
        }
      ]
    },
    {
      "cell_type": "code",
      "metadata": {
        "id": "k7uAatQIvWxh",
        "colab": {
          "base_uri": "https://localhost:8080/",
          "height": 317
        },
        "outputId": "9b3ebf9d-ed59-4132-fe5f-d3d554d90957"
      },
      "source": [
        "overall_year = np.array(record[\"overall_year\"], dtype=float)\n",
        "\n",
        "k2, p = stats.normaltest(overall_year)\n",
        "print (\"Skew = \", k2)\n",
        "print (\"H0 - overall year tiene distrib normal: \")\n",
        "if p<0.05:\n",
        "    print  (\"Rechazo a favor de H1.\")\n",
        "else:\n",
        "    print (\"Acepto.\")\n",
        "\n",
        "pl.hist(overall_year, bins=5)\n",
        "pl.legend((\"p-value=%.2g\"%p, ))\n",
        "pl.show()"
      ],
      "execution_count": 10,
      "outputs": [
        {
          "output_type": "stream",
          "text": [
            "Skew =  0.0402331177377869\n",
            "H0 - overall year tiene distrib normal: \n",
            "Acepto.\n"
          ],
          "name": "stdout"
        },
        {
          "output_type": "display_data",
          "data": {
            "image/png": "[encoded data removed]",
            "text/plain": [
              "<Figure size 432x288 with 1 Axes>"
            ]
          },
          "metadata": {
            "tags": [],
            "needs_background": "light"
          }
        }
      ]
    },
    {
      "cell_type": "markdown",
      "metadata": {
        "id": "LzqMlBRRvWxl"
      },
      "source": [
        "Como al menos uno de estos conjuntos de datos no tiene una distribución normal, debemos usar la prueba de correlación de Spearman."
      ]
    },
    {
      "cell_type": "markdown",
      "metadata": {
        "id": "4pg2-ao0vWxm"
      },
      "source": [
        "# Ejercicio 7.1: Prueba de hipótesis\n",
        "\n",
        "1. Tengo dos conjuntos de fósiles de trilobites de diferentes localidades. Creo que son de la misma especie, pero quiero una confirmación cuantitativa, sobre la base de su relación media de longitud:ancho ([triloshape1.csv](http://cdn.jsdelivr.net/gh/al34n1x/DataScience/data/triloshape1.csv), [triloshape2.csv](http://cdn.jsdelivr.net/gh/al34n1x/DataScience/data/triloshape2.csv)) ¿hay evidencia de que son diferentes?\n",
        "2. He medido porcentajes de mica en muestras de rocas ígneas de dos localidades diferentes ([micapercent1.csv](http://cdn.jsdelivr.net/gh/al34n1x/DataScience/data/micapercent1.csv), [micapercent2.csv ](http://cdn.jsdelivr.net/gh/al34n1x/DataScience/data/micapercent2.csv)). El porcentaje medio de mica es menor en la segunda localidad y tengo una teoría geológica que puede explicar esto, pero primero necesito descartar la posibilidad de que el menor contenido de mica se deba al azar.\n",
        "\n",
        "En cada caso, construya (es decir, escriba) sus dos hipótesis, decida cómo están redactadas si son de una o dos colas, luego use su programa para evaluar cuál debe aceptar.\n",
        "\n",
        "Consejos:\n",
        "\n",
        "* Probar conjuntos de datos para normalidad (es decir, tienen distribución normal). Use la prueba D'Agostino & Pearson para proporcionar probabilidades de normalidad.\n",
        "* Pruebe si sus medias difieren significativamente. Al probar si las medias son diferentes, debe usar un valor p de Mann-Whitney de dos colas o un valor p de la prueba T de dos colas, según el resultado de la prueba de normalidad. Recuerde que la función scipy.stats Mann-Whitney devuelve un valor p de una cola.\n",
        "\n"
      ]
    },
    {
      "cell_type": "code",
      "metadata": {
        "id": "3MJO7FuxvWxo",
        "colab": {
          "base_uri": "https://localhost:8080/"
        },
        "outputId": "f7ead71f-9e2c-4f34-ed45-41a955d95eea"
      },
      "source": [
        "# Su solución aquí\n",
        "\n",
        "\n",
        "# Read in data\n",
        "import numpy as np\n",
        "\n",
        "# Read in the records.\n",
        "record1 = np.recfromcsv(\"http://cdn.jsdelivr.net/gh/al34n1x/DataScience/data/triloshape1.csv\") \n",
        "record2 = np.recfromcsv(\"http://cdn.jsdelivr.net/gh/al34n1x/DataScience/data/triloshape2.csv\") \n",
        "\n",
        "print (record1.dtype.names)\n",
        "print (record2.dtype.names)"
      ],
      "execution_count": 11,
      "outputs": [
        {
          "output_type": "stream",
          "text": [
            "('082',)\n",
            "('116',)\n"
          ],
          "name": "stdout"
        }
      ]
    },
    {
      "cell_type": "code",
      "metadata": {
        "id": "lILV8Ig8rxj0"
      },
      "source": [
        "\n",
        "# Read in the records - take II.\n",
        "record1 = np.recfromtxt(\"http://cdn.jsdelivr.net/gh/al34n1x/DataScience/data/triloshape1.csv\") \n",
        "record2 = np.recfromtxt(\"http://cdn.jsdelivr.net/gh/al34n1x/DataScience/data/triloshape2.csv\") \n",
        "\n",
        "triloshape1 = np.array(record1, dtype=float)\n",
        "triloshape2 = np.array(record2, dtype=float)"
      ],
      "execution_count": 12,
      "outputs": []
    },
    {
      "cell_type": "code",
      "metadata": {
        "id": "FXx-BUMwr43h",
        "colab": {
          "base_uri": "https://localhost:8080/",
          "height": 281
        },
        "outputId": "f34f9dbf-75c2-4618-c0f0-bb31336c6489"
      },
      "source": [
        "import numpy as np\n",
        "from scipy.stats import norm\n",
        "import matplotlib.pyplot as plt\n",
        "\n",
        "\n",
        "# Generate some data for this demonstration.\n",
        "data = triloshape1\n",
        "\n",
        "# Fit a normal distribution to the data:\n",
        "mu, std = norm.fit(data)\n",
        "\n",
        "# Plot the histogram.\n",
        "plt.hist(data, bins=10, density=True, alpha=0.6, color='g')\n",
        "\n",
        "# Plot the PDF.\n",
        "xmin, xmax = plt.xlim()\n",
        "x = np.linspace(xmin, xmax, 100)\n",
        "p = norm.pdf(x, mu, std)\n",
        "plt.plot(x, p, 'k', linewidth=2)\n",
        "title = \"Fit results: mu = %.2f,  std = %.2f\" % (mu, std)\n",
        "plt.title(title)\n",
        "\n",
        "plt.show()"
      ],
      "execution_count": 13,
      "outputs": [
        {
          "output_type": "display_data",
          "data": {
            "image/png": "[encoded data removed]",
            "text/plain": [
              "<Figure size 432x288 with 1 Axes>"
            ]
          },
          "metadata": {
            "tags": [],
            "needs_background": "light"
          }
        }
      ]
    },
    {
      "cell_type": "code",
      "metadata": {
        "id": "_IkcRtvPsuNu",
        "colab": {
          "base_uri": "https://localhost:8080/",
          "height": 281
        },
        "outputId": "7e307456-c748-4bd2-c484-58742c37c1f2"
      },
      "source": [
        "\n",
        "# Generate some data for this demonstration.\n",
        "data = triloshape2\n",
        "\n",
        "# Fit a normal distribution to the data:\n",
        "mu, std = norm.fit(data)\n",
        "\n",
        "# Plot the histogram.\n",
        "plt.hist(data, bins=10, density=True, alpha=0.6, color='g')\n",
        "\n",
        "# Plot the PDF.\n",
        "xmin, xmax = plt.xlim()\n",
        "x = np.linspace(xmin, xmax, 100)\n",
        "p = norm.pdf(x, mu, std)\n",
        "plt.plot(x, p, 'k', linewidth=2)\n",
        "title = \"Fit results: mu = %.2f,  std = %.2f\" % (mu, std)\n",
        "plt.title(title)\n",
        "\n",
        "plt.show()"
      ],
      "execution_count": 14,
      "outputs": [
        {
          "output_type": "display_data",
          "data": {
            "image/png": "[encoded data removed]",
            "text/plain": [
              "<Figure size 432x288 with 1 Axes>"
            ]
          },
          "metadata": {
            "tags": [],
            "needs_background": "light"
          }
        }
      ]
    },
    {
      "cell_type": "code",
      "metadata": {
        "id": "EPAniGbNs7-R",
        "colab": {
          "base_uri": "https://localhost:8080/"
        },
        "outputId": "3a651709-2b25-4b01-e50f-77a47a0bfcce"
      },
      "source": [
        "# Los gráficos no parecen muy convincentes. Sin embargo, siempre es mejor usar una prueba cuantitativa.\n",
        "# Utilice la prueba de D'Agostino & Pearson para probar la hipótesis nula de que provienen muestras\n",
        "# una distribución normal.\n",
        "from scipy import stats\n",
        "\n",
        "k2_1, p_1 = stats.normaltest(triloshape1)\n",
        "k2_2, p_2 = stats.normaltest(triloshape2)\n",
        "\n",
        "print (\"p-values = \", p_1, p_2)\n",
        "if p_1 <= 0.05 or p_2 <= 0.05:\n",
        "    print (\"Rechazar la hipotesis de que las muestras vienen de una distribución normal.\")\n",
        "else:\n",
        "    print (\"Aceptar la hipotesis de que las muestras vienen de una distribución normal.\")"
      ],
      "execution_count": 15,
      "outputs": [
        {
          "output_type": "stream",
          "text": [
            "p-values =  0.5253419681562425 0.5432794516844254\n",
            "Aceptar la hipotesis de que las muestras vienen de una distribución normal.\n"
          ],
          "name": "stdout"
        }
      ]
    },
    {
      "cell_type": "markdown",
      "metadata": {
        "id": "Pogx8ukxtocY"
      },
      "source": [
        "Ahora que estamos seguros de que las dos distribuciones provienen de una distribución normal, estamos seguros de que deberíamos usar la prueba T para comparar estos conjuntos de datos. Esta es una prueba de dos lados para la hipótesis nula de que 2 muestras independientes tienen valores promedio (esperados) idénticos."
      ]
    },
    {
      "cell_type": "code",
      "metadata": {
        "id": "7q5Dkml6ujPK",
        "colab": {
          "base_uri": "https://localhost:8080/"
        },
        "outputId": "21e917de-9d96-495c-9e3f-69c0984ad740"
      },
      "source": [
        "t, p = stats.ttest_ind(triloshape1, triloshape2)\n",
        "\n",
        "print (\"T-test - (t, p) = %g, %g\"%(t, p))\n",
        "if p<=0.05:\n",
        "    print (\"Rechazo la hipótesis de que las poblaciones son iguales.\"),\n",
        "else:\n",
        "    print (\"Acepto la hipótesis de que las poblaciones son iguales.\")"
      ],
      "execution_count": 16,
      "outputs": [
        {
          "output_type": "stream",
          "text": [
            "T-test - (t, p) = -2.09157, 0.0380368\n",
            "Rechazo la hipótesis de que las poblaciones son iguales.\n"
          ],
          "name": "stdout"
        }
      ]
    },
    {
      "cell_type": "markdown",
      "metadata": {
        "id": "h1pz-GhZuy5U"
      },
      "source": [
        "Pregunta 2\n"
      ]
    },
    {
      "cell_type": "code",
      "metadata": {
        "id": "sZqhMF7xu1bl",
        "colab": {
          "base_uri": "https://localhost:8080/"
        },
        "outputId": "8ca70ff8-ddf0-4dec-dc0e-b305b916fe8e"
      },
      "source": [
        "# Read in data\n",
        "import numpy as np\n",
        "\n",
        "# Read in the records.\n",
        "record1 = np.recfromcsv(\"http://cdn.jsdelivr.net/gh/al34n1x/DataScience/data/micapercent1.csv\") \n",
        "record2 = np.recfromcsv(\"http://cdn.jsdelivr.net/gh/al34n1x/DataScience/data/micapercent2.csv\") \n",
        "\n",
        "print (record1.dtype.names)\n",
        "print (record2.dtype.names)"
      ],
      "execution_count": 17,
      "outputs": [
        {
          "output_type": "stream",
          "text": [
            "('89',)\n",
            "('62',)\n"
          ],
          "name": "stdout"
        }
      ]
    },
    {
      "cell_type": "code",
      "metadata": {
        "id": "y04QuhJVvALR"
      },
      "source": [
        "# Read in the records - take II.\n",
        "record1 = np.recfromtxt(\"http://cdn.jsdelivr.net/gh/al34n1x/DataScience/data/micapercent1.csv\") \n",
        "record2 = np.recfromtxt(\"http://cdn.jsdelivr.net/gh/al34n1x/DataScience/data/micapercent2.csv\") \n",
        "\n",
        "micapercent1 = np.array(record1, dtype=float)\n",
        "micapercent2 = np.array(record2, dtype=float)"
      ],
      "execution_count": 18,
      "outputs": []
    },
    {
      "cell_type": "code",
      "metadata": {
        "id": "8uyP-YLtvK0X",
        "colab": {
          "base_uri": "https://localhost:8080/",
          "height": 281
        },
        "outputId": "71413849-d749-433b-c53f-30ce39da68a0"
      },
      "source": [
        "# Generate some data for this demonstration.\n",
        "data = micapercent1\n",
        "\n",
        "# Fit a normal distribution to the data:\n",
        "mu, std = norm.fit(data)\n",
        "\n",
        "# Plot the histogram.\n",
        "plt.hist(data, bins=10, density=True, alpha=0.6, color='g')\n",
        "\n",
        "# Plot the PDF.\n",
        "xmin, xmax = plt.xlim()\n",
        "x = np.linspace(xmin, xmax, 100)\n",
        "p = norm.pdf(x, mu, std)\n",
        "plt.plot(x, p, 'k', linewidth=2)\n",
        "title = \"Fit results: mu = %.2f,  std = %.2f\" % (mu, std)\n",
        "plt.title(title)\n",
        "\n",
        "plt.show()"
      ],
      "execution_count": 19,
      "outputs": [
        {
          "output_type": "display_data",
          "data": {
            "image/png": "[encoded data removed]",
            "text/plain": [
              "<Figure size 432x288 with 1 Axes>"
            ]
          },
          "metadata": {
            "tags": [],
            "needs_background": "light"
          }
        }
      ]
    },
    {
      "cell_type": "code",
      "metadata": {
        "id": "t5rGphy0vR23",
        "colab": {
          "base_uri": "https://localhost:8080/",
          "height": 281
        },
        "outputId": "036f66e2-a3ca-4c56-a1ab-e261f4900aa3"
      },
      "source": [
        "# Generate some data for this demonstration.\n",
        "data = micapercent2\n",
        "\n",
        "# Fit a normal distribution to the data:\n",
        "mu, std = norm.fit(data)\n",
        "\n",
        "# Plot the histogram.\n",
        "plt.hist(data, bins=10, density=True, alpha=0.6, color='g')\n",
        "\n",
        "# Plot the PDF.\n",
        "xmin, xmax = plt.xlim()\n",
        "x = np.linspace(xmin, xmax, 100)\n",
        "p = norm.pdf(x, mu, std)\n",
        "plt.plot(x, p, 'k', linewidth=2)\n",
        "title = \"Fit results: mu = %.2f,  std = %.2f\" % (mu, std)\n",
        "plt.title(title)\n",
        "\n",
        "plt.show()"
      ],
      "execution_count": 20,
      "outputs": [
        {
          "output_type": "display_data",
          "data": {
            "image/png": "[encoded data removed]",
            "text/plain": [
              "<Figure size 432x288 with 1 Axes>"
            ]
          },
          "metadata": {
            "tags": [],
            "needs_background": "light"
          }
        }
      ]
    },
    {
      "cell_type": "code",
      "metadata": {
        "id": "BfguQKd1vd_r",
        "colab": {
          "base_uri": "https://localhost:8080/"
        },
        "outputId": "ead0812e-18c5-44f1-da0c-3ad8641ddb80"
      },
      "source": [
        "# Los gráficos no parecen muy convincentes. Sin embargo, siempre es mejor usar una prueba cuantitativa.\n",
        "# Utilice la prueba de D'Agostino & Pearson para probar la hipótesis nula de que provienen muestras\n",
        "# una distribución normal.\n",
        "from scipy import stats\n",
        "\n",
        "k2_1, p_1 = stats.normaltest(micapercent1)\n",
        "k2_2, p_2 = stats.normaltest(micapercent2)\n",
        "\n",
        "print (\"p-values = \", p_1, p_2)\n",
        "if p_1 <= 0.05 or p_2 <= 0.05:\n",
        "    print (\"Rechazar la hipotesis de que las muestras vienen de una distribución normal.\")\n",
        "else:\n",
        "    print (\"Aceptar la hipotesis de que las muestras vienen de una distribución normal.\")"
      ],
      "execution_count": 21,
      "outputs": [
        {
          "output_type": "stream",
          "text": [
            "p-values =  3.19642639296486e-05 0.36414825539139845\n",
            "Rechazar la hipotesis de que las muestras vienen de una distribución normal.\n"
          ],
          "name": "stdout"
        }
      ]
    },
    {
      "cell_type": "code",
      "metadata": {
        "id": "JVXlekVJvnpq",
        "colab": {
          "base_uri": "https://localhost:8080/"
        },
        "outputId": "1164dd9a-510c-4688-9814-bd6b43782863"
      },
      "source": [
        "u, p = stats.mannwhitneyu(micapercent1, micapercent2)\n",
        "\n",
        "# Este es un test e una cola\n",
        "\n",
        "print (\"Rank test Mann-Whitney de una cola p-value = \", p, \" and u value = \", u)\n",
        "if p<=0.05:\n",
        "    print (\"Rechazo la hipótesis de que las poblaciones son iguales.\"),\n",
        "else:\n",
        "    print (\"Acepto la hipótesis de que las poblaciones son iguales.\")"
      ],
      "execution_count": 22,
      "outputs": [
        {
          "output_type": "stream",
          "text": [
            "Rank test Mann-Whitney de una cola p-value =  0.021983043515195907  and u value =  512.5\n",
            "Rechazo la hipótesis de que las poblaciones son iguales.\n"
          ],
          "name": "stdout"
        }
      ]
    },
    {
      "cell_type": "markdown",
      "metadata": {
        "id": "LZb4IwGGvWxu"
      },
      "source": [
        "# Práctica 7.2: Prueba de Kolmogorov-Smirnov\n",
        "\n",
        "* Utilice los datos de trilobite anteriores y realice una prueba de Kolmogorov-Smirnov a dos caras (dos muestras) para determinar si provienen de la misma distribución o no.\n",
        "* Pruebe si cada dato de trilobites proviene de una distribución exponencial o no. (Deberá generar una distribución exponencial para esta pregunta y normalizar todas las distribuciones primero)\n",
        "\n",
        "**NB**: La función necesaria PUEDE encontrarse en scipy.stats [aquí](https://docs.scipy.org/doc/scipy/reference/generated/scipy.stats.ks_2samp.html)\n",
        "\n",
        "## BONUS (más difícil)\n",
        "\n",
        "* Trace las funciones de distribución acumulativa (CDF) para los datos de trilobites en una figura como gráficos lineales.\n",
        "* Trace un CDF exponencial encima de esto también (con una línea discontinua)\n",
        "* ¿Alguna vez hubo alguna sospecha de que los datos pudieran ser exponenciales?\n",
        "\n",
        "**PISTA** los histogramas tienen un argumento acumulativo que puede utilizar."
      ]
    },
    {
      "cell_type": "code",
      "metadata": {
        "id": "SD_l6tz6vWxu"
      },
      "source": [
        "# Su solución aquí"
      ],
      "execution_count": 23,
      "outputs": []
    },
    {
      "cell_type": "code",
      "metadata": {
        "id": "aeJ2TPXmc7Ad",
        "colab": {
          "base_uri": "https://localhost:8080/",
          "height": 994
        },
        "outputId": "34eeb07a-8469-4bdc-bc69-7a176d000a7d"
      },
      "source": [
        "import numpy as np\n",
        "from scipy import stats\n",
        "import matplotlib.pyplot as plt\n",
        "\n",
        "# Leemos los registros\n",
        "record1 = np.recfromtxt(\"http://cdn.jsdelivr.net/gh/al34n1x/DataScience/data/triloshape1.csv\") \n",
        "record2 = np.recfromtxt(\"http://cdn.jsdelivr.net/gh/al34n1x/DataScience/data/triloshape2.csv\") \n",
        "\n",
        "triloshape1 = np.array(record1, dtype=float)\n",
        "triloshape2 = np.array(record2, dtype=float)\n",
        "\n",
        "D, p = stats.ks_2samp(triloshape1, triloshape2)\n",
        "\n",
        "print (\"p-value = {}\".format(p))\n",
        "if p <= 0.05:\n",
        "    print (\"Rechazo\",)\n",
        "else:\n",
        "    print (\"Acepto\",)\n",
        "print (\"la hipotesis de que las muestras provienen de la misma distribución.\")\n",
        "\n",
        "\n",
        "plt.figure()\n",
        "# Genero un histograma de los datos y superpongo el exponencial normalizado\n",
        "# distribución\n",
        "n, bins, patches = plt.hist(triloshape1, bins=10, density=True)\n",
        "plt.plot(bins,stats.expon.pdf(bins),color = 'k', lw = 2., \n",
        "         linestyle='--', label = 'Exponential Distribution')\n",
        "plt.xlim(0,2)\n",
        "plt.xlabel(\"Samples\")\n",
        "plt.ylabel(\"Mean length:width ratio\")\n",
        "plt.legend(loc = 'best')\n",
        "plt.show()\n",
        "\n",
        "D1, p1 = stats.ks_2samp(triloshape1, stats.expon.pdf(bins))\n",
        "# Como antes comparamos triloshape1 con otro conjunto de datos. Esta vez\n",
        "# es con una distribución exponencial.\n",
        "print (\"H0: Trilobyte dataset 1 es una distribución exponencial\")\n",
        "print (\"p-value = {}\".format(p1))\n",
        "if p1 <= 0.05:\n",
        "    print (\"Rechazo H0: las muestras NO vienen \",)\n",
        "else:\n",
        "    print (\"Acepto H0: las muestras SI vienen \",)\n",
        "print (\"de una distribución exponencial.\")\n",
        "\n",
        "\n",
        "# Repeat as just done, for the second set of data\n",
        "plt.figure()\n",
        "n, bins, patches = plt.hist(triloshape2, bins=10, density=True)\n",
        "plt.plot(bins,stats.expon.pdf(bins),color = 'k', lw = 2., \n",
        "         linestyle='--', label = 'Distribución Exponencial')\n",
        "plt.xlim(0,2)\n",
        "plt.xlabel(\"Muestras\")\n",
        "plt.ylabel(\"Mean length:width ratio\")\n",
        "plt.legend(loc = 'best')\n",
        "plt.show()\n",
        "\n",
        "D2, p2 = stats.ks_2samp(triloshape2, stats.expon.pdf(bins))\n",
        "print (\"H0: Trilobyte dataset 2 es una distribución exponencial\")\n",
        "print( \"p-value = {}\".format(p2))\n",
        "if p2 <= 0.05:\n",
        "    print (\"Rechazo H0: las muestras NO vienen \",)\n",
        "else:\n",
        "    print (\"Acepto H0: las muestras SI vienen \",)\n",
        "print (\"de una distribución exponencial.\")\n",
        "\n",
        "\n",
        "\"\"\" BONUS \"\"\"\n",
        "\n",
        "plt.figure()\n",
        "n1, bins1, patches1 = plt.hist(triloshape2, bins=10, density=True,\n",
        "                               cumulative=True, histtype = 'step', label = 'Trilobyte CDF 2')\n",
        "n2, bins2, patches2 = plt.hist(triloshape1, bins=10, density=True,\n",
        "                               cumulative=True, histtype = 'step', label = 'Trilobyte CDF 1')\n",
        "plt.plot(bins2, stats.expon.cdf(bins2), color='r', lw=2., \n",
        "         linestyle='--', label = 'Distribución Exponencial')\n",
        "plt.xlabel(\"Muestras\")\n",
        "plt.ylabel(\"Mean length:width ratio\")\n",
        "plt.legend(loc = 'best')\n",
        "plt.show()\n",
        "\n",
        "# There was not really any reason to suspect exponetiality however this is a useful exercise\n",
        "# on manipulating distributions other than normal."
      ],
      "execution_count": 24,
      "outputs": [
        {
          "output_type": "stream",
          "text": [
            "p-value = 0.14937368340991186\n",
            "Acepto\n",
            "la hipotesis de que las muestras provienen de la misma distribución.\n"
          ],
          "name": "stdout"
        },
        {
          "output_type": "display_data",
          "data": {
            "image/png": "[encoded data removed]",
            "text/plain": [
              "<Figure size 432x288 with 1 Axes>"
            ]
          },
          "metadata": {
            "tags": [],
            "needs_background": "light"
          }
        },
        {
          "output_type": "stream",
          "text": [
            "H0: Trilobyte dataset 1 es una distribución exponencial\n",
            "p-value = 9.945113702558572e-07\n",
            "Rechazo H0: las muestras NO vienen \n",
            "de una distribución exponencial.\n"
          ],
          "name": "stdout"
        },
        {
          "output_type": "display_data",
          "data": {
            "image/png": "[encoded data removed]",
            "text/plain": [
              "<Figure size 432x288 with 1 Axes>"
            ]
          },
          "metadata": {
            "tags": [],
            "needs_background": "light"
          }
        },
        {
          "output_type": "stream",
          "text": [
            "H0: Trilobyte dataset 2 es una distribución exponencial\n",
            "p-value = 5.218048215738236e-15\n",
            "Rechazo H0: las muestras NO vienen \n",
            "de una distribución exponencial.\n"
          ],
          "name": "stdout"
        },
        {
          "output_type": "display_data",
          "data": {
            "image/png": "[encoded data removed]",
            "text/plain": [
              "<Figure size 432x288 with 1 Axes>"
            ]
          },
          "metadata": {
            "tags": [],
            "needs_background": "light"
          }
        }
      ]
    }
  ]
}