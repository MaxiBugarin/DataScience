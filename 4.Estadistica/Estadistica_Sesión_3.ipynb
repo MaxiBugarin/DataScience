{
  "nbformat": 4,
  "nbformat_minor": 0,
  "metadata": {
    "kernelspec": {
      "name": "python3",
      "display_name": "Python 3"
    },
    "colab": {
      "name": "Estadistica Sesión 3.ipynb",
      "provenance": [],
      "include_colab_link": true
    }
  },
  "cells": [
    {
      "cell_type": "markdown",
      "metadata": {
        "id": "view-in-github",
        "colab_type": "text"
      },
      "source": [
        "<a href=\"https://colab.research.google.com/github/al34n1x/DataScience/blob/master/4.Estadistica/Estadistica_Sesi%C3%B3n_3.ipynb\" target=\"_parent\"><img src=\"https://colab.research.google.com/assets/colab-badge.svg\" alt=\"Open In Colab\"/></a>"
      ]
    },
    {
      "cell_type": "markdown",
      "metadata": {
        "id": "2It4OM1uvWwW",
        "colab_type": "text"
      },
      "source": [
        "# Intro a la estadística (Sesión 3)\n",
        "\n",
        "---\n",
        "\n"
      ]
    },
    {
      "cell_type": "markdown",
      "metadata": {
        "id": "3HSW8WUsvWwY",
        "colab_type": "text"
      },
      "source": [
        "## Estadística inferencial\n",
        "\n",
        "Teniendo en cuenta los datos a continuación, ¿cómo respondemos preguntas como: ¿es el tamaño de grano mayor en el depósito B que en el depósito A?\n",
        "\n",
        "![grain size](https://github.com/al34n1x/DataScience/blob/master/img/example-grain-size.png?raw=true)\n",
        "\n",
        "Interesado en saber si los niveles de energía eran diferentes en los depósitos A y B. Esto tendrá relación con las teorías de cómo se formaron. La muestra de B tiene una media más alta, pero ¿es solo una variación casual?\n",
        "\n",
        "Para responder a esta pregunta, nosotros:\n",
        "\n",
        "* Formular hipótesis formales.\n",
        "* Aplicar prueba de hipótesis estadística apropiada."
      ]
    },
    {
      "cell_type": "markdown",
      "metadata": {
        "id": "6uUr5hhovWwb",
        "colab_type": "text"
      },
      "source": [
        "## Hipótesis\n",
        "\n",
        "Formulamos dos hipótesis:\n",
        "La *hipótesis nula* (H0):\n",
        "\n",
        "> *No hay diferencia en el tamaño medio máximo de grano para las muestras obtenidas de los depósitos A y B.*\n",
        "\n",
        "... y una *hipótesis alternativa* (H1):\n",
        "\n",
        "> *El tamaño medio máximo de grano es mayor en la muestra B que en la muestra A.*\n",
        "\n",
        "Solo acepte H1 si es muy poco probable que H0 pueda explicar nuestras observaciones; de lo contrario, rechace H1."
      ]
    },
    {
      "cell_type": "markdown",
      "metadata": {
        "id": "cBEMUPGFvWwd",
        "colab_type": "text"
      },
      "source": [
        "## Prueba de hipótesis\n",
        "\n",
        "Existen muchos tipos diferentes de pruebas estadísticas:\n",
        "\n",
        "* Para probar diferentes tipos de hipótesis.\n",
        "* Para manejar diferentes tipos de datos."
      ]
    },
    {
      "cell_type": "markdown",
      "metadata": {
        "id": "L_5lzIU5vWwe",
        "colab_type": "text"
      },
      "source": [
        "### Prueba T de Student\n",
        "\n",
        "[La estadística t fue introducida en 1908 por William Sealy Gosset, un químico que trabajaba para la fábrica de cerveza Guinness en Dublín, Irlanda (\"Student\" era su seudónimo).](http://en.wikipedia.org/wiki/Student%27s_t-test) La prueba T de Student accede a la probabilidad de que dos muestras tengan la misma media subyacente. Python proporciona el método\n",
        "[scipy.stats.ttest_ind](http://docs.scipy.org/doc/scipy/reference/generated/scipy.stats.ttest_ind.html). Esta es una prueba para la hipótesis nula de que 2 muestras independientes tienen valores promedio (esperados) idénticos. Esta prueba supone que las poblaciones tienen variaciones idénticas.\n",
        "\n",
        "* Toma dos matrices de valores (es decir, dos muestras).\n",
        "* Devuelve *t-statistic*, que describe cuán diferentes son las medias.\n",
        "* Devuelve *valor p*, le indica la probabilidad de observar lo que hicimos si la hipótesis nula es cierta.\n",
        "\n",
        "En el ejemplo de tamaño de grano anterior, el estadístico t y los valores p son -1.1 y 0.28 respectivamente. **¿Es una probabilidad de 0.28 suficiente para rechazar H0?**"
      ]
    },
    {
      "cell_type": "code",
      "metadata": {
        "id": "-V5bcysTvWwg",
        "colab_type": "code",
        "colab": {}
      },
      "source": [
        "# Nuevamente, hagamos un ejemplo trivial para asegurarnos de que sabemos lo que está sucediendo allí. \n",
        "import scipy.stats as stats\n",
        "\n",
        "# Genero dos conjuntos de datos aleatorios con una distribución normal\n",
        "# y la misma media.\n",
        "d1 = stats.norm.rvs(size=100000)\n",
        "d2 = stats.norm.rvs(size=100000)\n",
        "\n",
        "# ttest_ind es una prueba de dos lados para la hipótesis nula de que 2 muestras \n",
        "# independientes tienen valores promedio (esperados) idénticos.\n",
        "t_statistic, p_value = stats.ttest_ind(d1, d2)\n",
        "print (\"t-statistic = \", t_statistic)\n",
        "print (\"p-value = \", p_value)"
      ],
      "execution_count": 0,
      "outputs": []
    },
    {
      "cell_type": "markdown",
      "metadata": {
        "id": "9OUakyQIvWwr",
        "colab_type": "text"
      },
      "source": [
        "## Valor P\n",
        "\n",
        "El valor p se usa para determinar la probabilidad de que la hipótesis nula fuera verdadera: es la probabilidad de observar un estadístico de prueba más extremo en la dirección de la hipótesis alternativa. Por ejemplo, si el valor p es muy pequeño, entonces la hipótesis nula es \"improbable\". Si el valor p es mayor que algún umbral preestablecido, entonces se considera \"probable\".\n",
        "\n",
        "Por lo tanto, si el valor p es menor que (o igual a) $\\alpha$, entonces la hipótesis nula se rechaza a favor de la hipótesis alternativa. Y, si el valor P es mayor que $ \\alpha $, entonces la hipótesis nula no se rechaza. Comúnmente, el umbral se establece en $ p = 0.05 $, ¡pero es arbitrario!\n",
        "\n",
        "Los pasos involucrados en el uso del enfoque del valor P para realizar cualquier prueba de hipótesis son:\n",
        "\n",
        "* Especifique las hipótesis nulas y alternativas y elija la prueba adecuada.\n",
        "* Decide el nivel de significación para el valor p, $ \\alpha $.\n",
        "* Calcular el valor del estadístico de prueba y el valor p.\n",
        "* Considere, si la hipótesis nula es verdadera, ¿cuál es la probabilidad de que observemos un estadístico de prueba más extremo en la dirección de la hipótesis alternativa que lo que hicimos? Observe cómo esta pregunta es equivalente a la pregunta respondida en los juicios penales: \"Si el acusado es inocente, ¿cuál es la posibilidad de que observemos evidencia criminal tan extrema?\"\n",
        "* Si el valor p es menor que (o igual a) $ \\alpha $, rechace la hipótesis nula a favor de la hipótesis alternativa. De lo contrario, acepte la hipótesis nula.\n",
        "\n",
        "> En 2012, es probable que haya escuchado en las noticias el descubrimiento del bosón de Higgs. La frase *five-sigma* se usó para describir la fuerza del descubrimiento. Este es un valor p de 3x10$^{-7} $. [Leer más.](Http://blogs.scientificamerican.com/observations/five-sigmawhats-that/)\n",
        "\n",
        "En el ejemplo de tamaño de grano anterior, el valor p es 0.28, que está muy por encima del nivel significativo de 0.05. Por lo tanto, se dice que el resultado es *no significativo*: evidencia insuficiente para rechazar H0."
      ]
    },
    {
      "cell_type": "markdown",
      "metadata": {
        "id": "S-bZgO5vvWws",
        "colab_type": "text"
      },
      "source": [
        "## Colas y niveles de significación\n",
        "\n",
        "**Prueba de una cola**:\n",
        "Formule la hipótesis H1: *El tamaño medio máximo de grano es mayor en la muestra B que en la muestra A*. Ahora estamos probando si la media de B es mayor que la media de A, no es diferente de la media de A.\n",
        "\n",
        "La figura a continuación ilustra la distribución de todos los valores t posibles: el resultado es significativo si el valor cae en la región azul.\t"
      ]
    },
    {
      "cell_type": "code",
      "metadata": {
        "id": "NszMQCvovWwt",
        "colab_type": "code",
        "colab": {}
      },
      "source": [
        "import numpy as np\n",
        "import matplotlib.pyplot as plt\n",
        "\n",
        "n = 100\n",
        "df = n-1\n",
        "x = np.linspace(stats.t.ppf(0.001, df), stats.t.ppf(0.999, df), n)\n",
        "p = stats.t.pdf(x, df)\n",
        "\n",
        "plt.plot(x, p, 'k')\n",
        "plt.fill_between(x, 0, p, interpolate=True,\n",
        "                 where=(x<=stats.t.ppf(0.05, df)))\n",
        "plt.show()"
      ],
      "execution_count": 0,
      "outputs": []
    },
    {
      "cell_type": "markdown",
      "metadata": {
        "id": "3v-N0zQ6vWw0",
        "colab_type": "text"
      },
      "source": [
        "**Prueba de dos colas**: Hipótesis de forma H1: *El tamaño medio máximo de grano es diferente en las dos muestras*. Hay dos formas posibles en que puede ser diferente: mayor que *o* menor que. La prueba de dos colas tiene dos *regiones de significación* - una en cada cola - cada mitad del tamaño de la región de significación de una cola."
      ]
    },
    {
      "cell_type": "code",
      "metadata": {
        "id": "sy5W0TqQvWw1",
        "colab_type": "code",
        "colab": {}
      },
      "source": [
        "plt.plot(x, p, 'k')\n",
        "plt.fill_between(x, 0, p, interpolate=True,\n",
        "                 where=((x<=stats.t.ppf(0.05, df)) | (x>=stats.t.ppf(0.95, df))))\n",
        "plt.show()"
      ],
      "execution_count": 0,
      "outputs": []
    },
    {
      "cell_type": "markdown",
      "metadata": {
        "id": "bi-O8ImzvWw8",
        "colab_type": "text"
      },
      "source": [
        "### Colas en la práctica\n",
        "\n",
        "1. ¡Decide si tu prueba es de una o dos colas ANTES de hacerlo!\n",
        "2. Valores devueltos por [scipy.stats](http://docs.scipy.org/doc/scipy/reference/stats.html) funciones (por ejemplo, [ttest_ind](http://docs.scipy.org/doc/scipy/reference/generate/scipy.stats.ttest_ind.html#scipy.stats.ttest_ind)) son para pruebas de dos colas (¡en su mayoría!)\n",
        "  1. Si su prueba es de dos colas, no hay problema\n",
        "  2. Si la prueba es de una cola, reduzca a la mitad el valor p antes de interpretarlo.\n",
        "En el ejemplo anterior, el valor p fue de 0.28, pero este es un valor de dos colas mientras que la prueba fue de una cola. El valor real para la prueba fue 0.14. En este caso todavía no es significativo (> 0.05), pero la reducción a la mitad podría marcar la diferencia fácilmente."
      ]
    },
    {
      "cell_type": "markdown",
      "metadata": {
        "id": "_rVN7SP0vWw9",
        "colab_type": "text"
      },
      "source": [
        "## Más sobre la prueba t.\n",
        "\n",
        "La prueba T es la prueba estadística más utilizada, pero no siempre es adecuada. Hace varias suposiciones.\n",
        "\n",
        "* Los resultados sensibles necesitan tamaños de muestra razonablemente grandes.\n",
        "  * Esto también se aplica a otras pruebas.\n",
        "* Asume que los datos en las muestras se distribuyen normalmente:\n",
        "  * Puede o no ser realmente cierto.\n",
        "  * Si no, considere usar pruebas no paramétricas."
      ]
    },
    {
      "cell_type": "markdown",
      "metadata": {
        "id": "Fv6Npca6vWxA",
        "colab_type": "text"
      },
      "source": [
        "## Equivalentes no paramétricos\n",
        "\n",
        "La prueba no paramétrica más utilizada es la [prueba U de Mann-Whitney](http://docs.scipy.org/doc/scipy/reference/generated/scipy.stats.mannwhitneyu.html#scipy.stats.mannwhitneyu) .\n",
        "\n",
        "* Utiliza rangos de datos (como la correlación de Spearman).\n",
        "* No requiere que las distribuciones de datos sean normales.\n",
        "* Prueba menos potente (más falsos negativos) si las distribuciones son normales (como todas las pruebas no paramétricas).\n",
        "\n",
        "Cuando hay un modelo matemático disponible, la [Prueba de Kolmorogov-Smirnov (KS)](http://docs.scipy.org/doc/scipy/reference/generated/scipy.stats.kstest.html#scipy.stats.kstest) es comúnmente utilizado.\n",
        "\n",
        "* La prueba K-S es para \"bondad de ajuste\": qué tan bien se ajusta una distribución a un modelo matemático.\n",
        "* La variante de prueba K-S \"Dos muestras\" se puede utilizar como una alternativa no paramétrica a una prueba t.\n",
        "* Prueba más que solo la diferencia de medias: prueba otros aspectos de la forma de distribución.\n",
        "* Se utiliza para responder preguntas como '¿parecen estas dos muestras provenir de la misma población subyacente'?"
      ]
    },
    {
      "cell_type": "markdown",
      "metadata": {
        "id": "YSYMhLg7vWxB",
        "colab_type": "text"
      },
      "source": [
        "## Pruebas de hipótesis de correlación\n",
        "\n",
        "Ya hemos visto que los valores de p pueden obtenerse para correlaciones (Pearson o Spearman). Podemos probar hipótesis de correlación con estos.\n",
        "\n",
        "* H0: \"La marca de Dorset y la marca de fin de año no están relacionadas\"\n",
        "* H1: \"Hay una correlación entre la marca de Dorset y la marca de fin de año\"\n",
        "\n",
        "Esta es una prueba de dos colas y utilizaremos un nivel de significancia del 5%.\n",
        "\n",
        "* Pearson R es 0.27, p = 0.014 --- significativo, por lo tanto, rechace H0 a favor de H1.\n",
        "* Spearman R es 0.19, p = 0.087 --- no significativo, por lo tanto, acepte H0.\n",
        "\n",
        "Entonces, si podemos usar Pearson, podemos aceptar H1, pero con Spearman no podemos, no hay suficiente evidencia. ¡Necesitamos hacer un mejor trabajo para decidir cuál usar!\n",
        "\t\t\t"
      ]
    },
    {
      "cell_type": "markdown",
      "metadata": {
        "id": "U0NzmT34vWxC",
        "colab_type": "text"
      },
      "source": [
        "## Pruebas de normalidad\n",
        "\n",
        "En lugar de adivinar si una distribución es normal, ¿podemos probarla?\n",
        "\n",
        "Sí, simplemente se convierte en otra prueba de hipótesis:\n",
        "\n",
        "* $H_0$: 'La distribución subyacente es normal'.\n",
        "* $H_1$: 'La distribución subyacente no es normal'.\n",
        "\n",
        "Existen muchas pruebas diferentes de normalidad, sin acuerdo universal sobre cuál es el mejor. Una buena solución es la prueba combinada *D'Agostino y Pearson*, proporcionada por Python mediante el método [scipy.stats.normaltest](http://docs.scipy.org/doc/scipy/reference/generated/scipy.stats.normaltest.html). Esta función prueba la hipótesis nula de que una muestra proviene de una distribución normal.\n",
        "\n",
        "Esta también es una buena oportunidad para ilustrar claramente el uso del valor p utilizando dos casos de prueba muy claros."
      ]
    },
    {
      "cell_type": "code",
      "metadata": {
        "id": "UVLxiM6pvWxD",
        "colab_type": "code",
        "colab": {}
      },
      "source": [
        "import numpy as np\n",
        "from scipy import stats\n",
        "import pylab as pl\n",
        "%pylab inline\n",
        "\n",
        "# Crear una distribución normal.\n",
        "values = stats.norm.rvs(size=100000)\n",
        "statistic, pvalue = stats.normaltest(values)\n",
        "pl.hist(values)   #podemos agregar mas escalones para hacer el plot más suave?\n",
        "pl.legend((\"p-value=%.2g\"%pvalue, ))\n",
        "pl.show()"
      ],
      "execution_count": 0,
      "outputs": []
    },
    {
      "cell_type": "code",
      "metadata": {
        "id": "R4d-CEgCvWxL",
        "colab_type": "code",
        "colab": {}
      },
      "source": [
        "# Sin embargo, observe cómo varía para diferentes conjuntos de datos.\n",
        "# ¡Incluso con datos perfectos puede obtener falsos positivos!\n",
        "for i in range(10):\n",
        "    values = stats.norm.rvs(size=1000)\n",
        "    statistic, pvalue = stats.normaltest(values)\n",
        "    print (i, \"p-value = \", pvalue)\n",
        "\n",
        "# En la implementación de SciPy de estas pruebas, puede interpretar el valor p de la siguiente manera.\n",
        "\n",
        "# p <= alfa: rechazar H0, no es distrib normal.\n",
        "# p> alfa: no puede rechazar H0,es distrib normal."
      ],
      "execution_count": 0,
      "outputs": []
    },
    {
      "cell_type": "code",
      "metadata": {
        "id": "4XcJYSPrvWxQ",
        "colab_type": "code",
        "colab": {}
      },
      "source": [
        "# Sin embargo, el grado de variabilidad para el valor p se pone en contexto\n",
        "# cuando lo compara con otros tipos de distribuciones, p. ej. La distribución exponencial.\n",
        "values = stats.expon.rvs(size=1000)\n",
        "statistic, pvalue = stats.normaltest(values)\n",
        "pylab.hist(values)\n",
        "pylab.legend((\"p-value=%.2g\"%pvalue, ))\n",
        "pylab.show()"
      ],
      "execution_count": 0,
      "outputs": []
    },
    {
      "cell_type": "code",
      "metadata": {
        "id": "EvCUJQGdD_rt",
        "colab_type": "code",
        "colab": {}
      },
      "source": [
        "# Y si hacemos varias veces el test?\n",
        "for i in range(10):\n",
        "    values = stats.expon.rvs(size=1000)\n",
        "    statistic, pvalue = stats.normaltest(values)\n",
        "    print (i, \"p-value = \", pvalue)\n",
        "\n",
        "# En la implementación de SciPy de estas pruebas, puede interpretar el valor p de la siguiente manera.\n",
        "\n",
        "# p <= alfa: rechazar H0, no normal.\n",
        "# p> alfa: no puede rechazar H0, normal."
      ],
      "execution_count": 0,
      "outputs": []
    },
    {
      "cell_type": "markdown",
      "metadata": {
        "id": "8DsBrrBGvWxU",
        "colab_type": "text"
      },
      "source": [
        "# Demostración: ¿son normales las distribuciones de marcas en el ejemplo de marcas del primer año?"
      ]
    },
    {
      "cell_type": "code",
      "metadata": {
        "id": "JBSySOyKvWxW",
        "colab_type": "code",
        "colab": {}
      },
      "source": [
        "# Leemos los registros\n",
        "record = np.recfromcsv(\"http://cdn.jsdelivr.net/gh/al34n1x/DataScience/data/first_year_marks.csv\") \n",
        "\n",
        "print (record.dtype.names)"
      ],
      "execution_count": 0,
      "outputs": []
    },
    {
      "cell_type": "code",
      "metadata": {
        "id": "ueaGJ8FfvWxb",
        "colab_type": "code",
        "colab": {}
      },
      "source": [
        "field_mark = np.array(record[\"field_mark\"], dtype=float)\n",
        "\n",
        "k2, p = stats.normaltest(field_mark)\n",
        "print (\"Skew = \", k2) #asimetría\n",
        "print (\"H0 - field marks tiene distrib normal: \")\n",
        "if p<0.05:\n",
        "    print (\"Rechazo a favor de H1.\")\n",
        "else:\n",
        "    print (\"Acepto.\")\n",
        "\n",
        "pl.hist(field_mark, bins=10)\n",
        "pl.legend((\"p-value=%.2g\"%p, ))\n",
        "pl.show()"
      ],
      "execution_count": 0,
      "outputs": []
    },
    {
      "cell_type": "code",
      "metadata": {
        "id": "k7uAatQIvWxh",
        "colab_type": "code",
        "colab": {}
      },
      "source": [
        "overall_year = np.array(record[\"overall_year\"], dtype=float)\n",
        "\n",
        "k2, p = stats.normaltest(overall_year)\n",
        "print (\"Skew = \", k2)\n",
        "print (\"H0 - overall year tiene distrib normal: \")\n",
        "if p<0.05:\n",
        "    print  (\"Rechazo a favor de H1.\")\n",
        "else:\n",
        "    print (\"Acepto.\")\n",
        "\n",
        "pl.hist(overall_year, bins=5)\n",
        "pl.legend((\"p-value=%.2g\"%p, ))\n",
        "pl.show()"
      ],
      "execution_count": 0,
      "outputs": []
    },
    {
      "cell_type": "markdown",
      "metadata": {
        "id": "LzqMlBRRvWxl",
        "colab_type": "text"
      },
      "source": [
        "Como al menos uno de estos conjuntos de datos no tiene una distribución normal, debemos usar la prueba de correlación de Spearman."
      ]
    },
    {
      "cell_type": "markdown",
      "metadata": {
        "id": "4pg2-ao0vWxm",
        "colab_type": "text"
      },
      "source": [
        "# Ejercicio 7.1: Prueba de hipótesis\n",
        "\n",
        "1. Tengo dos conjuntos de fósiles de trilobites de diferentes localidades. Creo que son de la misma especie, pero quiero una confirmación cuantitativa, sobre la base de su relación media de longitud:ancho ([triloshape1.csv](http://cdn.jsdelivr.net/gh/al34n1x/DataScience/data/triloshape1.csv), [triloshape2.csv](http://cdn.jsdelivr.net/gh/al34n1x/DataScience/data/triloshape2.csv)) ¿hay evidencia de que son diferentes?\n",
        "2. He medido porcentajes de mica en muestras de rocas ígneas de dos localidades diferentes ([micapercent1.csv](http://cdn.jsdelivr.net/gh/al34n1x/DataScience/data/micapercent1.csv), [micapercent2.csv ](http://cdn.jsdelivr.net/gh/al34n1x/DataScience/data/micapercent2.csv)). El porcentaje medio de mica es menor en la segunda localidad y tengo una teoría geológica que puede explicar esto, pero primero necesito descartar la posibilidad de que el menor contenido de mica se deba al azar.\n",
        "\n",
        "En cada caso, construya (es decir, escriba) sus dos hipótesis, decida cómo están redactadas si son de una o dos colas, luego use su programa para evaluar cuál debe aceptar.\n",
        "\n",
        "Consejos:\n",
        "\n",
        "* Probar conjuntos de datos para normalidad (es decir, tienen distribución normal). Use la prueba D'Agostino & Pearson para proporcionar probabilidades de normalidad.\n",
        "* Pruebe si sus medias difieren significativamente. Al probar si las medias son diferentes, debe usar un valor p de Mann-Whitney de dos colas o un valor p de la prueba T de dos colas, según el resultado de la prueba de normalidad. Recuerde que la función scipy.stats Mann-Whitney devuelve un valor p de una cola.\n",
        "\n"
      ]
    },
    {
      "cell_type": "code",
      "metadata": {
        "id": "3MJO7FuxvWxo",
        "colab_type": "code",
        "colab": {}
      },
      "source": [
        "# Su solución aquí"
      ],
      "execution_count": 0,
      "outputs": []
    },
    {
      "cell_type": "markdown",
      "metadata": {
        "id": "LZb4IwGGvWxu",
        "colab_type": "text"
      },
      "source": [
        "# Práctica 7.2: Prueba de Kolmogorov-Smirnov\n",
        "\n",
        "* Utilice los datos de trilobite anteriores y realice una prueba de Kolmogorov-Smirnov a dos caras (dos muestras) para determinar si provienen de la misma distribución o no.\n",
        "* Pruebe si cada dato de trilobites proviene de una distribución exponencial o no. (Deberá generar una distribución exponencial para esta pregunta y normalizar todas las distribuciones primero)\n",
        "\n",
        "**NB**: La función necesaria PUEDE encontrarse en scipy.stats [aquí](https://docs.scipy.org/doc/scipy/reference/generated/scipy.stats.ks_2samp.html)\n",
        "\n",
        "## BONUS (más difícil)\n",
        "\n",
        "* Trace las funciones de distribución acumulativa (CDF) para los datos de trilobites en una figura como gráficos lineales.\n",
        "* Trace un CDF exponencial encima de esto también (con una línea discontinua)\n",
        "* ¿Alguna vez hubo alguna sospecha de que los datos pudieran ser exponenciales?\n",
        "\n",
        "**PISTA** los histogramas tienen un argumento acumulativo que puede utilizar."
      ]
    },
    {
      "cell_type": "code",
      "metadata": {
        "id": "SD_l6tz6vWxu",
        "colab_type": "code",
        "colab": {}
      },
      "source": [
        "# Su solución aquí"
      ],
      "execution_count": 0,
      "outputs": []
    }
  ]
}