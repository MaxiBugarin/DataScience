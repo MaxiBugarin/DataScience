{
  "nbformat": 4,
  "nbformat_minor": 0,
  "metadata": {
    "colab": {
      "name": "C8_Grupo1_dicc_csv.ipynb",
      "provenance": [],
      "collapsed_sections": [],
      "toc_visible": true,
      "include_colab_link": true
    },
    "kernelspec": {
      "name": "python3",
      "display_name": "Python 3"
    },
    "language_info": {
      "name": "python"
    }
  },
  "cells": [
    {
      "cell_type": "markdown",
      "metadata": {
        "id": "view-in-github",
        "colab_type": "text"
      },
      "source": [
        "<a href=\"https://colab.research.google.com/github/MaxiBugarin/DataScience/blob/main/C8_Grupo1_dicc_csv.ipynb\" target=\"_parent\"><img src=\"https://colab.research.google.com/assets/colab-badge.svg\" alt=\"Open In Colab\"/></a>"
      ]
    },
    {
      "cell_type": "markdown",
      "metadata": {
        "id": "vS3T7l2PqJ4Y"
      },
      "source": [
        "## Ejercicios Diccionarios y archivos\n",
        "\n",
        "Una empresa de lógistica posee una base de clientes con la siguiente informacion:\n",
        "\n",
        "```\n",
        "idClient: (int)\n",
        "  Razon Social: (string)\n",
        "  cuit: (string)\n",
        "  direccion: (string)\n",
        "```\n",
        "\n",
        "Por otro lado la empresa cuenta con una base de los pedidos realizados por los clientes, dicha base cuenta con la siguiente estructura:\n",
        "\n",
        "```\n",
        "idPedido: (int)\n",
        "  idCliente: (int)\n",
        "  producto: (string)\n",
        "  cantidad: (int)\n",
        "```\n",
        "\n",
        "Completar los siguiente ítems:\n",
        "\n",
        "1. Crear una función que permita la carga de clientes y los guarde en un archivo (Utilizar manejo de excepciones)\n",
        "\n",
        "2. Crear una función que permita la carga de pedidos y los guarde en un archivo (Utilizar manejo de excepciones)\n",
        "\n",
        "3. Crear una función que imprima por pantalla el listado de clientes.\n",
        "\n",
        "4. Crear una función que imprima por pantalla el listado de pedidos.\n",
        "\n",
        "5. [BONUS] Crear una función que le pase el id or razón social de un cliente y me liste todos los pedidos realizados. \n",
        "\n",
        "\n",
        "Consideraciones:\n",
        "* Utilizar funciones\n",
        "* Utilizar diccionarios anidados\n",
        "* De ser posible, importar librería json para la gestión de archivos.\n",
        "\n",
        "Para escribir archivos json usar un bloque similar al debajo descripto.\n",
        "\n",
        "```\n",
        "filename = './sample_data/username.json'\n",
        "with open(filename, 'w') as f:\n",
        "  json.dump(username, f)\n",
        "```\n",
        "\n",
        "Para leer archivos json usar un bloque similar al debajo descripto.\n",
        "\n",
        "```\n",
        "with open(filename) as f:\n",
        "  username = json.load(f)\n",
        "\n",
        "```\n",
        "\n",
        "\n"
      ]
    },
    {
      "cell_type": "markdown",
      "source": [
        "*   1.c) Funcion new_cliente para carga de un cliente, dado el diccionario clientes, y lo guarda en el diccionario cliente(Ari)\n",
        "*   1.d) Funcion guardar_cliente, dado el diccionario clientes y el archivo, sobreescribe todo el archivo con todos los clientes (Ari)\n",
        "*   2.c) Funcion existe_cliente, dado el diccionario clientes y un id, retorno \n",
        "True si existe o False (Ari)\n",
        "*   Cuerpo del programa"
      ],
      "metadata": {
        "id": "LKjDLcWnrip2"
      }
    },
    {
      "cell_type": "code",
      "source": [
        "from google.colab import drive\n",
        "drive.mount('/content/drive')"
      ],
      "metadata": {
        "colab": {
          "base_uri": "https://localhost:8080/"
        },
        "id": "f6Z_2vwitEki",
        "outputId": "3b657c97-42f9-4661-d371-930214d923ae"
      },
      "execution_count": null,
      "outputs": [
        {
          "output_type": "stream",
          "name": "stdout",
          "text": [
            "Mounted at /content/drive\n"
          ]
        }
      ]
    },
    {
      "cell_type": "markdown",
      "source": [
        "*   Paso 1:\n",
        "*   Definir ruta, nombre de archivo y tipo"
      ],
      "metadata": {
        "id": "rXbut231bOAN"
      }
    },
    {
      "cell_type": "code",
      "source": [
        "filename = './drive/MyDrive/CursoCienciaDatos/1.Python/clientes.csv'"
      ],
      "metadata": {
        "id": "f54pBsNYtx8m"
      },
      "execution_count": null,
      "outputs": []
    },
    {
      "cell_type": "markdown",
      "source": [
        "*   Paso 2\n",
        "*   Definir estructuras auxiliares para pruebas"
      ],
      "metadata": {
        "id": "WrRh5PP9bURw"
      }
    },
    {
      "cell_type": "code",
      "source": [
        "#clientes={'idCliente':{'razonSocial':'x','cuit':'y','direccion':'z'}}"
      ],
      "metadata": {
        "id": "kylEIDyw4Wqj"
      },
      "execution_count": null,
      "outputs": []
    },
    {
      "cell_type": "markdown",
      "source": [
        "*   Probar con el diccionario vacío\n",
        "*   Mejorar el guardado dentro de un ciclo"
      ],
      "metadata": {
        "id": "w099u6Sh4c1v"
      }
    },
    {
      "cell_type": "code",
      "source": [
        "#Crear un diccionario de clientes para pruebas\n",
        "clientes={0:{'razonSocial':'La mágica','cuit':'31111111111','direccion': 'Calle Falsa 123'},\n",
        "          1:{'razonSocial':'Ananá Majestuoso','cuit':'322222222222','direccion': 'Siempre Verde 876'},\n",
        "          2:{'razonSocial':'Vidrio Roto','cuit':'33333333333','direccion': 'Los Pozos 1000'}          \n",
        "          }\n",
        "#clientes={}\n",
        "fieldnames_cliente=['idCliente','razonSocial','cuit','direccion']\n",
        "\n",
        "#Crear un cliente para pruebas de alta\n",
        "cliente={3:{'razonSocial':'Bulonera Cacho','cuit':'34444444444','direccion': 'Las Lomas 2000'}}\n",
        "\n",
        "# 4:{'razonSocial':'Bulonera Pinocho','cuit':'35555555555','direccion': 'Gepetto 110'}\n",
        "\n",
        "#Crear un diccionario de Pedidos para pruebas\n",
        "#Pedidos={0:{'idcliente':1,'producto':'Harina','cantidad': 10},         \n",
        "#         0:{'idcliente':1,'producto':'Aceituna','cantidad': 2},\n",
        "#         0:{'idcliente':1,'producto':'Aceite','cantidad': 1},\n",
        "#         1:{'idcliente':3,'producto':'Tornillos','cantidad': 200},\n",
        "#         2:{'idcliente':4,'producto':'Madera','cantidad': 2},\n",
        "#         3:{'idcliente':3,'producto':'Tuerca','cantidad': 300},\n",
        "#         3:{'idcliente':3,'producto':'Arandela','cantidad': 400}\n",
        "#          }\n",
        "#fieldnames_pedido=['idPedido','idCliente','producto','cantidad']\n"
      ],
      "metadata": {
        "id": "PlNx1qyPwq4T"
      },
      "execution_count": null,
      "outputs": []
    },
    {
      "cell_type": "markdown",
      "source": [
        "*   Paso 3\n",
        "*   Importar librería csv para manejo de archivo"
      ],
      "metadata": {
        "id": "h46Uo8atbeit"
      }
    },
    {
      "cell_type": "code",
      "source": [
        "#Importar librería\n",
        "import csv"
      ],
      "metadata": {
        "id": "28NT6_IHz2wb"
      },
      "execution_count": null,
      "outputs": []
    },
    {
      "cell_type": "markdown",
      "source": [
        "*   Paso 4:\n",
        "*   Definimos como se nos ocurre que debería ser la función guardar_cliente:\n",
        "\n",
        "*   abrir el archivo\n",
        "*   preparar el objeto de escritura\n",
        "\n",
        "*   definir y guardar el header\n",
        "\n",
        "*   recorrer datos armarlos en una estructura  y guardarlos. Teniendo como apoyo las estructuras previamente definidas. (Todo esto dentro de un bucle)\n",
        "\n"
      ],
      "metadata": {
        "id": "_1fPvKpBbn9J"
      }
    },
    {
      "cell_type": "code",
      "source": [
        "#def guardar_cliente(clientes,filename):\n",
        "  #open\n",
        "  #write\n",
        "\n",
        "  #Definimos el header\n",
        "\n",
        "  #Recorremos los datos\n",
        "  #clientes={'0':{'razonSocial':'La mágica','cuit':'31111111111','direccion': 'Calle Falsa 123'},\n",
        "  #        '1':{'razonSocial':'Ananá Majestuoso',''cuit':'322222222222','direccion': 'Siempre Verde 876'},\n",
        "  #        '2':{'razonSocial':'Vidrio Roto',''cuit':'33333333333','direccion': 'Los Pozos '1000'}          \n",
        "  #        }\n",
        "\n",
        "  #for k,v in clientes:\n",
        "  #  #k v['razonSocial'] v['cuit'] v['direccion']\n",
        "  #  #write.rows({'idCliente':k, 'razonSocial':v['razonSocial'] ...    })\n",
        "\n",
        "  "
      ],
      "metadata": {
        "id": "K4mUR4oB_sHH"
      },
      "execution_count": null,
      "outputs": []
    },
    {
      "cell_type": "code",
      "source": [
        "#Funciones\n",
        "def guardar_cliente(clientes, filename):\n",
        "  \"\"\"\n",
        "  Desc: Función que guarda los clientes en el archivo de clientes\n",
        "        Si en la ruta el archivo pasado no existe, lo crea\n",
        "        Si existe lo pisa con toda la información del diccionario\n",
        "\n",
        "  Args:\n",
        "    clientes (dic): diccionario de clientes en memoria\n",
        "    filename (str): archivo de clientes en file system que guardará el diccionario de clientes\n",
        "  \n",
        "  Returns:\n",
        "    True (bool): si pudo guardar el cliente en el archivo\n",
        "    False (bool): si se pudo guardar el cliente en el archivo\n",
        "  \"\"\" \n",
        "\n",
        "  msj_err=''\n",
        "  try:\n",
        "    with open(filename, mode='w') as csv_file:\n",
        "      \n",
        "      #Escribir header\n",
        "      msj_err='Header'\n",
        "      writer = csv.DictWriter(csv_file, fieldnames=fieldnames_cliente)\n",
        "      writer.writeheader()\n",
        "    \n",
        "      #Escribir filas\n",
        "      #fieldnames_cliente=['idCliente','razonSocial','cuit','direccion']\n",
        "      msj_err='Rows'\n",
        "      for k,v in clientes.items():      \n",
        "        writer.writerow({\n",
        "            fieldnames_cliente[0]:k,\n",
        "            fieldnames_cliente[1]:v[fieldnames_cliente[1]],\n",
        "            fieldnames_cliente[2]:v[fieldnames_cliente[2]],\n",
        "            fieldnames_cliente[3]:v[fieldnames_cliente[3]]\n",
        "            })\n",
        "\n",
        "    #Escribir en archivo de clientes, Ok\n",
        "    return True        \n",
        "  #ValueError\n",
        "  except:\n",
        "    print(f'guardar_cliente: No pudo guardar el archivo de clientes. Problema al guardar {msj_err}')\n",
        "    #Escribir en archivo de clientes, bad\n",
        "    return False\n"
      ],
      "metadata": {
        "id": "-38sQURhrjVn"
      },
      "execution_count": null,
      "outputs": []
    },
    {
      "cell_type": "markdown",
      "source": [
        "*   Paso 5:\n",
        "*   Probar la función"
      ],
      "metadata": {
        "id": "UJr532zNdM5Y"
      }
    },
    {
      "cell_type": "code",
      "source": [
        "print(guardar_cliente(clientes, filename))"
      ],
      "metadata": {
        "colab": {
          "base_uri": "https://localhost:8080/"
        },
        "id": "Ob0r1gG8FXX3",
        "outputId": "34d7b6ca-b9a9-4f8e-a0ba-46b7a4a39f1c"
      },
      "execution_count": null,
      "outputs": [
        {
          "output_type": "stream",
          "name": "stdout",
          "text": [
            "True\n"
          ]
        }
      ]
    },
    {
      "cell_type": "markdown",
      "source": [
        "*   Paso 6:\n",
        "*   Definimos que haría la función de alta de cliente en el diccionario"
      ],
      "metadata": {
        "id": "rUmmyZeLdiYV"
      }
    },
    {
      "cell_type": "code",
      "source": [
        "#def alta_cliente(clientes,cliente):\n",
        "#  #Agregar en el diccionario de clientes ese cliente"
      ],
      "metadata": {
        "id": "-C_bPnqB6QZ3"
      },
      "execution_count": null,
      "outputs": []
    },
    {
      "cell_type": "code",
      "source": [
        "def alta_cliente(clientes, cliente):\n",
        "  \"\"\"\n",
        "  Desc: Función que guarda el cliente en el diccionario de clientes\n",
        "        El cliente ya tiene su id asignado\n",
        "\n",
        "  Args:\n",
        "    clientes (dic): diccionario de clientes en memoria\n",
        "    cliente (dic): cliente en memoria a guardar en el diccionario\n",
        "  \n",
        "  Returns:\n",
        "    True (bool): si pudo guardar el cliente en el diccionario de clientes\n",
        "    False (bool): si no pudo guardar el cliente en el diccionario de clientes\n",
        "  \"\"\"   \n",
        "  try:\n",
        "    #print(clientes)\n",
        "    #cliente={'3':{'razonSocial':'Bulonera Cacho','cuit':'34444444444','direccion': 'Las Lomas 2000'}}    \n",
        "    for k,v in cliente.items():\n",
        "      clientes[k]=v\n",
        "      #print(f'Clave: {k}')\n",
        "      #print(f'Valor: {v}')\n",
        "    #print(clientes)\n",
        "    #Escribir en el diccionario de clientes, Ok\n",
        "    return True        \n",
        "  except:\n",
        "    print(f'alta_cliente: No pudo guardar el cliente en el diccionario de clientes.')\n",
        "    #Escribir en el diccionario de clientes, bad\n",
        "    return False"
      ],
      "metadata": {
        "id": "nFBCj-svdSXe"
      },
      "execution_count": null,
      "outputs": []
    },
    {
      "cell_type": "markdown",
      "source": [
        "*   Paso 7\n",
        "*   Probamos la funcion\n",
        "\n",
        "Para ello habilitamos en las estructuras de soporte de prueba el objeto cliente. "
      ],
      "metadata": {
        "id": "2FrEUmsod5DX"
      }
    },
    {
      "cell_type": "code",
      "source": [
        "print(alta_cliente(clientes, cliente))"
      ],
      "metadata": {
        "id": "tgziWH0K-Kv4",
        "colab": {
          "base_uri": "https://localhost:8080/"
        },
        "outputId": "329058f7-bedf-4ed3-f003-831446968b63"
      },
      "execution_count": null,
      "outputs": [
        {
          "output_type": "stream",
          "name": "stdout",
          "text": [
            "True\n"
          ]
        }
      ]
    },
    {
      "cell_type": "markdown",
      "source": [
        "*   Paso 8\n",
        "*   Definimos que debería hacer y como la función Existe_cliente\n"
      ],
      "metadata": {
        "id": "9LjM3z3JeOGl"
      }
    },
    {
      "cell_type": "code",
      "source": [
        "def existe_cliente(clientes, idCliente):\n",
        "  \"\"\"\n",
        "  Desc: Función que comprueba si el cliente existe en el diccionario de clientes\n",
        " \n",
        "  Args:\n",
        "    clientes (dic): diccionario de clientes en memoria\n",
        "    idCliente (str): id de cliente a consultar\n",
        "  \n",
        "  Returns:\n",
        "    True (bool): si pudo encontrar el cliente en el diccionario de clientes\n",
        "    False (bool): si no pudo encontrar el cliente en el diccionario de clientes\n",
        "  \"\"\"   \n",
        "  result=clientes.get(idCliente)\n",
        "  if result==None:\n",
        "    return False\n",
        "  else:\n",
        "    return True  "
      ],
      "metadata": {
        "id": "K5seLQkudSmR"
      },
      "execution_count": null,
      "outputs": []
    },
    {
      "cell_type": "markdown",
      "source": [
        "*   Paso 9:\n",
        "*   En fase de desarrollo, cuando terminemos primero la parte principal"
      ],
      "metadata": {
        "id": "IOnh00VVerqu"
      }
    },
    {
      "cell_type": "code",
      "source": [
        "def existe_razonsocial(clientes, cadenaBusqueda):\n",
        "  \"\"\"\n",
        "  Desc: Función que comprueba si la cadenaBusqueda existe en el diccionario de clientes\n",
        "        buscando en id de cliente o en razon social\n",
        "        Puede devolver más de un resultado de id\n",
        "        Luego busca esos resultados en los pedidos y los devuelve\n",
        "\n",
        "  Args:\n",
        "    clientes (dic): diccionario de clientes en memoria\n",
        "    cadenaBusqueda (str): razón social de cliente a consultar o su id\n",
        "  \n",
        "  Returns:\n",
        "    \n",
        "  \"\"\"   "
      ],
      "metadata": {
        "id": "Qg-aY-gddqFp"
      },
      "execution_count": null,
      "outputs": []
    },
    {
      "cell_type": "markdown",
      "source": [
        "*   Paso 10:\n",
        "*   Definimos que pasos debería hacer el programa durante la carga de un cliente\n"
      ],
      "metadata": {
        "id": "aUxfKT-0e0rr"
      }
    },
    {
      "cell_type": "code",
      "source": [
        "#Pantalla de carga \n",
        "#Validación                   (Pendiente)\n",
        "#Obtencion de id de cliente\n",
        "#Guardar en el diccionario\n",
        "#Guardar en el archivo        (Posible de mejora)"
      ],
      "metadata": {
        "id": "d7G8Vh91GRXg"
      },
      "execution_count": null,
      "outputs": []
    },
    {
      "cell_type": "markdown",
      "source": [
        "*   Paso 11\n",
        "*   Codificamos la funcion que nos devuelve el siguiente id\n",
        "\n",
        "Aseguramos que este ordenada para darnos el mayor id y poder sumarle 1"
      ],
      "metadata": {
        "id": "2BYMT0vvfRei"
      }
    },
    {
      "cell_type": "code",
      "source": [
        "def clienteSiguienteId(clientes):\n",
        "  \"\"\"\n",
        "  Desc: Función que devuelve el id +1 del último cliente del diccionario de clientes\n",
        "        Si diccionario está vacío retorna 1\n",
        "        Se asume la condición ideal en que otra persona no ganó el mismo id\n",
        "\n",
        "  Args:\n",
        "    clientes (dic): diccionario de clientes en memoria    \n",
        "  \n",
        "  Returns:\n",
        "    id (int): último id más 1\n",
        "\n",
        "  \"\"\"\n",
        "  #clientes.clear()\n",
        "  if len(clientes.keys())==0:\n",
        "    return 1\n",
        "  else:\n",
        "    misClientes=sorted(clientes.keys())\n",
        "    #print(f\"Desde clienteSiguienteId: {misClientes}\")\n",
        "    return (misClientes[-1]+1)\n",
        "  \n"
      ],
      "metadata": {
        "id": "cgsQs6beF8xS"
      },
      "execution_count": null,
      "outputs": []
    },
    {
      "cell_type": "markdown",
      "source": [
        "*   Paso 12\n",
        "*   Probamos la función"
      ],
      "metadata": {
        "id": "S0uy3xP0faZa"
      }
    },
    {
      "cell_type": "code",
      "source": [
        "print(clienteSiguienteId(clientes))"
      ],
      "metadata": {
        "id": "JADhEVaxIDl2",
        "colab": {
          "base_uri": "https://localhost:8080/"
        },
        "outputId": "da95df7a-7f6f-4a42-8ca6-80b569c6da5e"
      },
      "execution_count": null,
      "outputs": [
        {
          "output_type": "stream",
          "name": "stdout",
          "text": [
            "4\n"
          ]
        }
      ]
    },
    {
      "cell_type": "markdown",
      "source": [
        "*   Paso 13:\n",
        "*   Codificamos la funcion de carga de cliente\n",
        "\n",
        "Pendiente la validación de cuit/cuil repetido para razones sociales diferentes o poersonas físicas diferentes."
      ],
      "metadata": {
        "id": "Nw-Xwt9ff0yV"
      }
    },
    {
      "cell_type": "code",
      "source": [
        "#{'0':{'razonSocial':'La mágica','cuit':'31111111111','direccion': 'Calle Falsa 123'},\n",
        "def cargar_cliente(clientes):\n",
        "  #Se asume que los datos están correctos y no están vacíos\n",
        "  #Se asume que el cuit/cuil no esta repetido\n",
        "  razon=input(\"\\nIngrese la razón social: \")\n",
        "  cuit=input(\"Ingrese cuit/cuil: \")\n",
        "  direc=input(\"Ingrese dirección: \")\n",
        "\n",
        "  miCliente={}\n",
        "  miCliente[clienteSiguienteId(clientes)]={fieldnames_cliente[1]:razon,fieldnames_cliente[2]:cuit,fieldnames_cliente[3]:direc}\n",
        "\n",
        "  return miCliente"
      ],
      "metadata": {
        "id": "tZ9iDPeZFtrL"
      },
      "execution_count": null,
      "outputs": []
    },
    {
      "cell_type": "markdown",
      "source": [
        "*   Paso 14:\n",
        "*   Probamos la funcion"
      ],
      "metadata": {
        "id": "XRAtzB28gIct"
      }
    },
    {
      "cell_type": "code",
      "source": [
        "cli={}\n",
        "cli=cargar_cliente(clientes)\n",
        "print(cli)\n",
        "print()\n",
        "print(clientes)\n",
        "alta_cliente(clientes, cli)\n",
        "print()\n",
        "print(clientes)"
      ],
      "metadata": {
        "id": "Vhu5TcKpLycc",
        "colab": {
          "base_uri": "https://localhost:8080/"
        },
        "outputId": "ee38f58f-4c5c-4b23-87e1-e314e8e0dc05"
      },
      "execution_count": null,
      "outputs": [
        {
          "output_type": "stream",
          "name": "stdout",
          "text": [
            "\n",
            "Ingrese la razón social: Maxisoft\n",
            "Ingrese cuit/cuil: 345678123\n",
            "Ingrese dirección: El Portezuelo 99\n",
            "{4: {'razonSocial': 'Maxisoft', 'cuit': '345678123', 'direccion': 'El Portezuelo 99'}}\n",
            "\n",
            "{0: {'razonSocial': 'La mágica', 'cuit': '31111111111', 'direccion': 'Calle Falsa 123'}, 1: {'razonSocial': 'Ananá Majestuoso', 'cuit': '322222222222', 'direccion': 'Siempre Verde 876'}, 2: {'razonSocial': 'Vidrio Roto', 'cuit': '33333333333', 'direccion': 'Los Pozos 1000'}, 3: {'razonSocial': 'Bulonera Cacho', 'cuit': '34444444444', 'direccion': 'Las Lomas 2000'}}\n",
            "\n",
            "{0: {'razonSocial': 'La mágica', 'cuit': '31111111111', 'direccion': 'Calle Falsa 123'}, 1: {'razonSocial': 'Ananá Majestuoso', 'cuit': '322222222222', 'direccion': 'Siempre Verde 876'}, 2: {'razonSocial': 'Vidrio Roto', 'cuit': '33333333333', 'direccion': 'Los Pozos 1000'}, 3: {'razonSocial': 'Bulonera Cacho', 'cuit': '34444444444', 'direccion': 'Las Lomas 2000'}, 4: {'razonSocial': 'Maxisoft', 'cuit': '345678123', 'direccion': 'El Portezuelo 99'}}\n"
          ]
        }
      ]
    },
    {
      "cell_type": "markdown",
      "source": [
        "*   Paso 15:\n",
        "*   Unificamos lo hecho en la función 1 para luego utilizar en el menu"
      ],
      "metadata": {
        "id": "a2zVhcwfgPss"
      }
    },
    {
      "cell_type": "code",
      "source": [
        "def opcion1():\n",
        "  #Cargar la información del cliente \n",
        "  while True:\n",
        "    cli=cargar_cliente(clientes) \n",
        "    if len(cli)==0:\n",
        "      print(\"Debe cargar un cliente\")\n",
        "    else:\n",
        "      break\n",
        "  \n",
        "  #Cargar el cliente en el diccionario\n",
        "  if not alta_cliente(clientes, cli):\n",
        "    print(\"opcion1: No se pudo dar de alta el cliente en el diccionario de clientes\")\n"
      ],
      "metadata": {
        "id": "dlCJjVnvTNl0"
      },
      "execution_count": null,
      "outputs": []
    },
    {
      "cell_type": "markdown",
      "source": [
        "*   Paso 17:\n",
        "*   Definimos como nos parecería que debería ser el menú"
      ],
      "metadata": {
        "id": "PFf-Xneogcn1"
      }
    },
    {
      "cell_type": "code",
      "source": [
        "#while True:\n",
        "  #Opciones\n",
        "\n",
        "  #Input (Aseguramos que la input sea una opción válida)\n",
        "\n",
        "  #opcion salir\n",
        "#  break\n",
        "\n",
        "#Programa finalizado"
      ],
      "metadata": {
        "id": "fOFbDs1qrV1Q"
      },
      "execution_count": null,
      "outputs": []
    },
    {
      "cell_type": "markdown",
      "source": [
        "*   Paso 18\n",
        "*   Codificamos el menú"
      ],
      "metadata": {
        "id": "7ZGP61IRgmK9"
      }
    },
    {
      "cell_type": "code",
      "source": [
        "while True:\n",
        "\t#Presentar menu\n",
        "  print(\"\\nPrograma manejo de clientes y pedidos\")\n",
        "  print(\"--------------------------------------\")\n",
        "  print(\"1. Cargar un cliente\")\n",
        "  print(\"2. Cargar un pedido\")\n",
        "  print(\"3. Imprimir clientes\")\n",
        "  print(\"4. Imprimir pedidos\")\n",
        "  print(\"5. Consultar pedidos de un cliente\")\n",
        "  print(\"9. Salir\")\n",
        "\n",
        "  #Ingresar y asegurar una opcion\n",
        "  opcion=20\n",
        "  opciones=['1','2','3','4','5','9']\n",
        "  while not opcion in opciones:\n",
        "    opcion=input('\\nIngrese una opción:')\n",
        "\n",
        "  #Otras opciones\n",
        "  subOpc=''  \n",
        "  subOpciones=['s','n']\n",
        "\n",
        "  #Menu\n",
        "  try:\n",
        "    if opcion=='1':\n",
        "\n",
        "      #print('\\nProcedimiento de carga de clientes')\n",
        "      while True:\n",
        "        opcion1()\n",
        "        subOpc='a'\n",
        "        while not subOpc in subOpciones:\n",
        "          subOpc=input('\\n Ingrese s: Seguir cargando clientes n:salir de la carga de clientes: ')\n",
        "        if subOpc=='n': \n",
        "          #Guardamos el diccionario de clientes\n",
        "          if not guardar_cliente(clientes,filename):\n",
        "            print(\"\\nMenu: No se pudo guardar el diccionario de clientes en el archivo\")\n",
        "          #Salimos\n",
        "          break\n",
        "\n",
        "    if opcion=='2':\n",
        "      print('\\nMenu: Procedimiento de carga de pedidos')\n",
        "    if opcion=='3':\n",
        "      print('\\nMenu: Procedimiento imprimir clientes')\n",
        "    if opcion=='4':\n",
        "      print('\\nMenu: Procedimiento imprimir pedidos')\n",
        "    if opcion=='5':\n",
        "      print('\\nMenu: Procedimiento consultar pedidos de un cliente')\n",
        "  except:\n",
        "    print(f\"\\nMenu: Hubo algún tipo de error no considerado en la opción ejecutada: {opcion}\")  \n",
        "\n",
        "  #Opcion salir\n",
        "  if opcion=='9':\n",
        "\t  break\n",
        "\n",
        "print('\\nPrograma finalizado.')\n"
      ],
      "metadata": {
        "id": "NMRuiRn4dTHs",
        "colab": {
          "base_uri": "https://localhost:8080/"
        },
        "outputId": "0e33969e-a4f0-4852-edf2-6ee95ab88971"
      },
      "execution_count": null,
      "outputs": [
        {
          "output_type": "stream",
          "name": "stdout",
          "text": [
            "\n",
            "Programa manejo de clientes y pedidos\n",
            "--------------------------------------\n",
            "1. Cargar un cliente\n",
            "2. Cargar un pedido\n",
            "3. Imprimir clientes\n",
            "4. Imprimir pedidos\n",
            "5. Consultar pedidos de un cliente\n",
            "9. Salir\n",
            "\n",
            "Ingrese una opción:1\n",
            "\n",
            "Ingrese la razón social: Polka\n",
            "Ingrese cuit/cuil: 99441111\n",
            "Ingrese dirección: Ruta 4 Km 7.2\n",
            "\n",
            " Ingrese s: Seguir cargando clientes n:salir de la carga de clientes: n\n",
            "\n",
            "Programa manejo de clientes y pedidos\n",
            "--------------------------------------\n",
            "1. Cargar un cliente\n",
            "2. Cargar un pedido\n",
            "3. Imprimir clientes\n",
            "4. Imprimir pedidos\n",
            "5. Consultar pedidos de un cliente\n",
            "9. Salir\n",
            "\n",
            "Ingrese una opción:3\n",
            "\n",
            "Menu: Procedimiento imprimir clientes\n",
            "\n",
            "Programa manejo de clientes y pedidos\n",
            "--------------------------------------\n",
            "1. Cargar un cliente\n",
            "2. Cargar un pedido\n",
            "3. Imprimir clientes\n",
            "4. Imprimir pedidos\n",
            "5. Consultar pedidos de un cliente\n",
            "9. Salir\n",
            "\n",
            "Ingrese una opción:9\n",
            "\n",
            "Programa finalizado.\n"
          ]
        }
      ]
    }
  ]
}