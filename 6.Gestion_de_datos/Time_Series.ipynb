{
  "nbformat": 4,
  "nbformat_minor": 0,
  "metadata": {
    "colab": {
      "name": "Time Series.ipynb",
      "provenance": [],
      "collapsed_sections": [],
      "authorship_tag": "ABX9TyOBaPf+8rbNf6rCHSKECfaj",
      "include_colab_link": true
    },
    "kernelspec": {
      "name": "python3",
      "display_name": "Python 3"
    }
  },
  "cells": [
    {
      "cell_type": "markdown",
      "metadata": {
        "id": "view-in-github",
        "colab_type": "text"
      },
      "source": [
        "<a href=\"https://colab.research.google.com/github/al34n1x/DataScience/blob/master/6.Gestion_de_datos/Time_Series.ipynb\" target=\"_parent\"><img src=\"https://colab.research.google.com/assets/colab-badge.svg\" alt=\"Open In Colab\"/></a>"
      ]
    },
    {
      "cell_type": "markdown",
      "metadata": {
        "id": "DJemJOepjHXN",
        "colab_type": "toc"
      },
      "source": [
        ">[Time Series](#scrollTo=47Zj4ddS4faR)\n",
        "\n",
        ">>[Convirtiendo entre string y datetime](#scrollTo=Z88BdpN8T-t3)\n",
        "\n",
        ">>[Time Series](#scrollTo=NPCTOF9VXMeu)\n",
        "\n",
        ">>>[Indexing, Selection, Subsetting](#scrollTo=JfKZ1NL5XvNq)\n",
        "\n",
        ">>>[Time Series con Indices duplicados](#scrollTo=fvkvSXOsZ0Tu)\n",
        "\n",
        ">>[Rango de fechas, frecuencias y cambios](#scrollTo=jyxVSBw8ag_s)\n",
        "\n",
        ">>>[Generando Date Ranges](#scrollTo=rraIdN98bDzp)\n",
        "\n",
        ">>>[Frecuencias y Date Offsets](#scrollTo=7Qv5E8fgcr1T)\n",
        "\n",
        ">>>[Semana del meses](#scrollTo=xKdc_69VdO6w)\n",
        "\n",
        ">>>[Desplazamiento de datos](#scrollTo=97gnXsMyd0c0)\n",
        "\n",
        ">>[Manejo de zona horaria](#scrollTo=xMy-xfR7ecVr)\n",
        "\n",
        ">>>[Operaciones entre diferentes zonas horarias](#scrollTo=xwoRltCHf3Lc)\n",
        "\n",
        ">>[Periodos y aritmética de periodos](#scrollTo=jKD07GILgm0P)\n",
        "\n",
        ">>>[Frecuencias trimestrales](#scrollTo=x8HmzQszhalx)\n",
        "\n",
        ">>[Muestreo y conversión de frecuencia](#scrollTo=DW1ZiNWsh88e)\n",
        "\n"
      ]
    },
    {
      "cell_type": "markdown",
      "metadata": {
        "id": "47Zj4ddS4faR",
        "colab_type": "text"
      },
      "source": [
        "# Time Series\n",
        "\n",
        "Los datos de series temporales son una forma importante de datos estructurados en muchos campos diferentes, como finanzas, economía, y física. Todo lo que se observa o mide en muchos puntos en el tiempo forma una serie de tiempo. Las series de tiempo también pueden ser irregulares sin una unidad de tiempo fija o compensación entre unidades. La forma en que marca y hace referencia a los datos de series temporales depende de la aplicación, y puede tener uno de los siguientes:\n",
        "\n",
        "* Marcas de tiempo, instantes específicos en el tiempo\n",
        "\n",
        "* Períodos fijos, como el mes de enero de 2007 o el año completo 2010\n",
        "\n",
        "* Intervalos de tiempo, indicados por una marca de tiempo de inicio y fin. Los períodos pueden considerarse casos especiales de intervalos.\n",
        "\n",
        "* Experimento o tiempo transcurrido; cada marca de tiempo es una medida de tiempo en relación con un tiempo de inicio particular (por ejemplo, el diámetro de una galleta que se hornea cada segundo desde que se coloca en el horno)\n",
        "\n",
        "\n",
        "Pandas proporciona muchas herramientas de series de tiempo y algoritmos de datos integrados. Puede trabajar eficientemente con series de tiempo muy grandes, cortar, dividir, agregar y volver a muestrear fácilmente series de tiempo de frecuencia irregular y fija. \n",
        "\n",
        "\n",
        "\n",
        "\n",
        "Type\t| Description\n",
        "------|------------\n",
        "date\t| Store calendar date (year, month, day) using the Gregorian calendar\n",
        "time\t| Store time of day as hours, minutes, seconds, and microseconds\n",
        "datetime\t| Stores both date and time\n",
        "timedelta\t| Represents the difference between two datetime values (as days, seconds, and microseconds)\n",
        "tzinfo\t| Base type for storing time zone information\n",
        "\n"
      ]
    },
    {
      "cell_type": "code",
      "metadata": {
        "id": "YuOXGCwG4bp7",
        "colab_type": "code",
        "outputId": "fdab0a20-7460-4931-fd8e-1f0809b9f5e4",
        "colab": {
          "base_uri": "https://localhost:8080/",
          "height": 34
        }
      },
      "source": [
        "import pandas as pd\n",
        "import numpy as np\n",
        "from datetime import datetime\n",
        "from datetime import timedelta\n",
        "now = datetime.now()\n",
        "now"
      ],
      "execution_count": 2,
      "outputs": [
        {
          "output_type": "execute_result",
          "data": {
            "text/plain": [
              "datetime.datetime(2020, 6, 13, 10, 55, 0, 202029)"
            ]
          },
          "metadata": {
            "tags": []
          },
          "execution_count": 2
        }
      ]
    },
    {
      "cell_type": "code",
      "metadata": {
        "id": "sbEdh2pN5OUk",
        "colab_type": "code",
        "colab": {}
      },
      "source": [
        "now.year, now.month, now.day"
      ],
      "execution_count": 0,
      "outputs": []
    },
    {
      "cell_type": "code",
      "metadata": {
        "id": "7cWOnW5F5TBn",
        "colab_type": "code",
        "colab": {}
      },
      "source": [
        "start = datetime(2011, 1, 7)"
      ],
      "execution_count": 0,
      "outputs": []
    },
    {
      "cell_type": "code",
      "metadata": {
        "id": "Z1LCTyeY5VP-",
        "colab_type": "code",
        "colab": {}
      },
      "source": [
        "start + timedelta(12)"
      ],
      "execution_count": 0,
      "outputs": []
    },
    {
      "cell_type": "code",
      "metadata": {
        "id": "keD5LlIc5vDr",
        "colab_type": "code",
        "colab": {}
      },
      "source": [
        "start - 2 * timedelta(12)"
      ],
      "execution_count": 0,
      "outputs": []
    },
    {
      "cell_type": "markdown",
      "metadata": {
        "id": "Z88BdpN8T-t3",
        "colab_type": "text"
      },
      "source": [
        "## Convirtiendo entre string y datetime\n",
        "\n",
        "Puedes formatear objetos datetime y pandas Timestamp como cadenas usando str o el método strftime, pasando una especificación de formato\n",
        "\n",
        "Type | Description\n",
        "-----|------------\n",
        "%Y |Four-digit year\n",
        "%y |Two-digit year\n",
        "%m |Two-digit month [01, 12]\n",
        "%d |Two-digit day [01, 31]\n",
        "%H |Hour (24-hour clock) [00, 23]\n",
        "%I |Hour (12-hour clock) [01, 12]\n",
        "%M |Two-digit minute [00, 59]\n",
        "%S |Second [00, 61] (seconds 60, 61 account for leap seconds)\n",
        "%w |Weekday as integer [0 (Sunday), 6]\n",
        "%U |Week number of the year [00, 53]; Sunday is considered the first day of the week, and days before the first Sunday of the year are “week 0”\n",
        "%W |Week number of the year [00, 53]; Monday is considered the first day of the week, and days before the first Monday of the year are “week 0”\n",
        "%z |UTC time zone offset as +HHMM or -HHMM; empty if time zone naive\n",
        "%F |Shortcut for %Y-%m-%d (e.g., 2012-4-18)\n",
        "%D |Shortcut for %m/%d/%y (e.g., 04/18/12)\n",
        "\n",
        "\n"
      ]
    },
    {
      "cell_type": "code",
      "metadata": {
        "id": "f4Zcb1UmUT_C",
        "colab_type": "code",
        "colab": {}
      },
      "source": [
        "stamp = datetime(2011, 1, 3)"
      ],
      "execution_count": 0,
      "outputs": []
    },
    {
      "cell_type": "code",
      "metadata": {
        "id": "WFO2ijVAUVpv",
        "colab_type": "code",
        "colab": {}
      },
      "source": [
        "str(stamp)"
      ],
      "execution_count": 0,
      "outputs": []
    },
    {
      "cell_type": "code",
      "metadata": {
        "id": "T4Ip9iCVUXci",
        "colab_type": "code",
        "colab": {}
      },
      "source": [
        "stamp.strftime('%Y-%m-%d')"
      ],
      "execution_count": 0,
      "outputs": []
    },
    {
      "cell_type": "markdown",
      "metadata": {
        "id": "hSbIG4cGU_pE",
        "colab_type": "text"
      },
      "source": [
        "Puedes usar los códigos de formato para convertir cadenas a fechas usando **datetime.strptime**:"
      ]
    },
    {
      "cell_type": "code",
      "metadata": {
        "id": "5dTEuvIwVEAu",
        "colab_type": "code",
        "colab": {}
      },
      "source": [
        "value = '2019-01-03'"
      ],
      "execution_count": 0,
      "outputs": []
    },
    {
      "cell_type": "code",
      "metadata": {
        "id": "hvK0_8UCVH__",
        "colab_type": "code",
        "colab": {}
      },
      "source": [
        "datetime.strptime(value, '%Y-%m-%d')"
      ],
      "execution_count": 0,
      "outputs": []
    },
    {
      "cell_type": "code",
      "metadata": {
        "id": "mgRAg-efVKq2",
        "colab_type": "code",
        "colab": {}
      },
      "source": [
        "datestrs = ['7/6/2019', '8/6/2019']"
      ],
      "execution_count": 0,
      "outputs": []
    },
    {
      "cell_type": "code",
      "metadata": {
        "id": "USKQOl2DVQKC",
        "colab_type": "code",
        "colab": {}
      },
      "source": [
        "[datetime.strptime(x, '%m/%d/%Y') for x in datestrs]"
      ],
      "execution_count": 0,
      "outputs": []
    },
    {
      "cell_type": "markdown",
      "metadata": {
        "id": "U49TCq5kVeOk",
        "colab_type": "text"
      },
      "source": [
        "*datetime.strptime* is una forma fácil de parsear datos. Sin embargo, puede ser un poco complejo de generar formato para cada tiempo, en particular para formatos de fecha.\n",
        "**dateutil** es capaz de parsear casi cualquier tipo de formato de fecha que le pasemos."
      ]
    },
    {
      "cell_type": "code",
      "metadata": {
        "id": "GQDGmiTNV8XU",
        "colab_type": "code",
        "colab": {}
      },
      "source": [
        "from dateutil.parser import parse\n",
        "parse('Jan 31, 2019 11:45 AM')"
      ],
      "execution_count": 0,
      "outputs": []
    },
    {
      "cell_type": "code",
      "metadata": {
        "id": "j3Q-q_DQWP9_",
        "colab_type": "code",
        "colab": {}
      },
      "source": [
        "parse('12/6/2011', dayfirst=True) #En caso de que esten trabajando con formato mm/dd/yy"
      ],
      "execution_count": 0,
      "outputs": []
    },
    {
      "cell_type": "markdown",
      "metadata": {
        "id": "gvVpzLpxWqaH",
        "colab_type": "text"
      },
      "source": [
        "pandas generalmente está orientado a trabajar con arreglos de fechas, ya sea que se use como un índice de eje o una columna en un DataFrame. El método **to_datetime** analiza muchos tipos diferentes de representaciones de fechas. "
      ]
    },
    {
      "cell_type": "code",
      "metadata": {
        "id": "2O6zI2UcWxe4",
        "colab_type": "code",
        "colab": {}
      },
      "source": [
        "datestrs = ['2019-07-06 12:00:00', '2019-08-06 00:00:00']"
      ],
      "execution_count": 0,
      "outputs": []
    },
    {
      "cell_type": "code",
      "metadata": {
        "id": "HWXLpBwnW0u1",
        "colab_type": "code",
        "colab": {}
      },
      "source": [
        "pd.to_datetime(datestrs)"
      ],
      "execution_count": 0,
      "outputs": []
    },
    {
      "cell_type": "code",
      "metadata": {
        "id": "9gka44dtW5Da",
        "colab_type": "code",
        "colab": {}
      },
      "source": [
        "idx = pd.to_datetime(datestrs + [None]) # Agregamos un nulo\n",
        "idx"
      ],
      "execution_count": 0,
      "outputs": []
    },
    {
      "cell_type": "code",
      "metadata": {
        "id": "PO2gRsB-W-LZ",
        "colab_type": "code",
        "colab": {}
      },
      "source": [
        "'''\n",
        "NaT (Not a Time) is pandas’s null value for timestamp data\n",
        "'''\n",
        "pd.isnull(idx)"
      ],
      "execution_count": 0,
      "outputs": []
    },
    {
      "cell_type": "markdown",
      "metadata": {
        "id": "NPCTOF9VXMeu",
        "colab_type": "text"
      },
      "source": [
        "## Time Series\n",
        "Un tipo básico de objeto de serie temporal en pandas es una serie indexada por marcas de tiempo, que a menudo se representa externamente en pandas como cadenas de Python u objetos de fecha y hora:"
      ]
    },
    {
      "cell_type": "code",
      "metadata": {
        "id": "wiq7fn3-XV3X",
        "colab_type": "code",
        "colab": {}
      },
      "source": [
        "from datetime import datetime\n",
        "dates = [datetime(2011, 1, 2), datetime(2011, 1, 5),\n",
        "         datetime(2011, 1, 7), datetime(2011, 1, 8),\n",
        "         datetime(2011, 1, 10), datetime(2011, 1, 12)]"
      ],
      "execution_count": 0,
      "outputs": []
    },
    {
      "cell_type": "code",
      "metadata": {
        "id": "PS1iXQ9fXaKF",
        "colab_type": "code",
        "colab": {}
      },
      "source": [
        "ts = pd.Series(np.random.randn(6), index=dates)\n",
        "ts"
      ],
      "execution_count": 0,
      "outputs": []
    },
    {
      "cell_type": "code",
      "metadata": {
        "id": "cHrvgxG2YImm",
        "colab_type": "code",
        "colab": {}
      },
      "source": [
        "ts + ts[::2]"
      ],
      "execution_count": 0,
      "outputs": []
    },
    {
      "cell_type": "code",
      "metadata": {
        "id": "sO0SMXmhX6bC",
        "colab_type": "code",
        "colab": {}
      },
      "source": [
        "stamp = ts.index[0]\n",
        "stamp"
      ],
      "execution_count": 0,
      "outputs": []
    },
    {
      "cell_type": "markdown",
      "metadata": {
        "id": "JfKZ1NL5XvNq",
        "colab_type": "text"
      },
      "source": [
        "### Indexing, Selection, Subsetting\n",
        "\n",
        "Las series de tiempo se comportan como cualquier otro objeto panda. "
      ]
    },
    {
      "cell_type": "code",
      "metadata": {
        "id": "HzDDzQqVYTrW",
        "colab_type": "code",
        "colab": {}
      },
      "source": [
        "stamp = ts.index[2]\n",
        "ts[stamp]"
      ],
      "execution_count": 0,
      "outputs": []
    },
    {
      "cell_type": "markdown",
      "metadata": {
        "id": "Eq5bGHpaYbml",
        "colab_type": "text"
      },
      "source": [
        "Para series de tiempo más largas, se puede pasar un año o solo un año y un mes para seleccionar fácilmente segmentos de datos"
      ]
    },
    {
      "cell_type": "code",
      "metadata": {
        "id": "mV9edEIyYeRK",
        "colab_type": "code",
        "colab": {}
      },
      "source": [
        "l_ts = pd.Series(np.random.randn(1000),\n",
        "                 index=pd.date_range('1/1/2005', periods=1000))\n",
        "l_ts\n"
      ],
      "execution_count": 0,
      "outputs": []
    },
    {
      "cell_type": "code",
      "metadata": {
        "id": "07jthV3NYnEA",
        "colab_type": "code",
        "colab": {}
      },
      "source": [
        "l_ts['2005']"
      ],
      "execution_count": 0,
      "outputs": []
    },
    {
      "cell_type": "code",
      "metadata": {
        "id": "56vcNhsFYr1o",
        "colab_type": "code",
        "colab": {}
      },
      "source": [
        "l_ts['2005-04']"
      ],
      "execution_count": 0,
      "outputs": []
    },
    {
      "cell_type": "code",
      "metadata": {
        "id": "E3QDfGZDY2Qn",
        "colab_type": "code",
        "colab": {
          "base_uri": "https://localhost:8080/",
          "height": 104
        },
        "outputId": "e36b9324-9de4-4d34-d8e7-3389258f6279"
      },
      "source": [
        "ts[datetime(2011, 1, 7):] # También podemos realizar slicing sobre series de tiempo"
      ],
      "execution_count": 50,
      "outputs": [
        {
          "output_type": "execute_result",
          "data": {
            "text/plain": [
              "2011-01-07   -1.994853\n",
              "2011-01-08    0.357893\n",
              "2011-01-10   -1.321005\n",
              "2011-01-12   -0.861382\n",
              "dtype: float64"
            ]
          },
          "metadata": {
            "tags": []
          },
          "execution_count": 50
        }
      ]
    },
    {
      "cell_type": "markdown",
      "metadata": {
        "id": "fvkvSXOsZ0Tu",
        "colab_type": "text"
      },
      "source": [
        "### Time Series con Indices duplicados\n",
        "En algunas aplicaciones, puede haber múltiples observaciones de datos que caen en una marca de tiempo particular. Aquí hay un ejemplo"
      ]
    },
    {
      "cell_type": "code",
      "metadata": {
        "id": "JthDHOwxZ9Yd",
        "colab_type": "code",
        "colab": {}
      },
      "source": [
        "dates = pd.DatetimeIndex(['1/1/2000', '1/2/2000', '1/2/2000',\n",
        "                          '1/2/2000', '1/3/2000'])\n"
      ],
      "execution_count": 0,
      "outputs": []
    },
    {
      "cell_type": "code",
      "metadata": {
        "id": "rFyZZ8NXaAoR",
        "colab_type": "code",
        "colab": {}
      },
      "source": [
        "dup_ts = pd.Series(np.arange(5), index=dates)\n",
        "dup_ts"
      ],
      "execution_count": 0,
      "outputs": []
    },
    {
      "cell_type": "code",
      "metadata": {
        "id": "bePcPTdjaGFC",
        "colab_type": "code",
        "colab": {}
      },
      "source": [
        "dup_ts.index.is_unique"
      ],
      "execution_count": 0,
      "outputs": []
    },
    {
      "cell_type": "code",
      "metadata": {
        "id": "r0Zx823RaOzr",
        "colab_type": "code",
        "colab": {}
      },
      "source": [
        "dup_ts['1/3/2000']"
      ],
      "execution_count": 0,
      "outputs": []
    },
    {
      "cell_type": "code",
      "metadata": {
        "id": "f2_jTn-JaRLr",
        "colab_type": "code",
        "colab": {}
      },
      "source": [
        "dup_ts['1/2/2000']"
      ],
      "execution_count": 0,
      "outputs": []
    },
    {
      "cell_type": "markdown",
      "metadata": {
        "id": "N_ar6VL7aVxz",
        "colab_type": "text"
      },
      "source": [
        "Supongamos que deseas agregar los datos que tienen marcas de tiempo no únicas. Una forma de hacerlo es usar groupby y pasar nivel = 0:"
      ]
    },
    {
      "cell_type": "code",
      "metadata": {
        "id": "BgkCrFp6aZLx",
        "colab_type": "code",
        "colab": {}
      },
      "source": [
        "grouped = dup_ts.groupby(level=0)\n",
        "grouped.mean()"
      ],
      "execution_count": 0,
      "outputs": []
    },
    {
      "cell_type": "code",
      "metadata": {
        "id": "w9Tn-0-YadTm",
        "colab_type": "code",
        "colab": {}
      },
      "source": [
        "grouped.count()"
      ],
      "execution_count": 0,
      "outputs": []
    },
    {
      "cell_type": "markdown",
      "metadata": {
        "id": "jyxVSBw8ag_s",
        "colab_type": "text"
      },
      "source": [
        "## Rango de fechas, frecuencias y cambios \n",
        "\n",
        "Se supone que las series temporales genéricas en pandas son irregulares; es decir, no tienen frecuencia fija. Para muchas aplicaciones esto es suficiente. Sin embargo, a menudo es conveniente trabajar en relación con una frecuencia fija, como diaria, mensual o cada 15 minutos, incluso si eso significa introducir valores faltantes en una serie de tiempo. Afortunadamente, pandas tienen un conjunto completo de frecuencias de serie de tiempo estándar y herramientas para volver a muestrear, inferir frecuencias y generar rangos de fechas de frecuencia fija. Por ejemplo, puede convertir la serie de tiempo de muestra en una frecuencia diaria fija llamando a **resample**"
      ]
    },
    {
      "cell_type": "code",
      "metadata": {
        "id": "E_Q52pITaxRN",
        "colab_type": "code",
        "colab": {
          "base_uri": "https://localhost:8080/",
          "height": 139
        },
        "outputId": "d2cd90b2-8c25-461b-c0ac-ffd68507dc1d"
      },
      "source": [
        "ts"
      ],
      "execution_count": 60,
      "outputs": [
        {
          "output_type": "execute_result",
          "data": {
            "text/plain": [
              "2011-01-02    1.864166\n",
              "2011-01-05   -0.746191\n",
              "2011-01-07   -1.994853\n",
              "2011-01-08    0.357893\n",
              "2011-01-10   -1.321005\n",
              "2011-01-12   -0.861382\n",
              "dtype: float64"
            ]
          },
          "metadata": {
            "tags": []
          },
          "execution_count": 60
        }
      ]
    },
    {
      "cell_type": "code",
      "metadata": {
        "id": "mdHRFC7dayjY",
        "colab_type": "code",
        "colab": {}
      },
      "source": [
        "resampler = ts.resample('D') # El parámetro D significa Día\n"
      ],
      "execution_count": 0,
      "outputs": []
    },
    {
      "cell_type": "markdown",
      "metadata": {
        "id": "rraIdN98bDzp",
        "colab_type": "text"
      },
      "source": [
        "### Generando Date Ranges\n",
        "\n",
        "*pandas.date_range* es responsable de generar un DatetimeIndex con una longitud indicada de acuerdo con una frecuencia particular"
      ]
    },
    {
      "cell_type": "code",
      "metadata": {
        "id": "_78ZLoeDbPUv",
        "colab_type": "code",
        "colab": {}
      },
      "source": [
        "index = pd.date_range('2012-04-01', '2012-06-01')\n",
        "index"
      ],
      "execution_count": 0,
      "outputs": []
    },
    {
      "cell_type": "markdown",
      "metadata": {
        "id": "B0_5bMgwbZIm",
        "colab_type": "text"
      },
      "source": [
        "Por defecto, **date_range** genera marcas de tiempo diarias. Si solo pasas una fecha de inicio o finalización, debe pasar varios períodos para generar:"
      ]
    },
    {
      "cell_type": "code",
      "metadata": {
        "id": "0eGtD-9cba4n",
        "colab_type": "code",
        "colab": {}
      },
      "source": [
        "pd.date_range(start='2012-04-01', periods=20)"
      ],
      "execution_count": 0,
      "outputs": []
    },
    {
      "cell_type": "code",
      "metadata": {
        "id": "NL5NqzcKbk5M",
        "colab_type": "code",
        "colab": {}
      },
      "source": [
        "pd.date_range(end='2012-06-01', periods=20)"
      ],
      "execution_count": 0,
      "outputs": []
    },
    {
      "cell_type": "markdown",
      "metadata": {
        "id": "X6rt6z-Wbuyp",
        "colab_type": "text"
      },
      "source": [
        "Las fechas de inicio y finalización definen límites estrictos para el índice de fecha generado. Por ejemplo, si desea un índice de fechas que contenga el último día hábil de cada mes, debe pasar la frecuencia 'BM' y solo las fechas que caen o dentro del intervalo de fechas se incluirá:\n",
        "\n",
        "\n",
        "Alias\t| Offset type\t| Description\n",
        "------|-------------|------------\n",
        "D\t|Day\tCalendar daily\n",
        "B\t|BusinessDay\tBusiness daily\n",
        "H\t|Hour\tHourly\n",
        "T |or min\tMinute\tMinutely\n",
        "S\t|Second\tSecondly\n",
        "L |or ms\tMilli\tMillisecond (1/1,000 of 1 second)\n",
        "U\t|Micro\tMicrosecond (1/1,000,000 of 1 second)\n",
        "M\t|MonthEnd\tLast calendar day of month\n",
        "BM|BusinessMonthEnd\tLast business day (weekday) of month\n",
        "MS|MonthBegin\tFirst calendar day of month\n",
        "BMS\t|BusinessMonthBegin\tFirst weekday of month\n",
        "W-MON, W-TUE, ...| \tWeek\tWeekly on given day of week (MON, TUE, WED, THU, FRI, SAT, or SUN)\n",
        "WOM-1MON, WOM-2MON, ...|\tWeekOfMonth\tGenerate weekly dates in the first, second, third, or fourth week of the month (e.g., WOM-3FRI for the third Friday of each month)\n",
        "Q-JAN, Q-FEB, ...| \tQuarterEnd\tQuarterly dates anchored on last calendar day of each month, for year ending in indicated month (JAN, FEB, MAR, APR, MAY, JUN, JUL, AUG, SEP, OCT, NOV, or DEC)\n",
        "BQ-JAN, BQ-FEB, ...| \tBusinessQuarterEnd\tQuarterly dates anchored on last weekday day of each month, for year ending in indicated month\n",
        "QS-JAN, QS-FEB, ...\t| QuarterBegin\tQuarterly dates anchored on first calendar day of each month, for year ending in indicated month\n",
        "BQS-JAN, BQS-FEB, ...\t| BusinessQuarterBegin\tQuarterly dates anchored on first weekday day of each month, for year ending in indicated month\n",
        "A-JAN, A-FEB, ...\t| YearEnd\tAnnual dates anchored on last calendar day of given month (JAN, FEB, MAR, APR, MAY, JUN, JUL, AUG, SEP, OCT, NOV, or DEC)\n",
        "BA-JAN, BA-FEB, ... | \tBusinessYearEnd\tAnnual dates anchored on last weekday of given month\n",
        "AS-JAN, AS-FEB, ... | \tYearBegin\tAnnual dates anchored on first day of given month\n",
        "BAS-JAN, BAS-FEB, ... | \tBusinessYearBegin\tAnnual dates anchored on first weekday of given month\n",
        "\n"
      ]
    },
    {
      "cell_type": "markdown",
      "metadata": {
        "id": "7Qv5E8fgcr1T",
        "colab_type": "text"
      },
      "source": [
        "### Frecuencias y Date Offsets\n",
        "\n",
        "Las frecuencias en  pandas se componen de una frecuencia base y un multiplicador. Las frecuencias base se refieren típicamente por un alias de cadena, como 'M' para mensual o 'H' para cada hora. Para cada frecuencia base, hay un objeto definido generalmente denominado desplazamiento de fecha. "
      ]
    },
    {
      "cell_type": "code",
      "metadata": {
        "id": "ryfRM5IGc2LP",
        "colab_type": "code",
        "colab": {
          "base_uri": "https://localhost:8080/",
          "height": 34
        },
        "outputId": "986e4e84-16d8-45c4-9a86-4e38faff34d9"
      },
      "source": [
        "from pandas.tseries.offsets import Hour, Minute\n",
        "hour = Hour()\n",
        "hour"
      ],
      "execution_count": 68,
      "outputs": [
        {
          "output_type": "execute_result",
          "data": {
            "text/plain": [
              "<Hour>"
            ]
          },
          "metadata": {
            "tags": []
          },
          "execution_count": 68
        }
      ]
    },
    {
      "cell_type": "code",
      "metadata": {
        "id": "ZK_jGbY6c7A1",
        "colab_type": "code",
        "colab": {}
      },
      "source": [
        "four_hours = Hour(4)\n",
        "four_hours"
      ],
      "execution_count": 0,
      "outputs": []
    },
    {
      "cell_type": "markdown",
      "metadata": {
        "id": "r6gChurMdCIW",
        "colab_type": "text"
      },
      "source": [
        "En la mayoría de las aplicaciones, nunca necesitarías crear explícitamente uno de estos objetos, en su lugar, utilizas un alias de cadena como 'H' o '4H'."
      ]
    },
    {
      "cell_type": "code",
      "metadata": {
        "id": "zCar5cEjdIM6",
        "colab_type": "code",
        "colab": {}
      },
      "source": [
        "pd.date_range('2000-01-01', '2000-01-03 23:59', freq='4h')"
      ],
      "execution_count": 0,
      "outputs": []
    },
    {
      "cell_type": "code",
      "metadata": {
        "id": "NsGSPf_CdLlx",
        "colab_type": "code",
        "colab": {
          "base_uri": "https://localhost:8080/",
          "height": 34
        },
        "outputId": "6a5a86a7-30ef-45c4-abe1-ad51abf659ff"
      },
      "source": [
        "Hour(2) + Minute(30)"
      ],
      "execution_count": 72,
      "outputs": [
        {
          "output_type": "execute_result",
          "data": {
            "text/plain": [
              "<150 * Minutes>"
            ]
          },
          "metadata": {
            "tags": []
          },
          "execution_count": 72
        }
      ]
    },
    {
      "cell_type": "markdown",
      "metadata": {
        "id": "xKdc_69VdO6w",
        "colab_type": "text"
      },
      "source": [
        "### Semana del meses\n",
        "\n",
        "Una clase de frecuencia útil es \"semana del mes\", comenzando con WOM. Esto le permite obtener fechas como el tercer viernes de cada mes"
      ]
    },
    {
      "cell_type": "code",
      "metadata": {
        "id": "fq4z9fnAdc9i",
        "colab_type": "code",
        "colab": {}
      },
      "source": [
        "rng = pd.date_range('2012-01-01', '2012-09-01', freq='WOM-3FRI')\n",
        "list(rng)"
      ],
      "execution_count": 0,
      "outputs": []
    },
    {
      "cell_type": "markdown",
      "metadata": {
        "id": "97gnXsMyd0c0",
        "colab_type": "text"
      },
      "source": [
        "### Desplazamiento de datos \n",
        "\"Desplazamiento\" se refiere a mover datos hacia atrás y hacia adelante a través del tiempo. Tanto Series como DataFrame tienen un método de cambio para realizar cambios ingenuos hacia adelante o hacia atrás, sin modificar el índice"
      ]
    },
    {
      "cell_type": "code",
      "metadata": {
        "id": "aFchMyOGd49G",
        "colab_type": "code",
        "colab": {}
      },
      "source": [
        "ts = pd.Series(np.random.randn(4),\n",
        "               index=pd.date_range('1/1/2000', periods=4, freq='M'))\n",
        "ts"
      ],
      "execution_count": 0,
      "outputs": []
    },
    {
      "cell_type": "code",
      "metadata": {
        "id": "WSWWNV2Ud9Qw",
        "colab_type": "code",
        "colab": {}
      },
      "source": [
        "ts.shift(2)"
      ],
      "execution_count": 0,
      "outputs": []
    },
    {
      "cell_type": "code",
      "metadata": {
        "id": "RyvzVq4KeC9V",
        "colab_type": "code",
        "colab": {}
      },
      "source": [
        "ts.shift(-2)"
      ],
      "execution_count": 0,
      "outputs": []
    },
    {
      "cell_type": "code",
      "metadata": {
        "id": "9QAxPB_7eQSD",
        "colab_type": "code",
        "colab": {}
      },
      "source": [
        "from pandas.tseries.offsets import Day, MonthEnd\n",
        "now = datetime(2011, 11, 17)"
      ],
      "execution_count": 0,
      "outputs": []
    },
    {
      "cell_type": "code",
      "metadata": {
        "id": "Fpr_AYnbeSW8",
        "colab_type": "code",
        "colab": {}
      },
      "source": [
        "now + 3 * Day()"
      ],
      "execution_count": 0,
      "outputs": []
    },
    {
      "cell_type": "markdown",
      "metadata": {
        "id": "xMy-xfR7ecVr",
        "colab_type": "text"
      },
      "source": [
        "## Manejo de zona horaria\n",
        "Trabajar con zonas horarias generalmente se considera una de las partes más desagradables de la manipulación de series temporales. Como resultado, muchos usuarios de series de tiempo eligen trabajar con series de tiempo en hora universal coordinada o UTC. Las zonas horarias se expresan como compensaciones de UTC; Por ejemplo, Nueva York está cuatro horas menos que UTC durante el horario de verano y cinco horas menos que el resto del año.\n",
        "\n",
        "En Python, la información de zona horaria proviene de la biblioteca **pytz**, que expone la base de datos Olson, una compilación de información de zona horaria mundial. Esto es especialmente importante para los datos históricos porque las fechas de transición del horario de verano (DST) (e incluso las compensaciones UTC) se han cambiado varias veces según los los gobiernos locales. \n"
      ]
    },
    {
      "cell_type": "code",
      "metadata": {
        "id": "uCtdIoIyexdW",
        "colab_type": "code",
        "colab": {
          "base_uri": "https://localhost:8080/",
          "height": 34
        },
        "outputId": "c1a4718b-b043-4865-d7e1-c2e30c39b0c3"
      },
      "source": [
        "import pytz\n",
        "pytz.common_timezones[-5:]"
      ],
      "execution_count": 80,
      "outputs": [
        {
          "output_type": "execute_result",
          "data": {
            "text/plain": [
              "['US/Eastern', 'US/Hawaii', 'US/Mountain', 'US/Pacific', 'UTC']"
            ]
          },
          "metadata": {
            "tags": []
          },
          "execution_count": 80
        }
      ]
    },
    {
      "cell_type": "code",
      "metadata": {
        "id": "JVMUkrqee20f",
        "colab_type": "code",
        "colab": {
          "base_uri": "https://localhost:8080/",
          "height": 34
        },
        "outputId": "6c9e5d0c-b9be-4867-c347-336dc4ef65e8"
      },
      "source": [
        "tz = pytz.timezone('America/New_York')\n",
        "tz"
      ],
      "execution_count": 82,
      "outputs": [
        {
          "output_type": "execute_result",
          "data": {
            "text/plain": [
              "<DstTzInfo 'America/New_York' LMT-1 day, 19:04:00 STD>"
            ]
          },
          "metadata": {
            "tags": []
          },
          "execution_count": 82
        }
      ]
    },
    {
      "cell_type": "code",
      "metadata": {
        "id": "3dZTFS8BfD3a",
        "colab_type": "code",
        "colab": {}
      },
      "source": [
        "rng = pd.date_range('3/9/2012 9:30', periods=6, freq='D') \n",
        "ts = pd.Series(np.random.randn(len(rng)), index=rng)\n",
        "ts"
      ],
      "execution_count": 0,
      "outputs": []
    },
    {
      "cell_type": "code",
      "metadata": {
        "id": "yB0-tmrPfOno",
        "colab_type": "code",
        "colab": {}
      },
      "source": [
        "print(ts.index.tz) # Lo crea sin TZ"
      ],
      "execution_count": 0,
      "outputs": []
    },
    {
      "cell_type": "code",
      "metadata": {
        "id": "YdcZYF46fTie",
        "colab_type": "code",
        "colab": {}
      },
      "source": [
        "pd.date_range('3/9/2012 9:30', periods=10, freq='D', tz='UTC') # Podemos agregar TZ"
      ],
      "execution_count": 0,
      "outputs": []
    },
    {
      "cell_type": "code",
      "metadata": {
        "id": "r8U8c__IfbOu",
        "colab_type": "code",
        "colab": {}
      },
      "source": [
        "ts_utc = ts.tz_localize('UTC')\n",
        "ts_utc"
      ],
      "execution_count": 0,
      "outputs": []
    },
    {
      "cell_type": "code",
      "metadata": {
        "id": "98B2qQzNfiic",
        "colab_type": "code",
        "colab": {}
      },
      "source": [
        "ts_utc.index"
      ],
      "execution_count": 0,
      "outputs": []
    },
    {
      "cell_type": "markdown",
      "metadata": {
        "id": "rY7Lcxg2fn0_",
        "colab_type": "text"
      },
      "source": [
        "Una vez que una serie de tiempo se ha localizado en una zona horaria particular, se puede convertir a otra zona horaria con *tz_convert*"
      ]
    },
    {
      "cell_type": "code",
      "metadata": {
        "id": "gF-5DqbjfqPe",
        "colab_type": "code",
        "colab": {}
      },
      "source": [
        "ts_utc.tz_convert('America/New_York')"
      ],
      "execution_count": 0,
      "outputs": []
    },
    {
      "cell_type": "markdown",
      "metadata": {
        "id": "xwoRltCHf3Lc",
        "colab_type": "text"
      },
      "source": [
        "### Operaciones entre diferentes zonas horarias\n",
        "Si se combinan dos series de tiempo con diferentes zonas horarias, el resultado será UTC. Dado que las marcas de tiempo se almacenan debajo del capó en UTC, esta es una operación sencilla y no requiere conversión"
      ]
    },
    {
      "cell_type": "code",
      "metadata": {
        "id": "fzGsn35Vf74m",
        "colab_type": "code",
        "colab": {}
      },
      "source": [
        "rng = pd.date_range('3/7/2012 9:30', periods=10, freq='B') #B es Business Daily\n",
        "ts = pd.Series(np.random.randn(len(rng)), index=rng)\n",
        "ts"
      ],
      "execution_count": 0,
      "outputs": []
    },
    {
      "cell_type": "code",
      "metadata": {
        "id": "tvCrsz3tgLKG",
        "colab_type": "code",
        "colab": {}
      },
      "source": [
        "ts1 = ts[:7].tz_localize('Europe/London')\n",
        "ts2 = ts1[2:].tz_convert('Europe/Moscow')"
      ],
      "execution_count": 0,
      "outputs": []
    },
    {
      "cell_type": "code",
      "metadata": {
        "id": "osxq8LbhgZYS",
        "colab_type": "code",
        "colab": {}
      },
      "source": [
        "ts1.index"
      ],
      "execution_count": 0,
      "outputs": []
    },
    {
      "cell_type": "code",
      "metadata": {
        "id": "DXnx-0TtgaqF",
        "colab_type": "code",
        "colab": {}
      },
      "source": [
        "ts2.index"
      ],
      "execution_count": 0,
      "outputs": []
    },
    {
      "cell_type": "code",
      "metadata": {
        "id": "DsKQ0UR8gPUO",
        "colab_type": "code",
        "colab": {}
      },
      "source": [
        "result = ts1 + ts2\n",
        "result.index"
      ],
      "execution_count": 0,
      "outputs": []
    },
    {
      "cell_type": "markdown",
      "metadata": {
        "id": "jKD07GILgm0P",
        "colab_type": "text"
      },
      "source": [
        "## Periodos y aritmética de periodos\n",
        "Los períodos representan períodos de tiempo, como días, meses, trimestres o años. La clase Period representa este tipo de datos, que requiere una cadena o un entero y una frecuencia.\n",
        "En este caso, el objeto Período representa el intervalo de tiempo completo desde el 1 de enero de 2007 hasta el 31 de diciembre de 2007, inclusive. Convenientemente, sumar y restar enteros de períodos tiene el efecto de cambiar por su frecuencia"
      ]
    },
    {
      "cell_type": "code",
      "metadata": {
        "id": "us8hItfKgpEN",
        "colab_type": "code",
        "colab": {}
      },
      "source": [
        "p = pd.Period(2007, freq='A-DEC')\n",
        "p"
      ],
      "execution_count": 0,
      "outputs": []
    },
    {
      "cell_type": "code",
      "metadata": {
        "id": "xTrMEqRIg5ma",
        "colab_type": "code",
        "colab": {}
      },
      "source": [
        "p + 5"
      ],
      "execution_count": 0,
      "outputs": []
    },
    {
      "cell_type": "markdown",
      "metadata": {
        "id": "I91FVNTOhG3G",
        "colab_type": "text"
      },
      "source": [
        "Puedes pensar en el Período ('2007', 'A-DEC') como una especie de cursor que apunta a un lapso de tiempo, subdividido por períodos mensuales. Para un año fiscal que termina en un mes que no sea diciembre, los subperíodos mensuales correspondientes son diferentes:"
      ]
    },
    {
      "cell_type": "code",
      "metadata": {
        "id": "-xAY4xcohL_q",
        "colab_type": "code",
        "colab": {}
      },
      "source": [
        "p = pd.Period('2007', freq='A-JUN')\n",
        "p"
      ],
      "execution_count": 0,
      "outputs": []
    },
    {
      "cell_type": "code",
      "metadata": {
        "id": "aOSnFkrGhPyw",
        "colab_type": "code",
        "colab": {}
      },
      "source": [
        "p.asfreq('M', 'start')"
      ],
      "execution_count": 0,
      "outputs": []
    },
    {
      "cell_type": "code",
      "metadata": {
        "id": "smi_wADXhUAE",
        "colab_type": "code",
        "colab": {}
      },
      "source": [
        "p.asfreq('M', 'end')"
      ],
      "execution_count": 0,
      "outputs": []
    },
    {
      "cell_type": "markdown",
      "metadata": {
        "id": "x8HmzQszhalx",
        "colab_type": "text"
      },
      "source": [
        "### Frecuencias trimestrales\n",
        "Los datos trimestrales son estándar en contabilidad, finanzas y otros campos. Se informan muchos datos trimestrales en relación con el final del año fiscal, generalmente el último calendario o día hábil de uno de los 12 meses del año. Por lo tanto, el período 2012T4 tiene un significado diferente dependiendo del final del año fiscal. pandas admite las 12 frecuencias trimestrales posibles como Q-JAN a través de Q-DEC:"
      ]
    },
    {
      "cell_type": "code",
      "metadata": {
        "id": "NpRw11Behfnc",
        "colab_type": "code",
        "colab": {
          "base_uri": "https://localhost:8080/",
          "height": 34
        },
        "outputId": "e16b8b6f-22f1-4877-8d8a-e5c9637eb135"
      },
      "source": [
        "p = pd.Period('2012Q4', freq='Q-JAN')\n",
        "p"
      ],
      "execution_count": 107,
      "outputs": [
        {
          "output_type": "execute_result",
          "data": {
            "text/plain": [
              "Period('2012Q4', 'Q-JAN')"
            ]
          },
          "metadata": {
            "tags": []
          },
          "execution_count": 107
        }
      ]
    },
    {
      "cell_type": "code",
      "metadata": {
        "id": "HKxKpVoShjGL",
        "colab_type": "code",
        "colab": {}
      },
      "source": [
        "p.asfreq('D', 'start')"
      ],
      "execution_count": 0,
      "outputs": []
    },
    {
      "cell_type": "code",
      "metadata": {
        "id": "rD0wW9ldhk1o",
        "colab_type": "code",
        "colab": {}
      },
      "source": [
        "p.asfreq('D', 'end')"
      ],
      "execution_count": 0,
      "outputs": []
    },
    {
      "cell_type": "markdown",
      "metadata": {
        "id": "DW1ZiNWsh88e",
        "colab_type": "text"
      },
      "source": [
        "## Muestreo y conversión de frecuencia\n",
        "El remuestreo se refiere al proceso de convertir una serie temporal de una frecuencia a otra. La agregación de datos de frecuencia más alta a frecuencia más baja se denomina disminución de muestreo, mientras que la conversión de frecuencia más baja a frecuencia más alta se denomina muestreo superior. \n",
        "Los objetos pandas están equipados con un método de remuestreo, que es la función de caballo de batalla para todas las conversiones de frecuencia. resample tiene una API similar a groupby; llama a resample para agrupar los datos, luego llama a una función de agregación:"
      ]
    },
    {
      "cell_type": "code",
      "metadata": {
        "id": "8_6ZbHc8iEQD",
        "colab_type": "code",
        "colab": {}
      },
      "source": [
        "rng = pd.date_range('2000-01-01', periods=100, freq='D')\n",
        "ts = pd.Series(np.random.randn(len(rng)), index=rng)\n",
        "ts"
      ],
      "execution_count": 0,
      "outputs": []
    },
    {
      "cell_type": "code",
      "metadata": {
        "id": "9STpfG3DiKPF",
        "colab_type": "code",
        "colab": {}
      },
      "source": [
        "ts.resample('M').mean()"
      ],
      "execution_count": 0,
      "outputs": []
    },
    {
      "cell_type": "code",
      "metadata": {
        "id": "vaOULWqCiNEV",
        "colab_type": "code",
        "colab": {}
      },
      "source": [
        "ts.resample('M', kind='period').mean()"
      ],
      "execution_count": 0,
      "outputs": []
    },
    {
      "cell_type": "code",
      "metadata": {
        "id": "klIS1xnKiVZ3",
        "colab_type": "code",
        "colab": {}
      },
      "source": [
        "rng = pd.date_range('2000-01-01', periods=12, freq='T')\n",
        "ts = pd.Series(np.arange(12), index=rng)\n",
        "ts"
      ],
      "execution_count": 0,
      "outputs": []
    },
    {
      "cell_type": "code",
      "metadata": {
        "id": "uM2t3LCDij2F",
        "colab_type": "code",
        "colab": {}
      },
      "source": [
        "ts.resample('5min', closed='right').sum()"
      ],
      "execution_count": 0,
      "outputs": []
    }
  ]
}